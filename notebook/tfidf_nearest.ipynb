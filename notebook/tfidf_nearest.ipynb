{
 "cells": [
  {
   "cell_type": "markdown",
   "metadata": {},
   "source": [
    "# Baseline model\n",
    "\n",
    "Just predict true if tf-idf cosin distance is closer than threshold.\n",
    "\n",
    "This is intended for simplest end-to-end solution."
   ]
  },
  {
   "cell_type": "markdown",
   "metadata": {},
   "source": [
    "# Training-Test set setup\n",
    "\n",
    "Dataset setup is common for all model.\n",
    "Currently just put in ipynb. Please dup! (maybe factor out to .py file in the future)."
   ]
  },
  {
   "cell_type": "markdown",
   "metadata": {},
   "source": [
    "### Download data of Paul from cloud storage.\n",
    "\n",
    "https://github.com/Pawlovicky/US-patent-analysis\n",
    "\n",
    "Data download is done outside of docker because gsutil setup is a little messy in docker.\n",
    "Run following commands.\n",
    "\n",
    "```\n",
    "cd ../data\n",
    "gsutil cp gs://ppr/fast_data/statistical_learning/ml-study-phys/patent/patent_applications_with_office_actions_2005-2018.zip ./\n",
    "gsutil cp gs://ppr/fast_data/statistical_learning/ml-study-phys/patent/patent_grants_with_office_actions_2005-2012.zip ./\n",
    "gsutil cp gs://ppr/fast_data/statistical_learning/ml-study-phys/patent/applications_with_office_actions_citing_grants_with_inner_join.zip ./\n",
    "unzip applications_with_office_actions_citing_grants_with_inner_join.zip\n",
    "# takes 10min or more.\n",
    "unzip patent_applications_with_office_actions_2005-2018.zip\n",
    "mv applicationsY.h5 patent_applications_with_office_actions_2005-2018.h5\n",
    "unzip patent_grants_with_office_actions_2005-2012.zip\n",
    "mv grants_n6.h5 patent_grants_with_office_actions_2005-2012.h5\n",
    "\n",
    "```"
   ]
  },
  {
   "cell_type": "code",
   "execution_count": 1,
   "metadata": {},
   "outputs": [],
   "source": [
    "import h5py\n",
    "import pandas as pd\n",
    "import numpy as np"
   ]
  },
  {
   "cell_type": "code",
   "execution_count": null,
   "metadata": {},
   "outputs": [],
   "source": []
  },
  {
   "cell_type": "code",
   "execution_count": 2,
   "metadata": {},
   "outputs": [
    {
     "name": "stderr",
     "output_type": "stream",
     "text": [
      "/usr/local/lib/python3.5/dist-packages/IPython/core/interactiveshell.py:2728: DtypeWarning: Columns (23,24) have mixed types. Specify dtype option on import or set low_memory=False.\n",
      "  interactivity=interactivity, compiler=compiler, result=result)\n"
     ]
    }
   ],
   "source": [
    "oa_citations = pd.read_csv(\"../data/applications_with_office_actions_citing_grants_with_inner_join.csv\").iloc[:, 1:]"
   ]
  },
  {
   "cell_type": "code",
   "execution_count": 3,
   "metadata": {},
   "outputs": [
    {
     "data": {
      "text/html": [
       "<div>\n",
       "<style scoped>\n",
       "    .dataframe tbody tr th:only-of-type {\n",
       "        vertical-align: middle;\n",
       "    }\n",
       "\n",
       "    .dataframe tbody tr th {\n",
       "        vertical-align: top;\n",
       "    }\n",
       "\n",
       "    .dataframe thead th {\n",
       "        text-align: right;\n",
       "    }\n",
       "</style>\n",
       "<table border=\"1\" class=\"dataframe\">\n",
       "  <thead>\n",
       "    <tr style=\"text-align: right;\">\n",
       "      <th></th>\n",
       "      <th>app_id</th>\n",
       "      <th>app_fnm</th>\n",
       "      <th>citation_pat_pgpub_id</th>\n",
       "      <th>parsed</th>\n",
       "      <th>ifw_number</th>\n",
       "      <th>action_type</th>\n",
       "      <th>action_subtype</th>\n",
       "      <th>form892</th>\n",
       "      <th>form1449</th>\n",
       "      <th>citation_in_oa</th>\n",
       "      <th>...</th>\n",
       "      <th>rejection_103</th>\n",
       "      <th>rejection_112</th>\n",
       "      <th>rejection_dp</th>\n",
       "      <th>objection</th>\n",
       "      <th>allowed_claims</th>\n",
       "      <th>cite102_gt1</th>\n",
       "      <th>cite103_gt3</th>\n",
       "      <th>cite103_eq1</th>\n",
       "      <th>cite103_max</th>\n",
       "      <th>signature_type</th>\n",
       "    </tr>\n",
       "  </thead>\n",
       "  <tbody>\n",
       "    <tr>\n",
       "      <th>0</th>\n",
       "      <td>13910109</td>\n",
       "      <td>/work/data/apps/2014/ipa141204/F_1142.xml</td>\n",
       "      <td>7968444</td>\n",
       "      <td>7968444</td>\n",
       "      <td>IAFGKOGCPXXIFW4</td>\n",
       "      <td>103.0</td>\n",
       "      <td>NaN</td>\n",
       "      <td>1</td>\n",
       "      <td>1</td>\n",
       "      <td>1</td>\n",
       "      <td>...</td>\n",
       "      <td>1</td>\n",
       "      <td>0</td>\n",
       "      <td>0</td>\n",
       "      <td>1</td>\n",
       "      <td>0</td>\n",
       "      <td>0</td>\n",
       "      <td>0</td>\n",
       "      <td>0</td>\n",
       "      <td>2</td>\n",
       "      <td>0</td>\n",
       "    </tr>\n",
       "    <tr>\n",
       "      <th>1</th>\n",
       "      <td>13910109</td>\n",
       "      <td>/work/data/apps/2014/ipa141204/F_1142.xml</td>\n",
       "      <td>7780839</td>\n",
       "      <td>7780839</td>\n",
       "      <td>IAFGKOGCPXXIFW4</td>\n",
       "      <td>103.0</td>\n",
       "      <td>NaN</td>\n",
       "      <td>1</td>\n",
       "      <td>1</td>\n",
       "      <td>1</td>\n",
       "      <td>...</td>\n",
       "      <td>1</td>\n",
       "      <td>0</td>\n",
       "      <td>0</td>\n",
       "      <td>1</td>\n",
       "      <td>0</td>\n",
       "      <td>0</td>\n",
       "      <td>0</td>\n",
       "      <td>0</td>\n",
       "      <td>2</td>\n",
       "      <td>0</td>\n",
       "    </tr>\n",
       "    <tr>\n",
       "      <th>2</th>\n",
       "      <td>13910109</td>\n",
       "      <td>/work/data/apps/2014/ipa141204/F_1142.xml</td>\n",
       "      <td>7968444</td>\n",
       "      <td>7968444</td>\n",
       "      <td>IF5G7INKPXXIFW4</td>\n",
       "      <td>103.0</td>\n",
       "      <td>NaN</td>\n",
       "      <td>1</td>\n",
       "      <td>1</td>\n",
       "      <td>1</td>\n",
       "      <td>...</td>\n",
       "      <td>1</td>\n",
       "      <td>0</td>\n",
       "      <td>0</td>\n",
       "      <td>0</td>\n",
       "      <td>0</td>\n",
       "      <td>0</td>\n",
       "      <td>0</td>\n",
       "      <td>0</td>\n",
       "      <td>2</td>\n",
       "      <td>3</td>\n",
       "    </tr>\n",
       "    <tr>\n",
       "      <th>3</th>\n",
       "      <td>13910109</td>\n",
       "      <td>/work/data/apps/2014/ipa141204/F_1142.xml</td>\n",
       "      <td>7780839</td>\n",
       "      <td>7780839</td>\n",
       "      <td>IF5G7INKPXXIFW4</td>\n",
       "      <td>103.0</td>\n",
       "      <td>NaN</td>\n",
       "      <td>1</td>\n",
       "      <td>1</td>\n",
       "      <td>1</td>\n",
       "      <td>...</td>\n",
       "      <td>1</td>\n",
       "      <td>0</td>\n",
       "      <td>0</td>\n",
       "      <td>0</td>\n",
       "      <td>0</td>\n",
       "      <td>0</td>\n",
       "      <td>0</td>\n",
       "      <td>0</td>\n",
       "      <td>2</td>\n",
       "      <td>3</td>\n",
       "    </tr>\n",
       "    <tr>\n",
       "      <th>4</th>\n",
       "      <td>13910109</td>\n",
       "      <td>/work/data/apps/2014/ipa141204/F_1142.xml</td>\n",
       "      <td>7968444</td>\n",
       "      <td>7968444</td>\n",
       "      <td>IMNIOWMYPXXIFW4</td>\n",
       "      <td>103.0</td>\n",
       "      <td>NaN</td>\n",
       "      <td>1</td>\n",
       "      <td>1</td>\n",
       "      <td>1</td>\n",
       "      <td>...</td>\n",
       "      <td>1</td>\n",
       "      <td>0</td>\n",
       "      <td>0</td>\n",
       "      <td>0</td>\n",
       "      <td>0</td>\n",
       "      <td>0</td>\n",
       "      <td>0</td>\n",
       "      <td>0</td>\n",
       "      <td>2</td>\n",
       "      <td>0</td>\n",
       "    </tr>\n",
       "  </tbody>\n",
       "</table>\n",
       "<p>5 rows × 41 columns</p>\n",
       "</div>"
      ],
      "text/plain": [
       "     app_id                                    app_fnm citation_pat_pgpub_id  \\\n",
       "0  13910109  /work/data/apps/2014/ipa141204/F_1142.xml               7968444   \n",
       "1  13910109  /work/data/apps/2014/ipa141204/F_1142.xml               7780839   \n",
       "2  13910109  /work/data/apps/2014/ipa141204/F_1142.xml               7968444   \n",
       "3  13910109  /work/data/apps/2014/ipa141204/F_1142.xml               7780839   \n",
       "4  13910109  /work/data/apps/2014/ipa141204/F_1142.xml               7968444   \n",
       "\n",
       "    parsed       ifw_number  action_type action_subtype  form892  form1449  \\\n",
       "0  7968444  IAFGKOGCPXXIFW4        103.0            NaN        1         1   \n",
       "1  7780839  IAFGKOGCPXXIFW4        103.0            NaN        1         1   \n",
       "2  7968444  IF5G7INKPXXIFW4        103.0            NaN        1         1   \n",
       "3  7780839  IF5G7INKPXXIFW4        103.0            NaN        1         1   \n",
       "4  7968444  IMNIOWMYPXXIFW4        103.0            NaN        1         1   \n",
       "\n",
       "   citation_in_oa      ...       rejection_103  rejection_112  rejection_dp  \\\n",
       "0               1      ...                   1              0             0   \n",
       "1               1      ...                   1              0             0   \n",
       "2               1      ...                   1              0             0   \n",
       "3               1      ...                   1              0             0   \n",
       "4               1      ...                   1              0             0   \n",
       "\n",
       "   objection allowed_claims cite102_gt1  cite103_gt3 cite103_eq1  cite103_max  \\\n",
       "0          1              0           0            0           0            2   \n",
       "1          1              0           0            0           0            2   \n",
       "2          0              0           0            0           0            2   \n",
       "3          0              0           0            0           0            2   \n",
       "4          0              0           0            0           0            2   \n",
       "\n",
       "  signature_type  \n",
       "0              0  \n",
       "1              0  \n",
       "2              3  \n",
       "3              3  \n",
       "4              0  \n",
       "\n",
       "[5 rows x 41 columns]"
      ]
     },
     "execution_count": 3,
     "metadata": {},
     "output_type": "execute_result"
    }
   ],
   "source": [
    "oa_citations.head()"
   ]
  },
  {
   "cell_type": "code",
   "execution_count": 4,
   "metadata": {},
   "outputs": [
    {
     "data": {
      "text/plain": [
       "(1229300, 41)"
      ]
     },
     "execution_count": 4,
     "metadata": {},
     "output_type": "execute_result"
    }
   ],
   "source": [
    "oa_citations.shape"
   ]
  },
  {
   "cell_type": "code",
   "execution_count": 5,
   "metadata": {},
   "outputs": [
    {
     "data": {
      "text/plain": [
       "(494374,)"
      ]
     },
     "execution_count": 5,
     "metadata": {},
     "output_type": "execute_result"
    }
   ],
   "source": [
    "oa_citations.app_id.unique().shape"
   ]
  },
  {
   "cell_type": "markdown",
   "metadata": {},
   "source": [
    "# Use Rejection 102 only"
   ]
  },
  {
   "cell_type": "raw",
   "metadata": {},
   "source": [
    "101 Rejection – Subject Matter Eligibility, Statutory Double Patenting, Utility, etc\n",
    "102 Rejection – Lack of Novelty\n",
    "103 Rejection – Obviousness"
   ]
  },
  {
   "cell_type": "code",
   "execution_count": null,
   "metadata": {},
   "outputs": [],
   "source": []
  },
  {
   "cell_type": "code",
   "execution_count": null,
   "metadata": {},
   "outputs": [],
   "source": []
  },
  {
   "cell_type": "code",
   "execution_count": 6,
   "metadata": {},
   "outputs": [],
   "source": [
    "oc_citations_103 = oa_citations[oa_citations.rejection_103 == 1]"
   ]
  },
  {
   "cell_type": "code",
   "execution_count": 7,
   "metadata": {
    "scrolled": true
   },
   "outputs": [
    {
     "data": {
      "text/plain": [
       "(1150519, 41)"
      ]
     },
     "execution_count": 7,
     "metadata": {},
     "output_type": "execute_result"
    }
   ],
   "source": [
    "oc_citations_103.shape"
   ]
  },
  {
   "cell_type": "code",
   "execution_count": null,
   "metadata": {},
   "outputs": [],
   "source": []
  },
  {
   "cell_type": "code",
   "execution_count": 8,
   "metadata": {},
   "outputs": [],
   "source": [
    "oc_citations_102 = oa_citations[oa_citations.rejection_102 == 1]"
   ]
  },
  {
   "cell_type": "code",
   "execution_count": 9,
   "metadata": {},
   "outputs": [
    {
     "data": {
      "text/plain": [
       "(574503, 41)"
      ]
     },
     "execution_count": 9,
     "metadata": {},
     "output_type": "execute_result"
    }
   ],
   "source": [
    "oc_citations_102.shape"
   ]
  },
  {
   "cell_type": "code",
   "execution_count": 10,
   "metadata": {},
   "outputs": [
    {
     "data": {
      "text/plain": [
       "(268955,)"
      ]
     },
     "execution_count": 10,
     "metadata": {},
     "output_type": "execute_result"
    }
   ],
   "source": [
    "oc_citations_102.app_id.unique().shape"
   ]
  },
  {
   "cell_type": "code",
   "execution_count": 11,
   "metadata": {},
   "outputs": [],
   "source": [
    "app_id_102s = sorted(list(set(oc_citations_102.app_id)))"
   ]
  },
  {
   "cell_type": "code",
   "execution_count": 12,
   "metadata": {},
   "outputs": [
    {
     "data": {
      "text/plain": [
       "[12000025, 12000026, 12000028, 12000033, 12000034]"
      ]
     },
     "execution_count": 12,
     "metadata": {},
     "output_type": "execute_result"
    }
   ],
   "source": [
    "app_id_102s[0:5]"
   ]
  },
  {
   "cell_type": "code",
   "execution_count": null,
   "metadata": {},
   "outputs": [],
   "source": []
  },
  {
   "cell_type": "markdown",
   "metadata": {},
   "source": [
    "## Sample 1000 training set, 1000 test set."
   ]
  },
  {
   "cell_type": "markdown",
   "metadata": {},
   "source": [
    "If app_id is uniq, we can just use dataframe.sample.\n",
    "But somemodel might want to use multiple xml for the same app_id.\n",
    "\n",
    "So keep all app_id in split phase.\n",
    "Also, app_id order would be the same order as apply (maybe not, please confirm somebody!).\n",
    "So keep order when split, Then shuffle so that every one reproduce split even though they change mind to use multiple xml of each app_id."
   ]
  },
  {
   "cell_type": "code",
   "execution_count": 13,
   "metadata": {},
   "outputs": [],
   "source": [
    "import random"
   ]
  },
  {
   "cell_type": "code",
   "execution_count": 14,
   "metadata": {},
   "outputs": [],
   "source": [
    "random.seed(1234)"
   ]
  },
  {
   "cell_type": "code",
   "execution_count": 15,
   "metadata": {},
   "outputs": [],
   "source": [
    "training_id = random.sample(app_id_102s, 1000)"
   ]
  },
  {
   "cell_type": "code",
   "execution_count": 16,
   "metadata": {},
   "outputs": [],
   "source": [
    "training_id_set = set(training_id)"
   ]
  },
  {
   "cell_type": "code",
   "execution_count": 17,
   "metadata": {},
   "outputs": [],
   "source": [
    "app_id_except_training = [app for app in app_id_102s if app not in training_id_set]"
   ]
  },
  {
   "cell_type": "code",
   "execution_count": 18,
   "metadata": {},
   "outputs": [
    {
     "data": {
      "text/plain": [
       "267955"
      ]
     },
     "execution_count": 18,
     "metadata": {},
     "output_type": "execute_result"
    }
   ],
   "source": [
    "len(app_id_except_training)"
   ]
  },
  {
   "cell_type": "code",
   "execution_count": 19,
   "metadata": {},
   "outputs": [],
   "source": [
    "testset_id = random.sample(app_id_except_training, 1000)"
   ]
  },
  {
   "cell_type": "code",
   "execution_count": 20,
   "metadata": {},
   "outputs": [
    {
     "data": {
      "text/plain": [
       "[14307191, 13137006, 12741959, 12643447, 14200253]"
      ]
     },
     "execution_count": 20,
     "metadata": {},
     "output_type": "execute_result"
    }
   ],
   "source": [
    "testset_id[0:5]"
   ]
  },
  {
   "cell_type": "raw",
   "metadata": {},
   "source": [
    "Must be [14307191, 13137006, 12741959, 12643447, 14200253]"
   ]
  },
  {
   "cell_type": "code",
   "execution_count": null,
   "metadata": {},
   "outputs": [],
   "source": []
  },
  {
   "cell_type": "code",
   "execution_count": 21,
   "metadata": {},
   "outputs": [
    {
     "data": {
      "text/plain": [
       "(1000, 1000)"
      ]
     },
     "execution_count": 21,
     "metadata": {},
     "output_type": "execute_result"
    }
   ],
   "source": [
    "len(training_id), len(testset_id)"
   ]
  },
  {
   "cell_type": "code",
   "execution_count": null,
   "metadata": {},
   "outputs": [],
   "source": []
  },
  {
   "cell_type": "markdown",
   "metadata": {},
   "source": [
    "### Keep citation info only for training-test set."
   ]
  },
  {
   "cell_type": "code",
   "execution_count": 60,
   "metadata": {},
   "outputs": [],
   "source": [
    "target_idset = set(training_id)|set(testset_id)"
   ]
  },
  {
   "cell_type": "code",
   "execution_count": null,
   "metadata": {},
   "outputs": [],
   "source": []
  },
  {
   "cell_type": "code",
   "execution_count": 61,
   "metadata": {},
   "outputs": [],
   "source": [
    "citations_info_target = oc_citations_102[oc_citations_102.app_id.isin(target_idset)]"
   ]
  },
  {
   "cell_type": "code",
   "execution_count": 62,
   "metadata": {},
   "outputs": [
    {
     "data": {
      "text/plain": [
       "(4179, 41)"
      ]
     },
     "execution_count": 62,
     "metadata": {},
     "output_type": "execute_result"
    }
   ],
   "source": [
    "citations_info_target.shape"
   ]
  },
  {
   "cell_type": "code",
   "execution_count": 65,
   "metadata": {},
   "outputs": [],
   "source": [
    "citations_info_target = citations_info_target.reset_index(drop=True)"
   ]
  },
  {
   "cell_type": "code",
   "execution_count": 66,
   "metadata": {},
   "outputs": [],
   "source": [
    "citations_info_target.to_pickle(\"../data/citations_info_1000.df\")"
   ]
  },
  {
   "cell_type": "code",
   "execution_count": null,
   "metadata": {},
   "outputs": [],
   "source": []
  },
  {
   "cell_type": "markdown",
   "metadata": {},
   "source": [
    "### Retrieve related application xmls"
   ]
  },
  {
   "cell_type": "code",
   "execution_count": 198,
   "metadata": {},
   "outputs": [],
   "source": [
    "appsh5  = h5py.File('../data/patent_applications_with_office_actions_2005-2018.h5' , 'r')"
   ]
  },
  {
   "cell_type": "code",
   "execution_count": 34,
   "metadata": {},
   "outputs": [
    {
     "data": {
      "text/plain": [
       "'<us-patent-application lang=\"EN\" dtd-version=\"v4.3'"
      ]
     },
     "execution_count": 34,
     "metadata": {},
     "output_type": "execute_result"
    }
   ],
   "source": [
    "appsh5[str(training_id[0])].value[0:50]"
   ]
  },
  {
   "cell_type": "code",
   "execution_count": 37,
   "metadata": {},
   "outputs": [],
   "source": [
    "training_app_df = pd.DataFrame({\"app_id\": training_id, \"xml\": [appsh5[str(tid)].value for tid in training_id]})"
   ]
  },
  {
   "cell_type": "code",
   "execution_count": 38,
   "metadata": {},
   "outputs": [
    {
     "data": {
      "text/html": [
       "<div>\n",
       "<style scoped>\n",
       "    .dataframe tbody tr th:only-of-type {\n",
       "        vertical-align: middle;\n",
       "    }\n",
       "\n",
       "    .dataframe tbody tr th {\n",
       "        vertical-align: top;\n",
       "    }\n",
       "\n",
       "    .dataframe thead th {\n",
       "        text-align: right;\n",
       "    }\n",
       "</style>\n",
       "<table border=\"1\" class=\"dataframe\">\n",
       "  <thead>\n",
       "    <tr style=\"text-align: right;\">\n",
       "      <th></th>\n",
       "      <th>app_id</th>\n",
       "      <th>xml</th>\n",
       "    </tr>\n",
       "  </thead>\n",
       "  <tbody>\n",
       "    <tr>\n",
       "      <th>0</th>\n",
       "      <td>14222691</td>\n",
       "      <td>&lt;us-patent-application lang=\"EN\" dtd-version=\"...</td>\n",
       "    </tr>\n",
       "    <tr>\n",
       "      <th>1</th>\n",
       "      <td>12515852</td>\n",
       "      <td>&lt;us-patent-application lang=\"EN\" dtd-version=\"...</td>\n",
       "    </tr>\n",
       "    <tr>\n",
       "      <th>2</th>\n",
       "      <td>12033424</td>\n",
       "      <td>&lt;us-patent-application lang=\"EN\" dtd-version=\"...</td>\n",
       "    </tr>\n",
       "    <tr>\n",
       "      <th>3</th>\n",
       "      <td>12402344</td>\n",
       "      <td>&lt;us-patent-application lang=\"EN\" dtd-version=\"...</td>\n",
       "    </tr>\n",
       "    <tr>\n",
       "      <th>4</th>\n",
       "      <td>12155425</td>\n",
       "      <td>&lt;us-patent-application lang=\"EN\" dtd-version=\"...</td>\n",
       "    </tr>\n",
       "  </tbody>\n",
       "</table>\n",
       "</div>"
      ],
      "text/plain": [
       "     app_id                                                xml\n",
       "0  14222691  <us-patent-application lang=\"EN\" dtd-version=\"...\n",
       "1  12515852  <us-patent-application lang=\"EN\" dtd-version=\"...\n",
       "2  12033424  <us-patent-application lang=\"EN\" dtd-version=\"...\n",
       "3  12402344  <us-patent-application lang=\"EN\" dtd-version=\"...\n",
       "4  12155425  <us-patent-application lang=\"EN\" dtd-version=\"..."
      ]
     },
     "execution_count": 38,
     "metadata": {},
     "output_type": "execute_result"
    }
   ],
   "source": [
    "training_app_df.head()"
   ]
  },
  {
   "cell_type": "code",
   "execution_count": null,
   "metadata": {},
   "outputs": [],
   "source": []
  },
  {
   "cell_type": "code",
   "execution_count": 199,
   "metadata": {},
   "outputs": [],
   "source": [
    "testset_app_df = pd.DataFrame({\"app_id\": testset_id, \"xml\": [appsh5[str(tid)].value for tid in testset_id]})"
   ]
  },
  {
   "cell_type": "code",
   "execution_count": null,
   "metadata": {},
   "outputs": [],
   "source": []
  },
  {
   "cell_type": "code",
   "execution_count": 200,
   "metadata": {},
   "outputs": [
    {
     "data": {
      "text/plain": [
       "((1000, 3), (1000, 2))"
      ]
     },
     "execution_count": 200,
     "metadata": {},
     "output_type": "execute_result"
    }
   ],
   "source": [
    "training_app_df.shape, testset_app_df.shape"
   ]
  },
  {
   "cell_type": "code",
   "execution_count": 201,
   "metadata": {},
   "outputs": [
    {
     "data": {
      "text/plain": [
       "0    14222691\n",
       "1    12515852\n",
       "2    12033424\n",
       "3    12402344\n",
       "4    12155425\n",
       "Name: app_id, dtype: int64"
      ]
     },
     "execution_count": 201,
     "metadata": {},
     "output_type": "execute_result"
    }
   ],
   "source": [
    "training_app_df.head().app_id"
   ]
  },
  {
   "cell_type": "raw",
   "metadata": {},
   "source": [
    "Expected\n",
    "\n",
    "0    14222691\n",
    "1    12515852\n",
    "2    12033424\n",
    "3    12402344\n",
    "4    12155425"
   ]
  },
  {
   "cell_type": "code",
   "execution_count": 202,
   "metadata": {},
   "outputs": [
    {
     "data": {
      "text/plain": [
       "app_id                                             13137006\n",
       "xml       <us-patent-application lang=\"EN\" dtd-version=\"...\n",
       "Name: 1, dtype: object"
      ]
     },
     "execution_count": 202,
     "metadata": {},
     "output_type": "execute_result"
    }
   ],
   "source": [
    "testset_app_df.iloc[1]"
   ]
  },
  {
   "cell_type": "markdown",
   "metadata": {},
   "source": [
    "### Save application df"
   ]
  },
  {
   "cell_type": "code",
   "execution_count": 50,
   "metadata": {},
   "outputs": [],
   "source": [
    "training_app_df.to_pickle(\"../data/training_app_1000.df\")\n",
    "testset_app_df.to_pickle(\"../data/testset_app_1000.df\")"
   ]
  },
  {
   "cell_type": "code",
   "execution_count": 205,
   "metadata": {},
   "outputs": [],
   "source": [
    "appsh5.close()"
   ]
  },
  {
   "cell_type": "code",
   "execution_count": null,
   "metadata": {},
   "outputs": [],
   "source": []
  },
  {
   "cell_type": "markdown",
   "metadata": {},
   "source": [
    "### Retrieve just claim. Remove all tags.\n",
    "\n",
    "This utility function might necessary for any mode."
   ]
  },
  {
   "cell_type": "code",
   "execution_count": null,
   "metadata": {},
   "outputs": [],
   "source": []
  },
  {
   "cell_type": "code",
   "execution_count": 52,
   "metadata": {},
   "outputs": [],
   "source": [
    "import re"
   ]
  },
  {
   "cell_type": "code",
   "execution_count": 53,
   "metadata": {},
   "outputs": [],
   "source": [
    "CLAIM_PAT = re.compile(r'<claims[^>]*>(.*)</claims>',re.MULTILINE|re.DOTALL)"
   ]
  },
  {
   "cell_type": "code",
   "execution_count": 54,
   "metadata": {},
   "outputs": [],
   "source": [
    "TAG_PAT = re.compile(r\"<.*?>\")"
   ]
  },
  {
   "cell_type": "code",
   "execution_count": 55,
   "metadata": {},
   "outputs": [],
   "source": [
    "def whole_xml_to_claim_xml(whole):\n",
    "    mat = CLAIM_PAT.search(whole)\n",
    "    return mat.group(1)"
   ]
  },
  {
   "cell_type": "code",
   "execution_count": 56,
   "metadata": {},
   "outputs": [],
   "source": [
    "def whole_xml_to_claim(whole):\n",
    "    return TAG_PAT.sub(' ', whole_xml_to_claim_xml(whole))"
   ]
  },
  {
   "cell_type": "code",
   "execution_count": null,
   "metadata": {},
   "outputs": [],
   "source": []
  },
  {
   "cell_type": "markdown",
   "metadata": {},
   "source": [
    "### Retrieve grants xmls"
   ]
  },
  {
   "cell_type": "code",
   "execution_count": 57,
   "metadata": {},
   "outputs": [],
   "source": [
    "grantsh5 = h5py.File('../data/patent_grants_with_office_actions_2005-2012.h5', 'r')"
   ]
  },
  {
   "cell_type": "code",
   "execution_count": null,
   "metadata": {},
   "outputs": [],
   "source": []
  },
  {
   "cell_type": "code",
   "execution_count": 68,
   "metadata": {},
   "outputs": [],
   "source": [
    "grants_target_ids = sorted(list(citations_info_target.parsed.unique()))"
   ]
  },
  {
   "cell_type": "code",
   "execution_count": 70,
   "metadata": {},
   "outputs": [],
   "source": [
    "grants_target_df = pd.DataFrame({\"parsed\": grants_target_ids, \"xml\": [grantsh5[str(pid)].value for pid in grants_target_ids]})"
   ]
  },
  {
   "cell_type": "code",
   "execution_count": 71,
   "metadata": {},
   "outputs": [
    {
     "data": {
      "text/plain": [
       "(2524, 2)"
      ]
     },
     "execution_count": 71,
     "metadata": {},
     "output_type": "execute_result"
    }
   ],
   "source": [
    "grants_target_df.shape"
   ]
  },
  {
   "cell_type": "code",
   "execution_count": 72,
   "metadata": {},
   "outputs": [],
   "source": [
    "grants_target_df.to_pickle(\"../data/grants_for_2000.df\")"
   ]
  },
  {
   "cell_type": "code",
   "execution_count": 73,
   "metadata": {},
   "outputs": [],
   "source": [
    "grantsh5.close()"
   ]
  },
  {
   "cell_type": "code",
   "execution_count": null,
   "metadata": {},
   "outputs": [],
   "source": []
  },
  {
   "cell_type": "markdown",
   "metadata": {},
   "source": [
    "# Model evaluation"
   ]
  },
  {
   "cell_type": "code",
   "execution_count": null,
   "metadata": {},
   "outputs": [],
   "source": []
  },
  {
   "cell_type": "code",
   "execution_count": 67,
   "metadata": {},
   "outputs": [
    {
     "data": {
      "text/html": [
       "<div>\n",
       "<style scoped>\n",
       "    .dataframe tbody tr th:only-of-type {\n",
       "        vertical-align: middle;\n",
       "    }\n",
       "\n",
       "    .dataframe tbody tr th {\n",
       "        vertical-align: top;\n",
       "    }\n",
       "\n",
       "    .dataframe thead th {\n",
       "        text-align: right;\n",
       "    }\n",
       "</style>\n",
       "<table border=\"1\" class=\"dataframe\">\n",
       "  <thead>\n",
       "    <tr style=\"text-align: right;\">\n",
       "      <th></th>\n",
       "      <th>app_id</th>\n",
       "      <th>app_fnm</th>\n",
       "      <th>citation_pat_pgpub_id</th>\n",
       "      <th>parsed</th>\n",
       "      <th>ifw_number</th>\n",
       "      <th>action_type</th>\n",
       "      <th>action_subtype</th>\n",
       "      <th>form892</th>\n",
       "      <th>form1449</th>\n",
       "      <th>citation_in_oa</th>\n",
       "      <th>...</th>\n",
       "      <th>rejection_103</th>\n",
       "      <th>rejection_112</th>\n",
       "      <th>rejection_dp</th>\n",
       "      <th>objection</th>\n",
       "      <th>allowed_claims</th>\n",
       "      <th>cite102_gt1</th>\n",
       "      <th>cite103_gt3</th>\n",
       "      <th>cite103_eq1</th>\n",
       "      <th>cite103_max</th>\n",
       "      <th>signature_type</th>\n",
       "    </tr>\n",
       "  </thead>\n",
       "  <tbody>\n",
       "    <tr>\n",
       "      <th>0</th>\n",
       "      <td>13371769</td>\n",
       "      <td>/work/data/apps/2012/ipa120607/F_2322.xml</td>\n",
       "      <td>7391316</td>\n",
       "      <td>7391316</td>\n",
       "      <td>H20LX5QGPXXIFW4</td>\n",
       "      <td>103.0</td>\n",
       "      <td>a</td>\n",
       "      <td>1</td>\n",
       "      <td>0</td>\n",
       "      <td>1</td>\n",
       "      <td>...</td>\n",
       "      <td>1</td>\n",
       "      <td>0</td>\n",
       "      <td>1</td>\n",
       "      <td>0</td>\n",
       "      <td>0</td>\n",
       "      <td>0</td>\n",
       "      <td>0</td>\n",
       "      <td>1</td>\n",
       "      <td>2</td>\n",
       "      <td>0</td>\n",
       "    </tr>\n",
       "    <tr>\n",
       "      <th>1</th>\n",
       "      <td>13371769</td>\n",
       "      <td>/work/data/apps/2012/ipa120607/F_2322.xml</td>\n",
       "      <td>6992580</td>\n",
       "      <td>6992580</td>\n",
       "      <td>H20LX5QGPXXIFW4</td>\n",
       "      <td>102.0</td>\n",
       "      <td>a</td>\n",
       "      <td>1</td>\n",
       "      <td>1</td>\n",
       "      <td>1</td>\n",
       "      <td>...</td>\n",
       "      <td>1</td>\n",
       "      <td>0</td>\n",
       "      <td>1</td>\n",
       "      <td>0</td>\n",
       "      <td>0</td>\n",
       "      <td>0</td>\n",
       "      <td>0</td>\n",
       "      <td>1</td>\n",
       "      <td>2</td>\n",
       "      <td>0</td>\n",
       "    </tr>\n",
       "    <tr>\n",
       "      <th>2</th>\n",
       "      <td>13371769</td>\n",
       "      <td>/work/data/apps/2012/ipa120607/F_2322.xml</td>\n",
       "      <td>6992580</td>\n",
       "      <td>6992580</td>\n",
       "      <td>H20LX5QGPXXIFW4</td>\n",
       "      <td>103.0</td>\n",
       "      <td>a</td>\n",
       "      <td>1</td>\n",
       "      <td>1</td>\n",
       "      <td>1</td>\n",
       "      <td>...</td>\n",
       "      <td>1</td>\n",
       "      <td>0</td>\n",
       "      <td>1</td>\n",
       "      <td>0</td>\n",
       "      <td>0</td>\n",
       "      <td>0</td>\n",
       "      <td>0</td>\n",
       "      <td>1</td>\n",
       "      <td>2</td>\n",
       "      <td>0</td>\n",
       "    </tr>\n",
       "    <tr>\n",
       "      <th>3</th>\n",
       "      <td>13371769</td>\n",
       "      <td>/work/data/apps/2012/ipa120607/F_2322.xml</td>\n",
       "      <td>7774833</td>\n",
       "      <td>7774833</td>\n",
       "      <td>H20LX5QGPXXIFW4</td>\n",
       "      <td>103.0</td>\n",
       "      <td>a</td>\n",
       "      <td>1</td>\n",
       "      <td>1</td>\n",
       "      <td>1</td>\n",
       "      <td>...</td>\n",
       "      <td>1</td>\n",
       "      <td>0</td>\n",
       "      <td>1</td>\n",
       "      <td>0</td>\n",
       "      <td>0</td>\n",
       "      <td>0</td>\n",
       "      <td>0</td>\n",
       "      <td>1</td>\n",
       "      <td>2</td>\n",
       "      <td>0</td>\n",
       "    </tr>\n",
       "    <tr>\n",
       "      <th>4</th>\n",
       "      <td>12282000</td>\n",
       "      <td>/work/data/apps/2009/ipa090312/F_1385.xml</td>\n",
       "      <td>7411209</td>\n",
       "      <td>7411209</td>\n",
       "      <td>G9LENRJ8PPOPPY5</td>\n",
       "      <td>102.0</td>\n",
       "      <td>a</td>\n",
       "      <td>0</td>\n",
       "      <td>1</td>\n",
       "      <td>1</td>\n",
       "      <td>...</td>\n",
       "      <td>1</td>\n",
       "      <td>0</td>\n",
       "      <td>0</td>\n",
       "      <td>0</td>\n",
       "      <td>0</td>\n",
       "      <td>1</td>\n",
       "      <td>0</td>\n",
       "      <td>1</td>\n",
       "      <td>1</td>\n",
       "      <td>3</td>\n",
       "    </tr>\n",
       "  </tbody>\n",
       "</table>\n",
       "<p>5 rows × 41 columns</p>\n",
       "</div>"
      ],
      "text/plain": [
       "     app_id                                    app_fnm citation_pat_pgpub_id  \\\n",
       "0  13371769  /work/data/apps/2012/ipa120607/F_2322.xml               7391316   \n",
       "1  13371769  /work/data/apps/2012/ipa120607/F_2322.xml               6992580   \n",
       "2  13371769  /work/data/apps/2012/ipa120607/F_2322.xml               6992580   \n",
       "3  13371769  /work/data/apps/2012/ipa120607/F_2322.xml               7774833   \n",
       "4  12282000  /work/data/apps/2009/ipa090312/F_1385.xml               7411209   \n",
       "\n",
       "    parsed       ifw_number  action_type action_subtype  form892  form1449  \\\n",
       "0  7391316  H20LX5QGPXXIFW4        103.0              a        1         0   \n",
       "1  6992580  H20LX5QGPXXIFW4        102.0              a        1         1   \n",
       "2  6992580  H20LX5QGPXXIFW4        103.0              a        1         1   \n",
       "3  7774833  H20LX5QGPXXIFW4        103.0              a        1         1   \n",
       "4  7411209  G9LENRJ8PPOPPY5        102.0              a        0         1   \n",
       "\n",
       "   citation_in_oa      ...       rejection_103  rejection_112  rejection_dp  \\\n",
       "0               1      ...                   1              0             1   \n",
       "1               1      ...                   1              0             1   \n",
       "2               1      ...                   1              0             1   \n",
       "3               1      ...                   1              0             1   \n",
       "4               1      ...                   1              0             0   \n",
       "\n",
       "   objection allowed_claims cite102_gt1  cite103_gt3 cite103_eq1  cite103_max  \\\n",
       "0          0              0           0            0           1            2   \n",
       "1          0              0           0            0           1            2   \n",
       "2          0              0           0            0           1            2   \n",
       "3          0              0           0            0           1            2   \n",
       "4          0              0           1            0           1            1   \n",
       "\n",
       "  signature_type  \n",
       "0              0  \n",
       "1              0  \n",
       "2              0  \n",
       "3              0  \n",
       "4              3  \n",
       "\n",
       "[5 rows x 41 columns]"
      ]
     },
     "execution_count": 67,
     "metadata": {},
     "output_type": "execute_result"
    }
   ],
   "source": [
    "citations_info_target.head()"
   ]
  },
  {
   "cell_type": "code",
   "execution_count": null,
   "metadata": {},
   "outputs": [],
   "source": []
  },
  {
   "cell_type": "code",
   "execution_count": null,
   "metadata": {},
   "outputs": [],
   "source": []
  },
  {
   "cell_type": "code",
   "execution_count": 74,
   "metadata": {},
   "outputs": [],
   "source": [
    "def set_one_answer_appid(labeldf, oneappid):\n",
    "    cited_patids = citations_info_target[citations_info_target.app_id == oneappid].parsed\n",
    "    labeldf.loc[oneappid] = labeldf.columns.isin(cited_patids)"
   ]
  },
  {
   "cell_type": "code",
   "execution_count": null,
   "metadata": {},
   "outputs": [],
   "source": []
  },
  {
   "cell_type": "code",
   "execution_count": 75,
   "metadata": {},
   "outputs": [],
   "source": [
    "def create_label_df():\n",
    "    label_df = pd.DataFrame(columns=grants_target_df.parsed.values, dtype=np.bool)\n",
    "    for appid in testset_app_df.app_id:\n",
    "        set_one_answer_appid(label_df, appid)\n",
    "    return label_df"
   ]
  },
  {
   "cell_type": "code",
   "execution_count": 206,
   "metadata": {},
   "outputs": [],
   "source": [
    "label_df = create_label_df()"
   ]
  },
  {
   "cell_type": "code",
   "execution_count": 207,
   "metadata": {},
   "outputs": [
    {
     "data": {
      "text/plain": [
       "(1000, 2524)"
      ]
     },
     "execution_count": 207,
     "metadata": {},
     "output_type": "execute_result"
    }
   ],
   "source": [
    "label_df.shape"
   ]
  },
  {
   "cell_type": "code",
   "execution_count": null,
   "metadata": {},
   "outputs": [],
   "source": []
  },
  {
   "cell_type": "markdown",
   "metadata": {},
   "source": [
    "### Cofirm label df is correct"
   ]
  },
  {
   "cell_type": "code",
   "execution_count": 208,
   "metadata": {},
   "outputs": [
    {
     "data": {
      "text/html": [
       "<div>\n",
       "<style scoped>\n",
       "    .dataframe tbody tr th:only-of-type {\n",
       "        vertical-align: middle;\n",
       "    }\n",
       "\n",
       "    .dataframe tbody tr th {\n",
       "        vertical-align: top;\n",
       "    }\n",
       "\n",
       "    .dataframe thead th {\n",
       "        text-align: right;\n",
       "    }\n",
       "</style>\n",
       "<table border=\"1\" class=\"dataframe\">\n",
       "  <thead>\n",
       "    <tr style=\"text-align: right;\">\n",
       "      <th></th>\n",
       "      <th>app_id</th>\n",
       "      <th>xml</th>\n",
       "    </tr>\n",
       "  </thead>\n",
       "  <tbody>\n",
       "    <tr>\n",
       "      <th>0</th>\n",
       "      <td>14307191</td>\n",
       "      <td>&lt;us-patent-application lang=\"EN\" dtd-version=\"...</td>\n",
       "    </tr>\n",
       "    <tr>\n",
       "      <th>1</th>\n",
       "      <td>13137006</td>\n",
       "      <td>&lt;us-patent-application lang=\"EN\" dtd-version=\"...</td>\n",
       "    </tr>\n",
       "    <tr>\n",
       "      <th>2</th>\n",
       "      <td>12741959</td>\n",
       "      <td>&lt;us-patent-application lang=\"EN\" dtd-version=\"...</td>\n",
       "    </tr>\n",
       "    <tr>\n",
       "      <th>3</th>\n",
       "      <td>12643447</td>\n",
       "      <td>&lt;us-patent-application lang=\"EN\" dtd-version=\"...</td>\n",
       "    </tr>\n",
       "    <tr>\n",
       "      <th>4</th>\n",
       "      <td>14200253</td>\n",
       "      <td>&lt;us-patent-application lang=\"EN\" dtd-version=\"...</td>\n",
       "    </tr>\n",
       "  </tbody>\n",
       "</table>\n",
       "</div>"
      ],
      "text/plain": [
       "     app_id                                                xml\n",
       "0  14307191  <us-patent-application lang=\"EN\" dtd-version=\"...\n",
       "1  13137006  <us-patent-application lang=\"EN\" dtd-version=\"...\n",
       "2  12741959  <us-patent-application lang=\"EN\" dtd-version=\"...\n",
       "3  12643447  <us-patent-application lang=\"EN\" dtd-version=\"...\n",
       "4  14200253  <us-patent-application lang=\"EN\" dtd-version=\"..."
      ]
     },
     "execution_count": 208,
     "metadata": {},
     "output_type": "execute_result"
    }
   ],
   "source": [
    "testset_app_df.head()"
   ]
  },
  {
   "cell_type": "code",
   "execution_count": 210,
   "metadata": {},
   "outputs": [
    {
     "data": {
      "text/html": [
       "<div>\n",
       "<style scoped>\n",
       "    .dataframe tbody tr th:only-of-type {\n",
       "        vertical-align: middle;\n",
       "    }\n",
       "\n",
       "    .dataframe tbody tr th {\n",
       "        vertical-align: top;\n",
       "    }\n",
       "\n",
       "    .dataframe thead th {\n",
       "        text-align: right;\n",
       "    }\n",
       "</style>\n",
       "<table border=\"1\" class=\"dataframe\">\n",
       "  <thead>\n",
       "    <tr style=\"text-align: right;\">\n",
       "      <th></th>\n",
       "      <th>6837383</th>\n",
       "      <th>6837647</th>\n",
       "      <th>6837799</th>\n",
       "      <th>6837893</th>\n",
       "      <th>6837910</th>\n",
       "      <th>6838140</th>\n",
       "      <th>6838207</th>\n",
       "      <th>6838507</th>\n",
       "      <th>6838812</th>\n",
       "      <th>6838925</th>\n",
       "      <th>...</th>\n",
       "      <th>8334161</th>\n",
       "      <th>8334431</th>\n",
       "      <th>8334887</th>\n",
       "      <th>8336128</th>\n",
       "      <th>8336158</th>\n",
       "      <th>8336789</th>\n",
       "      <th>8336964</th>\n",
       "      <th>8337193</th>\n",
       "      <th>8339697</th>\n",
       "      <th>8340894</th>\n",
       "    </tr>\n",
       "  </thead>\n",
       "  <tbody>\n",
       "    <tr>\n",
       "      <th>14307191</th>\n",
       "      <td>False</td>\n",
       "      <td>False</td>\n",
       "      <td>False</td>\n",
       "      <td>False</td>\n",
       "      <td>False</td>\n",
       "      <td>False</td>\n",
       "      <td>False</td>\n",
       "      <td>False</td>\n",
       "      <td>False</td>\n",
       "      <td>False</td>\n",
       "      <td>...</td>\n",
       "      <td>False</td>\n",
       "      <td>False</td>\n",
       "      <td>False</td>\n",
       "      <td>False</td>\n",
       "      <td>False</td>\n",
       "      <td>False</td>\n",
       "      <td>False</td>\n",
       "      <td>False</td>\n",
       "      <td>False</td>\n",
       "      <td>False</td>\n",
       "    </tr>\n",
       "    <tr>\n",
       "      <th>13137006</th>\n",
       "      <td>False</td>\n",
       "      <td>False</td>\n",
       "      <td>False</td>\n",
       "      <td>False</td>\n",
       "      <td>False</td>\n",
       "      <td>False</td>\n",
       "      <td>False</td>\n",
       "      <td>False</td>\n",
       "      <td>False</td>\n",
       "      <td>False</td>\n",
       "      <td>...</td>\n",
       "      <td>False</td>\n",
       "      <td>False</td>\n",
       "      <td>False</td>\n",
       "      <td>False</td>\n",
       "      <td>False</td>\n",
       "      <td>False</td>\n",
       "      <td>False</td>\n",
       "      <td>False</td>\n",
       "      <td>False</td>\n",
       "      <td>False</td>\n",
       "    </tr>\n",
       "    <tr>\n",
       "      <th>12741959</th>\n",
       "      <td>False</td>\n",
       "      <td>False</td>\n",
       "      <td>False</td>\n",
       "      <td>False</td>\n",
       "      <td>False</td>\n",
       "      <td>False</td>\n",
       "      <td>False</td>\n",
       "      <td>False</td>\n",
       "      <td>False</td>\n",
       "      <td>False</td>\n",
       "      <td>...</td>\n",
       "      <td>False</td>\n",
       "      <td>False</td>\n",
       "      <td>False</td>\n",
       "      <td>False</td>\n",
       "      <td>False</td>\n",
       "      <td>False</td>\n",
       "      <td>False</td>\n",
       "      <td>False</td>\n",
       "      <td>False</td>\n",
       "      <td>False</td>\n",
       "    </tr>\n",
       "    <tr>\n",
       "      <th>12643447</th>\n",
       "      <td>False</td>\n",
       "      <td>False</td>\n",
       "      <td>False</td>\n",
       "      <td>False</td>\n",
       "      <td>False</td>\n",
       "      <td>False</td>\n",
       "      <td>False</td>\n",
       "      <td>False</td>\n",
       "      <td>False</td>\n",
       "      <td>False</td>\n",
       "      <td>...</td>\n",
       "      <td>False</td>\n",
       "      <td>False</td>\n",
       "      <td>False</td>\n",
       "      <td>False</td>\n",
       "      <td>False</td>\n",
       "      <td>False</td>\n",
       "      <td>False</td>\n",
       "      <td>False</td>\n",
       "      <td>False</td>\n",
       "      <td>False</td>\n",
       "    </tr>\n",
       "    <tr>\n",
       "      <th>14200253</th>\n",
       "      <td>False</td>\n",
       "      <td>False</td>\n",
       "      <td>False</td>\n",
       "      <td>False</td>\n",
       "      <td>False</td>\n",
       "      <td>False</td>\n",
       "      <td>False</td>\n",
       "      <td>False</td>\n",
       "      <td>False</td>\n",
       "      <td>False</td>\n",
       "      <td>...</td>\n",
       "      <td>False</td>\n",
       "      <td>False</td>\n",
       "      <td>False</td>\n",
       "      <td>False</td>\n",
       "      <td>False</td>\n",
       "      <td>False</td>\n",
       "      <td>False</td>\n",
       "      <td>False</td>\n",
       "      <td>False</td>\n",
       "      <td>False</td>\n",
       "    </tr>\n",
       "  </tbody>\n",
       "</table>\n",
       "<p>5 rows × 2524 columns</p>\n",
       "</div>"
      ],
      "text/plain": [
       "          6837383  6837647  6837799  6837893  6837910  6838140  6838207  \\\n",
       "14307191    False    False    False    False    False    False    False   \n",
       "13137006    False    False    False    False    False    False    False   \n",
       "12741959    False    False    False    False    False    False    False   \n",
       "12643447    False    False    False    False    False    False    False   \n",
       "14200253    False    False    False    False    False    False    False   \n",
       "\n",
       "          6838507  6838812  6838925   ...     8334161  8334431  8334887  \\\n",
       "14307191    False    False    False   ...       False    False    False   \n",
       "13137006    False    False    False   ...       False    False    False   \n",
       "12741959    False    False    False   ...       False    False    False   \n",
       "12643447    False    False    False   ...       False    False    False   \n",
       "14200253    False    False    False   ...       False    False    False   \n",
       "\n",
       "          8336128  8336158  8336789  8336964  8337193  8339697  8340894  \n",
       "14307191    False    False    False    False    False    False    False  \n",
       "13137006    False    False    False    False    False    False    False  \n",
       "12741959    False    False    False    False    False    False    False  \n",
       "12643447    False    False    False    False    False    False    False  \n",
       "14200253    False    False    False    False    False    False    False  \n",
       "\n",
       "[5 rows x 2524 columns]"
      ]
     },
     "execution_count": 210,
     "metadata": {},
     "output_type": "execute_result"
    }
   ],
   "source": [
    "label_df.head()"
   ]
  },
  {
   "cell_type": "code",
   "execution_count": 212,
   "metadata": {},
   "outputs": [
    {
     "data": {
      "text/plain": [
       "7576688"
      ]
     },
     "execution_count": 212,
     "metadata": {},
     "output_type": "execute_result"
    }
   ],
   "source": [
    "label_df.loc[14307191].idxmax()"
   ]
  },
  {
   "cell_type": "code",
   "execution_count": 213,
   "metadata": {},
   "outputs": [
    {
     "data": {
      "text/plain": [
       "698    7576688\n",
       "Name: parsed, dtype: int64"
      ]
     },
     "execution_count": 213,
     "metadata": {},
     "output_type": "execute_result"
    }
   ],
   "source": [
    "citations_info_target[citations_info_target[\"app_id\"]==14307191].parsed"
   ]
  },
  {
   "cell_type": "code",
   "execution_count": 214,
   "metadata": {},
   "outputs": [
    {
     "data": {
      "text/plain": [
       "True"
      ]
     },
     "execution_count": 214,
     "metadata": {},
     "output_type": "execute_result"
    }
   ],
   "source": [
    "label_df.loc[14307191].loc[7576688]"
   ]
  },
  {
   "cell_type": "code",
   "execution_count": 215,
   "metadata": {},
   "outputs": [
    {
     "data": {
      "text/plain": [
       "1"
      ]
     },
     "execution_count": 215,
     "metadata": {},
     "output_type": "execute_result"
    }
   ],
   "source": [
    "label_df.loc[14307191].sum()"
   ]
  },
  {
   "cell_type": "code",
   "execution_count": null,
   "metadata": {},
   "outputs": [],
   "source": []
  },
  {
   "cell_type": "code",
   "execution_count": null,
   "metadata": {},
   "outputs": [],
   "source": []
  },
  {
   "cell_type": "code",
   "execution_count": null,
   "metadata": {},
   "outputs": [],
   "source": []
  },
  {
   "cell_type": "markdown",
   "metadata": {},
   "source": [
    "### Predict test set and print summary"
   ]
  },
  {
   "cell_type": "code",
   "execution_count": null,
   "metadata": {},
   "outputs": [],
   "source": []
  },
  {
   "cell_type": "code",
   "execution_count": 216,
   "metadata": {},
   "outputs": [],
   "source": [
    "def predict_training_set(predict_func):\n",
    "    \"\"\"\n",
    "    predict_func(claims) return NxM of boolean. N is len(claims). M is rownum of grants_all_df.\n",
    "            value indicate n claim is cite patent of m row of grants_all_df.\n",
    "    \"\"\"\n",
    "    predictdf = pd.DataFrame(columns=grants_target_df.parsed.values, dtype=np.bool)\n",
    "    res = predict_func(testset_app_df[\"xml\"].map(whole_xml_to_claim))\n",
    "    for idx, appid in enumerate(testset_app_df.app_id):\n",
    "        predictdf.loc[appid] = res[idx, :]\n",
    "    \"\"\"\n",
    "        one_res = predict_func(whole_xml_to_claim(testset_app_df[testset_app_df.app_id == appid][\"xml\"].iloc[0]))\n",
    "        predictdf.loc[appid] = one_res\n",
    "    \"\"\"\n",
    "    return predictdf"
   ]
  },
  {
   "cell_type": "code",
   "execution_count": 217,
   "metadata": {},
   "outputs": [],
   "source": [
    "def calc_TPs(preddf, labeldf):\n",
    "    return sum([sum(preddf.loc[one_appid][labeldf.loc[one_appid]]) for one_appid in testset_app_df.app_id])\n",
    "\n",
    "def calc_FPs(preddf, labeldf):\n",
    "    return sum([sum(preddf.loc[one_appid][~labeldf.loc[one_appid]]) for one_appid in testset_app_df.app_id])\n",
    "\n",
    "def calc_TNs(preddf, labeldf):\n",
    "    return sum([sum(preddf.loc[one_appid][~labeldf.loc[one_appid]] == False) for one_appid in testset_app_df.app_id])\n",
    "\n",
    "def calc_FNs(preddf, labeldf):\n",
    "    return sum([sum(preddf.loc[one_appid][labeldf.loc[one_appid]] == False) for one_appid in testset_app_df.app_id])\n",
    "\n",
    "def calc_TFPNs(preddf, labeldf):\n",
    "    return calc_TPs(preddf, labeldf), calc_FPs(preddf, labeldf), calc_TNs(preddf, labeldf), calc_FNs(preddf, labeldf)"
   ]
  },
  {
   "cell_type": "code",
   "execution_count": 218,
   "metadata": {},
   "outputs": [],
   "source": [
    "def calc_summary_TFPNs(TP, FP, TN, FN):\n",
    "    \"return acc, prec, recall, f1.\"\n",
    "    return pd.DataFrame(columns=[\"acc\", \"prec\", \"recall\", \"f1\"], data=[[(TP+TN)/(TP+FP+TN+FN), TP/(TP+FP), TP/(TP+FN), 2*TP/(2*TP+FP+FN)]])\n",
    "    \n",
    "def calc_summary(preddf, labeldf):\n",
    "    TP, FP, TN, FN = calc_TFPNs(preddf, labeldf)\n",
    "    return calc_summary_TFPNs(TP, FP, TN, FN)"
   ]
  },
  {
   "cell_type": "code",
   "execution_count": null,
   "metadata": {},
   "outputs": [],
   "source": []
  },
  {
   "cell_type": "markdown",
   "metadata": {},
   "source": [
    "### Sample evaluation code for baseline model\n",
    "\n",
    "predict_tfidf_model is defined below"
   ]
  },
  {
   "cell_type": "code",
   "execution_count": 219,
   "metadata": {},
   "outputs": [],
   "source": [
    "pred_df = predict_training_set(predict_tfidf_model)"
   ]
  },
  {
   "cell_type": "code",
   "execution_count": 220,
   "metadata": {},
   "outputs": [
    {
     "data": {
      "text/html": [
       "<div>\n",
       "<style scoped>\n",
       "    .dataframe tbody tr th:only-of-type {\n",
       "        vertical-align: middle;\n",
       "    }\n",
       "\n",
       "    .dataframe tbody tr th {\n",
       "        vertical-align: top;\n",
       "    }\n",
       "\n",
       "    .dataframe thead th {\n",
       "        text-align: right;\n",
       "    }\n",
       "</style>\n",
       "<table border=\"1\" class=\"dataframe\">\n",
       "  <thead>\n",
       "    <tr style=\"text-align: right;\">\n",
       "      <th></th>\n",
       "      <th>acc</th>\n",
       "      <th>prec</th>\n",
       "      <th>recall</th>\n",
       "      <th>f1</th>\n",
       "    </tr>\n",
       "  </thead>\n",
       "  <tbody>\n",
       "    <tr>\n",
       "      <th>0</th>\n",
       "      <td>0.891564</td>\n",
       "      <td>0.004106</td>\n",
       "      <td>0.901679</td>\n",
       "      <td>0.008175</td>\n",
       "    </tr>\n",
       "  </tbody>\n",
       "</table>\n",
       "</div>"
      ],
      "text/plain": [
       "        acc      prec    recall        f1\n",
       "0  0.891564  0.004106  0.901679  0.008175"
      ]
     },
     "execution_count": 220,
     "metadata": {},
     "output_type": "execute_result"
    }
   ],
   "source": [
    "calc_summary(pred_df, label_df)"
   ]
  },
  {
   "cell_type": "raw",
   "metadata": {},
   "source": [
    "Previous result. This times seems too bad.\n",
    "\n",
    "# TFIDF_MODEL_THRESHOLD 0.8\n",
    "acc\tprec\trecall\tf1\n",
    "0.991971\t0.019875\t0.324627\t0.037457\n",
    "\n",
    "# TFIDF_MODEL_THRESHOLD 0.95\n",
    "acc\tprec\trecall\tf1\n",
    "0.891564\t0.004106\t0.901679\t0.008175"
   ]
  },
  {
   "cell_type": "code",
   "execution_count": null,
   "metadata": {},
   "outputs": [],
   "source": []
  },
  {
   "cell_type": "markdown",
   "metadata": {},
   "source": [
    "# Start baseline model dependent code from here\n",
    "\n",
    "Now common part is done.\n",
    "Start model specific cells."
   ]
  },
  {
   "cell_type": "code",
   "execution_count": null,
   "metadata": {},
   "outputs": [],
   "source": []
  },
  {
   "cell_type": "code",
   "execution_count": 92,
   "metadata": {},
   "outputs": [
    {
     "data": {
      "text/plain": [
       "0    \\n \\n 1. A tool organizer for mounting to and ...\n",
       "1    \\n \\n 1. A modular crowd and traffic control b...\n",
       "2    \\n \\n 1. A method of aligning a putter, compri...\n",
       "3    \\n \\n 1. Apparatus for inserting a surgical fa...\n",
       "4    \\n \\n 1. An apparatus for gasifying a liquid o...\n",
       "Name: xml, dtype: object"
      ]
     },
     "execution_count": 92,
     "metadata": {},
     "output_type": "execute_result"
    }
   ],
   "source": [
    "grants_target_df.head()[\"xml\"].map(whole_xml_to_claim)"
   ]
  },
  {
   "cell_type": "code",
   "execution_count": 93,
   "metadata": {},
   "outputs": [],
   "source": [
    "grants_target_df[\"claim\"] = grants_target_df[\"xml\"].map(whole_xml_to_claim)"
   ]
  },
  {
   "cell_type": "code",
   "execution_count": 94,
   "metadata": {},
   "outputs": [
    {
     "data": {
      "text/html": [
       "<div>\n",
       "<style scoped>\n",
       "    .dataframe tbody tr th:only-of-type {\n",
       "        vertical-align: middle;\n",
       "    }\n",
       "\n",
       "    .dataframe tbody tr th {\n",
       "        vertical-align: top;\n",
       "    }\n",
       "\n",
       "    .dataframe thead th {\n",
       "        text-align: right;\n",
       "    }\n",
       "</style>\n",
       "<table border=\"1\" class=\"dataframe\">\n",
       "  <thead>\n",
       "    <tr style=\"text-align: right;\">\n",
       "      <th></th>\n",
       "      <th>parsed</th>\n",
       "      <th>xml</th>\n",
       "      <th>claim</th>\n",
       "    </tr>\n",
       "  </thead>\n",
       "  <tbody>\n",
       "    <tr>\n",
       "      <th>0</th>\n",
       "      <td>6837383</td>\n",
       "      <td>&lt;us-patent-grant lang=\"EN\" dtd-version=\"v40 20...</td>\n",
       "      <td>\\n \\n 1. A tool organizer for mounting to and ...</td>\n",
       "    </tr>\n",
       "    <tr>\n",
       "      <th>1</th>\n",
       "      <td>6837647</td>\n",
       "      <td>&lt;us-patent-grant lang=\"EN\" dtd-version=\"v40 20...</td>\n",
       "      <td>\\n \\n 1. A modular crowd and traffic control b...</td>\n",
       "    </tr>\n",
       "    <tr>\n",
       "      <th>2</th>\n",
       "      <td>6837799</td>\n",
       "      <td>&lt;us-patent-grant lang=\"EN\" dtd-version=\"v40 20...</td>\n",
       "      <td>\\n \\n 1. A method of aligning a putter, compri...</td>\n",
       "    </tr>\n",
       "    <tr>\n",
       "      <th>3</th>\n",
       "      <td>6837893</td>\n",
       "      <td>&lt;us-patent-grant lang=\"EN\" dtd-version=\"v40 20...</td>\n",
       "      <td>\\n \\n 1. Apparatus for inserting a surgical fa...</td>\n",
       "    </tr>\n",
       "    <tr>\n",
       "      <th>4</th>\n",
       "      <td>6837910</td>\n",
       "      <td>&lt;us-patent-grant lang=\"EN\" dtd-version=\"v40 20...</td>\n",
       "      <td>\\n \\n 1. An apparatus for gasifying a liquid o...</td>\n",
       "    </tr>\n",
       "  </tbody>\n",
       "</table>\n",
       "</div>"
      ],
      "text/plain": [
       "    parsed                                                xml  \\\n",
       "0  6837383  <us-patent-grant lang=\"EN\" dtd-version=\"v40 20...   \n",
       "1  6837647  <us-patent-grant lang=\"EN\" dtd-version=\"v40 20...   \n",
       "2  6837799  <us-patent-grant lang=\"EN\" dtd-version=\"v40 20...   \n",
       "3  6837893  <us-patent-grant lang=\"EN\" dtd-version=\"v40 20...   \n",
       "4  6837910  <us-patent-grant lang=\"EN\" dtd-version=\"v40 20...   \n",
       "\n",
       "                                               claim  \n",
       "0  \\n \\n 1. A tool organizer for mounting to and ...  \n",
       "1  \\n \\n 1. A modular crowd and traffic control b...  \n",
       "2  \\n \\n 1. A method of aligning a putter, compri...  \n",
       "3  \\n \\n 1. Apparatus for inserting a surgical fa...  \n",
       "4  \\n \\n 1. An apparatus for gasifying a liquid o...  "
      ]
     },
     "execution_count": 94,
     "metadata": {},
     "output_type": "execute_result"
    }
   ],
   "source": [
    "grants_target_df.head()"
   ]
  },
  {
   "cell_type": "code",
   "execution_count": null,
   "metadata": {},
   "outputs": [],
   "source": []
  },
  {
   "cell_type": "markdown",
   "metadata": {},
   "source": [
    "# Convert to feature vectors and retrieve vocabulary\n",
    "\n",
    "Doing similar things to scikit learn example  \n",
    "http://scikit-learn.org/stable/auto_examples/text/document_classification_20newsgroups.html\n",
    "\n",
    "Also, this document is helpful.  \n",
    "http://scikit-learn.org/stable/tutorial/text_analytics/working_with_text_data.html"
   ]
  },
  {
   "cell_type": "code",
   "execution_count": 95,
   "metadata": {},
   "outputs": [],
   "source": [
    "from sklearn.feature_extraction.text import TfidfVectorizer"
   ]
  },
  {
   "cell_type": "code",
   "execution_count": null,
   "metadata": {},
   "outputs": [],
   "source": []
  },
  {
   "cell_type": "markdown",
   "metadata": {},
   "source": [
    "## (only once) Calculate tf-idf for grants"
   ]
  },
  {
   "cell_type": "code",
   "execution_count": 96,
   "metadata": {},
   "outputs": [],
   "source": [
    "random.seed(1234)"
   ]
  },
  {
   "cell_type": "code",
   "execution_count": 97,
   "metadata": {},
   "outputs": [],
   "source": [
    "vectorizer = TfidfVectorizer(stop_words='english', max_df = 0.5)"
   ]
  },
  {
   "cell_type": "code",
   "execution_count": 98,
   "metadata": {},
   "outputs": [],
   "source": [
    "grants_features = vectorizer.fit_transform(grants_target_df[\"claim\"])"
   ]
  },
  {
   "cell_type": "code",
   "execution_count": 99,
   "metadata": {},
   "outputs": [
    {
     "data": {
      "text/plain": [
       "(2524, 20124)"
      ]
     },
     "execution_count": 99,
     "metadata": {},
     "output_type": "execute_result"
    }
   ],
   "source": [
    "grants_features.shape"
   ]
  },
  {
   "cell_type": "code",
   "execution_count": 100,
   "metadata": {},
   "outputs": [],
   "source": [
    "vocab = vectorizer.vocabulary_"
   ]
  },
  {
   "cell_type": "code",
   "execution_count": 101,
   "metadata": {},
   "outputs": [],
   "source": [
    "idfvec = vectorizer.idf_"
   ]
  },
  {
   "cell_type": "code",
   "execution_count": 102,
   "metadata": {},
   "outputs": [
    {
     "data": {
      "text/plain": [
       "20124"
      ]
     },
     "execution_count": 102,
     "metadata": {},
     "output_type": "execute_result"
    }
   ],
   "source": [
    "len(vocab.keys())"
   ]
  },
  {
   "cell_type": "code",
   "execution_count": 103,
   "metadata": {},
   "outputs": [
    {
     "data": {
      "text/plain": [
       "[('bindings', 2312),\n",
       " ('nucleating', 12136),\n",
       " ('bevel', 2260),\n",
       " ('cuff', 4601),\n",
       " ('decoder', 4913)]"
      ]
     },
     "execution_count": 103,
     "metadata": {},
     "output_type": "execute_result"
    }
   ],
   "source": [
    "list(vocab.items())[0:5]"
   ]
  },
  {
   "cell_type": "code",
   "execution_count": 104,
   "metadata": {},
   "outputs": [
    {
     "data": {
      "text/plain": [
       "20124"
      ]
     },
     "execution_count": 104,
     "metadata": {},
     "output_type": "execute_result"
    }
   ],
   "source": [
    "len(idfvec)"
   ]
  },
  {
   "cell_type": "code",
   "execution_count": 105,
   "metadata": {},
   "outputs": [
    {
     "data": {
      "text/plain": [
       "array([ 7.73538405,  4.86370443,  8.14084916,  8.14084916,  8.14084916])"
      ]
     },
     "execution_count": 105,
     "metadata": {},
     "output_type": "execute_result"
    }
   ],
   "source": [
    "idfvec[0:5]"
   ]
  },
  {
   "cell_type": "code",
   "execution_count": null,
   "metadata": {},
   "outputs": [],
   "source": []
  },
  {
   "cell_type": "markdown",
   "metadata": {},
   "source": [
    "### (only once) Save features, vocabulary, idf vector"
   ]
  },
  {
   "cell_type": "code",
   "execution_count": 106,
   "metadata": {},
   "outputs": [],
   "source": [
    "import pickle"
   ]
  },
  {
   "cell_type": "code",
   "execution_count": 107,
   "metadata": {},
   "outputs": [],
   "source": [
    "with open(\"../data/grants_target_tfidf_features.dat\", \"wb\") as f:\n",
    "    pickle.dump(grants_features, f)"
   ]
  },
  {
   "cell_type": "code",
   "execution_count": 108,
   "metadata": {},
   "outputs": [],
   "source": [
    "with open(\"../data/grants_target_vocab_idf_dict.dat\", \"wb\") as f:\n",
    "    pickle.dump({\"vocabulary\": vocab, \"idf\": idfvec}, f)"
   ]
  },
  {
   "cell_type": "code",
   "execution_count": null,
   "metadata": {},
   "outputs": [],
   "source": []
  },
  {
   "cell_type": "markdown",
   "metadata": {},
   "source": [
    "### Load code"
   ]
  },
  {
   "cell_type": "code",
   "execution_count": 46,
   "metadata": {},
   "outputs": [],
   "source": [
    "import pickle"
   ]
  },
  {
   "cell_type": "code",
   "execution_count": 47,
   "metadata": {},
   "outputs": [],
   "source": [
    "with open(\"../data/grants_target_tfidf_features.dat\", 'rb') as f:\n",
    "    grants_features = pickle.load(f)"
   ]
  },
  {
   "cell_type": "code",
   "execution_count": 48,
   "metadata": {},
   "outputs": [],
   "source": [
    "with open(\"../data/grants_target_vocab_idf_dict.dat\", 'rb') as f:\n",
    "    dic = pickle.load(f)\n",
    "    vocab, idfvec = dic[\"vocabulary\"], dic[\"idf\"]"
   ]
  },
  {
   "cell_type": "code",
   "execution_count": null,
   "metadata": {},
   "outputs": [],
   "source": []
  },
  {
   "cell_type": "code",
   "execution_count": null,
   "metadata": {},
   "outputs": [],
   "source": []
  },
  {
   "cell_type": "markdown",
   "metadata": {},
   "source": [
    "### Calculate tf-idf manually using vocabulary and idf vector, and check whether it's coinside."
   ]
  },
  {
   "cell_type": "code",
   "execution_count": 109,
   "metadata": {},
   "outputs": [],
   "source": [
    "from sklearn.feature_extraction.text import CountVectorizer"
   ]
  },
  {
   "cell_type": "code",
   "execution_count": 110,
   "metadata": {},
   "outputs": [],
   "source": [
    "one_claim = grants_target_df.iloc[0][\"claim\"]"
   ]
  },
  {
   "cell_type": "code",
   "execution_count": 111,
   "metadata": {},
   "outputs": [],
   "source": [
    "count_vec = CountVectorizer(vocabulary=vocab, stop_words=\"english\", max_df = 0.5)"
   ]
  },
  {
   "cell_type": "code",
   "execution_count": 112,
   "metadata": {},
   "outputs": [],
   "source": [
    "res = count_vec.fit_transform([one_claim])"
   ]
  },
  {
   "cell_type": "code",
   "execution_count": 113,
   "metadata": {},
   "outputs": [],
   "source": [
    "res_arr = res.toarray()"
   ]
  },
  {
   "cell_type": "code",
   "execution_count": 114,
   "metadata": {},
   "outputs": [
    {
     "data": {
      "text/plain": [
       "(1, 20124)"
      ]
     },
     "execution_count": 114,
     "metadata": {},
     "output_type": "execute_result"
    }
   ],
   "source": [
    "res.shape"
   ]
  },
  {
   "cell_type": "code",
   "execution_count": 115,
   "metadata": {},
   "outputs": [],
   "source": [
    "tf = res_arr[0]"
   ]
  },
  {
   "cell_type": "code",
   "execution_count": null,
   "metadata": {},
   "outputs": [],
   "source": []
  },
  {
   "cell_type": "code",
   "execution_count": 116,
   "metadata": {},
   "outputs": [],
   "source": [
    "answer = grants_features[0, :].toarray()"
   ]
  },
  {
   "cell_type": "code",
   "execution_count": 117,
   "metadata": {},
   "outputs": [],
   "source": [
    "answer = answer[0]"
   ]
  },
  {
   "cell_type": "code",
   "execution_count": 118,
   "metadata": {},
   "outputs": [],
   "source": [
    "def print_nonzero_index(arr, maxcount):\n",
    "    count = 0\n",
    "\n",
    "    for i, v in enumerate(arr):\n",
    "        if v != 0:\n",
    "            count+=1\n",
    "            print(i)\n",
    "            if count > maxcount:\n",
    "                break"
   ]
  },
  {
   "cell_type": "code",
   "execution_count": 119,
   "metadata": {},
   "outputs": [
    {
     "name": "stdout",
     "output_type": "stream",
     "text": [
      "679\n",
      "694\n",
      "838\n",
      "856\n",
      "904\n",
      "997\n"
     ]
    }
   ],
   "source": [
    "print_nonzero_index(answer, 5)"
   ]
  },
  {
   "cell_type": "code",
   "execution_count": 121,
   "metadata": {},
   "outputs": [
    {
     "data": {
      "text/plain": [
       "0.043562029896483084"
      ]
     },
     "execution_count": 121,
     "metadata": {},
     "output_type": "execute_result"
    }
   ],
   "source": [
    "answer[997]"
   ]
  },
  {
   "cell_type": "code",
   "execution_count": 122,
   "metadata": {},
   "outputs": [
    {
     "name": "stdout",
     "output_type": "stream",
     "text": [
      "679\n",
      "694\n",
      "838\n",
      "856\n",
      "904\n",
      "997\n"
     ]
    }
   ],
   "source": [
    "print_nonzero_index(tf, 5)"
   ]
  },
  {
   "cell_type": "code",
   "execution_count": 123,
   "metadata": {},
   "outputs": [],
   "source": [
    "sumtf = sum(tf)"
   ]
  },
  {
   "cell_type": "code",
   "execution_count": 124,
   "metadata": {},
   "outputs": [],
   "source": [
    "unnormalized = [tf[i]*idfvec[i]/sumtf for i, _ in enumerate(tf)]"
   ]
  },
  {
   "cell_type": "code",
   "execution_count": 126,
   "metadata": {},
   "outputs": [
    {
     "data": {
      "text/plain": [
       "0.043562029896483077"
      ]
     },
     "execution_count": 126,
     "metadata": {},
     "output_type": "execute_result"
    }
   ],
   "source": [
    "unnormalized[997]/np.linalg.norm(unnormalized)"
   ]
  },
  {
   "cell_type": "code",
   "execution_count": null,
   "metadata": {},
   "outputs": [],
   "source": []
  },
  {
   "cell_type": "markdown",
   "metadata": {},
   "source": [
    "Try two claim for generarization"
   ]
  },
  {
   "cell_type": "code",
   "execution_count": 127,
   "metadata": {},
   "outputs": [],
   "source": [
    "tfcsr = count_vec.fit_transform(grants_target_df.iloc[0:2][\"claim\"])"
   ]
  },
  {
   "cell_type": "code",
   "execution_count": 128,
   "metadata": {},
   "outputs": [],
   "source": [
    "tf = tfcsr.toarray()"
   ]
  },
  {
   "cell_type": "code",
   "execution_count": 129,
   "metadata": {},
   "outputs": [
    {
     "data": {
      "text/plain": [
       "(2, 20124)"
      ]
     },
     "execution_count": 129,
     "metadata": {},
     "output_type": "execute_result"
    }
   ],
   "source": [
    "tf.shape"
   ]
  },
  {
   "cell_type": "code",
   "execution_count": 130,
   "metadata": {},
   "outputs": [],
   "source": [
    "unnormalized = np.multiply(tf, idfvec)"
   ]
  },
  {
   "cell_type": "code",
   "execution_count": 131,
   "metadata": {},
   "outputs": [],
   "source": [
    "lpnorms = np.linalg.norm(unnormalized, axis=1)"
   ]
  },
  {
   "cell_type": "code",
   "execution_count": 132,
   "metadata": {},
   "outputs": [],
   "source": [
    "manual_tfidf = unnormalized/lpnorms[:, np.newaxis]"
   ]
  },
  {
   "cell_type": "code",
   "execution_count": 133,
   "metadata": {},
   "outputs": [
    {
     "data": {
      "text/plain": [
       "0.04356202989648307"
      ]
     },
     "execution_count": 133,
     "metadata": {},
     "output_type": "execute_result"
    }
   ],
   "source": [
    "manual_tfidf[0, 997]"
   ]
  },
  {
   "cell_type": "code",
   "execution_count": 134,
   "metadata": {},
   "outputs": [
    {
     "data": {
      "text/plain": [
       "True"
      ]
     },
     "execution_count": 134,
     "metadata": {},
     "output_type": "execute_result"
    }
   ],
   "source": [
    "all(abs(manual_tfidf[0, :] - grants_features[0].toarray()[0]) < 0.00001)"
   ]
  },
  {
   "cell_type": "code",
   "execution_count": 135,
   "metadata": {},
   "outputs": [
    {
     "data": {
      "text/plain": [
       "True"
      ]
     },
     "execution_count": 135,
     "metadata": {},
     "output_type": "execute_result"
    }
   ],
   "source": [
    "all(abs(manual_tfidf[1] - grants_features[1].toarray()[0]) < 0.00001)"
   ]
  },
  {
   "cell_type": "code",
   "execution_count": null,
   "metadata": {},
   "outputs": [],
   "source": []
  },
  {
   "cell_type": "code",
   "execution_count": null,
   "metadata": {},
   "outputs": [],
   "source": []
  },
  {
   "cell_type": "markdown",
   "metadata": {},
   "source": [
    "Now make calculate tf-idf function"
   ]
  },
  {
   "cell_type": "code",
   "execution_count": 136,
   "metadata": {},
   "outputs": [],
   "source": [
    "def claims_to_tfidfs(claimarr, count_vec, idfvec):\n",
    "    tfcsr = count_vec.fit_transform(claimarr)\n",
    "    tf = tfcsr.toarray()\n",
    "    unnormalized = np.multiply(tf, idfvec)\n",
    "    lpnorms = np.linalg.norm(unnormalized, axis=1)\n",
    "    return unnormalized/lpnorms[:, np.newaxis]"
   ]
  },
  {
   "cell_type": "code",
   "execution_count": 137,
   "metadata": {},
   "outputs": [],
   "source": [
    "manu3 = claims_to_tfidfs(grants_target_df.iloc[0:2][\"claim\"], count_vec, idfvec)"
   ]
  },
  {
   "cell_type": "code",
   "execution_count": 138,
   "metadata": {},
   "outputs": [
    {
     "data": {
      "text/plain": [
       "(True, True)"
      ]
     },
     "execution_count": 138,
     "metadata": {},
     "output_type": "execute_result"
    }
   ],
   "source": [
    "all(manu3[0] == manual_tfidf[0]), all(manu3[1] == manual_tfidf[1])"
   ]
  },
  {
   "cell_type": "code",
   "execution_count": null,
   "metadata": {},
   "outputs": [],
   "source": []
  },
  {
   "cell_type": "markdown",
   "metadata": {},
   "source": [
    "### It's time to calculate tfidf for training set."
   ]
  },
  {
   "cell_type": "code",
   "execution_count": null,
   "metadata": {},
   "outputs": [],
   "source": []
  },
  {
   "cell_type": "code",
   "execution_count": 139,
   "metadata": {},
   "outputs": [],
   "source": [
    "training_app_df[\"claim\"] = training_app_df[\"xml\"].map(whole_xml_to_claim)"
   ]
  },
  {
   "cell_type": "code",
   "execution_count": 140,
   "metadata": {},
   "outputs": [],
   "source": [
    "training_features = claims_to_tfidfs(training_app_df[\"claim\"], count_vec, idfvec)"
   ]
  },
  {
   "cell_type": "code",
   "execution_count": null,
   "metadata": {},
   "outputs": [],
   "source": []
  },
  {
   "cell_type": "markdown",
   "metadata": {},
   "source": [
    "Calculate one cosine distance"
   ]
  },
  {
   "cell_type": "code",
   "execution_count": 141,
   "metadata": {},
   "outputs": [],
   "source": [
    "one_appid = training_app_df.iloc[0].app_id"
   ]
  },
  {
   "cell_type": "code",
   "execution_count": 142,
   "metadata": {},
   "outputs": [
    {
     "data": {
      "text/html": [
       "<div>\n",
       "<style scoped>\n",
       "    .dataframe tbody tr th:only-of-type {\n",
       "        vertical-align: middle;\n",
       "    }\n",
       "\n",
       "    .dataframe tbody tr th {\n",
       "        vertical-align: top;\n",
       "    }\n",
       "\n",
       "    .dataframe thead th {\n",
       "        text-align: right;\n",
       "    }\n",
       "</style>\n",
       "<table border=\"1\" class=\"dataframe\">\n",
       "  <thead>\n",
       "    <tr style=\"text-align: right;\">\n",
       "      <th></th>\n",
       "      <th>app_id</th>\n",
       "      <th>app_fnm</th>\n",
       "      <th>citation_pat_pgpub_id</th>\n",
       "      <th>parsed</th>\n",
       "      <th>ifw_number</th>\n",
       "      <th>action_type</th>\n",
       "      <th>action_subtype</th>\n",
       "      <th>form892</th>\n",
       "      <th>form1449</th>\n",
       "      <th>citation_in_oa</th>\n",
       "      <th>...</th>\n",
       "      <th>rejection_103</th>\n",
       "      <th>rejection_112</th>\n",
       "      <th>rejection_dp</th>\n",
       "      <th>objection</th>\n",
       "      <th>allowed_claims</th>\n",
       "      <th>cite102_gt1</th>\n",
       "      <th>cite103_gt3</th>\n",
       "      <th>cite103_eq1</th>\n",
       "      <th>cite103_max</th>\n",
       "      <th>signature_type</th>\n",
       "    </tr>\n",
       "  </thead>\n",
       "  <tbody>\n",
       "    <tr>\n",
       "      <th>1635</th>\n",
       "      <td>14222691</td>\n",
       "      <td>/work/data/apps/2014/ipa140925/F_4331.xml</td>\n",
       "      <td>8179692</td>\n",
       "      <td>8179692</td>\n",
       "      <td>I9X14IR6PXXIFW4</td>\n",
       "      <td>102.0</td>\n",
       "      <td>a</td>\n",
       "      <td>1</td>\n",
       "      <td>0</td>\n",
       "      <td>1</td>\n",
       "      <td>...</td>\n",
       "      <td>1</td>\n",
       "      <td>0</td>\n",
       "      <td>0</td>\n",
       "      <td>1</td>\n",
       "      <td>0</td>\n",
       "      <td>0</td>\n",
       "      <td>0</td>\n",
       "      <td>0</td>\n",
       "      <td>3</td>\n",
       "      <td>0</td>\n",
       "    </tr>\n",
       "    <tr>\n",
       "      <th>1636</th>\n",
       "      <td>14222691</td>\n",
       "      <td>/work/data/apps/2014/ipa140925/F_4331.xml</td>\n",
       "      <td>8179692</td>\n",
       "      <td>8179692</td>\n",
       "      <td>I9X14IR6PXXIFW4</td>\n",
       "      <td>103.0</td>\n",
       "      <td>NaN</td>\n",
       "      <td>1</td>\n",
       "      <td>0</td>\n",
       "      <td>1</td>\n",
       "      <td>...</td>\n",
       "      <td>1</td>\n",
       "      <td>0</td>\n",
       "      <td>0</td>\n",
       "      <td>1</td>\n",
       "      <td>0</td>\n",
       "      <td>0</td>\n",
       "      <td>0</td>\n",
       "      <td>0</td>\n",
       "      <td>3</td>\n",
       "      <td>0</td>\n",
       "    </tr>\n",
       "    <tr>\n",
       "      <th>1637</th>\n",
       "      <td>14222691</td>\n",
       "      <td>/work/data/apps/2014/ipa140925/F_4331.xml</td>\n",
       "      <td>8206188</td>\n",
       "      <td>8206188</td>\n",
       "      <td>I9X14IR6PXXIFW4</td>\n",
       "      <td>102.0</td>\n",
       "      <td>a</td>\n",
       "      <td>1</td>\n",
       "      <td>0</td>\n",
       "      <td>1</td>\n",
       "      <td>...</td>\n",
       "      <td>1</td>\n",
       "      <td>0</td>\n",
       "      <td>0</td>\n",
       "      <td>1</td>\n",
       "      <td>0</td>\n",
       "      <td>0</td>\n",
       "      <td>0</td>\n",
       "      <td>0</td>\n",
       "      <td>3</td>\n",
       "      <td>0</td>\n",
       "    </tr>\n",
       "    <tr>\n",
       "      <th>1638</th>\n",
       "      <td>14222691</td>\n",
       "      <td>/work/data/apps/2014/ipa140925/F_4331.xml</td>\n",
       "      <td>8206188</td>\n",
       "      <td>8206188</td>\n",
       "      <td>I9X14IR6PXXIFW4</td>\n",
       "      <td>103.0</td>\n",
       "      <td>NaN</td>\n",
       "      <td>1</td>\n",
       "      <td>0</td>\n",
       "      <td>1</td>\n",
       "      <td>...</td>\n",
       "      <td>1</td>\n",
       "      <td>0</td>\n",
       "      <td>0</td>\n",
       "      <td>1</td>\n",
       "      <td>0</td>\n",
       "      <td>0</td>\n",
       "      <td>0</td>\n",
       "      <td>0</td>\n",
       "      <td>3</td>\n",
       "      <td>0</td>\n",
       "    </tr>\n",
       "    <tr>\n",
       "      <th>1639</th>\n",
       "      <td>14222691</td>\n",
       "      <td>/work/data/apps/2014/ipa140925/F_4331.xml</td>\n",
       "      <td>8177561</td>\n",
       "      <td>8177561</td>\n",
       "      <td>I9X14IR6PXXIFW4</td>\n",
       "      <td>103.0</td>\n",
       "      <td>NaN</td>\n",
       "      <td>1</td>\n",
       "      <td>0</td>\n",
       "      <td>1</td>\n",
       "      <td>...</td>\n",
       "      <td>1</td>\n",
       "      <td>0</td>\n",
       "      <td>0</td>\n",
       "      <td>1</td>\n",
       "      <td>0</td>\n",
       "      <td>0</td>\n",
       "      <td>0</td>\n",
       "      <td>0</td>\n",
       "      <td>3</td>\n",
       "      <td>0</td>\n",
       "    </tr>\n",
       "  </tbody>\n",
       "</table>\n",
       "<p>5 rows × 41 columns</p>\n",
       "</div>"
      ],
      "text/plain": [
       "        app_id                                    app_fnm  \\\n",
       "1635  14222691  /work/data/apps/2014/ipa140925/F_4331.xml   \n",
       "1636  14222691  /work/data/apps/2014/ipa140925/F_4331.xml   \n",
       "1637  14222691  /work/data/apps/2014/ipa140925/F_4331.xml   \n",
       "1638  14222691  /work/data/apps/2014/ipa140925/F_4331.xml   \n",
       "1639  14222691  /work/data/apps/2014/ipa140925/F_4331.xml   \n",
       "\n",
       "     citation_pat_pgpub_id   parsed       ifw_number  action_type  \\\n",
       "1635               8179692  8179692  I9X14IR6PXXIFW4        102.0   \n",
       "1636               8179692  8179692  I9X14IR6PXXIFW4        103.0   \n",
       "1637               8206188  8206188  I9X14IR6PXXIFW4        102.0   \n",
       "1638               8206188  8206188  I9X14IR6PXXIFW4        103.0   \n",
       "1639               8177561  8177561  I9X14IR6PXXIFW4        103.0   \n",
       "\n",
       "     action_subtype  form892  form1449  citation_in_oa      ...        \\\n",
       "1635              a        1         0               1      ...         \n",
       "1636            NaN        1         0               1      ...         \n",
       "1637              a        1         0               1      ...         \n",
       "1638            NaN        1         0               1      ...         \n",
       "1639            NaN        1         0               1      ...         \n",
       "\n",
       "     rejection_103  rejection_112  rejection_dp  objection allowed_claims  \\\n",
       "1635             1              0             0          1              0   \n",
       "1636             1              0             0          1              0   \n",
       "1637             1              0             0          1              0   \n",
       "1638             1              0             0          1              0   \n",
       "1639             1              0             0          1              0   \n",
       "\n",
       "     cite102_gt1  cite103_gt3 cite103_eq1  cite103_max signature_type  \n",
       "1635           0            0           0            3              0  \n",
       "1636           0            0           0            3              0  \n",
       "1637           0            0           0            3              0  \n",
       "1638           0            0           0            3              0  \n",
       "1639           0            0           0            3              0  \n",
       "\n",
       "[5 rows x 41 columns]"
      ]
     },
     "execution_count": 142,
     "metadata": {},
     "output_type": "execute_result"
    }
   ],
   "source": [
    "citations_info_target[citations_info_target.app_id == one_appid]"
   ]
  },
  {
   "cell_type": "code",
   "execution_count": 143,
   "metadata": {},
   "outputs": [],
   "source": [
    "answer_patids = set(citations_info_target[citations_info_target.app_id == one_appid].parsed.astype(int))"
   ]
  },
  {
   "cell_type": "code",
   "execution_count": 144,
   "metadata": {},
   "outputs": [
    {
     "data": {
      "text/plain": [
       "{8177561, 8179692, 8206188}"
      ]
     },
     "execution_count": 144,
     "metadata": {},
     "output_type": "execute_result"
    }
   ],
   "source": [
    "answer_patids"
   ]
  },
  {
   "cell_type": "code",
   "execution_count": 146,
   "metadata": {},
   "outputs": [
    {
     "data": {
      "text/plain": [
       "numpy.int64"
      ]
     },
     "execution_count": 146,
     "metadata": {},
     "output_type": "execute_result"
    }
   ],
   "source": [
    "type(grants_target_df.iloc[0].parsed)"
   ]
  },
  {
   "cell_type": "code",
   "execution_count": 147,
   "metadata": {},
   "outputs": [],
   "source": [
    "answer_idxs = grants_target_df[grants_target_df.parsed.isin(answer_patids)].index"
   ]
  },
  {
   "cell_type": "code",
   "execution_count": 148,
   "metadata": {},
   "outputs": [
    {
     "data": {
      "text/plain": [
       "2380"
      ]
     },
     "execution_count": 148,
     "metadata": {},
     "output_type": "execute_result"
    }
   ],
   "source": [
    "answer_idxs[0]"
   ]
  },
  {
   "cell_type": "code",
   "execution_count": 149,
   "metadata": {},
   "outputs": [
    {
     "data": {
      "text/plain": [
       "8177561"
      ]
     },
     "execution_count": 149,
     "metadata": {},
     "output_type": "execute_result"
    }
   ],
   "source": [
    "grants_target_df.iloc[2380].parsed"
   ]
  },
  {
   "cell_type": "code",
   "execution_count": null,
   "metadata": {},
   "outputs": [],
   "source": []
  },
  {
   "cell_type": "code",
   "execution_count": 150,
   "metadata": {},
   "outputs": [],
   "source": [
    "answer_patent_features = grants_features[answer_idxs[0], :].toarray()[0]"
   ]
  },
  {
   "cell_type": "code",
   "execution_count": null,
   "metadata": {},
   "outputs": [],
   "source": []
  },
  {
   "cell_type": "code",
   "execution_count": 151,
   "metadata": {},
   "outputs": [],
   "source": [
    "import scipy"
   ]
  },
  {
   "cell_type": "code",
   "execution_count": 152,
   "metadata": {},
   "outputs": [
    {
     "data": {
      "text/plain": [
       "array([[ 0.67340827]])"
      ]
     },
     "execution_count": 152,
     "metadata": {},
     "output_type": "execute_result"
    }
   ],
   "source": [
    "scipy.spatial.distance.cdist(training_features[0, :][np.newaxis, :], grants_features[answer_idxs[0], :].toarray(), 'cosine')"
   ]
  },
  {
   "cell_type": "code",
   "execution_count": null,
   "metadata": {},
   "outputs": [],
   "source": []
  },
  {
   "cell_type": "code",
   "execution_count": null,
   "metadata": {},
   "outputs": [],
   "source": []
  },
  {
   "cell_type": "markdown",
   "metadata": {},
   "source": [
    "### Calculate 20 cosine distance"
   ]
  },
  {
   "cell_type": "code",
   "execution_count": null,
   "metadata": {},
   "outputs": [],
   "source": []
  },
  {
   "cell_type": "code",
   "execution_count": 153,
   "metadata": {},
   "outputs": [
    {
     "data": {
      "text/html": [
       "<div>\n",
       "<style scoped>\n",
       "    .dataframe tbody tr th:only-of-type {\n",
       "        vertical-align: middle;\n",
       "    }\n",
       "\n",
       "    .dataframe tbody tr th {\n",
       "        vertical-align: top;\n",
       "    }\n",
       "\n",
       "    .dataframe thead th {\n",
       "        text-align: right;\n",
       "    }\n",
       "</style>\n",
       "<table border=\"1\" class=\"dataframe\">\n",
       "  <thead>\n",
       "    <tr style=\"text-align: right;\">\n",
       "      <th></th>\n",
       "      <th>app_id</th>\n",
       "      <th>xml</th>\n",
       "      <th>claim</th>\n",
       "    </tr>\n",
       "  </thead>\n",
       "  <tbody>\n",
       "    <tr>\n",
       "      <th>0</th>\n",
       "      <td>14222691</td>\n",
       "      <td>&lt;us-patent-application lang=\"EN\" dtd-version=\"...</td>\n",
       "      <td>\\n \\n  1 . A terminal comprising:\\n an upper a...</td>\n",
       "    </tr>\n",
       "    <tr>\n",
       "      <th>1</th>\n",
       "      <td>12515852</td>\n",
       "      <td>&lt;us-patent-application lang=\"EN\" dtd-version=\"...</td>\n",
       "      <td>\\n \\n  1 . A method for increasing seed yield ...</td>\n",
       "    </tr>\n",
       "    <tr>\n",
       "      <th>2</th>\n",
       "      <td>12033424</td>\n",
       "      <td>&lt;us-patent-application lang=\"EN\" dtd-version=\"...</td>\n",
       "      <td>\\n \\n  1 . An image forming apparatus, compris...</td>\n",
       "    </tr>\n",
       "    <tr>\n",
       "      <th>3</th>\n",
       "      <td>12402344</td>\n",
       "      <td>&lt;us-patent-application lang=\"EN\" dtd-version=\"...</td>\n",
       "      <td>\\n \\n  1 . A tunable polarization rotator, com...</td>\n",
       "    </tr>\n",
       "    <tr>\n",
       "      <th>4</th>\n",
       "      <td>12155425</td>\n",
       "      <td>&lt;us-patent-application lang=\"EN\" dtd-version=\"...</td>\n",
       "      <td>\\n \\n  1 . An illumination control circuit com...</td>\n",
       "    </tr>\n",
       "  </tbody>\n",
       "</table>\n",
       "</div>"
      ],
      "text/plain": [
       "     app_id                                                xml  \\\n",
       "0  14222691  <us-patent-application lang=\"EN\" dtd-version=\"...   \n",
       "1  12515852  <us-patent-application lang=\"EN\" dtd-version=\"...   \n",
       "2  12033424  <us-patent-application lang=\"EN\" dtd-version=\"...   \n",
       "3  12402344  <us-patent-application lang=\"EN\" dtd-version=\"...   \n",
       "4  12155425  <us-patent-application lang=\"EN\" dtd-version=\"...   \n",
       "\n",
       "                                               claim  \n",
       "0  \\n \\n  1 . A terminal comprising:\\n an upper a...  \n",
       "1  \\n \\n  1 . A method for increasing seed yield ...  \n",
       "2  \\n \\n  1 . An image forming apparatus, compris...  \n",
       "3  \\n \\n  1 . A tunable polarization rotator, com...  \n",
       "4  \\n \\n  1 . An illumination control circuit com...  "
      ]
     },
     "execution_count": 153,
     "metadata": {},
     "output_type": "execute_result"
    }
   ],
   "source": [
    "training_app_df.head()"
   ]
  },
  {
   "cell_type": "code",
   "execution_count": null,
   "metadata": {},
   "outputs": [],
   "source": []
  },
  {
   "cell_type": "code",
   "execution_count": 158,
   "metadata": {},
   "outputs": [
    {
     "data": {
      "text/plain": [
       "1"
      ]
     },
     "execution_count": 158,
     "metadata": {},
     "output_type": "execute_result"
    }
   ],
   "source": [
    "training_app_df[training_app_df.app_id == 12515852].index[0]"
   ]
  },
  {
   "cell_type": "code",
   "execution_count": null,
   "metadata": {},
   "outputs": [],
   "source": []
  },
  {
   "cell_type": "code",
   "execution_count": 161,
   "metadata": {},
   "outputs": [],
   "source": [
    "def calc_cosin_for_one_app(appid):\n",
    "    answer_patids = set(citations_info_target[citations_info_target.app_id == appid].parsed.astype(int))\n",
    "    answer_idxs = grants_target_df[grants_target_df.parsed.isin(answer_patids)].index\n",
    "    answer_patent_features = grants_features[answer_idxs, :].toarray()\n",
    "    training_features_idx = training_app_df[training_app_df.app_id == appid].index[0]\n",
    "    return scipy.spatial.distance.cdist(training_features[training_features_idx, :][np.newaxis, :], answer_patent_features, 'cosine')[0]\n"
   ]
  },
  {
   "cell_type": "code",
   "execution_count": 162,
   "metadata": {},
   "outputs": [
    {
     "data": {
      "text/plain": [
       "array([ 0.4220731])"
      ]
     },
     "execution_count": 162,
     "metadata": {},
     "output_type": "execute_result"
    }
   ],
   "source": [
    "calc_cosin_for_one_app(12515852)"
   ]
  },
  {
   "cell_type": "code",
   "execution_count": 163,
   "metadata": {},
   "outputs": [
    {
     "data": {
      "text/plain": [
       "array([ 0.97559903,  0.89965045,  0.82466478,  0.63398944,  0.68337952])"
      ]
     },
     "execution_count": 163,
     "metadata": {},
     "output_type": "execute_result"
    }
   ],
   "source": [
    "calc_cosin_for_one_app(12402344)"
   ]
  },
  {
   "cell_type": "code",
   "execution_count": 164,
   "metadata": {},
   "outputs": [
    {
     "data": {
      "text/plain": [
       "[array([ 0.67340827,  0.76916371,  0.8174568 ]),\n",
       " array([ 0.4220731]),\n",
       " array([ 0.88221407]),\n",
       " array([ 0.97559903,  0.89965045,  0.82466478,  0.63398944,  0.68337952]),\n",
       " array([ 0.07625181]),\n",
       " array([ 0.92330727,  0.79996471,  0.92896083,  0.91987076]),\n",
       " array([ 0.90553403]),\n",
       " array([ 0.95056575]),\n",
       " array([ 0.70165577]),\n",
       " array([ 0.76213644]),\n",
       " array([ 0.99283104]),\n",
       " array([ 0.63671942]),\n",
       " array([ 0.84019419]),\n",
       " array([ 0.85744319,  0.65621906]),\n",
       " array([ 0.74489745]),\n",
       " array([ 0.39235124,  0.43900574]),\n",
       " array([ 0.58476531]),\n",
       " array([ 0.94180023,  0.97665386]),\n",
       " array([ 0.51579826,  0.67111682]),\n",
       " array([ 0.40108371])]"
      ]
     },
     "execution_count": 164,
     "metadata": {},
     "output_type": "execute_result"
    }
   ],
   "source": [
    "[calc_cosin_for_one_app(appid) for appid in training_app_df[0:20].app_id]"
   ]
  },
  {
   "cell_type": "code",
   "execution_count": 165,
   "metadata": {},
   "outputs": [
    {
     "data": {
      "text/plain": [
       "array([ 0.92330727,  0.79996471,  0.92896083,  0.91987076])"
      ]
     },
     "execution_count": 165,
     "metadata": {},
     "output_type": "execute_result"
    }
   ],
   "source": [
    "calc_cosin_for_one_app(training_app_df.iloc[5].app_id)"
   ]
  },
  {
   "cell_type": "code",
   "execution_count": 166,
   "metadata": {},
   "outputs": [
    {
     "data": {
      "text/plain": [
       "True"
      ]
     },
     "execution_count": 166,
     "metadata": {},
     "output_type": "execute_result"
    }
   ],
   "source": [
    "calc_cosin_for_one_app(training_app_df.iloc[5].app_id).mean() < 0.95"
   ]
  },
  {
   "cell_type": "code",
   "execution_count": null,
   "metadata": {},
   "outputs": [],
   "source": []
  },
  {
   "cell_type": "markdown",
   "metadata": {},
   "source": [
    "### Compare with random pair cosdistance"
   ]
  },
  {
   "cell_type": "code",
   "execution_count": 167,
   "metadata": {
    "scrolled": true
   },
   "outputs": [
    {
     "data": {
      "text/plain": [
       "array([[ 0.96073889,  0.96715009,  0.9661195 ,  0.96547838,  0.98200139],\n",
       "       [ 0.9565299 ,  0.94845901,  0.99889384,  0.95047153,  0.97128588],\n",
       "       [ 0.99269734,  0.99249212,  0.99575977,  0.97310476,  0.96170229],\n",
       "       [ 0.99960154,  0.99653818,  0.98222205,  0.99531781,  0.96584516],\n",
       "       [ 0.85252285,  0.82698041,  0.97140084,  0.83295536,  0.90456516]])"
      ]
     },
     "execution_count": 167,
     "metadata": {},
     "output_type": "execute_result"
    }
   ],
   "source": [
    "scipy.spatial.distance.cdist(training_features[0:5, :], grants_features[0:5, :].toarray(), 'cosine')"
   ]
  },
  {
   "cell_type": "code",
   "execution_count": null,
   "metadata": {},
   "outputs": [],
   "source": []
  },
  {
   "cell_type": "code",
   "execution_count": 168,
   "metadata": {},
   "outputs": [],
   "source": [
    "training_features = claims_to_tfidfs(training_app_df[\"claim\"], count_vec, idfvec)"
   ]
  },
  {
   "cell_type": "code",
   "execution_count": null,
   "metadata": {},
   "outputs": [],
   "source": []
  },
  {
   "cell_type": "code",
   "execution_count": 169,
   "metadata": {},
   "outputs": [],
   "source": [
    "grants_features_arr = grants_features.toarray()"
   ]
  },
  {
   "cell_type": "code",
   "execution_count": 170,
   "metadata": {},
   "outputs": [],
   "source": [
    "TFIDF_MODEL_THRESHOLD=0.95\n",
    "# TFIDF_MODEL_THRESHOLD=0.8\n",
    "\n",
    "def predict_tfidf_model(claims):\n",
    "    \"\"\"\n",
    "    return: NxM of boolean. N is len(claims). M is rownum of grants_all_df.\n",
    "            value indicate n claim is cite patent of m row of grants_all_df.\n",
    "    \"\"\"\n",
    "    features = claims_to_tfidfs(claims, count_vec, idfvec)\n",
    "    dists = scipy.spatial.distance.cdist(features, grants_features_arr, 'cosine')\n",
    "    return dists < TFIDF_MODEL_THRESHOLD\n"
   ]
  },
  {
   "cell_type": "code",
   "execution_count": null,
   "metadata": {},
   "outputs": [],
   "source": []
  },
  {
   "cell_type": "code",
   "execution_count": null,
   "metadata": {},
   "outputs": [],
   "source": []
  },
  {
   "cell_type": "markdown",
   "metadata": {},
   "source": [
    "# Below here is manual investigation for bug fix\n",
    "\n",
    "### Calc recall of 100"
   ]
  },
  {
   "cell_type": "code",
   "execution_count": 175,
   "metadata": {},
   "outputs": [],
   "source": [
    "res = predict_tfidf_model(training_app_df[0:100][\"claim\"])"
   ]
  },
  {
   "cell_type": "code",
   "execution_count": 176,
   "metadata": {},
   "outputs": [
    {
     "data": {
      "text/plain": [
       "(100, 2524)"
      ]
     },
     "execution_count": 176,
     "metadata": {},
     "output_type": "execute_result"
    }
   ],
   "source": [
    "res.shape"
   ]
  },
  {
   "cell_type": "code",
   "execution_count": 177,
   "metadata": {},
   "outputs": [],
   "source": [
    "all_pred_of_labeltrue = np.array([], dtype=np.bool)"
   ]
  },
  {
   "cell_type": "code",
   "execution_count": 178,
   "metadata": {},
   "outputs": [],
   "source": [
    "for idx in range(0, 100):\n",
    "    one_appid = training_app_df.iloc[idx].app_id\n",
    "    pred_oneres = res[idx]\n",
    "    label_patids = citations_info_target[citations_info_target.app_id == one_appid].parsed\n",
    "    label_idxs = grants_target_df.parsed[grants_target_df.parsed.isin(label_patids)].index\n",
    "    pred_of_labeltrue = pred_oneres[label_idxs]\n",
    "    all_pred_of_labeltrue = np.concatenate([all_pred_of_labeltrue, pred_of_labeltrue])"
   ]
  },
  {
   "cell_type": "code",
   "execution_count": 179,
   "metadata": {},
   "outputs": [
    {
     "data": {
      "text/plain": [
       "0.8970588235294118"
      ]
     },
     "execution_count": 179,
     "metadata": {},
     "output_type": "execute_result"
    }
   ],
   "source": [
    "sum(all_pred_of_labeltrue)/len(all_pred_of_labeltrue)"
   ]
  },
  {
   "cell_type": "code",
   "execution_count": null,
   "metadata": {},
   "outputs": [],
   "source": []
  },
  {
   "cell_type": "markdown",
   "metadata": {},
   "source": [
    "### Check result by hand (seems correct)"
   ]
  },
  {
   "cell_type": "code",
   "execution_count": 180,
   "metadata": {},
   "outputs": [
    {
     "data": {
      "text/plain": [
       "app_id                                             14222691\n",
       "xml       <us-patent-application lang=\"EN\" dtd-version=\"...\n",
       "claim     \\n \\n  1 . A terminal comprising:\\n an upper a...\n",
       "Name: 0, dtype: object"
      ]
     },
     "execution_count": 180,
     "metadata": {},
     "output_type": "execute_result"
    }
   ],
   "source": [
    "training_app_df.iloc[0]"
   ]
  },
  {
   "cell_type": "code",
   "execution_count": 181,
   "metadata": {},
   "outputs": [],
   "source": [
    "pred_oneres = res[0]"
   ]
  },
  {
   "cell_type": "code",
   "execution_count": 182,
   "metadata": {},
   "outputs": [
    {
     "data": {
      "text/plain": [
       "421"
      ]
     },
     "execution_count": 182,
     "metadata": {},
     "output_type": "execute_result"
    }
   ],
   "source": [
    "pred_oneres.sum()"
   ]
  },
  {
   "cell_type": "code",
   "execution_count": 183,
   "metadata": {},
   "outputs": [
    {
     "data": {
      "text/plain": [
       "1635    8179692\n",
       "1636    8179692\n",
       "1637    8206188\n",
       "1638    8206188\n",
       "1639    8177561\n",
       "Name: parsed, dtype: int64"
      ]
     },
     "execution_count": 183,
     "metadata": {},
     "output_type": "execute_result"
    }
   ],
   "source": [
    "citations_info_target[citations_info_target.app_id == 14222691].parsed"
   ]
  },
  {
   "cell_type": "code",
   "execution_count": 185,
   "metadata": {},
   "outputs": [
    {
     "data": {
      "text/plain": [
       "Int64Index([2381], dtype='int64')"
      ]
     },
     "execution_count": 185,
     "metadata": {},
     "output_type": "execute_result"
    }
   ],
   "source": [
    "grants_target_df.parsed[grants_target_df.parsed == 8179692].index"
   ]
  },
  {
   "cell_type": "code",
   "execution_count": 186,
   "metadata": {},
   "outputs": [
    {
     "data": {
      "text/plain": [
       "True"
      ]
     },
     "execution_count": 186,
     "metadata": {},
     "output_type": "execute_result"
    }
   ],
   "source": [
    "pred_oneres[2381]"
   ]
  },
  {
   "cell_type": "markdown",
   "metadata": {},
   "source": [
    "### Why test set recall is so bad?"
   ]
  },
  {
   "cell_type": "code",
   "execution_count": 187,
   "metadata": {},
   "outputs": [],
   "source": [
    "res = predict_tfidf_model(testset_app_df[\"xml\"].map(whole_xml_to_claim))"
   ]
  },
  {
   "cell_type": "code",
   "execution_count": 188,
   "metadata": {},
   "outputs": [
    {
     "data": {
      "text/plain": [
       "(1000, 2)"
      ]
     },
     "execution_count": 188,
     "metadata": {},
     "output_type": "execute_result"
    }
   ],
   "source": [
    "testset_app_df.shape"
   ]
  },
  {
   "cell_type": "code",
   "execution_count": 189,
   "metadata": {},
   "outputs": [],
   "source": [
    "all_pred_of_labeltrue = np.array([], dtype=np.bool)"
   ]
  },
  {
   "cell_type": "code",
   "execution_count": 190,
   "metadata": {},
   "outputs": [],
   "source": [
    "for idx in range(0, testset_app_df.shape[0]):\n",
    "    one_appid = testset_app_df.iloc[idx].app_id\n",
    "    pred_oneres = res[idx]\n",
    "    label_patids = citations_info_target[citations_info_target.app_id == one_appid].parsed\n",
    "    label_idxs = grants_target_df.parsed[grants_target_df.parsed.isin(label_patids)].index\n",
    "    pred_of_labeltrue = pred_oneres[label_idxs]\n",
    "    all_pred_of_labeltrue = np.concatenate([all_pred_of_labeltrue, pred_of_labeltrue])"
   ]
  },
  {
   "cell_type": "code",
   "execution_count": 191,
   "metadata": {},
   "outputs": [
    {
     "data": {
      "text/plain": [
       "0.095163806552262087"
      ]
     },
     "execution_count": 191,
     "metadata": {},
     "output_type": "execute_result"
    }
   ],
   "source": [
    "sum(all_pred_of_labeltrue)/len(all_pred_of_labeltrue)"
   ]
  },
  {
   "cell_type": "code",
   "execution_count": null,
   "metadata": {},
   "outputs": [],
   "source": []
  },
  {
   "cell_type": "code",
   "execution_count": 196,
   "metadata": {},
   "outputs": [
    {
     "data": {
      "text/plain": [
       "app_id                                             14222691\n",
       "xml       <us-patent-application lang=\"EN\" dtd-version=\"...\n",
       "claim     \\n \\n  1 . A terminal comprising:\\n an upper a...\n",
       "Name: 0, dtype: object"
      ]
     },
     "execution_count": 196,
     "metadata": {},
     "output_type": "execute_result"
    }
   ],
   "source": [
    "training_app_df.iloc[0]"
   ]
  },
  {
   "cell_type": "code",
   "execution_count": 195,
   "metadata": {},
   "outputs": [
    {
     "data": {
      "text/plain": [
       "app_id                                             14222691\n",
       "xml       <us-patent-application lang=\"EN\" dtd-version=\"...\n",
       "Name: 0, dtype: object"
      ]
     },
     "execution_count": 195,
     "metadata": {},
     "output_type": "execute_result"
    }
   ],
   "source": [
    "testset_app_df.iloc[0]"
   ]
  },
  {
   "cell_type": "code",
   "execution_count": 193,
   "metadata": {},
   "outputs": [],
   "source": [
    "pred_oneres = res[0]"
   ]
  },
  {
   "cell_type": "code",
   "execution_count": 194,
   "metadata": {},
   "outputs": [
    {
     "data": {
      "text/plain": [
       "460"
      ]
     },
     "execution_count": 194,
     "metadata": {},
     "output_type": "execute_result"
    }
   ],
   "source": [
    "pred_oneres.sum()"
   ]
  },
  {
   "cell_type": "code",
   "execution_count": 183,
   "metadata": {},
   "outputs": [
    {
     "data": {
      "text/plain": [
       "1635    8179692\n",
       "1636    8179692\n",
       "1637    8206188\n",
       "1638    8206188\n",
       "1639    8177561\n",
       "Name: parsed, dtype: int64"
      ]
     },
     "execution_count": 183,
     "metadata": {},
     "output_type": "execute_result"
    }
   ],
   "source": [
    "citations_info_target[citations_info_target.app_id == 14222691].parsed"
   ]
  },
  {
   "cell_type": "code",
   "execution_count": 185,
   "metadata": {},
   "outputs": [
    {
     "data": {
      "text/plain": [
       "Int64Index([2381], dtype='int64')"
      ]
     },
     "execution_count": 185,
     "metadata": {},
     "output_type": "execute_result"
    }
   ],
   "source": [
    "grants_target_df.parsed[grants_target_df.parsed == 8179692].index"
   ]
  },
  {
   "cell_type": "code",
   "execution_count": 186,
   "metadata": {},
   "outputs": [
    {
     "data": {
      "text/plain": [
       "True"
      ]
     },
     "execution_count": 186,
     "metadata": {},
     "output_type": "execute_result"
    }
   ],
   "source": [
    "pred_oneres[2381]"
   ]
  },
  {
   "cell_type": "code",
   "execution_count": null,
   "metadata": {},
   "outputs": [],
   "source": []
  },
  {
   "cell_type": "code",
   "execution_count": null,
   "metadata": {},
   "outputs": [],
   "source": []
  },
  {
   "cell_type": "markdown",
   "metadata": {},
   "source": [
    "Temp code."
   ]
  },
  {
   "cell_type": "code",
   "execution_count": null,
   "metadata": {},
   "outputs": [],
   "source": []
  },
  {
   "cell_type": "code",
   "execution_count": 3,
   "metadata": {},
   "outputs": [],
   "source": [
    "appsh5  = h5py.File('../data/patent_applications_with_office_actions_2005-2018.h5' , 'r')"
   ]
  },
  {
   "cell_type": "code",
   "execution_count": null,
   "metadata": {},
   "outputs": [],
   "source": []
  },
  {
   "cell_type": "code",
   "execution_count": 21,
   "metadata": {},
   "outputs": [
    {
     "data": {
      "text/plain": [
       "494374"
      ]
     },
     "execution_count": 21,
     "metadata": {},
     "output_type": "execute_result"
    }
   ],
   "source": [
    "len(set(oa_citations.app_id))"
   ]
  },
  {
   "cell_type": "code",
   "execution_count": 22,
   "metadata": {},
   "outputs": [
    {
     "data": {
      "text/plain": [
       "[13631490, 14680067, 13631495, 14680072, 12582922]"
      ]
     },
     "execution_count": 22,
     "metadata": {},
     "output_type": "execute_result"
    }
   ],
   "source": [
    "[appid for appid, _ in  zip(set(oa_citations.app_id), range(5))]"
   ]
  },
  {
   "cell_type": "code",
   "execution_count": 18,
   "metadata": {},
   "outputs": [],
   "source": [
    "oa_citation_app_merged = oa_citations[oa_citations.app_id.isin(appsh5.keys())]"
   ]
  },
  {
   "cell_type": "code",
   "execution_count": 20,
   "metadata": {},
   "outputs": [
    {
     "data": {
      "text/html": [
       "<div>\n",
       "<style scoped>\n",
       "    .dataframe tbody tr th:only-of-type {\n",
       "        vertical-align: middle;\n",
       "    }\n",
       "\n",
       "    .dataframe tbody tr th {\n",
       "        vertical-align: top;\n",
       "    }\n",
       "\n",
       "    .dataframe thead th {\n",
       "        text-align: right;\n",
       "    }\n",
       "</style>\n",
       "<table border=\"1\" class=\"dataframe\">\n",
       "  <thead>\n",
       "    <tr style=\"text-align: right;\">\n",
       "      <th></th>\n",
       "      <th>app_id</th>\n",
       "      <th>app_fnm</th>\n",
       "      <th>citation_pat_pgpub_id</th>\n",
       "      <th>parsed</th>\n",
       "      <th>ifw_number</th>\n",
       "      <th>action_type</th>\n",
       "      <th>action_subtype</th>\n",
       "      <th>form892</th>\n",
       "      <th>form1449</th>\n",
       "      <th>citation_in_oa</th>\n",
       "      <th>...</th>\n",
       "      <th>rejection_103</th>\n",
       "      <th>rejection_112</th>\n",
       "      <th>rejection_dp</th>\n",
       "      <th>objection</th>\n",
       "      <th>allowed_claims</th>\n",
       "      <th>cite102_gt1</th>\n",
       "      <th>cite103_gt3</th>\n",
       "      <th>cite103_eq1</th>\n",
       "      <th>cite103_max</th>\n",
       "      <th>signature_type</th>\n",
       "    </tr>\n",
       "  </thead>\n",
       "  <tbody>\n",
       "    <tr>\n",
       "      <th>0</th>\n",
       "      <td>13910109</td>\n",
       "      <td>/work/data/apps/2014/ipa141204/F_1142.xml</td>\n",
       "      <td>7968444</td>\n",
       "      <td>7968444</td>\n",
       "      <td>IAFGKOGCPXXIFW4</td>\n",
       "      <td>103.0</td>\n",
       "      <td>NaN</td>\n",
       "      <td>1</td>\n",
       "      <td>1</td>\n",
       "      <td>1</td>\n",
       "      <td>...</td>\n",
       "      <td>1</td>\n",
       "      <td>0</td>\n",
       "      <td>0</td>\n",
       "      <td>1</td>\n",
       "      <td>0</td>\n",
       "      <td>0</td>\n",
       "      <td>0</td>\n",
       "      <td>0</td>\n",
       "      <td>2</td>\n",
       "      <td>0</td>\n",
       "    </tr>\n",
       "    <tr>\n",
       "      <th>1</th>\n",
       "      <td>13910109</td>\n",
       "      <td>/work/data/apps/2014/ipa141204/F_1142.xml</td>\n",
       "      <td>7780839</td>\n",
       "      <td>7780839</td>\n",
       "      <td>IAFGKOGCPXXIFW4</td>\n",
       "      <td>103.0</td>\n",
       "      <td>NaN</td>\n",
       "      <td>1</td>\n",
       "      <td>1</td>\n",
       "      <td>1</td>\n",
       "      <td>...</td>\n",
       "      <td>1</td>\n",
       "      <td>0</td>\n",
       "      <td>0</td>\n",
       "      <td>1</td>\n",
       "      <td>0</td>\n",
       "      <td>0</td>\n",
       "      <td>0</td>\n",
       "      <td>0</td>\n",
       "      <td>2</td>\n",
       "      <td>0</td>\n",
       "    </tr>\n",
       "    <tr>\n",
       "      <th>2</th>\n",
       "      <td>13910109</td>\n",
       "      <td>/work/data/apps/2014/ipa141204/F_1142.xml</td>\n",
       "      <td>7968444</td>\n",
       "      <td>7968444</td>\n",
       "      <td>IF5G7INKPXXIFW4</td>\n",
       "      <td>103.0</td>\n",
       "      <td>NaN</td>\n",
       "      <td>1</td>\n",
       "      <td>1</td>\n",
       "      <td>1</td>\n",
       "      <td>...</td>\n",
       "      <td>1</td>\n",
       "      <td>0</td>\n",
       "      <td>0</td>\n",
       "      <td>0</td>\n",
       "      <td>0</td>\n",
       "      <td>0</td>\n",
       "      <td>0</td>\n",
       "      <td>0</td>\n",
       "      <td>2</td>\n",
       "      <td>3</td>\n",
       "    </tr>\n",
       "    <tr>\n",
       "      <th>3</th>\n",
       "      <td>13910109</td>\n",
       "      <td>/work/data/apps/2014/ipa141204/F_1142.xml</td>\n",
       "      <td>7780839</td>\n",
       "      <td>7780839</td>\n",
       "      <td>IF5G7INKPXXIFW4</td>\n",
       "      <td>103.0</td>\n",
       "      <td>NaN</td>\n",
       "      <td>1</td>\n",
       "      <td>1</td>\n",
       "      <td>1</td>\n",
       "      <td>...</td>\n",
       "      <td>1</td>\n",
       "      <td>0</td>\n",
       "      <td>0</td>\n",
       "      <td>0</td>\n",
       "      <td>0</td>\n",
       "      <td>0</td>\n",
       "      <td>0</td>\n",
       "      <td>0</td>\n",
       "      <td>2</td>\n",
       "      <td>3</td>\n",
       "    </tr>\n",
       "    <tr>\n",
       "      <th>4</th>\n",
       "      <td>13910109</td>\n",
       "      <td>/work/data/apps/2014/ipa141204/F_1142.xml</td>\n",
       "      <td>7968444</td>\n",
       "      <td>7968444</td>\n",
       "      <td>IMNIOWMYPXXIFW4</td>\n",
       "      <td>103.0</td>\n",
       "      <td>NaN</td>\n",
       "      <td>1</td>\n",
       "      <td>1</td>\n",
       "      <td>1</td>\n",
       "      <td>...</td>\n",
       "      <td>1</td>\n",
       "      <td>0</td>\n",
       "      <td>0</td>\n",
       "      <td>0</td>\n",
       "      <td>0</td>\n",
       "      <td>0</td>\n",
       "      <td>0</td>\n",
       "      <td>0</td>\n",
       "      <td>2</td>\n",
       "      <td>0</td>\n",
       "    </tr>\n",
       "  </tbody>\n",
       "</table>\n",
       "<p>5 rows × 41 columns</p>\n",
       "</div>"
      ],
      "text/plain": [
       "     app_id                                    app_fnm citation_pat_pgpub_id  \\\n",
       "0  13910109  /work/data/apps/2014/ipa141204/F_1142.xml               7968444   \n",
       "1  13910109  /work/data/apps/2014/ipa141204/F_1142.xml               7780839   \n",
       "2  13910109  /work/data/apps/2014/ipa141204/F_1142.xml               7968444   \n",
       "3  13910109  /work/data/apps/2014/ipa141204/F_1142.xml               7780839   \n",
       "4  13910109  /work/data/apps/2014/ipa141204/F_1142.xml               7968444   \n",
       "\n",
       "    parsed       ifw_number  action_type action_subtype  form892  form1449  \\\n",
       "0  7968444  IAFGKOGCPXXIFW4        103.0            NaN        1         1   \n",
       "1  7780839  IAFGKOGCPXXIFW4        103.0            NaN        1         1   \n",
       "2  7968444  IF5G7INKPXXIFW4        103.0            NaN        1         1   \n",
       "3  7780839  IF5G7INKPXXIFW4        103.0            NaN        1         1   \n",
       "4  7968444  IMNIOWMYPXXIFW4        103.0            NaN        1         1   \n",
       "\n",
       "   citation_in_oa      ...       rejection_103  rejection_112  rejection_dp  \\\n",
       "0               1      ...                   1              0             0   \n",
       "1               1      ...                   1              0             0   \n",
       "2               1      ...                   1              0             0   \n",
       "3               1      ...                   1              0             0   \n",
       "4               1      ...                   1              0             0   \n",
       "\n",
       "   objection allowed_claims cite102_gt1  cite103_gt3 cite103_eq1  cite103_max  \\\n",
       "0          1              0           0            0           0            2   \n",
       "1          1              0           0            0           0            2   \n",
       "2          0              0           0            0           0            2   \n",
       "3          0              0           0            0           0            2   \n",
       "4          0              0           0            0           0            2   \n",
       "\n",
       "  signature_type  \n",
       "0              0  \n",
       "1              0  \n",
       "2              3  \n",
       "3              3  \n",
       "4              0  \n",
       "\n",
       "[5 rows x 41 columns]"
      ]
     },
     "execution_count": 20,
     "metadata": {},
     "output_type": "execute_result"
    }
   ],
   "source": [
    "oa_citation_app_merged.head()"
   ]
  },
  {
   "cell_type": "code",
   "execution_count": null,
   "metadata": {},
   "outputs": [],
   "source": []
  },
  {
   "cell_type": "code",
   "execution_count": null,
   "metadata": {},
   "outputs": [],
   "source": []
  },
  {
   "cell_type": "code",
   "execution_count": 14,
   "metadata": {},
   "outputs": [],
   "source": [
    "app_key_list = set(appsh5.keys())"
   ]
  },
  {
   "cell_type": "code",
   "execution_count": 15,
   "metadata": {},
   "outputs": [
    {
     "data": {
      "text/plain": [
       "494374"
      ]
     },
     "execution_count": 15,
     "metadata": {},
     "output_type": "execute_result"
    }
   ],
   "source": [
    "len(app_key_list)"
   ]
  },
  {
   "cell_type": "code",
   "execution_count": 25,
   "metadata": {},
   "outputs": [
    {
     "name": "stdout",
     "output_type": "stream",
     "text": [
      "../data/patent_grants_with_office_actions_2005-2012.h5\r\n",
      "../data/patent_grants_with_office_actions_2005-2012.zip\r\n"
     ]
    }
   ],
   "source": [
    "!ls ../data/patent_grants_with_office_actions*"
   ]
  },
  {
   "cell_type": "code",
   "execution_count": 27,
   "metadata": {},
   "outputs": [],
   "source": [
    "appsh5.close()"
   ]
  },
  {
   "cell_type": "code",
   "execution_count": null,
   "metadata": {},
   "outputs": [],
   "source": []
  },
  {
   "cell_type": "code",
   "execution_count": null,
   "metadata": {},
   "outputs": [],
   "source": []
  },
  {
   "cell_type": "code",
   "execution_count": null,
   "metadata": {},
   "outputs": [],
   "source": []
  },
  {
   "cell_type": "code",
   "execution_count": null,
   "metadata": {},
   "outputs": [],
   "source": []
  },
  {
   "cell_type": "code",
   "execution_count": 7,
   "metadata": {},
   "outputs": [],
   "source": [
    "import itertools"
   ]
  },
  {
   "cell_type": "code",
   "execution_count": null,
   "metadata": {},
   "outputs": [],
   "source": [
    "list(itertools.islice(appsh5.keys(), 5))"
   ]
  },
  {
   "cell_type": "code",
   "execution_count": null,
   "metadata": {},
   "outputs": [],
   "source": []
  },
  {
   "cell_type": "code",
   "execution_count": 4,
   "metadata": {},
   "outputs": [
    {
     "name": "stdout",
     "output_type": "stream",
     "text": [
      "CPU times: user 0 ns, sys: 0 ns, total: 0 ns\n",
      "Wall time: 19.6 µs\n"
     ]
    }
   ],
   "source": [
    "%%time\n",
    "tmp = appsh5.keys()"
   ]
  },
  {
   "cell_type": "code",
   "execution_count": 5,
   "metadata": {},
   "outputs": [
    {
     "data": {
      "text/plain": [
       "collections.abc.KeysView"
      ]
     },
     "execution_count": 5,
     "metadata": {},
     "output_type": "execute_result"
    }
   ],
   "source": [
    "type(tmp)"
   ]
  },
  {
   "cell_type": "code",
   "execution_count": 9,
   "metadata": {},
   "outputs": [],
   "source": [
    "tmpiter = iter(tmp)"
   ]
  },
  {
   "cell_type": "code",
   "execution_count": 8,
   "metadata": {},
   "outputs": [
    {
     "name": "stdout",
     "output_type": "stream",
     "text": [
      "CPU times: user 2.6 s, sys: 4.86 s, total: 7.46 s\n",
      "Wall time: 9min 36s\n"
     ]
    },
    {
     "data": {
      "text/plain": [
       "['12000001', '12000015', '12000025', '12000026', '12000028']"
      ]
     },
     "execution_count": 8,
     "metadata": {},
     "output_type": "execute_result"
    }
   ],
   "source": [
    "%%time\n",
    "\n",
    "[next(tmpiter) for _ in range(5)]"
   ]
  },
  {
   "cell_type": "code",
   "execution_count": null,
   "metadata": {},
   "outputs": [],
   "source": []
  },
  {
   "cell_type": "code",
   "execution_count": null,
   "metadata": {},
   "outputs": [],
   "source": []
  },
  {
   "cell_type": "code",
   "execution_count": 14,
   "metadata": {},
   "outputs": [],
   "source": [
    "a_group_key = list(appsh5.keys())"
   ]
  },
  {
   "cell_type": "code",
   "execution_count": 15,
   "metadata": {},
   "outputs": [
    {
     "data": {
      "text/plain": [
       "494374"
      ]
     },
     "execution_count": 15,
     "metadata": {},
     "output_type": "execute_result"
    }
   ],
   "source": [
    "len(a_group_key)"
   ]
  },
  {
   "cell_type": "code",
   "execution_count": null,
   "metadata": {},
   "outputs": [],
   "source": []
  },
  {
   "cell_type": "code",
   "execution_count": null,
   "metadata": {},
   "outputs": [],
   "source": []
  },
  {
   "cell_type": "code",
   "execution_count": null,
   "metadata": {},
   "outputs": [],
   "source": [
    "#print(\"Keys: %s\" % f.keys())\n",
    "a_group_key = list(f.keys())\n",
    "zfile = "
   ]
  },
  {
   "cell_type": "code",
   "execution_count": null,
   "metadata": {},
   "outputs": [],
   "source": []
  },
  {
   "cell_type": "code",
   "execution_count": null,
   "metadata": {},
   "outputs": [],
   "source": []
  },
  {
   "cell_type": "code",
   "execution_count": null,
   "metadata": {},
   "outputs": [],
   "source": []
  },
  {
   "cell_type": "code",
   "execution_count": null,
   "metadata": {},
   "outputs": [],
   "source": []
  },
  {
   "cell_type": "code",
   "execution_count": null,
   "metadata": {},
   "outputs": [],
   "source": []
  },
  {
   "cell_type": "code",
   "execution_count": 2,
   "metadata": {},
   "outputs": [],
   "source": [
    "grants_all_df = pd.read_pickle(\"../data/grants_2012_from2017_xmldf.dat\")"
   ]
  },
  {
   "cell_type": "code",
   "execution_count": 3,
   "metadata": {},
   "outputs": [],
   "source": [
    "app_all_df = pd.read_pickle(\"../data/app_2017_by2012_xmldf.dat\")"
   ]
  },
  {
   "cell_type": "code",
   "execution_count": null,
   "metadata": {},
   "outputs": [],
   "source": []
  },
  {
   "cell_type": "code",
   "execution_count": null,
   "metadata": {},
   "outputs": [],
   "source": []
  },
  {
   "cell_type": "code",
   "execution_count": 29,
   "metadata": {},
   "outputs": [
    {
     "data": {
      "text/plain": [
       "[14222691, 12515852, 12033424, 12402344, 12155425]"
      ]
     },
     "execution_count": 29,
     "metadata": {},
     "output_type": "execute_result"
    }
   ],
   "source": [
    "training_id[0:5]"
   ]
  },
  {
   "cell_type": "code",
   "execution_count": 23,
   "metadata": {},
   "outputs": [
    {
     "name": "stdout",
     "output_type": "stream",
     "text": [
      "CPU times: user 872 ms, sys: 1.19 s, total: 2.06 s\n",
      "Wall time: 2min 2s\n"
     ]
    },
    {
     "data": {
      "text/plain": [
       "['12000001', '12000015', '12000025', '12000026', '12000028']"
      ]
     },
     "execution_count": 23,
     "metadata": {},
     "output_type": "execute_result"
    }
   ],
   "source": [
    "%%time\n",
    "[key for key, _ in zip(appsh5.keys(), range(5))]"
   ]
  },
  {
   "cell_type": "code",
   "execution_count": null,
   "metadata": {},
   "outputs": [],
   "source": []
  },
  {
   "cell_type": "code",
   "execution_count": 32,
   "metadata": {},
   "outputs": [
    {
     "data": {
      "text/plain": [
       "'<us-patent-application lang=\"EN\" dtd-version=\"v4.2 2006-08-23\" file=\"US20080140920A1-20080612.XML\" status=\"PRODUCTION\" id=\"us-patent-application\" country=\"US\" date-produced=\"20080530\" date-publ=\"20080612\">\\n<us-bibliographic-data-application lang=\"EN\" country=\"US\">\\n<publication-reference>\\n<document-id>\\n<country>US</country>\\n<doc-number>20080140920</doc-number>\\n<kind>A1</kind>\\n<date>20080612</date>\\n</document-id>\\n</publication-reference>\\n<application-reference appl-type=\"utility\">\\n<document-id>\\n<country>US</country>\\n<doc-number>12000001</doc-number>\\n<date>20071206</date>\\n</document-id>\\n</application-reference>\\n<us-application-series-code>12</us-application-series-code>\\n<priority-claims>\\n<priority-claim sequence=\"01\" kind=\"national\">\\n<country>JP</country>\\n<doc-number>2006-330799</doc-number>\\n<date>20061207</date>\\n</priority-claim>\\n<priority-claim sequence=\"02\" kind=\"national\">\\n<country>JP</country>\\n<doc-number>2007-200839</doc-number>\\n<date>20070801</date>\\n</priority-claim>\\n</priority-claims>\\n<classifications-ipcr>\\n<classification-ipcr>\\n<ipc-version-indicator><date>20060101</date></ipc-version-indicator>\\n<classification-level>A</classification-level>\\n<section>G</section>\\n<class>06</class>\\n<subclass>F</subclass>\\n<main-group>12</main-group>\\n<subgroup>00</subgroup>\\n<symbol-position>F</symbol-position>\\n<classification-value>I</classification-value>\\n<action-date><date>20080612</date></action-date>\\n<generating-office><country>US</country></generating-office>\\n<classification-status>B</classification-status>\\n<classification-data-source>H</classification-data-source>\\n</classification-ipcr>\\n</classifications-ipcr>\\n<classification-national>\\n<country>US</country>\\n<main-classification>711103</main-classification>\\n<further-classification>711E12001</further-classification>\\n</classification-national>\\n<invention-title id=\"d0e79\">Microcomputer for flash memory rewriting</invention-title>\\n<parties>\\n<applicants>\\n<applicant sequence=\"00\" app-type=\"applicant-inventor\" designation=\"us-only\">\\n<addressbook>\\n<last-name>Kamiya</last-name>\\n<first-name>Masahiro</first-name>\\n<address>\\n<city>Nishio-city</city>\\n<country>JP</country>\\n</address>\\n</addressbook>\\n<nationality>\\n<country>omitted</country>\\n</nationality>\\n<residence>\\n<country>JP</country>\\n</residence>\\n</applicant>\\n<applicant sequence=\"01\" app-type=\"applicant-inventor\" designation=\"us-only\">\\n<addressbook>\\n<last-name>Suzuki</last-name>\\n<first-name>Kyouichi</first-name>\\n<address>\\n<city>Toyahashi-city</city>\\n<country>JP</country>\\n</address>\\n</addressbook>\\n<nationality>\\n<country>omitted</country>\\n</nationality>\\n<residence>\\n<country>JP</country>\\n</residence>\\n</applicant>\\n<applicant sequence=\"02\" app-type=\"applicant-inventor\" designation=\"us-only\">\\n<addressbook>\\n<last-name>Itoh</last-name>\\n<first-name>Naoki</first-name>\\n<address>\\n<city>Nagoya-city</city>\\n<country>JP</country>\\n</address>\\n</addressbook>\\n<nationality>\\n<country>omitted</country>\\n</nationality>\\n<residence>\\n<country>JP</country>\\n</residence>\\n</applicant>\\n<applicant sequence=\"03\" app-type=\"applicant-inventor\" designation=\"us-only\">\\n<addressbook>\\n<last-name>Ishihara</last-name>\\n<first-name>Hideaki</first-name>\\n<address>\\n<city>Okazaki-city</city>\\n<country>JP</country>\\n</address>\\n</addressbook>\\n<nationality>\\n<country>omitted</country>\\n</nationality>\\n<residence>\\n<country>JP</country>\\n</residence>\\n</applicant>\\n</applicants>\\n<correspondence-address>\\n<addressbook>\\n<name>POSZ LAW GROUP, PLC</name>\\n<address>\\n<address-1>12040 SOUTH LAKES DRIVE, SUITE 101</address-1>\\n<city>RESTON</city>\\n<state>VA</state>\\n<postcode>20191</postcode>\\n<country>US</country>\\n</address>\\n</addressbook>\\n</correspondence-address>\\n</parties>\\n<assignees>\\n<assignee>\\n<addressbook>\\n<orgname>DENSO CORPORATION</orgname>\\n<role>03</role>\\n<address>\\n<city>Kariya-city</city>\\n<country>JP</country>\\n</address>\\n</addressbook>\\n</assignee>\\n</assignees>\\n</us-bibliographic-data-application>\\n<abstract id=\"abstract\">\\n<p id=\"p-0001\" num=\"0000\">A microcomputer and method are provided capable of restarting a rewrite program without the need for changing a mode using an external terminal when rewriting nonvolatile memory fails. A CPU of a microcomputer executes a rewrite program to clear FLASH status <b>0</b> of flash memory and rewrite all areas in it. The CPU finally writes a rewrite completion code to FLASH status <b>0</b>. The CPU executes a determination program to read FLASH status <b>0</b> of the flash memory. The CPU reads ID status information when read data does not match the rewrite completion code. The CPU re-executes the rewrite program when the data matches ID status information.</p>\\n</abstract>\\n<drawings id=\"DRAWINGS\">\\n<figure id=\"Fig-EMI-D00000\" num=\"00000\">\\n<img id=\"EMI-D00000\" he=\"184.32mm\" wi=\"245.45mm\" file=\"US20080140920A1-20080612-D00000.TIF\"  img-content=\"drawing\" img-format=\"tif\"/>\\n</figure>\\n<figure id=\"Fig-EMI-D00001\" num=\"00001\">\\n<img id=\"EMI-D00001\" he=\"254.93mm\" wi=\"179.92mm\" file=\"US20080140920A1-20080612-D00001.TIF\"  img-content=\"drawing\" img-format=\"tif\"/>\\n</figure>\\n<figure id=\"Fig-EMI-D00002\" num=\"00002\">\\n<img id=\"EMI-D00002\" he=\"253.49mm\" wi=\"191.77mm\" orientation=\"landscape\" file=\"US20080140920A1-20080612-D00002.TIF\"  img-content=\"drawing\" img-format=\"tif\"/>\\n</figure>\\n<figure id=\"Fig-EMI-D00003\" num=\"00003\">\\n<img id=\"EMI-D00003\" he=\"254.00mm\" wi=\"176.19mm\" orientation=\"landscape\" file=\"US20080140920A1-20080612-D00003.TIF\"  img-content=\"drawing\" img-format=\"tif\"/>\\n</figure>\\n<figure id=\"Fig-EMI-D00004\" num=\"00004\">\\n<img id=\"EMI-D00004\" he=\"259.00mm\" wi=\"185.34mm\" orientation=\"landscape\" file=\"US20080140920A1-20080612-D00004.TIF\"  img-content=\"drawing\" img-format=\"tif\"/>\\n</figure>\\n<figure id=\"Fig-EMI-D00005\" num=\"00005\">\\n<img id=\"EMI-D00005\" he=\"266.87mm\" wi=\"138.51mm\" orientation=\"landscape\" file=\"US20080140920A1-20080612-D00005.TIF\"  img-content=\"drawing\" img-format=\"tif\"/>\\n</figure>\\n<figure id=\"Fig-EMI-D00006\" num=\"00006\">\\n<img id=\"EMI-D00006\" he=\"244.35mm\" wi=\"160.61mm\" orientation=\"landscape\" file=\"US20080140920A1-20080612-D00006.TIF\"  img-content=\"drawing\" img-format=\"tif\"/>\\n</figure>\\n<figure id=\"Fig-EMI-D00007\" num=\"00007\">\\n<img id=\"EMI-D00007\" he=\"270.00mm\" wi=\"194.06mm\" orientation=\"landscape\" file=\"US20080140920A1-20080612-D00007.TIF\"  img-content=\"drawing\" img-format=\"tif\"/>\\n</figure>\\n<figure id=\"Fig-EMI-D00008\" num=\"00008\">\\n<img id=\"EMI-D00008\" he=\"259.00mm\" wi=\"185.42mm\" orientation=\"landscape\" file=\"US20080140920A1-20080612-D00008.TIF\"  img-content=\"drawing\" img-format=\"tif\"/>\\n</figure>\\n<figure id=\"Fig-EMI-D00009\" num=\"00009\">\\n<img id=\"EMI-D00009\" he=\"172.13mm\" wi=\"173.48mm\" file=\"US20080140920A1-20080612-D00009.TIF\"  img-content=\"drawing\" img-format=\"tif\"/>\\n</figure>\\n<figure id=\"Fig-EMI-D00010\" num=\"00010\">\\n<img id=\"EMI-D00010\" he=\"251.29mm\" wi=\"188.55mm\" orientation=\"landscape\" file=\"US20080140920A1-20080612-D00010.TIF\"  img-content=\"drawing\" img-format=\"tif\"/>\\n</figure>\\n<figure id=\"Fig-EMI-D00011\" num=\"00011\">\\n<img id=\"EMI-D00011\" he=\"254.93mm\" wi=\"177.55mm\" file=\"US20080140920A1-20080612-D00011.TIF\"  img-content=\"drawing\" img-format=\"tif\"/>\\n</figure>\\n<figure id=\"Fig-EMI-D00012\" num=\"00012\">\\n<img id=\"EMI-D00012\" he=\"172.13mm\" wi=\"172.04mm\" file=\"US20080140920A1-20080612-D00012.TIF\"  img-content=\"drawing\" img-format=\"tif\"/>\\n</figure>\\n</drawings>\\n<description id=\"description\">\\n<?summary-of-invention description=\"Summary of Invention\" end=\"lead\"?>\\n<heading id=\"h-0001\" level=\"1\">CROSS REFERENCE TO RELATED APPLICATIONS</heading>\\n<p id=\"p-0002\" num=\"0001\">The present invention is based on and claims priority to unpublished Japanese Patent Application No. 2006-330799 filed on Dec. 7, 2006 and unpublished Japanese Patent Application No. 2007-200839 filed on Aug. 1, 2007, the contents of each of the identified applications being incorporated herein by reference.</p>\\n<heading id=\"h-0002\" level=\"1\">BACKGROUND OF THE INVENTION</heading>\\n<p id=\"p-0003\" num=\"0002\">1. Field of the Invention</p>\\n<p id=\"p-0004\" num=\"0003\">The present invention relates to an on-board or on-chip microcomputer that can rewrite first nonvolatile rewritable memory for storing a user program.</p>\\n<p id=\"p-0005\" num=\"0004\">2. Description of Background Art</p>\\n<p id=\"p-0006\" num=\"0005\"><figref idref=\"DRAWINGS\">FIG. 12</figref> shows an electronic control unit (ECU) for vehicle control. An ECU <b>1</b> includes a microcomputer <b>3</b> and the other peripheral circuits (not shown) mounted on a substrate <b>2</b>. A control program for the microcomputer <b>3</b> may be stored in rewritable nonvolatile memory such as flash memory <b>4</b> and may be executed by a central processing unit (CPU) <b>5</b>. The control program is rewritten as needed for debugging or upgrading.</p>\\n<p id=\"p-0007\" num=\"0006\">In order to rewrite the flash memory <b>4</b>, the microcomputer <b>3</b> is set to a rewrite mode and is reset. For example, the microcomputer may be configured to be reset externally. The microcomputer <b>3</b> starts a rewrite program stored in ROM <b>6</b> of the microcomputer <b>3</b>. The CPU <b>5</b> writes data transferred from an external rewriting apparatus (not shown). For example, the above described flash memory rewriting procedure is disclosed in Japanese Patent Application No. JP-2000-20178 A1.</p>\\n<p id=\"p-0008\" num=\"0007\">It should be noted that in various circumstances, a rewrite may fail due to a power supply voltage drop that occurs during the process of flash memory rewriting or due to a disconnection of a communication line between the microcomputer and a rewriting apparatus. In such case, resetting the microcomputer can start a rewrite program and can be repeated to retry the rewrite.</p>\\n<p id=\"p-0009\" num=\"0008\">In a typical vehicle control scenario, there is no need for resetting an ECU that is already operating in place, for example, on the vehicle. Further, providing an extra terminal for reset would be redundant and would increase costs. It would be preferable therefore to configure the ECU so as to use only a power-on reset that is already provided.</p>\\n<p id=\"p-0010\" num=\"0009\">However, an ECU already operating in place is continuously supplied with power from a vehicle battery and no power-on reset occurs. Accordingly, the microcomputer can not be changed to a specific operation mode such as &#x201c;rewrite mode.&#x201d; Further, a dedicated terminal for mode change would be undesirable since it would increase costs.</p>\\n<p id=\"p-0011\" num=\"0010\">A configuration without a reset and mode switch capability precludes the ability to start the rewrite program. Thus, when the flash memory rewriting fails, it cannot be retried.</p>\\n<p id=\"p-0012\" num=\"0011\">For example, the ECU may execute a user program, such as an user program, embedded program, software program, or the like as will be appreciated by one of ordinary skill. The user program is stored in the flash memory during normal operation and the ECU can detect that a rewrite instruction is supplied from the external rewriting apparatus. In the above described case, the ECU can start the rewrite program and perform a rewrite of the user program at least once. When the rewrite fails, however, the user program cannot be normally executed thereafter and the CPU of the ECU cannot detect the rewrite instruction. For the above reasons, conventionally external reset and mode switch terminals have been required and therefore it has been difficult to decrease the number of microcomputer terminals.</p>\\n<heading id=\"h-0003\" level=\"1\">SUMMARY OF THE INVENTION</heading>\\n<p id=\"p-0013\" num=\"0012\">The present invention has been made in consideration of the foregoing. It is therefore an object of the invention to provide a microcomputer capable of restarting a rewrite program without the need for changing a mode using an external terminal when a rewriting of a nonvolatile memory fails.</p>\\n<p id=\"p-0014\" num=\"0013\">According to various exemplary embodiments that include, for example, a microcomputer, a CPU executes a rewrite program, clears a rewrite check area of a first memory, rewrites all areas in the memory, and writes a rewrite completion code to the rewrite check area. The CPU executes a determination program to read a rewrite check area of the first memory.</p>\\n<p id=\"p-0015\" num=\"0014\">A match between the data in the check area and the rewrite completion code, normally indicates that the write to the first memory is complete. The CPU then executes a user program. When the data does not match the rewrite completion code, the write to the first memory can be considered unsuccessful, after which the CPU re-executes the rewrite program.</p>\\n<p id=\"p-0016\" num=\"0015\">The CPU can be configured, for example, to first execute the determination program when the power-on reset state of the microcomputer is released. When referencing the rewrite check area, the CPU can determine whether the user program is normally rewritten in the first memory. The CPU can re-execute the user program when the rewrite fails. Accordingly, the microcomputer need not have an external terminal such as a reset terminal or a mode setup terminal so as to retry the rewrite for the first memory. It is thereby possible to miniaturize a package for the microcomputer and reduce costs.</p>\\n<p id=\"p-0017\" num=\"0016\">In accordance with an exemplary embodiment of a microcomputer, the CPU executes the rewrite program and writes the same ID code to two rewrite enable ID areas of the first memory. The CPU executes the determination program and reads first and second rewrite enable ID areas when data read from the rewrite check area does not match the rewrite completion code. The CPU executes the rewrite program when data read from both areas matches the ID code. As mentioned above, a match for the ID code ensures that the program writes to the first memory with a correct access right thereby preventing unauthorized access.</p>\\n<p id=\"p-0018\" num=\"0017\">In accordance with another exemplary embodiment of a microcomputer, the CPU executes the rewrite program and writes the same ID code to first and second rewrite enable ID areas provided for two blocks of the first memory. The CPU executes the determination program and reads the first and second rewrite enable ID areas for the two blocks when data read from the rewrite check area does not match the rewrite completion code. The CPU executes the rewrite program when both read data for one of the blocks match the ID code.</p>\\n<p id=\"p-0019\" num=\"0018\">It should be noted that the two blocks in the first memory are not erased or written simultaneously. When a rewrite to first memory fails, one of the blocks may not be rewritten depending on timing, particularly when the ID code cannot be confirmed. To solve such a problem, the rewrite program writes the same ID code to the two blocks. Checking for a match between each block and the ID code can reliably confirm a match for either block.</p>\\n<p id=\"p-0020\" num=\"0019\">In accordance with still another exemplary embodiment of a microcomputer, the CPU executes a partial rewrite program, clears a partial rewrite check area of the first memory, and rewrites the memory from the beginning position to the end position. The CPU finally writes a partial rewrite completion code to the partial rewrite check area. The CPU executes the determination program and references the flag storage area when data read from the rewrite check area of the first memory matches the rewrite completion code. The CPU reads the partial rewrite check area of the first memory when enabled.</p>\\n<p id=\"p-0021\" num=\"0020\">The CPU executes the user program when read data matches the partial rewrite completion code. The CPU executes the partial rewrite program when the data does not match the partial rewrite completion code. The same effect as claim <b>1</b> is also available even when writing only part of the first memory fails.</p>\\n<p id=\"p-0022\" num=\"0021\">In accordance with still another exemplary embodiment of a microcomputer, the CPU executes the rewrite program, writes the same ID code to first and second rewrite enable ID areas of the first memory, enables or disables a partial write to the flag storage area, and specifies areas for writing the beginning and end positions. The CPU executes the determination program and reads the first and second rewrite enable ID areas when data read from the rewrite check area matches the rewrite completion code. The CPU references the flag storage area when both read data match the ID code. A match for the ID code can be also confirmed when the first memory is partially rewritten.</p>\\n<p id=\"p-0023\" num=\"0022\">In accordance with still another exemplary embodiment of a microcomputer, the rewrite check area as described above can be used as a total rewrite check area. The first memory is assigned with a minimum write unit used to contain an area for storing a flag to enable or disable the partial rewrite and areas for writing beginning and end positions as well as the total rewrite check area as described. The first memory is totally or partially rewritten. The minimum write unit can signify, for example, a minimum size of data written to the first memory during one write cycle and depends on microcomputer design specifications.</p>\\n<p id=\"p-0024\" num=\"0023\">The CPU executes the determination program, reads a total rewrite check area of the first memory, and executes the total rewrite program when read data does not match the total rewrite completion code. The CPU references the flag storage area when the data matches the total rewrite completion code. The CPU reads the partial rewrite check area when enabled. The CPU executes the user program when read data matches the partial rewrite completion code. The CPU executes the partial rewrite program when the data does not match the partial rewrite completion code.</p>\\n<p id=\"p-0025\" num=\"0024\">Information about the partial rewrite to the first memory becomes meaningful after the total rewrite is completed at least once. Since the minimum unit of writing is used for the partial rewrite information and the total rewrite check area, the amount of information can be reduced and can be more effectively used. As a result, execution of the determination program can be completed in a shorter time.</p>\\n<p id=\"p-0026\" num=\"0025\">In accordance with still another exemplary embodiment of a microcomputer, the partial rewrite check area is assigned with a minimum write unit used to contain an area for storing a flag to enable or disable the partial rewrite and areas for writing beginning and end positions for an area to be partially written next. One or more partial rewrite check areas are provided. The partial rewrite can be performed on multiple blocks whose addresses are discontiguous.</p>\\n<p id=\"p-0027\" num=\"0026\">In accordance with still another exemplary embodiment of a microcomputer, the CPU executes the determination program at reset time. When a reset condition is released, the CPU can check whether the first memory is written normally. When a write is incorrect or data is garbled, the CPU can stop the user program to prevent it from executing abnormally.</p>\\n<p id=\"p-0028\" num=\"0027\">In accordance with yet another exemplary embodiment of a microcomputer, the CPU executes the determination program when a low-power consumption mode is released to enable a wake-up state. At the wake-up time, the CPU can check whether the first memory is normally written. When a write is incorrect or data is garbled, the CPU can stop the user program to prevent it from executing abnormally.</p>\\n<?summary-of-invention description=\"Summary of Invention\" end=\"tail\"?>\\n<?brief-description-of-drawings description=\"Brief Description of Drawings\" end=\"lead\"?>\\n<description-of-drawings>\\n<heading id=\"h-0004\" level=\"1\">BRIEF DESCRIPTION OF THE DRAWINGS</heading>\\n<p id=\"p-0029\" num=\"0028\">Other objects, features and characteristics of the present invention will be appreciated and become apparent to those of ordinary skill in the art and all of which form a part of the present application. In the drawings:</p>\\n<p id=\"p-0030\" num=\"0029\"><figref idref=\"DRAWINGS\">FIG. 1</figref> is a flowchart illustrating a flash status determination process according to a first embodiment of the invention;</p>\\n<p id=\"p-0031\" num=\"0030\"><figref idref=\"DRAWINGS\">FIG. 2</figref> is a memory map illustrating the memory contents of a flash memory in accordance with an exemplary embodiment;</p>\\n<p id=\"p-0032\" num=\"0031\"><figref idref=\"DRAWINGS\">FIG. 3</figref> is a functional diagram illustrating an exemplary total rewrite process performed by a rewrite program and corresponding status changes of the flash memory;</p>\\n<p id=\"p-0033\" num=\"0032\"><figref idref=\"DRAWINGS\">FIG. 4</figref> is a functional diagram illustrating an exemplary partial rewrite process performed by a rewrite program and corresponding status changes of the flash memory;</p>\\n<p id=\"p-0034\" num=\"0033\"><figref idref=\"DRAWINGS\">FIG. 5</figref> is a block diagram illustrating an exemplary configuration of a microcomputer in accordance with various embodiments;</p>\\n<p id=\"p-0035\" num=\"0034\"><figref idref=\"DRAWINGS\">FIG. 6</figref> is a memory map illustrating the memory contents of a flash memory in accordance with a second exemplary embodiment of the invention;</p>\\n<p id=\"p-0036\" num=\"0035\"><figref idref=\"DRAWINGS\">FIG. 7</figref> is a functional diagram illustrating an exemplary total rewrite process performed by a rewrite program and associated values in the flash memory;</p>\\n<p id=\"p-0037\" num=\"0036\"><figref idref=\"DRAWINGS\">FIG. 8</figref> is a functional diagram illustrating an exemplary partial rewrite process performed by a rewrite program and associated values of the flash memory including beginning and ending block number;</p>\\n<p id=\"p-0038\" num=\"0037\"><figref idref=\"DRAWINGS\">FIG. 9</figref> is a flowchart illustrating an exemplary flash status determination process according to an alternative embodiment of the invention;</p>\\n<p id=\"p-0039\" num=\"0038\"><figref idref=\"DRAWINGS\">FIG. 10</figref> is a memory map illustrating the memory contents of a flash memory in accordance with a third exemplary embodiment of the invention;</p>\\n<p id=\"p-0040\" num=\"0039\"><figref idref=\"DRAWINGS\">FIG. 11</figref> is a flowchart illustrating an exemplary flash status determination process according to an alternative embodiment of the invention; and</p>\\n<p id=\"p-0041\" num=\"0040\"><figref idref=\"DRAWINGS\">FIG. 12</figref> is a diagram illustrating a conventional ECU with external terminals for a mode signal and a reset signal.</p>\\n</description-of-drawings>\\n<?brief-description-of-drawings description=\"Brief Description of Drawings\" end=\"tail\"?>\\n<?detailed-description description=\"Detailed Description\" end=\"lead\"?>\\n<heading id=\"h-0005\" level=\"1\">DETAILED DESCRIPTION OF THE EXEMPLARY EMBODIMENTS</heading>\\n<p id=\"p-0042\" num=\"0041\">Embodiments of the present invention, including a preferred embodiment, will now be described in further detail with reference to the accompanying drawings.</p>\\n<heading id=\"h-0006\" level=\"1\">First Embodiment</heading>\\n<p id=\"p-0043\" num=\"0042\">A first embodiment of the present invention will be described with reference to <figref idref=\"DRAWINGS\">FIG. 1</figref> through <figref idref=\"DRAWINGS\">FIG. 5</figref>. According to various exemplary embodiments of the invention, the configuration of a microcomputer <b>11</b>, which can be included in an ECU for vehicle control as described herein, includes, for example, a CPU <b>12</b>, a read only memory (ROM) <b>13</b> also referred to herein as a second memory, random access memory (RAM) <b>14</b>, a flash memory <b>15</b> also referred to herein as a first memory, a flash controller <b>16</b>, and a communication circuit <b>17</b>. The above described components are connected to each other via an address bus <b>18</b> and a data bus <b>19</b>. It will be appreciated that flash memory <b>15</b> can include various types of flash memory that are widely available, such as but not limited to NOR gate flash memory, NAND gate flash memory, or the like as would be appreciated by one of ordinary skill in the art.</p>\\n<p id=\"p-0044\" num=\"0043\">The flash memory <b>15</b> stores a user program <b>20</b> that is executed by the CPU <b>12</b> functioning as the ECU. The ROM <b>13</b> stores a rewrite program <b>21</b> and a determination program <b>22</b>. The rewrite program <b>21</b> writes the user program <b>20</b> to the flash memory <b>15</b>. The determination program <b>22</b> determines status of the flash memory <b>15</b> to determine which of the user program <b>20</b> and the rewrite program <b>21</b> is to be executed. When the CPU <b>12</b> accesses the flash memory <b>15</b>, the flash controller <b>16</b> manages blocks or corrects errors in the flash memory <b>15</b>.</p>\\n<p id=\"p-0045\" num=\"0044\">The communication circuit <b>17</b>, for example, can be a universal asynchronous receiver transmitter (UART) that provides a communication interface compliant with various protocols for serial communication and network communication such as may be associated with interior local area networks (LANs) including a controller area network (CAN). The communication circuit <b>17</b> communicates with an external rewriting apparatus <b>23</b> to rewrite the user program <b>20</b>, also referred to herein as an application, in the flash memory <b>15</b>. The rewriting apparatus <b>23</b> transfers rewritten data <b>24</b> that is then written to the RAM <b>14</b>.</p>\\n<p id=\"p-0046\" num=\"0045\">It is assumed that a ROM writer or the like can be used to initially write the user program <b>20</b> to the flash memory <b>15</b> in advance. Alternatively, the flash memory <b>15</b> can also be initially written by branching to the rewrite program <b>21</b> instead of the user program <b>20</b> when a determination at S<b>6</b> results in NO as shown for example in <figref idref=\"DRAWINGS\">FIG. 1</figref> of the drawings, and which will be described in greater detail hereinafter.</p>\\n<p id=\"p-0047\" num=\"0046\">As shown in <figref idref=\"DRAWINGS\">FIG. 2</figref>, the flash memory <b>15</b> is divided into blocks <b>0</b> through n, with each block having a size of, for example, 64 kilobytes. As will be appreciated, the rewrite process is performed on a block basis. <figref idref=\"DRAWINGS\">FIG. 3</figref> shows a total rewrite process performed by the rewrite program <b>21</b> and status changes of the flash memory <b>15</b> corresponding to the rewrite process.</p>\\n<p id=\"p-0048\" num=\"0047\">Referring again to <figref idref=\"DRAWINGS\">FIG. 2</figref>, beginning block <b>0</b> contains, for example, in a rewrite check area, a FLASH status <b>0</b> area, which is referred to hereinafter as FLASH status <b>0</b>, and ID area <b>2</b>. A certain value can be written to FLASH status <b>0</b> indicating total rewrite completion. End block n contains ID area <b>1</b>. Block <b>6</b> is defined as a beginning block for partial rewrite, for example. Block <b>6</b> contains a FLASH status <b>1</b> area, which is referred to hereinafter as FLASH status <b>1</b>, and which can be located for example, in a partial rewrite check area, with a certain value written therein indicating partial rewrite completion. It will be appreciated that the term FLASH status area <b>0</b>, <b>1</b> and the like, reference is made to an area, typically 16 Bytes in length total in length that can be located in any suitable place within the flash memory <b>15</b>, such as at a 16 Byte boundary or the like. Accordingly, for example, FLASH status area <b>0</b> need not be located at the first block of the flash memory <b>15</b> although it could be so located.</p>\\n<p id=\"p-0049\" num=\"0048\">When other information is present in the FLASH status area, such as rewrite enable flags and the like, the effective size of the FLASH status completion code portion, that is, the area where the certain value indicating completion will be written, as will be described in greater detail hereinafter, will be reduced. Accordingly, the length of the FLASH status area plus any rewrite enable flags or additional information will not exceed or be less than, for example, a minimum write unit size.</p>\\n<p id=\"p-0050\" num=\"0049\">A given hexadecimal data value such as <b>55</b>AA . . . <b>55</b>AAH is written to FLASH status <b>0</b> when the total rewrite process is complete. Similarly, for example, <b>55</b>AA . . . <b>55</b>AAH is written to FLASH status <b>1</b> when partial rewrite process is complete. The same data can be written to the ID areas <b>1</b> and <b>2</b>, which areas are used for verification to be described in greater detail hereinafter.</p>\\n<p id=\"p-0051\" num=\"0050\">ID areas <b>1</b> and <b>2</b> store IDs and passwords for permitting the flash memory <b>15</b> to be rewritten. Prior to rewriting, an authentication can be performed using the ID identifying, for example, the user program and a password indicating that the rewrite is authorized. The beginning and the end of the area contains the same ID codes or ID status values <b>1</b> and <b>2</b>. The ID area further contains a flag storage area for storing a flag indicating enabling or disabling partial rewrite, and areas to store starting and end block numbers for partial rewrite, a program ID, and a password.</p>\\n<p id=\"p-0052\" num=\"0051\">(Total Rewrite Process)</p>\\n<p id=\"p-0053\" num=\"0052\">During the total rewrite process shown, for example, in <figref idref=\"DRAWINGS\">FIG. 3</figref>, the CPU <b>12</b> clears block <b>0</b> by first writing data <b>0000</b> . . . <b>0000</b> to FLASH status <b>0</b> to clear any previous indication that a rewrite process is complete. The CPU <b>12</b> then erases, writes, and verifies blocks <b>0</b>, <b>6</b>, and n in order. The CPU <b>12</b> finally writes data <b>55</b>AA . . . <b>55</b>AA to FLASH status <b>0</b> to complete the clearing process.</p>\\n<p id=\"p-0054\" num=\"0053\">Referring again to <figref idref=\"DRAWINGS\">FIG. 2</figref>, the ID areas <b>1</b> and <b>2</b> contain data concerning the partial rewrite such as whether the partial rewrite is enabled or disabled and the beginning and end block numbers depending on whether the partial rewrite is performed later.</p>\\n<p id=\"p-0055\" num=\"0054\"><figref idref=\"DRAWINGS\">FIG. 3</figref> shows changes in data written to FLASH status areas <b>0</b> and <b>1</b> and ID status areas <b>1</b> and <b>2</b> as the total rewrite process progresses. When the flash memory <b>15</b> is previously written or rewritten, FLASH status <b>0</b> will contains data <b>55</b>AA . . . <b>55</b>AA. Data <b>0000</b> . . . <b>0000</b> is then written. Erasing the next block <b>0</b> changes the contents to a data value of FFFF . . . FFFF, which value is maintained during the rewrite operation. The final write process returns the data to <b>55</b>AA . . . <b>55</b>AA. During the total rewrite process, therefore, it is apparent that FLASH status <b>0</b> contains a value other than <b>55</b>AA . . . <b>55</b>AA.</p>\\n<p id=\"p-0056\" num=\"0055\">FLASH status <b>1</b>, when previously written or rewritten, also contains initial value <b>55</b>AA . . . <b>55</b>AA. Erasing block <b>6</b> changes the value of FLASH status <b>1</b> to FFFF . . . FFFF. The next write returns the value of FLASH status <b>1</b> to <b>55</b>AA . . . <b>55</b>AA. ID status <b>2</b>_<b>1</b> and ID status <b>2</b>_<b>2</b> in ID area <b>2</b> also contain initial value <b>55</b>AA . . . <b>55</b>AA. Erasing block <b>0</b> changes the value to FFFF . . . FFFF. The next write returns the value of ID status <b>2</b>_<b>1</b> and ID status <b>2</b>_<b>2</b> to <b>55</b>AA . . . <b>55</b>AA. Similarly, ID status <b>1</b>_<b>1</b> and ID status <b>1</b>_<b>2</b> in ID area <b>1</b> also contain initial value <b>55</b> AA . . . <b>55</b>AA. Erasing block n changes the value of ID status <b>1</b>_<b>1</b> and ID status <b>1</b>_<b>2</b> to FFFF . . . FFFF. The next write returns the value of ID status <b>1</b>_<b>1</b> and ID status <b>1</b>_<b>2</b> to <b>55</b>AA . . . <b>55</b>AA.</p>\\n<p id=\"p-0057\" num=\"0056\">When a write error is detected in verification during the total rewrite process, the CPU <b>12</b> generates an internal reset at that point to start execution from a reset vector. The CPU <b>12</b> executes the determination program <b>22</b>, such as the flash status determination process shown in <figref idref=\"DRAWINGS\">FIG. 1</figref>. Alternatively, a timer may be used to count a time from the beginning to the end of the total rewrite process. In such a scenario, the CPU <b>12</b> may generate an internal reset in response to a timeout condition caused when the process does not terminate within a specified time.</p>\\n<p id=\"p-0058\" num=\"0057\">With regard to the flash status determination process, the CPU <b>12</b> reads FLASH status <b>0</b> from the flash memory <b>15</b> and determines at S<b>1</b> whether the data value matches rewrite completion code <b>55</b>AA . . . <b>55</b>AA. When the data value for FLASH status <b>0</b> does not match the rewrite completion code, corresponding, for example, to a NO at S<b>1</b>, the CPU <b>12</b> determines at S<b>5</b> whether both ID status <b>2</b>_<b>1</b> and ID status <b>2</b>_<b>2</b> in ID area <b>2</b> contain the normal code <b>55</b>AA . . . <b>55</b>AA. When both ID status <b>2</b>_<b>1</b> and ID status <b>2</b>_<b>2</b> contain the normal code corresponding to YES at S<b>5</b>, the CPU <b>12</b> determines that ID area <b>2</b> contains effective ID and password. The CPU <b>12</b> starts executing the rewrite program <b>21</b>, which authenticates the ID and the password written to the ID area <b>2</b>. When an authentication result is successful, the rewrite program <b>21</b> starts a process according to the flowchart in <figref idref=\"DRAWINGS\">FIG. 3</figref>.</p>\\n<p id=\"p-0059\" num=\"0058\">When the determination at S<b>5</b> results in NO, the CPU <b>12</b> proceeds to S<b>6</b> and determines whether both ID status <b>1</b>_<b>1</b> and ID status <b>1</b>_<b>2</b> in ID area <b>1</b> contain normal code <b>55</b>AA . . . <b>55</b>AA. When both contain the normal code (YES), the CPU <b>12</b> determines that ID area <b>1</b> contains effective ID and password. The CPU <b>12</b> starts executing the rewrite program <b>21</b>.</p>\\n<p id=\"p-0060\" num=\"0059\">As shown in <figref idref=\"DRAWINGS\">FIG. 3</figref>, if one of ID areas <b>2</b> and <b>1</b> is not written correctly the total rewrite process may terminate. The ID status of the incorrectly written area shows FFFF . . . FFFFF. Normal data is not written. However, normal data is written to the other ID area. The effective ID area is selected.</p>\\n<p id=\"p-0061\" num=\"0060\">When neither ID area <b>2</b> nor <b>1</b> contains normal data, corresponding to NO at S<b>6</b>, the CPU <b>12</b> executes the user program <b>20</b> with an assumption of an abnormal state where initial writing of the user program <b>20</b> was unsuccessful or that a physical part of the flash memory <b>15</b>, bus <b>18</b>, or bus <b>19</b> has failed.</p>\\n<p id=\"p-0062\" num=\"0061\">When the rewrite is executed in an abnormal state, it is assumed that abnormal data may be written to the flash memory <b>15</b>. Control branches to the user program <b>20</b>. If a memory check routine provided for the user program <b>20</b> is normal, the memory check routine performs a check sum on the flash memory <b>15</b>. If an error is found as a result, error processing is performed. In the case where a physical problem exists, the flash memory <b>15</b> cannot be written normally and the suspected part may be replaced as needed.</p>\\n<p id=\"p-0063\" num=\"0062\">(Partial Rewrite Process)</p>\\n<p id=\"p-0064\" num=\"0063\">In <figref idref=\"DRAWINGS\">FIG. 4</figref>, which shows an exemplary partial rewrite process for the flash memory <b>15</b>, the user program <b>20</b> is partially rewritten, for example in connection with an on site software upgrade, or the like, with the microcomputer <b>11</b> of the ECU turned on. While the microcomputer <b>11</b> is executing the user program <b>20</b>, the rewriting apparatus <b>23</b> is connected and issues a partial rewrite instruction. The user program <b>20</b> identifies the partial rewrite instruction and begins performing the partial rewrite process. It should be noted that in accordance with the exemplary partial rewrite process, Block <b>0</b> of the flash memory <b>15</b> is typically reserved or otherwise predetermined to not be partially rewritten, particularly since Block <b>0</b> of the flash memory <b>15</b> will typically contain information associated with total rewrites.</p>\\n<p id=\"p-0065\" num=\"0064\"><figref idref=\"DRAWINGS\">FIG. 4</figref> shows how block <b>6</b> is partially rewritten, for example using a partial rewrite program that is most typically part of the rewrite program <b>21</b>, although in some variations, the partial rewrite program could be separately provided. In order to identify block <b>6</b> as the block for rewriting, as will be understood with reference to <figref idref=\"DRAWINGS\">FIG. 2</figref>, the beginning and end block numbers in the ID area <b>2</b> are set to the value <b>6</b> or some value corresponding to block <b>6</b>. The CPU <b>12</b> clears block <b>6</b> by writing data <b>0000</b> . . . <b>0000</b> to FLASH status <b>1</b>. The CPU <b>12</b> erases, writes, and verifies block <b>6</b> in that order. The CPU <b>12</b> finally writes data <b>55</b>AA . . . <b>55</b>AA to FLASH status <b>1</b> to complete the partial rewrite process.</p>\\n<p id=\"p-0066\" num=\"0065\"><figref idref=\"DRAWINGS\">FIG. 4</figref> shows changes in data written to FLASH status <b>0</b> and FLASH status <b>1</b> and ID status <b>1</b> and ID status <b>2</b> in ID areas <b>2</b> and <b>1</b> as the partial rewrite process progresses. Since only block <b>6</b> is rewritten, data for FLASH status <b>0</b> and ID status <b>1</b> and ID status <b>2</b> in ID areas <b>2</b> and <b>1</b> remains <b>55</b>AA . . . <b>55</b>AA.</p>\\n<p id=\"p-0067\" num=\"0066\">Since the flash memory <b>15</b> is already written, FLASH status <b>1</b> contains data <b>55</b>AA . . . <b>55</b>AA. Initially, data <b>0000</b> . . . <b>0000</b> is written. Erasing block <b>6</b> changes the value of FLASH status <b>1</b> to FFFF . . . FFFF. The next write is not performed on FLASH status <b>1</b> to maintain the above-mentioned data value. The final write process returns the data to <b>55</b>AA . . . <b>55</b>AA. During the partial rewrite process, FLASH status <b>0</b> contains a value other than <b>55</b>AA . . . <b>55</b>AA.</p>\\n<p id=\"p-0068\" num=\"0067\">When a write error is detected, for example during a verification of block <b>6</b> during the partial rewrite process, the CPU <b>12</b> generates an internal reset at that point to start execution from a reset vector. The CPU <b>12</b> executes the flash status determination process shown, for example, in <figref idref=\"DRAWINGS\">FIG. 1</figref>. In such a case, the data value for FLASH status <b>0</b> matches the rewrite completion code. The CPU <b>12</b> assumes a result at S<b>1</b> to be YES. The CPU <b>12</b> further determines at S<b>2</b> whether the normal code is contained in both ID status <b>2</b>_<b>1</b> and <b>2</b>_<b>2</b> of ID area <b>2</b>.</p>\\n<p id=\"p-0069\" num=\"0068\">When the status of the ID area <b>2</b> indicates the normal code, corresponding to YES at S<b>2</b>, the CPU <b>12</b> determines at S<b>3</b> whether the area enables the partial rewrite. When the partial rewrite is enabled, corresponding to YES at S<b>3</b>, the CPU <b>12</b> reads FLASH status <b>1</b> from block <b>6</b> and determines at S<b>4</b> whether the data value matches rewrite completion code <b>55</b>AA . . . <b>55</b>AA. When the data value does not match rewrite completion code, corresponding to NO at S<b>4</b>, control branches to the rewrite program <b>21</b> whereupon the CPU <b>12</b> retries the partial rewrite process shown, for example, in <figref idref=\"DRAWINGS\">FIG. 4</figref>.</p>\\n<p id=\"p-0070\" num=\"0069\">It should be noted that the partial rewrite process does not rewrite block <b>0</b>. When the determination at S<b>2</b> results in a NO, an abnormal state is indicated whereupon control branches to the user program <b>20</b> to execute, for example, the memory check routine. ID area <b>1</b> of each block n need not be confirmed as shown for example, in connection with S<b>5</b> and S<b>6</b>.</p>\\n<p id=\"p-0071\" num=\"0070\">The CPU <b>12</b> can also generate an internal reset when, for example, a watchdog timer detects abnormal execution or when a bus error occurs. In such case, the determinations in <figref idref=\"DRAWINGS\">FIG. 1</figref> can be performed. It should be noted that when the flash memory <b>15</b> is normally rewritten, all the determinations at S<b>1</b> through S<b>4</b> will result in a YES resulting in the CPU <b>12</b> branching to the user program <b>20</b> for execution. When the partial rewrite process is disabled corresponding to NO at S<b>3</b>, the CPU <b>12</b> branches to the user program <b>20</b> without passing to S<b>4</b>.</p>\\n<p id=\"p-0072\" num=\"0071\">According to the present embodiment, CPU <b>12</b> of the microcomputer <b>11</b> executes the rewrite program <b>21</b> to clear FLASH status <b>0</b> of the flash memory <b>15</b> and rewrite all areas in the flash memory <b>15</b>. The CPU <b>12</b> finally writes the rewrite completion code <b>55</b>AA . . . <b>55</b>AA to FLASH status <b>0</b>. While the value <b>55</b>AA . . . <b>55</b>AA is described herein for illustrative purposes, it will readily be appreciated that values other than <b>55</b>AA . . . <b>55</b>AA can be used for the rewrite completion code including, for example, a cyclic redundancy code (CRC), checksum, or the like associated with the data that is rewritten. The CPU <b>12</b> executes the determination program <b>22</b> to read FLASH status <b>0</b> of the flash memory <b>15</b>. When the data does not match the rewrite completion code, the CPU <b>12</b> re-executes the rewrite program <b>21</b>.</p>\\n<p id=\"p-0073\" num=\"0072\">When the CPU <b>12</b> executes the determination program <b>22</b> to reference FLASH status <b>0</b>, the CPU <b>12</b> can determine whether the user program <b>20</b> in the flash memory <b>15</b> is normally rewritten and can retry the rewrite if not. Accordingly, since the microcomputer <b>11</b> need not have an external terminal or terminals such as a reset terminal or a mode setup terminal to cause a reset and rewrite for the flash memory <b>15</b>, it is possible to miniaturize a package for the microcomputer <b>11</b> and thereby reduce costs.</p>\\n<p id=\"p-0074\" num=\"0073\">The CPU <b>12</b> executes the rewrite program <b>21</b> to write the same ID code to ID status <b>2</b>_<b>1</b> and ID status <b>2</b>_<b>2</b> of the flash memory <b>15</b>. The determination program <b>22</b>, when executed, reads ID status <b>2</b>_<b>1</b> and ID status <b>2</b>_<b>2</b> when data for FLASH status <b>0</b> does not match the rewrite completion code. When data for ID status values matches the ID code, the CPU <b>12</b> executes the rewrite program <b>21</b>. It is possible to confirm writing to the memory <b>15</b> with a correct access right and prevent an unauthorized access.</p>\\n<p id=\"p-0075\" num=\"0074\">Further, the same ID code is written to ID status <b>2</b> and ID status <b>1</b> in blocks <b>0</b> and n of the flash memory <b>15</b>. The CPU <b>12</b> executes the determination program <b>22</b>. When data for FLASH status <b>0</b> does not match the rewrite completion code, the CPU <b>12</b> reads ID status <b>2</b> and ID status <b>1</b> from blocks <b>0</b> and n. When read data for both ID status values matches the ID code in one of the blocks, the CPU <b>12</b> executes the rewrite program <b>21</b>. Even when the write to the flash memory <b>15</b> fails, one of the blocks can be used to reliably confirm a match for the ID code.</p>\\n<p id=\"p-0076\" num=\"0075\">The CPU <b>12</b> executes the partial rewrite process, i.e., part of the rewrite program <b>21</b>, to first clear FLASH status <b>1</b> of the flash memory <b>15</b>. The CPU <b>12</b> rewrites the memory from the beginning to the end. The CPU <b>12</b> finally writes the partial rewrite completion code <b>55</b>AA . . . <b>55</b>AA to FLASH status <b>1</b>.</p>\\n<p id=\"p-0077\" num=\"0076\">The CPU <b>12</b> executes the determination program <b>22</b>. When data for FLASH status <b>1</b> matches the rewrite completion code at S<b>4</b>, the CPU <b>12</b> references a flag storage area to read FLASH status <b>1</b> when enabled. When the read data does not match the partial rewrite completion code, corresponding to NO at S<b>4</b>, the CPU <b>12</b> executes the partial rewrite process. It should be noted that the same effect as for rewriting all areas is available when writing part of the flash memory <b>15</b> fails. Such a capability is advantageous when the user program <b>20</b> is partially rewritten in connection with, for example, an on site software upgrade, or the like.</p>\\n<p id=\"p-0078\" num=\"0077\">As mentioned above, the CPU <b>12</b> executes the rewrite program <b>21</b> to write the same ID code to ID status <b>2</b>_<b>1</b> and ID status <b>2</b>_<b>2</b> of the flash memory <b>15</b>. In addition, the CPU <b>12</b> enables or disables a partial write to the flag storage area and specifies areas for writing beginning and end positions. The CPU <b>12</b> then executes the determination program <b>22</b>. When data read from FLASH status <b>0</b> matches the rewrite completion code, the CPU <b>12</b> reads ID status <b>2</b>_<b>1</b> and ID status <b>2</b>_<b>2</b>. When data for both ID status values matches the ID code, the CPU <b>12</b> reads FLASH status <b>1</b>. A match for the ID code can be also confirmed when the flash memory <b>15</b> is partially rewritten.</p>\\n<p id=\"p-0079\" num=\"0078\">The CPU <b>12</b> executes the determination program <b>22</b> when a reset condition occurs. When the reset condition is released, the CPU <b>12</b> can check whether the flash memory <b>15</b> is normally written. When a write is incorrect or data is determined to be garbled, the CPU <b>12</b> can stop the user program <b>20</b> to prevent it from executing abnormally.</p>\\n<heading id=\"h-0007\" level=\"1\">Second Embodiment</heading>\\n<p id=\"p-0080\" num=\"0079\"><figref idref=\"DRAWINGS\">FIG. 6</figref> through <figref idref=\"DRAWINGS\">FIG. 9</figref> show a second embodiment of the invention. The mutually corresponding parts in the first and second embodiments are designated by the same reference numerals and a description is omitted for simplicity. A description will be provided such that the differences between the first and second embodiments will be apparent. <figref idref=\"DRAWINGS\">FIG. 6</figref> shows a configuration of the areas of an exemplary flash memory in accordance with the second embodiment while <figref idref=\"DRAWINGS\">FIG. 2</figref> similarly shows areas of a flash memory in accordance with the first embodiment.</p>\\n<p id=\"p-0081\" num=\"0080\">According to the second embodiment, the first 16 bytes of beginning block <b>0</b> contain FLASH status <b>0</b>, the flag storage area for enabling or disabling the partial rewrite, and areas for storing beginning and an ending block numbers for the partial rewrite. Unlike the first embodiment, in accordance with the second embodiment ID areas <b>2</b> and <b>1</b> are not present and end block n is not provided with a special area. Similar to the first embodiment, block <b>6</b> is used as the beginning block for the partial rewrite and contains FLASH status <b>1</b>.</p>\\n<p id=\"p-0082\" num=\"0081\">The flash controller <b>16</b> writes data to the flash memory <b>15</b> in minimum units of 16 bytes. It should be noted that in a scenario where the CPU <b>12</b> writes one byte of data to the flash memory <b>15</b>, the flash controller <b>16</b> checks for an error and performing a write (read-modify-write) operation if necessary in units of consecutive 16-byte data containing the address of the 1-byte data.</p>\\n<p id=\"p-0083\" num=\"0082\">The effects of the second embodiment will now be described.</p>\\n<p id=\"p-0084\" num=\"0083\">(Total Rewrite Process)</p>\\n<p id=\"p-0085\" num=\"0084\">With reference now to <figref idref=\"DRAWINGS\">FIG. 7</figref>, the total rewrite process assumes that the partial rewrite enable/disable flag contains a value of <b>01</b>H, corresponding to an enabled condition, and the partial rewrite beginning and end blocks contain <b>0006</b>H. The CPU <b>12</b> first writes data <b>0000</b> . . . <b>0000</b> to thereby clearing FLASH status <b>0</b> of block <b>0</b>. In addition, the CPU <b>12</b> zero-fills the areas for storing the partial rewrite enable/disable flag, and the partial rewrite beginning and end blocks. Similar to the first embodiment, the CPU <b>12</b> erases, writes, and verifies blocks <b>0</b>, <b>6</b>, and n in that order. The CPU <b>12</b> finally writes data <b>55</b>AA . . . <b>55</b>AA to FLASH status <b>0</b>, <b>01</b>H to the partial rewrite enable/disable flag, and <b>0006</b>H to the partial rewrite beginning and end blocks to complete the process. Data values for FLASH status <b>0</b> and FLASH status <b>1</b> change similarly to the first embodiment.</p>\\n<p id=\"p-0086\" num=\"0085\">(Partial Rewrite Process)</p>\\n<p id=\"p-0087\" num=\"0086\">With reference now to <figref idref=\"DRAWINGS\">FIG. 8</figref>, during a partial rewrite process of the flash memory <b>15</b>, data values for FLASH status <b>1</b> also change exactly as described in accordance with the first embodiment. The states of FLASH status <b>0</b> and the partial rewrite enable/disable flag are unchanged. The partial rewrite beginning and end blocks maintain initial values.</p>\\n<p id=\"p-0088\" num=\"0087\">With reference to <figref idref=\"DRAWINGS\">FIG. 9</figref>, a flash status determination process including exemplary procedures S<b>1</b>, S<b>3</b> and S<b>4</b> is shown. Unlike the first embodiment, which is shown, for example, in connection with <figref idref=\"DRAWINGS\">FIG. 1</figref>, the second embodiment simplifies the determinations without checking whether the ID status contains a normal code.</p>\\n<p id=\"p-0089\" num=\"0088\">The second embodiment uses the minimum unit of writing to the flash memory <b>15</b> as the flag storage area for storing a flag indicating the enabling or disabling the partial rewrite and the areas for storing beginning and end positions as well as a total rewrite check area. Information about the partial rewrite to the flash memory <b>15</b> becomes meaningful after the total rewrite is complete at least once. Since the minimum unit of writing is used for the partial rewrite information and the total rewrite check area, the amount of information can be reduced and effectively used. Unlike the first embodiment, the second embodiment does not check the ID code in the flash memory <b>15</b> and can complete the determination program execution in a shorter time.</p>\\n<p id=\"p-0090\" num=\"0089\">It should be noted that International Publication WO 2004/031966 describes a memory including multiple blocks, each of which is provided with a flag and each of which is equivalent to a minimum erasure unit. The state of the flag is used to determine which block is erased. However, because of the time-consuming nature of checking the flag state for each block, delay is encountered when the microcomputer starts, which delay increases as the number of memory blocks increases. When the above described memory is used as data memory, a host microcomputer initializes the data memory at startup, during which a check is performed. When the above described memory is used as program memory, however, a delay in the startup due to memory processing may consequently delay the start of a program stored therein and thus of the operation of the microcomputer.</p>\\n<heading id=\"h-0008\" level=\"1\">Third Embodiment</heading>\\n<p id=\"p-0091\" num=\"0090\">With reference to <figref idref=\"DRAWINGS\">FIG. 10</figref> and <figref idref=\"DRAWINGS\">FIG. 11</figref>, a third embodiment of the invention will be described, for example, with particular attention to differences from the second embodiment. The third embodiment provides a process for multiple blocks to be partially rewritten. <figref idref=\"DRAWINGS\">FIG. 10</figref> shows two blocks <b>6</b> and <b>11</b> to be partially rewritten. FLASH status <b>0</b> of block <b>0</b> contains information for performing a partial rewrite <b>1</b> on block <b>6</b>. FLASH status <b>1</b> of block <b>6</b> provides 16-byte information for performing a partial rewrite <b>2</b> on block <b>11</b>. The information includes the flag storage area for enabling or disabling the partial rewrite, and areas for storing beginning and end block numbers for the partial rewrite <b>2</b>.</p>\\n<p id=\"p-0092\" num=\"0091\">Block <b>11</b> contains FLASH status <b>2</b> as a partial rewrite check area. FLASH status <b>2</b> provides 16-byte information for performing an additional partial rewrite <b>3</b>. When the partial rewrite <b>3</b> is not performed, the partial rewrite enable/disable flag is disabled.</p>\\n<p id=\"p-0093\" num=\"0092\"><figref idref=\"DRAWINGS\">FIG. 11</figref> is related to <figref idref=\"DRAWINGS\">FIG. 9</figref> in that, for example, S<b>3</b> and S<b>4</b> from FIG. <b>9</b> are related to S<b>3</b>&#x2032; and S<b>4</b>&#x2032; for the partial rewrite <b>1</b>, while S<b>11</b> and S<b>12</b> of <figref idref=\"DRAWINGS\">FIG. 11</figref> provide determinations corresponding to the partial rewrite <b>2</b>. The process shown in <figref idref=\"DRAWINGS\">FIG. 11</figref> is sufficient for partially rewriting up to two blocks. It will be appreciated that when up to three blocks need to be partially rewritten, S<b>12</b> can be followed by S<b>13</b> and S<b>14</b> (not shown) for determinations corresponding to the partial rewrite <b>3</b>, and so on, for additional partial rewrites. In the present example provided in accordance with the third embodiment, the enable/disable flag for the partial rewrite <b>3</b> as shown for example, in <figref idref=\"DRAWINGS\">FIG. 10</figref> would be disabled. An exemplary check of whether partial rewrite <b>3</b> is enabled at a S<b>13</b> (not shown) would result in a determination of NO and control would be passed to the user program, for example, as in S<b>3</b>&#x2032; and S<b>11</b>.</p>\\n<p id=\"p-0094\" num=\"0093\">According to the third embodiment, the partial rewrite check area for block <b>6</b> provides the flag storage area for enabling or disabling the partial rewrite and the areas for storing beginning and end positions corresponding to the area to be partially rewritten next. Since one or more partial rewrite check areas are provided, the partial rewrite can be performed on multiple blocks whose addresses are discontiguous.</p>\\n<p id=\"p-0095\" num=\"0094\">It should be noted that, while various exemplary and alternative exemplary embodiments have been described herein above with reference to the accompanying drawings, the invention is not limited solely to the above described embodiments, but may further be embodied in accordance with various modifications as follows.</p>\\n<p id=\"p-0096\" num=\"0095\">For example, according to need, block n can be provided with the same ID area as for block <b>0</b> and can be checked twice using, for example, S<b>5</b> and S<b>6</b>. Further, the ID code of block <b>0</b> can be checked when needed. FLASH status <b>0</b> and FLASH status <b>1</b> or ID areas <b>2</b> and <b>1</b> may be located anywhere in the flash memory <b>15</b>. The rewrite completion code and the ID code, described, for example, as being a value of <b>55</b>AA or the like, can be any data value. Block <b>0</b> may be partially rewritten. The block size of the flash memory <b>15</b> may be a size other than 64 kilobytes. The first memory can be rewritten in units other than blocks. During a rewrite, the verification process may comply with memory specifications. The determination of whether codes are normal, for example, at S<b>2</b> may or may not be performed. The partial rewrite process may be performed any time when needed according to requirements or specifications. The rewritten data <b>24</b> is not necessarily transferred to the RAM <b>14</b> at a time. The CPU <b>12</b> may sequentially rewrite the RAM <b>14</b> by receiving data transmitted from the rewriting apparatus <b>23</b>.</p>\\n<p id=\"p-0097\" num=\"0096\">In accordance with still other modifications, the microcomputer <b>11</b> may be capable of entering a low-power consumption mode such as a wait mode, a sleep mode, a stop mode, or the like, in which operation of the microcomputer <b>11</b> is suspended, for example, by suspending the operation clock. In such an example, the CPU <b>12</b> may execute the determination program <b>22</b> when the low-power consumption mode is released to enable a wake-up state. At the wake-up time, the CPU <b>12</b> can check whether the flash memory <b>15</b> is normally written. When a write is incorrect or data is garbled, the CPU <b>12</b> can stop the user program <b>20</b> to prevent it from executing abnormally. The minimum write unit is not limited to 16 bytes and may be changed in accordance with microcomputer, system or application specifications or the like. The flash controller <b>16</b> may or may not be provided according to need. The CPU <b>12</b> may directly write to the flash memory <b>15</b>. In the second and third embodiments, the total size of FLASH status <b>0</b>, FLASH status <b>1</b>, and the like, and the information about the partial rewrite may be smaller than the minimum write unit.</p>\\n<p id=\"p-0098\" num=\"0097\">Still further, the invention is applicable to not only a microcomputer included in an ECU for vehicle control but is also applicable to any microcomputer having rewritable nonvolatile memory.</p>\\n<?detailed-description description=\"Detailed Description\" end=\"tail\"?>\\n</description>\\n<us-claim-statement>What is claimed is:</us-claim-statement>\\n<claims id=\"claims\">\\n<claim id=\"CLM-00001\" num=\"00001\">\\n<claim-text><b>1</b>. A microcomputer comprising:\\n<claim-text>first rewritable nonvolatile memory that stores a user program;</claim-text>\\n<claim-text>second memory that stores a rewrite program for causing a rewrite of the first memory to be performed and a determination program for determining whether the rewrite to the first memory should be performed; and</claim-text>\\n<claim-text>a CPU that is capable of reading and executing one or more of the user program, the rewrite program and the determination program, wherein:\\n<claim-text>the CPU when executing a rewrite program, clears a rewrite check area of the first memory, rewrites all areas in the memory, and writes a rewrite completion code to the rewrite check area; and</claim-text>\\n<claim-text>the CPU executes the determination program, reads a rewrite check area of the first memory and executes the user program if data read from the rewrite check area matches a rewrite completion code, and executes the rewrite program if read data does not match the rewrite completion code.</claim-text>\\n</claim-text>\\n</claim-text>\\n</claim>\\n<claim id=\"CLM-00002\" num=\"00002\">\\n<claim-text><b>2</b>. The microcomputer of <claim-ref idref=\"CLM-00001\">claim 1</claim-ref>, wherein:\\n<claim-text>the CPU in executing the rewrite program writes a same ID code to first and second rewrite enable ID areas of the first memory; and</claim-text>\\n<claim-text>the CPU executes the determination program, reads the first and second rewrite enable ID areas when data read from the first memory\\'s rewrite check area does not match the rewrite completion code, and executes the rewrite program when data read from both areas matches the ID code.</claim-text>\\n</claim-text>\\n</claim>\\n<claim id=\"CLM-00003\" num=\"00003\">\\n<claim-text><b>3</b>. The microcomputer of <claim-ref idref=\"CLM-00002\">claim 2</claim-ref>, wherein:\\n<claim-text>the first memory is rewritten in blocks having a predetermined size;</claim-text>\\n<claim-text>the CPU in executing the rewrite program writes a same ID code to first and second rewrite enable ID areas provided for the two blocks of the first memory; and</claim-text>\\n<claim-text>the CPU executes the determination program, reads the first and second rewrite enable ID areas for two blocks and does not execute the rewrite program if data read from a rewrite check area for the first memory does not match the rewrite completion code, and executes the rewrite program if both data read for one of the two blocks match the ID code.</claim-text>\\n</claim-text>\\n</claim>\\n<claim id=\"CLM-00004\" num=\"00004\">\\n<claim-text><b>4</b>. The microcomputer of <claim-ref idref=\"CLM-00001\">claim 1</claim-ref>, wherein:\\n<claim-text>the second memory stores a partial rewrite program that causes a partial rewriting of the first memory;</claim-text>\\n<claim-text>the first memory includes a flag storage area storing a flag to enable or disable the partial rewriting and an area for writing a beginning position for the partial rewriting and an end position for the partial rewriting;</claim-text>\\n<claim-text>the CPU in executing the partial rewrite program, clears a partial rewrite check area of the first memory, rewrites the memory from the beginning position to the end position, and writes a partial rewrite completion code to the partial rewrite check area; and</claim-text>\\n<claim-text>the CPU executes the determination program, references the flag storage area if data read from the rewrite check area of the first memory matches the rewrite completion code, reads the partial rewrite check area when enabled, executes the user program if read data matches the partial rewrite completion code, and executes the partial rewrite program if the data does not match the partial rewrite completion code.</claim-text>\\n</claim-text>\\n</claim>\\n<claim id=\"CLM-00005\" num=\"00005\">\\n<claim-text><b>5</b>. The microcomputer of <claim-ref idref=\"CLM-00004\">claim 4</claim-ref>, wherein:\\n<claim-text>the CPU in executing the rewrite program, writes a same ID code to first and second rewrite enable ID areas of the first memory, enables or disables a partial write to the flag storage area, and specifies the beginning position for the partial rewriting and the end position for the partial rewriting; and</claim-text>\\n<claim-text>the CPU executes the determination program, reads the first and second rewrite enable ID areas when data read from the rewrite check area matches the rewrite completion code, and references the flag storage area when both read data match the ID codes.</claim-text>\\n</claim-text>\\n</claim>\\n<claim id=\"CLM-00006\" num=\"00006\">\\n<claim-text><b>6</b>. A microcomputer comprising:\\n<claim-text>first rewritable nonvolatile memory that stores an user program the first memory divided into blocks having a first predetermined size, the blocks of the first memory being written to in accordance with a minimum write unit having a second predetermined size, a first area of a first block of the first memory allocated for storing first data associated with a predetermined total rewrite completion code, a next area of the first block containing a first flag to enable or disable a partial rewrite of the first memory, a beginning position and an end position of a partial rewrite area in a second block of the first memory, the combination of the first area and the next area having a size equal to the minimum write unit, a first area of the second block for storing second data associated with a predetermined partial rewrite completion code;</claim-text>\\n<claim-text>second memory that stores a rewrite program for causing one of a total rewrite of the first memory and a partial rewrite of the first memory to be performed and a determination program for determining whether the one of the total rewrite and the partial rewrite of the first memory should be performed; and</claim-text>\\n<claim-text>a CPU that is capable of reading and executing one or more of the user program, the rewrite program and the determination program,</claim-text>\\n<claim-text>wherein the CPU is configured to:\\n<claim-text>execute the determination program, read the first area of the first block of the first memory and execute the rewrite program for performing the total rewrite, including clearing a total area of the first memory, rewriting the total area of the first memory, and writing the predetermined rewrite completion code as the first data in the first area, if the first data read from the first area does not match the predetermined total rewrite completion code,</claim-text>\\n<claim-text>read the first flag in the next area if the data read from the first area matches the predetermined total rewrite completion code, read the second data, and execute the rewrite program for performing the partial rewrite including clearing the partial rewrite area based on the beginning position and the end position, rewriting the partial rewrite area, and writing the predetermined partial rewrite completion code in the first area of the second block if the first flag enables the partial rewrite and the second data does not match the predetermined partial rewrite completion code.</claim-text>\\n</claim-text>\\n</claim-text>\\n</claim>\\n<claim id=\"CLM-00007\" num=\"00007\">\\n<claim-text><b>7</b>. The microcomputer of <claim-ref idref=\"CLM-00006\">claim 6</claim-ref>, wherein:\\n<claim-text>the second block includes a next area for storing a second flag to enable or disable an additional partial rewrite of a second partial rewrite area and a second beginning and a second end position of the second partial rewrite area in a third block to be partially written;</claim-text>\\n<claim-text>the combination of the first area of the second block and the next area of the second block has a size equal to the minimum write unit;</claim-text>\\n<claim-text>and</claim-text>\\n<claim-text>a first area of the third block is for storing third data associated with the predetermined partial rewrite completion code.</claim-text>\\n</claim-text>\\n</claim>\\n<claim id=\"CLM-00008\" num=\"00008\">\\n<claim-text><b>8</b>. The microcomputer of <claim-ref idref=\"CLM-00001\">claim 1</claim-ref>,\\n<claim-text>wherein the CPU executes the determination program at reset time.</claim-text>\\n</claim-text>\\n</claim>\\n<claim id=\"CLM-00009\" num=\"00009\">\\n<claim-text><b>9</b>. The microcomputer of <claim-ref idref=\"CLM-00001\">claim 1</claim-ref>,\\n<claim-text>wherein the CPU executes the determination program when a low-power consumption mode is released.</claim-text>\\n</claim-text>\\n</claim>\\n<claim id=\"CLM-00010\" num=\"00010\">\\n<claim-text><b>10</b>. A method for rewriting an user program into a nonvolatile memory associated with a computer system, the method comprising:\\n<claim-text>dividing the nonvolatile memory into a plurality of blocks having a first predetermined size, a first one of the plurality of blocks having a first area of a second predetermined size, the first area storing information associated with the rewriting the user program, the user program stored in remaining areas of one or more of the plurality of blocks;</claim-text>\\n<claim-text>reading the first area to determine whether a rewriting of the nonvolatile memory is required; and</claim-text>\\n<claim-text>rewriting the application into the nonvolatile memory if the reading the first area determines that the rewriting is necessary.</claim-text>\\n</claim-text>\\n</claim>\\n<claim id=\"CLM-00011\" num=\"00011\">\\n<claim-text><b>11</b>. A method according to <claim-ref idref=\"CLM-00010\">claim 10</claim-ref>, wherein:\\n<claim-text>the information includes a total rewrite status value;</claim-text>\\n<claim-text>the reading the first area includes:\\n<claim-text>reading the total rewrite status value; and</claim-text>\\n<claim-text>determining if the total rewrite status value equals a total rewrite complete value; and</claim-text>\\n</claim-text>\\n<claim-text>the rewriting includes rewriting the application into the nonvolatile memory if the total rewrite status value does not equal a total rewrite completion value.</claim-text>\\n</claim-text>\\n</claim>\\n<claim id=\"CLM-00012\" num=\"00012\">\\n<claim-text><b>12</b>. A method according to <claim-ref idref=\"CLM-00010\">claim 10</claim-ref>, wherein:\\n<claim-text>the information includes a total rewrite status value, a partial rewrite enable flag, a partial rewrite beginning location and a partial rewrite ending location, the partial rewrite beginning location configured to coincide with a block boundary of a second one of the plurality of blocks, the second one having a second first area the second first area storing information associated with the partial rewriting the user program including a partial rewrite status value;</claim-text>\\n<claim-text>the reading the first area includes:\\n<claim-text>reading the total rewrite status value; and</claim-text>\\n<claim-text>determining if the total rewrite status value equals a total rewrite complete value; and</claim-text>\\n</claim-text>\\n<claim-text>the rewriting includes partially rewriting the application into the nonvolatile memory starting at the partial rewrite beginning location and ending at the partial rewrite ending location if the total rewrite status value equals a total rewrite complete value, the partial rewrite enable flag indicates that a partial rewrite is enabled, and the partial rewrite status value does not equal a partial rewrite complete value.</claim-text>\\n</claim-text>\\n</claim>\\n<claim id=\"CLM-00013\" num=\"00013\">\\n<claim-text><b>13</b>. A method according to <claim-ref idref=\"CLM-00012\">claim 12</claim-ref>, wherein an end one of the plurality of blocks includes a third area for storing information including an identifier for the user program and an authentication value associated with the user program.</claim-text>\\n</claim>\\n<claim id=\"CLM-00014\" num=\"00014\">\\n<claim-text><b>14</b>. A method according to <claim-ref idref=\"CLM-00013\">claim 13</claim-ref>, wherein the rewriting is performed only if the authentication value is successfully verified.</claim-text>\\n</claim>\\n<claim id=\"CLM-00015\" num=\"00015\">\\n<claim-text><b>15</b>. A method according to <claim-ref idref=\"CLM-00010\">claim 10</claim-ref>, wherein the nonvolatile memory includes a flash memory unit.</claim-text>\\n</claim>\\n<claim id=\"CLM-00016\" num=\"00016\">\\n<claim-text><b>16</b>. A method according to <claim-ref idref=\"CLM-00010\">claim 10</claim-ref>, wherein the first predetermined size includes 64 KB and the second predetermined size includes 16 B. </claim-text>\\n</claim>\\n</claims>\\n</us-patent-application>\\n'"
      ]
     },
     "execution_count": 32,
     "metadata": {},
     "output_type": "execute_result"
    }
   ],
   "source": [
    "appsh5['12000001'].value"
   ]
  },
  {
   "cell_type": "code",
   "execution_count": null,
   "metadata": {},
   "outputs": [],
   "source": []
  },
  {
   "cell_type": "code",
   "execution_count": 25,
   "metadata": {},
   "outputs": [
    {
     "data": {
      "text/plain": [
       "['__array__',\n",
       " '__bool__',\n",
       " '__class__',\n",
       " '__delattr__',\n",
       " '__dict__',\n",
       " '__dir__',\n",
       " '__doc__',\n",
       " '__eq__',\n",
       " '__format__',\n",
       " '__ge__',\n",
       " '__getattribute__',\n",
       " '__getitem__',\n",
       " '__gt__',\n",
       " '__hash__',\n",
       " '__init__',\n",
       " '__iter__',\n",
       " '__le__',\n",
       " '__len__',\n",
       " '__lt__',\n",
       " '__module__',\n",
       " '__ne__',\n",
       " '__new__',\n",
       " '__nonzero__',\n",
       " '__reduce__',\n",
       " '__reduce_ex__',\n",
       " '__repr__',\n",
       " '__setattr__',\n",
       " '__setitem__',\n",
       " '__sizeof__',\n",
       " '__str__',\n",
       " '__subclasshook__',\n",
       " '__weakref__',\n",
       " '_d',\n",
       " '_dcpl',\n",
       " '_dxpl',\n",
       " '_e',\n",
       " '_filters',\n",
       " '_id',\n",
       " '_lapl',\n",
       " '_lcpl',\n",
       " '_local',\n",
       " 'astype',\n",
       " 'attrs',\n",
       " 'chunks',\n",
       " 'compression',\n",
       " 'compression_opts',\n",
       " 'dims',\n",
       " 'dtype',\n",
       " 'file',\n",
       " 'fillvalue',\n",
       " 'fletcher32',\n",
       " 'id',\n",
       " 'len',\n",
       " 'maxshape',\n",
       " 'name',\n",
       " 'ndim',\n",
       " 'parent',\n",
       " 'read_direct',\n",
       " 'ref',\n",
       " 'regionref',\n",
       " 'resize',\n",
       " 'scaleoffset',\n",
       " 'shape',\n",
       " 'shuffle',\n",
       " 'size',\n",
       " 'value',\n",
       " 'write_direct']"
      ]
     },
     "execution_count": 25,
     "metadata": {},
     "output_type": "execute_result"
    }
   ],
   "source": [
    "dir(appsh5['12000001'])"
   ]
  },
  {
   "cell_type": "code",
   "execution_count": null,
   "metadata": {},
   "outputs": [],
   "source": []
  },
  {
   "cell_type": "code",
   "execution_count": null,
   "metadata": {},
   "outputs": [],
   "source": []
  }
 ],
 "metadata": {
  "kernelspec": {
   "display_name": "Python 3",
   "language": "python",
   "name": "python3"
  },
  "language_info": {
   "codemirror_mode": {
    "name": "ipython",
    "version": 3
   },
   "file_extension": ".py",
   "mimetype": "text/x-python",
   "name": "python",
   "nbconvert_exporter": "python",
   "pygments_lexer": "ipython3",
   "version": "3.5.2"
  }
 },
 "nbformat": 4,
 "nbformat_minor": 2
}
