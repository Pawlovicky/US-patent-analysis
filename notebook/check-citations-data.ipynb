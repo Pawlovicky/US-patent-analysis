{
 "cells": [
  {
   "cell_type": "code",
   "execution_count": 1,
   "metadata": {
    "collapsed": true
   },
   "outputs": [],
   "source": [
    "import pandas as pd"
   ]
  },
  {
   "cell_type": "code",
   "execution_count": 2,
   "metadata": {},
   "outputs": [],
   "source": [
    "citations = pd.read_csv(\"../data/citations.csv\")"
   ]
  },
  {
   "cell_type": "code",
   "execution_count": 3,
   "metadata": {},
   "outputs": [
    {
     "data": {
      "text/html": [
       "<div>\n",
       "<style scoped>\n",
       "    .dataframe tbody tr th:only-of-type {\n",
       "        vertical-align: middle;\n",
       "    }\n",
       "\n",
       "    .dataframe tbody tr th {\n",
       "        vertical-align: top;\n",
       "    }\n",
       "\n",
       "    .dataframe thead th {\n",
       "        text-align: right;\n",
       "    }\n",
       "</style>\n",
       "<table border=\"1\" class=\"dataframe\">\n",
       "  <thead>\n",
       "    <tr style=\"text-align: right;\">\n",
       "      <th></th>\n",
       "      <th>app_id</th>\n",
       "      <th>citation_pat_pgpub_id</th>\n",
       "      <th>parsed</th>\n",
       "      <th>ifw_number</th>\n",
       "      <th>action_type</th>\n",
       "      <th>action_subtype</th>\n",
       "      <th>form892</th>\n",
       "      <th>form1449</th>\n",
       "      <th>citation_in_oa</th>\n",
       "    </tr>\n",
       "  </thead>\n",
       "  <tbody>\n",
       "    <tr>\n",
       "      <th>0</th>\n",
       "      <td>12000001</td>\n",
       "      <td>20060218340</td>\n",
       "      <td>20060218340</td>\n",
       "      <td>NaN</td>\n",
       "      <td>NaN</td>\n",
       "      <td>NaN</td>\n",
       "      <td>0</td>\n",
       "      <td>1</td>\n",
       "      <td>0</td>\n",
       "    </tr>\n",
       "    <tr>\n",
       "      <th>1</th>\n",
       "      <td>12000001</td>\n",
       "      <td>2343564</td>\n",
       "      <td>2343564</td>\n",
       "      <td>NaN</td>\n",
       "      <td>NaN</td>\n",
       "      <td>NaN</td>\n",
       "      <td>1</td>\n",
       "      <td>0</td>\n",
       "      <td>0</td>\n",
       "    </tr>\n",
       "    <tr>\n",
       "      <th>2</th>\n",
       "      <td>12000001</td>\n",
       "      <td>6622200</td>\n",
       "      <td>6622200</td>\n",
       "      <td>NaN</td>\n",
       "      <td>NaN</td>\n",
       "      <td>NaN</td>\n",
       "      <td>1</td>\n",
       "      <td>0</td>\n",
       "      <td>0</td>\n",
       "    </tr>\n",
       "    <tr>\n",
       "      <th>3</th>\n",
       "      <td>12000001</td>\n",
       "      <td>6182004</td>\n",
       "      <td>6182004</td>\n",
       "      <td>NaN</td>\n",
       "      <td>NaN</td>\n",
       "      <td>NaN</td>\n",
       "      <td>0</td>\n",
       "      <td>1</td>\n",
       "      <td>0</td>\n",
       "    </tr>\n",
       "    <tr>\n",
       "      <th>4</th>\n",
       "      <td>12000001</td>\n",
       "      <td>2323432</td>\n",
       "      <td>2323432</td>\n",
       "      <td>NaN</td>\n",
       "      <td>NaN</td>\n",
       "      <td>NaN</td>\n",
       "      <td>1</td>\n",
       "      <td>0</td>\n",
       "      <td>0</td>\n",
       "    </tr>\n",
       "  </tbody>\n",
       "</table>\n",
       "</div>"
      ],
      "text/plain": [
       "     app_id citation_pat_pgpub_id       parsed ifw_number  action_type  \\\n",
       "0  12000001           20060218340  20060218340        NaN          NaN   \n",
       "1  12000001               2343564      2343564        NaN          NaN   \n",
       "2  12000001               6622200      6622200        NaN          NaN   \n",
       "3  12000001               6182004      6182004        NaN          NaN   \n",
       "4  12000001               2323432      2323432        NaN          NaN   \n",
       "\n",
       "  action_subtype  form892  form1449  citation_in_oa  \n",
       "0            NaN        0         1               0  \n",
       "1            NaN        1         0               0  \n",
       "2            NaN        1         0               0  \n",
       "3            NaN        0         1               0  \n",
       "4            NaN        1         0               0  "
      ]
     },
     "execution_count": 3,
     "metadata": {},
     "output_type": "execute_result"
    }
   ],
   "source": [
    "citations.head()"
   ]
  },
  {
   "cell_type": "markdown",
   "metadata": {},
   "source": [
    "How to read app_id, especially first 2 digits:\n",
    "https://patentlibrarian.com/reference-library/u-s-application-series-codes/\n",
    "\n",
    "Les's check 13xxxxxx : Dec. 2010 – Aug. 2013"
   ]
  },
  {
   "cell_type": "code",
   "execution_count": 4,
   "metadata": {},
   "outputs": [],
   "source": [
    "citations = citations[(citations.app_id >= 13000000) & (citations.app_id < 14000000)]"
   ]
  },
  {
   "cell_type": "code",
   "execution_count": 5,
   "metadata": {},
   "outputs": [
    {
     "data": {
      "text/html": [
       "<div>\n",
       "<style scoped>\n",
       "    .dataframe tbody tr th:only-of-type {\n",
       "        vertical-align: middle;\n",
       "    }\n",
       "\n",
       "    .dataframe tbody tr th {\n",
       "        vertical-align: top;\n",
       "    }\n",
       "\n",
       "    .dataframe thead th {\n",
       "        text-align: right;\n",
       "    }\n",
       "</style>\n",
       "<table border=\"1\" class=\"dataframe\">\n",
       "  <thead>\n",
       "    <tr style=\"text-align: right;\">\n",
       "      <th></th>\n",
       "      <th>app_id</th>\n",
       "      <th>citation_pat_pgpub_id</th>\n",
       "      <th>parsed</th>\n",
       "      <th>ifw_number</th>\n",
       "      <th>action_type</th>\n",
       "      <th>action_subtype</th>\n",
       "      <th>form892</th>\n",
       "      <th>form1449</th>\n",
       "      <th>citation_in_oa</th>\n",
       "    </tr>\n",
       "  </thead>\n",
       "  <tbody>\n",
       "    <tr>\n",
       "      <th>19182111</th>\n",
       "      <td>13000002</td>\n",
       "      <td>20050278581</td>\n",
       "      <td>20050278581</td>\n",
       "      <td>NaN</td>\n",
       "      <td>NaN</td>\n",
       "      <td>NaN</td>\n",
       "      <td>1</td>\n",
       "      <td>1</td>\n",
       "      <td>0</td>\n",
       "    </tr>\n",
       "    <tr>\n",
       "      <th>19182112</th>\n",
       "      <td>13000002</td>\n",
       "      <td>20080010530</td>\n",
       "      <td>20080010530</td>\n",
       "      <td>NaN</td>\n",
       "      <td>NaN</td>\n",
       "      <td>NaN</td>\n",
       "      <td>0</td>\n",
       "      <td>1</td>\n",
       "      <td>0</td>\n",
       "    </tr>\n",
       "    <tr>\n",
       "      <th>19182113</th>\n",
       "      <td>13000002</td>\n",
       "      <td>20110208737</td>\n",
       "      <td>20110208737</td>\n",
       "      <td>NaN</td>\n",
       "      <td>NaN</td>\n",
       "      <td>NaN</td>\n",
       "      <td>0</td>\n",
       "      <td>1</td>\n",
       "      <td>0</td>\n",
       "    </tr>\n",
       "    <tr>\n",
       "      <th>19182114</th>\n",
       "      <td>13000002</td>\n",
       "      <td>20060047908</td>\n",
       "      <td>20060047908</td>\n",
       "      <td>NaN</td>\n",
       "      <td>NaN</td>\n",
       "      <td>NaN</td>\n",
       "      <td>0</td>\n",
       "      <td>1</td>\n",
       "      <td>0</td>\n",
       "    </tr>\n",
       "    <tr>\n",
       "      <th>19182115</th>\n",
       "      <td>13000002</td>\n",
       "      <td>20090132866</td>\n",
       "      <td>20090132866</td>\n",
       "      <td>NaN</td>\n",
       "      <td>NaN</td>\n",
       "      <td>NaN</td>\n",
       "      <td>0</td>\n",
       "      <td>1</td>\n",
       "      <td>0</td>\n",
       "    </tr>\n",
       "  </tbody>\n",
       "</table>\n",
       "</div>"
      ],
      "text/plain": [
       "            app_id citation_pat_pgpub_id       parsed ifw_number  action_type  \\\n",
       "19182111  13000002           20050278581  20050278581        NaN          NaN   \n",
       "19182112  13000002           20080010530  20080010530        NaN          NaN   \n",
       "19182113  13000002           20110208737  20110208737        NaN          NaN   \n",
       "19182114  13000002           20060047908  20060047908        NaN          NaN   \n",
       "19182115  13000002           20090132866  20090132866        NaN          NaN   \n",
       "\n",
       "         action_subtype  form892  form1449  citation_in_oa  \n",
       "19182111            NaN        1         1               0  \n",
       "19182112            NaN        0         1               0  \n",
       "19182113            NaN        0         1               0  \n",
       "19182114            NaN        0         1               0  \n",
       "19182115            NaN        0         1               0  "
      ]
     },
     "execution_count": 5,
     "metadata": {},
     "output_type": "execute_result"
    }
   ],
   "source": [
    "citations.head()"
   ]
  },
  {
   "cell_type": "code",
   "execution_count": 6,
   "metadata": {},
   "outputs": [
    {
     "data": {
      "text/plain": [
       "22752171"
      ]
     },
     "execution_count": 6,
     "metadata": {},
     "output_type": "execute_result"
    }
   ],
   "source": [
    "len(citations)"
   ]
  },
  {
   "cell_type": "markdown",
   "metadata": {},
   "source": [
    "`parsed` column stands for cited patent in office actions.\n",
    "\n",
    "This columns includes several id types, such as 2011xxxxxxx, xxxxxxx and others.  \n",
    "Here let's focus on 2011xxxxxxx case."
   ]
  },
  {
   "cell_type": "code",
   "execution_count": 7,
   "metadata": {},
   "outputs": [
    {
     "name": "stdout",
     "output_type": "stream",
     "text": [
      "1990 11200\n",
      "1991 10200\n",
      "1992 8907\n",
      "1993 8413\n",
      "1994 9201\n",
      "1995 9593\n",
      "1996 8429\n",
      "1997 9027\n",
      "1998 8404\n",
      "1999 9716\n",
      "2000 57250\n",
      "2001 182148\n",
      "2002 534186\n",
      "2003 654308\n",
      "2004 761097\n",
      "2005 882795\n",
      "2006 928709\n",
      "2007 995298\n",
      "2008 1096466\n",
      "2009 1133443\n",
      "2010 1134590\n",
      "2011 964546\n",
      "2012 722263\n",
      "2013 436353\n"
     ]
    }
   ],
   "source": [
    "for year in range(1990,2014):\n",
    "    year_str = str(year)\n",
    "    print(year_str, len(citations[ citations['parsed'].str.contains(year_str).fillna(False) ]))"
   ]
  },
  {
   "cell_type": "code",
   "execution_count": null,
   "metadata": {
    "collapsed": true
   },
   "outputs": [],
   "source": []
  }
 ],
 "metadata": {
  "kernelspec": {
   "display_name": "Python 3",
   "language": "python",
   "name": "python3"
  },
  "language_info": {
   "codemirror_mode": {
    "name": "ipython",
    "version": 3
   },
   "file_extension": ".py",
   "mimetype": "text/x-python",
   "name": "python",
   "nbconvert_exporter": "python",
   "pygments_lexer": "ipython3",
   "version": "3.5.2"
  }
 },
 "nbformat": 4,
 "nbformat_minor": 2
}
