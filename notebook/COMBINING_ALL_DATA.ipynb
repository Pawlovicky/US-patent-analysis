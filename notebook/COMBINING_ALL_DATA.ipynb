{
 "cells": [
  {
   "cell_type": "code",
   "execution_count": 1,
   "metadata": {},
   "outputs": [],
   "source": [
    "import pandas as pd\n",
    "import pickle \n",
    "import xml.etree.cElementTree as ET\n",
    "from bs4 import BeautifulSoup\n",
    "import requests\n",
    "import urllib\n",
    "import os\n",
    "import zipfile\n",
    "import lxml\n",
    "import h5py\n",
    "\n",
    "%load_ext autoreload\n",
    "%autoreload 2\n",
    "#import patent_utils as pu"
   ]
  },
  {
   "cell_type": "code",
   "execution_count": 2,
   "metadata": {},
   "outputs": [
    {
     "name": "stdout",
     "output_type": "stream",
     "text": [
      "APPLICATION_XML_FILE_INSPECTION.ipynb  \u001b[0m\u001b[01;34mdata\u001b[0m/\r\n",
      "COMBINING_ALL_DATA.ipynb               data-checking.ipynb\r\n",
      "GRANTS_XML_PREPARATION.ipynb           data_collection.ipynb\r\n",
      "\u001b[01;34m__pycache__\u001b[0m/                           patent_utils.py\r\n",
      "check-citations-data.ipynb\r\n"
     ]
    }
   ],
   "source": [
    "%ls"
   ]
  },
  {
   "cell_type": "markdown",
   "metadata": {},
   "source": [
    "# 1. Load Office Actions/Application/Grants\n"
   ]
  },
  {
   "cell_type": "code",
   "execution_count": 11,
   "metadata": {},
   "outputs": [
    {
     "name": "stderr",
     "output_type": "stream",
     "text": [
      "<string>:2: DtypeWarning: Columns (1,4,5) have mixed types. Specify dtype option on import or set low_memory=False.\n"
     ]
    },
    {
     "name": "stdout",
     "output_type": "stream",
     "text": [
      "CPU times: user 1min 47s, sys: 40 s, total: 2min 27s\n",
      "Wall time: 2min 55s\n"
     ]
    },
    {
     "name": "stderr",
     "output_type": "stream",
     "text": [
      "/usr/local/lib/python3.5/dist-packages/pandas/core/indexing.py:194: SettingWithCopyWarning: \n",
      "A value is trying to be set on a copy of a slice from a DataFrame\n",
      "\n",
      "See the caveats in the documentation: http://pandas.pydata.org/pandas-docs/stable/indexing.html#indexing-view-versus-copy\n",
      "  self._setitem_with_indexer(indexer, value)\n"
     ]
    }
   ],
   "source": [
    "%%time\n",
    "grants = pd.read_csv('/work/data/grants/2012_all_grants.csv').iloc[:, 1:]\n",
    "apps = pd.read_csv('/work/data/apps/2017_all_apps.csv').iloc[:, 1:]\n",
    "oas = pd.read_csv('/work/data/office_actions.csv')\n",
    "cits = pd.read_csv('/work/data/citations.csv')\n",
    "rej = pd.read_csv('/work/data/rejections.csv')\n",
    "\n",
    "grants['pub_doc-number'].loc[grants['pub_doc-number'].str.startswith('0')] = \\\n",
    "grants['pub_doc-number'].loc[grants['pub_doc-number'].str.startswith('0')].\\\n",
    "    astype(int).astype(str)\n",
    "grants = grants.rename(columns = {'pub_doc-number': 'parsed'})\n",
    "apps = apps.rename(columns = {'app_doc-number': 'app_id'})\n"
   ]
  },
  {
   "cell_type": "code",
   "execution_count": 12,
   "metadata": {},
   "outputs": [
    {
     "data": {
      "text/plain": [
       "(471,)"
      ]
     },
     "execution_count": 12,
     "metadata": {},
     "output_type": "execute_result"
    }
   ],
   "source": [
    "xa = apps.loc[:, ['app_id', 'fnm']].rename(columns = {'fnm':'app_fnm'}).merge(\n",
    "    cits, on='app_id', how='inner').merge(grants, on='parsed', how='inner')\n",
    "xa.loc[~xa.ifw_number.isnull()].merge(oas, on=['app_id', 'ifw_number'], \n",
    "                                      how='inner').app_id.unique().shape"
   ]
  },
  {
   "cell_type": "markdown",
   "metadata": {},
   "source": [
    "# 2. Get a sense about data coverage/size\n",
    "- 2 Mn unique app_ids with citations\n",
    "- 5 Mn citations in total\n",
    "- 1.9 Mn citations with office actions in total"
   ]
  },
  {
   "cell_type": "code",
   "execution_count": 13,
   "metadata": {},
   "outputs": [
    {
     "data": {
      "text/plain": [
       "(1899607,)"
      ]
     },
     "execution_count": 13,
     "metadata": {},
     "output_type": "execute_result"
    }
   ],
   "source": [
    "oas.merge(cits, on=['app_id', 'ifw_number'], how='inner').app_id.unique().shape"
   ]
  },
  {
   "cell_type": "code",
   "execution_count": 14,
   "metadata": {},
   "outputs": [
    {
     "name": "stderr",
     "output_type": "stream",
     "text": [
      "/usr/local/lib/python3.5/dist-packages/pandas/core/indexing.py:194: SettingWithCopyWarning: \n",
      "A value is trying to be set on a copy of a slice from a DataFrame\n",
      "\n",
      "See the caveats in the documentation: http://pandas.pydata.org/pandas-docs/stable/indexing.html#indexing-view-versus-copy\n",
      "  self._setitem_with_indexer(indexer, value)\n"
     ]
    }
   ],
   "source": [
    "apps = [pd.read_csv('/work/data/apps/'+x).iloc[:, 1:] for x in \n",
    "            os.listdir('/work/data/apps') if '.csv' in x]\n",
    "apps = pd.concat(apps)\n",
    "\n",
    "grants = [pd.read_csv('/work/data/grants/'+x).iloc[:, 1:] for x in \n",
    "             os.listdir('/work/data/grants') if '.csv' in x]\n",
    "grants = pd.concat(grants)\n",
    "\n",
    "grants['pub_doc-number'].loc[grants['pub_doc-number'].str.startswith('0')] = \\\n",
    "grants['pub_doc-number'].loc[grants['pub_doc-number'].str.startswith('0')].\\\n",
    "    astype(int).astype(str)\n",
    "grants = grants.rename(columns = {'pub_doc-number': 'parsed'})\n",
    "apps = apps.rename(columns = {'app_doc-number': 'app_id'})\n"
   ]
  },
  {
   "cell_type": "code",
   "execution_count": 15,
   "metadata": {},
   "outputs": [],
   "source": [
    "xa = apps.loc[:, ['app_id', 'fnm']].rename(columns = {'fnm':'app_fnm'}).merge(\n",
    "    cits, on='app_id', how='inner').merge(grants, on='parsed', how='inner')\n",
    "xa_fin = xa.loc[~xa.ifw_number.isnull()].merge(oas, on=['app_id', 'ifw_number'], \n",
    "                                      how='inner')"
   ]
  },
  {
   "cell_type": "code",
   "execution_count": 42,
   "metadata": {},
   "outputs": [],
   "source": [
    "xa_fin.to_csv('../data/applications_with_office_actions_citing_grants_with_inner_join.csv')"
   ]
  },
  {
   "cell_type": "code",
   "execution_count": 19,
   "metadata": {},
   "outputs": [
    {
     "data": {
      "text/html": [
       "<div>\n",
       "<style scoped>\n",
       "    .dataframe tbody tr th:only-of-type {\n",
       "        vertical-align: middle;\n",
       "    }\n",
       "\n",
       "    .dataframe tbody tr th {\n",
       "        vertical-align: top;\n",
       "    }\n",
       "\n",
       "    .dataframe thead th {\n",
       "        text-align: right;\n",
       "    }\n",
       "</style>\n",
       "<table border=\"1\" class=\"dataframe\">\n",
       "  <thead>\n",
       "    <tr style=\"text-align: right;\">\n",
       "      <th></th>\n",
       "      <th>app_id</th>\n",
       "      <th>app_fnm</th>\n",
       "      <th>citation_pat_pgpub_id</th>\n",
       "      <th>parsed</th>\n",
       "      <th>ifw_number</th>\n",
       "      <th>action_type</th>\n",
       "      <th>action_subtype</th>\n",
       "      <th>form892</th>\n",
       "      <th>form1449</th>\n",
       "      <th>citation_in_oa</th>\n",
       "      <th>...</th>\n",
       "      <th>rejection_103</th>\n",
       "      <th>rejection_112</th>\n",
       "      <th>rejection_dp</th>\n",
       "      <th>objection</th>\n",
       "      <th>allowed_claims</th>\n",
       "      <th>cite102_gt1</th>\n",
       "      <th>cite103_gt3</th>\n",
       "      <th>cite103_eq1</th>\n",
       "      <th>cite103_max</th>\n",
       "      <th>signature_type</th>\n",
       "    </tr>\n",
       "  </thead>\n",
       "  <tbody>\n",
       "    <tr>\n",
       "      <th>42137</th>\n",
       "      <td>14858662</td>\n",
       "      <td>/work/data/apps/2018/ipa180906/F_921.xml</td>\n",
       "      <td>7717776</td>\n",
       "      <td>7717776</td>\n",
       "      <td>IR6GMPVKRXEAPX1</td>\n",
       "      <td>103.0</td>\n",
       "      <td>a</td>\n",
       "      <td>0</td>\n",
       "      <td>1</td>\n",
       "      <td>1</td>\n",
       "      <td>...</td>\n",
       "      <td>1</td>\n",
       "      <td>0</td>\n",
       "      <td>0</td>\n",
       "      <td>0</td>\n",
       "      <td>0</td>\n",
       "      <td>0</td>\n",
       "      <td>0</td>\n",
       "      <td>0</td>\n",
       "      <td>2</td>\n",
       "      <td>1</td>\n",
       "    </tr>\n",
       "    <tr>\n",
       "      <th>770541</th>\n",
       "      <td>14145996</td>\n",
       "      <td>/work/data/apps/2018/ipa180913/F_601.xml</td>\n",
       "      <td>7156655</td>\n",
       "      <td>7156655</td>\n",
       "      <td>IN91S0URPXXIFW4</td>\n",
       "      <td>103.0</td>\n",
       "      <td>NaN</td>\n",
       "      <td>1</td>\n",
       "      <td>0</td>\n",
       "      <td>1</td>\n",
       "      <td>...</td>\n",
       "      <td>1</td>\n",
       "      <td>0</td>\n",
       "      <td>0</td>\n",
       "      <td>0</td>\n",
       "      <td>0</td>\n",
       "      <td>0</td>\n",
       "      <td>0</td>\n",
       "      <td>1</td>\n",
       "      <td>2</td>\n",
       "      <td>1</td>\n",
       "    </tr>\n",
       "    <tr>\n",
       "      <th>770543</th>\n",
       "      <td>14145996</td>\n",
       "      <td>/work/data/apps/2018/ipa180913/F_601.xml</td>\n",
       "      <td>7156655</td>\n",
       "      <td>7156655</td>\n",
       "      <td>IXIYTOEPRXEAPX4</td>\n",
       "      <td>103.0</td>\n",
       "      <td>NaN</td>\n",
       "      <td>1</td>\n",
       "      <td>0</td>\n",
       "      <td>1</td>\n",
       "      <td>...</td>\n",
       "      <td>1</td>\n",
       "      <td>0</td>\n",
       "      <td>0</td>\n",
       "      <td>0</td>\n",
       "      <td>0</td>\n",
       "      <td>0</td>\n",
       "      <td>0</td>\n",
       "      <td>0</td>\n",
       "      <td>2</td>\n",
       "      <td>1</td>\n",
       "    </tr>\n",
       "    <tr>\n",
       "      <th>770539</th>\n",
       "      <td>14145996</td>\n",
       "      <td>/work/data/apps/2018/ipa180913/F_601.xml</td>\n",
       "      <td>7156655</td>\n",
       "      <td>7156655</td>\n",
       "      <td>IBKQR4RAPXXIFW4</td>\n",
       "      <td>103.0</td>\n",
       "      <td>NaN</td>\n",
       "      <td>1</td>\n",
       "      <td>0</td>\n",
       "      <td>1</td>\n",
       "      <td>...</td>\n",
       "      <td>1</td>\n",
       "      <td>0</td>\n",
       "      <td>0</td>\n",
       "      <td>1</td>\n",
       "      <td>0</td>\n",
       "      <td>0</td>\n",
       "      <td>0</td>\n",
       "      <td>1</td>\n",
       "      <td>2</td>\n",
       "      <td>1</td>\n",
       "    </tr>\n",
       "    <tr>\n",
       "      <th>825544</th>\n",
       "      <td>14025163</td>\n",
       "      <td>/work/data/apps/2018/ipa180913/F_836.xml</td>\n",
       "      <td>7345031</td>\n",
       "      <td>7345031</td>\n",
       "      <td>IOOFOFVURXEAPX3</td>\n",
       "      <td>103.0</td>\n",
       "      <td>a</td>\n",
       "      <td>1</td>\n",
       "      <td>0</td>\n",
       "      <td>1</td>\n",
       "      <td>...</td>\n",
       "      <td>1</td>\n",
       "      <td>1</td>\n",
       "      <td>0</td>\n",
       "      <td>0</td>\n",
       "      <td>0</td>\n",
       "      <td>0</td>\n",
       "      <td>1</td>\n",
       "      <td>0</td>\n",
       "      <td>4</td>\n",
       "      <td>2</td>\n",
       "    </tr>\n",
       "  </tbody>\n",
       "</table>\n",
       "<p>5 rows × 41 columns</p>\n",
       "</div>"
      ],
      "text/plain": [
       "          app_id                                   app_fnm  \\\n",
       "42137   14858662  /work/data/apps/2018/ipa180906/F_921.xml   \n",
       "770541  14145996  /work/data/apps/2018/ipa180913/F_601.xml   \n",
       "770543  14145996  /work/data/apps/2018/ipa180913/F_601.xml   \n",
       "770539  14145996  /work/data/apps/2018/ipa180913/F_601.xml   \n",
       "825544  14025163  /work/data/apps/2018/ipa180913/F_836.xml   \n",
       "\n",
       "       citation_pat_pgpub_id   parsed       ifw_number  action_type  \\\n",
       "42137                7717776  7717776  IR6GMPVKRXEAPX1        103.0   \n",
       "770541               7156655  7156655  IN91S0URPXXIFW4        103.0   \n",
       "770543               7156655  7156655  IXIYTOEPRXEAPX4        103.0   \n",
       "770539               7156655  7156655  IBKQR4RAPXXIFW4        103.0   \n",
       "825544               7345031  7345031  IOOFOFVURXEAPX3        103.0   \n",
       "\n",
       "       action_subtype  form892  form1449  citation_in_oa      ...        \\\n",
       "42137               a        0         1               1      ...         \n",
       "770541            NaN        1         0               1      ...         \n",
       "770543            NaN        1         0               1      ...         \n",
       "770539            NaN        1         0               1      ...         \n",
       "825544              a        1         0               1      ...         \n",
       "\n",
       "       rejection_103  rejection_112  rejection_dp  objection allowed_claims  \\\n",
       "42137              1              0             0          0              0   \n",
       "770541             1              0             0          0              0   \n",
       "770543             1              0             0          0              0   \n",
       "770539             1              0             0          1              0   \n",
       "825544             1              1             0          0              0   \n",
       "\n",
       "       cite102_gt1  cite103_gt3 cite103_eq1  cite103_max signature_type  \n",
       "42137            0            0           0            2              1  \n",
       "770541           0            0           1            2              1  \n",
       "770543           0            0           0            2              1  \n",
       "770539           0            0           1            2              1  \n",
       "825544           0            1           0            4              2  \n",
       "\n",
       "[5 rows x 41 columns]"
      ]
     },
     "execution_count": 19,
     "metadata": {},
     "output_type": "execute_result"
    }
   ],
   "source": [
    "xa_fin.sort_values('app_fnm')"
   ]
  },
  {
   "cell_type": "code",
   "execution_count": 7,
   "metadata": {},
   "outputs": [],
   "source": [
    "import h5py\n",
    "filename = '../data/applications.h5'\n",
    "f = h5py.File(filename, 'r')\n",
    "#print(\"Keys: %s\" % f.keys())\n",
    "a_group_key = list(f.keys())"
   ]
  },
  {
   "cell_type": "code",
   "execution_count": 28,
   "metadata": {},
   "outputs": [
    {
     "data": {
      "text/plain": [
       "(645, 41)"
      ]
     },
     "execution_count": 28,
     "metadata": {},
     "output_type": "execute_result"
    }
   ],
   "source": [
    "xa_fin.loc[xa_fin['fnm'].str.contains('/2012/') & xa_fin['app_fnm'].str.contains('/2017/')].shape"
   ]
  },
  {
   "cell_type": "code",
   "execution_count": 41,
   "metadata": {},
   "outputs": [
    {
     "name": "stdout",
     "output_type": "stream",
     "text": [
      "CPU times: user 2.81 s, sys: 115 ms, total: 2.93 s\n",
      "Wall time: 10.5 s\n"
     ]
    }
   ],
   "source": [
    "%%time\n",
    "xml_list = [f[str(x)].value for x in xa_fin.loc[xa_fin['fnm'].str.contains('/2012/') & \n",
    "                                          xa_fin['app_fnm'].str.contains('/2017/')].app_id.tolist()]"
   ]
  },
  {
   "cell_type": "code",
   "execution_count": null,
   "metadata": {
    "scrolled": true
   },
   "outputs": [],
   "source": [
    "app_fnms = xa_fin.loc[:, ['app_id', 'app_fnm']].drop_duplicates()\n",
    "app_fnms = app_fnms.groupby('app_id')['app_fnm'].last().to_frame('app_fnm')\n",
    "app_fnms['directory'] = app_fnms.app_fnm.apply(\n",
    "    lambda x: '/'.join(x.split('/')[:-1]))\n",
    "app_fnms = app_fnms.sort_values('app_fnm')"
   ]
  },
  {
   "cell_type": "code",
   "execution_count": null,
   "metadata": {},
   "outputs": [],
   "source": [
    "h5file = h5py.File('/work/data/applicationsY.h5', 'w')\n",
    "for x in app_fnms.iterrows():\n",
    "    if os.path.exists(newdir):\n",
    "        os.mkdir(newdir)\n",
    "    f = open(x[1]['app_fnm'], 'r')\n",
    "    fStr = f.read()\n",
    "    f.close()\n",
    "    h5file.create_dataset(str(x[0]), data = fStr)\n",
    "h5file.close()"
   ]
  },
  {
   "cell_type": "code",
   "execution_count": null,
   "metadata": {},
   "outputs": [],
   "source": [
    "grants_fnms = xa_fin.loc[:, ['parsed', 'fnm']].drop_duplicates()\n",
    "grants_fnms = grants_fnms.groupby('parsed')['fnm'].last().to_frame('fnm')\n",
    "grants_fnms['directory'] = grants_fnms.fnm.apply(\n",
    "    lambda x: '/'.join(x.split('/')[:-1]))\n",
    "grants_fnms = grants_fnms.sort_values('fnm')"
   ]
  },
  {
   "cell_type": "code",
   "execution_count": null,
   "metadata": {},
   "outputs": [],
   "source": [
    "h5file = h5py.File('/work/data/grants.h5', 'w')\n",
    "for x in grants_fnms.iterrows():\n",
    "    if os.path.exists(newdir):\n",
    "        os.mkdir(newdir)\n",
    "    f = open(x[1]['fnm'], 'r')\n",
    "    fStr = f.read()\n",
    "    f.close()\n",
    "    h5file.create_dataset(str(x[0]), data = fStr)\n",
    "h5file.close()"
   ]
  },
  {
   "cell_type": "code",
   "execution_count": null,
   "metadata": {},
   "outputs": [],
   "source": [
    "print(apps.app_id.shape[0] - apps.app_id.unique().shape[0])\n",
    "apps = apps.loc[apps.reset_index().groupby('app_id')['app_date'].idxmax()]\n",
    "print(apps.app_id.shape[0] - apps.app_id.unique().shape[0])\n",
    "apps = pd.concat([apps.set_index('app_id')], axis=1, keys=['APPLICATION'])"
   ]
  },
  {
   "cell_type": "code",
   "execution_count": null,
   "metadata": {},
   "outputs": [],
   "source": [
    "cits = pd.concat([cits.set_index(['app_id', 'ifw_number', 'parsed'])],\n",
    "                  axis=1, keys=['CITATIONS'])"
   ]
  },
  {
   "cell_type": "code",
   "execution_count": null,
   "metadata": {},
   "outputs": [],
   "source": [
    "cits_17 = cits.join(apps, how='inner')\n",
    "cits_17.shape"
   ]
  },
  {
   "cell_type": "code",
   "execution_count": null,
   "metadata": {},
   "outputs": [],
   "source": [
    "oas_17 = oas.set_index(['app_id', 'ifw_number']).join(apps, how='inner')"
   ]
  },
  {
   "cell_type": "code",
   "execution_count": null,
   "metadata": {},
   "outputs": [],
   "source": [
    "oas = pd.concat([oas.set_index(['app_id', 'ifw_number'])],\n",
    "                  axis=1, keys=['OFFICE ACTIONS'])\n",
    "oas_17 = oas.join(apps, how='inner')\n",
    "oas_17.shape"
   ]
  },
  {
   "cell_type": "markdown",
   "metadata": {},
   "source": [
    "# Brief summary\n",
    "- 2017 Applications have 300K citations\n",
    "- 2017 Applications have around 30K of office actions"
   ]
  },
  {
   "cell_type": "code",
   "execution_count": null,
   "metadata": {},
   "outputs": [],
   "source": [
    "print(grants.parsed.shape[0] - grants.parsed.unique().shape[0])"
   ]
  },
  {
   "cell_type": "code",
   "execution_count": null,
   "metadata": {},
   "outputs": [],
   "source": [
    "grants = pd.concat([grants.set_index('parsed')], axis=1, keys=['GRANTS'])\n",
    "cits_12_17 = cits_17.join(grants, how='inner')\n",
    "cits_12_17 = cits_12_17.reset_index('ifw_number').drop('ifw_number', axis=1).\\\n",
    "           drop_duplicates()\n",
    "cits_12_17.shape"
   ]
  },
  {
   "cell_type": "code",
   "execution_count": null,
   "metadata": {},
   "outputs": [],
   "source": [
    "cits_12_17.drop_duplicates().shape"
   ]
  },
  {
   "cell_type": "code",
   "execution_count": null,
   "metadata": {},
   "outputs": [],
   "source": [
    "cits.index.get_level_values(1).isnull().sum()/cits.index.get_level_values(1).isnull().sum()"
   ]
  },
  {
   "cell_type": "code",
   "execution_count": null,
   "metadata": {},
   "outputs": [],
   "source": [
    "oasifw = oas.merge(cits, on=['app_id', 'ifw_number'], how='left')\n",
    "oasifw = oasifw.dropna(subset=['parsed'])"
   ]
  },
  {
   "cell_type": "code",
   "execution_count": null,
   "metadata": {},
   "outputs": [],
   "source": [
    "cits_2017 = cits.merge(apps, on='app_id')\n",
    "cits_2017.shape"
   ]
  },
  {
   "cell_type": "code",
   "execution_count": null,
   "metadata": {},
   "outputs": [],
   "source": [
    "oas_2017 = oas.merge(apps, on='app_id')\n",
    "oas_2017.shape"
   ]
  },
  {
   "cell_type": "code",
   "execution_count": null,
   "metadata": {},
   "outputs": [],
   "source": [
    "cits_12_17 = cits_2017.merge(grants.rename(columns = {'pub_doc-number': 'parsed'}).\\\n",
    "                astype('str'), on='parsed')"
   ]
  },
  {
   "cell_type": "code",
   "execution_count": null,
   "metadata": {},
   "outputs": [],
   "source": [
    "cits_12_17.parsed.unique().shape\n",
    "cits_12_17.head()"
   ]
  },
  {
   "cell_type": "code",
   "execution_count": null,
   "metadata": {},
   "outputs": [],
   "source": [
    "cits_12_17.merge(oas_2017, on=['app_id', 'ifw_number']).shape"
   ]
  },
  {
   "cell_type": "code",
   "execution_count": null,
   "metadata": {},
   "outputs": [],
   "source": [
    "oapps = apps.rename(columns = {'app_doc-number':'app_id'}).\\\n",
    "             merge(oasifw, on='app_id')"
   ]
  },
  {
   "cell_type": "code",
   "execution_count": null,
   "metadata": {},
   "outputs": [],
   "source": [
    "oappsgr = oapps.merge(grants.rename(columns = {'pub_doc-number':'parsed'}),\n",
    "                      on='parsed')"
   ]
  },
  {
   "cell_type": "code",
   "execution_count": null,
   "metadata": {},
   "outputs": [],
   "source": [
    "pgga = pd.read_pickle('/work/data/patent_grants_dic_grants12_app17.dat')b\n"
   ]
  },
  {
   "cell_type": "code",
   "execution_count": null,
   "metadata": {},
   "outputs": [],
   "source": [
    "oappsgr.loc[:, ['app_id', 'parsed']].drop_duplicates().dropna().shape"
   ]
  },
  {
   "cell_type": "code",
   "execution_count": null,
   "metadata": {},
   "outputs": [],
   "source": [
    "lpgga = list(pgga.keys())"
   ]
  },
  {
   "cell_type": "code",
   "execution_count": null,
   "metadata": {},
   "outputs": [],
   "source": [
    "pgga[lpgga[0]]"
   ]
  },
  {
   "cell_type": "code",
   "execution_count": null,
   "metadata": {},
   "outputs": [],
   "source": [
    "oappsgr.drop_duplicates().shape"
   ]
  },
  {
   "cell_type": "code",
   "execution_count": null,
   "metadata": {},
   "outputs": [],
   "source": [
    "len(pgga.keys())"
   ]
  },
  {
   "cell_type": "code",
   "execution_count": null,
   "metadata": {},
   "outputs": [],
   "source": [
    "oappsgr.info()"
   ]
  },
  {
   "cell_type": "code",
   "execution_count": null,
   "metadata": {},
   "outputs": [],
   "source": [
    "oapps.parsed.isin([])"
   ]
  },
  {
   "cell_type": "code",
   "execution_count": null,
   "metadata": {
    "scrolled": true
   },
   "outputs": [],
   "source": [
    "grants.loc[grants['pub_doc-number'].isin(['5425307'])]"
   ]
  },
  {
   "cell_type": "code",
   "execution_count": null,
   "metadata": {},
   "outputs": [],
   "source": [
    "grants['pub_doc-number'].loc[grants['pub_doc-number'].str.startswith('0')] = \\\n",
    "grants['pub_doc-number'].loc[grants['pub_doc-number'].str.startswith('0')].\\\n",
    "    astype(int).astype(str)"
   ]
  },
  {
   "cell_type": "code",
   "execution_count": null,
   "metadata": {},
   "outputs": [],
   "source": [
    "grants.pub_doc-number."
   ]
  },
  {
   "cell_type": "code",
   "execution_count": null,
   "metadata": {},
   "outputs": [],
   "source": [
    "cits_12"
   ]
  },
  {
   "cell_type": "code",
   "execution_count": null,
   "metadata": {},
   "outputs": [],
   "source": [
    "oapps.info()"
   ]
  },
  {
   "cell_type": "code",
   "execution_count": null,
   "metadata": {},
   "outputs": [],
   "source": [
    "oasifw.shape"
   ]
  },
  {
   "cell_type": "code",
   "execution_count": null,
   "metadata": {},
   "outputs": [],
   "source": [
    "oasifw.dropna(subset=['parsed']).shape"
   ]
  },
  {
   "cell_type": "code",
   "execution_count": null,
   "metadata": {},
   "outputs": [],
   "source": [
    "cits.loc[cits.ifw_number == '100867762']"
   ]
  },
  {
   "cell_type": "code",
   "execution_count": null,
   "metadata": {},
   "outputs": [],
   "source": [
    "oasifw.head()"
   ]
  },
  {
   "cell_type": "code",
   "execution_count": null,
   "metadata": {},
   "outputs": [],
   "source": [
    "cits.ifw_number.loc[~cits.ifw_number.isnull()]"
   ]
  },
  {
   "cell_type": "code",
   "execution_count": null,
   "metadata": {},
   "outputs": [],
   "source": []
  },
  {
   "cell_type": "code",
   "execution_count": null,
   "metadata": {},
   "outputs": [],
   "source": [
    "%ls /work/data/"
   ]
  },
  {
   "cell_type": "markdown",
   "metadata": {},
   "source": [
    "# Load grant and application data from 2005\n"
   ]
  },
  {
   "cell_type": "code",
   "execution_count": null,
   "metadata": {},
   "outputs": [],
   "source": []
  }
 ],
 "metadata": {
  "kernelspec": {
   "display_name": "Python 3",
   "language": "python",
   "name": "python3"
  },
  "language_info": {
   "codemirror_mode": {
    "name": "ipython",
    "version": 3
   },
   "file_extension": ".py",
   "mimetype": "text/x-python",
   "name": "python",
   "nbconvert_exporter": "python",
   "pygments_lexer": "ipython3",
   "version": "3.5.2"
  }
 },
 "nbformat": 4,
 "nbformat_minor": 2
}
