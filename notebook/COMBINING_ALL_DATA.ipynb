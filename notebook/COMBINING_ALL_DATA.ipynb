{
 "cells": [
  {
   "cell_type": "code",
   "execution_count": 1,
   "metadata": {},
   "outputs": [],
   "source": [
    "import pandas as pd\n",
    "import pickle \n",
    "import xml.etree.cElementTree as ET\n",
    "from bs4 import BeautifulSoup\n",
    "import requests\n",
    "import urllib\n",
    "import os\n",
    "import zipfile\n",
    "import lxml\n",
    "\n",
    "%load_ext autoreload\n",
    "%autoreload 2\n",
    "#import patent_utils as pu"
   ]
  },
  {
   "cell_type": "code",
   "execution_count": 4,
   "metadata": {},
   "outputs": [
    {
     "name": "stdout",
     "output_type": "stream",
     "text": [
      "APPLICATION_XML_FILE_INSPECTION.ipynb  \u001b[0m\u001b[01;34mdata\u001b[0m/\r\n",
      "COMBINING_ALL_DATA.ipynb               data-checking.ipynb\r\n",
      "GRANTS_XML_PREPARATION.ipynb           data_collection.ipynb\r\n",
      "\u001b[01;34m__pycache__\u001b[0m/                           patent_utils.py\r\n",
      "check-citations-data.ipynb\r\n"
     ]
    }
   ],
   "source": [
    "%ls"
   ]
  },
  {
   "cell_type": "markdown",
   "metadata": {},
   "source": [
    "# 1. Load Office Actions/Application/Grants\n"
   ]
  },
  {
   "cell_type": "code",
   "execution_count": 5,
   "metadata": {},
   "outputs": [
    {
     "name": "stderr",
     "output_type": "stream",
     "text": [
      "<string>:2: DtypeWarning: Columns (1,4,5) have mixed types. Specify dtype option on import or set low_memory=False.\n"
     ]
    },
    {
     "name": "stdout",
     "output_type": "stream",
     "text": [
      "CPU times: user 1min 40s, sys: 16.1 s, total: 1min 56s\n",
      "Wall time: 2min 18s\n"
     ]
    },
    {
     "name": "stderr",
     "output_type": "stream",
     "text": [
      "/usr/local/lib/python3.5/dist-packages/pandas/core/indexing.py:194: SettingWithCopyWarning: \n",
      "A value is trying to be set on a copy of a slice from a DataFrame\n",
      "\n",
      "See the caveats in the documentation: http://pandas.pydata.org/pandas-docs/stable/indexing.html#indexing-view-versus-copy\n",
      "  self._setitem_with_indexer(indexer, value)\n"
     ]
    }
   ],
   "source": [
    "%%time\n",
    "grants = pd.read_csv('/work/data/grants/2012_all_grants.csv').iloc[:, 1:]\n",
    "apps = pd.read_csv('/work/data/apps/2017_all_apps.csv').iloc[:, 1:]\n",
    "oas = pd.read_csv('/work/data/office_actions.csv')\n",
    "cits = pd.read_csv('/work/data/citations.csv')\n",
    "rej = pd.read_csv('/work/data/rejections.csv')\n",
    "\n",
    "grants['pub_doc-number'].loc[grants['pub_doc-number'].str.startswith('0')] = \\\n",
    "grants['pub_doc-number'].loc[grants['pub_doc-number'].str.startswith('0')].\\\n",
    "    astype(int).astype(str)\n",
    "grants = grants.rename(columns = {'pub_doc-number': 'parsed'})\n",
    "apps = apps.rename(columns = {'app_doc-number': 'app_id'})\n"
   ]
  },
  {
   "cell_type": "code",
   "execution_count": 6,
   "metadata": {},
   "outputs": [
    {
     "data": {
      "text/plain": [
       "(471,)"
      ]
     },
     "execution_count": 6,
     "metadata": {},
     "output_type": "execute_result"
    }
   ],
   "source": [
    "xa = apps.loc[:, ['app_id', 'fnm']].rename(columns = {'fnm':'app_fnm'}).merge(\n",
    "    cits, on='app_id', how='inner').merge(grants, on='parsed', how='inner')\n",
    "xa.loc[~xa.ifw_number.isnull()].merge(oas, on=['app_id', 'ifw_number'], \n",
    "                                      how='inner').app_id.unique().shape"
   ]
  },
  {
   "cell_type": "markdown",
   "metadata": {},
   "source": [
    "# 2. Get a sense about data coverage/size\n",
    "- 2 Mn unique app_ids with citations\n",
    "- 5 Mn citations in total\n",
    "- 1.9 Mn citations with office actions in total"
   ]
  },
  {
   "cell_type": "code",
   "execution_count": null,
   "metadata": {},
   "outputs": [],
   "source": [
    "oas.merge(cits, on=['app_id', 'ifw_number'], how='inner').app_id.unique().shape"
   ]
  },
  {
   "cell_type": "code",
   "execution_count": null,
   "metadata": {},
   "outputs": [],
   "source": [
    "%ls data/apps"
   ]
  },
  {
   "cell_type": "code",
   "execution_count": 8,
   "metadata": {},
   "outputs": [
    {
     "name": "stderr",
     "output_type": "stream",
     "text": [
      "/usr/local/lib/python3.5/dist-packages/pandas/core/indexing.py:194: SettingWithCopyWarning: \n",
      "A value is trying to be set on a copy of a slice from a DataFrame\n",
      "\n",
      "See the caveats in the documentation: http://pandas.pydata.org/pandas-docs/stable/indexing.html#indexing-view-versus-copy\n",
      "  self._setitem_with_indexer(indexer, value)\n"
     ]
    }
   ],
   "source": [
    "apps = [pd.read_csv('/work/data/apps/'+x).iloc[:, 1:] for x in \n",
    "            os.listdir('/work/data/apps') if '.csv' in x]\n",
    "apps = pd.concat(apps)\n",
    "\n",
    "grants = [pd.read_csv('/work/data/grants/'+x).iloc[:, 1:] for x in \n",
    "             os.listdir('/work/data/grants') if '.csv' in x]\n",
    "grants = pd.concat(grants)\n",
    "\n",
    "grants['pub_doc-number'].loc[grants['pub_doc-number'].str.startswith('0')] = \\\n",
    "grants['pub_doc-number'].loc[grants['pub_doc-number'].str.startswith('0')].\\\n",
    "    astype(int).astype(str)\n",
    "grants = grants.rename(columns = {'pub_doc-number': 'parsed'})\n",
    "apps = apps.rename(columns = {'app_doc-number': 'app_id'})\n"
   ]
  },
  {
   "cell_type": "code",
   "execution_count": 9,
   "metadata": {},
   "outputs": [
    {
     "data": {
      "text/plain": [
       "(494374,)"
      ]
     },
     "execution_count": 9,
     "metadata": {},
     "output_type": "execute_result"
    }
   ],
   "source": [
    "xa = apps.loc[:, ['app_id', 'fnm']].rename(columns = {'fnm':'app_fnm'}).merge(\n",
    "    cits, on='app_id', how='inner').merge(grants, on='parsed', how='inner')\n",
    "xa.loc[~xa.ifw_number.isnull()].merge(oas, on=['app_id', 'ifw_number'], \n",
    "                                      how='inner').app_id.unique().shape"
   ]
  },
  {
   "cell_type": "code",
   "execution_count": null,
   "metadata": {},
   "outputs": [],
   "source": [
    "xa.shape"
   ]
  },
  {
   "cell_type": "code",
   "execution_count": null,
   "metadata": {},
   "outputs": [],
   "source": [
    "xa.loc[~xa.ifw_number.isnull()].merge(oas, on=['app_id', 'ifw_number'], \n",
    "                                      how='inner').app_id.unique().shape"
   ]
  },
  {
   "cell_type": "code",
   "execution_count": null,
   "metadata": {},
   "outputs": [],
   "source": [
    "grants.head()"
   ]
  },
  {
   "cell_type": "code",
   "execution_count": null,
   "metadata": {},
   "outputs": [],
   "source": [
    "apps_df.head()"
   ]
  },
  {
   "cell_type": "code",
   "execution_count": null,
   "metadata": {},
   "outputs": [],
   "source": [
    "apps_df.head()"
   ]
  },
  {
   "cell_type": "code",
   "execution_count": null,
   "metadata": {},
   "outputs": [],
   "source": [
    "pd.read_csv('data/apps/2012_all_apps.csv').iloc[:, 1:]"
   ]
  },
  {
   "cell_type": "code",
   "execution_count": null,
   "metadata": {},
   "outputs": [],
   "source": [
    "print(apps.app_id.shape[0] - apps.app_id.unique().shape[0])\n",
    "apps = apps.loc[apps.reset_index().groupby('app_id')['app_date'].idxmax()]\n",
    "print(apps.app_id.shape[0] - apps.app_id.unique().shape[0])\n",
    "apps = pd.concat([apps.set_index('app_id')], axis=1, keys=['APPLICATION'])"
   ]
  },
  {
   "cell_type": "code",
   "execution_count": null,
   "metadata": {},
   "outputs": [],
   "source": [
    "cits = pd.concat([cits.set_index(['app_id', 'ifw_number', 'parsed'])],\n",
    "                  axis=1, keys=['CITATIONS'])"
   ]
  },
  {
   "cell_type": "code",
   "execution_count": null,
   "metadata": {},
   "outputs": [],
   "source": [
    "cits_17 = cits.join(apps, how='inner')\n",
    "cits_17.shape"
   ]
  },
  {
   "cell_type": "code",
   "execution_count": null,
   "metadata": {},
   "outputs": [],
   "source": [
    "oas_17 = oas.set_index(['app_id', 'ifw_number']).join(apps, how='inner')"
   ]
  },
  {
   "cell_type": "code",
   "execution_count": null,
   "metadata": {},
   "outputs": [],
   "source": [
    "oas = pd.concat([oas.set_index(['app_id', 'ifw_number'])],\n",
    "                  axis=1, keys=['OFFICE ACTIONS'])\n",
    "oas_17 = oas.join(apps, how='inner')\n",
    "oas_17.shape"
   ]
  },
  {
   "cell_type": "markdown",
   "metadata": {},
   "source": [
    "# Brief summary\n",
    "- 2017 Applications have 300K citations\n",
    "- 2017 Applications have around 30K of office actions"
   ]
  },
  {
   "cell_type": "code",
   "execution_count": null,
   "metadata": {},
   "outputs": [],
   "source": [
    "print(grants.parsed.shape[0] - grants.parsed.unique().shape[0])"
   ]
  },
  {
   "cell_type": "code",
   "execution_count": null,
   "metadata": {},
   "outputs": [],
   "source": [
    "grants = pd.concat([grants.set_index('parsed')], axis=1, keys=['GRANTS'])\n",
    "cits_12_17 = cits_17.join(grants, how='inner')\n",
    "cits_12_17 = cits_12_17.reset_index('ifw_number').drop('ifw_number', axis=1).\\\n",
    "           drop_duplicates()\n",
    "cits_12_17.shape"
   ]
  },
  {
   "cell_type": "code",
   "execution_count": null,
   "metadata": {},
   "outputs": [],
   "source": [
    "cits_12_17.drop_duplicates().shape"
   ]
  },
  {
   "cell_type": "code",
   "execution_count": null,
   "metadata": {},
   "outputs": [],
   "source": [
    "cits.index.get_level_values(1).isnull().sum()/cits.index.get_level_values(1).isnull().sum()"
   ]
  },
  {
   "cell_type": "code",
   "execution_count": null,
   "metadata": {},
   "outputs": [],
   "source": [
    "oasifw = oas.merge(cits, on=['app_id', 'ifw_number'], how='left')\n",
    "oasifw = oasifw.dropna(subset=['parsed'])"
   ]
  },
  {
   "cell_type": "code",
   "execution_count": null,
   "metadata": {},
   "outputs": [],
   "source": [
    "cits_2017 = cits.merge(apps, on='app_id')\n",
    "cits_2017.shape"
   ]
  },
  {
   "cell_type": "code",
   "execution_count": null,
   "metadata": {},
   "outputs": [],
   "source": [
    "oas_2017 = oas.merge(apps, on='app_id')\n",
    "oas_2017.shape"
   ]
  },
  {
   "cell_type": "code",
   "execution_count": null,
   "metadata": {},
   "outputs": [],
   "source": [
    "cits_12_17 = cits_2017.merge(grants.rename(columns = {'pub_doc-number': 'parsed'}).\\\n",
    "                astype('str'), on='parsed')"
   ]
  },
  {
   "cell_type": "code",
   "execution_count": null,
   "metadata": {},
   "outputs": [],
   "source": [
    "cits_12_17.parsed.unique().shape\n",
    "cits_12_17.head()"
   ]
  },
  {
   "cell_type": "code",
   "execution_count": null,
   "metadata": {},
   "outputs": [],
   "source": [
    "cits_12_17.merge(oas_2017, on=['app_id', 'ifw_number']).shape"
   ]
  },
  {
   "cell_type": "code",
   "execution_count": null,
   "metadata": {},
   "outputs": [],
   "source": [
    "oapps = apps.rename(columns = {'app_doc-number':'app_id'}).\\\n",
    "             merge(oasifw, on='app_id')"
   ]
  },
  {
   "cell_type": "code",
   "execution_count": null,
   "metadata": {},
   "outputs": [],
   "source": [
    "oappsgr = oapps.merge(grants.rename(columns = {'pub_doc-number':'parsed'}),\n",
    "                      on='parsed')"
   ]
  },
  {
   "cell_type": "code",
   "execution_count": null,
   "metadata": {},
   "outputs": [],
   "source": [
    "pgga = pd.read_pickle('/work/data/patent_grants_dic_grants12_app17.dat')b\n"
   ]
  },
  {
   "cell_type": "code",
   "execution_count": null,
   "metadata": {},
   "outputs": [],
   "source": [
    "oappsgr.loc[:, ['app_id', 'parsed']].drop_duplicates().dropna().shape"
   ]
  },
  {
   "cell_type": "code",
   "execution_count": null,
   "metadata": {},
   "outputs": [],
   "source": [
    "lpgga = list(pgga.keys())"
   ]
  },
  {
   "cell_type": "code",
   "execution_count": null,
   "metadata": {},
   "outputs": [],
   "source": [
    "pgga[lpgga[0]]"
   ]
  },
  {
   "cell_type": "code",
   "execution_count": null,
   "metadata": {},
   "outputs": [],
   "source": [
    "oappsgr.drop_duplicates().shape"
   ]
  },
  {
   "cell_type": "code",
   "execution_count": null,
   "metadata": {},
   "outputs": [],
   "source": [
    "len(pgga.keys())"
   ]
  },
  {
   "cell_type": "code",
   "execution_count": null,
   "metadata": {},
   "outputs": [],
   "source": [
    "oappsgr.info()"
   ]
  },
  {
   "cell_type": "code",
   "execution_count": null,
   "metadata": {},
   "outputs": [],
   "source": [
    "oapps.parsed.isin([])"
   ]
  },
  {
   "cell_type": "code",
   "execution_count": null,
   "metadata": {
    "scrolled": true
   },
   "outputs": [],
   "source": [
    "grants.loc[grants['pub_doc-number'].isin(['5425307'])]"
   ]
  },
  {
   "cell_type": "code",
   "execution_count": null,
   "metadata": {},
   "outputs": [],
   "source": [
    "grants['pub_doc-number'].loc[grants['pub_doc-number'].str.startswith('0')] = \\\n",
    "grants['pub_doc-number'].loc[grants['pub_doc-number'].str.startswith('0')].\\\n",
    "    astype(int).astype(str)"
   ]
  },
  {
   "cell_type": "code",
   "execution_count": null,
   "metadata": {},
   "outputs": [],
   "source": [
    "grants.pub_doc-number."
   ]
  },
  {
   "cell_type": "code",
   "execution_count": null,
   "metadata": {},
   "outputs": [],
   "source": [
    "cits_12"
   ]
  },
  {
   "cell_type": "code",
   "execution_count": null,
   "metadata": {},
   "outputs": [],
   "source": [
    "oapps.info()"
   ]
  },
  {
   "cell_type": "code",
   "execution_count": null,
   "metadata": {},
   "outputs": [],
   "source": [
    "oasifw.shape"
   ]
  },
  {
   "cell_type": "code",
   "execution_count": null,
   "metadata": {},
   "outputs": [],
   "source": [
    "oasifw.dropna(subset=['parsed']).shape"
   ]
  },
  {
   "cell_type": "code",
   "execution_count": null,
   "metadata": {},
   "outputs": [],
   "source": [
    "cits.loc[cits.ifw_number == '100867762']"
   ]
  },
  {
   "cell_type": "code",
   "execution_count": null,
   "metadata": {},
   "outputs": [],
   "source": [
    "oasifw.head()"
   ]
  },
  {
   "cell_type": "code",
   "execution_count": null,
   "metadata": {},
   "outputs": [],
   "source": [
    "cits.ifw_number.loc[~cits.ifw_number.isnull()]"
   ]
  },
  {
   "cell_type": "code",
   "execution_count": null,
   "metadata": {},
   "outputs": [],
   "source": []
  },
  {
   "cell_type": "code",
   "execution_count": null,
   "metadata": {},
   "outputs": [],
   "source": [
    "%ls /work/data/"
   ]
  },
  {
   "cell_type": "markdown",
   "metadata": {},
   "source": [
    "# Load grant and application data from 2005\n"
   ]
  },
  {
   "cell_type": "code",
   "execution_count": null,
   "metadata": {},
   "outputs": [],
   "source": []
  }
 ],
 "metadata": {
  "kernelspec": {
   "display_name": "Python 3",
   "language": "python",
   "name": "python3"
  },
  "language_info": {
   "codemirror_mode": {
    "name": "ipython",
    "version": 3
   },
   "file_extension": ".py",
   "mimetype": "text/x-python",
   "name": "python",
   "nbconvert_exporter": "python",
   "pygments_lexer": "ipython3",
   "version": "3.5.2"
  }
 },
 "nbformat": 4,
 "nbformat_minor": 2
}
