{
 "cells": [
  {
   "cell_type": "code",
   "execution_count": 1,
   "metadata": {},
   "outputs": [],
   "source": [
    "import pandas as pd"
   ]
  },
  {
   "cell_type": "code",
   "execution_count": null,
   "metadata": {},
   "outputs": [],
   "source": []
  },
  {
   "cell_type": "code",
   "execution_count": null,
   "metadata": {},
   "outputs": [],
   "source": []
  },
  {
   "cell_type": "markdown",
   "metadata": {},
   "source": [
    "### Filter citation only for app_id 15..."
   ]
  },
  {
   "cell_type": "markdown",
   "metadata": {},
   "source": [
    "Below cell need memory more than 15GB."
   ]
  },
  {
   "cell_type": "code",
   "execution_count": 2,
   "metadata": {},
   "outputs": [],
   "source": [
    "citations = pd.read_csv(\"../data/citations.csv\")"
   ]
  },
  {
   "cell_type": "code",
   "execution_count": 3,
   "metadata": {},
   "outputs": [
    {
     "data": {
      "text/html": [
       "<div>\n",
       "<style scoped>\n",
       "    .dataframe tbody tr th:only-of-type {\n",
       "        vertical-align: middle;\n",
       "    }\n",
       "\n",
       "    .dataframe tbody tr th {\n",
       "        vertical-align: top;\n",
       "    }\n",
       "\n",
       "    .dataframe thead th {\n",
       "        text-align: right;\n",
       "    }\n",
       "</style>\n",
       "<table border=\"1\" class=\"dataframe\">\n",
       "  <thead>\n",
       "    <tr style=\"text-align: right;\">\n",
       "      <th></th>\n",
       "      <th>app_id</th>\n",
       "      <th>citation_pat_pgpub_id</th>\n",
       "      <th>parsed</th>\n",
       "      <th>ifw_number</th>\n",
       "      <th>action_type</th>\n",
       "      <th>action_subtype</th>\n",
       "      <th>form892</th>\n",
       "      <th>form1449</th>\n",
       "      <th>citation_in_oa</th>\n",
       "    </tr>\n",
       "  </thead>\n",
       "  <tbody>\n",
       "    <tr>\n",
       "      <th>0</th>\n",
       "      <td>12000001</td>\n",
       "      <td>20060218340</td>\n",
       "      <td>20060218340</td>\n",
       "      <td>NaN</td>\n",
       "      <td>NaN</td>\n",
       "      <td>NaN</td>\n",
       "      <td>0</td>\n",
       "      <td>1</td>\n",
       "      <td>0</td>\n",
       "    </tr>\n",
       "    <tr>\n",
       "      <th>1</th>\n",
       "      <td>12000001</td>\n",
       "      <td>2343564</td>\n",
       "      <td>2343564</td>\n",
       "      <td>NaN</td>\n",
       "      <td>NaN</td>\n",
       "      <td>NaN</td>\n",
       "      <td>1</td>\n",
       "      <td>0</td>\n",
       "      <td>0</td>\n",
       "    </tr>\n",
       "    <tr>\n",
       "      <th>2</th>\n",
       "      <td>12000001</td>\n",
       "      <td>6622200</td>\n",
       "      <td>6622200</td>\n",
       "      <td>NaN</td>\n",
       "      <td>NaN</td>\n",
       "      <td>NaN</td>\n",
       "      <td>1</td>\n",
       "      <td>0</td>\n",
       "      <td>0</td>\n",
       "    </tr>\n",
       "    <tr>\n",
       "      <th>3</th>\n",
       "      <td>12000001</td>\n",
       "      <td>6182004</td>\n",
       "      <td>6182004</td>\n",
       "      <td>NaN</td>\n",
       "      <td>NaN</td>\n",
       "      <td>NaN</td>\n",
       "      <td>0</td>\n",
       "      <td>1</td>\n",
       "      <td>0</td>\n",
       "    </tr>\n",
       "    <tr>\n",
       "      <th>4</th>\n",
       "      <td>12000001</td>\n",
       "      <td>2323432</td>\n",
       "      <td>2323432</td>\n",
       "      <td>NaN</td>\n",
       "      <td>NaN</td>\n",
       "      <td>NaN</td>\n",
       "      <td>1</td>\n",
       "      <td>0</td>\n",
       "      <td>0</td>\n",
       "    </tr>\n",
       "  </tbody>\n",
       "</table>\n",
       "</div>"
      ],
      "text/plain": [
       "     app_id citation_pat_pgpub_id       parsed ifw_number  action_type  \\\n",
       "0  12000001           20060218340  20060218340        NaN          NaN   \n",
       "1  12000001               2343564      2343564        NaN          NaN   \n",
       "2  12000001               6622200      6622200        NaN          NaN   \n",
       "3  12000001               6182004      6182004        NaN          NaN   \n",
       "4  12000001               2323432      2323432        NaN          NaN   \n",
       "\n",
       "  action_subtype  form892  form1449  citation_in_oa  \n",
       "0            NaN        0         1               0  \n",
       "1            NaN        1         0               0  \n",
       "2            NaN        1         0               0  \n",
       "3            NaN        0         1               0  \n",
       "4            NaN        1         0               0  "
      ]
     },
     "execution_count": 3,
     "metadata": {},
     "output_type": "execute_result"
    }
   ],
   "source": [
    "citations.head()"
   ]
  },
  {
   "cell_type": "code",
   "execution_count": 14,
   "metadata": {},
   "outputs": [
    {
     "data": {
      "text/plain": [
       "58862278"
      ]
     },
     "execution_count": 14,
     "metadata": {},
     "output_type": "execute_result"
    }
   ],
   "source": [
    "len(citations)"
   ]
  },
  {
   "cell_type": "code",
   "execution_count": null,
   "metadata": {},
   "outputs": [],
   "source": []
  },
  {
   "cell_type": "markdown",
   "metadata": {},
   "source": [
    "https://patentlibrarian.com/reference-library/u-s-application-series-codes/\n",
    "\n",
    "Collect citation including 2017, which is, app_id begins with 15.\n",
    "\n",
    "- 14 2013, August - 2016, Jan?\n",
    "- 15 2016, Jan - Present?\n",
    "\n"
   ]
  },
  {
   "cell_type": "code",
   "execution_count": 11,
   "metadata": {},
   "outputs": [],
   "source": [
    "citations_15 = citations[(citations.app_id >= 15000000) & (citations.app_id < 16000000)]"
   ]
  },
  {
   "cell_type": "code",
   "execution_count": 12,
   "metadata": {},
   "outputs": [
    {
     "data": {
      "text/html": [
       "<div>\n",
       "<style scoped>\n",
       "    .dataframe tbody tr th:only-of-type {\n",
       "        vertical-align: middle;\n",
       "    }\n",
       "\n",
       "    .dataframe tbody tr th {\n",
       "        vertical-align: top;\n",
       "    }\n",
       "\n",
       "    .dataframe thead th {\n",
       "        text-align: right;\n",
       "    }\n",
       "</style>\n",
       "<table border=\"1\" class=\"dataframe\">\n",
       "  <thead>\n",
       "    <tr style=\"text-align: right;\">\n",
       "      <th></th>\n",
       "      <th>app_id</th>\n",
       "      <th>citation_pat_pgpub_id</th>\n",
       "      <th>parsed</th>\n",
       "      <th>ifw_number</th>\n",
       "      <th>action_type</th>\n",
       "      <th>action_subtype</th>\n",
       "      <th>form892</th>\n",
       "      <th>form1449</th>\n",
       "      <th>citation_in_oa</th>\n",
       "    </tr>\n",
       "  </thead>\n",
       "  <tbody>\n",
       "    <tr>\n",
       "      <th>57732192</th>\n",
       "      <td>15000008</td>\n",
       "      <td>8291627</td>\n",
       "      <td>8291627</td>\n",
       "      <td>NaN</td>\n",
       "      <td>NaN</td>\n",
       "      <td>NaN</td>\n",
       "      <td>1</td>\n",
       "      <td>0</td>\n",
       "      <td>0</td>\n",
       "    </tr>\n",
       "    <tr>\n",
       "      <th>57732193</th>\n",
       "      <td>15000008</td>\n",
       "      <td>2093620</td>\n",
       "      <td>2093620</td>\n",
       "      <td>NaN</td>\n",
       "      <td>NaN</td>\n",
       "      <td>NaN</td>\n",
       "      <td>1</td>\n",
       "      <td>0</td>\n",
       "      <td>0</td>\n",
       "    </tr>\n",
       "    <tr>\n",
       "      <th>57732194</th>\n",
       "      <td>15000008</td>\n",
       "      <td>9221406</td>\n",
       "      <td>9221406</td>\n",
       "      <td>NaN</td>\n",
       "      <td>NaN</td>\n",
       "      <td>NaN</td>\n",
       "      <td>1</td>\n",
       "      <td>0</td>\n",
       "      <td>0</td>\n",
       "    </tr>\n",
       "    <tr>\n",
       "      <th>57732195</th>\n",
       "      <td>15000008</td>\n",
       "      <td>8544198</td>\n",
       "      <td>8544198</td>\n",
       "      <td>NaN</td>\n",
       "      <td>NaN</td>\n",
       "      <td>NaN</td>\n",
       "      <td>1</td>\n",
       "      <td>0</td>\n",
       "      <td>0</td>\n",
       "    </tr>\n",
       "    <tr>\n",
       "      <th>57732196</th>\n",
       "      <td>15000008</td>\n",
       "      <td>7225569</td>\n",
       "      <td>7225569</td>\n",
       "      <td>NaN</td>\n",
       "      <td>NaN</td>\n",
       "      <td>NaN</td>\n",
       "      <td>1</td>\n",
       "      <td>0</td>\n",
       "      <td>0</td>\n",
       "    </tr>\n",
       "  </tbody>\n",
       "</table>\n",
       "</div>"
      ],
      "text/plain": [
       "            app_id citation_pat_pgpub_id   parsed ifw_number  action_type  \\\n",
       "57732192  15000008               8291627  8291627        NaN          NaN   \n",
       "57732193  15000008               2093620  2093620        NaN          NaN   \n",
       "57732194  15000008               9221406  9221406        NaN          NaN   \n",
       "57732195  15000008               8544198  8544198        NaN          NaN   \n",
       "57732196  15000008               7225569  7225569        NaN          NaN   \n",
       "\n",
       "         action_subtype  form892  form1449  citation_in_oa  \n",
       "57732192            NaN        1         0               0  \n",
       "57732193            NaN        1         0               0  \n",
       "57732194            NaN        1         0               0  \n",
       "57732195            NaN        1         0               0  \n",
       "57732196            NaN        1         0               0  "
      ]
     },
     "execution_count": 12,
     "metadata": {},
     "output_type": "execute_result"
    }
   ],
   "source": [
    "citations_15.head()"
   ]
  },
  {
   "cell_type": "code",
   "execution_count": 13,
   "metadata": {},
   "outputs": [
    {
     "data": {
      "text/plain": [
       "1130086"
      ]
     },
     "execution_count": 13,
     "metadata": {},
     "output_type": "execute_result"
    }
   ],
   "source": [
    "len(citations_15)"
   ]
  },
  {
   "cell_type": "code",
   "execution_count": 15,
   "metadata": {},
   "outputs": [],
   "source": [
    "citations_15.to_pickle(\"../data/citations_15.dat\")"
   ]
  },
  {
   "cell_type": "code",
   "execution_count": null,
   "metadata": {},
   "outputs": [],
   "source": []
  },
  {
   "cell_type": "markdown",
   "metadata": {},
   "source": [
    "### Filer office_actions of app_id starts with 15... only"
   ]
  },
  {
   "cell_type": "code",
   "execution_count": null,
   "metadata": {},
   "outputs": [],
   "source": []
  },
  {
   "cell_type": "code",
   "execution_count": 4,
   "metadata": {
    "scrolled": true
   },
   "outputs": [
    {
     "name": "stderr",
     "output_type": "stream",
     "text": [
      "/usr/local/lib/python3.5/dist-packages/IPython/core/interactiveshell.py:2728: DtypeWarning: Columns (1,4,5) have mixed types. Specify dtype option on import or set low_memory=False.\n",
      "  interactivity=interactivity, compiler=compiler, result=result)\n"
     ]
    }
   ],
   "source": [
    "office_actions = pd.read_csv(\"../data/office_actions.csv\")"
   ]
  },
  {
   "cell_type": "code",
   "execution_count": 5,
   "metadata": {},
   "outputs": [
    {
     "data": {
      "text/plain": [
       "4384532"
      ]
     },
     "execution_count": 5,
     "metadata": {},
     "output_type": "execute_result"
    }
   ],
   "source": [
    "len(office_actions)"
   ]
  },
  {
   "cell_type": "code",
   "execution_count": 6,
   "metadata": {},
   "outputs": [
    {
     "data": {
      "text/html": [
       "<div>\n",
       "<style scoped>\n",
       "    .dataframe tbody tr th:only-of-type {\n",
       "        vertical-align: middle;\n",
       "    }\n",
       "\n",
       "    .dataframe tbody tr th {\n",
       "        vertical-align: top;\n",
       "    }\n",
       "\n",
       "    .dataframe thead th {\n",
       "        text-align: right;\n",
       "    }\n",
       "</style>\n",
       "<table border=\"1\" class=\"dataframe\">\n",
       "  <thead>\n",
       "    <tr style=\"text-align: right;\">\n",
       "      <th></th>\n",
       "      <th>app_id</th>\n",
       "      <th>ifw_number</th>\n",
       "      <th>document_cd</th>\n",
       "      <th>mail_dt</th>\n",
       "      <th>art_unit</th>\n",
       "      <th>uspc_class</th>\n",
       "      <th>uspc_subclass</th>\n",
       "      <th>header_missing</th>\n",
       "      <th>fp_missing</th>\n",
       "      <th>rejection_fp_mismatch</th>\n",
       "      <th>...</th>\n",
       "      <th>rejection_103</th>\n",
       "      <th>rejection_112</th>\n",
       "      <th>rejection_dp</th>\n",
       "      <th>objection</th>\n",
       "      <th>allowed_claims</th>\n",
       "      <th>cite102_gt1</th>\n",
       "      <th>cite103_gt3</th>\n",
       "      <th>cite103_eq1</th>\n",
       "      <th>cite103_max</th>\n",
       "      <th>signature_type</th>\n",
       "    </tr>\n",
       "  </thead>\n",
       "  <tbody>\n",
       "    <tr>\n",
       "      <th>0</th>\n",
       "      <td>14150981</td>\n",
       "      <td>100867762</td>\n",
       "      <td>CTFR</td>\n",
       "      <td>2015-10-15</td>\n",
       "      <td>2632</td>\n",
       "      <td>375</td>\n",
       "      <td>219000</td>\n",
       "      <td>0</td>\n",
       "      <td>0</td>\n",
       "      <td>0</td>\n",
       "      <td>...</td>\n",
       "      <td>1</td>\n",
       "      <td>0</td>\n",
       "      <td>0</td>\n",
       "      <td>0</td>\n",
       "      <td>0</td>\n",
       "      <td>0</td>\n",
       "      <td>0</td>\n",
       "      <td>1</td>\n",
       "      <td>2</td>\n",
       "      <td>1</td>\n",
       "    </tr>\n",
       "    <tr>\n",
       "      <th>1</th>\n",
       "      <td>14198961</td>\n",
       "      <td>100867788</td>\n",
       "      <td>CTFR</td>\n",
       "      <td>2015-10-15</td>\n",
       "      <td>2699</td>\n",
       "      <td>345</td>\n",
       "      <td>173000</td>\n",
       "      <td>0</td>\n",
       "      <td>0</td>\n",
       "      <td>0</td>\n",
       "      <td>...</td>\n",
       "      <td>1</td>\n",
       "      <td>0</td>\n",
       "      <td>0</td>\n",
       "      <td>0</td>\n",
       "      <td>0</td>\n",
       "      <td>0</td>\n",
       "      <td>0</td>\n",
       "      <td>0</td>\n",
       "      <td>2</td>\n",
       "      <td>1</td>\n",
       "    </tr>\n",
       "    <tr>\n",
       "      <th>2</th>\n",
       "      <td>13796589</td>\n",
       "      <td>100867794</td>\n",
       "      <td>CTNF</td>\n",
       "      <td>2015-10-15</td>\n",
       "      <td>3776</td>\n",
       "      <td>606</td>\n",
       "      <td>159000</td>\n",
       "      <td>0</td>\n",
       "      <td>0</td>\n",
       "      <td>0</td>\n",
       "      <td>...</td>\n",
       "      <td>1</td>\n",
       "      <td>0</td>\n",
       "      <td>0</td>\n",
       "      <td>0</td>\n",
       "      <td>0</td>\n",
       "      <td>0</td>\n",
       "      <td>0</td>\n",
       "      <td>0</td>\n",
       "      <td>3</td>\n",
       "      <td>3</td>\n",
       "    </tr>\n",
       "    <tr>\n",
       "      <th>3</th>\n",
       "      <td>14673475</td>\n",
       "      <td>100867844</td>\n",
       "      <td>CTNF</td>\n",
       "      <td>2015-10-15</td>\n",
       "      <td>2627</td>\n",
       "      <td>345</td>\n",
       "      <td>175000</td>\n",
       "      <td>0</td>\n",
       "      <td>0</td>\n",
       "      <td>0</td>\n",
       "      <td>...</td>\n",
       "      <td>1</td>\n",
       "      <td>1</td>\n",
       "      <td>1</td>\n",
       "      <td>0</td>\n",
       "      <td>0</td>\n",
       "      <td>0</td>\n",
       "      <td>1</td>\n",
       "      <td>0</td>\n",
       "      <td>4</td>\n",
       "      <td>1</td>\n",
       "    </tr>\n",
       "    <tr>\n",
       "      <th>4</th>\n",
       "      <td>14669113</td>\n",
       "      <td>100867850</td>\n",
       "      <td>CTNF</td>\n",
       "      <td>2015-10-15</td>\n",
       "      <td>2666</td>\n",
       "      <td>382</td>\n",
       "      <td>118000</td>\n",
       "      <td>0</td>\n",
       "      <td>0</td>\n",
       "      <td>0</td>\n",
       "      <td>...</td>\n",
       "      <td>0</td>\n",
       "      <td>1</td>\n",
       "      <td>1</td>\n",
       "      <td>0</td>\n",
       "      <td>0</td>\n",
       "      <td>0</td>\n",
       "      <td>0</td>\n",
       "      <td>0</td>\n",
       "      <td>0</td>\n",
       "      <td>1</td>\n",
       "    </tr>\n",
       "  </tbody>\n",
       "</table>\n",
       "<p>5 rows × 23 columns</p>\n",
       "</div>"
      ],
      "text/plain": [
       "     app_id ifw_number document_cd     mail_dt art_unit uspc_class  \\\n",
       "0  14150981  100867762        CTFR  2015-10-15     2632        375   \n",
       "1  14198961  100867788        CTFR  2015-10-15     2699        345   \n",
       "2  13796589  100867794        CTNF  2015-10-15     3776        606   \n",
       "3  14673475  100867844        CTNF  2015-10-15     2627        345   \n",
       "4  14669113  100867850        CTNF  2015-10-15     2666        382   \n",
       "\n",
       "  uspc_subclass  header_missing  fp_missing  rejection_fp_mismatch  \\\n",
       "0        219000               0           0                      0   \n",
       "1        173000               0           0                      0   \n",
       "2        159000               0           0                      0   \n",
       "3        175000               0           0                      0   \n",
       "4        118000               0           0                      0   \n",
       "\n",
       "        ...        rejection_103  rejection_112  rejection_dp  objection  \\\n",
       "0       ...                    1              0             0          0   \n",
       "1       ...                    1              0             0          0   \n",
       "2       ...                    1              0             0          0   \n",
       "3       ...                    1              1             1          0   \n",
       "4       ...                    0              1             1          0   \n",
       "\n",
       "   allowed_claims  cite102_gt1  cite103_gt3  cite103_eq1  cite103_max  \\\n",
       "0               0            0            0            1            2   \n",
       "1               0            0            0            0            2   \n",
       "2               0            0            0            0            3   \n",
       "3               0            0            1            0            4   \n",
       "4               0            0            0            0            0   \n",
       "\n",
       "   signature_type  \n",
       "0               1  \n",
       "1               1  \n",
       "2               3  \n",
       "3               1  \n",
       "4               1  \n",
       "\n",
       "[5 rows x 23 columns]"
      ]
     },
     "execution_count": 6,
     "metadata": {},
     "output_type": "execute_result"
    }
   ],
   "source": [
    "office_actions.head()"
   ]
  },
  {
   "cell_type": "code",
   "execution_count": 13,
   "metadata": {},
   "outputs": [],
   "source": [
    "office_15 = office_actions[(office_actions.app_id >= 15000000) & (office_actions.app_id < 16000000)]"
   ]
  },
  {
   "cell_type": "code",
   "execution_count": 14,
   "metadata": {},
   "outputs": [
    {
     "data": {
      "text/plain": [
       "68010"
      ]
     },
     "execution_count": 14,
     "metadata": {},
     "output_type": "execute_result"
    }
   ],
   "source": [
    "len(office_15)"
   ]
  },
  {
   "cell_type": "code",
   "execution_count": 16,
   "metadata": {},
   "outputs": [],
   "source": [
    "office_15.to_pickle(\"../data/office_15.dat\")"
   ]
  },
  {
   "cell_type": "code",
   "execution_count": null,
   "metadata": {},
   "outputs": [],
   "source": []
  },
  {
   "cell_type": "code",
   "execution_count": null,
   "metadata": {},
   "outputs": [],
   "source": []
  },
  {
   "cell_type": "markdown",
   "metadata": {},
   "source": [
    "### Load citations and office actions which app_id starts with 15 only\n",
    "\n",
    "To reduce footprint, restart kernel here and reload it."
   ]
  },
  {
   "cell_type": "code",
   "execution_count": 50,
   "metadata": {},
   "outputs": [],
   "source": [
    "citations_15 = pd.read_pickle(\"../data/citations_15.dat\")"
   ]
  },
  {
   "cell_type": "code",
   "execution_count": 12,
   "metadata": {},
   "outputs": [],
   "source": [
    "office_15 = pd.read_pickle(\"../data/office_15.dat\")"
   ]
  },
  {
   "cell_type": "code",
   "execution_count": null,
   "metadata": {},
   "outputs": [],
   "source": []
  },
  {
   "cell_type": "code",
   "execution_count": 4,
   "metadata": {},
   "outputs": [
    {
     "data": {
      "text/html": [
       "<div>\n",
       "<style scoped>\n",
       "    .dataframe tbody tr th:only-of-type {\n",
       "        vertical-align: middle;\n",
       "    }\n",
       "\n",
       "    .dataframe tbody tr th {\n",
       "        vertical-align: top;\n",
       "    }\n",
       "\n",
       "    .dataframe thead th {\n",
       "        text-align: right;\n",
       "    }\n",
       "</style>\n",
       "<table border=\"1\" class=\"dataframe\">\n",
       "  <thead>\n",
       "    <tr style=\"text-align: right;\">\n",
       "      <th></th>\n",
       "      <th>app_id</th>\n",
       "      <th>ifw_number</th>\n",
       "      <th>document_cd</th>\n",
       "      <th>mail_dt</th>\n",
       "      <th>art_unit</th>\n",
       "      <th>uspc_class</th>\n",
       "      <th>uspc_subclass</th>\n",
       "      <th>header_missing</th>\n",
       "      <th>fp_missing</th>\n",
       "      <th>rejection_fp_mismatch</th>\n",
       "      <th>...</th>\n",
       "      <th>rejection_103</th>\n",
       "      <th>rejection_112</th>\n",
       "      <th>rejection_dp</th>\n",
       "      <th>objection</th>\n",
       "      <th>allowed_claims</th>\n",
       "      <th>cite102_gt1</th>\n",
       "      <th>cite103_gt3</th>\n",
       "      <th>cite103_eq1</th>\n",
       "      <th>cite103_max</th>\n",
       "      <th>signature_type</th>\n",
       "    </tr>\n",
       "  </thead>\n",
       "  <tbody>\n",
       "    <tr>\n",
       "      <th>3549653</th>\n",
       "      <td>15001440</td>\n",
       "      <td>IKIANOLHRXEAPX4</td>\n",
       "      <td>CTNF</td>\n",
       "      <td>2016-02-16</td>\n",
       "      <td>3762</td>\n",
       "      <td>607</td>\n",
       "      <td>042000</td>\n",
       "      <td>0</td>\n",
       "      <td>0</td>\n",
       "      <td>0</td>\n",
       "      <td>...</td>\n",
       "      <td>0</td>\n",
       "      <td>1</td>\n",
       "      <td>0</td>\n",
       "      <td>0</td>\n",
       "      <td>0</td>\n",
       "      <td>0</td>\n",
       "      <td>0</td>\n",
       "      <td>0</td>\n",
       "      <td>0</td>\n",
       "      <td>1</td>\n",
       "    </tr>\n",
       "    <tr>\n",
       "      <th>3560595</th>\n",
       "      <td>15009822</td>\n",
       "      <td>IKSBCEFQRXEAPX1</td>\n",
       "      <td>CTNF</td>\n",
       "      <td>2016-02-22</td>\n",
       "      <td>2139</td>\n",
       "      <td>711</td>\n",
       "      <td>162000</td>\n",
       "      <td>0</td>\n",
       "      <td>0</td>\n",
       "      <td>0</td>\n",
       "      <td>...</td>\n",
       "      <td>1</td>\n",
       "      <td>0</td>\n",
       "      <td>0</td>\n",
       "      <td>0</td>\n",
       "      <td>0</td>\n",
       "      <td>0</td>\n",
       "      <td>0</td>\n",
       "      <td>0</td>\n",
       "      <td>2</td>\n",
       "      <td>1</td>\n",
       "    </tr>\n",
       "    <tr>\n",
       "      <th>3561801</th>\n",
       "      <td>15005636</td>\n",
       "      <td>IKSG9XK1RXEAPX1</td>\n",
       "      <td>CTNF</td>\n",
       "      <td>2016-02-22</td>\n",
       "      <td>3766</td>\n",
       "      <td>600</td>\n",
       "      <td>509000</td>\n",
       "      <td>0</td>\n",
       "      <td>0</td>\n",
       "      <td>0</td>\n",
       "      <td>...</td>\n",
       "      <td>0</td>\n",
       "      <td>1</td>\n",
       "      <td>1</td>\n",
       "      <td>0</td>\n",
       "      <td>0</td>\n",
       "      <td>0</td>\n",
       "      <td>0</td>\n",
       "      <td>0</td>\n",
       "      <td>0</td>\n",
       "      <td>0</td>\n",
       "    </tr>\n",
       "    <tr>\n",
       "      <th>3562763</th>\n",
       "      <td>15002146</td>\n",
       "      <td>IKSLCJQLRXEAPX4</td>\n",
       "      <td>CTNF</td>\n",
       "      <td>2016-02-22</td>\n",
       "      <td>3723</td>\n",
       "      <td>015</td>\n",
       "      <td>104930</td>\n",
       "      <td>0</td>\n",
       "      <td>0</td>\n",
       "      <td>0</td>\n",
       "      <td>...</td>\n",
       "      <td>0</td>\n",
       "      <td>0</td>\n",
       "      <td>1</td>\n",
       "      <td>1</td>\n",
       "      <td>0</td>\n",
       "      <td>0</td>\n",
       "      <td>0</td>\n",
       "      <td>0</td>\n",
       "      <td>0</td>\n",
       "      <td>1</td>\n",
       "    </tr>\n",
       "    <tr>\n",
       "      <th>3564336</th>\n",
       "      <td>15001553</td>\n",
       "      <td>IKTT4P0TRXEAPX1</td>\n",
       "      <td>CTNF</td>\n",
       "      <td>2016-02-19</td>\n",
       "      <td>1625</td>\n",
       "      <td>514</td>\n",
       "      <td>279000</td>\n",
       "      <td>0</td>\n",
       "      <td>1</td>\n",
       "      <td>0</td>\n",
       "      <td>...</td>\n",
       "      <td>0</td>\n",
       "      <td>1</td>\n",
       "      <td>0</td>\n",
       "      <td>0</td>\n",
       "      <td>0</td>\n",
       "      <td>0</td>\n",
       "      <td>0</td>\n",
       "      <td>0</td>\n",
       "      <td>0</td>\n",
       "      <td>1</td>\n",
       "    </tr>\n",
       "  </tbody>\n",
       "</table>\n",
       "<p>5 rows × 23 columns</p>\n",
       "</div>"
      ],
      "text/plain": [
       "           app_id       ifw_number document_cd     mail_dt art_unit  \\\n",
       "3549653  15001440  IKIANOLHRXEAPX4        CTNF  2016-02-16     3762   \n",
       "3560595  15009822  IKSBCEFQRXEAPX1        CTNF  2016-02-22     2139   \n",
       "3561801  15005636  IKSG9XK1RXEAPX1        CTNF  2016-02-22     3766   \n",
       "3562763  15002146  IKSLCJQLRXEAPX4        CTNF  2016-02-22     3723   \n",
       "3564336  15001553  IKTT4P0TRXEAPX1        CTNF  2016-02-19     1625   \n",
       "\n",
       "        uspc_class uspc_subclass  header_missing  fp_missing  \\\n",
       "3549653        607        042000               0           0   \n",
       "3560595        711        162000               0           0   \n",
       "3561801        600        509000               0           0   \n",
       "3562763        015        104930               0           0   \n",
       "3564336        514        279000               0           1   \n",
       "\n",
       "         rejection_fp_mismatch       ...        rejection_103  rejection_112  \\\n",
       "3549653                      0       ...                    0              1   \n",
       "3560595                      0       ...                    1              0   \n",
       "3561801                      0       ...                    0              1   \n",
       "3562763                      0       ...                    0              0   \n",
       "3564336                      0       ...                    0              1   \n",
       "\n",
       "         rejection_dp  objection  allowed_claims  cite102_gt1  cite103_gt3  \\\n",
       "3549653             0          0               0            0            0   \n",
       "3560595             0          0               0            0            0   \n",
       "3561801             1          0               0            0            0   \n",
       "3562763             1          1               0            0            0   \n",
       "3564336             0          0               0            0            0   \n",
       "\n",
       "         cite103_eq1  cite103_max  signature_type  \n",
       "3549653            0            0               1  \n",
       "3560595            0            2               1  \n",
       "3561801            0            0               0  \n",
       "3562763            0            0               1  \n",
       "3564336            0            0               1  \n",
       "\n",
       "[5 rows x 23 columns]"
      ]
     },
     "execution_count": 4,
     "metadata": {},
     "output_type": "execute_result"
    }
   ],
   "source": [
    "office_15.head()"
   ]
  },
  {
   "cell_type": "code",
   "execution_count": null,
   "metadata": {},
   "outputs": [],
   "source": []
  },
  {
   "cell_type": "code",
   "execution_count": null,
   "metadata": {},
   "outputs": [],
   "source": []
  },
  {
   "cell_type": "code",
   "execution_count": null,
   "metadata": {},
   "outputs": [],
   "source": []
  },
  {
   "cell_type": "markdown",
   "metadata": {},
   "source": [
    "### Create poor man's index files by unix command"
   ]
  },
  {
   "cell_type": "code",
   "execution_count": 2,
   "metadata": {},
   "outputs": [],
   "source": [
    "import os, os.path"
   ]
  },
  {
   "cell_type": "code",
   "execution_count": 3,
   "metadata": {},
   "outputs": [],
   "source": [
    "INDEX_PATH=\"../data/index/\""
   ]
  },
  {
   "cell_type": "code",
   "execution_count": 4,
   "metadata": {},
   "outputs": [],
   "source": [
    "if not os.path.exists(INDEX_PATH):\n",
    "    os.mkdir(INDEX_PATH)"
   ]
  },
  {
   "cell_type": "code",
   "execution_count": null,
   "metadata": {},
   "outputs": [],
   "source": []
  },
  {
   "cell_type": "code",
   "execution_count": 5,
   "metadata": {},
   "outputs": [],
   "source": [
    "def create_one_index(xmlrel):\n",
    "    xmlpath = \"../data/\"+xmlrel\n",
    "    indexfile=INDEX_PATH+xmlrel+\".idx\"\n",
    "    !mkdir -p {os.path.dirname(indexfile)}\n",
    "    !grep -n \"doc-number\" {xmlpath} | sed -e 's/\\(.*\\)<doc-number>\\([^<]*\\)<\\/doc-number>.*/\\1\\2/' > {indexfile}"
   ]
  },
  {
   "cell_type": "code",
   "execution_count": null,
   "metadata": {},
   "outputs": [],
   "source": []
  },
  {
   "cell_type": "code",
   "execution_count": null,
   "metadata": {},
   "outputs": [],
   "source": []
  },
  {
   "cell_type": "markdown",
   "metadata": {},
   "source": [
    "## Data setup assumption\n",
    "\n",
    "Download application of 2017 and grants of 2012, unzip xml, and place under data/\n",
    "\n",
    "From here: https://bulkdata.uspto.gov/#pats\n",
    "\n",
    "### Grants 2012\n",
    "\n",
    "Use \"Patent Grant Full Text Data (No Images) (JAN 1976 - PRESENT)\".\n",
    "\n",
    "- Download all zip of https://bulkdata.uspto.gov/data/patent/grant/redbook/fulltext/2012/\n",
    "   - Use shell script to download zip (https://colab.research.google.com/drive/1gJO0VQ72Xfr_SY2dwWyiTvczIv0_gd4L)\n",
    "       - save to download.sh and run\n",
    "- place xml under data/grants2012/\n",
    "   - ex.data/grants2012/ipg120103.xml data/grants2012/ipg120221.xml\n",
    "   - Total about 24GB\n",
    "\n",
    "### Application 2017\n",
    "\n",
    "Use \"Patent Application Full Text Data (No Images) (MAR 15, 2001 - PRESENT)\"\n",
    "\n",
    "- Download all zip of https://bulkdata.uspto.gov/data/patent/application/redbook/fulltext/2017/\n",
    "   - Use above colab shell script again\n",
    "- place xml under data/application/2017\n",
    "    - ex. data/application2017/ipa170105.xml data/appli cation2017/ipa170223.xml\n",
    "    - Total about 35GB"
   ]
  },
  {
   "cell_type": "code",
   "execution_count": 6,
   "metadata": {},
   "outputs": [],
   "source": [
    "import glob"
   ]
  },
  {
   "cell_type": "code",
   "execution_count": null,
   "metadata": {},
   "outputs": [],
   "source": []
  },
  {
   "cell_type": "code",
   "execution_count": 67,
   "metadata": {},
   "outputs": [],
   "source": [
    "xmls = glob.glob(\"../data/grants2012/*.xml\")"
   ]
  },
  {
   "cell_type": "code",
   "execution_count": 68,
   "metadata": {},
   "outputs": [
    {
     "data": {
      "text/plain": [
       "'../data/grants2012/ipg120911.xml'"
      ]
     },
     "execution_count": 68,
     "metadata": {},
     "output_type": "execute_result"
    }
   ],
   "source": [
    "xmls[0]"
   ]
  },
  {
   "cell_type": "code",
   "execution_count": 69,
   "metadata": {},
   "outputs": [
    {
     "data": {
      "text/plain": [
       "'grants2012/ipg120911.xml'"
      ]
     },
     "execution_count": 69,
     "metadata": {},
     "output_type": "execute_result"
    }
   ],
   "source": [
    "xmls[0][len(\"../data/\"):]"
   ]
  },
  {
   "cell_type": "code",
   "execution_count": null,
   "metadata": {},
   "outputs": [],
   "source": []
  },
  {
   "cell_type": "code",
   "execution_count": 70,
   "metadata": {},
   "outputs": [],
   "source": [
    "xmlrels = [xml[len(\"../data/\"):] for xml in xmls]"
   ]
  },
  {
   "cell_type": "code",
   "execution_count": 72,
   "metadata": {},
   "outputs": [
    {
     "data": {
      "text/plain": [
       "'grants2012/ipg120911.xml'"
      ]
     },
     "execution_count": 72,
     "metadata": {},
     "output_type": "execute_result"
    }
   ],
   "source": [
    "xmlrels[0]"
   ]
  },
  {
   "cell_type": "code",
   "execution_count": null,
   "metadata": {},
   "outputs": [],
   "source": []
  },
  {
   "cell_type": "raw",
   "metadata": {},
   "source": [
    "Below cell took about 4min.\n",
    "\n",
    "CPU times: user 4.49 s, sys: 812 ms, total: 5.3 s\n",
    "Wall time: 3min 48s"
   ]
  },
  {
   "cell_type": "code",
   "execution_count": 73,
   "metadata": {},
   "outputs": [
    {
     "name": "stdout",
     "output_type": "stream",
     "text": [
      "CPU times: user 4.49 s, sys: 812 ms, total: 5.3 s\n",
      "Wall time: 3min 48s\n"
     ]
    }
   ],
   "source": [
    "%%time\n",
    "\n",
    "for xmlrel in xmlrels:\n",
    "    create_one_index(xmlrel)"
   ]
  },
  {
   "cell_type": "code",
   "execution_count": null,
   "metadata": {},
   "outputs": [],
   "source": []
  },
  {
   "cell_type": "code",
   "execution_count": null,
   "metadata": {},
   "outputs": [],
   "source": []
  },
  {
   "cell_type": "code",
   "execution_count": 9,
   "metadata": {},
   "outputs": [],
   "source": [
    "xmls = glob.glob(\"../data/application2017/*.xml\")\n",
    "xmlrels = [xml[len(\"../data/\"):] for xml in xmls]"
   ]
  },
  {
   "cell_type": "code",
   "execution_count": 10,
   "metadata": {},
   "outputs": [
    {
     "name": "stdout",
     "output_type": "stream",
     "text": [
      "CPU times: user 9.32 s, sys: 1.43 s, total: 10.8 s\n",
      "Wall time: 7min 2s\n"
     ]
    }
   ],
   "source": [
    "%%time\n",
    "\n",
    "for xmlrel in xmlrels:\n",
    "    create_one_index(xmlrel)"
   ]
  },
  {
   "cell_type": "code",
   "execution_count": null,
   "metadata": {},
   "outputs": [],
   "source": []
  },
  {
   "cell_type": "code",
   "execution_count": null,
   "metadata": {},
   "outputs": [],
   "source": []
  },
  {
   "cell_type": "code",
   "execution_count": null,
   "metadata": {},
   "outputs": [],
   "source": []
  },
  {
   "cell_type": "code",
   "execution_count": null,
   "metadata": {},
   "outputs": [],
   "source": []
  },
  {
   "cell_type": "markdown",
   "metadata": {},
   "source": [
    "### Load index from files"
   ]
  },
  {
   "cell_type": "code",
   "execution_count": 65,
   "metadata": {},
   "outputs": [],
   "source": [
    "import glob"
   ]
  },
  {
   "cell_type": "code",
   "execution_count": null,
   "metadata": {},
   "outputs": [],
   "source": []
  },
  {
   "cell_type": "code",
   "execution_count": 207,
   "metadata": {},
   "outputs": [],
   "source": [
    "# workaround. in *.xml, doc-number sometime starts with unknown 0, while citations.csv does not.\n",
    "# so if digit is 8 and start from 0, cut first 0.\n",
    "\n",
    "def cut_head_zero_workaround(key):\n",
    "    if len(key) == 8 and key.startswith(\"0\"):\n",
    "        return key[1:]\n",
    "    return key"
   ]
  },
  {
   "cell_type": "code",
   "execution_count": 208,
   "metadata": {},
   "outputs": [],
   "source": [
    "# dict format:\n",
    "# key is doc-number\n",
    "# val is list of [relxml, linenumber]\n",
    "\n",
    "def build_one_index_file_to_dict(indexfile, dic):\n",
    "    with open(indexfile, \"r\") as f:\n",
    "        tupples = [l.rstrip(\"\\n\").split(\":\", 1) for l in f]\n",
    "    relxml = indexfile[len(\"../data/index/\"):].rstrip(\".idx\")\n",
    "    for tup in tupples:\n",
    "        key = cut_head_zero_workaround(tup[1])\n",
    "        dic.setdefault(key, []).append([relxml, int(tup[0])])"
   ]
  },
  {
   "cell_type": "code",
   "execution_count": null,
   "metadata": {},
   "outputs": [],
   "source": []
  },
  {
   "cell_type": "code",
   "execution_count": 176,
   "metadata": {},
   "outputs": [],
   "source": [
    "def build_all_index_dict(indexfiles, dic):\n",
    "    for f in indexfiles:\n",
    "        build_one_index_file_to_dict(f, dic)"
   ]
  },
  {
   "cell_type": "code",
   "execution_count": null,
   "metadata": {},
   "outputs": [],
   "source": []
  },
  {
   "cell_type": "code",
   "execution_count": null,
   "metadata": {},
   "outputs": [],
   "source": []
  },
  {
   "cell_type": "code",
   "execution_count": 177,
   "metadata": {},
   "outputs": [],
   "source": [
    "indexfiles2017 = glob.glob(\"../data/index/application2017/*.idx\")"
   ]
  },
  {
   "cell_type": "code",
   "execution_count": 178,
   "metadata": {},
   "outputs": [],
   "source": [
    "index2017 = {}"
   ]
  },
  {
   "cell_type": "code",
   "execution_count": 179,
   "metadata": {},
   "outputs": [],
   "source": [
    "build_all_index_dict(indexfiles2017, index2017)"
   ]
  },
  {
   "cell_type": "code",
   "execution_count": null,
   "metadata": {},
   "outputs": [],
   "source": []
  },
  {
   "cell_type": "code",
   "execution_count": 180,
   "metadata": {},
   "outputs": [],
   "source": [
    "indexfilesGrants2012 = glob.glob(\"../data/index/grants2012/*.idx\")"
   ]
  },
  {
   "cell_type": "code",
   "execution_count": 181,
   "metadata": {},
   "outputs": [],
   "source": [
    "indexGrants2012 = {}"
   ]
  },
  {
   "cell_type": "code",
   "execution_count": 182,
   "metadata": {},
   "outputs": [],
   "source": [
    "build_all_index_dict(indexfilesGrants2012, indexGrants2012)"
   ]
  },
  {
   "cell_type": "code",
   "execution_count": null,
   "metadata": {},
   "outputs": [],
   "source": []
  },
  {
   "cell_type": "markdown",
   "metadata": {},
   "source": [
    "### Filter office action only of application 2017 doc-number."
   ]
  },
  {
   "cell_type": "code",
   "execution_count": 37,
   "metadata": {},
   "outputs": [],
   "source": [
    "# key of index2017 is string because doc-number sometime contains non-int value.\n",
    "# so we create string row in office action data frame to use isin method.\n",
    "\n",
    "office_15[\"app_id_str\"] = office_15.app_id.map(str)"
   ]
  },
  {
   "cell_type": "code",
   "execution_count": null,
   "metadata": {},
   "outputs": [],
   "source": []
  },
  {
   "cell_type": "code",
   "execution_count": 183,
   "metadata": {},
   "outputs": [
    {
     "data": {
      "text/plain": [
       "21820"
      ]
     },
     "execution_count": 183,
     "metadata": {},
     "output_type": "execute_result"
    }
   ],
   "source": [
    "sum(office_15.app_id_str.isin(index2017) == True)"
   ]
  },
  {
   "cell_type": "code",
   "execution_count": 184,
   "metadata": {},
   "outputs": [],
   "source": [
    "office2017 = office_15[office_15.app_id_str.isin(index2017)]"
   ]
  },
  {
   "cell_type": "code",
   "execution_count": null,
   "metadata": {},
   "outputs": [],
   "source": []
  },
  {
   "cell_type": "code",
   "execution_count": 185,
   "metadata": {},
   "outputs": [
    {
     "data": {
      "text/plain": [
       "21820"
      ]
     },
     "execution_count": 185,
     "metadata": {},
     "output_type": "execute_result"
    }
   ],
   "source": [
    "len(office2017)"
   ]
  },
  {
   "cell_type": "code",
   "execution_count": 186,
   "metadata": {},
   "outputs": [
    {
     "data": {
      "text/html": [
       "<div>\n",
       "<style scoped>\n",
       "    .dataframe tbody tr th:only-of-type {\n",
       "        vertical-align: middle;\n",
       "    }\n",
       "\n",
       "    .dataframe tbody tr th {\n",
       "        vertical-align: top;\n",
       "    }\n",
       "\n",
       "    .dataframe thead th {\n",
       "        text-align: right;\n",
       "    }\n",
       "</style>\n",
       "<table border=\"1\" class=\"dataframe\">\n",
       "  <thead>\n",
       "    <tr style=\"text-align: right;\">\n",
       "      <th></th>\n",
       "      <th>app_id</th>\n",
       "      <th>ifw_number</th>\n",
       "      <th>document_cd</th>\n",
       "      <th>mail_dt</th>\n",
       "      <th>art_unit</th>\n",
       "      <th>uspc_class</th>\n",
       "      <th>uspc_subclass</th>\n",
       "      <th>header_missing</th>\n",
       "      <th>fp_missing</th>\n",
       "      <th>rejection_fp_mismatch</th>\n",
       "      <th>...</th>\n",
       "      <th>rejection_112</th>\n",
       "      <th>rejection_dp</th>\n",
       "      <th>objection</th>\n",
       "      <th>allowed_claims</th>\n",
       "      <th>cite102_gt1</th>\n",
       "      <th>cite103_gt3</th>\n",
       "      <th>cite103_eq1</th>\n",
       "      <th>cite103_max</th>\n",
       "      <th>signature_type</th>\n",
       "      <th>app_id_str</th>\n",
       "    </tr>\n",
       "  </thead>\n",
       "  <tbody>\n",
       "    <tr>\n",
       "      <th>3561801</th>\n",
       "      <td>15005636</td>\n",
       "      <td>IKSG9XK1RXEAPX1</td>\n",
       "      <td>CTNF</td>\n",
       "      <td>2016-02-22</td>\n",
       "      <td>3766</td>\n",
       "      <td>600</td>\n",
       "      <td>509000</td>\n",
       "      <td>0</td>\n",
       "      <td>0</td>\n",
       "      <td>0</td>\n",
       "      <td>...</td>\n",
       "      <td>1</td>\n",
       "      <td>1</td>\n",
       "      <td>0</td>\n",
       "      <td>0</td>\n",
       "      <td>0</td>\n",
       "      <td>0</td>\n",
       "      <td>0</td>\n",
       "      <td>0</td>\n",
       "      <td>0</td>\n",
       "      <td>15005636</td>\n",
       "    </tr>\n",
       "    <tr>\n",
       "      <th>3564336</th>\n",
       "      <td>15001553</td>\n",
       "      <td>IKTT4P0TRXEAPX1</td>\n",
       "      <td>CTNF</td>\n",
       "      <td>2016-02-19</td>\n",
       "      <td>1625</td>\n",
       "      <td>514</td>\n",
       "      <td>279000</td>\n",
       "      <td>0</td>\n",
       "      <td>1</td>\n",
       "      <td>0</td>\n",
       "      <td>...</td>\n",
       "      <td>1</td>\n",
       "      <td>0</td>\n",
       "      <td>0</td>\n",
       "      <td>0</td>\n",
       "      <td>0</td>\n",
       "      <td>0</td>\n",
       "      <td>0</td>\n",
       "      <td>0</td>\n",
       "      <td>1</td>\n",
       "      <td>15001553</td>\n",
       "    </tr>\n",
       "    <tr>\n",
       "      <th>3568839</th>\n",
       "      <td>15009367</td>\n",
       "      <td>IKZGL7O1RXEAPX4</td>\n",
       "      <td>CTNF</td>\n",
       "      <td>2016-02-25</td>\n",
       "      <td>2137</td>\n",
       "      <td>711</td>\n",
       "      <td>103000</td>\n",
       "      <td>0</td>\n",
       "      <td>0</td>\n",
       "      <td>0</td>\n",
       "      <td>...</td>\n",
       "      <td>0</td>\n",
       "      <td>1</td>\n",
       "      <td>0</td>\n",
       "      <td>0</td>\n",
       "      <td>0</td>\n",
       "      <td>0</td>\n",
       "      <td>0</td>\n",
       "      <td>0</td>\n",
       "      <td>1</td>\n",
       "      <td>15009367</td>\n",
       "    </tr>\n",
       "    <tr>\n",
       "      <th>3569392</th>\n",
       "      <td>15041416</td>\n",
       "      <td>IKZI6SS3RXEAPX1</td>\n",
       "      <td>CTNF</td>\n",
       "      <td>2016-02-25</td>\n",
       "      <td>2618</td>\n",
       "      <td>345</td>\n",
       "      <td>619000</td>\n",
       "      <td>0</td>\n",
       "      <td>0</td>\n",
       "      <td>0</td>\n",
       "      <td>...</td>\n",
       "      <td>0</td>\n",
       "      <td>0</td>\n",
       "      <td>0</td>\n",
       "      <td>0</td>\n",
       "      <td>0</td>\n",
       "      <td>1</td>\n",
       "      <td>0</td>\n",
       "      <td>5</td>\n",
       "      <td>1</td>\n",
       "      <td>15041416</td>\n",
       "    </tr>\n",
       "    <tr>\n",
       "      <th>3574015</th>\n",
       "      <td>15014088</td>\n",
       "      <td>IL0U1CK0RXEAPX5</td>\n",
       "      <td>CTNF</td>\n",
       "      <td>2016-02-26</td>\n",
       "      <td>2852</td>\n",
       "      <td>399</td>\n",
       "      <td>085000</td>\n",
       "      <td>0</td>\n",
       "      <td>0</td>\n",
       "      <td>0</td>\n",
       "      <td>...</td>\n",
       "      <td>0</td>\n",
       "      <td>0</td>\n",
       "      <td>1</td>\n",
       "      <td>0</td>\n",
       "      <td>0</td>\n",
       "      <td>0</td>\n",
       "      <td>0</td>\n",
       "      <td>2</td>\n",
       "      <td>1</td>\n",
       "      <td>15014088</td>\n",
       "    </tr>\n",
       "  </tbody>\n",
       "</table>\n",
       "<p>5 rows × 24 columns</p>\n",
       "</div>"
      ],
      "text/plain": [
       "           app_id       ifw_number document_cd     mail_dt art_unit  \\\n",
       "3561801  15005636  IKSG9XK1RXEAPX1        CTNF  2016-02-22     3766   \n",
       "3564336  15001553  IKTT4P0TRXEAPX1        CTNF  2016-02-19     1625   \n",
       "3568839  15009367  IKZGL7O1RXEAPX4        CTNF  2016-02-25     2137   \n",
       "3569392  15041416  IKZI6SS3RXEAPX1        CTNF  2016-02-25     2618   \n",
       "3574015  15014088  IL0U1CK0RXEAPX5        CTNF  2016-02-26     2852   \n",
       "\n",
       "        uspc_class uspc_subclass  header_missing  fp_missing  \\\n",
       "3561801        600        509000               0           0   \n",
       "3564336        514        279000               0           1   \n",
       "3568839        711        103000               0           0   \n",
       "3569392        345        619000               0           0   \n",
       "3574015        399        085000               0           0   \n",
       "\n",
       "         rejection_fp_mismatch     ...      rejection_112  rejection_dp  \\\n",
       "3561801                      0     ...                  1             1   \n",
       "3564336                      0     ...                  1             0   \n",
       "3568839                      0     ...                  0             1   \n",
       "3569392                      0     ...                  0             0   \n",
       "3574015                      0     ...                  0             0   \n",
       "\n",
       "         objection  allowed_claims  cite102_gt1  cite103_gt3  cite103_eq1  \\\n",
       "3561801          0               0            0            0            0   \n",
       "3564336          0               0            0            0            0   \n",
       "3568839          0               0            0            0            0   \n",
       "3569392          0               0            0            1            0   \n",
       "3574015          1               0            0            0            0   \n",
       "\n",
       "         cite103_max  signature_type  app_id_str  \n",
       "3561801            0               0    15005636  \n",
       "3564336            0               1    15001553  \n",
       "3568839            0               1    15009367  \n",
       "3569392            5               1    15041416  \n",
       "3574015            2               1    15014088  \n",
       "\n",
       "[5 rows x 24 columns]"
      ]
     },
     "execution_count": 186,
     "metadata": {},
     "output_type": "execute_result"
    }
   ],
   "source": [
    "office2017.head()"
   ]
  },
  {
   "cell_type": "code",
   "execution_count": null,
   "metadata": {},
   "outputs": [],
   "source": []
  },
  {
   "cell_type": "code",
   "execution_count": 187,
   "metadata": {},
   "outputs": [],
   "source": [
    "ifw_from_OA = set(office2017.ifw_number)"
   ]
  },
  {
   "cell_type": "code",
   "execution_count": 188,
   "metadata": {},
   "outputs": [
    {
     "data": {
      "text/plain": [
       "21820"
      ]
     },
     "execution_count": 188,
     "metadata": {},
     "output_type": "execute_result"
    }
   ],
   "source": [
    "len(list(ifw_from_OA))"
   ]
  },
  {
   "cell_type": "code",
   "execution_count": null,
   "metadata": {},
   "outputs": [],
   "source": []
  },
  {
   "cell_type": "code",
   "execution_count": null,
   "metadata": {},
   "outputs": [],
   "source": []
  },
  {
   "cell_type": "code",
   "execution_count": null,
   "metadata": {},
   "outputs": [],
   "source": []
  },
  {
   "cell_type": "code",
   "execution_count": null,
   "metadata": {},
   "outputs": [],
   "source": []
  },
  {
   "cell_type": "code",
   "execution_count": 51,
   "metadata": {},
   "outputs": [
    {
     "data": {
      "text/html": [
       "<div>\n",
       "<style scoped>\n",
       "    .dataframe tbody tr th:only-of-type {\n",
       "        vertical-align: middle;\n",
       "    }\n",
       "\n",
       "    .dataframe tbody tr th {\n",
       "        vertical-align: top;\n",
       "    }\n",
       "\n",
       "    .dataframe thead th {\n",
       "        text-align: right;\n",
       "    }\n",
       "</style>\n",
       "<table border=\"1\" class=\"dataframe\">\n",
       "  <thead>\n",
       "    <tr style=\"text-align: right;\">\n",
       "      <th></th>\n",
       "      <th>app_id</th>\n",
       "      <th>citation_pat_pgpub_id</th>\n",
       "      <th>parsed</th>\n",
       "      <th>ifw_number</th>\n",
       "      <th>action_type</th>\n",
       "      <th>action_subtype</th>\n",
       "      <th>form892</th>\n",
       "      <th>form1449</th>\n",
       "      <th>citation_in_oa</th>\n",
       "    </tr>\n",
       "  </thead>\n",
       "  <tbody>\n",
       "    <tr>\n",
       "      <th>57732192</th>\n",
       "      <td>15000008</td>\n",
       "      <td>8291627</td>\n",
       "      <td>8291627</td>\n",
       "      <td>NaN</td>\n",
       "      <td>NaN</td>\n",
       "      <td>NaN</td>\n",
       "      <td>1</td>\n",
       "      <td>0</td>\n",
       "      <td>0</td>\n",
       "    </tr>\n",
       "    <tr>\n",
       "      <th>57732193</th>\n",
       "      <td>15000008</td>\n",
       "      <td>2093620</td>\n",
       "      <td>2093620</td>\n",
       "      <td>NaN</td>\n",
       "      <td>NaN</td>\n",
       "      <td>NaN</td>\n",
       "      <td>1</td>\n",
       "      <td>0</td>\n",
       "      <td>0</td>\n",
       "    </tr>\n",
       "    <tr>\n",
       "      <th>57732194</th>\n",
       "      <td>15000008</td>\n",
       "      <td>9221406</td>\n",
       "      <td>9221406</td>\n",
       "      <td>NaN</td>\n",
       "      <td>NaN</td>\n",
       "      <td>NaN</td>\n",
       "      <td>1</td>\n",
       "      <td>0</td>\n",
       "      <td>0</td>\n",
       "    </tr>\n",
       "    <tr>\n",
       "      <th>57732195</th>\n",
       "      <td>15000008</td>\n",
       "      <td>8544198</td>\n",
       "      <td>8544198</td>\n",
       "      <td>NaN</td>\n",
       "      <td>NaN</td>\n",
       "      <td>NaN</td>\n",
       "      <td>1</td>\n",
       "      <td>0</td>\n",
       "      <td>0</td>\n",
       "    </tr>\n",
       "    <tr>\n",
       "      <th>57732196</th>\n",
       "      <td>15000008</td>\n",
       "      <td>7225569</td>\n",
       "      <td>7225569</td>\n",
       "      <td>NaN</td>\n",
       "      <td>NaN</td>\n",
       "      <td>NaN</td>\n",
       "      <td>1</td>\n",
       "      <td>0</td>\n",
       "      <td>0</td>\n",
       "    </tr>\n",
       "  </tbody>\n",
       "</table>\n",
       "</div>"
      ],
      "text/plain": [
       "            app_id citation_pat_pgpub_id   parsed ifw_number  action_type  \\\n",
       "57732192  15000008               8291627  8291627        NaN          NaN   \n",
       "57732193  15000008               2093620  2093620        NaN          NaN   \n",
       "57732194  15000008               9221406  9221406        NaN          NaN   \n",
       "57732195  15000008               8544198  8544198        NaN          NaN   \n",
       "57732196  15000008               7225569  7225569        NaN          NaN   \n",
       "\n",
       "         action_subtype  form892  form1449  citation_in_oa  \n",
       "57732192            NaN        1         0               0  \n",
       "57732193            NaN        1         0               0  \n",
       "57732194            NaN        1         0               0  \n",
       "57732195            NaN        1         0               0  \n",
       "57732196            NaN        1         0               0  "
      ]
     },
     "execution_count": 51,
     "metadata": {},
     "output_type": "execute_result"
    }
   ],
   "source": [
    "citations_15.head()"
   ]
  },
  {
   "cell_type": "code",
   "execution_count": 189,
   "metadata": {},
   "outputs": [],
   "source": [
    "citations_2017 = citations_15[citations_15.ifw_number.isin(ifw_from_OA)]"
   ]
  },
  {
   "cell_type": "code",
   "execution_count": 190,
   "metadata": {},
   "outputs": [
    {
     "data": {
      "text/plain": [
       "43416"
      ]
     },
     "execution_count": 190,
     "metadata": {},
     "output_type": "execute_result"
    }
   ],
   "source": [
    "len(citations_2017)"
   ]
  },
  {
   "cell_type": "code",
   "execution_count": 191,
   "metadata": {},
   "outputs": [
    {
     "data": {
      "text/html": [
       "<div>\n",
       "<style scoped>\n",
       "    .dataframe tbody tr th:only-of-type {\n",
       "        vertical-align: middle;\n",
       "    }\n",
       "\n",
       "    .dataframe tbody tr th {\n",
       "        vertical-align: top;\n",
       "    }\n",
       "\n",
       "    .dataframe thead th {\n",
       "        text-align: right;\n",
       "    }\n",
       "</style>\n",
       "<table border=\"1\" class=\"dataframe\">\n",
       "  <thead>\n",
       "    <tr style=\"text-align: right;\">\n",
       "      <th></th>\n",
       "      <th>app_id</th>\n",
       "      <th>citation_pat_pgpub_id</th>\n",
       "      <th>parsed</th>\n",
       "      <th>ifw_number</th>\n",
       "      <th>action_type</th>\n",
       "      <th>action_subtype</th>\n",
       "      <th>form892</th>\n",
       "      <th>form1449</th>\n",
       "      <th>citation_in_oa</th>\n",
       "    </tr>\n",
       "  </thead>\n",
       "  <tbody>\n",
       "    <tr>\n",
       "      <th>57732253</th>\n",
       "      <td>15000027</td>\n",
       "      <td>8553488</td>\n",
       "      <td>8553488</td>\n",
       "      <td>IRPCOHEPRXEAPX4</td>\n",
       "      <td>102.0</td>\n",
       "      <td>a</td>\n",
       "      <td>1</td>\n",
       "      <td>0</td>\n",
       "      <td>1</td>\n",
       "    </tr>\n",
       "    <tr>\n",
       "      <th>57732273</th>\n",
       "      <td>15000034</td>\n",
       "      <td>Dando US 2015/0364400</td>\n",
       "      <td>20150364400</td>\n",
       "      <td>IYD99O6CRXEAPX0</td>\n",
       "      <td>103.0</td>\n",
       "      <td>NaN</td>\n",
       "      <td>0</td>\n",
       "      <td>0</td>\n",
       "      <td>1</td>\n",
       "    </tr>\n",
       "    <tr>\n",
       "      <th>57732274</th>\n",
       "      <td>15000034</td>\n",
       "      <td>Sun US 2012/0181696</td>\n",
       "      <td>20120181696</td>\n",
       "      <td>IYD99O6CRXEAPX0</td>\n",
       "      <td>103.0</td>\n",
       "      <td>NaN</td>\n",
       "      <td>0</td>\n",
       "      <td>0</td>\n",
       "      <td>1</td>\n",
       "    </tr>\n",
       "    <tr>\n",
       "      <th>57732275</th>\n",
       "      <td>15000034</td>\n",
       "      <td>Sun US 2012/0279760</td>\n",
       "      <td>20120279760</td>\n",
       "      <td>IYD99O6CRXEAPX0</td>\n",
       "      <td>103.0</td>\n",
       "      <td>NaN</td>\n",
       "      <td>0</td>\n",
       "      <td>0</td>\n",
       "      <td>1</td>\n",
       "    </tr>\n",
       "    <tr>\n",
       "      <th>57732324</th>\n",
       "      <td>15000048</td>\n",
       "      <td>20140091294</td>\n",
       "      <td>20140091294</td>\n",
       "      <td>IR59S77KRXEAPX5</td>\n",
       "      <td>103.0</td>\n",
       "      <td>NaN</td>\n",
       "      <td>1</td>\n",
       "      <td>0</td>\n",
       "      <td>1</td>\n",
       "    </tr>\n",
       "  </tbody>\n",
       "</table>\n",
       "</div>"
      ],
      "text/plain": [
       "            app_id  citation_pat_pgpub_id       parsed       ifw_number  \\\n",
       "57732253  15000027                8553488      8553488  IRPCOHEPRXEAPX4   \n",
       "57732273  15000034  Dando US 2015/0364400  20150364400  IYD99O6CRXEAPX0   \n",
       "57732274  15000034    Sun US 2012/0181696  20120181696  IYD99O6CRXEAPX0   \n",
       "57732275  15000034    Sun US 2012/0279760  20120279760  IYD99O6CRXEAPX0   \n",
       "57732324  15000048            20140091294  20140091294  IR59S77KRXEAPX5   \n",
       "\n",
       "          action_type action_subtype  form892  form1449  citation_in_oa  \n",
       "57732253        102.0              a        1         0               1  \n",
       "57732273        103.0            NaN        0         0               1  \n",
       "57732274        103.0            NaN        0         0               1  \n",
       "57732275        103.0            NaN        0         0               1  \n",
       "57732324        103.0            NaN        1         0               1  "
      ]
     },
     "execution_count": 191,
     "metadata": {},
     "output_type": "execute_result"
    }
   ],
   "source": [
    "citations_2017.head()"
   ]
  },
  {
   "cell_type": "code",
   "execution_count": 192,
   "metadata": {},
   "outputs": [],
   "source": [
    "# citations_we_have = citations_2017[citations_2017.citation_pat_pgpub_id.isin(indexGrants2012)]\n",
    "citations_we_have = citations_2017[citations_2017.parsed.isin(indexGrants2012)]"
   ]
  },
  {
   "cell_type": "code",
   "execution_count": 193,
   "metadata": {},
   "outputs": [
    {
     "data": {
      "text/plain": [
       "8365"
      ]
     },
     "execution_count": 193,
     "metadata": {},
     "output_type": "execute_result"
    }
   ],
   "source": [
    "len(citations_we_have)"
   ]
  },
  {
   "cell_type": "code",
   "execution_count": 194,
   "metadata": {},
   "outputs": [
    {
     "data": {
      "text/html": [
       "<div>\n",
       "<style scoped>\n",
       "    .dataframe tbody tr th:only-of-type {\n",
       "        vertical-align: middle;\n",
       "    }\n",
       "\n",
       "    .dataframe tbody tr th {\n",
       "        vertical-align: top;\n",
       "    }\n",
       "\n",
       "    .dataframe thead th {\n",
       "        text-align: right;\n",
       "    }\n",
       "</style>\n",
       "<table border=\"1\" class=\"dataframe\">\n",
       "  <thead>\n",
       "    <tr style=\"text-align: right;\">\n",
       "      <th></th>\n",
       "      <th>app_id</th>\n",
       "      <th>citation_pat_pgpub_id</th>\n",
       "      <th>parsed</th>\n",
       "      <th>ifw_number</th>\n",
       "      <th>action_type</th>\n",
       "      <th>action_subtype</th>\n",
       "      <th>form892</th>\n",
       "      <th>form1449</th>\n",
       "      <th>citation_in_oa</th>\n",
       "    </tr>\n",
       "  </thead>\n",
       "  <tbody>\n",
       "    <tr>\n",
       "      <th>57733581</th>\n",
       "      <td>15000285</td>\n",
       "      <td>4659845</td>\n",
       "      <td>4659845</td>\n",
       "      <td>IV82WOB1RXEAPX5</td>\n",
       "      <td>103.0</td>\n",
       "      <td>NaN</td>\n",
       "      <td>1</td>\n",
       "      <td>0</td>\n",
       "      <td>1</td>\n",
       "    </tr>\n",
       "    <tr>\n",
       "      <th>57733622</th>\n",
       "      <td>15000297</td>\n",
       "      <td>7268118</td>\n",
       "      <td>7268118</td>\n",
       "      <td>IO1DLQ1SRXEAPX3</td>\n",
       "      <td>102.0</td>\n",
       "      <td>b</td>\n",
       "      <td>0</td>\n",
       "      <td>1</td>\n",
       "      <td>1</td>\n",
       "    </tr>\n",
       "    <tr>\n",
       "      <th>57733623</th>\n",
       "      <td>15000297</td>\n",
       "      <td>7268118</td>\n",
       "      <td>7268118</td>\n",
       "      <td>IO1DLQ1SRXEAPX3</td>\n",
       "      <td>103.0</td>\n",
       "      <td>a</td>\n",
       "      <td>0</td>\n",
       "      <td>1</td>\n",
       "      <td>1</td>\n",
       "    </tr>\n",
       "    <tr>\n",
       "      <th>57733624</th>\n",
       "      <td>15000297</td>\n",
       "      <td>5578570</td>\n",
       "      <td>5578570</td>\n",
       "      <td>IO1DLQ1SRXEAPX3</td>\n",
       "      <td>103.0</td>\n",
       "      <td>a</td>\n",
       "      <td>1</td>\n",
       "      <td>0</td>\n",
       "      <td>1</td>\n",
       "    </tr>\n",
       "    <tr>\n",
       "      <th>57733628</th>\n",
       "      <td>15000297</td>\n",
       "      <td>5342620</td>\n",
       "      <td>5342620</td>\n",
       "      <td>IO1DLQ1SRXEAPX3</td>\n",
       "      <td>103.0</td>\n",
       "      <td>a</td>\n",
       "      <td>1</td>\n",
       "      <td>1</td>\n",
       "      <td>1</td>\n",
       "    </tr>\n",
       "  </tbody>\n",
       "</table>\n",
       "</div>"
      ],
      "text/plain": [
       "            app_id citation_pat_pgpub_id   parsed       ifw_number  \\\n",
       "57733581  15000285               4659845  4659845  IV82WOB1RXEAPX5   \n",
       "57733622  15000297               7268118  7268118  IO1DLQ1SRXEAPX3   \n",
       "57733623  15000297               7268118  7268118  IO1DLQ1SRXEAPX3   \n",
       "57733624  15000297               5578570  5578570  IO1DLQ1SRXEAPX3   \n",
       "57733628  15000297               5342620  5342620  IO1DLQ1SRXEAPX3   \n",
       "\n",
       "          action_type action_subtype  form892  form1449  citation_in_oa  \n",
       "57733581        103.0            NaN        1         0               1  \n",
       "57733622        102.0              b        0         1               1  \n",
       "57733623        103.0              a        0         1               1  \n",
       "57733624        103.0              a        1         0               1  \n",
       "57733628        103.0              a        1         1               1  "
      ]
     },
     "execution_count": 194,
     "metadata": {},
     "output_type": "execute_result"
    }
   ],
   "source": [
    "citations_we_have.head()"
   ]
  },
  {
   "cell_type": "code",
   "execution_count": 195,
   "metadata": {},
   "outputs": [],
   "source": [
    "citations_we_have.to_pickle(\"../data/citations_2017_2012.dat\")"
   ]
  },
  {
   "cell_type": "code",
   "execution_count": null,
   "metadata": {},
   "outputs": [],
   "source": []
  },
  {
   "cell_type": "code",
   "execution_count": null,
   "metadata": {},
   "outputs": [],
   "source": []
  },
  {
   "cell_type": "code",
   "execution_count": 196,
   "metadata": {},
   "outputs": [],
   "source": [
    "index2017_we_need = {str(key):index2017[str(key)] for key in set(citations_we_have.app_id)}"
   ]
  },
  {
   "cell_type": "code",
   "execution_count": 197,
   "metadata": {},
   "outputs": [
    {
     "data": {
      "text/plain": [
       "4734"
      ]
     },
     "execution_count": 197,
     "metadata": {},
     "output_type": "execute_result"
    }
   ],
   "source": [
    "len(list(index2017_we_need.keys()))"
   ]
  },
  {
   "cell_type": "code",
   "execution_count": null,
   "metadata": {},
   "outputs": [],
   "source": []
  },
  {
   "cell_type": "code",
   "execution_count": null,
   "metadata": {},
   "outputs": [],
   "source": []
  },
  {
   "cell_type": "code",
   "execution_count": 198,
   "metadata": {},
   "outputs": [],
   "source": [
    "indexGrants2012_we_need = {str(key):indexGrants2012[str(key)] for key in set(citations_we_have.parsed)}"
   ]
  },
  {
   "cell_type": "code",
   "execution_count": null,
   "metadata": {},
   "outputs": [],
   "source": []
  },
  {
   "cell_type": "code",
   "execution_count": 203,
   "metadata": {},
   "outputs": [
    {
     "data": {
      "text/plain": [
       "['20100044297',\n",
       " '20100306879',\n",
       " '20080107017',\n",
       " '4619580',\n",
       " '6257300',\n",
       " '9223902',\n",
       " '3994021',\n",
       " '8227462',\n",
       " '5506279',\n",
       " '6768196']"
      ]
     },
     "execution_count": 203,
     "metadata": {},
     "output_type": "execute_result"
    }
   ],
   "source": [
    "list(indexGrants2012_we_need.keys())[0:10]"
   ]
  },
  {
   "cell_type": "code",
   "execution_count": 200,
   "metadata": {},
   "outputs": [
    {
     "data": {
      "text/plain": [
       "6352"
      ]
     },
     "execution_count": 200,
     "metadata": {},
     "output_type": "execute_result"
    }
   ],
   "source": [
    "len(list(indexGrants2012_we_need.keys()))"
   ]
  },
  {
   "cell_type": "code",
   "execution_count": null,
   "metadata": {},
   "outputs": [],
   "source": []
  },
  {
   "cell_type": "code",
   "execution_count": 204,
   "metadata": {
    "scrolled": true
   },
   "outputs": [
    {
     "data": {
      "text/plain": [
       "[['grants2012/ipg121030.xml', 5731295],\n",
       " ['grants2012/ipg120724.xml', 3034084],\n",
       " ['grants2012/ipg120724.xml', 3038802]]"
      ]
     },
     "execution_count": 204,
     "metadata": {},
     "output_type": "execute_result"
    }
   ],
   "source": [
    "indexGrants2012_we_need['8227462']"
   ]
  },
  {
   "cell_type": "code",
   "execution_count": null,
   "metadata": {},
   "outputs": [],
   "source": []
  },
  {
   "cell_type": "code",
   "execution_count": 73,
   "metadata": {},
   "outputs": [],
   "source": [
    "## cut subtext of (target-bound):(target+bound) from very large text file\n",
    "## but if (target-bound) is smaller than 1, treat as 1.\n",
    "## retuned value is tupple which value is\n",
    "## first cell: offset for target\n",
    "## second cell: array of text, each element stand for one line.\n",
    "\n",
    "def retrieve_subtext_fast(target, bound, fpath):\n",
    "    start = max(1, target-bound)\n",
    "    end = target+bound\n",
    "    sed_arg = \"'{},{}p'\".format(start, end)\n",
    "    subtext = !sed -n {sed_arg} {fpath}\n",
    "    return (target - start, subtext)"
   ]
  },
  {
   "cell_type": "code",
   "execution_count": null,
   "metadata": {},
   "outputs": [],
   "source": []
  },
  {
   "cell_type": "code",
   "execution_count": null,
   "metadata": {},
   "outputs": [],
   "source": []
  },
  {
   "cell_type": "code",
   "execution_count": 95,
   "metadata": {},
   "outputs": [],
   "source": [
    "#<us-patent-application ...>...</us-patent-application>\n",
    "#<us-patent-grant ...>....</us-patent-grant>\n",
    "\n",
    "def find_nearest_root_element(target_offset, subtext_arr, tagname):\n",
    "    begin_tag = '<{}'.format(tagname)\n",
    "    last_cand = -1\n",
    "    for i, line in enumerate(subtext_arr):\n",
    "        if i > target_offset:\n",
    "            if last_cand == -1:\n",
    "                raise Exception('no target tagname found around target_offset')\n",
    "            return last_cand\n",
    "        if begin_tag in line:\n",
    "            last_cand = i\n",
    "    raise Exception('no target tagname found around target_offset')        "
   ]
  },
  {
   "cell_type": "code",
   "execution_count": null,
   "metadata": {},
   "outputs": [],
   "source": []
  },
  {
   "cell_type": "code",
   "execution_count": 101,
   "metadata": {},
   "outputs": [],
   "source": [
    "def retrieve_begin_end(begin_offset, subtext_arr, tagname):\n",
    "    end_tag = '</{}'.format(tagname)\n",
    "    res = []\n",
    "    for line in subtext_arr[begin_offset:]:\n",
    "        res.append(line)\n",
    "        if end_tag in line:\n",
    "            return res\n",
    "    raise Exception('no end tagname found')        "
   ]
  },
  {
   "cell_type": "code",
   "execution_count": null,
   "metadata": {},
   "outputs": [],
   "source": []
  },
  {
   "cell_type": "code",
   "execution_count": 106,
   "metadata": {},
   "outputs": [],
   "source": [
    "import re"
   ]
  },
  {
   "cell_type": "code",
   "execution_count": null,
   "metadata": {},
   "outputs": [],
   "source": []
  },
  {
   "cell_type": "code",
   "execution_count": 209,
   "metadata": {},
   "outputs": [],
   "source": [
    "DOC_NUMBER_PAT=re.compile(r'<doc-number>([^<]+)</doc-number>')\n",
    "\n",
    "def find_first_doc_number(text_arr):\n",
    "    res = []\n",
    "    for text in text_arr:\n",
    "        matchObj = DOC_NUMBER_PAT.search(text)\n",
    "        if matchObj:\n",
    "            return cut_head_zero_workaround(matchObj.group(1))\n",
    "    raise Exception(\"No doc-number found.\")\n",
    "        \n",
    "    "
   ]
  },
  {
   "cell_type": "code",
   "execution_count": 210,
   "metadata": {},
   "outputs": [
    {
     "data": {
      "text/plain": [
       "'20170351915'"
      ]
     },
     "execution_count": 210,
     "metadata": {},
     "output_type": "execute_result"
    }
   ],
   "source": [
    "find_first_doc_number(res_pat)"
   ]
  },
  {
   "cell_type": "code",
   "execution_count": null,
   "metadata": {},
   "outputs": [],
   "source": []
  },
  {
   "cell_type": "code",
   "execution_count": 211,
   "metadata": {},
   "outputs": [],
   "source": [
    "# tagname is \"us-patent-application\" or \"us-patent-grant\"\n",
    "#<us-patent-application ...>...</us-patent-application>\n",
    "#<us-patent-grant ...>....</us-patent-grant>\n",
    "\n",
    "def get_patent(tagname, file_path, target_offset):\n",
    "    BOUND=5000\n",
    "    target_mod_offset, subtext_arr = retrieve_subtext_fast(target_offset, BOUND, file_path)\n",
    "    begin_pos = find_nearest_root_element(target_mod_offset, subtext_arr, tagname)\n",
    "    result_patent = retrieve_begin_end(begin_pos, subtext_arr, tagname)\n",
    "    docid = find_first_doc_number(result_patent)\n",
    "    return docid, result_patent"
   ]
  },
  {
   "cell_type": "code",
   "execution_count": null,
   "metadata": {},
   "outputs": [],
   "source": []
  },
  {
   "cell_type": "code",
   "execution_count": null,
   "metadata": {},
   "outputs": [],
   "source": []
  },
  {
   "cell_type": "code",
   "execution_count": null,
   "metadata": {},
   "outputs": [],
   "source": []
  },
  {
   "cell_type": "code",
   "execution_count": null,
   "metadata": {},
   "outputs": [],
   "source": []
  },
  {
   "cell_type": "code",
   "execution_count": null,
   "metadata": {},
   "outputs": [],
   "source": []
  },
  {
   "cell_type": "code",
   "execution_count": 204,
   "metadata": {
    "scrolled": true
   },
   "outputs": [
    {
     "data": {
      "text/plain": [
       "[['grants2012/ipg121030.xml', 5731295],\n",
       " ['grants2012/ipg120724.xml', 3034084],\n",
       " ['grants2012/ipg120724.xml', 3038802]]"
      ]
     },
     "execution_count": 204,
     "metadata": {},
     "output_type": "execute_result"
    }
   ],
   "source": [
    "indexGrants2012_we_need['8227462']"
   ]
  },
  {
   "cell_type": "code",
   "execution_count": null,
   "metadata": {},
   "outputs": [],
   "source": []
  },
  {
   "cell_type": "code",
   "execution_count": 220,
   "metadata": {},
   "outputs": [],
   "source": [
    "patent_grants_dic = {}"
   ]
  },
  {
   "cell_type": "code",
   "execution_count": 215,
   "metadata": {},
   "outputs": [],
   "source": [
    "def get_real_patent(tagname, key_cand, tup_list):\n",
    "    for tup in tup_list:\n",
    "        real_id, pat_text = get_patent(tagname, '../data/' + tup[0], tup[1])\n",
    "        if real_id == key_cand:\n",
    "            return pat_text\n",
    "    return None"
   ]
  },
  {
   "cell_type": "code",
   "execution_count": null,
   "metadata": {},
   "outputs": [],
   "source": []
  },
  {
   "cell_type": "code",
   "execution_count": null,
   "metadata": {},
   "outputs": [],
   "source": []
  },
  {
   "cell_type": "markdown",
   "metadata": {},
   "source": [
    "### Below cell takes too much times. Must be bug."
   ]
  },
  {
   "cell_type": "code",
   "execution_count": null,
   "metadata": {},
   "outputs": [],
   "source": [
    "for key_cand, tup_list in indexGrants2012_we_need.items():\n",
    "    try:\n",
    "        real_pat = get_real_patent(\"us-patent-grant\", key_cand, tup_list)\n",
    "        if real_pat:\n",
    "            patent_grants_dic[key_cand] = real_pat            \n",
    "    except:\n",
    "        print(\"can't find tag. ignore. {}\".format(key_cand))"
   ]
  },
  {
   "cell_type": "code",
   "execution_count": null,
   "metadata": {},
   "outputs": [],
   "source": [
    "len(list(patent_grants_dic.keys()))"
   ]
  },
  {
   "cell_type": "code",
   "execution_count": null,
   "metadata": {},
   "outputs": [],
   "source": []
  },
  {
   "cell_type": "code",
   "execution_count": 205,
   "metadata": {},
   "outputs": [
    {
     "data": {
      "text/plain": [
       "['08300926', '12499630']"
      ]
     },
     "execution_count": 205,
     "metadata": {},
     "output_type": "execute_result"
    }
   ],
   "source": [
    "real_id1, pat_text1 = get_patent(\"us-patent-grant\", '../data/' + 'grants2012/ipg121030.xml', 5731295)\n",
    "real_id1"
   ]
  },
  {
   "cell_type": "code",
   "execution_count": 212,
   "metadata": {},
   "outputs": [
    {
     "data": {
      "text/plain": [
       "'8227462'"
      ]
     },
     "execution_count": 212,
     "metadata": {},
     "output_type": "execute_result"
    }
   ],
   "source": [
    "real_id2, pat_text2 = get_patent(\"us-patent-grant\", '../data/' + 'grants2012/ipg120724.xml', 3034084)\n",
    "real_id2"
   ]
  },
  {
   "cell_type": "code",
   "execution_count": 142,
   "metadata": {},
   "outputs": [
    {
     "data": {
      "text/plain": [
       "'08326698'"
      ]
     },
     "execution_count": 142,
     "metadata": {},
     "output_type": "execute_result"
    }
   ],
   "source": [
    "real_id3, pat_text3 = get_patent(\"us-patent-grant\", '../data/' + 'grants2012/ipg121204.xml', 6903688)\n",
    "real_id3"
   ]
  },
  {
   "cell_type": "code",
   "execution_count": null,
   "metadata": {},
   "outputs": [],
   "source": []
  },
  {
   "cell_type": "code",
   "execution_count": 146,
   "metadata": {},
   "outputs": [],
   "source": [
    "with open('tmp_out.txt', 'w') as f: \n",
    "    print(\"\\n\".join(pat_text1), file=f)"
   ]
  },
  {
   "cell_type": "code",
   "execution_count": null,
   "metadata": {},
   "outputs": [],
   "source": [
    "['grants2012/ipg120417.xml', 6067926],\n",
    " ['grants2012/ipg121204.xml', 6903406],\n",
    " ['grants2012/ipg121204.xml', 6903688]"
   ]
  },
  {
   "cell_type": "code",
   "execution_count": null,
   "metadata": {},
   "outputs": [],
   "source": []
  },
  {
   "cell_type": "code",
   "execution_count": 147,
   "metadata": {},
   "outputs": [
    {
     "data": {
      "text/plain": [
       "[['grants2012/ipg121106.xml', 1672856],\n",
       " ['grants2012/ipg120703.xml', 1727841],\n",
       " ['grants2012/ipg120724.xml', 1752025]]"
      ]
     },
     "execution_count": 147,
     "metadata": {},
     "output_type": "execute_result"
    }
   ],
   "source": [
    "indexGrants2012_we_need['4242108']"
   ]
  },
  {
   "cell_type": "code",
   "execution_count": 152,
   "metadata": {},
   "outputs": [
    {
     "data": {
      "text/plain": [
       "['08303685', '10565466']"
      ]
     },
     "execution_count": 152,
     "metadata": {},
     "output_type": "execute_result"
    }
   ],
   "source": [
    "real_id1, pat_text1 = get_patent(\"us-patent-grant\", '../data/' + 'grants2012/ipg121106.xml', 1672856)\n",
    "real_id1"
   ]
  },
  {
   "cell_type": "code",
   "execution_count": 153,
   "metadata": {},
   "outputs": [
    {
     "data": {
      "text/plain": [
       "['08211213', '12632244']"
      ]
     },
     "execution_count": 153,
     "metadata": {},
     "output_type": "execute_result"
    }
   ],
   "source": [
    "real_id2, pat_text2 = get_patent(\"us-patent-grant\", '../data/' + 'grants2012/ipg120703.xml', 1727841)\n",
    "real_id2"
   ]
  },
  {
   "cell_type": "code",
   "execution_count": 154,
   "metadata": {},
   "outputs": [
    {
     "data": {
      "text/plain": [
       "['08226748', '12602887']"
      ]
     },
     "execution_count": 154,
     "metadata": {},
     "output_type": "execute_result"
    }
   ],
   "source": [
    "real_id3, pat_text3 = get_patent(\"us-patent-grant\", '../data/' + 'grants2012/ipg120724.xml', 1752025)\n",
    "real_id3"
   ]
  },
  {
   "cell_type": "code",
   "execution_count": null,
   "metadata": {},
   "outputs": [],
   "source": []
  },
  {
   "cell_type": "code",
   "execution_count": 170,
   "metadata": {},
   "outputs": [
    {
     "ename": "KeyError",
     "evalue": "'20120181696'",
     "output_type": "error",
     "traceback": [
      "\u001b[0;31m---------------------------------------------------------------------------\u001b[0m",
      "\u001b[0;31mKeyError\u001b[0m                                  Traceback (most recent call last)",
      "\u001b[0;32m<ipython-input-170-9ac3bf82fba5>\u001b[0m in \u001b[0;36m<module>\u001b[0;34m()\u001b[0m\n\u001b[0;32m----> 1\u001b[0;31m \u001b[0mindexGrants2012_we_need\u001b[0m\u001b[0;34m[\u001b[0m\u001b[0;34m'20120181696'\u001b[0m\u001b[0;34m]\u001b[0m\u001b[0;34m\u001b[0m\u001b[0m\n\u001b[0m",
      "\u001b[0;31mKeyError\u001b[0m: '20120181696'"
     ]
    }
   ],
   "source": [
    "indexGrants2012_we_need['20120181696']"
   ]
  },
  {
   "cell_type": "code",
   "execution_count": 171,
   "metadata": {},
   "outputs": [
    {
     "ename": "KeyError",
     "evalue": "'20120181696'",
     "output_type": "error",
     "traceback": [
      "\u001b[0;31m---------------------------------------------------------------------------\u001b[0m",
      "\u001b[0;31mKeyError\u001b[0m                                  Traceback (most recent call last)",
      "\u001b[0;32m<ipython-input-171-f2a0b9f46407>\u001b[0m in \u001b[0;36m<module>\u001b[0;34m()\u001b[0m\n\u001b[0;32m----> 1\u001b[0;31m \u001b[0mindexGrants2012\u001b[0m\u001b[0;34m[\u001b[0m\u001b[0;34m'20120181696'\u001b[0m\u001b[0;34m]\u001b[0m\u001b[0;34m\u001b[0m\u001b[0m\n\u001b[0m",
      "\u001b[0;31mKeyError\u001b[0m: '20120181696'"
     ]
    }
   ],
   "source": [
    "indexGrants2012['20120181696']"
   ]
  },
  {
   "cell_type": "code",
   "execution_count": null,
   "metadata": {},
   "outputs": [],
   "source": []
  },
  {
   "cell_type": "code",
   "execution_count": null,
   "metadata": {},
   "outputs": [],
   "source": []
  },
  {
   "cell_type": "code",
   "execution_count": 155,
   "metadata": {},
   "outputs": [
    {
     "data": {
      "text/plain": [
       "['6510334',\n",
       " '7534866',\n",
       " '8227462',\n",
       " '20110032802',\n",
       " '6768196',\n",
       " '5235967',\n",
       " '20110035525',\n",
       " '5708963',\n",
       " '8011686',\n",
       " '4254145',\n",
       " '7010112',\n",
       " '4116456',\n",
       " '4835565',\n",
       " '7500444',\n",
       " '20080181288']"
      ]
     },
     "execution_count": 155,
     "metadata": {},
     "output_type": "execute_result"
    }
   ],
   "source": [
    "list(indexGrants2012_we_need.keys())[5:20]"
   ]
  },
  {
   "cell_type": "code",
   "execution_count": 167,
   "metadata": {},
   "outputs": [
    {
     "data": {
      "text/plain": [
       "True"
      ]
     },
     "execution_count": 167,
     "metadata": {},
     "output_type": "execute_result"
    }
   ],
   "source": [
    "'20150364400'.startswith(\"2015\")"
   ]
  },
  {
   "cell_type": "code",
   "execution_count": 165,
   "metadata": {},
   "outputs": [
    {
     "data": {
      "text/plain": [
       "['8553488', '20150364400', '20120181696', '20120279760', '20140091294']"
      ]
     },
     "execution_count": 165,
     "metadata": {},
     "output_type": "execute_result"
    }
   ],
   "source": [
    "list(citations_2017.parsed)[0:5]"
   ]
  },
  {
   "cell_type": "code",
   "execution_count": 169,
   "metadata": {},
   "outputs": [
    {
     "data": {
      "text/html": [
       "<div>\n",
       "<style scoped>\n",
       "    .dataframe tbody tr th:only-of-type {\n",
       "        vertical-align: middle;\n",
       "    }\n",
       "\n",
       "    .dataframe tbody tr th {\n",
       "        vertical-align: top;\n",
       "    }\n",
       "\n",
       "    .dataframe thead th {\n",
       "        text-align: right;\n",
       "    }\n",
       "</style>\n",
       "<table border=\"1\" class=\"dataframe\">\n",
       "  <thead>\n",
       "    <tr style=\"text-align: right;\">\n",
       "      <th></th>\n",
       "      <th>app_id</th>\n",
       "      <th>citation_pat_pgpub_id</th>\n",
       "      <th>parsed</th>\n",
       "      <th>ifw_number</th>\n",
       "      <th>action_type</th>\n",
       "      <th>action_subtype</th>\n",
       "      <th>form892</th>\n",
       "      <th>form1449</th>\n",
       "      <th>citation_in_oa</th>\n",
       "    </tr>\n",
       "  </thead>\n",
       "  <tbody>\n",
       "    <tr>\n",
       "      <th>57732274</th>\n",
       "      <td>15000034</td>\n",
       "      <td>Sun US 2012/0181696</td>\n",
       "      <td>20120181696</td>\n",
       "      <td>IYD99O6CRXEAPX0</td>\n",
       "      <td>103.0</td>\n",
       "      <td>NaN</td>\n",
       "      <td>0</td>\n",
       "      <td>0</td>\n",
       "      <td>1</td>\n",
       "    </tr>\n",
       "    <tr>\n",
       "      <th>57732275</th>\n",
       "      <td>15000034</td>\n",
       "      <td>Sun US 2012/0279760</td>\n",
       "      <td>20120279760</td>\n",
       "      <td>IYD99O6CRXEAPX0</td>\n",
       "      <td>103.0</td>\n",
       "      <td>NaN</td>\n",
       "      <td>0</td>\n",
       "      <td>0</td>\n",
       "      <td>1</td>\n",
       "    </tr>\n",
       "    <tr>\n",
       "      <th>57732330</th>\n",
       "      <td>15000048</td>\n",
       "      <td>Ke U.S. Pub # Pub # 2012/0049221 A1</td>\n",
       "      <td>20120049221</td>\n",
       "      <td>IYEPR2ZURXEAPX4</td>\n",
       "      <td>103.0</td>\n",
       "      <td>NaN</td>\n",
       "      <td>0</td>\n",
       "      <td>0</td>\n",
       "      <td>1</td>\n",
       "    </tr>\n",
       "    <tr>\n",
       "      <th>57732335</th>\n",
       "      <td>15000048</td>\n",
       "      <td>Dai U.S. Pub # Pub # 2012/0087105 A1</td>\n",
       "      <td>20120087105</td>\n",
       "      <td>IYEPR2ZURXEAPX4</td>\n",
       "      <td>103.0</td>\n",
       "      <td>NaN</td>\n",
       "      <td>0</td>\n",
       "      <td>0</td>\n",
       "      <td>1</td>\n",
       "    </tr>\n",
       "    <tr>\n",
       "      <th>57733582</th>\n",
       "      <td>15000285</td>\n",
       "      <td>20120245377</td>\n",
       "      <td>20120245377</td>\n",
       "      <td>IV82WOB1RXEAPX5</td>\n",
       "      <td>103.0</td>\n",
       "      <td>NaN</td>\n",
       "      <td>1</td>\n",
       "      <td>0</td>\n",
       "      <td>1</td>\n",
       "    </tr>\n",
       "    <tr>\n",
       "      <th>57734766</th>\n",
       "      <td>15000519</td>\n",
       "      <td>20120261760</td>\n",
       "      <td>20120261760</td>\n",
       "      <td>J0B89O3HRXEAPX0</td>\n",
       "      <td>103.0</td>\n",
       "      <td>NaN</td>\n",
       "      <td>1</td>\n",
       "      <td>0</td>\n",
       "      <td>1</td>\n",
       "    </tr>\n",
       "    <tr>\n",
       "      <th>57737475</th>\n",
       "      <td>15000943</td>\n",
       "      <td>20120064136</td>\n",
       "      <td>20120064136</td>\n",
       "      <td>IOVFB1E5RXEAPX4</td>\n",
       "      <td>103.0</td>\n",
       "      <td>NaN</td>\n",
       "      <td>1</td>\n",
       "      <td>0</td>\n",
       "      <td>1</td>\n",
       "    </tr>\n",
       "    <tr>\n",
       "      <th>57739052</th>\n",
       "      <td>15001133</td>\n",
       "      <td>20120113095</td>\n",
       "      <td>20120113095</td>\n",
       "      <td>J3LJNGP5RXEAPX4</td>\n",
       "      <td>103.0</td>\n",
       "      <td>a</td>\n",
       "      <td>0</td>\n",
       "      <td>1</td>\n",
       "      <td>1</td>\n",
       "    </tr>\n",
       "    <tr>\n",
       "      <th>57739055</th>\n",
       "      <td>15001133</td>\n",
       "      <td>20120113095</td>\n",
       "      <td>20120113095</td>\n",
       "      <td>J3XHHLA6RXEAPX4</td>\n",
       "      <td>103.0</td>\n",
       "      <td>a</td>\n",
       "      <td>0</td>\n",
       "      <td>1</td>\n",
       "      <td>1</td>\n",
       "    </tr>\n",
       "    <tr>\n",
       "      <th>57739057</th>\n",
       "      <td>15001133</td>\n",
       "      <td>20120113095</td>\n",
       "      <td>20120113095</td>\n",
       "      <td>J3XHHLA6RXEAPX4</td>\n",
       "      <td>103.0</td>\n",
       "      <td>a</td>\n",
       "      <td>0</td>\n",
       "      <td>1</td>\n",
       "      <td>1</td>\n",
       "    </tr>\n",
       "    <tr>\n",
       "      <th>57739552</th>\n",
       "      <td>15001213</td>\n",
       "      <td>20120109577</td>\n",
       "      <td>20120109577</td>\n",
       "      <td>IMHZJ2S1PXXIFW4</td>\n",
       "      <td>102.0</td>\n",
       "      <td>a</td>\n",
       "      <td>1</td>\n",
       "      <td>0</td>\n",
       "      <td>1</td>\n",
       "    </tr>\n",
       "    <tr>\n",
       "      <th>57739554</th>\n",
       "      <td>15001213</td>\n",
       "      <td>20120113285</td>\n",
       "      <td>20120113285</td>\n",
       "      <td>IMHZJ2S1PXXIFW4</td>\n",
       "      <td>103.0</td>\n",
       "      <td>NaN</td>\n",
       "      <td>1</td>\n",
       "      <td>0</td>\n",
       "      <td>1</td>\n",
       "    </tr>\n",
       "    <tr>\n",
       "      <th>57739555</th>\n",
       "      <td>15001213</td>\n",
       "      <td>20120109577</td>\n",
       "      <td>20120109577</td>\n",
       "      <td>IMHZJ2S1PXXIFW4</td>\n",
       "      <td>103.0</td>\n",
       "      <td>NaN</td>\n",
       "      <td>1</td>\n",
       "      <td>0</td>\n",
       "      <td>1</td>\n",
       "    </tr>\n",
       "    <tr>\n",
       "      <th>57739556</th>\n",
       "      <td>15001213</td>\n",
       "      <td>20120109577</td>\n",
       "      <td>20120109577</td>\n",
       "      <td>IOLG3W73RXEAPX2</td>\n",
       "      <td>102.0</td>\n",
       "      <td>a</td>\n",
       "      <td>1</td>\n",
       "      <td>0</td>\n",
       "      <td>1</td>\n",
       "    </tr>\n",
       "    <tr>\n",
       "      <th>57739558</th>\n",
       "      <td>15001213</td>\n",
       "      <td>20120113285</td>\n",
       "      <td>20120113285</td>\n",
       "      <td>IOLG3W73RXEAPX2</td>\n",
       "      <td>103.0</td>\n",
       "      <td>NaN</td>\n",
       "      <td>1</td>\n",
       "      <td>0</td>\n",
       "      <td>1</td>\n",
       "    </tr>\n",
       "    <tr>\n",
       "      <th>57739559</th>\n",
       "      <td>15001213</td>\n",
       "      <td>20120109577</td>\n",
       "      <td>20120109577</td>\n",
       "      <td>IOLG3W73RXEAPX2</td>\n",
       "      <td>103.0</td>\n",
       "      <td>NaN</td>\n",
       "      <td>1</td>\n",
       "      <td>0</td>\n",
       "      <td>1</td>\n",
       "    </tr>\n",
       "    <tr>\n",
       "      <th>57739861</th>\n",
       "      <td>15001250</td>\n",
       "      <td>20120146087</td>\n",
       "      <td>20120146087</td>\n",
       "      <td>ISLVELNMRXEAPX3</td>\n",
       "      <td>103.0</td>\n",
       "      <td>NaN</td>\n",
       "      <td>1</td>\n",
       "      <td>0</td>\n",
       "      <td>1</td>\n",
       "    </tr>\n",
       "    <tr>\n",
       "      <th>57739870</th>\n",
       "      <td>15001250</td>\n",
       "      <td>Donofrio et al US PGPUB 20120193649</td>\n",
       "      <td>20120193649</td>\n",
       "      <td>IX0P8YO8RXEAPX1</td>\n",
       "      <td>103.0</td>\n",
       "      <td>NaN</td>\n",
       "      <td>0</td>\n",
       "      <td>0</td>\n",
       "      <td>1</td>\n",
       "    </tr>\n",
       "    <tr>\n",
       "      <th>57741939</th>\n",
       "      <td>15001498</td>\n",
       "      <td>20120209627</td>\n",
       "      <td>20120209627</td>\n",
       "      <td>IR6A9568RXEAPX0</td>\n",
       "      <td>102.0</td>\n",
       "      <td>a</td>\n",
       "      <td>1</td>\n",
       "      <td>0</td>\n",
       "      <td>1</td>\n",
       "    </tr>\n",
       "    <tr>\n",
       "      <th>57741955</th>\n",
       "      <td>15001498</td>\n",
       "      <td>20120209627</td>\n",
       "      <td>20120209627</td>\n",
       "      <td>IUPQ35QARXEAPX5</td>\n",
       "      <td>102.0</td>\n",
       "      <td>a</td>\n",
       "      <td>1</td>\n",
       "      <td>0</td>\n",
       "      <td>1</td>\n",
       "    </tr>\n",
       "    <tr>\n",
       "      <th>57741971</th>\n",
       "      <td>15001498</td>\n",
       "      <td>20120209627</td>\n",
       "      <td>20120209627</td>\n",
       "      <td>IZZSW9HBRXEAPX2</td>\n",
       "      <td>102.0</td>\n",
       "      <td>a</td>\n",
       "      <td>1</td>\n",
       "      <td>0</td>\n",
       "      <td>1</td>\n",
       "    </tr>\n",
       "    <tr>\n",
       "      <th>57743079</th>\n",
       "      <td>15001641</td>\n",
       "      <td>20120040600</td>\n",
       "      <td>20120040600</td>\n",
       "      <td>ILKVUZ66RXEAPX3</td>\n",
       "      <td>103.0</td>\n",
       "      <td>NaN</td>\n",
       "      <td>1</td>\n",
       "      <td>0</td>\n",
       "      <td>1</td>\n",
       "    </tr>\n",
       "    <tr>\n",
       "      <th>57743083</th>\n",
       "      <td>15001641</td>\n",
       "      <td>20120040600</td>\n",
       "      <td>20120040600</td>\n",
       "      <td>ITA6UI9WRXEAPX0</td>\n",
       "      <td>103.0</td>\n",
       "      <td>NaN</td>\n",
       "      <td>1</td>\n",
       "      <td>0</td>\n",
       "      <td>1</td>\n",
       "    </tr>\n",
       "    <tr>\n",
       "      <th>57743476</th>\n",
       "      <td>15001694</td>\n",
       "      <td>20120317491</td>\n",
       "      <td>20120317491</td>\n",
       "      <td>IRM317QCRXEAPX2</td>\n",
       "      <td>103.0</td>\n",
       "      <td>a</td>\n",
       "      <td>1</td>\n",
       "      <td>0</td>\n",
       "      <td>1</td>\n",
       "    </tr>\n",
       "    <tr>\n",
       "      <th>57744167</th>\n",
       "      <td>15001768</td>\n",
       "      <td>20120157290</td>\n",
       "      <td>20120157290</td>\n",
       "      <td>IVCFFBW5RXEAPX3</td>\n",
       "      <td>103.0</td>\n",
       "      <td>a</td>\n",
       "      <td>1</td>\n",
       "      <td>0</td>\n",
       "      <td>1</td>\n",
       "    </tr>\n",
       "    <tr>\n",
       "      <th>57745185</th>\n",
       "      <td>15001962</td>\n",
       "      <td>20120167943</td>\n",
       "      <td>20120167943</td>\n",
       "      <td>ITVOQD54RXEAPX3</td>\n",
       "      <td>102.0</td>\n",
       "      <td>a</td>\n",
       "      <td>1</td>\n",
       "      <td>1</td>\n",
       "      <td>1</td>\n",
       "    </tr>\n",
       "    <tr>\n",
       "      <th>57745191</th>\n",
       "      <td>15001962</td>\n",
       "      <td>20120167943</td>\n",
       "      <td>20120167943</td>\n",
       "      <td>ITVOQD54RXEAPX3</td>\n",
       "      <td>103.0</td>\n",
       "      <td>NaN</td>\n",
       "      <td>1</td>\n",
       "      <td>1</td>\n",
       "      <td>1</td>\n",
       "    </tr>\n",
       "    <tr>\n",
       "      <th>57745196</th>\n",
       "      <td>15001965</td>\n",
       "      <td>20120256371</td>\n",
       "      <td>20120256371</td>\n",
       "      <td>IVCLZSBXRXEAPX2</td>\n",
       "      <td>103.0</td>\n",
       "      <td>NaN</td>\n",
       "      <td>1</td>\n",
       "      <td>0</td>\n",
       "      <td>1</td>\n",
       "    </tr>\n",
       "    <tr>\n",
       "      <th>57745999</th>\n",
       "      <td>15002012</td>\n",
       "      <td>Choi et al , US 2012/0249940</td>\n",
       "      <td>20120249940</td>\n",
       "      <td>J4H2CII0RXEAPX5</td>\n",
       "      <td>103.0</td>\n",
       "      <td>NaN</td>\n",
       "      <td>0</td>\n",
       "      <td>0</td>\n",
       "      <td>1</td>\n",
       "    </tr>\n",
       "    <tr>\n",
       "      <th>57746001</th>\n",
       "      <td>15002012</td>\n",
       "      <td>Miyakawa et al , US 2012/0212691</td>\n",
       "      <td>20120212691</td>\n",
       "      <td>J4H2CII0RXEAPX5</td>\n",
       "      <td>103.0</td>\n",
       "      <td>NaN</td>\n",
       "      <td>0</td>\n",
       "      <td>0</td>\n",
       "      <td>1</td>\n",
       "    </tr>\n",
       "    <tr>\n",
       "      <th>...</th>\n",
       "      <td>...</td>\n",
       "      <td>...</td>\n",
       "      <td>...</td>\n",
       "      <td>...</td>\n",
       "      <td>...</td>\n",
       "      <td>...</td>\n",
       "      <td>...</td>\n",
       "      <td>...</td>\n",
       "      <td>...</td>\n",
       "    </tr>\n",
       "    <tr>\n",
       "      <th>58860991</th>\n",
       "      <td>15362580</td>\n",
       "      <td>Flalho et al US 2012/0306913</td>\n",
       "      <td>20120306913</td>\n",
       "      <td>IXAOPE85RXEAPX2</td>\n",
       "      <td>103.0</td>\n",
       "      <td>a</td>\n",
       "      <td>0</td>\n",
       "      <td>0</td>\n",
       "      <td>1</td>\n",
       "    </tr>\n",
       "    <tr>\n",
       "      <th>58861079</th>\n",
       "      <td>15362769</td>\n",
       "      <td>Chen et al U.S. 2012/0007145 A1; ÂÂ</td>\n",
       "      <td>20120007145</td>\n",
       "      <td>IXVTAYBXRXEAPX5</td>\n",
       "      <td>102.0</td>\n",
       "      <td>a</td>\n",
       "      <td>0</td>\n",
       "      <td>0</td>\n",
       "      <td>1</td>\n",
       "    </tr>\n",
       "    <tr>\n",
       "      <th>58861080</th>\n",
       "      <td>15362769</td>\n",
       "      <td>Chen et al U.S. 2012/0007145 A1; ÂÂ</td>\n",
       "      <td>20120007145</td>\n",
       "      <td>IXVTAYBXRXEAPX5</td>\n",
       "      <td>103.0</td>\n",
       "      <td>NaN</td>\n",
       "      <td>0</td>\n",
       "      <td>0</td>\n",
       "      <td>1</td>\n",
       "    </tr>\n",
       "    <tr>\n",
       "      <th>58861131</th>\n",
       "      <td>15362843</td>\n",
       "      <td>Perillon et al US 2012/0132655</td>\n",
       "      <td>20120132655</td>\n",
       "      <td>J09T6DZJRXEAPX1</td>\n",
       "      <td>103.0</td>\n",
       "      <td>NaN</td>\n",
       "      <td>0</td>\n",
       "      <td>0</td>\n",
       "      <td>1</td>\n",
       "    </tr>\n",
       "    <tr>\n",
       "      <th>58861132</th>\n",
       "      <td>15362843</td>\n",
       "      <td>Hu et al US 2012/0048912</td>\n",
       "      <td>20120048912</td>\n",
       "      <td>J09T6DZJRXEAPX1</td>\n",
       "      <td>103.0</td>\n",
       "      <td>NaN</td>\n",
       "      <td>0</td>\n",
       "      <td>0</td>\n",
       "      <td>1</td>\n",
       "    </tr>\n",
       "    <tr>\n",
       "      <th>58861148</th>\n",
       "      <td>15362942</td>\n",
       "      <td>20120029281</td>\n",
       "      <td>20120029281</td>\n",
       "      <td>J4TXDSXLRXEAPX5</td>\n",
       "      <td>102.0</td>\n",
       "      <td>NaN</td>\n",
       "      <td>0</td>\n",
       "      <td>1</td>\n",
       "      <td>1</td>\n",
       "    </tr>\n",
       "    <tr>\n",
       "      <th>58861149</th>\n",
       "      <td>15362942</td>\n",
       "      <td>20120029281</td>\n",
       "      <td>20120029281</td>\n",
       "      <td>J4TXDSXLRXEAPX5</td>\n",
       "      <td>102.0</td>\n",
       "      <td>NaN</td>\n",
       "      <td>0</td>\n",
       "      <td>1</td>\n",
       "      <td>1</td>\n",
       "    </tr>\n",
       "    <tr>\n",
       "      <th>58861193</th>\n",
       "      <td>15363097</td>\n",
       "      <td>Sun et al U.S 2012/0002567 A1</td>\n",
       "      <td>20120002567</td>\n",
       "      <td>J0B8AJ7URXEAPX5</td>\n",
       "      <td>103.0</td>\n",
       "      <td>NaN</td>\n",
       "      <td>0</td>\n",
       "      <td>0</td>\n",
       "      <td>1</td>\n",
       "    </tr>\n",
       "    <tr>\n",
       "      <th>58861278</th>\n",
       "      <td>15363457</td>\n",
       "      <td>20120133974</td>\n",
       "      <td>20120133974</td>\n",
       "      <td>J4SJ9472RXEAPX2</td>\n",
       "      <td>102.0</td>\n",
       "      <td>a</td>\n",
       "      <td>0</td>\n",
       "      <td>1</td>\n",
       "      <td>1</td>\n",
       "    </tr>\n",
       "    <tr>\n",
       "      <th>58861449</th>\n",
       "      <td>15363720</td>\n",
       "      <td>Seo US20120039285A1</td>\n",
       "      <td>20120039285A1</td>\n",
       "      <td>J4JT243BRXEAPX4</td>\n",
       "      <td>102.0</td>\n",
       "      <td>e</td>\n",
       "      <td>0</td>\n",
       "      <td>0</td>\n",
       "      <td>1</td>\n",
       "    </tr>\n",
       "    <tr>\n",
       "      <th>58861463</th>\n",
       "      <td>15363805</td>\n",
       "      <td>20120291196</td>\n",
       "      <td>20120291196</td>\n",
       "      <td>IWZ1Y9VNRXEAPX5</td>\n",
       "      <td>103.0</td>\n",
       "      <td>NaN</td>\n",
       "      <td>0</td>\n",
       "      <td>1</td>\n",
       "      <td>1</td>\n",
       "    </tr>\n",
       "    <tr>\n",
       "      <th>58861614</th>\n",
       "      <td>15363919</td>\n",
       "      <td>20120089996</td>\n",
       "      <td>20120089996</td>\n",
       "      <td>J4QXN5NLRXEAPX4</td>\n",
       "      <td>103.0</td>\n",
       "      <td>a</td>\n",
       "      <td>0</td>\n",
       "      <td>1</td>\n",
       "      <td>1</td>\n",
       "    </tr>\n",
       "    <tr>\n",
       "      <th>58861638</th>\n",
       "      <td>15364143</td>\n",
       "      <td>Lee et al US 2012/0024583 A1</td>\n",
       "      <td>20120024583</td>\n",
       "      <td>IYUEFYE7RXEAPX4</td>\n",
       "      <td>102.0</td>\n",
       "      <td>a</td>\n",
       "      <td>0</td>\n",
       "      <td>0</td>\n",
       "      <td>1</td>\n",
       "    </tr>\n",
       "    <tr>\n",
       "      <th>58861639</th>\n",
       "      <td>15364143</td>\n",
       "      <td>Lee et al US 2012/0024583 A1</td>\n",
       "      <td>20120024583</td>\n",
       "      <td>IYUEFYE7RXEAPX4</td>\n",
       "      <td>103.0</td>\n",
       "      <td>a</td>\n",
       "      <td>0</td>\n",
       "      <td>0</td>\n",
       "      <td>1</td>\n",
       "    </tr>\n",
       "    <tr>\n",
       "      <th>58861647</th>\n",
       "      <td>15364168</td>\n",
       "      <td>Chen et al U.S. PG-Publication # 2012/0275400</td>\n",
       "      <td>20120275400</td>\n",
       "      <td>IZT3IW8ARXEAPX0</td>\n",
       "      <td>102.0</td>\n",
       "      <td>e</td>\n",
       "      <td>0</td>\n",
       "      <td>0</td>\n",
       "      <td>1</td>\n",
       "    </tr>\n",
       "    <tr>\n",
       "      <th>58861739</th>\n",
       "      <td>15364919</td>\n",
       "      <td>Cardno Publication No . US 2012/0053986</td>\n",
       "      <td>20120053986</td>\n",
       "      <td>J3XFQ7BTRXEAPX5</td>\n",
       "      <td>103.0</td>\n",
       "      <td>NaN</td>\n",
       "      <td>0</td>\n",
       "      <td>0</td>\n",
       "      <td>1</td>\n",
       "    </tr>\n",
       "    <tr>\n",
       "      <th>58861740</th>\n",
       "      <td>15364919</td>\n",
       "      <td>Reyna et al pub No US 2012/0311441</td>\n",
       "      <td>20120311441</td>\n",
       "      <td>J3XFQ7BTRXEAPX5</td>\n",
       "      <td>103.0</td>\n",
       "      <td>NaN</td>\n",
       "      <td>0</td>\n",
       "      <td>0</td>\n",
       "      <td>1</td>\n",
       "    </tr>\n",
       "    <tr>\n",
       "      <th>58861787</th>\n",
       "      <td>15365287</td>\n",
       "      <td>Stougie et al U.S. Patent Application Publicat...</td>\n",
       "      <td>20120166487</td>\n",
       "      <td>IZH40OBGRXEAPX1</td>\n",
       "      <td>102.0</td>\n",
       "      <td>a</td>\n",
       "      <td>0</td>\n",
       "      <td>0</td>\n",
       "      <td>1</td>\n",
       "    </tr>\n",
       "    <tr>\n",
       "      <th>58861825</th>\n",
       "      <td>15365570</td>\n",
       "      <td>Dow et al 20120204529</td>\n",
       "      <td>20120204529</td>\n",
       "      <td>IX1WPL77RXEAPX4</td>\n",
       "      <td>102.0</td>\n",
       "      <td>a</td>\n",
       "      <td>0</td>\n",
       "      <td>0</td>\n",
       "      <td>1</td>\n",
       "    </tr>\n",
       "    <tr>\n",
       "      <th>58861903</th>\n",
       "      <td>15365933</td>\n",
       "      <td>Agarwal U.S. Patent App Pub 20120131129</td>\n",
       "      <td>20120131129</td>\n",
       "      <td>J01D8L59RXEAPX2</td>\n",
       "      <td>102.0</td>\n",
       "      <td>a</td>\n",
       "      <td>0</td>\n",
       "      <td>0</td>\n",
       "      <td>1</td>\n",
       "    </tr>\n",
       "    <tr>\n",
       "      <th>58862030</th>\n",
       "      <td>15368059</td>\n",
       "      <td>Kubota et al U.S. pub 2012/0189327</td>\n",
       "      <td>20120189327</td>\n",
       "      <td>J0I0V4XYRXEAPX1</td>\n",
       "      <td>103.0</td>\n",
       "      <td>NaN</td>\n",
       "      <td>0</td>\n",
       "      <td>0</td>\n",
       "      <td>1</td>\n",
       "    </tr>\n",
       "    <tr>\n",
       "      <th>58862061</th>\n",
       "      <td>15368539</td>\n",
       "      <td>Robinson 2012/0325227</td>\n",
       "      <td>20120325227</td>\n",
       "      <td>IYD8KYH4RXEAPX5</td>\n",
       "      <td>103.0</td>\n",
       "      <td>a</td>\n",
       "      <td>0</td>\n",
       "      <td>0</td>\n",
       "      <td>1</td>\n",
       "    </tr>\n",
       "    <tr>\n",
       "      <th>58862120</th>\n",
       "      <td>15369618</td>\n",
       "      <td>Bak et al US2012/0233438</td>\n",
       "      <td>20120233438</td>\n",
       "      <td>IYC17FKQRXEAPX0</td>\n",
       "      <td>103.0</td>\n",
       "      <td>NaN</td>\n",
       "      <td>0</td>\n",
       "      <td>0</td>\n",
       "      <td>1</td>\n",
       "    </tr>\n",
       "    <tr>\n",
       "      <th>58862139</th>\n",
       "      <td>15369954</td>\n",
       "      <td>FUJIMOTO US pub 2012/0177050</td>\n",
       "      <td>20120177050</td>\n",
       "      <td>J02IDRCNRXEAPX4</td>\n",
       "      <td>102.0</td>\n",
       "      <td>a</td>\n",
       "      <td>0</td>\n",
       "      <td>0</td>\n",
       "      <td>1</td>\n",
       "    </tr>\n",
       "    <tr>\n",
       "      <th>58862173</th>\n",
       "      <td>15370265</td>\n",
       "      <td>Thompson et al U.S. 2012/0130907</td>\n",
       "      <td>20120130907</td>\n",
       "      <td>J0CM4YV6RXEAPX3</td>\n",
       "      <td>103.0</td>\n",
       "      <td>NaN</td>\n",
       "      <td>0</td>\n",
       "      <td>0</td>\n",
       "      <td>1</td>\n",
       "    </tr>\n",
       "    <tr>\n",
       "      <th>58862184</th>\n",
       "      <td>15370575</td>\n",
       "      <td>Choi et al US Publication No. 2012/0228604</td>\n",
       "      <td>20120228604</td>\n",
       "      <td>IY1UB824RXEAPX1</td>\n",
       "      <td>103.0</td>\n",
       "      <td>a</td>\n",
       "      <td>0</td>\n",
       "      <td>0</td>\n",
       "      <td>1</td>\n",
       "    </tr>\n",
       "    <tr>\n",
       "      <th>58862210</th>\n",
       "      <td>15371036</td>\n",
       "      <td>Willoughby et al hereinafter ÂÂ, US 2012/030...</td>\n",
       "      <td>20120306924</td>\n",
       "      <td>IYX4PKNQRXEAPX4</td>\n",
       "      <td>102.0</td>\n",
       "      <td>a</td>\n",
       "      <td>0</td>\n",
       "      <td>0</td>\n",
       "      <td>1</td>\n",
       "    </tr>\n",
       "    <tr>\n",
       "      <th>58862214</th>\n",
       "      <td>15371115</td>\n",
       "      <td>Kleinbart et al U.S. Patent Publication 2012/0...</td>\n",
       "      <td>20120278388</td>\n",
       "      <td>J02ZYLXHRXEAPX1</td>\n",
       "      <td>103.0</td>\n",
       "      <td>a</td>\n",
       "      <td>0</td>\n",
       "      <td>0</td>\n",
       "      <td>1</td>\n",
       "    </tr>\n",
       "    <tr>\n",
       "      <th>58862215</th>\n",
       "      <td>15371115</td>\n",
       "      <td>Kirsch U.S. Patent Publication 2012/0197523</td>\n",
       "      <td>20120197523</td>\n",
       "      <td>J02ZYLXHRXEAPX1</td>\n",
       "      <td>103.0</td>\n",
       "      <td>a</td>\n",
       "      <td>0</td>\n",
       "      <td>0</td>\n",
       "      <td>1</td>\n",
       "    </tr>\n",
       "    <tr>\n",
       "      <th>58862227</th>\n",
       "      <td>15371482</td>\n",
       "      <td>Laracey pub No. US 2012/0160912</td>\n",
       "      <td>20120160912</td>\n",
       "      <td>IXQ8TNS3RXEAPX5</td>\n",
       "      <td>102.0</td>\n",
       "      <td>a</td>\n",
       "      <td>0</td>\n",
       "      <td>0</td>\n",
       "      <td>1</td>\n",
       "    </tr>\n",
       "  </tbody>\n",
       "</table>\n",
       "<p>2640 rows × 9 columns</p>\n",
       "</div>"
      ],
      "text/plain": [
       "            app_id                              citation_pat_pgpub_id  \\\n",
       "57732274  15000034                                Sun US 2012/0181696   \n",
       "57732275  15000034                                Sun US 2012/0279760   \n",
       "57732330  15000048                Ke U.S. Pub # Pub # 2012/0049221 A1   \n",
       "57732335  15000048               Dai U.S. Pub # Pub # 2012/0087105 A1   \n",
       "57733582  15000285                                        20120245377   \n",
       "57734766  15000519                                        20120261760   \n",
       "57737475  15000943                                        20120064136   \n",
       "57739052  15001133                                        20120113095   \n",
       "57739055  15001133                                        20120113095   \n",
       "57739057  15001133                                        20120113095   \n",
       "57739552  15001213                                        20120109577   \n",
       "57739554  15001213                                        20120113285   \n",
       "57739555  15001213                                        20120109577   \n",
       "57739556  15001213                                        20120109577   \n",
       "57739558  15001213                                        20120113285   \n",
       "57739559  15001213                                        20120109577   \n",
       "57739861  15001250                                        20120146087   \n",
       "57739870  15001250                Donofrio et al US PGPUB 20120193649   \n",
       "57741939  15001498                                        20120209627   \n",
       "57741955  15001498                                        20120209627   \n",
       "57741971  15001498                                        20120209627   \n",
       "57743079  15001641                                        20120040600   \n",
       "57743083  15001641                                        20120040600   \n",
       "57743476  15001694                                        20120317491   \n",
       "57744167  15001768                                        20120157290   \n",
       "57745185  15001962                                        20120167943   \n",
       "57745191  15001962                                        20120167943   \n",
       "57745196  15001965                                        20120256371   \n",
       "57745999  15002012                       Choi et al , US 2012/0249940   \n",
       "57746001  15002012                   Miyakawa et al , US 2012/0212691   \n",
       "...            ...                                                ...   \n",
       "58860991  15362580                       Flalho et al US 2012/0306913   \n",
       "58861079  15362769              Chen et al U.S. 2012/0007145 A1; ÂÂ   \n",
       "58861080  15362769              Chen et al U.S. 2012/0007145 A1; ÂÂ   \n",
       "58861131  15362843                     Perillon et al US 2012/0132655   \n",
       "58861132  15362843                           Hu et al US 2012/0048912   \n",
       "58861148  15362942                                        20120029281   \n",
       "58861149  15362942                                        20120029281   \n",
       "58861193  15363097                      Sun et al U.S 2012/0002567 A1   \n",
       "58861278  15363457                                        20120133974   \n",
       "58861449  15363720                                Seo US20120039285A1   \n",
       "58861463  15363805                                        20120291196   \n",
       "58861614  15363919                                        20120089996   \n",
       "58861638  15364143                       Lee et al US 2012/0024583 A1   \n",
       "58861639  15364143                       Lee et al US 2012/0024583 A1   \n",
       "58861647  15364168      Chen et al U.S. PG-Publication # 2012/0275400   \n",
       "58861739  15364919            Cardno Publication No . US 2012/0053986   \n",
       "58861740  15364919                 Reyna et al pub No US 2012/0311441   \n",
       "58861787  15365287  Stougie et al U.S. Patent Application Publicat...   \n",
       "58861825  15365570                              Dow et al 20120204529   \n",
       "58861903  15365933            Agarwal U.S. Patent App Pub 20120131129   \n",
       "58862030  15368059                 Kubota et al U.S. pub 2012/0189327   \n",
       "58862061  15368539                              Robinson 2012/0325227   \n",
       "58862120  15369618                           Bak et al US2012/0233438   \n",
       "58862139  15369954                       FUJIMOTO US pub 2012/0177050   \n",
       "58862173  15370265                   Thompson et al U.S. 2012/0130907   \n",
       "58862184  15370575         Choi et al US Publication No. 2012/0228604   \n",
       "58862210  15371036  Willoughby et al hereinafter ÂÂ, US 2012/030...   \n",
       "58862214  15371115  Kleinbart et al U.S. Patent Publication 2012/0...   \n",
       "58862215  15371115        Kirsch U.S. Patent Publication 2012/0197523   \n",
       "58862227  15371482                    Laracey pub No. US 2012/0160912   \n",
       "\n",
       "                 parsed       ifw_number  action_type action_subtype  form892  \\\n",
       "57732274    20120181696  IYD99O6CRXEAPX0        103.0            NaN        0   \n",
       "57732275    20120279760  IYD99O6CRXEAPX0        103.0            NaN        0   \n",
       "57732330    20120049221  IYEPR2ZURXEAPX4        103.0            NaN        0   \n",
       "57732335    20120087105  IYEPR2ZURXEAPX4        103.0            NaN        0   \n",
       "57733582    20120245377  IV82WOB1RXEAPX5        103.0            NaN        1   \n",
       "57734766    20120261760  J0B89O3HRXEAPX0        103.0            NaN        1   \n",
       "57737475    20120064136  IOVFB1E5RXEAPX4        103.0            NaN        1   \n",
       "57739052    20120113095  J3LJNGP5RXEAPX4        103.0              a        0   \n",
       "57739055    20120113095  J3XHHLA6RXEAPX4        103.0              a        0   \n",
       "57739057    20120113095  J3XHHLA6RXEAPX4        103.0              a        0   \n",
       "57739552    20120109577  IMHZJ2S1PXXIFW4        102.0              a        1   \n",
       "57739554    20120113285  IMHZJ2S1PXXIFW4        103.0            NaN        1   \n",
       "57739555    20120109577  IMHZJ2S1PXXIFW4        103.0            NaN        1   \n",
       "57739556    20120109577  IOLG3W73RXEAPX2        102.0              a        1   \n",
       "57739558    20120113285  IOLG3W73RXEAPX2        103.0            NaN        1   \n",
       "57739559    20120109577  IOLG3W73RXEAPX2        103.0            NaN        1   \n",
       "57739861    20120146087  ISLVELNMRXEAPX3        103.0            NaN        1   \n",
       "57739870    20120193649  IX0P8YO8RXEAPX1        103.0            NaN        0   \n",
       "57741939    20120209627  IR6A9568RXEAPX0        102.0              a        1   \n",
       "57741955    20120209627  IUPQ35QARXEAPX5        102.0              a        1   \n",
       "57741971    20120209627  IZZSW9HBRXEAPX2        102.0              a        1   \n",
       "57743079    20120040600  ILKVUZ66RXEAPX3        103.0            NaN        1   \n",
       "57743083    20120040600  ITA6UI9WRXEAPX0        103.0            NaN        1   \n",
       "57743476    20120317491  IRM317QCRXEAPX2        103.0              a        1   \n",
       "57744167    20120157290  IVCFFBW5RXEAPX3        103.0              a        1   \n",
       "57745185    20120167943  ITVOQD54RXEAPX3        102.0              a        1   \n",
       "57745191    20120167943  ITVOQD54RXEAPX3        103.0            NaN        1   \n",
       "57745196    20120256371  IVCLZSBXRXEAPX2        103.0            NaN        1   \n",
       "57745999    20120249940  J4H2CII0RXEAPX5        103.0            NaN        0   \n",
       "57746001    20120212691  J4H2CII0RXEAPX5        103.0            NaN        0   \n",
       "...                 ...              ...          ...            ...      ...   \n",
       "58860991    20120306913  IXAOPE85RXEAPX2        103.0              a        0   \n",
       "58861079    20120007145  IXVTAYBXRXEAPX5        102.0              a        0   \n",
       "58861080    20120007145  IXVTAYBXRXEAPX5        103.0            NaN        0   \n",
       "58861131    20120132655  J09T6DZJRXEAPX1        103.0            NaN        0   \n",
       "58861132    20120048912  J09T6DZJRXEAPX1        103.0            NaN        0   \n",
       "58861148    20120029281  J4TXDSXLRXEAPX5        102.0            NaN        0   \n",
       "58861149    20120029281  J4TXDSXLRXEAPX5        102.0            NaN        0   \n",
       "58861193    20120002567  J0B8AJ7URXEAPX5        103.0            NaN        0   \n",
       "58861278    20120133974  J4SJ9472RXEAPX2        102.0              a        0   \n",
       "58861449  20120039285A1  J4JT243BRXEAPX4        102.0              e        0   \n",
       "58861463    20120291196  IWZ1Y9VNRXEAPX5        103.0            NaN        0   \n",
       "58861614    20120089996  J4QXN5NLRXEAPX4        103.0              a        0   \n",
       "58861638    20120024583  IYUEFYE7RXEAPX4        102.0              a        0   \n",
       "58861639    20120024583  IYUEFYE7RXEAPX4        103.0              a        0   \n",
       "58861647    20120275400  IZT3IW8ARXEAPX0        102.0              e        0   \n",
       "58861739    20120053986  J3XFQ7BTRXEAPX5        103.0            NaN        0   \n",
       "58861740    20120311441  J3XFQ7BTRXEAPX5        103.0            NaN        0   \n",
       "58861787    20120166487  IZH40OBGRXEAPX1        102.0              a        0   \n",
       "58861825    20120204529  IX1WPL77RXEAPX4        102.0              a        0   \n",
       "58861903    20120131129  J01D8L59RXEAPX2        102.0              a        0   \n",
       "58862030    20120189327  J0I0V4XYRXEAPX1        103.0            NaN        0   \n",
       "58862061    20120325227  IYD8KYH4RXEAPX5        103.0              a        0   \n",
       "58862120    20120233438  IYC17FKQRXEAPX0        103.0            NaN        0   \n",
       "58862139    20120177050  J02IDRCNRXEAPX4        102.0              a        0   \n",
       "58862173    20120130907  J0CM4YV6RXEAPX3        103.0            NaN        0   \n",
       "58862184    20120228604  IY1UB824RXEAPX1        103.0              a        0   \n",
       "58862210    20120306924  IYX4PKNQRXEAPX4        102.0              a        0   \n",
       "58862214    20120278388  J02ZYLXHRXEAPX1        103.0              a        0   \n",
       "58862215    20120197523  J02ZYLXHRXEAPX1        103.0              a        0   \n",
       "58862227    20120160912  IXQ8TNS3RXEAPX5        102.0              a        0   \n",
       "\n",
       "          form1449  citation_in_oa  \n",
       "57732274         0               1  \n",
       "57732275         0               1  \n",
       "57732330         0               1  \n",
       "57732335         0               1  \n",
       "57733582         0               1  \n",
       "57734766         0               1  \n",
       "57737475         0               1  \n",
       "57739052         1               1  \n",
       "57739055         1               1  \n",
       "57739057         1               1  \n",
       "57739552         0               1  \n",
       "57739554         0               1  \n",
       "57739555         0               1  \n",
       "57739556         0               1  \n",
       "57739558         0               1  \n",
       "57739559         0               1  \n",
       "57739861         0               1  \n",
       "57739870         0               1  \n",
       "57741939         0               1  \n",
       "57741955         0               1  \n",
       "57741971         0               1  \n",
       "57743079         0               1  \n",
       "57743083         0               1  \n",
       "57743476         0               1  \n",
       "57744167         0               1  \n",
       "57745185         1               1  \n",
       "57745191         1               1  \n",
       "57745196         0               1  \n",
       "57745999         0               1  \n",
       "57746001         0               1  \n",
       "...            ...             ...  \n",
       "58860991         0               1  \n",
       "58861079         0               1  \n",
       "58861080         0               1  \n",
       "58861131         0               1  \n",
       "58861132         0               1  \n",
       "58861148         1               1  \n",
       "58861149         1               1  \n",
       "58861193         0               1  \n",
       "58861278         1               1  \n",
       "58861449         0               1  \n",
       "58861463         1               1  \n",
       "58861614         1               1  \n",
       "58861638         0               1  \n",
       "58861639         0               1  \n",
       "58861647         0               1  \n",
       "58861739         0               1  \n",
       "58861740         0               1  \n",
       "58861787         0               1  \n",
       "58861825         0               1  \n",
       "58861903         0               1  \n",
       "58862030         0               1  \n",
       "58862061         0               1  \n",
       "58862120         0               1  \n",
       "58862139         0               1  \n",
       "58862173         0               1  \n",
       "58862184         0               1  \n",
       "58862210         0               1  \n",
       "58862214         0               1  \n",
       "58862215         0               1  \n",
       "58862227         0               1  \n",
       "\n",
       "[2640 rows x 9 columns]"
      ]
     },
     "execution_count": 169,
     "metadata": {},
     "output_type": "execute_result"
    }
   ],
   "source": [
    "citations_2017[list(map(lambda s: s.startswith(\"2012\"), [str(elm) for elm in list(citations_2017.parsed)]))]"
   ]
  },
  {
   "cell_type": "code",
   "execution_count": null,
   "metadata": {},
   "outputs": [],
   "source": []
  },
  {
   "cell_type": "code",
   "execution_count": null,
   "metadata": {},
   "outputs": [],
   "source": []
  },
  {
   "cell_type": "code",
   "execution_count": null,
   "metadata": {},
   "outputs": [],
   "source": []
  },
  {
   "cell_type": "code",
   "execution_count": 78,
   "metadata": {},
   "outputs": [],
   "source": [
    "res_tup = retrieve_subtext_fast(6067926, 10, '../data/grants2012/ipg120417.xml')"
   ]
  },
  {
   "cell_type": "code",
   "execution_count": 79,
   "metadata": {},
   "outputs": [
    {
     "data": {
      "text/plain": [
       "10"
      ]
     },
     "execution_count": 79,
     "metadata": {},
     "output_type": "execute_result"
    }
   ],
   "source": [
    "res_tup[0]"
   ]
  },
  {
   "cell_type": "code",
   "execution_count": 80,
   "metadata": {},
   "outputs": [
    {
     "data": {
      "text/plain": [
       "'<doc-number>7945484</doc-number>'"
      ]
     },
     "execution_count": 80,
     "metadata": {},
     "output_type": "execute_result"
    }
   ],
   "source": [
    "res_tup[1][10]"
   ]
  },
  {
   "cell_type": "code",
   "execution_count": null,
   "metadata": {},
   "outputs": [],
   "source": []
  },
  {
   "cell_type": "code",
   "execution_count": null,
   "metadata": {},
   "outputs": [],
   "source": []
  },
  {
   "cell_type": "code",
   "execution_count": 83,
   "metadata": {},
   "outputs": [
    {
     "data": {
      "text/plain": [
       "['15146848', '15192621', '15334971', '15049456', '15282523']"
      ]
     },
     "execution_count": 83,
     "metadata": {},
     "output_type": "execute_result"
    }
   ],
   "source": [
    "list(index2017_we_need.keys())[0:5]"
   ]
  },
  {
   "cell_type": "code",
   "execution_count": 84,
   "metadata": {},
   "outputs": [
    {
     "data": {
      "text/plain": [
       "[['application2017/ipa171207.xml', 5183637],\n",
       " ['application2017/ipa171207.xml', 5183673]]"
      ]
     },
     "execution_count": 84,
     "metadata": {},
     "output_type": "execute_result"
    }
   ],
   "source": [
    "index2017_we_need['15146848']"
   ]
  },
  {
   "cell_type": "code",
   "execution_count": null,
   "metadata": {},
   "outputs": [],
   "source": []
  },
  {
   "cell_type": "code",
   "execution_count": 91,
   "metadata": {},
   "outputs": [],
   "source": [
    "res_tup = retrieve_subtext_fast(5183637, 5000, '../data/application2017/ipa171207.xml')"
   ]
  },
  {
   "cell_type": "code",
   "execution_count": 96,
   "metadata": {},
   "outputs": [
    {
     "data": {
      "text/plain": [
       "4667"
      ]
     },
     "execution_count": 96,
     "metadata": {},
     "output_type": "execute_result"
    }
   ],
   "source": [
    "find_nearest_root_element(res_tup[0], res_tup[1], 'us-patent-application')"
   ]
  },
  {
   "cell_type": "code",
   "execution_count": 93,
   "metadata": {},
   "outputs": [
    {
     "data": {
      "text/plain": [
       "5000"
      ]
     },
     "execution_count": 93,
     "metadata": {},
     "output_type": "execute_result"
    }
   ],
   "source": [
    "res_tup[0]"
   ]
  },
  {
   "cell_type": "code",
   "execution_count": 97,
   "metadata": {},
   "outputs": [
    {
     "data": {
      "text/plain": [
       "'<us-patent-application lang=\"EN\" dtd-version=\"v4.4 2014-04-03\" file=\"US20170351915A1-20171207.XML\" status=\"PRODUCTION\" id=\"us-patent-application\" country=\"US\" date-produced=\"20171121\" date-publ=\"20171207\">'"
      ]
     },
     "execution_count": 97,
     "metadata": {},
     "output_type": "execute_result"
    }
   ],
   "source": [
    "res_tup[1][4667]"
   ]
  },
  {
   "cell_type": "code",
   "execution_count": 103,
   "metadata": {},
   "outputs": [],
   "source": [
    "res_pat = retrieve_begin_end(4667, res_tup[1], 'us-patent-application')"
   ]
  },
  {
   "cell_type": "code",
   "execution_count": 105,
   "metadata": {},
   "outputs": [
    {
     "data": {
      "text/plain": [
       "['<us-patent-application lang=\"EN\" dtd-version=\"v4.4 2014-04-03\" file=\"US20170351915A1-20171207.XML\" status=\"PRODUCTION\" id=\"us-patent-application\" country=\"US\" date-produced=\"20171121\" date-publ=\"20171207\">',\n",
       " '<us-bibliographic-data-application lang=\"EN\" country=\"US\">',\n",
       " '<publication-reference>',\n",
       " '<document-id>',\n",
       " '<country>US</country>']"
      ]
     },
     "execution_count": 105,
     "metadata": {},
     "output_type": "execute_result"
    }
   ],
   "source": [
    "res_pat[0:5]"
   ]
  },
  {
   "cell_type": "code",
   "execution_count": 104,
   "metadata": {},
   "outputs": [
    {
     "data": {
      "text/plain": [
       "'</us-patent-application>'"
      ]
     },
     "execution_count": 104,
     "metadata": {},
     "output_type": "execute_result"
    }
   ],
   "source": [
    "res_pat[-1]"
   ]
  },
  {
   "cell_type": "code",
   "execution_count": null,
   "metadata": {},
   "outputs": [],
   "source": []
  },
  {
   "cell_type": "code",
   "execution_count": null,
   "metadata": {},
   "outputs": [],
   "source": []
  },
  {
   "cell_type": "code",
   "execution_count": null,
   "metadata": {},
   "outputs": [],
   "source": [
    "subtext = !sed -n ''"
   ]
  },
  {
   "cell_type": "code",
   "execution_count": null,
   "metadata": {},
   "outputs": [],
   "source": []
  },
  {
   "cell_type": "code",
   "execution_count": null,
   "metadata": {},
   "outputs": [],
   "source": []
  },
  {
   "cell_type": "code",
   "execution_count": null,
   "metadata": {},
   "outputs": [],
   "source": []
  },
  {
   "cell_type": "code",
   "execution_count": null,
   "metadata": {},
   "outputs": [],
   "source": []
  },
  {
   "cell_type": "code",
   "execution_count": null,
   "metadata": {},
   "outputs": [],
   "source": []
  },
  {
   "cell_type": "code",
   "execution_count": null,
   "metadata": {},
   "outputs": [],
   "source": []
  },
  {
   "cell_type": "code",
   "execution_count": null,
   "metadata": {},
   "outputs": [],
   "source": []
  },
  {
   "cell_type": "markdown",
   "metadata": {},
   "source": [
    "# Try and error"
   ]
  },
  {
   "cell_type": "code",
   "execution_count": null,
   "metadata": {},
   "outputs": [],
   "source": []
  },
  {
   "cell_type": "code",
   "execution_count": 74,
   "metadata": {},
   "outputs": [],
   "source": [
    "# create_one_index(\"grants2012/ipg120103.xml\")"
   ]
  },
  {
   "cell_type": "code",
   "execution_count": null,
   "metadata": {},
   "outputs": [],
   "source": []
  },
  {
   "cell_type": "code",
   "execution_count": null,
   "metadata": {},
   "outputs": [],
   "source": []
  },
  {
   "cell_type": "code",
   "execution_count": null,
   "metadata": {},
   "outputs": [],
   "source": []
  },
  {
   "cell_type": "code",
   "execution_count": 21,
   "metadata": {},
   "outputs": [],
   "source": [
    "xmlrel = \"application2017/ipa170105.xml\""
   ]
  },
  {
   "cell_type": "code",
   "execution_count": 22,
   "metadata": {},
   "outputs": [],
   "source": [
    "xmlpath = \"../data/\"+xmlrel"
   ]
  },
  {
   "cell_type": "code",
   "execution_count": 29,
   "metadata": {},
   "outputs": [],
   "source": [
    "indexfile=INDEX_PATH+xmlrel+\".idx\""
   ]
  },
  {
   "cell_type": "code",
   "execution_count": null,
   "metadata": {},
   "outputs": [],
   "source": []
  },
  {
   "cell_type": "code",
   "execution_count": 31,
   "metadata": {},
   "outputs": [],
   "source": [
    "!mkdir -p {os.path.dirname(indexfile)}"
   ]
  },
  {
   "cell_type": "code",
   "execution_count": 32,
   "metadata": {},
   "outputs": [],
   "source": [
    "!grep -n \"doc-number\" {xmlpath} | sed -e 's/\\(.*\\)<doc-number>\\([^<]*\\)<\\/doc-number>.*/\\1\\2/' > {indexfile}"
   ]
  },
  {
   "cell_type": "code",
   "execution_count": null,
   "metadata": {},
   "outputs": [],
   "source": []
  },
  {
   "cell_type": "code",
   "execution_count": null,
   "metadata": {},
   "outputs": [],
   "source": []
  },
  {
   "cell_type": "code",
   "execution_count": null,
   "metadata": {},
   "outputs": [],
   "source": []
  },
  {
   "cell_type": "code",
   "execution_count": 45,
   "metadata": {},
   "outputs": [],
   "source": [
    "with open(indexfile, \"r\") as f:\n",
    "    tupples = [l.rstrip(\"\\n\").split(\":\", 1) for l in f]"
   ]
  },
  {
   "cell_type": "code",
   "execution_count": 46,
   "metadata": {},
   "outputs": [
    {
     "data": {
      "text/plain": [
       "31695"
      ]
     },
     "execution_count": 46,
     "metadata": {},
     "output_type": "execute_result"
    }
   ],
   "source": [
    "len(tupples)"
   ]
  },
  {
   "cell_type": "code",
   "execution_count": 60,
   "metadata": {},
   "outputs": [],
   "source": [
    "dic = {}"
   ]
  },
  {
   "cell_type": "code",
   "execution_count": 61,
   "metadata": {},
   "outputs": [],
   "source": [
    "for tup in tupples:\n",
    "    dic.setdefault(tup[1], []).append(int(tup[0]))"
   ]
  },
  {
   "cell_type": "code",
   "execution_count": null,
   "metadata": {},
   "outputs": [],
   "source": []
  },
  {
   "cell_type": "code",
   "execution_count": 62,
   "metadata": {},
   "outputs": [
    {
     "data": {
      "text/plain": [
       "[3508, 3648]"
      ]
     },
     "execution_count": 62,
     "metadata": {},
     "output_type": "execute_result"
    }
   ],
   "source": [
    "# some doc-number seems dup\n",
    "dic[\"15265874\"]"
   ]
  },
  {
   "cell_type": "code",
   "execution_count": null,
   "metadata": {},
   "outputs": [],
   "source": []
  },
  {
   "cell_type": "code",
   "execution_count": null,
   "metadata": {},
   "outputs": [],
   "source": []
  },
  {
   "cell_type": "code",
   "execution_count": null,
   "metadata": {
    "scrolled": false
   },
   "outputs": [],
   "source": [
    "for tup in tupples:    \n",
    "    if tup[1] not in dic:\n",
    "        print(tup[1])\n",
    "    dic[tup[1]] = 1    "
   ]
  },
  {
   "cell_type": "code",
   "execution_count": null,
   "metadata": {},
   "outputs": [],
   "source": []
  },
  {
   "cell_type": "code",
   "execution_count": null,
   "metadata": {},
   "outputs": [],
   "source": []
  },
  {
   "cell_type": "code",
   "execution_count": null,
   "metadata": {},
   "outputs": [],
   "source": []
  },
  {
   "cell_type": "markdown",
   "metadata": {},
   "source": [
    "### just read xml file is too slow. Give up using python"
   ]
  },
  {
   "cell_type": "code",
   "execution_count": 4,
   "metadata": {
    "scrolled": true
   },
   "outputs": [
    {
     "ename": "KeyboardInterrupt",
     "evalue": "",
     "output_type": "error",
     "traceback": [
      "\u001b[0;31m---------------------------------------------------------------------------\u001b[0m",
      "\u001b[0;31mKeyboardInterrupt\u001b[0m                         Traceback (most recent call last)",
      "\u001b[0;32m<timed exec>\u001b[0m in \u001b[0;36m<module>\u001b[0;34m()\u001b[0m\n",
      "\u001b[0;32m/usr/lib/python3.5/encodings/ascii.py\u001b[0m in \u001b[0;36mdecode\u001b[0;34m(self, input, final)\u001b[0m\n\u001b[1;32m     23\u001b[0m \u001b[0;34m\u001b[0m\u001b[0m\n\u001b[1;32m     24\u001b[0m \u001b[0;32mclass\u001b[0m \u001b[0mIncrementalDecoder\u001b[0m\u001b[0;34m(\u001b[0m\u001b[0mcodecs\u001b[0m\u001b[0;34m.\u001b[0m\u001b[0mIncrementalDecoder\u001b[0m\u001b[0;34m)\u001b[0m\u001b[0;34m:\u001b[0m\u001b[0;34m\u001b[0m\u001b[0m\n\u001b[0;32m---> 25\u001b[0;31m     \u001b[0;32mdef\u001b[0m \u001b[0mdecode\u001b[0m\u001b[0;34m(\u001b[0m\u001b[0mself\u001b[0m\u001b[0;34m,\u001b[0m \u001b[0minput\u001b[0m\u001b[0;34m,\u001b[0m \u001b[0mfinal\u001b[0m\u001b[0;34m=\u001b[0m\u001b[0;32mFalse\u001b[0m\u001b[0;34m)\u001b[0m\u001b[0;34m:\u001b[0m\u001b[0;34m\u001b[0m\u001b[0m\n\u001b[0m\u001b[1;32m     26\u001b[0m         \u001b[0;32mreturn\u001b[0m \u001b[0mcodecs\u001b[0m\u001b[0;34m.\u001b[0m\u001b[0mascii_decode\u001b[0m\u001b[0;34m(\u001b[0m\u001b[0minput\u001b[0m\u001b[0;34m,\u001b[0m \u001b[0mself\u001b[0m\u001b[0;34m.\u001b[0m\u001b[0merrors\u001b[0m\u001b[0;34m)\u001b[0m\u001b[0;34m[\u001b[0m\u001b[0;36m0\u001b[0m\u001b[0;34m]\u001b[0m\u001b[0;34m\u001b[0m\u001b[0m\n\u001b[1;32m     27\u001b[0m \u001b[0;34m\u001b[0m\u001b[0m\n",
      "\u001b[0;31mKeyboardInterrupt\u001b[0m: "
     ]
    }
   ],
   "source": [
    "%%time\n",
    "\n",
    "with open(\"../data/\" + xmlpath, \"r\") as f:\n",
    "    lnum = 0\n",
    "    fpos = 0\n",
    "    line = f.readline()\n",
    "    while line:\n",
    "        lnum += 1\n",
    "        line = f.readline()\n",
    "        fpos = f.tell()\n"
   ]
  },
  {
   "cell_type": "code",
   "execution_count": null,
   "metadata": {},
   "outputs": [],
   "source": []
  },
  {
   "cell_type": "markdown",
   "metadata": {},
   "source": [
    "### Whoosh trial\n",
    "\n",
    "Conclusion: indexing is too slow and we can't use it."
   ]
  },
  {
   "cell_type": "code",
   "execution_count": 6,
   "metadata": {},
   "outputs": [],
   "source": [
    "from whoosh.index import create_in\n",
    "from whoosh.fields import *\n",
    "import os, os.path\n"
   ]
  },
  {
   "cell_type": "code",
   "execution_count": null,
   "metadata": {},
   "outputs": [],
   "source": []
  },
  {
   "cell_type": "code",
   "execution_count": 14,
   "metadata": {},
   "outputs": [],
   "source": [
    "schema = Schema(path=ID(stored=True), line_num=NUMERIC(stored=True), pos=NUMERIC(stored=True), line=TEXT)"
   ]
  },
  {
   "cell_type": "code",
   "execution_count": 15,
   "metadata": {},
   "outputs": [],
   "source": [
    "if not os.path.exists(\"indexdir\"):\n",
    "    os.mkdir(\"indexdir\")\n",
    "\n",
    "ix = index.create_in(\"indexdir\", schema)"
   ]
  },
  {
   "cell_type": "code",
   "execution_count": 17,
   "metadata": {},
   "outputs": [],
   "source": [
    "writer = ix.writer()"
   ]
  },
  {
   "cell_type": "code",
   "execution_count": 18,
   "metadata": {},
   "outputs": [],
   "source": [
    "xmlpath = \"application2017/ipa170105.xml\""
   ]
  },
  {
   "cell_type": "code",
   "execution_count": 21,
   "metadata": {},
   "outputs": [
    {
     "ename": "KeyboardInterrupt",
     "evalue": "",
     "output_type": "error",
     "traceback": [
      "\u001b[0;31m---------------------------------------------------------------------------\u001b[0m",
      "\u001b[0;31mKeyboardInterrupt\u001b[0m                         Traceback (most recent call last)",
      "\u001b[0;32m<ipython-input-21-741c168215b1>\u001b[0m in \u001b[0;36m<module>\u001b[0;34m()\u001b[0m\n\u001b[1;32m      5\u001b[0m     \u001b[0;32mwhile\u001b[0m \u001b[0mline\u001b[0m\u001b[0;34m:\u001b[0m\u001b[0;34m\u001b[0m\u001b[0m\n\u001b[1;32m      6\u001b[0m         \u001b[0mlnum\u001b[0m \u001b[0;34m+=\u001b[0m \u001b[0;36m1\u001b[0m\u001b[0;34m\u001b[0m\u001b[0m\n\u001b[0;32m----> 7\u001b[0;31m         \u001b[0mwriter\u001b[0m\u001b[0;34m.\u001b[0m\u001b[0madd_document\u001b[0m\u001b[0;34m(\u001b[0m\u001b[0mpath\u001b[0m\u001b[0;34m=\u001b[0m\u001b[0mxmlpath\u001b[0m\u001b[0;34m,\u001b[0m \u001b[0mline\u001b[0m\u001b[0;34m=\u001b[0m\u001b[0mline\u001b[0m\u001b[0;34m,\u001b[0m \u001b[0mline_num\u001b[0m\u001b[0;34m=\u001b[0m\u001b[0mlnum\u001b[0m\u001b[0;34m,\u001b[0m \u001b[0mpos\u001b[0m\u001b[0;34m=\u001b[0m\u001b[0mfpos\u001b[0m\u001b[0;34m)\u001b[0m\u001b[0;34m\u001b[0m\u001b[0m\n\u001b[0m\u001b[1;32m      8\u001b[0m         \u001b[0mline\u001b[0m \u001b[0;34m=\u001b[0m \u001b[0mf\u001b[0m\u001b[0;34m.\u001b[0m\u001b[0mreadline\u001b[0m\u001b[0;34m(\u001b[0m\u001b[0;34m)\u001b[0m\u001b[0;34m\u001b[0m\u001b[0m\n\u001b[1;32m      9\u001b[0m         \u001b[0mfpos\u001b[0m \u001b[0;34m=\u001b[0m \u001b[0mf\u001b[0m\u001b[0;34m.\u001b[0m\u001b[0mtell\u001b[0m\u001b[0;34m(\u001b[0m\u001b[0;34m)\u001b[0m\u001b[0;34m\u001b[0m\u001b[0m\n",
      "\u001b[0;32m/usr/local/lib/python3.5/dist-packages/whoosh/writing.py\u001b[0m in \u001b[0;36madd_document\u001b[0;34m(self, **fields)\u001b[0m\n\u001b[1;32m    748\u001b[0m                 \u001b[0mscorable\u001b[0m \u001b[0;34m=\u001b[0m \u001b[0mfield\u001b[0m\u001b[0;34m.\u001b[0m\u001b[0mscorable\u001b[0m\u001b[0;34m\u001b[0m\u001b[0m\n\u001b[1;32m    749\u001b[0m                 \u001b[0;31m# Add the terms to the pool\u001b[0m\u001b[0;34m\u001b[0m\u001b[0;34m\u001b[0m\u001b[0m\n\u001b[0;32m--> 750\u001b[0;31m                 \u001b[0;32mfor\u001b[0m \u001b[0mtbytes\u001b[0m\u001b[0;34m,\u001b[0m \u001b[0mfreq\u001b[0m\u001b[0;34m,\u001b[0m \u001b[0mweight\u001b[0m\u001b[0;34m,\u001b[0m \u001b[0mvbytes\u001b[0m \u001b[0;32min\u001b[0m \u001b[0mitems\u001b[0m\u001b[0;34m:\u001b[0m\u001b[0;34m\u001b[0m\u001b[0m\n\u001b[0m\u001b[1;32m    751\u001b[0m                     \u001b[0mweight\u001b[0m \u001b[0;34m*=\u001b[0m \u001b[0mfieldboost\u001b[0m\u001b[0;34m\u001b[0m\u001b[0m\n\u001b[1;32m    752\u001b[0m                     \u001b[0;32mif\u001b[0m \u001b[0mscorable\u001b[0m\u001b[0;34m:\u001b[0m\u001b[0;34m\u001b[0m\u001b[0m\n",
      "\u001b[0;32m/usr/local/lib/python3.5/dist-packages/whoosh/fields.py\u001b[0m in \u001b[0;36mindex\u001b[0;34m(self, value, **kwargs)\u001b[0m\n\u001b[1;32m    162\u001b[0m         \u001b[0mword_values\u001b[0m \u001b[0;34m=\u001b[0m \u001b[0mself\u001b[0m\u001b[0;34m.\u001b[0m\u001b[0mformat\u001b[0m\u001b[0;34m.\u001b[0m\u001b[0mword_values\u001b[0m\u001b[0;34m\u001b[0m\u001b[0m\n\u001b[1;32m    163\u001b[0m         \u001b[0mana\u001b[0m \u001b[0;34m=\u001b[0m \u001b[0mself\u001b[0m\u001b[0;34m.\u001b[0m\u001b[0manalyzer\u001b[0m\u001b[0;34m\u001b[0m\u001b[0m\n\u001b[0;32m--> 164\u001b[0;31m         \u001b[0;32mfor\u001b[0m \u001b[0mtstring\u001b[0m\u001b[0;34m,\u001b[0m \u001b[0mfreq\u001b[0m\u001b[0;34m,\u001b[0m \u001b[0mwt\u001b[0m\u001b[0;34m,\u001b[0m \u001b[0mvbytes\u001b[0m \u001b[0;32min\u001b[0m \u001b[0mword_values\u001b[0m\u001b[0;34m(\u001b[0m\u001b[0mvalue\u001b[0m\u001b[0;34m,\u001b[0m \u001b[0mana\u001b[0m\u001b[0;34m,\u001b[0m \u001b[0;34m**\u001b[0m\u001b[0mkwargs\u001b[0m\u001b[0;34m)\u001b[0m\u001b[0;34m:\u001b[0m\u001b[0;34m\u001b[0m\u001b[0m\n\u001b[0m\u001b[1;32m    165\u001b[0m             \u001b[0;32myield\u001b[0m \u001b[0;34m(\u001b[0m\u001b[0mutf8encode\u001b[0m\u001b[0;34m(\u001b[0m\u001b[0mtstring\u001b[0m\u001b[0;34m)\u001b[0m\u001b[0;34m[\u001b[0m\u001b[0;36m0\u001b[0m\u001b[0;34m]\u001b[0m\u001b[0;34m,\u001b[0m \u001b[0mfreq\u001b[0m\u001b[0;34m,\u001b[0m \u001b[0mwt\u001b[0m\u001b[0;34m,\u001b[0m \u001b[0mvbytes\u001b[0m\u001b[0;34m)\u001b[0m\u001b[0;34m\u001b[0m\u001b[0m\n\u001b[1;32m    166\u001b[0m \u001b[0;34m\u001b[0m\u001b[0m\n",
      "\u001b[0;32m/usr/local/lib/python3.5/dist-packages/whoosh/formats.py\u001b[0m in \u001b[0;36mword_values\u001b[0;34m(self, value, analyzer, **kwargs)\u001b[0m\n\u001b[1;32m    221\u001b[0m         \u001b[0mkwargs\u001b[0m\u001b[0;34m[\u001b[0m\u001b[0;34m\"positions\"\u001b[0m\u001b[0;34m]\u001b[0m \u001b[0;34m=\u001b[0m \u001b[0;32mTrue\u001b[0m\u001b[0;34m\u001b[0m\u001b[0m\n\u001b[1;32m    222\u001b[0m         \u001b[0mkwargs\u001b[0m\u001b[0;34m[\u001b[0m\u001b[0;34m\"boosts\"\u001b[0m\u001b[0;34m]\u001b[0m \u001b[0;34m=\u001b[0m \u001b[0;32mTrue\u001b[0m\u001b[0;34m\u001b[0m\u001b[0m\n\u001b[0;32m--> 223\u001b[0;31m         \u001b[0;32mfor\u001b[0m \u001b[0mt\u001b[0m \u001b[0;32min\u001b[0m \u001b[0mtokens\u001b[0m\u001b[0;34m(\u001b[0m\u001b[0mvalue\u001b[0m\u001b[0;34m,\u001b[0m \u001b[0manalyzer\u001b[0m\u001b[0;34m,\u001b[0m \u001b[0mkwargs\u001b[0m\u001b[0;34m)\u001b[0m\u001b[0;34m:\u001b[0m\u001b[0;34m\u001b[0m\u001b[0m\n\u001b[0m\u001b[1;32m    224\u001b[0m             \u001b[0mposes\u001b[0m\u001b[0;34m[\u001b[0m\u001b[0mt\u001b[0m\u001b[0;34m.\u001b[0m\u001b[0mtext\u001b[0m\u001b[0;34m]\u001b[0m\u001b[0;34m.\u001b[0m\u001b[0mappend\u001b[0m\u001b[0;34m(\u001b[0m\u001b[0mt\u001b[0m\u001b[0;34m.\u001b[0m\u001b[0mpos\u001b[0m\u001b[0;34m)\u001b[0m\u001b[0;34m\u001b[0m\u001b[0m\n\u001b[1;32m    225\u001b[0m             \u001b[0mweights\u001b[0m\u001b[0;34m[\u001b[0m\u001b[0mt\u001b[0m\u001b[0;34m.\u001b[0m\u001b[0mtext\u001b[0m\u001b[0;34m]\u001b[0m \u001b[0;34m+=\u001b[0m \u001b[0mt\u001b[0m\u001b[0;34m.\u001b[0m\u001b[0mboost\u001b[0m\u001b[0;34m\u001b[0m\u001b[0m\n",
      "\u001b[0;32m/usr/local/lib/python3.5/dist-packages/whoosh/analysis/acore.py\u001b[0m in \u001b[0;36m<genexpr>\u001b[0;34m(.0)\u001b[0m\n\u001b[1;32m     40\u001b[0m     \"\"\"Removes tokens from a token stream where token.stopped = True.\n\u001b[1;32m     41\u001b[0m     \"\"\"\n\u001b[0;32m---> 42\u001b[0;31m     \u001b[0;32mreturn\u001b[0m \u001b[0;34m(\u001b[0m\u001b[0mt\u001b[0m \u001b[0;32mfor\u001b[0m \u001b[0mt\u001b[0m \u001b[0;32min\u001b[0m \u001b[0mtokenstream\u001b[0m \u001b[0;32mif\u001b[0m \u001b[0;32mnot\u001b[0m \u001b[0mt\u001b[0m\u001b[0;34m.\u001b[0m\u001b[0mstopped\u001b[0m\u001b[0;34m)\u001b[0m\u001b[0;34m\u001b[0m\u001b[0m\n\u001b[0m\u001b[1;32m     43\u001b[0m \u001b[0;34m\u001b[0m\u001b[0m\n\u001b[1;32m     44\u001b[0m \u001b[0;34m\u001b[0m\u001b[0m\n",
      "\u001b[0;32m/usr/local/lib/python3.5/dist-packages/whoosh/analysis/filters.py\u001b[0m in \u001b[0;36m__call__\u001b[0;34m(self, tokens)\u001b[0m\n\u001b[1;32m    299\u001b[0m \u001b[0;34m\u001b[0m\u001b[0m\n\u001b[1;32m    300\u001b[0m         \u001b[0mpos\u001b[0m \u001b[0;34m=\u001b[0m \u001b[0;32mNone\u001b[0m\u001b[0;34m\u001b[0m\u001b[0m\n\u001b[0;32m--> 301\u001b[0;31m         \u001b[0;32mfor\u001b[0m \u001b[0mt\u001b[0m \u001b[0;32min\u001b[0m \u001b[0mtokens\u001b[0m\u001b[0;34m:\u001b[0m\u001b[0;34m\u001b[0m\u001b[0m\n\u001b[0m\u001b[1;32m    302\u001b[0m             \u001b[0mtext\u001b[0m \u001b[0;34m=\u001b[0m \u001b[0mt\u001b[0m\u001b[0;34m.\u001b[0m\u001b[0mtext\u001b[0m\u001b[0;34m\u001b[0m\u001b[0m\n\u001b[1;32m    303\u001b[0m             if (len(text) >= minsize\n",
      "\u001b[0;32m/usr/local/lib/python3.5/dist-packages/whoosh/analysis/filters.py\u001b[0m in \u001b[0;36m__call__\u001b[0;34m(self, tokens)\u001b[0m\n\u001b[1;32m    223\u001b[0m \u001b[0;34m\u001b[0m\u001b[0m\n\u001b[1;32m    224\u001b[0m     \u001b[0;32mdef\u001b[0m \u001b[0m__call__\u001b[0m\u001b[0;34m(\u001b[0m\u001b[0mself\u001b[0m\u001b[0;34m,\u001b[0m \u001b[0mtokens\u001b[0m\u001b[0;34m)\u001b[0m\u001b[0;34m:\u001b[0m\u001b[0;34m\u001b[0m\u001b[0m\n\u001b[0;32m--> 225\u001b[0;31m         \u001b[0;32mfor\u001b[0m \u001b[0mt\u001b[0m \u001b[0;32min\u001b[0m \u001b[0mtokens\u001b[0m\u001b[0;34m:\u001b[0m\u001b[0;34m\u001b[0m\u001b[0m\n\u001b[0m\u001b[1;32m    226\u001b[0m             \u001b[0mt\u001b[0m\u001b[0;34m.\u001b[0m\u001b[0mtext\u001b[0m \u001b[0;34m=\u001b[0m \u001b[0mt\u001b[0m\u001b[0;34m.\u001b[0m\u001b[0mtext\u001b[0m\u001b[0;34m.\u001b[0m\u001b[0mlower\u001b[0m\u001b[0;34m(\u001b[0m\u001b[0;34m)\u001b[0m\u001b[0;34m\u001b[0m\u001b[0m\n\u001b[1;32m    227\u001b[0m             \u001b[0;32myield\u001b[0m \u001b[0mt\u001b[0m\u001b[0;34m\u001b[0m\u001b[0m\n",
      "\u001b[0;32m/usr/local/lib/python3.5/dist-packages/whoosh/analysis/tokenizers.py\u001b[0m in \u001b[0;36m__call__\u001b[0;34m(self, value, positions, chars, keeporiginal, removestops, start_pos, start_char, tokenize, mode, **kwargs)\u001b[0m\n\u001b[1;32m    131\u001b[0m         \u001b[0;32melif\u001b[0m \u001b[0;32mnot\u001b[0m \u001b[0mself\u001b[0m\u001b[0;34m.\u001b[0m\u001b[0mgaps\u001b[0m\u001b[0;34m:\u001b[0m\u001b[0;34m\u001b[0m\u001b[0m\n\u001b[1;32m    132\u001b[0m             \u001b[0;31m# The default: expression matches are used as tokens\u001b[0m\u001b[0;34m\u001b[0m\u001b[0;34m\u001b[0m\u001b[0m\n\u001b[0;32m--> 133\u001b[0;31m             \u001b[0;32mfor\u001b[0m \u001b[0mpos\u001b[0m\u001b[0;34m,\u001b[0m \u001b[0mmatch\u001b[0m \u001b[0;32min\u001b[0m \u001b[0menumerate\u001b[0m\u001b[0;34m(\u001b[0m\u001b[0mself\u001b[0m\u001b[0;34m.\u001b[0m\u001b[0mexpression\u001b[0m\u001b[0;34m.\u001b[0m\u001b[0mfinditer\u001b[0m\u001b[0;34m(\u001b[0m\u001b[0mvalue\u001b[0m\u001b[0;34m)\u001b[0m\u001b[0;34m)\u001b[0m\u001b[0;34m:\u001b[0m\u001b[0;34m\u001b[0m\u001b[0m\n\u001b[0m\u001b[1;32m    134\u001b[0m                 \u001b[0mt\u001b[0m\u001b[0;34m.\u001b[0m\u001b[0mtext\u001b[0m \u001b[0;34m=\u001b[0m \u001b[0mmatch\u001b[0m\u001b[0;34m.\u001b[0m\u001b[0mgroup\u001b[0m\u001b[0;34m(\u001b[0m\u001b[0;36m0\u001b[0m\u001b[0;34m)\u001b[0m\u001b[0;34m\u001b[0m\u001b[0m\n\u001b[1;32m    135\u001b[0m                 \u001b[0mt\u001b[0m\u001b[0;34m.\u001b[0m\u001b[0mboost\u001b[0m \u001b[0;34m=\u001b[0m \u001b[0;36m1.0\u001b[0m\u001b[0;34m\u001b[0m\u001b[0m\n",
      "\u001b[0;31mKeyboardInterrupt\u001b[0m: "
     ]
    }
   ],
   "source": [
    "with open(\"../data/\" + xmlpath, \"r\") as f:\n",
    "    lnum = 0\n",
    "    fpos = 0\n",
    "    line = f.readline()\n",
    "    while line:\n",
    "        lnum += 1\n",
    "        writer.add_document(path=xmlpath, line=line, line_num=lnum, pos=fpos)\n",
    "        line = f.readline()\n",
    "        fpos = f.tell()\n",
    "\n",
    "writer.commit()\n",
    "ix.close()"
   ]
  },
  {
   "cell_type": "code",
   "execution_count": null,
   "metadata": {},
   "outputs": [],
   "source": []
  },
  {
   "cell_type": "code",
   "execution_count": null,
   "metadata": {},
   "outputs": [],
   "source": []
  },
  {
   "cell_type": "code",
   "execution_count": null,
   "metadata": {},
   "outputs": [],
   "source": []
  },
  {
   "cell_type": "code",
   "execution_count": null,
   "metadata": {},
   "outputs": [],
   "source": []
  },
  {
   "cell_type": "code",
   "execution_count": null,
   "metadata": {},
   "outputs": [],
   "source": []
  },
  {
   "cell_type": "code",
   "execution_count": null,
   "metadata": {},
   "outputs": [],
   "source": []
  },
  {
   "cell_type": "code",
   "execution_count": null,
   "metadata": {},
   "outputs": [],
   "source": []
  }
 ],
 "metadata": {
  "kernelspec": {
   "display_name": "Python 3",
   "language": "python",
   "name": "python3"
  },
  "language_info": {
   "codemirror_mode": {
    "name": "ipython",
    "version": 3
   },
   "file_extension": ".py",
   "mimetype": "text/x-python",
   "name": "python",
   "nbconvert_exporter": "python",
   "pygments_lexer": "ipython3",
   "version": "3.5.2"
  }
 },
 "nbformat": 4,
 "nbformat_minor": 2
}
