{
 "cells": [
  {
   "cell_type": "code",
   "execution_count": 2,
   "metadata": {},
   "outputs": [],
   "source": [
    "import pandas as pd"
   ]
  },
  {
   "cell_type": "markdown",
   "metadata": {},
   "source": [
    "### Load patent id granted in 2012 and application id in 2017."
   ]
  },
  {
   "cell_type": "code",
   "execution_count": 3,
   "metadata": {},
   "outputs": [],
   "source": [
    "grants2012id_df = pd.read_csv('../data/grant2012_all.csv')"
   ]
  },
  {
   "cell_type": "code",
   "execution_count": 4,
   "metadata": {},
   "outputs": [],
   "source": [
    "grants2012id_df = grants2012id_df.drop(\"Unnamed: 0\", axis=1)"
   ]
  },
  {
   "cell_type": "code",
   "execution_count": 5,
   "metadata": {},
   "outputs": [
    {
     "data": {
      "text/html": [
       "<div>\n",
       "<style scoped>\n",
       "    .dataframe tbody tr th:only-of-type {\n",
       "        vertical-align: middle;\n",
       "    }\n",
       "\n",
       "    .dataframe tbody tr th {\n",
       "        vertical-align: top;\n",
       "    }\n",
       "\n",
       "    .dataframe thead th {\n",
       "        text-align: right;\n",
       "    }\n",
       "</style>\n",
       "<table border=\"1\" class=\"dataframe\">\n",
       "  <thead>\n",
       "    <tr style=\"text-align: right;\">\n",
       "      <th></th>\n",
       "      <th>parsed</th>\n",
       "    </tr>\n",
       "  </thead>\n",
       "  <tbody>\n",
       "    <tr>\n",
       "      <th>0</th>\n",
       "      <td>8166569</td>\n",
       "    </tr>\n",
       "    <tr>\n",
       "      <th>1</th>\n",
       "      <td>8166570</td>\n",
       "    </tr>\n",
       "    <tr>\n",
       "      <th>2</th>\n",
       "      <td>8166571</td>\n",
       "    </tr>\n",
       "    <tr>\n",
       "      <th>3</th>\n",
       "      <td>8166572</td>\n",
       "    </tr>\n",
       "    <tr>\n",
       "      <th>4</th>\n",
       "      <td>8166573</td>\n",
       "    </tr>\n",
       "  </tbody>\n",
       "</table>\n",
       "</div>"
      ],
      "text/plain": [
       "    parsed\n",
       "0  8166569\n",
       "1  8166570\n",
       "2  8166571\n",
       "3  8166572\n",
       "4  8166573"
      ]
     },
     "execution_count": 5,
     "metadata": {},
     "output_type": "execute_result"
    }
   ],
   "source": [
    "grants2012id_df.head()"
   ]
  },
  {
   "cell_type": "code",
   "execution_count": null,
   "metadata": {},
   "outputs": [],
   "source": []
  },
  {
   "cell_type": "code",
   "execution_count": 6,
   "metadata": {},
   "outputs": [],
   "source": [
    "app2017id_df = pd.read_csv('../data/application2017_all.csv')"
   ]
  },
  {
   "cell_type": "code",
   "execution_count": 7,
   "metadata": {},
   "outputs": [],
   "source": [
    "app2017id_df = app2017id_df.drop(\"Unnamed: 0\", axis=1)"
   ]
  },
  {
   "cell_type": "code",
   "execution_count": 8,
   "metadata": {},
   "outputs": [
    {
     "data": {
      "text/html": [
       "<div>\n",
       "<style scoped>\n",
       "    .dataframe tbody tr th:only-of-type {\n",
       "        vertical-align: middle;\n",
       "    }\n",
       "\n",
       "    .dataframe tbody tr th {\n",
       "        vertical-align: top;\n",
       "    }\n",
       "\n",
       "    .dataframe thead th {\n",
       "        text-align: right;\n",
       "    }\n",
       "</style>\n",
       "<table border=\"1\" class=\"dataframe\">\n",
       "  <thead>\n",
       "    <tr style=\"text-align: right;\">\n",
       "      <th></th>\n",
       "      <th>app_id</th>\n",
       "    </tr>\n",
       "  </thead>\n",
       "  <tbody>\n",
       "    <tr>\n",
       "      <th>0</th>\n",
       "      <td>14988955</td>\n",
       "    </tr>\n",
       "    <tr>\n",
       "      <th>1</th>\n",
       "      <td>15299629</td>\n",
       "    </tr>\n",
       "    <tr>\n",
       "      <th>2</th>\n",
       "      <td>15239362</td>\n",
       "    </tr>\n",
       "    <tr>\n",
       "      <th>3</th>\n",
       "      <td>15462276</td>\n",
       "    </tr>\n",
       "    <tr>\n",
       "      <th>4</th>\n",
       "      <td>14998443</td>\n",
       "    </tr>\n",
       "  </tbody>\n",
       "</table>\n",
       "</div>"
      ],
      "text/plain": [
       "     app_id\n",
       "0  14988955\n",
       "1  15299629\n",
       "2  15239362\n",
       "3  15462276\n",
       "4  14998443"
      ]
     },
     "execution_count": 8,
     "metadata": {},
     "output_type": "execute_result"
    }
   ],
   "source": [
    "app2017id_df.head()"
   ]
  },
  {
   "cell_type": "code",
   "execution_count": null,
   "metadata": {},
   "outputs": [],
   "source": []
  },
  {
   "cell_type": "markdown",
   "metadata": {},
   "source": [
    "### Filter citation of office action which is for 2017 application (only once)\n",
    "\n",
    "\n",
    "citations.csv and office_actions.csv is large. Just filter app_id to reduce size. Do it only once"
   ]
  },
  {
   "cell_type": "code",
   "execution_count": null,
   "metadata": {},
   "outputs": [],
   "source": []
  },
  {
   "cell_type": "markdown",
   "metadata": {},
   "source": [
    "Below cell need memory more than 15GB."
   ]
  },
  {
   "cell_type": "code",
   "execution_count": 17,
   "metadata": {},
   "outputs": [],
   "source": [
    "citations = pd.read_csv(\"../data/citations.csv\")"
   ]
  },
  {
   "cell_type": "code",
   "execution_count": 18,
   "metadata": {},
   "outputs": [
    {
     "data": {
      "text/html": [
       "<div>\n",
       "<style scoped>\n",
       "    .dataframe tbody tr th:only-of-type {\n",
       "        vertical-align: middle;\n",
       "    }\n",
       "\n",
       "    .dataframe tbody tr th {\n",
       "        vertical-align: top;\n",
       "    }\n",
       "\n",
       "    .dataframe thead th {\n",
       "        text-align: right;\n",
       "    }\n",
       "</style>\n",
       "<table border=\"1\" class=\"dataframe\">\n",
       "  <thead>\n",
       "    <tr style=\"text-align: right;\">\n",
       "      <th></th>\n",
       "      <th>app_id</th>\n",
       "      <th>citation_pat_pgpub_id</th>\n",
       "      <th>parsed</th>\n",
       "      <th>ifw_number</th>\n",
       "      <th>action_type</th>\n",
       "      <th>action_subtype</th>\n",
       "      <th>form892</th>\n",
       "      <th>form1449</th>\n",
       "      <th>citation_in_oa</th>\n",
       "    </tr>\n",
       "  </thead>\n",
       "  <tbody>\n",
       "    <tr>\n",
       "      <th>0</th>\n",
       "      <td>12000001</td>\n",
       "      <td>20060218340</td>\n",
       "      <td>20060218340</td>\n",
       "      <td>NaN</td>\n",
       "      <td>NaN</td>\n",
       "      <td>NaN</td>\n",
       "      <td>0</td>\n",
       "      <td>1</td>\n",
       "      <td>0</td>\n",
       "    </tr>\n",
       "    <tr>\n",
       "      <th>1</th>\n",
       "      <td>12000001</td>\n",
       "      <td>2343564</td>\n",
       "      <td>2343564</td>\n",
       "      <td>NaN</td>\n",
       "      <td>NaN</td>\n",
       "      <td>NaN</td>\n",
       "      <td>1</td>\n",
       "      <td>0</td>\n",
       "      <td>0</td>\n",
       "    </tr>\n",
       "    <tr>\n",
       "      <th>2</th>\n",
       "      <td>12000001</td>\n",
       "      <td>6622200</td>\n",
       "      <td>6622200</td>\n",
       "      <td>NaN</td>\n",
       "      <td>NaN</td>\n",
       "      <td>NaN</td>\n",
       "      <td>1</td>\n",
       "      <td>0</td>\n",
       "      <td>0</td>\n",
       "    </tr>\n",
       "    <tr>\n",
       "      <th>3</th>\n",
       "      <td>12000001</td>\n",
       "      <td>6182004</td>\n",
       "      <td>6182004</td>\n",
       "      <td>NaN</td>\n",
       "      <td>NaN</td>\n",
       "      <td>NaN</td>\n",
       "      <td>0</td>\n",
       "      <td>1</td>\n",
       "      <td>0</td>\n",
       "    </tr>\n",
       "    <tr>\n",
       "      <th>4</th>\n",
       "      <td>12000001</td>\n",
       "      <td>2323432</td>\n",
       "      <td>2323432</td>\n",
       "      <td>NaN</td>\n",
       "      <td>NaN</td>\n",
       "      <td>NaN</td>\n",
       "      <td>1</td>\n",
       "      <td>0</td>\n",
       "      <td>0</td>\n",
       "    </tr>\n",
       "  </tbody>\n",
       "</table>\n",
       "</div>"
      ],
      "text/plain": [
       "     app_id citation_pat_pgpub_id       parsed ifw_number  action_type  \\\n",
       "0  12000001           20060218340  20060218340        NaN          NaN   \n",
       "1  12000001               2343564      2343564        NaN          NaN   \n",
       "2  12000001               6622200      6622200        NaN          NaN   \n",
       "3  12000001               6182004      6182004        NaN          NaN   \n",
       "4  12000001               2323432      2323432        NaN          NaN   \n",
       "\n",
       "  action_subtype  form892  form1449  citation_in_oa  \n",
       "0            NaN        0         1               0  \n",
       "1            NaN        1         0               0  \n",
       "2            NaN        1         0               0  \n",
       "3            NaN        0         1               0  \n",
       "4            NaN        1         0               0  "
      ]
     },
     "execution_count": 18,
     "metadata": {},
     "output_type": "execute_result"
    }
   ],
   "source": [
    "citations.head()"
   ]
  },
  {
   "cell_type": "code",
   "execution_count": 23,
   "metadata": {},
   "outputs": [
    {
     "data": {
      "text/plain": [
       "(58862278, 9)"
      ]
     },
     "execution_count": 23,
     "metadata": {},
     "output_type": "execute_result"
    }
   ],
   "source": [
    "citations.shape"
   ]
  },
  {
   "cell_type": "code",
   "execution_count": null,
   "metadata": {},
   "outputs": [],
   "source": []
  },
  {
   "cell_type": "code",
   "execution_count": 20,
   "metadata": {},
   "outputs": [],
   "source": [
    "citations_2017 = pd.merge(citations, app2017id_df, on=\"app_id\")"
   ]
  },
  {
   "cell_type": "code",
   "execution_count": 22,
   "metadata": {},
   "outputs": [
    {
     "data": {
      "text/plain": [
       "(278403, 9)"
      ]
     },
     "execution_count": 22,
     "metadata": {},
     "output_type": "execute_result"
    }
   ],
   "source": [
    "citations_2017.shape"
   ]
  },
  {
   "cell_type": "code",
   "execution_count": 21,
   "metadata": {},
   "outputs": [
    {
     "data": {
      "text/html": [
       "<div>\n",
       "<style scoped>\n",
       "    .dataframe tbody tr th:only-of-type {\n",
       "        vertical-align: middle;\n",
       "    }\n",
       "\n",
       "    .dataframe tbody tr th {\n",
       "        vertical-align: top;\n",
       "    }\n",
       "\n",
       "    .dataframe thead th {\n",
       "        text-align: right;\n",
       "    }\n",
       "</style>\n",
       "<table border=\"1\" class=\"dataframe\">\n",
       "  <thead>\n",
       "    <tr style=\"text-align: right;\">\n",
       "      <th></th>\n",
       "      <th>app_id</th>\n",
       "      <th>citation_pat_pgpub_id</th>\n",
       "      <th>parsed</th>\n",
       "      <th>ifw_number</th>\n",
       "      <th>action_type</th>\n",
       "      <th>action_subtype</th>\n",
       "      <th>form892</th>\n",
       "      <th>form1449</th>\n",
       "      <th>citation_in_oa</th>\n",
       "    </tr>\n",
       "  </thead>\n",
       "  <tbody>\n",
       "    <tr>\n",
       "      <th>0</th>\n",
       "      <td>12022531</td>\n",
       "      <td>20050240098</td>\n",
       "      <td>20050240098</td>\n",
       "      <td>NaN</td>\n",
       "      <td>NaN</td>\n",
       "      <td>NaN</td>\n",
       "      <td>0</td>\n",
       "      <td>1</td>\n",
       "      <td>0</td>\n",
       "    </tr>\n",
       "    <tr>\n",
       "      <th>1</th>\n",
       "      <td>12022531</td>\n",
       "      <td>20050148995</td>\n",
       "      <td>20050148995</td>\n",
       "      <td>NaN</td>\n",
       "      <td>NaN</td>\n",
       "      <td>NaN</td>\n",
       "      <td>0</td>\n",
       "      <td>1</td>\n",
       "      <td>0</td>\n",
       "    </tr>\n",
       "    <tr>\n",
       "      <th>2</th>\n",
       "      <td>12022531</td>\n",
       "      <td>5873827</td>\n",
       "      <td>5873827</td>\n",
       "      <td>NaN</td>\n",
       "      <td>NaN</td>\n",
       "      <td>NaN</td>\n",
       "      <td>1</td>\n",
       "      <td>0</td>\n",
       "      <td>0</td>\n",
       "    </tr>\n",
       "    <tr>\n",
       "      <th>3</th>\n",
       "      <td>12022531</td>\n",
       "      <td>6544185</td>\n",
       "      <td>6544185</td>\n",
       "      <td>NaN</td>\n",
       "      <td>NaN</td>\n",
       "      <td>NaN</td>\n",
       "      <td>1</td>\n",
       "      <td>0</td>\n",
       "      <td>0</td>\n",
       "    </tr>\n",
       "    <tr>\n",
       "      <th>4</th>\n",
       "      <td>12022531</td>\n",
       "      <td>6725083</td>\n",
       "      <td>6725083</td>\n",
       "      <td>NaN</td>\n",
       "      <td>NaN</td>\n",
       "      <td>NaN</td>\n",
       "      <td>1</td>\n",
       "      <td>0</td>\n",
       "      <td>0</td>\n",
       "    </tr>\n",
       "  </tbody>\n",
       "</table>\n",
       "</div>"
      ],
      "text/plain": [
       "     app_id citation_pat_pgpub_id       parsed ifw_number  action_type  \\\n",
       "0  12022531           20050240098  20050240098        NaN          NaN   \n",
       "1  12022531           20050148995  20050148995        NaN          NaN   \n",
       "2  12022531               5873827      5873827        NaN          NaN   \n",
       "3  12022531               6544185      6544185        NaN          NaN   \n",
       "4  12022531               6725083      6725083        NaN          NaN   \n",
       "\n",
       "  action_subtype  form892  form1449  citation_in_oa  \n",
       "0            NaN        0         1               0  \n",
       "1            NaN        0         1               0  \n",
       "2            NaN        1         0               0  \n",
       "3            NaN        1         0               0  \n",
       "4            NaN        1         0               0  "
      ]
     },
     "execution_count": 21,
     "metadata": {},
     "output_type": "execute_result"
    }
   ],
   "source": [
    "citations_2017.head()"
   ]
  },
  {
   "cell_type": "code",
   "execution_count": null,
   "metadata": {},
   "outputs": [],
   "source": []
  },
  {
   "cell_type": "code",
   "execution_count": 9,
   "metadata": {},
   "outputs": [
    {
     "data": {
      "text/plain": [
       "1"
      ]
     },
     "execution_count": 9,
     "metadata": {},
     "output_type": "execute_result"
    }
   ],
   "source": [
    "sum(app2017id_df[\"app_id\"]==12022531)"
   ]
  },
  {
   "cell_type": "code",
   "execution_count": null,
   "metadata": {},
   "outputs": [],
   "source": []
  },
  {
   "cell_type": "code",
   "execution_count": 24,
   "metadata": {},
   "outputs": [],
   "source": [
    "citations_2017.to_pickle(\"../data/citations_2017.dat\")"
   ]
  },
  {
   "cell_type": "code",
   "execution_count": null,
   "metadata": {},
   "outputs": [],
   "source": []
  },
  {
   "cell_type": "markdown",
   "metadata": {},
   "source": [
    "### Filer office_actions of app_id is in 2017 (onlly once)"
   ]
  },
  {
   "cell_type": "code",
   "execution_count": null,
   "metadata": {},
   "outputs": [],
   "source": []
  },
  {
   "cell_type": "code",
   "execution_count": 25,
   "metadata": {
    "scrolled": true
   },
   "outputs": [
    {
     "name": "stderr",
     "output_type": "stream",
     "text": [
      "/usr/local/lib/python3.5/dist-packages/IPython/core/interactiveshell.py:2728: DtypeWarning: Columns (1,4,5) have mixed types. Specify dtype option on import or set low_memory=False.\n",
      "  interactivity=interactivity, compiler=compiler, result=result)\n"
     ]
    }
   ],
   "source": [
    "office_actions = pd.read_csv(\"../data/office_actions.csv\")"
   ]
  },
  {
   "cell_type": "code",
   "execution_count": 26,
   "metadata": {},
   "outputs": [
    {
     "data": {
      "text/plain": [
       "(4384532, 23)"
      ]
     },
     "execution_count": 26,
     "metadata": {},
     "output_type": "execute_result"
    }
   ],
   "source": [
    "office_actions.shape"
   ]
  },
  {
   "cell_type": "code",
   "execution_count": 27,
   "metadata": {},
   "outputs": [
    {
     "data": {
      "text/html": [
       "<div>\n",
       "<style scoped>\n",
       "    .dataframe tbody tr th:only-of-type {\n",
       "        vertical-align: middle;\n",
       "    }\n",
       "\n",
       "    .dataframe tbody tr th {\n",
       "        vertical-align: top;\n",
       "    }\n",
       "\n",
       "    .dataframe thead th {\n",
       "        text-align: right;\n",
       "    }\n",
       "</style>\n",
       "<table border=\"1\" class=\"dataframe\">\n",
       "  <thead>\n",
       "    <tr style=\"text-align: right;\">\n",
       "      <th></th>\n",
       "      <th>app_id</th>\n",
       "      <th>ifw_number</th>\n",
       "      <th>document_cd</th>\n",
       "      <th>mail_dt</th>\n",
       "      <th>art_unit</th>\n",
       "      <th>uspc_class</th>\n",
       "      <th>uspc_subclass</th>\n",
       "      <th>header_missing</th>\n",
       "      <th>fp_missing</th>\n",
       "      <th>rejection_fp_mismatch</th>\n",
       "      <th>...</th>\n",
       "      <th>rejection_103</th>\n",
       "      <th>rejection_112</th>\n",
       "      <th>rejection_dp</th>\n",
       "      <th>objection</th>\n",
       "      <th>allowed_claims</th>\n",
       "      <th>cite102_gt1</th>\n",
       "      <th>cite103_gt3</th>\n",
       "      <th>cite103_eq1</th>\n",
       "      <th>cite103_max</th>\n",
       "      <th>signature_type</th>\n",
       "    </tr>\n",
       "  </thead>\n",
       "  <tbody>\n",
       "    <tr>\n",
       "      <th>0</th>\n",
       "      <td>14150981</td>\n",
       "      <td>100867762</td>\n",
       "      <td>CTFR</td>\n",
       "      <td>2015-10-15</td>\n",
       "      <td>2632</td>\n",
       "      <td>375</td>\n",
       "      <td>219000</td>\n",
       "      <td>0</td>\n",
       "      <td>0</td>\n",
       "      <td>0</td>\n",
       "      <td>...</td>\n",
       "      <td>1</td>\n",
       "      <td>0</td>\n",
       "      <td>0</td>\n",
       "      <td>0</td>\n",
       "      <td>0</td>\n",
       "      <td>0</td>\n",
       "      <td>0</td>\n",
       "      <td>1</td>\n",
       "      <td>2</td>\n",
       "      <td>1</td>\n",
       "    </tr>\n",
       "    <tr>\n",
       "      <th>1</th>\n",
       "      <td>14198961</td>\n",
       "      <td>100867788</td>\n",
       "      <td>CTFR</td>\n",
       "      <td>2015-10-15</td>\n",
       "      <td>2699</td>\n",
       "      <td>345</td>\n",
       "      <td>173000</td>\n",
       "      <td>0</td>\n",
       "      <td>0</td>\n",
       "      <td>0</td>\n",
       "      <td>...</td>\n",
       "      <td>1</td>\n",
       "      <td>0</td>\n",
       "      <td>0</td>\n",
       "      <td>0</td>\n",
       "      <td>0</td>\n",
       "      <td>0</td>\n",
       "      <td>0</td>\n",
       "      <td>0</td>\n",
       "      <td>2</td>\n",
       "      <td>1</td>\n",
       "    </tr>\n",
       "    <tr>\n",
       "      <th>2</th>\n",
       "      <td>13796589</td>\n",
       "      <td>100867794</td>\n",
       "      <td>CTNF</td>\n",
       "      <td>2015-10-15</td>\n",
       "      <td>3776</td>\n",
       "      <td>606</td>\n",
       "      <td>159000</td>\n",
       "      <td>0</td>\n",
       "      <td>0</td>\n",
       "      <td>0</td>\n",
       "      <td>...</td>\n",
       "      <td>1</td>\n",
       "      <td>0</td>\n",
       "      <td>0</td>\n",
       "      <td>0</td>\n",
       "      <td>0</td>\n",
       "      <td>0</td>\n",
       "      <td>0</td>\n",
       "      <td>0</td>\n",
       "      <td>3</td>\n",
       "      <td>3</td>\n",
       "    </tr>\n",
       "    <tr>\n",
       "      <th>3</th>\n",
       "      <td>14673475</td>\n",
       "      <td>100867844</td>\n",
       "      <td>CTNF</td>\n",
       "      <td>2015-10-15</td>\n",
       "      <td>2627</td>\n",
       "      <td>345</td>\n",
       "      <td>175000</td>\n",
       "      <td>0</td>\n",
       "      <td>0</td>\n",
       "      <td>0</td>\n",
       "      <td>...</td>\n",
       "      <td>1</td>\n",
       "      <td>1</td>\n",
       "      <td>1</td>\n",
       "      <td>0</td>\n",
       "      <td>0</td>\n",
       "      <td>0</td>\n",
       "      <td>1</td>\n",
       "      <td>0</td>\n",
       "      <td>4</td>\n",
       "      <td>1</td>\n",
       "    </tr>\n",
       "    <tr>\n",
       "      <th>4</th>\n",
       "      <td>14669113</td>\n",
       "      <td>100867850</td>\n",
       "      <td>CTNF</td>\n",
       "      <td>2015-10-15</td>\n",
       "      <td>2666</td>\n",
       "      <td>382</td>\n",
       "      <td>118000</td>\n",
       "      <td>0</td>\n",
       "      <td>0</td>\n",
       "      <td>0</td>\n",
       "      <td>...</td>\n",
       "      <td>0</td>\n",
       "      <td>1</td>\n",
       "      <td>1</td>\n",
       "      <td>0</td>\n",
       "      <td>0</td>\n",
       "      <td>0</td>\n",
       "      <td>0</td>\n",
       "      <td>0</td>\n",
       "      <td>0</td>\n",
       "      <td>1</td>\n",
       "    </tr>\n",
       "  </tbody>\n",
       "</table>\n",
       "<p>5 rows × 23 columns</p>\n",
       "</div>"
      ],
      "text/plain": [
       "     app_id ifw_number document_cd     mail_dt art_unit uspc_class  \\\n",
       "0  14150981  100867762        CTFR  2015-10-15     2632        375   \n",
       "1  14198961  100867788        CTFR  2015-10-15     2699        345   \n",
       "2  13796589  100867794        CTNF  2015-10-15     3776        606   \n",
       "3  14673475  100867844        CTNF  2015-10-15     2627        345   \n",
       "4  14669113  100867850        CTNF  2015-10-15     2666        382   \n",
       "\n",
       "  uspc_subclass  header_missing  fp_missing  rejection_fp_mismatch  \\\n",
       "0        219000               0           0                      0   \n",
       "1        173000               0           0                      0   \n",
       "2        159000               0           0                      0   \n",
       "3        175000               0           0                      0   \n",
       "4        118000               0           0                      0   \n",
       "\n",
       "        ...        rejection_103  rejection_112  rejection_dp  objection  \\\n",
       "0       ...                    1              0             0          0   \n",
       "1       ...                    1              0             0          0   \n",
       "2       ...                    1              0             0          0   \n",
       "3       ...                    1              1             1          0   \n",
       "4       ...                    0              1             1          0   \n",
       "\n",
       "   allowed_claims  cite102_gt1  cite103_gt3  cite103_eq1  cite103_max  \\\n",
       "0               0            0            0            1            2   \n",
       "1               0            0            0            0            2   \n",
       "2               0            0            0            0            3   \n",
       "3               0            0            1            0            4   \n",
       "4               0            0            0            0            0   \n",
       "\n",
       "   signature_type  \n",
       "0               1  \n",
       "1               1  \n",
       "2               3  \n",
       "3               1  \n",
       "4               1  \n",
       "\n",
       "[5 rows x 23 columns]"
      ]
     },
     "execution_count": 27,
     "metadata": {},
     "output_type": "execute_result"
    }
   ],
   "source": [
    "office_actions.head()"
   ]
  },
  {
   "cell_type": "code",
   "execution_count": 28,
   "metadata": {},
   "outputs": [],
   "source": [
    "office_2017 = pd.merge(office_actions, app2017id_df, on=\"app_id\")"
   ]
  },
  {
   "cell_type": "code",
   "execution_count": 29,
   "metadata": {},
   "outputs": [
    {
     "data": {
      "text/plain": [
       "(26342, 23)"
      ]
     },
     "execution_count": 29,
     "metadata": {},
     "output_type": "execute_result"
    }
   ],
   "source": [
    "office_2017.shape"
   ]
  },
  {
   "cell_type": "code",
   "execution_count": 30,
   "metadata": {},
   "outputs": [],
   "source": [
    "office_2017.to_pickle(\"../data/office_2017.dat\")"
   ]
  },
  {
   "cell_type": "code",
   "execution_count": null,
   "metadata": {},
   "outputs": [],
   "source": []
  },
  {
   "cell_type": "code",
   "execution_count": null,
   "metadata": {},
   "outputs": [],
   "source": []
  },
  {
   "cell_type": "markdown",
   "metadata": {},
   "source": [
    "### Load citations and office actions which app_id in 2017 only\n",
    "\n",
    "To reduce footprint, restart kernel here and reload it."
   ]
  },
  {
   "cell_type": "code",
   "execution_count": 9,
   "metadata": {},
   "outputs": [],
   "source": [
    "citations_2017 = pd.read_pickle(\"../data/citations_2017.dat\")"
   ]
  },
  {
   "cell_type": "code",
   "execution_count": 10,
   "metadata": {},
   "outputs": [],
   "source": [
    "office_2017 = pd.read_pickle(\"../data/office_2017.dat\")"
   ]
  },
  {
   "cell_type": "code",
   "execution_count": null,
   "metadata": {},
   "outputs": [],
   "source": []
  },
  {
   "cell_type": "markdown",
   "metadata": {},
   "source": [
    "### Match office action and citation for 2017 application 2012 grants"
   ]
  },
  {
   "cell_type": "code",
   "execution_count": 11,
   "metadata": {},
   "outputs": [],
   "source": [
    "citations_2012_2017 = pd.merge(citations_2017, grants2012id_df.astype(\"str\"), on=\"parsed\")"
   ]
  },
  {
   "cell_type": "code",
   "execution_count": 12,
   "metadata": {},
   "outputs": [
    {
     "data": {
      "text/plain": [
       "((6745, 9), (278403, 9))"
      ]
     },
     "execution_count": 12,
     "metadata": {},
     "output_type": "execute_result"
    }
   ],
   "source": [
    "citations_2012_2017.shape, citations_2017.shape"
   ]
  },
  {
   "cell_type": "code",
   "execution_count": null,
   "metadata": {},
   "outputs": [],
   "source": []
  },
  {
   "cell_type": "markdown",
   "metadata": {},
   "source": [
    "## Data setup assumption\n",
    "\n",
    "Download application of 2017 and grants of 2012, unzip xml, and place under data/\n",
    "\n",
    "From here: https://bulkdata.uspto.gov/#pats\n",
    "\n",
    "### Grants 2012\n",
    "\n",
    "Use \"Patent Grant Full Text Data (No Images) (JAN 1976 - PRESENT)\".\n",
    "\n",
    "- Download all zip of https://bulkdata.uspto.gov/data/patent/grant/redbook/fulltext/2012/\n",
    "   - Use shell script to download zip (https://colab.research.google.com/drive/1gJO0VQ72Xfr_SY2dwWyiTvczIv0_gd4L)\n",
    "       - save to download.sh and run\n",
    "- place xml under data/grants2012/\n",
    "   - ex.data/grants2012/ipg120103.xml data/grants2012/ipg120221.xml\n",
    "   - Total about 24GB\n",
    "\n",
    "### Application 2017\n",
    "\n",
    "Use \"Patent Application Full Text Data (No Images) (MAR 15, 2001 - PRESENT)\"\n",
    "\n",
    "- Download all zip of https://bulkdata.uspto.gov/data/patent/application/redbook/fulltext/2017/\n",
    "   - Use above colab shell script again\n",
    "- place xml under data/application/2017\n",
    "    - ex. data/application2017/ipa170105.xml data/appli cation2017/ipa170223.xml\n",
    "    - Total about 35GB"
   ]
  },
  {
   "cell_type": "code",
   "execution_count": 13,
   "metadata": {},
   "outputs": [],
   "source": [
    "INDEX_PATH=\"../data/index\""
   ]
  },
  {
   "cell_type": "code",
   "execution_count": null,
   "metadata": {},
   "outputs": [],
   "source": []
  },
  {
   "cell_type": "code",
   "execution_count": 10,
   "metadata": {},
   "outputs": [],
   "source": [
    "# currenty lindxr is often updated, so install herer instead of include in Dockerfile\n",
    "\n",
    "!go get github.com/karino2/lindxr"
   ]
  },
  {
   "cell_type": "code",
   "execution_count": 14,
   "metadata": {},
   "outputs": [],
   "source": [
    "import subprocess"
   ]
  },
  {
   "cell_type": "code",
   "execution_count": null,
   "metadata": {},
   "outputs": [],
   "source": []
  },
  {
   "cell_type": "code",
   "execution_count": 15,
   "metadata": {},
   "outputs": [],
   "source": [
    "# lindxr index -indexdest index/grants2012 -pattern \"<doc-number>\" -target \"../data/grants2012/ipg12011*.xml\"\n",
    "\n",
    "def build_index(indexdest, pattern, targetpat):\n",
    "    subprocess.call([\"lindxr\", \"index\", \"-indexdest\", indexdest, \"-pattern\", pattern, \"-target\", targetpat])"
   ]
  },
  {
   "cell_type": "code",
   "execution_count": 16,
   "metadata": {},
   "outputs": [],
   "source": [
    "def subfile(fpath, start, end):\n",
    "    return subprocess.check_output([\"lindxr\", \"sub\", \"-start\", str(start), \"-end\", str(end), \"-input\", fpath],universal_newlines=True).split(\"\\n\")"
   ]
  },
  {
   "cell_type": "code",
   "execution_count": null,
   "metadata": {},
   "outputs": [],
   "source": []
  },
  {
   "cell_type": "code",
   "execution_count": null,
   "metadata": {},
   "outputs": [],
   "source": []
  },
  {
   "cell_type": "markdown",
   "metadata": {},
   "source": [
    "### Create poor man's index (do it only once)"
   ]
  },
  {
   "cell_type": "code",
   "execution_count": 19,
   "metadata": {},
   "outputs": [
    {
     "name": "stdout",
     "output_type": "stream",
     "text": [
      "CPU times: user 4 ms, sys: 8 ms, total: 12 ms\n",
      "Wall time: 1min 2s\n"
     ]
    }
   ],
   "source": [
    "%%time\n",
    "\n",
    "build_index(INDEX_PATH+\"/grants2012/docnum/\", \"<doc-number>\", \"../data/grants2012/ipg*.xml\")"
   ]
  },
  {
   "cell_type": "code",
   "execution_count": 17,
   "metadata": {},
   "outputs": [
    {
     "name": "stdout",
     "output_type": "stream",
     "text": [
      "CPU times: user 0 ns, sys: 8 ms, total: 8 ms\n",
      "Wall time: 59.3 s\n"
     ]
    }
   ],
   "source": [
    "%%time\n",
    "\n",
    "build_index(INDEX_PATH+\"/grants2012/uspatgra/\", \"<us-patent-grant\", \"../data/grants2012/ipg*.xml\")"
   ]
  },
  {
   "cell_type": "code",
   "execution_count": 18,
   "metadata": {},
   "outputs": [
    {
     "name": "stdout",
     "output_type": "stream",
     "text": [
      "CPU times: user 12 ms, sys: 0 ns, total: 12 ms\n",
      "Wall time: 57.1 s\n"
     ]
    }
   ],
   "source": [
    "%%time\n",
    "\n",
    "build_index(INDEX_PATH+\"/grants2012/close_uspatgra/\", \"</us-patent-grant>\", \"../data/grants2012/ipg*.xml\")"
   ]
  },
  {
   "cell_type": "code",
   "execution_count": null,
   "metadata": {},
   "outputs": [],
   "source": []
  },
  {
   "cell_type": "code",
   "execution_count": null,
   "metadata": {},
   "outputs": [],
   "source": []
  },
  {
   "cell_type": "markdown",
   "metadata": {},
   "source": [
    "# Load index from files"
   ]
  },
  {
   "cell_type": "code",
   "execution_count": 17,
   "metadata": {},
   "outputs": [],
   "source": [
    "import glob"
   ]
  },
  {
   "cell_type": "code",
   "execution_count": 18,
   "metadata": {},
   "outputs": [],
   "source": [
    "indexDNGrants2012 = glob.glob(\"../data/index/grants2012/docnum/*.idx\")"
   ]
  },
  {
   "cell_type": "code",
   "execution_count": null,
   "metadata": {},
   "outputs": [],
   "source": []
  },
  {
   "cell_type": "markdown",
   "metadata": {},
   "source": [
    "## First load one index from file and filter only real doc-number index"
   ]
  },
  {
   "cell_type": "code",
   "execution_count": 19,
   "metadata": {},
   "outputs": [],
   "source": [
    "def collect_lines(fpath):\n",
    "    with open(fpath, \"r\") as f:\n",
    "        return [int(l.split(\":\", 1)[0]) for l in f]"
   ]
  },
  {
   "cell_type": "code",
   "execution_count": 20,
   "metadata": {},
   "outputs": [],
   "source": [
    "def collect_line_match_tupple(indexfile):\n",
    "    with open(indexfile, \"r\") as f:\n",
    "        return [(int(lnumstr), match) for (lnumstr, match) in (l.rstrip(\"\\n\").split(\":\", 1) for l in f)]"
   ]
  },
  {
   "cell_type": "code",
   "execution_count": null,
   "metadata": {},
   "outputs": [],
   "source": []
  },
  {
   "cell_type": "code",
   "execution_count": 60,
   "metadata": {},
   "outputs": [
    {
     "data": {
      "text/plain": [
       "'../data/index/grants2012/docnum/ipg120501.xml.idx'"
      ]
     },
     "execution_count": 60,
     "metadata": {},
     "output_type": "execute_result"
    }
   ],
   "source": [
    "indexDNGrants2012[0]"
   ]
  },
  {
   "cell_type": "code",
   "execution_count": 20,
   "metadata": {},
   "outputs": [],
   "source": [
    "fpath = indexDNGrants2012[0]"
   ]
  },
  {
   "cell_type": "code",
   "execution_count": 22,
   "metadata": {},
   "outputs": [],
   "source": [
    "open_lines = collect_lines(fpath.replace(\"docnum\", \"uspatgra\"))\n",
    "close_lines = collect_lines(fpath.replace(\"docnum\", \"close_uspatgra\"))"
   ]
  },
  {
   "cell_type": "code",
   "execution_count": 23,
   "metadata": {},
   "outputs": [
    {
     "data": {
      "text/plain": [
       "(5520, 5520)"
      ]
     },
     "execution_count": 23,
     "metadata": {},
     "output_type": "execute_result"
    }
   ],
   "source": [
    "len(open_lines), len(close_lines)"
   ]
  },
  {
   "cell_type": "code",
   "execution_count": null,
   "metadata": {},
   "outputs": [],
   "source": []
  },
  {
   "cell_type": "code",
   "execution_count": 25,
   "metadata": {},
   "outputs": [],
   "source": [
    "tups = collect_line_match_tupple(fpath)"
   ]
  },
  {
   "cell_type": "code",
   "execution_count": 26,
   "metadata": {},
   "outputs": [
    {
     "data": {
      "text/plain": [
       "201316"
      ]
     },
     "execution_count": 26,
     "metadata": {},
     "output_type": "execute_result"
    }
   ],
   "source": [
    "len(tups)"
   ]
  },
  {
   "cell_type": "code",
   "execution_count": 27,
   "metadata": {},
   "outputs": [
    {
     "data": {
      "text/plain": [
       "(8, '<doc-number>D0658346</doc-number>')"
      ]
     },
     "execution_count": 27,
     "metadata": {},
     "output_type": "execute_result"
    }
   ],
   "source": [
    "tups[0]"
   ]
  },
  {
   "cell_type": "code",
   "execution_count": null,
   "metadata": {},
   "outputs": [],
   "source": []
  },
  {
   "cell_type": "markdown",
   "metadata": {},
   "source": [
    "Retrieve doc-number. Filter non-number value and convert to int here."
   ]
  },
  {
   "cell_type": "code",
   "execution_count": 21,
   "metadata": {},
   "outputs": [],
   "source": [
    "import re"
   ]
  },
  {
   "cell_type": "code",
   "execution_count": 22,
   "metadata": {},
   "outputs": [],
   "source": [
    "doc_num_pat = re.compile(r'<doc-number>([0-9]+)</doc-number>')"
   ]
  },
  {
   "cell_type": "code",
   "execution_count": null,
   "metadata": {},
   "outputs": [],
   "source": []
  },
  {
   "cell_type": "code",
   "execution_count": 23,
   "metadata": {},
   "outputs": [],
   "source": [
    "def filer_doc_number_only_number(tups):\n",
    "    tups_ids = []\n",
    "    for lnum, docline in tups:\n",
    "        mat = doc_num_pat.match(docline)\n",
    "        if mat:\n",
    "            tups_ids.append((lnum, int(mat.group(1))))\n",
    "    return tups_ids\n"
   ]
  },
  {
   "cell_type": "code",
   "execution_count": 31,
   "metadata": {},
   "outputs": [],
   "source": [
    "tups_ids = filer_doc_number_only_number(tups)"
   ]
  },
  {
   "cell_type": "code",
   "execution_count": 32,
   "metadata": {},
   "outputs": [
    {
     "data": {
      "text/plain": [
       "(126788, (16, 29385429))"
      ]
     },
     "execution_count": 32,
     "metadata": {},
     "output_type": "execute_result"
    }
   ],
   "source": [
    "len(tups_ids), tups_ids[0]"
   ]
  },
  {
   "cell_type": "code",
   "execution_count": null,
   "metadata": {},
   "outputs": [],
   "source": []
  },
  {
   "cell_type": "markdown",
   "metadata": {},
   "source": [
    "### Filter doc-number which start from 5 line from &lt;us-patent-grant...&gt;"
   ]
  },
  {
   "cell_type": "code",
   "execution_count": 24,
   "metadata": {},
   "outputs": [],
   "source": [
    "DOC_NUMBER_OFFSET_FROM_OPEN=5"
   ]
  },
  {
   "cell_type": "code",
   "execution_count": 25,
   "metadata": {},
   "outputs": [],
   "source": [
    "def search_closest_at(open_lines, line, candidate):\n",
    "    \"\"\"\n",
    "    return maximum index which satisfy open_lines[idx] < line.\n",
    "    Search is started from candidate.\n",
    "    \"\"\"\n",
    "    for i in range(candidate, len(open_lines)):\n",
    "        if open_lines[i] > line:\n",
    "            return i-1\n",
    "    return len(open_lines)-1\n"
   ]
  },
  {
   "cell_type": "code",
   "execution_count": null,
   "metadata": {},
   "outputs": [],
   "source": []
  },
  {
   "cell_type": "code",
   "execution_count": 26,
   "metadata": {},
   "outputs": [],
   "source": [
    "def list_matched_open_idx(open_lines, tups_ids):\n",
    "    \"\"\"\n",
    "    return index of open_lines which tups_ids belong to.\n",
    "    \"\"\"\n",
    "    matched_opens = []\n",
    "    candidate = 0\n",
    "    for lnum, id in tups_ids:\n",
    "        res = search_closest_at(open_lines, lnum, candidate)\n",
    "        matched_opens.append(res)\n",
    "        candidate = res\n",
    "    return matched_opens"
   ]
  },
  {
   "cell_type": "code",
   "execution_count": 36,
   "metadata": {},
   "outputs": [],
   "source": [
    "matched_opens = list_matched_open_idx(open_lines, tups_ids)"
   ]
  },
  {
   "cell_type": "markdown",
   "metadata": {},
   "source": [
    "### tupple of (line, doc-number, corresponding idx of open_lines)"
   ]
  },
  {
   "cell_type": "code",
   "execution_count": 27,
   "metadata": {},
   "outputs": [],
   "source": [
    "def filter_offset_match_only(open_lines, tups_ids, matched_opens, expected_offset):\n",
    "    return [(lnum, id, matched_opens[idx]) for idx, (lnum, id) in enumerate(tups_ids)\n",
    "                if lnum == open_lines[matched_opens[idx]]+expected_offset ]"
   ]
  },
  {
   "cell_type": "code",
   "execution_count": 38,
   "metadata": {},
   "outputs": [],
   "source": [
    "tups_only_5 = filter_offset_match_only(open_lines, tups_ids, matched_opens, DOC_NUMBER_OFFSET_FROM_OPEN)"
   ]
  },
  {
   "cell_type": "code",
   "execution_count": 39,
   "metadata": {},
   "outputs": [
    {
     "data": {
      "text/plain": [
       "(4981,\n",
       " [(308158, 8166569, 539),\n",
       "  (309038, 8166570, 540),\n",
       "  (309428, 8166571, 541),\n",
       "  (310710, 8166572, 542),\n",
       "  (311438, 8166573, 543)])"
      ]
     },
     "execution_count": 39,
     "metadata": {},
     "output_type": "execute_result"
    }
   ],
   "source": [
    "len(tups_only_5), tups_only_5[0:5]"
   ]
  },
  {
   "cell_type": "code",
   "execution_count": null,
   "metadata": {},
   "outputs": [],
   "source": []
  },
  {
   "cell_type": "markdown",
   "metadata": {},
   "source": [
    "### Check whether how many match to grant2012_all.csv"
   ]
  },
  {
   "cell_type": "code",
   "execution_count": 40,
   "metadata": {},
   "outputs": [],
   "source": [
    "grants2012id = set(grants2012id_df[\"parsed\"])"
   ]
  },
  {
   "cell_type": "code",
   "execution_count": 41,
   "metadata": {},
   "outputs": [
    {
     "data": {
      "text/plain": [
       "4981"
      ]
     },
     "execution_count": 41,
     "metadata": {},
     "output_type": "execute_result"
    }
   ],
   "source": [
    "sum([id in grants2012id for _, id, _ in tups_only_5])"
   ]
  },
  {
   "cell_type": "code",
   "execution_count": 42,
   "metadata": {},
   "outputs": [],
   "source": [
    "# seems match to all, but filter for sure.\n",
    "tups_only_5 = [(lnum, id, openidx) for lnum, id, openidx in tups_only_5 if id in grants2012id]"
   ]
  },
  {
   "cell_type": "code",
   "execution_count": 43,
   "metadata": {
    "scrolled": true
   },
   "outputs": [
    {
     "data": {
      "text/plain": [
       "4981"
      ]
     },
     "execution_count": 43,
     "metadata": {},
     "output_type": "execute_result"
    }
   ],
   "source": [
    "len(tups_only_5)"
   ]
  },
  {
   "cell_type": "code",
   "execution_count": null,
   "metadata": {},
   "outputs": [],
   "source": []
  },
  {
   "cell_type": "markdown",
   "metadata": {},
   "source": [
    "### Filter docnumber only in citations_2012_2017"
   ]
  },
  {
   "cell_type": "code",
   "execution_count": 89,
   "metadata": {},
   "outputs": [],
   "source": [
    "pat_id_set = set(citations_2012_2017[\"parsed\"].astype(\"int\"))"
   ]
  },
  {
   "cell_type": "code",
   "execution_count": null,
   "metadata": {},
   "outputs": [],
   "source": []
  },
  {
   "cell_type": "code",
   "execution_count": 88,
   "metadata": {},
   "outputs": [
    {
     "data": {
      "text/plain": [
       "0"
      ]
     },
     "execution_count": 88,
     "metadata": {},
     "output_type": "execute_result"
    }
   ],
   "source": [
    "sum(citations_2012_2017[\"parsed\"].astype(\"int\").isna())"
   ]
  },
  {
   "cell_type": "code",
   "execution_count": 90,
   "metadata": {},
   "outputs": [
    {
     "data": {
      "text/plain": [
       "5424"
      ]
     },
     "execution_count": 90,
     "metadata": {},
     "output_type": "execute_result"
    }
   ],
   "source": [
    "len(pat_id_set)"
   ]
  },
  {
   "cell_type": "code",
   "execution_count": 91,
   "metadata": {},
   "outputs": [],
   "source": [
    "final_tups = [(lnum, id, openidx) for lnum, id, openidx in tups_only_5 if id in pat_id_set]"
   ]
  },
  {
   "cell_type": "code",
   "execution_count": 92,
   "metadata": {},
   "outputs": [
    {
     "data": {
      "text/plain": [
       "98"
      ]
     },
     "execution_count": 92,
     "metadata": {},
     "output_type": "execute_result"
    }
   ],
   "source": [
    "len(final_tups)"
   ]
  },
  {
   "cell_type": "code",
   "execution_count": 94,
   "metadata": {},
   "outputs": [
    {
     "data": {
      "text/plain": [
       "[(359894, 8166649, 619),\n",
       " (426845, 8166734, 704),\n",
       " (445288, 8166761, 731),\n",
       " (447021, 8166763, 733),\n",
       " (603329, 8166969, 939)]"
      ]
     },
     "execution_count": 94,
     "metadata": {},
     "output_type": "execute_result"
    }
   ],
   "source": [
    "final_tups[0:5]"
   ]
  },
  {
   "cell_type": "code",
   "execution_count": 101,
   "metadata": {},
   "outputs": [
    {
     "data": {
      "text/plain": [
       "[(308158, 8166569, 539),\n",
       " (309038, 8166570, 540),\n",
       " (309428, 8166571, 541),\n",
       " (310710, 8166572, 542),\n",
       " (311438, 8166573, 543)]"
      ]
     },
     "execution_count": 101,
     "metadata": {},
     "output_type": "execute_result"
    }
   ],
   "source": [
    "tups_only_5[0:5]"
   ]
  },
  {
   "cell_type": "code",
   "execution_count": 102,
   "metadata": {},
   "outputs": [
    {
     "data": {
      "text/plain": [
       "(1, 0)"
      ]
     },
     "execution_count": 102,
     "metadata": {},
     "output_type": "execute_result"
    }
   ],
   "source": [
    "sum(citations_2012_2017[\"parsed\"].astype(\"int\") == 8166649), sum(citations_2012_2017[\"parsed\"].astype(\"int\") == 8166569)"
   ]
  },
  {
   "cell_type": "code",
   "execution_count": null,
   "metadata": {},
   "outputs": [],
   "source": []
  },
  {
   "cell_type": "code",
   "execution_count": null,
   "metadata": {},
   "outputs": [],
   "source": []
  },
  {
   "cell_type": "markdown",
   "metadata": {},
   "source": [
    "### Make what I did so far as function"
   ]
  },
  {
   "cell_type": "code",
   "execution_count": 28,
   "metadata": {},
   "outputs": [],
   "source": [
    "# doc_num_tupples is a list of (line, doc-number, corresponding idx of open_lines)\n",
    "from collections import namedtuple\n",
    "\n",
    "DocNumIndex = namedtuple('DocNumIndex', ['open_lines', 'close_lines', \"docnum_tupples\"])"
   ]
  },
  {
   "cell_type": "code",
   "execution_count": 29,
   "metadata": {},
   "outputs": [],
   "source": [
    "def one_index_to_docid_tupples(fpath, patidset):\n",
    "    \"\"\"\n",
    "    fpath: path for docnum index.\n",
    "    patidset: Patent id set that we want to keep.\n",
    "    \"\"\"\n",
    "    open_lines = collect_lines(fpath.replace(\"docnum\", \"uspatgra\"))\n",
    "    close_lines = collect_lines(fpath.replace(\"docnum\", \"close_uspatgra\"))\n",
    "    tups = collect_line_match_tupple(fpath)\n",
    "    tups_ids = filer_doc_number_only_number(tups)\n",
    "    matched_opens = list_matched_open_idx(open_lines, tups_ids)\n",
    "    tups_only_5 = filter_offset_match_only(open_lines, tups_ids, matched_opens, DOC_NUMBER_OFFSET_FROM_OPEN)\n",
    "    final_tups = [(lnum, id, openidx) for lnum, id, openidx in tups_only_5 if id in patidset]\n",
    "    return DocNumIndex(open_lines, close_lines, final_tups)\n"
   ]
  },
  {
   "cell_type": "code",
   "execution_count": null,
   "metadata": {},
   "outputs": [],
   "source": []
  },
  {
   "cell_type": "code",
   "execution_count": 105,
   "metadata": {},
   "outputs": [],
   "source": [
    "docnum_ind = one_index_to_docid_tupples(fpath, pat_id_set)"
   ]
  },
  {
   "cell_type": "code",
   "execution_count": 108,
   "metadata": {},
   "outputs": [
    {
     "data": {
      "text/plain": [
       "(98, 98)"
      ]
     },
     "execution_count": 108,
     "metadata": {},
     "output_type": "execute_result"
    }
   ],
   "source": [
    "len(final_tups), len(docnum_ind.docnum_tupples)"
   ]
  },
  {
   "cell_type": "code",
   "execution_count": 109,
   "metadata": {},
   "outputs": [
    {
     "data": {
      "text/plain": [
       "[(359894, 8166649, 619),\n",
       " (426845, 8166734, 704),\n",
       " (445288, 8166761, 731),\n",
       " (447021, 8166763, 733),\n",
       " (603329, 8166969, 939)]"
      ]
     },
     "execution_count": 109,
     "metadata": {},
     "output_type": "execute_result"
    }
   ],
   "source": [
    "docnum_ind.docnum_tupples[0:5]"
   ]
  },
  {
   "cell_type": "code",
   "execution_count": null,
   "metadata": {},
   "outputs": [],
   "source": []
  },
  {
   "cell_type": "code",
   "execution_count": 110,
   "metadata": {},
   "outputs": [],
   "source": [
    "# confirm result by checking xml\n",
    "_, patid, openidx = docnum_ind.docnum_tupples[0]"
   ]
  },
  {
   "cell_type": "code",
   "execution_count": 112,
   "metadata": {},
   "outputs": [
    {
     "data": {
      "text/plain": [
       "619"
      ]
     },
     "execution_count": 112,
     "metadata": {},
     "output_type": "execute_result"
    }
   ],
   "source": [
    "openidx"
   ]
  },
  {
   "cell_type": "code",
   "execution_count": 113,
   "metadata": {},
   "outputs": [
    {
     "data": {
      "text/plain": [
       "'../data/index/grants2012/docnum/ipg120501.xml.idx'"
      ]
     },
     "execution_count": 113,
     "metadata": {},
     "output_type": "execute_result"
    }
   ],
   "source": [
    "fpath"
   ]
  },
  {
   "cell_type": "code",
   "execution_count": null,
   "metadata": {},
   "outputs": [],
   "source": []
  },
  {
   "cell_type": "code",
   "execution_count": 117,
   "metadata": {},
   "outputs": [
    {
     "data": {
      "text/plain": [
       "['<?xml version=\"1.0\" encoding=\"UTF-8\"?>',\n",
       " '<!DOCTYPE us-patent-grant SYSTEM \"us-patent-grant-v42-2006-08-23.dtd\" [ ]>',\n",
       " '<us-patent-grant lang=\"EN\" dtd-version=\"v4.2 2006-08-23\" file=\"US08166649-20120501.XML\" status=\"PRODUCTION\" id=\"us-patent-grant\" country=\"US\" date-produced=\"20120418\" date-publ=\"20120501\">',\n",
       " '<us-bibliographic-data-grant>',\n",
       " '<publication-reference>',\n",
       " '<document-id>',\n",
       " '<country>US</country>',\n",
       " '<doc-number>08166649</doc-number>',\n",
       " '<kind>B2</kind>',\n",
       " '<date>20120501</date>']"
      ]
     },
     "execution_count": 117,
     "metadata": {},
     "output_type": "execute_result"
    }
   ],
   "source": [
    "subfile(\"../data/grants2012/ipg120501.xml\",\n",
    "        docnum_ind.open_lines[openidx]-2, docnum_ind.close_lines[openidx])[0:10]"
   ]
  },
  {
   "cell_type": "code",
   "execution_count": null,
   "metadata": {},
   "outputs": [],
   "source": []
  },
  {
   "cell_type": "code",
   "execution_count": null,
   "metadata": {},
   "outputs": [],
   "source": []
  },
  {
   "cell_type": "markdown",
   "metadata": {},
   "source": [
    "### Now do it for all files under grants2012"
   ]
  },
  {
   "cell_type": "code",
   "execution_count": 30,
   "metadata": {},
   "outputs": [],
   "source": [
    "pat_id_set = set(citations_2012_2017[\"parsed\"].astype(\"int\"))"
   ]
  },
  {
   "cell_type": "code",
   "execution_count": 31,
   "metadata": {},
   "outputs": [],
   "source": [
    "import tqdm"
   ]
  },
  {
   "cell_type": "code",
   "execution_count": 32,
   "metadata": {},
   "outputs": [
    {
     "name": "stderr",
     "output_type": "stream",
     "text": [
      "100%|██████████| 52/52 [00:27<00:00,  1.89it/s]\n"
     ]
    }
   ],
   "source": [
    "file_dni_dict = {}\n",
    "for fpath in tqdm.tqdm(indexDNGrants2012):\n",
    "    dni = one_index_to_docid_tupples(fpath, pat_id_set)\n",
    "    if len(dni.docnum_tupples) == 0:\n",
    "        print(\"skip {}\".format(fpath))\n",
    "    else:\n",
    "        file_dni_dict[fpath] = dni"
   ]
  },
  {
   "cell_type": "code",
   "execution_count": 122,
   "metadata": {},
   "outputs": [
    {
     "data": {
      "text/plain": [
       "52"
      ]
     },
     "execution_count": 122,
     "metadata": {},
     "output_type": "execute_result"
    }
   ],
   "source": [
    "len(file_dni_dict.keys())"
   ]
  },
  {
   "cell_type": "code",
   "execution_count": null,
   "metadata": {},
   "outputs": [],
   "source": []
  },
  {
   "cell_type": "markdown",
   "metadata": {},
   "source": [
    "### Is patent id unique? (A. yes)."
   ]
  },
  {
   "cell_type": "code",
   "execution_count": 123,
   "metadata": {},
   "outputs": [],
   "source": [
    "all_docnum = [patid for fpath in file_dni_dict.keys() for _, patid, _ in file_dni_dict[fpath].docnum_tupples]"
   ]
  },
  {
   "cell_type": "code",
   "execution_count": 124,
   "metadata": {},
   "outputs": [
    {
     "data": {
      "text/plain": [
       "5424"
      ]
     },
     "execution_count": 124,
     "metadata": {},
     "output_type": "execute_result"
    }
   ],
   "source": [
    "len(all_docnum)"
   ]
  },
  {
   "cell_type": "code",
   "execution_count": 125,
   "metadata": {},
   "outputs": [
    {
     "data": {
      "text/plain": [
       "5424"
      ]
     },
     "execution_count": 125,
     "metadata": {},
     "output_type": "execute_result"
    }
   ],
   "source": [
    "len(set(all_docnum))"
   ]
  },
  {
   "cell_type": "code",
   "execution_count": null,
   "metadata": {},
   "outputs": [],
   "source": []
  },
  {
   "cell_type": "markdown",
   "metadata": {},
   "source": [
    "### Then create dict of {patent-id: (path, openlinenum, closelinenum)}"
   ]
  },
  {
   "cell_type": "code",
   "execution_count": 33,
   "metadata": {},
   "outputs": [],
   "source": [
    "def indexpath_to_xmlpath(fpath):\n",
    "    return fpath.replace(\"data/index\", \"data\").replace(\"docnum/\", \"\")[:-4]"
   ]
  },
  {
   "cell_type": "code",
   "execution_count": 137,
   "metadata": {},
   "outputs": [
    {
     "data": {
      "text/plain": [
       "'../data/grants2012/ipg120821.xml'"
      ]
     },
     "execution_count": 137,
     "metadata": {},
     "output_type": "execute_result"
    }
   ],
   "source": [
    "indexpath_to_xmlpath('../data/index/grants2012/docnum/ipg120821.xml.idx')"
   ]
  },
  {
   "cell_type": "code",
   "execution_count": 35,
   "metadata": {},
   "outputs": [],
   "source": [
    "patid_to_subfile = {patid: (indexpath_to_xmlpath(fpath), dni.open_lines[idx], dni.close_lines[idx])\n",
    "                    for fpath, dni in file_dni_dict.items()\n",
    "                    for _, patid, idx in dni.docnum_tupples}"
   ]
  },
  {
   "cell_type": "code",
   "execution_count": null,
   "metadata": {},
   "outputs": [],
   "source": []
  },
  {
   "cell_type": "code",
   "execution_count": null,
   "metadata": {},
   "outputs": [],
   "source": []
  },
  {
   "cell_type": "code",
   "execution_count": 140,
   "metadata": {},
   "outputs": [
    {
     "data": {
      "text/plain": [
       "5424"
      ]
     },
     "execution_count": 140,
     "metadata": {},
     "output_type": "execute_result"
    }
   ],
   "source": [
    "len(patid_to_subfile.keys())"
   ]
  },
  {
   "cell_type": "code",
   "execution_count": 141,
   "metadata": {},
   "outputs": [
    {
     "data": {
      "text/plain": [
       "[8249344, 8126465, 8232962, 8200771, 8118276]"
      ]
     },
     "execution_count": 141,
     "metadata": {},
     "output_type": "execute_result"
    }
   ],
   "source": [
    "list(patid_to_subfile.keys())[0:5]"
   ]
  },
  {
   "cell_type": "code",
   "execution_count": 142,
   "metadata": {},
   "outputs": [
    {
     "data": {
      "text/plain": [
       "('../data/grants2012/ipg120821.xml', 5342754, 5344633)"
      ]
     },
     "execution_count": 142,
     "metadata": {},
     "output_type": "execute_result"
    }
   ],
   "source": [
    "patid_to_subfile[8249344]"
   ]
  },
  {
   "cell_type": "code",
   "execution_count": 145,
   "metadata": {},
   "outputs": [
    {
     "data": {
      "text/plain": [
       "['<us-patent-grant lang=\"EN\" dtd-version=\"v4.2 2006-08-23\" file=\"US08249344-20120821.XML\" status=\"PRODUCTION\" id=\"us-patent-grant\" country=\"US\" date-produced=\"20120806\" date-publ=\"20120821\">',\n",
       " '<us-bibliographic-data-grant>',\n",
       " '<publication-reference>',\n",
       " '<document-id>',\n",
       " '<country>US</country>',\n",
       " '<doc-number>08249344</doc-number>',\n",
       " '<kind>B2</kind>',\n",
       " '<date>20120821</date>',\n",
       " '</document-id>',\n",
       " '</publication-reference>']"
      ]
     },
     "execution_count": 145,
     "metadata": {},
     "output_type": "execute_result"
    }
   ],
   "source": [
    "subfile(*patid_to_subfile[8249344])[0:10]"
   ]
  },
  {
   "cell_type": "code",
   "execution_count": 38,
   "metadata": {},
   "outputs": [
    {
     "name": "stderr",
     "output_type": "stream",
     "text": [
      "\n",
      "  0%|          | 0/5424 [00:00<?, ?it/s]\u001b[A\n",
      "  0%|          | 1/5424 [00:00<24:44,  3.65it/s]\u001b[A\n",
      "  0%|          | 2/5424 [00:04<3:22:15,  2.24s/it]\u001b[A\n",
      "  0%|          | 3/5424 [00:08<4:11:37,  2.78s/it]\u001b[A\n",
      "  0%|          | 4/5424 [00:09<3:29:34,  2.32s/it]\u001b[A\n",
      "  0%|          | 5/5424 [00:16<4:56:01,  3.28s/it]\u001b[A\n",
      "  0%|          | 6/5424 [00:20<5:15:10,  3.49s/it]\u001b[A\n",
      "  0%|          | 7/5424 [00:26<5:43:31,  3.81s/it]\u001b[A\n",
      "  0%|          | 8/5424 [00:30<5:42:12,  3.79s/it]\u001b[A\n",
      "  0%|          | 9/5424 [00:32<5:23:05,  3.58s/it]\u001b[A\n",
      "  0%|          | 10/5424 [00:32<4:53:56,  3.26s/it]\u001b[A\n",
      "  0%|          | 11/5424 [00:32<4:29:03,  2.98s/it]\u001b[A\n",
      "  0%|          | 12/5424 [00:33<4:13:33,  2.81s/it]\u001b[A\n",
      "  0%|          | 13/5424 [00:37<4:17:49,  2.86s/it]\u001b[A\n",
      "  0%|          | 14/5424 [00:37<4:01:35,  2.68s/it]\u001b[A\n",
      "  0%|          | 15/5424 [00:40<4:01:42,  2.68s/it]\u001b[A\n",
      "  0%|          | 16/5424 [00:45<4:15:49,  2.84s/it]\u001b[A\n",
      "  0%|          | 17/5424 [00:46<4:06:21,  2.73s/it]\u001b[A\n",
      "  0%|          | 18/5424 [00:47<3:58:50,  2.65s/it]\u001b[A\n",
      "  0%|          | 19/5424 [00:48<3:48:10,  2.53s/it]\u001b[A\n",
      "  0%|          | 20/5424 [00:48<3:38:38,  2.43s/it]\u001b[A\n",
      "  0%|          | 21/5424 [00:49<3:33:22,  2.37s/it]\u001b[A\n",
      "  0%|          | 22/5424 [00:50<3:24:57,  2.28s/it]\u001b[A\n",
      "  0%|          | 23/5424 [00:56<3:40:45,  2.45s/it]\u001b[A\n",
      "  0%|          | 24/5424 [01:01<3:49:10,  2.55s/it]\u001b[A\n",
      "  0%|          | 25/5424 [01:06<3:58:08,  2.65s/it]\u001b[A\n",
      "  0%|          | 26/5424 [01:06<3:49:25,  2.55s/it]\u001b[A\n",
      "  0%|          | 27/5424 [01:13<4:04:59,  2.72s/it]\u001b[A\n",
      "  1%|          | 28/5424 [01:13<3:57:25,  2.64s/it]\u001b[A\n",
      "  1%|          | 29/5424 [01:14<3:50:03,  2.56s/it]\u001b[A\n",
      "  1%|          | 30/5424 [01:17<3:51:56,  2.58s/it]\u001b[A\n",
      "  1%|          | 31/5424 [01:17<3:44:56,  2.50s/it]\u001b[A\n",
      "  1%|          | 32/5424 [01:23<3:53:55,  2.60s/it]\u001b[A\n",
      "  1%|          | 33/5424 [01:23<3:48:02,  2.54s/it]\u001b[A\n",
      "  1%|          | 34/5424 [01:30<3:58:13,  2.65s/it]\u001b[A\n",
      "  1%|          | 35/5424 [01:34<4:01:26,  2.69s/it]\u001b[A\n",
      "  1%|          | 36/5424 [01:34<3:55:38,  2.62s/it]\u001b[A\n",
      "  1%|          | 37/5424 [01:34<3:49:59,  2.56s/it]\u001b[A\n",
      "  1%|          | 38/5424 [01:41<3:59:44,  2.67s/it]\u001b[A\n",
      "  1%|          | 39/5424 [01:41<3:54:31,  2.61s/it]\u001b[A\n",
      "  1%|          | 40/5424 [01:43<3:53:01,  2.60s/it]\u001b[A\n",
      "  1%|          | 41/5424 [01:47<3:55:05,  2.62s/it]\u001b[A\n",
      "  1%|          | 42/5424 [01:47<3:50:22,  2.57s/it]\u001b[A\n",
      "  1%|          | 43/5424 [01:48<3:45:36,  2.52s/it]\u001b[A\n",
      "  1%|          | 44/5424 [01:49<3:42:08,  2.48s/it]\u001b[A\n",
      "  1%|          | 45/5424 [01:49<3:37:59,  2.43s/it]\u001b[A\n",
      "  1%|          | 46/5424 [01:50<3:35:51,  2.41s/it]\u001b[A\n",
      "  1%|          | 47/5424 [01:52<3:34:10,  2.39s/it]\u001b[A\n",
      "  1%|          | 48/5424 [01:52<3:29:52,  2.34s/it]\u001b[A\n",
      "  1%|          | 49/5424 [01:52<3:26:09,  2.30s/it]\u001b[A\n",
      "  1%|          | 50/5424 [01:59<3:34:53,  2.40s/it]\u001b[A\n",
      "  1%|          | 51/5424 [02:00<3:30:58,  2.36s/it]\u001b[A\n",
      "  1%|          | 52/5424 [02:00<3:27:32,  2.32s/it]\u001b[A\n",
      "  1%|          | 53/5424 [02:00<3:23:51,  2.28s/it]\u001b[A\n",
      "  1%|          | 54/5424 [02:00<3:20:28,  2.24s/it]\u001b[A\n",
      "  1%|          | 55/5424 [02:01<3:17:29,  2.21s/it]\u001b[A\n",
      "  1%|          | 56/5424 [02:01<3:14:17,  2.17s/it]\u001b[A\n",
      "  1%|          | 57/5424 [02:02<3:11:32,  2.14s/it]\u001b[A\n",
      "  1%|          | 58/5424 [02:02<3:08:40,  2.11s/it]\u001b[A\n",
      "  1%|          | 59/5424 [02:02<3:05:54,  2.08s/it]\u001b[A\n",
      "  1%|          | 60/5424 [02:02<3:03:05,  2.05s/it]\u001b[A\n",
      "  1%|          | 62/5424 [02:03<2:57:53,  1.99s/it]\u001b[A\n",
      "  1%|          | 63/5424 [02:03<2:55:29,  1.96s/it]\u001b[A\n",
      "  1%|          | 64/5424 [02:06<2:57:07,  1.98s/it]\u001b[A\n",
      "  1%|          | 65/5424 [02:07<2:54:39,  1.96s/it]\u001b[A\n",
      "  1%|          | 66/5424 [02:08<2:54:04,  1.95s/it]\u001b[A\n",
      "  1%|          | 67/5424 [02:09<2:52:02,  1.93s/it]\u001b[A\n",
      "  1%|▏         | 68/5424 [02:09<2:49:48,  1.90s/it]\u001b[A\n",
      "  1%|▏         | 69/5424 [02:09<2:47:49,  1.88s/it]\u001b[A\n",
      "  1%|▏         | 70/5424 [02:10<2:45:47,  1.86s/it]\u001b[A\n",
      "  1%|▏         | 71/5424 [02:13<2:47:47,  1.88s/it]\u001b[A\n",
      "  1%|▏         | 72/5424 [02:19<2:52:59,  1.94s/it]\u001b[A\n",
      "  1%|▏         | 73/5424 [02:21<2:52:18,  1.93s/it]\u001b[A\n",
      "  1%|▏         | 74/5424 [02:21<2:50:04,  1.91s/it]\u001b[A\n",
      "  1%|▏         | 75/5424 [02:21<2:48:07,  1.89s/it]\u001b[A\n",
      "  1%|▏         | 76/5424 [02:25<2:50:38,  1.91s/it]\u001b[A\n",
      "  1%|▏         | 77/5424 [02:25<2:48:56,  1.90s/it]\u001b[A\n",
      "  1%|▏         | 78/5424 [02:26<2:46:56,  1.87s/it]\u001b[A\n",
      "  1%|▏         | 79/5424 [02:26<2:45:28,  1.86s/it]\u001b[A\n",
      "  1%|▏         | 80/5424 [02:27<2:43:53,  1.84s/it]\u001b[A\n",
      "  1%|▏         | 81/5424 [02:27<2:42:02,  1.82s/it]\u001b[A\n",
      "  2%|▏         | 82/5424 [02:27<2:40:16,  1.80s/it]\u001b[A\n",
      "  2%|▏         | 83/5424 [02:27<2:38:33,  1.78s/it]\u001b[A\n",
      "  2%|▏         | 84/5424 [02:28<2:37:09,  1.77s/it]\u001b[A\n",
      "  2%|▏         | 85/5424 [02:30<2:37:45,  1.77s/it]\u001b[A\n",
      "  2%|▏         | 86/5424 [02:31<2:36:13,  1.76s/it]\u001b[A\n",
      "  2%|▏         | 87/5424 [02:35<2:38:45,  1.78s/it]\u001b[A\n",
      "  2%|▏         | 88/5424 [02:35<2:37:07,  1.77s/it]\u001b[A\n",
      "  2%|▏         | 89/5424 [02:35<2:35:31,  1.75s/it]\u001b[A\n",
      "  2%|▏         | 90/5424 [02:36<2:34:11,  1.73s/it]\u001b[A\n",
      "  2%|▏         | 91/5424 [02:36<2:32:48,  1.72s/it]\u001b[A\n",
      "  2%|▏         | 92/5424 [02:37<2:32:04,  1.71s/it]\u001b[A\n",
      "  2%|▏         | 93/5424 [02:37<2:30:41,  1.70s/it]\u001b[A\n",
      "  2%|▏         | 94/5424 [02:38<2:29:20,  1.68s/it]\u001b[A\n",
      "  2%|▏         | 96/5424 [02:38<2:26:40,  1.65s/it]\u001b[A\n",
      "  2%|▏         | 97/5424 [02:39<2:25:41,  1.64s/it]\u001b[A\n",
      "  2%|▏         | 98/5424 [02:39<2:24:27,  1.63s/it]\u001b[A\n",
      "  2%|▏         | 99/5424 [02:39<2:23:20,  1.62s/it]\u001b[A\n",
      "  2%|▏         | 100/5424 [02:40<2:22:06,  1.60s/it]\u001b[A\n",
      "  2%|▏         | 101/5424 [02:40<2:20:54,  1.59s/it]\u001b[A\n",
      "  2%|▏         | 102/5424 [02:40<2:19:41,  1.57s/it]\u001b[A\n",
      "  2%|▏         | 103/5424 [02:41<2:18:39,  1.56s/it]\u001b[A\n",
      "  2%|▏         | 104/5424 [02:41<2:17:34,  1.55s/it]\u001b[A\n",
      "  2%|▏         | 105/5424 [02:41<2:16:24,  1.54s/it]\u001b[A\n",
      "  2%|▏         | 106/5424 [02:41<2:15:24,  1.53s/it]\u001b[A\n",
      "  2%|▏         | 108/5424 [02:42<2:13:03,  1.50s/it]\u001b[A\n",
      "  2%|▏         | 109/5424 [02:42<2:12:11,  1.49s/it]\u001b[A\n",
      "  2%|▏         | 110/5424 [02:42<2:11:10,  1.48s/it]\u001b[A\n",
      "  2%|▏         | 111/5424 [02:43<2:10:13,  1.47s/it]\u001b[A\n",
      "  2%|▏         | 112/5424 [02:43<2:09:13,  1.46s/it]\u001b[A\n",
      "  2%|▏         | 113/5424 [02:43<2:08:13,  1.45s/it]\u001b[A\n",
      "  2%|▏         | 114/5424 [02:43<2:07:12,  1.44s/it]\u001b[A\n",
      "  2%|▏         | 115/5424 [02:44<2:06:12,  1.43s/it]\u001b[A\n",
      "  2%|▏         | 116/5424 [02:44<2:05:11,  1.42s/it]\u001b[A\n",
      "  2%|▏         | 117/5424 [02:44<2:04:23,  1.41s/it]\u001b[A\n",
      "  2%|▏         | 118/5424 [02:44<2:03:32,  1.40s/it]\u001b[A\n",
      "  2%|▏         | 119/5424 [02:45<2:02:36,  1.39s/it]\u001b[A\n",
      "  2%|▏         | 120/5424 [02:45<2:01:49,  1.38s/it]\u001b[A\n",
      "  2%|▏         | 121/5424 [02:45<2:01:04,  1.37s/it]\u001b[A\n",
      "  2%|▏         | 122/5424 [02:47<2:01:11,  1.37s/it]\u001b[A\n",
      "  2%|▏         | 123/5424 [02:47<2:00:24,  1.36s/it]\u001b[A\n",
      "  2%|▏         | 124/5424 [02:48<1:59:42,  1.36s/it]\u001b[A\n",
      "  2%|▏         | 125/5424 [02:48<1:59:03,  1.35s/it]\u001b[A\n",
      "  2%|▏         | 126/5424 [02:48<1:58:25,  1.34s/it]\u001b[A\n",
      "  2%|▏         | 127/5424 [02:49<1:57:38,  1.33s/it]\u001b[A\n",
      "  2%|▏         | 128/5424 [02:49<1:57:01,  1.33s/it]\u001b[A\n",
      "  2%|▏         | 129/5424 [02:50<1:56:46,  1.32s/it]\u001b[A\n",
      "  2%|▏         | 131/5424 [02:50<1:55:05,  1.30s/it]\u001b[A\n",
      "  2%|▏         | 132/5424 [02:51<1:54:29,  1.30s/it]\u001b[A\n",
      "  2%|▏         | 134/5424 [02:51<1:52:49,  1.28s/it]\u001b[A\n",
      "  2%|▏         | 135/5424 [02:53<1:53:24,  1.29s/it]\u001b[A\n",
      "  3%|▎         | 136/5424 [02:54<1:52:46,  1.28s/it]\u001b[A\n",
      "  3%|▎         | 137/5424 [02:54<1:52:02,  1.27s/it]\u001b[A\n",
      "  3%|▎         | 138/5424 [02:54<1:51:26,  1.26s/it]\u001b[A\n",
      "  3%|▎         | 139/5424 [02:55<1:50:57,  1.26s/it]\u001b[A\n",
      "  3%|▎         | 140/5424 [02:55<1:50:20,  1.25s/it]\u001b[A\n",
      "  3%|▎         | 142/5424 [02:55<1:48:59,  1.24s/it]\u001b[A\n",
      "  3%|▎         | 143/5424 [02:56<1:48:22,  1.23s/it]\u001b[A\n",
      "  3%|▎         | 144/5424 [02:56<1:47:49,  1.23s/it]\u001b[A\n",
      "  3%|▎         | 145/5424 [02:56<1:47:10,  1.22s/it]\u001b[A\n",
      "  3%|▎         | 147/5424 [02:56<1:45:52,  1.20s/it]\u001b[A\n",
      "  3%|▎         | 149/5424 [02:58<1:45:04,  1.20s/it]\u001b[A\n",
      "  3%|▎         | 150/5424 [02:58<1:44:36,  1.19s/it]\u001b[A\n",
      "  3%|▎         | 151/5424 [02:58<1:44:03,  1.18s/it]\u001b[A\n",
      "  3%|▎         | 152/5424 [02:59<1:43:38,  1.18s/it]\u001b[A\n",
      "  3%|▎         | 153/5424 [02:59<1:43:14,  1.18s/it]\u001b[A\n",
      "  3%|▎         | 154/5424 [03:00<1:42:44,  1.17s/it]\u001b[A\n",
      "  3%|▎         | 155/5424 [03:00<1:42:11,  1.16s/it]\u001b[A\n"
     ]
    },
    {
     "name": "stderr",
     "output_type": "stream",
     "text": [
      "  3%|▎         | 156/5424 [03:00<1:41:46,  1.16s/it]\u001b[A\n",
      "  3%|▎         | 158/5424 [03:01<1:40:36,  1.15s/it]\u001b[A\n",
      "  3%|▎         | 159/5424 [03:01<1:40:08,  1.14s/it]\u001b[A\n",
      "  3%|▎         | 160/5424 [03:06<1:42:20,  1.17s/it]\u001b[A\n",
      "  3%|▎         | 161/5424 [03:06<1:41:46,  1.16s/it]\u001b[A\n",
      "  3%|▎         | 162/5424 [03:07<1:41:24,  1.16s/it]\u001b[A\n",
      "  3%|▎         | 163/5424 [03:07<1:41:04,  1.15s/it]\u001b[A\n",
      "  3%|▎         | 164/5424 [03:08<1:40:32,  1.15s/it]\u001b[A\n",
      "  3%|▎         | 165/5424 [03:08<1:40:10,  1.14s/it]\u001b[A\n",
      "  3%|▎         | 167/5424 [03:09<1:39:10,  1.13s/it]\u001b[A\n",
      "  3%|▎         | 168/5424 [03:09<1:38:42,  1.13s/it]\u001b[A\n",
      "  3%|▎         | 169/5424 [03:10<1:38:57,  1.13s/it]\u001b[A\n",
      "  3%|▎         | 170/5424 [03:11<1:38:31,  1.13s/it]\u001b[A\n",
      "  3%|▎         | 171/5424 [03:12<1:38:31,  1.13s/it]\u001b[A\n",
      "  3%|▎         | 172/5424 [03:12<1:38:03,  1.12s/it]\u001b[A\n",
      "  3%|▎         | 173/5424 [03:12<1:37:34,  1.11s/it]\u001b[A\n",
      "  3%|▎         | 174/5424 [03:13<1:37:11,  1.11s/it]\u001b[A\n",
      "  3%|▎         | 175/5424 [03:13<1:36:40,  1.11s/it]\u001b[A\n",
      "  3%|▎         | 176/5424 [03:15<1:37:19,  1.11s/it]\u001b[A\n",
      "  3%|▎         | 177/5424 [03:15<1:36:48,  1.11s/it]\u001b[A\n",
      "  3%|▎         | 179/5424 [03:16<1:35:50,  1.10s/it]\u001b[A\n",
      "  3%|▎         | 181/5424 [03:16<1:34:49,  1.09s/it]\u001b[A\n",
      "  3%|▎         | 183/5424 [03:17<1:34:10,  1.08s/it]\u001b[A\n",
      "  3%|▎         | 184/5424 [03:17<1:33:48,  1.07s/it]\u001b[A\n",
      "  3%|▎         | 185/5424 [03:18<1:33:30,  1.07s/it]\u001b[A\n",
      "  3%|▎         | 187/5424 [03:18<1:32:32,  1.06s/it]\u001b[A\n",
      "  3%|▎         | 188/5424 [03:18<1:32:06,  1.06s/it]\u001b[A\n",
      "  3%|▎         | 189/5424 [03:18<1:31:44,  1.05s/it]\u001b[A\n",
      "  4%|▎         | 190/5424 [03:18<1:31:18,  1.05s/it]\u001b[A\n",
      "  4%|▎         | 191/5424 [03:19<1:30:59,  1.04s/it]\u001b[A\n",
      "  4%|▎         | 192/5424 [03:19<1:30:37,  1.04s/it]\u001b[A\n",
      "  4%|▎         | 193/5424 [03:24<1:32:16,  1.06s/it]\u001b[A\n",
      "  4%|▎         | 194/5424 [03:25<1:32:11,  1.06s/it]\u001b[A\n",
      "  4%|▎         | 195/5424 [03:25<1:31:56,  1.06s/it]\u001b[A\n",
      "  4%|▎         | 196/5424 [03:26<1:31:38,  1.05s/it]\u001b[A\n",
      "  4%|▎         | 197/5424 [03:26<1:31:25,  1.05s/it]\u001b[A\n",
      "  4%|▎         | 198/5424 [03:27<1:31:11,  1.05s/it]\u001b[A\n",
      "  4%|▎         | 199/5424 [03:27<1:30:51,  1.04s/it]\u001b[A\n",
      "  4%|▎         | 200/5424 [03:27<1:30:27,  1.04s/it]\u001b[A\n",
      "  4%|▎         | 201/5424 [03:28<1:30:05,  1.03s/it]\u001b[A\n",
      "  4%|▎         | 202/5424 [03:28<1:29:46,  1.03s/it]\u001b[A\n",
      "  4%|▎         | 203/5424 [03:28<1:29:26,  1.03s/it]\u001b[A\n",
      "  4%|▍         | 204/5424 [03:29<1:29:10,  1.02s/it]\u001b[A\n",
      "  4%|▍         | 205/5424 [03:29<1:28:51,  1.02s/it]\u001b[A\n",
      "  4%|▍         | 206/5424 [03:29<1:28:30,  1.02s/it]\u001b[A\n",
      "  4%|▍         | 207/5424 [03:30<1:28:15,  1.01s/it]\u001b[A\n",
      "  4%|▍         | 208/5424 [03:30<1:27:56,  1.01s/it]\u001b[A\n",
      "  4%|▍         | 209/5424 [03:30<1:27:39,  1.01s/it]\u001b[A\n",
      "  4%|▍         | 210/5424 [03:31<1:27:27,  1.01s/it]\u001b[A\n",
      "  4%|▍         | 211/5424 [03:36<1:29:03,  1.03s/it]\u001b[A\n",
      "  4%|▍         | 212/5424 [03:36<1:28:42,  1.02s/it]\u001b[A\n",
      "  4%|▍         | 213/5424 [03:36<1:28:25,  1.02s/it]\u001b[A\n",
      "  4%|▍         | 214/5424 [03:37<1:28:12,  1.02s/it]\u001b[A\n",
      "  4%|▍         | 215/5424 [03:37<1:27:51,  1.01s/it]\u001b[A\n",
      "  4%|▍         | 216/5424 [03:37<1:27:32,  1.01s/it]\u001b[A\n",
      "  4%|▍         | 217/5424 [03:38<1:27:12,  1.00s/it]\u001b[A\n",
      "  4%|▍         | 219/5424 [03:38<1:26:36,  1.00it/s]\u001b[A\n",
      "  4%|▍         | 220/5424 [03:38<1:26:19,  1.00it/s]\u001b[A\n",
      "  4%|▍         | 221/5424 [03:39<1:25:59,  1.01it/s]\u001b[A\n",
      "  4%|▍         | 222/5424 [03:41<1:26:39,  1.00it/s]\u001b[A\n",
      "  4%|▍         | 223/5424 [03:42<1:26:20,  1.00it/s]\u001b[A\n",
      "  4%|▍         | 224/5424 [03:42<1:26:07,  1.01it/s]\u001b[A\n",
      "  4%|▍         | 225/5424 [03:43<1:26:03,  1.01it/s]\u001b[A\n",
      "  4%|▍         | 226/5424 [03:45<1:26:25,  1.00it/s]\u001b[A\n",
      "  4%|▍         | 228/5424 [03:46<1:26:10,  1.00it/s]\u001b[A\n",
      "  4%|▍         | 229/5424 [03:47<1:25:55,  1.01it/s]\u001b[A\n",
      "  4%|▍         | 231/5424 [03:47<1:25:14,  1.02it/s]\u001b[A\n",
      "  4%|▍         | 232/5424 [03:47<1:24:59,  1.02it/s]\u001b[A\n",
      "  4%|▍         | 234/5424 [03:48<1:24:17,  1.03it/s]\u001b[A\n",
      "  4%|▍         | 235/5424 [03:48<1:24:04,  1.03it/s]\u001b[A\n",
      "  4%|▍         | 236/5424 [03:48<1:23:49,  1.03it/s]\u001b[A\n",
      "  4%|▍         | 237/5424 [03:49<1:23:35,  1.03it/s]\u001b[A\n",
      "  4%|▍         | 238/5424 [03:49<1:23:18,  1.04it/s]\u001b[A\n",
      "  4%|▍         | 239/5424 [03:49<1:23:06,  1.04it/s]\u001b[A\n",
      "  4%|▍         | 240/5424 [03:51<1:23:24,  1.04it/s]\u001b[A\n",
      "  4%|▍         | 241/5424 [03:51<1:23:07,  1.04it/s]\u001b[A\n",
      "  4%|▍         | 242/5424 [03:52<1:22:54,  1.04it/s]\u001b[A\n",
      "  4%|▍         | 243/5424 [03:52<1:22:39,  1.04it/s]\u001b[A\n",
      "  4%|▍         | 244/5424 [03:52<1:22:25,  1.05it/s]\u001b[A\n",
      "  5%|▍         | 246/5424 [03:53<1:21:58,  1.05it/s]\u001b[A\n",
      "  5%|▍         | 247/5424 [03:53<1:21:41,  1.06it/s]\u001b[A\n",
      "  5%|▍         | 249/5424 [03:54<1:21:09,  1.06it/s]\u001b[A\n",
      "  5%|▍         | 250/5424 [03:54<1:20:52,  1.07it/s]\u001b[A\n",
      "  5%|▍         | 252/5424 [03:54<1:20:16,  1.07it/s]\u001b[A\n",
      "  5%|▍         | 253/5424 [03:54<1:20:01,  1.08it/s]\u001b[A\n",
      "  5%|▍         | 254/5424 [03:55<1:19:51,  1.08it/s]\u001b[A\n",
      "  5%|▍         | 255/5424 [03:55<1:19:36,  1.08it/s]\u001b[A\n",
      "  5%|▍         | 256/5424 [03:55<1:19:19,  1.09it/s]\u001b[A\n",
      "  5%|▍         | 257/5424 [03:56<1:19:09,  1.09it/s]\u001b[A\n",
      "  5%|▍         | 258/5424 [03:56<1:18:58,  1.09it/s]\u001b[A\n",
      "  5%|▍         | 259/5424 [03:57<1:18:46,  1.09it/s]\u001b[A\n",
      "  5%|▍         | 260/5424 [03:57<1:18:31,  1.10it/s]\u001b[A\n",
      "  5%|▍         | 261/5424 [03:57<1:18:16,  1.10it/s]\u001b[A\n",
      "  5%|▍         | 262/5424 [03:57<1:18:09,  1.10it/s]\u001b[A\n",
      "  5%|▍         | 263/5424 [03:58<1:17:53,  1.10it/s]\u001b[A\n",
      "  5%|▍         | 264/5424 [03:58<1:17:43,  1.11it/s]\u001b[A\n",
      "  5%|▍         | 266/5424 [03:59<1:17:16,  1.11it/s]\u001b[A\n",
      "  5%|▍         | 267/5424 [03:59<1:17:02,  1.12it/s]\u001b[A\n",
      "  5%|▍         | 268/5424 [03:59<1:16:46,  1.12it/s]\u001b[A\n",
      "  5%|▍         | 269/5424 [03:59<1:16:33,  1.12it/s]\u001b[A\n",
      "  5%|▍         | 270/5424 [04:00<1:16:23,  1.12it/s]\u001b[A\n",
      "  5%|▍         | 271/5424 [04:00<1:16:09,  1.13it/s]\u001b[A\n",
      "  5%|▌         | 272/5424 [04:00<1:15:58,  1.13it/s]\u001b[A\n",
      "  5%|▌         | 274/5424 [04:00<1:15:28,  1.14it/s]\u001b[A\n",
      "  5%|▌         | 275/5424 [04:01<1:15:19,  1.14it/s]\u001b[A\n",
      "  5%|▌         | 276/5424 [04:01<1:15:05,  1.14it/s]\u001b[A\n",
      "  5%|▌         | 277/5424 [04:01<1:14:51,  1.15it/s]\u001b[A\n",
      "  5%|▌         | 278/5424 [04:02<1:14:39,  1.15it/s]\u001b[A\n",
      "  5%|▌         | 279/5424 [04:02<1:14:25,  1.15it/s]\u001b[A\n",
      "  5%|▌         | 280/5424 [04:02<1:14:11,  1.16it/s]\u001b[A\n",
      "  5%|▌         | 281/5424 [04:02<1:13:59,  1.16it/s]\u001b[A\n",
      "  5%|▌         | 282/5424 [04:02<1:13:48,  1.16it/s]\u001b[A\n",
      "  5%|▌         | 283/5424 [04:03<1:13:39,  1.16it/s]\u001b[A\n",
      "  5%|▌         | 284/5424 [04:03<1:13:27,  1.17it/s]\u001b[A\n",
      "  5%|▌         | 285/5424 [04:04<1:13:37,  1.16it/s]\u001b[A\n",
      "  5%|▌         | 287/5424 [04:05<1:13:15,  1.17it/s]\u001b[A\n",
      "  5%|▌         | 288/5424 [04:05<1:13:03,  1.17it/s]\u001b[A\n",
      "  5%|▌         | 289/5424 [04:06<1:12:54,  1.17it/s]\u001b[A\n",
      "  5%|▌         | 290/5424 [04:06<1:12:42,  1.18it/s]\u001b[A\n",
      "  5%|▌         | 291/5424 [04:06<1:12:30,  1.18it/s]\u001b[A\n",
      "  5%|▌         | 293/5424 [04:06<1:12:04,  1.19it/s]\u001b[A\n",
      "  5%|▌         | 294/5424 [04:07<1:11:53,  1.19it/s]\u001b[A\n",
      "  5%|▌         | 295/5424 [04:07<1:11:43,  1.19it/s]\u001b[A\n",
      "  5%|▌         | 296/5424 [04:07<1:11:35,  1.19it/s]\u001b[A\n",
      "  5%|▌         | 297/5424 [04:08<1:11:29,  1.20it/s]\u001b[A\n",
      "  6%|▌         | 299/5424 [04:08<1:11:00,  1.20it/s]\u001b[A\n",
      "  6%|▌         | 300/5424 [04:08<1:10:52,  1.20it/s]\u001b[A\n",
      "  6%|▌         | 301/5424 [04:09<1:10:41,  1.21it/s]\u001b[A\n",
      "  6%|▌         | 303/5424 [04:09<1:10:18,  1.21it/s]\u001b[A\n",
      "  6%|▌         | 304/5424 [04:11<1:10:35,  1.21it/s]\u001b[A\n",
      "  6%|▌         | 306/5424 [04:11<1:10:09,  1.22it/s]\u001b[A\n",
      "  6%|▌         | 307/5424 [04:12<1:10:01,  1.22it/s]\u001b[A\n",
      "  6%|▌         | 308/5424 [04:12<1:09:54,  1.22it/s]\u001b[A\n",
      "  6%|▌         | 309/5424 [04:13<1:09:48,  1.22it/s]\u001b[A\n",
      "  6%|▌         | 310/5424 [04:13<1:09:37,  1.22it/s]\u001b[A\n",
      "  6%|▌         | 311/5424 [04:18<1:10:50,  1.20it/s]\u001b[A\n",
      "  6%|▌         | 312/5424 [04:21<1:11:21,  1.19it/s]\u001b[A\n",
      "  6%|▌         | 313/5424 [04:21<1:11:15,  1.20it/s]\u001b[A\n",
      "  6%|▌         | 315/5424 [04:22<1:10:51,  1.20it/s]\u001b[A\n",
      "  6%|▌         | 316/5424 [04:22<1:10:42,  1.20it/s]\u001b[A\n",
      "  6%|▌         | 317/5424 [04:26<1:11:29,  1.19it/s]\u001b[A\n",
      "  6%|▌         | 318/5424 [04:26<1:11:18,  1.19it/s]\u001b[A\n",
      "  6%|▌         | 319/5424 [04:26<1:11:10,  1.20it/s]\u001b[A\n",
      "  6%|▌         | 321/5424 [04:27<1:10:52,  1.20it/s]\u001b[A\n",
      "  6%|▌         | 323/5424 [04:27<1:10:30,  1.21it/s]\u001b[A\n",
      "  6%|▌         | 324/5424 [04:28<1:10:22,  1.21it/s]\u001b[A\n"
     ]
    },
    {
     "name": "stderr",
     "output_type": "stream",
     "text": [
      "  6%|▌         | 325/5424 [04:28<1:10:14,  1.21it/s]\u001b[A\n",
      "  6%|▌         | 326/5424 [04:29<1:10:09,  1.21it/s]\u001b[A\n",
      "  6%|▌         | 327/5424 [04:29<1:10:03,  1.21it/s]\u001b[A\n",
      "  6%|▌         | 329/5424 [04:30<1:09:45,  1.22it/s]\u001b[A\n",
      "  6%|▌         | 330/5424 [04:30<1:09:39,  1.22it/s]\u001b[A\n",
      "  6%|▌         | 331/5424 [04:31<1:09:30,  1.22it/s]\u001b[A\n",
      "  6%|▌         | 332/5424 [04:31<1:09:22,  1.22it/s]\u001b[A\n",
      "  6%|▌         | 333/5424 [04:31<1:09:15,  1.23it/s]\u001b[A\n",
      "  6%|▌         | 334/5424 [04:32<1:09:08,  1.23it/s]\u001b[A\n",
      "  6%|▌         | 335/5424 [04:33<1:09:17,  1.22it/s]\u001b[A\n",
      "  6%|▌         | 336/5424 [04:33<1:09:06,  1.23it/s]\u001b[A\n",
      "  6%|▌         | 337/5424 [04:34<1:08:56,  1.23it/s]\u001b[A\n",
      "  6%|▌         | 338/5424 [04:34<1:08:47,  1.23it/s]\u001b[A\n",
      "  6%|▋         | 340/5424 [04:34<1:08:25,  1.24it/s]\u001b[A\n",
      "  6%|▋         | 341/5424 [04:34<1:08:16,  1.24it/s]\u001b[A\n",
      "  6%|▋         | 342/5424 [04:35<1:08:06,  1.24it/s]\u001b[A\n",
      "  6%|▋         | 343/5424 [04:35<1:07:58,  1.25it/s]\u001b[A\n",
      "  6%|▋         | 344/5424 [04:35<1:07:48,  1.25it/s]\u001b[A\n",
      "  6%|▋         | 345/5424 [04:35<1:07:39,  1.25it/s]\u001b[A\n",
      "  6%|▋         | 347/5424 [04:36<1:07:21,  1.26it/s]\u001b[A\n",
      "  6%|▋         | 348/5424 [04:36<1:07:10,  1.26it/s]\u001b[A\n",
      "  6%|▋         | 349/5424 [04:37<1:07:08,  1.26it/s]\u001b[A\n",
      "  6%|▋         | 350/5424 [04:37<1:07:01,  1.26it/s]\u001b[A\n",
      "  6%|▋         | 351/5424 [04:38<1:06:59,  1.26it/s]\u001b[A\n",
      "  6%|▋         | 352/5424 [04:38<1:06:50,  1.26it/s]\u001b[A\n",
      "  7%|▋         | 353/5424 [04:38<1:06:47,  1.27it/s]\u001b[A\n",
      "  7%|▋         | 354/5424 [04:39<1:06:39,  1.27it/s]\u001b[A\n",
      "  7%|▋         | 356/5424 [04:39<1:06:19,  1.27it/s]\u001b[A\n",
      "  7%|▋         | 357/5424 [04:39<1:06:13,  1.28it/s]\u001b[A\n",
      "  7%|▋         | 358/5424 [04:40<1:06:03,  1.28it/s]\u001b[A\n",
      "  7%|▋         | 359/5424 [04:42<1:06:21,  1.27it/s]\u001b[A\n",
      "  7%|▋         | 360/5424 [04:44<1:06:43,  1.27it/s]\u001b[A\n",
      "  7%|▋         | 361/5424 [04:45<1:06:37,  1.27it/s]\u001b[A\n",
      "  7%|▋         | 363/5424 [04:45<1:06:21,  1.27it/s]\u001b[A\n",
      "  7%|▋         | 364/5424 [04:45<1:06:11,  1.27it/s]\u001b[A\n",
      "  7%|▋         | 365/5424 [04:46<1:06:05,  1.28it/s]\u001b[A\n",
      "  7%|▋         | 366/5424 [04:46<1:06:00,  1.28it/s]\u001b[A\n",
      "  7%|▋         | 367/5424 [04:46<1:05:51,  1.28it/s]\u001b[A\n",
      "  7%|▋         | 369/5424 [04:47<1:05:34,  1.28it/s]\u001b[A\n",
      "  7%|▋         | 370/5424 [04:47<1:05:26,  1.29it/s]\u001b[A\n",
      "  7%|▋         | 372/5424 [04:47<1:05:07,  1.29it/s]\u001b[A\n",
      "  7%|▋         | 373/5424 [04:48<1:05:03,  1.29it/s]\u001b[A\n",
      "  7%|▋         | 374/5424 [04:48<1:04:57,  1.30it/s]\u001b[A\n",
      "  7%|▋         | 375/5424 [04:48<1:04:50,  1.30it/s]\u001b[A\n",
      "  7%|▋         | 376/5424 [04:49<1:04:45,  1.30it/s]\u001b[A\n",
      "  7%|▋         | 378/5424 [04:49<1:04:28,  1.30it/s]\u001b[A\n",
      "  7%|▋         | 380/5424 [04:50<1:04:10,  1.31it/s]\u001b[A\n",
      "  7%|▋         | 381/5424 [04:50<1:04:02,  1.31it/s]\u001b[A\n",
      "  7%|▋         | 382/5424 [04:52<1:04:14,  1.31it/s]\u001b[A\n",
      "  7%|▋         | 383/5424 [04:52<1:04:08,  1.31it/s]\u001b[A\n",
      "  7%|▋         | 384/5424 [04:52<1:04:00,  1.31it/s]\u001b[A\n",
      "  7%|▋         | 385/5424 [04:52<1:03:51,  1.32it/s]\u001b[A\n",
      "  7%|▋         | 386/5424 [04:52<1:03:43,  1.32it/s]\u001b[A\n",
      "  7%|▋         | 387/5424 [04:53<1:03:41,  1.32it/s]\u001b[A\n",
      "  7%|▋         | 388/5424 [04:54<1:03:36,  1.32it/s]\u001b[A\n",
      "  7%|▋         | 389/5424 [04:54<1:03:28,  1.32it/s]\u001b[A\n",
      "  7%|▋         | 390/5424 [04:54<1:03:24,  1.32it/s]\u001b[A\n",
      "  7%|▋         | 391/5424 [04:55<1:03:23,  1.32it/s]\u001b[A\n",
      "  7%|▋         | 392/5424 [04:56<1:03:20,  1.32it/s]\u001b[A\n",
      "  7%|▋         | 393/5424 [04:56<1:03:14,  1.33it/s]\u001b[A\n",
      "  7%|▋         | 394/5424 [04:56<1:03:07,  1.33it/s]\u001b[A\n",
      "  7%|▋         | 395/5424 [04:57<1:03:01,  1.33it/s]\u001b[A\n",
      "  7%|▋         | 397/5424 [05:00<1:03:21,  1.32it/s]\u001b[A\n",
      "  7%|▋         | 398/5424 [05:00<1:03:15,  1.32it/s]\u001b[A\n",
      "  7%|▋         | 399/5424 [05:02<1:03:33,  1.32it/s]\u001b[A\n",
      "  7%|▋         | 400/5424 [05:03<1:03:28,  1.32it/s]\u001b[A\n",
      "  7%|▋         | 401/5424 [05:03<1:03:27,  1.32it/s]\u001b[A\n",
      "  7%|▋         | 402/5424 [05:04<1:03:18,  1.32it/s]\u001b[A\n",
      "  7%|▋         | 403/5424 [05:04<1:03:12,  1.32it/s]\u001b[A\n",
      "  7%|▋         | 405/5424 [05:05<1:03:00,  1.33it/s]\u001b[A\n",
      "  7%|▋         | 406/5424 [05:05<1:02:54,  1.33it/s]\u001b[A\n",
      "  8%|▊         | 407/5424 [05:05<1:02:45,  1.33it/s]\u001b[A\n",
      "  8%|▊         | 408/5424 [05:10<1:03:32,  1.32it/s]\u001b[A\n",
      "  8%|▊         | 409/5424 [05:10<1:03:28,  1.32it/s]\u001b[A\n",
      "  8%|▊         | 410/5424 [05:10<1:03:22,  1.32it/s]\u001b[A\n",
      "  8%|▊         | 411/5424 [05:11<1:03:25,  1.32it/s]\u001b[A\n",
      "  8%|▊         | 412/5424 [05:12<1:03:19,  1.32it/s]\u001b[A\n",
      "  8%|▊         | 413/5424 [05:12<1:03:15,  1.32it/s]\u001b[A\n",
      "  8%|▊         | 414/5424 [05:17<1:03:57,  1.31it/s]\u001b[A\n",
      "  8%|▊         | 415/5424 [05:17<1:03:48,  1.31it/s]\u001b[A\n",
      "  8%|▊         | 416/5424 [05:17<1:03:42,  1.31it/s]\u001b[A\n",
      "  8%|▊         | 417/5424 [05:18<1:03:38,  1.31it/s]\u001b[A\n",
      "  8%|▊         | 418/5424 [05:18<1:03:30,  1.31it/s]\u001b[A\n",
      "  8%|▊         | 419/5424 [05:18<1:03:22,  1.32it/s]\u001b[A\n",
      "  8%|▊         | 420/5424 [05:18<1:03:14,  1.32it/s]\u001b[A\n",
      "  8%|▊         | 421/5424 [05:18<1:03:06,  1.32it/s]\u001b[A\n",
      "  8%|▊         | 422/5424 [05:19<1:03:03,  1.32it/s]\u001b[A\n",
      "  8%|▊         | 423/5424 [05:19<1:02:54,  1.32it/s]\u001b[A\n",
      "  8%|▊         | 424/5424 [05:25<1:03:57,  1.30it/s]\u001b[A\n",
      "  8%|▊         | 426/5424 [05:27<1:04:00,  1.30it/s]\u001b[A\n",
      "  8%|▊         | 427/5424 [05:27<1:03:55,  1.30it/s]\u001b[A\n",
      "  8%|▊         | 428/5424 [05:28<1:03:49,  1.30it/s]\u001b[A\n",
      "  8%|▊         | 429/5424 [05:28<1:03:42,  1.31it/s]\u001b[A\n",
      "  8%|▊         | 430/5424 [05:28<1:03:36,  1.31it/s]\u001b[A\n",
      "  8%|▊         | 431/5424 [05:29<1:03:31,  1.31it/s]\u001b[A\n",
      "  8%|▊         | 432/5424 [05:29<1:03:25,  1.31it/s]\u001b[A\n",
      "  8%|▊         | 433/5424 [05:33<1:04:02,  1.30it/s]\u001b[A\n",
      "  8%|▊         | 434/5424 [05:33<1:03:56,  1.30it/s]\u001b[A\n",
      "  8%|▊         | 435/5424 [05:34<1:03:53,  1.30it/s]\u001b[A\n",
      "  8%|▊         | 436/5424 [05:38<1:04:33,  1.29it/s]\u001b[A\n",
      "  8%|▊         | 437/5424 [05:38<1:04:27,  1.29it/s]\u001b[A\n",
      "  8%|▊         | 438/5424 [05:39<1:04:19,  1.29it/s]\u001b[A\n",
      "  8%|▊         | 439/5424 [05:39<1:04:14,  1.29it/s]\u001b[A\n",
      "  8%|▊         | 440/5424 [05:39<1:04:07,  1.30it/s]\u001b[A\n",
      "  8%|▊         | 441/5424 [05:40<1:04:04,  1.30it/s]\u001b[A\n",
      "  8%|▊         | 442/5424 [05:40<1:03:58,  1.30it/s]\u001b[A\n",
      "  8%|▊         | 443/5424 [05:40<1:03:51,  1.30it/s]\u001b[A\n",
      "  8%|▊         | 444/5424 [05:41<1:03:45,  1.30it/s]\u001b[A\n",
      "  8%|▊         | 445/5424 [05:42<1:03:55,  1.30it/s]\u001b[A\n",
      "  8%|▊         | 446/5424 [05:43<1:03:51,  1.30it/s]\u001b[A\n",
      "  8%|▊         | 447/5424 [05:44<1:03:56,  1.30it/s]\u001b[A\n",
      "  8%|▊         | 449/5424 [05:44<1:03:39,  1.30it/s]\u001b[A\n",
      "  8%|▊         | 450/5424 [05:48<1:04:12,  1.29it/s]\u001b[A\n",
      "  8%|▊         | 451/5424 [05:48<1:04:04,  1.29it/s]\u001b[A\n",
      "  8%|▊         | 452/5424 [05:48<1:03:58,  1.30it/s]\u001b[A\n",
      "  8%|▊         | 453/5424 [05:49<1:03:51,  1.30it/s]\u001b[A\n",
      "  8%|▊         | 454/5424 [05:49<1:03:48,  1.30it/s]\u001b[A\n",
      "  8%|▊         | 455/5424 [05:50<1:03:44,  1.30it/s]\u001b[A\n",
      "  8%|▊         | 456/5424 [05:50<1:03:37,  1.30it/s]\u001b[A\n",
      "  8%|▊         | 457/5424 [05:50<1:03:33,  1.30it/s]\u001b[A\n",
      "  8%|▊         | 458/5424 [05:51<1:03:27,  1.30it/s]\u001b[A\n",
      "  8%|▊         | 459/5424 [05:51<1:03:22,  1.31it/s]\u001b[A\n",
      "  8%|▊         | 460/5424 [05:51<1:03:16,  1.31it/s]\u001b[A\n",
      "  8%|▊         | 461/5424 [05:52<1:03:10,  1.31it/s]\u001b[A\n",
      "  9%|▊         | 463/5424 [05:52<1:02:55,  1.31it/s]\u001b[A\n",
      "  9%|▊         | 464/5424 [05:54<1:03:05,  1.31it/s]\u001b[A\n",
      "  9%|▊         | 465/5424 [05:54<1:02:58,  1.31it/s]\u001b[A\n",
      "  9%|▊         | 466/5424 [05:54<1:02:55,  1.31it/s]\u001b[A\n",
      "  9%|▊         | 467/5424 [05:55<1:02:48,  1.32it/s]\u001b[A\n",
      "  9%|▊         | 468/5424 [05:55<1:02:43,  1.32it/s]\u001b[A\n",
      "  9%|▊         | 469/5424 [05:55<1:02:36,  1.32it/s]\u001b[A\n",
      "  9%|▊         | 470/5424 [05:56<1:02:33,  1.32it/s]\u001b[A\n",
      "  9%|▊         | 471/5424 [05:56<1:02:29,  1.32it/s]\u001b[A\n",
      "  9%|▊         | 472/5424 [05:56<1:02:24,  1.32it/s]\u001b[A\n",
      "  9%|▊         | 473/5424 [05:57<1:02:17,  1.32it/s]\u001b[A\n",
      "  9%|▊         | 474/5424 [05:57<1:02:13,  1.33it/s]\u001b[A\n",
      "  9%|▉         | 475/5424 [05:57<1:02:07,  1.33it/s]\u001b[A\n",
      "  9%|▉         | 478/5424 [05:58<1:01:44,  1.33it/s]\u001b[A\n",
      "  9%|▉         | 479/5424 [05:58<1:01:40,  1.34it/s]\u001b[A\n",
      "  9%|▉         | 480/5424 [05:58<1:01:35,  1.34it/s]\u001b[A\n",
      "  9%|▉         | 482/5424 [05:59<1:01:25,  1.34it/s]\u001b[A\n",
      "  9%|▉         | 483/5424 [05:59<1:01:18,  1.34it/s]\u001b[A\n",
      "  9%|▉         | 484/5424 [05:59<1:01:11,  1.35it/s]\u001b[A\n",
      "  9%|▉         | 485/5424 [06:00<1:01:09,  1.35it/s]\u001b[A\n",
      "  9%|▉         | 486/5424 [06:05<1:01:54,  1.33it/s]\u001b[A\n",
      "  9%|▉         | 487/5424 [06:05<1:01:49,  1.33it/s]\u001b[A\n"
     ]
    },
    {
     "name": "stderr",
     "output_type": "stream",
     "text": [
      "  9%|▉         | 488/5424 [06:06<1:01:48,  1.33it/s]\u001b[A\n",
      "  9%|▉         | 489/5424 [06:07<1:01:44,  1.33it/s]\u001b[A\n",
      "  9%|▉         | 490/5424 [06:07<1:01:40,  1.33it/s]\u001b[A\n",
      "  9%|▉         | 491/5424 [06:07<1:01:33,  1.34it/s]\u001b[A\n",
      "  9%|▉         | 492/5424 [06:08<1:01:30,  1.34it/s]\u001b[A\n",
      "  9%|▉         | 493/5424 [06:08<1:01:25,  1.34it/s]\u001b[A\n",
      "  9%|▉         | 494/5424 [06:08<1:01:22,  1.34it/s]\u001b[A\n",
      "  9%|▉         | 495/5424 [06:09<1:01:17,  1.34it/s]\u001b[A\n",
      "  9%|▉         | 496/5424 [06:09<1:01:13,  1.34it/s]\u001b[A\n",
      "  9%|▉         | 497/5424 [06:10<1:01:09,  1.34it/s]\u001b[A\n",
      "  9%|▉         | 498/5424 [06:10<1:01:04,  1.34it/s]\u001b[A\n",
      "  9%|▉         | 500/5424 [06:10<1:00:50,  1.35it/s]\u001b[A\n",
      "  9%|▉         | 501/5424 [06:11<1:00:46,  1.35it/s]\u001b[A\n",
      "  9%|▉         | 503/5424 [06:11<1:00:34,  1.35it/s]\u001b[A\n",
      "  9%|▉         | 504/5424 [06:11<1:00:28,  1.36it/s]\u001b[A\n",
      "  9%|▉         | 505/5424 [06:11<1:00:22,  1.36it/s]\u001b[A\n",
      "  9%|▉         | 506/5424 [06:12<1:00:16,  1.36it/s]\u001b[A\n",
      "  9%|▉         | 507/5424 [06:12<1:00:12,  1.36it/s]\u001b[A\n",
      "  9%|▉         | 508/5424 [06:12<1:00:06,  1.36it/s]\u001b[A\n",
      "  9%|▉         | 509/5424 [06:12<1:00:00,  1.36it/s]\u001b[A\n",
      "  9%|▉         | 510/5424 [06:13<59:57,  1.37it/s]  \u001b[A\n",
      "  9%|▉         | 511/5424 [06:13<59:52,  1.37it/s]\u001b[A\n",
      "  9%|▉         | 512/5424 [06:13<59:47,  1.37it/s]\u001b[A\n",
      "  9%|▉         | 513/5424 [06:14<59:41,  1.37it/s]\u001b[A\n",
      "  9%|▉         | 515/5424 [06:14<59:27,  1.38it/s]\u001b[A\n",
      " 10%|▉         | 517/5424 [06:14<59:16,  1.38it/s]\u001b[A\n",
      " 10%|▉         | 518/5424 [06:14<59:10,  1.38it/s]\u001b[A\n",
      " 10%|▉         | 520/5424 [06:15<59:00,  1.38it/s]\u001b[A\n",
      " 10%|▉         | 522/5424 [06:15<58:47,  1.39it/s]\u001b[A\n",
      " 10%|▉         | 523/5424 [06:15<58:40,  1.39it/s]\u001b[A\n",
      " 10%|▉         | 524/5424 [06:17<58:53,  1.39it/s]\u001b[A\n",
      " 10%|▉         | 525/5424 [06:18<58:48,  1.39it/s]\u001b[A\n",
      " 10%|▉         | 526/5424 [06:18<58:44,  1.39it/s]\u001b[A\n",
      " 10%|▉         | 527/5424 [06:18<58:38,  1.39it/s]\u001b[A\n",
      " 10%|▉         | 528/5424 [06:18<58:33,  1.39it/s]\u001b[A\n",
      " 10%|▉         | 530/5424 [06:19<58:20,  1.40it/s]\u001b[A\n",
      " 10%|▉         | 532/5424 [06:19<58:09,  1.40it/s]\u001b[A\n",
      " 10%|▉         | 534/5424 [06:19<57:57,  1.41it/s]\u001b[A\n",
      " 10%|▉         | 535/5424 [06:19<57:52,  1.41it/s]\u001b[A\n",
      " 10%|▉         | 536/5424 [06:20<57:47,  1.41it/s]\u001b[A\n",
      " 10%|▉         | 537/5424 [06:20<57:43,  1.41it/s]\u001b[A\n",
      " 10%|▉         | 539/5424 [06:20<57:30,  1.42it/s]\u001b[A\n",
      " 10%|▉         | 540/5424 [06:21<57:27,  1.42it/s]\u001b[A\n",
      " 10%|▉         | 541/5424 [06:21<57:21,  1.42it/s]\u001b[A\n",
      " 10%|█         | 543/5424 [06:21<57:11,  1.42it/s]\u001b[A\n",
      " 10%|█         | 544/5424 [06:22<57:07,  1.42it/s]\u001b[A\n",
      " 10%|█         | 545/5424 [06:22<57:02,  1.43it/s]\u001b[A\n",
      " 10%|█         | 546/5424 [06:23<57:04,  1.42it/s]\u001b[A\n",
      " 10%|█         | 547/5424 [06:23<56:59,  1.43it/s]\u001b[A\n",
      " 10%|█         | 548/5424 [06:23<56:53,  1.43it/s]\u001b[A\n",
      " 10%|█         | 549/5424 [06:23<56:48,  1.43it/s]\u001b[A\n",
      " 10%|█         | 550/5424 [06:23<56:42,  1.43it/s]\u001b[A\n",
      " 10%|█         | 552/5424 [06:24<56:32,  1.44it/s]\u001b[A\n",
      " 10%|█         | 553/5424 [06:24<56:29,  1.44it/s]\u001b[A\n",
      " 10%|█         | 554/5424 [06:24<56:23,  1.44it/s]\u001b[A\n",
      " 10%|█         | 556/5424 [06:25<56:13,  1.44it/s]\u001b[A\n",
      " 10%|█         | 557/5424 [06:26<56:14,  1.44it/s]\u001b[A\n",
      " 10%|█         | 559/5424 [06:26<56:05,  1.45it/s]\u001b[A\n",
      " 10%|█         | 560/5424 [06:26<56:00,  1.45it/s]\u001b[A\n",
      " 10%|█         | 561/5424 [06:27<55:57,  1.45it/s]\u001b[A\n",
      " 10%|█         | 562/5424 [06:27<55:55,  1.45it/s]\u001b[A\n",
      " 10%|█         | 563/5424 [06:28<55:50,  1.45it/s]\u001b[A\n",
      " 10%|█         | 564/5424 [06:28<55:45,  1.45it/s]\u001b[A\n",
      " 10%|█         | 565/5424 [06:28<55:41,  1.45it/s]\u001b[A\n",
      " 10%|█         | 566/5424 [06:28<55:38,  1.46it/s]\u001b[A\n",
      " 10%|█         | 567/5424 [06:29<55:34,  1.46it/s]\u001b[A\n",
      " 10%|█         | 568/5424 [06:29<55:30,  1.46it/s]\u001b[A\n",
      " 10%|█         | 569/5424 [06:29<55:27,  1.46it/s]\u001b[A\n",
      " 11%|█         | 570/5424 [06:30<55:22,  1.46it/s]\u001b[A\n",
      " 11%|█         | 572/5424 [06:30<55:11,  1.47it/s]\u001b[A\n",
      " 11%|█         | 573/5424 [06:30<55:08,  1.47it/s]\u001b[A\n",
      " 11%|█         | 574/5424 [06:31<55:04,  1.47it/s]\u001b[A\n",
      " 11%|█         | 575/5424 [06:31<55:01,  1.47it/s]\u001b[A\n",
      " 11%|█         | 576/5424 [06:31<54:57,  1.47it/s]\u001b[A\n",
      " 11%|█         | 577/5424 [06:32<54:53,  1.47it/s]\u001b[A\n",
      " 11%|█         | 578/5424 [06:32<54:47,  1.47it/s]\u001b[A\n",
      " 11%|█         | 579/5424 [06:33<54:51,  1.47it/s]\u001b[A\n",
      " 11%|█         | 582/5424 [06:33<54:36,  1.48it/s]\u001b[A\n",
      " 11%|█         | 584/5424 [06:33<54:24,  1.48it/s]\u001b[A\n",
      " 11%|█         | 585/5424 [06:34<54:21,  1.48it/s]\u001b[A\n",
      " 11%|█         | 586/5424 [06:34<54:17,  1.49it/s]\u001b[A\n",
      " 11%|█         | 587/5424 [06:34<54:14,  1.49it/s]\u001b[A\n",
      " 11%|█         | 588/5424 [06:35<54:10,  1.49it/s]\u001b[A\n",
      " 11%|█         | 589/5424 [06:35<54:09,  1.49it/s]\u001b[A\n",
      " 11%|█         | 590/5424 [06:36<54:06,  1.49it/s]\u001b[A\n",
      " 11%|█         | 591/5424 [06:36<54:05,  1.49it/s]\u001b[A\n",
      " 11%|█         | 592/5424 [06:37<54:01,  1.49it/s]\u001b[A\n",
      " 11%|█         | 593/5424 [06:37<53:59,  1.49it/s]\u001b[A\n",
      " 11%|█         | 594/5424 [06:37<53:55,  1.49it/s]\u001b[A\n",
      " 11%|█         | 595/5424 [06:40<54:11,  1.49it/s]\u001b[A\n",
      " 11%|█         | 596/5424 [06:40<54:06,  1.49it/s]\u001b[A\n",
      " 11%|█         | 597/5424 [06:40<54:01,  1.49it/s]\u001b[A\n",
      " 11%|█         | 598/5424 [06:41<53:57,  1.49it/s]\u001b[A\n",
      " 11%|█         | 599/5424 [06:41<53:53,  1.49it/s]\u001b[A\n",
      " 11%|█         | 600/5424 [06:41<53:51,  1.49it/s]\u001b[A\n",
      " 11%|█         | 601/5424 [06:42<53:48,  1.49it/s]\u001b[A\n",
      " 11%|█         | 602/5424 [06:42<53:45,  1.50it/s]\u001b[A\n",
      " 11%|█         | 603/5424 [06:42<53:40,  1.50it/s]\u001b[A\n",
      " 11%|█         | 604/5424 [06:42<53:35,  1.50it/s]\u001b[A\n",
      " 11%|█         | 605/5424 [06:43<53:31,  1.50it/s]\u001b[A\n",
      " 11%|█         | 606/5424 [06:43<53:28,  1.50it/s]\u001b[A\n",
      " 11%|█         | 607/5424 [06:43<53:23,  1.50it/s]\u001b[A\n",
      " 11%|█         | 608/5424 [06:43<53:19,  1.51it/s]\u001b[A\n",
      " 11%|█         | 609/5424 [06:44<53:16,  1.51it/s]\u001b[A\n",
      " 11%|█         | 610/5424 [06:44<53:14,  1.51it/s]\u001b[A\n",
      " 11%|█▏        | 611/5424 [06:45<53:12,  1.51it/s]\u001b[A\n",
      " 11%|█▏        | 612/5424 [06:45<53:07,  1.51it/s]\u001b[A\n",
      " 11%|█▏        | 613/5424 [06:46<53:08,  1.51it/s]\u001b[A\n",
      " 11%|█▏        | 614/5424 [06:46<53:03,  1.51it/s]\u001b[A\n",
      " 11%|█▏        | 615/5424 [06:46<53:00,  1.51it/s]\u001b[A\n",
      " 11%|█▏        | 616/5424 [06:46<52:56,  1.51it/s]\u001b[A\n",
      " 11%|█▏        | 617/5424 [06:47<52:52,  1.52it/s]\u001b[A\n",
      " 11%|█▏        | 618/5424 [06:47<52:48,  1.52it/s]\u001b[A\n",
      " 11%|█▏        | 620/5424 [06:49<52:52,  1.51it/s]\u001b[A\n",
      " 11%|█▏        | 621/5424 [06:49<52:48,  1.52it/s]\u001b[A\n",
      " 11%|█▏        | 622/5424 [06:50<52:45,  1.52it/s]\u001b[A\n",
      " 11%|█▏        | 623/5424 [06:50<52:42,  1.52it/s]\u001b[A\n",
      " 12%|█▏        | 624/5424 [06:50<52:40,  1.52it/s]\u001b[A\n",
      " 12%|█▏        | 625/5424 [06:51<52:36,  1.52it/s]\u001b[A\n",
      " 12%|█▏        | 626/5424 [06:51<52:32,  1.52it/s]\u001b[A\n",
      " 12%|█▏        | 627/5424 [06:51<52:28,  1.52it/s]\u001b[A\n",
      " 12%|█▏        | 628/5424 [06:51<52:26,  1.52it/s]\u001b[A\n",
      " 12%|█▏        | 630/5424 [06:52<52:17,  1.53it/s]\u001b[A\n",
      " 12%|█▏        | 631/5424 [06:52<52:13,  1.53it/s]\u001b[A\n",
      " 12%|█▏        | 632/5424 [06:53<52:13,  1.53it/s]\u001b[A\n",
      " 12%|█▏        | 633/5424 [06:53<52:09,  1.53it/s]\u001b[A\n",
      " 12%|█▏        | 634/5424 [06:53<52:05,  1.53it/s]\u001b[A\n",
      " 12%|█▏        | 635/5424 [06:54<52:04,  1.53it/s]\u001b[A\n",
      " 12%|█▏        | 636/5424 [06:55<52:04,  1.53it/s]\u001b[A\n",
      " 12%|█▏        | 638/5424 [06:55<51:56,  1.54it/s]\u001b[A\n",
      " 12%|█▏        | 639/5424 [06:55<51:53,  1.54it/s]\u001b[A\n",
      " 12%|█▏        | 640/5424 [06:55<51:48,  1.54it/s]\u001b[A\n",
      " 12%|█▏        | 641/5424 [06:56<51:45,  1.54it/s]\u001b[A\n",
      " 12%|█▏        | 642/5424 [06:56<51:43,  1.54it/s]\u001b[A\n",
      " 12%|█▏        | 643/5424 [06:56<51:39,  1.54it/s]\u001b[A\n",
      " 12%|█▏        | 645/5424 [06:57<51:30,  1.55it/s]\u001b[A\n",
      " 12%|█▏        | 646/5424 [06:57<51:26,  1.55it/s]\u001b[A\n",
      " 12%|█▏        | 647/5424 [06:57<51:22,  1.55it/s]\u001b[A\n",
      " 12%|█▏        | 648/5424 [06:57<51:19,  1.55it/s]\u001b[A\n",
      " 12%|█▏        | 649/5424 [06:58<51:16,  1.55it/s]\u001b[A\n",
      " 12%|█▏        | 650/5424 [06:58<51:12,  1.55it/s]\u001b[A\n",
      " 12%|█▏        | 651/5424 [06:58<51:09,  1.56it/s]\u001b[A\n",
      " 12%|█▏        | 653/5424 [06:59<51:02,  1.56it/s]\u001b[A\n",
      " 12%|█▏        | 655/5424 [06:59<50:54,  1.56it/s]\u001b[A\n",
      " 12%|█▏        | 656/5424 [06:59<50:52,  1.56it/s]\u001b[A\n",
      " 12%|█▏        | 657/5424 [07:00<50:49,  1.56it/s]\u001b[A\n",
      " 12%|█▏        | 658/5424 [07:00<50:46,  1.56it/s]\u001b[A\n",
      " 12%|█▏        | 659/5424 [07:00<50:42,  1.57it/s]\u001b[A\n",
      " 12%|█▏        | 660/5424 [07:00<50:38,  1.57it/s]\u001b[A\n",
      " 12%|█▏        | 661/5424 [07:01<50:36,  1.57it/s]\u001b[A\n"
     ]
    },
    {
     "name": "stderr",
     "output_type": "stream",
     "text": [
      " 12%|█▏        | 662/5424 [07:01<50:33,  1.57it/s]\u001b[A\n",
      " 12%|█▏        | 663/5424 [07:02<50:34,  1.57it/s]\u001b[A\n",
      " 12%|█▏        | 664/5424 [07:03<50:32,  1.57it/s]\u001b[A\n",
      " 12%|█▏        | 665/5424 [07:03<50:29,  1.57it/s]\u001b[A\n",
      " 12%|█▏        | 666/5424 [07:03<50:25,  1.57it/s]\u001b[A\n",
      " 12%|█▏        | 668/5424 [07:03<50:18,  1.58it/s]\u001b[A\n",
      " 12%|█▏        | 670/5424 [07:04<50:10,  1.58it/s]\u001b[A\n",
      " 12%|█▏        | 671/5424 [07:04<50:09,  1.58it/s]\u001b[A\n",
      " 12%|█▏        | 673/5424 [07:05<50:01,  1.58it/s]\u001b[A\n",
      " 12%|█▏        | 674/5424 [07:05<49:59,  1.58it/s]\u001b[A\n",
      " 12%|█▏        | 675/5424 [07:05<49:56,  1.58it/s]\u001b[A\n",
      " 12%|█▏        | 676/5424 [07:06<49:53,  1.59it/s]\u001b[A\n",
      " 12%|█▏        | 677/5424 [07:06<49:50,  1.59it/s]\u001b[A\n",
      " 13%|█▎        | 679/5424 [07:06<49:40,  1.59it/s]\u001b[A\n",
      " 13%|█▎        | 680/5424 [07:06<49:37,  1.59it/s]\u001b[A\n",
      " 13%|█▎        | 681/5424 [07:07<49:34,  1.59it/s]\u001b[A\n",
      " 13%|█▎        | 682/5424 [07:07<49:31,  1.60it/s]\u001b[A\n",
      " 13%|█▎        | 684/5424 [07:07<49:24,  1.60it/s]\u001b[A\n",
      " 13%|█▎        | 685/5424 [07:07<49:20,  1.60it/s]\u001b[A\n",
      " 13%|█▎        | 686/5424 [07:08<49:19,  1.60it/s]\u001b[A\n",
      " 13%|█▎        | 687/5424 [07:08<49:16,  1.60it/s]\u001b[A\n",
      " 13%|█▎        | 688/5424 [07:09<49:13,  1.60it/s]\u001b[A\n",
      " 13%|█▎        | 689/5424 [07:09<49:10,  1.60it/s]\u001b[A\n",
      " 13%|█▎        | 690/5424 [07:10<49:10,  1.60it/s]\u001b[A\n",
      " 13%|█▎        | 691/5424 [07:10<49:07,  1.61it/s]\u001b[A\n",
      " 13%|█▎        | 692/5424 [07:10<49:05,  1.61it/s]\u001b[A\n",
      " 13%|█▎        | 693/5424 [07:10<49:01,  1.61it/s]\u001b[A\n",
      " 13%|█▎        | 694/5424 [07:11<48:57,  1.61it/s]\u001b[A\n",
      " 13%|█▎        | 695/5424 [07:11<48:54,  1.61it/s]\u001b[A\n",
      " 13%|█▎        | 697/5424 [07:11<48:47,  1.61it/s]\u001b[A\n",
      " 13%|█▎        | 698/5424 [07:11<48:43,  1.62it/s]\u001b[A\n",
      " 13%|█▎        | 699/5424 [07:12<48:41,  1.62it/s]\u001b[A\n",
      " 13%|█▎        | 700/5424 [07:12<48:38,  1.62it/s]\u001b[A\n",
      " 13%|█▎        | 701/5424 [07:12<48:35,  1.62it/s]\u001b[A\n",
      " 13%|█▎        | 702/5424 [07:13<48:32,  1.62it/s]\u001b[A\n",
      " 13%|█▎        | 703/5424 [07:13<48:29,  1.62it/s]\u001b[A\n",
      " 13%|█▎        | 704/5424 [07:13<48:27,  1.62it/s]\u001b[A\n",
      " 13%|█▎        | 705/5424 [07:13<48:24,  1.62it/s]\u001b[A\n",
      " 13%|█▎        | 706/5424 [07:14<48:23,  1.63it/s]\u001b[A\n",
      " 13%|█▎        | 707/5424 [07:14<48:20,  1.63it/s]\u001b[A\n",
      " 13%|█▎        | 708/5424 [07:14<48:16,  1.63it/s]\u001b[A\n",
      " 13%|█▎        | 709/5424 [07:15<48:13,  1.63it/s]\u001b[A\n",
      " 13%|█▎        | 710/5424 [07:15<48:13,  1.63it/s]\u001b[A\n",
      " 13%|█▎        | 711/5424 [07:16<48:11,  1.63it/s]\u001b[A\n",
      " 13%|█▎        | 712/5424 [07:16<48:08,  1.63it/s]\u001b[A\n",
      " 13%|█▎        | 713/5424 [07:16<48:05,  1.63it/s]\u001b[A\n",
      " 13%|█▎        | 714/5424 [07:16<48:01,  1.63it/s]\u001b[A\n",
      " 13%|█▎        | 715/5424 [07:17<48:01,  1.63it/s]\u001b[A\n",
      " 13%|█▎        | 716/5424 [07:17<47:59,  1.64it/s]\u001b[A\n",
      " 13%|█▎        | 720/5424 [07:18<47:44,  1.64it/s]\u001b[A\n",
      " 13%|█▎        | 721/5424 [07:18<47:40,  1.64it/s]\u001b[A\n",
      " 13%|█▎        | 722/5424 [07:18<47:37,  1.65it/s]\u001b[A\n",
      " 13%|█▎        | 723/5424 [07:18<47:34,  1.65it/s]\u001b[A\n",
      " 13%|█▎        | 725/5424 [07:19<47:27,  1.65it/s]\u001b[A\n",
      " 13%|█▎        | 726/5424 [07:19<47:24,  1.65it/s]\u001b[A\n",
      " 13%|█▎        | 727/5424 [07:19<47:21,  1.65it/s]\u001b[A\n",
      " 13%|█▎        | 728/5424 [07:20<47:19,  1.65it/s]\u001b[A\n",
      " 13%|█▎        | 729/5424 [07:20<47:16,  1.66it/s]\u001b[A\n",
      " 13%|█▎        | 730/5424 [07:20<47:14,  1.66it/s]\u001b[A\n",
      " 13%|█▎        | 731/5424 [07:21<47:11,  1.66it/s]\u001b[A\n",
      " 13%|█▎        | 732/5424 [07:21<47:07,  1.66it/s]\u001b[A\n",
      " 14%|█▎        | 733/5424 [07:21<47:06,  1.66it/s]\u001b[A\n",
      " 14%|█▎        | 734/5424 [07:21<47:02,  1.66it/s]\u001b[A\n",
      " 14%|█▎        | 735/5424 [07:22<47:00,  1.66it/s]\u001b[A\n",
      " 14%|█▎        | 736/5424 [07:22<46:57,  1.66it/s]\u001b[A\n",
      " 14%|█▎        | 738/5424 [07:22<46:50,  1.67it/s]\u001b[A\n",
      " 14%|█▎        | 740/5424 [07:23<46:44,  1.67it/s]\u001b[A\n",
      " 14%|█▎        | 741/5424 [07:23<46:41,  1.67it/s]\u001b[A\n",
      " 14%|█▎        | 742/5424 [07:23<46:38,  1.67it/s]\u001b[A\n",
      " 14%|█▎        | 743/5424 [07:23<46:35,  1.67it/s]\u001b[A\n",
      " 14%|█▎        | 744/5424 [07:24<46:33,  1.68it/s]\u001b[A\n",
      " 14%|█▎        | 745/5424 [07:24<46:31,  1.68it/s]\u001b[A\n",
      " 14%|█▍        | 746/5424 [07:24<46:29,  1.68it/s]\u001b[A\n",
      " 14%|█▍        | 747/5424 [07:24<46:26,  1.68it/s]\u001b[A\n",
      " 14%|█▍        | 748/5424 [07:25<46:23,  1.68it/s]\u001b[A\n",
      " 14%|█▍        | 749/5424 [07:25<46:20,  1.68it/s]\u001b[A\n",
      " 14%|█▍        | 750/5424 [07:25<46:17,  1.68it/s]\u001b[A\n",
      " 14%|█▍        | 751/5424 [07:27<46:25,  1.68it/s]\u001b[A\n",
      " 14%|█▍        | 753/5424 [07:28<46:20,  1.68it/s]\u001b[A\n",
      " 14%|█▍        | 754/5424 [07:28<46:17,  1.68it/s]\u001b[A\n",
      " 14%|█▍        | 755/5424 [07:28<46:15,  1.68it/s]\u001b[A\n",
      " 14%|█▍        | 756/5424 [07:29<46:12,  1.68it/s]\u001b[A\n",
      " 14%|█▍        | 757/5424 [07:29<46:10,  1.68it/s]\u001b[A\n",
      " 14%|█▍        | 758/5424 [07:29<46:08,  1.69it/s]\u001b[A\n",
      " 14%|█▍        | 759/5424 [07:30<46:06,  1.69it/s]\u001b[A\n",
      " 14%|█▍        | 760/5424 [07:30<46:04,  1.69it/s]\u001b[A\n",
      " 14%|█▍        | 761/5424 [07:30<46:02,  1.69it/s]\u001b[A\n",
      " 14%|█▍        | 762/5424 [07:31<45:59,  1.69it/s]\u001b[A\n",
      " 14%|█▍        | 763/5424 [07:31<45:57,  1.69it/s]\u001b[A\n",
      " 14%|█▍        | 764/5424 [07:32<46:01,  1.69it/s]\u001b[A\n",
      " 14%|█▍        | 766/5424 [07:33<45:55,  1.69it/s]\u001b[A\n",
      " 14%|█▍        | 767/5424 [07:33<45:51,  1.69it/s]\u001b[A\n",
      " 14%|█▍        | 768/5424 [07:33<45:49,  1.69it/s]\u001b[A\n",
      " 14%|█▍        | 770/5424 [07:33<45:42,  1.70it/s]\u001b[A\n",
      " 14%|█▍        | 771/5424 [07:33<45:39,  1.70it/s]\u001b[A\n",
      " 14%|█▍        | 772/5424 [07:34<45:37,  1.70it/s]\u001b[A\n",
      " 14%|█▍        | 773/5424 [07:34<45:34,  1.70it/s]\u001b[A\n",
      " 14%|█▍        | 774/5424 [07:34<45:32,  1.70it/s]\u001b[A\n",
      " 14%|█▍        | 776/5424 [07:35<45:27,  1.70it/s]\u001b[A\n",
      " 14%|█▍        | 777/5424 [07:35<45:25,  1.71it/s]\u001b[A\n",
      " 14%|█▍        | 778/5424 [07:36<45:23,  1.71it/s]\u001b[A\n",
      " 14%|█▍        | 779/5424 [07:36<45:21,  1.71it/s]\u001b[A\n",
      " 14%|█▍        | 780/5424 [07:36<45:19,  1.71it/s]\u001b[A\n",
      " 14%|█▍        | 783/5424 [07:37<45:09,  1.71it/s]\u001b[A\n",
      " 14%|█▍        | 784/5424 [07:37<45:06,  1.71it/s]\u001b[A\n",
      " 14%|█▍        | 785/5424 [07:37<45:03,  1.72it/s]\u001b[A\n",
      " 14%|█▍        | 786/5424 [07:37<45:02,  1.72it/s]\u001b[A\n",
      " 15%|█▍        | 787/5424 [07:38<45:00,  1.72it/s]\u001b[A\n",
      " 15%|█▍        | 789/5424 [07:38<44:53,  1.72it/s]\u001b[A\n",
      " 15%|█▍        | 790/5424 [07:38<44:50,  1.72it/s]\u001b[A\n",
      " 15%|█▍        | 791/5424 [07:39<44:48,  1.72it/s]\u001b[A\n",
      " 15%|█▍        | 792/5424 [07:39<44:46,  1.72it/s]\u001b[A\n",
      " 15%|█▍        | 794/5424 [07:39<44:39,  1.73it/s]\u001b[A\n",
      " 15%|█▍        | 795/5424 [07:39<44:37,  1.73it/s]\u001b[A\n",
      " 15%|█▍        | 796/5424 [07:40<44:35,  1.73it/s]\u001b[A\n",
      " 15%|█▍        | 797/5424 [07:40<44:32,  1.73it/s]\u001b[A\n",
      " 15%|█▍        | 798/5424 [07:40<44:31,  1.73it/s]\u001b[A\n",
      " 15%|█▍        | 799/5424 [07:42<44:35,  1.73it/s]\u001b[A\n",
      " 15%|█▍        | 801/5424 [07:42<44:27,  1.73it/s]\u001b[A\n",
      " 15%|█▍        | 802/5424 [07:42<44:25,  1.73it/s]\u001b[A\n",
      " 15%|█▍        | 803/5424 [07:43<44:25,  1.73it/s]\u001b[A\n",
      " 15%|█▍        | 805/5424 [07:43<44:19,  1.74it/s]\u001b[A\n",
      " 15%|█▍        | 806/5424 [07:43<44:16,  1.74it/s]\u001b[A\n",
      " 15%|█▍        | 807/5424 [07:43<44:14,  1.74it/s]\u001b[A\n",
      " 15%|█▍        | 808/5424 [07:44<44:12,  1.74it/s]\u001b[A\n",
      " 15%|█▍        | 810/5424 [07:44<44:07,  1.74it/s]\u001b[A\n",
      " 15%|█▍        | 811/5424 [07:45<44:05,  1.74it/s]\u001b[A\n",
      " 15%|█▍        | 812/5424 [07:45<44:03,  1.74it/s]\u001b[A\n",
      " 15%|█▍        | 813/5424 [07:45<44:00,  1.75it/s]\u001b[A\n",
      " 15%|█▌        | 814/5424 [07:45<43:57,  1.75it/s]\u001b[A\n",
      " 15%|█▌        | 815/5424 [07:45<43:55,  1.75it/s]\u001b[A\n",
      " 15%|█▌        | 816/5424 [07:46<43:53,  1.75it/s]\u001b[A\n",
      " 15%|█▌        | 817/5424 [07:46<43:51,  1.75it/s]\u001b[A\n",
      " 15%|█▌        | 818/5424 [07:47<43:49,  1.75it/s]\u001b[A\n",
      " 15%|█▌        | 819/5424 [07:47<43:48,  1.75it/s]\u001b[A\n",
      " 15%|█▌        | 820/5424 [07:47<43:46,  1.75it/s]\u001b[A\n",
      " 15%|█▌        | 821/5424 [07:47<43:43,  1.75it/s]\u001b[A\n",
      " 15%|█▌        | 822/5424 [07:48<43:42,  1.76it/s]\u001b[A\n",
      " 15%|█▌        | 823/5424 [07:48<43:39,  1.76it/s]\u001b[A\n",
      " 15%|█▌        | 824/5424 [07:48<43:37,  1.76it/s]\u001b[A\n",
      " 15%|█▌        | 825/5424 [07:49<43:35,  1.76it/s]\u001b[A\n",
      " 15%|█▌        | 826/5424 [07:49<43:35,  1.76it/s]\u001b[A\n",
      " 15%|█▌        | 827/5424 [07:50<43:34,  1.76it/s]\u001b[A\n",
      " 15%|█▌        | 828/5424 [07:50<43:32,  1.76it/s]\u001b[A\n",
      " 15%|█▌        | 830/5424 [07:50<43:26,  1.76it/s]\u001b[A\n",
      " 15%|█▌        | 831/5424 [07:51<43:23,  1.76it/s]\u001b[A\n",
      " 15%|█▌        | 833/5424 [07:51<43:17,  1.77it/s]\u001b[A\n",
      " 15%|█▌        | 835/5424 [07:51<43:10,  1.77it/s]\u001b[A\n",
      " 15%|█▌        | 836/5424 [07:51<43:09,  1.77it/s]\u001b[A\n",
      " 15%|█▌        | 837/5424 [07:52<43:08,  1.77it/s]\u001b[A\n",
      " 15%|█▌        | 838/5424 [07:52<43:05,  1.77it/s]\u001b[A\n"
     ]
    },
    {
     "name": "stderr",
     "output_type": "stream",
     "text": [
      " 15%|█▌        | 840/5424 [07:52<42:59,  1.78it/s]\u001b[A\n",
      " 16%|█▌        | 842/5424 [07:53<42:55,  1.78it/s]\u001b[A\n",
      " 16%|█▌        | 843/5424 [07:53<42:53,  1.78it/s]\u001b[A\n",
      " 16%|█▌        | 844/5424 [07:53<42:51,  1.78it/s]\u001b[A\n",
      " 16%|█▌        | 845/5424 [07:54<42:50,  1.78it/s]\u001b[A\n",
      " 16%|█▌        | 846/5424 [07:55<42:54,  1.78it/s]\u001b[A\n",
      " 16%|█▌        | 847/5424 [07:56<42:52,  1.78it/s]\u001b[A\n",
      " 16%|█▌        | 849/5424 [07:56<42:47,  1.78it/s]\u001b[A\n",
      " 16%|█▌        | 850/5424 [07:56<42:46,  1.78it/s]\u001b[A\n",
      " 16%|█▌        | 851/5424 [07:57<42:44,  1.78it/s]\u001b[A\n",
      " 16%|█▌        | 852/5424 [07:57<42:41,  1.78it/s]\u001b[A\n",
      " 16%|█▌        | 853/5424 [07:57<42:39,  1.79it/s]\u001b[A\n",
      " 16%|█▌        | 854/5424 [07:58<42:38,  1.79it/s]\u001b[A\n",
      " 16%|█▌        | 855/5424 [07:58<42:35,  1.79it/s]\u001b[A\n",
      " 16%|█▌        | 856/5424 [07:58<42:34,  1.79it/s]\u001b[A\n",
      " 16%|█▌        | 857/5424 [07:59<42:32,  1.79it/s]\u001b[A\n",
      " 16%|█▌        | 859/5424 [07:59<42:27,  1.79it/s]\u001b[A\n",
      " 16%|█▌        | 860/5424 [07:59<42:25,  1.79it/s]\u001b[A\n",
      " 16%|█▌        | 863/5424 [07:59<42:16,  1.80it/s]\u001b[A\n",
      " 16%|█▌        | 864/5424 [08:00<42:13,  1.80it/s]\u001b[A\n",
      " 16%|█▌        | 866/5424 [08:00<42:07,  1.80it/s]\u001b[A\n",
      " 16%|█▌        | 868/5424 [08:00<42:01,  1.81it/s]\u001b[A\n",
      " 16%|█▌        | 869/5424 [08:00<42:00,  1.81it/s]\u001b[A\n",
      " 16%|█▌        | 870/5424 [08:01<41:58,  1.81it/s]\u001b[A\n",
      " 16%|█▌        | 871/5424 [08:01<41:55,  1.81it/s]\u001b[A\n",
      " 16%|█▌        | 873/5424 [08:01<41:50,  1.81it/s]\u001b[A\n",
      " 16%|█▌        | 874/5424 [08:01<41:49,  1.81it/s]\u001b[A\n",
      " 16%|█▌        | 875/5424 [08:02<41:47,  1.81it/s]\u001b[A\n",
      " 16%|█▌        | 876/5424 [08:02<41:45,  1.82it/s]\u001b[A\n",
      " 16%|█▌        | 877/5424 [08:02<41:43,  1.82it/s]\u001b[A\n",
      " 16%|█▌        | 879/5424 [08:03<41:39,  1.82it/s]\u001b[A\n",
      " 16%|█▌        | 881/5424 [08:03<41:33,  1.82it/s]\u001b[A\n",
      " 16%|█▋        | 882/5424 [08:04<41:33,  1.82it/s]\u001b[A\n",
      " 16%|█▋        | 883/5424 [08:04<41:31,  1.82it/s]\u001b[A\n",
      " 16%|█▋        | 884/5424 [08:04<41:30,  1.82it/s]\u001b[A\n",
      " 16%|█▋        | 885/5424 [08:05<41:28,  1.82it/s]\u001b[A\n",
      " 16%|█▋        | 886/5424 [08:05<41:26,  1.83it/s]\u001b[A\n",
      " 16%|█▋        | 887/5424 [08:05<41:23,  1.83it/s]\u001b[A\n",
      " 16%|█▋        | 888/5424 [08:07<41:30,  1.82it/s]\u001b[A\n",
      " 16%|█▋        | 889/5424 [08:07<41:28,  1.82it/s]\u001b[A\n",
      " 16%|█▋        | 890/5424 [08:08<41:26,  1.82it/s]\u001b[A\n",
      " 16%|█▋        | 891/5424 [08:08<41:24,  1.82it/s]\u001b[A\n",
      " 16%|█▋        | 893/5424 [08:08<41:18,  1.83it/s]\u001b[A\n",
      " 16%|█▋        | 894/5424 [08:09<41:18,  1.83it/s]\u001b[A\n",
      " 17%|█▋        | 896/5424 [08:09<41:13,  1.83it/s]\u001b[A\n",
      " 17%|█▋        | 897/5424 [08:09<41:11,  1.83it/s]\u001b[A\n",
      " 17%|█▋        | 899/5424 [08:10<41:07,  1.83it/s]\u001b[A\n",
      " 17%|█▋        | 900/5424 [08:10<41:05,  1.83it/s]\u001b[A\n",
      " 17%|█▋        | 901/5424 [08:10<41:04,  1.84it/s]\u001b[A\n",
      " 17%|█▋        | 902/5424 [08:11<41:02,  1.84it/s]\u001b[A\n",
      " 17%|█▋        | 903/5424 [08:11<41:01,  1.84it/s]\u001b[A\n",
      " 17%|█▋        | 904/5424 [08:16<41:21,  1.82it/s]\u001b[A\n",
      " 17%|█▋        | 905/5424 [08:16<41:19,  1.82it/s]\u001b[A\n",
      " 17%|█▋        | 908/5424 [08:17<41:12,  1.83it/s]\u001b[A\n",
      " 17%|█▋        | 909/5424 [08:17<41:10,  1.83it/s]\u001b[A\n",
      " 17%|█▋        | 910/5424 [08:17<41:09,  1.83it/s]\u001b[A\n",
      " 17%|█▋        | 911/5424 [08:17<41:06,  1.83it/s]\u001b[A\n",
      " 17%|█▋        | 914/5424 [08:18<40:57,  1.84it/s]\u001b[A\n",
      " 17%|█▋        | 917/5424 [08:18<40:48,  1.84it/s]\u001b[A\n",
      " 17%|█▋        | 919/5424 [08:18<40:45,  1.84it/s]\u001b[A\n",
      " 17%|█▋        | 920/5424 [08:19<40:43,  1.84it/s]\u001b[A\n",
      " 17%|█▋        | 922/5424 [08:19<40:38,  1.85it/s]\u001b[A\n",
      " 17%|█▋        | 924/5424 [08:19<40:33,  1.85it/s]\u001b[A\n",
      " 17%|█▋        | 925/5424 [08:20<40:31,  1.85it/s]\u001b[A\n",
      " 17%|█▋        | 926/5424 [08:20<40:31,  1.85it/s]\u001b[A\n",
      " 17%|█▋        | 927/5424 [08:21<40:30,  1.85it/s]\u001b[A\n",
      " 17%|█▋        | 929/5424 [08:23<40:33,  1.85it/s]\u001b[A\n",
      " 17%|█▋        | 930/5424 [08:23<40:33,  1.85it/s]\u001b[A\n",
      " 17%|█▋        | 931/5424 [08:23<40:31,  1.85it/s]\u001b[A\n",
      " 17%|█▋        | 932/5424 [08:23<40:28,  1.85it/s]\u001b[A\n",
      " 17%|█▋        | 933/5424 [08:24<40:26,  1.85it/s]\u001b[A\n",
      " 17%|█▋        | 934/5424 [08:24<40:27,  1.85it/s]\u001b[A\n",
      " 17%|█▋        | 936/5424 [08:25<40:21,  1.85it/s]\u001b[A\n",
      " 17%|█▋        | 939/5424 [08:25<40:14,  1.86it/s]\u001b[A\n",
      " 17%|█▋        | 940/5424 [08:25<40:13,  1.86it/s]\u001b[A\n",
      " 17%|█▋        | 941/5424 [08:26<40:11,  1.86it/s]\u001b[A\n",
      " 17%|█▋        | 942/5424 [08:26<40:09,  1.86it/s]\u001b[A\n",
      " 17%|█▋        | 943/5424 [08:26<40:07,  1.86it/s]\u001b[A\n",
      " 17%|█▋        | 944/5424 [08:26<40:05,  1.86it/s]\u001b[A\n",
      " 17%|█▋        | 945/5424 [08:27<40:03,  1.86it/s]\u001b[A\n",
      " 17%|█▋        | 946/5424 [08:27<40:01,  1.86it/s]\u001b[A\n",
      " 17%|█▋        | 947/5424 [08:27<40:00,  1.87it/s]\u001b[A\n",
      " 17%|█▋        | 949/5424 [08:27<39:55,  1.87it/s]\u001b[A\n",
      " 18%|█▊        | 950/5424 [08:28<39:53,  1.87it/s]\u001b[A\n",
      " 18%|█▊        | 951/5424 [08:28<39:51,  1.87it/s]\u001b[A\n",
      " 18%|█▊        | 953/5424 [08:28<39:47,  1.87it/s]\u001b[A\n",
      " 18%|█▊        | 954/5424 [08:29<39:45,  1.87it/s]\u001b[A\n",
      " 18%|█▊        | 955/5424 [08:29<39:43,  1.87it/s]\u001b[A\n",
      " 18%|█▊        | 957/5424 [08:29<39:37,  1.88it/s]\u001b[A\n",
      " 18%|█▊        | 958/5424 [08:29<39:36,  1.88it/s]\u001b[A\n",
      " 18%|█▊        | 960/5424 [08:30<39:32,  1.88it/s]\u001b[A\n",
      " 18%|█▊        | 962/5424 [08:32<39:36,  1.88it/s]\u001b[A\n",
      " 18%|█▊        | 963/5424 [08:32<39:34,  1.88it/s]\u001b[A\n",
      " 18%|█▊        | 964/5424 [08:32<39:32,  1.88it/s]\u001b[A\n",
      " 18%|█▊        | 965/5424 [08:33<39:31,  1.88it/s]\u001b[A\n",
      " 18%|█▊        | 967/5424 [08:33<39:26,  1.88it/s]\u001b[A\n",
      " 18%|█▊        | 968/5424 [08:33<39:24,  1.88it/s]\u001b[A\n",
      " 18%|█▊        | 969/5424 [08:34<39:23,  1.89it/s]\u001b[A\n",
      " 18%|█▊        | 970/5424 [08:34<39:21,  1.89it/s]\u001b[A\n",
      " 18%|█▊        | 972/5424 [08:34<39:17,  1.89it/s]\u001b[A\n",
      " 18%|█▊        | 973/5424 [08:35<39:16,  1.89it/s]\u001b[A\n",
      " 18%|█▊        | 974/5424 [08:35<39:15,  1.89it/s]\u001b[A\n",
      " 18%|█▊        | 975/5424 [08:35<39:13,  1.89it/s]\u001b[A\n",
      " 18%|█▊        | 976/5424 [08:35<39:11,  1.89it/s]\u001b[A\n",
      " 18%|█▊        | 977/5424 [08:36<39:09,  1.89it/s]\u001b[A\n",
      " 18%|█▊        | 979/5424 [08:36<39:05,  1.90it/s]\u001b[A\n",
      " 18%|█▊        | 980/5424 [08:36<39:03,  1.90it/s]\u001b[A\n",
      " 18%|█▊        | 981/5424 [08:39<39:13,  1.89it/s]\u001b[A\n",
      " 18%|█▊        | 982/5424 [08:39<39:11,  1.89it/s]\u001b[A\n",
      " 18%|█▊        | 983/5424 [08:39<39:09,  1.89it/s]\u001b[A\n",
      " 18%|█▊        | 984/5424 [08:40<39:07,  1.89it/s]\u001b[A\n",
      " 18%|█▊        | 985/5424 [08:40<39:05,  1.89it/s]\u001b[A\n",
      " 18%|█▊        | 986/5424 [08:40<39:04,  1.89it/s]\u001b[A\n",
      " 18%|█▊        | 987/5424 [08:41<39:02,  1.89it/s]\u001b[A\n",
      " 18%|█▊        | 988/5424 [08:41<39:00,  1.90it/s]\u001b[A\n",
      " 18%|█▊        | 989/5424 [08:41<38:58,  1.90it/s]\u001b[A\n",
      " 18%|█▊        | 990/5424 [08:41<38:57,  1.90it/s]\u001b[A\n",
      " 18%|█▊        | 992/5424 [08:42<38:53,  1.90it/s]\u001b[A\n",
      " 18%|█▊        | 993/5424 [08:42<38:52,  1.90it/s]\u001b[A\n",
      " 18%|█▊        | 994/5424 [08:43<38:51,  1.90it/s]\u001b[A\n",
      " 18%|█▊        | 995/5424 [08:43<38:49,  1.90it/s]\u001b[A\n",
      " 18%|█▊        | 996/5424 [08:43<38:48,  1.90it/s]\u001b[A\n",
      " 18%|█▊        | 997/5424 [08:44<38:46,  1.90it/s]\u001b[A\n",
      " 18%|█▊        | 998/5424 [08:44<38:45,  1.90it/s]\u001b[A\n",
      " 18%|█▊        | 999/5424 [08:44<38:43,  1.90it/s]\u001b[A\n",
      " 18%|█▊        | 1000/5424 [08:44<38:40,  1.91it/s]\u001b[A\n",
      " 18%|█▊        | 1001/5424 [08:44<38:38,  1.91it/s]\u001b[A\n",
      " 19%|█▊        | 1004/5424 [08:45<38:32,  1.91it/s]\u001b[A\n",
      " 19%|█▊        | 1006/5424 [08:45<38:27,  1.91it/s]\u001b[A\n",
      " 19%|█▊        | 1008/5424 [08:45<38:23,  1.92it/s]\u001b[A\n",
      " 19%|█▊        | 1009/5424 [08:45<38:21,  1.92it/s]\u001b[A\n",
      " 19%|█▊        | 1010/5424 [08:46<38:19,  1.92it/s]\u001b[A\n",
      " 19%|█▊        | 1011/5424 [08:46<38:18,  1.92it/s]\u001b[A\n",
      " 19%|█▊        | 1013/5424 [08:46<38:14,  1.92it/s]\u001b[A\n",
      " 19%|█▊        | 1014/5424 [08:47<38:13,  1.92it/s]\u001b[A\n",
      " 19%|█▊        | 1015/5424 [08:47<38:11,  1.92it/s]\u001b[A\n",
      " 19%|█▊        | 1016/5424 [08:47<38:09,  1.92it/s]\u001b[A\n",
      " 19%|█▉        | 1017/5424 [08:48<38:08,  1.93it/s]\u001b[A\n",
      " 19%|█▉        | 1018/5424 [08:48<38:06,  1.93it/s]\u001b[A\n",
      " 19%|█▉        | 1019/5424 [08:48<38:04,  1.93it/s]\u001b[A\n",
      " 19%|█▉        | 1020/5424 [08:48<38:03,  1.93it/s]\u001b[A\n",
      " 19%|█▉        | 1021/5424 [08:49<38:02,  1.93it/s]\u001b[A\n",
      " 19%|█▉        | 1022/5424 [08:49<38:01,  1.93it/s]\u001b[A\n",
      " 19%|█▉        | 1024/5424 [08:49<37:56,  1.93it/s]\u001b[A\n",
      " 19%|█▉        | 1026/5424 [08:50<37:53,  1.93it/s]\u001b[A\n",
      " 19%|█▉        | 1028/5424 [08:50<37:48,  1.94it/s]\u001b[A\n",
      " 19%|█▉        | 1030/5424 [08:51<37:46,  1.94it/s]\u001b[A\n",
      " 19%|█▉        | 1032/5424 [08:51<37:42,  1.94it/s]\u001b[A\n",
      " 19%|█▉        | 1034/5424 [08:52<37:38,  1.94it/s]\u001b[A\n",
      " 19%|█▉        | 1035/5424 [08:56<37:54,  1.93it/s]\u001b[A\n",
      " 19%|█▉        | 1037/5424 [08:56<37:49,  1.93it/s]\u001b[A\n"
     ]
    },
    {
     "name": "stderr",
     "output_type": "stream",
     "text": [
      " 19%|█▉        | 1038/5424 [08:56<37:47,  1.93it/s]\u001b[A\n",
      " 19%|█▉        | 1040/5424 [08:57<37:43,  1.94it/s]\u001b[A\n",
      " 19%|█▉        | 1042/5424 [08:57<37:38,  1.94it/s]\u001b[A\n",
      " 19%|█▉        | 1043/5424 [08:57<37:37,  1.94it/s]\u001b[A\n",
      " 19%|█▉        | 1044/5424 [08:57<37:34,  1.94it/s]\u001b[A\n",
      " 19%|█▉        | 1045/5424 [08:57<37:34,  1.94it/s]\u001b[A\n",
      " 19%|█▉        | 1046/5424 [08:58<37:33,  1.94it/s]\u001b[A\n",
      " 19%|█▉        | 1047/5424 [08:58<37:31,  1.94it/s]\u001b[A\n",
      " 19%|█▉        | 1049/5424 [08:59<37:28,  1.95it/s]\u001b[A\n",
      " 19%|█▉        | 1051/5424 [08:59<37:25,  1.95it/s]\u001b[A\n",
      " 19%|█▉        | 1052/5424 [08:59<37:24,  1.95it/s]\u001b[A\n",
      " 19%|█▉        | 1054/5424 [09:00<37:19,  1.95it/s]\u001b[A\n",
      " 19%|█▉        | 1055/5424 [09:00<37:18,  1.95it/s]\u001b[A\n",
      " 19%|█▉        | 1056/5424 [09:00<37:16,  1.95it/s]\u001b[A\n",
      " 19%|█▉        | 1057/5424 [09:00<37:14,  1.95it/s]\u001b[A\n",
      " 20%|█▉        | 1059/5424 [09:01<37:10,  1.96it/s]\u001b[A\n",
      " 20%|█▉        | 1060/5424 [09:01<37:08,  1.96it/s]\u001b[A\n",
      " 20%|█▉        | 1062/5424 [09:01<37:03,  1.96it/s]\u001b[A\n",
      " 20%|█▉        | 1064/5424 [09:01<36:59,  1.96it/s]\u001b[A\n",
      " 20%|█▉        | 1065/5424 [09:01<36:58,  1.97it/s]\u001b[A\n",
      " 20%|█▉        | 1067/5424 [09:02<36:54,  1.97it/s]\u001b[A\n",
      " 20%|█▉        | 1069/5424 [09:02<36:50,  1.97it/s]\u001b[A\n",
      " 20%|█▉        | 1070/5424 [09:02<36:48,  1.97it/s]\u001b[A\n",
      " 20%|█▉        | 1071/5424 [09:03<36:47,  1.97it/s]\u001b[A\n",
      " 20%|█▉        | 1072/5424 [09:03<36:45,  1.97it/s]\u001b[A\n",
      " 20%|█▉        | 1073/5424 [09:03<36:43,  1.97it/s]\u001b[A\n",
      " 20%|█▉        | 1075/5424 [09:03<36:39,  1.98it/s]\u001b[A\n",
      " 20%|█▉        | 1077/5424 [09:03<36:35,  1.98it/s]\u001b[A\n",
      " 20%|█▉        | 1078/5424 [09:04<36:34,  1.98it/s]\u001b[A\n",
      " 20%|█▉        | 1079/5424 [09:04<36:33,  1.98it/s]\u001b[A\n",
      " 20%|█▉        | 1080/5424 [09:05<36:32,  1.98it/s]\u001b[A\n",
      " 20%|█▉        | 1081/5424 [09:05<36:31,  1.98it/s]\u001b[A\n",
      " 20%|█▉        | 1082/5424 [09:05<36:29,  1.98it/s]\u001b[A\n",
      " 20%|█▉        | 1084/5424 [09:05<36:24,  1.99it/s]\u001b[A\n",
      " 20%|██        | 1086/5424 [09:05<36:20,  1.99it/s]\u001b[A\n",
      " 20%|██        | 1088/5424 [09:06<36:16,  1.99it/s]\u001b[A\n",
      " 20%|██        | 1090/5424 [09:06<36:12,  1.99it/s]\u001b[A\n",
      " 20%|██        | 1092/5424 [09:06<36:08,  2.00it/s]\u001b[A\n",
      " 20%|██        | 1094/5424 [09:07<36:05,  2.00it/s]\u001b[A\n",
      " 20%|██        | 1095/5424 [09:07<36:04,  2.00it/s]\u001b[A\n",
      " 20%|██        | 1096/5424 [09:08<36:04,  2.00it/s]\u001b[A\n",
      " 20%|██        | 1097/5424 [09:08<36:03,  2.00it/s]\u001b[A\n",
      " 20%|██        | 1099/5424 [09:08<35:58,  2.00it/s]\u001b[A\n",
      " 20%|██        | 1101/5424 [09:08<35:54,  2.01it/s]\u001b[A\n",
      " 20%|██        | 1102/5424 [09:08<35:53,  2.01it/s]\u001b[A\n",
      " 20%|██        | 1103/5424 [09:09<35:51,  2.01it/s]\u001b[A\n",
      " 20%|██        | 1105/5424 [09:09<35:47,  2.01it/s]\u001b[A\n",
      " 20%|██        | 1106/5424 [09:09<35:46,  2.01it/s]\u001b[A\n",
      " 20%|██        | 1107/5424 [09:10<35:45,  2.01it/s]\u001b[A\n",
      " 20%|██        | 1108/5424 [09:10<35:43,  2.01it/s]\u001b[A\n",
      " 20%|██        | 1109/5424 [09:10<35:42,  2.01it/s]\u001b[A\n",
      " 20%|██        | 1110/5424 [09:11<35:41,  2.01it/s]\u001b[A\n",
      " 21%|██        | 1112/5424 [09:11<35:38,  2.02it/s]\u001b[A\n",
      " 21%|██        | 1113/5424 [09:11<35:36,  2.02it/s]\u001b[A\n",
      " 21%|██        | 1114/5424 [09:12<35:36,  2.02it/s]\u001b[A\n",
      " 21%|██        | 1115/5424 [09:12<35:34,  2.02it/s]\u001b[A\n",
      " 21%|██        | 1116/5424 [09:12<35:33,  2.02it/s]\u001b[A\n",
      " 21%|██        | 1117/5424 [09:12<35:32,  2.02it/s]\u001b[A\n",
      " 21%|██        | 1120/5424 [09:13<35:25,  2.02it/s]\u001b[A\n",
      " 21%|██        | 1121/5424 [09:13<35:23,  2.03it/s]\u001b[A\n",
      " 21%|██        | 1122/5424 [09:13<35:22,  2.03it/s]\u001b[A\n",
      " 21%|██        | 1123/5424 [09:13<35:20,  2.03it/s]\u001b[A\n",
      " 21%|██        | 1124/5424 [09:14<35:19,  2.03it/s]\u001b[A\n",
      " 21%|██        | 1125/5424 [09:14<35:17,  2.03it/s]\u001b[A\n",
      " 21%|██        | 1126/5424 [09:14<35:17,  2.03it/s]\u001b[A\n",
      " 21%|██        | 1127/5424 [09:14<35:15,  2.03it/s]\u001b[A\n",
      " 21%|██        | 1128/5424 [09:15<35:14,  2.03it/s]\u001b[A\n",
      " 21%|██        | 1129/5424 [09:15<35:13,  2.03it/s]\u001b[A\n",
      " 21%|██        | 1131/5424 [09:15<35:09,  2.04it/s]\u001b[A\n",
      " 21%|██        | 1132/5424 [09:16<35:08,  2.04it/s]\u001b[A\n",
      " 21%|██        | 1133/5424 [09:16<35:06,  2.04it/s]\u001b[A\n",
      " 21%|██        | 1134/5424 [09:16<35:05,  2.04it/s]\u001b[A\n",
      " 21%|██        | 1136/5424 [09:16<35:01,  2.04it/s]\u001b[A\n",
      " 21%|██        | 1138/5424 [09:17<34:58,  2.04it/s]\u001b[A\n",
      " 21%|██        | 1139/5424 [09:22<35:17,  2.02it/s]\u001b[A\n",
      " 21%|██        | 1140/5424 [09:23<35:17,  2.02it/s]\u001b[A\n",
      " 21%|██        | 1141/5424 [09:23<35:15,  2.02it/s]\u001b[A\n",
      " 21%|██        | 1143/5424 [09:24<35:14,  2.02it/s]\u001b[A\n",
      " 21%|██        | 1145/5424 [09:25<35:11,  2.03it/s]\u001b[A\n",
      " 21%|██        | 1146/5424 [09:25<35:11,  2.03it/s]\u001b[A\n",
      " 21%|██        | 1147/5424 [09:25<35:10,  2.03it/s]\u001b[A\n",
      " 21%|██        | 1149/5424 [09:26<35:07,  2.03it/s]\u001b[A\n",
      " 21%|██        | 1151/5424 [09:26<35:02,  2.03it/s]\u001b[A\n",
      " 21%|██        | 1152/5424 [09:26<35:02,  2.03it/s]\u001b[A\n",
      " 21%|██▏       | 1154/5424 [09:27<34:58,  2.03it/s]\u001b[A\n",
      " 21%|██▏       | 1157/5424 [09:27<34:52,  2.04it/s]\u001b[A\n",
      " 21%|██▏       | 1158/5424 [09:27<34:51,  2.04it/s]\u001b[A\n",
      " 21%|██▏       | 1159/5424 [09:28<34:50,  2.04it/s]\u001b[A\n",
      " 21%|██▏       | 1161/5424 [09:28<34:46,  2.04it/s]\u001b[A\n",
      " 21%|██▏       | 1163/5424 [09:28<34:43,  2.05it/s]\u001b[A\n",
      " 21%|██▏       | 1164/5424 [09:28<34:41,  2.05it/s]\u001b[A\n",
      " 22%|██▏       | 1167/5424 [09:29<34:36,  2.05it/s]\u001b[A\n",
      " 22%|██▏       | 1170/5424 [09:29<34:30,  2.05it/s]\u001b[A\n",
      " 22%|██▏       | 1172/5424 [09:29<34:27,  2.06it/s]\u001b[A\n",
      " 22%|██▏       | 1174/5424 [09:30<34:24,  2.06it/s]\u001b[A\n",
      " 22%|██▏       | 1175/5424 [09:30<34:23,  2.06it/s]\u001b[A\n",
      " 22%|██▏       | 1177/5424 [09:30<34:20,  2.06it/s]\u001b[A\n",
      " 22%|██▏       | 1178/5424 [09:31<34:18,  2.06it/s]\u001b[A\n",
      " 22%|██▏       | 1181/5424 [09:31<34:12,  2.07it/s]\u001b[A\n",
      " 22%|██▏       | 1183/5424 [09:31<34:08,  2.07it/s]\u001b[A\n",
      " 22%|██▏       | 1185/5424 [09:31<34:05,  2.07it/s]\u001b[A\n",
      " 22%|██▏       | 1186/5424 [09:32<34:06,  2.07it/s]\u001b[A\n",
      " 22%|██▏       | 1187/5424 [09:32<34:04,  2.07it/s]\u001b[A\n",
      " 22%|██▏       | 1188/5424 [09:33<34:04,  2.07it/s]\u001b[A\n",
      " 22%|██▏       | 1189/5424 [09:34<34:06,  2.07it/s]\u001b[A\n",
      " 22%|██▏       | 1190/5424 [09:34<34:04,  2.07it/s]\u001b[A\n",
      " 22%|██▏       | 1191/5424 [09:34<34:03,  2.07it/s]\u001b[A\n",
      " 22%|██▏       | 1192/5424 [09:35<34:02,  2.07it/s]\u001b[A\n",
      " 22%|██▏       | 1193/5424 [09:35<34:00,  2.07it/s]\u001b[A\n",
      " 22%|██▏       | 1194/5424 [09:35<34:00,  2.07it/s]\u001b[A\n",
      " 22%|██▏       | 1196/5424 [09:36<33:56,  2.08it/s]\u001b[A\n",
      " 22%|██▏       | 1198/5424 [09:36<33:52,  2.08it/s]\u001b[A\n",
      " 22%|██▏       | 1199/5424 [09:36<33:51,  2.08it/s]\u001b[A\n",
      " 22%|██▏       | 1201/5424 [09:36<33:48,  2.08it/s]\u001b[A\n",
      " 22%|██▏       | 1202/5424 [09:37<33:47,  2.08it/s]\u001b[A\n",
      " 22%|██▏       | 1203/5424 [09:37<33:46,  2.08it/s]\u001b[A\n",
      " 22%|██▏       | 1204/5424 [09:37<33:44,  2.08it/s]\u001b[A\n",
      " 22%|██▏       | 1207/5424 [09:37<33:38,  2.09it/s]\u001b[A\n",
      " 22%|██▏       | 1209/5424 [09:38<33:38,  2.09it/s]\u001b[A\n",
      " 22%|██▏       | 1210/5424 [09:39<33:37,  2.09it/s]\u001b[A\n",
      " 22%|██▏       | 1211/5424 [09:39<33:35,  2.09it/s]\u001b[A\n",
      " 22%|██▏       | 1212/5424 [09:39<33:34,  2.09it/s]\u001b[A\n",
      " 22%|██▏       | 1213/5424 [09:39<33:33,  2.09it/s]\u001b[A\n",
      " 22%|██▏       | 1214/5424 [09:40<33:31,  2.09it/s]\u001b[A\n",
      " 22%|██▏       | 1215/5424 [09:40<33:31,  2.09it/s]\u001b[A\n",
      " 22%|██▏       | 1216/5424 [09:40<33:29,  2.09it/s]\u001b[A\n",
      " 22%|██▏       | 1217/5424 [09:41<33:28,  2.09it/s]\u001b[A\n",
      " 22%|██▏       | 1218/5424 [09:41<33:27,  2.09it/s]\u001b[A\n",
      " 22%|██▏       | 1219/5424 [09:41<33:26,  2.10it/s]\u001b[A\n",
      " 23%|██▎       | 1221/5424 [09:41<33:22,  2.10it/s]\u001b[A\n",
      " 23%|██▎       | 1222/5424 [09:42<33:21,  2.10it/s]\u001b[A\n",
      " 23%|██▎       | 1223/5424 [09:42<33:20,  2.10it/s]\u001b[A\n",
      " 23%|██▎       | 1224/5424 [09:42<33:19,  2.10it/s]\u001b[A\n",
      " 23%|██▎       | 1226/5424 [09:42<33:16,  2.10it/s]\u001b[A\n",
      " 23%|██▎       | 1227/5424 [09:43<33:15,  2.10it/s]\u001b[A\n",
      " 23%|██▎       | 1228/5424 [09:43<33:14,  2.10it/s]\u001b[A\n",
      " 23%|██▎       | 1229/5424 [09:44<33:13,  2.10it/s]\u001b[A\n",
      " 23%|██▎       | 1230/5424 [09:44<33:12,  2.10it/s]\u001b[A\n",
      " 23%|██▎       | 1232/5424 [09:44<33:09,  2.11it/s]\u001b[A\n",
      " 23%|██▎       | 1233/5424 [09:44<33:08,  2.11it/s]\u001b[A\n",
      " 23%|██▎       | 1235/5424 [09:45<33:05,  2.11it/s]\u001b[A\n",
      " 23%|██▎       | 1236/5424 [09:45<33:03,  2.11it/s]\u001b[A\n",
      " 23%|██▎       | 1237/5424 [09:45<33:02,  2.11it/s]\u001b[A\n",
      " 23%|██▎       | 1238/5424 [09:46<33:01,  2.11it/s]\u001b[A\n",
      " 23%|██▎       | 1240/5424 [09:46<32:58,  2.11it/s]\u001b[A\n",
      " 23%|██▎       | 1241/5424 [09:46<32:57,  2.12it/s]\u001b[A\n",
      " 23%|██▎       | 1242/5424 [09:47<32:57,  2.11it/s]\u001b[A\n",
      " 23%|██▎       | 1244/5424 [09:47<32:54,  2.12it/s]\u001b[A\n"
     ]
    },
    {
     "name": "stderr",
     "output_type": "stream",
     "text": [
      " 23%|██▎       | 1245/5424 [09:47<32:53,  2.12it/s]\u001b[A\n",
      " 23%|██▎       | 1246/5424 [09:48<32:52,  2.12it/s]\u001b[A\n",
      " 23%|██▎       | 1248/5424 [09:48<32:49,  2.12it/s]\u001b[A\n",
      " 23%|██▎       | 1249/5424 [09:48<32:48,  2.12it/s]\u001b[A\n",
      " 23%|██▎       | 1251/5424 [09:49<32:45,  2.12it/s]\u001b[A\n",
      " 23%|██▎       | 1253/5424 [09:49<32:41,  2.13it/s]\u001b[A\n",
      " 23%|██▎       | 1255/5424 [09:49<32:38,  2.13it/s]\u001b[A\n",
      " 23%|██▎       | 1257/5424 [09:49<32:34,  2.13it/s]\u001b[A\n",
      " 23%|██▎       | 1258/5424 [09:49<32:33,  2.13it/s]\u001b[A\n",
      " 23%|██▎       | 1259/5424 [09:50<32:32,  2.13it/s]\u001b[A\n",
      " 23%|██▎       | 1260/5424 [09:50<32:31,  2.13it/s]\u001b[A\n",
      " 23%|██▎       | 1261/5424 [09:50<32:30,  2.13it/s]\u001b[A\n",
      " 23%|██▎       | 1262/5424 [09:51<32:29,  2.13it/s]\u001b[A\n",
      " 23%|██▎       | 1263/5424 [09:51<32:28,  2.14it/s]\u001b[A\n",
      " 23%|██▎       | 1266/5424 [09:51<32:23,  2.14it/s]\u001b[A\n",
      " 23%|██▎       | 1267/5424 [09:52<32:23,  2.14it/s]\u001b[A\n",
      " 23%|██▎       | 1268/5424 [09:52<32:21,  2.14it/s]\u001b[A\n",
      " 23%|██▎       | 1270/5424 [09:52<32:18,  2.14it/s]\u001b[A\n",
      " 23%|██▎       | 1272/5424 [09:52<32:14,  2.15it/s]\u001b[A\n",
      " 23%|██▎       | 1273/5424 [09:53<32:13,  2.15it/s]\u001b[A\n",
      " 23%|██▎       | 1274/5424 [09:53<32:12,  2.15it/s]\u001b[A\n",
      " 24%|██▎       | 1275/5424 [09:53<32:11,  2.15it/s]\u001b[A\n",
      " 24%|██▎       | 1276/5424 [09:53<32:10,  2.15it/s]\u001b[A\n",
      " 24%|██▎       | 1278/5424 [09:53<32:06,  2.15it/s]\u001b[A\n",
      " 24%|██▎       | 1280/5424 [09:54<32:04,  2.15it/s]\u001b[A\n",
      " 24%|██▎       | 1282/5424 [09:54<32:00,  2.16it/s]\u001b[A\n",
      " 24%|██▎       | 1284/5424 [09:54<31:57,  2.16it/s]\u001b[A\n",
      " 24%|██▎       | 1285/5424 [09:55<31:57,  2.16it/s]\u001b[A\n",
      " 24%|██▎       | 1286/5424 [09:55<31:56,  2.16it/s]\u001b[A\n",
      " 24%|██▎       | 1287/5424 [09:55<31:55,  2.16it/s]\u001b[A\n",
      " 24%|██▎       | 1288/5424 [09:56<31:54,  2.16it/s]\u001b[A\n",
      " 24%|██▍       | 1289/5424 [09:56<31:53,  2.16it/s]\u001b[A\n",
      " 24%|██▍       | 1290/5424 [09:56<31:52,  2.16it/s]\u001b[A\n",
      " 24%|██▍       | 1292/5424 [09:57<31:49,  2.16it/s]\u001b[A\n",
      " 24%|██▍       | 1293/5424 [09:57<31:48,  2.16it/s]\u001b[A\n",
      " 24%|██▍       | 1295/5424 [09:57<31:46,  2.17it/s]\u001b[A\n",
      " 24%|██▍       | 1297/5424 [09:58<31:42,  2.17it/s]\u001b[A\n",
      " 24%|██▍       | 1300/5424 [09:58<31:38,  2.17it/s]\u001b[A\n",
      " 24%|██▍       | 1301/5424 [09:58<31:37,  2.17it/s]\u001b[A\n",
      " 24%|██▍       | 1302/5424 [09:59<31:36,  2.17it/s]\u001b[A\n",
      " 24%|██▍       | 1303/5424 [09:59<31:35,  2.17it/s]\u001b[A\n",
      " 24%|██▍       | 1305/5424 [09:59<31:32,  2.18it/s]\u001b[A\n",
      " 24%|██▍       | 1306/5424 [09:59<31:31,  2.18it/s]\u001b[A\n",
      " 24%|██▍       | 1307/5424 [10:00<31:30,  2.18it/s]\u001b[A\n",
      " 24%|██▍       | 1309/5424 [10:00<31:27,  2.18it/s]\u001b[A\n",
      " 24%|██▍       | 1311/5424 [10:01<31:27,  2.18it/s]\u001b[A\n",
      " 24%|██▍       | 1312/5424 [10:02<31:26,  2.18it/s]\u001b[A\n",
      " 24%|██▍       | 1313/5424 [10:02<31:25,  2.18it/s]\u001b[A\n",
      " 24%|██▍       | 1314/5424 [10:02<31:24,  2.18it/s]\u001b[A\n",
      " 24%|██▍       | 1315/5424 [10:02<31:23,  2.18it/s]\u001b[A\n",
      " 24%|██▍       | 1317/5424 [10:03<31:20,  2.18it/s]\u001b[A\n",
      " 24%|██▍       | 1319/5424 [10:03<31:17,  2.19it/s]\u001b[A\n",
      " 24%|██▍       | 1321/5424 [10:03<31:14,  2.19it/s]\u001b[A\n",
      " 24%|██▍       | 1322/5424 [10:03<31:13,  2.19it/s]\u001b[A\n",
      " 24%|██▍       | 1324/5424 [10:04<31:10,  2.19it/s]\u001b[A\n",
      " 24%|██▍       | 1325/5424 [10:04<31:09,  2.19it/s]\u001b[A\n",
      " 24%|██▍       | 1327/5424 [10:04<31:06,  2.20it/s]\u001b[A\n",
      " 25%|██▍       | 1329/5424 [10:04<31:03,  2.20it/s]\u001b[A\n",
      " 25%|██▍       | 1330/5424 [10:04<31:02,  2.20it/s]\u001b[A\n",
      " 25%|██▍       | 1331/5424 [10:05<31:01,  2.20it/s]\u001b[A\n",
      " 25%|██▍       | 1333/5424 [10:05<30:57,  2.20it/s]\u001b[A\n",
      " 25%|██▍       | 1334/5424 [10:05<30:56,  2.20it/s]\u001b[A\n",
      " 25%|██▍       | 1335/5424 [10:05<30:55,  2.20it/s]\u001b[A\n",
      " 25%|██▍       | 1336/5424 [10:06<30:54,  2.20it/s]\u001b[A\n",
      " 25%|██▍       | 1337/5424 [10:06<30:53,  2.21it/s]\u001b[A\n",
      " 25%|██▍       | 1339/5424 [10:06<30:51,  2.21it/s]\u001b[A\n",
      " 25%|██▍       | 1340/5424 [10:07<30:50,  2.21it/s]\u001b[A\n",
      " 25%|██▍       | 1342/5424 [10:07<30:47,  2.21it/s]\u001b[A\n",
      " 25%|██▍       | 1343/5424 [10:07<30:46,  2.21it/s]\u001b[A\n",
      " 25%|██▍       | 1344/5424 [10:07<30:44,  2.21it/s]\u001b[A\n",
      " 25%|██▍       | 1345/5424 [10:08<30:44,  2.21it/s]\u001b[A\n",
      " 25%|██▍       | 1346/5424 [10:08<30:44,  2.21it/s]\u001b[A\n",
      " 25%|██▍       | 1348/5424 [10:09<30:42,  2.21it/s]\u001b[A\n",
      " 25%|██▍       | 1349/5424 [10:09<30:41,  2.21it/s]\u001b[A\n",
      " 25%|██▍       | 1350/5424 [10:10<30:40,  2.21it/s]\u001b[A\n",
      " 25%|██▍       | 1351/5424 [10:10<30:39,  2.21it/s]\u001b[A\n",
      " 25%|██▍       | 1352/5424 [10:10<30:38,  2.21it/s]\u001b[A\n",
      " 25%|██▍       | 1353/5424 [10:10<30:37,  2.22it/s]\u001b[A\n",
      " 25%|██▍       | 1354/5424 [10:10<30:36,  2.22it/s]\u001b[A\n",
      " 25%|██▍       | 1355/5424 [10:11<30:35,  2.22it/s]\u001b[A\n",
      " 25%|██▌       | 1356/5424 [10:11<30:34,  2.22it/s]\u001b[A\n",
      " 25%|██▌       | 1358/5424 [10:11<30:31,  2.22it/s]\u001b[A\n",
      " 25%|██▌       | 1360/5424 [10:11<30:28,  2.22it/s]\u001b[A\n",
      " 25%|██▌       | 1361/5424 [10:11<30:26,  2.22it/s]\u001b[A\n",
      " 25%|██▌       | 1362/5424 [10:13<30:29,  2.22it/s]\u001b[A\n",
      " 25%|██▌       | 1363/5424 [10:13<30:28,  2.22it/s]\u001b[A\n",
      " 25%|██▌       | 1364/5424 [10:13<30:26,  2.22it/s]\u001b[A\n",
      " 25%|██▌       | 1365/5424 [10:14<30:25,  2.22it/s]\u001b[A\n",
      " 25%|██▌       | 1367/5424 [10:14<30:23,  2.22it/s]\u001b[A\n",
      " 25%|██▌       | 1368/5424 [10:14<30:22,  2.23it/s]\u001b[A\n",
      " 25%|██▌       | 1369/5424 [10:15<30:22,  2.23it/s]\u001b[A\n",
      " 25%|██▌       | 1371/5424 [10:15<30:18,  2.23it/s]\u001b[A\n",
      " 25%|██▌       | 1372/5424 [10:17<30:22,  2.22it/s]\u001b[A\n",
      " 25%|██▌       | 1373/5424 [10:17<30:21,  2.22it/s]\u001b[A\n",
      " 25%|██▌       | 1375/5424 [10:17<30:18,  2.23it/s]\u001b[A\n",
      " 25%|██▌       | 1376/5424 [10:17<30:18,  2.23it/s]\u001b[A\n",
      " 25%|██▌       | 1377/5424 [10:18<30:17,  2.23it/s]\u001b[A\n",
      " 25%|██▌       | 1378/5424 [10:18<30:16,  2.23it/s]\u001b[A\n",
      " 25%|██▌       | 1380/5424 [10:18<30:13,  2.23it/s]\u001b[A\n",
      " 25%|██▌       | 1382/5424 [10:18<30:09,  2.23it/s]\u001b[A\n",
      " 25%|██▌       | 1383/5424 [10:19<30:09,  2.23it/s]\u001b[A\n",
      " 26%|██▌       | 1384/5424 [10:19<30:08,  2.23it/s]\u001b[A\n",
      " 26%|██▌       | 1386/5424 [10:20<30:06,  2.23it/s]\u001b[A\n",
      " 26%|██▌       | 1388/5424 [10:20<30:03,  2.24it/s]\u001b[A\n",
      " 26%|██▌       | 1389/5424 [10:20<30:02,  2.24it/s]\u001b[A\n",
      " 26%|██▌       | 1391/5424 [10:20<29:59,  2.24it/s]\u001b[A\n",
      " 26%|██▌       | 1393/5424 [10:21<29:57,  2.24it/s]\u001b[A\n",
      " 26%|██▌       | 1394/5424 [10:21<29:56,  2.24it/s]\u001b[A\n",
      " 26%|██▌       | 1395/5424 [10:21<29:54,  2.24it/s]\u001b[A\n",
      " 26%|██▌       | 1396/5424 [10:21<29:54,  2.24it/s]\u001b[A\n",
      " 26%|██▌       | 1398/5424 [10:22<29:51,  2.25it/s]\u001b[A\n",
      " 26%|██▌       | 1400/5424 [10:22<29:48,  2.25it/s]\u001b[A\n",
      " 26%|██▌       | 1401/5424 [10:22<29:48,  2.25it/s]\u001b[A\n",
      " 26%|██▌       | 1403/5424 [10:22<29:44,  2.25it/s]\u001b[A\n",
      " 26%|██▌       | 1405/5424 [10:23<29:43,  2.25it/s]\u001b[A\n",
      " 26%|██▌       | 1406/5424 [10:24<29:43,  2.25it/s]\u001b[A\n",
      " 26%|██▌       | 1407/5424 [10:24<29:42,  2.25it/s]\u001b[A\n",
      " 26%|██▌       | 1408/5424 [10:24<29:41,  2.25it/s]\u001b[A\n",
      " 26%|██▌       | 1410/5424 [10:24<29:38,  2.26it/s]\u001b[A\n",
      " 26%|██▌       | 1411/5424 [10:25<29:38,  2.26it/s]\u001b[A\n",
      " 26%|██▌       | 1413/5424 [10:25<29:35,  2.26it/s]\u001b[A\n",
      " 26%|██▌       | 1414/5424 [10:25<29:34,  2.26it/s]\u001b[A\n",
      " 26%|██▌       | 1415/5424 [10:25<29:32,  2.26it/s]\u001b[A\n",
      " 26%|██▌       | 1417/5424 [10:26<29:30,  2.26it/s]\u001b[A\n",
      " 26%|██▌       | 1418/5424 [10:26<29:28,  2.26it/s]\u001b[A\n",
      " 26%|██▌       | 1420/5424 [10:26<29:25,  2.27it/s]\u001b[A\n",
      " 26%|██▌       | 1422/5424 [10:26<29:22,  2.27it/s]\u001b[A\n",
      " 26%|██▋       | 1424/5424 [10:26<29:20,  2.27it/s]\u001b[A\n",
      " 26%|██▋       | 1426/5424 [10:27<29:18,  2.27it/s]\u001b[A\n",
      " 26%|██▋       | 1427/5424 [10:27<29:17,  2.27it/s]\u001b[A\n",
      " 26%|██▋       | 1429/5424 [10:27<29:15,  2.28it/s]\u001b[A\n",
      " 26%|██▋       | 1431/5424 [10:28<29:12,  2.28it/s]\u001b[A\n",
      " 26%|██▋       | 1433/5424 [10:28<29:10,  2.28it/s]\u001b[A\n",
      " 26%|██▋       | 1435/5424 [10:28<29:07,  2.28it/s]\u001b[A\n",
      " 26%|██▋       | 1436/5424 [10:28<29:06,  2.28it/s]\u001b[A\n",
      " 26%|██▋       | 1437/5424 [10:29<29:05,  2.28it/s]\u001b[A\n",
      " 27%|██▋       | 1439/5424 [10:29<29:03,  2.29it/s]\u001b[A\n",
      " 27%|██▋       | 1440/5424 [10:30<29:03,  2.29it/s]\u001b[A\n",
      " 27%|██▋       | 1441/5424 [10:30<29:02,  2.29it/s]\u001b[A\n",
      " 27%|██▋       | 1443/5424 [10:30<28:59,  2.29it/s]\u001b[A\n",
      " 27%|██▋       | 1445/5424 [10:31<28:58,  2.29it/s]\u001b[A\n",
      " 27%|██▋       | 1446/5424 [10:31<28:58,  2.29it/s]\u001b[A\n",
      " 27%|██▋       | 1447/5424 [10:32<28:57,  2.29it/s]\u001b[A\n",
      " 27%|██▋       | 1449/5424 [10:32<28:54,  2.29it/s]\u001b[A\n",
      " 27%|██▋       | 1450/5424 [10:32<28:53,  2.29it/s]\u001b[A\n",
      " 27%|██▋       | 1452/5424 [10:32<28:50,  2.29it/s]\u001b[A\n",
      " 27%|██▋       | 1454/5424 [10:32<28:47,  2.30it/s]\u001b[A\n",
      " 27%|██▋       | 1456/5424 [10:33<28:45,  2.30it/s]\u001b[A\n"
     ]
    },
    {
     "name": "stderr",
     "output_type": "stream",
     "text": [
      " 27%|██▋       | 1458/5424 [10:33<28:43,  2.30it/s]\u001b[A\n",
      " 27%|██▋       | 1460/5424 [10:33<28:40,  2.30it/s]\u001b[A\n",
      " 27%|██▋       | 1461/5424 [10:33<28:39,  2.31it/s]\u001b[A\n",
      " 27%|██▋       | 1462/5424 [10:34<28:38,  2.31it/s]\u001b[A\n",
      " 27%|██▋       | 1463/5424 [10:34<28:37,  2.31it/s]\u001b[A\n",
      " 27%|██▋       | 1464/5424 [10:34<28:36,  2.31it/s]\u001b[A\n",
      " 27%|██▋       | 1465/5424 [10:34<28:35,  2.31it/s]\u001b[A\n",
      " 27%|██▋       | 1466/5424 [10:35<28:34,  2.31it/s]\u001b[A\n",
      " 27%|██▋       | 1467/5424 [10:35<28:34,  2.31it/s]\u001b[A\n",
      " 27%|██▋       | 1468/5424 [10:35<28:33,  2.31it/s]\u001b[A\n",
      " 27%|██▋       | 1470/5424 [10:36<28:31,  2.31it/s]\u001b[A\n",
      " 27%|██▋       | 1472/5424 [10:36<28:28,  2.31it/s]\u001b[A\n",
      " 27%|██▋       | 1474/5424 [10:36<28:26,  2.32it/s]\u001b[A\n",
      " 27%|██▋       | 1475/5424 [10:36<28:25,  2.32it/s]\u001b[A\n",
      " 27%|██▋       | 1476/5424 [10:37<28:24,  2.32it/s]\u001b[A\n",
      " 27%|██▋       | 1478/5424 [10:37<28:21,  2.32it/s]\u001b[A\n",
      " 27%|██▋       | 1479/5424 [10:37<28:20,  2.32it/s]\u001b[A\n",
      " 27%|██▋       | 1481/5424 [10:38<28:18,  2.32it/s]\u001b[A\n",
      " 27%|██▋       | 1482/5424 [10:38<28:17,  2.32it/s]\u001b[A\n",
      " 27%|██▋       | 1483/5424 [10:38<28:16,  2.32it/s]\u001b[A\n",
      " 27%|██▋       | 1484/5424 [10:38<28:16,  2.32it/s]\u001b[A\n",
      " 27%|██▋       | 1485/5424 [10:39<28:15,  2.32it/s]\u001b[A\n",
      " 27%|██▋       | 1487/5424 [10:39<28:12,  2.33it/s]\u001b[A\n",
      " 27%|██▋       | 1488/5424 [10:39<28:12,  2.33it/s]\u001b[A\n",
      " 27%|██▋       | 1490/5424 [10:39<28:09,  2.33it/s]\u001b[A\n",
      " 28%|██▊       | 1492/5424 [10:40<28:07,  2.33it/s]\u001b[A\n",
      " 28%|██▊       | 1494/5424 [10:40<28:05,  2.33it/s]\u001b[A\n",
      " 28%|██▊       | 1495/5424 [10:41<28:04,  2.33it/s]\u001b[A\n",
      " 28%|██▊       | 1497/5424 [10:41<28:02,  2.33it/s]\u001b[A\n",
      " 28%|██▊       | 1499/5424 [10:41<27:59,  2.34it/s]\u001b[A\n",
      " 28%|██▊       | 1500/5424 [10:41<27:58,  2.34it/s]\u001b[A\n",
      " 28%|██▊       | 1501/5424 [10:42<27:57,  2.34it/s]\u001b[A\n",
      " 28%|██▊       | 1502/5424 [10:42<27:56,  2.34it/s]\u001b[A\n",
      " 28%|██▊       | 1504/5424 [10:42<27:54,  2.34it/s]\u001b[A\n",
      " 28%|██▊       | 1505/5424 [10:42<27:53,  2.34it/s]\u001b[A\n",
      " 28%|██▊       | 1506/5424 [10:42<27:52,  2.34it/s]\u001b[A\n",
      " 28%|██▊       | 1508/5424 [10:43<27:50,  2.34it/s]\u001b[A\n",
      " 28%|██▊       | 1509/5424 [10:44<27:51,  2.34it/s]\u001b[A\n",
      " 28%|██▊       | 1510/5424 [10:44<27:50,  2.34it/s]\u001b[A\n",
      " 28%|██▊       | 1511/5424 [10:44<27:49,  2.34it/s]\u001b[A\n",
      " 28%|██▊       | 1513/5424 [10:44<27:47,  2.35it/s]\u001b[A\n",
      " 28%|██▊       | 1514/5424 [10:46<27:49,  2.34it/s]\u001b[A\n",
      " 28%|██▊       | 1515/5424 [10:46<27:48,  2.34it/s]\u001b[A\n",
      " 28%|██▊       | 1516/5424 [10:47<27:47,  2.34it/s]\u001b[A\n",
      " 28%|██▊       | 1519/5424 [10:47<27:43,  2.35it/s]\u001b[A\n",
      " 28%|██▊       | 1520/5424 [10:47<27:43,  2.35it/s]\u001b[A\n",
      " 28%|██▊       | 1521/5424 [10:47<27:42,  2.35it/s]\u001b[A\n",
      " 28%|██▊       | 1522/5424 [10:47<27:41,  2.35it/s]\u001b[A\n",
      " 28%|██▊       | 1523/5424 [10:48<27:40,  2.35it/s]\u001b[A\n",
      " 28%|██▊       | 1524/5424 [10:48<27:39,  2.35it/s]\u001b[A\n",
      " 28%|██▊       | 1525/5424 [10:48<27:38,  2.35it/s]\u001b[A\n",
      " 28%|██▊       | 1527/5424 [10:49<27:36,  2.35it/s]\u001b[A\n",
      " 28%|██▊       | 1528/5424 [10:49<27:35,  2.35it/s]\u001b[A\n",
      " 28%|██▊       | 1529/5424 [10:49<27:34,  2.35it/s]\u001b[A\n",
      " 28%|██▊       | 1530/5424 [10:49<27:33,  2.35it/s]\u001b[A\n",
      " 28%|██▊       | 1532/5424 [10:50<27:32,  2.36it/s]\u001b[A\n",
      " 28%|██▊       | 1534/5424 [10:50<27:29,  2.36it/s]\u001b[A\n",
      " 28%|██▊       | 1535/5424 [10:51<27:29,  2.36it/s]\u001b[A\n",
      " 28%|██▊       | 1537/5424 [10:51<27:27,  2.36it/s]\u001b[A\n",
      " 28%|██▊       | 1538/5424 [10:51<27:26,  2.36it/s]\u001b[A\n",
      " 28%|██▊       | 1539/5424 [10:51<27:25,  2.36it/s]\u001b[A\n",
      " 28%|██▊       | 1541/5424 [10:52<27:23,  2.36it/s]\u001b[A\n",
      " 28%|██▊       | 1542/5424 [10:52<27:22,  2.36it/s]\u001b[A\n",
      " 28%|██▊       | 1544/5424 [10:52<27:20,  2.36it/s]\u001b[A\n",
      " 29%|██▊       | 1546/5424 [10:53<27:18,  2.37it/s]\u001b[A\n",
      " 29%|██▊       | 1547/5424 [10:53<27:17,  2.37it/s]\u001b[A\n",
      " 29%|██▊       | 1549/5424 [10:53<27:15,  2.37it/s]\u001b[A\n",
      " 29%|██▊       | 1550/5424 [10:54<27:15,  2.37it/s]\u001b[A\n",
      " 29%|██▊       | 1552/5424 [10:54<27:13,  2.37it/s]\u001b[A\n",
      " 29%|██▊       | 1553/5424 [10:54<27:11,  2.37it/s]\u001b[A\n",
      " 29%|██▊       | 1554/5424 [10:54<27:10,  2.37it/s]\u001b[A\n",
      " 29%|██▊       | 1557/5424 [10:55<27:07,  2.38it/s]\u001b[A\n",
      " 29%|██▊       | 1558/5424 [10:55<27:06,  2.38it/s]\u001b[A\n",
      " 29%|██▊       | 1559/5424 [10:55<27:05,  2.38it/s]\u001b[A\n",
      " 29%|██▉       | 1560/5424 [10:56<27:04,  2.38it/s]\u001b[A\n",
      " 29%|██▉       | 1561/5424 [10:56<27:04,  2.38it/s]\u001b[A\n",
      " 29%|██▉       | 1563/5424 [10:56<27:02,  2.38it/s]\u001b[A\n",
      " 29%|██▉       | 1566/5424 [10:56<26:58,  2.38it/s]\u001b[A\n",
      " 29%|██▉       | 1568/5424 [10:57<26:56,  2.39it/s]\u001b[A\n",
      " 29%|██▉       | 1570/5424 [10:57<26:54,  2.39it/s]\u001b[A\n",
      " 29%|██▉       | 1572/5424 [10:57<26:52,  2.39it/s]\u001b[A\n",
      " 29%|██▉       | 1573/5424 [10:58<26:51,  2.39it/s]\u001b[A\n",
      " 29%|██▉       | 1575/5424 [10:58<26:48,  2.39it/s]\u001b[A\n",
      " 29%|██▉       | 1577/5424 [10:58<26:46,  2.39it/s]\u001b[A\n",
      " 29%|██▉       | 1579/5424 [10:58<26:43,  2.40it/s]\u001b[A\n",
      " 29%|██▉       | 1581/5424 [10:58<26:41,  2.40it/s]\u001b[A\n",
      " 29%|██▉       | 1583/5424 [10:59<26:39,  2.40it/s]\u001b[A\n",
      " 29%|██▉       | 1584/5424 [10:59<26:38,  2.40it/s]\u001b[A\n",
      " 29%|██▉       | 1586/5424 [10:59<26:36,  2.40it/s]\u001b[A\n",
      " 29%|██▉       | 1587/5424 [11:00<26:35,  2.40it/s]\u001b[A\n",
      " 29%|██▉       | 1588/5424 [11:00<26:35,  2.40it/s]\u001b[A\n",
      " 29%|██▉       | 1590/5424 [11:00<26:33,  2.41it/s]\u001b[A\n",
      " 29%|██▉       | 1591/5424 [11:00<26:32,  2.41it/s]\u001b[A\n",
      " 29%|██▉       | 1592/5424 [11:01<26:31,  2.41it/s]\u001b[A\n",
      " 29%|██▉       | 1593/5424 [11:01<26:30,  2.41it/s]\u001b[A\n",
      " 29%|██▉       | 1594/5424 [11:01<26:29,  2.41it/s]\u001b[A\n",
      " 29%|██▉       | 1596/5424 [11:01<26:27,  2.41it/s]\u001b[A\n",
      " 29%|██▉       | 1597/5424 [11:02<26:26,  2.41it/s]\u001b[A\n",
      " 29%|██▉       | 1598/5424 [11:02<26:26,  2.41it/s]\u001b[A\n",
      " 29%|██▉       | 1599/5424 [11:02<26:25,  2.41it/s]\u001b[A\n",
      " 29%|██▉       | 1600/5424 [11:02<26:24,  2.41it/s]\u001b[A\n",
      " 30%|██▉       | 1601/5424 [11:03<26:23,  2.41it/s]\u001b[A\n",
      " 30%|██▉       | 1603/5424 [11:03<26:20,  2.42it/s]\u001b[A\n",
      " 30%|██▉       | 1605/5424 [11:03<26:18,  2.42it/s]\u001b[A\n",
      " 30%|██▉       | 1607/5424 [11:03<26:16,  2.42it/s]\u001b[A\n",
      " 30%|██▉       | 1609/5424 [11:03<26:13,  2.42it/s]\u001b[A\n",
      " 30%|██▉       | 1611/5424 [11:04<26:11,  2.43it/s]\u001b[A\n",
      " 30%|██▉       | 1612/5424 [11:04<26:11,  2.43it/s]\u001b[A\n",
      " 30%|██▉       | 1613/5424 [11:04<26:10,  2.43it/s]\u001b[A\n",
      " 30%|██▉       | 1614/5424 [11:04<26:09,  2.43it/s]\u001b[A\n",
      " 30%|██▉       | 1616/5424 [11:05<26:08,  2.43it/s]\u001b[A\n",
      " 30%|██▉       | 1618/5424 [11:05<26:06,  2.43it/s]\u001b[A\n",
      " 30%|██▉       | 1619/5424 [11:06<26:05,  2.43it/s]\u001b[A\n",
      " 30%|██▉       | 1621/5424 [11:06<26:03,  2.43it/s]\u001b[A\n",
      " 30%|██▉       | 1624/5424 [11:06<25:59,  2.44it/s]\u001b[A\n",
      " 30%|██▉       | 1625/5424 [11:06<25:59,  2.44it/s]\u001b[A\n",
      " 30%|██▉       | 1627/5424 [11:06<25:56,  2.44it/s]\u001b[A\n",
      " 30%|███       | 1629/5424 [11:07<25:54,  2.44it/s]\u001b[A\n",
      " 30%|███       | 1631/5424 [11:07<25:52,  2.44it/s]\u001b[A\n",
      " 30%|███       | 1632/5424 [11:08<25:52,  2.44it/s]\u001b[A\n",
      " 30%|███       | 1634/5424 [11:08<25:50,  2.44it/s]\u001b[A\n",
      " 30%|███       | 1636/5424 [11:08<25:48,  2.45it/s]\u001b[A\n",
      " 30%|███       | 1637/5424 [11:09<25:47,  2.45it/s]\u001b[A\n",
      " 30%|███       | 1638/5424 [11:09<25:46,  2.45it/s]\u001b[A\n",
      " 30%|███       | 1640/5424 [11:09<25:44,  2.45it/s]\u001b[A\n",
      " 30%|███       | 1641/5424 [11:10<25:45,  2.45it/s]\u001b[A\n",
      " 30%|███       | 1644/5424 [11:10<25:41,  2.45it/s]\u001b[A\n",
      " 30%|███       | 1645/5424 [11:10<25:41,  2.45it/s]\u001b[A\n",
      " 30%|███       | 1646/5424 [11:10<25:40,  2.45it/s]\u001b[A\n",
      " 30%|███       | 1647/5424 [11:11<25:38,  2.45it/s]\u001b[A\n",
      " 30%|███       | 1649/5424 [11:11<25:37,  2.46it/s]\u001b[A\n",
      " 30%|███       | 1650/5424 [11:11<25:36,  2.46it/s]\u001b[A\n",
      " 30%|███       | 1651/5424 [11:11<25:35,  2.46it/s]\u001b[A\n",
      " 30%|███       | 1653/5424 [11:12<25:33,  2.46it/s]\u001b[A\n",
      " 31%|███       | 1655/5424 [11:12<25:31,  2.46it/s]\u001b[A\n",
      " 31%|███       | 1656/5424 [11:12<25:30,  2.46it/s]\u001b[A\n",
      " 31%|███       | 1657/5424 [11:12<25:29,  2.46it/s]\u001b[A\n",
      " 31%|███       | 1658/5424 [11:13<25:28,  2.46it/s]\u001b[A\n",
      " 31%|███       | 1659/5424 [11:13<25:27,  2.46it/s]\u001b[A\n",
      " 31%|███       | 1660/5424 [11:13<25:27,  2.46it/s]\u001b[A\n",
      " 31%|███       | 1661/5424 [11:13<25:26,  2.47it/s]\u001b[A\n",
      " 31%|███       | 1663/5424 [11:13<25:24,  2.47it/s]\u001b[A\n",
      " 31%|███       | 1664/5424 [11:14<25:23,  2.47it/s]\u001b[A\n",
      " 31%|███       | 1665/5424 [11:14<25:22,  2.47it/s]\u001b[A\n",
      " 31%|███       | 1667/5424 [11:14<25:20,  2.47it/s]\u001b[A\n",
      " 31%|███       | 1668/5424 [11:15<25:20,  2.47it/s]\u001b[A\n",
      " 31%|███       | 1671/5424 [11:15<25:16,  2.47it/s]\u001b[A\n",
      " 31%|███       | 1673/5424 [11:15<25:14,  2.48it/s]\u001b[A\n"
     ]
    },
    {
     "name": "stderr",
     "output_type": "stream",
     "text": [
      " 31%|███       | 1675/5424 [11:15<25:12,  2.48it/s]\u001b[A\n",
      " 31%|███       | 1677/5424 [11:15<25:09,  2.48it/s]\u001b[A\n",
      " 31%|███       | 1679/5424 [11:16<25:08,  2.48it/s]\u001b[A\n",
      " 31%|███       | 1680/5424 [11:16<25:07,  2.48it/s]\u001b[A\n",
      " 31%|███       | 1682/5424 [11:16<25:04,  2.49it/s]\u001b[A\n",
      " 31%|███       | 1684/5424 [11:16<25:03,  2.49it/s]\u001b[A\n",
      " 31%|███       | 1686/5424 [11:17<25:01,  2.49it/s]\u001b[A\n",
      " 31%|███       | 1688/5424 [11:17<24:58,  2.49it/s]\u001b[A\n",
      " 31%|███       | 1690/5424 [11:17<24:56,  2.49it/s]\u001b[A\n",
      " 31%|███       | 1692/5424 [11:17<24:55,  2.50it/s]\u001b[A\n",
      " 31%|███       | 1693/5424 [11:18<24:54,  2.50it/s]\u001b[A\n",
      " 31%|███       | 1694/5424 [11:18<24:53,  2.50it/s]\u001b[A\n",
      " 31%|███▏      | 1696/5424 [11:18<24:51,  2.50it/s]\u001b[A\n",
      " 31%|███▏      | 1698/5424 [11:18<24:49,  2.50it/s]\u001b[A\n",
      " 31%|███▏      | 1700/5424 [11:18<24:47,  2.50it/s]\u001b[A\n",
      " 31%|███▏      | 1702/5424 [11:19<24:45,  2.51it/s]\u001b[A\n",
      " 31%|███▏      | 1704/5424 [11:19<24:43,  2.51it/s]\u001b[A\n",
      " 31%|███▏      | 1707/5424 [11:19<24:40,  2.51it/s]\u001b[A\n",
      " 32%|███▏      | 1709/5424 [11:20<24:39,  2.51it/s]\u001b[A\n",
      " 32%|███▏      | 1710/5424 [11:20<24:38,  2.51it/s]\u001b[A\n",
      " 32%|███▏      | 1712/5424 [11:21<24:36,  2.51it/s]\u001b[A\n",
      " 32%|███▏      | 1714/5424 [11:21<24:34,  2.52it/s]\u001b[A\n",
      " 32%|███▏      | 1716/5424 [11:21<24:32,  2.52it/s]\u001b[A\n",
      " 32%|███▏      | 1718/5424 [11:21<24:30,  2.52it/s]\u001b[A\n",
      " 32%|███▏      | 1720/5424 [11:22<24:29,  2.52it/s]\u001b[A\n",
      " 32%|███▏      | 1721/5424 [11:22<24:28,  2.52it/s]\u001b[A\n",
      " 32%|███▏      | 1722/5424 [11:22<24:27,  2.52it/s]\u001b[A\n",
      " 32%|███▏      | 1723/5424 [11:22<24:26,  2.52it/s]\u001b[A\n",
      " 32%|███▏      | 1725/5424 [11:23<24:24,  2.53it/s]\u001b[A\n",
      " 32%|███▏      | 1727/5424 [11:23<24:22,  2.53it/s]\u001b[A\n",
      " 32%|███▏      | 1729/5424 [11:23<24:21,  2.53it/s]\u001b[A\n",
      " 32%|███▏      | 1730/5424 [11:23<24:20,  2.53it/s]\u001b[A\n",
      " 32%|███▏      | 1731/5424 [11:24<24:20,  2.53it/s]\u001b[A\n",
      " 32%|███▏      | 1732/5424 [11:24<24:19,  2.53it/s]\u001b[A\n",
      " 32%|███▏      | 1733/5424 [11:24<24:18,  2.53it/s]\u001b[A\n",
      " 32%|███▏      | 1735/5424 [11:25<24:16,  2.53it/s]\u001b[A\n",
      " 32%|███▏      | 1736/5424 [11:25<24:15,  2.53it/s]\u001b[A\n",
      " 32%|███▏      | 1738/5424 [11:25<24:14,  2.53it/s]\u001b[A\n",
      " 32%|███▏      | 1740/5424 [11:26<24:13,  2.54it/s]\u001b[A\n",
      " 32%|███▏      | 1741/5424 [11:26<24:12,  2.54it/s]\u001b[A\n",
      " 32%|███▏      | 1743/5424 [11:26<24:10,  2.54it/s]\u001b[A\n",
      " 32%|███▏      | 1744/5424 [11:27<24:09,  2.54it/s]\u001b[A\n",
      " 32%|███▏      | 1745/5424 [11:27<24:09,  2.54it/s]\u001b[A\n",
      " 32%|███▏      | 1747/5424 [11:27<24:07,  2.54it/s]\u001b[A\n",
      " 32%|███▏      | 1748/5424 [11:28<24:07,  2.54it/s]\u001b[A\n",
      " 32%|███▏      | 1749/5424 [11:28<24:06,  2.54it/s]\u001b[A\n",
      " 32%|███▏      | 1750/5424 [11:28<24:05,  2.54it/s]\u001b[A\n",
      " 32%|███▏      | 1751/5424 [11:28<24:05,  2.54it/s]\u001b[A\n",
      " 32%|███▏      | 1752/5424 [11:29<24:04,  2.54it/s]\u001b[A\n",
      " 32%|███▏      | 1753/5424 [11:29<24:03,  2.54it/s]\u001b[A\n",
      " 32%|███▏      | 1754/5424 [11:30<24:04,  2.54it/s]\u001b[A\n",
      " 32%|███▏      | 1756/5424 [11:30<24:02,  2.54it/s]\u001b[A\n",
      " 32%|███▏      | 1758/5424 [11:30<24:00,  2.54it/s]\u001b[A\n",
      " 32%|███▏      | 1760/5424 [11:31<23:59,  2.55it/s]\u001b[A\n",
      " 32%|███▏      | 1761/5424 [11:31<23:58,  2.55it/s]\u001b[A\n",
      " 33%|███▎      | 1763/5424 [11:31<23:56,  2.55it/s]\u001b[A\n",
      " 33%|███▎      | 1764/5424 [11:32<23:56,  2.55it/s]\u001b[A\n",
      " 33%|███▎      | 1766/5424 [11:32<23:53,  2.55it/s]\u001b[A\n",
      " 33%|███▎      | 1767/5424 [11:32<23:53,  2.55it/s]\u001b[A\n",
      " 33%|███▎      | 1769/5424 [11:32<23:51,  2.55it/s]\u001b[A\n",
      " 33%|███▎      | 1771/5424 [11:33<23:49,  2.56it/s]\u001b[A\n",
      " 33%|███▎      | 1772/5424 [11:33<23:48,  2.56it/s]\u001b[A\n",
      " 33%|███▎      | 1774/5424 [11:33<23:46,  2.56it/s]\u001b[A\n",
      " 33%|███▎      | 1775/5424 [11:33<23:45,  2.56it/s]\u001b[A\n",
      " 33%|███▎      | 1777/5424 [11:33<23:43,  2.56it/s]\u001b[A\n",
      " 33%|███▎      | 1779/5424 [11:34<23:42,  2.56it/s]\u001b[A\n",
      " 33%|███▎      | 1780/5424 [11:34<23:41,  2.56it/s]\u001b[A\n",
      " 33%|███▎      | 1782/5424 [11:34<23:39,  2.57it/s]\u001b[A\n",
      " 33%|███▎      | 1784/5424 [11:34<23:37,  2.57it/s]\u001b[A\n",
      " 33%|███▎      | 1786/5424 [11:34<23:35,  2.57it/s]\u001b[A\n",
      " 33%|███▎      | 1787/5424 [11:35<23:34,  2.57it/s]\u001b[A\n",
      " 33%|███▎      | 1789/5424 [11:35<23:32,  2.57it/s]\u001b[A\n",
      " 33%|███▎      | 1791/5424 [11:35<23:31,  2.57it/s]\u001b[A\n",
      " 33%|███▎      | 1792/5424 [11:35<23:30,  2.58it/s]\u001b[A\n",
      " 33%|███▎      | 1793/5424 [11:36<23:29,  2.58it/s]\u001b[A\n",
      " 33%|███▎      | 1794/5424 [11:36<23:29,  2.58it/s]\u001b[A\n",
      " 33%|███▎      | 1795/5424 [11:36<23:28,  2.58it/s]\u001b[A\n",
      " 33%|███▎      | 1796/5424 [11:37<23:28,  2.58it/s]\u001b[A\n",
      " 33%|███▎      | 1798/5424 [11:37<23:26,  2.58it/s]\u001b[A\n",
      " 33%|███▎      | 1799/5424 [11:37<23:25,  2.58it/s]\u001b[A\n",
      " 33%|███▎      | 1800/5424 [11:37<23:25,  2.58it/s]\u001b[A\n",
      " 33%|███▎      | 1801/5424 [11:38<23:24,  2.58it/s]\u001b[A\n",
      " 33%|███▎      | 1802/5424 [11:38<23:23,  2.58it/s]\u001b[A\n",
      " 33%|███▎      | 1803/5424 [11:38<23:23,  2.58it/s]\u001b[A\n",
      " 33%|███▎      | 1804/5424 [11:38<23:22,  2.58it/s]\u001b[A\n",
      " 33%|███▎      | 1805/5424 [11:39<23:21,  2.58it/s]\u001b[A\n",
      " 33%|███▎      | 1806/5424 [11:39<23:21,  2.58it/s]\u001b[A\n",
      " 33%|███▎      | 1807/5424 [11:39<23:20,  2.58it/s]\u001b[A\n",
      " 33%|███▎      | 1808/5424 [11:39<23:19,  2.58it/s]\u001b[A\n",
      " 33%|███▎      | 1809/5424 [11:40<23:19,  2.58it/s]\u001b[A\n",
      " 33%|███▎      | 1810/5424 [11:40<23:18,  2.58it/s]\u001b[A\n",
      " 33%|███▎      | 1811/5424 [11:40<23:17,  2.58it/s]\u001b[A\n",
      " 33%|███▎      | 1812/5424 [11:40<23:16,  2.59it/s]\u001b[A\n",
      " 33%|███▎      | 1813/5424 [11:41<23:16,  2.59it/s]\u001b[A\n",
      " 33%|███▎      | 1816/5424 [11:41<23:13,  2.59it/s]\u001b[A\n",
      " 33%|███▎      | 1817/5424 [11:41<23:12,  2.59it/s]\u001b[A\n",
      " 34%|███▎      | 1819/5424 [11:41<23:10,  2.59it/s]\u001b[A\n",
      " 34%|███▎      | 1820/5424 [11:41<23:10,  2.59it/s]\u001b[A\n",
      " 34%|███▎      | 1821/5424 [11:42<23:09,  2.59it/s]\u001b[A\n",
      " 34%|███▎      | 1822/5424 [11:42<23:09,  2.59it/s]\u001b[A\n",
      " 34%|███▎      | 1823/5424 [11:42<23:08,  2.59it/s]\u001b[A\n",
      " 34%|███▎      | 1824/5424 [11:43<23:07,  2.59it/s]\u001b[A\n",
      " 34%|███▎      | 1826/5424 [11:43<23:05,  2.60it/s]\u001b[A\n",
      " 34%|███▎      | 1828/5424 [11:43<23:04,  2.60it/s]\u001b[A\n",
      " 34%|███▎      | 1829/5424 [11:43<23:03,  2.60it/s]\u001b[A\n",
      " 34%|███▍      | 1831/5424 [11:44<23:02,  2.60it/s]\u001b[A\n",
      " 34%|███▍      | 1832/5424 [11:44<23:01,  2.60it/s]\u001b[A\n",
      " 34%|███▍      | 1834/5424 [11:44<22:59,  2.60it/s]\u001b[A\n",
      " 34%|███▍      | 1835/5424 [11:45<22:59,  2.60it/s]\u001b[A\n",
      " 34%|███▍      | 1836/5424 [11:45<22:58,  2.60it/s]\u001b[A\n",
      " 34%|███▍      | 1837/5424 [11:45<22:57,  2.60it/s]\u001b[A\n",
      " 34%|███▍      | 1838/5424 [11:45<22:56,  2.61it/s]\u001b[A\n",
      " 34%|███▍      | 1839/5424 [11:45<22:55,  2.61it/s]\u001b[A\n",
      " 34%|███▍      | 1840/5424 [11:45<22:54,  2.61it/s]\u001b[A\n",
      " 34%|███▍      | 1841/5424 [11:46<22:54,  2.61it/s]\u001b[A\n",
      " 34%|███▍      | 1842/5424 [11:46<22:53,  2.61it/s]\u001b[A\n",
      " 34%|███▍      | 1844/5424 [11:46<22:52,  2.61it/s]\u001b[A\n",
      " 34%|███▍      | 1845/5424 [11:47<22:51,  2.61it/s]\u001b[A\n",
      " 34%|███▍      | 1846/5424 [11:47<22:50,  2.61it/s]\u001b[A\n",
      " 34%|███▍      | 1847/5424 [11:47<22:50,  2.61it/s]\u001b[A\n",
      " 34%|███▍      | 1849/5424 [11:47<22:48,  2.61it/s]\u001b[A\n",
      " 34%|███▍      | 1851/5424 [11:48<22:46,  2.61it/s]\u001b[A\n",
      " 34%|███▍      | 1852/5424 [11:48<22:46,  2.61it/s]\u001b[A\n",
      " 34%|███▍      | 1854/5424 [11:48<22:44,  2.62it/s]\u001b[A\n",
      " 34%|███▍      | 1855/5424 [11:48<22:43,  2.62it/s]\u001b[A\n",
      " 34%|███▍      | 1856/5424 [11:48<22:42,  2.62it/s]\u001b[A\n",
      " 34%|███▍      | 1858/5424 [11:49<22:40,  2.62it/s]\u001b[A\n",
      " 34%|███▍      | 1860/5424 [11:49<22:39,  2.62it/s]\u001b[A\n",
      " 34%|███▍      | 1862/5424 [11:49<22:37,  2.62it/s]\u001b[A\n",
      " 34%|███▍      | 1863/5424 [11:49<22:36,  2.63it/s]\u001b[A\n",
      " 34%|███▍      | 1864/5424 [11:49<22:35,  2.63it/s]\u001b[A\n",
      " 34%|███▍      | 1865/5424 [11:50<22:35,  2.63it/s]\u001b[A\n",
      " 34%|███▍      | 1866/5424 [11:50<22:34,  2.63it/s]\u001b[A\n",
      " 34%|███▍      | 1867/5424 [11:50<22:33,  2.63it/s]\u001b[A\n",
      " 34%|███▍      | 1869/5424 [11:50<22:32,  2.63it/s]\u001b[A\n",
      " 34%|███▍      | 1870/5424 [11:50<22:31,  2.63it/s]\u001b[A\n",
      " 34%|███▍      | 1871/5424 [11:51<22:30,  2.63it/s]\u001b[A\n",
      " 35%|███▍      | 1872/5424 [11:51<22:29,  2.63it/s]\u001b[A\n",
      " 35%|███▍      | 1873/5424 [11:51<22:29,  2.63it/s]\u001b[A\n",
      " 35%|███▍      | 1874/5424 [11:51<22:28,  2.63it/s]\u001b[A\n",
      " 35%|███▍      | 1875/5424 [11:52<22:27,  2.63it/s]\u001b[A\n",
      " 35%|███▍      | 1876/5424 [11:52<22:26,  2.63it/s]\u001b[A\n",
      " 35%|███▍      | 1878/5424 [11:52<22:25,  2.64it/s]\u001b[A\n",
      " 35%|███▍      | 1879/5424 [11:52<22:24,  2.64it/s]\u001b[A\n",
      " 35%|███▍      | 1880/5424 [11:52<22:23,  2.64it/s]\u001b[A\n",
      " 35%|███▍      | 1881/5424 [11:52<22:22,  2.64it/s]\u001b[A\n",
      " 35%|███▍      | 1883/5424 [11:53<22:21,  2.64it/s]\u001b[A\n",
      " 35%|███▍      | 1885/5424 [11:53<22:19,  2.64it/s]\u001b[A\n"
     ]
    },
    {
     "name": "stderr",
     "output_type": "stream",
     "text": [
      " 35%|███▍      | 1886/5424 [11:53<22:18,  2.64it/s]\u001b[A\n",
      " 35%|███▍      | 1887/5424 [11:53<22:17,  2.64it/s]\u001b[A\n",
      " 35%|███▍      | 1888/5424 [11:54<22:17,  2.64it/s]\u001b[A\n",
      " 35%|███▍      | 1889/5424 [11:54<22:16,  2.64it/s]\u001b[A\n",
      " 35%|███▍      | 1890/5424 [11:54<22:16,  2.64it/s]\u001b[A\n",
      " 35%|███▍      | 1891/5424 [11:54<22:15,  2.65it/s]\u001b[A\n",
      " 35%|███▍      | 1893/5424 [11:55<22:14,  2.65it/s]\u001b[A\n",
      " 35%|███▍      | 1894/5424 [11:55<22:13,  2.65it/s]\u001b[A\n",
      " 35%|███▍      | 1895/5424 [11:55<22:12,  2.65it/s]\u001b[A\n",
      " 35%|███▍      | 1896/5424 [11:56<22:12,  2.65it/s]\u001b[A\n",
      " 35%|███▍      | 1897/5424 [11:56<22:12,  2.65it/s]\u001b[A\n",
      " 35%|███▍      | 1898/5424 [11:56<22:11,  2.65it/s]\u001b[A\n",
      " 35%|███▌      | 1899/5424 [11:56<22:10,  2.65it/s]\u001b[A\n",
      " 35%|███▌      | 1900/5424 [11:57<22:10,  2.65it/s]\u001b[A\n",
      " 35%|███▌      | 1901/5424 [11:57<22:09,  2.65it/s]\u001b[A\n",
      " 35%|███▌      | 1903/5424 [11:57<22:08,  2.65it/s]\u001b[A\n",
      " 35%|███▌      | 1904/5424 [11:57<22:07,  2.65it/s]\u001b[A\n",
      " 35%|███▌      | 1905/5424 [11:58<22:06,  2.65it/s]\u001b[A\n",
      " 35%|███▌      | 1907/5424 [11:58<22:04,  2.65it/s]\u001b[A\n",
      " 35%|███▌      | 1908/5424 [11:58<22:04,  2.66it/s]\u001b[A\n",
      " 35%|███▌      | 1909/5424 [11:58<22:03,  2.66it/s]\u001b[A\n",
      " 35%|███▌      | 1910/5424 [11:59<22:03,  2.66it/s]\u001b[A\n",
      " 35%|███▌      | 1912/5424 [11:59<22:01,  2.66it/s]\u001b[A\n",
      " 35%|███▌      | 1914/5424 [11:59<21:59,  2.66it/s]\u001b[A\n",
      " 35%|███▌      | 1916/5424 [11:59<21:57,  2.66it/s]\u001b[A\n",
      " 35%|███▌      | 1918/5424 [12:00<21:56,  2.66it/s]\u001b[A\n",
      " 35%|███▌      | 1919/5424 [12:00<21:55,  2.66it/s]\u001b[A\n",
      " 35%|███▌      | 1920/5424 [12:00<21:55,  2.66it/s]\u001b[A\n",
      " 35%|███▌      | 1921/5424 [12:01<21:54,  2.66it/s]\u001b[A\n",
      " 35%|███▌      | 1923/5424 [12:01<21:53,  2.67it/s]\u001b[A\n",
      " 35%|███▌      | 1924/5424 [12:01<21:52,  2.67it/s]\u001b[A\n",
      " 36%|███▌      | 1926/5424 [12:02<21:51,  2.67it/s]\u001b[A\n",
      " 36%|███▌      | 1927/5424 [12:02<21:50,  2.67it/s]\u001b[A\n",
      " 36%|███▌      | 1929/5424 [12:02<21:48,  2.67it/s]\u001b[A\n",
      " 36%|███▌      | 1930/5424 [12:02<21:48,  2.67it/s]\u001b[A\n",
      " 36%|███▌      | 1931/5424 [12:02<21:47,  2.67it/s]\u001b[A\n",
      " 36%|███▌      | 1933/5424 [12:02<21:45,  2.67it/s]\u001b[A\n",
      " 36%|███▌      | 1934/5424 [12:03<21:45,  2.67it/s]\u001b[A\n",
      " 36%|███▌      | 1936/5424 [12:03<21:43,  2.68it/s]\u001b[A\n",
      " 36%|███▌      | 1938/5424 [12:03<21:42,  2.68it/s]\u001b[A\n",
      " 36%|███▌      | 1939/5424 [12:04<21:41,  2.68it/s]\u001b[A\n",
      " 36%|███▌      | 1941/5424 [12:04<21:39,  2.68it/s]\u001b[A\n",
      " 36%|███▌      | 1942/5424 [12:04<21:39,  2.68it/s]\u001b[A\n",
      " 36%|███▌      | 1943/5424 [12:04<21:38,  2.68it/s]\u001b[A\n",
      " 36%|███▌      | 1944/5424 [12:05<21:38,  2.68it/s]\u001b[A\n",
      " 36%|███▌      | 1946/5424 [12:05<21:36,  2.68it/s]\u001b[A\n",
      " 36%|███▌      | 1947/5424 [12:05<21:36,  2.68it/s]\u001b[A\n",
      " 36%|███▌      | 1949/5424 [12:06<21:34,  2.68it/s]\u001b[A\n",
      " 36%|███▌      | 1951/5424 [12:06<21:33,  2.69it/s]\u001b[A\n",
      " 36%|███▌      | 1953/5424 [12:06<21:31,  2.69it/s]\u001b[A\n",
      " 36%|███▌      | 1954/5424 [12:07<21:31,  2.69it/s]\u001b[A\n",
      " 36%|███▌      | 1955/5424 [12:07<21:30,  2.69it/s]\u001b[A\n",
      " 36%|███▌      | 1956/5424 [12:07<21:30,  2.69it/s]\u001b[A\n",
      " 36%|███▌      | 1957/5424 [12:08<21:29,  2.69it/s]\u001b[A\n",
      " 36%|███▌      | 1958/5424 [12:08<21:28,  2.69it/s]\u001b[A\n",
      " 36%|███▌      | 1959/5424 [12:08<21:28,  2.69it/s]\u001b[A\n",
      " 36%|███▌      | 1960/5424 [12:08<21:27,  2.69it/s]\u001b[A\n",
      " 36%|███▌      | 1961/5424 [12:08<21:27,  2.69it/s]\u001b[A\n",
      " 36%|███▌      | 1962/5424 [12:09<21:26,  2.69it/s]\u001b[A\n",
      " 36%|███▌      | 1964/5424 [12:09<21:25,  2.69it/s]\u001b[A\n",
      " 36%|███▌      | 1965/5424 [12:09<21:25,  2.69it/s]\u001b[A\n",
      " 36%|███▌      | 1966/5424 [12:10<21:24,  2.69it/s]\u001b[A\n",
      " 36%|███▋      | 1967/5424 [12:10<21:23,  2.69it/s]\u001b[A\n",
      " 36%|███▋      | 1968/5424 [12:10<21:23,  2.69it/s]\u001b[A\n",
      " 36%|███▋      | 1969/5424 [12:10<21:22,  2.69it/s]\u001b[A\n",
      " 36%|███▋      | 1971/5424 [12:11<21:21,  2.70it/s]\u001b[A\n",
      " 36%|███▋      | 1972/5424 [12:11<21:20,  2.70it/s]\u001b[A\n",
      " 36%|███▋      | 1973/5424 [12:11<21:19,  2.70it/s]\u001b[A\n",
      " 36%|███▋      | 1975/5424 [12:11<21:18,  2.70it/s]\u001b[A\n",
      " 36%|███▋      | 1976/5424 [12:12<21:17,  2.70it/s]\u001b[A\n",
      " 36%|███▋      | 1977/5424 [12:12<21:17,  2.70it/s]\u001b[A\n",
      " 36%|███▋      | 1979/5424 [12:12<21:15,  2.70it/s]\u001b[A\n",
      " 37%|███▋      | 1980/5424 [12:12<21:14,  2.70it/s]\u001b[A\n",
      " 37%|███▋      | 1981/5424 [12:13<21:14,  2.70it/s]\u001b[A\n",
      " 37%|███▋      | 1983/5424 [12:13<21:13,  2.70it/s]\u001b[A\n",
      " 37%|███▋      | 1985/5424 [12:14<21:11,  2.70it/s]\u001b[A\n",
      " 37%|███▋      | 1986/5424 [12:14<21:11,  2.70it/s]\u001b[A\n",
      " 37%|███▋      | 1988/5424 [12:14<21:09,  2.71it/s]\u001b[A\n",
      " 37%|███▋      | 1989/5424 [12:14<21:08,  2.71it/s]\u001b[A\n",
      " 37%|███▋      | 1990/5424 [12:14<21:08,  2.71it/s]\u001b[A\n",
      " 37%|███▋      | 1991/5424 [12:15<21:07,  2.71it/s]\u001b[A\n",
      " 37%|███▋      | 1992/5424 [12:15<21:07,  2.71it/s]\u001b[A\n",
      " 37%|███▋      | 1993/5424 [12:16<21:07,  2.71it/s]\u001b[A\n",
      " 37%|███▋      | 1995/5424 [12:16<21:05,  2.71it/s]\u001b[A\n",
      " 37%|███▋      | 1996/5424 [12:16<21:05,  2.71it/s]\u001b[A\n",
      " 37%|███▋      | 1997/5424 [12:17<21:04,  2.71it/s]\u001b[A\n",
      " 37%|███▋      | 1998/5424 [12:17<21:04,  2.71it/s]\u001b[A\n",
      " 37%|███▋      | 1999/5424 [12:17<21:03,  2.71it/s]\u001b[A\n",
      " 37%|███▋      | 2000/5424 [12:17<21:02,  2.71it/s]\u001b[A\n",
      " 37%|███▋      | 2001/5424 [12:17<21:02,  2.71it/s]\u001b[A\n",
      " 37%|███▋      | 2003/5424 [12:18<21:00,  2.71it/s]\u001b[A\n",
      " 37%|███▋      | 2005/5424 [12:18<20:58,  2.72it/s]\u001b[A\n",
      " 37%|███▋      | 2006/5424 [12:18<20:58,  2.72it/s]\u001b[A\n",
      " 37%|███▋      | 2007/5424 [12:19<20:58,  2.71it/s]\u001b[A\n",
      " 37%|███▋      | 2009/5424 [12:19<20:57,  2.72it/s]\u001b[A\n",
      " 37%|███▋      | 2010/5424 [12:19<20:56,  2.72it/s]\u001b[A\n",
      " 37%|███▋      | 2012/5424 [12:20<20:55,  2.72it/s]\u001b[A\n",
      " 37%|███▋      | 2013/5424 [12:20<20:54,  2.72it/s]\u001b[A\n",
      " 37%|███▋      | 2014/5424 [12:20<20:54,  2.72it/s]\u001b[A\n",
      " 37%|███▋      | 2016/5424 [12:21<20:52,  2.72it/s]\u001b[A\n",
      " 37%|███▋      | 2017/5424 [12:21<20:52,  2.72it/s]\u001b[A\n",
      " 37%|███▋      | 2018/5424 [12:24<20:57,  2.71it/s]\u001b[A\n",
      " 37%|███▋      | 2019/5424 [12:24<20:56,  2.71it/s]\u001b[A\n",
      " 37%|███▋      | 2020/5424 [12:25<20:55,  2.71it/s]\u001b[A\n",
      " 37%|███▋      | 2022/5424 [12:25<20:54,  2.71it/s]\u001b[A\n",
      " 37%|███▋      | 2023/5424 [12:25<20:53,  2.71it/s]\u001b[A\n",
      " 37%|███▋      | 2024/5424 [12:26<20:53,  2.71it/s]\u001b[A\n",
      " 37%|███▋      | 2025/5424 [12:26<20:52,  2.71it/s]\u001b[A\n",
      " 37%|███▋      | 2026/5424 [12:26<20:52,  2.71it/s]\u001b[A\n",
      " 37%|███▋      | 2028/5424 [12:26<20:50,  2.72it/s]\u001b[A\n",
      " 37%|███▋      | 2030/5424 [12:27<20:49,  2.72it/s]\u001b[A\n",
      " 37%|███▋      | 2031/5424 [12:27<20:48,  2.72it/s]\u001b[A\n",
      " 37%|███▋      | 2032/5424 [12:27<20:47,  2.72it/s]\u001b[A\n",
      " 37%|███▋      | 2033/5424 [12:28<20:47,  2.72it/s]\u001b[A\n",
      " 38%|███▊      | 2034/5424 [12:28<20:46,  2.72it/s]\u001b[A\n",
      " 38%|███▊      | 2035/5424 [12:28<20:46,  2.72it/s]\u001b[A\n",
      " 38%|███▊      | 2036/5424 [12:28<20:45,  2.72it/s]\u001b[A\n",
      " 38%|███▊      | 2037/5424 [12:29<20:45,  2.72it/s]\u001b[A\n",
      " 38%|███▊      | 2039/5424 [12:29<20:44,  2.72it/s]\u001b[A\n",
      " 38%|███▊      | 2041/5424 [12:29<20:42,  2.72it/s]\u001b[A\n",
      " 38%|███▊      | 2042/5424 [12:29<20:41,  2.72it/s]\u001b[A\n",
      " 38%|███▊      | 2044/5424 [12:30<20:40,  2.72it/s]\u001b[A\n",
      " 38%|███▊      | 2045/5424 [12:30<20:40,  2.72it/s]\u001b[A\n",
      " 38%|███▊      | 2046/5424 [12:31<20:39,  2.72it/s]\u001b[A\n",
      " 38%|███▊      | 2047/5424 [12:31<20:39,  2.72it/s]\u001b[A\n",
      " 38%|███▊      | 2048/5424 [12:31<20:38,  2.73it/s]\u001b[A\n",
      " 38%|███▊      | 2049/5424 [12:31<20:37,  2.73it/s]\u001b[A\n",
      " 38%|███▊      | 2050/5424 [12:31<20:37,  2.73it/s]\u001b[A\n",
      " 38%|███▊      | 2051/5424 [12:32<20:37,  2.73it/s]\u001b[A\n",
      " 38%|███▊      | 2053/5424 [12:32<20:35,  2.73it/s]\u001b[A\n",
      " 38%|███▊      | 2054/5424 [12:32<20:35,  2.73it/s]\u001b[A\n",
      " 38%|███▊      | 2055/5424 [12:33<20:34,  2.73it/s]\u001b[A\n",
      " 38%|███▊      | 2056/5424 [12:33<20:33,  2.73it/s]\u001b[A\n",
      " 38%|███▊      | 2057/5424 [12:33<20:33,  2.73it/s]\u001b[A\n",
      " 38%|███▊      | 2058/5424 [12:33<20:32,  2.73it/s]\u001b[A\n",
      " 38%|███▊      | 2059/5424 [12:33<20:31,  2.73it/s]\u001b[A\n",
      " 38%|███▊      | 2060/5424 [12:33<20:31,  2.73it/s]\u001b[A\n",
      " 38%|███▊      | 2063/5424 [12:34<20:28,  2.74it/s]\u001b[A\n",
      " 38%|███▊      | 2064/5424 [12:34<20:27,  2.74it/s]\u001b[A\n",
      " 38%|███▊      | 2065/5424 [12:34<20:27,  2.74it/s]\u001b[A\n",
      " 38%|███▊      | 2066/5424 [12:34<20:27,  2.74it/s]\u001b[A\n",
      " 38%|███▊      | 2067/5424 [12:35<20:26,  2.74it/s]\u001b[A\n",
      " 38%|███▊      | 2068/5424 [12:35<20:26,  2.74it/s]\u001b[A\n",
      " 38%|███▊      | 2070/5424 [12:35<20:24,  2.74it/s]\u001b[A\n",
      " 38%|███▊      | 2071/5424 [12:36<20:24,  2.74it/s]\u001b[A\n",
      " 38%|███▊      | 2072/5424 [12:36<20:23,  2.74it/s]\u001b[A\n",
      " 38%|███▊      | 2073/5424 [12:36<20:22,  2.74it/s]\u001b[A\n",
      " 38%|███▊      | 2074/5424 [12:36<20:22,  2.74it/s]\u001b[A\n"
     ]
    },
    {
     "name": "stderr",
     "output_type": "stream",
     "text": [
      " 38%|███▊      | 2075/5424 [12:36<20:21,  2.74it/s]\u001b[A\n",
      " 38%|███▊      | 2076/5424 [12:36<20:20,  2.74it/s]\u001b[A\n",
      " 38%|███▊      | 2077/5424 [12:37<20:20,  2.74it/s]\u001b[A\n",
      " 38%|███▊      | 2078/5424 [12:37<20:19,  2.74it/s]\u001b[A\n",
      " 38%|███▊      | 2079/5424 [12:37<20:18,  2.74it/s]\u001b[A\n",
      " 38%|███▊      | 2080/5424 [12:37<20:18,  2.74it/s]\u001b[A\n",
      " 38%|███▊      | 2081/5424 [12:38<20:17,  2.74it/s]\u001b[A\n",
      " 38%|███▊      | 2082/5424 [12:38<20:17,  2.74it/s]\u001b[A\n",
      " 38%|███▊      | 2083/5424 [12:38<20:17,  2.75it/s]\u001b[A\n",
      " 38%|███▊      | 2084/5424 [12:39<20:16,  2.75it/s]\u001b[A\n",
      " 38%|███▊      | 2085/5424 [12:39<20:16,  2.75it/s]\u001b[A\n",
      " 38%|███▊      | 2086/5424 [12:39<20:15,  2.75it/s]\u001b[A\n",
      " 38%|███▊      | 2087/5424 [12:39<20:15,  2.75it/s]\u001b[A\n",
      " 38%|███▊      | 2088/5424 [12:40<20:14,  2.75it/s]\u001b[A\n",
      " 39%|███▊      | 2089/5424 [12:40<20:14,  2.75it/s]\u001b[A\n",
      " 39%|███▊      | 2090/5424 [12:40<20:13,  2.75it/s]\u001b[A\n",
      " 39%|███▊      | 2091/5424 [12:41<20:13,  2.75it/s]\u001b[A\n",
      " 39%|███▊      | 2092/5424 [12:41<20:12,  2.75it/s]\u001b[A\n",
      " 39%|███▊      | 2093/5424 [12:41<20:12,  2.75it/s]\u001b[A\n",
      " 39%|███▊      | 2095/5424 [12:41<20:10,  2.75it/s]\u001b[A\n",
      " 39%|███▊      | 2096/5424 [12:42<20:09,  2.75it/s]\u001b[A\n",
      " 39%|███▊      | 2097/5424 [12:42<20:09,  2.75it/s]\u001b[A\n",
      " 39%|███▊      | 2098/5424 [12:42<20:08,  2.75it/s]\u001b[A\n",
      " 39%|███▊      | 2100/5424 [12:42<20:07,  2.75it/s]\u001b[A\n",
      " 39%|███▊      | 2101/5424 [12:43<20:06,  2.75it/s]\u001b[A\n",
      " 39%|███▉      | 2102/5424 [12:43<20:06,  2.75it/s]\u001b[A\n",
      " 39%|███▉      | 2103/5424 [12:43<20:05,  2.75it/s]\u001b[A\n",
      " 39%|███▉      | 2104/5424 [12:43<20:05,  2.76it/s]\u001b[A\n",
      " 39%|███▉      | 2105/5424 [12:43<20:04,  2.76it/s]\u001b[A\n",
      " 39%|███▉      | 2106/5424 [12:44<20:03,  2.76it/s]\u001b[A\n",
      " 39%|███▉      | 2108/5424 [12:44<20:02,  2.76it/s]\u001b[A\n",
      " 39%|███▉      | 2109/5424 [12:44<20:01,  2.76it/s]\u001b[A\n",
      " 39%|███▉      | 2110/5424 [12:44<20:01,  2.76it/s]\u001b[A\n",
      " 39%|███▉      | 2111/5424 [12:45<20:00,  2.76it/s]\u001b[A\n",
      " 39%|███▉      | 2112/5424 [12:45<20:00,  2.76it/s]\u001b[A\n",
      " 39%|███▉      | 2114/5424 [12:45<19:58,  2.76it/s]\u001b[A\n",
      " 39%|███▉      | 2116/5424 [12:46<19:57,  2.76it/s]\u001b[A\n",
      " 39%|███▉      | 2118/5424 [12:46<19:56,  2.76it/s]\u001b[A\n",
      " 39%|███▉      | 2119/5424 [12:46<19:56,  2.76it/s]\u001b[A\n",
      " 39%|███▉      | 2121/5424 [12:47<19:54,  2.76it/s]\u001b[A\n",
      " 39%|███▉      | 2122/5424 [12:47<19:54,  2.76it/s]\u001b[A\n",
      " 39%|███▉      | 2123/5424 [12:48<19:54,  2.76it/s]\u001b[A\n",
      " 39%|███▉      | 2124/5424 [12:48<19:53,  2.76it/s]\u001b[A\n",
      " 39%|███▉      | 2125/5424 [12:48<19:53,  2.77it/s]\u001b[A\n",
      " 39%|███▉      | 2127/5424 [12:48<19:51,  2.77it/s]\u001b[A\n",
      " 39%|███▉      | 2128/5424 [12:49<19:51,  2.77it/s]\u001b[A\n",
      " 39%|███▉      | 2129/5424 [12:49<19:51,  2.77it/s]\u001b[A\n",
      " 39%|███▉      | 2130/5424 [12:50<19:50,  2.77it/s]\u001b[A\n",
      " 39%|███▉      | 2131/5424 [12:50<19:50,  2.77it/s]\u001b[A\n",
      " 39%|███▉      | 2132/5424 [12:50<19:49,  2.77it/s]\u001b[A\n",
      " 39%|███▉      | 2133/5424 [12:50<19:49,  2.77it/s]\u001b[A\n",
      " 39%|███▉      | 2134/5424 [12:51<19:48,  2.77it/s]\u001b[A\n",
      " 39%|███▉      | 2135/5424 [12:51<19:48,  2.77it/s]\u001b[A\n",
      " 39%|███▉      | 2136/5424 [12:51<19:48,  2.77it/s]\u001b[A\n",
      " 39%|███▉      | 2137/5424 [12:52<19:47,  2.77it/s]\u001b[A\n",
      " 39%|███▉      | 2139/5424 [12:52<19:45,  2.77it/s]\u001b[A\n",
      " 39%|███▉      | 2140/5424 [12:52<19:45,  2.77it/s]\u001b[A\n",
      " 39%|███▉      | 2142/5424 [12:52<19:44,  2.77it/s]\u001b[A\n",
      " 40%|███▉      | 2143/5424 [12:53<19:43,  2.77it/s]\u001b[A\n",
      " 40%|███▉      | 2144/5424 [12:53<19:43,  2.77it/s]\u001b[A\n",
      " 40%|███▉      | 2145/5424 [12:53<19:42,  2.77it/s]\u001b[A\n",
      " 40%|███▉      | 2146/5424 [12:53<19:41,  2.77it/s]\u001b[A\n",
      " 40%|███▉      | 2148/5424 [12:54<19:40,  2.77it/s]\u001b[A\n",
      " 40%|███▉      | 2149/5424 [12:54<19:39,  2.78it/s]\u001b[A\n",
      " 40%|███▉      | 2150/5424 [12:54<19:39,  2.78it/s]\u001b[A\n",
      " 40%|███▉      | 2151/5424 [12:54<19:39,  2.78it/s]\u001b[A\n",
      " 40%|███▉      | 2153/5424 [12:55<19:38,  2.78it/s]\u001b[A\n",
      " 40%|███▉      | 2154/5424 [12:55<19:37,  2.78it/s]\u001b[A\n",
      " 40%|███▉      | 2155/5424 [12:56<19:37,  2.78it/s]\u001b[A\n",
      " 40%|███▉      | 2157/5424 [12:56<19:36,  2.78it/s]\u001b[A\n",
      " 40%|███▉      | 2158/5424 [12:56<19:35,  2.78it/s]\u001b[A\n",
      " 40%|███▉      | 2159/5424 [12:57<19:35,  2.78it/s]\u001b[A\n",
      " 40%|███▉      | 2160/5424 [12:57<19:34,  2.78it/s]\u001b[A\n",
      " 40%|███▉      | 2161/5424 [12:57<19:34,  2.78it/s]\u001b[A\n",
      " 40%|███▉      | 2162/5424 [12:57<19:33,  2.78it/s]\u001b[A\n",
      " 40%|███▉      | 2163/5424 [12:58<19:33,  2.78it/s]\u001b[A\n",
      " 40%|███▉      | 2164/5424 [12:58<19:33,  2.78it/s]\u001b[A\n",
      " 40%|███▉      | 2165/5424 [12:58<19:32,  2.78it/s]\u001b[A\n",
      " 40%|███▉      | 2167/5424 [12:59<19:31,  2.78it/s]\u001b[A\n",
      " 40%|███▉      | 2168/5424 [12:59<19:30,  2.78it/s]\u001b[A\n",
      " 40%|███▉      | 2169/5424 [12:59<19:29,  2.78it/s]\u001b[A\n",
      " 40%|████      | 2170/5424 [12:59<19:29,  2.78it/s]\u001b[A\n",
      " 40%|████      | 2171/5424 [12:59<19:28,  2.78it/s]\u001b[A\n",
      " 40%|████      | 2173/5424 [13:00<19:27,  2.78it/s]\u001b[A\n",
      " 40%|████      | 2174/5424 [13:00<19:27,  2.78it/s]\u001b[A\n",
      " 40%|████      | 2175/5424 [13:00<19:26,  2.78it/s]\u001b[A\n",
      " 40%|████      | 2176/5424 [13:01<19:26,  2.79it/s]\u001b[A\n",
      " 40%|████      | 2178/5424 [13:01<19:24,  2.79it/s]\u001b[A\n",
      " 40%|████      | 2179/5424 [13:01<19:23,  2.79it/s]\u001b[A\n",
      " 40%|████      | 2181/5424 [13:01<19:22,  2.79it/s]\u001b[A\n",
      " 40%|████      | 2183/5424 [13:02<19:21,  2.79it/s]\u001b[A\n",
      " 40%|████      | 2184/5424 [13:02<19:20,  2.79it/s]\u001b[A\n",
      " 40%|████      | 2186/5424 [13:02<19:19,  2.79it/s]\u001b[A\n",
      " 40%|████      | 2187/5424 [13:02<19:18,  2.79it/s]\u001b[A\n",
      " 40%|████      | 2188/5424 [13:03<19:18,  2.79it/s]\u001b[A\n",
      " 40%|████      | 2190/5424 [13:03<19:17,  2.79it/s]\u001b[A\n",
      " 40%|████      | 2192/5424 [13:03<19:15,  2.80it/s]\u001b[A\n",
      " 40%|████      | 2194/5424 [13:04<19:14,  2.80it/s]\u001b[A\n",
      " 40%|████      | 2195/5424 [13:04<19:13,  2.80it/s]\u001b[A\n",
      " 40%|████      | 2196/5424 [13:04<19:13,  2.80it/s]\u001b[A\n",
      " 41%|████      | 2197/5424 [13:04<19:12,  2.80it/s]\u001b[A\n",
      " 41%|████      | 2198/5424 [13:05<19:12,  2.80it/s]\u001b[A\n",
      " 41%|████      | 2199/5424 [13:05<19:11,  2.80it/s]\u001b[A\n",
      " 41%|████      | 2201/5424 [13:05<19:10,  2.80it/s]\u001b[A\n",
      " 41%|████      | 2203/5424 [13:05<19:08,  2.80it/s]\u001b[A\n",
      " 41%|████      | 2204/5424 [13:06<19:08,  2.80it/s]\u001b[A\n",
      " 41%|████      | 2205/5424 [13:06<19:07,  2.80it/s]\u001b[A\n",
      " 41%|████      | 2206/5424 [13:06<19:07,  2.80it/s]\u001b[A\n",
      " 41%|████      | 2207/5424 [13:06<19:06,  2.81it/s]\u001b[A\n",
      " 41%|████      | 2209/5424 [13:07<19:05,  2.81it/s]\u001b[A\n",
      " 41%|████      | 2210/5424 [13:07<19:05,  2.81it/s]\u001b[A\n",
      " 41%|████      | 2211/5424 [13:07<19:04,  2.81it/s]\u001b[A\n",
      " 41%|████      | 2212/5424 [13:07<19:04,  2.81it/s]\u001b[A\n",
      " 41%|████      | 2213/5424 [13:08<19:03,  2.81it/s]\u001b[A\n",
      " 41%|████      | 2215/5424 [13:08<19:02,  2.81it/s]\u001b[A\n",
      " 41%|████      | 2216/5424 [13:08<19:01,  2.81it/s]\u001b[A\n",
      " 41%|████      | 2217/5424 [13:08<19:00,  2.81it/s]\u001b[A\n",
      " 41%|████      | 2218/5424 [13:09<19:00,  2.81it/s]\u001b[A\n",
      " 41%|████      | 2220/5424 [13:09<18:59,  2.81it/s]\u001b[A\n",
      " 41%|████      | 2222/5424 [13:09<18:58,  2.81it/s]\u001b[A\n",
      " 41%|████      | 2223/5424 [13:10<18:57,  2.81it/s]\u001b[A\n",
      " 41%|████      | 2224/5424 [13:10<18:57,  2.81it/s]\u001b[A\n",
      " 41%|████      | 2225/5424 [13:10<18:56,  2.81it/s]\u001b[A\n",
      " 41%|████      | 2226/5424 [13:10<18:56,  2.82it/s]\u001b[A\n",
      " 41%|████      | 2227/5424 [13:10<18:55,  2.82it/s]\u001b[A\n",
      " 41%|████      | 2228/5424 [13:11<18:55,  2.82it/s]\u001b[A\n",
      " 41%|████      | 2230/5424 [13:11<18:53,  2.82it/s]\u001b[A\n",
      " 41%|████      | 2231/5424 [13:12<18:53,  2.82it/s]\u001b[A\n",
      " 41%|████      | 2232/5424 [13:12<18:53,  2.82it/s]\u001b[A\n",
      " 41%|████      | 2233/5424 [13:12<18:52,  2.82it/s]\u001b[A\n",
      " 41%|████      | 2234/5424 [13:12<18:52,  2.82it/s]\u001b[A\n",
      " 41%|████      | 2236/5424 [13:13<18:51,  2.82it/s]\u001b[A\n",
      " 41%|████▏     | 2238/5424 [13:13<18:50,  2.82it/s]\u001b[A\n",
      " 41%|████▏     | 2239/5424 [13:14<18:49,  2.82it/s]\u001b[A\n",
      " 41%|████▏     | 2240/5424 [13:14<18:49,  2.82it/s]\u001b[A\n",
      " 41%|████▏     | 2241/5424 [13:14<18:48,  2.82it/s]\u001b[A\n",
      " 41%|████▏     | 2242/5424 [13:15<18:48,  2.82it/s]\u001b[A\n",
      " 41%|████▏     | 2244/5424 [13:15<18:47,  2.82it/s]\u001b[A\n",
      " 41%|████▏     | 2245/5424 [13:15<18:46,  2.82it/s]\u001b[A\n",
      " 41%|████▏     | 2247/5424 [13:15<18:45,  2.82it/s]\u001b[A\n",
      " 41%|████▏     | 2248/5424 [13:16<18:44,  2.82it/s]\u001b[A\n",
      " 41%|████▏     | 2249/5424 [13:16<18:44,  2.82it/s]\u001b[A\n",
      " 41%|████▏     | 2250/5424 [13:16<18:43,  2.83it/s]\u001b[A\n",
      " 42%|████▏     | 2251/5424 [13:16<18:43,  2.83it/s]\u001b[A\n",
      " 42%|████▏     | 2252/5424 [13:16<18:42,  2.83it/s]\u001b[A\n",
      " 42%|████▏     | 2254/5424 [13:17<18:41,  2.83it/s]\u001b[A\n",
      " 42%|████▏     | 2256/5424 [13:17<18:39,  2.83it/s]\u001b[A\n",
      " 42%|████▏     | 2257/5424 [13:17<18:39,  2.83it/s]\u001b[A\n"
     ]
    },
    {
     "name": "stderr",
     "output_type": "stream",
     "text": [
      " 42%|████▏     | 2258/5424 [13:17<18:38,  2.83it/s]\u001b[A\n",
      " 42%|████▏     | 2259/5424 [13:17<18:37,  2.83it/s]\u001b[A\n",
      " 42%|████▏     | 2260/5424 [13:18<18:37,  2.83it/s]\u001b[A\n",
      " 42%|████▏     | 2261/5424 [13:18<18:36,  2.83it/s]\u001b[A\n",
      " 42%|████▏     | 2262/5424 [13:18<18:35,  2.83it/s]\u001b[A\n",
      " 42%|████▏     | 2263/5424 [13:18<18:35,  2.83it/s]\u001b[A\n",
      " 42%|████▏     | 2264/5424 [13:18<18:35,  2.83it/s]\u001b[A\n",
      " 42%|████▏     | 2266/5424 [13:19<18:33,  2.84it/s]\u001b[A\n",
      " 42%|████▏     | 2268/5424 [13:19<18:32,  2.84it/s]\u001b[A\n",
      " 42%|████▏     | 2269/5424 [13:19<18:32,  2.84it/s]\u001b[A\n",
      " 42%|████▏     | 2270/5424 [13:20<18:31,  2.84it/s]\u001b[A\n",
      " 42%|████▏     | 2272/5424 [13:20<18:30,  2.84it/s]\u001b[A\n",
      " 42%|████▏     | 2273/5424 [13:21<18:30,  2.84it/s]\u001b[A\n",
      " 42%|████▏     | 2275/5424 [13:21<18:29,  2.84it/s]\u001b[A\n",
      " 42%|████▏     | 2276/5424 [13:21<18:29,  2.84it/s]\u001b[A\n",
      " 42%|████▏     | 2277/5424 [13:22<18:28,  2.84it/s]\u001b[A\n",
      " 42%|████▏     | 2278/5424 [13:22<18:27,  2.84it/s]\u001b[A\n",
      " 42%|████▏     | 2279/5424 [13:22<18:27,  2.84it/s]\u001b[A\n",
      " 42%|████▏     | 2280/5424 [13:22<18:27,  2.84it/s]\u001b[A\n",
      " 42%|████▏     | 2281/5424 [13:23<18:26,  2.84it/s]\u001b[A\n",
      " 42%|████▏     | 2283/5424 [13:23<18:25,  2.84it/s]\u001b[A\n",
      " 42%|████▏     | 2284/5424 [13:23<18:24,  2.84it/s]\u001b[A\n",
      " 42%|████▏     | 2285/5424 [13:23<18:24,  2.84it/s]\u001b[A\n",
      " 42%|████▏     | 2286/5424 [13:23<18:23,  2.84it/s]\u001b[A\n",
      " 42%|████▏     | 2288/5424 [13:24<18:22,  2.85it/s]\u001b[A\n",
      " 42%|████▏     | 2289/5424 [13:24<18:21,  2.85it/s]\u001b[A\n",
      " 42%|████▏     | 2290/5424 [13:24<18:20,  2.85it/s]\u001b[A\n",
      " 42%|████▏     | 2292/5424 [13:24<18:19,  2.85it/s]\u001b[A\n",
      " 42%|████▏     | 2293/5424 [13:24<18:19,  2.85it/s]\u001b[A\n",
      " 42%|████▏     | 2294/5424 [13:25<18:18,  2.85it/s]\u001b[A\n",
      " 42%|████▏     | 2295/5424 [13:25<18:18,  2.85it/s]\u001b[A\n",
      " 42%|████▏     | 2296/5424 [13:25<18:18,  2.85it/s]\u001b[A\n",
      " 42%|████▏     | 2298/5424 [13:26<18:16,  2.85it/s]\u001b[A\n",
      " 42%|████▏     | 2299/5424 [13:26<18:16,  2.85it/s]\u001b[A\n",
      " 42%|████▏     | 2301/5424 [13:26<18:14,  2.85it/s]\u001b[A\n",
      " 42%|████▏     | 2303/5424 [13:26<18:13,  2.85it/s]\u001b[A\n",
      " 42%|████▏     | 2304/5424 [13:27<18:12,  2.85it/s]\u001b[A\n",
      " 43%|████▎     | 2306/5424 [13:27<18:11,  2.86it/s]\u001b[A\n",
      " 43%|████▎     | 2307/5424 [13:27<18:11,  2.86it/s]\u001b[A\n",
      " 43%|████▎     | 2308/5424 [13:27<18:10,  2.86it/s]\u001b[A\n",
      " 43%|████▎     | 2310/5424 [13:27<18:09,  2.86it/s]\u001b[A\n",
      " 43%|████▎     | 2311/5424 [13:28<18:08,  2.86it/s]\u001b[A\n",
      " 43%|████▎     | 2313/5424 [13:28<18:07,  2.86it/s]\u001b[A\n",
      " 43%|████▎     | 2314/5424 [13:28<18:06,  2.86it/s]\u001b[A\n",
      " 43%|████▎     | 2316/5424 [13:28<18:05,  2.86it/s]\u001b[A\n",
      " 43%|████▎     | 2317/5424 [13:29<18:04,  2.86it/s]\u001b[A\n",
      " 43%|████▎     | 2318/5424 [13:29<18:04,  2.86it/s]\u001b[A\n",
      " 43%|████▎     | 2319/5424 [13:29<18:04,  2.86it/s]\u001b[A\n",
      " 43%|████▎     | 2320/5424 [13:29<18:03,  2.86it/s]\u001b[A\n",
      " 43%|████▎     | 2321/5424 [13:30<18:02,  2.87it/s]\u001b[A\n",
      " 43%|████▎     | 2322/5424 [13:30<18:02,  2.86it/s]\u001b[A\n",
      " 43%|████▎     | 2324/5424 [13:30<18:01,  2.87it/s]\u001b[A\n",
      " 43%|████▎     | 2325/5424 [13:31<18:01,  2.87it/s]\u001b[A\n",
      " 43%|████▎     | 2327/5424 [13:31<17:59,  2.87it/s]\u001b[A\n",
      " 43%|████▎     | 2329/5424 [13:31<17:58,  2.87it/s]\u001b[A\n",
      " 43%|████▎     | 2330/5424 [13:31<17:57,  2.87it/s]\u001b[A\n",
      " 43%|████▎     | 2331/5424 [13:31<17:57,  2.87it/s]\u001b[A\n",
      " 43%|████▎     | 2332/5424 [13:32<17:57,  2.87it/s]\u001b[A\n",
      " 43%|████▎     | 2334/5424 [13:32<17:55,  2.87it/s]\u001b[A\n",
      " 43%|████▎     | 2335/5424 [13:32<17:55,  2.87it/s]\u001b[A\n",
      " 43%|████▎     | 2336/5424 [13:33<17:55,  2.87it/s]\u001b[A\n",
      " 43%|████▎     | 2337/5424 [13:33<17:54,  2.87it/s]\u001b[A\n",
      " 43%|████▎     | 2338/5424 [13:33<17:53,  2.87it/s]\u001b[A\n",
      " 43%|████▎     | 2339/5424 [13:33<17:53,  2.87it/s]\u001b[A\n",
      " 43%|████▎     | 2340/5424 [13:34<17:53,  2.87it/s]\u001b[A\n",
      " 43%|████▎     | 2343/5424 [13:34<17:51,  2.88it/s]\u001b[A\n",
      " 43%|████▎     | 2345/5424 [13:34<17:49,  2.88it/s]\u001b[A\n",
      " 43%|████▎     | 2346/5424 [13:35<17:49,  2.88it/s]\u001b[A\n",
      " 43%|████▎     | 2347/5424 [13:35<17:49,  2.88it/s]\u001b[A\n",
      " 43%|████▎     | 2348/5424 [13:35<17:48,  2.88it/s]\u001b[A\n",
      " 43%|████▎     | 2349/5424 [13:36<17:48,  2.88it/s]\u001b[A\n",
      " 43%|████▎     | 2350/5424 [13:36<17:47,  2.88it/s]\u001b[A\n",
      " 43%|████▎     | 2351/5424 [13:36<17:47,  2.88it/s]\u001b[A\n",
      " 43%|████▎     | 2352/5424 [13:37<17:47,  2.88it/s]\u001b[A\n",
      " 43%|████▎     | 2353/5424 [13:37<17:47,  2.88it/s]\u001b[A\n",
      " 43%|████▎     | 2354/5424 [13:37<17:46,  2.88it/s]\u001b[A\n",
      " 43%|████▎     | 2355/5424 [13:38<17:46,  2.88it/s]\u001b[A\n",
      " 43%|████▎     | 2356/5424 [13:38<17:45,  2.88it/s]\u001b[A\n",
      " 43%|████▎     | 2358/5424 [13:39<17:45,  2.88it/s]\u001b[A\n",
      " 44%|████▎     | 2360/5424 [13:39<17:44,  2.88it/s]\u001b[A\n",
      " 44%|████▎     | 2361/5424 [13:39<17:43,  2.88it/s]\u001b[A\n",
      " 44%|████▎     | 2362/5424 [13:40<17:43,  2.88it/s]\u001b[A\n",
      " 44%|████▎     | 2363/5424 [13:40<17:42,  2.88it/s]\u001b[A\n",
      " 44%|████▎     | 2364/5424 [13:40<17:42,  2.88it/s]\u001b[A\n",
      " 44%|████▎     | 2365/5424 [13:40<17:41,  2.88it/s]\u001b[A\n",
      " 44%|████▎     | 2366/5424 [13:41<17:41,  2.88it/s]\u001b[A\n",
      " 44%|████▎     | 2367/5424 [13:41<17:41,  2.88it/s]\u001b[A\n",
      " 44%|████▎     | 2368/5424 [13:41<17:40,  2.88it/s]\u001b[A\n",
      " 44%|████▎     | 2369/5424 [13:42<17:40,  2.88it/s]\u001b[A\n",
      " 44%|████▎     | 2370/5424 [13:42<17:39,  2.88it/s]\u001b[A\n",
      " 44%|████▎     | 2371/5424 [13:42<17:39,  2.88it/s]\u001b[A\n",
      " 44%|████▎     | 2372/5424 [13:43<17:39,  2.88it/s]\u001b[A\n",
      " 44%|████▍     | 2373/5424 [13:43<17:38,  2.88it/s]\u001b[A\n",
      " 44%|████▍     | 2374/5424 [13:43<17:38,  2.88it/s]\u001b[A\n",
      " 44%|████▍     | 2375/5424 [13:43<17:37,  2.88it/s]\u001b[A\n",
      " 44%|████▍     | 2377/5424 [13:44<17:36,  2.88it/s]\u001b[A\n",
      " 44%|████▍     | 2378/5424 [13:44<17:35,  2.88it/s]\u001b[A\n",
      " 44%|████▍     | 2379/5424 [13:44<17:35,  2.88it/s]\u001b[A\n",
      " 44%|████▍     | 2380/5424 [13:45<17:35,  2.88it/s]\u001b[A\n",
      " 44%|████▍     | 2381/5424 [13:45<17:34,  2.88it/s]\u001b[A\n",
      " 44%|████▍     | 2382/5424 [13:45<17:34,  2.89it/s]\u001b[A\n",
      " 44%|████▍     | 2383/5424 [13:45<17:33,  2.89it/s]\u001b[A\n",
      " 44%|████▍     | 2385/5424 [13:45<17:32,  2.89it/s]\u001b[A\n",
      " 44%|████▍     | 2386/5424 [13:46<17:31,  2.89it/s]\u001b[A\n",
      " 44%|████▍     | 2387/5424 [13:46<17:31,  2.89it/s]\u001b[A\n",
      " 44%|████▍     | 2388/5424 [13:46<17:31,  2.89it/s]\u001b[A\n",
      " 44%|████▍     | 2389/5424 [13:47<17:30,  2.89it/s]\u001b[A\n",
      " 44%|████▍     | 2390/5424 [13:47<17:30,  2.89it/s]\u001b[A\n",
      " 44%|████▍     | 2391/5424 [13:48<17:30,  2.89it/s]\u001b[A\n",
      " 44%|████▍     | 2392/5424 [13:48<17:30,  2.89it/s]\u001b[A\n",
      " 44%|████▍     | 2394/5424 [13:49<17:29,  2.89it/s]\u001b[A\n",
      " 44%|████▍     | 2395/5424 [13:49<17:28,  2.89it/s]\u001b[A\n",
      " 44%|████▍     | 2396/5424 [13:49<17:28,  2.89it/s]\u001b[A\n",
      " 44%|████▍     | 2397/5424 [13:49<17:27,  2.89it/s]\u001b[A\n",
      " 44%|████▍     | 2398/5424 [13:49<17:26,  2.89it/s]\u001b[A\n",
      " 44%|████▍     | 2399/5424 [13:49<17:26,  2.89it/s]\u001b[A\n",
      " 44%|████▍     | 2400/5424 [13:50<17:25,  2.89it/s]\u001b[A\n",
      " 44%|████▍     | 2401/5424 [13:50<17:25,  2.89it/s]\u001b[A\n",
      " 44%|████▍     | 2402/5424 [13:50<17:25,  2.89it/s]\u001b[A\n",
      " 44%|████▍     | 2403/5424 [13:51<17:25,  2.89it/s]\u001b[A\n",
      " 44%|████▍     | 2405/5424 [13:51<17:23,  2.89it/s]\u001b[A\n",
      " 44%|████▍     | 2406/5424 [13:51<17:23,  2.89it/s]\u001b[A\n",
      " 44%|████▍     | 2407/5424 [13:51<17:22,  2.89it/s]\u001b[A\n",
      " 44%|████▍     | 2408/5424 [13:52<17:22,  2.89it/s]\u001b[A\n",
      " 44%|████▍     | 2410/5424 [13:52<17:21,  2.89it/s]\u001b[A\n",
      " 44%|████▍     | 2411/5424 [13:52<17:20,  2.90it/s]\u001b[A\n",
      " 44%|████▍     | 2412/5424 [13:53<17:20,  2.89it/s]\u001b[A\n",
      " 44%|████▍     | 2413/5424 [13:53<17:20,  2.90it/s]\u001b[A\n",
      " 45%|████▍     | 2414/5424 [13:53<17:19,  2.90it/s]\u001b[A\n",
      " 45%|████▍     | 2415/5424 [13:54<17:19,  2.90it/s]\u001b[A\n",
      " 45%|████▍     | 2416/5424 [13:54<17:18,  2.90it/s]\u001b[A\n",
      " 45%|████▍     | 2417/5424 [13:54<17:18,  2.90it/s]\u001b[A\n",
      " 45%|████▍     | 2418/5424 [13:54<17:18,  2.90it/s]\u001b[A\n",
      " 45%|████▍     | 2419/5424 [13:55<17:17,  2.90it/s]\u001b[A\n",
      " 45%|████▍     | 2420/5424 [13:55<17:16,  2.90it/s]\u001b[A\n",
      " 45%|████▍     | 2421/5424 [13:56<17:17,  2.90it/s]\u001b[A\n",
      " 45%|████▍     | 2422/5424 [13:56<17:16,  2.90it/s]\u001b[A\n",
      " 45%|████▍     | 2423/5424 [13:56<17:16,  2.90it/s]\u001b[A\n",
      " 45%|████▍     | 2424/5424 [13:57<17:16,  2.90it/s]\u001b[A\n",
      " 45%|████▍     | 2426/5424 [13:57<17:14,  2.90it/s]\u001b[A\n",
      " 45%|████▍     | 2427/5424 [13:57<17:14,  2.90it/s]\u001b[A\n",
      " 45%|████▍     | 2428/5424 [13:58<17:14,  2.90it/s]\u001b[A\n",
      " 45%|████▍     | 2429/5424 [13:58<17:13,  2.90it/s]\u001b[A\n",
      " 45%|████▍     | 2431/5424 [13:58<17:12,  2.90it/s]\u001b[A\n",
      " 45%|████▍     | 2432/5424 [13:58<17:12,  2.90it/s]\u001b[A\n",
      " 45%|████▍     | 2435/5424 [13:59<17:10,  2.90it/s]\u001b[A\n",
      " 45%|████▍     | 2436/5424 [13:59<17:10,  2.90it/s]\u001b[A\n",
      " 45%|████▍     | 2437/5424 [14:00<17:09,  2.90it/s]\u001b[A\n"
     ]
    },
    {
     "name": "stderr",
     "output_type": "stream",
     "text": [
      " 45%|████▍     | 2438/5424 [14:00<17:09,  2.90it/s]\u001b[A\n",
      " 45%|████▍     | 2439/5424 [14:00<17:09,  2.90it/s]\u001b[A\n",
      " 45%|████▍     | 2440/5424 [14:01<17:08,  2.90it/s]\u001b[A\n",
      " 45%|████▌     | 2441/5424 [14:01<17:08,  2.90it/s]\u001b[A\n",
      " 45%|████▌     | 2442/5424 [14:01<17:07,  2.90it/s]\u001b[A\n",
      " 45%|████▌     | 2443/5424 [14:01<17:07,  2.90it/s]\u001b[A\n",
      " 45%|████▌     | 2444/5424 [14:02<17:06,  2.90it/s]\u001b[A\n",
      " 45%|████▌     | 2445/5424 [14:02<17:06,  2.90it/s]\u001b[A\n",
      " 45%|████▌     | 2446/5424 [14:02<17:05,  2.90it/s]\u001b[A\n",
      " 45%|████▌     | 2447/5424 [14:02<17:05,  2.90it/s]\u001b[A\n",
      " 45%|████▌     | 2448/5424 [14:03<17:05,  2.90it/s]\u001b[A\n",
      " 45%|████▌     | 2449/5424 [14:03<17:04,  2.90it/s]\u001b[A\n",
      " 45%|████▌     | 2450/5424 [14:03<17:04,  2.90it/s]\u001b[A\n",
      " 45%|████▌     | 2451/5424 [14:03<17:03,  2.90it/s]\u001b[A\n",
      " 45%|████▌     | 2452/5424 [14:04<17:03,  2.90it/s]\u001b[A\n",
      " 45%|████▌     | 2453/5424 [14:04<17:02,  2.90it/s]\u001b[A\n",
      " 45%|████▌     | 2454/5424 [14:04<17:02,  2.91it/s]\u001b[A\n",
      " 45%|████▌     | 2455/5424 [14:04<17:01,  2.91it/s]\u001b[A\n",
      " 45%|████▌     | 2456/5424 [14:05<17:01,  2.91it/s]\u001b[A\n",
      " 45%|████▌     | 2457/5424 [14:05<17:00,  2.91it/s]\u001b[A\n",
      " 45%|████▌     | 2458/5424 [14:05<17:00,  2.91it/s]\u001b[A\n",
      " 45%|████▌     | 2459/5424 [14:05<16:59,  2.91it/s]\u001b[A\n",
      " 45%|████▌     | 2460/5424 [14:06<16:59,  2.91it/s]\u001b[A\n",
      " 45%|████▌     | 2461/5424 [14:06<16:59,  2.91it/s]\u001b[A\n",
      " 45%|████▌     | 2462/5424 [14:06<16:58,  2.91it/s]\u001b[A\n",
      " 45%|████▌     | 2463/5424 [14:07<16:58,  2.91it/s]\u001b[A\n",
      " 45%|████▌     | 2465/5424 [14:07<16:57,  2.91it/s]\u001b[A\n",
      " 45%|████▌     | 2466/5424 [14:07<16:56,  2.91it/s]\u001b[A\n",
      " 45%|████▌     | 2467/5424 [14:07<16:56,  2.91it/s]\u001b[A\n",
      " 46%|████▌     | 2468/5424 [14:08<16:55,  2.91it/s]\u001b[A\n",
      " 46%|████▌     | 2469/5424 [14:08<16:55,  2.91it/s]\u001b[A\n",
      " 46%|████▌     | 2470/5424 [14:08<16:54,  2.91it/s]\u001b[A\n",
      " 46%|████▌     | 2471/5424 [14:08<16:54,  2.91it/s]\u001b[A\n",
      " 46%|████▌     | 2472/5424 [14:09<16:54,  2.91it/s]\u001b[A\n",
      " 46%|████▌     | 2473/5424 [14:09<16:53,  2.91it/s]\u001b[A\n",
      " 46%|████▌     | 2474/5424 [14:09<16:53,  2.91it/s]\u001b[A\n",
      " 46%|████▌     | 2476/5424 [14:10<16:52,  2.91it/s]\u001b[A\n",
      " 46%|████▌     | 2477/5424 [14:10<16:51,  2.91it/s]\u001b[A\n",
      " 46%|████▌     | 2478/5424 [14:10<16:51,  2.91it/s]\u001b[A\n",
      " 46%|████▌     | 2480/5424 [14:11<16:50,  2.91it/s]\u001b[A\n",
      " 46%|████▌     | 2481/5424 [14:11<16:49,  2.91it/s]\u001b[A\n",
      " 46%|████▌     | 2482/5424 [14:11<16:49,  2.91it/s]\u001b[A\n",
      " 46%|████▌     | 2483/5424 [14:12<16:49,  2.91it/s]\u001b[A\n",
      " 46%|████▌     | 2484/5424 [14:12<16:48,  2.91it/s]\u001b[A\n",
      " 46%|████▌     | 2485/5424 [14:12<16:48,  2.92it/s]\u001b[A\n",
      " 46%|████▌     | 2486/5424 [14:12<16:47,  2.92it/s]\u001b[A\n",
      " 46%|████▌     | 2487/5424 [14:12<16:47,  2.92it/s]\u001b[A\n",
      " 46%|████▌     | 2488/5424 [14:13<16:46,  2.92it/s]\u001b[A\n",
      " 46%|████▌     | 2489/5424 [14:13<16:46,  2.91it/s]\u001b[A\n",
      " 46%|████▌     | 2490/5424 [14:14<16:46,  2.92it/s]\u001b[A\n",
      " 46%|████▌     | 2491/5424 [14:14<16:45,  2.92it/s]\u001b[A\n",
      " 46%|████▌     | 2493/5424 [14:14<16:44,  2.92it/s]\u001b[A\n",
      " 46%|████▌     | 2494/5424 [14:14<16:44,  2.92it/s]\u001b[A\n",
      " 46%|████▌     | 2495/5424 [14:14<16:43,  2.92it/s]\u001b[A\n",
      " 46%|████▌     | 2496/5424 [14:14<16:42,  2.92it/s]\u001b[A\n",
      " 46%|████▌     | 2497/5424 [14:15<16:42,  2.92it/s]\u001b[A\n",
      " 46%|████▌     | 2498/5424 [14:15<16:41,  2.92it/s]\u001b[A\n",
      " 46%|████▌     | 2499/5424 [14:15<16:41,  2.92it/s]\u001b[A\n",
      " 46%|████▌     | 2500/5424 [14:15<16:40,  2.92it/s]\u001b[A\n",
      " 46%|████▌     | 2501/5424 [14:15<16:40,  2.92it/s]\u001b[A\n",
      " 46%|████▌     | 2502/5424 [14:16<16:39,  2.92it/s]\u001b[A\n",
      " 46%|████▌     | 2503/5424 [14:16<16:39,  2.92it/s]\u001b[A\n",
      " 46%|████▌     | 2504/5424 [14:16<16:38,  2.92it/s]\u001b[A\n",
      " 46%|████▌     | 2505/5424 [14:16<16:38,  2.92it/s]\u001b[A\n",
      " 46%|████▌     | 2506/5424 [14:17<16:38,  2.92it/s]\u001b[A\n",
      " 46%|████▌     | 2507/5424 [14:17<16:37,  2.92it/s]\u001b[A\n",
      " 46%|████▌     | 2508/5424 [14:17<16:37,  2.92it/s]\u001b[A\n",
      " 46%|████▋     | 2509/5424 [14:17<16:36,  2.92it/s]\u001b[A\n",
      " 46%|████▋     | 2510/5424 [14:18<16:36,  2.92it/s]\u001b[A\n",
      " 46%|████▋     | 2511/5424 [14:18<16:35,  2.92it/s]\u001b[A\n",
      " 46%|████▋     | 2512/5424 [14:18<16:35,  2.93it/s]\u001b[A\n",
      " 46%|████▋     | 2513/5424 [14:18<16:34,  2.93it/s]\u001b[A\n",
      " 46%|████▋     | 2515/5424 [14:19<16:33,  2.93it/s]\u001b[A\n",
      " 46%|████▋     | 2517/5424 [14:19<16:32,  2.93it/s]\u001b[A\n",
      " 46%|████▋     | 2518/5424 [14:19<16:32,  2.93it/s]\u001b[A\n",
      " 46%|████▋     | 2519/5424 [14:20<16:31,  2.93it/s]\u001b[A\n",
      " 46%|████▋     | 2520/5424 [14:20<16:31,  2.93it/s]\u001b[A\n",
      " 46%|████▋     | 2521/5424 [14:20<16:31,  2.93it/s]\u001b[A\n",
      " 46%|████▋     | 2522/5424 [14:20<16:30,  2.93it/s]\u001b[A\n",
      " 47%|████▋     | 2523/5424 [14:20<16:29,  2.93it/s]\u001b[A\n",
      " 47%|████▋     | 2525/5424 [14:21<16:28,  2.93it/s]\u001b[A\n",
      " 47%|████▋     | 2527/5424 [14:21<16:27,  2.93it/s]\u001b[A\n",
      " 47%|████▋     | 2528/5424 [14:22<16:27,  2.93it/s]\u001b[A\n",
      " 47%|████▋     | 2529/5424 [14:22<16:27,  2.93it/s]\u001b[A\n",
      " 47%|████▋     | 2530/5424 [14:22<16:26,  2.93it/s]\u001b[A\n",
      " 47%|████▋     | 2531/5424 [14:23<16:26,  2.93it/s]\u001b[A\n",
      " 47%|████▋     | 2532/5424 [14:23<16:25,  2.93it/s]\u001b[A\n",
      " 47%|████▋     | 2533/5424 [14:24<16:26,  2.93it/s]\u001b[A\n",
      " 47%|████▋     | 2534/5424 [14:24<16:25,  2.93it/s]\u001b[A\n",
      " 47%|████▋     | 2536/5424 [14:24<16:24,  2.93it/s]\u001b[A\n",
      " 47%|████▋     | 2537/5424 [14:25<16:24,  2.93it/s]\u001b[A\n",
      " 47%|████▋     | 2538/5424 [14:25<16:23,  2.93it/s]\u001b[A\n",
      " 47%|████▋     | 2540/5424 [14:25<16:22,  2.93it/s]\u001b[A\n",
      " 47%|████▋     | 2541/5424 [14:25<16:22,  2.93it/s]\u001b[A\n",
      " 47%|████▋     | 2542/5424 [14:25<16:21,  2.94it/s]\u001b[A\n",
      " 47%|████▋     | 2543/5424 [14:26<16:21,  2.94it/s]\u001b[A\n",
      " 47%|████▋     | 2544/5424 [14:26<16:20,  2.94it/s]\u001b[A\n",
      " 47%|████▋     | 2545/5424 [14:26<16:20,  2.94it/s]\u001b[A\n",
      " 47%|████▋     | 2546/5424 [14:26<16:19,  2.94it/s]\u001b[A\n",
      " 47%|████▋     | 2547/5424 [14:27<16:19,  2.94it/s]\u001b[A\n",
      " 47%|████▋     | 2548/5424 [14:27<16:18,  2.94it/s]\u001b[A\n",
      " 47%|████▋     | 2549/5424 [14:27<16:18,  2.94it/s]\u001b[A\n",
      " 47%|████▋     | 2550/5424 [14:27<16:17,  2.94it/s]\u001b[A\n",
      " 47%|████▋     | 2551/5424 [14:27<16:17,  2.94it/s]\u001b[A\n",
      " 47%|████▋     | 2552/5424 [14:27<16:16,  2.94it/s]\u001b[A\n",
      " 47%|████▋     | 2553/5424 [14:28<16:16,  2.94it/s]\u001b[A\n",
      " 47%|████▋     | 2554/5424 [14:28<16:15,  2.94it/s]\u001b[A\n",
      " 47%|████▋     | 2556/5424 [14:28<16:14,  2.94it/s]\u001b[A\n",
      " 47%|████▋     | 2557/5424 [14:28<16:13,  2.94it/s]\u001b[A\n",
      " 47%|████▋     | 2558/5424 [14:28<16:13,  2.94it/s]\u001b[A\n",
      " 47%|████▋     | 2559/5424 [14:29<16:13,  2.94it/s]\u001b[A\n",
      " 47%|████▋     | 2560/5424 [14:29<16:12,  2.94it/s]\u001b[A\n",
      " 47%|████▋     | 2561/5424 [14:29<16:12,  2.94it/s]\u001b[A\n",
      " 47%|████▋     | 2562/5424 [14:29<16:11,  2.94it/s]\u001b[A\n",
      " 47%|████▋     | 2564/5424 [14:30<16:10,  2.95it/s]\u001b[A\n",
      " 47%|████▋     | 2565/5424 [14:30<16:10,  2.95it/s]\u001b[A\n",
      " 47%|████▋     | 2567/5424 [14:30<16:09,  2.95it/s]\u001b[A\n",
      " 47%|████▋     | 2568/5424 [14:31<16:08,  2.95it/s]\u001b[A\n",
      " 47%|████▋     | 2569/5424 [14:31<16:08,  2.95it/s]\u001b[A\n",
      " 47%|████▋     | 2570/5424 [14:31<16:07,  2.95it/s]\u001b[A\n",
      " 47%|████▋     | 2571/5424 [14:31<16:07,  2.95it/s]\u001b[A\n",
      " 47%|████▋     | 2572/5424 [14:32<16:07,  2.95it/s]\u001b[A\n",
      " 47%|████▋     | 2573/5424 [14:32<16:06,  2.95it/s]\u001b[A\n",
      " 47%|████▋     | 2575/5424 [14:32<16:05,  2.95it/s]\u001b[A\n",
      " 47%|████▋     | 2576/5424 [14:33<16:05,  2.95it/s]\u001b[A\n",
      " 48%|████▊     | 2578/5424 [14:33<16:04,  2.95it/s]\u001b[A\n",
      " 48%|████▊     | 2579/5424 [14:33<16:03,  2.95it/s]\u001b[A\n",
      " 48%|████▊     | 2581/5424 [14:34<16:02,  2.95it/s]\u001b[A\n",
      " 48%|████▊     | 2583/5424 [14:34<16:01,  2.95it/s]\u001b[A\n",
      " 48%|████▊     | 2584/5424 [14:34<16:01,  2.95it/s]\u001b[A\n",
      " 48%|████▊     | 2585/5424 [14:35<16:01,  2.95it/s]\u001b[A\n",
      " 48%|████▊     | 2586/5424 [14:35<16:00,  2.95it/s]\u001b[A\n",
      " 48%|████▊     | 2587/5424 [14:35<16:00,  2.96it/s]\u001b[A\n",
      " 48%|████▊     | 2588/5424 [14:35<15:59,  2.96it/s]\u001b[A\n",
      " 48%|████▊     | 2589/5424 [14:35<15:59,  2.96it/s]\u001b[A\n",
      " 48%|████▊     | 2590/5424 [14:36<15:58,  2.96it/s]\u001b[A\n",
      " 48%|████▊     | 2591/5424 [14:36<15:58,  2.96it/s]\u001b[A\n",
      " 48%|████▊     | 2592/5424 [14:36<15:57,  2.96it/s]\u001b[A\n",
      " 48%|████▊     | 2593/5424 [14:36<15:57,  2.96it/s]\u001b[A\n",
      " 48%|████▊     | 2595/5424 [14:37<15:56,  2.96it/s]\u001b[A\n",
      " 48%|████▊     | 2596/5424 [14:37<15:55,  2.96it/s]\u001b[A\n",
      " 48%|████▊     | 2597/5424 [14:37<15:55,  2.96it/s]\u001b[A\n",
      " 48%|████▊     | 2598/5424 [14:38<15:55,  2.96it/s]\u001b[A\n",
      " 48%|████▊     | 2599/5424 [14:38<15:54,  2.96it/s]\u001b[A\n",
      " 48%|████▊     | 2601/5424 [14:38<15:53,  2.96it/s]\u001b[A\n",
      " 48%|████▊     | 2602/5424 [14:38<15:53,  2.96it/s]\u001b[A\n",
      " 48%|████▊     | 2603/5424 [14:38<15:52,  2.96it/s]\u001b[A\n",
      " 48%|████▊     | 2605/5424 [14:39<15:51,  2.96it/s]\u001b[A\n"
     ]
    },
    {
     "name": "stderr",
     "output_type": "stream",
     "text": [
      " 48%|████▊     | 2606/5424 [14:39<15:51,  2.96it/s]\u001b[A\n",
      " 48%|████▊     | 2608/5424 [14:39<15:50,  2.96it/s]\u001b[A\n",
      " 48%|████▊     | 2609/5424 [14:40<15:49,  2.96it/s]\u001b[A\n",
      " 48%|████▊     | 2611/5424 [14:40<15:48,  2.97it/s]\u001b[A\n",
      " 48%|████▊     | 2613/5424 [14:40<15:47,  2.97it/s]\u001b[A\n",
      " 48%|████▊     | 2614/5424 [14:41<15:47,  2.97it/s]\u001b[A\n",
      " 48%|████▊     | 2616/5424 [14:41<15:46,  2.97it/s]\u001b[A\n",
      " 48%|████▊     | 2617/5424 [14:41<15:45,  2.97it/s]\u001b[A\n",
      " 48%|████▊     | 2618/5424 [14:41<15:45,  2.97it/s]\u001b[A\n",
      " 48%|████▊     | 2619/5424 [14:42<15:44,  2.97it/s]\u001b[A\n",
      " 48%|████▊     | 2620/5424 [14:42<15:44,  2.97it/s]\u001b[A\n",
      " 48%|████▊     | 2621/5424 [14:42<15:43,  2.97it/s]\u001b[A\n",
      " 48%|████▊     | 2622/5424 [14:42<15:43,  2.97it/s]\u001b[A\n",
      " 48%|████▊     | 2623/5424 [14:43<15:43,  2.97it/s]\u001b[A\n",
      " 48%|████▊     | 2624/5424 [14:43<15:42,  2.97it/s]\u001b[A\n",
      " 48%|████▊     | 2625/5424 [14:43<15:42,  2.97it/s]\u001b[A\n",
      " 48%|████▊     | 2627/5424 [14:43<15:40,  2.97it/s]\u001b[A\n",
      " 48%|████▊     | 2628/5424 [14:43<15:40,  2.97it/s]\u001b[A\n",
      " 48%|████▊     | 2629/5424 [14:43<15:39,  2.97it/s]\u001b[A\n",
      " 48%|████▊     | 2630/5424 [14:44<15:39,  2.97it/s]\u001b[A\n",
      " 49%|████▊     | 2631/5424 [14:44<15:38,  2.97it/s]\u001b[A\n",
      " 49%|████▊     | 2633/5424 [14:44<15:37,  2.98it/s]\u001b[A\n",
      " 49%|████▊     | 2634/5424 [14:45<15:37,  2.98it/s]\u001b[A\n",
      " 49%|████▊     | 2635/5424 [14:45<15:37,  2.98it/s]\u001b[A\n",
      " 49%|████▊     | 2636/5424 [14:45<15:37,  2.98it/s]\u001b[A\n",
      " 49%|████▊     | 2638/5424 [14:46<15:35,  2.98it/s]\u001b[A\n",
      " 49%|████▊     | 2639/5424 [14:46<15:35,  2.98it/s]\u001b[A\n",
      " 49%|████▊     | 2640/5424 [14:46<15:35,  2.98it/s]\u001b[A\n",
      " 49%|████▊     | 2641/5424 [14:47<15:34,  2.98it/s]\u001b[A\n",
      " 49%|████▊     | 2642/5424 [14:47<15:34,  2.98it/s]\u001b[A\n",
      " 49%|████▊     | 2643/5424 [14:47<15:33,  2.98it/s]\u001b[A\n",
      " 49%|████▊     | 2644/5424 [14:47<15:33,  2.98it/s]\u001b[A\n",
      " 49%|████▉     | 2645/5424 [14:48<15:32,  2.98it/s]\u001b[A\n",
      " 49%|████▉     | 2646/5424 [14:48<15:32,  2.98it/s]\u001b[A\n",
      " 49%|████▉     | 2648/5424 [14:48<15:31,  2.98it/s]\u001b[A\n",
      " 49%|████▉     | 2649/5424 [14:48<15:30,  2.98it/s]\u001b[A\n",
      " 49%|████▉     | 2650/5424 [14:48<15:30,  2.98it/s]\u001b[A\n",
      " 49%|████▉     | 2652/5424 [14:49<15:29,  2.98it/s]\u001b[A\n",
      " 49%|████▉     | 2653/5424 [14:49<15:29,  2.98it/s]\u001b[A\n",
      " 49%|████▉     | 2654/5424 [14:49<15:28,  2.98it/s]\u001b[A\n",
      " 49%|████▉     | 2655/5424 [14:49<15:28,  2.98it/s]\u001b[A\n",
      " 49%|████▉     | 2656/5424 [14:50<15:27,  2.98it/s]\u001b[A\n",
      " 49%|████▉     | 2657/5424 [14:50<15:27,  2.98it/s]\u001b[A\n",
      " 49%|████▉     | 2658/5424 [14:50<15:26,  2.98it/s]\u001b[A\n",
      " 49%|████▉     | 2659/5424 [14:50<15:26,  2.98it/s]\u001b[A\n",
      " 49%|████▉     | 2660/5424 [14:50<15:25,  2.99it/s]\u001b[A\n",
      " 49%|████▉     | 2661/5424 [14:51<15:25,  2.99it/s]\u001b[A\n",
      " 49%|████▉     | 2662/5424 [14:51<15:25,  2.99it/s]\u001b[A\n",
      " 49%|████▉     | 2663/5424 [14:51<15:24,  2.99it/s]\u001b[A\n",
      " 49%|████▉     | 2665/5424 [14:51<15:23,  2.99it/s]\u001b[A\n",
      " 49%|████▉     | 2666/5424 [14:52<15:23,  2.99it/s]\u001b[A\n",
      " 49%|████▉     | 2667/5424 [14:52<15:22,  2.99it/s]\u001b[A\n",
      " 49%|████▉     | 2668/5424 [14:52<15:22,  2.99it/s]\u001b[A\n",
      " 49%|████▉     | 2669/5424 [14:53<15:21,  2.99it/s]\u001b[A\n",
      " 49%|████▉     | 2670/5424 [14:53<15:21,  2.99it/s]\u001b[A\n",
      " 49%|████▉     | 2671/5424 [14:53<15:20,  2.99it/s]\u001b[A\n",
      " 49%|████▉     | 2673/5424 [14:54<15:20,  2.99it/s]\u001b[A\n",
      " 49%|████▉     | 2674/5424 [14:54<15:19,  2.99it/s]\u001b[A\n",
      " 49%|████▉     | 2675/5424 [14:54<15:19,  2.99it/s]\u001b[A\n",
      " 49%|████▉     | 2676/5424 [14:54<15:18,  2.99it/s]\u001b[A\n",
      " 49%|████▉     | 2677/5424 [14:55<15:18,  2.99it/s]\u001b[A\n",
      " 49%|████▉     | 2678/5424 [14:55<15:18,  2.99it/s]\u001b[A\n",
      " 49%|████▉     | 2679/5424 [14:55<15:17,  2.99it/s]\u001b[A\n",
      " 49%|████▉     | 2681/5424 [14:56<15:16,  2.99it/s]\u001b[A\n",
      " 49%|████▉     | 2682/5424 [14:56<15:16,  2.99it/s]\u001b[A\n",
      " 49%|████▉     | 2683/5424 [14:56<15:16,  2.99it/s]\u001b[A\n",
      " 49%|████▉     | 2684/5424 [14:57<15:15,  2.99it/s]\u001b[A\n",
      " 50%|████▉     | 2685/5424 [14:57<15:15,  2.99it/s]\u001b[A\n",
      " 50%|████▉     | 2686/5424 [14:57<15:14,  2.99it/s]\u001b[A\n",
      " 50%|████▉     | 2688/5424 [14:58<15:14,  2.99it/s]\u001b[A\n",
      " 50%|████▉     | 2689/5424 [14:58<15:13,  2.99it/s]\u001b[A\n",
      " 50%|████▉     | 2691/5424 [14:58<15:12,  2.99it/s]\u001b[A\n",
      " 50%|████▉     | 2692/5424 [14:59<15:12,  2.99it/s]\u001b[A\n",
      " 50%|████▉     | 2693/5424 [14:59<15:12,  2.99it/s]\u001b[A\n",
      " 50%|████▉     | 2694/5424 [14:59<15:11,  2.99it/s]\u001b[A\n",
      " 50%|████▉     | 2696/5424 [15:00<15:10,  2.99it/s]\u001b[A\n",
      " 50%|████▉     | 2697/5424 [15:00<15:10,  2.99it/s]\u001b[A\n",
      " 50%|████▉     | 2698/5424 [15:00<15:10,  2.99it/s]\u001b[A\n",
      " 50%|████▉     | 2699/5424 [15:01<15:10,  2.99it/s]\u001b[A\n",
      " 50%|████▉     | 2701/5424 [15:01<15:09,  3.00it/s]\u001b[A\n",
      " 50%|████▉     | 2702/5424 [15:02<15:08,  2.99it/s]\u001b[A\n",
      " 50%|████▉     | 2703/5424 [15:02<15:08,  2.99it/s]\u001b[A\n",
      " 50%|████▉     | 2704/5424 [15:02<15:08,  3.00it/s]\u001b[A\n",
      " 50%|████▉     | 2705/5424 [15:02<15:07,  3.00it/s]\u001b[A\n",
      " 50%|████▉     | 2706/5424 [15:03<15:07,  3.00it/s]\u001b[A\n",
      " 50%|████▉     | 2707/5424 [15:03<15:06,  3.00it/s]\u001b[A\n",
      " 50%|████▉     | 2708/5424 [15:03<15:06,  3.00it/s]\u001b[A\n",
      " 50%|████▉     | 2709/5424 [15:03<15:05,  3.00it/s]\u001b[A\n",
      " 50%|████▉     | 2710/5424 [15:04<15:05,  3.00it/s]\u001b[A\n",
      " 50%|████▉     | 2711/5424 [15:04<15:05,  3.00it/s]\u001b[A\n",
      " 50%|█████     | 2712/5424 [15:04<15:04,  3.00it/s]\u001b[A\n",
      " 50%|█████     | 2713/5424 [15:05<15:04,  3.00it/s]\u001b[A\n",
      " 50%|█████     | 2714/5424 [15:05<15:04,  3.00it/s]\u001b[A\n",
      " 50%|█████     | 2715/5424 [15:05<15:03,  3.00it/s]\u001b[A\n",
      " 50%|█████     | 2716/5424 [15:05<15:03,  3.00it/s]\u001b[A\n",
      " 50%|█████     | 2717/5424 [15:06<15:02,  3.00it/s]\u001b[A\n",
      " 50%|█████     | 2718/5424 [15:06<15:02,  3.00it/s]\u001b[A\n",
      " 50%|█████     | 2719/5424 [15:06<15:02,  3.00it/s]\u001b[A\n",
      " 50%|█████     | 2720/5424 [15:07<15:01,  3.00it/s]\u001b[A\n",
      " 50%|█████     | 2721/5424 [15:07<15:01,  3.00it/s]\u001b[A\n",
      " 50%|█████     | 2722/5424 [15:07<15:00,  3.00it/s]\u001b[A\n",
      " 50%|█████     | 2723/5424 [15:07<15:00,  3.00it/s]\u001b[A\n",
      " 50%|█████     | 2724/5424 [15:08<15:00,  3.00it/s]\u001b[A\n",
      " 50%|█████     | 2725/5424 [15:08<14:59,  3.00it/s]\u001b[A\n",
      " 50%|█████     | 2726/5424 [15:08<14:59,  3.00it/s]\u001b[A\n",
      " 50%|█████     | 2727/5424 [15:08<14:58,  3.00it/s]\u001b[A\n",
      " 50%|█████     | 2728/5424 [15:08<14:58,  3.00it/s]\u001b[A\n",
      " 50%|█████     | 2729/5424 [15:09<14:57,  3.00it/s]\u001b[A\n",
      " 50%|█████     | 2731/5424 [15:09<14:56,  3.00it/s]\u001b[A\n",
      " 50%|█████     | 2732/5424 [15:09<14:56,  3.00it/s]\u001b[A\n",
      " 50%|█████     | 2734/5424 [15:09<14:55,  3.00it/s]\u001b[A\n",
      " 50%|█████     | 2735/5424 [15:10<14:54,  3.01it/s]\u001b[A\n",
      " 50%|█████     | 2736/5424 [15:10<14:54,  3.01it/s]\u001b[A\n",
      " 50%|█████     | 2738/5424 [15:10<14:53,  3.01it/s]\u001b[A\n",
      " 51%|█████     | 2740/5424 [15:10<14:52,  3.01it/s]\u001b[A\n",
      " 51%|█████     | 2742/5424 [15:10<14:50,  3.01it/s]\u001b[A\n",
      " 51%|█████     | 2743/5424 [15:11<14:50,  3.01it/s]\u001b[A\n",
      " 51%|█████     | 2744/5424 [15:11<14:50,  3.01it/s]\u001b[A\n",
      " 51%|█████     | 2745/5424 [15:11<14:49,  3.01it/s]\u001b[A\n",
      " 51%|█████     | 2746/5424 [15:11<14:49,  3.01it/s]\u001b[A\n",
      " 51%|█████     | 2748/5424 [15:12<14:48,  3.01it/s]\u001b[A\n",
      " 51%|█████     | 2750/5424 [15:12<14:47,  3.01it/s]\u001b[A\n",
      " 51%|█████     | 2752/5424 [15:12<14:46,  3.01it/s]\u001b[A\n",
      " 51%|█████     | 2753/5424 [15:13<14:45,  3.01it/s]\u001b[A\n",
      " 51%|█████     | 2754/5424 [15:13<14:45,  3.02it/s]\u001b[A\n",
      " 51%|█████     | 2755/5424 [15:13<14:44,  3.02it/s]\u001b[A\n",
      " 51%|█████     | 2756/5424 [15:13<14:44,  3.02it/s]\u001b[A\n",
      " 51%|█████     | 2758/5424 [15:14<14:43,  3.02it/s]\u001b[A\n",
      " 51%|█████     | 2759/5424 [15:14<14:43,  3.02it/s]\u001b[A\n",
      " 51%|█████     | 2760/5424 [15:14<14:42,  3.02it/s]\u001b[A\n",
      " 51%|█████     | 2761/5424 [15:15<14:42,  3.02it/s]\u001b[A\n",
      " 51%|█████     | 2762/5424 [15:15<14:42,  3.02it/s]\u001b[A\n",
      " 51%|█████     | 2763/5424 [15:15<14:41,  3.02it/s]\u001b[A\n",
      " 51%|█████     | 2764/5424 [15:15<14:41,  3.02it/s]\u001b[A\n",
      " 51%|█████     | 2765/5424 [15:16<14:40,  3.02it/s]\u001b[A\n",
      " 51%|█████     | 2766/5424 [15:16<14:40,  3.02it/s]\u001b[A\n",
      " 51%|█████     | 2768/5424 [15:16<14:39,  3.02it/s]\u001b[A\n",
      " 51%|█████     | 2770/5424 [15:17<14:38,  3.02it/s]\u001b[A\n",
      " 51%|█████     | 2771/5424 [15:17<14:38,  3.02it/s]\u001b[A\n",
      " 51%|█████     | 2772/5424 [15:17<14:37,  3.02it/s]\u001b[A\n",
      " 51%|█████     | 2774/5424 [15:17<14:36,  3.02it/s]\u001b[A\n",
      " 51%|█████     | 2775/5424 [15:18<14:36,  3.02it/s]\u001b[A\n",
      " 51%|█████     | 2776/5424 [15:18<14:36,  3.02it/s]\u001b[A\n",
      " 51%|█████     | 2777/5424 [15:18<14:35,  3.02it/s]\u001b[A\n",
      " 51%|█████     | 2778/5424 [15:18<14:35,  3.02it/s]\u001b[A\n",
      " 51%|█████     | 2779/5424 [15:19<14:34,  3.02it/s]\u001b[A\n",
      " 51%|█████▏    | 2780/5424 [15:19<14:34,  3.02it/s]\u001b[A\n",
      " 51%|█████▏    | 2781/5424 [15:19<14:34,  3.02it/s]\u001b[A\n"
     ]
    },
    {
     "name": "stderr",
     "output_type": "stream",
     "text": [
      " 51%|█████▏    | 2783/5424 [15:20<14:33,  3.02it/s]\u001b[A\n",
      " 51%|█████▏    | 2784/5424 [15:20<14:32,  3.02it/s]\u001b[A\n",
      " 51%|█████▏    | 2785/5424 [15:20<14:32,  3.02it/s]\u001b[A\n",
      " 51%|█████▏    | 2786/5424 [15:20<14:31,  3.03it/s]\u001b[A\n",
      " 51%|█████▏    | 2788/5424 [15:21<14:30,  3.03it/s]\u001b[A\n",
      " 51%|█████▏    | 2789/5424 [15:21<14:30,  3.03it/s]\u001b[A\n",
      " 51%|█████▏    | 2790/5424 [15:21<14:30,  3.03it/s]\u001b[A\n",
      " 51%|█████▏    | 2791/5424 [15:21<14:29,  3.03it/s]\u001b[A\n",
      " 51%|█████▏    | 2792/5424 [15:21<14:29,  3.03it/s]\u001b[A\n",
      " 51%|█████▏    | 2793/5424 [15:22<14:28,  3.03it/s]\u001b[A\n",
      " 52%|█████▏    | 2794/5424 [15:22<14:28,  3.03it/s]\u001b[A\n",
      " 52%|█████▏    | 2797/5424 [15:22<14:26,  3.03it/s]\u001b[A\n",
      " 52%|█████▏    | 2798/5424 [15:23<14:26,  3.03it/s]\u001b[A\n",
      " 52%|█████▏    | 2800/5424 [15:23<14:25,  3.03it/s]\u001b[A\n",
      " 52%|█████▏    | 2801/5424 [15:23<14:24,  3.03it/s]\u001b[A\n",
      " 52%|█████▏    | 2802/5424 [15:23<14:24,  3.03it/s]\u001b[A\n",
      " 52%|█████▏    | 2803/5424 [15:24<14:24,  3.03it/s]\u001b[A\n",
      " 52%|█████▏    | 2804/5424 [15:24<14:23,  3.03it/s]\u001b[A\n",
      " 52%|█████▏    | 2806/5424 [15:24<14:22,  3.03it/s]\u001b[A\n",
      " 52%|█████▏    | 2807/5424 [15:24<14:22,  3.03it/s]\u001b[A\n",
      " 52%|█████▏    | 2808/5424 [15:25<14:21,  3.04it/s]\u001b[A\n",
      " 52%|█████▏    | 2810/5424 [15:25<14:20,  3.04it/s]\u001b[A\n",
      " 52%|█████▏    | 2811/5424 [15:25<14:20,  3.04it/s]\u001b[A\n",
      " 52%|█████▏    | 2812/5424 [15:25<14:19,  3.04it/s]\u001b[A\n",
      " 52%|█████▏    | 2813/5424 [15:26<14:19,  3.04it/s]\u001b[A\n",
      " 52%|█████▏    | 2815/5424 [15:26<14:18,  3.04it/s]\u001b[A\n",
      " 52%|█████▏    | 2816/5424 [15:26<14:18,  3.04it/s]\u001b[A\n",
      " 52%|█████▏    | 2817/5424 [15:26<14:17,  3.04it/s]\u001b[A\n",
      " 52%|█████▏    | 2818/5424 [15:27<14:17,  3.04it/s]\u001b[A\n",
      " 52%|█████▏    | 2819/5424 [15:27<14:16,  3.04it/s]\u001b[A\n",
      " 52%|█████▏    | 2820/5424 [15:27<14:16,  3.04it/s]\u001b[A\n",
      " 52%|█████▏    | 2821/5424 [15:27<14:16,  3.04it/s]\u001b[A\n",
      " 52%|█████▏    | 2822/5424 [15:28<14:15,  3.04it/s]\u001b[A\n",
      " 52%|█████▏    | 2823/5424 [15:28<14:15,  3.04it/s]\u001b[A\n",
      " 52%|█████▏    | 2824/5424 [15:28<14:14,  3.04it/s]\u001b[A\n",
      " 52%|█████▏    | 2825/5424 [15:28<14:14,  3.04it/s]\u001b[A\n",
      " 52%|█████▏    | 2826/5424 [15:28<14:13,  3.04it/s]\u001b[A\n",
      " 52%|█████▏    | 2827/5424 [15:29<14:13,  3.04it/s]\u001b[A\n",
      " 52%|█████▏    | 2828/5424 [15:29<14:13,  3.04it/s]\u001b[A\n",
      " 52%|█████▏    | 2829/5424 [15:29<14:12,  3.04it/s]\u001b[A\n",
      " 52%|█████▏    | 2831/5424 [15:30<14:11,  3.04it/s]\u001b[A\n",
      " 52%|█████▏    | 2832/5424 [15:30<14:11,  3.04it/s]\u001b[A\n",
      " 52%|█████▏    | 2833/5424 [15:30<14:11,  3.04it/s]\u001b[A\n",
      " 52%|█████▏    | 2834/5424 [15:30<14:10,  3.04it/s]\u001b[A\n",
      " 52%|█████▏    | 2835/5424 [15:31<14:10,  3.04it/s]\u001b[A\n",
      " 52%|█████▏    | 2837/5424 [15:31<14:09,  3.05it/s]\u001b[A\n",
      " 52%|█████▏    | 2838/5424 [15:31<14:08,  3.05it/s]\u001b[A\n",
      " 52%|█████▏    | 2839/5424 [15:31<14:08,  3.05it/s]\u001b[A\n",
      " 52%|█████▏    | 2840/5424 [15:31<14:07,  3.05it/s]\u001b[A\n",
      " 52%|█████▏    | 2841/5424 [15:32<14:07,  3.05it/s]\u001b[A\n",
      " 52%|█████▏    | 2842/5424 [15:32<14:07,  3.05it/s]\u001b[A\n",
      " 52%|█████▏    | 2843/5424 [15:32<14:06,  3.05it/s]\u001b[A\n",
      " 52%|█████▏    | 2844/5424 [15:33<14:06,  3.05it/s]\u001b[A\n",
      " 52%|█████▏    | 2845/5424 [15:33<14:06,  3.05it/s]\u001b[A\n",
      " 52%|█████▏    | 2846/5424 [15:33<14:06,  3.05it/s]\u001b[A\n",
      " 52%|█████▏    | 2847/5424 [15:34<14:05,  3.05it/s]\u001b[A\n",
      " 53%|█████▎    | 2848/5424 [15:34<14:05,  3.05it/s]\u001b[A\n",
      " 53%|█████▎    | 2849/5424 [15:34<14:04,  3.05it/s]\u001b[A\n",
      " 53%|█████▎    | 2850/5424 [15:34<14:04,  3.05it/s]\u001b[A\n",
      " 53%|█████▎    | 2851/5424 [15:34<14:03,  3.05it/s]\u001b[A\n",
      " 53%|█████▎    | 2852/5424 [15:35<14:03,  3.05it/s]\u001b[A\n",
      " 53%|█████▎    | 2853/5424 [15:35<14:02,  3.05it/s]\u001b[A\n",
      " 53%|█████▎    | 2854/5424 [15:35<14:02,  3.05it/s]\u001b[A\n",
      " 53%|█████▎    | 2855/5424 [15:35<14:02,  3.05it/s]\u001b[A\n",
      " 53%|█████▎    | 2856/5424 [15:36<14:01,  3.05it/s]\u001b[A\n",
      " 53%|█████▎    | 2857/5424 [15:36<14:01,  3.05it/s]\u001b[A\n",
      " 53%|█████▎    | 2859/5424 [15:36<14:00,  3.05it/s]\u001b[A\n",
      " 53%|█████▎    | 2860/5424 [15:36<13:59,  3.05it/s]\u001b[A\n",
      " 53%|█████▎    | 2861/5424 [15:36<13:59,  3.05it/s]\u001b[A\n",
      " 53%|█████▎    | 2863/5424 [15:36<13:58,  3.06it/s]\u001b[A\n",
      " 53%|█████▎    | 2864/5424 [15:37<13:57,  3.06it/s]\u001b[A\n",
      " 53%|█████▎    | 2865/5424 [15:37<13:57,  3.06it/s]\u001b[A\n",
      " 53%|█████▎    | 2866/5424 [15:37<13:57,  3.06it/s]\u001b[A\n",
      " 53%|█████▎    | 2867/5424 [15:38<13:56,  3.06it/s]\u001b[A\n",
      " 53%|█████▎    | 2868/5424 [15:38<13:56,  3.06it/s]\u001b[A\n",
      " 53%|█████▎    | 2869/5424 [15:38<13:56,  3.06it/s]\u001b[A\n",
      " 53%|█████▎    | 2872/5424 [15:39<13:54,  3.06it/s]\u001b[A\n",
      " 53%|█████▎    | 2873/5424 [15:39<13:54,  3.06it/s]\u001b[A\n",
      " 53%|█████▎    | 2874/5424 [15:39<13:53,  3.06it/s]\u001b[A\n",
      " 53%|█████▎    | 2875/5424 [15:40<13:53,  3.06it/s]\u001b[A\n",
      " 53%|█████▎    | 2876/5424 [15:40<13:53,  3.06it/s]\u001b[A\n",
      " 53%|█████▎    | 2877/5424 [15:40<13:52,  3.06it/s]\u001b[A\n",
      " 53%|█████▎    | 2880/5424 [15:40<13:50,  3.06it/s]\u001b[A\n",
      " 53%|█████▎    | 2882/5424 [15:40<13:49,  3.06it/s]\u001b[A\n",
      " 53%|█████▎    | 2884/5424 [15:41<13:49,  3.06it/s]\u001b[A\n",
      " 53%|█████▎    | 2885/5424 [15:41<13:48,  3.06it/s]\u001b[A\n",
      " 53%|█████▎    | 2887/5424 [15:42<13:47,  3.06it/s]\u001b[A\n",
      " 53%|█████▎    | 2888/5424 [15:42<13:47,  3.06it/s]\u001b[A\n",
      " 53%|█████▎    | 2889/5424 [15:42<13:47,  3.07it/s]\u001b[A\n",
      " 53%|█████▎    | 2891/5424 [15:42<13:46,  3.07it/s]\u001b[A\n",
      " 53%|█████▎    | 2892/5424 [15:43<13:45,  3.07it/s]\u001b[A\n",
      " 53%|█████▎    | 2893/5424 [15:43<13:45,  3.07it/s]\u001b[A\n",
      " 53%|█████▎    | 2895/5424 [15:43<13:44,  3.07it/s]\u001b[A\n",
      " 53%|█████▎    | 2896/5424 [15:44<13:44,  3.07it/s]\u001b[A\n",
      " 53%|█████▎    | 2897/5424 [15:44<13:43,  3.07it/s]\u001b[A\n",
      " 53%|█████▎    | 2898/5424 [15:44<13:43,  3.07it/s]\u001b[A\n",
      " 53%|█████▎    | 2899/5424 [15:44<13:43,  3.07it/s]\u001b[A\n",
      " 53%|█████▎    | 2901/5424 [15:45<13:42,  3.07it/s]\u001b[A\n",
      " 54%|█████▎    | 2902/5424 [15:45<13:41,  3.07it/s]\u001b[A\n",
      " 54%|█████▎    | 2903/5424 [15:46<13:41,  3.07it/s]\u001b[A\n",
      " 54%|█████▎    | 2904/5424 [15:46<13:41,  3.07it/s]\u001b[A\n",
      " 54%|█████▎    | 2905/5424 [15:46<13:40,  3.07it/s]\u001b[A\n",
      " 54%|█████▎    | 2906/5424 [15:46<13:40,  3.07it/s]\u001b[A\n",
      " 54%|█████▎    | 2908/5424 [15:47<13:39,  3.07it/s]\u001b[A\n",
      " 54%|█████▎    | 2909/5424 [15:47<13:38,  3.07it/s]\u001b[A\n",
      " 54%|█████▎    | 2911/5424 [15:47<13:37,  3.07it/s]\u001b[A\n",
      " 54%|█████▎    | 2913/5424 [15:47<13:37,  3.07it/s]\u001b[A\n",
      " 54%|█████▎    | 2914/5424 [15:48<13:36,  3.07it/s]\u001b[A\n",
      " 54%|█████▎    | 2915/5424 [15:48<13:36,  3.07it/s]\u001b[A\n",
      " 54%|█████▍    | 2916/5424 [15:48<13:35,  3.07it/s]\u001b[A\n",
      " 54%|█████▍    | 2917/5424 [15:48<13:35,  3.07it/s]\u001b[A\n",
      " 54%|█████▍    | 2918/5424 [15:49<13:35,  3.07it/s]\u001b[A\n",
      " 54%|█████▍    | 2919/5424 [15:49<13:34,  3.07it/s]\u001b[A\n",
      " 54%|█████▍    | 2920/5424 [15:49<13:34,  3.08it/s]\u001b[A\n",
      " 54%|█████▍    | 2921/5424 [15:49<13:33,  3.08it/s]\u001b[A\n",
      " 54%|█████▍    | 2922/5424 [15:50<13:33,  3.08it/s]\u001b[A\n",
      " 54%|█████▍    | 2923/5424 [15:50<13:33,  3.08it/s]\u001b[A\n",
      " 54%|█████▍    | 2924/5424 [15:50<13:32,  3.08it/s]\u001b[A\n",
      " 54%|█████▍    | 2925/5424 [15:50<13:32,  3.08it/s]\u001b[A\n",
      " 54%|█████▍    | 2926/5424 [15:51<13:32,  3.08it/s]\u001b[A\n",
      " 54%|█████▍    | 2927/5424 [15:51<13:31,  3.08it/s]\u001b[A\n",
      " 54%|█████▍    | 2928/5424 [15:51<13:31,  3.08it/s]\u001b[A\n",
      " 54%|█████▍    | 2929/5424 [15:52<13:30,  3.08it/s]\u001b[A\n",
      " 54%|█████▍    | 2930/5424 [15:52<13:30,  3.08it/s]\u001b[A\n",
      " 54%|█████▍    | 2931/5424 [15:52<13:30,  3.08it/s]\u001b[A\n",
      " 54%|█████▍    | 2932/5424 [15:52<13:29,  3.08it/s]\u001b[A\n",
      " 54%|█████▍    | 2934/5424 [15:53<13:28,  3.08it/s]\u001b[A\n",
      " 54%|█████▍    | 2935/5424 [15:53<13:28,  3.08it/s]\u001b[A\n",
      " 54%|█████▍    | 2937/5424 [15:53<13:27,  3.08it/s]\u001b[A\n",
      " 54%|█████▍    | 2938/5424 [15:54<13:27,  3.08it/s]\u001b[A\n",
      " 54%|█████▍    | 2939/5424 [15:54<13:26,  3.08it/s]\u001b[A\n",
      " 54%|█████▍    | 2940/5424 [15:54<13:26,  3.08it/s]\u001b[A\n",
      " 54%|█████▍    | 2941/5424 [15:54<13:25,  3.08it/s]\u001b[A\n",
      " 54%|█████▍    | 2943/5424 [15:55<13:25,  3.08it/s]\u001b[A\n",
      " 54%|█████▍    | 2944/5424 [15:55<13:24,  3.08it/s]\u001b[A\n",
      " 54%|█████▍    | 2945/5424 [15:55<13:24,  3.08it/s]\u001b[A\n",
      " 54%|█████▍    | 2946/5424 [15:55<13:23,  3.08it/s]\u001b[A\n",
      " 54%|█████▍    | 2947/5424 [15:55<13:23,  3.08it/s]\u001b[A\n",
      " 54%|█████▍    | 2948/5424 [15:56<13:23,  3.08it/s]\u001b[A\n",
      " 54%|█████▍    | 2949/5424 [15:56<13:22,  3.08it/s]\u001b[A\n",
      " 54%|█████▍    | 2950/5424 [15:56<13:22,  3.08it/s]\u001b[A\n",
      " 54%|█████▍    | 2951/5424 [15:56<13:21,  3.08it/s]\u001b[A\n",
      " 54%|█████▍    | 2952/5424 [15:56<13:21,  3.09it/s]\u001b[A\n",
      " 54%|█████▍    | 2953/5424 [15:57<13:20,  3.09it/s]\u001b[A\n",
      " 54%|█████▍    | 2954/5424 [15:57<13:20,  3.09it/s]\u001b[A\n",
      " 54%|█████▍    | 2955/5424 [15:57<13:20,  3.09it/s]\u001b[A\n",
      " 54%|█████▍    | 2956/5424 [15:57<13:19,  3.09it/s]\u001b[A\n",
      " 55%|█████▍    | 2957/5424 [15:58<13:19,  3.09it/s]\u001b[A\n"
     ]
    },
    {
     "name": "stderr",
     "output_type": "stream",
     "text": [
      " 55%|█████▍    | 2958/5424 [15:58<13:18,  3.09it/s]\u001b[A\n",
      " 55%|█████▍    | 2959/5424 [15:58<13:18,  3.09it/s]\u001b[A\n",
      " 55%|█████▍    | 2961/5424 [15:58<13:17,  3.09it/s]\u001b[A\n",
      " 55%|█████▍    | 2962/5424 [15:58<13:16,  3.09it/s]\u001b[A\n",
      " 55%|█████▍    | 2963/5424 [15:59<13:16,  3.09it/s]\u001b[A\n",
      " 55%|█████▍    | 2964/5424 [15:59<13:16,  3.09it/s]\u001b[A\n",
      " 55%|█████▍    | 2965/5424 [15:59<13:15,  3.09it/s]\u001b[A\n",
      " 55%|█████▍    | 2966/5424 [15:59<13:15,  3.09it/s]\u001b[A\n",
      " 55%|█████▍    | 2967/5424 [16:00<13:15,  3.09it/s]\u001b[A\n",
      " 55%|█████▍    | 2968/5424 [16:00<13:14,  3.09it/s]\u001b[A\n",
      " 55%|█████▍    | 2969/5424 [16:00<13:14,  3.09it/s]\u001b[A\n",
      " 55%|█████▍    | 2970/5424 [16:00<13:14,  3.09it/s]\u001b[A\n",
      " 55%|█████▍    | 2971/5424 [16:01<13:13,  3.09it/s]\u001b[A\n",
      " 55%|█████▍    | 2972/5424 [16:01<13:13,  3.09it/s]\u001b[A\n",
      " 55%|█████▍    | 2974/5424 [16:01<13:12,  3.09it/s]\u001b[A\n",
      " 55%|█████▍    | 2975/5424 [16:02<13:12,  3.09it/s]\u001b[A\n",
      " 55%|█████▍    | 2978/5424 [16:02<13:10,  3.09it/s]\u001b[A\n",
      " 55%|█████▍    | 2979/5424 [16:02<13:10,  3.09it/s]\u001b[A\n",
      " 55%|█████▍    | 2981/5424 [16:03<13:09,  3.10it/s]\u001b[A\n",
      " 55%|█████▍    | 2983/5424 [16:03<13:08,  3.10it/s]\u001b[A\n",
      " 55%|█████▌    | 2984/5424 [16:03<13:08,  3.10it/s]\u001b[A\n",
      " 55%|█████▌    | 2985/5424 [16:04<13:07,  3.10it/s]\u001b[A\n",
      " 55%|█████▌    | 2986/5424 [16:04<13:07,  3.10it/s]\u001b[A\n",
      " 55%|█████▌    | 2987/5424 [16:04<13:06,  3.10it/s]\u001b[A\n",
      " 55%|█████▌    | 2988/5424 [16:04<13:06,  3.10it/s]\u001b[A\n",
      " 55%|█████▌    | 2989/5424 [16:04<13:06,  3.10it/s]\u001b[A\n",
      " 55%|█████▌    | 2991/5424 [16:05<13:05,  3.10it/s]\u001b[A\n",
      " 55%|█████▌    | 2992/5424 [16:05<13:04,  3.10it/s]\u001b[A\n",
      " 55%|█████▌    | 2993/5424 [16:05<13:04,  3.10it/s]\u001b[A\n",
      " 55%|█████▌    | 2994/5424 [16:05<13:03,  3.10it/s]\u001b[A\n",
      " 55%|█████▌    | 2995/5424 [16:06<13:03,  3.10it/s]\u001b[A\n",
      " 55%|█████▌    | 2996/5424 [16:06<13:03,  3.10it/s]\u001b[A\n",
      " 55%|█████▌    | 2997/5424 [16:06<13:02,  3.10it/s]\u001b[A\n",
      " 55%|█████▌    | 2998/5424 [16:06<13:02,  3.10it/s]\u001b[A\n",
      " 55%|█████▌    | 2999/5424 [16:07<13:02,  3.10it/s]\u001b[A\n",
      " 55%|█████▌    | 3001/5424 [16:07<13:01,  3.10it/s]\u001b[A\n",
      " 55%|█████▌    | 3003/5424 [16:07<13:00,  3.10it/s]\u001b[A\n",
      " 55%|█████▌    | 3004/5424 [16:08<12:59,  3.10it/s]\u001b[A\n",
      " 55%|█████▌    | 3006/5424 [16:08<12:58,  3.10it/s]\u001b[A\n",
      " 55%|█████▌    | 3007/5424 [16:08<12:58,  3.10it/s]\u001b[A\n",
      " 55%|█████▌    | 3009/5424 [16:08<12:57,  3.11it/s]\u001b[A\n",
      " 55%|█████▌    | 3010/5424 [16:09<12:57,  3.11it/s]\u001b[A\n",
      " 56%|█████▌    | 3011/5424 [16:09<12:56,  3.11it/s]\u001b[A\n",
      " 56%|█████▌    | 3012/5424 [16:09<12:56,  3.11it/s]\u001b[A\n",
      " 56%|█████▌    | 3014/5424 [16:09<12:55,  3.11it/s]\u001b[A\n",
      " 56%|█████▌    | 3015/5424 [16:09<12:55,  3.11it/s]\u001b[A\n",
      " 56%|█████▌    | 3016/5424 [16:10<12:54,  3.11it/s]\u001b[A\n",
      " 56%|█████▌    | 3017/5424 [16:10<12:54,  3.11it/s]\u001b[A\n",
      " 56%|█████▌    | 3018/5424 [16:10<12:53,  3.11it/s]\u001b[A\n",
      " 56%|█████▌    | 3019/5424 [16:10<12:53,  3.11it/s]\u001b[A\n",
      " 56%|█████▌    | 3020/5424 [16:11<12:53,  3.11it/s]\u001b[A\n",
      " 56%|█████▌    | 3022/5424 [16:11<12:52,  3.11it/s]\u001b[A\n",
      " 56%|█████▌    | 3023/5424 [16:11<12:51,  3.11it/s]\u001b[A\n",
      " 56%|█████▌    | 3025/5424 [16:12<12:50,  3.11it/s]\u001b[A\n",
      " 56%|█████▌    | 3027/5424 [16:12<12:50,  3.11it/s]\u001b[A\n",
      " 56%|█████▌    | 3028/5424 [16:12<12:49,  3.11it/s]\u001b[A\n",
      " 56%|█████▌    | 3029/5424 [16:12<12:49,  3.11it/s]\u001b[A\n",
      " 56%|█████▌    | 3031/5424 [16:13<12:48,  3.11it/s]\u001b[A\n",
      " 56%|█████▌    | 3032/5424 [16:13<12:48,  3.11it/s]\u001b[A\n",
      " 56%|█████▌    | 3033/5424 [16:13<12:47,  3.11it/s]\u001b[A\n",
      " 56%|█████▌    | 3034/5424 [16:14<12:47,  3.11it/s]\u001b[A\n",
      " 56%|█████▌    | 3035/5424 [16:14<12:47,  3.11it/s]\u001b[A\n",
      " 56%|█████▌    | 3036/5424 [16:14<12:46,  3.11it/s]\u001b[A\n",
      " 56%|█████▌    | 3037/5424 [16:15<12:46,  3.11it/s]\u001b[A\n",
      " 56%|█████▌    | 3038/5424 [16:15<12:46,  3.11it/s]\u001b[A\n",
      " 56%|█████▌    | 3040/5424 [16:15<12:45,  3.12it/s]\u001b[A\n",
      " 56%|█████▌    | 3041/5424 [16:15<12:44,  3.12it/s]\u001b[A\n",
      " 56%|█████▌    | 3042/5424 [16:16<12:44,  3.12it/s]\u001b[A\n",
      " 56%|█████▌    | 3043/5424 [16:16<12:43,  3.12it/s]\u001b[A\n",
      " 56%|█████▌    | 3044/5424 [16:16<12:43,  3.12it/s]\u001b[A\n",
      " 56%|█████▌    | 3045/5424 [16:16<12:43,  3.12it/s]\u001b[A\n",
      " 56%|█████▌    | 3046/5424 [16:16<12:42,  3.12it/s]\u001b[A\n",
      " 56%|█████▌    | 3047/5424 [16:17<12:42,  3.12it/s]\u001b[A\n",
      " 56%|█████▌    | 3048/5424 [16:17<12:41,  3.12it/s]\u001b[A\n",
      " 56%|█████▌    | 3050/5424 [16:17<12:41,  3.12it/s]\u001b[A\n",
      " 56%|█████▋    | 3052/5424 [16:18<12:40,  3.12it/s]\u001b[A\n",
      " 56%|█████▋    | 3054/5424 [16:18<12:39,  3.12it/s]\u001b[A\n",
      " 56%|█████▋    | 3055/5424 [16:18<12:38,  3.12it/s]\u001b[A\n",
      " 56%|█████▋    | 3056/5424 [16:18<12:38,  3.12it/s]\u001b[A\n",
      " 56%|█████▋    | 3058/5424 [16:19<12:37,  3.12it/s]\u001b[A\n",
      " 56%|█████▋    | 3060/5424 [16:19<12:36,  3.12it/s]\u001b[A\n",
      " 56%|█████▋    | 3062/5424 [16:19<12:35,  3.13it/s]\u001b[A\n",
      " 56%|█████▋    | 3064/5424 [16:19<12:34,  3.13it/s]\u001b[A\n",
      " 57%|█████▋    | 3066/5424 [16:19<12:33,  3.13it/s]\u001b[A\n",
      " 57%|█████▋    | 3067/5424 [16:20<12:33,  3.13it/s]\u001b[A\n",
      " 57%|█████▋    | 3069/5424 [16:20<12:32,  3.13it/s]\u001b[A\n",
      " 57%|█████▋    | 3070/5424 [16:20<12:32,  3.13it/s]\u001b[A\n",
      " 57%|█████▋    | 3071/5424 [16:21<12:31,  3.13it/s]\u001b[A\n",
      " 57%|█████▋    | 3073/5424 [16:21<12:30,  3.13it/s]\u001b[A\n",
      " 57%|█████▋    | 3074/5424 [16:21<12:30,  3.13it/s]\u001b[A\n",
      " 57%|█████▋    | 3075/5424 [16:21<12:30,  3.13it/s]\u001b[A\n",
      " 57%|█████▋    | 3077/5424 [16:22<12:29,  3.13it/s]\u001b[A\n",
      " 57%|█████▋    | 3078/5424 [16:22<12:28,  3.13it/s]\u001b[A\n",
      " 57%|█████▋    | 3079/5424 [16:22<12:28,  3.13it/s]\u001b[A\n",
      " 57%|█████▋    | 3080/5424 [16:23<12:28,  3.13it/s]\u001b[A\n",
      " 57%|█████▋    | 3081/5424 [16:23<12:27,  3.13it/s]\u001b[A\n",
      " 57%|█████▋    | 3082/5424 [16:23<12:27,  3.13it/s]\u001b[A\n",
      " 57%|█████▋    | 3084/5424 [16:23<12:26,  3.13it/s]\u001b[A\n",
      " 57%|█████▋    | 3085/5424 [16:23<12:26,  3.14it/s]\u001b[A\n",
      " 57%|█████▋    | 3086/5424 [16:24<12:25,  3.14it/s]\u001b[A\n",
      " 57%|█████▋    | 3087/5424 [16:24<12:25,  3.14it/s]\u001b[A\n",
      " 57%|█████▋    | 3088/5424 [16:24<12:24,  3.14it/s]\u001b[A\n",
      " 57%|█████▋    | 3089/5424 [16:25<12:24,  3.14it/s]\u001b[A\n",
      " 57%|█████▋    | 3090/5424 [16:25<12:24,  3.14it/s]\u001b[A\n",
      " 57%|█████▋    | 3091/5424 [16:25<12:23,  3.14it/s]\u001b[A\n",
      " 57%|█████▋    | 3092/5424 [16:25<12:23,  3.14it/s]\u001b[A\n",
      " 57%|█████▋    | 3094/5424 [16:26<12:22,  3.14it/s]\u001b[A\n",
      " 57%|█████▋    | 3095/5424 [16:26<12:22,  3.14it/s]\u001b[A\n",
      " 57%|█████▋    | 3096/5424 [16:26<12:22,  3.14it/s]\u001b[A\n",
      " 57%|█████▋    | 3097/5424 [16:27<12:21,  3.14it/s]\u001b[A\n",
      " 57%|█████▋    | 3099/5424 [16:27<12:20,  3.14it/s]\u001b[A\n",
      " 57%|█████▋    | 3100/5424 [16:27<12:20,  3.14it/s]\u001b[A\n",
      " 57%|█████▋    | 3101/5424 [16:27<12:20,  3.14it/s]\u001b[A\n",
      " 57%|█████▋    | 3102/5424 [16:28<12:19,  3.14it/s]\u001b[A\n",
      " 57%|█████▋    | 3103/5424 [16:28<12:19,  3.14it/s]\u001b[A\n",
      " 57%|█████▋    | 3104/5424 [16:28<12:19,  3.14it/s]\u001b[A\n",
      " 57%|█████▋    | 3105/5424 [16:29<12:18,  3.14it/s]\u001b[A\n",
      " 57%|█████▋    | 3106/5424 [16:29<12:18,  3.14it/s]\u001b[A\n",
      " 57%|█████▋    | 3108/5424 [16:29<12:17,  3.14it/s]\u001b[A\n",
      " 57%|█████▋    | 3109/5424 [16:30<12:17,  3.14it/s]\u001b[A\n",
      " 57%|█████▋    | 3110/5424 [16:30<12:16,  3.14it/s]\u001b[A\n",
      " 57%|█████▋    | 3112/5424 [16:30<12:16,  3.14it/s]\u001b[A\n",
      " 57%|█████▋    | 3113/5424 [16:30<12:15,  3.14it/s]\u001b[A\n",
      " 57%|█████▋    | 3114/5424 [16:31<12:15,  3.14it/s]\u001b[A\n",
      " 57%|█████▋    | 3115/5424 [16:31<12:14,  3.14it/s]\u001b[A\n",
      " 57%|█████▋    | 3116/5424 [16:31<12:14,  3.14it/s]\u001b[A\n",
      " 57%|█████▋    | 3117/5424 [16:31<12:13,  3.14it/s]\u001b[A\n",
      " 57%|█████▋    | 3118/5424 [16:31<12:13,  3.14it/s]\u001b[A\n",
      " 58%|█████▊    | 3119/5424 [16:32<12:13,  3.14it/s]\u001b[A\n",
      " 58%|█████▊    | 3120/5424 [16:32<12:12,  3.14it/s]\u001b[A\n",
      " 58%|█████▊    | 3122/5424 [16:32<12:11,  3.15it/s]\u001b[A\n",
      " 58%|█████▊    | 3123/5424 [16:32<12:11,  3.15it/s]\u001b[A\n",
      " 58%|█████▊    | 3124/5424 [16:32<12:11,  3.15it/s]\u001b[A\n",
      " 58%|█████▊    | 3125/5424 [16:33<12:10,  3.15it/s]\u001b[A\n",
      " 58%|█████▊    | 3127/5424 [16:33<12:09,  3.15it/s]\u001b[A\n",
      " 58%|█████▊    | 3128/5424 [16:33<12:09,  3.15it/s]\u001b[A\n",
      " 58%|█████▊    | 3129/5424 [16:33<12:09,  3.15it/s]\u001b[A\n",
      " 58%|█████▊    | 3130/5424 [16:34<12:08,  3.15it/s]\u001b[A\n",
      " 58%|█████▊    | 3131/5424 [16:34<12:08,  3.15it/s]\u001b[A\n",
      " 58%|█████▊    | 3133/5424 [16:34<12:07,  3.15it/s]\u001b[A\n",
      " 58%|█████▊    | 3134/5424 [16:35<12:07,  3.15it/s]\u001b[A\n",
      " 58%|█████▊    | 3136/5424 [16:35<12:06,  3.15it/s]\u001b[A\n",
      " 58%|█████▊    | 3137/5424 [16:35<12:05,  3.15it/s]\u001b[A\n",
      " 58%|█████▊    | 3138/5424 [16:35<12:05,  3.15it/s]\u001b[A\n",
      " 58%|█████▊    | 3140/5424 [16:36<12:04,  3.15it/s]\u001b[A\n",
      " 58%|█████▊    | 3142/5424 [16:36<12:03,  3.15it/s]\u001b[A\n",
      " 58%|█████▊    | 3143/5424 [16:36<12:03,  3.15it/s]\u001b[A\n",
      " 58%|█████▊    | 3144/5424 [16:36<12:02,  3.15it/s]\u001b[A\n"
     ]
    },
    {
     "name": "stderr",
     "output_type": "stream",
     "text": [
      " 58%|█████▊    | 3146/5424 [16:37<12:01,  3.16it/s]\u001b[A\n",
      " 58%|█████▊    | 3147/5424 [16:37<12:01,  3.16it/s]\u001b[A\n",
      " 58%|█████▊    | 3148/5424 [16:37<12:01,  3.16it/s]\u001b[A\n",
      " 58%|█████▊    | 3150/5424 [16:37<12:00,  3.16it/s]\u001b[A\n",
      " 58%|█████▊    | 3151/5424 [16:37<11:59,  3.16it/s]\u001b[A\n",
      " 58%|█████▊    | 3152/5424 [16:38<11:59,  3.16it/s]\u001b[A\n",
      " 58%|█████▊    | 3153/5424 [16:38<11:59,  3.16it/s]\u001b[A\n",
      " 58%|█████▊    | 3154/5424 [16:38<11:58,  3.16it/s]\u001b[A\n",
      " 58%|█████▊    | 3156/5424 [16:38<11:57,  3.16it/s]\u001b[A\n",
      " 58%|█████▊    | 3157/5424 [16:39<11:57,  3.16it/s]\u001b[A\n",
      " 58%|█████▊    | 3158/5424 [16:39<11:57,  3.16it/s]\u001b[A\n",
      " 58%|█████▊    | 3159/5424 [16:39<11:56,  3.16it/s]\u001b[A\n",
      " 58%|█████▊    | 3160/5424 [16:39<11:56,  3.16it/s]\u001b[A\n",
      " 58%|█████▊    | 3161/5424 [16:39<11:55,  3.16it/s]\u001b[A\n",
      " 58%|█████▊    | 3162/5424 [16:40<11:55,  3.16it/s]\u001b[A\n",
      " 58%|█████▊    | 3163/5424 [16:40<11:55,  3.16it/s]\u001b[A\n",
      " 58%|█████▊    | 3164/5424 [16:40<11:54,  3.16it/s]\u001b[A\n",
      " 58%|█████▊    | 3165/5424 [16:40<11:54,  3.16it/s]\u001b[A\n",
      " 58%|█████▊    | 3166/5424 [16:40<11:53,  3.16it/s]\u001b[A\n",
      " 58%|█████▊    | 3167/5424 [16:41<11:53,  3.16it/s]\u001b[A\n",
      " 58%|█████▊    | 3169/5424 [16:41<11:52,  3.16it/s]\u001b[A\n",
      " 58%|█████▊    | 3170/5424 [16:41<11:52,  3.17it/s]\u001b[A\n",
      " 58%|█████▊    | 3171/5424 [16:41<11:51,  3.17it/s]\u001b[A\n",
      " 58%|█████▊    | 3172/5424 [16:42<11:51,  3.17it/s]\u001b[A\n",
      " 59%|█████▊    | 3174/5424 [16:42<11:50,  3.17it/s]\u001b[A\n",
      " 59%|█████▊    | 3175/5424 [16:42<11:50,  3.17it/s]\u001b[A\n",
      " 59%|█████▊    | 3176/5424 [16:42<11:49,  3.17it/s]\u001b[A\n",
      " 59%|█████▊    | 3177/5424 [16:43<11:49,  3.17it/s]\u001b[A\n",
      " 59%|█████▊    | 3178/5424 [16:43<11:49,  3.17it/s]\u001b[A\n",
      " 59%|█████▊    | 3180/5424 [16:43<11:48,  3.17it/s]\u001b[A\n",
      " 59%|█████▊    | 3181/5424 [16:43<11:47,  3.17it/s]\u001b[A\n",
      " 59%|█████▊    | 3182/5424 [16:44<11:47,  3.17it/s]\u001b[A\n",
      " 59%|█████▊    | 3184/5424 [16:44<11:46,  3.17it/s]\u001b[A\n",
      " 59%|█████▊    | 3185/5424 [16:44<11:46,  3.17it/s]\u001b[A\n",
      " 59%|█████▊    | 3186/5424 [16:45<11:46,  3.17it/s]\u001b[A\n",
      " 59%|█████▉    | 3187/5424 [16:45<11:45,  3.17it/s]\u001b[A\n",
      " 59%|█████▉    | 3188/5424 [16:45<11:45,  3.17it/s]\u001b[A\n",
      " 59%|█████▉    | 3189/5424 [16:45<11:44,  3.17it/s]\u001b[A\n",
      " 59%|█████▉    | 3190/5424 [16:46<11:44,  3.17it/s]\u001b[A\n",
      " 59%|█████▉    | 3192/5424 [16:46<11:43,  3.17it/s]\u001b[A\n",
      " 59%|█████▉    | 3194/5424 [16:46<11:43,  3.17it/s]\u001b[A\n",
      " 59%|█████▉    | 3195/5424 [16:47<11:42,  3.17it/s]\u001b[A\n",
      " 59%|█████▉    | 3196/5424 [16:47<11:42,  3.17it/s]\u001b[A\n",
      " 59%|█████▉    | 3197/5424 [16:47<11:42,  3.17it/s]\u001b[A\n",
      " 59%|█████▉    | 3199/5424 [16:48<11:41,  3.17it/s]\u001b[A\n",
      " 59%|█████▉    | 3200/5424 [16:48<11:40,  3.17it/s]\u001b[A\n",
      " 59%|█████▉    | 3202/5424 [16:48<11:39,  3.17it/s]\u001b[A\n",
      " 59%|█████▉    | 3204/5424 [16:48<11:39,  3.18it/s]\u001b[A\n",
      " 59%|█████▉    | 3205/5424 [16:49<11:38,  3.18it/s]\u001b[A\n",
      " 59%|█████▉    | 3206/5424 [16:49<11:38,  3.18it/s]\u001b[A\n",
      " 59%|█████▉    | 3207/5424 [16:49<11:38,  3.18it/s]\u001b[A\n",
      " 59%|█████▉    | 3208/5424 [16:50<11:37,  3.18it/s]\u001b[A\n",
      " 59%|█████▉    | 3209/5424 [16:50<11:37,  3.18it/s]\u001b[A\n",
      " 59%|█████▉    | 3210/5424 [16:50<11:36,  3.18it/s]\u001b[A\n",
      " 59%|█████▉    | 3211/5424 [16:50<11:36,  3.18it/s]\u001b[A\n",
      " 59%|█████▉    | 3213/5424 [16:51<11:35,  3.18it/s]\u001b[A\n",
      " 59%|█████▉    | 3214/5424 [16:51<11:35,  3.18it/s]\u001b[A\n",
      " 59%|█████▉    | 3215/5424 [16:51<11:35,  3.18it/s]\u001b[A\n",
      " 59%|█████▉    | 3216/5424 [16:52<11:34,  3.18it/s]\u001b[A\n",
      " 59%|█████▉    | 3217/5424 [16:52<11:34,  3.18it/s]\u001b[A\n",
      " 59%|█████▉    | 3218/5424 [16:52<11:34,  3.18it/s]\u001b[A\n",
      " 59%|█████▉    | 3219/5424 [16:52<11:33,  3.18it/s]\u001b[A\n",
      " 59%|█████▉    | 3220/5424 [16:53<11:33,  3.18it/s]\u001b[A\n",
      " 59%|█████▉    | 3221/5424 [16:53<11:33,  3.18it/s]\u001b[A\n",
      " 59%|█████▉    | 3222/5424 [16:53<11:32,  3.18it/s]\u001b[A\n",
      " 59%|█████▉    | 3223/5424 [16:53<11:32,  3.18it/s]\u001b[A\n",
      " 59%|█████▉    | 3225/5424 [16:54<11:31,  3.18it/s]\u001b[A\n",
      " 59%|█████▉    | 3226/5424 [16:54<11:31,  3.18it/s]\u001b[A\n",
      " 59%|█████▉    | 3227/5424 [16:54<11:30,  3.18it/s]\u001b[A\n",
      " 60%|█████▉    | 3228/5424 [16:55<11:30,  3.18it/s]\u001b[A\n",
      " 60%|█████▉    | 3229/5424 [16:55<11:30,  3.18it/s]\u001b[A\n",
      " 60%|█████▉    | 3231/5424 [16:55<11:29,  3.18it/s]\u001b[A\n",
      " 60%|█████▉    | 3232/5424 [16:55<11:29,  3.18it/s]\u001b[A\n",
      " 60%|█████▉    | 3233/5424 [16:56<11:28,  3.18it/s]\u001b[A\n",
      " 60%|█████▉    | 3234/5424 [16:56<11:28,  3.18it/s]\u001b[A\n",
      " 60%|█████▉    | 3236/5424 [16:56<11:27,  3.18it/s]\u001b[A\n",
      " 60%|█████▉    | 3238/5424 [16:57<11:26,  3.18it/s]\u001b[A\n",
      " 60%|█████▉    | 3239/5424 [16:57<11:26,  3.18it/s]\u001b[A\n",
      " 60%|█████▉    | 3240/5424 [16:57<11:26,  3.18it/s]\u001b[A\n",
      " 60%|█████▉    | 3241/5424 [16:58<11:25,  3.18it/s]\u001b[A\n",
      " 60%|█████▉    | 3242/5424 [16:58<11:25,  3.18it/s]\u001b[A\n",
      " 60%|█████▉    | 3243/5424 [16:58<11:24,  3.18it/s]\u001b[A\n",
      " 60%|█████▉    | 3244/5424 [16:58<11:24,  3.18it/s]\u001b[A\n",
      " 60%|█████▉    | 3245/5424 [16:59<11:24,  3.18it/s]\u001b[A\n",
      " 60%|█████▉    | 3246/5424 [16:59<11:23,  3.18it/s]\u001b[A\n",
      " 60%|█████▉    | 3247/5424 [16:59<11:23,  3.18it/s]\u001b[A\n",
      " 60%|█████▉    | 3248/5424 [17:00<11:23,  3.18it/s]\u001b[A\n",
      " 60%|█████▉    | 3249/5424 [17:00<11:22,  3.18it/s]\u001b[A\n",
      " 60%|█████▉    | 3250/5424 [17:00<11:22,  3.18it/s]\u001b[A\n",
      " 60%|█████▉    | 3251/5424 [17:00<11:22,  3.18it/s]\u001b[A\n",
      " 60%|█████▉    | 3252/5424 [17:00<11:21,  3.19it/s]\u001b[A\n",
      " 60%|█████▉    | 3253/5424 [17:01<11:21,  3.19it/s]\u001b[A\n",
      " 60%|█████▉    | 3254/5424 [17:01<11:21,  3.19it/s]\u001b[A\n",
      " 60%|██████    | 3255/5424 [17:01<11:20,  3.19it/s]\u001b[A\n",
      " 60%|██████    | 3256/5424 [17:02<11:20,  3.19it/s]\u001b[A\n",
      " 60%|██████    | 3257/5424 [17:02<11:20,  3.19it/s]\u001b[A\n",
      " 60%|██████    | 3258/5424 [17:02<11:19,  3.19it/s]\u001b[A\n",
      " 60%|██████    | 3259/5424 [17:02<11:19,  3.19it/s]\u001b[A\n",
      " 60%|██████    | 3260/5424 [17:03<11:19,  3.19it/s]\u001b[A\n",
      " 60%|██████    | 3261/5424 [17:03<11:18,  3.19it/s]\u001b[A\n",
      " 60%|██████    | 3262/5424 [17:03<11:18,  3.19it/s]\u001b[A\n",
      " 60%|██████    | 3263/5424 [17:04<11:18,  3.19it/s]\u001b[A\n",
      " 60%|██████    | 3264/5424 [17:04<11:17,  3.19it/s]\u001b[A\n",
      " 60%|██████    | 3265/5424 [17:04<11:17,  3.19it/s]\u001b[A\n",
      " 60%|██████    | 3267/5424 [17:05<11:16,  3.19it/s]\u001b[A\n",
      " 60%|██████    | 3268/5424 [17:05<11:16,  3.19it/s]\u001b[A\n",
      " 60%|██████    | 3270/5424 [17:05<11:15,  3.19it/s]\u001b[A\n",
      " 60%|██████    | 3272/5424 [17:05<11:14,  3.19it/s]\u001b[A\n",
      " 60%|██████    | 3274/5424 [17:06<11:13,  3.19it/s]\u001b[A\n",
      " 60%|██████    | 3275/5424 [17:06<11:13,  3.19it/s]\u001b[A\n",
      " 60%|██████    | 3276/5424 [17:06<11:13,  3.19it/s]\u001b[A\n",
      " 60%|██████    | 3277/5424 [17:07<11:12,  3.19it/s]\u001b[A\n",
      " 60%|██████    | 3278/5424 [17:07<11:12,  3.19it/s]\u001b[A\n",
      " 60%|██████    | 3279/5424 [17:07<11:12,  3.19it/s]\u001b[A\n",
      " 60%|██████    | 3281/5424 [17:08<11:11,  3.19it/s]\u001b[A\n",
      " 61%|██████    | 3283/5424 [17:08<11:10,  3.19it/s]\u001b[A\n",
      " 61%|██████    | 3284/5424 [17:08<11:10,  3.19it/s]\u001b[A\n",
      " 61%|██████    | 3285/5424 [17:09<11:10,  3.19it/s]\u001b[A\n",
      " 61%|██████    | 3286/5424 [17:09<11:09,  3.19it/s]\u001b[A\n",
      " 61%|██████    | 3287/5424 [17:09<11:09,  3.19it/s]\u001b[A\n",
      " 61%|██████    | 3288/5424 [17:10<11:09,  3.19it/s]\u001b[A\n",
      " 61%|██████    | 3290/5424 [17:10<11:08,  3.19it/s]\u001b[A\n",
      " 61%|██████    | 3291/5424 [17:10<11:08,  3.19it/s]\u001b[A\n",
      " 61%|██████    | 3292/5424 [17:11<11:07,  3.19it/s]\u001b[A\n",
      " 61%|██████    | 3293/5424 [17:11<11:07,  3.19it/s]\u001b[A\n",
      " 61%|██████    | 3295/5424 [17:11<11:06,  3.19it/s]\u001b[A\n",
      " 61%|██████    | 3297/5424 [17:11<11:05,  3.20it/s]\u001b[A\n",
      " 61%|██████    | 3299/5424 [17:12<11:04,  3.20it/s]\u001b[A\n",
      " 61%|██████    | 3301/5424 [17:12<11:03,  3.20it/s]\u001b[A\n",
      " 61%|██████    | 3302/5424 [17:12<11:03,  3.20it/s]\u001b[A\n",
      " 61%|██████    | 3303/5424 [17:12<11:03,  3.20it/s]\u001b[A\n",
      " 61%|██████    | 3304/5424 [17:13<11:02,  3.20it/s]\u001b[A\n",
      " 61%|██████    | 3306/5424 [17:13<11:02,  3.20it/s]\u001b[A\n",
      " 61%|██████    | 3308/5424 [17:13<11:01,  3.20it/s]\u001b[A\n",
      " 61%|██████    | 3310/5424 [17:14<11:00,  3.20it/s]\u001b[A\n",
      " 61%|██████    | 3311/5424 [17:14<11:00,  3.20it/s]\u001b[A\n",
      " 61%|██████    | 3312/5424 [17:14<10:59,  3.20it/s]\u001b[A\n",
      " 61%|██████    | 3313/5424 [17:15<10:59,  3.20it/s]\u001b[A\n",
      " 61%|██████    | 3314/5424 [17:15<10:59,  3.20it/s]\u001b[A\n",
      " 61%|██████    | 3315/5424 [17:15<10:58,  3.20it/s]\u001b[A\n",
      " 61%|██████    | 3316/5424 [17:15<10:58,  3.20it/s]\u001b[A\n",
      " 61%|██████    | 3317/5424 [17:16<10:58,  3.20it/s]\u001b[A\n",
      " 61%|██████    | 3318/5424 [17:16<10:57,  3.20it/s]\u001b[A\n",
      " 61%|██████    | 3319/5424 [17:16<10:57,  3.20it/s]\u001b[A\n",
      " 61%|██████    | 3320/5424 [17:16<10:57,  3.20it/s]\u001b[A\n",
      " 61%|██████    | 3321/5424 [17:17<10:56,  3.20it/s]\u001b[A\n",
      " 61%|██████    | 3322/5424 [17:17<10:56,  3.20it/s]\u001b[A\n",
      " 61%|██████▏   | 3324/5424 [17:17<10:55,  3.20it/s]\u001b[A\n"
     ]
    },
    {
     "name": "stderr",
     "output_type": "stream",
     "text": [
      " 61%|██████▏   | 3326/5424 [17:17<10:54,  3.20it/s]\u001b[A\n",
      " 61%|██████▏   | 3328/5424 [17:18<10:53,  3.21it/s]\u001b[A\n",
      " 61%|██████▏   | 3330/5424 [17:18<10:53,  3.21it/s]\u001b[A\n",
      " 61%|██████▏   | 3331/5424 [17:18<10:52,  3.21it/s]\u001b[A\n",
      " 61%|██████▏   | 3332/5424 [17:18<10:52,  3.21it/s]\u001b[A\n",
      " 61%|██████▏   | 3334/5424 [17:19<10:51,  3.21it/s]\u001b[A\n",
      " 61%|██████▏   | 3335/5424 [17:19<10:51,  3.21it/s]\u001b[A\n",
      " 62%|██████▏   | 3336/5424 [17:19<10:50,  3.21it/s]\u001b[A\n",
      " 62%|██████▏   | 3337/5424 [17:20<10:50,  3.21it/s]\u001b[A\n",
      " 62%|██████▏   | 3338/5424 [17:20<10:50,  3.21it/s]\u001b[A\n",
      " 62%|██████▏   | 3339/5424 [17:20<10:49,  3.21it/s]\u001b[A\n",
      " 62%|██████▏   | 3340/5424 [17:20<10:49,  3.21it/s]\u001b[A\n",
      " 62%|██████▏   | 3341/5424 [17:21<10:49,  3.21it/s]\u001b[A\n",
      " 62%|██████▏   | 3342/5424 [17:21<10:48,  3.21it/s]\u001b[A\n",
      " 62%|██████▏   | 3343/5424 [17:21<10:48,  3.21it/s]\u001b[A\n",
      " 62%|██████▏   | 3345/5424 [17:22<10:47,  3.21it/s]\u001b[A\n",
      " 62%|██████▏   | 3347/5424 [17:22<10:46,  3.21it/s]\u001b[A\n",
      " 62%|██████▏   | 3349/5424 [17:22<10:46,  3.21it/s]\u001b[A\n",
      " 62%|██████▏   | 3351/5424 [17:23<10:45,  3.21it/s]\u001b[A\n",
      " 62%|██████▏   | 3352/5424 [17:23<10:45,  3.21it/s]\u001b[A\n",
      " 62%|██████▏   | 3354/5424 [17:23<10:44,  3.21it/s]\u001b[A\n",
      " 62%|██████▏   | 3355/5424 [17:24<10:43,  3.21it/s]\u001b[A\n",
      " 62%|██████▏   | 3356/5424 [17:24<10:43,  3.21it/s]\u001b[A\n",
      " 62%|██████▏   | 3358/5424 [17:24<10:42,  3.21it/s]\u001b[A\n",
      " 62%|██████▏   | 3360/5424 [17:25<10:42,  3.21it/s]\u001b[A\n",
      " 62%|██████▏   | 3361/5424 [17:25<10:41,  3.21it/s]\u001b[A\n",
      " 62%|██████▏   | 3362/5424 [17:25<10:41,  3.21it/s]\u001b[A\n",
      " 62%|██████▏   | 3363/5424 [17:26<10:41,  3.21it/s]\u001b[A\n",
      " 62%|██████▏   | 3364/5424 [17:26<10:40,  3.21it/s]\u001b[A\n",
      " 62%|██████▏   | 3366/5424 [17:26<10:39,  3.22it/s]\u001b[A\n",
      " 62%|██████▏   | 3367/5424 [17:26<10:39,  3.22it/s]\u001b[A\n",
      " 62%|██████▏   | 3369/5424 [17:27<10:38,  3.22it/s]\u001b[A\n",
      " 62%|██████▏   | 3370/5424 [17:27<10:38,  3.22it/s]\u001b[A\n",
      " 62%|██████▏   | 3371/5424 [17:27<10:38,  3.22it/s]\u001b[A\n",
      " 62%|██████▏   | 3372/5424 [17:27<10:37,  3.22it/s]\u001b[A\n",
      " 62%|██████▏   | 3373/5424 [17:28<10:37,  3.22it/s]\u001b[A\n",
      " 62%|██████▏   | 3374/5424 [17:28<10:37,  3.22it/s]\u001b[A\n",
      " 62%|██████▏   | 3375/5424 [17:28<10:36,  3.22it/s]\u001b[A\n",
      " 62%|██████▏   | 3376/5424 [17:29<10:36,  3.22it/s]\u001b[A\n",
      " 62%|██████▏   | 3377/5424 [17:29<10:36,  3.22it/s]\u001b[A\n",
      " 62%|██████▏   | 3379/5424 [17:29<10:35,  3.22it/s]\u001b[A\n",
      " 62%|██████▏   | 3380/5424 [17:30<10:35,  3.22it/s]\u001b[A\n",
      " 62%|██████▏   | 3382/5424 [17:30<10:34,  3.22it/s]\u001b[A\n",
      " 62%|██████▏   | 3383/5424 [17:30<10:33,  3.22it/s]\u001b[A\n",
      " 62%|██████▏   | 3384/5424 [17:30<10:33,  3.22it/s]\u001b[A\n",
      " 62%|██████▏   | 3385/5424 [17:31<10:33,  3.22it/s]\u001b[A\n",
      " 62%|██████▏   | 3386/5424 [17:31<10:32,  3.22it/s]\u001b[A\n",
      " 62%|██████▏   | 3387/5424 [17:31<10:32,  3.22it/s]\u001b[A\n",
      " 62%|██████▏   | 3389/5424 [17:31<10:31,  3.22it/s]\u001b[A\n",
      " 63%|██████▎   | 3391/5424 [17:32<10:30,  3.22it/s]\u001b[A\n",
      " 63%|██████▎   | 3392/5424 [17:32<10:30,  3.22it/s]\u001b[A\n",
      " 63%|██████▎   | 3393/5424 [17:32<10:30,  3.22it/s]\u001b[A\n",
      " 63%|██████▎   | 3394/5424 [17:33<10:29,  3.22it/s]\u001b[A\n",
      " 63%|██████▎   | 3395/5424 [17:33<10:29,  3.22it/s]\u001b[A\n",
      " 63%|██████▎   | 3396/5424 [17:33<10:29,  3.22it/s]\u001b[A\n",
      " 63%|██████▎   | 3397/5424 [17:33<10:28,  3.22it/s]\u001b[A\n",
      " 63%|██████▎   | 3398/5424 [17:34<10:28,  3.22it/s]\u001b[A\n",
      " 63%|██████▎   | 3399/5424 [17:34<10:28,  3.22it/s]\u001b[A\n",
      " 63%|██████▎   | 3401/5424 [17:34<10:27,  3.22it/s]\u001b[A\n",
      " 63%|██████▎   | 3402/5424 [17:34<10:26,  3.23it/s]\u001b[A\n",
      " 63%|██████▎   | 3404/5424 [17:34<10:26,  3.23it/s]\u001b[A\n",
      " 63%|██████▎   | 3405/5424 [17:35<10:25,  3.23it/s]\u001b[A\n",
      " 63%|██████▎   | 3406/5424 [17:35<10:25,  3.23it/s]\u001b[A\n",
      " 63%|██████▎   | 3407/5424 [17:35<10:25,  3.23it/s]\u001b[A\n",
      " 63%|██████▎   | 3408/5424 [17:36<10:24,  3.23it/s]\u001b[A\n",
      " 63%|██████▎   | 3409/5424 [17:36<10:24,  3.23it/s]\u001b[A\n",
      " 63%|██████▎   | 3410/5424 [17:36<10:24,  3.23it/s]\u001b[A\n",
      " 63%|██████▎   | 3411/5424 [17:37<10:23,  3.23it/s]\u001b[A\n",
      " 63%|██████▎   | 3412/5424 [17:37<10:23,  3.23it/s]\u001b[A\n",
      " 63%|██████▎   | 3414/5424 [17:37<10:22,  3.23it/s]\u001b[A\n",
      " 63%|██████▎   | 3416/5424 [17:38<10:21,  3.23it/s]\u001b[A\n",
      " 63%|██████▎   | 3417/5424 [17:38<10:21,  3.23it/s]\u001b[A\n",
      " 63%|██████▎   | 3419/5424 [17:38<10:20,  3.23it/s]\u001b[A\n",
      " 63%|██████▎   | 3420/5424 [17:38<10:20,  3.23it/s]\u001b[A\n",
      " 63%|██████▎   | 3421/5424 [17:39<10:20,  3.23it/s]\u001b[A\n",
      " 63%|██████▎   | 3422/5424 [17:39<10:19,  3.23it/s]\u001b[A\n",
      " 63%|██████▎   | 3423/5424 [17:39<10:19,  3.23it/s]\u001b[A\n",
      " 63%|██████▎   | 3424/5424 [17:40<10:19,  3.23it/s]\u001b[A\n",
      " 63%|██████▎   | 3426/5424 [17:40<10:18,  3.23it/s]\u001b[A\n",
      " 63%|██████▎   | 3427/5424 [17:40<10:18,  3.23it/s]\u001b[A\n",
      " 63%|██████▎   | 3428/5424 [17:41<10:17,  3.23it/s]\u001b[A\n",
      " 63%|██████▎   | 3430/5424 [17:41<10:16,  3.23it/s]\u001b[A\n",
      " 63%|██████▎   | 3431/5424 [17:41<10:16,  3.23it/s]\u001b[A\n",
      " 63%|██████▎   | 3432/5424 [17:41<10:16,  3.23it/s]\u001b[A\n",
      " 63%|██████▎   | 3433/5424 [17:42<10:15,  3.23it/s]\u001b[A\n",
      " 63%|██████▎   | 3434/5424 [17:42<10:15,  3.23it/s]\u001b[A\n",
      " 63%|██████▎   | 3435/5424 [17:42<10:15,  3.23it/s]\u001b[A\n",
      " 63%|██████▎   | 3436/5424 [17:42<10:14,  3.23it/s]\u001b[A\n",
      " 63%|██████▎   | 3437/5424 [17:43<10:14,  3.23it/s]\u001b[A\n",
      " 63%|██████▎   | 3438/5424 [17:43<10:14,  3.23it/s]\u001b[A\n",
      " 63%|██████▎   | 3440/5424 [17:43<10:13,  3.23it/s]\u001b[A\n",
      " 63%|██████▎   | 3441/5424 [17:44<10:13,  3.23it/s]\u001b[A\n",
      " 63%|██████▎   | 3442/5424 [17:44<10:12,  3.23it/s]\u001b[A\n",
      " 63%|██████▎   | 3443/5424 [17:44<10:12,  3.23it/s]\u001b[A\n",
      " 63%|██████▎   | 3444/5424 [17:45<10:12,  3.23it/s]\u001b[A\n",
      " 64%|██████▎   | 3446/5424 [17:45<10:11,  3.23it/s]\u001b[A\n",
      " 64%|██████▎   | 3447/5424 [17:45<10:11,  3.23it/s]\u001b[A\n",
      " 64%|██████▎   | 3448/5424 [17:45<10:10,  3.23it/s]\u001b[A\n",
      " 64%|██████▎   | 3449/5424 [17:46<10:10,  3.23it/s]\u001b[A\n",
      " 64%|██████▎   | 3450/5424 [17:46<10:10,  3.23it/s]\u001b[A\n",
      " 64%|██████▎   | 3452/5424 [17:47<10:09,  3.23it/s]\u001b[A\n",
      " 64%|██████▎   | 3454/5424 [17:47<10:08,  3.24it/s]\u001b[A\n",
      " 64%|██████▎   | 3455/5424 [17:47<10:08,  3.24it/s]\u001b[A\n",
      " 64%|██████▎   | 3456/5424 [17:47<10:08,  3.24it/s]\u001b[A\n",
      " 64%|██████▎   | 3457/5424 [17:47<10:07,  3.24it/s]\u001b[A\n",
      " 64%|██████▍   | 3459/5424 [17:48<10:06,  3.24it/s]\u001b[A\n",
      " 64%|██████▍   | 3460/5424 [17:48<10:06,  3.24it/s]\u001b[A\n",
      " 64%|██████▍   | 3461/5424 [17:48<10:06,  3.24it/s]\u001b[A\n",
      " 64%|██████▍   | 3462/5424 [17:48<10:05,  3.24it/s]\u001b[A\n",
      " 64%|██████▍   | 3463/5424 [17:48<10:05,  3.24it/s]\u001b[A\n",
      " 64%|██████▍   | 3464/5424 [17:49<10:05,  3.24it/s]\u001b[A\n",
      " 64%|██████▍   | 3465/5424 [17:49<10:04,  3.24it/s]\u001b[A\n",
      " 64%|██████▍   | 3466/5424 [17:49<10:04,  3.24it/s]\u001b[A\n",
      " 64%|██████▍   | 3468/5424 [17:50<10:03,  3.24it/s]\u001b[A\n",
      " 64%|██████▍   | 3469/5424 [17:50<10:03,  3.24it/s]\u001b[A\n",
      " 64%|██████▍   | 3471/5424 [17:50<10:02,  3.24it/s]\u001b[A\n",
      " 64%|██████▍   | 3472/5424 [17:50<10:02,  3.24it/s]\u001b[A\n",
      " 64%|██████▍   | 3473/5424 [17:50<10:01,  3.24it/s]\u001b[A\n",
      " 64%|██████▍   | 3474/5424 [17:51<10:01,  3.24it/s]\u001b[A\n",
      " 64%|██████▍   | 3475/5424 [17:51<10:00,  3.24it/s]\u001b[A\n",
      " 64%|██████▍   | 3477/5424 [17:51<10:00,  3.24it/s]\u001b[A\n",
      " 64%|██████▍   | 3479/5424 [17:52<09:59,  3.25it/s]\u001b[A\n",
      " 64%|██████▍   | 3480/5424 [17:52<09:59,  3.25it/s]\u001b[A\n",
      " 64%|██████▍   | 3481/5424 [17:52<09:58,  3.25it/s]\u001b[A\n",
      " 64%|██████▍   | 3482/5424 [17:52<09:58,  3.25it/s]\u001b[A\n",
      " 64%|██████▍   | 3483/5424 [17:53<09:58,  3.25it/s]\u001b[A\n",
      " 64%|██████▍   | 3484/5424 [17:53<09:57,  3.25it/s]\u001b[A\n",
      " 64%|██████▍   | 3486/5424 [17:53<09:57,  3.25it/s]\u001b[A\n",
      " 64%|██████▍   | 3487/5424 [17:54<09:56,  3.25it/s]\u001b[A\n",
      " 64%|██████▍   | 3488/5424 [17:54<09:56,  3.25it/s]\u001b[A\n",
      " 64%|██████▍   | 3489/5424 [17:54<09:55,  3.25it/s]\u001b[A\n",
      " 64%|██████▍   | 3490/5424 [17:54<09:55,  3.25it/s]\u001b[A\n",
      " 64%|██████▍   | 3491/5424 [17:55<09:55,  3.25it/s]\u001b[A\n",
      " 64%|██████▍   | 3492/5424 [17:55<09:54,  3.25it/s]\u001b[A\n",
      " 64%|██████▍   | 3494/5424 [17:55<09:54,  3.25it/s]\u001b[A\n",
      " 64%|██████▍   | 3495/5424 [17:56<09:53,  3.25it/s]\u001b[A\n",
      " 64%|██████▍   | 3496/5424 [17:56<09:53,  3.25it/s]\u001b[A\n",
      " 64%|██████▍   | 3498/5424 [17:56<09:52,  3.25it/s]\u001b[A\n",
      " 65%|██████▍   | 3499/5424 [17:56<09:52,  3.25it/s]\u001b[A\n",
      " 65%|██████▍   | 3500/5424 [17:56<09:51,  3.25it/s]\u001b[A\n",
      " 65%|██████▍   | 3502/5424 [17:57<09:51,  3.25it/s]\u001b[A\n",
      " 65%|██████▍   | 3503/5424 [17:57<09:50,  3.25it/s]\u001b[A\n",
      " 65%|██████▍   | 3504/5424 [17:57<09:50,  3.25it/s]\u001b[A\n",
      " 65%|██████▍   | 3505/5424 [17:57<09:50,  3.25it/s]\u001b[A\n",
      " 65%|██████▍   | 3506/5424 [17:58<09:49,  3.25it/s]\u001b[A\n",
      " 65%|██████▍   | 3507/5424 [17:58<09:49,  3.25it/s]\u001b[A\n",
      " 65%|██████▍   | 3508/5424 [17:58<09:49,  3.25it/s]\u001b[A\n",
      " 65%|██████▍   | 3510/5424 [17:59<09:48,  3.25it/s]\u001b[A\n"
     ]
    },
    {
     "name": "stderr",
     "output_type": "stream",
     "text": [
      " 65%|██████▍   | 3512/5424 [17:59<09:47,  3.25it/s]\u001b[A\n",
      " 65%|██████▍   | 3513/5424 [17:59<09:47,  3.25it/s]\u001b[A\n",
      " 65%|██████▍   | 3514/5424 [17:59<09:46,  3.25it/s]\u001b[A\n",
      " 65%|██████▍   | 3515/5424 [18:00<09:46,  3.25it/s]\u001b[A\n",
      " 65%|██████▍   | 3516/5424 [18:00<09:46,  3.25it/s]\u001b[A\n",
      " 65%|██████▍   | 3517/5424 [18:00<09:45,  3.25it/s]\u001b[A\n",
      " 65%|██████▍   | 3518/5424 [18:00<09:45,  3.25it/s]\u001b[A\n",
      " 65%|██████▍   | 3519/5424 [18:01<09:45,  3.25it/s]\u001b[A\n",
      " 65%|██████▍   | 3520/5424 [18:01<09:44,  3.25it/s]\u001b[A\n",
      " 65%|██████▍   | 3521/5424 [18:01<09:44,  3.25it/s]\u001b[A\n",
      " 65%|██████▍   | 3522/5424 [18:01<09:44,  3.26it/s]\u001b[A\n",
      " 65%|██████▍   | 3523/5424 [18:02<09:43,  3.26it/s]\u001b[A\n",
      " 65%|██████▍   | 3524/5424 [18:02<09:43,  3.26it/s]\u001b[A\n",
      " 65%|██████▌   | 3526/5424 [18:02<09:42,  3.26it/s]\u001b[A\n",
      " 65%|██████▌   | 3527/5424 [18:03<09:42,  3.26it/s]\u001b[A\n",
      " 65%|██████▌   | 3528/5424 [18:03<09:42,  3.26it/s]\u001b[A\n",
      " 65%|██████▌   | 3529/5424 [18:03<09:41,  3.26it/s]\u001b[A\n",
      " 65%|██████▌   | 3530/5424 [18:03<09:41,  3.26it/s]\u001b[A\n",
      " 65%|██████▌   | 3531/5424 [18:04<09:41,  3.26it/s]\u001b[A\n",
      " 65%|██████▌   | 3532/5424 [18:04<09:40,  3.26it/s]\u001b[A\n",
      " 65%|██████▌   | 3533/5424 [18:04<09:40,  3.26it/s]\u001b[A\n",
      " 65%|██████▌   | 3536/5424 [18:04<09:39,  3.26it/s]\u001b[A\n",
      " 65%|██████▌   | 3537/5424 [18:05<09:38,  3.26it/s]\u001b[A\n",
      " 65%|██████▌   | 3538/5424 [18:05<09:38,  3.26it/s]\u001b[A\n",
      " 65%|██████▌   | 3539/5424 [18:05<09:38,  3.26it/s]\u001b[A\n",
      " 65%|██████▌   | 3540/5424 [18:05<09:37,  3.26it/s]\u001b[A\n",
      " 65%|██████▌   | 3541/5424 [18:06<09:37,  3.26it/s]\u001b[A\n",
      " 65%|██████▌   | 3542/5424 [18:06<09:37,  3.26it/s]\u001b[A\n",
      " 65%|██████▌   | 3543/5424 [18:06<09:36,  3.26it/s]\u001b[A\n",
      " 65%|██████▌   | 3545/5424 [18:06<09:36,  3.26it/s]\u001b[A\n",
      " 65%|██████▌   | 3547/5424 [18:07<09:35,  3.26it/s]\u001b[A\n",
      " 65%|██████▌   | 3548/5424 [18:07<09:34,  3.26it/s]\u001b[A\n",
      " 65%|██████▌   | 3550/5424 [18:07<09:34,  3.26it/s]\u001b[A\n",
      " 65%|██████▌   | 3551/5424 [18:07<09:33,  3.26it/s]\u001b[A\n",
      " 65%|██████▌   | 3552/5424 [18:08<09:33,  3.26it/s]\u001b[A\n",
      " 66%|██████▌   | 3553/5424 [18:08<09:33,  3.26it/s]\u001b[A\n",
      " 66%|██████▌   | 3554/5424 [18:08<09:32,  3.26it/s]\u001b[A\n",
      " 66%|██████▌   | 3555/5424 [18:09<09:32,  3.26it/s]\u001b[A\n",
      " 66%|██████▌   | 3556/5424 [18:09<09:32,  3.26it/s]\u001b[A\n",
      " 66%|██████▌   | 3557/5424 [18:09<09:31,  3.26it/s]\u001b[A\n",
      " 66%|██████▌   | 3558/5424 [18:10<09:31,  3.26it/s]\u001b[A\n",
      " 66%|██████▌   | 3559/5424 [18:10<09:31,  3.26it/s]\u001b[A\n",
      " 66%|██████▌   | 3560/5424 [18:10<09:30,  3.26it/s]\u001b[A\n",
      " 66%|██████▌   | 3561/5424 [18:10<09:30,  3.26it/s]\u001b[A\n",
      " 66%|██████▌   | 3562/5424 [18:10<09:30,  3.27it/s]\u001b[A\n",
      " 66%|██████▌   | 3564/5424 [18:11<09:29,  3.27it/s]\u001b[A\n",
      " 66%|██████▌   | 3565/5424 [18:11<09:29,  3.27it/s]\u001b[A\n",
      " 66%|██████▌   | 3566/5424 [18:11<09:28,  3.27it/s]\u001b[A\n",
      " 66%|██████▌   | 3567/5424 [18:12<09:28,  3.27it/s]\u001b[A\n",
      " 66%|██████▌   | 3569/5424 [18:12<09:27,  3.27it/s]\u001b[A\n",
      " 66%|██████▌   | 3571/5424 [18:12<09:26,  3.27it/s]\u001b[A\n",
      " 66%|██████▌   | 3572/5424 [18:12<09:26,  3.27it/s]\u001b[A\n",
      " 66%|██████▌   | 3573/5424 [18:13<09:26,  3.27it/s]\u001b[A\n",
      " 66%|██████▌   | 3574/5424 [18:13<09:25,  3.27it/s]\u001b[A\n",
      " 66%|██████▌   | 3575/5424 [18:13<09:25,  3.27it/s]\u001b[A\n",
      " 66%|██████▌   | 3576/5424 [18:13<09:25,  3.27it/s]\u001b[A\n",
      " 66%|██████▌   | 3577/5424 [18:13<09:24,  3.27it/s]\u001b[A\n",
      " 66%|██████▌   | 3579/5424 [18:14<09:24,  3.27it/s]\u001b[A\n",
      " 66%|██████▌   | 3580/5424 [18:14<09:23,  3.27it/s]\u001b[A\n",
      " 66%|██████▌   | 3581/5424 [18:14<09:23,  3.27it/s]\u001b[A\n",
      " 66%|██████▌   | 3582/5424 [18:15<09:23,  3.27it/s]\u001b[A\n",
      " 66%|██████▌   | 3583/5424 [18:15<09:22,  3.27it/s]\u001b[A\n",
      " 66%|██████▌   | 3584/5424 [18:15<09:22,  3.27it/s]\u001b[A\n",
      " 66%|██████▌   | 3586/5424 [18:16<09:21,  3.27it/s]\u001b[A\n",
      " 66%|██████▌   | 3587/5424 [18:16<09:21,  3.27it/s]\u001b[A\n",
      " 66%|██████▌   | 3588/5424 [18:16<09:21,  3.27it/s]\u001b[A\n",
      " 66%|██████▌   | 3590/5424 [18:17<09:20,  3.27it/s]\u001b[A\n",
      " 66%|██████▌   | 3591/5424 [18:17<09:20,  3.27it/s]\u001b[A\n",
      " 66%|██████▌   | 3592/5424 [18:17<09:19,  3.27it/s]\u001b[A\n",
      " 66%|██████▌   | 3593/5424 [18:17<09:19,  3.27it/s]\u001b[A\n",
      " 66%|██████▋   | 3594/5424 [18:18<09:19,  3.27it/s]\u001b[A\n",
      " 66%|██████▋   | 3595/5424 [18:18<09:18,  3.27it/s]\u001b[A\n",
      " 66%|██████▋   | 3596/5424 [18:18<09:18,  3.27it/s]\u001b[A\n",
      " 66%|██████▋   | 3597/5424 [18:18<09:18,  3.27it/s]\u001b[A\n",
      " 66%|██████▋   | 3599/5424 [18:19<09:17,  3.27it/s]\u001b[A\n",
      " 66%|██████▋   | 3600/5424 [18:19<09:16,  3.27it/s]\u001b[A\n",
      " 66%|██████▋   | 3601/5424 [18:19<09:16,  3.27it/s]\u001b[A\n",
      " 66%|██████▋   | 3602/5424 [18:19<09:16,  3.27it/s]\u001b[A\n",
      " 66%|██████▋   | 3604/5424 [18:20<09:15,  3.28it/s]\u001b[A\n",
      " 66%|██████▋   | 3605/5424 [18:20<09:15,  3.28it/s]\u001b[A\n",
      " 67%|██████▋   | 3607/5424 [18:20<09:14,  3.28it/s]\u001b[A\n",
      " 67%|██████▋   | 3608/5424 [18:20<09:14,  3.28it/s]\u001b[A\n",
      " 67%|██████▋   | 3609/5424 [18:21<09:13,  3.28it/s]\u001b[A\n",
      " 67%|██████▋   | 3610/5424 [18:21<09:13,  3.28it/s]\u001b[A\n",
      " 67%|██████▋   | 3611/5424 [18:21<09:13,  3.28it/s]\u001b[A\n",
      " 67%|██████▋   | 3612/5424 [18:22<09:12,  3.28it/s]\u001b[A\n",
      " 67%|██████▋   | 3614/5424 [18:22<09:12,  3.28it/s]\u001b[A\n",
      " 67%|██████▋   | 3616/5424 [18:22<09:11,  3.28it/s]\u001b[A\n",
      " 67%|██████▋   | 3617/5424 [18:22<09:11,  3.28it/s]\u001b[A\n",
      " 67%|██████▋   | 3618/5424 [18:23<09:10,  3.28it/s]\u001b[A\n",
      " 67%|██████▋   | 3619/5424 [18:23<09:10,  3.28it/s]\u001b[A\n",
      " 67%|██████▋   | 3620/5424 [18:23<09:10,  3.28it/s]\u001b[A\n",
      " 67%|██████▋   | 3621/5424 [18:24<09:09,  3.28it/s]\u001b[A\n",
      " 67%|██████▋   | 3622/5424 [18:24<09:09,  3.28it/s]\u001b[A\n",
      " 67%|██████▋   | 3623/5424 [18:24<09:09,  3.28it/s]\u001b[A\n",
      " 67%|██████▋   | 3624/5424 [18:24<09:08,  3.28it/s]\u001b[A\n",
      " 67%|██████▋   | 3625/5424 [18:25<09:08,  3.28it/s]\u001b[A\n",
      " 67%|██████▋   | 3626/5424 [18:25<09:08,  3.28it/s]\u001b[A\n",
      " 67%|██████▋   | 3627/5424 [18:25<09:07,  3.28it/s]\u001b[A\n",
      " 67%|██████▋   | 3628/5424 [18:25<09:07,  3.28it/s]\u001b[A\n",
      " 67%|██████▋   | 3629/5424 [18:26<09:07,  3.28it/s]\u001b[A\n",
      " 67%|██████▋   | 3630/5424 [18:26<09:06,  3.28it/s]\u001b[A\n",
      " 67%|██████▋   | 3631/5424 [18:26<09:06,  3.28it/s]\u001b[A\n",
      " 67%|██████▋   | 3632/5424 [18:27<09:06,  3.28it/s]\u001b[A\n",
      " 67%|██████▋   | 3633/5424 [18:27<09:05,  3.28it/s]\u001b[A\n",
      " 67%|██████▋   | 3634/5424 [18:27<09:05,  3.28it/s]\u001b[A\n",
      " 67%|██████▋   | 3635/5424 [18:27<09:05,  3.28it/s]\u001b[A\n",
      " 67%|██████▋   | 3637/5424 [18:27<09:04,  3.28it/s]\u001b[A\n",
      " 67%|██████▋   | 3638/5424 [18:28<09:03,  3.28it/s]\u001b[A\n",
      " 67%|██████▋   | 3639/5424 [18:28<09:03,  3.28it/s]\u001b[A\n",
      " 67%|██████▋   | 3640/5424 [18:28<09:03,  3.28it/s]\u001b[A\n",
      " 67%|██████▋   | 3641/5424 [18:28<09:03,  3.28it/s]\u001b[A\n",
      " 67%|██████▋   | 3642/5424 [18:29<09:02,  3.28it/s]\u001b[A\n",
      " 67%|██████▋   | 3643/5424 [18:29<09:02,  3.28it/s]\u001b[A\n",
      " 67%|██████▋   | 3644/5424 [18:29<09:02,  3.28it/s]\u001b[A\n",
      " 67%|██████▋   | 3645/5424 [18:30<09:01,  3.28it/s]\u001b[A\n",
      " 67%|██████▋   | 3646/5424 [18:30<09:01,  3.28it/s]\u001b[A\n",
      " 67%|██████▋   | 3647/5424 [18:30<09:01,  3.28it/s]\u001b[A\n",
      " 67%|██████▋   | 3648/5424 [18:31<09:00,  3.28it/s]\u001b[A\n",
      " 67%|██████▋   | 3649/5424 [18:31<09:00,  3.28it/s]\u001b[A\n",
      " 67%|██████▋   | 3650/5424 [18:31<09:00,  3.28it/s]\u001b[A\n",
      " 67%|██████▋   | 3652/5424 [18:31<08:59,  3.29it/s]\u001b[A\n",
      " 67%|██████▋   | 3653/5424 [18:31<08:58,  3.29it/s]\u001b[A\n",
      " 67%|██████▋   | 3654/5424 [18:31<08:58,  3.29it/s]\u001b[A\n",
      " 67%|██████▋   | 3655/5424 [18:32<08:58,  3.29it/s]\u001b[A\n",
      " 67%|██████▋   | 3656/5424 [18:32<08:58,  3.29it/s]\u001b[A\n",
      " 67%|██████▋   | 3657/5424 [18:32<08:57,  3.29it/s]\u001b[A\n",
      " 67%|██████▋   | 3658/5424 [18:33<08:57,  3.29it/s]\u001b[A\n",
      " 67%|██████▋   | 3659/5424 [18:33<08:57,  3.29it/s]\u001b[A\n",
      " 67%|██████▋   | 3660/5424 [18:33<08:56,  3.29it/s]\u001b[A\n",
      " 67%|██████▋   | 3661/5424 [18:33<08:56,  3.29it/s]\u001b[A\n",
      " 68%|██████▊   | 3663/5424 [18:33<08:55,  3.29it/s]\u001b[A\n",
      " 68%|██████▊   | 3664/5424 [18:34<08:55,  3.29it/s]\u001b[A\n",
      " 68%|██████▊   | 3665/5424 [18:34<08:54,  3.29it/s]\u001b[A\n",
      " 68%|██████▊   | 3666/5424 [18:34<08:54,  3.29it/s]\u001b[A\n",
      " 68%|██████▊   | 3667/5424 [18:35<08:54,  3.29it/s]\u001b[A\n",
      " 68%|██████▊   | 3668/5424 [18:35<08:53,  3.29it/s]\u001b[A\n",
      " 68%|██████▊   | 3669/5424 [18:35<08:53,  3.29it/s]\u001b[A\n",
      " 68%|██████▊   | 3671/5424 [18:35<08:52,  3.29it/s]\u001b[A\n",
      " 68%|██████▊   | 3672/5424 [18:36<08:52,  3.29it/s]\u001b[A\n",
      " 68%|██████▊   | 3673/5424 [18:36<08:52,  3.29it/s]\u001b[A\n",
      " 68%|██████▊   | 3674/5424 [18:36<08:51,  3.29it/s]\u001b[A\n",
      " 68%|██████▊   | 3675/5424 [18:37<08:51,  3.29it/s]\u001b[A\n",
      " 68%|██████▊   | 3676/5424 [18:37<08:51,  3.29it/s]\u001b[A\n",
      " 68%|██████▊   | 3677/5424 [18:37<08:50,  3.29it/s]\u001b[A\n",
      " 68%|██████▊   | 3679/5424 [18:37<08:50,  3.29it/s]\u001b[A\n",
      " 68%|██████▊   | 3680/5424 [18:37<08:49,  3.29it/s]\u001b[A\n",
      " 68%|██████▊   | 3681/5424 [18:37<08:49,  3.29it/s]\u001b[A\n"
     ]
    },
    {
     "name": "stderr",
     "output_type": "stream",
     "text": [
      " 68%|██████▊   | 3682/5424 [18:38<08:49,  3.29it/s]\u001b[A\n",
      " 68%|██████▊   | 3683/5424 [18:38<08:48,  3.29it/s]\u001b[A\n",
      " 68%|██████▊   | 3684/5424 [18:38<08:48,  3.29it/s]\u001b[A\n",
      " 68%|██████▊   | 3685/5424 [18:39<08:48,  3.29it/s]\u001b[A\n",
      " 68%|██████▊   | 3686/5424 [18:39<08:47,  3.29it/s]\u001b[A\n",
      " 68%|██████▊   | 3687/5424 [18:39<08:47,  3.29it/s]\u001b[A\n",
      " 68%|██████▊   | 3688/5424 [18:39<08:47,  3.29it/s]\u001b[A\n",
      " 68%|██████▊   | 3689/5424 [18:40<08:46,  3.29it/s]\u001b[A\n",
      " 68%|██████▊   | 3690/5424 [18:40<08:46,  3.29it/s]\u001b[A\n",
      " 68%|██████▊   | 3691/5424 [18:40<08:46,  3.29it/s]\u001b[A\n",
      " 68%|██████▊   | 3692/5424 [18:41<08:45,  3.29it/s]\u001b[A\n",
      " 68%|██████▊   | 3693/5424 [18:41<08:45,  3.29it/s]\u001b[A\n",
      " 68%|██████▊   | 3694/5424 [18:41<08:45,  3.29it/s]\u001b[A\n",
      " 68%|██████▊   | 3695/5424 [18:42<08:45,  3.29it/s]\u001b[A\n",
      " 68%|██████▊   | 3696/5424 [18:42<08:44,  3.29it/s]\u001b[A\n",
      " 68%|██████▊   | 3697/5424 [18:42<08:44,  3.29it/s]\u001b[A\n",
      " 68%|██████▊   | 3698/5424 [18:43<08:44,  3.29it/s]\u001b[A\n",
      " 68%|██████▊   | 3699/5424 [18:43<08:43,  3.29it/s]\u001b[A\n",
      " 68%|██████▊   | 3700/5424 [18:43<08:43,  3.29it/s]\u001b[A\n",
      " 68%|██████▊   | 3701/5424 [18:44<08:43,  3.29it/s]\u001b[A\n",
      " 68%|██████▊   | 3702/5424 [18:44<08:42,  3.29it/s]\u001b[A\n",
      " 68%|██████▊   | 3703/5424 [18:44<08:42,  3.29it/s]\u001b[A\n",
      " 68%|██████▊   | 3704/5424 [18:44<08:42,  3.29it/s]\u001b[A\n",
      " 68%|██████▊   | 3705/5424 [18:44<08:41,  3.29it/s]\u001b[A\n",
      " 68%|██████▊   | 3706/5424 [18:45<08:41,  3.29it/s]\u001b[A\n",
      " 68%|██████▊   | 3707/5424 [18:45<08:41,  3.29it/s]\u001b[A\n",
      " 68%|██████▊   | 3708/5424 [18:45<08:40,  3.29it/s]\u001b[A\n",
      " 68%|██████▊   | 3710/5424 [18:46<08:40,  3.29it/s]\u001b[A\n",
      " 68%|██████▊   | 3711/5424 [18:46<08:39,  3.29it/s]\u001b[A\n",
      " 68%|██████▊   | 3712/5424 [18:46<08:39,  3.29it/s]\u001b[A\n",
      " 68%|██████▊   | 3713/5424 [18:46<08:39,  3.29it/s]\u001b[A\n",
      " 68%|██████▊   | 3714/5424 [18:47<08:38,  3.30it/s]\u001b[A\n",
      " 68%|██████▊   | 3715/5424 [18:47<08:38,  3.30it/s]\u001b[A\n",
      " 69%|██████▊   | 3717/5424 [18:47<08:37,  3.30it/s]\u001b[A\n",
      " 69%|██████▊   | 3718/5424 [18:48<08:37,  3.30it/s]\u001b[A\n",
      " 69%|██████▊   | 3719/5424 [18:48<08:37,  3.30it/s]\u001b[A\n",
      " 69%|██████▊   | 3720/5424 [18:48<08:37,  3.30it/s]\u001b[A\n",
      " 69%|██████▊   | 3721/5424 [18:49<08:36,  3.30it/s]\u001b[A\n",
      " 69%|██████▊   | 3722/5424 [18:49<08:36,  3.30it/s]\u001b[A\n",
      " 69%|██████▊   | 3723/5424 [18:49<08:36,  3.30it/s]\u001b[A\n",
      " 69%|██████▊   | 3724/5424 [18:49<08:35,  3.30it/s]\u001b[A\n",
      " 69%|██████▊   | 3725/5424 [18:50<08:35,  3.30it/s]\u001b[A\n",
      " 69%|██████▊   | 3726/5424 [18:50<08:35,  3.30it/s]\u001b[A\n",
      " 69%|██████▊   | 3727/5424 [18:50<08:34,  3.30it/s]\u001b[A\n",
      " 69%|██████▊   | 3728/5424 [18:50<08:34,  3.30it/s]\u001b[A\n",
      " 69%|██████▉   | 3729/5424 [18:51<08:34,  3.30it/s]\u001b[A\n",
      " 69%|██████▉   | 3730/5424 [18:51<08:33,  3.30it/s]\u001b[A\n",
      " 69%|██████▉   | 3731/5424 [18:51<08:33,  3.30it/s]\u001b[A\n",
      " 69%|██████▉   | 3732/5424 [18:51<08:33,  3.30it/s]\u001b[A\n",
      " 69%|██████▉   | 3733/5424 [18:52<08:32,  3.30it/s]\u001b[A\n",
      " 69%|██████▉   | 3734/5424 [18:52<08:32,  3.30it/s]\u001b[A\n",
      " 69%|██████▉   | 3735/5424 [18:52<08:32,  3.30it/s]\u001b[A\n",
      " 69%|██████▉   | 3736/5424 [18:52<08:31,  3.30it/s]\u001b[A\n",
      " 69%|██████▉   | 3738/5424 [18:53<08:31,  3.30it/s]\u001b[A\n",
      " 69%|██████▉   | 3739/5424 [18:53<08:30,  3.30it/s]\u001b[A\n",
      " 69%|██████▉   | 3741/5424 [18:54<08:30,  3.30it/s]\u001b[A\n",
      " 69%|██████▉   | 3742/5424 [18:54<08:29,  3.30it/s]\u001b[A\n",
      " 69%|██████▉   | 3743/5424 [18:54<08:29,  3.30it/s]\u001b[A\n",
      " 69%|██████▉   | 3745/5424 [18:54<08:28,  3.30it/s]\u001b[A\n",
      " 69%|██████▉   | 3746/5424 [18:54<08:28,  3.30it/s]\u001b[A\n",
      " 69%|██████▉   | 3747/5424 [18:54<08:27,  3.30it/s]\u001b[A\n",
      " 69%|██████▉   | 3748/5424 [18:55<08:27,  3.30it/s]\u001b[A\n",
      " 69%|██████▉   | 3749/5424 [18:55<08:27,  3.30it/s]\u001b[A\n",
      " 69%|██████▉   | 3751/5424 [18:55<08:26,  3.30it/s]\u001b[A\n",
      " 69%|██████▉   | 3752/5424 [18:56<08:26,  3.30it/s]\u001b[A\n",
      " 69%|██████▉   | 3754/5424 [18:56<08:25,  3.30it/s]\u001b[A\n",
      " 69%|██████▉   | 3755/5424 [18:57<08:25,  3.30it/s]\u001b[A\n",
      " 69%|██████▉   | 3756/5424 [18:57<08:25,  3.30it/s]\u001b[A\n",
      " 69%|██████▉   | 3757/5424 [18:57<08:24,  3.30it/s]\u001b[A\n",
      " 69%|██████▉   | 3758/5424 [18:57<08:24,  3.30it/s]\u001b[A\n",
      " 69%|██████▉   | 3759/5424 [18:57<08:24,  3.30it/s]\u001b[A\n",
      " 69%|██████▉   | 3761/5424 [18:58<08:23,  3.30it/s]\u001b[A\n",
      " 69%|██████▉   | 3762/5424 [18:58<08:23,  3.30it/s]\u001b[A\n",
      " 69%|██████▉   | 3763/5424 [18:58<08:22,  3.30it/s]\u001b[A\n",
      " 69%|██████▉   | 3764/5424 [18:59<08:22,  3.30it/s]\u001b[A\n",
      " 69%|██████▉   | 3766/5424 [18:59<08:21,  3.30it/s]\u001b[A\n",
      " 69%|██████▉   | 3768/5424 [19:00<08:21,  3.31it/s]\u001b[A\n",
      " 69%|██████▉   | 3769/5424 [19:00<08:20,  3.31it/s]\u001b[A\n",
      " 70%|██████▉   | 3770/5424 [19:00<08:20,  3.30it/s]\u001b[A\n",
      " 70%|██████▉   | 3771/5424 [19:00<08:20,  3.31it/s]\u001b[A\n",
      " 70%|██████▉   | 3772/5424 [19:01<08:19,  3.31it/s]\u001b[A\n",
      " 70%|██████▉   | 3773/5424 [19:01<08:19,  3.31it/s]\u001b[A\n",
      " 70%|██████▉   | 3774/5424 [19:01<08:19,  3.31it/s]\u001b[A\n",
      " 70%|██████▉   | 3775/5424 [19:02<08:18,  3.31it/s]\u001b[A\n",
      " 70%|██████▉   | 3777/5424 [19:02<08:18,  3.31it/s]\u001b[A\n",
      " 70%|██████▉   | 3778/5424 [19:02<08:17,  3.31it/s]\u001b[A\n",
      " 70%|██████▉   | 3779/5424 [19:03<08:17,  3.31it/s]\u001b[A\n",
      " 70%|██████▉   | 3780/5424 [19:03<08:17,  3.31it/s]\u001b[A\n",
      " 70%|██████▉   | 3781/5424 [19:03<08:17,  3.31it/s]\u001b[A\n",
      " 70%|██████▉   | 3783/5424 [19:03<08:16,  3.31it/s]\u001b[A\n",
      " 70%|██████▉   | 3784/5424 [19:04<08:15,  3.31it/s]\u001b[A\n",
      " 70%|██████▉   | 3785/5424 [19:04<08:15,  3.31it/s]\u001b[A\n",
      " 70%|██████▉   | 3786/5424 [19:04<08:15,  3.31it/s]\u001b[A\n",
      " 70%|██████▉   | 3787/5424 [19:05<08:14,  3.31it/s]\u001b[A\n",
      " 70%|██████▉   | 3788/5424 [19:05<08:14,  3.31it/s]\u001b[A\n",
      " 70%|██████▉   | 3789/5424 [19:05<08:14,  3.31it/s]\u001b[A\n",
      " 70%|██████▉   | 3791/5424 [19:05<08:13,  3.31it/s]\u001b[A\n",
      " 70%|██████▉   | 3792/5424 [19:06<08:13,  3.31it/s]\u001b[A\n",
      " 70%|██████▉   | 3793/5424 [19:06<08:12,  3.31it/s]\u001b[A\n",
      " 70%|██████▉   | 3795/5424 [19:06<08:12,  3.31it/s]\u001b[A\n",
      " 70%|██████▉   | 3796/5424 [19:07<08:11,  3.31it/s]\u001b[A\n",
      " 70%|███████   | 3797/5424 [19:07<08:11,  3.31it/s]\u001b[A\n",
      " 70%|███████   | 3798/5424 [19:07<08:11,  3.31it/s]\u001b[A\n",
      " 70%|███████   | 3800/5424 [19:08<08:10,  3.31it/s]\u001b[A\n",
      " 70%|███████   | 3802/5424 [19:08<08:09,  3.31it/s]\u001b[A\n",
      " 70%|███████   | 3803/5424 [19:08<08:09,  3.31it/s]\u001b[A\n",
      " 70%|███████   | 3804/5424 [19:08<08:09,  3.31it/s]\u001b[A\n",
      " 70%|███████   | 3805/5424 [19:09<08:08,  3.31it/s]\u001b[A\n",
      " 70%|███████   | 3806/5424 [19:09<08:08,  3.31it/s]\u001b[A\n",
      " 70%|███████   | 3808/5424 [19:09<08:07,  3.31it/s]\u001b[A\n",
      " 70%|███████   | 3809/5424 [19:09<08:07,  3.31it/s]\u001b[A\n",
      " 70%|███████   | 3810/5424 [19:10<08:07,  3.31it/s]\u001b[A\n",
      " 70%|███████   | 3811/5424 [19:10<08:06,  3.31it/s]\u001b[A\n",
      " 70%|███████   | 3812/5424 [19:10<08:06,  3.31it/s]\u001b[A\n",
      " 70%|███████   | 3814/5424 [19:10<08:05,  3.32it/s]\u001b[A\n",
      " 70%|███████   | 3815/5424 [19:10<08:05,  3.32it/s]\u001b[A\n",
      " 70%|███████   | 3818/5424 [19:11<08:04,  3.32it/s]\u001b[A\n",
      " 70%|███████   | 3819/5424 [19:11<08:03,  3.32it/s]\u001b[A\n",
      " 70%|███████   | 3820/5424 [19:11<08:03,  3.32it/s]\u001b[A\n",
      " 70%|███████   | 3821/5424 [19:11<08:03,  3.32it/s]\u001b[A\n",
      " 70%|███████   | 3822/5424 [19:12<08:02,  3.32it/s]\u001b[A\n",
      " 71%|███████   | 3824/5424 [19:12<08:02,  3.32it/s]\u001b[A\n",
      " 71%|███████   | 3826/5424 [19:12<08:01,  3.32it/s]\u001b[A\n",
      " 71%|███████   | 3827/5424 [19:12<08:01,  3.32it/s]\u001b[A\n",
      " 71%|███████   | 3828/5424 [19:12<08:00,  3.32it/s]\u001b[A\n",
      " 71%|███████   | 3830/5424 [19:13<07:59,  3.32it/s]\u001b[A\n",
      " 71%|███████   | 3831/5424 [19:13<07:59,  3.32it/s]\u001b[A\n",
      " 71%|███████   | 3832/5424 [19:13<07:59,  3.32it/s]\u001b[A\n",
      " 71%|███████   | 3833/5424 [19:14<07:59,  3.32it/s]\u001b[A\n",
      " 71%|███████   | 3834/5424 [19:14<07:58,  3.32it/s]\u001b[A\n",
      " 71%|███████   | 3835/5424 [19:14<07:58,  3.32it/s]\u001b[A\n",
      " 71%|███████   | 3836/5424 [19:14<07:58,  3.32it/s]\u001b[A\n",
      " 71%|███████   | 3838/5424 [19:15<07:57,  3.32it/s]\u001b[A\n",
      " 71%|███████   | 3839/5424 [19:15<07:57,  3.32it/s]\u001b[A\n",
      " 71%|███████   | 3840/5424 [19:15<07:56,  3.32it/s]\u001b[A\n",
      " 71%|███████   | 3841/5424 [19:15<07:56,  3.32it/s]\u001b[A\n",
      " 71%|███████   | 3842/5424 [19:15<07:55,  3.32it/s]\u001b[A\n",
      " 71%|███████   | 3844/5424 [19:16<07:55,  3.33it/s]\u001b[A\n",
      " 71%|███████   | 3845/5424 [19:16<07:54,  3.33it/s]\u001b[A\n",
      " 71%|███████   | 3846/5424 [19:16<07:54,  3.33it/s]\u001b[A\n",
      " 71%|███████   | 3847/5424 [19:16<07:54,  3.33it/s]\u001b[A\n",
      " 71%|███████   | 3848/5424 [19:17<07:53,  3.33it/s]\u001b[A\n",
      " 71%|███████   | 3849/5424 [19:17<07:53,  3.33it/s]\u001b[A\n",
      " 71%|███████   | 3850/5424 [19:17<07:53,  3.33it/s]\u001b[A\n",
      " 71%|███████   | 3851/5424 [19:18<07:53,  3.33it/s]\u001b[A\n",
      " 71%|███████   | 3852/5424 [19:18<07:52,  3.33it/s]\u001b[A\n",
      " 71%|███████   | 3854/5424 [19:18<07:51,  3.33it/s]\u001b[A\n",
      " 71%|███████   | 3855/5424 [19:18<07:51,  3.33it/s]\u001b[A\n"
     ]
    },
    {
     "name": "stderr",
     "output_type": "stream",
     "text": [
      " 71%|███████   | 3856/5424 [19:19<07:51,  3.33it/s]\u001b[A\n",
      " 71%|███████   | 3857/5424 [19:19<07:51,  3.33it/s]\u001b[A\n",
      " 71%|███████   | 3858/5424 [19:19<07:50,  3.33it/s]\u001b[A\n",
      " 71%|███████   | 3860/5424 [19:20<07:50,  3.33it/s]\u001b[A\n",
      " 71%|███████   | 3861/5424 [19:20<07:49,  3.33it/s]\u001b[A\n",
      " 71%|███████   | 3862/5424 [19:20<07:49,  3.33it/s]\u001b[A\n",
      " 71%|███████   | 3863/5424 [19:20<07:49,  3.33it/s]\u001b[A\n",
      " 71%|███████   | 3864/5424 [19:21<07:48,  3.33it/s]\u001b[A\n",
      " 71%|███████▏  | 3866/5424 [19:21<07:47,  3.33it/s]\u001b[A\n",
      " 71%|███████▏  | 3868/5424 [19:21<07:47,  3.33it/s]\u001b[A\n",
      " 71%|███████▏  | 3869/5424 [19:21<07:47,  3.33it/s]\u001b[A\n",
      " 71%|███████▏  | 3870/5424 [19:22<07:46,  3.33it/s]\u001b[A\n",
      " 71%|███████▏  | 3871/5424 [19:22<07:46,  3.33it/s]\u001b[A\n",
      " 71%|███████▏  | 3872/5424 [19:23<07:46,  3.33it/s]\u001b[A\n",
      " 71%|███████▏  | 3873/5424 [19:23<07:45,  3.33it/s]\u001b[A\n",
      " 71%|███████▏  | 3874/5424 [19:23<07:45,  3.33it/s]\u001b[A\n",
      " 71%|███████▏  | 3875/5424 [19:23<07:45,  3.33it/s]\u001b[A\n",
      " 71%|███████▏  | 3876/5424 [19:23<07:44,  3.33it/s]\u001b[A\n",
      " 71%|███████▏  | 3877/5424 [19:24<07:44,  3.33it/s]\u001b[A\n",
      " 71%|███████▏  | 3878/5424 [19:24<07:44,  3.33it/s]\u001b[A\n",
      " 72%|███████▏  | 3879/5424 [19:24<07:43,  3.33it/s]\u001b[A\n",
      " 72%|███████▏  | 3882/5424 [19:25<07:42,  3.33it/s]\u001b[A\n",
      " 72%|███████▏  | 3883/5424 [19:25<07:42,  3.33it/s]\u001b[A\n",
      " 72%|███████▏  | 3884/5424 [19:25<07:42,  3.33it/s]\u001b[A\n",
      " 72%|███████▏  | 3885/5424 [19:25<07:41,  3.33it/s]\u001b[A\n",
      " 72%|███████▏  | 3887/5424 [19:26<07:41,  3.33it/s]\u001b[A\n",
      " 72%|███████▏  | 3888/5424 [19:26<07:40,  3.33it/s]\u001b[A\n",
      " 72%|███████▏  | 3889/5424 [19:26<07:40,  3.33it/s]\u001b[A\n",
      " 72%|███████▏  | 3891/5424 [19:27<07:39,  3.33it/s]\u001b[A\n",
      " 72%|███████▏  | 3892/5424 [19:27<07:39,  3.33it/s]\u001b[A\n",
      " 72%|███████▏  | 3894/5424 [19:27<07:38,  3.33it/s]\u001b[A\n",
      " 72%|███████▏  | 3895/5424 [19:27<07:38,  3.34it/s]\u001b[A\n",
      " 72%|███████▏  | 3896/5424 [19:28<07:38,  3.34it/s]\u001b[A\n",
      " 72%|███████▏  | 3897/5424 [19:28<07:37,  3.33it/s]\u001b[A\n",
      " 72%|███████▏  | 3898/5424 [19:28<07:37,  3.33it/s]\u001b[A\n",
      " 72%|███████▏  | 3899/5424 [19:29<07:37,  3.33it/s]\u001b[A\n",
      " 72%|███████▏  | 3900/5424 [19:29<07:36,  3.34it/s]\u001b[A\n",
      " 72%|███████▏  | 3902/5424 [19:29<07:36,  3.34it/s]\u001b[A\n",
      " 72%|███████▏  | 3903/5424 [19:29<07:35,  3.34it/s]\u001b[A\n",
      " 72%|███████▏  | 3904/5424 [19:30<07:35,  3.34it/s]\u001b[A\n",
      " 72%|███████▏  | 3905/5424 [19:30<07:35,  3.34it/s]\u001b[A\n",
      " 72%|███████▏  | 3906/5424 [19:30<07:35,  3.34it/s]\u001b[A\n",
      " 72%|███████▏  | 3907/5424 [19:31<07:34,  3.34it/s]\u001b[A\n",
      " 72%|███████▏  | 3908/5424 [19:31<07:34,  3.34it/s]\u001b[A\n",
      " 72%|███████▏  | 3909/5424 [19:31<07:34,  3.34it/s]\u001b[A\n",
      " 72%|███████▏  | 3911/5424 [19:31<07:33,  3.34it/s]\u001b[A\n",
      " 72%|███████▏  | 3913/5424 [19:32<07:32,  3.34it/s]\u001b[A\n",
      " 72%|███████▏  | 3914/5424 [19:32<07:32,  3.34it/s]\u001b[A\n",
      " 72%|███████▏  | 3916/5424 [19:32<07:31,  3.34it/s]\u001b[A\n",
      " 72%|███████▏  | 3917/5424 [19:32<07:31,  3.34it/s]\u001b[A\n",
      " 72%|███████▏  | 3918/5424 [19:33<07:30,  3.34it/s]\u001b[A\n",
      " 72%|███████▏  | 3919/5424 [19:33<07:30,  3.34it/s]\u001b[A\n",
      " 72%|███████▏  | 3920/5424 [19:33<07:30,  3.34it/s]\u001b[A\n",
      " 72%|███████▏  | 3921/5424 [19:34<07:30,  3.34it/s]\u001b[A\n",
      " 72%|███████▏  | 3922/5424 [19:34<07:29,  3.34it/s]\u001b[A\n",
      " 72%|███████▏  | 3923/5424 [19:34<07:29,  3.34it/s]\u001b[A\n",
      " 72%|███████▏  | 3924/5424 [19:34<07:29,  3.34it/s]\u001b[A\n",
      " 72%|███████▏  | 3925/5424 [19:35<07:28,  3.34it/s]\u001b[A\n",
      " 72%|███████▏  | 3926/5424 [19:35<07:28,  3.34it/s]\u001b[A\n",
      " 72%|███████▏  | 3927/5424 [19:35<07:28,  3.34it/s]\u001b[A\n",
      " 72%|███████▏  | 3928/5424 [19:36<07:27,  3.34it/s]\u001b[A\n",
      " 72%|███████▏  | 3929/5424 [19:36<07:27,  3.34it/s]\u001b[A\n",
      " 72%|███████▏  | 3931/5424 [19:36<07:26,  3.34it/s]\u001b[A\n",
      " 72%|███████▏  | 3932/5424 [19:36<07:26,  3.34it/s]\u001b[A\n",
      " 73%|███████▎  | 3933/5424 [19:37<07:26,  3.34it/s]\u001b[A\n",
      " 73%|███████▎  | 3935/5424 [19:37<07:25,  3.34it/s]\u001b[A\n",
      " 73%|███████▎  | 3936/5424 [19:37<07:25,  3.34it/s]\u001b[A\n",
      " 73%|███████▎  | 3937/5424 [19:37<07:24,  3.34it/s]\u001b[A\n",
      " 73%|███████▎  | 3939/5424 [19:38<07:24,  3.34it/s]\u001b[A\n",
      " 73%|███████▎  | 3940/5424 [19:38<07:23,  3.34it/s]\u001b[A\n",
      " 73%|███████▎  | 3941/5424 [19:38<07:23,  3.34it/s]\u001b[A\n",
      " 73%|███████▎  | 3942/5424 [19:38<07:23,  3.34it/s]\u001b[A\n",
      " 73%|███████▎  | 3944/5424 [19:39<07:22,  3.35it/s]\u001b[A\n",
      " 73%|███████▎  | 3945/5424 [19:39<07:22,  3.35it/s]\u001b[A\n",
      " 73%|███████▎  | 3946/5424 [19:39<07:21,  3.35it/s]\u001b[A\n",
      " 73%|███████▎  | 3948/5424 [19:39<07:20,  3.35it/s]\u001b[A\n",
      " 73%|███████▎  | 3950/5424 [19:39<07:20,  3.35it/s]\u001b[A\n",
      " 73%|███████▎  | 3952/5424 [19:40<07:19,  3.35it/s]\u001b[A\n",
      " 73%|███████▎  | 3953/5424 [19:40<07:19,  3.35it/s]\u001b[A\n",
      " 73%|███████▎  | 3954/5424 [19:40<07:19,  3.35it/s]\u001b[A\n",
      " 73%|███████▎  | 3956/5424 [19:41<07:18,  3.35it/s]\u001b[A\n",
      " 73%|███████▎  | 3958/5424 [19:41<07:17,  3.35it/s]\u001b[A\n",
      " 73%|███████▎  | 3959/5424 [19:41<07:17,  3.35it/s]\u001b[A\n",
      " 73%|███████▎  | 3960/5424 [19:41<07:16,  3.35it/s]\u001b[A\n",
      " 73%|███████▎  | 3961/5424 [19:42<07:16,  3.35it/s]\u001b[A\n",
      " 73%|███████▎  | 3962/5424 [19:42<07:16,  3.35it/s]\u001b[A\n",
      " 73%|███████▎  | 3964/5424 [19:42<07:15,  3.35it/s]\u001b[A\n",
      " 73%|███████▎  | 3965/5424 [19:42<07:15,  3.35it/s]\u001b[A\n",
      " 73%|███████▎  | 3966/5424 [19:43<07:14,  3.35it/s]\u001b[A\n",
      " 73%|███████▎  | 3967/5424 [19:43<07:14,  3.35it/s]\u001b[A\n",
      " 73%|███████▎  | 3968/5424 [19:43<07:14,  3.35it/s]\u001b[A\n",
      " 73%|███████▎  | 3969/5424 [19:43<07:13,  3.35it/s]\u001b[A\n",
      " 73%|███████▎  | 3970/5424 [19:44<07:13,  3.35it/s]\u001b[A\n",
      " 73%|███████▎  | 3972/5424 [19:44<07:12,  3.35it/s]\u001b[A\n",
      " 73%|███████▎  | 3973/5424 [19:44<07:12,  3.35it/s]\u001b[A\n",
      " 73%|███████▎  | 3974/5424 [19:44<07:12,  3.35it/s]\u001b[A\n",
      " 73%|███████▎  | 3975/5424 [19:45<07:12,  3.35it/s]\u001b[A\n",
      " 73%|███████▎  | 3976/5424 [19:45<07:11,  3.35it/s]\u001b[A\n",
      " 73%|███████▎  | 3977/5424 [19:45<07:11,  3.35it/s]\u001b[A\n",
      " 73%|███████▎  | 3979/5424 [19:46<07:10,  3.35it/s]\u001b[A\n",
      " 73%|███████▎  | 3980/5424 [19:46<07:10,  3.35it/s]\u001b[A\n",
      " 73%|███████▎  | 3982/5424 [19:46<07:09,  3.36it/s]\u001b[A\n",
      " 73%|███████▎  | 3983/5424 [19:47<07:09,  3.36it/s]\u001b[A\n",
      " 73%|███████▎  | 3985/5424 [19:47<07:08,  3.36it/s]\u001b[A\n",
      " 73%|███████▎  | 3986/5424 [19:47<07:08,  3.36it/s]\u001b[A\n",
      " 74%|███████▎  | 3987/5424 [19:47<07:08,  3.36it/s]\u001b[A\n",
      " 74%|███████▎  | 3989/5424 [19:48<07:07,  3.36it/s]\u001b[A\n",
      " 74%|███████▎  | 3990/5424 [19:48<07:07,  3.36it/s]\u001b[A\n",
      " 74%|███████▎  | 3991/5424 [19:48<07:06,  3.36it/s]\u001b[A\n",
      " 74%|███████▎  | 3993/5424 [19:48<07:06,  3.36it/s]\u001b[A\n",
      " 74%|███████▎  | 3994/5424 [19:49<07:05,  3.36it/s]\u001b[A\n",
      " 74%|███████▎  | 3995/5424 [19:49<07:05,  3.36it/s]\u001b[A\n",
      " 74%|███████▎  | 3996/5424 [19:49<07:05,  3.36it/s]\u001b[A\n",
      " 74%|███████▎  | 3997/5424 [19:50<07:04,  3.36it/s]\u001b[A\n",
      " 74%|███████▎  | 3998/5424 [19:50<07:04,  3.36it/s]\u001b[A\n",
      " 74%|███████▎  | 4000/5424 [19:50<07:03,  3.36it/s]\u001b[A\n",
      " 74%|███████▍  | 4001/5424 [19:51<07:03,  3.36it/s]\u001b[A\n",
      " 74%|███████▍  | 4003/5424 [19:51<07:03,  3.36it/s]\u001b[A\n",
      " 74%|███████▍  | 4005/5424 [19:51<07:02,  3.36it/s]\u001b[A\n",
      " 74%|███████▍  | 4006/5424 [19:51<07:01,  3.36it/s]\u001b[A\n",
      " 74%|███████▍  | 4007/5424 [19:52<07:01,  3.36it/s]\u001b[A\n",
      " 74%|███████▍  | 4009/5424 [19:53<07:01,  3.36it/s]\u001b[A\n",
      " 74%|███████▍  | 4010/5424 [19:53<07:00,  3.36it/s]\u001b[A\n",
      " 74%|███████▍  | 4011/5424 [19:53<07:00,  3.36it/s]\u001b[A\n",
      " 74%|███████▍  | 4012/5424 [19:53<07:00,  3.36it/s]\u001b[A\n",
      " 74%|███████▍  | 4013/5424 [19:54<06:59,  3.36it/s]\u001b[A\n",
      " 74%|███████▍  | 4015/5424 [19:54<06:59,  3.36it/s]\u001b[A\n",
      " 74%|███████▍  | 4016/5424 [19:54<06:58,  3.36it/s]\u001b[A\n",
      " 74%|███████▍  | 4017/5424 [19:54<06:58,  3.36it/s]\u001b[A\n",
      " 74%|███████▍  | 4019/5424 [19:55<06:57,  3.36it/s]\u001b[A\n",
      " 74%|███████▍  | 4021/5424 [19:55<06:57,  3.36it/s]\u001b[A\n",
      " 74%|███████▍  | 4023/5424 [19:55<06:56,  3.36it/s]\u001b[A\n",
      " 74%|███████▍  | 4025/5424 [19:55<06:55,  3.37it/s]\u001b[A\n",
      " 74%|███████▍  | 4026/5424 [19:56<06:55,  3.37it/s]\u001b[A\n",
      " 74%|███████▍  | 4028/5424 [19:56<06:54,  3.37it/s]\u001b[A\n",
      " 74%|███████▍  | 4029/5424 [19:56<06:54,  3.37it/s]\u001b[A\n",
      " 74%|███████▍  | 4030/5424 [19:57<06:54,  3.37it/s]\u001b[A\n",
      " 74%|███████▍  | 4031/5424 [19:57<06:53,  3.37it/s]\u001b[A\n",
      " 74%|███████▍  | 4033/5424 [19:57<06:53,  3.37it/s]\u001b[A\n",
      " 74%|███████▍  | 4034/5424 [19:58<06:52,  3.37it/s]\u001b[A\n",
      " 74%|███████▍  | 4035/5424 [19:58<06:52,  3.37it/s]\u001b[A\n",
      " 74%|███████▍  | 4036/5424 [19:58<06:52,  3.37it/s]\u001b[A\n",
      " 74%|███████▍  | 4037/5424 [19:58<06:51,  3.37it/s]\u001b[A\n",
      " 74%|███████▍  | 4038/5424 [19:59<06:51,  3.37it/s]\u001b[A\n",
      " 74%|███████▍  | 4039/5424 [19:59<06:51,  3.37it/s]\u001b[A\n",
      " 74%|███████▍  | 4040/5424 [19:59<06:51,  3.37it/s]\u001b[A\n",
      " 75%|███████▍  | 4042/5424 [19:59<06:50,  3.37it/s]\u001b[A\n",
      " 75%|███████▍  | 4044/5424 [20:00<06:49,  3.37it/s]\u001b[A\n"
     ]
    },
    {
     "name": "stderr",
     "output_type": "stream",
     "text": [
      " 75%|███████▍  | 4046/5424 [20:00<06:48,  3.37it/s]\u001b[A\n",
      " 75%|███████▍  | 4048/5424 [20:01<06:48,  3.37it/s]\u001b[A\n",
      " 75%|███████▍  | 4049/5424 [20:01<06:47,  3.37it/s]\u001b[A\n",
      " 75%|███████▍  | 4050/5424 [20:01<06:47,  3.37it/s]\u001b[A\n",
      " 75%|███████▍  | 4051/5424 [20:01<06:47,  3.37it/s]\u001b[A\n",
      " 75%|███████▍  | 4053/5424 [20:02<06:46,  3.37it/s]\u001b[A\n",
      " 75%|███████▍  | 4054/5424 [20:02<06:46,  3.37it/s]\u001b[A\n",
      " 75%|███████▍  | 4055/5424 [20:02<06:45,  3.37it/s]\u001b[A\n",
      " 75%|███████▍  | 4057/5424 [20:02<06:45,  3.37it/s]\u001b[A\n",
      " 75%|███████▍  | 4058/5424 [20:02<06:44,  3.37it/s]\u001b[A\n",
      " 75%|███████▍  | 4060/5424 [20:03<06:44,  3.37it/s]\u001b[A\n",
      " 75%|███████▍  | 4062/5424 [20:03<06:43,  3.38it/s]\u001b[A\n",
      " 75%|███████▍  | 4064/5424 [20:03<06:42,  3.38it/s]\u001b[A\n",
      " 75%|███████▍  | 4065/5424 [20:03<06:42,  3.38it/s]\u001b[A\n",
      " 75%|███████▍  | 4066/5424 [20:03<06:42,  3.38it/s]\u001b[A\n",
      " 75%|███████▍  | 4067/5424 [20:04<06:41,  3.38it/s]\u001b[A\n",
      " 75%|███████▌  | 4068/5424 [20:04<06:41,  3.38it/s]\u001b[A\n",
      " 75%|███████▌  | 4069/5424 [20:04<06:41,  3.38it/s]\u001b[A\n",
      " 75%|███████▌  | 4071/5424 [20:05<06:40,  3.38it/s]\u001b[A\n",
      " 75%|███████▌  | 4072/5424 [20:05<06:40,  3.38it/s]\u001b[A\n",
      " 75%|███████▌  | 4073/5424 [20:06<06:40,  3.38it/s]\u001b[A\n",
      " 75%|███████▌  | 4074/5424 [20:06<06:39,  3.38it/s]\u001b[A\n",
      " 75%|███████▌  | 4075/5424 [20:06<06:39,  3.38it/s]\u001b[A\n",
      " 75%|███████▌  | 4076/5424 [20:06<06:39,  3.38it/s]\u001b[A\n",
      " 75%|███████▌  | 4077/5424 [20:07<06:38,  3.38it/s]\u001b[A\n",
      " 75%|███████▌  | 4078/5424 [20:07<06:38,  3.38it/s]\u001b[A\n",
      " 75%|███████▌  | 4079/5424 [20:07<06:38,  3.38it/s]\u001b[A\n",
      " 75%|███████▌  | 4080/5424 [20:08<06:37,  3.38it/s]\u001b[A\n",
      " 75%|███████▌  | 4081/5424 [20:08<06:37,  3.38it/s]\u001b[A\n",
      " 75%|███████▌  | 4083/5424 [20:08<06:37,  3.38it/s]\u001b[A\n",
      " 75%|███████▌  | 4084/5424 [20:09<06:36,  3.38it/s]\u001b[A\n",
      " 75%|███████▌  | 4085/5424 [20:09<06:36,  3.38it/s]\u001b[A\n",
      " 75%|███████▌  | 4086/5424 [20:09<06:36,  3.38it/s]\u001b[A\n",
      " 75%|███████▌  | 4087/5424 [20:09<06:35,  3.38it/s]\u001b[A\n",
      " 75%|███████▌  | 4088/5424 [20:10<06:35,  3.38it/s]\u001b[A\n",
      " 75%|███████▌  | 4089/5424 [20:10<06:35,  3.38it/s]\u001b[A\n",
      " 75%|███████▌  | 4090/5424 [20:11<06:35,  3.38it/s]\u001b[A\n",
      " 75%|███████▌  | 4091/5424 [20:11<06:34,  3.38it/s]\u001b[A\n",
      " 75%|███████▌  | 4092/5424 [20:11<06:34,  3.38it/s]\u001b[A\n",
      " 75%|███████▌  | 4094/5424 [20:11<06:33,  3.38it/s]\u001b[A\n",
      " 76%|███████▌  | 4096/5424 [20:12<06:33,  3.38it/s]\u001b[A\n",
      " 76%|███████▌  | 4097/5424 [20:12<06:32,  3.38it/s]\u001b[A\n",
      " 76%|███████▌  | 4098/5424 [20:12<06:32,  3.38it/s]\u001b[A\n",
      " 76%|███████▌  | 4099/5424 [20:13<06:32,  3.38it/s]\u001b[A\n",
      " 76%|███████▌  | 4100/5424 [20:13<06:31,  3.38it/s]\u001b[A\n",
      " 76%|███████▌  | 4102/5424 [20:13<06:31,  3.38it/s]\u001b[A\n",
      " 76%|███████▌  | 4103/5424 [20:13<06:30,  3.38it/s]\u001b[A\n",
      " 76%|███████▌  | 4104/5424 [20:14<06:30,  3.38it/s]\u001b[A\n",
      " 76%|███████▌  | 4105/5424 [20:14<06:30,  3.38it/s]\u001b[A\n",
      " 76%|███████▌  | 4106/5424 [20:14<06:29,  3.38it/s]\u001b[A\n",
      " 76%|███████▌  | 4107/5424 [20:14<06:29,  3.38it/s]\u001b[A\n",
      " 76%|███████▌  | 4109/5424 [20:15<06:28,  3.38it/s]\u001b[A\n",
      " 76%|███████▌  | 4111/5424 [20:15<06:28,  3.38it/s]\u001b[A\n",
      " 76%|███████▌  | 4112/5424 [20:15<06:27,  3.38it/s]\u001b[A\n",
      " 76%|███████▌  | 4113/5424 [20:16<06:27,  3.38it/s]\u001b[A\n",
      " 76%|███████▌  | 4114/5424 [20:16<06:27,  3.38it/s]\u001b[A\n",
      " 76%|███████▌  | 4115/5424 [20:16<06:27,  3.38it/s]\u001b[A\n",
      " 76%|███████▌  | 4117/5424 [20:16<06:26,  3.38it/s]\u001b[A\n",
      " 76%|███████▌  | 4119/5424 [20:16<06:25,  3.38it/s]\u001b[A\n",
      " 76%|███████▌  | 4121/5424 [20:17<06:24,  3.39it/s]\u001b[A\n",
      " 76%|███████▌  | 4122/5424 [20:17<06:24,  3.39it/s]\u001b[A\n",
      " 76%|███████▌  | 4123/5424 [20:17<06:24,  3.39it/s]\u001b[A\n",
      " 76%|███████▌  | 4124/5424 [20:17<06:23,  3.39it/s]\u001b[A\n",
      " 76%|███████▌  | 4125/5424 [20:17<06:23,  3.39it/s]\u001b[A\n",
      " 76%|███████▌  | 4127/5424 [20:18<06:22,  3.39it/s]\u001b[A\n",
      " 76%|███████▌  | 4128/5424 [20:18<06:22,  3.39it/s]\u001b[A\n",
      " 76%|███████▌  | 4129/5424 [20:18<06:22,  3.39it/s]\u001b[A\n",
      " 76%|███████▌  | 4130/5424 [20:19<06:21,  3.39it/s]\u001b[A\n",
      " 76%|███████▌  | 4131/5424 [20:19<06:21,  3.39it/s]\u001b[A\n",
      " 76%|███████▌  | 4132/5424 [20:19<06:21,  3.39it/s]\u001b[A\n",
      " 76%|███████▌  | 4133/5424 [20:19<06:21,  3.39it/s]\u001b[A\n",
      " 76%|███████▌  | 4134/5424 [20:20<06:20,  3.39it/s]\u001b[A\n",
      " 76%|███████▋  | 4136/5424 [20:20<06:20,  3.39it/s]\u001b[A\n",
      " 76%|███████▋  | 4138/5424 [20:20<06:19,  3.39it/s]\u001b[A\n",
      " 76%|███████▋  | 4139/5424 [20:20<06:18,  3.39it/s]\u001b[A\n",
      " 76%|███████▋  | 4140/5424 [20:21<06:18,  3.39it/s]\u001b[A\n",
      " 76%|███████▋  | 4141/5424 [20:21<06:18,  3.39it/s]\u001b[A\n",
      " 76%|███████▋  | 4143/5424 [20:21<06:17,  3.39it/s]\u001b[A\n",
      " 76%|███████▋  | 4144/5424 [20:21<06:17,  3.39it/s]\u001b[A\n",
      " 76%|███████▋  | 4145/5424 [20:22<06:17,  3.39it/s]\u001b[A\n",
      " 76%|███████▋  | 4147/5424 [20:22<06:16,  3.39it/s]\u001b[A\n",
      " 76%|███████▋  | 4148/5424 [20:22<06:16,  3.39it/s]\u001b[A\n",
      " 77%|███████▋  | 4150/5424 [20:22<06:15,  3.39it/s]\u001b[A\n",
      " 77%|███████▋  | 4151/5424 [20:23<06:15,  3.39it/s]\u001b[A\n",
      " 77%|███████▋  | 4152/5424 [20:23<06:14,  3.39it/s]\u001b[A\n",
      " 77%|███████▋  | 4153/5424 [20:23<06:14,  3.39it/s]\u001b[A\n",
      " 77%|███████▋  | 4154/5424 [20:23<06:14,  3.39it/s]\u001b[A\n",
      " 77%|███████▋  | 4155/5424 [20:24<06:13,  3.39it/s]\u001b[A\n",
      " 77%|███████▋  | 4156/5424 [20:24<06:13,  3.39it/s]\u001b[A\n",
      " 77%|███████▋  | 4158/5424 [20:24<06:12,  3.40it/s]\u001b[A\n",
      " 77%|███████▋  | 4160/5424 [20:24<06:12,  3.40it/s]\u001b[A\n",
      " 77%|███████▋  | 4161/5424 [20:25<06:11,  3.40it/s]\u001b[A\n",
      " 77%|███████▋  | 4162/5424 [20:25<06:11,  3.40it/s]\u001b[A\n",
      " 77%|███████▋  | 4163/5424 [20:25<06:11,  3.40it/s]\u001b[A\n",
      " 77%|███████▋  | 4165/5424 [20:25<06:10,  3.40it/s]\u001b[A\n",
      " 77%|███████▋  | 4167/5424 [20:26<06:09,  3.40it/s]\u001b[A\n",
      " 77%|███████▋  | 4168/5424 [20:26<06:09,  3.40it/s]\u001b[A\n",
      " 77%|███████▋  | 4169/5424 [20:26<06:09,  3.40it/s]\u001b[A\n",
      " 77%|███████▋  | 4170/5424 [20:27<06:09,  3.40it/s]\u001b[A\n",
      " 77%|███████▋  | 4171/5424 [20:27<06:08,  3.40it/s]\u001b[A\n",
      " 77%|███████▋  | 4172/5424 [20:27<06:08,  3.40it/s]\u001b[A\n",
      " 77%|███████▋  | 4173/5424 [20:27<06:08,  3.40it/s]\u001b[A\n",
      " 77%|███████▋  | 4174/5424 [20:28<06:07,  3.40it/s]\u001b[A\n",
      " 77%|███████▋  | 4175/5424 [20:28<06:07,  3.40it/s]\u001b[A\n",
      " 77%|███████▋  | 4177/5424 [20:28<06:06,  3.40it/s]\u001b[A\n",
      " 77%|███████▋  | 4179/5424 [20:29<06:06,  3.40it/s]\u001b[A\n",
      " 77%|███████▋  | 4180/5424 [20:29<06:05,  3.40it/s]\u001b[A\n",
      " 77%|███████▋  | 4181/5424 [20:29<06:05,  3.40it/s]\u001b[A\n",
      " 77%|███████▋  | 4183/5424 [20:30<06:04,  3.40it/s]\u001b[A\n",
      " 77%|███████▋  | 4184/5424 [20:30<06:04,  3.40it/s]\u001b[A\n",
      " 77%|███████▋  | 4185/5424 [20:30<06:04,  3.40it/s]\u001b[A\n",
      " 77%|███████▋  | 4186/5424 [20:30<06:04,  3.40it/s]\u001b[A\n",
      " 77%|███████▋  | 4187/5424 [20:31<06:03,  3.40it/s]\u001b[A\n",
      " 77%|███████▋  | 4188/5424 [20:31<06:03,  3.40it/s]\u001b[A\n",
      " 77%|███████▋  | 4189/5424 [20:31<06:03,  3.40it/s]\u001b[A\n",
      " 77%|███████▋  | 4190/5424 [20:32<06:02,  3.40it/s]\u001b[A\n",
      " 77%|███████▋  | 4191/5424 [20:32<06:02,  3.40it/s]\u001b[A\n",
      " 77%|███████▋  | 4192/5424 [20:32<06:02,  3.40it/s]\u001b[A\n",
      " 77%|███████▋  | 4193/5424 [20:32<06:01,  3.40it/s]\u001b[A\n",
      " 77%|███████▋  | 4195/5424 [20:33<06:01,  3.40it/s]\u001b[A\n",
      " 77%|███████▋  | 4196/5424 [20:33<06:00,  3.40it/s]\u001b[A\n",
      " 77%|███████▋  | 4197/5424 [20:33<06:00,  3.40it/s]\u001b[A\n",
      " 77%|███████▋  | 4198/5424 [20:33<06:00,  3.40it/s]\u001b[A\n",
      " 77%|███████▋  | 4199/5424 [20:33<05:59,  3.40it/s]\u001b[A\n",
      " 77%|███████▋  | 4200/5424 [20:34<05:59,  3.40it/s]\u001b[A\n",
      " 77%|███████▋  | 4201/5424 [20:34<05:59,  3.40it/s]\u001b[A\n",
      " 77%|███████▋  | 4203/5424 [20:34<05:58,  3.40it/s]\u001b[A\n",
      " 78%|███████▊  | 4204/5424 [20:34<05:58,  3.40it/s]\u001b[A\n",
      " 78%|███████▊  | 4205/5424 [20:34<05:58,  3.41it/s]\u001b[A\n",
      " 78%|███████▊  | 4206/5424 [20:35<05:57,  3.40it/s]\u001b[A\n",
      " 78%|███████▊  | 4207/5424 [20:35<05:57,  3.41it/s]\u001b[A\n",
      " 78%|███████▊  | 4208/5424 [20:35<05:57,  3.41it/s]\u001b[A\n",
      " 78%|███████▊  | 4209/5424 [20:35<05:56,  3.41it/s]\u001b[A\n",
      " 78%|███████▊  | 4210/5424 [20:36<05:56,  3.41it/s]\u001b[A\n",
      " 78%|███████▊  | 4212/5424 [20:36<05:55,  3.41it/s]\u001b[A\n",
      " 78%|███████▊  | 4213/5424 [20:36<05:55,  3.41it/s]\u001b[A\n",
      " 78%|███████▊  | 4215/5424 [20:36<05:54,  3.41it/s]\u001b[A\n",
      " 78%|███████▊  | 4216/5424 [20:37<05:54,  3.41it/s]\u001b[A\n",
      " 78%|███████▊  | 4217/5424 [20:37<05:54,  3.41it/s]\u001b[A\n",
      " 78%|███████▊  | 4218/5424 [20:37<05:53,  3.41it/s]\u001b[A\n",
      " 78%|███████▊  | 4219/5424 [20:38<05:53,  3.41it/s]\u001b[A\n",
      " 78%|███████▊  | 4220/5424 [20:38<05:53,  3.41it/s]\u001b[A\n",
      " 78%|███████▊  | 4221/5424 [20:38<05:53,  3.41it/s]\u001b[A\n",
      " 78%|███████▊  | 4223/5424 [20:39<05:52,  3.41it/s]\u001b[A\n",
      " 78%|███████▊  | 4224/5424 [20:39<05:52,  3.41it/s]\u001b[A\n",
      " 78%|███████▊  | 4225/5424 [20:39<05:51,  3.41it/s]\u001b[A\n",
      " 78%|███████▊  | 4226/5424 [20:40<05:51,  3.41it/s]\u001b[A\n",
      " 78%|███████▊  | 4227/5424 [20:40<05:51,  3.41it/s]\u001b[A\n"
     ]
    },
    {
     "name": "stderr",
     "output_type": "stream",
     "text": [
      " 78%|███████▊  | 4228/5424 [20:40<05:51,  3.41it/s]\u001b[A\n",
      " 78%|███████▊  | 4230/5424 [20:40<05:50,  3.41it/s]\u001b[A\n",
      " 78%|███████▊  | 4231/5424 [20:41<05:49,  3.41it/s]\u001b[A\n",
      " 78%|███████▊  | 4232/5424 [20:41<05:49,  3.41it/s]\u001b[A\n",
      " 78%|███████▊  | 4233/5424 [20:41<05:49,  3.41it/s]\u001b[A\n",
      " 78%|███████▊  | 4234/5424 [20:41<05:49,  3.41it/s]\u001b[A\n",
      " 78%|███████▊  | 4236/5424 [20:42<05:48,  3.41it/s]\u001b[A\n",
      " 78%|███████▊  | 4237/5424 [20:42<05:48,  3.41it/s]\u001b[A\n",
      " 78%|███████▊  | 4238/5424 [20:42<05:47,  3.41it/s]\u001b[A\n",
      " 78%|███████▊  | 4239/5424 [20:43<05:47,  3.41it/s]\u001b[A\n",
      " 78%|███████▊  | 4241/5424 [20:43<05:46,  3.41it/s]\u001b[A\n",
      " 78%|███████▊  | 4243/5424 [20:43<05:46,  3.41it/s]\u001b[A\n",
      " 78%|███████▊  | 4244/5424 [20:44<05:45,  3.41it/s]\u001b[A\n",
      " 78%|███████▊  | 4245/5424 [20:44<05:45,  3.41it/s]\u001b[A\n",
      " 78%|███████▊  | 4246/5424 [20:44<05:45,  3.41it/s]\u001b[A\n",
      " 78%|███████▊  | 4247/5424 [20:44<05:45,  3.41it/s]\u001b[A\n",
      " 78%|███████▊  | 4249/5424 [20:45<05:44,  3.41it/s]\u001b[A\n",
      " 78%|███████▊  | 4250/5424 [20:45<05:44,  3.41it/s]\u001b[A\n",
      " 78%|███████▊  | 4251/5424 [20:45<05:43,  3.41it/s]\u001b[A\n",
      " 78%|███████▊  | 4252/5424 [20:45<05:43,  3.41it/s]\u001b[A\n",
      " 78%|███████▊  | 4253/5424 [20:46<05:43,  3.41it/s]\u001b[A\n",
      " 78%|███████▊  | 4255/5424 [20:46<05:42,  3.41it/s]\u001b[A\n",
      " 78%|███████▊  | 4257/5424 [20:46<05:41,  3.41it/s]\u001b[A\n",
      " 79%|███████▊  | 4258/5424 [20:46<05:41,  3.41it/s]\u001b[A\n",
      " 79%|███████▊  | 4259/5424 [20:47<05:41,  3.41it/s]\u001b[A\n",
      " 79%|███████▊  | 4260/5424 [20:47<05:40,  3.41it/s]\u001b[A\n",
      " 79%|███████▊  | 4261/5424 [20:47<05:40,  3.42it/s]\u001b[A\n",
      " 79%|███████▊  | 4262/5424 [20:48<05:40,  3.42it/s]\u001b[A\n",
      " 79%|███████▊  | 4264/5424 [20:48<05:39,  3.42it/s]\u001b[A\n",
      " 79%|███████▊  | 4266/5424 [20:48<05:38,  3.42it/s]\u001b[A\n",
      " 79%|███████▊  | 4267/5424 [20:48<05:38,  3.42it/s]\u001b[A\n",
      " 79%|███████▊  | 4269/5424 [20:48<05:37,  3.42it/s]\u001b[A\n",
      " 79%|███████▊  | 4270/5424 [20:49<05:37,  3.42it/s]\u001b[A\n",
      " 79%|███████▊  | 4271/5424 [20:49<05:37,  3.42it/s]\u001b[A\n",
      " 79%|███████▉  | 4272/5424 [20:49<05:37,  3.42it/s]\u001b[A\n",
      " 79%|███████▉  | 4275/5424 [20:50<05:36,  3.42it/s]\u001b[A\n",
      " 79%|███████▉  | 4276/5424 [20:50<05:35,  3.42it/s]\u001b[A\n",
      " 79%|███████▉  | 4277/5424 [20:50<05:35,  3.42it/s]\u001b[A\n",
      " 79%|███████▉  | 4279/5424 [20:51<05:34,  3.42it/s]\u001b[A\n",
      " 79%|███████▉  | 4280/5424 [20:51<05:34,  3.42it/s]\u001b[A\n",
      " 79%|███████▉  | 4281/5424 [20:51<05:34,  3.42it/s]\u001b[A\n",
      " 79%|███████▉  | 4282/5424 [20:52<05:33,  3.42it/s]\u001b[A\n",
      " 79%|███████▉  | 4283/5424 [20:52<05:33,  3.42it/s]\u001b[A\n",
      " 79%|███████▉  | 4284/5424 [20:52<05:33,  3.42it/s]\u001b[A\n",
      " 79%|███████▉  | 4286/5424 [20:52<05:32,  3.42it/s]\u001b[A\n",
      " 79%|███████▉  | 4287/5424 [20:53<05:32,  3.42it/s]\u001b[A\n",
      " 79%|███████▉  | 4288/5424 [20:53<05:32,  3.42it/s]\u001b[A\n",
      " 79%|███████▉  | 4289/5424 [20:53<05:31,  3.42it/s]\u001b[A\n",
      " 79%|███████▉  | 4290/5424 [20:53<05:31,  3.42it/s]\u001b[A\n",
      " 79%|███████▉  | 4291/5424 [20:54<05:31,  3.42it/s]\u001b[A\n",
      " 79%|███████▉  | 4292/5424 [20:54<05:30,  3.42it/s]\u001b[A\n",
      " 79%|███████▉  | 4293/5424 [20:54<05:30,  3.42it/s]\u001b[A\n",
      " 79%|███████▉  | 4295/5424 [20:55<05:29,  3.42it/s]\u001b[A\n",
      " 79%|███████▉  | 4296/5424 [20:55<05:29,  3.42it/s]\u001b[A\n",
      " 79%|███████▉  | 4297/5424 [20:55<05:29,  3.42it/s]\u001b[A\n",
      " 79%|███████▉  | 4298/5424 [20:56<05:29,  3.42it/s]\u001b[A\n",
      " 79%|███████▉  | 4299/5424 [20:56<05:28,  3.42it/s]\u001b[A\n",
      " 79%|███████▉  | 4300/5424 [20:57<05:28,  3.42it/s]\u001b[A\n",
      " 79%|███████▉  | 4301/5424 [20:57<05:28,  3.42it/s]\u001b[A\n",
      " 79%|███████▉  | 4302/5424 [20:57<05:27,  3.42it/s]\u001b[A\n",
      " 79%|███████▉  | 4303/5424 [20:57<05:27,  3.42it/s]\u001b[A\n",
      " 79%|███████▉  | 4305/5424 [20:58<05:27,  3.42it/s]\u001b[A\n",
      " 79%|███████▉  | 4306/5424 [20:58<05:26,  3.42it/s]\u001b[A\n",
      " 79%|███████▉  | 4308/5424 [20:58<05:26,  3.42it/s]\u001b[A\n",
      " 79%|███████▉  | 4309/5424 [20:59<05:25,  3.42it/s]\u001b[A\n",
      " 79%|███████▉  | 4310/5424 [20:59<05:25,  3.42it/s]\u001b[A\n",
      " 79%|███████▉  | 4311/5424 [20:59<05:25,  3.42it/s]\u001b[A\n",
      " 79%|███████▉  | 4312/5424 [20:59<05:24,  3.42it/s]\u001b[A\n",
      " 80%|███████▉  | 4314/5424 [21:00<05:24,  3.42it/s]\u001b[A\n",
      " 80%|███████▉  | 4315/5424 [21:00<05:23,  3.42it/s]\u001b[A\n",
      " 80%|███████▉  | 4316/5424 [21:00<05:23,  3.42it/s]\u001b[A\n",
      " 80%|███████▉  | 4317/5424 [21:01<05:23,  3.42it/s]\u001b[A\n",
      " 80%|███████▉  | 4318/5424 [21:01<05:23,  3.42it/s]\u001b[A\n",
      " 80%|███████▉  | 4319/5424 [21:01<05:22,  3.42it/s]\u001b[A\n",
      " 80%|███████▉  | 4320/5424 [21:02<05:22,  3.42it/s]\u001b[A\n",
      " 80%|███████▉  | 4321/5424 [21:02<05:22,  3.42it/s]\u001b[A\n",
      " 80%|███████▉  | 4322/5424 [21:02<05:21,  3.42it/s]\u001b[A\n",
      " 80%|███████▉  | 4323/5424 [21:02<05:21,  3.42it/s]\u001b[A\n",
      " 80%|███████▉  | 4324/5424 [21:03<05:21,  3.42it/s]\u001b[A\n",
      " 80%|███████▉  | 4325/5424 [21:03<05:21,  3.42it/s]\u001b[A\n",
      " 80%|███████▉  | 4326/5424 [21:03<05:20,  3.42it/s]\u001b[A\n",
      " 80%|███████▉  | 4327/5424 [21:03<05:20,  3.42it/s]\u001b[A\n",
      " 80%|███████▉  | 4328/5424 [21:04<05:20,  3.42it/s]\u001b[A\n",
      " 80%|███████▉  | 4329/5424 [21:04<05:19,  3.42it/s]\u001b[A\n",
      " 80%|███████▉  | 4330/5424 [21:04<05:19,  3.42it/s]\u001b[A\n",
      " 80%|███████▉  | 4331/5424 [21:05<05:19,  3.42it/s]\u001b[A\n",
      " 80%|███████▉  | 4332/5424 [21:05<05:19,  3.42it/s]\u001b[A\n",
      " 80%|███████▉  | 4333/5424 [21:05<05:18,  3.42it/s]\u001b[A\n",
      " 80%|███████▉  | 4334/5424 [21:06<05:18,  3.42it/s]\u001b[A\n",
      " 80%|███████▉  | 4335/5424 [21:06<05:18,  3.42it/s]\u001b[A\n",
      " 80%|███████▉  | 4336/5424 [21:06<05:17,  3.42it/s]\u001b[A\n",
      " 80%|███████▉  | 4337/5424 [21:06<05:17,  3.42it/s]\u001b[A\n",
      " 80%|███████▉  | 4338/5424 [21:07<05:17,  3.42it/s]\u001b[A\n",
      " 80%|███████▉  | 4339/5424 [21:07<05:16,  3.42it/s]\u001b[A\n",
      " 80%|████████  | 4340/5424 [21:07<05:16,  3.42it/s]\u001b[A\n",
      " 80%|████████  | 4341/5424 [21:08<05:16,  3.42it/s]\u001b[A\n",
      " 80%|████████  | 4343/5424 [21:08<05:15,  3.42it/s]\u001b[A\n",
      " 80%|████████  | 4344/5424 [21:08<05:15,  3.42it/s]\u001b[A\n",
      " 80%|████████  | 4346/5424 [21:09<05:14,  3.42it/s]\u001b[A\n",
      " 80%|████████  | 4348/5424 [21:09<05:14,  3.42it/s]\u001b[A\n",
      " 80%|████████  | 4349/5424 [21:09<05:13,  3.42it/s]\u001b[A\n",
      " 80%|████████  | 4351/5424 [21:10<05:13,  3.42it/s]\u001b[A\n",
      " 80%|████████  | 4353/5424 [21:10<05:12,  3.43it/s]\u001b[A\n",
      " 80%|████████  | 4355/5424 [21:10<05:11,  3.43it/s]\u001b[A\n",
      " 80%|████████  | 4356/5424 [21:11<05:11,  3.43it/s]\u001b[A\n",
      " 80%|████████  | 4358/5424 [21:11<05:10,  3.43it/s]\u001b[A\n",
      " 80%|████████  | 4359/5424 [21:11<05:10,  3.43it/s]\u001b[A\n",
      " 80%|████████  | 4360/5424 [21:12<05:10,  3.43it/s]\u001b[A\n",
      " 80%|████████  | 4361/5424 [21:12<05:10,  3.43it/s]\u001b[A\n",
      " 80%|████████  | 4362/5424 [21:12<05:09,  3.43it/s]\u001b[A\n",
      " 80%|████████  | 4363/5424 [21:12<05:09,  3.43it/s]\u001b[A\n",
      " 80%|████████  | 4364/5424 [21:12<05:09,  3.43it/s]\u001b[A\n",
      " 80%|████████  | 4365/5424 [21:13<05:08,  3.43it/s]\u001b[A\n",
      " 80%|████████  | 4366/5424 [21:13<05:08,  3.43it/s]\u001b[A\n",
      " 81%|████████  | 4368/5424 [21:13<05:07,  3.43it/s]\u001b[A\n",
      " 81%|████████  | 4369/5424 [21:13<05:07,  3.43it/s]\u001b[A\n",
      " 81%|████████  | 4370/5424 [21:14<05:07,  3.43it/s]\u001b[A\n",
      " 81%|████████  | 4371/5424 [21:14<05:07,  3.43it/s]\u001b[A\n",
      " 81%|████████  | 4372/5424 [21:15<05:06,  3.43it/s]\u001b[A\n",
      " 81%|████████  | 4374/5424 [21:15<05:06,  3.43it/s]\u001b[A\n",
      " 81%|████████  | 4375/5424 [21:15<05:05,  3.43it/s]\u001b[A\n",
      " 81%|████████  | 4376/5424 [21:15<05:05,  3.43it/s]\u001b[A\n",
      " 81%|████████  | 4377/5424 [21:16<05:05,  3.43it/s]\u001b[A\n",
      " 81%|████████  | 4378/5424 [21:16<05:04,  3.43it/s]\u001b[A\n",
      " 81%|████████  | 4380/5424 [21:16<05:04,  3.43it/s]\u001b[A\n",
      " 81%|████████  | 4382/5424 [21:16<05:03,  3.43it/s]\u001b[A\n",
      " 81%|████████  | 4383/5424 [21:16<05:03,  3.43it/s]\u001b[A\n",
      " 81%|████████  | 4384/5424 [21:17<05:03,  3.43it/s]\u001b[A\n",
      " 81%|████████  | 4385/5424 [21:17<05:02,  3.43it/s]\u001b[A\n",
      " 81%|████████  | 4387/5424 [21:18<05:02,  3.43it/s]\u001b[A\n",
      " 81%|████████  | 4388/5424 [21:18<05:01,  3.43it/s]\u001b[A\n",
      " 81%|████████  | 4389/5424 [21:18<05:01,  3.43it/s]\u001b[A\n",
      " 81%|████████  | 4390/5424 [21:19<05:01,  3.43it/s]\u001b[A\n",
      " 81%|████████  | 4391/5424 [21:19<05:00,  3.43it/s]\u001b[A\n",
      " 81%|████████  | 4393/5424 [21:19<05:00,  3.43it/s]\u001b[A\n",
      " 81%|████████  | 4395/5424 [21:20<04:59,  3.43it/s]\u001b[A\n",
      " 81%|████████  | 4396/5424 [21:20<04:59,  3.43it/s]\u001b[A\n",
      " 81%|████████  | 4398/5424 [21:20<04:58,  3.43it/s]\u001b[A\n",
      " 81%|████████  | 4399/5424 [21:20<04:58,  3.43it/s]\u001b[A\n",
      " 81%|████████  | 4401/5424 [21:21<04:57,  3.44it/s]\u001b[A\n",
      " 81%|████████  | 4403/5424 [21:21<04:57,  3.44it/s]\u001b[A\n",
      " 81%|████████  | 4404/5424 [21:22<04:56,  3.44it/s]\u001b[A\n",
      " 81%|████████  | 4405/5424 [21:22<04:56,  3.43it/s]\u001b[A\n",
      " 81%|████████  | 4406/5424 [21:22<04:56,  3.43it/s]\u001b[A\n",
      " 81%|████████▏ | 4408/5424 [21:23<04:55,  3.43it/s]\u001b[A\n",
      " 81%|████████▏ | 4410/5424 [21:23<04:55,  3.44it/s]\u001b[A\n",
      " 81%|████████▏ | 4411/5424 [21:23<04:54,  3.44it/s]\u001b[A\n",
      " 81%|████████▏ | 4412/5424 [21:23<04:54,  3.44it/s]\u001b[A\n"
     ]
    },
    {
     "name": "stderr",
     "output_type": "stream",
     "text": [
      " 81%|████████▏ | 4414/5424 [21:24<04:53,  3.44it/s]\u001b[A\n",
      " 81%|████████▏ | 4415/5424 [21:24<04:53,  3.44it/s]\u001b[A\n",
      " 81%|████████▏ | 4416/5424 [21:24<04:53,  3.44it/s]\u001b[A\n",
      " 81%|████████▏ | 4418/5424 [21:24<04:52,  3.44it/s]\u001b[A\n",
      " 81%|████████▏ | 4419/5424 [21:25<04:52,  3.44it/s]\u001b[A\n",
      " 82%|████████▏ | 4421/5424 [21:25<04:51,  3.44it/s]\u001b[A\n",
      " 82%|████████▏ | 4422/5424 [21:25<04:51,  3.44it/s]\u001b[A\n",
      " 82%|████████▏ | 4423/5424 [21:26<04:51,  3.44it/s]\u001b[A\n",
      " 82%|████████▏ | 4424/5424 [21:26<04:50,  3.44it/s]\u001b[A\n",
      " 82%|████████▏ | 4426/5424 [21:26<04:50,  3.44it/s]\u001b[A\n",
      " 82%|████████▏ | 4428/5424 [21:26<04:49,  3.44it/s]\u001b[A\n",
      " 82%|████████▏ | 4429/5424 [21:26<04:49,  3.44it/s]\u001b[A\n",
      " 82%|████████▏ | 4430/5424 [21:27<04:48,  3.44it/s]\u001b[A\n",
      " 82%|████████▏ | 4431/5424 [21:27<04:48,  3.44it/s]\u001b[A\n",
      " 82%|████████▏ | 4432/5424 [21:28<04:48,  3.44it/s]\u001b[A\n",
      " 82%|████████▏ | 4433/5424 [21:28<04:47,  3.44it/s]\u001b[A\n",
      " 82%|████████▏ | 4434/5424 [21:28<04:47,  3.44it/s]\u001b[A\n",
      " 82%|████████▏ | 4435/5424 [21:29<04:47,  3.44it/s]\u001b[A\n",
      " 82%|████████▏ | 4436/5424 [21:29<04:47,  3.44it/s]\u001b[A\n",
      " 82%|████████▏ | 4437/5424 [21:29<04:46,  3.44it/s]\u001b[A\n",
      " 82%|████████▏ | 4438/5424 [21:29<04:46,  3.44it/s]\u001b[A\n",
      " 82%|████████▏ | 4439/5424 [21:30<04:46,  3.44it/s]\u001b[A\n",
      " 82%|████████▏ | 4441/5424 [21:30<04:45,  3.44it/s]\u001b[A\n",
      " 82%|████████▏ | 4443/5424 [21:31<04:45,  3.44it/s]\u001b[A\n",
      " 82%|████████▏ | 4444/5424 [21:31<04:44,  3.44it/s]\u001b[A\n",
      " 82%|████████▏ | 4445/5424 [21:31<04:44,  3.44it/s]\u001b[A\n",
      " 82%|████████▏ | 4446/5424 [21:31<04:44,  3.44it/s]\u001b[A\n",
      " 82%|████████▏ | 4447/5424 [21:32<04:43,  3.44it/s]\u001b[A\n",
      " 82%|████████▏ | 4448/5424 [21:32<04:43,  3.44it/s]\u001b[A\n",
      " 82%|████████▏ | 4449/5424 [21:32<04:43,  3.44it/s]\u001b[A\n",
      " 82%|████████▏ | 4450/5424 [21:33<04:43,  3.44it/s]\u001b[A\n",
      " 82%|████████▏ | 4451/5424 [21:33<04:42,  3.44it/s]\u001b[A\n",
      " 82%|████████▏ | 4452/5424 [21:33<04:42,  3.44it/s]\u001b[A\n",
      " 82%|████████▏ | 4454/5424 [21:33<04:41,  3.44it/s]\u001b[A\n",
      " 82%|████████▏ | 4455/5424 [21:34<04:41,  3.44it/s]\u001b[A\n",
      " 82%|████████▏ | 4457/5424 [21:34<04:40,  3.44it/s]\u001b[A\n",
      " 82%|████████▏ | 4458/5424 [21:34<04:40,  3.44it/s]\u001b[A\n",
      " 82%|████████▏ | 4459/5424 [21:34<04:40,  3.44it/s]\u001b[A\n",
      " 82%|████████▏ | 4461/5424 [21:34<04:39,  3.44it/s]\u001b[A\n",
      " 82%|████████▏ | 4462/5424 [21:35<04:39,  3.45it/s]\u001b[A\n",
      " 82%|████████▏ | 4463/5424 [21:35<04:38,  3.45it/s]\u001b[A\n",
      " 82%|████████▏ | 4465/5424 [21:35<04:38,  3.45it/s]\u001b[A\n",
      " 82%|████████▏ | 4466/5424 [21:35<04:37,  3.45it/s]\u001b[A\n",
      " 82%|████████▏ | 4468/5424 [21:36<04:37,  3.45it/s]\u001b[A\n",
      " 82%|████████▏ | 4470/5424 [21:36<04:36,  3.45it/s]\u001b[A\n",
      " 82%|████████▏ | 4471/5424 [21:36<04:36,  3.45it/s]\u001b[A\n",
      " 82%|████████▏ | 4473/5424 [21:37<04:35,  3.45it/s]\u001b[A\n",
      " 83%|████████▎ | 4475/5424 [21:37<04:35,  3.45it/s]\u001b[A\n",
      " 83%|████████▎ | 4476/5424 [21:37<04:34,  3.45it/s]\u001b[A\n",
      " 83%|████████▎ | 4477/5424 [21:37<04:34,  3.45it/s]\u001b[A\n",
      " 83%|████████▎ | 4478/5424 [21:38<04:34,  3.45it/s]\u001b[A\n",
      " 83%|████████▎ | 4479/5424 [21:38<04:33,  3.45it/s]\u001b[A\n",
      " 83%|████████▎ | 4480/5424 [21:38<04:33,  3.45it/s]\u001b[A\n",
      " 83%|████████▎ | 4482/5424 [21:38<04:33,  3.45it/s]\u001b[A\n",
      " 83%|████████▎ | 4483/5424 [21:39<04:32,  3.45it/s]\u001b[A\n",
      " 83%|████████▎ | 4484/5424 [21:39<04:32,  3.45it/s]\u001b[A\n",
      " 83%|████████▎ | 4486/5424 [21:39<04:31,  3.45it/s]\u001b[A\n",
      " 83%|████████▎ | 4487/5424 [21:39<04:31,  3.45it/s]\u001b[A\n",
      " 83%|████████▎ | 4488/5424 [21:39<04:31,  3.45it/s]\u001b[A\n",
      " 83%|████████▎ | 4490/5424 [21:40<04:30,  3.45it/s]\u001b[A\n",
      " 83%|████████▎ | 4492/5424 [21:40<04:29,  3.45it/s]\u001b[A\n",
      " 83%|████████▎ | 4494/5424 [21:40<04:29,  3.46it/s]\u001b[A\n",
      " 83%|████████▎ | 4496/5424 [21:40<04:28,  3.46it/s]\u001b[A\n",
      " 83%|████████▎ | 4498/5424 [21:41<04:27,  3.46it/s]\u001b[A\n",
      " 83%|████████▎ | 4500/5424 [21:41<04:27,  3.46it/s]\u001b[A\n",
      " 83%|████████▎ | 4502/5424 [21:41<04:26,  3.46it/s]\u001b[A\n",
      " 83%|████████▎ | 4503/5424 [21:41<04:26,  3.46it/s]\u001b[A\n",
      " 83%|████████▎ | 4505/5424 [21:41<04:25,  3.46it/s]\u001b[A\n",
      " 83%|████████▎ | 4506/5424 [21:42<04:25,  3.46it/s]\u001b[A\n",
      " 83%|████████▎ | 4507/5424 [21:42<04:25,  3.46it/s]\u001b[A\n",
      " 83%|████████▎ | 4509/5424 [21:42<04:24,  3.46it/s]\u001b[A\n",
      " 83%|████████▎ | 4510/5424 [21:42<04:24,  3.46it/s]\u001b[A\n",
      " 83%|████████▎ | 4511/5424 [21:43<04:23,  3.46it/s]\u001b[A\n",
      " 83%|████████▎ | 4512/5424 [21:43<04:23,  3.46it/s]\u001b[A\n",
      " 83%|████████▎ | 4514/5424 [21:43<04:22,  3.46it/s]\u001b[A\n",
      " 83%|████████▎ | 4516/5424 [21:43<04:22,  3.46it/s]\u001b[A\n",
      " 83%|████████▎ | 4518/5424 [21:44<04:21,  3.46it/s]\u001b[A\n",
      " 83%|████████▎ | 4520/5424 [21:44<04:20,  3.46it/s]\u001b[A\n",
      " 83%|████████▎ | 4521/5424 [21:44<04:20,  3.46it/s]\u001b[A\n",
      " 83%|████████▎ | 4523/5424 [21:45<04:20,  3.47it/s]\u001b[A\n",
      " 83%|████████▎ | 4524/5424 [21:45<04:19,  3.46it/s]\u001b[A\n",
      " 83%|████████▎ | 4525/5424 [21:45<04:19,  3.46it/s]\u001b[A\n",
      " 83%|████████▎ | 4526/5424 [21:46<04:19,  3.47it/s]\u001b[A\n",
      " 83%|████████▎ | 4527/5424 [21:46<04:18,  3.47it/s]\u001b[A\n",
      " 83%|████████▎ | 4528/5424 [21:46<04:18,  3.47it/s]\u001b[A\n",
      " 83%|████████▎ | 4529/5424 [21:46<04:18,  3.47it/s]\u001b[A\n",
      " 84%|████████▎ | 4530/5424 [21:47<04:17,  3.47it/s]\u001b[A\n",
      " 84%|████████▎ | 4531/5424 [21:47<04:17,  3.47it/s]\u001b[A\n",
      " 84%|████████▎ | 4533/5424 [21:47<04:17,  3.47it/s]\u001b[A\n",
      " 84%|████████▎ | 4534/5424 [21:47<04:16,  3.47it/s]\u001b[A\n",
      " 84%|████████▎ | 4535/5424 [21:48<04:16,  3.47it/s]\u001b[A\n",
      " 84%|████████▎ | 4536/5424 [21:48<04:16,  3.47it/s]\u001b[A\n",
      " 84%|████████▎ | 4538/5424 [21:48<04:15,  3.47it/s]\u001b[A\n",
      " 84%|████████▎ | 4539/5424 [21:48<04:15,  3.47it/s]\u001b[A\n",
      " 84%|████████▎ | 4540/5424 [21:48<04:14,  3.47it/s]\u001b[A\n",
      " 84%|████████▎ | 4542/5424 [21:49<04:14,  3.47it/s]\u001b[A\n",
      " 84%|████████▍ | 4543/5424 [21:49<04:13,  3.47it/s]\u001b[A\n",
      " 84%|████████▍ | 4545/5424 [21:49<04:13,  3.47it/s]\u001b[A\n",
      " 84%|████████▍ | 4546/5424 [21:49<04:12,  3.47it/s]\u001b[A\n",
      " 84%|████████▍ | 4547/5424 [21:50<04:12,  3.47it/s]\u001b[A\n",
      " 84%|████████▍ | 4549/5424 [21:50<04:12,  3.47it/s]\u001b[A\n",
      " 84%|████████▍ | 4550/5424 [21:50<04:11,  3.47it/s]\u001b[A\n",
      " 84%|████████▍ | 4551/5424 [21:50<04:11,  3.47it/s]\u001b[A\n",
      " 84%|████████▍ | 4552/5424 [21:51<04:11,  3.47it/s]\u001b[A\n",
      " 84%|████████▍ | 4554/5424 [21:51<04:10,  3.47it/s]\u001b[A\n",
      " 84%|████████▍ | 4555/5424 [21:52<04:10,  3.47it/s]\u001b[A\n",
      " 84%|████████▍ | 4557/5424 [21:52<04:09,  3.47it/s]\u001b[A\n",
      " 84%|████████▍ | 4558/5424 [21:52<04:09,  3.47it/s]\u001b[A\n",
      " 84%|████████▍ | 4559/5424 [21:52<04:09,  3.47it/s]\u001b[A\n",
      " 84%|████████▍ | 4560/5424 [21:53<04:08,  3.47it/s]\u001b[A\n",
      " 84%|████████▍ | 4561/5424 [21:53<04:08,  3.47it/s]\u001b[A\n",
      " 84%|████████▍ | 4562/5424 [21:53<04:08,  3.47it/s]\u001b[A\n",
      " 84%|████████▍ | 4563/5424 [21:54<04:07,  3.47it/s]\u001b[A\n",
      " 84%|████████▍ | 4564/5424 [21:54<04:07,  3.47it/s]\u001b[A\n",
      " 84%|████████▍ | 4565/5424 [21:54<04:07,  3.47it/s]\u001b[A\n",
      " 84%|████████▍ | 4566/5424 [21:54<04:07,  3.47it/s]\u001b[A\n",
      " 84%|████████▍ | 4567/5424 [21:55<04:06,  3.47it/s]\u001b[A\n",
      " 84%|████████▍ | 4568/5424 [21:55<04:06,  3.47it/s]\u001b[A\n",
      " 84%|████████▍ | 4569/5424 [21:55<04:06,  3.47it/s]\u001b[A\n",
      " 84%|████████▍ | 4571/5424 [21:55<04:05,  3.47it/s]\u001b[A\n",
      " 84%|████████▍ | 4573/5424 [21:56<04:04,  3.47it/s]\u001b[A\n",
      " 84%|████████▍ | 4574/5424 [21:56<04:04,  3.47it/s]\u001b[A\n",
      " 84%|████████▍ | 4576/5424 [21:57<04:04,  3.47it/s]\u001b[A\n",
      " 84%|████████▍ | 4577/5424 [21:57<04:03,  3.47it/s]\u001b[A\n",
      " 84%|████████▍ | 4578/5424 [21:57<04:03,  3.47it/s]\u001b[A\n",
      " 84%|████████▍ | 4579/5424 [21:57<04:03,  3.47it/s]\u001b[A\n",
      " 84%|████████▍ | 4581/5424 [21:58<04:02,  3.48it/s]\u001b[A\n",
      " 84%|████████▍ | 4582/5424 [21:58<04:02,  3.48it/s]\u001b[A\n",
      " 84%|████████▍ | 4583/5424 [21:58<04:01,  3.48it/s]\u001b[A\n",
      " 85%|████████▍ | 4584/5424 [21:58<04:01,  3.48it/s]\u001b[A\n",
      " 85%|████████▍ | 4585/5424 [21:58<04:01,  3.48it/s]\u001b[A\n",
      " 85%|████████▍ | 4586/5424 [21:59<04:01,  3.48it/s]\u001b[A\n",
      " 85%|████████▍ | 4588/5424 [21:59<04:00,  3.48it/s]\u001b[A\n",
      " 85%|████████▍ | 4589/5424 [21:59<04:00,  3.48it/s]\u001b[A\n",
      " 85%|████████▍ | 4590/5424 [21:59<03:59,  3.48it/s]\u001b[A\n",
      " 85%|████████▍ | 4591/5424 [21:59<03:59,  3.48it/s]\u001b[A\n",
      " 85%|████████▍ | 4592/5424 [22:00<03:59,  3.48it/s]\u001b[A\n",
      " 85%|████████▍ | 4593/5424 [22:00<03:58,  3.48it/s]\u001b[A\n",
      " 85%|████████▍ | 4595/5424 [22:00<03:58,  3.48it/s]\u001b[A\n",
      " 85%|████████▍ | 4596/5424 [22:01<03:58,  3.48it/s]\u001b[A\n",
      " 85%|████████▍ | 4597/5424 [22:01<03:57,  3.48it/s]\u001b[A\n",
      " 85%|████████▍ | 4598/5424 [22:01<03:57,  3.48it/s]\u001b[A\n",
      " 85%|████████▍ | 4599/5424 [22:02<03:57,  3.48it/s]\u001b[A\n",
      " 85%|████████▍ | 4601/5424 [22:02<03:56,  3.48it/s]\u001b[A\n",
      " 85%|████████▍ | 4602/5424 [22:02<03:56,  3.48it/s]\u001b[A\n",
      " 85%|████████▍ | 4603/5424 [22:02<03:55,  3.48it/s]\u001b[A\n",
      " 85%|████████▍ | 4604/5424 [22:03<03:55,  3.48it/s]\u001b[A\n",
      " 85%|████████▍ | 4605/5424 [22:03<03:55,  3.48it/s]\u001b[A\n"
     ]
    },
    {
     "name": "stderr",
     "output_type": "stream",
     "text": [
      " 85%|████████▍ | 4606/5424 [22:03<03:55,  3.48it/s]\u001b[A\n",
      " 85%|████████▍ | 4607/5424 [22:03<03:54,  3.48it/s]\u001b[A\n",
      " 85%|████████▍ | 4608/5424 [22:04<03:54,  3.48it/s]\u001b[A\n",
      " 85%|████████▍ | 4609/5424 [22:04<03:54,  3.48it/s]\u001b[A\n",
      " 85%|████████▍ | 4610/5424 [22:04<03:53,  3.48it/s]\u001b[A\n",
      " 85%|████████▌ | 4611/5424 [22:04<03:53,  3.48it/s]\u001b[A\n",
      " 85%|████████▌ | 4612/5424 [22:04<03:53,  3.48it/s]\u001b[A\n",
      " 85%|████████▌ | 4614/5424 [22:04<03:52,  3.48it/s]\u001b[A\n",
      " 85%|████████▌ | 4615/5424 [22:04<03:52,  3.48it/s]\u001b[A\n",
      " 85%|████████▌ | 4616/5424 [22:05<03:51,  3.48it/s]\u001b[A\n",
      " 85%|████████▌ | 4618/5424 [22:05<03:51,  3.48it/s]\u001b[A\n",
      " 85%|████████▌ | 4620/5424 [22:05<03:50,  3.49it/s]\u001b[A\n",
      " 85%|████████▌ | 4621/5424 [22:05<03:50,  3.49it/s]\u001b[A\n",
      " 85%|████████▌ | 4623/5424 [22:05<03:49,  3.49it/s]\u001b[A\n",
      " 85%|████████▌ | 4624/5424 [22:06<03:49,  3.49it/s]\u001b[A\n",
      " 85%|████████▌ | 4626/5424 [22:06<03:48,  3.49it/s]\u001b[A\n",
      " 85%|████████▌ | 4627/5424 [22:06<03:48,  3.49it/s]\u001b[A\n",
      " 85%|████████▌ | 4629/5424 [22:06<03:47,  3.49it/s]\u001b[A\n",
      " 85%|████████▌ | 4631/5424 [22:07<03:47,  3.49it/s]\u001b[A\n",
      " 85%|████████▌ | 4632/5424 [22:07<03:47,  3.49it/s]\u001b[A\n",
      " 85%|████████▌ | 4633/5424 [22:08<03:46,  3.49it/s]\u001b[A\n",
      " 85%|████████▌ | 4634/5424 [22:08<03:46,  3.49it/s]\u001b[A\n",
      " 85%|████████▌ | 4635/5424 [22:08<03:46,  3.49it/s]\u001b[A\n",
      " 85%|████████▌ | 4636/5424 [22:09<03:45,  3.49it/s]\u001b[A\n",
      " 85%|████████▌ | 4637/5424 [22:09<03:45,  3.49it/s]\u001b[A\n",
      " 86%|████████▌ | 4638/5424 [22:09<03:45,  3.49it/s]\u001b[A\n",
      " 86%|████████▌ | 4639/5424 [22:10<03:45,  3.49it/s]\u001b[A\n",
      " 86%|████████▌ | 4640/5424 [22:10<03:44,  3.49it/s]\u001b[A\n",
      " 86%|████████▌ | 4641/5424 [22:10<03:44,  3.49it/s]\u001b[A\n",
      " 86%|████████▌ | 4642/5424 [22:11<03:44,  3.49it/s]\u001b[A\n",
      " 86%|████████▌ | 4643/5424 [22:11<03:43,  3.49it/s]\u001b[A\n",
      " 86%|████████▌ | 4644/5424 [22:11<03:43,  3.49it/s]\u001b[A\n",
      " 86%|████████▌ | 4645/5424 [22:12<03:43,  3.49it/s]\u001b[A\n",
      " 86%|████████▌ | 4646/5424 [22:12<03:43,  3.49it/s]\u001b[A\n",
      " 86%|████████▌ | 4647/5424 [22:12<03:42,  3.49it/s]\u001b[A\n",
      " 86%|████████▌ | 4648/5424 [22:12<03:42,  3.49it/s]\u001b[A\n",
      " 86%|████████▌ | 4649/5424 [22:13<03:42,  3.49it/s]\u001b[A\n",
      " 86%|████████▌ | 4650/5424 [22:13<03:41,  3.49it/s]\u001b[A\n",
      " 86%|████████▌ | 4652/5424 [22:13<03:41,  3.49it/s]\u001b[A\n",
      " 86%|████████▌ | 4654/5424 [22:14<03:40,  3.49it/s]\u001b[A\n",
      " 86%|████████▌ | 4656/5424 [22:14<03:40,  3.49it/s]\u001b[A\n",
      " 86%|████████▌ | 4658/5424 [22:15<03:39,  3.49it/s]\u001b[A\n",
      " 86%|████████▌ | 4659/5424 [22:15<03:39,  3.49it/s]\u001b[A\n",
      " 86%|████████▌ | 4661/5424 [22:15<03:38,  3.49it/s]\u001b[A\n",
      " 86%|████████▌ | 4663/5424 [22:15<03:38,  3.49it/s]\u001b[A\n",
      " 86%|████████▌ | 4664/5424 [22:16<03:37,  3.49it/s]\u001b[A\n",
      " 86%|████████▌ | 4665/5424 [22:16<03:37,  3.49it/s]\u001b[A\n",
      " 86%|████████▌ | 4666/5424 [22:16<03:37,  3.49it/s]\u001b[A\n",
      " 86%|████████▌ | 4667/5424 [22:16<03:36,  3.49it/s]\u001b[A\n",
      " 86%|████████▌ | 4668/5424 [22:17<03:36,  3.49it/s]\u001b[A\n",
      " 86%|████████▌ | 4669/5424 [22:17<03:36,  3.49it/s]\u001b[A\n",
      " 86%|████████▌ | 4671/5424 [22:17<03:35,  3.49it/s]\u001b[A\n",
      " 86%|████████▌ | 4672/5424 [22:18<03:35,  3.49it/s]\u001b[A\n",
      " 86%|████████▌ | 4673/5424 [22:18<03:35,  3.49it/s]\u001b[A\n",
      " 86%|████████▌ | 4674/5424 [22:18<03:34,  3.49it/s]\u001b[A\n",
      " 86%|████████▌ | 4675/5424 [22:18<03:34,  3.49it/s]\u001b[A\n",
      " 86%|████████▌ | 4676/5424 [22:19<03:34,  3.49it/s]\u001b[A\n",
      " 86%|████████▌ | 4677/5424 [22:19<03:33,  3.49it/s]\u001b[A\n",
      " 86%|████████▋ | 4679/5424 [22:19<03:33,  3.49it/s]\u001b[A\n",
      " 86%|████████▋ | 4680/5424 [22:20<03:33,  3.49it/s]\u001b[A\n",
      " 86%|████████▋ | 4681/5424 [22:20<03:32,  3.49it/s]\u001b[A\n",
      " 86%|████████▋ | 4683/5424 [22:20<03:32,  3.49it/s]\u001b[A\n",
      " 86%|████████▋ | 4684/5424 [22:21<03:31,  3.49it/s]\u001b[A\n",
      " 86%|████████▋ | 4685/5424 [22:21<03:31,  3.49it/s]\u001b[A\n",
      " 86%|████████▋ | 4687/5424 [22:21<03:30,  3.49it/s]\u001b[A\n",
      " 86%|████████▋ | 4688/5424 [22:21<03:30,  3.49it/s]\u001b[A\n",
      " 86%|████████▋ | 4690/5424 [22:21<03:29,  3.50it/s]\u001b[A\n",
      " 87%|████████▋ | 4692/5424 [22:21<03:29,  3.50it/s]\u001b[A\n",
      " 87%|████████▋ | 4693/5424 [22:22<03:29,  3.50it/s]\u001b[A\n",
      " 87%|████████▋ | 4695/5424 [22:22<03:28,  3.50it/s]\u001b[A\n",
      " 87%|████████▋ | 4696/5424 [22:22<03:28,  3.50it/s]\u001b[A\n",
      " 87%|████████▋ | 4698/5424 [22:22<03:27,  3.50it/s]\u001b[A\n",
      " 87%|████████▋ | 4699/5424 [22:23<03:27,  3.50it/s]\u001b[A\n",
      " 87%|████████▋ | 4700/5424 [22:23<03:26,  3.50it/s]\u001b[A\n",
      " 87%|████████▋ | 4702/5424 [22:23<03:26,  3.50it/s]\u001b[A\n",
      " 87%|████████▋ | 4704/5424 [22:24<03:25,  3.50it/s]\u001b[A\n",
      " 87%|████████▋ | 4707/5424 [22:24<03:24,  3.50it/s]\u001b[A\n",
      " 87%|████████▋ | 4708/5424 [22:24<03:24,  3.50it/s]\u001b[A\n",
      " 87%|████████▋ | 4709/5424 [22:24<03:24,  3.50it/s]\u001b[A\n",
      " 87%|████████▋ | 4711/5424 [22:24<03:23,  3.50it/s]\u001b[A\n",
      " 87%|████████▋ | 4713/5424 [22:25<03:22,  3.50it/s]\u001b[A\n",
      " 87%|████████▋ | 4714/5424 [22:25<03:22,  3.50it/s]\u001b[A\n",
      " 87%|████████▋ | 4715/5424 [22:25<03:22,  3.50it/s]\u001b[A\n",
      " 87%|████████▋ | 4716/5424 [22:25<03:22,  3.50it/s]\u001b[A\n",
      " 87%|████████▋ | 4717/5424 [22:26<03:21,  3.50it/s]\u001b[A\n",
      " 87%|████████▋ | 4719/5424 [22:26<03:21,  3.50it/s]\u001b[A\n",
      " 87%|████████▋ | 4720/5424 [22:26<03:20,  3.50it/s]\u001b[A\n",
      " 87%|████████▋ | 4721/5424 [22:27<03:20,  3.50it/s]\u001b[A\n",
      " 87%|████████▋ | 4723/5424 [22:27<03:19,  3.51it/s]\u001b[A\n",
      " 87%|████████▋ | 4724/5424 [22:27<03:19,  3.50it/s]\u001b[A\n",
      " 87%|████████▋ | 4725/5424 [22:28<03:19,  3.51it/s]\u001b[A\n",
      " 87%|████████▋ | 4727/5424 [22:28<03:18,  3.51it/s]\u001b[A\n",
      " 87%|████████▋ | 4728/5424 [22:28<03:18,  3.51it/s]\u001b[A\n",
      " 87%|████████▋ | 4729/5424 [22:28<03:18,  3.51it/s]\u001b[A\n",
      " 87%|████████▋ | 4730/5424 [22:29<03:17,  3.51it/s]\u001b[A\n",
      " 87%|████████▋ | 4731/5424 [22:29<03:17,  3.51it/s]\u001b[A\n",
      " 87%|████████▋ | 4732/5424 [22:29<03:17,  3.51it/s]\u001b[A\n",
      " 87%|████████▋ | 4733/5424 [22:29<03:17,  3.51it/s]\u001b[A\n",
      " 87%|████████▋ | 4734/5424 [22:30<03:16,  3.51it/s]\u001b[A\n",
      " 87%|████████▋ | 4735/5424 [22:30<03:16,  3.51it/s]\u001b[A\n",
      " 87%|████████▋ | 4736/5424 [22:30<03:16,  3.51it/s]\u001b[A\n",
      " 87%|████████▋ | 4737/5424 [22:30<03:15,  3.51it/s]\u001b[A\n",
      " 87%|████████▋ | 4738/5424 [22:30<03:15,  3.51it/s]\u001b[A\n",
      " 87%|████████▋ | 4739/5424 [22:30<03:15,  3.51it/s]\u001b[A\n",
      " 87%|████████▋ | 4741/5424 [22:31<03:14,  3.51it/s]\u001b[A\n",
      " 87%|████████▋ | 4742/5424 [22:31<03:14,  3.51it/s]\u001b[A\n",
      " 87%|████████▋ | 4743/5424 [22:31<03:14,  3.51it/s]\u001b[A\n",
      " 87%|████████▋ | 4745/5424 [22:31<03:13,  3.51it/s]\u001b[A\n",
      " 88%|████████▊ | 4746/5424 [22:32<03:13,  3.51it/s]\u001b[A\n",
      " 88%|████████▊ | 4747/5424 [22:32<03:12,  3.51it/s]\u001b[A\n",
      " 88%|████████▊ | 4748/5424 [22:32<03:12,  3.51it/s]\u001b[A\n",
      " 88%|████████▊ | 4749/5424 [22:32<03:12,  3.51it/s]\u001b[A\n",
      " 88%|████████▊ | 4751/5424 [22:33<03:11,  3.51it/s]\u001b[A\n",
      " 88%|████████▊ | 4753/5424 [22:33<03:11,  3.51it/s]\u001b[A\n",
      " 88%|████████▊ | 4754/5424 [22:33<03:10,  3.51it/s]\u001b[A\n",
      " 88%|████████▊ | 4756/5424 [22:34<03:10,  3.51it/s]\u001b[A\n",
      " 88%|████████▊ | 4757/5424 [22:34<03:09,  3.51it/s]\u001b[A\n",
      " 88%|████████▊ | 4758/5424 [22:34<03:09,  3.51it/s]\u001b[A\n",
      " 88%|████████▊ | 4759/5424 [22:35<03:09,  3.51it/s]\u001b[A\n",
      " 88%|████████▊ | 4760/5424 [22:35<03:09,  3.51it/s]\u001b[A\n",
      " 88%|████████▊ | 4761/5424 [22:35<03:08,  3.51it/s]\u001b[A\n",
      " 88%|████████▊ | 4762/5424 [22:35<03:08,  3.51it/s]\u001b[A\n",
      " 88%|████████▊ | 4763/5424 [22:36<03:08,  3.51it/s]\u001b[A\n",
      " 88%|████████▊ | 4765/5424 [22:36<03:07,  3.51it/s]\u001b[A\n",
      " 88%|████████▊ | 4767/5424 [22:36<03:06,  3.51it/s]\u001b[A\n",
      " 88%|████████▊ | 4768/5424 [22:37<03:06,  3.51it/s]\u001b[A\n",
      " 88%|████████▊ | 4769/5424 [22:37<03:06,  3.51it/s]\u001b[A\n",
      " 88%|████████▊ | 4770/5424 [22:37<03:06,  3.51it/s]\u001b[A\n",
      " 88%|████████▊ | 4771/5424 [22:37<03:05,  3.51it/s]\u001b[A\n",
      " 88%|████████▊ | 4773/5424 [22:38<03:05,  3.51it/s]\u001b[A\n",
      " 88%|████████▊ | 4774/5424 [22:38<03:04,  3.51it/s]\u001b[A\n",
      " 88%|████████▊ | 4776/5424 [22:38<03:04,  3.51it/s]\u001b[A\n",
      " 88%|████████▊ | 4778/5424 [22:39<03:03,  3.52it/s]\u001b[A\n",
      " 88%|████████▊ | 4780/5424 [22:39<03:03,  3.52it/s]\u001b[A\n",
      " 88%|████████▊ | 4781/5424 [22:39<03:02,  3.52it/s]\u001b[A\n",
      " 88%|████████▊ | 4782/5424 [22:40<03:02,  3.52it/s]\u001b[A\n",
      " 88%|████████▊ | 4784/5424 [22:40<03:02,  3.52it/s]\u001b[A\n",
      " 88%|████████▊ | 4785/5424 [22:40<03:01,  3.52it/s]\u001b[A\n",
      " 88%|████████▊ | 4786/5424 [22:40<03:01,  3.52it/s]\u001b[A\n",
      " 88%|████████▊ | 4787/5424 [22:41<03:01,  3.52it/s]\u001b[A\n",
      " 88%|████████▊ | 4788/5424 [22:41<03:00,  3.52it/s]\u001b[A\n",
      " 88%|████████▊ | 4789/5424 [22:41<03:00,  3.52it/s]\u001b[A\n",
      " 88%|████████▊ | 4790/5424 [22:41<03:00,  3.52it/s]\u001b[A\n",
      " 88%|████████▊ | 4791/5424 [22:42<02:59,  3.52it/s]\u001b[A\n",
      " 88%|████████▊ | 4792/5424 [22:42<02:59,  3.52it/s]\u001b[A\n",
      " 88%|████████▊ | 4793/5424 [22:42<02:59,  3.52it/s]\u001b[A\n",
      " 88%|████████▊ | 4794/5424 [22:42<02:59,  3.52it/s]\u001b[A\n",
      " 88%|████████▊ | 4795/5424 [22:43<02:58,  3.52it/s]\u001b[A\n"
     ]
    },
    {
     "name": "stderr",
     "output_type": "stream",
     "text": [
      " 88%|████████▊ | 4796/5424 [22:43<02:58,  3.52it/s]\u001b[A\n",
      " 88%|████████▊ | 4798/5424 [22:43<02:57,  3.52it/s]\u001b[A\n",
      " 88%|████████▊ | 4799/5424 [22:44<02:57,  3.52it/s]\u001b[A\n",
      " 88%|████████▊ | 4800/5424 [22:44<02:57,  3.52it/s]\u001b[A\n",
      " 89%|████████▊ | 4801/5424 [22:44<02:57,  3.52it/s]\u001b[A\n",
      " 89%|████████▊ | 4802/5424 [22:44<02:56,  3.52it/s]\u001b[A\n",
      " 89%|████████▊ | 4803/5424 [22:45<02:56,  3.52it/s]\u001b[A\n",
      " 89%|████████▊ | 4805/5424 [22:45<02:55,  3.52it/s]\u001b[A\n",
      " 89%|████████▊ | 4806/5424 [22:45<02:55,  3.52it/s]\u001b[A\n",
      " 89%|████████▊ | 4807/5424 [22:45<02:55,  3.52it/s]\u001b[A\n",
      " 89%|████████▊ | 4808/5424 [22:46<02:55,  3.52it/s]\u001b[A\n",
      " 89%|████████▊ | 4810/5424 [22:46<02:54,  3.52it/s]\u001b[A\n",
      " 89%|████████▊ | 4812/5424 [22:46<02:53,  3.52it/s]\u001b[A\n",
      " 89%|████████▉ | 4814/5424 [22:47<02:53,  3.52it/s]\u001b[A\n",
      " 89%|████████▉ | 4816/5424 [22:47<02:52,  3.52it/s]\u001b[A\n",
      " 89%|████████▉ | 4818/5424 [22:47<02:52,  3.52it/s]\u001b[A\n",
      " 89%|████████▉ | 4819/5424 [22:47<02:51,  3.52it/s]\u001b[A\n",
      " 89%|████████▉ | 4820/5424 [22:48<02:51,  3.52it/s]\u001b[A\n",
      " 89%|████████▉ | 4822/5424 [22:48<02:50,  3.52it/s]\u001b[A\n",
      " 89%|████████▉ | 4823/5424 [22:48<02:50,  3.52it/s]\u001b[A\n",
      " 89%|████████▉ | 4825/5424 [22:48<02:49,  3.52it/s]\u001b[A\n",
      " 89%|████████▉ | 4827/5424 [22:49<02:49,  3.53it/s]\u001b[A\n",
      " 89%|████████▉ | 4829/5424 [22:49<02:48,  3.53it/s]\u001b[A\n",
      " 89%|████████▉ | 4830/5424 [22:49<02:48,  3.53it/s]\u001b[A\n",
      " 89%|████████▉ | 4831/5424 [22:49<02:48,  3.53it/s]\u001b[A\n",
      " 89%|████████▉ | 4832/5424 [22:50<02:47,  3.53it/s]\u001b[A\n",
      " 89%|████████▉ | 4833/5424 [22:50<02:47,  3.53it/s]\u001b[A\n",
      " 89%|████████▉ | 4834/5424 [22:50<02:47,  3.53it/s]\u001b[A\n",
      " 89%|████████▉ | 4835/5424 [22:50<02:47,  3.53it/s]\u001b[A\n",
      " 89%|████████▉ | 4836/5424 [22:51<02:46,  3.53it/s]\u001b[A\n",
      " 89%|████████▉ | 4837/5424 [22:51<02:46,  3.53it/s]\u001b[A\n",
      " 89%|████████▉ | 4838/5424 [22:52<02:46,  3.53it/s]\u001b[A\n",
      " 89%|████████▉ | 4840/5424 [22:52<02:45,  3.53it/s]\u001b[A\n",
      " 89%|████████▉ | 4841/5424 [22:52<02:45,  3.53it/s]\u001b[A\n",
      " 89%|████████▉ | 4842/5424 [22:52<02:44,  3.53it/s]\u001b[A\n",
      " 89%|████████▉ | 4844/5424 [22:53<02:44,  3.53it/s]\u001b[A\n",
      " 89%|████████▉ | 4845/5424 [22:53<02:44,  3.53it/s]\u001b[A\n",
      " 89%|████████▉ | 4847/5424 [22:53<02:43,  3.53it/s]\u001b[A\n",
      " 89%|████████▉ | 4849/5424 [22:53<02:42,  3.53it/s]\u001b[A\n",
      " 89%|████████▉ | 4850/5424 [22:53<02:42,  3.53it/s]\u001b[A\n",
      " 89%|████████▉ | 4851/5424 [22:54<02:42,  3.53it/s]\u001b[A\n",
      " 89%|████████▉ | 4852/5424 [22:54<02:42,  3.53it/s]\u001b[A\n",
      " 89%|████████▉ | 4853/5424 [22:54<02:41,  3.53it/s]\u001b[A\n",
      " 89%|████████▉ | 4854/5424 [22:55<02:41,  3.53it/s]\u001b[A\n",
      " 90%|████████▉ | 4855/5424 [22:55<02:41,  3.53it/s]\u001b[A\n",
      " 90%|████████▉ | 4856/5424 [22:55<02:40,  3.53it/s]\u001b[A\n",
      " 90%|████████▉ | 4857/5424 [22:55<02:40,  3.53it/s]\u001b[A\n",
      " 90%|████████▉ | 4858/5424 [22:56<02:40,  3.53it/s]\u001b[A\n",
      " 90%|████████▉ | 4859/5424 [22:56<02:40,  3.53it/s]\u001b[A\n",
      " 90%|████████▉ | 4860/5424 [22:56<02:39,  3.53it/s]\u001b[A\n",
      " 90%|████████▉ | 4861/5424 [22:56<02:39,  3.53it/s]\u001b[A\n",
      " 90%|████████▉ | 4862/5424 [22:56<02:39,  3.53it/s]\u001b[A\n",
      " 90%|████████▉ | 4863/5424 [22:57<02:38,  3.53it/s]\u001b[A\n",
      " 90%|████████▉ | 4864/5424 [22:57<02:38,  3.53it/s]\u001b[A\n",
      " 90%|████████▉ | 4865/5424 [22:57<02:38,  3.53it/s]\u001b[A\n",
      " 90%|████████▉ | 4867/5424 [22:57<02:37,  3.53it/s]\u001b[A\n",
      " 90%|████████▉ | 4868/5424 [22:58<02:37,  3.53it/s]\u001b[A\n",
      " 90%|████████▉ | 4869/5424 [22:58<02:37,  3.53it/s]\u001b[A\n",
      " 90%|████████▉ | 4870/5424 [22:58<02:36,  3.53it/s]\u001b[A\n",
      " 90%|████████▉ | 4872/5424 [22:59<02:36,  3.53it/s]\u001b[A\n",
      " 90%|████████▉ | 4873/5424 [22:59<02:35,  3.53it/s]\u001b[A\n",
      " 90%|████████▉ | 4875/5424 [22:59<02:35,  3.53it/s]\u001b[A\n",
      " 90%|████████▉ | 4877/5424 [22:59<02:34,  3.53it/s]\u001b[A\n",
      " 90%|████████▉ | 4878/5424 [23:00<02:34,  3.53it/s]\u001b[A\n",
      " 90%|████████▉ | 4879/5424 [23:00<02:34,  3.54it/s]\u001b[A\n",
      " 90%|████████▉ | 4880/5424 [23:00<02:33,  3.54it/s]\u001b[A\n",
      " 90%|█████████ | 4882/5424 [23:00<02:33,  3.54it/s]\u001b[A\n",
      " 90%|█████████ | 4883/5424 [23:00<02:32,  3.54it/s]\u001b[A\n",
      " 90%|█████████ | 4884/5424 [23:01<02:32,  3.54it/s]\u001b[A\n",
      " 90%|█████████ | 4885/5424 [23:01<02:32,  3.54it/s]\u001b[A\n",
      " 90%|█████████ | 4886/5424 [23:01<02:32,  3.54it/s]\u001b[A\n",
      " 90%|█████████ | 4887/5424 [23:01<02:31,  3.54it/s]\u001b[A\n",
      " 90%|█████████ | 4888/5424 [23:01<02:31,  3.54it/s]\u001b[A\n",
      " 90%|█████████ | 4890/5424 [23:02<02:30,  3.54it/s]\u001b[A\n",
      " 90%|█████████ | 4891/5424 [23:02<02:30,  3.54it/s]\u001b[A\n",
      " 90%|█████████ | 4892/5424 [23:02<02:30,  3.54it/s]\u001b[A\n",
      " 90%|█████████ | 4893/5424 [23:02<02:30,  3.54it/s]\u001b[A\n",
      " 90%|█████████ | 4894/5424 [23:03<02:29,  3.54it/s]\u001b[A\n",
      " 90%|█████████ | 4895/5424 [23:03<02:29,  3.54it/s]\u001b[A\n",
      " 90%|█████████ | 4896/5424 [23:04<02:29,  3.54it/s]\u001b[A\n",
      " 90%|█████████ | 4897/5424 [23:04<02:28,  3.54it/s]\u001b[A\n",
      " 90%|█████████ | 4898/5424 [23:04<02:28,  3.54it/s]\u001b[A\n",
      " 90%|█████████ | 4899/5424 [23:04<02:28,  3.54it/s]\u001b[A\n",
      " 90%|█████████ | 4900/5424 [23:04<02:28,  3.54it/s]\u001b[A\n",
      " 90%|█████████ | 4901/5424 [23:05<02:27,  3.54it/s]\u001b[A\n",
      " 90%|█████████ | 4902/5424 [23:05<02:27,  3.54it/s]\u001b[A\n",
      " 90%|█████████ | 4903/5424 [23:05<02:27,  3.54it/s]\u001b[A\n",
      " 90%|█████████ | 4904/5424 [23:05<02:26,  3.54it/s]\u001b[A\n",
      " 90%|█████████ | 4905/5424 [23:06<02:26,  3.54it/s]\u001b[A\n",
      " 90%|█████████ | 4906/5424 [23:06<02:26,  3.54it/s]\u001b[A\n",
      " 90%|█████████ | 4907/5424 [23:06<02:26,  3.54it/s]\u001b[A\n",
      " 90%|█████████ | 4908/5424 [23:06<02:25,  3.54it/s]\u001b[A\n",
      " 91%|█████████ | 4909/5424 [23:07<02:25,  3.54it/s]\u001b[A\n",
      " 91%|█████████ | 4910/5424 [23:07<02:25,  3.54it/s]\u001b[A\n",
      " 91%|█████████ | 4911/5424 [23:07<02:24,  3.54it/s]\u001b[A\n",
      " 91%|█████████ | 4912/5424 [23:07<02:24,  3.54it/s]\u001b[A\n",
      " 91%|█████████ | 4913/5424 [23:08<02:24,  3.54it/s]\u001b[A\n",
      " 91%|█████████ | 4914/5424 [23:08<02:24,  3.54it/s]\u001b[A\n",
      " 91%|█████████ | 4915/5424 [23:08<02:23,  3.54it/s]\u001b[A\n",
      " 91%|█████████ | 4916/5424 [23:08<02:23,  3.54it/s]\u001b[A\n",
      " 91%|█████████ | 4917/5424 [23:09<02:23,  3.54it/s]\u001b[A\n",
      " 91%|█████████ | 4918/5424 [23:09<02:22,  3.54it/s]\u001b[A\n",
      " 91%|█████████ | 4919/5424 [23:09<02:22,  3.54it/s]\u001b[A\n",
      " 91%|█████████ | 4921/5424 [23:09<02:22,  3.54it/s]\u001b[A\n",
      " 91%|█████████ | 4922/5424 [23:10<02:21,  3.54it/s]\u001b[A\n",
      " 91%|█████████ | 4923/5424 [23:10<02:21,  3.54it/s]\u001b[A\n",
      " 91%|█████████ | 4924/5424 [23:10<02:21,  3.54it/s]\u001b[A\n",
      " 91%|█████████ | 4925/5424 [23:11<02:20,  3.54it/s]\u001b[A\n",
      " 91%|█████████ | 4926/5424 [23:11<02:20,  3.54it/s]\u001b[A\n",
      " 91%|█████████ | 4927/5424 [23:11<02:20,  3.54it/s]\u001b[A\n",
      " 91%|█████████ | 4929/5424 [23:11<02:19,  3.54it/s]\u001b[A\n",
      " 91%|█████████ | 4930/5424 [23:11<02:19,  3.54it/s]\u001b[A\n",
      " 91%|█████████ | 4932/5424 [23:12<02:18,  3.54it/s]\u001b[A\n",
      " 91%|█████████ | 4933/5424 [23:12<02:18,  3.54it/s]\u001b[A\n",
      " 91%|█████████ | 4934/5424 [23:12<02:18,  3.54it/s]\u001b[A\n",
      " 91%|█████████ | 4935/5424 [23:12<02:18,  3.54it/s]\u001b[A\n",
      " 91%|█████████ | 4937/5424 [23:12<02:17,  3.54it/s]\u001b[A\n",
      " 91%|█████████ | 4938/5424 [23:13<02:17,  3.54it/s]\u001b[A\n",
      " 91%|█████████ | 4940/5424 [23:13<02:16,  3.55it/s]\u001b[A\n",
      " 91%|█████████ | 4941/5424 [23:13<02:16,  3.55it/s]\u001b[A\n",
      " 91%|█████████ | 4942/5424 [23:14<02:15,  3.54it/s]\u001b[A\n",
      " 91%|█████████ | 4943/5424 [23:14<02:15,  3.54it/s]\u001b[A\n",
      " 91%|█████████ | 4944/5424 [23:14<02:15,  3.54it/s]\u001b[A\n",
      " 91%|█████████ | 4946/5424 [23:15<02:14,  3.54it/s]\u001b[A\n",
      " 91%|█████████ | 4947/5424 [23:15<02:14,  3.55it/s]\u001b[A\n",
      " 91%|█████████ | 4948/5424 [23:15<02:14,  3.54it/s]\u001b[A\n",
      " 91%|█████████ | 4949/5424 [23:15<02:13,  3.55it/s]\u001b[A\n",
      " 91%|█████████▏| 4950/5424 [23:16<02:13,  3.55it/s]\u001b[A\n",
      " 91%|█████████▏| 4951/5424 [23:16<02:13,  3.55it/s]\u001b[A\n",
      " 91%|█████████▏| 4953/5424 [23:17<02:12,  3.55it/s]\u001b[A\n",
      " 91%|█████████▏| 4954/5424 [23:17<02:12,  3.55it/s]\u001b[A\n",
      " 91%|█████████▏| 4955/5424 [23:17<02:12,  3.55it/s]\u001b[A\n",
      " 91%|█████████▏| 4956/5424 [23:17<02:12,  3.55it/s]\u001b[A\n",
      " 91%|█████████▏| 4957/5424 [23:18<02:11,  3.55it/s]\u001b[A\n",
      " 91%|█████████▏| 4958/5424 [23:18<02:11,  3.55it/s]\u001b[A\n",
      " 91%|█████████▏| 4959/5424 [23:18<02:11,  3.54it/s]\u001b[A\n",
      " 91%|█████████▏| 4960/5424 [23:19<02:10,  3.54it/s]\u001b[A\n",
      " 91%|█████████▏| 4962/5424 [23:19<02:10,  3.55it/s]\u001b[A\n",
      " 92%|█████████▏| 4963/5424 [23:19<02:10,  3.55it/s]\u001b[A\n",
      " 92%|█████████▏| 4964/5424 [23:19<02:09,  3.55it/s]\u001b[A\n",
      " 92%|█████████▏| 4965/5424 [23:20<02:09,  3.55it/s]\u001b[A\n",
      " 92%|█████████▏| 4966/5424 [23:20<02:09,  3.55it/s]\u001b[A\n",
      " 92%|█████████▏| 4967/5424 [23:20<02:08,  3.55it/s]\u001b[A\n",
      " 92%|█████████▏| 4968/5424 [23:21<02:08,  3.55it/s]\u001b[A\n",
      " 92%|█████████▏| 4969/5424 [23:21<02:08,  3.55it/s]\u001b[A\n",
      " 92%|█████████▏| 4970/5424 [23:21<02:08,  3.55it/s]\u001b[A\n",
      " 92%|█████████▏| 4971/5424 [23:21<02:07,  3.55it/s]\u001b[A\n",
      " 92%|█████████▏| 4972/5424 [23:22<02:07,  3.55it/s]\u001b[A\n"
     ]
    },
    {
     "name": "stderr",
     "output_type": "stream",
     "text": [
      " 92%|█████████▏| 4973/5424 [23:22<02:07,  3.55it/s]\u001b[A\n",
      " 92%|█████████▏| 4975/5424 [23:22<02:06,  3.55it/s]\u001b[A\n",
      " 92%|█████████▏| 4976/5424 [23:22<02:06,  3.55it/s]\u001b[A\n",
      " 92%|█████████▏| 4977/5424 [23:23<02:06,  3.55it/s]\u001b[A\n",
      " 92%|█████████▏| 4978/5424 [23:23<02:05,  3.55it/s]\u001b[A\n",
      " 92%|█████████▏| 4979/5424 [23:23<02:05,  3.55it/s]\u001b[A\n",
      " 92%|█████████▏| 4981/5424 [23:23<02:04,  3.55it/s]\u001b[A\n",
      " 92%|█████████▏| 4982/5424 [23:23<02:04,  3.55it/s]\u001b[A\n",
      " 92%|█████████▏| 4983/5424 [23:24<02:04,  3.55it/s]\u001b[A\n",
      " 92%|█████████▏| 4985/5424 [23:24<02:03,  3.55it/s]\u001b[A\n",
      " 92%|█████████▏| 4986/5424 [23:24<02:03,  3.55it/s]\u001b[A\n",
      " 92%|█████████▏| 4988/5424 [23:24<02:02,  3.55it/s]\u001b[A\n",
      " 92%|█████████▏| 4989/5424 [23:25<02:02,  3.55it/s]\u001b[A\n",
      " 92%|█████████▏| 4990/5424 [23:25<02:02,  3.55it/s]\u001b[A\n",
      " 92%|█████████▏| 4992/5424 [23:25<02:01,  3.55it/s]\u001b[A\n",
      " 92%|█████████▏| 4993/5424 [23:25<02:01,  3.55it/s]\u001b[A\n",
      " 92%|█████████▏| 4995/5424 [23:25<02:00,  3.55it/s]\u001b[A\n",
      " 92%|█████████▏| 4996/5424 [23:26<02:00,  3.55it/s]\u001b[A\n",
      " 92%|█████████▏| 4997/5424 [23:26<02:00,  3.55it/s]\u001b[A\n",
      " 92%|█████████▏| 4998/5424 [23:26<01:59,  3.55it/s]\u001b[A\n",
      " 92%|█████████▏| 4999/5424 [23:26<01:59,  3.55it/s]\u001b[A\n",
      " 92%|█████████▏| 5000/5424 [23:27<01:59,  3.55it/s]\u001b[A\n",
      " 92%|█████████▏| 5001/5424 [23:27<01:59,  3.55it/s]\u001b[A\n",
      " 92%|█████████▏| 5003/5424 [23:27<01:58,  3.55it/s]\u001b[A\n",
      " 92%|█████████▏| 5004/5424 [23:27<01:58,  3.55it/s]\u001b[A\n",
      " 92%|█████████▏| 5005/5424 [23:28<01:57,  3.55it/s]\u001b[A\n",
      " 92%|█████████▏| 5007/5424 [23:28<01:57,  3.55it/s]\u001b[A\n",
      " 92%|█████████▏| 5008/5424 [23:28<01:57,  3.55it/s]\u001b[A\n",
      " 92%|█████████▏| 5010/5424 [23:29<01:56,  3.56it/s]\u001b[A\n",
      " 92%|█████████▏| 5011/5424 [23:29<01:56,  3.56it/s]\u001b[A\n",
      " 92%|█████████▏| 5012/5424 [23:29<01:55,  3.56it/s]\u001b[A\n",
      " 92%|█████████▏| 5014/5424 [23:30<01:55,  3.56it/s]\u001b[A\n",
      " 92%|█████████▏| 5015/5424 [23:30<01:55,  3.56it/s]\u001b[A\n",
      " 92%|█████████▏| 5017/5424 [23:30<01:54,  3.56it/s]\u001b[A\n",
      " 93%|█████████▎| 5018/5424 [23:30<01:54,  3.56it/s]\u001b[A\n",
      " 93%|█████████▎| 5019/5424 [23:31<01:53,  3.56it/s]\u001b[A\n",
      " 93%|█████████▎| 5021/5424 [23:31<01:53,  3.56it/s]\u001b[A\n",
      " 93%|█████████▎| 5023/5424 [23:32<01:52,  3.56it/s]\u001b[A\n",
      " 93%|█████████▎| 5024/5424 [23:32<01:52,  3.56it/s]\u001b[A\n",
      " 93%|█████████▎| 5025/5424 [23:32<01:52,  3.56it/s]\u001b[A\n",
      " 93%|█████████▎| 5026/5424 [23:32<01:51,  3.56it/s]\u001b[A\n",
      " 93%|█████████▎| 5027/5424 [23:32<01:51,  3.56it/s]\u001b[A\n",
      " 93%|█████████▎| 5028/5424 [23:33<01:51,  3.56it/s]\u001b[A\n",
      " 93%|█████████▎| 5029/5424 [23:33<01:51,  3.56it/s]\u001b[A\n",
      " 93%|█████████▎| 5030/5424 [23:33<01:50,  3.56it/s]\u001b[A\n",
      " 93%|█████████▎| 5031/5424 [23:33<01:50,  3.56it/s]\u001b[A\n",
      " 93%|█████████▎| 5032/5424 [23:33<01:50,  3.56it/s]\u001b[A\n",
      " 93%|█████████▎| 5033/5424 [23:34<01:49,  3.56it/s]\u001b[A\n",
      " 93%|█████████▎| 5034/5424 [23:34<01:49,  3.56it/s]\u001b[A\n",
      " 93%|█████████▎| 5035/5424 [23:34<01:49,  3.56it/s]\u001b[A\n",
      " 93%|█████████▎| 5036/5424 [23:34<01:49,  3.56it/s]\u001b[A\n",
      " 93%|█████████▎| 5037/5424 [23:35<01:48,  3.56it/s]\u001b[A\n",
      " 93%|█████████▎| 5038/5424 [23:35<01:48,  3.56it/s]\u001b[A\n",
      " 93%|█████████▎| 5040/5424 [23:35<01:47,  3.56it/s]\u001b[A\n",
      " 93%|█████████▎| 5042/5424 [23:36<01:47,  3.56it/s]\u001b[A\n",
      " 93%|█████████▎| 5043/5424 [23:36<01:46,  3.56it/s]\u001b[A\n",
      " 93%|█████████▎| 5044/5424 [23:36<01:46,  3.56it/s]\u001b[A\n",
      " 93%|█████████▎| 5045/5424 [23:36<01:46,  3.56it/s]\u001b[A\n",
      " 93%|█████████▎| 5047/5424 [23:36<01:45,  3.56it/s]\u001b[A\n",
      " 93%|█████████▎| 5048/5424 [23:36<01:45,  3.56it/s]\u001b[A\n",
      " 93%|█████████▎| 5049/5424 [23:37<01:45,  3.56it/s]\u001b[A\n",
      " 93%|█████████▎| 5051/5424 [23:37<01:44,  3.56it/s]\u001b[A\n",
      " 93%|█████████▎| 5052/5424 [23:37<01:44,  3.56it/s]\u001b[A\n",
      " 93%|█████████▎| 5053/5424 [23:38<01:44,  3.56it/s]\u001b[A\n",
      " 93%|█████████▎| 5055/5424 [23:38<01:43,  3.56it/s]\u001b[A\n",
      " 93%|█████████▎| 5057/5424 [23:38<01:42,  3.57it/s]\u001b[A\n",
      " 93%|█████████▎| 5058/5424 [23:38<01:42,  3.57it/s]\u001b[A\n",
      " 93%|█████████▎| 5059/5424 [23:39<01:42,  3.57it/s]\u001b[A\n",
      " 93%|█████████▎| 5061/5424 [23:39<01:41,  3.57it/s]\u001b[A\n",
      " 93%|█████████▎| 5063/5424 [23:39<01:41,  3.57it/s]\u001b[A\n",
      " 93%|█████████▎| 5064/5424 [23:39<01:40,  3.57it/s]\u001b[A\n",
      " 93%|█████████▎| 5065/5424 [23:39<01:40,  3.57it/s]\u001b[A\n",
      " 93%|█████████▎| 5066/5424 [23:40<01:40,  3.57it/s]\u001b[A\n",
      " 93%|█████████▎| 5067/5424 [23:40<01:40,  3.57it/s]\u001b[A\n",
      " 93%|█████████▎| 5068/5424 [23:40<01:39,  3.57it/s]\u001b[A\n",
      " 93%|█████████▎| 5069/5424 [23:40<01:39,  3.57it/s]\u001b[A\n",
      " 93%|█████████▎| 5071/5424 [23:40<01:38,  3.57it/s]\u001b[A\n",
      " 94%|█████████▎| 5073/5424 [23:40<01:38,  3.57it/s]\u001b[A\n",
      " 94%|█████████▎| 5075/5424 [23:41<01:37,  3.57it/s]\u001b[A\n",
      " 94%|█████████▎| 5076/5424 [23:41<01:37,  3.57it/s]\u001b[A\n",
      " 94%|█████████▎| 5077/5424 [23:41<01:37,  3.57it/s]\u001b[A\n",
      " 94%|█████████▎| 5078/5424 [23:42<01:36,  3.57it/s]\u001b[A\n",
      " 94%|█████████▎| 5079/5424 [23:42<01:36,  3.57it/s]\u001b[A\n",
      " 94%|█████████▎| 5080/5424 [23:42<01:36,  3.57it/s]\u001b[A\n",
      " 94%|█████████▎| 5081/5424 [23:43<01:36,  3.57it/s]\u001b[A\n",
      " 94%|█████████▎| 5083/5424 [23:43<01:35,  3.57it/s]\u001b[A\n",
      " 94%|█████████▎| 5084/5424 [23:43<01:35,  3.57it/s]\u001b[A\n",
      " 94%|█████████▍| 5085/5424 [23:44<01:34,  3.57it/s]\u001b[A\n",
      " 94%|█████████▍| 5087/5424 [23:44<01:34,  3.57it/s]\u001b[A\n",
      " 94%|█████████▍| 5088/5424 [23:45<01:34,  3.57it/s]\u001b[A\n",
      " 94%|█████████▍| 5090/5424 [23:45<01:33,  3.57it/s]\u001b[A\n",
      " 94%|█████████▍| 5091/5424 [23:45<01:33,  3.57it/s]\u001b[A\n",
      " 94%|█████████▍| 5092/5424 [23:45<01:32,  3.57it/s]\u001b[A\n",
      " 94%|█████████▍| 5093/5424 [23:45<01:32,  3.57it/s]\u001b[A\n",
      " 94%|█████████▍| 5095/5424 [23:46<01:32,  3.57it/s]\u001b[A\n",
      " 94%|█████████▍| 5096/5424 [23:46<01:31,  3.57it/s]\u001b[A\n",
      " 94%|█████████▍| 5097/5424 [23:46<01:31,  3.57it/s]\u001b[A\n",
      " 94%|█████████▍| 5098/5424 [23:47<01:31,  3.57it/s]\u001b[A\n",
      " 94%|█████████▍| 5100/5424 [23:47<01:30,  3.57it/s]\u001b[A\n",
      " 94%|█████████▍| 5101/5424 [23:47<01:30,  3.57it/s]\u001b[A\n",
      " 94%|█████████▍| 5102/5424 [23:48<01:30,  3.57it/s]\u001b[A\n",
      " 94%|█████████▍| 5103/5424 [23:48<01:29,  3.57it/s]\u001b[A\n",
      " 94%|█████████▍| 5104/5424 [23:48<01:29,  3.57it/s]\u001b[A\n",
      " 94%|█████████▍| 5106/5424 [23:49<01:29,  3.57it/s]\u001b[A\n",
      " 94%|█████████▍| 5107/5424 [23:49<01:28,  3.57it/s]\u001b[A\n",
      " 94%|█████████▍| 5108/5424 [23:49<01:28,  3.57it/s]\u001b[A\n",
      " 94%|█████████▍| 5110/5424 [23:49<01:27,  3.57it/s]\u001b[A\n",
      " 94%|█████████▍| 5111/5424 [23:49<01:27,  3.57it/s]\u001b[A\n",
      " 94%|█████████▍| 5112/5424 [23:50<01:27,  3.57it/s]\u001b[A\n",
      " 94%|█████████▍| 5113/5424 [23:50<01:27,  3.57it/s]\u001b[A\n",
      " 94%|█████████▍| 5114/5424 [23:50<01:26,  3.57it/s]\u001b[A\n",
      " 94%|█████████▍| 5115/5424 [23:51<01:26,  3.57it/s]\u001b[A\n",
      " 94%|█████████▍| 5117/5424 [23:51<01:25,  3.57it/s]\u001b[A\n",
      " 94%|█████████▍| 5118/5424 [23:51<01:25,  3.57it/s]\u001b[A\n",
      " 94%|█████████▍| 5119/5424 [23:51<01:25,  3.57it/s]\u001b[A\n",
      " 94%|█████████▍| 5120/5424 [23:52<01:25,  3.57it/s]\u001b[A\n",
      " 94%|█████████▍| 5121/5424 [23:52<01:24,  3.57it/s]\u001b[A\n",
      " 94%|█████████▍| 5122/5424 [23:52<01:24,  3.58it/s]\u001b[A\n",
      " 94%|█████████▍| 5123/5424 [23:52<01:24,  3.58it/s]\u001b[A\n",
      " 94%|█████████▍| 5124/5424 [23:53<01:23,  3.58it/s]\u001b[A\n",
      " 94%|█████████▍| 5125/5424 [23:53<01:23,  3.58it/s]\u001b[A\n",
      " 95%|█████████▍| 5127/5424 [23:53<01:23,  3.58it/s]\u001b[A\n",
      " 95%|█████████▍| 5128/5424 [23:54<01:22,  3.58it/s]\u001b[A\n",
      " 95%|█████████▍| 5129/5424 [23:54<01:22,  3.58it/s]\u001b[A\n",
      " 95%|█████████▍| 5131/5424 [23:54<01:21,  3.58it/s]\u001b[A\n",
      " 95%|█████████▍| 5132/5424 [23:54<01:21,  3.58it/s]\u001b[A\n",
      " 95%|█████████▍| 5133/5424 [23:54<01:21,  3.58it/s]\u001b[A\n",
      " 95%|█████████▍| 5134/5424 [23:55<01:21,  3.58it/s]\u001b[A\n",
      " 95%|█████████▍| 5136/5424 [23:55<01:20,  3.58it/s]\u001b[A\n",
      " 95%|█████████▍| 5137/5424 [23:55<01:20,  3.58it/s]\u001b[A\n",
      " 95%|█████████▍| 5138/5424 [23:55<01:19,  3.58it/s]\u001b[A\n",
      " 95%|█████████▍| 5139/5424 [23:56<01:19,  3.58it/s]\u001b[A\n",
      " 95%|█████████▍| 5140/5424 [23:56<01:19,  3.58it/s]\u001b[A\n",
      " 95%|█████████▍| 5141/5424 [23:56<01:19,  3.58it/s]\u001b[A\n",
      " 95%|█████████▍| 5142/5424 [23:57<01:18,  3.58it/s]\u001b[A\n",
      " 95%|█████████▍| 5143/5424 [23:57<01:18,  3.58it/s]\u001b[A\n",
      " 95%|█████████▍| 5144/5424 [23:57<01:18,  3.58it/s]\u001b[A\n",
      " 95%|█████████▍| 5145/5424 [23:57<01:17,  3.58it/s]\u001b[A\n",
      " 95%|█████████▍| 5146/5424 [23:58<01:17,  3.58it/s]\u001b[A\n",
      " 95%|█████████▍| 5148/5424 [23:58<01:17,  3.58it/s]\u001b[A\n",
      " 95%|█████████▍| 5149/5424 [23:59<01:16,  3.58it/s]\u001b[A\n",
      " 95%|█████████▍| 5150/5424 [23:59<01:16,  3.58it/s]\u001b[A\n",
      " 95%|█████████▍| 5151/5424 [23:59<01:16,  3.58it/s]\u001b[A\n",
      " 95%|█████████▍| 5152/5424 [23:59<01:16,  3.58it/s]\u001b[A\n",
      " 95%|█████████▌| 5153/5424 [24:00<01:15,  3.58it/s]\u001b[A\n",
      " 95%|█████████▌| 5154/5424 [24:00<01:15,  3.58it/s]\u001b[A\n",
      " 95%|█████████▌| 5155/5424 [24:00<01:15,  3.58it/s]\u001b[A\n",
      " 95%|█████████▌| 5156/5424 [24:00<01:14,  3.58it/s]\u001b[A\n"
     ]
    },
    {
     "name": "stderr",
     "output_type": "stream",
     "text": [
      " 95%|█████████▌| 5158/5424 [24:01<01:14,  3.58it/s]\u001b[A\n",
      " 95%|█████████▌| 5160/5424 [24:01<01:13,  3.58it/s]\u001b[A\n",
      " 95%|█████████▌| 5162/5424 [24:01<01:13,  3.58it/s]\u001b[A\n",
      " 95%|█████████▌| 5163/5424 [24:01<01:12,  3.58it/s]\u001b[A\n",
      " 95%|█████████▌| 5164/5424 [24:02<01:12,  3.58it/s]\u001b[A\n",
      " 95%|█████████▌| 5165/5424 [24:02<01:12,  3.58it/s]\u001b[A\n",
      " 95%|█████████▌| 5166/5424 [24:02<01:12,  3.58it/s]\u001b[A\n",
      " 95%|█████████▌| 5167/5424 [24:02<01:11,  3.58it/s]\u001b[A\n",
      " 95%|█████████▌| 5168/5424 [24:03<01:11,  3.58it/s]\u001b[A\n",
      " 95%|█████████▌| 5169/5424 [24:03<01:11,  3.58it/s]\u001b[A\n",
      " 95%|█████████▌| 5170/5424 [24:03<01:10,  3.58it/s]\u001b[A\n",
      " 95%|█████████▌| 5171/5424 [24:04<01:10,  3.58it/s]\u001b[A\n",
      " 95%|█████████▌| 5173/5424 [24:04<01:10,  3.58it/s]\u001b[A\n",
      " 95%|█████████▌| 5174/5424 [24:04<01:09,  3.58it/s]\u001b[A\n",
      " 95%|█████████▌| 5176/5424 [24:05<01:09,  3.58it/s]\u001b[A\n",
      " 95%|█████████▌| 5177/5424 [24:05<01:08,  3.58it/s]\u001b[A\n",
      " 95%|█████████▌| 5178/5424 [24:05<01:08,  3.58it/s]\u001b[A\n",
      " 95%|█████████▌| 5179/5424 [24:05<01:08,  3.58it/s]\u001b[A\n",
      " 96%|█████████▌| 5181/5424 [24:05<01:07,  3.58it/s]\u001b[A\n",
      " 96%|█████████▌| 5182/5424 [24:05<01:07,  3.58it/s]\u001b[A\n",
      " 96%|█████████▌| 5184/5424 [24:06<01:06,  3.58it/s]\u001b[A\n",
      " 96%|█████████▌| 5185/5424 [24:06<01:06,  3.58it/s]\u001b[A\n",
      " 96%|█████████▌| 5186/5424 [24:06<01:06,  3.59it/s]\u001b[A\n",
      " 96%|█████████▌| 5187/5424 [24:06<01:06,  3.58it/s]\u001b[A\n",
      " 96%|█████████▌| 5188/5424 [24:07<01:05,  3.58it/s]\u001b[A\n",
      " 96%|█████████▌| 5189/5424 [24:07<01:05,  3.59it/s]\u001b[A\n",
      " 96%|█████████▌| 5191/5424 [24:07<01:04,  3.59it/s]\u001b[A\n",
      " 96%|█████████▌| 5192/5424 [24:07<01:04,  3.59it/s]\u001b[A\n",
      " 96%|█████████▌| 5193/5424 [24:08<01:04,  3.59it/s]\u001b[A\n",
      " 96%|█████████▌| 5195/5424 [24:08<01:03,  3.59it/s]\u001b[A\n",
      " 96%|█████████▌| 5196/5424 [24:08<01:03,  3.59it/s]\u001b[A\n",
      " 96%|█████████▌| 5198/5424 [24:09<01:03,  3.59it/s]\u001b[A\n",
      " 96%|█████████▌| 5199/5424 [24:09<01:02,  3.59it/s]\u001b[A\n",
      " 96%|█████████▌| 5200/5424 [24:09<01:02,  3.59it/s]\u001b[A\n",
      " 96%|█████████▌| 5201/5424 [24:10<01:02,  3.59it/s]\u001b[A\n",
      " 96%|█████████▌| 5202/5424 [24:10<01:01,  3.59it/s]\u001b[A\n",
      " 96%|█████████▌| 5203/5424 [24:10<01:01,  3.59it/s]\u001b[A\n",
      " 96%|█████████▌| 5204/5424 [24:10<01:01,  3.59it/s]\u001b[A\n",
      " 96%|█████████▌| 5205/5424 [24:11<01:01,  3.59it/s]\u001b[A\n",
      " 96%|█████████▌| 5206/5424 [24:11<01:00,  3.59it/s]\u001b[A\n",
      " 96%|█████████▌| 5207/5424 [24:11<01:00,  3.59it/s]\u001b[A\n",
      " 96%|█████████▌| 5208/5424 [24:12<01:00,  3.59it/s]\u001b[A\n",
      " 96%|█████████▌| 5209/5424 [24:12<00:59,  3.59it/s]\u001b[A\n",
      " 96%|█████████▌| 5211/5424 [24:12<00:59,  3.59it/s]\u001b[A\n",
      " 96%|█████████▌| 5212/5424 [24:12<00:59,  3.59it/s]\u001b[A\n",
      " 96%|█████████▌| 5213/5424 [24:12<00:58,  3.59it/s]\u001b[A\n",
      " 96%|█████████▌| 5214/5424 [24:13<00:58,  3.59it/s]\u001b[A\n",
      " 96%|█████████▌| 5215/5424 [24:13<00:58,  3.59it/s]\u001b[A\n",
      " 96%|█████████▌| 5216/5424 [24:13<00:57,  3.59it/s]\u001b[A\n",
      " 96%|█████████▌| 5217/5424 [24:13<00:57,  3.59it/s]\u001b[A\n",
      " 96%|█████████▌| 5218/5424 [24:14<00:57,  3.59it/s]\u001b[A\n",
      " 96%|█████████▌| 5220/5424 [24:14<00:56,  3.59it/s]\u001b[A\n",
      " 96%|█████████▋| 5221/5424 [24:14<00:56,  3.59it/s]\u001b[A\n",
      " 96%|█████████▋| 5223/5424 [24:14<00:55,  3.59it/s]\u001b[A\n",
      " 96%|█████████▋| 5224/5424 [24:15<00:55,  3.59it/s]\u001b[A\n",
      " 96%|█████████▋| 5226/5424 [24:15<00:55,  3.59it/s]\u001b[A\n",
      " 96%|█████████▋| 5228/5424 [24:15<00:54,  3.59it/s]\u001b[A\n",
      " 96%|█████████▋| 5229/5424 [24:15<00:54,  3.59it/s]\u001b[A\n",
      " 96%|█████████▋| 5230/5424 [24:15<00:54,  3.59it/s]\u001b[A\n",
      " 96%|█████████▋| 5231/5424 [24:16<00:53,  3.59it/s]\u001b[A\n",
      " 96%|█████████▋| 5232/5424 [24:16<00:53,  3.59it/s]\u001b[A\n",
      " 96%|█████████▋| 5233/5424 [24:16<00:53,  3.59it/s]\u001b[A\n",
      " 96%|█████████▋| 5234/5424 [24:16<00:52,  3.59it/s]\u001b[A\n",
      " 97%|█████████▋| 5235/5424 [24:17<00:52,  3.59it/s]\u001b[A\n",
      " 97%|█████████▋| 5236/5424 [24:17<00:52,  3.59it/s]\u001b[A\n",
      " 97%|█████████▋| 5238/5424 [24:17<00:51,  3.59it/s]\u001b[A\n",
      " 97%|█████████▋| 5239/5424 [24:18<00:51,  3.59it/s]\u001b[A\n",
      " 97%|█████████▋| 5240/5424 [24:18<00:51,  3.59it/s]\u001b[A\n",
      " 97%|█████████▋| 5241/5424 [24:18<00:50,  3.59it/s]\u001b[A\n",
      " 97%|█████████▋| 5242/5424 [24:18<00:50,  3.59it/s]\u001b[A\n",
      " 97%|█████████▋| 5244/5424 [24:19<00:50,  3.59it/s]\u001b[A\n",
      " 97%|█████████▋| 5245/5424 [24:19<00:49,  3.59it/s]\u001b[A\n",
      " 97%|█████████▋| 5247/5424 [24:19<00:49,  3.59it/s]\u001b[A\n",
      " 97%|█████████▋| 5249/5424 [24:19<00:48,  3.60it/s]\u001b[A\n",
      " 97%|█████████▋| 5250/5424 [24:20<00:48,  3.60it/s]\u001b[A\n",
      " 97%|█████████▋| 5252/5424 [24:20<00:47,  3.60it/s]\u001b[A\n",
      " 97%|█████████▋| 5254/5424 [24:20<00:47,  3.60it/s]\u001b[A\n",
      " 97%|█████████▋| 5255/5424 [24:20<00:46,  3.60it/s]\u001b[A\n",
      " 97%|█████████▋| 5256/5424 [24:21<00:46,  3.60it/s]\u001b[A\n",
      " 97%|█████████▋| 5257/5424 [24:21<00:46,  3.60it/s]\u001b[A\n",
      " 97%|█████████▋| 5258/5424 [24:21<00:46,  3.60it/s]\u001b[A\n",
      " 97%|█████████▋| 5259/5424 [24:21<00:45,  3.60it/s]\u001b[A\n",
      " 97%|█████████▋| 5260/5424 [24:22<00:45,  3.60it/s]\u001b[A\n",
      " 97%|█████████▋| 5261/5424 [24:22<00:45,  3.60it/s]\u001b[A\n",
      " 97%|█████████▋| 5262/5424 [24:22<00:45,  3.60it/s]\u001b[A\n",
      " 97%|█████████▋| 5264/5424 [24:22<00:44,  3.60it/s]\u001b[A\n",
      " 97%|█████████▋| 5266/5424 [24:23<00:43,  3.60it/s]\u001b[A\n",
      " 97%|█████████▋| 5267/5424 [24:23<00:43,  3.60it/s]\u001b[A\n",
      " 97%|█████████▋| 5269/5424 [24:23<00:43,  3.60it/s]\u001b[A\n",
      " 97%|█████████▋| 5270/5424 [24:23<00:42,  3.60it/s]\u001b[A\n",
      " 97%|█████████▋| 5271/5424 [24:23<00:42,  3.60it/s]\u001b[A\n",
      " 97%|█████████▋| 5272/5424 [24:24<00:42,  3.60it/s]\u001b[A\n",
      " 97%|█████████▋| 5273/5424 [24:24<00:41,  3.60it/s]\u001b[A\n",
      " 97%|█████████▋| 5275/5424 [24:24<00:41,  3.60it/s]\u001b[A\n",
      " 97%|█████████▋| 5276/5424 [24:24<00:41,  3.60it/s]\u001b[A\n",
      " 97%|█████████▋| 5277/5424 [24:24<00:40,  3.60it/s]\u001b[A\n",
      " 97%|█████████▋| 5278/5424 [24:25<00:40,  3.60it/s]\u001b[A\n",
      " 97%|█████████▋| 5280/5424 [24:25<00:39,  3.60it/s]\u001b[A\n",
      " 97%|█████████▋| 5281/5424 [24:25<00:39,  3.60it/s]\u001b[A\n",
      " 97%|█████████▋| 5282/5424 [24:26<00:39,  3.60it/s]\u001b[A\n",
      " 97%|█████████▋| 5283/5424 [24:26<00:39,  3.60it/s]\u001b[A\n",
      " 97%|█████████▋| 5284/5424 [24:26<00:38,  3.60it/s]\u001b[A\n",
      " 97%|█████████▋| 5285/5424 [24:26<00:38,  3.60it/s]\u001b[A\n",
      " 97%|█████████▋| 5286/5424 [24:27<00:38,  3.60it/s]\u001b[A\n",
      " 97%|█████████▋| 5287/5424 [24:27<00:38,  3.60it/s]\u001b[A\n",
      " 97%|█████████▋| 5288/5424 [24:27<00:37,  3.60it/s]\u001b[A\n",
      " 98%|█████████▊| 5289/5424 [24:27<00:37,  3.60it/s]\u001b[A\n",
      " 98%|█████████▊| 5291/5424 [24:28<00:36,  3.60it/s]\u001b[A\n",
      " 98%|█████████▊| 5292/5424 [24:28<00:36,  3.60it/s]\u001b[A\n",
      " 98%|█████████▊| 5293/5424 [24:28<00:36,  3.60it/s]\u001b[A\n",
      " 98%|█████████▊| 5294/5424 [24:28<00:36,  3.60it/s]\u001b[A\n",
      " 98%|█████████▊| 5295/5424 [24:29<00:35,  3.60it/s]\u001b[A\n",
      " 98%|█████████▊| 5296/5424 [24:29<00:35,  3.60it/s]\u001b[A\n",
      " 98%|█████████▊| 5297/5424 [24:29<00:35,  3.60it/s]\u001b[A\n",
      " 98%|█████████▊| 5298/5424 [24:30<00:34,  3.60it/s]\u001b[A\n",
      " 98%|█████████▊| 5300/5424 [24:30<00:34,  3.60it/s]\u001b[A\n",
      " 98%|█████████▊| 5301/5424 [24:30<00:34,  3.60it/s]\u001b[A\n",
      " 98%|█████████▊| 5302/5424 [24:30<00:33,  3.60it/s]\u001b[A\n",
      " 98%|█████████▊| 5303/5424 [24:31<00:33,  3.61it/s]\u001b[A\n",
      " 98%|█████████▊| 5304/5424 [24:31<00:33,  3.61it/s]\u001b[A\n",
      " 98%|█████████▊| 5306/5424 [24:31<00:32,  3.61it/s]\u001b[A\n",
      " 98%|█████████▊| 5307/5424 [24:31<00:32,  3.61it/s]\u001b[A\n",
      " 98%|█████████▊| 5309/5424 [24:31<00:31,  3.61it/s]\u001b[A\n",
      " 98%|█████████▊| 5310/5424 [24:31<00:31,  3.61it/s]\u001b[A\n",
      " 98%|█████████▊| 5311/5424 [24:31<00:31,  3.61it/s]\u001b[A\n",
      " 98%|█████████▊| 5313/5424 [24:32<00:30,  3.61it/s]\u001b[A\n",
      " 98%|█████████▊| 5314/5424 [24:32<00:30,  3.61it/s]\u001b[A\n",
      " 98%|█████████▊| 5315/5424 [24:32<00:30,  3.61it/s]\u001b[A\n",
      " 98%|█████████▊| 5316/5424 [24:33<00:29,  3.61it/s]\u001b[A\n",
      " 98%|█████████▊| 5318/5424 [24:33<00:29,  3.61it/s]\u001b[A\n",
      " 98%|█████████▊| 5319/5424 [24:33<00:29,  3.61it/s]\u001b[A\n",
      " 98%|█████████▊| 5321/5424 [24:33<00:28,  3.61it/s]\u001b[A\n",
      " 98%|█████████▊| 5322/5424 [24:34<00:28,  3.61it/s]\u001b[A\n",
      " 98%|█████████▊| 5323/5424 [24:34<00:27,  3.61it/s]\u001b[A\n",
      " 98%|█████████▊| 5324/5424 [24:34<00:27,  3.61it/s]\u001b[A\n",
      " 98%|█████████▊| 5325/5424 [24:34<00:27,  3.61it/s]\u001b[A\n",
      " 98%|█████████▊| 5326/5424 [24:35<00:27,  3.61it/s]\u001b[A\n",
      " 98%|█████████▊| 5328/5424 [24:35<00:26,  3.61it/s]\u001b[A\n",
      " 98%|█████████▊| 5329/5424 [24:35<00:26,  3.61it/s]\u001b[A\n",
      " 98%|█████████▊| 5330/5424 [24:36<00:26,  3.61it/s]\u001b[A\n",
      " 98%|█████████▊| 5331/5424 [24:36<00:25,  3.61it/s]\u001b[A\n",
      " 98%|█████████▊| 5332/5424 [24:36<00:25,  3.61it/s]\u001b[A\n",
      " 98%|█████████▊| 5333/5424 [24:36<00:25,  3.61it/s]\u001b[A\n",
      " 98%|█████████▊| 5334/5424 [24:37<00:24,  3.61it/s]\u001b[A\n",
      " 98%|█████████▊| 5335/5424 [24:37<00:24,  3.61it/s]\u001b[A\n",
      " 98%|█████████▊| 5336/5424 [24:37<00:24,  3.61it/s]\u001b[A\n",
      " 98%|█████████▊| 5338/5424 [24:38<00:23,  3.61it/s]\u001b[A\n",
      " 98%|█████████▊| 5339/5424 [24:38<00:23,  3.61it/s]\u001b[A\n"
     ]
    },
    {
     "name": "stderr",
     "output_type": "stream",
     "text": [
      " 98%|█████████▊| 5340/5424 [24:38<00:23,  3.61it/s]\u001b[A\n",
      " 98%|█████████▊| 5342/5424 [24:38<00:22,  3.61it/s]\u001b[A\n",
      " 99%|█████████▊| 5343/5424 [24:39<00:22,  3.61it/s]\u001b[A\n",
      " 99%|█████████▊| 5344/5424 [24:39<00:22,  3.61it/s]\u001b[A\n",
      " 99%|█████████▊| 5345/5424 [24:39<00:21,  3.61it/s]\u001b[A\n",
      " 99%|█████████▊| 5346/5424 [24:39<00:21,  3.61it/s]\u001b[A\n",
      " 99%|█████████▊| 5348/5424 [24:39<00:21,  3.61it/s]\u001b[A\n",
      " 99%|█████████▊| 5349/5424 [24:40<00:20,  3.61it/s]\u001b[A\n",
      " 99%|█████████▊| 5351/5424 [24:40<00:20,  3.61it/s]\u001b[A\n",
      " 99%|█████████▊| 5352/5424 [24:40<00:19,  3.61it/s]\u001b[A\n",
      " 99%|█████████▊| 5353/5424 [24:41<00:19,  3.61it/s]\u001b[A\n",
      " 99%|█████████▊| 5355/5424 [24:41<00:19,  3.61it/s]\u001b[A\n",
      " 99%|█████████▊| 5356/5424 [24:41<00:18,  3.62it/s]\u001b[A\n",
      " 99%|█████████▉| 5357/5424 [24:41<00:18,  3.62it/s]\u001b[A\n",
      " 99%|█████████▉| 5358/5424 [24:41<00:18,  3.62it/s]\u001b[A\n",
      " 99%|█████████▉| 5359/5424 [24:42<00:17,  3.62it/s]\u001b[A\n",
      " 99%|█████████▉| 5360/5424 [24:42<00:17,  3.62it/s]\u001b[A\n",
      " 99%|█████████▉| 5361/5424 [24:42<00:17,  3.62it/s]\u001b[A\n",
      " 99%|█████████▉| 5362/5424 [24:42<00:17,  3.62it/s]\u001b[A\n",
      " 99%|█████████▉| 5363/5424 [24:43<00:16,  3.62it/s]\u001b[A\n",
      " 99%|█████████▉| 5364/5424 [24:43<00:16,  3.62it/s]\u001b[A\n",
      " 99%|█████████▉| 5365/5424 [24:43<00:16,  3.62it/s]\u001b[A\n",
      " 99%|█████████▉| 5366/5424 [24:43<00:16,  3.62it/s]\u001b[A\n",
      " 99%|█████████▉| 5367/5424 [24:44<00:15,  3.62it/s]\u001b[A\n",
      " 99%|█████████▉| 5368/5424 [24:44<00:15,  3.62it/s]\u001b[A\n",
      " 99%|█████████▉| 5369/5424 [24:44<00:15,  3.62it/s]\u001b[A\n",
      " 99%|█████████▉| 5370/5424 [24:44<00:14,  3.62it/s]\u001b[A\n",
      " 99%|█████████▉| 5372/5424 [24:45<00:14,  3.62it/s]\u001b[A\n",
      " 99%|█████████▉| 5373/5424 [24:45<00:14,  3.62it/s]\u001b[A\n",
      " 99%|█████████▉| 5374/5424 [24:45<00:13,  3.62it/s]\u001b[A\n",
      " 99%|█████████▉| 5375/5424 [24:45<00:13,  3.62it/s]\u001b[A\n",
      " 99%|█████████▉| 5376/5424 [24:46<00:13,  3.62it/s]\u001b[A\n",
      " 99%|█████████▉| 5377/5424 [24:46<00:12,  3.62it/s]\u001b[A\n",
      " 99%|█████████▉| 5378/5424 [24:46<00:12,  3.62it/s]\u001b[A\n",
      " 99%|█████████▉| 5379/5424 [24:46<00:12,  3.62it/s]\u001b[A\n",
      " 99%|█████████▉| 5380/5424 [24:47<00:12,  3.62it/s]\u001b[A\n",
      " 99%|█████████▉| 5381/5424 [24:47<00:11,  3.62it/s]\u001b[A\n",
      " 99%|█████████▉| 5382/5424 [24:47<00:11,  3.62it/s]\u001b[A\n",
      " 99%|█████████▉| 5383/5424 [24:48<00:11,  3.62it/s]\u001b[A\n",
      " 99%|█████████▉| 5384/5424 [24:48<00:11,  3.62it/s]\u001b[A\n",
      " 99%|█████████▉| 5385/5424 [24:48<00:10,  3.62it/s]\u001b[A\n",
      " 99%|█████████▉| 5386/5424 [24:48<00:10,  3.62it/s]\u001b[A\n",
      " 99%|█████████▉| 5388/5424 [24:48<00:09,  3.62it/s]\u001b[A\n",
      " 99%|█████████▉| 5390/5424 [24:48<00:09,  3.62it/s]\u001b[A\n",
      " 99%|█████████▉| 5391/5424 [24:49<00:09,  3.62it/s]\u001b[A\n",
      " 99%|█████████▉| 5392/5424 [24:49<00:08,  3.62it/s]\u001b[A\n",
      " 99%|█████████▉| 5394/5424 [24:49<00:08,  3.62it/s]\u001b[A\n",
      " 99%|█████████▉| 5395/5424 [24:49<00:08,  3.62it/s]\u001b[A\n",
      "100%|█████████▉| 5397/5424 [24:50<00:07,  3.62it/s]\u001b[A\n",
      "100%|█████████▉| 5398/5424 [24:50<00:07,  3.62it/s]\u001b[A\n",
      "100%|█████████▉| 5400/5424 [24:50<00:06,  3.62it/s]\u001b[A\n",
      "100%|█████████▉| 5401/5424 [24:51<00:06,  3.62it/s]\u001b[A\n",
      "100%|█████████▉| 5402/5424 [24:51<00:06,  3.62it/s]\u001b[A\n",
      "100%|█████████▉| 5403/5424 [24:51<00:05,  3.62it/s]\u001b[A\n",
      "100%|█████████▉| 5404/5424 [24:51<00:05,  3.62it/s]\u001b[A\n",
      "100%|█████████▉| 5405/5424 [24:51<00:05,  3.62it/s]\u001b[A\n",
      "100%|█████████▉| 5406/5424 [24:52<00:04,  3.62it/s]\u001b[A\n",
      "100%|█████████▉| 5408/5424 [24:52<00:04,  3.62it/s]\u001b[A\n",
      "100%|█████████▉| 5409/5424 [24:52<00:04,  3.62it/s]\u001b[A\n",
      "100%|█████████▉| 5410/5424 [24:53<00:03,  3.62it/s]\u001b[A\n",
      "100%|█████████▉| 5411/5424 [24:53<00:03,  3.62it/s]\u001b[A\n",
      "100%|█████████▉| 5412/5424 [24:53<00:03,  3.62it/s]\u001b[A\n",
      "100%|█████████▉| 5413/5424 [24:53<00:03,  3.62it/s]\u001b[A\n",
      "100%|█████████▉| 5414/5424 [24:54<00:02,  3.62it/s]\u001b[A\n",
      "100%|█████████▉| 5415/5424 [24:54<00:02,  3.62it/s]\u001b[A\n",
      "100%|█████████▉| 5417/5424 [24:54<00:01,  3.62it/s]\u001b[A\n",
      "100%|█████████▉| 5418/5424 [24:54<00:01,  3.62it/s]\u001b[A\n",
      "100%|█████████▉| 5419/5424 [24:55<00:01,  3.62it/s]\u001b[A\n",
      "100%|█████████▉| 5420/5424 [24:55<00:01,  3.62it/s]\u001b[A\n",
      "100%|█████████▉| 5421/5424 [24:55<00:00,  3.62it/s]\u001b[A\n",
      "100%|█████████▉| 5422/5424 [24:55<00:00,  3.62it/s]\u001b[A\n",
      "100%|██████████| 5424/5424 [24:56<00:00,  3.63it/s]\u001b[A\n",
      "\u001b[A"
     ]
    },
    {
     "name": "stdout",
     "output_type": "stream",
     "text": [
      "CPU times: user 26.4 s, sys: 1min 9s, total: 1min 35s\n",
      "Wall time: 24min 56s\n"
     ]
    }
   ],
   "source": [
    "%%time\n",
    "grants_all_xml_dict = {patid: \"\\n\".join(subfile(fpath, openl-2, closel))\n",
    "                       for patid, (fpath, openl, closel) in tqdm.tqdm(patid_to_subfile.items())}"
   ]
  },
  {
   "cell_type": "code",
   "execution_count": 47,
   "metadata": {},
   "outputs": [
    {
     "data": {
      "text/plain": [
       "[8249344, 8126465, 8232962, 8148779, 8118276]"
      ]
     },
     "execution_count": 47,
     "metadata": {},
     "output_type": "execute_result"
    }
   ],
   "source": [
    "list(grants_all_xml_dict.keys())[0:5]"
   ]
  },
  {
   "cell_type": "code",
   "execution_count": 51,
   "metadata": {},
   "outputs": [],
   "source": [
    "grants_all_df = pd.DataFrame({\"parsed\": list(grants_all_xml_dict.keys()), \"xml\": list(grants_all_xml_dict.values())})"
   ]
  },
  {
   "cell_type": "code",
   "execution_count": 52,
   "metadata": {},
   "outputs": [
    {
     "data": {
      "text/html": [
       "<div>\n",
       "<style scoped>\n",
       "    .dataframe tbody tr th:only-of-type {\n",
       "        vertical-align: middle;\n",
       "    }\n",
       "\n",
       "    .dataframe tbody tr th {\n",
       "        vertical-align: top;\n",
       "    }\n",
       "\n",
       "    .dataframe thead th {\n",
       "        text-align: right;\n",
       "    }\n",
       "</style>\n",
       "<table border=\"1\" class=\"dataframe\">\n",
       "  <thead>\n",
       "    <tr style=\"text-align: right;\">\n",
       "      <th></th>\n",
       "      <th>parsed</th>\n",
       "      <th>xml</th>\n",
       "    </tr>\n",
       "  </thead>\n",
       "  <tbody>\n",
       "    <tr>\n",
       "      <th>0</th>\n",
       "      <td>8249344</td>\n",
       "      <td>&lt;?xml version=\"1.0\" encoding=\"UTF-8\"?&gt;\\n&lt;!DOCT...</td>\n",
       "    </tr>\n",
       "    <tr>\n",
       "      <th>1</th>\n",
       "      <td>8126465</td>\n",
       "      <td>&lt;?xml version=\"1.0\" encoding=\"UTF-8\"?&gt;\\n&lt;!DOCT...</td>\n",
       "    </tr>\n",
       "    <tr>\n",
       "      <th>2</th>\n",
       "      <td>8232962</td>\n",
       "      <td>&lt;?xml version=\"1.0\" encoding=\"UTF-8\"?&gt;\\n&lt;!DOCT...</td>\n",
       "    </tr>\n",
       "    <tr>\n",
       "      <th>3</th>\n",
       "      <td>8148779</td>\n",
       "      <td>&lt;?xml version=\"1.0\" encoding=\"UTF-8\"?&gt;\\n&lt;!DOCT...</td>\n",
       "    </tr>\n",
       "    <tr>\n",
       "      <th>4</th>\n",
       "      <td>8118276</td>\n",
       "      <td>&lt;?xml version=\"1.0\" encoding=\"UTF-8\"?&gt;\\n&lt;!DOCT...</td>\n",
       "    </tr>\n",
       "  </tbody>\n",
       "</table>\n",
       "</div>"
      ],
      "text/plain": [
       "    parsed                                                xml\n",
       "0  8249344  <?xml version=\"1.0\" encoding=\"UTF-8\"?>\\n<!DOCT...\n",
       "1  8126465  <?xml version=\"1.0\" encoding=\"UTF-8\"?>\\n<!DOCT...\n",
       "2  8232962  <?xml version=\"1.0\" encoding=\"UTF-8\"?>\\n<!DOCT...\n",
       "3  8148779  <?xml version=\"1.0\" encoding=\"UTF-8\"?>\\n<!DOCT...\n",
       "4  8118276  <?xml version=\"1.0\" encoding=\"UTF-8\"?>\\n<!DOCT..."
      ]
     },
     "execution_count": 52,
     "metadata": {},
     "output_type": "execute_result"
    }
   ],
   "source": [
    "grants_all_df.head()"
   ]
  },
  {
   "cell_type": "code",
   "execution_count": 53,
   "metadata": {},
   "outputs": [],
   "source": [
    "grants_all_df.to_pickle(\"../data/grants_2012_from2017_xmldf.dat\")"
   ]
  },
  {
   "cell_type": "code",
   "execution_count": null,
   "metadata": {},
   "outputs": [],
   "source": []
  },
  {
   "cell_type": "code",
   "execution_count": null,
   "metadata": {},
   "outputs": [],
   "source": []
  },
  {
   "cell_type": "markdown",
   "metadata": {},
   "source": [
    "check result."
   ]
  },
  {
   "cell_type": "code",
   "execution_count": 54,
   "metadata": {},
   "outputs": [],
   "source": [
    "one_xml = grants_all_df.iloc[1][\"xml\"].split(\"\\n\")"
   ]
  },
  {
   "cell_type": "code",
   "execution_count": 55,
   "metadata": {},
   "outputs": [
    {
     "data": {
      "text/plain": [
       "539"
      ]
     },
     "execution_count": 55,
     "metadata": {},
     "output_type": "execute_result"
    }
   ],
   "source": [
    "len(one_xml)"
   ]
  },
  {
   "cell_type": "code",
   "execution_count": 56,
   "metadata": {},
   "outputs": [
    {
     "data": {
      "text/plain": [
       "['<?xml version=\"1.0\" encoding=\"UTF-8\"?>',\n",
       " '<!DOCTYPE us-patent-grant SYSTEM \"us-patent-grant-v42-2006-08-23.dtd\" [ ]>',\n",
       " '<us-patent-grant lang=\"EN\" dtd-version=\"v4.2 2006-08-23\" file=\"US08126465-20120228.XML\" status=\"PRODUCTION\" id=\"us-patent-grant\" country=\"US\" date-produced=\"20120214\" date-publ=\"20120228\">',\n",
       " '<us-bibliographic-data-grant>',\n",
       " '<publication-reference>',\n",
       " '<document-id>',\n",
       " '<country>US</country>',\n",
       " '<doc-number>08126465</doc-number>',\n",
       " '<kind>B2</kind>',\n",
       " '<date>20120228</date>']"
      ]
     },
     "execution_count": 56,
     "metadata": {},
     "output_type": "execute_result"
    }
   ],
   "source": [
    "one_xml[0:10]"
   ]
  },
  {
   "cell_type": "code",
   "execution_count": null,
   "metadata": {},
   "outputs": [],
   "source": []
  },
  {
   "cell_type": "markdown",
   "metadata": {},
   "source": [
    "# Below here is obsolete"
   ]
  },
  {
   "cell_type": "code",
   "execution_count": null,
   "metadata": {},
   "outputs": [],
   "source": []
  },
  {
   "cell_type": "code",
   "execution_count": 67,
   "metadata": {},
   "outputs": [],
   "source": [
    "xmls = glob.glob(\"../data/grants2012/*.xml\")"
   ]
  },
  {
   "cell_type": "code",
   "execution_count": 68,
   "metadata": {},
   "outputs": [
    {
     "data": {
      "text/plain": [
       "'../data/grants2012/ipg120911.xml'"
      ]
     },
     "execution_count": 68,
     "metadata": {},
     "output_type": "execute_result"
    }
   ],
   "source": [
    "xmls[0]"
   ]
  },
  {
   "cell_type": "code",
   "execution_count": 69,
   "metadata": {},
   "outputs": [
    {
     "data": {
      "text/plain": [
       "'grants2012/ipg120911.xml'"
      ]
     },
     "execution_count": 69,
     "metadata": {},
     "output_type": "execute_result"
    }
   ],
   "source": [
    "xmls[0][len(\"../data/\"):]"
   ]
  },
  {
   "cell_type": "code",
   "execution_count": null,
   "metadata": {},
   "outputs": [],
   "source": []
  },
  {
   "cell_type": "code",
   "execution_count": 70,
   "metadata": {},
   "outputs": [],
   "source": [
    "xmlrels = [xml[len(\"../data/\"):] for xml in xmls]"
   ]
  },
  {
   "cell_type": "code",
   "execution_count": 72,
   "metadata": {},
   "outputs": [
    {
     "data": {
      "text/plain": [
       "'grants2012/ipg120911.xml'"
      ]
     },
     "execution_count": 72,
     "metadata": {},
     "output_type": "execute_result"
    }
   ],
   "source": [
    "xmlrels[0]"
   ]
  },
  {
   "cell_type": "code",
   "execution_count": null,
   "metadata": {},
   "outputs": [],
   "source": []
  },
  {
   "cell_type": "raw",
   "metadata": {},
   "source": [
    "Below cell took about 4min.\n",
    "\n",
    "CPU times: user 4.49 s, sys: 812 ms, total: 5.3 s\n",
    "Wall time: 3min 48s"
   ]
  },
  {
   "cell_type": "code",
   "execution_count": 73,
   "metadata": {},
   "outputs": [
    {
     "name": "stdout",
     "output_type": "stream",
     "text": [
      "CPU times: user 4.49 s, sys: 812 ms, total: 5.3 s\n",
      "Wall time: 3min 48s\n"
     ]
    }
   ],
   "source": [
    "%%time\n",
    "\n",
    "for xmlrel in xmlrels:\n",
    "    create_one_index(xmlrel)"
   ]
  },
  {
   "cell_type": "code",
   "execution_count": null,
   "metadata": {},
   "outputs": [],
   "source": []
  },
  {
   "cell_type": "code",
   "execution_count": null,
   "metadata": {},
   "outputs": [],
   "source": []
  },
  {
   "cell_type": "code",
   "execution_count": 9,
   "metadata": {},
   "outputs": [],
   "source": [
    "xmls = glob.glob(\"../data/application2017/*.xml\")\n",
    "xmlrels = [xml[len(\"../data/\"):] for xml in xmls]"
   ]
  },
  {
   "cell_type": "code",
   "execution_count": 10,
   "metadata": {},
   "outputs": [
    {
     "name": "stdout",
     "output_type": "stream",
     "text": [
      "CPU times: user 9.32 s, sys: 1.43 s, total: 10.8 s\n",
      "Wall time: 7min 2s\n"
     ]
    }
   ],
   "source": [
    "%%time\n",
    "\n",
    "for xmlrel in xmlrels:\n",
    "    create_one_index(xmlrel)"
   ]
  },
  {
   "cell_type": "code",
   "execution_count": null,
   "metadata": {},
   "outputs": [],
   "source": []
  },
  {
   "cell_type": "code",
   "execution_count": null,
   "metadata": {},
   "outputs": [],
   "source": []
  },
  {
   "cell_type": "code",
   "execution_count": null,
   "metadata": {},
   "outputs": [],
   "source": []
  },
  {
   "cell_type": "code",
   "execution_count": null,
   "metadata": {},
   "outputs": [],
   "source": []
  },
  {
   "cell_type": "code",
   "execution_count": null,
   "metadata": {},
   "outputs": [],
   "source": [
    "    relxml = indexfile[len(\"../data/index/\"):].rstrip(\".idx\")\n",
    "    for tup in tupples:\n",
    "        key = cut_head_zero_workaround(tup[1])\n",
    "        dic.setdefault(key, []).append([relxml, int(tup[0])])"
   ]
  },
  {
   "cell_type": "code",
   "execution_count": null,
   "metadata": {},
   "outputs": [],
   "source": []
  },
  {
   "cell_type": "code",
   "execution_count": null,
   "metadata": {},
   "outputs": [],
   "source": []
  },
  {
   "cell_type": "code",
   "execution_count": 46,
   "metadata": {},
   "outputs": [],
   "source": [
    "common = INDEX_PATH +'/grants2012/'"
   ]
  },
  {
   "cell_type": "code",
   "execution_count": 47,
   "metadata": {},
   "outputs": [
    {
     "data": {
      "text/plain": [
       "'docnum/ipg120501.xml.idx'"
      ]
     },
     "execution_count": 47,
     "metadata": {},
     "output_type": "execute_result"
    }
   ],
   "source": [
    "indexDNGrants2012[0][len(common):]"
   ]
  },
  {
   "cell_type": "code",
   "execution_count": null,
   "metadata": {},
   "outputs": [],
   "source": []
  },
  {
   "cell_type": "code",
   "execution_count": null,
   "metadata": {},
   "outputs": [],
   "source": []
  },
  {
   "cell_type": "code",
   "execution_count": null,
   "metadata": {},
   "outputs": [],
   "source": []
  },
  {
   "cell_type": "code",
   "execution_count": 49,
   "metadata": {},
   "outputs": [
    {
     "data": {
      "text/plain": [
       "'../data/index/grants2012/docnum'"
      ]
     },
     "execution_count": 49,
     "metadata": {},
     "output_type": "execute_result"
    }
   ],
   "source": [
    "os.path.dirname(fpath)"
   ]
  },
  {
   "cell_type": "code",
   "execution_count": 50,
   "metadata": {},
   "outputs": [
    {
     "data": {
      "text/plain": [
       "'ipg120501.xml.idx'"
      ]
     },
     "execution_count": 50,
     "metadata": {},
     "output_type": "execute_result"
    }
   ],
   "source": [
    "os.path.basename(fpath)"
   ]
  },
  {
   "cell_type": "code",
   "execution_count": 51,
   "metadata": {},
   "outputs": [],
   "source": [
    "indexUSPAGrants2012 = glob.glob(\"../data/index/grants2012/uspatgra/*.idx\")"
   ]
  },
  {
   "cell_type": "code",
   "execution_count": 52,
   "metadata": {},
   "outputs": [],
   "source": [
    "fpath = indexUSPAGrants2012[0]"
   ]
  },
  {
   "cell_type": "code",
   "execution_count": 59,
   "metadata": {},
   "outputs": [],
   "source": [
    "with open(fpath, \"r\") as f:\n",
    "    open_lines = [int(l.split(\":\", 1)[0]) for l in f]\n",
    "with open(fpath.replace(\"uspatgra\", \"close_uspatgra\"), \"r\") as f:\n",
    "    close_lines = [int(l.split(\":\", 1)[0]) for l in f]\n",
    "    "
   ]
  },
  {
   "cell_type": "code",
   "execution_count": 61,
   "metadata": {},
   "outputs": [
    {
     "data": {
      "text/plain": [
       "(5520, 5520)"
      ]
     },
     "execution_count": 61,
     "metadata": {},
     "output_type": "execute_result"
    }
   ],
   "source": [
    "len(open_lines), len(close_lines)"
   ]
  },
  {
   "cell_type": "code",
   "execution_count": 62,
   "metadata": {},
   "outputs": [
    {
     "data": {
      "text/plain": [
       "(3, 364)"
      ]
     },
     "execution_count": 62,
     "metadata": {},
     "output_type": "execute_result"
    }
   ],
   "source": [
    "open_lines[0], close_lines[0]"
   ]
  },
  {
   "cell_type": "code",
   "execution_count": null,
   "metadata": {},
   "outputs": [],
   "source": []
  },
  {
   "cell_type": "code",
   "execution_count": null,
   "metadata": {},
   "outputs": [],
   "source": []
  },
  {
   "cell_type": "code",
   "execution_count": null,
   "metadata": {},
   "outputs": [],
   "source": []
  },
  {
   "cell_type": "code",
   "execution_count": 53,
   "metadata": {},
   "outputs": [],
   "source": [
    "class SubFile:\n",
    "    def __init__(self, fpath, start, end):\n",
    "        self.start = start\n",
    "        self.end = end\n",
    "        self.parent = fpath\n",
    "    def content():\n",
    "        return subfile(fpath, start, end)"
   ]
  },
  {
   "cell_type": "code",
   "execution_count": null,
   "metadata": {},
   "outputs": [],
   "source": []
  },
  {
   "cell_type": "code",
   "execution_count": null,
   "metadata": {},
   "outputs": [],
   "source": []
  },
  {
   "cell_type": "code",
   "execution_count": null,
   "metadata": {},
   "outputs": [],
   "source": []
  },
  {
   "cell_type": "code",
   "execution_count": null,
   "metadata": {},
   "outputs": [],
   "source": []
  },
  {
   "cell_type": "code",
   "execution_count": 14,
   "metadata": {},
   "outputs": [],
   "source": [
    "indexGrants2012 = {}"
   ]
  },
  {
   "cell_type": "code",
   "execution_count": 15,
   "metadata": {},
   "outputs": [],
   "source": [
    "build_all_index_dict(indexfilesGrants2012, indexGrants2012)"
   ]
  },
  {
   "cell_type": "code",
   "execution_count": null,
   "metadata": {},
   "outputs": [],
   "source": []
  },
  {
   "cell_type": "code",
   "execution_count": null,
   "metadata": {},
   "outputs": [],
   "source": []
  },
  {
   "cell_type": "code",
   "execution_count": null,
   "metadata": {},
   "outputs": [],
   "source": []
  },
  {
   "cell_type": "code",
   "execution_count": null,
   "metadata": {},
   "outputs": [],
   "source": []
  },
  {
   "cell_type": "code",
   "execution_count": null,
   "metadata": {},
   "outputs": [],
   "source": []
  },
  {
   "cell_type": "code",
   "execution_count": 7,
   "metadata": {},
   "outputs": [],
   "source": [
    "# workaround. in *.xml, doc-number sometime starts with unknown 0, while citations.csv does not.\n",
    "# so if digit is 8 and start from 0, cut first 0.\n",
    "\n",
    "def cut_head_zero_workaround(key):\n",
    "    if len(key) == 8 and key.startswith(\"0\"):\n",
    "        return key[1:]\n",
    "    return key"
   ]
  },
  {
   "cell_type": "code",
   "execution_count": 8,
   "metadata": {},
   "outputs": [],
   "source": [
    "# dict format:\n",
    "# key is doc-number\n",
    "# val is list of [relxml, linenumber]\n",
    "\n",
    "def build_one_index_file_to_dict(indexfile, dic):\n",
    "    with open(indexfile, \"r\") as f:\n",
    "        tupples = [l.rstrip(\"\\n\").split(\":\", 1) for l in f]\n",
    "    relxml = indexfile[len(\"../data/index/\"):].rstrip(\".idx\")\n",
    "    for tup in tupples:\n",
    "        key = cut_head_zero_workaround(tup[1])\n",
    "        dic.setdefault(key, []).append([relxml, int(tup[0])])"
   ]
  },
  {
   "cell_type": "code",
   "execution_count": null,
   "metadata": {},
   "outputs": [],
   "source": []
  },
  {
   "cell_type": "code",
   "execution_count": 9,
   "metadata": {},
   "outputs": [],
   "source": [
    "def build_all_index_dict(indexfiles, dic):\n",
    "    for f in indexfiles:\n",
    "        build_one_index_file_to_dict(f, dic)"
   ]
  },
  {
   "cell_type": "code",
   "execution_count": null,
   "metadata": {},
   "outputs": [],
   "source": []
  },
  {
   "cell_type": "code",
   "execution_count": null,
   "metadata": {},
   "outputs": [],
   "source": []
  },
  {
   "cell_type": "code",
   "execution_count": 10,
   "metadata": {},
   "outputs": [],
   "source": [
    "indexfiles2017 = glob.glob(\"../data/index/application2017/*.idx\")"
   ]
  },
  {
   "cell_type": "code",
   "execution_count": 11,
   "metadata": {},
   "outputs": [],
   "source": [
    "index2017 = {}"
   ]
  },
  {
   "cell_type": "code",
   "execution_count": 12,
   "metadata": {},
   "outputs": [],
   "source": [
    "build_all_index_dict(indexfiles2017, index2017)"
   ]
  },
  {
   "cell_type": "code",
   "execution_count": null,
   "metadata": {},
   "outputs": [],
   "source": []
  },
  {
   "cell_type": "code",
   "execution_count": 13,
   "metadata": {},
   "outputs": [],
   "source": [
    "indexfilesGrants2012 = glob.glob(\"../data/index/grants2012/*.idx\")"
   ]
  },
  {
   "cell_type": "code",
   "execution_count": 14,
   "metadata": {},
   "outputs": [],
   "source": [
    "indexGrants2012 = {}"
   ]
  },
  {
   "cell_type": "code",
   "execution_count": 15,
   "metadata": {},
   "outputs": [],
   "source": [
    "build_all_index_dict(indexfilesGrants2012, indexGrants2012)"
   ]
  },
  {
   "cell_type": "code",
   "execution_count": null,
   "metadata": {},
   "outputs": [],
   "source": []
  },
  {
   "cell_type": "markdown",
   "metadata": {},
   "source": [
    "### Filter office action only of application 2017 doc-number."
   ]
  },
  {
   "cell_type": "code",
   "execution_count": 16,
   "metadata": {},
   "outputs": [],
   "source": [
    "# key of index2017 is string because doc-number sometime contains non-int value.\n",
    "# so we create string row in office action data frame to use isin method.\n",
    "\n",
    "office_15[\"app_id_str\"] = office_15.app_id.map(str)"
   ]
  },
  {
   "cell_type": "code",
   "execution_count": null,
   "metadata": {},
   "outputs": [],
   "source": []
  },
  {
   "cell_type": "code",
   "execution_count": 17,
   "metadata": {},
   "outputs": [
    {
     "data": {
      "text/plain": [
       "21820"
      ]
     },
     "execution_count": 17,
     "metadata": {},
     "output_type": "execute_result"
    }
   ],
   "source": [
    "sum(office_15.app_id_str.isin(index2017) == True)"
   ]
  },
  {
   "cell_type": "code",
   "execution_count": 18,
   "metadata": {},
   "outputs": [],
   "source": [
    "office2017 = office_15[office_15.app_id_str.isin(index2017)]"
   ]
  },
  {
   "cell_type": "code",
   "execution_count": null,
   "metadata": {},
   "outputs": [],
   "source": []
  },
  {
   "cell_type": "code",
   "execution_count": 19,
   "metadata": {},
   "outputs": [
    {
     "data": {
      "text/plain": [
       "21820"
      ]
     },
     "execution_count": 19,
     "metadata": {},
     "output_type": "execute_result"
    }
   ],
   "source": [
    "len(office2017)"
   ]
  },
  {
   "cell_type": "code",
   "execution_count": 20,
   "metadata": {},
   "outputs": [
    {
     "data": {
      "text/html": [
       "<div>\n",
       "<style scoped>\n",
       "    .dataframe tbody tr th:only-of-type {\n",
       "        vertical-align: middle;\n",
       "    }\n",
       "\n",
       "    .dataframe tbody tr th {\n",
       "        vertical-align: top;\n",
       "    }\n",
       "\n",
       "    .dataframe thead th {\n",
       "        text-align: right;\n",
       "    }\n",
       "</style>\n",
       "<table border=\"1\" class=\"dataframe\">\n",
       "  <thead>\n",
       "    <tr style=\"text-align: right;\">\n",
       "      <th></th>\n",
       "      <th>app_id</th>\n",
       "      <th>ifw_number</th>\n",
       "      <th>document_cd</th>\n",
       "      <th>mail_dt</th>\n",
       "      <th>art_unit</th>\n",
       "      <th>uspc_class</th>\n",
       "      <th>uspc_subclass</th>\n",
       "      <th>header_missing</th>\n",
       "      <th>fp_missing</th>\n",
       "      <th>rejection_fp_mismatch</th>\n",
       "      <th>...</th>\n",
       "      <th>rejection_112</th>\n",
       "      <th>rejection_dp</th>\n",
       "      <th>objection</th>\n",
       "      <th>allowed_claims</th>\n",
       "      <th>cite102_gt1</th>\n",
       "      <th>cite103_gt3</th>\n",
       "      <th>cite103_eq1</th>\n",
       "      <th>cite103_max</th>\n",
       "      <th>signature_type</th>\n",
       "      <th>app_id_str</th>\n",
       "    </tr>\n",
       "  </thead>\n",
       "  <tbody>\n",
       "    <tr>\n",
       "      <th>3561801</th>\n",
       "      <td>15005636</td>\n",
       "      <td>IKSG9XK1RXEAPX1</td>\n",
       "      <td>CTNF</td>\n",
       "      <td>2016-02-22</td>\n",
       "      <td>3766</td>\n",
       "      <td>600</td>\n",
       "      <td>509000</td>\n",
       "      <td>0</td>\n",
       "      <td>0</td>\n",
       "      <td>0</td>\n",
       "      <td>...</td>\n",
       "      <td>1</td>\n",
       "      <td>1</td>\n",
       "      <td>0</td>\n",
       "      <td>0</td>\n",
       "      <td>0</td>\n",
       "      <td>0</td>\n",
       "      <td>0</td>\n",
       "      <td>0</td>\n",
       "      <td>0</td>\n",
       "      <td>15005636</td>\n",
       "    </tr>\n",
       "    <tr>\n",
       "      <th>3564336</th>\n",
       "      <td>15001553</td>\n",
       "      <td>IKTT4P0TRXEAPX1</td>\n",
       "      <td>CTNF</td>\n",
       "      <td>2016-02-19</td>\n",
       "      <td>1625</td>\n",
       "      <td>514</td>\n",
       "      <td>279000</td>\n",
       "      <td>0</td>\n",
       "      <td>1</td>\n",
       "      <td>0</td>\n",
       "      <td>...</td>\n",
       "      <td>1</td>\n",
       "      <td>0</td>\n",
       "      <td>0</td>\n",
       "      <td>0</td>\n",
       "      <td>0</td>\n",
       "      <td>0</td>\n",
       "      <td>0</td>\n",
       "      <td>0</td>\n",
       "      <td>1</td>\n",
       "      <td>15001553</td>\n",
       "    </tr>\n",
       "    <tr>\n",
       "      <th>3568839</th>\n",
       "      <td>15009367</td>\n",
       "      <td>IKZGL7O1RXEAPX4</td>\n",
       "      <td>CTNF</td>\n",
       "      <td>2016-02-25</td>\n",
       "      <td>2137</td>\n",
       "      <td>711</td>\n",
       "      <td>103000</td>\n",
       "      <td>0</td>\n",
       "      <td>0</td>\n",
       "      <td>0</td>\n",
       "      <td>...</td>\n",
       "      <td>0</td>\n",
       "      <td>1</td>\n",
       "      <td>0</td>\n",
       "      <td>0</td>\n",
       "      <td>0</td>\n",
       "      <td>0</td>\n",
       "      <td>0</td>\n",
       "      <td>0</td>\n",
       "      <td>1</td>\n",
       "      <td>15009367</td>\n",
       "    </tr>\n",
       "    <tr>\n",
       "      <th>3569392</th>\n",
       "      <td>15041416</td>\n",
       "      <td>IKZI6SS3RXEAPX1</td>\n",
       "      <td>CTNF</td>\n",
       "      <td>2016-02-25</td>\n",
       "      <td>2618</td>\n",
       "      <td>345</td>\n",
       "      <td>619000</td>\n",
       "      <td>0</td>\n",
       "      <td>0</td>\n",
       "      <td>0</td>\n",
       "      <td>...</td>\n",
       "      <td>0</td>\n",
       "      <td>0</td>\n",
       "      <td>0</td>\n",
       "      <td>0</td>\n",
       "      <td>0</td>\n",
       "      <td>1</td>\n",
       "      <td>0</td>\n",
       "      <td>5</td>\n",
       "      <td>1</td>\n",
       "      <td>15041416</td>\n",
       "    </tr>\n",
       "    <tr>\n",
       "      <th>3574015</th>\n",
       "      <td>15014088</td>\n",
       "      <td>IL0U1CK0RXEAPX5</td>\n",
       "      <td>CTNF</td>\n",
       "      <td>2016-02-26</td>\n",
       "      <td>2852</td>\n",
       "      <td>399</td>\n",
       "      <td>085000</td>\n",
       "      <td>0</td>\n",
       "      <td>0</td>\n",
       "      <td>0</td>\n",
       "      <td>...</td>\n",
       "      <td>0</td>\n",
       "      <td>0</td>\n",
       "      <td>1</td>\n",
       "      <td>0</td>\n",
       "      <td>0</td>\n",
       "      <td>0</td>\n",
       "      <td>0</td>\n",
       "      <td>2</td>\n",
       "      <td>1</td>\n",
       "      <td>15014088</td>\n",
       "    </tr>\n",
       "  </tbody>\n",
       "</table>\n",
       "<p>5 rows × 24 columns</p>\n",
       "</div>"
      ],
      "text/plain": [
       "           app_id       ifw_number document_cd     mail_dt art_unit  \\\n",
       "3561801  15005636  IKSG9XK1RXEAPX1        CTNF  2016-02-22     3766   \n",
       "3564336  15001553  IKTT4P0TRXEAPX1        CTNF  2016-02-19     1625   \n",
       "3568839  15009367  IKZGL7O1RXEAPX4        CTNF  2016-02-25     2137   \n",
       "3569392  15041416  IKZI6SS3RXEAPX1        CTNF  2016-02-25     2618   \n",
       "3574015  15014088  IL0U1CK0RXEAPX5        CTNF  2016-02-26     2852   \n",
       "\n",
       "        uspc_class uspc_subclass  header_missing  fp_missing  \\\n",
       "3561801        600        509000               0           0   \n",
       "3564336        514        279000               0           1   \n",
       "3568839        711        103000               0           0   \n",
       "3569392        345        619000               0           0   \n",
       "3574015        399        085000               0           0   \n",
       "\n",
       "         rejection_fp_mismatch     ...      rejection_112  rejection_dp  \\\n",
       "3561801                      0     ...                  1             1   \n",
       "3564336                      0     ...                  1             0   \n",
       "3568839                      0     ...                  0             1   \n",
       "3569392                      0     ...                  0             0   \n",
       "3574015                      0     ...                  0             0   \n",
       "\n",
       "         objection  allowed_claims  cite102_gt1  cite103_gt3  cite103_eq1  \\\n",
       "3561801          0               0            0            0            0   \n",
       "3564336          0               0            0            0            0   \n",
       "3568839          0               0            0            0            0   \n",
       "3569392          0               0            0            1            0   \n",
       "3574015          1               0            0            0            0   \n",
       "\n",
       "         cite103_max  signature_type  app_id_str  \n",
       "3561801            0               0    15005636  \n",
       "3564336            0               1    15001553  \n",
       "3568839            0               1    15009367  \n",
       "3569392            5               1    15041416  \n",
       "3574015            2               1    15014088  \n",
       "\n",
       "[5 rows x 24 columns]"
      ]
     },
     "execution_count": 20,
     "metadata": {},
     "output_type": "execute_result"
    }
   ],
   "source": [
    "office2017.head()"
   ]
  },
  {
   "cell_type": "code",
   "execution_count": null,
   "metadata": {},
   "outputs": [],
   "source": []
  },
  {
   "cell_type": "code",
   "execution_count": 21,
   "metadata": {},
   "outputs": [],
   "source": [
    "ifw_from_OA = set(office2017.ifw_number)"
   ]
  },
  {
   "cell_type": "code",
   "execution_count": 22,
   "metadata": {},
   "outputs": [
    {
     "data": {
      "text/plain": [
       "21820"
      ]
     },
     "execution_count": 22,
     "metadata": {},
     "output_type": "execute_result"
    }
   ],
   "source": [
    "len(list(ifw_from_OA))"
   ]
  },
  {
   "cell_type": "code",
   "execution_count": null,
   "metadata": {},
   "outputs": [],
   "source": []
  },
  {
   "cell_type": "code",
   "execution_count": null,
   "metadata": {},
   "outputs": [],
   "source": []
  },
  {
   "cell_type": "code",
   "execution_count": null,
   "metadata": {},
   "outputs": [],
   "source": []
  },
  {
   "cell_type": "code",
   "execution_count": null,
   "metadata": {},
   "outputs": [],
   "source": []
  },
  {
   "cell_type": "code",
   "execution_count": 23,
   "metadata": {},
   "outputs": [
    {
     "data": {
      "text/html": [
       "<div>\n",
       "<style scoped>\n",
       "    .dataframe tbody tr th:only-of-type {\n",
       "        vertical-align: middle;\n",
       "    }\n",
       "\n",
       "    .dataframe tbody tr th {\n",
       "        vertical-align: top;\n",
       "    }\n",
       "\n",
       "    .dataframe thead th {\n",
       "        text-align: right;\n",
       "    }\n",
       "</style>\n",
       "<table border=\"1\" class=\"dataframe\">\n",
       "  <thead>\n",
       "    <tr style=\"text-align: right;\">\n",
       "      <th></th>\n",
       "      <th>app_id</th>\n",
       "      <th>citation_pat_pgpub_id</th>\n",
       "      <th>parsed</th>\n",
       "      <th>ifw_number</th>\n",
       "      <th>action_type</th>\n",
       "      <th>action_subtype</th>\n",
       "      <th>form892</th>\n",
       "      <th>form1449</th>\n",
       "      <th>citation_in_oa</th>\n",
       "    </tr>\n",
       "  </thead>\n",
       "  <tbody>\n",
       "    <tr>\n",
       "      <th>57732192</th>\n",
       "      <td>15000008</td>\n",
       "      <td>8291627</td>\n",
       "      <td>8291627</td>\n",
       "      <td>NaN</td>\n",
       "      <td>NaN</td>\n",
       "      <td>NaN</td>\n",
       "      <td>1</td>\n",
       "      <td>0</td>\n",
       "      <td>0</td>\n",
       "    </tr>\n",
       "    <tr>\n",
       "      <th>57732193</th>\n",
       "      <td>15000008</td>\n",
       "      <td>2093620</td>\n",
       "      <td>2093620</td>\n",
       "      <td>NaN</td>\n",
       "      <td>NaN</td>\n",
       "      <td>NaN</td>\n",
       "      <td>1</td>\n",
       "      <td>0</td>\n",
       "      <td>0</td>\n",
       "    </tr>\n",
       "    <tr>\n",
       "      <th>57732194</th>\n",
       "      <td>15000008</td>\n",
       "      <td>9221406</td>\n",
       "      <td>9221406</td>\n",
       "      <td>NaN</td>\n",
       "      <td>NaN</td>\n",
       "      <td>NaN</td>\n",
       "      <td>1</td>\n",
       "      <td>0</td>\n",
       "      <td>0</td>\n",
       "    </tr>\n",
       "    <tr>\n",
       "      <th>57732195</th>\n",
       "      <td>15000008</td>\n",
       "      <td>8544198</td>\n",
       "      <td>8544198</td>\n",
       "      <td>NaN</td>\n",
       "      <td>NaN</td>\n",
       "      <td>NaN</td>\n",
       "      <td>1</td>\n",
       "      <td>0</td>\n",
       "      <td>0</td>\n",
       "    </tr>\n",
       "    <tr>\n",
       "      <th>57732196</th>\n",
       "      <td>15000008</td>\n",
       "      <td>7225569</td>\n",
       "      <td>7225569</td>\n",
       "      <td>NaN</td>\n",
       "      <td>NaN</td>\n",
       "      <td>NaN</td>\n",
       "      <td>1</td>\n",
       "      <td>0</td>\n",
       "      <td>0</td>\n",
       "    </tr>\n",
       "  </tbody>\n",
       "</table>\n",
       "</div>"
      ],
      "text/plain": [
       "            app_id citation_pat_pgpub_id   parsed ifw_number  action_type  \\\n",
       "57732192  15000008               8291627  8291627        NaN          NaN   \n",
       "57732193  15000008               2093620  2093620        NaN          NaN   \n",
       "57732194  15000008               9221406  9221406        NaN          NaN   \n",
       "57732195  15000008               8544198  8544198        NaN          NaN   \n",
       "57732196  15000008               7225569  7225569        NaN          NaN   \n",
       "\n",
       "         action_subtype  form892  form1449  citation_in_oa  \n",
       "57732192            NaN        1         0               0  \n",
       "57732193            NaN        1         0               0  \n",
       "57732194            NaN        1         0               0  \n",
       "57732195            NaN        1         0               0  \n",
       "57732196            NaN        1         0               0  "
      ]
     },
     "execution_count": 23,
     "metadata": {},
     "output_type": "execute_result"
    }
   ],
   "source": [
    "citations_15.head()"
   ]
  },
  {
   "cell_type": "code",
   "execution_count": 24,
   "metadata": {},
   "outputs": [],
   "source": [
    "citations_2017 = citations_15[citations_15.ifw_number.isin(ifw_from_OA)]"
   ]
  },
  {
   "cell_type": "code",
   "execution_count": 25,
   "metadata": {},
   "outputs": [
    {
     "data": {
      "text/plain": [
       "43416"
      ]
     },
     "execution_count": 25,
     "metadata": {},
     "output_type": "execute_result"
    }
   ],
   "source": [
    "len(citations_2017)"
   ]
  },
  {
   "cell_type": "code",
   "execution_count": 26,
   "metadata": {},
   "outputs": [
    {
     "data": {
      "text/html": [
       "<div>\n",
       "<style scoped>\n",
       "    .dataframe tbody tr th:only-of-type {\n",
       "        vertical-align: middle;\n",
       "    }\n",
       "\n",
       "    .dataframe tbody tr th {\n",
       "        vertical-align: top;\n",
       "    }\n",
       "\n",
       "    .dataframe thead th {\n",
       "        text-align: right;\n",
       "    }\n",
       "</style>\n",
       "<table border=\"1\" class=\"dataframe\">\n",
       "  <thead>\n",
       "    <tr style=\"text-align: right;\">\n",
       "      <th></th>\n",
       "      <th>app_id</th>\n",
       "      <th>citation_pat_pgpub_id</th>\n",
       "      <th>parsed</th>\n",
       "      <th>ifw_number</th>\n",
       "      <th>action_type</th>\n",
       "      <th>action_subtype</th>\n",
       "      <th>form892</th>\n",
       "      <th>form1449</th>\n",
       "      <th>citation_in_oa</th>\n",
       "    </tr>\n",
       "  </thead>\n",
       "  <tbody>\n",
       "    <tr>\n",
       "      <th>57732253</th>\n",
       "      <td>15000027</td>\n",
       "      <td>8553488</td>\n",
       "      <td>8553488</td>\n",
       "      <td>IRPCOHEPRXEAPX4</td>\n",
       "      <td>102.0</td>\n",
       "      <td>a</td>\n",
       "      <td>1</td>\n",
       "      <td>0</td>\n",
       "      <td>1</td>\n",
       "    </tr>\n",
       "    <tr>\n",
       "      <th>57732273</th>\n",
       "      <td>15000034</td>\n",
       "      <td>Dando US 2015/0364400</td>\n",
       "      <td>20150364400</td>\n",
       "      <td>IYD99O6CRXEAPX0</td>\n",
       "      <td>103.0</td>\n",
       "      <td>NaN</td>\n",
       "      <td>0</td>\n",
       "      <td>0</td>\n",
       "      <td>1</td>\n",
       "    </tr>\n",
       "    <tr>\n",
       "      <th>57732274</th>\n",
       "      <td>15000034</td>\n",
       "      <td>Sun US 2012/0181696</td>\n",
       "      <td>20120181696</td>\n",
       "      <td>IYD99O6CRXEAPX0</td>\n",
       "      <td>103.0</td>\n",
       "      <td>NaN</td>\n",
       "      <td>0</td>\n",
       "      <td>0</td>\n",
       "      <td>1</td>\n",
       "    </tr>\n",
       "    <tr>\n",
       "      <th>57732275</th>\n",
       "      <td>15000034</td>\n",
       "      <td>Sun US 2012/0279760</td>\n",
       "      <td>20120279760</td>\n",
       "      <td>IYD99O6CRXEAPX0</td>\n",
       "      <td>103.0</td>\n",
       "      <td>NaN</td>\n",
       "      <td>0</td>\n",
       "      <td>0</td>\n",
       "      <td>1</td>\n",
       "    </tr>\n",
       "    <tr>\n",
       "      <th>57732324</th>\n",
       "      <td>15000048</td>\n",
       "      <td>20140091294</td>\n",
       "      <td>20140091294</td>\n",
       "      <td>IR59S77KRXEAPX5</td>\n",
       "      <td>103.0</td>\n",
       "      <td>NaN</td>\n",
       "      <td>1</td>\n",
       "      <td>0</td>\n",
       "      <td>1</td>\n",
       "    </tr>\n",
       "  </tbody>\n",
       "</table>\n",
       "</div>"
      ],
      "text/plain": [
       "            app_id  citation_pat_pgpub_id       parsed       ifw_number  \\\n",
       "57732253  15000027                8553488      8553488  IRPCOHEPRXEAPX4   \n",
       "57732273  15000034  Dando US 2015/0364400  20150364400  IYD99O6CRXEAPX0   \n",
       "57732274  15000034    Sun US 2012/0181696  20120181696  IYD99O6CRXEAPX0   \n",
       "57732275  15000034    Sun US 2012/0279760  20120279760  IYD99O6CRXEAPX0   \n",
       "57732324  15000048            20140091294  20140091294  IR59S77KRXEAPX5   \n",
       "\n",
       "          action_type action_subtype  form892  form1449  citation_in_oa  \n",
       "57732253        102.0              a        1         0               1  \n",
       "57732273        103.0            NaN        0         0               1  \n",
       "57732274        103.0            NaN        0         0               1  \n",
       "57732275        103.0            NaN        0         0               1  \n",
       "57732324        103.0            NaN        1         0               1  "
      ]
     },
     "execution_count": 26,
     "metadata": {},
     "output_type": "execute_result"
    }
   ],
   "source": [
    "citations_2017.head()"
   ]
  },
  {
   "cell_type": "code",
   "execution_count": 27,
   "metadata": {},
   "outputs": [],
   "source": [
    "# citations_we_have = citations_2017[citations_2017.citation_pat_pgpub_id.isin(indexGrants2012)]\n",
    "citations_we_have = citations_2017[citations_2017.parsed.isin(indexGrants2012)]"
   ]
  },
  {
   "cell_type": "code",
   "execution_count": 28,
   "metadata": {},
   "outputs": [
    {
     "data": {
      "text/plain": [
       "8365"
      ]
     },
     "execution_count": 28,
     "metadata": {},
     "output_type": "execute_result"
    }
   ],
   "source": [
    "len(citations_we_have)"
   ]
  },
  {
   "cell_type": "code",
   "execution_count": 29,
   "metadata": {},
   "outputs": [
    {
     "data": {
      "text/html": [
       "<div>\n",
       "<style scoped>\n",
       "    .dataframe tbody tr th:only-of-type {\n",
       "        vertical-align: middle;\n",
       "    }\n",
       "\n",
       "    .dataframe tbody tr th {\n",
       "        vertical-align: top;\n",
       "    }\n",
       "\n",
       "    .dataframe thead th {\n",
       "        text-align: right;\n",
       "    }\n",
       "</style>\n",
       "<table border=\"1\" class=\"dataframe\">\n",
       "  <thead>\n",
       "    <tr style=\"text-align: right;\">\n",
       "      <th></th>\n",
       "      <th>app_id</th>\n",
       "      <th>citation_pat_pgpub_id</th>\n",
       "      <th>parsed</th>\n",
       "      <th>ifw_number</th>\n",
       "      <th>action_type</th>\n",
       "      <th>action_subtype</th>\n",
       "      <th>form892</th>\n",
       "      <th>form1449</th>\n",
       "      <th>citation_in_oa</th>\n",
       "    </tr>\n",
       "  </thead>\n",
       "  <tbody>\n",
       "    <tr>\n",
       "      <th>57733581</th>\n",
       "      <td>15000285</td>\n",
       "      <td>4659845</td>\n",
       "      <td>4659845</td>\n",
       "      <td>IV82WOB1RXEAPX5</td>\n",
       "      <td>103.0</td>\n",
       "      <td>NaN</td>\n",
       "      <td>1</td>\n",
       "      <td>0</td>\n",
       "      <td>1</td>\n",
       "    </tr>\n",
       "    <tr>\n",
       "      <th>57733622</th>\n",
       "      <td>15000297</td>\n",
       "      <td>7268118</td>\n",
       "      <td>7268118</td>\n",
       "      <td>IO1DLQ1SRXEAPX3</td>\n",
       "      <td>102.0</td>\n",
       "      <td>b</td>\n",
       "      <td>0</td>\n",
       "      <td>1</td>\n",
       "      <td>1</td>\n",
       "    </tr>\n",
       "    <tr>\n",
       "      <th>57733623</th>\n",
       "      <td>15000297</td>\n",
       "      <td>7268118</td>\n",
       "      <td>7268118</td>\n",
       "      <td>IO1DLQ1SRXEAPX3</td>\n",
       "      <td>103.0</td>\n",
       "      <td>a</td>\n",
       "      <td>0</td>\n",
       "      <td>1</td>\n",
       "      <td>1</td>\n",
       "    </tr>\n",
       "    <tr>\n",
       "      <th>57733624</th>\n",
       "      <td>15000297</td>\n",
       "      <td>5578570</td>\n",
       "      <td>5578570</td>\n",
       "      <td>IO1DLQ1SRXEAPX3</td>\n",
       "      <td>103.0</td>\n",
       "      <td>a</td>\n",
       "      <td>1</td>\n",
       "      <td>0</td>\n",
       "      <td>1</td>\n",
       "    </tr>\n",
       "    <tr>\n",
       "      <th>57733628</th>\n",
       "      <td>15000297</td>\n",
       "      <td>5342620</td>\n",
       "      <td>5342620</td>\n",
       "      <td>IO1DLQ1SRXEAPX3</td>\n",
       "      <td>103.0</td>\n",
       "      <td>a</td>\n",
       "      <td>1</td>\n",
       "      <td>1</td>\n",
       "      <td>1</td>\n",
       "    </tr>\n",
       "  </tbody>\n",
       "</table>\n",
       "</div>"
      ],
      "text/plain": [
       "            app_id citation_pat_pgpub_id   parsed       ifw_number  \\\n",
       "57733581  15000285               4659845  4659845  IV82WOB1RXEAPX5   \n",
       "57733622  15000297               7268118  7268118  IO1DLQ1SRXEAPX3   \n",
       "57733623  15000297               7268118  7268118  IO1DLQ1SRXEAPX3   \n",
       "57733624  15000297               5578570  5578570  IO1DLQ1SRXEAPX3   \n",
       "57733628  15000297               5342620  5342620  IO1DLQ1SRXEAPX3   \n",
       "\n",
       "          action_type action_subtype  form892  form1449  citation_in_oa  \n",
       "57733581        103.0            NaN        1         0               1  \n",
       "57733622        102.0              b        0         1               1  \n",
       "57733623        103.0              a        0         1               1  \n",
       "57733624        103.0              a        1         0               1  \n",
       "57733628        103.0              a        1         1               1  "
      ]
     },
     "execution_count": 29,
     "metadata": {},
     "output_type": "execute_result"
    }
   ],
   "source": [
    "citations_we_have.head()"
   ]
  },
  {
   "cell_type": "code",
   "execution_count": 30,
   "metadata": {},
   "outputs": [],
   "source": [
    "citations_we_have.to_pickle(\"../data/citations_2017_2012.dat\")"
   ]
  },
  {
   "cell_type": "code",
   "execution_count": null,
   "metadata": {},
   "outputs": [],
   "source": []
  },
  {
   "cell_type": "code",
   "execution_count": null,
   "metadata": {},
   "outputs": [],
   "source": []
  },
  {
   "cell_type": "code",
   "execution_count": 31,
   "metadata": {},
   "outputs": [],
   "source": [
    "index2017_we_need = {str(key):index2017[str(key)] for key in set(citations_we_have.app_id)}"
   ]
  },
  {
   "cell_type": "code",
   "execution_count": 32,
   "metadata": {},
   "outputs": [
    {
     "data": {
      "text/plain": [
       "4734"
      ]
     },
     "execution_count": 32,
     "metadata": {},
     "output_type": "execute_result"
    }
   ],
   "source": [
    "len(list(index2017_we_need.keys()))"
   ]
  },
  {
   "cell_type": "code",
   "execution_count": null,
   "metadata": {},
   "outputs": [],
   "source": []
  },
  {
   "cell_type": "code",
   "execution_count": null,
   "metadata": {},
   "outputs": [],
   "source": []
  },
  {
   "cell_type": "code",
   "execution_count": 33,
   "metadata": {},
   "outputs": [],
   "source": [
    "indexGrants2012_we_need = {str(key):indexGrants2012[str(key)] for key in set(citations_we_have.parsed)}"
   ]
  },
  {
   "cell_type": "code",
   "execution_count": null,
   "metadata": {},
   "outputs": [],
   "source": []
  },
  {
   "cell_type": "code",
   "execution_count": 34,
   "metadata": {},
   "outputs": [
    {
     "data": {
      "text/plain": [
       "['3087414',\n",
       " '5010940',\n",
       " '2916244',\n",
       " '20100012972',\n",
       " '20090300770',\n",
       " '6550847',\n",
       " '6597345',\n",
       " '5848419',\n",
       " '6415183',\n",
       " '6978184']"
      ]
     },
     "execution_count": 34,
     "metadata": {},
     "output_type": "execute_result"
    }
   ],
   "source": [
    "list(indexGrants2012_we_need.keys())[0:10]"
   ]
  },
  {
   "cell_type": "code",
   "execution_count": 35,
   "metadata": {},
   "outputs": [
    {
     "data": {
      "text/plain": [
       "6352"
      ]
     },
     "execution_count": 35,
     "metadata": {},
     "output_type": "execute_result"
    }
   ],
   "source": [
    "len(list(indexGrants2012_we_need.keys()))"
   ]
  },
  {
   "cell_type": "code",
   "execution_count": null,
   "metadata": {},
   "outputs": [],
   "source": []
  },
  {
   "cell_type": "code",
   "execution_count": 204,
   "metadata": {
    "scrolled": true
   },
   "outputs": [
    {
     "data": {
      "text/plain": [
       "[['grants2012/ipg121030.xml', 5731295],\n",
       " ['grants2012/ipg120724.xml', 3034084],\n",
       " ['grants2012/ipg120724.xml', 3038802]]"
      ]
     },
     "execution_count": 204,
     "metadata": {},
     "output_type": "execute_result"
    }
   ],
   "source": [
    "indexGrants2012_we_need['8227462']"
   ]
  },
  {
   "cell_type": "code",
   "execution_count": null,
   "metadata": {},
   "outputs": [],
   "source": []
  },
  {
   "cell_type": "code",
   "execution_count": 68,
   "metadata": {},
   "outputs": [],
   "source": [
    "## cut subtext of (target-bound):(target+bound) from very large text file\n",
    "## but if (target-bound) is smaller than 1, treat as 1.\n",
    "## retuned value is tupple which value is\n",
    "## first cell: offset for target\n",
    "## second cell: array of text, each element stand for one line.\n",
    "\n",
    "def retrieve_subtext_fast(target, fpath, begin_bound, end_bound):\n",
    "    start = max(1, target-begin_bound)\n",
    "    end = target+end_bound\n",
    "    sed_arg = \"'{},{}p'\".format(start, end)\n",
    "    subtext = !sed -n {sed_arg} {fpath}\n",
    "    return (target - start, subtext)"
   ]
  },
  {
   "cell_type": "code",
   "execution_count": null,
   "metadata": {},
   "outputs": [],
   "source": []
  },
  {
   "cell_type": "code",
   "execution_count": null,
   "metadata": {},
   "outputs": [],
   "source": []
  },
  {
   "cell_type": "code",
   "execution_count": 98,
   "metadata": {},
   "outputs": [],
   "source": [
    "#<us-patent-application ...>...</us-patent-application>\n",
    "#<us-patent-grant ...>....</us-patent-grant>\n",
    "\n",
    "def find_nearest_root_element(target_offset, subtext_arr, tagname):\n",
    "    begin_tag = '<{}'.format(tagname)\n",
    "    last_cand = -1\n",
    "    for i, line in enumerate(subtext_arr):\n",
    "        if i > target_offset:\n",
    "            if last_cand == -1:\n",
    "                # begin tag not found until target_offset.\n",
    "                # We assume real doc-number must be near the begin_tag,\n",
    "                # So we set BEGIN_BOUND small and this case is normal (doc-number is far away from begin tag, that is, wrong one.)\n",
    "                return -1\n",
    "            return last_cand\n",
    "        if begin_tag in line:\n",
    "            last_cand = i\n",
    "    raise ValueError('no target tagname found around target_offset')        "
   ]
  },
  {
   "cell_type": "code",
   "execution_count": null,
   "metadata": {},
   "outputs": [],
   "source": []
  },
  {
   "cell_type": "code",
   "execution_count": 101,
   "metadata": {},
   "outputs": [],
   "source": [
    "def retrieve_begin_end(begin_offset, subtext_arr, tagname):\n",
    "    end_tag = '</{}'.format(tagname)\n",
    "    res = []\n",
    "    for line in subtext_arr[begin_offset:]:\n",
    "        res.append(line)\n",
    "        if end_tag in line:\n",
    "            return res\n",
    "    raise ValueError('no end tagname found')        "
   ]
  },
  {
   "cell_type": "code",
   "execution_count": null,
   "metadata": {},
   "outputs": [],
   "source": []
  },
  {
   "cell_type": "code",
   "execution_count": 39,
   "metadata": {},
   "outputs": [],
   "source": [
    "import re"
   ]
  },
  {
   "cell_type": "code",
   "execution_count": null,
   "metadata": {},
   "outputs": [],
   "source": []
  },
  {
   "cell_type": "code",
   "execution_count": 102,
   "metadata": {},
   "outputs": [],
   "source": [
    "DOC_NUMBER_PAT=re.compile(r'<doc-number>([^<]+)</doc-number>')\n",
    "\n",
    "def find_first_doc_number(text_arr):\n",
    "    res = []\n",
    "    for text in text_arr:\n",
    "        matchObj = DOC_NUMBER_PAT.search(text)\n",
    "        if matchObj:\n",
    "            return cut_head_zero_workaround(matchObj.group(1))\n",
    "    raise ValueError(\"No doc-number found.\")\n",
    "        \n",
    "    "
   ]
  },
  {
   "cell_type": "code",
   "execution_count": 210,
   "metadata": {},
   "outputs": [
    {
     "data": {
      "text/plain": [
       "'20170351915'"
      ]
     },
     "execution_count": 210,
     "metadata": {},
     "output_type": "execute_result"
    }
   ],
   "source": [
    "find_first_doc_number(res_pat)"
   ]
  },
  {
   "cell_type": "code",
   "execution_count": null,
   "metadata": {},
   "outputs": [],
   "source": []
  },
  {
   "cell_type": "code",
   "execution_count": 66,
   "metadata": {},
   "outputs": [],
   "source": [
    "# tagname is \"us-patent-application\" or \"us-patent-grant\"\n",
    "#<us-patent-application ...>...</us-patent-application>\n",
    "#<us-patent-grant ...>....</us-patent-grant>\n",
    "\n",
    "def get_patent(tagname, file_path, target_offset):\n",
    "    BEGIN_BOUND=200\n",
    "    END_BOUND=10000\n",
    "    target_mod_offset, subtext_arr = retrieve_subtext_fast(target_offset, file_path, BEGIN_BOUND, END_BOUND)\n",
    "    begin_pos = find_nearest_root_element(target_mod_offset, subtext_arr, tagname)\n",
    "    if begin_pos == -1:\n",
    "        return None, None\n",
    "    result_patent = retrieve_begin_end(begin_pos, subtext_arr, tagname)\n",
    "    docid = find_first_doc_number(result_patent)\n",
    "    return docid, result_patent"
   ]
  },
  {
   "cell_type": "code",
   "execution_count": null,
   "metadata": {},
   "outputs": [],
   "source": []
  },
  {
   "cell_type": "code",
   "execution_count": 42,
   "metadata": {},
   "outputs": [],
   "source": [
    "patent_grants_dic = {}"
   ]
  },
  {
   "cell_type": "code",
   "execution_count": 64,
   "metadata": {},
   "outputs": [],
   "source": [
    "def get_real_patent(tagname, key_cand, tup_list):\n",
    "    for tup in tup_list:\n",
    "        real_id, pat_text = get_patent(tagname, '../data/' + tup[0], tup[1])\n",
    "        if real_id == key_cand:\n",
    "            return pat_text\n",
    "    return None"
   ]
  },
  {
   "cell_type": "code",
   "execution_count": null,
   "metadata": {},
   "outputs": [],
   "source": []
  },
  {
   "cell_type": "code",
   "execution_count": null,
   "metadata": {},
   "outputs": [],
   "source": []
  },
  {
   "cell_type": "code",
   "execution_count": 44,
   "metadata": {},
   "outputs": [],
   "source": [
    "dict_list = list(indexGrants2012_we_need.items())"
   ]
  },
  {
   "cell_type": "code",
   "execution_count": null,
   "metadata": {},
   "outputs": [],
   "source": []
  },
  {
   "cell_type": "markdown",
   "metadata": {},
   "source": [
    "# Heuristics for optimization\n",
    "\n",
    "If the same doc-number occure too much, it must be in patcite (not calim-ed patent).\n",
    "We skip more than 5 occurence for a while.\n",
    "\n",
    "But I check a few doc-number in grants2012, it always start with 08.\n",
    "So print doc-number starts with 8 and more than 5 occurences and check manually."
   ]
  },
  {
   "cell_type": "code",
   "execution_count": null,
   "metadata": {},
   "outputs": [],
   "source": []
  },
  {
   "cell_type": "code",
   "execution_count": 73,
   "metadata": {},
   "outputs": [],
   "source": [
    "import tqdm"
   ]
  },
  {
   "cell_type": "code",
   "execution_count": 87,
   "metadata": {},
   "outputs": [],
   "source": [
    "patent_grants_dic = {}"
   ]
  },
  {
   "cell_type": "code",
   "execution_count": 88,
   "metadata": {
    "scrolled": true
   },
   "outputs": [
    {
     "name": "stderr",
     "output_type": "stream",
     "text": [
      "  0%|          | 20/6352 [00:34<3:04:26,  1.75s/it]"
     ]
    },
    {
     "name": "stdout",
     "output_type": "stream",
     "text": [
      "found 19, 8202487, 1\n"
     ]
    },
    {
     "name": "stderr",
     "output_type": "stream",
     "text": [
      "  1%|          | 44/6352 [01:28<3:31:04,  2.01s/it]"
     ]
    },
    {
     "name": "stdout",
     "output_type": "stream",
     "text": [
      "found 43, 8114845, 2\n"
     ]
    },
    {
     "name": "stderr",
     "output_type": "stream",
     "text": [
      "  1%|▏         | 84/6352 [03:36<4:29:46,  2.58s/it]"
     ]
    },
    {
     "name": "stdout",
     "output_type": "stream",
     "text": [
      "found 83, 8140012, 3\n"
     ]
    },
    {
     "name": "stderr",
     "output_type": "stream",
     "text": [
      "  2%|▏         | 105/6352 [04:26<4:24:24,  2.54s/it]"
     ]
    },
    {
     "name": "stdout",
     "output_type": "stream",
     "text": [
      "found 104, 8144683, 4\n"
     ]
    },
    {
     "name": "stderr",
     "output_type": "stream",
     "text": [
      "  2%|▏         | 113/6352 [04:49<4:26:24,  2.56s/it]"
     ]
    },
    {
     "name": "stdout",
     "output_type": "stream",
     "text": [
      "found 112, 8138863, 5\n"
     ]
    },
    {
     "name": "stderr",
     "output_type": "stream",
     "text": [
      "  3%|▎         | 197/6352 [10:07<5:16:05,  3.08s/it]"
     ]
    },
    {
     "name": "stdout",
     "output_type": "stream",
     "text": [
      "found 196, 8095929, 6\n"
     ]
    },
    {
     "name": "stderr",
     "output_type": "stream",
     "text": [
      "  3%|▎         | 219/6352 [11:19<5:17:12,  3.10s/it]"
     ]
    },
    {
     "name": "stdout",
     "output_type": "stream",
     "text": [
      "found 218, 8289665, 7\n"
     ]
    },
    {
     "name": "stderr",
     "output_type": "stream",
     "text": [
      "  4%|▎         | 224/6352 [11:38<5:18:36,  3.12s/it]"
     ]
    },
    {
     "name": "stdout",
     "output_type": "stream",
     "text": [
      "found 223, 8087315, 8\n"
     ]
    },
    {
     "name": "stderr",
     "output_type": "stream",
     "text": [
      "  4%|▎         | 227/6352 [11:41<5:15:21,  3.09s/it]"
     ]
    },
    {
     "name": "stdout",
     "output_type": "stream",
     "text": [
      "found 226, 8322805, 9\n"
     ]
    },
    {
     "name": "stderr",
     "output_type": "stream",
     "text": [
      "  4%|▍         | 246/6352 [12:40<5:14:31,  3.09s/it]"
     ]
    },
    {
     "name": "stdout",
     "output_type": "stream",
     "text": [
      "found 245, 8147894, 10\n"
     ]
    },
    {
     "name": "stderr",
     "output_type": "stream",
     "text": [
      "  4%|▍         | 258/6352 [13:39<5:22:31,  3.18s/it]"
     ]
    },
    {
     "name": "stdout",
     "output_type": "stream",
     "text": [
      "found 257, 8118868, 11\n"
     ]
    },
    {
     "name": "stderr",
     "output_type": "stream",
     "text": [
      "  4%|▍         | 280/6352 [15:11<5:29:33,  3.26s/it]"
     ]
    },
    {
     "name": "stdout",
     "output_type": "stream",
     "text": [
      "found 279, 8101436, 12\n"
     ]
    },
    {
     "name": "stderr",
     "output_type": "stream",
     "text": [
      "  5%|▌         | 327/6352 [17:34<5:23:42,  3.22s/it]"
     ]
    },
    {
     "name": "stdout",
     "output_type": "stream",
     "text": [
      "found 326, 8331747, 13\n"
     ]
    },
    {
     "name": "stderr",
     "output_type": "stream",
     "text": [
      "  6%|▌         | 369/6352 [19:42<5:19:34,  3.20s/it]"
     ]
    },
    {
     "name": "stdout",
     "output_type": "stream",
     "text": [
      "found 368, 8239267, 14\n"
     ]
    },
    {
     "name": "stderr",
     "output_type": "stream",
     "text": [
      "  7%|▋         | 435/6352 [23:53<5:25:02,  3.30s/it]"
     ]
    },
    {
     "name": "stdout",
     "output_type": "stream",
     "text": [
      "found 434, 8307045, 15\n"
     ]
    },
    {
     "name": "stderr",
     "output_type": "stream",
     "text": [
      "  7%|▋         | 474/6352 [26:29<5:28:30,  3.35s/it]"
     ]
    },
    {
     "name": "stdout",
     "output_type": "stream",
     "text": [
      "found 473, 8169523, 16\n"
     ]
    },
    {
     "name": "stderr",
     "output_type": "stream",
     "text": [
      "  8%|▊         | 507/6352 [28:20<5:26:41,  3.35s/it]"
     ]
    },
    {
     "name": "stdout",
     "output_type": "stream",
     "text": [
      "found 506, 8270788, 17\n"
     ]
    },
    {
     "name": "stderr",
     "output_type": "stream",
     "text": [
      "  8%|▊         | 528/6352 [29:26<5:24:43,  3.35s/it]"
     ]
    },
    {
     "name": "stdout",
     "output_type": "stream",
     "text": [
      "found 527, 8199013, 18\n"
     ]
    },
    {
     "name": "stderr",
     "output_type": "stream",
     "text": [
      "  8%|▊         | 531/6352 [29:28<5:23:11,  3.33s/it]"
     ]
    },
    {
     "name": "stdout",
     "output_type": "stream",
     "text": [
      "found 530, 8289837, 19\n"
     ]
    },
    {
     "name": "stderr",
     "output_type": "stream",
     "text": [
      "  9%|▉         | 556/6352 [30:43<5:20:15,  3.32s/it]"
     ]
    },
    {
     "name": "stdout",
     "output_type": "stream",
     "text": [
      "found 555, 8123234, 20\n"
     ]
    },
    {
     "name": "stderr",
     "output_type": "stream",
     "text": [
      "  9%|▉         | 575/6352 [31:37<5:17:48,  3.30s/it]"
     ]
    },
    {
     "name": "stdout",
     "output_type": "stream",
     "text": [
      "found 574, 8292411, 21\n"
     ]
    },
    {
     "name": "stderr",
     "output_type": "stream",
     "text": [
      "\r",
      "  9%|▉         | 577/6352 [31:38<5:16:42,  3.29s/it]"
     ]
    },
    {
     "name": "stdout",
     "output_type": "stream",
     "text": [
      "found 576, 8166718, 22\n"
     ]
    },
    {
     "name": "stderr",
     "output_type": "stream",
     "text": [
      "  9%|▉         | 589/6352 [32:24<5:17:08,  3.30s/it]"
     ]
    },
    {
     "name": "stdout",
     "output_type": "stream",
     "text": [
      "found 588, 8297738, 23\n"
     ]
    },
    {
     "name": "stderr",
     "output_type": "stream",
     "text": [
      " 10%|▉         | 621/6352 [33:42<5:11:01,  3.26s/it]"
     ]
    },
    {
     "name": "stdout",
     "output_type": "stream",
     "text": [
      "found 620, 8106186, 24\n"
     ]
    },
    {
     "name": "stderr",
     "output_type": "stream",
     "text": [
      "\r",
      " 10%|▉         | 623/6352 [33:42<5:10:01,  3.25s/it]"
     ]
    },
    {
     "name": "stdout",
     "output_type": "stream",
     "text": [
      "found 622, 8185850, 25\n"
     ]
    },
    {
     "name": "stderr",
     "output_type": "stream",
     "text": [
      " 10%|▉         | 625/6352 [33:44<5:09:09,  3.24s/it]"
     ]
    },
    {
     "name": "stdout",
     "output_type": "stream",
     "text": [
      "found 624, 8201268, 26\n"
     ]
    },
    {
     "name": "stderr",
     "output_type": "stream",
     "text": [
      " 10%|▉         | 628/6352 [33:46<5:07:51,  3.23s/it]"
     ]
    },
    {
     "name": "stdout",
     "output_type": "stream",
     "text": [
      "found 627, 8123510, 27\n"
     ]
    },
    {
     "name": "stderr",
     "output_type": "stream",
     "text": [
      " 10%|▉         | 632/6352 [33:54<5:06:54,  3.22s/it]"
     ]
    },
    {
     "name": "stdout",
     "output_type": "stream",
     "text": [
      "found 631, 8206358, 28\n"
     ]
    },
    {
     "name": "stderr",
     "output_type": "stream",
     "text": [
      " 11%|█         | 670/6352 [36:10<5:06:47,  3.24s/it]"
     ]
    },
    {
     "name": "stdout",
     "output_type": "stream",
     "text": [
      "found 669, 8327128, 29\n"
     ]
    },
    {
     "name": "stderr",
     "output_type": "stream",
     "text": [
      " 11%|█         | 676/6352 [36:19<5:04:57,  3.22s/it]"
     ]
    },
    {
     "name": "stdout",
     "output_type": "stream",
     "text": [
      "found 675, 8263886, 30\n"
     ]
    },
    {
     "name": "stderr",
     "output_type": "stream",
     "text": [
      " 11%|█         | 679/6352 [36:23<5:03:59,  3.22s/it]"
     ]
    },
    {
     "name": "stdout",
     "output_type": "stream",
     "text": [
      "found 678, 8250085, 31\n"
     ]
    },
    {
     "name": "stderr",
     "output_type": "stream",
     "text": [
      " 11%|█         | 707/6352 [38:36<5:08:15,  3.28s/it]"
     ]
    },
    {
     "name": "stdout",
     "output_type": "stream",
     "text": [
      "found 706, 8140786, 32\n"
     ]
    },
    {
     "name": "stderr",
     "output_type": "stream",
     "text": [
      " 12%|█▏        | 750/6352 [41:26<5:09:31,  3.32s/it]"
     ]
    },
    {
     "name": "stdout",
     "output_type": "stream",
     "text": [
      "found 749, 8151694, 33\n"
     ]
    },
    {
     "name": "stderr",
     "output_type": "stream",
     "text": [
      " 12%|█▏        | 761/6352 [42:39<5:13:21,  3.36s/it]"
     ]
    },
    {
     "name": "stdout",
     "output_type": "stream",
     "text": [
      "found 760, 8291754, 34\n"
     ]
    },
    {
     "name": "stderr",
     "output_type": "stream",
     "text": [
      "\r",
      " 12%|█▏        | 762/6352 [42:46<5:13:49,  3.37s/it]"
     ]
    },
    {
     "name": "stdout",
     "output_type": "stream",
     "text": [
      "found 761, 8151323, 35\n"
     ]
    },
    {
     "name": "stderr",
     "output_type": "stream",
     "text": [
      " 12%|█▏        | 774/6352 [43:25<5:12:57,  3.37s/it]"
     ]
    },
    {
     "name": "stdout",
     "output_type": "stream",
     "text": [
      "found 773, 8113316, 36\n"
     ]
    },
    {
     "name": "stderr",
     "output_type": "stream",
     "text": [
      " 12%|█▏        | 777/6352 [43:34<5:12:42,  3.37s/it]"
     ]
    },
    {
     "name": "stdout",
     "output_type": "stream",
     "text": [
      "found 776, 8226943, 37\n"
     ]
    },
    {
     "name": "stderr",
     "output_type": "stream",
     "text": [
      " 13%|█▎        | 823/6352 [46:18<5:11:07,  3.38s/it]"
     ]
    },
    {
     "name": "stdout",
     "output_type": "stream",
     "text": [
      "found 822, 8106402, 38\n"
     ]
    },
    {
     "name": "stderr",
     "output_type": "stream",
     "text": [
      " 13%|█▎        | 829/6352 [46:39<5:10:54,  3.38s/it]"
     ]
    },
    {
     "name": "stdout",
     "output_type": "stream",
     "text": [
      "found 828, 8200899, 39\n"
     ]
    },
    {
     "name": "stderr",
     "output_type": "stream",
     "text": [
      " 13%|█▎        | 845/6352 [47:31<5:09:41,  3.37s/it]"
     ]
    },
    {
     "name": "stdout",
     "output_type": "stream",
     "text": [
      "found 844, 8163144, 40\n"
     ]
    },
    {
     "name": "stderr",
     "output_type": "stream",
     "text": [
      " 14%|█▎        | 867/6352 [48:42<5:08:06,  3.37s/it]"
     ]
    },
    {
     "name": "stdout",
     "output_type": "stream",
     "text": [
      "found 866, 8238313, 41\n"
     ]
    },
    {
     "name": "stderr",
     "output_type": "stream",
     "text": [
      "\r",
      " 14%|█▎        | 868/6352 [48:42<5:07:47,  3.37s/it]"
     ]
    },
    {
     "name": "stdout",
     "output_type": "stream",
     "text": [
      "found 867, 8325073, 42\n"
     ]
    },
    {
     "name": "stderr",
     "output_type": "stream",
     "text": [
      " 14%|█▍        | 879/6352 [49:38<5:09:06,  3.39s/it]"
     ]
    },
    {
     "name": "stdout",
     "output_type": "stream",
     "text": [
      "found 878, 8145369, 43\n"
     ]
    },
    {
     "name": "stderr",
     "output_type": "stream",
     "text": [
      " 14%|█▍        | 898/6352 [50:48<5:08:37,  3.40s/it]"
     ]
    },
    {
     "name": "stdout",
     "output_type": "stream",
     "text": [
      "found 897, 8129836, 44\n"
     ]
    },
    {
     "name": "stderr",
     "output_type": "stream",
     "text": [
      " 15%|█▍        | 922/6352 [51:47<5:04:59,  3.37s/it]"
     ]
    },
    {
     "name": "stdout",
     "output_type": "stream",
     "text": [
      "found 921, 8088025, 45\n"
     ]
    },
    {
     "name": "stderr",
     "output_type": "stream",
     "text": [
      " 15%|█▍        | 928/6352 [52:08<5:04:45,  3.37s/it]"
     ]
    },
    {
     "name": "stdout",
     "output_type": "stream",
     "text": [
      "found 927, 8132770, 46\n"
     ]
    },
    {
     "name": "stderr",
     "output_type": "stream",
     "text": [
      " 15%|█▍        | 930/6352 [52:23<5:05:25,  3.38s/it]"
     ]
    },
    {
     "name": "stdout",
     "output_type": "stream",
     "text": [
      "found 929, 8263863, 47\n"
     ]
    },
    {
     "name": "stderr",
     "output_type": "stream",
     "text": [
      "\r",
      " 15%|█▍        | 931/6352 [52:24<5:05:06,  3.38s/it]"
     ]
    },
    {
     "name": "stdout",
     "output_type": "stream",
     "text": [
      "found 930, 8329172, 48\n"
     ]
    },
    {
     "name": "stderr",
     "output_type": "stream",
     "text": [
      " 15%|█▌        | 964/6352 [56:21<5:15:00,  3.51s/it]"
     ]
    },
    {
     "name": "stdout",
     "output_type": "stream",
     "text": [
      "found 963, 8112505, 49\n"
     ]
    },
    {
     "name": "stderr",
     "output_type": "stream",
     "text": [
      " 16%|█▌        | 992/6352 [1:00:25<5:26:30,  3.65s/it]"
     ]
    },
    {
     "name": "stdout",
     "output_type": "stream",
     "text": [
      "found 991, 8274319, 50\n"
     ]
    },
    {
     "name": "stderr",
     "output_type": "stream",
     "text": [
      " 16%|█▌        | 1018/6352 [1:04:06<5:35:53,  3.78s/it]"
     ]
    },
    {
     "name": "stdout",
     "output_type": "stream",
     "text": [
      "found 1017, 8179078, 51\n"
     ]
    },
    {
     "name": "stderr",
     "output_type": "stream",
     "text": [
      " 16%|█▋        | 1045/6352 [1:10:10<5:56:23,  4.03s/it]"
     ]
    },
    {
     "name": "stdout",
     "output_type": "stream",
     "text": [
      "found 1044, 8173208, 52\n"
     ]
    },
    {
     "name": "stderr",
     "output_type": "stream",
     "text": [
      "\r",
      " 16%|█▋        | 1046/6352 [1:10:11<5:56:03,  4.03s/it]"
     ]
    },
    {
     "name": "stdout",
     "output_type": "stream",
     "text": [
      "found 1045, 8279279, 53\n"
     ]
    },
    {
     "name": "stderr",
     "output_type": "stream",
     "text": [
      " 17%|█▋        | 1063/6352 [1:14:12<6:09:11,  4.19s/it]"
     ]
    },
    {
     "name": "stdout",
     "output_type": "stream",
     "text": [
      "found 1062, 8234395, 54\n"
     ]
    },
    {
     "name": "stderr",
     "output_type": "stream",
     "text": [
      " 17%|█▋        | 1072/6352 [1:15:04<6:09:48,  4.20s/it]"
     ]
    },
    {
     "name": "stdout",
     "output_type": "stream",
     "text": [
      "found 1071, 8333054, 55\n"
     ]
    },
    {
     "name": "stderr",
     "output_type": "stream",
     "text": [
      " 17%|█▋        | 1080/6352 [1:16:32<6:13:36,  4.25s/it]"
     ]
    },
    {
     "name": "stdout",
     "output_type": "stream",
     "text": [
      "found 1079, 8108040, 56\n"
     ]
    },
    {
     "name": "stderr",
     "output_type": "stream",
     "text": [
      " 17%|█▋        | 1097/6352 [1:19:15<6:19:40,  4.34s/it]"
     ]
    },
    {
     "name": "stdout",
     "output_type": "stream",
     "text": [
      "found 1096, 8149102, 57\n"
     ]
    },
    {
     "name": "stderr",
     "output_type": "stream",
     "text": [
      " 17%|█▋        | 1103/6352 [1:21:06<6:25:58,  4.41s/it]"
     ]
    },
    {
     "name": "stdout",
     "output_type": "stream",
     "text": [
      "found 1102, 8150616, 58\n"
     ]
    },
    {
     "name": "stderr",
     "output_type": "stream",
     "text": [
      " 17%|█▋        | 1110/6352 [1:22:21<6:28:55,  4.45s/it]"
     ]
    },
    {
     "name": "stdout",
     "output_type": "stream",
     "text": [
      "found 1109, 8300293, 59\n"
     ]
    },
    {
     "name": "stderr",
     "output_type": "stream",
     "text": [
      " 18%|█▊        | 1131/6352 [1:26:40<6:40:08,  4.60s/it]"
     ]
    },
    {
     "name": "stdout",
     "output_type": "stream",
     "text": [
      "found 1130, 8219729, 60\n"
     ]
    },
    {
     "name": "stderr",
     "output_type": "stream",
     "text": [
      " 19%|█▊        | 1180/6352 [1:32:27<6:45:16,  4.70s/it]"
     ]
    },
    {
     "name": "stdout",
     "output_type": "stream",
     "text": [
      "found 1179, 8129444, 61\n"
     ]
    },
    {
     "name": "stderr",
     "output_type": "stream",
     "text": [
      " 19%|█▉        | 1208/6352 [1:34:59<6:44:32,  4.72s/it]"
     ]
    },
    {
     "name": "stdout",
     "output_type": "stream",
     "text": [
      "found 1207, 8191678, 62\n"
     ]
    },
    {
     "name": "stderr",
     "output_type": "stream",
     "text": [
      " 19%|█▉        | 1222/6352 [1:36:34<6:45:25,  4.74s/it]"
     ]
    },
    {
     "name": "stdout",
     "output_type": "stream",
     "text": [
      "found 1221, 8264060, 63\n"
     ]
    },
    {
     "name": "stderr",
     "output_type": "stream",
     "text": [
      " 19%|█▉        | 1234/6352 [1:38:33<6:48:44,  4.79s/it]"
     ]
    },
    {
     "name": "stdout",
     "output_type": "stream",
     "text": [
      "found 1233, 8263645, 64\n"
     ]
    },
    {
     "name": "stderr",
     "output_type": "stream",
     "text": [
      " 20%|██        | 1292/6352 [1:47:40<7:01:42,  5.00s/it]"
     ]
    },
    {
     "name": "stdout",
     "output_type": "stream",
     "text": [
      "found 1291, 8143726, 65\n"
     ]
    },
    {
     "name": "stderr",
     "output_type": "stream",
     "text": [
      " 20%|██        | 1301/6352 [1:48:41<7:02:00,  5.01s/it]"
     ]
    },
    {
     "name": "stdout",
     "output_type": "stream",
     "text": [
      "found 1300, 8289171, 66\n"
     ]
    },
    {
     "name": "stderr",
     "output_type": "stream",
     "text": [
      " 21%|██        | 1313/6352 [1:51:38<7:08:26,  5.10s/it]"
     ]
    },
    {
     "name": "stdout",
     "output_type": "stream",
     "text": [
      "found 1312, 8205421, 67\n"
     ]
    },
    {
     "name": "stderr",
     "output_type": "stream",
     "text": [
      " 21%|██        | 1315/6352 [1:51:58<7:08:56,  5.11s/it]"
     ]
    },
    {
     "name": "stdout",
     "output_type": "stream",
     "text": [
      "found 1314, 8172617, 68\n"
     ]
    },
    {
     "name": "stderr",
     "output_type": "stream",
     "text": [
      " 21%|██▏       | 1355/6352 [1:58:45<7:17:59,  5.26s/it]"
     ]
    },
    {
     "name": "stdout",
     "output_type": "stream",
     "text": [
      "found 1354, 8241251, 69\n"
     ]
    },
    {
     "name": "stderr",
     "output_type": "stream",
     "text": [
      " 21%|██▏       | 1359/6352 [1:59:07<7:17:38,  5.26s/it]"
     ]
    },
    {
     "name": "stdout",
     "output_type": "stream",
     "text": [
      "found 1358, 8265321, 70\n"
     ]
    },
    {
     "name": "stderr",
     "output_type": "stream",
     "text": [
      " 22%|██▏       | 1390/6352 [2:07:18<7:34:27,  5.50s/it]"
     ]
    },
    {
     "name": "stdout",
     "output_type": "stream",
     "text": [
      "found 1389, 8248851, 71\n"
     ]
    },
    {
     "name": "stderr",
     "output_type": "stream",
     "text": [
      " 22%|██▏       | 1412/6352 [2:11:34<7:40:18,  5.59s/it]"
     ]
    },
    {
     "name": "stdout",
     "output_type": "stream",
     "text": [
      "found 1411, 8095417, 72\n"
     ]
    },
    {
     "name": "stderr",
     "output_type": "stream",
     "text": [
      " 23%|██▎       | 1488/6352 [2:22:20<7:45:18,  5.74s/it]"
     ]
    },
    {
     "name": "stdout",
     "output_type": "stream",
     "text": [
      "found 1487, 8312484, 73\n"
     ]
    },
    {
     "name": "stderr",
     "output_type": "stream",
     "text": [
      " 23%|██▎       | 1492/6352 [2:22:58<7:45:44,  5.75s/it]"
     ]
    },
    {
     "name": "stdout",
     "output_type": "stream",
     "text": [
      "found 1491, 8107663, 74\n"
     ]
    },
    {
     "name": "stderr",
     "output_type": "stream",
     "text": [
      " 24%|██▍       | 1511/6352 [2:26:13<7:48:30,  5.81s/it]"
     ]
    },
    {
     "name": "stdout",
     "output_type": "stream",
     "text": [
      "found 1510, 8200626, 75\n"
     ]
    },
    {
     "name": "stderr",
     "output_type": "stream",
     "text": [
      " 24%|██▍       | 1520/6352 [2:28:37<7:52:27,  5.87s/it]"
     ]
    },
    {
     "name": "stdout",
     "output_type": "stream",
     "text": [
      "Skip 8 beginning key cand: 8000724, 10\n"
     ]
    },
    {
     "name": "stderr",
     "output_type": "stream",
     "text": [
      " 24%|██▍       | 1535/6352 [2:30:37<7:52:41,  5.89s/it]"
     ]
    },
    {
     "name": "stdout",
     "output_type": "stream",
     "text": [
      "found 1534, 8214213, 76\n"
     ]
    },
    {
     "name": "stderr",
     "output_type": "stream",
     "text": [
      " 24%|██▍       | 1550/6352 [2:32:48<7:53:25,  5.92s/it]"
     ]
    },
    {
     "name": "stdout",
     "output_type": "stream",
     "text": [
      "found 1549, 8197775, 77\n"
     ]
    },
    {
     "name": "stderr",
     "output_type": "stream",
     "text": [
      " 24%|██▍       | 1556/6352 [2:34:01<7:54:45,  5.94s/it]"
     ]
    },
    {
     "name": "stdout",
     "output_type": "stream",
     "text": [
      "found 1555, 8315812, 78\n"
     ]
    },
    {
     "name": "stderr",
     "output_type": "stream",
     "text": [
      " 25%|██▌       | 1590/6352 [2:37:39<7:52:11,  5.95s/it]"
     ]
    },
    {
     "name": "stdout",
     "output_type": "stream",
     "text": [
      "found 1589, 8325093, 79\n"
     ]
    },
    {
     "name": "stderr",
     "output_type": "stream",
     "text": [
      " 25%|██▌       | 1600/6352 [2:39:22<7:53:19,  5.98s/it]"
     ]
    },
    {
     "name": "stdout",
     "output_type": "stream",
     "text": [
      "found 1599, 8291452, 80\n"
     ]
    },
    {
     "name": "stderr",
     "output_type": "stream",
     "text": [
      " 25%|██▌       | 1603/6352 [2:39:39<7:53:01,  5.98s/it]"
     ]
    },
    {
     "name": "stdout",
     "output_type": "stream",
     "text": [
      "found 1602, 8100537, 81\n"
     ]
    },
    {
     "name": "stderr",
     "output_type": "stream",
     "text": [
      " 25%|██▌       | 1608/6352 [2:40:01<7:52:08,  5.97s/it]"
     ]
    },
    {
     "name": "stdout",
     "output_type": "stream",
     "text": [
      "found 1607, 8139945, 82\n"
     ]
    },
    {
     "name": "stderr",
     "output_type": "stream",
     "text": [
      " 26%|██▌       | 1624/6352 [2:43:09<7:55:01,  6.03s/it]"
     ]
    },
    {
     "ename": "Exception",
     "evalue": "no end tagname found",
     "output_type": "error",
     "traceback": [
      "\u001b[0;31m---------------------------------------------------------------------------\u001b[0m",
      "\u001b[0;31mException\u001b[0m                                 Traceback (most recent call last)",
      "\u001b[0;32m<ipython-input-88-45f4d69f52e7>\u001b[0m in \u001b[0;36m<module>\u001b[0;34m()\u001b[0m\n\u001b[1;32m      6\u001b[0m             \u001b[0mprint\u001b[0m\u001b[0;34m(\u001b[0m\u001b[0;34m\"Skip 8 beginning key cand: {}, {}\"\u001b[0m\u001b[0;34m.\u001b[0m\u001b[0mformat\u001b[0m\u001b[0;34m(\u001b[0m\u001b[0mkey_cand\u001b[0m\u001b[0;34m,\u001b[0m \u001b[0mlen\u001b[0m\u001b[0;34m(\u001b[0m\u001b[0mtup_list\u001b[0m\u001b[0;34m)\u001b[0m\u001b[0;34m)\u001b[0m\u001b[0;34m)\u001b[0m\u001b[0;34m\u001b[0m\u001b[0m\n\u001b[1;32m      7\u001b[0m     \u001b[0;32melse\u001b[0m\u001b[0;34m:\u001b[0m\u001b[0;34m\u001b[0m\u001b[0m\n\u001b[0;32m----> 8\u001b[0;31m         \u001b[0mreal_pat\u001b[0m \u001b[0;34m=\u001b[0m \u001b[0mget_real_patent\u001b[0m\u001b[0;34m(\u001b[0m\u001b[0;34m\"us-patent-grant\"\u001b[0m\u001b[0;34m,\u001b[0m \u001b[0mkey_cand\u001b[0m\u001b[0;34m,\u001b[0m \u001b[0mtup_list\u001b[0m\u001b[0;34m)\u001b[0m\u001b[0;34m\u001b[0m\u001b[0m\n\u001b[0m\u001b[1;32m      9\u001b[0m         \u001b[0;32mif\u001b[0m \u001b[0mreal_pat\u001b[0m\u001b[0;34m:\u001b[0m\u001b[0;34m\u001b[0m\u001b[0m\n\u001b[1;32m     10\u001b[0m             \u001b[0mpatent_grants_dic\u001b[0m\u001b[0;34m[\u001b[0m\u001b[0mkey_cand\u001b[0m\u001b[0;34m]\u001b[0m \u001b[0;34m=\u001b[0m \u001b[0mreal_pat\u001b[0m\u001b[0;34m\u001b[0m\u001b[0m\n",
      "\u001b[0;32m<ipython-input-64-5ead6822a53b>\u001b[0m in \u001b[0;36mget_real_patent\u001b[0;34m(tagname, key_cand, tup_list)\u001b[0m\n\u001b[1;32m      1\u001b[0m \u001b[0;32mdef\u001b[0m \u001b[0mget_real_patent\u001b[0m\u001b[0;34m(\u001b[0m\u001b[0mtagname\u001b[0m\u001b[0;34m,\u001b[0m \u001b[0mkey_cand\u001b[0m\u001b[0;34m,\u001b[0m \u001b[0mtup_list\u001b[0m\u001b[0;34m)\u001b[0m\u001b[0;34m:\u001b[0m\u001b[0;34m\u001b[0m\u001b[0m\n\u001b[1;32m      2\u001b[0m     \u001b[0;32mfor\u001b[0m \u001b[0mtup\u001b[0m \u001b[0;32min\u001b[0m \u001b[0mtup_list\u001b[0m\u001b[0;34m:\u001b[0m\u001b[0;34m\u001b[0m\u001b[0m\n\u001b[0;32m----> 3\u001b[0;31m         \u001b[0mreal_id\u001b[0m\u001b[0;34m,\u001b[0m \u001b[0mpat_text\u001b[0m \u001b[0;34m=\u001b[0m \u001b[0mget_patent\u001b[0m\u001b[0;34m(\u001b[0m\u001b[0mtagname\u001b[0m\u001b[0;34m,\u001b[0m \u001b[0;34m'../data/'\u001b[0m \u001b[0;34m+\u001b[0m \u001b[0mtup\u001b[0m\u001b[0;34m[\u001b[0m\u001b[0;36m0\u001b[0m\u001b[0;34m]\u001b[0m\u001b[0;34m,\u001b[0m \u001b[0mtup\u001b[0m\u001b[0;34m[\u001b[0m\u001b[0;36m1\u001b[0m\u001b[0;34m]\u001b[0m\u001b[0;34m)\u001b[0m\u001b[0;34m\u001b[0m\u001b[0m\n\u001b[0m\u001b[1;32m      4\u001b[0m         \u001b[0;32mif\u001b[0m \u001b[0mreal_id\u001b[0m \u001b[0;34m==\u001b[0m \u001b[0mkey_cand\u001b[0m\u001b[0;34m:\u001b[0m\u001b[0;34m\u001b[0m\u001b[0m\n\u001b[1;32m      5\u001b[0m             \u001b[0;32mreturn\u001b[0m \u001b[0mpat_text\u001b[0m\u001b[0;34m\u001b[0m\u001b[0m\n",
      "\u001b[0;32m<ipython-input-66-633481f38a0f>\u001b[0m in \u001b[0;36mget_patent\u001b[0;34m(tagname, file_path, target_offset)\u001b[0m\n\u001b[1;32m     10\u001b[0m     \u001b[0;32mif\u001b[0m \u001b[0mbegin_pos\u001b[0m \u001b[0;34m==\u001b[0m \u001b[0;34m-\u001b[0m\u001b[0;36m1\u001b[0m\u001b[0;34m:\u001b[0m\u001b[0;34m\u001b[0m\u001b[0m\n\u001b[1;32m     11\u001b[0m         \u001b[0;32mreturn\u001b[0m \u001b[0;32mNone\u001b[0m\u001b[0;34m,\u001b[0m \u001b[0;32mNone\u001b[0m\u001b[0;34m\u001b[0m\u001b[0m\n\u001b[0;32m---> 12\u001b[0;31m     \u001b[0mresult_patent\u001b[0m \u001b[0;34m=\u001b[0m \u001b[0mretrieve_begin_end\u001b[0m\u001b[0;34m(\u001b[0m\u001b[0mbegin_pos\u001b[0m\u001b[0;34m,\u001b[0m \u001b[0msubtext_arr\u001b[0m\u001b[0;34m,\u001b[0m \u001b[0mtagname\u001b[0m\u001b[0;34m)\u001b[0m\u001b[0;34m\u001b[0m\u001b[0m\n\u001b[0m\u001b[1;32m     13\u001b[0m     \u001b[0mdocid\u001b[0m \u001b[0;34m=\u001b[0m \u001b[0mfind_first_doc_number\u001b[0m\u001b[0;34m(\u001b[0m\u001b[0mresult_patent\u001b[0m\u001b[0;34m)\u001b[0m\u001b[0;34m\u001b[0m\u001b[0m\n\u001b[1;32m     14\u001b[0m     \u001b[0;32mreturn\u001b[0m \u001b[0mdocid\u001b[0m\u001b[0;34m,\u001b[0m \u001b[0mresult_patent\u001b[0m\u001b[0;34m\u001b[0m\u001b[0m\n",
      "\u001b[0;32m<ipython-input-38-2e3d27bc21e6>\u001b[0m in \u001b[0;36mretrieve_begin_end\u001b[0;34m(begin_offset, subtext_arr, tagname)\u001b[0m\n\u001b[1;32m      6\u001b[0m         \u001b[0;32mif\u001b[0m \u001b[0mend_tag\u001b[0m \u001b[0;32min\u001b[0m \u001b[0mline\u001b[0m\u001b[0;34m:\u001b[0m\u001b[0;34m\u001b[0m\u001b[0m\n\u001b[1;32m      7\u001b[0m             \u001b[0;32mreturn\u001b[0m \u001b[0mres\u001b[0m\u001b[0;34m\u001b[0m\u001b[0m\n\u001b[0;32m----> 8\u001b[0;31m     \u001b[0;32mraise\u001b[0m \u001b[0mException\u001b[0m\u001b[0;34m(\u001b[0m\u001b[0;34m'no end tagname found'\u001b[0m\u001b[0;34m)\u001b[0m\u001b[0;34m\u001b[0m\u001b[0m\n\u001b[0m",
      "\u001b[0;31mException\u001b[0m: no end tagname found"
     ]
    }
   ],
   "source": [
    "for i, (key_cand, tup_list) in tqdm.tqdm(list(enumerate(dict_list))):\n",
    "    # print(\"{}: {}, {}\".format(i, key_cand, len(tup_list)))\n",
    "    if len(tup_list) > 5:\n",
    "        if key_cand.startswith(\"8\"):\n",
    "            print(\"Skip 8 beginning key cand: {}, {}\".format(key_cand, len(tup_list)))\n",
    "    else:\n",
    "        real_pat = get_real_patent(\"us-patent-grant\", key_cand, tup_list)\n",
    "        if real_pat:\n",
    "            patent_grants_dic[key_cand] = real_pat \n",
    "            print(\"found {}, {}, {}\".format(i, key_cand, len(list(patent_grants_dic.keys()))))"
   ]
  },
  {
   "cell_type": "raw",
   "metadata": {},
   "source": [
    "# log backup\n",
    "  0%|          | 20/6352 [00:34<3:04:26,  1.75s/it]\n",
    "found 19, 8202487, 1\n",
    "  1%|          | 44/6352 [01:28<3:31:04,  2.01s/it]\n",
    "found 43, 8114845, 2\n",
    "  1%|▏         | 84/6352 [03:36<4:29:46,  2.58s/it]\n",
    "found 83, 8140012, 3\n",
    "  2%|▏         | 105/6352 [04:26<4:24:24,  2.54s/it]\n",
    "found 104, 8144683, 4\n",
    "  2%|▏         | 113/6352 [04:49<4:26:24,  2.56s/it]\n",
    "found 112, 8138863, 5\n",
    "  3%|▎         | 197/6352 [10:07<5:16:05,  3.08s/it]\n",
    "found 196, 8095929, 6\n",
    "  3%|▎         | 219/6352 [11:19<5:17:12,  3.10s/it]\n",
    "found 218, 8289665, 7\n",
    "  4%|▎         | 224/6352 [11:38<5:18:36,  3.12s/it]\n",
    "found 223, 8087315, 8\n",
    "  4%|▎         | 227/6352 [11:41<5:15:21,  3.09s/it]\n",
    "found 226, 8322805, 9\n",
    "  4%|▍         | 246/6352 [12:40<5:14:31,  3.09s/it]\n",
    "found 245, 8147894, 10\n",
    "  4%|▍         | 258/6352 [13:39<5:22:31,  3.18s/it]\n",
    "found 257, 8118868, 11\n",
    "  4%|▍         | 280/6352 [15:11<5:29:33,  3.26s/it]\n",
    "found 279, 8101436, 12\n",
    "  5%|▌         | 327/6352 [17:34<5:23:42,  3.22s/it]\n",
    "found 326, 8331747, 13\n",
    "  6%|▌         | 369/6352 [19:42<5:19:34,  3.20s/it]\n",
    "found 368, 8239267, 14\n",
    "  7%|▋         | 435/6352 [23:53<5:25:02,  3.30s/it]\n",
    "found 434, 8307045, 15\n",
    "  7%|▋         | 474/6352 [26:29<5:28:30,  3.35s/it]\n",
    "found 473, 8169523, 16\n",
    "  8%|▊         | 507/6352 [28:20<5:26:41,  3.35s/it]\n",
    "found 506, 8270788, 17\n",
    "  8%|▊         | 528/6352 [29:26<5:24:43,  3.35s/it]\n",
    "found 527, 8199013, 18\n",
    "  8%|▊         | 531/6352 [29:28<5:23:11,  3.33s/it]\n",
    "found 530, 8289837, 19\n",
    "  9%|▉         | 556/6352 [30:43<5:20:15,  3.32s/it]\n",
    "found 555, 8123234, 20\n",
    "  9%|▉         | 575/6352 [31:37<5:17:48,  3.30s/it]\n",
    "found 574, 8292411, 21\n",
    "  9%|▉         | 577/6352 [31:38<5:16:42,  3.29s/it]\n",
    "found 576, 8166718, 22\n",
    "  9%|▉         | 589/6352 [32:24<5:17:08,  3.30s/it]\n",
    "found 588, 8297738, 23\n",
    " 10%|▉         | 621/6352 [33:42<5:11:01,  3.26s/it]\n",
    "found 620, 8106186, 24\n",
    " 10%|▉         | 623/6352 [33:42<5:10:01,  3.25s/it]\n",
    "found 622, 8185850, 25\n",
    " 10%|▉         | 625/6352 [33:44<5:09:09,  3.24s/it]\n",
    "found 624, 8201268, 26\n",
    " 10%|▉         | 628/6352 [33:46<5:07:51,  3.23s/it]\n",
    "found 627, 8123510, 27\n",
    " 10%|▉         | 632/6352 [33:54<5:06:54,  3.22s/it]\n",
    "found 631, 8206358, 28\n",
    " 11%|█         | 670/6352 [36:10<5:06:47,  3.24s/it]\n",
    "found 669, 8327128, 29\n",
    " 11%|█         | 676/6352 [36:19<5:04:57,  3.22s/it]\n",
    "found 675, 8263886, 30\n",
    " 11%|█         | 679/6352 [36:23<5:03:59,  3.22s/it]\n",
    "found 678, 8250085, 31\n",
    " 11%|█         | 707/6352 [38:36<5:08:15,  3.28s/it]\n",
    "found 706, 8140786, 32\n",
    " 12%|█▏        | 750/6352 [41:26<5:09:31,  3.32s/it]\n",
    "found 749, 8151694, 33\n",
    " 12%|█▏        | 761/6352 [42:39<5:13:21,  3.36s/it]\n",
    "found 760, 8291754, 34\n",
    " 12%|█▏        | 762/6352 [42:46<5:13:49,  3.37s/it]\n",
    "found 761, 8151323, 35\n",
    " 12%|█▏        | 774/6352 [43:25<5:12:57,  3.37s/it]\n",
    "found 773, 8113316, 36\n",
    " 12%|█▏        | 777/6352 [43:34<5:12:42,  3.37s/it]\n",
    "found 776, 8226943, 37\n",
    " 13%|█▎        | 823/6352 [46:18<5:11:07,  3.38s/it]\n",
    "found 822, 8106402, 38\n",
    " 13%|█▎        | 829/6352 [46:39<5:10:54,  3.38s/it]\n",
    "found 828, 8200899, 39\n",
    " 13%|█▎        | 845/6352 [47:31<5:09:41,  3.37s/it]\n",
    "found 844, 8163144, 40\n",
    " 14%|█▎        | 867/6352 [48:42<5:08:06,  3.37s/it]\n",
    "found 866, 8238313, 41\n",
    " 14%|█▎        | 868/6352 [48:42<5:07:47,  3.37s/it]\n",
    "found 867, 8325073, 42\n",
    " 14%|█▍        | 879/6352 [49:38<5:09:06,  3.39s/it]\n",
    "found 878, 8145369, 43\n",
    " 14%|█▍        | 898/6352 [50:48<5:08:37,  3.40s/it]\n",
    "found 897, 8129836, 44\n",
    " 15%|█▍        | 922/6352 [51:47<5:04:59,  3.37s/it]\n",
    "found 921, 8088025, 45\n",
    " 15%|█▍        | 928/6352 [52:08<5:04:45,  3.37s/it]\n",
    "found 927, 8132770, 46\n",
    " 15%|█▍        | 930/6352 [52:23<5:05:25,  3.38s/it]\n",
    "found 929, 8263863, 47\n",
    " 15%|█▍        | 931/6352 [52:24<5:05:06,  3.38s/it]\n",
    "found 930, 8329172, 48\n",
    " 15%|█▌        | 964/6352 [56:21<5:15:00,  3.51s/it]\n",
    "found 963, 8112505, 49\n",
    " 16%|█▌        | 992/6352 [1:00:25<5:26:30,  3.65s/it]\n",
    "found 991, 8274319, 50\n",
    " 16%|█▌        | 1018/6352 [1:04:06<5:35:53,  3.78s/it]\n",
    "found 1017, 8179078, 51\n",
    " 16%|█▋        | 1045/6352 [1:10:10<5:56:23,  4.03s/it]\n",
    "found 1044, 8173208, 52\n",
    " 16%|█▋        | 1046/6352 [1:10:11<5:56:03,  4.03s/it]\n",
    "found 1045, 8279279, 53\n",
    " 17%|█▋        | 1063/6352 [1:14:12<6:09:11,  4.19s/it]\n",
    "found 1062, 8234395, 54\n",
    " 17%|█▋        | 1072/6352 [1:15:04<6:09:48,  4.20s/it]\n",
    "found 1071, 8333054, 55\n",
    " 17%|█▋        | 1080/6352 [1:16:32<6:13:36,  4.25s/it]\n",
    "found 1079, 8108040, 56\n",
    " 17%|█▋        | 1097/6352 [1:19:15<6:19:40,  4.34s/it]\n",
    "found 1096, 8149102, 57\n",
    " 17%|█▋        | 1103/6352 [1:21:06<6:25:58,  4.41s/it]\n",
    "found 1102, 8150616, 58\n",
    " 17%|█▋        | 1110/6352 [1:22:21<6:28:55,  4.45s/it]\n",
    "found 1109, 8300293, 59\n",
    " 18%|█▊        | 1131/6352 [1:26:40<6:40:08,  4.60s/it]\n",
    "found 1130, 8219729, 60\n",
    " 19%|█▊        | 1180/6352 [1:32:27<6:45:16,  4.70s/it]\n",
    "found 1179, 8129444, 61\n",
    " 19%|█▉        | 1208/6352 [1:34:59<6:44:32,  4.72s/it]\n",
    "found 1207, 8191678, 62\n",
    " 19%|█▉        | 1222/6352 [1:36:34<6:45:25,  4.74s/it]\n",
    "found 1221, 8264060, 63\n",
    " 19%|█▉        | 1234/6352 [1:38:33<6:48:44,  4.79s/it]\n",
    "found 1233, 8263645, 64\n",
    " 20%|██        | 1292/6352 [1:47:40<7:01:42,  5.00s/it]\n",
    "found 1291, 8143726, 65\n",
    " 20%|██        | 1301/6352 [1:48:41<7:02:00,  5.01s/it]\n",
    "found 1300, 8289171, 66\n",
    " 21%|██        | 1313/6352 [1:51:38<7:08:26,  5.10s/it]\n",
    "found 1312, 8205421, 67\n",
    " 21%|██        | 1315/6352 [1:51:58<7:08:56,  5.11s/it]\n",
    "found 1314, 8172617, 68\n",
    " 21%|██▏       | 1355/6352 [1:58:45<7:17:59,  5.26s/it]\n",
    "found 1354, 8241251, 69\n",
    " 21%|██▏       | 1359/6352 [1:59:07<7:17:38,  5.26s/it]\n",
    "found 1358, 8265321, 70\n",
    " 22%|██▏       | 1390/6352 [2:07:18<7:34:27,  5.50s/it]\n",
    "found 1389, 8248851, 71\n",
    " 22%|██▏       | 1412/6352 [2:11:34<7:40:18,  5.59s/it]\n",
    "found 1411, 8095417, 72\n",
    " 23%|██▎       | 1488/6352 [2:22:20<7:45:18,  5.74s/it]\n",
    "found 1487, 8312484, 73\n",
    " 23%|██▎       | 1492/6352 [2:22:58<7:45:44,  5.75s/it]\n",
    "found 1491, 8107663, 74\n",
    " 24%|██▍       | 1511/6352 [2:26:13<7:48:30,  5.81s/it]\n",
    "found 1510, 8200626, 75\n",
    " 24%|██▍       | 1520/6352 [2:28:37<7:52:27,  5.87s/it]\n",
    "Skip 8 beginning key cand: 8000724, 10\n",
    " 24%|██▍       | 1535/6352 [2:30:37<7:52:41,  5.89s/it]\n",
    "found 1534, 8214213, 76\n",
    " 24%|██▍       | 1550/6352 [2:32:48<7:53:25,  5.92s/it]\n",
    "found 1549, 8197775, 77\n",
    " 24%|██▍       | 1556/6352 [2:34:01<7:54:45,  5.94s/it]\n",
    "found 1555, 8315812, 78\n",
    " 25%|██▌       | 1590/6352 [2:37:39<7:52:11,  5.95s/it]\n",
    "found 1589, 8325093, 79\n",
    " 25%|██▌       | 1600/6352 [2:39:22<7:53:19,  5.98s/it]\n",
    "found 1599, 8291452, 80\n",
    " 25%|██▌       | 1603/6352 [2:39:39<7:53:01,  5.98s/it]\n",
    "found 1602, 8100537, 81\n",
    " 25%|██▌       | 1608/6352 [2:40:01<7:52:08,  5.97s/it]\n",
    "found 1607, 8139945, 82\n",
    " 26%|██▌       | 1624/6352 [2:43:09<7:55:01,  6.03s/it]\n",
    "---------------------------------------------------------------------------\n",
    "Exception                                 Traceback (most recent call last)\n",
    "<ipython-input-88-45f4d69f52e7> in <module>()\n",
    "      6             print(\"Skip 8 beginning key cand: {}, {}\".format(key_cand, len(tup_list)))\n",
    "      7     else:\n",
    "----> 8         real_pat = get_real_patent(\"us-patent-grant\", key_cand, tup_list)\n",
    "      9         if real_pat:\n",
    "     10             patent_grants_dic[key_cand] = real_pat\n",
    "\n",
    "<ipython-input-64-5ead6822a53b> in get_real_patent(tagname, key_cand, tup_list)\n",
    "      1 def get_real_patent(tagname, key_cand, tup_list):\n",
    "      2     for tup in tup_list:\n",
    "----> 3         real_id, pat_text = get_patent(tagname, '../data/' + tup[0], tup[1])\n",
    "      4         if real_id == key_cand:\n",
    "      5             return pat_text\n",
    "\n",
    "<ipython-input-66-633481f38a0f> in get_patent(tagname, file_path, target_offset)\n",
    "     10     if begin_pos == -1:\n",
    "     11         return None, None\n",
    "---> 12     result_patent = retrieve_begin_end(begin_pos, subtext_arr, tagname)\n",
    "     13     docid = find_first_doc_number(result_patent)\n",
    "     14     return docid, result_patent\n",
    "\n",
    "<ipython-input-38-2e3d27bc21e6> in retrieve_begin_end(begin_offset, subtext_arr, tagname)\n",
    "      6         if end_tag in line:\n",
    "      7             return res\n",
    "----> 8     raise Exception('no end tagname found')\n",
    "\n",
    "Exception: no end tagname found\n"
   ]
  },
  {
   "cell_type": "code",
   "execution_count": null,
   "metadata": {},
   "outputs": [],
   "source": []
  },
  {
   "cell_type": "code",
   "execution_count": 89,
   "metadata": {},
   "outputs": [],
   "source": [
    "import pickle"
   ]
  },
  {
   "cell_type": "code",
   "execution_count": 90,
   "metadata": {},
   "outputs": [
    {
     "data": {
      "text/plain": [
       "82"
      ]
     },
     "execution_count": 90,
     "metadata": {},
     "output_type": "execute_result"
    }
   ],
   "source": [
    "len(patent_grants_dic)"
   ]
  },
  {
   "cell_type": "code",
   "execution_count": 91,
   "metadata": {},
   "outputs": [],
   "source": [
    "with open(\"../data/patent_grants_82dic.dat\", 'wb') as f:\n",
    "    pickle.dump(patent_grants_dic, f)"
   ]
  },
  {
   "cell_type": "code",
   "execution_count": 93,
   "metadata": {},
   "outputs": [],
   "source": [
    "with open(\"../data/patent_grants_candidate_tuplist.dat\", 'wb') as f:\n",
    "    pickle.dump(dict_list, f)"
   ]
  },
  {
   "cell_type": "code",
   "execution_count": 94,
   "metadata": {},
   "outputs": [],
   "source": [
    "founded_keys = set(patent_grants_dic.keys())"
   ]
  },
  {
   "cell_type": "code",
   "execution_count": 97,
   "metadata": {},
   "outputs": [
    {
     "data": {
      "text/plain": [
       "[('8202487', 1),\n",
       " ('8114845', 2),\n",
       " ('8140012', 1),\n",
       " ('8144683', 1),\n",
       " ('8138863', 1),\n",
       " ('8095929', 2),\n",
       " ('8289665', 1),\n",
       " ('8087315', 2),\n",
       " ('8322805', 1),\n",
       " ('8147894', 1),\n",
       " ('8118868', 1),\n",
       " ('8101436', 1),\n",
       " ('8331747', 1),\n",
       " ('8239267', 1),\n",
       " ('8307045', 1),\n",
       " ('8169523', 1),\n",
       " ('8270788', 1),\n",
       " ('8199013', 1),\n",
       " ('8289837', 1),\n",
       " ('8123234', 1),\n",
       " ('8292411', 1),\n",
       " ('8166718', 1),\n",
       " ('8297738', 1),\n",
       " ('8106186', 1),\n",
       " ('8185850', 1),\n",
       " ('8201268', 2),\n",
       " ('8123510', 1),\n",
       " ('8206358', 1),\n",
       " ('8327128', 1),\n",
       " ('8263886', 1),\n",
       " ('8250085', 1),\n",
       " ('8140786', 3),\n",
       " ('8151694', 1),\n",
       " ('8291754', 1),\n",
       " ('8151323', 1),\n",
       " ('8113316', 1),\n",
       " ('8226943', 2),\n",
       " ('8106402', 1),\n",
       " ('8200899', 1),\n",
       " ('8163144', 1),\n",
       " ('8238313', 1),\n",
       " ('8325073', 1),\n",
       " ('8145369', 2),\n",
       " ('8129836', 1),\n",
       " ('8088025', 2),\n",
       " ('8132770', 1),\n",
       " ('8263863', 1),\n",
       " ('8329172', 1),\n",
       " ('8112505', 3),\n",
       " ('8274319', 1),\n",
       " ('8179078', 1),\n",
       " ('8173208', 1),\n",
       " ('8279279', 1),\n",
       " ('8234395', 2),\n",
       " ('8333054', 1),\n",
       " ('8108040', 1),\n",
       " ('8149102', 1),\n",
       " ('8150616', 1),\n",
       " ('8300293', 1),\n",
       " ('8219729', 1),\n",
       " ('8129444', 1),\n",
       " ('8191678', 1),\n",
       " ('8264060', 1),\n",
       " ('8263645', 1),\n",
       " ('8143726', 1),\n",
       " ('8289171', 1),\n",
       " ('8205421', 1),\n",
       " ('8172617', 1),\n",
       " ('8241251', 1),\n",
       " ('8265321', 1),\n",
       " ('8248851', 1),\n",
       " ('8095417', 1),\n",
       " ('8312484', 1),\n",
       " ('8107663', 2),\n",
       " ('8200626', 1),\n",
       " ('8214213', 1),\n",
       " ('8197775', 1),\n",
       " ('8315812', 1),\n",
       " ('8325093', 1),\n",
       " ('8291452', 1),\n",
       " ('8100537', 2),\n",
       " ('8139945', 1)]"
      ]
     },
     "execution_count": 97,
     "metadata": {},
     "output_type": "execute_result"
    }
   ],
   "source": [
    "[(key, len(tuplist)) for key, tuplist in dict_list if key in founded_keys]"
   ]
  },
  {
   "cell_type": "code",
   "execution_count": null,
   "metadata": {},
   "outputs": [],
   "source": []
  },
  {
   "cell_type": "code",
   "execution_count": null,
   "metadata": {
    "scrolled": true
   },
   "outputs": [
    {
     "name": "stderr",
     "output_type": "stream",
     "text": [
      "\n",
      "  0%|          | 0/6352 [00:00<?, ?it/s]\u001b[A\n",
      " 25%|██▌       | 1610/6352 [00:01<00:03, 1371.87it/s]\u001b[A\n",
      "Exception in thread Thread-8:\n",
      "Traceback (most recent call last):\n",
      "  File \"/usr/lib/python3.5/threading.py\", line 914, in _bootstrap_inner\n",
      "    self.run()\n",
      "  File \"/usr/local/lib/python3.5/dist-packages/tqdm/_tqdm.py\", line 144, in run\n",
      "    for instance in self.tqdm_cls._instances:\n",
      "  File \"/usr/lib/python3.5/_weakrefset.py\", line 60, in __iter__\n",
      "    for itemref in self.data:\n",
      "RuntimeError: Set changed size during iteration\n",
      "\n"
     ]
    },
    {
     "name": "stdout",
     "output_type": "stream",
     "text": [
      "No end tag found, skip. 1625:2705223\n",
      "No end tag found, skip. 1641:8198448\n",
      "found 1647, 8126927, 83\n"
     ]
    },
    {
     "name": "stderr",
     "output_type": "stream",
     "text": [
      " 26%|██▌       | 1660/6352 [03:35<10:09,  7.69it/s]  "
     ]
    },
    {
     "name": "stdout",
     "output_type": "stream",
     "text": [
      "found 1659, 8098918, 84\n"
     ]
    },
    {
     "name": "stderr",
     "output_type": "stream",
     "text": [
      " 26%|██▌       | 1663/6352 [03:38<10:15,  7.62it/s]"
     ]
    },
    {
     "name": "stdout",
     "output_type": "stream",
     "text": [
      "found 1662, 8294418, 85\n"
     ]
    },
    {
     "name": "stderr",
     "output_type": "stream",
     "text": [
      " 26%|██▋       | 1670/6352 [04:00<11:14,  6.94it/s]"
     ]
    },
    {
     "name": "stdout",
     "output_type": "stream",
     "text": [
      "found 1669, 8217691, 86\n"
     ]
    },
    {
     "name": "stderr",
     "output_type": "stream",
     "text": [
      " 27%|██▋       | 1700/6352 [05:40<15:32,  4.99it/s]"
     ]
    },
    {
     "name": "stdout",
     "output_type": "stream",
     "text": [
      "found 1699, 8244674, 87\n"
     ]
    },
    {
     "name": "stderr",
     "output_type": "stream",
     "text": [
      " 27%|██▋       | 1720/6352 [07:08<19:13,  4.01it/s]"
     ]
    },
    {
     "name": "stdout",
     "output_type": "stream",
     "text": [
      "found 1719, 8140358, 88\n"
     ]
    },
    {
     "name": "stderr",
     "output_type": "stream",
     "text": [
      " 28%|██▊       | 1769/6352 [09:36<24:52,  3.07it/s]"
     ]
    },
    {
     "name": "stdout",
     "output_type": "stream",
     "text": [
      "found 1768, 8236139, 89\n"
     ]
    },
    {
     "name": "stderr",
     "output_type": "stream",
     "text": [
      " 28%|██▊       | 1780/6352 [10:57<28:07,  2.71it/s]"
     ]
    },
    {
     "name": "stdout",
     "output_type": "stream",
     "text": [
      "found 1779, 8337372, 90\n"
     ]
    },
    {
     "name": "stderr",
     "output_type": "stream",
     "text": [
      " 28%|██▊       | 1782/6352 [10:58<28:09,  2.71it/s]"
     ]
    },
    {
     "name": "stdout",
     "output_type": "stream",
     "text": [
      "found 1781, 8124477, 91\n"
     ]
    },
    {
     "name": "stderr",
     "output_type": "stream",
     "text": [
      " 28%|██▊       | 1796/6352 [11:13<28:27,  2.67it/s]"
     ]
    },
    {
     "name": "stdout",
     "output_type": "stream",
     "text": [
      "found 1795, 8127704, 92\n"
     ]
    },
    {
     "name": "stderr",
     "output_type": "stream",
     "text": [
      " 28%|██▊       | 1800/6352 [11:27<28:57,  2.62it/s]"
     ]
    },
    {
     "name": "stdout",
     "output_type": "stream",
     "text": [
      "found 1799, 8114011, 93\n"
     ]
    },
    {
     "name": "stderr",
     "output_type": "stream",
     "text": [
      " 29%|██▊       | 1812/6352 [12:22<30:59,  2.44it/s]"
     ]
    },
    {
     "name": "stdout",
     "output_type": "stream",
     "text": [
      "found 1811, 8297173, 94\n"
     ]
    },
    {
     "name": "stderr",
     "output_type": "stream",
     "text": [
      " 29%|██▉       | 1845/6352 [14:22<35:06,  2.14it/s]"
     ]
    },
    {
     "name": "stdout",
     "output_type": "stream",
     "text": [
      "found 1844, 8305453, 95\n"
     ]
    },
    {
     "name": "stderr",
     "output_type": "stream",
     "text": [
      " 29%|██▉       | 1849/6352 [14:37<35:37,  2.11it/s]"
     ]
    },
    {
     "name": "stdout",
     "output_type": "stream",
     "text": [
      "found 1848, 8097894, 96\n"
     ]
    },
    {
     "name": "stderr",
     "output_type": "stream",
     "text": [
      " 29%|██▉       | 1871/6352 [18:14<43:41,  1.71it/s]"
     ]
    },
    {
     "name": "stdout",
     "output_type": "stream",
     "text": [
      "found 1870, 8242476, 97\n"
     ]
    },
    {
     "name": "stderr",
     "output_type": "stream",
     "text": [
      " 30%|██▉       | 1896/6352 [23:50<56:02,  1.33it/s]"
     ]
    },
    {
     "name": "stdout",
     "output_type": "stream",
     "text": [
      "found 1895, 8242342, 98\n"
     ]
    },
    {
     "name": "stderr",
     "output_type": "stream",
     "text": [
      " 30%|███       | 1915/6352 [26:09<1:00:36,  1.22it/s]"
     ]
    },
    {
     "name": "stdout",
     "output_type": "stream",
     "text": [
      "found 1914, 8326533, 99\n"
     ]
    },
    {
     "name": "stderr",
     "output_type": "stream",
     "text": [
      " 30%|███       | 1922/6352 [27:17<1:02:54,  1.17it/s]"
     ]
    },
    {
     "name": "stdout",
     "output_type": "stream",
     "text": [
      "found 1921, 8268141, 100\n"
     ]
    },
    {
     "name": "stderr",
     "output_type": "stream",
     "text": [
      " 31%|███       | 1942/6352 [30:34<1:09:24,  1.06it/s]"
     ]
    },
    {
     "name": "stdout",
     "output_type": "stream",
     "text": [
      "found 1941, 8328659, 101\n"
     ]
    },
    {
     "name": "stderr",
     "output_type": "stream",
     "text": [
      " 31%|███       | 1950/6352 [31:43<1:11:36,  1.02it/s]"
     ]
    },
    {
     "name": "stdout",
     "output_type": "stream",
     "text": [
      "found 1949, 8204103, 102\n"
     ]
    },
    {
     "name": "stderr",
     "output_type": "stream",
     "text": [
      " 31%|███       | 1956/6352 [33:02<1:14:16,  1.01s/it]"
     ]
    },
    {
     "name": "stdout",
     "output_type": "stream",
     "text": [
      "found 1955, 8277780, 103\n"
     ]
    },
    {
     "name": "stderr",
     "output_type": "stream",
     "text": [
      " 31%|███       | 1967/6352 [35:25<1:18:59,  1.08s/it]"
     ]
    },
    {
     "name": "stdout",
     "output_type": "stream",
     "text": [
      "found 1966, 8250569, 104\n"
     ]
    },
    {
     "name": "stderr",
     "output_type": "stream",
     "text": [
      " 31%|███▏      | 1992/6352 [40:00<1:27:33,  1.20s/it]"
     ]
    },
    {
     "name": "stdout",
     "output_type": "stream",
     "text": [
      "found 1991, 8197048, 105\n"
     ]
    },
    {
     "name": "stderr",
     "output_type": "stream",
     "text": [
      " 32%|███▏      | 2006/6352 [41:51<1:30:40,  1.25s/it]"
     ]
    },
    {
     "name": "stdout",
     "output_type": "stream",
     "text": [
      "found 2005, 8187636, 106\n"
     ]
    },
    {
     "name": "stderr",
     "output_type": "stream",
     "text": [
      " 32%|███▏      | 2019/6352 [42:35<1:31:24,  1.27s/it]"
     ]
    },
    {
     "name": "stdout",
     "output_type": "stream",
     "text": [
      "found 2018, 8167127, 107\n"
     ]
    },
    {
     "name": "stderr",
     "output_type": "stream",
     "text": [
      " 33%|███▎      | 2069/6352 [51:19<1:46:14,  1.49s/it]"
     ]
    },
    {
     "name": "stdout",
     "output_type": "stream",
     "text": [
      "found 2068, 8241077, 108\n"
     ]
    },
    {
     "name": "stderr",
     "output_type": "stream",
     "text": [
      " 33%|███▎      | 2076/6352 [52:57<1:49:05,  1.53s/it]"
     ]
    },
    {
     "name": "stdout",
     "output_type": "stream",
     "text": [
      "found 2075, 8326951, 109\n"
     ]
    },
    {
     "name": "stderr",
     "output_type": "stream",
     "text": [
      " 33%|███▎      | 2078/6352 [53:29<1:50:00,  1.54s/it]"
     ]
    },
    {
     "name": "stdout",
     "output_type": "stream",
     "text": [
      "found 2077, 8104787, 110\n"
     ]
    },
    {
     "name": "stderr",
     "output_type": "stream",
     "text": [
      " 33%|███▎      | 2084/6352 [53:40<1:49:54,  1.55s/it]"
     ]
    },
    {
     "name": "stdout",
     "output_type": "stream",
     "text": [
      "found 2083, 8323070, 111\n"
     ]
    },
    {
     "name": "stderr",
     "output_type": "stream",
     "text": [
      " 33%|███▎      | 2093/6352 [55:15<1:52:27,  1.58s/it]"
     ]
    },
    {
     "name": "stdout",
     "output_type": "stream",
     "text": [
      "found 2092, 8171948, 112\n"
     ]
    },
    {
     "name": "stderr",
     "output_type": "stream",
     "text": [
      " 33%|███▎      | 2109/6352 [56:37<1:53:55,  1.61s/it]"
     ]
    },
    {
     "name": "stdout",
     "output_type": "stream",
     "text": [
      "found 2108, 8301639, 113\n"
     ]
    },
    {
     "name": "stderr",
     "output_type": "stream",
     "text": [
      " 34%|███▎      | 2134/6352 [1:00:47<2:00:09,  1.71s/it]"
     ]
    },
    {
     "name": "stdout",
     "output_type": "stream",
     "text": [
      "found 2133, 8176508, 114\n"
     ]
    },
    {
     "name": "stderr",
     "output_type": "stream",
     "text": [
      " 34%|███▍      | 2169/6352 [1:07:18<2:09:48,  1.86s/it]"
     ]
    },
    {
     "name": "stdout",
     "output_type": "stream",
     "text": [
      "found 2168, 8341213, 115\n"
     ]
    },
    {
     "name": "stderr",
     "output_type": "stream",
     "text": [
      " 34%|███▍      | 2191/6352 [1:10:09<2:13:14,  1.92s/it]"
     ]
    },
    {
     "name": "stdout",
     "output_type": "stream",
     "text": [
      "found 2190, 8235081, 116\n"
     ]
    },
    {
     "name": "stderr",
     "output_type": "stream",
     "text": [
      " 35%|███▍      | 2204/6352 [1:12:43<2:16:52,  1.98s/it]"
     ]
    },
    {
     "name": "stdout",
     "output_type": "stream",
     "text": [
      "found 2203, 8194173, 117\n"
     ]
    },
    {
     "name": "stderr",
     "output_type": "stream",
     "text": [
      " 35%|███▍      | 2210/6352 [1:13:28<2:17:41,  1.99s/it]"
     ]
    },
    {
     "name": "stdout",
     "output_type": "stream",
     "text": [
      "found 2209, 8284085, 118\n"
     ]
    },
    {
     "name": "stderr",
     "output_type": "stream",
     "text": [
      " 35%|███▌      | 2249/6352 [1:17:24<2:21:12,  2.07s/it]"
     ]
    },
    {
     "name": "stdout",
     "output_type": "stream",
     "text": [
      "found 2248, 8247569, 119\n"
     ]
    },
    {
     "name": "stderr",
     "output_type": "stream",
     "text": [
      " 37%|███▋      | 2333/6352 [1:31:14<2:37:10,  2.35s/it]"
     ]
    },
    {
     "name": "stdout",
     "output_type": "stream",
     "text": [
      "found 2332, 8221765, 120\n"
     ]
    },
    {
     "name": "stderr",
     "output_type": "stream",
     "text": [
      " 37%|███▋      | 2342/6352 [1:32:56<2:39:08,  2.38s/it]"
     ]
    },
    {
     "name": "stdout",
     "output_type": "stream",
     "text": [
      "found 2341, 8148885, 121\n"
     ]
    },
    {
     "name": "stderr",
     "output_type": "stream",
     "text": [
      " 37%|███▋      | 2375/6352 [1:37:20<2:42:59,  2.46s/it]"
     ]
    },
    {
     "name": "stdout",
     "output_type": "stream",
     "text": [
      "found 2374, 8304794, 122\n"
     ]
    },
    {
     "name": "stderr",
     "output_type": "stream",
     "text": [
      " 38%|███▊      | 2398/6352 [1:39:34<2:44:10,  2.49s/it]"
     ]
    },
    {
     "name": "stdout",
     "output_type": "stream",
     "text": [
      "found 2397, 8317239, 123\n"
     ]
    },
    {
     "name": "stderr",
     "output_type": "stream",
     "text": [
      " 39%|███▊      | 2451/6352 [1:45:13<2:47:28,  2.58s/it]"
     ]
    },
    {
     "name": "stdout",
     "output_type": "stream",
     "text": [
      "found 2450, 8327561, 124\n"
     ]
    },
    {
     "name": "stderr",
     "output_type": "stream",
     "text": [
      " 39%|███▉      | 2463/6352 [1:47:39<2:49:58,  2.62s/it]"
     ]
    },
    {
     "name": "stdout",
     "output_type": "stream",
     "text": [
      "found 2462, 8200668, 125\n"
     ]
    },
    {
     "name": "stderr",
     "output_type": "stream",
     "text": [
      " 39%|███▉      | 2472/6352 [1:49:31<2:51:54,  2.66s/it]"
     ]
    },
    {
     "name": "stdout",
     "output_type": "stream",
     "text": [
      "found 2471, 8139284, 126\n"
     ]
    },
    {
     "name": "stderr",
     "output_type": "stream",
     "text": [
      " 40%|███▉      | 2516/6352 [1:58:08<3:00:06,  2.82s/it]"
     ]
    },
    {
     "name": "stdout",
     "output_type": "stream",
     "text": [
      "found 2515, 8270274, 127\n"
     ]
    },
    {
     "name": "stderr",
     "output_type": "stream",
     "text": [
      " 40%|███▉      | 2519/6352 [1:58:09<2:59:47,  2.81s/it]"
     ]
    },
    {
     "name": "stdout",
     "output_type": "stream",
     "text": [
      "found 2518, 8186671, 128\n"
     ]
    },
    {
     "name": "stderr",
     "output_type": "stream",
     "text": [
      " 40%|███▉      | 2539/6352 [2:01:02<3:01:47,  2.86s/it]"
     ]
    },
    {
     "name": "stdout",
     "output_type": "stream",
     "text": [
      "found 2538, 8188714, 129\n"
     ]
    },
    {
     "name": "stderr",
     "output_type": "stream",
     "text": [
      " 40%|████      | 2561/6352 [2:03:21<3:02:36,  2.89s/it]"
     ]
    },
    {
     "name": "stdout",
     "output_type": "stream",
     "text": [
      "found 2560, 8299588, 130\n"
     ]
    },
    {
     "name": "stderr",
     "output_type": "stream",
     "text": [
      " 41%|████      | 2575/6352 [2:04:56<3:03:15,  2.91s/it]"
     ]
    },
    {
     "name": "stdout",
     "output_type": "stream",
     "text": [
      "found 2574, 8254848, 131\n"
     ]
    },
    {
     "name": "stderr",
     "output_type": "stream",
     "text": [
      " 41%|████      | 2585/6352 [2:06:58<3:05:01,  2.95s/it]"
     ]
    },
    {
     "name": "stdout",
     "output_type": "stream",
     "text": [
      "found 2584, 8241819, 132\n"
     ]
    },
    {
     "name": "stderr",
     "output_type": "stream",
     "text": [
      " 41%|████      | 2587/6352 [2:07:52<3:06:06,  2.97s/it]"
     ]
    },
    {
     "name": "stdout",
     "output_type": "stream",
     "text": [
      "found 2586, 8091547, 133\n"
     ]
    },
    {
     "name": "stderr",
     "output_type": "stream",
     "text": [
      " 41%|████      | 2599/6352 [2:09:00<3:06:17,  2.98s/it]"
     ]
    },
    {
     "name": "stdout",
     "output_type": "stream",
     "text": [
      "found 2598, 8213413, 134\n"
     ]
    },
    {
     "name": "stderr",
     "output_type": "stream",
     "text": [
      " 41%|████      | 2605/6352 [2:10:15<3:07:21,  3.00s/it]"
     ]
    },
    {
     "name": "stdout",
     "output_type": "stream",
     "text": [
      "found 2604, 8136314, 135\n"
     ]
    },
    {
     "name": "stderr",
     "output_type": "stream",
     "text": [
      " 41%|████      | 2615/6352 [2:12:01<3:08:40,  3.03s/it]"
     ]
    },
    {
     "name": "stdout",
     "output_type": "stream",
     "text": [
      "found 2614, 8288831, 136\n"
     ]
    },
    {
     "name": "stderr",
     "output_type": "stream",
     "text": [
      " 42%|████▏     | 2646/6352 [2:17:05<3:12:01,  3.11s/it]"
     ]
    },
    {
     "name": "stdout",
     "output_type": "stream",
     "text": [
      "found 2645, 8247940, 137\n"
     ]
    },
    {
     "name": "stderr",
     "output_type": "stream",
     "text": [
      " 42%|████▏     | 2671/6352 [2:21:18<3:14:44,  3.17s/it]"
     ]
    },
    {
     "name": "stdout",
     "output_type": "stream",
     "text": [
      "found 2670, 8246726, 138\n"
     ]
    },
    {
     "name": "stderr",
     "output_type": "stream",
     "text": [
      " 42%|████▏     | 2674/6352 [2:21:56<3:15:14,  3.19s/it]"
     ]
    },
    {
     "name": "stdout",
     "output_type": "stream",
     "text": [
      "found 2673, 8112794, 139\n"
     ]
    },
    {
     "name": "stderr",
     "output_type": "stream",
     "text": [
      " 42%|████▏     | 2683/6352 [2:22:19<3:14:38,  3.18s/it]"
     ]
    },
    {
     "name": "stdout",
     "output_type": "stream",
     "text": [
      "found 2682, 8257317, 140\n"
     ]
    },
    {
     "name": "stderr",
     "output_type": "stream",
     "text": [
      " 43%|████▎     | 2717/6352 [2:26:54<3:16:32,  3.24s/it]"
     ]
    },
    {
     "name": "stdout",
     "output_type": "stream",
     "text": [
      "found 2716, 8101434, 141\n"
     ]
    },
    {
     "name": "stderr",
     "output_type": "stream",
     "text": [
      " 43%|████▎     | 2721/6352 [2:26:55<3:16:04,  3.24s/it]"
     ]
    },
    {
     "name": "stdout",
     "output_type": "stream",
     "text": [
      "found 2720, 8101279, 142\n"
     ]
    },
    {
     "name": "stderr",
     "output_type": "stream",
     "text": [
      " 43%|████▎     | 2739/6352 [2:29:09<3:16:44,  3.27s/it]"
     ]
    },
    {
     "name": "stdout",
     "output_type": "stream",
     "text": [
      "found 2738, 8222936, 143\n"
     ]
    },
    {
     "name": "stderr",
     "output_type": "stream",
     "text": [
      " 44%|████▎     | 2771/6352 [2:34:00<3:19:01,  3.33s/it]"
     ]
    },
    {
     "name": "stdout",
     "output_type": "stream",
     "text": [
      "found 2770, 8266698, 144\n"
     ]
    },
    {
     "name": "stderr",
     "output_type": "stream",
     "text": [
      " 44%|████▎     | 2775/6352 [2:34:37<3:19:18,  3.34s/it]"
     ]
    },
    {
     "name": "stdout",
     "output_type": "stream",
     "text": [
      "found 2774, 8321497, 145\n"
     ]
    },
    {
     "name": "stderr",
     "output_type": "stream",
     "text": [
      " 44%|████▍     | 2800/6352 [2:38:20<3:20:52,  3.39s/it]"
     ]
    },
    {
     "name": "stdout",
     "output_type": "stream",
     "text": [
      "found 2799, 8214943, 146\n"
     ]
    },
    {
     "name": "stderr",
     "output_type": "stream",
     "text": [
      " 44%|████▍     | 2807/6352 [2:38:23<3:20:02,  3.39s/it]"
     ]
    },
    {
     "name": "stdout",
     "output_type": "stream",
     "text": [
      "found 2806, 8166155, 147\n"
     ]
    },
    {
     "name": "stderr",
     "output_type": "stream",
     "text": [
      " 44%|████▍     | 2822/6352 [2:40:32<3:20:49,  3.41s/it]"
     ]
    },
    {
     "name": "stdout",
     "output_type": "stream",
     "text": [
      "No end tag found, skip. 2821:5166207\n"
     ]
    },
    {
     "name": "stderr",
     "output_type": "stream",
     "text": [
      " 45%|████▍     | 2831/6352 [2:42:07<3:21:37,  3.44s/it]"
     ]
    },
    {
     "name": "stdout",
     "output_type": "stream",
     "text": [
      "found 2830, 8246140, 148\n"
     ]
    },
    {
     "name": "stderr",
     "output_type": "stream",
     "text": [
      " 45%|████▍     | 2840/6352 [2:42:41<3:21:10,  3.44s/it]"
     ]
    },
    {
     "name": "stdout",
     "output_type": "stream",
     "text": [
      "No end tag found, skip. 2839:20090075333\n"
     ]
    },
    {
     "name": "stderr",
     "output_type": "stream",
     "text": [
      " 45%|████▍     | 2846/6352 [2:42:45<3:20:30,  3.43s/it]"
     ]
    },
    {
     "name": "stdout",
     "output_type": "stream",
     "text": [
      "found 2845, 8144997, 149\n"
     ]
    },
    {
     "name": "stderr",
     "output_type": "stream",
     "text": [
      " 45%|████▍     | 2850/6352 [2:43:16<3:20:37,  3.44s/it]"
     ]
    },
    {
     "name": "stdout",
     "output_type": "stream",
     "text": [
      "found 2849, 8160701, 150\n"
     ]
    },
    {
     "name": "stderr",
     "output_type": "stream",
     "text": [
      " 45%|████▍     | 2856/6352 [2:43:39<3:20:20,  3.44s/it]"
     ]
    },
    {
     "name": "stdout",
     "output_type": "stream",
     "text": [
      "found 2855, 8157790, 151\n"
     ]
    },
    {
     "name": "stderr",
     "output_type": "stream",
     "text": [
      " 45%|████▌     | 2878/6352 [2:46:28<3:20:56,  3.47s/it]"
     ]
    },
    {
     "name": "stdout",
     "output_type": "stream",
     "text": [
      "found 2877, 8223033, 152\n"
     ]
    },
    {
     "name": "stderr",
     "output_type": "stream",
     "text": [
      " 45%|████▌     | 2883/6352 [2:47:17<3:21:17,  3.48s/it]"
     ]
    },
    {
     "name": "stdout",
     "output_type": "stream",
     "text": [
      "found 2882, 8170705, 153\n"
     ]
    },
    {
     "name": "stderr",
     "output_type": "stream",
     "text": [
      " 45%|████▌     | 2888/6352 [2:47:51<3:21:19,  3.49s/it]"
     ]
    },
    {
     "name": "stdout",
     "output_type": "stream",
     "text": [
      "found 2887, 8123375, 154\n"
     ]
    },
    {
     "name": "stderr",
     "output_type": "stream",
     "text": [
      " 45%|████▌     | 2890/6352 [2:47:52<3:21:06,  3.49s/it]"
     ]
    },
    {
     "name": "stdout",
     "output_type": "stream",
     "text": [
      "found 2889, 8209628, 155\n"
     ]
    },
    {
     "name": "stderr",
     "output_type": "stream",
     "text": [
      " 46%|████▌     | 2898/6352 [2:50:24<3:23:05,  3.53s/it]"
     ]
    },
    {
     "name": "stdout",
     "output_type": "stream",
     "text": [
      "found 2897, 8184908, 156\n"
     ]
    },
    {
     "name": "stderr",
     "output_type": "stream",
     "text": [
      " 46%|████▌     | 2907/6352 [2:51:24<3:23:08,  3.54s/it]"
     ]
    },
    {
     "name": "stdout",
     "output_type": "stream",
     "text": [
      "found 2906, 8292984, 157\n"
     ]
    },
    {
     "name": "stderr",
     "output_type": "stream",
     "text": [
      " 46%|████▌     | 2914/6352 [2:52:01<3:22:58,  3.54s/it]"
     ]
    },
    {
     "name": "stdout",
     "output_type": "stream",
     "text": [
      "found 2913, 8285833, 158\n"
     ]
    },
    {
     "name": "stderr",
     "output_type": "stream",
     "text": [
      " 46%|████▋     | 2948/6352 [2:58:32<3:26:09,  3.63s/it]"
     ]
    },
    {
     "name": "stdout",
     "output_type": "stream",
     "text": [
      "found 2947, 8243749, 159\n"
     ]
    },
    {
     "name": "stderr",
     "output_type": "stream",
     "text": [
      " 46%|████▋     | 2950/6352 [2:59:08<3:26:35,  3.64s/it]"
     ]
    },
    {
     "name": "stdout",
     "output_type": "stream",
     "text": [
      "found 2949, 8306922, 160\n"
     ]
    },
    {
     "name": "stderr",
     "output_type": "stream",
     "text": [
      " 47%|████▋     | 2973/6352 [3:02:11<3:27:04,  3.68s/it]"
     ]
    },
    {
     "name": "stdout",
     "output_type": "stream",
     "text": [
      "found 2972, 8274671, 161\n"
     ]
    },
    {
     "name": "stderr",
     "output_type": "stream",
     "text": [
      "\r",
      " 47%|████▋     | 2974/6352 [3:02:12<3:26:57,  3.68s/it]"
     ]
    },
    {
     "name": "stdout",
     "output_type": "stream",
     "text": [
      "found 2973, 8288090, 162\n"
     ]
    },
    {
     "name": "stderr",
     "output_type": "stream",
     "text": [
      " 47%|████▋     | 2976/6352 [3:02:29<3:27:01,  3.68s/it]"
     ]
    },
    {
     "name": "stdout",
     "output_type": "stream",
     "text": [
      "found 2975, 8227462, 163\n"
     ]
    },
    {
     "name": "stderr",
     "output_type": "stream",
     "text": [
      "\r",
      " 47%|████▋     | 2978/6352 [3:02:30<3:26:46,  3.68s/it]"
     ]
    },
    {
     "name": "stdout",
     "output_type": "stream",
     "text": [
      "found 2977, 8147165, 164\n"
     ]
    },
    {
     "name": "stderr",
     "output_type": "stream",
     "text": [
      " 47%|████▋     | 2981/6352 [3:02:32<3:26:25,  3.67s/it]"
     ]
    },
    {
     "name": "stdout",
     "output_type": "stream",
     "text": [
      "found 2980, 8268828, 165\n"
     ]
    },
    {
     "name": "stderr",
     "output_type": "stream",
     "text": [
      " 47%|████▋     | 2984/6352 [3:02:50<3:26:22,  3.68s/it]"
     ]
    },
    {
     "name": "stdout",
     "output_type": "stream",
     "text": [
      "found 2983, 8151016, 166\n"
     ]
    },
    {
     "name": "stderr",
     "output_type": "stream",
     "text": [
      " 47%|████▋     | 3004/6352 [3:06:40<3:28:03,  3.73s/it]"
     ]
    },
    {
     "name": "stdout",
     "output_type": "stream",
     "text": [
      "found 3003, 8201370, 167\n"
     ]
    },
    {
     "name": "stderr",
     "output_type": "stream",
     "text": [
      " 47%|████▋     | 3007/6352 [3:07:24<3:28:28,  3.74s/it]"
     ]
    },
    {
     "name": "stdout",
     "output_type": "stream",
     "text": [
      "found 3006, 8169016, 168\n"
     ]
    },
    {
     "name": "stderr",
     "output_type": "stream",
     "text": [
      " 48%|████▊     | 3055/6352 [3:14:25<3:29:49,  3.82s/it]"
     ]
    },
    {
     "name": "stdout",
     "output_type": "stream",
     "text": [
      "found 3054, 8251233, 169\n"
     ]
    },
    {
     "name": "stderr",
     "output_type": "stream",
     "text": [
      " 49%|████▉     | 3102/6352 [3:21:38<3:31:15,  3.90s/it]"
     ]
    },
    {
     "name": "stdout",
     "output_type": "stream",
     "text": [
      "found 3101, 8203685, 170\n"
     ]
    },
    {
     "name": "stderr",
     "output_type": "stream",
     "text": [
      " 50%|████▉     | 3164/6352 [3:32:16<3:33:52,  4.03s/it]"
     ]
    },
    {
     "name": "stdout",
     "output_type": "stream",
     "text": [
      "found 3163, 8240614, 171\n"
     ]
    },
    {
     "name": "stderr",
     "output_type": "stream",
     "text": [
      " 50%|████▉     | 3166/6352 [3:32:20<3:33:41,  4.02s/it]"
     ]
    },
    {
     "name": "stdout",
     "output_type": "stream",
     "text": [
      "found 3165, 8305196, 172\n"
     ]
    },
    {
     "name": "stderr",
     "output_type": "stream",
     "text": [
      " 50%|█████     | 3180/6352 [3:34:50<3:34:17,  4.05s/it]"
     ]
    },
    {
     "name": "stdout",
     "output_type": "stream",
     "text": [
      "found 3179, 8146514, 173\n"
     ]
    },
    {
     "name": "stderr",
     "output_type": "stream",
     "text": [
      " 50%|█████     | 3189/6352 [3:35:46<3:34:01,  4.06s/it]"
     ]
    },
    {
     "name": "stdout",
     "output_type": "stream",
     "text": [
      "found 3188, 8193983, 174\n"
     ]
    },
    {
     "name": "stderr",
     "output_type": "stream",
     "text": [
      " 51%|█████     | 3209/6352 [3:38:50<3:34:20,  4.09s/it]"
     ]
    },
    {
     "name": "stdout",
     "output_type": "stream",
     "text": [
      "found 3208, 8299555, 175\n"
     ]
    },
    {
     "name": "stderr",
     "output_type": "stream",
     "text": [
      "\r",
      " 51%|█████     | 3210/6352 [3:39:04<3:34:25,  4.09s/it]"
     ]
    },
    {
     "name": "stdout",
     "output_type": "stream",
     "text": [
      "found 3209, 8203954, 176\n"
     ]
    },
    {
     "name": "stderr",
     "output_type": "stream",
     "text": [
      " 51%|█████     | 3252/6352 [3:44:59<3:34:28,  4.15s/it]"
     ]
    },
    {
     "name": "stdout",
     "output_type": "stream",
     "text": [
      "found 3251, 8260914, 177\n"
     ]
    },
    {
     "name": "stderr",
     "output_type": "stream",
     "text": [
      " 51%|█████     | 3255/6352 [3:45:01<3:34:05,  4.15s/it]"
     ]
    },
    {
     "name": "stdout",
     "output_type": "stream",
     "text": [
      "found 3254, 8206243, 178\n"
     ]
    },
    {
     "name": "stderr",
     "output_type": "stream",
     "text": [
      "\r",
      " 51%|█████▏    | 3256/6352 [3:45:01<3:33:58,  4.15s/it]"
     ]
    },
    {
     "name": "stdout",
     "output_type": "stream",
     "text": [
      "found 3255, 8218397, 179\n"
     ]
    },
    {
     "name": "stderr",
     "output_type": "stream",
     "text": [
      " 52%|█████▏    | 3310/6352 [3:52:33<3:33:43,  4.22s/it]"
     ]
    },
    {
     "name": "stdout",
     "output_type": "stream",
     "text": [
      "found 3309, 8274040, 180\n"
     ]
    },
    {
     "name": "stderr",
     "output_type": "stream",
     "text": [
      "\r",
      " 52%|█████▏    | 3311/6352 [3:52:46<3:33:47,  4.22s/it]"
     ]
    },
    {
     "name": "stdout",
     "output_type": "stream",
     "text": [
      "found 3310, 8260725, 181\n"
     ]
    },
    {
     "name": "stderr",
     "output_type": "stream",
     "text": [
      " 52%|█████▏    | 3319/6352 [3:53:16<3:33:10,  4.22s/it]"
     ]
    },
    {
     "name": "stdout",
     "output_type": "stream",
     "text": [
      "found 3318, 8104775, 182\n"
     ]
    },
    {
     "name": "stderr",
     "output_type": "stream",
     "text": [
      " 53%|█████▎    | 3347/6352 [4:00:06<3:35:34,  4.30s/it]"
     ]
    },
    {
     "name": "stdout",
     "output_type": "stream",
     "text": [
      "found 3346, 8328018, 183\n"
     ]
    },
    {
     "name": "stderr",
     "output_type": "stream",
     "text": [
      " 53%|█████▎    | 3362/6352 [4:04:19<3:37:17,  4.36s/it]"
     ]
    },
    {
     "name": "stdout",
     "output_type": "stream",
     "text": [
      "found 3361, 8228112, 184\n"
     ]
    },
    {
     "name": "stderr",
     "output_type": "stream",
     "text": [
      " 53%|█████▎    | 3365/6352 [4:04:22<3:36:55,  4.36s/it]"
     ]
    },
    {
     "name": "stdout",
     "output_type": "stream",
     "text": [
      "found 3364, 8184983, 185\n"
     ]
    },
    {
     "name": "stderr",
     "output_type": "stream",
     "text": [
      " 53%|█████▎    | 3392/6352 [4:09:48<3:37:59,  4.42s/it]"
     ]
    },
    {
     "name": "stdout",
     "output_type": "stream",
     "text": [
      "found 3391, 8274097, 186\n"
     ]
    },
    {
     "name": "stderr",
     "output_type": "stream",
     "text": [
      " 53%|█████▎    | 3396/6352 [4:10:26<3:37:59,  4.42s/it]"
     ]
    },
    {
     "name": "stdout",
     "output_type": "stream",
     "text": [
      "found 3395, 8167280, 187\n"
     ]
    },
    {
     "name": "stderr",
     "output_type": "stream",
     "text": [
      " 54%|█████▎    | 3413/6352 [4:11:41<3:36:44,  4.42s/it]"
     ]
    },
    {
     "name": "stdout",
     "output_type": "stream",
     "text": [
      "found 3412, 8297723, 188\n"
     ]
    },
    {
     "name": "stderr",
     "output_type": "stream",
     "text": [
      " 54%|█████▍    | 3429/6352 [4:14:18<3:36:47,  4.45s/it]"
     ]
    },
    {
     "name": "stdout",
     "output_type": "stream",
     "text": [
      "found 3428, 8100725, 189\n"
     ]
    },
    {
     "name": "stderr",
     "output_type": "stream",
     "text": [
      " 54%|█████▍    | 3439/6352 [4:15:42<3:36:35,  4.46s/it]"
     ]
    },
    {
     "name": "stdout",
     "output_type": "stream",
     "text": [
      "found 3438, 8337293, 190\n"
     ]
    },
    {
     "name": "stderr",
     "output_type": "stream",
     "text": [
      " 54%|█████▍    | 3445/6352 [4:16:17<3:36:15,  4.46s/it]"
     ]
    },
    {
     "name": "stdout",
     "output_type": "stream",
     "text": [
      "found 3444, 8210101, 191\n"
     ]
    },
    {
     "name": "stderr",
     "output_type": "stream",
     "text": [
      " 55%|█████▍    | 3472/6352 [4:20:39<3:36:13,  4.50s/it]"
     ]
    },
    {
     "name": "stdout",
     "output_type": "stream",
     "text": [
      "found 3471, 8274093, 192\n"
     ]
    },
    {
     "name": "stderr",
     "output_type": "stream",
     "text": [
      " 55%|█████▍    | 3477/6352 [4:22:01<3:36:39,  4.52s/it]"
     ]
    },
    {
     "name": "stdout",
     "output_type": "stream",
     "text": [
      "found 3476, 8267812, 193\n"
     ]
    },
    {
     "name": "stderr",
     "output_type": "stream",
     "text": [
      " 55%|█████▌    | 3494/6352 [4:25:36<3:37:15,  4.56s/it]"
     ]
    },
    {
     "name": "stdout",
     "output_type": "stream",
     "text": [
      "found 3493, 8201736, 194\n"
     ]
    },
    {
     "name": "stderr",
     "output_type": "stream",
     "text": [
      " 56%|█████▌    | 3541/6352 [4:30:39<3:34:51,  4.59s/it]"
     ]
    },
    {
     "name": "stdout",
     "output_type": "stream",
     "text": [
      "found 3540, 8147458, 195\n"
     ]
    },
    {
     "name": "stderr",
     "output_type": "stream",
     "text": [
      " 56%|█████▌    | 3552/6352 [4:31:35<3:34:05,  4.59s/it]"
     ]
    },
    {
     "name": "stdout",
     "output_type": "stream",
     "text": [
      "found 3551, 8335703, 196\n"
     ]
    },
    {
     "name": "stderr",
     "output_type": "stream",
     "text": [
      " 56%|█████▌    | 3566/6352 [4:33:21<3:33:33,  4.60s/it]"
     ]
    },
    {
     "name": "stdout",
     "output_type": "stream",
     "text": [
      "found 3565, 8263760, 197\n"
     ]
    },
    {
     "name": "stderr",
     "output_type": "stream",
     "text": [
      " 56%|█████▋    | 3581/6352 [4:35:24<3:33:06,  4.61s/it]"
     ]
    },
    {
     "name": "stdout",
     "output_type": "stream",
     "text": [
      "found 3580, 8235235, 198\n"
     ]
    },
    {
     "name": "stderr",
     "output_type": "stream",
     "text": [
      " 57%|█████▋    | 3623/6352 [4:41:55<3:32:21,  4.67s/it]"
     ]
    },
    {
     "name": "stdout",
     "output_type": "stream",
     "text": [
      "found 3622, 8280525, 199\n"
     ]
    },
    {
     "name": "stderr",
     "output_type": "stream",
     "text": [
      " 57%|█████▋    | 3651/6352 [4:45:56<3:31:32,  4.70s/it]"
     ]
    },
    {
     "name": "stdout",
     "output_type": "stream",
     "text": [
      "found 3650, 8215370, 200\n"
     ]
    },
    {
     "name": "stderr",
     "output_type": "stream",
     "text": [
      " 58%|█████▊    | 3667/6352 [4:47:08<3:30:14,  4.70s/it]"
     ]
    },
    {
     "name": "stdout",
     "output_type": "stream",
     "text": [
      "found 3666, 8131377, 201\n"
     ]
    },
    {
     "name": "stderr",
     "output_type": "stream",
     "text": [
      " 58%|█████▊    | 3679/6352 [4:48:17<3:29:27,  4.70s/it]"
     ]
    },
    {
     "name": "stdout",
     "output_type": "stream",
     "text": [
      "found 3678, 8326468, 202\n"
     ]
    },
    {
     "name": "stderr",
     "output_type": "stream",
     "text": [
      " 58%|█████▊    | 3703/6352 [4:51:31<3:28:32,  4.72s/it]"
     ]
    },
    {
     "name": "stdout",
     "output_type": "stream",
     "text": [
      "found 3702, 8283802, 203\n"
     ]
    },
    {
     "name": "stderr",
     "output_type": "stream",
     "text": [
      " 58%|█████▊    | 3707/6352 [4:51:34<3:28:02,  4.72s/it]"
     ]
    },
    {
     "name": "stdout",
     "output_type": "stream",
     "text": [
      "found 3706, 8279687, 204\n"
     ]
    },
    {
     "name": "stderr",
     "output_type": "stream",
     "text": [
      " 59%|█████▊    | 3719/6352 [4:52:28<3:27:03,  4.72s/it]"
     ]
    },
    {
     "name": "stdout",
     "output_type": "stream",
     "text": [
      "found 3718, 8327784, 205\n"
     ]
    },
    {
     "name": "stderr",
     "output_type": "stream",
     "text": [
      " 59%|█████▊    | 3721/6352 [4:52:48<3:27:01,  4.72s/it]"
     ]
    },
    {
     "name": "stdout",
     "output_type": "stream",
     "text": [
      "found 3720, 8093914, 206\n"
     ]
    },
    {
     "name": "stderr",
     "output_type": "stream",
     "text": [
      " 59%|█████▊    | 3723/6352 [4:52:50<3:26:47,  4.72s/it]"
     ]
    },
    {
     "name": "stdout",
     "output_type": "stream",
     "text": [
      "found 3722, 8232905, 207\n"
     ]
    },
    {
     "name": "stderr",
     "output_type": "stream",
     "text": [
      " 59%|█████▊    | 3725/6352 [4:53:20<3:26:52,  4.72s/it]"
     ]
    },
    {
     "name": "stdout",
     "output_type": "stream",
     "text": [
      "No end tag found, skip. 3724:5604209\n"
     ]
    },
    {
     "name": "stderr",
     "output_type": "stream",
     "text": [
      " 59%|█████▉    | 3750/6352 [4:58:49<3:27:20,  4.78s/it]"
     ]
    },
    {
     "name": "stdout",
     "output_type": "stream",
     "text": [
      "found 3749, 8147344, 208\n"
     ]
    },
    {
     "name": "stderr",
     "output_type": "stream",
     "text": [
      " 59%|█████▉    | 3779/6352 [5:02:44<3:26:07,  4.81s/it]"
     ]
    },
    {
     "name": "stdout",
     "output_type": "stream",
     "text": [
      "found 3778, 8109469, 209\n"
     ]
    },
    {
     "name": "stderr",
     "output_type": "stream",
     "text": [
      " 60%|█████▉    | 3790/6352 [5:04:05<3:25:33,  4.81s/it]"
     ]
    },
    {
     "name": "stdout",
     "output_type": "stream",
     "text": [
      "found 3789, 8186733, 210\n"
     ]
    },
    {
     "name": "stderr",
     "output_type": "stream",
     "text": [
      " 60%|█████▉    | 3800/6352 [5:05:21<3:25:04,  4.82s/it]"
     ]
    },
    {
     "name": "stdout",
     "output_type": "stream",
     "text": [
      "No end tag found, skip. 3799:4447001\n"
     ]
    },
    {
     "name": "stderr",
     "output_type": "stream",
     "text": [
      " 61%|██████    | 3853/6352 [5:12:47<3:22:52,  4.87s/it]"
     ]
    },
    {
     "name": "stdout",
     "output_type": "stream",
     "text": [
      "found 3852, 8220730, 211\n"
     ]
    },
    {
     "name": "stderr",
     "output_type": "stream",
     "text": [
      "\r",
      " 61%|██████    | 3854/6352 [5:13:04<3:22:55,  4.87s/it]"
     ]
    },
    {
     "name": "stdout",
     "output_type": "stream",
     "text": [
      "Skip 8 beginning key cand: 8065598, 6\n"
     ]
    },
    {
     "name": "stderr",
     "output_type": "stream",
     "text": [
      "\r",
      " 61%|██████    | 3856/6352 [5:13:09<3:22:42,  4.87s/it]"
     ]
    },
    {
     "name": "stdout",
     "output_type": "stream",
     "text": [
      "found 3855, 8187423, 212\n"
     ]
    },
    {
     "name": "stderr",
     "output_type": "stream",
     "text": [
      " 61%|██████    | 3862/6352 [5:13:44<3:22:17,  4.87s/it]"
     ]
    },
    {
     "name": "stdout",
     "output_type": "stream",
     "text": [
      "found 3861, 8203966, 213\n"
     ]
    },
    {
     "name": "stderr",
     "output_type": "stream",
     "text": [
      " 61%|██████▏   | 3892/6352 [5:19:55<3:22:12,  4.93s/it]"
     ]
    },
    {
     "name": "stdout",
     "output_type": "stream",
     "text": [
      "found 3891, 8147867, 214\n"
     ]
    },
    {
     "name": "stderr",
     "output_type": "stream",
     "text": [
      " 62%|██████▏   | 3922/6352 [5:26:05<3:22:02,  4.99s/it]"
     ]
    },
    {
     "name": "stdout",
     "output_type": "stream",
     "text": [
      "found 3921, 8118466, 215\n"
     ]
    },
    {
     "name": "stderr",
     "output_type": "stream",
     "text": [
      " 62%|██████▏   | 3926/6352 [5:26:09<3:21:32,  4.98s/it]"
     ]
    },
    {
     "name": "stdout",
     "output_type": "stream",
     "text": [
      "found 3925, 8108252, 216\n"
     ]
    },
    {
     "name": "stderr",
     "output_type": "stream",
     "text": [
      " 62%|██████▏   | 3931/6352 [5:26:41<3:21:12,  4.99s/it]"
     ]
    },
    {
     "name": "stdout",
     "output_type": "stream",
     "text": [
      "found 3930, 8314637, 217\n"
     ]
    },
    {
     "name": "stderr",
     "output_type": "stream",
     "text": [
      " 62%|██████▏   | 3942/6352 [5:27:56<3:20:29,  4.99s/it]"
     ]
    },
    {
     "name": "stdout",
     "output_type": "stream",
     "text": [
      "found 3941, 8119202, 218\n"
     ]
    },
    {
     "name": "stderr",
     "output_type": "stream",
     "text": [
      " 62%|██████▏   | 3957/6352 [5:30:06<3:19:48,  5.01s/it]"
     ]
    },
    {
     "name": "stdout",
     "output_type": "stream",
     "text": [
      "found 3956, 8094521, 219\n"
     ]
    },
    {
     "name": "stderr",
     "output_type": "stream",
     "text": [
      " 62%|██████▏   | 3965/6352 [5:31:11<3:19:22,  5.01s/it]"
     ]
    },
    {
     "name": "stdout",
     "output_type": "stream",
     "text": [
      "found 3964, 8181404, 220\n"
     ]
    },
    {
     "name": "stderr",
     "output_type": "stream",
     "text": [
      " 63%|██████▎   | 3975/6352 [5:32:14<3:18:40,  5.01s/it]"
     ]
    },
    {
     "name": "stdout",
     "output_type": "stream",
     "text": [
      "found 3974, 8175425, 221\n"
     ]
    },
    {
     "name": "stderr",
     "output_type": "stream",
     "text": [
      " 63%|██████▎   | 3997/6352 [5:35:12<3:17:30,  5.03s/it]"
     ]
    },
    {
     "name": "stdout",
     "output_type": "stream",
     "text": [
      "found 3996, 8169839, 222\n"
     ]
    },
    {
     "name": "stderr",
     "output_type": "stream",
     "text": [
      " 63%|██████▎   | 4003/6352 [5:36:23<3:17:23,  5.04s/it]"
     ]
    },
    {
     "name": "stdout",
     "output_type": "stream",
     "text": [
      "found 4002, 8288871, 223\n"
     ]
    },
    {
     "name": "stderr",
     "output_type": "stream",
     "text": [
      " 63%|██████▎   | 4005/6352 [5:36:41<3:17:18,  5.04s/it]"
     ]
    },
    {
     "name": "stdout",
     "output_type": "stream",
     "text": [
      "No end tag found, skip. 4004:20090130692\n"
     ]
    },
    {
     "name": "stderr",
     "output_type": "stream",
     "text": [
      " 63%|██████▎   | 4007/6352 [5:37:02<3:17:14,  5.05s/it]"
     ]
    },
    {
     "name": "stdout",
     "output_type": "stream",
     "text": [
      "found 4006, 8320023, 224\n"
     ]
    },
    {
     "name": "stderr",
     "output_type": "stream",
     "text": [
      " 63%|██████▎   | 4010/6352 [5:38:04<3:17:27,  5.06s/it]"
     ]
    },
    {
     "name": "stdout",
     "output_type": "stream",
     "text": [
      "found 4009, 8118365, 225\n"
     ]
    },
    {
     "name": "stderr",
     "output_type": "stream",
     "text": [
      " 63%|██████▎   | 4019/6352 [5:38:21<3:16:24,  5.05s/it]"
     ]
    },
    {
     "name": "stdout",
     "output_type": "stream",
     "text": [
      "found 4018, 8088154, 226\n"
     ]
    },
    {
     "name": "stderr",
     "output_type": "stream",
     "text": [
      " 63%|██████▎   | 4022/6352 [5:38:57<3:16:21,  5.06s/it]"
     ]
    },
    {
     "name": "stdout",
     "output_type": "stream",
     "text": [
      "found 4021, 8235086, 227\n"
     ]
    },
    {
     "name": "stderr",
     "output_type": "stream",
     "text": [
      " 64%|██████▍   | 4063/6352 [5:48:38<3:16:25,  5.15s/it]"
     ]
    },
    {
     "name": "stdout",
     "output_type": "stream",
     "text": [
      "found 4062, 8189978, 228\n"
     ]
    },
    {
     "name": "stderr",
     "output_type": "stream",
     "text": [
      " 64%|██████▍   | 4084/6352 [5:53:01<3:16:02,  5.19s/it]"
     ]
    },
    {
     "name": "stdout",
     "output_type": "stream",
     "text": [
      "found 4083, 8293322, 229\n"
     ]
    },
    {
     "name": "stderr",
     "output_type": "stream",
     "text": [
      " 65%|██████▍   | 4099/6352 [5:53:43<3:14:25,  5.18s/it]"
     ]
    },
    {
     "name": "stdout",
     "output_type": "stream",
     "text": [
      "found 4098, 8152776, 230\n"
     ]
    },
    {
     "name": "stderr",
     "output_type": "stream",
     "text": [
      " 65%|██████▍   | 4112/6352 [5:54:52<3:13:19,  5.18s/it]"
     ]
    },
    {
     "name": "stdout",
     "output_type": "stream",
     "text": [
      "found 4111, 8180747, 231\n"
     ]
    },
    {
     "name": "stderr",
     "output_type": "stream",
     "text": [
      " 65%|██████▍   | 4120/6352 [5:55:58<3:12:50,  5.18s/it]"
     ]
    },
    {
     "name": "stdout",
     "output_type": "stream",
     "text": [
      "found 4119, 8135497, 232\n"
     ]
    },
    {
     "name": "stderr",
     "output_type": "stream",
     "text": [
      " 65%|██████▌   | 4142/6352 [6:01:12<3:12:43,  5.23s/it]"
     ]
    },
    {
     "name": "stdout",
     "output_type": "stream",
     "text": [
      "found 4141, 8193031, 233\n"
     ]
    },
    {
     "name": "stderr",
     "output_type": "stream",
     "text": [
      " 65%|██████▌   | 4159/6352 [6:02:58<3:11:23,  5.24s/it]"
     ]
    },
    {
     "name": "stdout",
     "output_type": "stream",
     "text": [
      "found 4158, 8099915, 234\n"
     ]
    },
    {
     "name": "stderr",
     "output_type": "stream",
     "text": [
      " 66%|██████▌   | 4163/6352 [6:04:02<3:11:25,  5.25s/it]"
     ]
    },
    {
     "name": "stdout",
     "output_type": "stream",
     "text": [
      "found 4162, 8188901, 235\n"
     ]
    },
    {
     "name": "stderr",
     "output_type": "stream",
     "text": [
      " 66%|██████▌   | 4198/6352 [6:09:10<3:09:25,  5.28s/it]"
     ]
    },
    {
     "name": "stdout",
     "output_type": "stream",
     "text": [
      "No end tag found, skip. 4197:8314216\n"
     ]
    },
    {
     "name": "stderr",
     "output_type": "stream",
     "text": [
      " 66%|██████▌   | 4200/6352 [6:09:27<3:09:18,  5.28s/it]"
     ]
    },
    {
     "name": "stdout",
     "output_type": "stream",
     "text": [
      "found 4199, 8278176, 236\n"
     ]
    },
    {
     "name": "stderr",
     "output_type": "stream",
     "text": [
      " 66%|██████▋   | 4218/6352 [6:13:19<3:08:52,  5.31s/it]"
     ]
    },
    {
     "name": "stdout",
     "output_type": "stream",
     "text": [
      "found 4217, 8162214, 237\n"
     ]
    },
    {
     "name": "stderr",
     "output_type": "stream",
     "text": [
      "\r",
      " 66%|██████▋   | 4219/6352 [6:13:19<3:08:44,  5.31s/it]"
     ]
    },
    {
     "name": "stdout",
     "output_type": "stream",
     "text": [
      "found 4218, 8203537, 238\n"
     ]
    },
    {
     "name": "stderr",
     "output_type": "stream",
     "text": [
      " 67%|██████▋   | 4246/6352 [6:16:55<3:06:57,  5.33s/it]"
     ]
    },
    {
     "name": "stdout",
     "output_type": "stream",
     "text": [
      "found 4245, 8193555, 239\n"
     ]
    },
    {
     "name": "stderr",
     "output_type": "stream",
     "text": [
      " 67%|██████▋   | 4255/6352 [6:17:28<3:06:02,  5.32s/it]"
     ]
    },
    {
     "name": "stdout",
     "output_type": "stream",
     "text": [
      "found 4254, 8322863, 240\n"
     ]
    },
    {
     "name": "stderr",
     "output_type": "stream",
     "text": [
      " 67%|██████▋   | 4270/6352 [6:20:21<3:05:27,  5.34s/it]"
     ]
    },
    {
     "name": "stdout",
     "output_type": "stream",
     "text": [
      "found 4269, 8229856, 241\n"
     ]
    },
    {
     "name": "stderr",
     "output_type": "stream",
     "text": [
      " 68%|██████▊   | 4305/6352 [6:25:18<3:03:12,  5.37s/it]"
     ]
    },
    {
     "name": "stdout",
     "output_type": "stream",
     "text": [
      "found 4304, 8314870, 242\n"
     ]
    },
    {
     "name": "stderr",
     "output_type": "stream",
     "text": [
      " 68%|██████▊   | 4314/6352 [6:26:52<3:02:46,  5.38s/it]"
     ]
    },
    {
     "name": "stdout",
     "output_type": "stream",
     "text": [
      "found 4313, 8274098, 243\n"
     ]
    },
    {
     "name": "stderr",
     "output_type": "stream",
     "text": [
      " 69%|██████▊   | 4360/6352 [6:33:56<2:59:59,  5.42s/it]"
     ]
    },
    {
     "name": "stdout",
     "output_type": "stream",
     "text": [
      "found 4359, 8103111, 244\n"
     ]
    },
    {
     "name": "stderr",
     "output_type": "stream",
     "text": [
      " 69%|██████▉   | 4375/6352 [6:36:35<2:59:12,  5.44s/it]"
     ]
    },
    {
     "name": "stdout",
     "output_type": "stream",
     "text": [
      "found 4374, 8118639, 245\n"
     ]
    },
    {
     "name": "stderr",
     "output_type": "stream",
     "text": [
      " 69%|██████▉   | 4379/6352 [6:37:29<2:59:05,  5.45s/it]"
     ]
    },
    {
     "name": "stdout",
     "output_type": "stream",
     "text": [
      "found 4378, 8297743, 246\n"
     ]
    },
    {
     "name": "stderr",
     "output_type": "stream",
     "text": [
      " 69%|██████▉   | 4387/6352 [6:39:29<2:58:56,  5.46s/it]"
     ]
    },
    {
     "name": "stdout",
     "output_type": "stream",
     "text": [
      "found 4386, 8257901, 247\n"
     ]
    },
    {
     "name": "stderr",
     "output_type": "stream",
     "text": [
      " 69%|██████▉   | 4392/6352 [6:40:27<2:58:42,  5.47s/it]"
     ]
    },
    {
     "name": "stdout",
     "output_type": "stream",
     "text": [
      "found 4391, 8270369, 248\n"
     ]
    },
    {
     "name": "stderr",
     "output_type": "stream",
     "text": [
      " 69%|██████▉   | 4406/6352 [6:43:15<2:58:06,  5.49s/it]"
     ]
    },
    {
     "name": "stdout",
     "output_type": "stream",
     "text": [
      "found 4405, 8162603, 249\n"
     ]
    },
    {
     "name": "stderr",
     "output_type": "stream",
     "text": [
      " 69%|██████▉   | 4414/6352 [6:44:34<2:57:37,  5.50s/it]"
     ]
    },
    {
     "name": "stdout",
     "output_type": "stream",
     "text": [
      "found 4413, 8150460, 250\n"
     ]
    },
    {
     "name": "stderr",
     "output_type": "stream",
     "text": [
      " 70%|██████▉   | 4422/6352 [6:45:49<2:57:07,  5.51s/it]"
     ]
    },
    {
     "name": "stdout",
     "output_type": "stream",
     "text": [
      "found 4421, 8260482, 251\n"
     ]
    },
    {
     "name": "stderr",
     "output_type": "stream",
     "text": [
      " 70%|███████   | 4461/6352 [6:52:47<2:54:58,  5.55s/it]"
     ]
    },
    {
     "name": "stdout",
     "output_type": "stream",
     "text": [
      "No end tag found, skip. 4460:6074642\n"
     ]
    },
    {
     "name": "stderr",
     "output_type": "stream",
     "text": [
      " 71%|███████   | 4493/6352 [6:58:00<2:52:57,  5.58s/it]"
     ]
    },
    {
     "name": "stdout",
     "output_type": "stream",
     "text": [
      "found 4492, 8175554, 252\n"
     ]
    },
    {
     "name": "stderr",
     "output_type": "stream",
     "text": [
      " 72%|███████▏  | 4551/6352 [7:04:19<2:47:55,  5.59s/it]"
     ]
    },
    {
     "name": "stdout",
     "output_type": "stream",
     "text": [
      "found 4550, 8105218, 253\n"
     ]
    },
    {
     "name": "stderr",
     "output_type": "stream",
     "text": [
      " 72%|███████▏  | 4567/6352 [7:06:29<2:46:41,  5.60s/it]"
     ]
    },
    {
     "name": "stdout",
     "output_type": "stream",
     "text": [
      "found 4566, 8252304, 254\n"
     ]
    },
    {
     "name": "stderr",
     "output_type": "stream",
     "text": [
      " 72%|███████▏  | 4571/6352 [7:07:11<2:46:26,  5.61s/it]"
     ]
    },
    {
     "name": "stdout",
     "output_type": "stream",
     "text": [
      "found 4570, 8191952, 255\n"
     ]
    },
    {
     "name": "stderr",
     "output_type": "stream",
     "text": [
      " 72%|███████▏  | 4576/6352 [7:08:34<2:46:19,  5.62s/it]"
     ]
    },
    {
     "name": "stdout",
     "output_type": "stream",
     "text": [
      "found 4575, 8317304, 256\n"
     ]
    },
    {
     "name": "stderr",
     "output_type": "stream",
     "text": [
      " 73%|███████▎  | 4613/6352 [7:14:14<2:43:42,  5.65s/it]"
     ]
    },
    {
     "name": "stdout",
     "output_type": "stream",
     "text": [
      "found 4612, 8322832, 257\n"
     ]
    },
    {
     "name": "stderr",
     "output_type": "stream",
     "text": [
      " 73%|███████▎  | 4624/6352 [7:15:30<2:42:45,  5.65s/it]"
     ]
    },
    {
     "name": "stdout",
     "output_type": "stream",
     "text": [
      "found 4623, 8194835, 258\n"
     ]
    },
    {
     "name": "stderr",
     "output_type": "stream",
     "text": [
      " 73%|███████▎  | 4627/6352 [7:16:09<2:42:36,  5.66s/it]"
     ]
    },
    {
     "name": "stdout",
     "output_type": "stream",
     "text": [
      "found 4626, 8319408, 259\n"
     ]
    },
    {
     "name": "stderr",
     "output_type": "stream",
     "text": [
      " 73%|███████▎  | 4632/6352 [7:16:49<2:42:12,  5.66s/it]"
     ]
    },
    {
     "name": "stdout",
     "output_type": "stream",
     "text": [
      "found 4631, 8229384, 260\n"
     ]
    },
    {
     "name": "stderr",
     "output_type": "stream",
     "text": [
      " 73%|███████▎  | 4648/6352 [7:19:01<2:40:57,  5.67s/it]"
     ]
    },
    {
     "name": "stdout",
     "output_type": "stream",
     "text": [
      "found 4647, 8254802, 261\n"
     ]
    },
    {
     "name": "stderr",
     "output_type": "stream",
     "text": [
      "\r",
      " 73%|███████▎  | 4649/6352 [7:19:18<2:40:55,  5.67s/it]"
     ]
    },
    {
     "name": "stdout",
     "output_type": "stream",
     "text": [
      "found 4648, 8180034, 262\n"
     ]
    },
    {
     "name": "stderr",
     "output_type": "stream",
     "text": [
      " 74%|███████▎  | 4679/6352 [7:22:59<2:38:23,  5.68s/it]"
     ]
    },
    {
     "name": "stdout",
     "output_type": "stream",
     "text": [
      "found 4678, 8246272, 263\n"
     ]
    },
    {
     "name": "stderr",
     "output_type": "stream",
     "text": [
      "\r",
      " 74%|███████▎  | 4680/6352 [7:23:00<2:38:16,  5.68s/it]"
     ]
    },
    {
     "name": "stdout",
     "output_type": "stream",
     "text": [
      "found 4679, 8283401, 264\n"
     ]
    },
    {
     "name": "stderr",
     "output_type": "stream",
     "text": [
      " 74%|███████▍  | 4694/6352 [7:24:54<2:37:08,  5.69s/it]"
     ]
    },
    {
     "name": "stdout",
     "output_type": "stream",
     "text": [
      "found 4693, 8215125, 265\n"
     ]
    },
    {
     "name": "stderr",
     "output_type": "stream",
     "text": [
      " 74%|███████▍  | 4706/6352 [7:26:55<2:36:19,  5.70s/it]"
     ]
    },
    {
     "name": "stdout",
     "output_type": "stream",
     "text": [
      "found 4705, 8241932, 266\n"
     ]
    },
    {
     "name": "stderr",
     "output_type": "stream",
     "text": [
      " 74%|███████▍  | 4713/6352 [7:28:06<2:35:50,  5.70s/it]"
     ]
    },
    {
     "name": "stdout",
     "output_type": "stream",
     "text": [
      "found 4712, 8153965, 267\n"
     ]
    },
    {
     "name": "stderr",
     "output_type": "stream",
     "text": [
      " 74%|███████▍  | 4715/6352 [7:28:42<2:35:47,  5.71s/it]"
     ]
    },
    {
     "name": "stdout",
     "output_type": "stream",
     "text": [
      "found 4714, 8310629, 268\n"
     ]
    },
    {
     "name": "stderr",
     "output_type": "stream",
     "text": [
      " 74%|███████▍  | 4723/6352 [7:29:25<2:35:00,  5.71s/it]"
     ]
    },
    {
     "name": "stdout",
     "output_type": "stream",
     "text": [
      "found 4722, 8299862, 269\n"
     ]
    },
    {
     "name": "stderr",
     "output_type": "stream",
     "text": [
      " 75%|███████▍  | 4738/6352 [7:31:15<2:33:43,  5.71s/it]"
     ]
    },
    {
     "name": "stdout",
     "output_type": "stream",
     "text": [
      "found 4737, 8200637, 270\n"
     ]
    },
    {
     "name": "stderr",
     "output_type": "stream",
     "text": [
      " 75%|███████▍  | 4748/6352 [7:32:21<2:32:48,  5.72s/it]"
     ]
    },
    {
     "name": "stdout",
     "output_type": "stream",
     "text": [
      "found 4747, 8222522, 271\n"
     ]
    },
    {
     "name": "stderr",
     "output_type": "stream",
     "text": [
      " 75%|███████▌  | 4770/6352 [7:36:58<2:31:33,  5.75s/it]"
     ]
    },
    {
     "name": "stdout",
     "output_type": "stream",
     "text": [
      "found 4769, 8109216, 272\n"
     ]
    },
    {
     "name": "stderr",
     "output_type": "stream",
     "text": [
      " 75%|███████▌  | 4784/6352 [7:38:22<2:30:14,  5.75s/it]"
     ]
    },
    {
     "name": "stdout",
     "output_type": "stream",
     "text": [
      "found 4783, 8263568, 273\n"
     ]
    },
    {
     "name": "stderr",
     "output_type": "stream",
     "text": [
      "\r",
      " 75%|███████▌  | 4785/6352 [7:38:23<2:30:06,  5.75s/it]"
     ]
    },
    {
     "name": "stdout",
     "output_type": "stream",
     "text": [
      "found 4784, 8256159, 274\n"
     ]
    },
    {
     "name": "stderr",
     "output_type": "stream",
     "text": [
      " 75%|███████▌  | 4787/6352 [7:38:38<2:29:56,  5.75s/it]"
     ]
    },
    {
     "name": "stdout",
     "output_type": "stream",
     "text": [
      "found 4786, 8171211, 275\n"
     ]
    },
    {
     "name": "stderr",
     "output_type": "stream",
     "text": [
      " 76%|███████▌  | 4813/6352 [7:41:37<2:27:36,  5.75s/it]"
     ]
    },
    {
     "name": "stdout",
     "output_type": "stream",
     "text": [
      "found 4812, 8113723, 276\n"
     ]
    },
    {
     "name": "stderr",
     "output_type": "stream",
     "text": [
      " 76%|███████▌  | 4827/6352 [7:43:16<2:26:21,  5.76s/it]"
     ]
    },
    {
     "name": "stdout",
     "output_type": "stream",
     "text": [
      "found 4826, 8090426, 277\n"
     ]
    },
    {
     "name": "stderr",
     "output_type": "stream",
     "text": [
      " 76%|███████▌  | 4840/6352 [7:45:51<2:25:31,  5.78s/it]"
     ]
    },
    {
     "name": "stdout",
     "output_type": "stream",
     "text": [
      "found 4839, 8125025, 278\n"
     ]
    },
    {
     "name": "stderr",
     "output_type": "stream",
     "text": [
      " 76%|███████▋  | 4845/6352 [7:46:27<2:25:05,  5.78s/it]"
     ]
    },
    {
     "name": "stdout",
     "output_type": "stream",
     "text": [
      "found 4844, 8202295, 279\n"
     ]
    },
    {
     "name": "stderr",
     "output_type": "stream",
     "text": [
      " 77%|███████▋  | 4884/6352 [7:52:16<2:21:57,  5.80s/it]"
     ]
    },
    {
     "name": "stdout",
     "output_type": "stream",
     "text": [
      "found 4883, 8271878, 280\n"
     ]
    },
    {
     "name": "stderr",
     "output_type": "stream",
     "text": [
      " 77%|███████▋  | 4898/6352 [7:55:37<2:21:11,  5.83s/it]"
     ]
    },
    {
     "name": "stdout",
     "output_type": "stream",
     "text": [
      "found 4897, 8246292, 281\n"
     ]
    },
    {
     "name": "stderr",
     "output_type": "stream",
     "text": [
      " 78%|███████▊  | 4928/6352 [8:00:57<2:18:58,  5.86s/it]"
     ]
    },
    {
     "name": "stdout",
     "output_type": "stream",
     "text": [
      "No end tag found, skip. 4927:6399146\n"
     ]
    },
    {
     "name": "stderr",
     "output_type": "stream",
     "text": [
      " 78%|███████▊  | 4943/6352 [8:02:56<2:17:39,  5.86s/it]"
     ]
    }
   ],
   "source": [
    "for i, (key_cand, tup_list) in tqdm.tqdm(list(enumerate(dict_list))):\n",
    "    if i <= 1607:\n",
    "        continue\n",
    "    if len(tup_list) > 5:\n",
    "        if key_cand.startswith(\"8\"):\n",
    "            print(\"Skip 8 beginning key cand: {}, {}\".format(key_cand, len(tup_list)))\n",
    "    else:\n",
    "        try:\n",
    "            real_pat = get_real_patent(\"us-patent-grant\", key_cand, tup_list)\n",
    "            if real_pat:\n",
    "                patent_grants_dic[key_cand] = real_pat \n",
    "                print(\"found {}, {}, {}\".format(i, key_cand, len(patent_grants_dic)))\n",
    "        except ValueError:\n",
    "            print(\"No end tag found, skip. {}:{}\".format(i, key_cand))\n",
    "            "
   ]
  },
  {
   "cell_type": "code",
   "execution_count": null,
   "metadata": {},
   "outputs": [],
   "source": [
    "3+4"
   ]
  },
  {
   "cell_type": "code",
   "execution_count": 112,
   "metadata": {},
   "outputs": [
    {
     "data": {
      "text/plain": [
       "351"
      ]
     },
     "execution_count": 112,
     "metadata": {},
     "output_type": "execute_result"
    }
   ],
   "source": [
    "len(patent_grants_dic)"
   ]
  },
  {
   "cell_type": "code",
   "execution_count": 113,
   "metadata": {},
   "outputs": [],
   "source": [
    "with open(\"../data/patent_grants_dic_grants12_app17.dat\", 'wb') as f:\n",
    "    pickle.dump(patent_grants_dic, f)"
   ]
  },
  {
   "cell_type": "code",
   "execution_count": 114,
   "metadata": {},
   "outputs": [
    {
     "data": {
      "text/plain": [
       "['8277780', '8129444', '8299862', '8146514', '8148885']"
      ]
     },
     "execution_count": 114,
     "metadata": {},
     "output_type": "execute_result"
    }
   ],
   "source": [
    "list(patent_grants_dic.keys())[0:5]"
   ]
  },
  {
   "cell_type": "code",
   "execution_count": 116,
   "metadata": {},
   "outputs": [],
   "source": [
    "# patent_grants_dic['8148885']"
   ]
  },
  {
   "cell_type": "code",
   "execution_count": null,
   "metadata": {},
   "outputs": [],
   "source": []
  },
  {
   "cell_type": "code",
   "execution_count": null,
   "metadata": {},
   "outputs": [],
   "source": []
  },
  {
   "cell_type": "code",
   "execution_count": 84,
   "metadata": {},
   "outputs": [
    {
     "data": {
      "text/plain": [
       "('8140012', [['grants2012/ipg120320.xml', 5011666]])"
      ]
     },
     "execution_count": 84,
     "metadata": {},
     "output_type": "execute_result"
    }
   ],
   "source": [
    "dict_list[83]"
   ]
  },
  {
   "cell_type": "code",
   "execution_count": 86,
   "metadata": {},
   "outputs": [],
   "source": [
    "get_real_patent(\"us-patent-grant\", dict_list[83][0], dict_list[83][1])"
   ]
  },
  {
   "cell_type": "code",
   "execution_count": null,
   "metadata": {},
   "outputs": [],
   "source": []
  },
  {
   "cell_type": "code",
   "execution_count": null,
   "metadata": {},
   "outputs": [],
   "source": []
  },
  {
   "cell_type": "code",
   "execution_count": null,
   "metadata": {},
   "outputs": [],
   "source": []
  },
  {
   "cell_type": "code",
   "execution_count": null,
   "metadata": {},
   "outputs": [],
   "source": []
  },
  {
   "cell_type": "code",
   "execution_count": 70,
   "metadata": {},
   "outputs": [
    {
     "name": "stdout",
     "output_type": "stream",
     "text": [
      "9: 6978184, 6\n",
      "10: 20070233706, 1\n",
      "11: 6063078, 40\n",
      "12: 5980676, 1\n",
      "13: 6365565, 1\n",
      "14: 7080960, 1\n",
      "15: 20090059936, 1\n",
      "16: 20070203910, 1\n",
      "17: 5907491, 31\n",
      "18: 7268118, 2\n",
      "19: 8202487, 1\n",
      "found 19\n"
     ]
    }
   ],
   "source": [
    "for i in range(9, 20):\n",
    "    key_cand, tup_list = dict_list[i]\n",
    "    print(\"{}: {}, {}\".format(i, key_cand, len(tup_list)))\n",
    "\n",
    "    real_pat = get_real_patent(\"us-patent-grant\", key_cand, tup_list)\n",
    "    if real_pat:\n",
    "        print(\"found {}\".format(i))"
   ]
  },
  {
   "cell_type": "code",
   "execution_count": 71,
   "metadata": {},
   "outputs": [
    {
     "name": "stdout",
     "output_type": "stream",
     "text": [
      "20: 7797430, 4\n",
      "21: 20100045635, 1\n",
      "22: 7193644, 7\n",
      "23: 6562906, 15\n",
      "24: 5648506, 10\n",
      "25: 6847481, 1\n",
      "26: 5905777, 19\n",
      "27: 5848173, 1\n",
      "28: 4958625, 16\n",
      "29: 5533521, 11\n"
     ]
    }
   ],
   "source": [
    "for i in range(20, 30):\n",
    "    key_cand, tup_list = dict_list[i]\n",
    "    print(\"{}: {}, {}\".format(i, key_cand, len(tup_list)))\n",
    "\n",
    "    real_pat = get_real_patent(\"us-patent-grant\", key_cand, tup_list)\n",
    "    if real_pat:\n",
    "        print(\"found {}\".format(i))"
   ]
  },
  {
   "cell_type": "code",
   "execution_count": 72,
   "metadata": {},
   "outputs": [
    {
     "name": "stdout",
     "output_type": "stream",
     "text": [
      "30: 7252600, 13\n",
      "31: 7461077, 9\n",
      "32: 6172344, 4\n",
      "33: 5756981, 46\n",
      "34: 6310839, 1\n",
      "35: 6180415, 14\n",
      "36: 20070231401, 1\n",
      "37: 20080104348, 1\n",
      "38: 20090138245, 1\n",
      "39: 6064143, 1\n",
      "40: 7583001, 1\n",
      "41: 3675597, 3\n",
      "42: 6054839, 1\n",
      "43: 8114845, 2\n",
      "found 43\n",
      "44: D155065, 1\n",
      "45: 20110193637, 1\n",
      "46: 7579197, 1\n",
      "47: 6222457, 3\n",
      "48: 20110037114, 1\n",
      "49: 4965097, 3\n",
      "50: 5546932, 11\n",
      "51: 5589033, 5\n",
      "52: 20100270553, 1\n",
      "53: 5281018, 4\n",
      "54: 6458003, 1\n",
      "55: 3804292, 2\n",
      "56: 20050033234, 1\n",
      "57: 6559731, 1\n",
      "58: 8004092, 4\n",
      "59: 5451176, 1\n",
      "60: 7517363, 4\n",
      "61: 6496766, 8\n",
      "62: 20120240927, 1\n",
      "63: 20090161602, 1\n",
      "64: 5614206, 5\n",
      "65: 5518597, 2\n",
      "66: 3843288, 1\n",
      "67: 4226236, 6\n",
      "68: 4978144, 2\n",
      "69: 7751806, 1\n"
     ]
    }
   ],
   "source": [
    "for i in range(30, 70):\n",
    "    key_cand, tup_list = dict_list[i]\n",
    "    print(\"{}: {}, {}\".format(i, key_cand, len(tup_list)))\n",
    "\n",
    "    real_pat = get_real_patent(\"us-patent-grant\", key_cand, tup_list)\n",
    "    if real_pat:\n",
    "        print(\"found {}\".format(i))"
   ]
  },
  {
   "cell_type": "code",
   "execution_count": null,
   "metadata": {},
   "outputs": [],
   "source": []
  },
  {
   "cell_type": "code",
   "execution_count": null,
   "metadata": {},
   "outputs": [],
   "source": []
  },
  {
   "cell_type": "code",
   "execution_count": null,
   "metadata": {},
   "outputs": [],
   "source": []
  },
  {
   "cell_type": "code",
   "execution_count": 56,
   "metadata": {
    "scrolled": true
   },
   "outputs": [
    {
     "data": {
      "text/plain": [
       "8"
      ]
     },
     "execution_count": 56,
     "metadata": {},
     "output_type": "execute_result"
    }
   ],
   "source": [
    "i"
   ]
  },
  {
   "cell_type": "code",
   "execution_count": null,
   "metadata": {},
   "outputs": [],
   "source": []
  },
  {
   "cell_type": "code",
   "execution_count": null,
   "metadata": {},
   "outputs": [],
   "source": []
  },
  {
   "cell_type": "code",
   "execution_count": 57,
   "metadata": {},
   "outputs": [
    {
     "data": {
      "text/plain": [
       "[['grants2012/ipg121106.xml', 5342114],\n",
       " ['grants2012/ipg121002.xml', 5626822],\n",
       " ['grants2012/ipg120508.xml', 5794299],\n",
       " ['grants2012/ipg120508.xml', 5803487],\n",
       " ['grants2012/ipg120612.xml', 5407506],\n",
       " ['grants2012/ipg120522.xml', 5137393],\n",
       " ['grants2012/ipg121127.xml', 1444948],\n",
       " ['grants2012/ipg121127.xml', 6560493],\n",
       " ['grants2012/ipg120320.xml', 5202882],\n",
       " ['grants2012/ipg121016.xml', 6215625],\n",
       " ['grants2012/ipg120904.xml', 5781479],\n",
       " ['grants2012/ipg120814.xml', 5573793],\n",
       " ['grants2012/ipg120814.xml', 5576351],\n",
       " ['grants2012/ipg120828.xml', 596660],\n",
       " ['grants2012/ipg120828.xml', 5851701],\n",
       " ['grants2012/ipg120306.xml', 5691746],\n",
       " ['grants2012/ipg120306.xml', 5709177],\n",
       " ['grants2012/ipg120306.xml', 5720034],\n",
       " ['grants2012/ipg120327.xml', 5498384],\n",
       " ['grants2012/ipg120327.xml', 5508518],\n",
       " ['grants2012/ipg120327.xml', 5519359],\n",
       " ['grants2012/ipg120911.xml', 1390981],\n",
       " ['grants2012/ipg120911.xml', 5904173],\n",
       " ['grants2012/ipg120911.xml', 5944689],\n",
       " ['grants2012/ipg120605.xml', 5929238],\n",
       " ['grants2012/ipg120403.xml', 6183602],\n",
       " ['grants2012/ipg120403.xml', 6194372],\n",
       " ['grants2012/ipg120403.xml', 6205222],\n",
       " ['grants2012/ipg120214.xml', 5867299],\n",
       " ['grants2012/ipg120717.xml', 1385340],\n",
       " ['grants2012/ipg120731.xml', 4729187],\n",
       " ['grants2012/ipg120417.xml', 5738754],\n",
       " ['grants2012/ipg120626.xml', 5386595],\n",
       " ['grants2012/ipg120626.xml', 5391000],\n",
       " ['grants2012/ipg121204.xml', 1453174],\n",
       " ['grants2012/ipg120313.xml', 4417558],\n",
       " ['grants2012/ipg121218.xml', 3858075],\n",
       " ['grants2012/ipg120131.xml', 585339]]"
      ]
     },
     "execution_count": 57,
     "metadata": {},
     "output_type": "execute_result"
    }
   ],
   "source": [
    "tup_list"
   ]
  },
  {
   "cell_type": "code",
   "execution_count": 58,
   "metadata": {},
   "outputs": [
    {
     "data": {
      "text/plain": [
       "'6415183'"
      ]
     },
     "execution_count": 58,
     "metadata": {},
     "output_type": "execute_result"
    }
   ],
   "source": [
    "key_cand"
   ]
  },
  {
   "cell_type": "code",
   "execution_count": null,
   "metadata": {},
   "outputs": [],
   "source": []
  },
  {
   "cell_type": "code",
   "execution_count": null,
   "metadata": {},
   "outputs": [],
   "source": []
  },
  {
   "cell_type": "code",
   "execution_count": 69,
   "metadata": {},
   "outputs": [],
   "source": [
    "real_pat = get_real_patent(\"us-patent-grant\", key_cand, tup_list)\n",
    "if real_pat:\n",
    "    print(\"found {}\".format(i))"
   ]
  },
  {
   "cell_type": "code",
   "execution_count": null,
   "metadata": {},
   "outputs": [],
   "source": []
  },
  {
   "cell_type": "code",
   "execution_count": null,
   "metadata": {},
   "outputs": [],
   "source": []
  },
  {
   "cell_type": "code",
   "execution_count": null,
   "metadata": {},
   "outputs": [],
   "source": []
  },
  {
   "cell_type": "markdown",
   "metadata": {},
   "source": [
    "### Below cell takes too much times. Must be bug."
   ]
  },
  {
   "cell_type": "code",
   "execution_count": null,
   "metadata": {},
   "outputs": [],
   "source": []
  },
  {
   "cell_type": "code",
   "execution_count": null,
   "metadata": {},
   "outputs": [],
   "source": [
    "for key_cand, tup_list in indexGrants2012_we_need.items():\n",
    "    try:\n",
    "        real_pat = get_real_patent(\"us-patent-grant\", key_cand, tup_list)\n",
    "        if real_pat:\n",
    "            patent_grants_dic[key_cand] = real_pat            \n",
    "    except:\n",
    "        print(\"can't find tag. ignore. {}\".format(key_cand))"
   ]
  },
  {
   "cell_type": "code",
   "execution_count": null,
   "metadata": {},
   "outputs": [],
   "source": [
    "len(list(patent_grants_dic.keys()))"
   ]
  },
  {
   "cell_type": "code",
   "execution_count": null,
   "metadata": {},
   "outputs": [],
   "source": []
  },
  {
   "cell_type": "code",
   "execution_count": 205,
   "metadata": {},
   "outputs": [
    {
     "data": {
      "text/plain": [
       "['08300926', '12499630']"
      ]
     },
     "execution_count": 205,
     "metadata": {},
     "output_type": "execute_result"
    }
   ],
   "source": [
    "real_id1, pat_text1 = get_patent(\"us-patent-grant\", '../data/' + 'grants2012/ipg121030.xml', 5731295)\n",
    "real_id1"
   ]
  },
  {
   "cell_type": "code",
   "execution_count": 212,
   "metadata": {},
   "outputs": [
    {
     "data": {
      "text/plain": [
       "'8227462'"
      ]
     },
     "execution_count": 212,
     "metadata": {},
     "output_type": "execute_result"
    }
   ],
   "source": [
    "real_id2, pat_text2 = get_patent(\"us-patent-grant\", '../data/' + 'grants2012/ipg120724.xml', 3034084)\n",
    "real_id2"
   ]
  },
  {
   "cell_type": "code",
   "execution_count": 142,
   "metadata": {},
   "outputs": [
    {
     "data": {
      "text/plain": [
       "'08326698'"
      ]
     },
     "execution_count": 142,
     "metadata": {},
     "output_type": "execute_result"
    }
   ],
   "source": [
    "real_id3, pat_text3 = get_patent(\"us-patent-grant\", '../data/' + 'grants2012/ipg121204.xml', 6903688)\n",
    "real_id3"
   ]
  },
  {
   "cell_type": "code",
   "execution_count": null,
   "metadata": {},
   "outputs": [],
   "source": []
  },
  {
   "cell_type": "code",
   "execution_count": 146,
   "metadata": {},
   "outputs": [],
   "source": [
    "with open('tmp_out.txt', 'w') as f: \n",
    "    print(\"\\n\".join(pat_text1), file=f)"
   ]
  },
  {
   "cell_type": "code",
   "execution_count": null,
   "metadata": {},
   "outputs": [],
   "source": [
    "['grants2012/ipg120417.xml', 6067926],\n",
    " ['grants2012/ipg121204.xml', 6903406],\n",
    " ['grants2012/ipg121204.xml', 6903688]"
   ]
  },
  {
   "cell_type": "code",
   "execution_count": null,
   "metadata": {},
   "outputs": [],
   "source": []
  },
  {
   "cell_type": "code",
   "execution_count": 147,
   "metadata": {},
   "outputs": [
    {
     "data": {
      "text/plain": [
       "[['grants2012/ipg121106.xml', 1672856],\n",
       " ['grants2012/ipg120703.xml', 1727841],\n",
       " ['grants2012/ipg120724.xml', 1752025]]"
      ]
     },
     "execution_count": 147,
     "metadata": {},
     "output_type": "execute_result"
    }
   ],
   "source": [
    "indexGrants2012_we_need['4242108']"
   ]
  },
  {
   "cell_type": "code",
   "execution_count": 152,
   "metadata": {},
   "outputs": [
    {
     "data": {
      "text/plain": [
       "['08303685', '10565466']"
      ]
     },
     "execution_count": 152,
     "metadata": {},
     "output_type": "execute_result"
    }
   ],
   "source": [
    "real_id1, pat_text1 = get_patent(\"us-patent-grant\", '../data/' + 'grants2012/ipg121106.xml', 1672856)\n",
    "real_id1"
   ]
  },
  {
   "cell_type": "code",
   "execution_count": 153,
   "metadata": {},
   "outputs": [
    {
     "data": {
      "text/plain": [
       "['08211213', '12632244']"
      ]
     },
     "execution_count": 153,
     "metadata": {},
     "output_type": "execute_result"
    }
   ],
   "source": [
    "real_id2, pat_text2 = get_patent(\"us-patent-grant\", '../data/' + 'grants2012/ipg120703.xml', 1727841)\n",
    "real_id2"
   ]
  },
  {
   "cell_type": "code",
   "execution_count": 154,
   "metadata": {},
   "outputs": [
    {
     "data": {
      "text/plain": [
       "['08226748', '12602887']"
      ]
     },
     "execution_count": 154,
     "metadata": {},
     "output_type": "execute_result"
    }
   ],
   "source": [
    "real_id3, pat_text3 = get_patent(\"us-patent-grant\", '../data/' + 'grants2012/ipg120724.xml', 1752025)\n",
    "real_id3"
   ]
  },
  {
   "cell_type": "code",
   "execution_count": null,
   "metadata": {},
   "outputs": [],
   "source": []
  },
  {
   "cell_type": "code",
   "execution_count": 170,
   "metadata": {},
   "outputs": [
    {
     "ename": "KeyError",
     "evalue": "'20120181696'",
     "output_type": "error",
     "traceback": [
      "\u001b[0;31m---------------------------------------------------------------------------\u001b[0m",
      "\u001b[0;31mKeyError\u001b[0m                                  Traceback (most recent call last)",
      "\u001b[0;32m<ipython-input-170-9ac3bf82fba5>\u001b[0m in \u001b[0;36m<module>\u001b[0;34m()\u001b[0m\n\u001b[0;32m----> 1\u001b[0;31m \u001b[0mindexGrants2012_we_need\u001b[0m\u001b[0;34m[\u001b[0m\u001b[0;34m'20120181696'\u001b[0m\u001b[0;34m]\u001b[0m\u001b[0;34m\u001b[0m\u001b[0m\n\u001b[0m",
      "\u001b[0;31mKeyError\u001b[0m: '20120181696'"
     ]
    }
   ],
   "source": [
    "indexGrants2012_we_need['20120181696']"
   ]
  },
  {
   "cell_type": "code",
   "execution_count": 171,
   "metadata": {},
   "outputs": [
    {
     "ename": "KeyError",
     "evalue": "'20120181696'",
     "output_type": "error",
     "traceback": [
      "\u001b[0;31m---------------------------------------------------------------------------\u001b[0m",
      "\u001b[0;31mKeyError\u001b[0m                                  Traceback (most recent call last)",
      "\u001b[0;32m<ipython-input-171-f2a0b9f46407>\u001b[0m in \u001b[0;36m<module>\u001b[0;34m()\u001b[0m\n\u001b[0;32m----> 1\u001b[0;31m \u001b[0mindexGrants2012\u001b[0m\u001b[0;34m[\u001b[0m\u001b[0;34m'20120181696'\u001b[0m\u001b[0;34m]\u001b[0m\u001b[0;34m\u001b[0m\u001b[0m\n\u001b[0m",
      "\u001b[0;31mKeyError\u001b[0m: '20120181696'"
     ]
    }
   ],
   "source": [
    "indexGrants2012['20120181696']"
   ]
  },
  {
   "cell_type": "code",
   "execution_count": null,
   "metadata": {},
   "outputs": [],
   "source": []
  },
  {
   "cell_type": "code",
   "execution_count": null,
   "metadata": {},
   "outputs": [],
   "source": []
  },
  {
   "cell_type": "code",
   "execution_count": 155,
   "metadata": {},
   "outputs": [
    {
     "data": {
      "text/plain": [
       "['6510334',\n",
       " '7534866',\n",
       " '8227462',\n",
       " '20110032802',\n",
       " '6768196',\n",
       " '5235967',\n",
       " '20110035525',\n",
       " '5708963',\n",
       " '8011686',\n",
       " '4254145',\n",
       " '7010112',\n",
       " '4116456',\n",
       " '4835565',\n",
       " '7500444',\n",
       " '20080181288']"
      ]
     },
     "execution_count": 155,
     "metadata": {},
     "output_type": "execute_result"
    }
   ],
   "source": [
    "list(indexGrants2012_we_need.keys())[5:20]"
   ]
  },
  {
   "cell_type": "code",
   "execution_count": 167,
   "metadata": {},
   "outputs": [
    {
     "data": {
      "text/plain": [
       "True"
      ]
     },
     "execution_count": 167,
     "metadata": {},
     "output_type": "execute_result"
    }
   ],
   "source": [
    "'20150364400'.startswith(\"2015\")"
   ]
  },
  {
   "cell_type": "code",
   "execution_count": 165,
   "metadata": {},
   "outputs": [
    {
     "data": {
      "text/plain": [
       "['8553488', '20150364400', '20120181696', '20120279760', '20140091294']"
      ]
     },
     "execution_count": 165,
     "metadata": {},
     "output_type": "execute_result"
    }
   ],
   "source": [
    "list(citations_2017.parsed)[0:5]"
   ]
  },
  {
   "cell_type": "code",
   "execution_count": 169,
   "metadata": {},
   "outputs": [
    {
     "data": {
      "text/html": [
       "<div>\n",
       "<style scoped>\n",
       "    .dataframe tbody tr th:only-of-type {\n",
       "        vertical-align: middle;\n",
       "    }\n",
       "\n",
       "    .dataframe tbody tr th {\n",
       "        vertical-align: top;\n",
       "    }\n",
       "\n",
       "    .dataframe thead th {\n",
       "        text-align: right;\n",
       "    }\n",
       "</style>\n",
       "<table border=\"1\" class=\"dataframe\">\n",
       "  <thead>\n",
       "    <tr style=\"text-align: right;\">\n",
       "      <th></th>\n",
       "      <th>app_id</th>\n",
       "      <th>citation_pat_pgpub_id</th>\n",
       "      <th>parsed</th>\n",
       "      <th>ifw_number</th>\n",
       "      <th>action_type</th>\n",
       "      <th>action_subtype</th>\n",
       "      <th>form892</th>\n",
       "      <th>form1449</th>\n",
       "      <th>citation_in_oa</th>\n",
       "    </tr>\n",
       "  </thead>\n",
       "  <tbody>\n",
       "    <tr>\n",
       "      <th>57732274</th>\n",
       "      <td>15000034</td>\n",
       "      <td>Sun US 2012/0181696</td>\n",
       "      <td>20120181696</td>\n",
       "      <td>IYD99O6CRXEAPX0</td>\n",
       "      <td>103.0</td>\n",
       "      <td>NaN</td>\n",
       "      <td>0</td>\n",
       "      <td>0</td>\n",
       "      <td>1</td>\n",
       "    </tr>\n",
       "    <tr>\n",
       "      <th>57732275</th>\n",
       "      <td>15000034</td>\n",
       "      <td>Sun US 2012/0279760</td>\n",
       "      <td>20120279760</td>\n",
       "      <td>IYD99O6CRXEAPX0</td>\n",
       "      <td>103.0</td>\n",
       "      <td>NaN</td>\n",
       "      <td>0</td>\n",
       "      <td>0</td>\n",
       "      <td>1</td>\n",
       "    </tr>\n",
       "    <tr>\n",
       "      <th>57732330</th>\n",
       "      <td>15000048</td>\n",
       "      <td>Ke U.S. Pub # Pub # 2012/0049221 A1</td>\n",
       "      <td>20120049221</td>\n",
       "      <td>IYEPR2ZURXEAPX4</td>\n",
       "      <td>103.0</td>\n",
       "      <td>NaN</td>\n",
       "      <td>0</td>\n",
       "      <td>0</td>\n",
       "      <td>1</td>\n",
       "    </tr>\n",
       "    <tr>\n",
       "      <th>57732335</th>\n",
       "      <td>15000048</td>\n",
       "      <td>Dai U.S. Pub # Pub # 2012/0087105 A1</td>\n",
       "      <td>20120087105</td>\n",
       "      <td>IYEPR2ZURXEAPX4</td>\n",
       "      <td>103.0</td>\n",
       "      <td>NaN</td>\n",
       "      <td>0</td>\n",
       "      <td>0</td>\n",
       "      <td>1</td>\n",
       "    </tr>\n",
       "    <tr>\n",
       "      <th>57733582</th>\n",
       "      <td>15000285</td>\n",
       "      <td>20120245377</td>\n",
       "      <td>20120245377</td>\n",
       "      <td>IV82WOB1RXEAPX5</td>\n",
       "      <td>103.0</td>\n",
       "      <td>NaN</td>\n",
       "      <td>1</td>\n",
       "      <td>0</td>\n",
       "      <td>1</td>\n",
       "    </tr>\n",
       "    <tr>\n",
       "      <th>57734766</th>\n",
       "      <td>15000519</td>\n",
       "      <td>20120261760</td>\n",
       "      <td>20120261760</td>\n",
       "      <td>J0B89O3HRXEAPX0</td>\n",
       "      <td>103.0</td>\n",
       "      <td>NaN</td>\n",
       "      <td>1</td>\n",
       "      <td>0</td>\n",
       "      <td>1</td>\n",
       "    </tr>\n",
       "    <tr>\n",
       "      <th>57737475</th>\n",
       "      <td>15000943</td>\n",
       "      <td>20120064136</td>\n",
       "      <td>20120064136</td>\n",
       "      <td>IOVFB1E5RXEAPX4</td>\n",
       "      <td>103.0</td>\n",
       "      <td>NaN</td>\n",
       "      <td>1</td>\n",
       "      <td>0</td>\n",
       "      <td>1</td>\n",
       "    </tr>\n",
       "    <tr>\n",
       "      <th>57739052</th>\n",
       "      <td>15001133</td>\n",
       "      <td>20120113095</td>\n",
       "      <td>20120113095</td>\n",
       "      <td>J3LJNGP5RXEAPX4</td>\n",
       "      <td>103.0</td>\n",
       "      <td>a</td>\n",
       "      <td>0</td>\n",
       "      <td>1</td>\n",
       "      <td>1</td>\n",
       "    </tr>\n",
       "    <tr>\n",
       "      <th>57739055</th>\n",
       "      <td>15001133</td>\n",
       "      <td>20120113095</td>\n",
       "      <td>20120113095</td>\n",
       "      <td>J3XHHLA6RXEAPX4</td>\n",
       "      <td>103.0</td>\n",
       "      <td>a</td>\n",
       "      <td>0</td>\n",
       "      <td>1</td>\n",
       "      <td>1</td>\n",
       "    </tr>\n",
       "    <tr>\n",
       "      <th>57739057</th>\n",
       "      <td>15001133</td>\n",
       "      <td>20120113095</td>\n",
       "      <td>20120113095</td>\n",
       "      <td>J3XHHLA6RXEAPX4</td>\n",
       "      <td>103.0</td>\n",
       "      <td>a</td>\n",
       "      <td>0</td>\n",
       "      <td>1</td>\n",
       "      <td>1</td>\n",
       "    </tr>\n",
       "    <tr>\n",
       "      <th>57739552</th>\n",
       "      <td>15001213</td>\n",
       "      <td>20120109577</td>\n",
       "      <td>20120109577</td>\n",
       "      <td>IMHZJ2S1PXXIFW4</td>\n",
       "      <td>102.0</td>\n",
       "      <td>a</td>\n",
       "      <td>1</td>\n",
       "      <td>0</td>\n",
       "      <td>1</td>\n",
       "    </tr>\n",
       "    <tr>\n",
       "      <th>57739554</th>\n",
       "      <td>15001213</td>\n",
       "      <td>20120113285</td>\n",
       "      <td>20120113285</td>\n",
       "      <td>IMHZJ2S1PXXIFW4</td>\n",
       "      <td>103.0</td>\n",
       "      <td>NaN</td>\n",
       "      <td>1</td>\n",
       "      <td>0</td>\n",
       "      <td>1</td>\n",
       "    </tr>\n",
       "    <tr>\n",
       "      <th>57739555</th>\n",
       "      <td>15001213</td>\n",
       "      <td>20120109577</td>\n",
       "      <td>20120109577</td>\n",
       "      <td>IMHZJ2S1PXXIFW4</td>\n",
       "      <td>103.0</td>\n",
       "      <td>NaN</td>\n",
       "      <td>1</td>\n",
       "      <td>0</td>\n",
       "      <td>1</td>\n",
       "    </tr>\n",
       "    <tr>\n",
       "      <th>57739556</th>\n",
       "      <td>15001213</td>\n",
       "      <td>20120109577</td>\n",
       "      <td>20120109577</td>\n",
       "      <td>IOLG3W73RXEAPX2</td>\n",
       "      <td>102.0</td>\n",
       "      <td>a</td>\n",
       "      <td>1</td>\n",
       "      <td>0</td>\n",
       "      <td>1</td>\n",
       "    </tr>\n",
       "    <tr>\n",
       "      <th>57739558</th>\n",
       "      <td>15001213</td>\n",
       "      <td>20120113285</td>\n",
       "      <td>20120113285</td>\n",
       "      <td>IOLG3W73RXEAPX2</td>\n",
       "      <td>103.0</td>\n",
       "      <td>NaN</td>\n",
       "      <td>1</td>\n",
       "      <td>0</td>\n",
       "      <td>1</td>\n",
       "    </tr>\n",
       "    <tr>\n",
       "      <th>57739559</th>\n",
       "      <td>15001213</td>\n",
       "      <td>20120109577</td>\n",
       "      <td>20120109577</td>\n",
       "      <td>IOLG3W73RXEAPX2</td>\n",
       "      <td>103.0</td>\n",
       "      <td>NaN</td>\n",
       "      <td>1</td>\n",
       "      <td>0</td>\n",
       "      <td>1</td>\n",
       "    </tr>\n",
       "    <tr>\n",
       "      <th>57739861</th>\n",
       "      <td>15001250</td>\n",
       "      <td>20120146087</td>\n",
       "      <td>20120146087</td>\n",
       "      <td>ISLVELNMRXEAPX3</td>\n",
       "      <td>103.0</td>\n",
       "      <td>NaN</td>\n",
       "      <td>1</td>\n",
       "      <td>0</td>\n",
       "      <td>1</td>\n",
       "    </tr>\n",
       "    <tr>\n",
       "      <th>57739870</th>\n",
       "      <td>15001250</td>\n",
       "      <td>Donofrio et al US PGPUB 20120193649</td>\n",
       "      <td>20120193649</td>\n",
       "      <td>IX0P8YO8RXEAPX1</td>\n",
       "      <td>103.0</td>\n",
       "      <td>NaN</td>\n",
       "      <td>0</td>\n",
       "      <td>0</td>\n",
       "      <td>1</td>\n",
       "    </tr>\n",
       "    <tr>\n",
       "      <th>57741939</th>\n",
       "      <td>15001498</td>\n",
       "      <td>20120209627</td>\n",
       "      <td>20120209627</td>\n",
       "      <td>IR6A9568RXEAPX0</td>\n",
       "      <td>102.0</td>\n",
       "      <td>a</td>\n",
       "      <td>1</td>\n",
       "      <td>0</td>\n",
       "      <td>1</td>\n",
       "    </tr>\n",
       "    <tr>\n",
       "      <th>57741955</th>\n",
       "      <td>15001498</td>\n",
       "      <td>20120209627</td>\n",
       "      <td>20120209627</td>\n",
       "      <td>IUPQ35QARXEAPX5</td>\n",
       "      <td>102.0</td>\n",
       "      <td>a</td>\n",
       "      <td>1</td>\n",
       "      <td>0</td>\n",
       "      <td>1</td>\n",
       "    </tr>\n",
       "    <tr>\n",
       "      <th>57741971</th>\n",
       "      <td>15001498</td>\n",
       "      <td>20120209627</td>\n",
       "      <td>20120209627</td>\n",
       "      <td>IZZSW9HBRXEAPX2</td>\n",
       "      <td>102.0</td>\n",
       "      <td>a</td>\n",
       "      <td>1</td>\n",
       "      <td>0</td>\n",
       "      <td>1</td>\n",
       "    </tr>\n",
       "    <tr>\n",
       "      <th>57743079</th>\n",
       "      <td>15001641</td>\n",
       "      <td>20120040600</td>\n",
       "      <td>20120040600</td>\n",
       "      <td>ILKVUZ66RXEAPX3</td>\n",
       "      <td>103.0</td>\n",
       "      <td>NaN</td>\n",
       "      <td>1</td>\n",
       "      <td>0</td>\n",
       "      <td>1</td>\n",
       "    </tr>\n",
       "    <tr>\n",
       "      <th>57743083</th>\n",
       "      <td>15001641</td>\n",
       "      <td>20120040600</td>\n",
       "      <td>20120040600</td>\n",
       "      <td>ITA6UI9WRXEAPX0</td>\n",
       "      <td>103.0</td>\n",
       "      <td>NaN</td>\n",
       "      <td>1</td>\n",
       "      <td>0</td>\n",
       "      <td>1</td>\n",
       "    </tr>\n",
       "    <tr>\n",
       "      <th>57743476</th>\n",
       "      <td>15001694</td>\n",
       "      <td>20120317491</td>\n",
       "      <td>20120317491</td>\n",
       "      <td>IRM317QCRXEAPX2</td>\n",
       "      <td>103.0</td>\n",
       "      <td>a</td>\n",
       "      <td>1</td>\n",
       "      <td>0</td>\n",
       "      <td>1</td>\n",
       "    </tr>\n",
       "    <tr>\n",
       "      <th>57744167</th>\n",
       "      <td>15001768</td>\n",
       "      <td>20120157290</td>\n",
       "      <td>20120157290</td>\n",
       "      <td>IVCFFBW5RXEAPX3</td>\n",
       "      <td>103.0</td>\n",
       "      <td>a</td>\n",
       "      <td>1</td>\n",
       "      <td>0</td>\n",
       "      <td>1</td>\n",
       "    </tr>\n",
       "    <tr>\n",
       "      <th>57745185</th>\n",
       "      <td>15001962</td>\n",
       "      <td>20120167943</td>\n",
       "      <td>20120167943</td>\n",
       "      <td>ITVOQD54RXEAPX3</td>\n",
       "      <td>102.0</td>\n",
       "      <td>a</td>\n",
       "      <td>1</td>\n",
       "      <td>1</td>\n",
       "      <td>1</td>\n",
       "    </tr>\n",
       "    <tr>\n",
       "      <th>57745191</th>\n",
       "      <td>15001962</td>\n",
       "      <td>20120167943</td>\n",
       "      <td>20120167943</td>\n",
       "      <td>ITVOQD54RXEAPX3</td>\n",
       "      <td>103.0</td>\n",
       "      <td>NaN</td>\n",
       "      <td>1</td>\n",
       "      <td>1</td>\n",
       "      <td>1</td>\n",
       "    </tr>\n",
       "    <tr>\n",
       "      <th>57745196</th>\n",
       "      <td>15001965</td>\n",
       "      <td>20120256371</td>\n",
       "      <td>20120256371</td>\n",
       "      <td>IVCLZSBXRXEAPX2</td>\n",
       "      <td>103.0</td>\n",
       "      <td>NaN</td>\n",
       "      <td>1</td>\n",
       "      <td>0</td>\n",
       "      <td>1</td>\n",
       "    </tr>\n",
       "    <tr>\n",
       "      <th>57745999</th>\n",
       "      <td>15002012</td>\n",
       "      <td>Choi et al , US 2012/0249940</td>\n",
       "      <td>20120249940</td>\n",
       "      <td>J4H2CII0RXEAPX5</td>\n",
       "      <td>103.0</td>\n",
       "      <td>NaN</td>\n",
       "      <td>0</td>\n",
       "      <td>0</td>\n",
       "      <td>1</td>\n",
       "    </tr>\n",
       "    <tr>\n",
       "      <th>57746001</th>\n",
       "      <td>15002012</td>\n",
       "      <td>Miyakawa et al , US 2012/0212691</td>\n",
       "      <td>20120212691</td>\n",
       "      <td>J4H2CII0RXEAPX5</td>\n",
       "      <td>103.0</td>\n",
       "      <td>NaN</td>\n",
       "      <td>0</td>\n",
       "      <td>0</td>\n",
       "      <td>1</td>\n",
       "    </tr>\n",
       "    <tr>\n",
       "      <th>...</th>\n",
       "      <td>...</td>\n",
       "      <td>...</td>\n",
       "      <td>...</td>\n",
       "      <td>...</td>\n",
       "      <td>...</td>\n",
       "      <td>...</td>\n",
       "      <td>...</td>\n",
       "      <td>...</td>\n",
       "      <td>...</td>\n",
       "    </tr>\n",
       "    <tr>\n",
       "      <th>58860991</th>\n",
       "      <td>15362580</td>\n",
       "      <td>Flalho et al US 2012/0306913</td>\n",
       "      <td>20120306913</td>\n",
       "      <td>IXAOPE85RXEAPX2</td>\n",
       "      <td>103.0</td>\n",
       "      <td>a</td>\n",
       "      <td>0</td>\n",
       "      <td>0</td>\n",
       "      <td>1</td>\n",
       "    </tr>\n",
       "    <tr>\n",
       "      <th>58861079</th>\n",
       "      <td>15362769</td>\n",
       "      <td>Chen et al U.S. 2012/0007145 A1; ÂÂ</td>\n",
       "      <td>20120007145</td>\n",
       "      <td>IXVTAYBXRXEAPX5</td>\n",
       "      <td>102.0</td>\n",
       "      <td>a</td>\n",
       "      <td>0</td>\n",
       "      <td>0</td>\n",
       "      <td>1</td>\n",
       "    </tr>\n",
       "    <tr>\n",
       "      <th>58861080</th>\n",
       "      <td>15362769</td>\n",
       "      <td>Chen et al U.S. 2012/0007145 A1; ÂÂ</td>\n",
       "      <td>20120007145</td>\n",
       "      <td>IXVTAYBXRXEAPX5</td>\n",
       "      <td>103.0</td>\n",
       "      <td>NaN</td>\n",
       "      <td>0</td>\n",
       "      <td>0</td>\n",
       "      <td>1</td>\n",
       "    </tr>\n",
       "    <tr>\n",
       "      <th>58861131</th>\n",
       "      <td>15362843</td>\n",
       "      <td>Perillon et al US 2012/0132655</td>\n",
       "      <td>20120132655</td>\n",
       "      <td>J09T6DZJRXEAPX1</td>\n",
       "      <td>103.0</td>\n",
       "      <td>NaN</td>\n",
       "      <td>0</td>\n",
       "      <td>0</td>\n",
       "      <td>1</td>\n",
       "    </tr>\n",
       "    <tr>\n",
       "      <th>58861132</th>\n",
       "      <td>15362843</td>\n",
       "      <td>Hu et al US 2012/0048912</td>\n",
       "      <td>20120048912</td>\n",
       "      <td>J09T6DZJRXEAPX1</td>\n",
       "      <td>103.0</td>\n",
       "      <td>NaN</td>\n",
       "      <td>0</td>\n",
       "      <td>0</td>\n",
       "      <td>1</td>\n",
       "    </tr>\n",
       "    <tr>\n",
       "      <th>58861148</th>\n",
       "      <td>15362942</td>\n",
       "      <td>20120029281</td>\n",
       "      <td>20120029281</td>\n",
       "      <td>J4TXDSXLRXEAPX5</td>\n",
       "      <td>102.0</td>\n",
       "      <td>NaN</td>\n",
       "      <td>0</td>\n",
       "      <td>1</td>\n",
       "      <td>1</td>\n",
       "    </tr>\n",
       "    <tr>\n",
       "      <th>58861149</th>\n",
       "      <td>15362942</td>\n",
       "      <td>20120029281</td>\n",
       "      <td>20120029281</td>\n",
       "      <td>J4TXDSXLRXEAPX5</td>\n",
       "      <td>102.0</td>\n",
       "      <td>NaN</td>\n",
       "      <td>0</td>\n",
       "      <td>1</td>\n",
       "      <td>1</td>\n",
       "    </tr>\n",
       "    <tr>\n",
       "      <th>58861193</th>\n",
       "      <td>15363097</td>\n",
       "      <td>Sun et al U.S 2012/0002567 A1</td>\n",
       "      <td>20120002567</td>\n",
       "      <td>J0B8AJ7URXEAPX5</td>\n",
       "      <td>103.0</td>\n",
       "      <td>NaN</td>\n",
       "      <td>0</td>\n",
       "      <td>0</td>\n",
       "      <td>1</td>\n",
       "    </tr>\n",
       "    <tr>\n",
       "      <th>58861278</th>\n",
       "      <td>15363457</td>\n",
       "      <td>20120133974</td>\n",
       "      <td>20120133974</td>\n",
       "      <td>J4SJ9472RXEAPX2</td>\n",
       "      <td>102.0</td>\n",
       "      <td>a</td>\n",
       "      <td>0</td>\n",
       "      <td>1</td>\n",
       "      <td>1</td>\n",
       "    </tr>\n",
       "    <tr>\n",
       "      <th>58861449</th>\n",
       "      <td>15363720</td>\n",
       "      <td>Seo US20120039285A1</td>\n",
       "      <td>20120039285A1</td>\n",
       "      <td>J4JT243BRXEAPX4</td>\n",
       "      <td>102.0</td>\n",
       "      <td>e</td>\n",
       "      <td>0</td>\n",
       "      <td>0</td>\n",
       "      <td>1</td>\n",
       "    </tr>\n",
       "    <tr>\n",
       "      <th>58861463</th>\n",
       "      <td>15363805</td>\n",
       "      <td>20120291196</td>\n",
       "      <td>20120291196</td>\n",
       "      <td>IWZ1Y9VNRXEAPX5</td>\n",
       "      <td>103.0</td>\n",
       "      <td>NaN</td>\n",
       "      <td>0</td>\n",
       "      <td>1</td>\n",
       "      <td>1</td>\n",
       "    </tr>\n",
       "    <tr>\n",
       "      <th>58861614</th>\n",
       "      <td>15363919</td>\n",
       "      <td>20120089996</td>\n",
       "      <td>20120089996</td>\n",
       "      <td>J4QXN5NLRXEAPX4</td>\n",
       "      <td>103.0</td>\n",
       "      <td>a</td>\n",
       "      <td>0</td>\n",
       "      <td>1</td>\n",
       "      <td>1</td>\n",
       "    </tr>\n",
       "    <tr>\n",
       "      <th>58861638</th>\n",
       "      <td>15364143</td>\n",
       "      <td>Lee et al US 2012/0024583 A1</td>\n",
       "      <td>20120024583</td>\n",
       "      <td>IYUEFYE7RXEAPX4</td>\n",
       "      <td>102.0</td>\n",
       "      <td>a</td>\n",
       "      <td>0</td>\n",
       "      <td>0</td>\n",
       "      <td>1</td>\n",
       "    </tr>\n",
       "    <tr>\n",
       "      <th>58861639</th>\n",
       "      <td>15364143</td>\n",
       "      <td>Lee et al US 2012/0024583 A1</td>\n",
       "      <td>20120024583</td>\n",
       "      <td>IYUEFYE7RXEAPX4</td>\n",
       "      <td>103.0</td>\n",
       "      <td>a</td>\n",
       "      <td>0</td>\n",
       "      <td>0</td>\n",
       "      <td>1</td>\n",
       "    </tr>\n",
       "    <tr>\n",
       "      <th>58861647</th>\n",
       "      <td>15364168</td>\n",
       "      <td>Chen et al U.S. PG-Publication # 2012/0275400</td>\n",
       "      <td>20120275400</td>\n",
       "      <td>IZT3IW8ARXEAPX0</td>\n",
       "      <td>102.0</td>\n",
       "      <td>e</td>\n",
       "      <td>0</td>\n",
       "      <td>0</td>\n",
       "      <td>1</td>\n",
       "    </tr>\n",
       "    <tr>\n",
       "      <th>58861739</th>\n",
       "      <td>15364919</td>\n",
       "      <td>Cardno Publication No . US 2012/0053986</td>\n",
       "      <td>20120053986</td>\n",
       "      <td>J3XFQ7BTRXEAPX5</td>\n",
       "      <td>103.0</td>\n",
       "      <td>NaN</td>\n",
       "      <td>0</td>\n",
       "      <td>0</td>\n",
       "      <td>1</td>\n",
       "    </tr>\n",
       "    <tr>\n",
       "      <th>58861740</th>\n",
       "      <td>15364919</td>\n",
       "      <td>Reyna et al pub No US 2012/0311441</td>\n",
       "      <td>20120311441</td>\n",
       "      <td>J3XFQ7BTRXEAPX5</td>\n",
       "      <td>103.0</td>\n",
       "      <td>NaN</td>\n",
       "      <td>0</td>\n",
       "      <td>0</td>\n",
       "      <td>1</td>\n",
       "    </tr>\n",
       "    <tr>\n",
       "      <th>58861787</th>\n",
       "      <td>15365287</td>\n",
       "      <td>Stougie et al U.S. Patent Application Publicat...</td>\n",
       "      <td>20120166487</td>\n",
       "      <td>IZH40OBGRXEAPX1</td>\n",
       "      <td>102.0</td>\n",
       "      <td>a</td>\n",
       "      <td>0</td>\n",
       "      <td>0</td>\n",
       "      <td>1</td>\n",
       "    </tr>\n",
       "    <tr>\n",
       "      <th>58861825</th>\n",
       "      <td>15365570</td>\n",
       "      <td>Dow et al 20120204529</td>\n",
       "      <td>20120204529</td>\n",
       "      <td>IX1WPL77RXEAPX4</td>\n",
       "      <td>102.0</td>\n",
       "      <td>a</td>\n",
       "      <td>0</td>\n",
       "      <td>0</td>\n",
       "      <td>1</td>\n",
       "    </tr>\n",
       "    <tr>\n",
       "      <th>58861903</th>\n",
       "      <td>15365933</td>\n",
       "      <td>Agarwal U.S. Patent App Pub 20120131129</td>\n",
       "      <td>20120131129</td>\n",
       "      <td>J01D8L59RXEAPX2</td>\n",
       "      <td>102.0</td>\n",
       "      <td>a</td>\n",
       "      <td>0</td>\n",
       "      <td>0</td>\n",
       "      <td>1</td>\n",
       "    </tr>\n",
       "    <tr>\n",
       "      <th>58862030</th>\n",
       "      <td>15368059</td>\n",
       "      <td>Kubota et al U.S. pub 2012/0189327</td>\n",
       "      <td>20120189327</td>\n",
       "      <td>J0I0V4XYRXEAPX1</td>\n",
       "      <td>103.0</td>\n",
       "      <td>NaN</td>\n",
       "      <td>0</td>\n",
       "      <td>0</td>\n",
       "      <td>1</td>\n",
       "    </tr>\n",
       "    <tr>\n",
       "      <th>58862061</th>\n",
       "      <td>15368539</td>\n",
       "      <td>Robinson 2012/0325227</td>\n",
       "      <td>20120325227</td>\n",
       "      <td>IYD8KYH4RXEAPX5</td>\n",
       "      <td>103.0</td>\n",
       "      <td>a</td>\n",
       "      <td>0</td>\n",
       "      <td>0</td>\n",
       "      <td>1</td>\n",
       "    </tr>\n",
       "    <tr>\n",
       "      <th>58862120</th>\n",
       "      <td>15369618</td>\n",
       "      <td>Bak et al US2012/0233438</td>\n",
       "      <td>20120233438</td>\n",
       "      <td>IYC17FKQRXEAPX0</td>\n",
       "      <td>103.0</td>\n",
       "      <td>NaN</td>\n",
       "      <td>0</td>\n",
       "      <td>0</td>\n",
       "      <td>1</td>\n",
       "    </tr>\n",
       "    <tr>\n",
       "      <th>58862139</th>\n",
       "      <td>15369954</td>\n",
       "      <td>FUJIMOTO US pub 2012/0177050</td>\n",
       "      <td>20120177050</td>\n",
       "      <td>J02IDRCNRXEAPX4</td>\n",
       "      <td>102.0</td>\n",
       "      <td>a</td>\n",
       "      <td>0</td>\n",
       "      <td>0</td>\n",
       "      <td>1</td>\n",
       "    </tr>\n",
       "    <tr>\n",
       "      <th>58862173</th>\n",
       "      <td>15370265</td>\n",
       "      <td>Thompson et al U.S. 2012/0130907</td>\n",
       "      <td>20120130907</td>\n",
       "      <td>J0CM4YV6RXEAPX3</td>\n",
       "      <td>103.0</td>\n",
       "      <td>NaN</td>\n",
       "      <td>0</td>\n",
       "      <td>0</td>\n",
       "      <td>1</td>\n",
       "    </tr>\n",
       "    <tr>\n",
       "      <th>58862184</th>\n",
       "      <td>15370575</td>\n",
       "      <td>Choi et al US Publication No. 2012/0228604</td>\n",
       "      <td>20120228604</td>\n",
       "      <td>IY1UB824RXEAPX1</td>\n",
       "      <td>103.0</td>\n",
       "      <td>a</td>\n",
       "      <td>0</td>\n",
       "      <td>0</td>\n",
       "      <td>1</td>\n",
       "    </tr>\n",
       "    <tr>\n",
       "      <th>58862210</th>\n",
       "      <td>15371036</td>\n",
       "      <td>Willoughby et al hereinafter ÂÂ, US 2012/030...</td>\n",
       "      <td>20120306924</td>\n",
       "      <td>IYX4PKNQRXEAPX4</td>\n",
       "      <td>102.0</td>\n",
       "      <td>a</td>\n",
       "      <td>0</td>\n",
       "      <td>0</td>\n",
       "      <td>1</td>\n",
       "    </tr>\n",
       "    <tr>\n",
       "      <th>58862214</th>\n",
       "      <td>15371115</td>\n",
       "      <td>Kleinbart et al U.S. Patent Publication 2012/0...</td>\n",
       "      <td>20120278388</td>\n",
       "      <td>J02ZYLXHRXEAPX1</td>\n",
       "      <td>103.0</td>\n",
       "      <td>a</td>\n",
       "      <td>0</td>\n",
       "      <td>0</td>\n",
       "      <td>1</td>\n",
       "    </tr>\n",
       "    <tr>\n",
       "      <th>58862215</th>\n",
       "      <td>15371115</td>\n",
       "      <td>Kirsch U.S. Patent Publication 2012/0197523</td>\n",
       "      <td>20120197523</td>\n",
       "      <td>J02ZYLXHRXEAPX1</td>\n",
       "      <td>103.0</td>\n",
       "      <td>a</td>\n",
       "      <td>0</td>\n",
       "      <td>0</td>\n",
       "      <td>1</td>\n",
       "    </tr>\n",
       "    <tr>\n",
       "      <th>58862227</th>\n",
       "      <td>15371482</td>\n",
       "      <td>Laracey pub No. US 2012/0160912</td>\n",
       "      <td>20120160912</td>\n",
       "      <td>IXQ8TNS3RXEAPX5</td>\n",
       "      <td>102.0</td>\n",
       "      <td>a</td>\n",
       "      <td>0</td>\n",
       "      <td>0</td>\n",
       "      <td>1</td>\n",
       "    </tr>\n",
       "  </tbody>\n",
       "</table>\n",
       "<p>2640 rows × 9 columns</p>\n",
       "</div>"
      ],
      "text/plain": [
       "            app_id                              citation_pat_pgpub_id  \\\n",
       "57732274  15000034                                Sun US 2012/0181696   \n",
       "57732275  15000034                                Sun US 2012/0279760   \n",
       "57732330  15000048                Ke U.S. Pub # Pub # 2012/0049221 A1   \n",
       "57732335  15000048               Dai U.S. Pub # Pub # 2012/0087105 A1   \n",
       "57733582  15000285                                        20120245377   \n",
       "57734766  15000519                                        20120261760   \n",
       "57737475  15000943                                        20120064136   \n",
       "57739052  15001133                                        20120113095   \n",
       "57739055  15001133                                        20120113095   \n",
       "57739057  15001133                                        20120113095   \n",
       "57739552  15001213                                        20120109577   \n",
       "57739554  15001213                                        20120113285   \n",
       "57739555  15001213                                        20120109577   \n",
       "57739556  15001213                                        20120109577   \n",
       "57739558  15001213                                        20120113285   \n",
       "57739559  15001213                                        20120109577   \n",
       "57739861  15001250                                        20120146087   \n",
       "57739870  15001250                Donofrio et al US PGPUB 20120193649   \n",
       "57741939  15001498                                        20120209627   \n",
       "57741955  15001498                                        20120209627   \n",
       "57741971  15001498                                        20120209627   \n",
       "57743079  15001641                                        20120040600   \n",
       "57743083  15001641                                        20120040600   \n",
       "57743476  15001694                                        20120317491   \n",
       "57744167  15001768                                        20120157290   \n",
       "57745185  15001962                                        20120167943   \n",
       "57745191  15001962                                        20120167943   \n",
       "57745196  15001965                                        20120256371   \n",
       "57745999  15002012                       Choi et al , US 2012/0249940   \n",
       "57746001  15002012                   Miyakawa et al , US 2012/0212691   \n",
       "...            ...                                                ...   \n",
       "58860991  15362580                       Flalho et al US 2012/0306913   \n",
       "58861079  15362769              Chen et al U.S. 2012/0007145 A1; ÂÂ   \n",
       "58861080  15362769              Chen et al U.S. 2012/0007145 A1; ÂÂ   \n",
       "58861131  15362843                     Perillon et al US 2012/0132655   \n",
       "58861132  15362843                           Hu et al US 2012/0048912   \n",
       "58861148  15362942                                        20120029281   \n",
       "58861149  15362942                                        20120029281   \n",
       "58861193  15363097                      Sun et al U.S 2012/0002567 A1   \n",
       "58861278  15363457                                        20120133974   \n",
       "58861449  15363720                                Seo US20120039285A1   \n",
       "58861463  15363805                                        20120291196   \n",
       "58861614  15363919                                        20120089996   \n",
       "58861638  15364143                       Lee et al US 2012/0024583 A1   \n",
       "58861639  15364143                       Lee et al US 2012/0024583 A1   \n",
       "58861647  15364168      Chen et al U.S. PG-Publication # 2012/0275400   \n",
       "58861739  15364919            Cardno Publication No . US 2012/0053986   \n",
       "58861740  15364919                 Reyna et al pub No US 2012/0311441   \n",
       "58861787  15365287  Stougie et al U.S. Patent Application Publicat...   \n",
       "58861825  15365570                              Dow et al 20120204529   \n",
       "58861903  15365933            Agarwal U.S. Patent App Pub 20120131129   \n",
       "58862030  15368059                 Kubota et al U.S. pub 2012/0189327   \n",
       "58862061  15368539                              Robinson 2012/0325227   \n",
       "58862120  15369618                           Bak et al US2012/0233438   \n",
       "58862139  15369954                       FUJIMOTO US pub 2012/0177050   \n",
       "58862173  15370265                   Thompson et al U.S. 2012/0130907   \n",
       "58862184  15370575         Choi et al US Publication No. 2012/0228604   \n",
       "58862210  15371036  Willoughby et al hereinafter ÂÂ, US 2012/030...   \n",
       "58862214  15371115  Kleinbart et al U.S. Patent Publication 2012/0...   \n",
       "58862215  15371115        Kirsch U.S. Patent Publication 2012/0197523   \n",
       "58862227  15371482                    Laracey pub No. US 2012/0160912   \n",
       "\n",
       "                 parsed       ifw_number  action_type action_subtype  form892  \\\n",
       "57732274    20120181696  IYD99O6CRXEAPX0        103.0            NaN        0   \n",
       "57732275    20120279760  IYD99O6CRXEAPX0        103.0            NaN        0   \n",
       "57732330    20120049221  IYEPR2ZURXEAPX4        103.0            NaN        0   \n",
       "57732335    20120087105  IYEPR2ZURXEAPX4        103.0            NaN        0   \n",
       "57733582    20120245377  IV82WOB1RXEAPX5        103.0            NaN        1   \n",
       "57734766    20120261760  J0B89O3HRXEAPX0        103.0            NaN        1   \n",
       "57737475    20120064136  IOVFB1E5RXEAPX4        103.0            NaN        1   \n",
       "57739052    20120113095  J3LJNGP5RXEAPX4        103.0              a        0   \n",
       "57739055    20120113095  J3XHHLA6RXEAPX4        103.0              a        0   \n",
       "57739057    20120113095  J3XHHLA6RXEAPX4        103.0              a        0   \n",
       "57739552    20120109577  IMHZJ2S1PXXIFW4        102.0              a        1   \n",
       "57739554    20120113285  IMHZJ2S1PXXIFW4        103.0            NaN        1   \n",
       "57739555    20120109577  IMHZJ2S1PXXIFW4        103.0            NaN        1   \n",
       "57739556    20120109577  IOLG3W73RXEAPX2        102.0              a        1   \n",
       "57739558    20120113285  IOLG3W73RXEAPX2        103.0            NaN        1   \n",
       "57739559    20120109577  IOLG3W73RXEAPX2        103.0            NaN        1   \n",
       "57739861    20120146087  ISLVELNMRXEAPX3        103.0            NaN        1   \n",
       "57739870    20120193649  IX0P8YO8RXEAPX1        103.0            NaN        0   \n",
       "57741939    20120209627  IR6A9568RXEAPX0        102.0              a        1   \n",
       "57741955    20120209627  IUPQ35QARXEAPX5        102.0              a        1   \n",
       "57741971    20120209627  IZZSW9HBRXEAPX2        102.0              a        1   \n",
       "57743079    20120040600  ILKVUZ66RXEAPX3        103.0            NaN        1   \n",
       "57743083    20120040600  ITA6UI9WRXEAPX0        103.0            NaN        1   \n",
       "57743476    20120317491  IRM317QCRXEAPX2        103.0              a        1   \n",
       "57744167    20120157290  IVCFFBW5RXEAPX3        103.0              a        1   \n",
       "57745185    20120167943  ITVOQD54RXEAPX3        102.0              a        1   \n",
       "57745191    20120167943  ITVOQD54RXEAPX3        103.0            NaN        1   \n",
       "57745196    20120256371  IVCLZSBXRXEAPX2        103.0            NaN        1   \n",
       "57745999    20120249940  J4H2CII0RXEAPX5        103.0            NaN        0   \n",
       "57746001    20120212691  J4H2CII0RXEAPX5        103.0            NaN        0   \n",
       "...                 ...              ...          ...            ...      ...   \n",
       "58860991    20120306913  IXAOPE85RXEAPX2        103.0              a        0   \n",
       "58861079    20120007145  IXVTAYBXRXEAPX5        102.0              a        0   \n",
       "58861080    20120007145  IXVTAYBXRXEAPX5        103.0            NaN        0   \n",
       "58861131    20120132655  J09T6DZJRXEAPX1        103.0            NaN        0   \n",
       "58861132    20120048912  J09T6DZJRXEAPX1        103.0            NaN        0   \n",
       "58861148    20120029281  J4TXDSXLRXEAPX5        102.0            NaN        0   \n",
       "58861149    20120029281  J4TXDSXLRXEAPX5        102.0            NaN        0   \n",
       "58861193    20120002567  J0B8AJ7URXEAPX5        103.0            NaN        0   \n",
       "58861278    20120133974  J4SJ9472RXEAPX2        102.0              a        0   \n",
       "58861449  20120039285A1  J4JT243BRXEAPX4        102.0              e        0   \n",
       "58861463    20120291196  IWZ1Y9VNRXEAPX5        103.0            NaN        0   \n",
       "58861614    20120089996  J4QXN5NLRXEAPX4        103.0              a        0   \n",
       "58861638    20120024583  IYUEFYE7RXEAPX4        102.0              a        0   \n",
       "58861639    20120024583  IYUEFYE7RXEAPX4        103.0              a        0   \n",
       "58861647    20120275400  IZT3IW8ARXEAPX0        102.0              e        0   \n",
       "58861739    20120053986  J3XFQ7BTRXEAPX5        103.0            NaN        0   \n",
       "58861740    20120311441  J3XFQ7BTRXEAPX5        103.0            NaN        0   \n",
       "58861787    20120166487  IZH40OBGRXEAPX1        102.0              a        0   \n",
       "58861825    20120204529  IX1WPL77RXEAPX4        102.0              a        0   \n",
       "58861903    20120131129  J01D8L59RXEAPX2        102.0              a        0   \n",
       "58862030    20120189327  J0I0V4XYRXEAPX1        103.0            NaN        0   \n",
       "58862061    20120325227  IYD8KYH4RXEAPX5        103.0              a        0   \n",
       "58862120    20120233438  IYC17FKQRXEAPX0        103.0            NaN        0   \n",
       "58862139    20120177050  J02IDRCNRXEAPX4        102.0              a        0   \n",
       "58862173    20120130907  J0CM4YV6RXEAPX3        103.0            NaN        0   \n",
       "58862184    20120228604  IY1UB824RXEAPX1        103.0              a        0   \n",
       "58862210    20120306924  IYX4PKNQRXEAPX4        102.0              a        0   \n",
       "58862214    20120278388  J02ZYLXHRXEAPX1        103.0              a        0   \n",
       "58862215    20120197523  J02ZYLXHRXEAPX1        103.0              a        0   \n",
       "58862227    20120160912  IXQ8TNS3RXEAPX5        102.0              a        0   \n",
       "\n",
       "          form1449  citation_in_oa  \n",
       "57732274         0               1  \n",
       "57732275         0               1  \n",
       "57732330         0               1  \n",
       "57732335         0               1  \n",
       "57733582         0               1  \n",
       "57734766         0               1  \n",
       "57737475         0               1  \n",
       "57739052         1               1  \n",
       "57739055         1               1  \n",
       "57739057         1               1  \n",
       "57739552         0               1  \n",
       "57739554         0               1  \n",
       "57739555         0               1  \n",
       "57739556         0               1  \n",
       "57739558         0               1  \n",
       "57739559         0               1  \n",
       "57739861         0               1  \n",
       "57739870         0               1  \n",
       "57741939         0               1  \n",
       "57741955         0               1  \n",
       "57741971         0               1  \n",
       "57743079         0               1  \n",
       "57743083         0               1  \n",
       "57743476         0               1  \n",
       "57744167         0               1  \n",
       "57745185         1               1  \n",
       "57745191         1               1  \n",
       "57745196         0               1  \n",
       "57745999         0               1  \n",
       "57746001         0               1  \n",
       "...            ...             ...  \n",
       "58860991         0               1  \n",
       "58861079         0               1  \n",
       "58861080         0               1  \n",
       "58861131         0               1  \n",
       "58861132         0               1  \n",
       "58861148         1               1  \n",
       "58861149         1               1  \n",
       "58861193         0               1  \n",
       "58861278         1               1  \n",
       "58861449         0               1  \n",
       "58861463         1               1  \n",
       "58861614         1               1  \n",
       "58861638         0               1  \n",
       "58861639         0               1  \n",
       "58861647         0               1  \n",
       "58861739         0               1  \n",
       "58861740         0               1  \n",
       "58861787         0               1  \n",
       "58861825         0               1  \n",
       "58861903         0               1  \n",
       "58862030         0               1  \n",
       "58862061         0               1  \n",
       "58862120         0               1  \n",
       "58862139         0               1  \n",
       "58862173         0               1  \n",
       "58862184         0               1  \n",
       "58862210         0               1  \n",
       "58862214         0               1  \n",
       "58862215         0               1  \n",
       "58862227         0               1  \n",
       "\n",
       "[2640 rows x 9 columns]"
      ]
     },
     "execution_count": 169,
     "metadata": {},
     "output_type": "execute_result"
    }
   ],
   "source": [
    "citations_2017[list(map(lambda s: s.startswith(\"2012\"), [str(elm) for elm in list(citations_2017.parsed)]))]"
   ]
  },
  {
   "cell_type": "code",
   "execution_count": null,
   "metadata": {},
   "outputs": [],
   "source": []
  },
  {
   "cell_type": "code",
   "execution_count": null,
   "metadata": {},
   "outputs": [],
   "source": []
  },
  {
   "cell_type": "code",
   "execution_count": null,
   "metadata": {},
   "outputs": [],
   "source": []
  },
  {
   "cell_type": "code",
   "execution_count": 78,
   "metadata": {},
   "outputs": [],
   "source": [
    "res_tup = retrieve_subtext_fast(6067926, 10, '../data/grants2012/ipg120417.xml')"
   ]
  },
  {
   "cell_type": "code",
   "execution_count": 79,
   "metadata": {},
   "outputs": [
    {
     "data": {
      "text/plain": [
       "10"
      ]
     },
     "execution_count": 79,
     "metadata": {},
     "output_type": "execute_result"
    }
   ],
   "source": [
    "res_tup[0]"
   ]
  },
  {
   "cell_type": "code",
   "execution_count": 80,
   "metadata": {},
   "outputs": [
    {
     "data": {
      "text/plain": [
       "'<doc-number>7945484</doc-number>'"
      ]
     },
     "execution_count": 80,
     "metadata": {},
     "output_type": "execute_result"
    }
   ],
   "source": [
    "res_tup[1][10]"
   ]
  },
  {
   "cell_type": "code",
   "execution_count": null,
   "metadata": {},
   "outputs": [],
   "source": []
  },
  {
   "cell_type": "code",
   "execution_count": null,
   "metadata": {},
   "outputs": [],
   "source": []
  },
  {
   "cell_type": "code",
   "execution_count": 83,
   "metadata": {},
   "outputs": [
    {
     "data": {
      "text/plain": [
       "['15146848', '15192621', '15334971', '15049456', '15282523']"
      ]
     },
     "execution_count": 83,
     "metadata": {},
     "output_type": "execute_result"
    }
   ],
   "source": [
    "list(index2017_we_need.keys())[0:5]"
   ]
  },
  {
   "cell_type": "code",
   "execution_count": 84,
   "metadata": {},
   "outputs": [
    {
     "data": {
      "text/plain": [
       "[['application2017/ipa171207.xml', 5183637],\n",
       " ['application2017/ipa171207.xml', 5183673]]"
      ]
     },
     "execution_count": 84,
     "metadata": {},
     "output_type": "execute_result"
    }
   ],
   "source": [
    "index2017_we_need['15146848']"
   ]
  },
  {
   "cell_type": "code",
   "execution_count": null,
   "metadata": {},
   "outputs": [],
   "source": []
  },
  {
   "cell_type": "code",
   "execution_count": 91,
   "metadata": {},
   "outputs": [],
   "source": [
    "res_tup = retrieve_subtext_fast(5183637, 5000, '../data/application2017/ipa171207.xml')"
   ]
  },
  {
   "cell_type": "code",
   "execution_count": 96,
   "metadata": {},
   "outputs": [
    {
     "data": {
      "text/plain": [
       "4667"
      ]
     },
     "execution_count": 96,
     "metadata": {},
     "output_type": "execute_result"
    }
   ],
   "source": [
    "find_nearest_root_element(res_tup[0], res_tup[1], 'us-patent-application')"
   ]
  },
  {
   "cell_type": "code",
   "execution_count": 93,
   "metadata": {},
   "outputs": [
    {
     "data": {
      "text/plain": [
       "5000"
      ]
     },
     "execution_count": 93,
     "metadata": {},
     "output_type": "execute_result"
    }
   ],
   "source": [
    "res_tup[0]"
   ]
  },
  {
   "cell_type": "code",
   "execution_count": 97,
   "metadata": {},
   "outputs": [
    {
     "data": {
      "text/plain": [
       "'<us-patent-application lang=\"EN\" dtd-version=\"v4.4 2014-04-03\" file=\"US20170351915A1-20171207.XML\" status=\"PRODUCTION\" id=\"us-patent-application\" country=\"US\" date-produced=\"20171121\" date-publ=\"20171207\">'"
      ]
     },
     "execution_count": 97,
     "metadata": {},
     "output_type": "execute_result"
    }
   ],
   "source": [
    "res_tup[1][4667]"
   ]
  },
  {
   "cell_type": "code",
   "execution_count": 103,
   "metadata": {},
   "outputs": [],
   "source": [
    "res_pat = retrieve_begin_end(4667, res_tup[1], 'us-patent-application')"
   ]
  },
  {
   "cell_type": "code",
   "execution_count": 105,
   "metadata": {},
   "outputs": [
    {
     "data": {
      "text/plain": [
       "['<us-patent-application lang=\"EN\" dtd-version=\"v4.4 2014-04-03\" file=\"US20170351915A1-20171207.XML\" status=\"PRODUCTION\" id=\"us-patent-application\" country=\"US\" date-produced=\"20171121\" date-publ=\"20171207\">',\n",
       " '<us-bibliographic-data-application lang=\"EN\" country=\"US\">',\n",
       " '<publication-reference>',\n",
       " '<document-id>',\n",
       " '<country>US</country>']"
      ]
     },
     "execution_count": 105,
     "metadata": {},
     "output_type": "execute_result"
    }
   ],
   "source": [
    "res_pat[0:5]"
   ]
  },
  {
   "cell_type": "code",
   "execution_count": 104,
   "metadata": {},
   "outputs": [
    {
     "data": {
      "text/plain": [
       "'</us-patent-application>'"
      ]
     },
     "execution_count": 104,
     "metadata": {},
     "output_type": "execute_result"
    }
   ],
   "source": [
    "res_pat[-1]"
   ]
  },
  {
   "cell_type": "code",
   "execution_count": null,
   "metadata": {},
   "outputs": [],
   "source": []
  },
  {
   "cell_type": "code",
   "execution_count": null,
   "metadata": {},
   "outputs": [],
   "source": []
  },
  {
   "cell_type": "code",
   "execution_count": null,
   "metadata": {},
   "outputs": [],
   "source": [
    "subtext = !sed -n ''"
   ]
  },
  {
   "cell_type": "code",
   "execution_count": null,
   "metadata": {},
   "outputs": [],
   "source": []
  },
  {
   "cell_type": "code",
   "execution_count": null,
   "metadata": {},
   "outputs": [],
   "source": []
  },
  {
   "cell_type": "code",
   "execution_count": null,
   "metadata": {},
   "outputs": [],
   "source": []
  },
  {
   "cell_type": "code",
   "execution_count": null,
   "metadata": {},
   "outputs": [],
   "source": []
  },
  {
   "cell_type": "code",
   "execution_count": null,
   "metadata": {},
   "outputs": [],
   "source": []
  },
  {
   "cell_type": "code",
   "execution_count": null,
   "metadata": {},
   "outputs": [],
   "source": []
  },
  {
   "cell_type": "code",
   "execution_count": null,
   "metadata": {},
   "outputs": [],
   "source": []
  },
  {
   "cell_type": "markdown",
   "metadata": {},
   "source": [
    "# Try and error"
   ]
  },
  {
   "cell_type": "code",
   "execution_count": null,
   "metadata": {},
   "outputs": [],
   "source": []
  },
  {
   "cell_type": "code",
   "execution_count": 74,
   "metadata": {},
   "outputs": [],
   "source": [
    "# create_one_index(\"grants2012/ipg120103.xml\")"
   ]
  },
  {
   "cell_type": "code",
   "execution_count": null,
   "metadata": {},
   "outputs": [],
   "source": []
  },
  {
   "cell_type": "code",
   "execution_count": null,
   "metadata": {},
   "outputs": [],
   "source": []
  },
  {
   "cell_type": "code",
   "execution_count": null,
   "metadata": {},
   "outputs": [],
   "source": []
  },
  {
   "cell_type": "code",
   "execution_count": 21,
   "metadata": {},
   "outputs": [],
   "source": [
    "xmlrel = \"application2017/ipa170105.xml\""
   ]
  },
  {
   "cell_type": "code",
   "execution_count": 22,
   "metadata": {},
   "outputs": [],
   "source": [
    "xmlpath = \"../data/\"+xmlrel"
   ]
  },
  {
   "cell_type": "code",
   "execution_count": 29,
   "metadata": {},
   "outputs": [],
   "source": [
    "indexfile=INDEX_PATH+xmlrel+\".idx\""
   ]
  },
  {
   "cell_type": "code",
   "execution_count": null,
   "metadata": {},
   "outputs": [],
   "source": []
  },
  {
   "cell_type": "code",
   "execution_count": 31,
   "metadata": {},
   "outputs": [],
   "source": [
    "!mkdir -p {os.path.dirname(indexfile)}"
   ]
  },
  {
   "cell_type": "code",
   "execution_count": 32,
   "metadata": {},
   "outputs": [],
   "source": [
    "!grep -n \"doc-number\" {xmlpath} | sed -e 's/\\(.*\\)<doc-number>\\([^<]*\\)<\\/doc-number>.*/\\1\\2/' > {indexfile}"
   ]
  },
  {
   "cell_type": "code",
   "execution_count": null,
   "metadata": {},
   "outputs": [],
   "source": []
  },
  {
   "cell_type": "code",
   "execution_count": null,
   "metadata": {},
   "outputs": [],
   "source": []
  },
  {
   "cell_type": "code",
   "execution_count": null,
   "metadata": {},
   "outputs": [],
   "source": []
  },
  {
   "cell_type": "code",
   "execution_count": 45,
   "metadata": {},
   "outputs": [],
   "source": [
    "with open(indexfile, \"r\") as f:\n",
    "    tupples = [l.rstrip(\"\\n\").split(\":\", 1) for l in f]"
   ]
  },
  {
   "cell_type": "code",
   "execution_count": 46,
   "metadata": {},
   "outputs": [
    {
     "data": {
      "text/plain": [
       "31695"
      ]
     },
     "execution_count": 46,
     "metadata": {},
     "output_type": "execute_result"
    }
   ],
   "source": [
    "len(tupples)"
   ]
  },
  {
   "cell_type": "code",
   "execution_count": 60,
   "metadata": {},
   "outputs": [],
   "source": [
    "dic = {}"
   ]
  },
  {
   "cell_type": "code",
   "execution_count": 61,
   "metadata": {},
   "outputs": [],
   "source": [
    "for tup in tupples:\n",
    "    dic.setdefault(tup[1], []).append(int(tup[0]))"
   ]
  },
  {
   "cell_type": "code",
   "execution_count": null,
   "metadata": {},
   "outputs": [],
   "source": []
  },
  {
   "cell_type": "code",
   "execution_count": 62,
   "metadata": {},
   "outputs": [
    {
     "data": {
      "text/plain": [
       "[3508, 3648]"
      ]
     },
     "execution_count": 62,
     "metadata": {},
     "output_type": "execute_result"
    }
   ],
   "source": [
    "# some doc-number seems dup\n",
    "dic[\"15265874\"]"
   ]
  },
  {
   "cell_type": "code",
   "execution_count": null,
   "metadata": {},
   "outputs": [],
   "source": []
  },
  {
   "cell_type": "code",
   "execution_count": null,
   "metadata": {},
   "outputs": [],
   "source": []
  },
  {
   "cell_type": "code",
   "execution_count": null,
   "metadata": {
    "scrolled": false
   },
   "outputs": [],
   "source": [
    "for tup in tupples:    \n",
    "    if tup[1] not in dic:\n",
    "        print(tup[1])\n",
    "    dic[tup[1]] = 1    "
   ]
  },
  {
   "cell_type": "code",
   "execution_count": null,
   "metadata": {},
   "outputs": [],
   "source": []
  },
  {
   "cell_type": "code",
   "execution_count": null,
   "metadata": {},
   "outputs": [],
   "source": []
  },
  {
   "cell_type": "code",
   "execution_count": null,
   "metadata": {},
   "outputs": [],
   "source": []
  },
  {
   "cell_type": "markdown",
   "metadata": {},
   "source": [
    "### just read xml file is too slow. Give up using python"
   ]
  },
  {
   "cell_type": "code",
   "execution_count": 4,
   "metadata": {
    "scrolled": true
   },
   "outputs": [
    {
     "ename": "KeyboardInterrupt",
     "evalue": "",
     "output_type": "error",
     "traceback": [
      "\u001b[0;31m---------------------------------------------------------------------------\u001b[0m",
      "\u001b[0;31mKeyboardInterrupt\u001b[0m                         Traceback (most recent call last)",
      "\u001b[0;32m<timed exec>\u001b[0m in \u001b[0;36m<module>\u001b[0;34m()\u001b[0m\n",
      "\u001b[0;32m/usr/lib/python3.5/encodings/ascii.py\u001b[0m in \u001b[0;36mdecode\u001b[0;34m(self, input, final)\u001b[0m\n\u001b[1;32m     23\u001b[0m \u001b[0;34m\u001b[0m\u001b[0m\n\u001b[1;32m     24\u001b[0m \u001b[0;32mclass\u001b[0m \u001b[0mIncrementalDecoder\u001b[0m\u001b[0;34m(\u001b[0m\u001b[0mcodecs\u001b[0m\u001b[0;34m.\u001b[0m\u001b[0mIncrementalDecoder\u001b[0m\u001b[0;34m)\u001b[0m\u001b[0;34m:\u001b[0m\u001b[0;34m\u001b[0m\u001b[0m\n\u001b[0;32m---> 25\u001b[0;31m     \u001b[0;32mdef\u001b[0m \u001b[0mdecode\u001b[0m\u001b[0;34m(\u001b[0m\u001b[0mself\u001b[0m\u001b[0;34m,\u001b[0m \u001b[0minput\u001b[0m\u001b[0;34m,\u001b[0m \u001b[0mfinal\u001b[0m\u001b[0;34m=\u001b[0m\u001b[0;32mFalse\u001b[0m\u001b[0;34m)\u001b[0m\u001b[0;34m:\u001b[0m\u001b[0;34m\u001b[0m\u001b[0m\n\u001b[0m\u001b[1;32m     26\u001b[0m         \u001b[0;32mreturn\u001b[0m \u001b[0mcodecs\u001b[0m\u001b[0;34m.\u001b[0m\u001b[0mascii_decode\u001b[0m\u001b[0;34m(\u001b[0m\u001b[0minput\u001b[0m\u001b[0;34m,\u001b[0m \u001b[0mself\u001b[0m\u001b[0;34m.\u001b[0m\u001b[0merrors\u001b[0m\u001b[0;34m)\u001b[0m\u001b[0;34m[\u001b[0m\u001b[0;36m0\u001b[0m\u001b[0;34m]\u001b[0m\u001b[0;34m\u001b[0m\u001b[0m\n\u001b[1;32m     27\u001b[0m \u001b[0;34m\u001b[0m\u001b[0m\n",
      "\u001b[0;31mKeyboardInterrupt\u001b[0m: "
     ]
    }
   ],
   "source": [
    "%%time\n",
    "\n",
    "with open(\"../data/\" + xmlpath, \"r\") as f:\n",
    "    lnum = 0\n",
    "    fpos = 0\n",
    "    line = f.readline()\n",
    "    while line:\n",
    "        lnum += 1\n",
    "        line = f.readline()\n",
    "        fpos = f.tell()\n"
   ]
  },
  {
   "cell_type": "code",
   "execution_count": null,
   "metadata": {},
   "outputs": [],
   "source": []
  },
  {
   "cell_type": "markdown",
   "metadata": {},
   "source": [
    "### Whoosh trial\n",
    "\n",
    "Conclusion: indexing is too slow and we can't use it."
   ]
  },
  {
   "cell_type": "code",
   "execution_count": 6,
   "metadata": {},
   "outputs": [],
   "source": [
    "from whoosh.index import create_in\n",
    "from whoosh.fields import *\n",
    "import os, os.path\n"
   ]
  },
  {
   "cell_type": "code",
   "execution_count": null,
   "metadata": {},
   "outputs": [],
   "source": []
  },
  {
   "cell_type": "code",
   "execution_count": 14,
   "metadata": {},
   "outputs": [],
   "source": [
    "schema = Schema(path=ID(stored=True), line_num=NUMERIC(stored=True), pos=NUMERIC(stored=True), line=TEXT)"
   ]
  },
  {
   "cell_type": "code",
   "execution_count": 15,
   "metadata": {},
   "outputs": [],
   "source": [
    "if not os.path.exists(\"indexdir\"):\n",
    "    os.mkdir(\"indexdir\")\n",
    "\n",
    "ix = index.create_in(\"indexdir\", schema)"
   ]
  },
  {
   "cell_type": "code",
   "execution_count": 17,
   "metadata": {},
   "outputs": [],
   "source": [
    "writer = ix.writer()"
   ]
  },
  {
   "cell_type": "code",
   "execution_count": 18,
   "metadata": {},
   "outputs": [],
   "source": [
    "xmlpath = \"application2017/ipa170105.xml\""
   ]
  },
  {
   "cell_type": "code",
   "execution_count": 21,
   "metadata": {},
   "outputs": [
    {
     "ename": "KeyboardInterrupt",
     "evalue": "",
     "output_type": "error",
     "traceback": [
      "\u001b[0;31m---------------------------------------------------------------------------\u001b[0m",
      "\u001b[0;31mKeyboardInterrupt\u001b[0m                         Traceback (most recent call last)",
      "\u001b[0;32m<ipython-input-21-741c168215b1>\u001b[0m in \u001b[0;36m<module>\u001b[0;34m()\u001b[0m\n\u001b[1;32m      5\u001b[0m     \u001b[0;32mwhile\u001b[0m \u001b[0mline\u001b[0m\u001b[0;34m:\u001b[0m\u001b[0;34m\u001b[0m\u001b[0m\n\u001b[1;32m      6\u001b[0m         \u001b[0mlnum\u001b[0m \u001b[0;34m+=\u001b[0m \u001b[0;36m1\u001b[0m\u001b[0;34m\u001b[0m\u001b[0m\n\u001b[0;32m----> 7\u001b[0;31m         \u001b[0mwriter\u001b[0m\u001b[0;34m.\u001b[0m\u001b[0madd_document\u001b[0m\u001b[0;34m(\u001b[0m\u001b[0mpath\u001b[0m\u001b[0;34m=\u001b[0m\u001b[0mxmlpath\u001b[0m\u001b[0;34m,\u001b[0m \u001b[0mline\u001b[0m\u001b[0;34m=\u001b[0m\u001b[0mline\u001b[0m\u001b[0;34m,\u001b[0m \u001b[0mline_num\u001b[0m\u001b[0;34m=\u001b[0m\u001b[0mlnum\u001b[0m\u001b[0;34m,\u001b[0m \u001b[0mpos\u001b[0m\u001b[0;34m=\u001b[0m\u001b[0mfpos\u001b[0m\u001b[0;34m)\u001b[0m\u001b[0;34m\u001b[0m\u001b[0m\n\u001b[0m\u001b[1;32m      8\u001b[0m         \u001b[0mline\u001b[0m \u001b[0;34m=\u001b[0m \u001b[0mf\u001b[0m\u001b[0;34m.\u001b[0m\u001b[0mreadline\u001b[0m\u001b[0;34m(\u001b[0m\u001b[0;34m)\u001b[0m\u001b[0;34m\u001b[0m\u001b[0m\n\u001b[1;32m      9\u001b[0m         \u001b[0mfpos\u001b[0m \u001b[0;34m=\u001b[0m \u001b[0mf\u001b[0m\u001b[0;34m.\u001b[0m\u001b[0mtell\u001b[0m\u001b[0;34m(\u001b[0m\u001b[0;34m)\u001b[0m\u001b[0;34m\u001b[0m\u001b[0m\n",
      "\u001b[0;32m/usr/local/lib/python3.5/dist-packages/whoosh/writing.py\u001b[0m in \u001b[0;36madd_document\u001b[0;34m(self, **fields)\u001b[0m\n\u001b[1;32m    748\u001b[0m                 \u001b[0mscorable\u001b[0m \u001b[0;34m=\u001b[0m \u001b[0mfield\u001b[0m\u001b[0;34m.\u001b[0m\u001b[0mscorable\u001b[0m\u001b[0;34m\u001b[0m\u001b[0m\n\u001b[1;32m    749\u001b[0m                 \u001b[0;31m# Add the terms to the pool\u001b[0m\u001b[0;34m\u001b[0m\u001b[0;34m\u001b[0m\u001b[0m\n\u001b[0;32m--> 750\u001b[0;31m                 \u001b[0;32mfor\u001b[0m \u001b[0mtbytes\u001b[0m\u001b[0;34m,\u001b[0m \u001b[0mfreq\u001b[0m\u001b[0;34m,\u001b[0m \u001b[0mweight\u001b[0m\u001b[0;34m,\u001b[0m \u001b[0mvbytes\u001b[0m \u001b[0;32min\u001b[0m \u001b[0mitems\u001b[0m\u001b[0;34m:\u001b[0m\u001b[0;34m\u001b[0m\u001b[0m\n\u001b[0m\u001b[1;32m    751\u001b[0m                     \u001b[0mweight\u001b[0m \u001b[0;34m*=\u001b[0m \u001b[0mfieldboost\u001b[0m\u001b[0;34m\u001b[0m\u001b[0m\n\u001b[1;32m    752\u001b[0m                     \u001b[0;32mif\u001b[0m \u001b[0mscorable\u001b[0m\u001b[0;34m:\u001b[0m\u001b[0;34m\u001b[0m\u001b[0m\n",
      "\u001b[0;32m/usr/local/lib/python3.5/dist-packages/whoosh/fields.py\u001b[0m in \u001b[0;36mindex\u001b[0;34m(self, value, **kwargs)\u001b[0m\n\u001b[1;32m    162\u001b[0m         \u001b[0mword_values\u001b[0m \u001b[0;34m=\u001b[0m \u001b[0mself\u001b[0m\u001b[0;34m.\u001b[0m\u001b[0mformat\u001b[0m\u001b[0;34m.\u001b[0m\u001b[0mword_values\u001b[0m\u001b[0;34m\u001b[0m\u001b[0m\n\u001b[1;32m    163\u001b[0m         \u001b[0mana\u001b[0m \u001b[0;34m=\u001b[0m \u001b[0mself\u001b[0m\u001b[0;34m.\u001b[0m\u001b[0manalyzer\u001b[0m\u001b[0;34m\u001b[0m\u001b[0m\n\u001b[0;32m--> 164\u001b[0;31m         \u001b[0;32mfor\u001b[0m \u001b[0mtstring\u001b[0m\u001b[0;34m,\u001b[0m \u001b[0mfreq\u001b[0m\u001b[0;34m,\u001b[0m \u001b[0mwt\u001b[0m\u001b[0;34m,\u001b[0m \u001b[0mvbytes\u001b[0m \u001b[0;32min\u001b[0m \u001b[0mword_values\u001b[0m\u001b[0;34m(\u001b[0m\u001b[0mvalue\u001b[0m\u001b[0;34m,\u001b[0m \u001b[0mana\u001b[0m\u001b[0;34m,\u001b[0m \u001b[0;34m**\u001b[0m\u001b[0mkwargs\u001b[0m\u001b[0;34m)\u001b[0m\u001b[0;34m:\u001b[0m\u001b[0;34m\u001b[0m\u001b[0m\n\u001b[0m\u001b[1;32m    165\u001b[0m             \u001b[0;32myield\u001b[0m \u001b[0;34m(\u001b[0m\u001b[0mutf8encode\u001b[0m\u001b[0;34m(\u001b[0m\u001b[0mtstring\u001b[0m\u001b[0;34m)\u001b[0m\u001b[0;34m[\u001b[0m\u001b[0;36m0\u001b[0m\u001b[0;34m]\u001b[0m\u001b[0;34m,\u001b[0m \u001b[0mfreq\u001b[0m\u001b[0;34m,\u001b[0m \u001b[0mwt\u001b[0m\u001b[0;34m,\u001b[0m \u001b[0mvbytes\u001b[0m\u001b[0;34m)\u001b[0m\u001b[0;34m\u001b[0m\u001b[0m\n\u001b[1;32m    166\u001b[0m \u001b[0;34m\u001b[0m\u001b[0m\n",
      "\u001b[0;32m/usr/local/lib/python3.5/dist-packages/whoosh/formats.py\u001b[0m in \u001b[0;36mword_values\u001b[0;34m(self, value, analyzer, **kwargs)\u001b[0m\n\u001b[1;32m    221\u001b[0m         \u001b[0mkwargs\u001b[0m\u001b[0;34m[\u001b[0m\u001b[0;34m\"positions\"\u001b[0m\u001b[0;34m]\u001b[0m \u001b[0;34m=\u001b[0m \u001b[0;32mTrue\u001b[0m\u001b[0;34m\u001b[0m\u001b[0m\n\u001b[1;32m    222\u001b[0m         \u001b[0mkwargs\u001b[0m\u001b[0;34m[\u001b[0m\u001b[0;34m\"boosts\"\u001b[0m\u001b[0;34m]\u001b[0m \u001b[0;34m=\u001b[0m \u001b[0;32mTrue\u001b[0m\u001b[0;34m\u001b[0m\u001b[0m\n\u001b[0;32m--> 223\u001b[0;31m         \u001b[0;32mfor\u001b[0m \u001b[0mt\u001b[0m \u001b[0;32min\u001b[0m \u001b[0mtokens\u001b[0m\u001b[0;34m(\u001b[0m\u001b[0mvalue\u001b[0m\u001b[0;34m,\u001b[0m \u001b[0manalyzer\u001b[0m\u001b[0;34m,\u001b[0m \u001b[0mkwargs\u001b[0m\u001b[0;34m)\u001b[0m\u001b[0;34m:\u001b[0m\u001b[0;34m\u001b[0m\u001b[0m\n\u001b[0m\u001b[1;32m    224\u001b[0m             \u001b[0mposes\u001b[0m\u001b[0;34m[\u001b[0m\u001b[0mt\u001b[0m\u001b[0;34m.\u001b[0m\u001b[0mtext\u001b[0m\u001b[0;34m]\u001b[0m\u001b[0;34m.\u001b[0m\u001b[0mappend\u001b[0m\u001b[0;34m(\u001b[0m\u001b[0mt\u001b[0m\u001b[0;34m.\u001b[0m\u001b[0mpos\u001b[0m\u001b[0;34m)\u001b[0m\u001b[0;34m\u001b[0m\u001b[0m\n\u001b[1;32m    225\u001b[0m             \u001b[0mweights\u001b[0m\u001b[0;34m[\u001b[0m\u001b[0mt\u001b[0m\u001b[0;34m.\u001b[0m\u001b[0mtext\u001b[0m\u001b[0;34m]\u001b[0m \u001b[0;34m+=\u001b[0m \u001b[0mt\u001b[0m\u001b[0;34m.\u001b[0m\u001b[0mboost\u001b[0m\u001b[0;34m\u001b[0m\u001b[0m\n",
      "\u001b[0;32m/usr/local/lib/python3.5/dist-packages/whoosh/analysis/acore.py\u001b[0m in \u001b[0;36m<genexpr>\u001b[0;34m(.0)\u001b[0m\n\u001b[1;32m     40\u001b[0m     \"\"\"Removes tokens from a token stream where token.stopped = True.\n\u001b[1;32m     41\u001b[0m     \"\"\"\n\u001b[0;32m---> 42\u001b[0;31m     \u001b[0;32mreturn\u001b[0m \u001b[0;34m(\u001b[0m\u001b[0mt\u001b[0m \u001b[0;32mfor\u001b[0m \u001b[0mt\u001b[0m \u001b[0;32min\u001b[0m \u001b[0mtokenstream\u001b[0m \u001b[0;32mif\u001b[0m \u001b[0;32mnot\u001b[0m \u001b[0mt\u001b[0m\u001b[0;34m.\u001b[0m\u001b[0mstopped\u001b[0m\u001b[0;34m)\u001b[0m\u001b[0;34m\u001b[0m\u001b[0m\n\u001b[0m\u001b[1;32m     43\u001b[0m \u001b[0;34m\u001b[0m\u001b[0m\n\u001b[1;32m     44\u001b[0m \u001b[0;34m\u001b[0m\u001b[0m\n",
      "\u001b[0;32m/usr/local/lib/python3.5/dist-packages/whoosh/analysis/filters.py\u001b[0m in \u001b[0;36m__call__\u001b[0;34m(self, tokens)\u001b[0m\n\u001b[1;32m    299\u001b[0m \u001b[0;34m\u001b[0m\u001b[0m\n\u001b[1;32m    300\u001b[0m         \u001b[0mpos\u001b[0m \u001b[0;34m=\u001b[0m \u001b[0;32mNone\u001b[0m\u001b[0;34m\u001b[0m\u001b[0m\n\u001b[0;32m--> 301\u001b[0;31m         \u001b[0;32mfor\u001b[0m \u001b[0mt\u001b[0m \u001b[0;32min\u001b[0m \u001b[0mtokens\u001b[0m\u001b[0;34m:\u001b[0m\u001b[0;34m\u001b[0m\u001b[0m\n\u001b[0m\u001b[1;32m    302\u001b[0m             \u001b[0mtext\u001b[0m \u001b[0;34m=\u001b[0m \u001b[0mt\u001b[0m\u001b[0;34m.\u001b[0m\u001b[0mtext\u001b[0m\u001b[0;34m\u001b[0m\u001b[0m\n\u001b[1;32m    303\u001b[0m             if (len(text) >= minsize\n",
      "\u001b[0;32m/usr/local/lib/python3.5/dist-packages/whoosh/analysis/filters.py\u001b[0m in \u001b[0;36m__call__\u001b[0;34m(self, tokens)\u001b[0m\n\u001b[1;32m    223\u001b[0m \u001b[0;34m\u001b[0m\u001b[0m\n\u001b[1;32m    224\u001b[0m     \u001b[0;32mdef\u001b[0m \u001b[0m__call__\u001b[0m\u001b[0;34m(\u001b[0m\u001b[0mself\u001b[0m\u001b[0;34m,\u001b[0m \u001b[0mtokens\u001b[0m\u001b[0;34m)\u001b[0m\u001b[0;34m:\u001b[0m\u001b[0;34m\u001b[0m\u001b[0m\n\u001b[0;32m--> 225\u001b[0;31m         \u001b[0;32mfor\u001b[0m \u001b[0mt\u001b[0m \u001b[0;32min\u001b[0m \u001b[0mtokens\u001b[0m\u001b[0;34m:\u001b[0m\u001b[0;34m\u001b[0m\u001b[0m\n\u001b[0m\u001b[1;32m    226\u001b[0m             \u001b[0mt\u001b[0m\u001b[0;34m.\u001b[0m\u001b[0mtext\u001b[0m \u001b[0;34m=\u001b[0m \u001b[0mt\u001b[0m\u001b[0;34m.\u001b[0m\u001b[0mtext\u001b[0m\u001b[0;34m.\u001b[0m\u001b[0mlower\u001b[0m\u001b[0;34m(\u001b[0m\u001b[0;34m)\u001b[0m\u001b[0;34m\u001b[0m\u001b[0m\n\u001b[1;32m    227\u001b[0m             \u001b[0;32myield\u001b[0m \u001b[0mt\u001b[0m\u001b[0;34m\u001b[0m\u001b[0m\n",
      "\u001b[0;32m/usr/local/lib/python3.5/dist-packages/whoosh/analysis/tokenizers.py\u001b[0m in \u001b[0;36m__call__\u001b[0;34m(self, value, positions, chars, keeporiginal, removestops, start_pos, start_char, tokenize, mode, **kwargs)\u001b[0m\n\u001b[1;32m    131\u001b[0m         \u001b[0;32melif\u001b[0m \u001b[0;32mnot\u001b[0m \u001b[0mself\u001b[0m\u001b[0;34m.\u001b[0m\u001b[0mgaps\u001b[0m\u001b[0;34m:\u001b[0m\u001b[0;34m\u001b[0m\u001b[0m\n\u001b[1;32m    132\u001b[0m             \u001b[0;31m# The default: expression matches are used as tokens\u001b[0m\u001b[0;34m\u001b[0m\u001b[0;34m\u001b[0m\u001b[0m\n\u001b[0;32m--> 133\u001b[0;31m             \u001b[0;32mfor\u001b[0m \u001b[0mpos\u001b[0m\u001b[0;34m,\u001b[0m \u001b[0mmatch\u001b[0m \u001b[0;32min\u001b[0m \u001b[0menumerate\u001b[0m\u001b[0;34m(\u001b[0m\u001b[0mself\u001b[0m\u001b[0;34m.\u001b[0m\u001b[0mexpression\u001b[0m\u001b[0;34m.\u001b[0m\u001b[0mfinditer\u001b[0m\u001b[0;34m(\u001b[0m\u001b[0mvalue\u001b[0m\u001b[0;34m)\u001b[0m\u001b[0;34m)\u001b[0m\u001b[0;34m:\u001b[0m\u001b[0;34m\u001b[0m\u001b[0m\n\u001b[0m\u001b[1;32m    134\u001b[0m                 \u001b[0mt\u001b[0m\u001b[0;34m.\u001b[0m\u001b[0mtext\u001b[0m \u001b[0;34m=\u001b[0m \u001b[0mmatch\u001b[0m\u001b[0;34m.\u001b[0m\u001b[0mgroup\u001b[0m\u001b[0;34m(\u001b[0m\u001b[0;36m0\u001b[0m\u001b[0;34m)\u001b[0m\u001b[0;34m\u001b[0m\u001b[0m\n\u001b[1;32m    135\u001b[0m                 \u001b[0mt\u001b[0m\u001b[0;34m.\u001b[0m\u001b[0mboost\u001b[0m \u001b[0;34m=\u001b[0m \u001b[0;36m1.0\u001b[0m\u001b[0;34m\u001b[0m\u001b[0m\n",
      "\u001b[0;31mKeyboardInterrupt\u001b[0m: "
     ]
    }
   ],
   "source": [
    "with open(\"../data/\" + xmlpath, \"r\") as f:\n",
    "    lnum = 0\n",
    "    fpos = 0\n",
    "    line = f.readline()\n",
    "    while line:\n",
    "        lnum += 1\n",
    "        writer.add_document(path=xmlpath, line=line, line_num=lnum, pos=fpos)\n",
    "        line = f.readline()\n",
    "        fpos = f.tell()\n",
    "\n",
    "writer.commit()\n",
    "ix.close()"
   ]
  },
  {
   "cell_type": "code",
   "execution_count": null,
   "metadata": {},
   "outputs": [],
   "source": []
  },
  {
   "cell_type": "code",
   "execution_count": null,
   "metadata": {},
   "outputs": [],
   "source": []
  },
  {
   "cell_type": "code",
   "execution_count": null,
   "metadata": {},
   "outputs": [],
   "source": []
  },
  {
   "cell_type": "code",
   "execution_count": null,
   "metadata": {},
   "outputs": [],
   "source": []
  },
  {
   "cell_type": "code",
   "execution_count": null,
   "metadata": {},
   "outputs": [],
   "source": []
  },
  {
   "cell_type": "code",
   "execution_count": null,
   "metadata": {},
   "outputs": [],
   "source": []
  },
  {
   "cell_type": "code",
   "execution_count": null,
   "metadata": {},
   "outputs": [],
   "source": []
  }
 ],
 "metadata": {
  "kernelspec": {
   "display_name": "Python 3",
   "language": "python",
   "name": "python3"
  }
 },
 "nbformat": 4,
 "nbformat_minor": 2
}
