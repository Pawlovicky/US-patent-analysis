{
 "cells": [
  {
   "cell_type": "code",
   "execution_count": 1,
   "metadata": {},
   "outputs": [],
   "source": [
    "import pandas as pd"
   ]
  },
  {
   "cell_type": "code",
   "execution_count": null,
   "metadata": {},
   "outputs": [],
   "source": []
  },
  {
   "cell_type": "code",
   "execution_count": null,
   "metadata": {},
   "outputs": [],
   "source": []
  },
  {
   "cell_type": "markdown",
   "metadata": {},
   "source": [
    "### Filter citation only for app_id 15..."
   ]
  },
  {
   "cell_type": "markdown",
   "metadata": {},
   "source": [
    "Below cell need memory more than 15GB."
   ]
  },
  {
   "cell_type": "code",
   "execution_count": 2,
   "metadata": {},
   "outputs": [],
   "source": [
    "citations = pd.read_csv(\"../data/citations.csv\")"
   ]
  },
  {
   "cell_type": "code",
   "execution_count": 3,
   "metadata": {},
   "outputs": [
    {
     "data": {
      "text/html": [
       "<div>\n",
       "<style scoped>\n",
       "    .dataframe tbody tr th:only-of-type {\n",
       "        vertical-align: middle;\n",
       "    }\n",
       "\n",
       "    .dataframe tbody tr th {\n",
       "        vertical-align: top;\n",
       "    }\n",
       "\n",
       "    .dataframe thead th {\n",
       "        text-align: right;\n",
       "    }\n",
       "</style>\n",
       "<table border=\"1\" class=\"dataframe\">\n",
       "  <thead>\n",
       "    <tr style=\"text-align: right;\">\n",
       "      <th></th>\n",
       "      <th>app_id</th>\n",
       "      <th>citation_pat_pgpub_id</th>\n",
       "      <th>parsed</th>\n",
       "      <th>ifw_number</th>\n",
       "      <th>action_type</th>\n",
       "      <th>action_subtype</th>\n",
       "      <th>form892</th>\n",
       "      <th>form1449</th>\n",
       "      <th>citation_in_oa</th>\n",
       "    </tr>\n",
       "  </thead>\n",
       "  <tbody>\n",
       "    <tr>\n",
       "      <th>0</th>\n",
       "      <td>12000001</td>\n",
       "      <td>20060218340</td>\n",
       "      <td>20060218340</td>\n",
       "      <td>NaN</td>\n",
       "      <td>NaN</td>\n",
       "      <td>NaN</td>\n",
       "      <td>0</td>\n",
       "      <td>1</td>\n",
       "      <td>0</td>\n",
       "    </tr>\n",
       "    <tr>\n",
       "      <th>1</th>\n",
       "      <td>12000001</td>\n",
       "      <td>2343564</td>\n",
       "      <td>2343564</td>\n",
       "      <td>NaN</td>\n",
       "      <td>NaN</td>\n",
       "      <td>NaN</td>\n",
       "      <td>1</td>\n",
       "      <td>0</td>\n",
       "      <td>0</td>\n",
       "    </tr>\n",
       "    <tr>\n",
       "      <th>2</th>\n",
       "      <td>12000001</td>\n",
       "      <td>6622200</td>\n",
       "      <td>6622200</td>\n",
       "      <td>NaN</td>\n",
       "      <td>NaN</td>\n",
       "      <td>NaN</td>\n",
       "      <td>1</td>\n",
       "      <td>0</td>\n",
       "      <td>0</td>\n",
       "    </tr>\n",
       "    <tr>\n",
       "      <th>3</th>\n",
       "      <td>12000001</td>\n",
       "      <td>6182004</td>\n",
       "      <td>6182004</td>\n",
       "      <td>NaN</td>\n",
       "      <td>NaN</td>\n",
       "      <td>NaN</td>\n",
       "      <td>0</td>\n",
       "      <td>1</td>\n",
       "      <td>0</td>\n",
       "    </tr>\n",
       "    <tr>\n",
       "      <th>4</th>\n",
       "      <td>12000001</td>\n",
       "      <td>2323432</td>\n",
       "      <td>2323432</td>\n",
       "      <td>NaN</td>\n",
       "      <td>NaN</td>\n",
       "      <td>NaN</td>\n",
       "      <td>1</td>\n",
       "      <td>0</td>\n",
       "      <td>0</td>\n",
       "    </tr>\n",
       "  </tbody>\n",
       "</table>\n",
       "</div>"
      ],
      "text/plain": [
       "     app_id citation_pat_pgpub_id       parsed ifw_number  action_type  \\\n",
       "0  12000001           20060218340  20060218340        NaN          NaN   \n",
       "1  12000001               2343564      2343564        NaN          NaN   \n",
       "2  12000001               6622200      6622200        NaN          NaN   \n",
       "3  12000001               6182004      6182004        NaN          NaN   \n",
       "4  12000001               2323432      2323432        NaN          NaN   \n",
       "\n",
       "  action_subtype  form892  form1449  citation_in_oa  \n",
       "0            NaN        0         1               0  \n",
       "1            NaN        1         0               0  \n",
       "2            NaN        1         0               0  \n",
       "3            NaN        0         1               0  \n",
       "4            NaN        1         0               0  "
      ]
     },
     "execution_count": 3,
     "metadata": {},
     "output_type": "execute_result"
    }
   ],
   "source": [
    "citations.head()"
   ]
  },
  {
   "cell_type": "code",
   "execution_count": 14,
   "metadata": {},
   "outputs": [
    {
     "data": {
      "text/plain": [
       "58862278"
      ]
     },
     "execution_count": 14,
     "metadata": {},
     "output_type": "execute_result"
    }
   ],
   "source": [
    "len(citations)"
   ]
  },
  {
   "cell_type": "code",
   "execution_count": null,
   "metadata": {},
   "outputs": [],
   "source": []
  },
  {
   "cell_type": "markdown",
   "metadata": {},
   "source": [
    "https://patentlibrarian.com/reference-library/u-s-application-series-codes/\n",
    "\n",
    "Collect citation including 2017, which is, app_id begins with 15.\n",
    "\n",
    "- 14 2013, August - 2016, Jan?\n",
    "- 15 2016, Jan - Present?\n",
    "\n"
   ]
  },
  {
   "cell_type": "code",
   "execution_count": 11,
   "metadata": {},
   "outputs": [],
   "source": [
    "citations_15 = citations[(citations.app_id >= 15000000) & (citations.app_id < 16000000)]"
   ]
  },
  {
   "cell_type": "code",
   "execution_count": 12,
   "metadata": {},
   "outputs": [
    {
     "data": {
      "text/html": [
       "<div>\n",
       "<style scoped>\n",
       "    .dataframe tbody tr th:only-of-type {\n",
       "        vertical-align: middle;\n",
       "    }\n",
       "\n",
       "    .dataframe tbody tr th {\n",
       "        vertical-align: top;\n",
       "    }\n",
       "\n",
       "    .dataframe thead th {\n",
       "        text-align: right;\n",
       "    }\n",
       "</style>\n",
       "<table border=\"1\" class=\"dataframe\">\n",
       "  <thead>\n",
       "    <tr style=\"text-align: right;\">\n",
       "      <th></th>\n",
       "      <th>app_id</th>\n",
       "      <th>citation_pat_pgpub_id</th>\n",
       "      <th>parsed</th>\n",
       "      <th>ifw_number</th>\n",
       "      <th>action_type</th>\n",
       "      <th>action_subtype</th>\n",
       "      <th>form892</th>\n",
       "      <th>form1449</th>\n",
       "      <th>citation_in_oa</th>\n",
       "    </tr>\n",
       "  </thead>\n",
       "  <tbody>\n",
       "    <tr>\n",
       "      <th>57732192</th>\n",
       "      <td>15000008</td>\n",
       "      <td>8291627</td>\n",
       "      <td>8291627</td>\n",
       "      <td>NaN</td>\n",
       "      <td>NaN</td>\n",
       "      <td>NaN</td>\n",
       "      <td>1</td>\n",
       "      <td>0</td>\n",
       "      <td>0</td>\n",
       "    </tr>\n",
       "    <tr>\n",
       "      <th>57732193</th>\n",
       "      <td>15000008</td>\n",
       "      <td>2093620</td>\n",
       "      <td>2093620</td>\n",
       "      <td>NaN</td>\n",
       "      <td>NaN</td>\n",
       "      <td>NaN</td>\n",
       "      <td>1</td>\n",
       "      <td>0</td>\n",
       "      <td>0</td>\n",
       "    </tr>\n",
       "    <tr>\n",
       "      <th>57732194</th>\n",
       "      <td>15000008</td>\n",
       "      <td>9221406</td>\n",
       "      <td>9221406</td>\n",
       "      <td>NaN</td>\n",
       "      <td>NaN</td>\n",
       "      <td>NaN</td>\n",
       "      <td>1</td>\n",
       "      <td>0</td>\n",
       "      <td>0</td>\n",
       "    </tr>\n",
       "    <tr>\n",
       "      <th>57732195</th>\n",
       "      <td>15000008</td>\n",
       "      <td>8544198</td>\n",
       "      <td>8544198</td>\n",
       "      <td>NaN</td>\n",
       "      <td>NaN</td>\n",
       "      <td>NaN</td>\n",
       "      <td>1</td>\n",
       "      <td>0</td>\n",
       "      <td>0</td>\n",
       "    </tr>\n",
       "    <tr>\n",
       "      <th>57732196</th>\n",
       "      <td>15000008</td>\n",
       "      <td>7225569</td>\n",
       "      <td>7225569</td>\n",
       "      <td>NaN</td>\n",
       "      <td>NaN</td>\n",
       "      <td>NaN</td>\n",
       "      <td>1</td>\n",
       "      <td>0</td>\n",
       "      <td>0</td>\n",
       "    </tr>\n",
       "  </tbody>\n",
       "</table>\n",
       "</div>"
      ],
      "text/plain": [
       "            app_id citation_pat_pgpub_id   parsed ifw_number  action_type  \\\n",
       "57732192  15000008               8291627  8291627        NaN          NaN   \n",
       "57732193  15000008               2093620  2093620        NaN          NaN   \n",
       "57732194  15000008               9221406  9221406        NaN          NaN   \n",
       "57732195  15000008               8544198  8544198        NaN          NaN   \n",
       "57732196  15000008               7225569  7225569        NaN          NaN   \n",
       "\n",
       "         action_subtype  form892  form1449  citation_in_oa  \n",
       "57732192            NaN        1         0               0  \n",
       "57732193            NaN        1         0               0  \n",
       "57732194            NaN        1         0               0  \n",
       "57732195            NaN        1         0               0  \n",
       "57732196            NaN        1         0               0  "
      ]
     },
     "execution_count": 12,
     "metadata": {},
     "output_type": "execute_result"
    }
   ],
   "source": [
    "citations_15.head()"
   ]
  },
  {
   "cell_type": "code",
   "execution_count": 13,
   "metadata": {},
   "outputs": [
    {
     "data": {
      "text/plain": [
       "1130086"
      ]
     },
     "execution_count": 13,
     "metadata": {},
     "output_type": "execute_result"
    }
   ],
   "source": [
    "len(citations_15)"
   ]
  },
  {
   "cell_type": "code",
   "execution_count": 15,
   "metadata": {},
   "outputs": [],
   "source": [
    "citations_15.to_pickle(\"../data/citations_15.dat\")"
   ]
  },
  {
   "cell_type": "code",
   "execution_count": null,
   "metadata": {},
   "outputs": [],
   "source": []
  },
  {
   "cell_type": "markdown",
   "metadata": {},
   "source": [
    "### Filer office_actions of app_id starts with 15... only"
   ]
  },
  {
   "cell_type": "code",
   "execution_count": null,
   "metadata": {},
   "outputs": [],
   "source": []
  },
  {
   "cell_type": "code",
   "execution_count": 4,
   "metadata": {
    "scrolled": true
   },
   "outputs": [
    {
     "name": "stderr",
     "output_type": "stream",
     "text": [
      "/usr/local/lib/python3.5/dist-packages/IPython/core/interactiveshell.py:2728: DtypeWarning: Columns (1,4,5) have mixed types. Specify dtype option on import or set low_memory=False.\n",
      "  interactivity=interactivity, compiler=compiler, result=result)\n"
     ]
    }
   ],
   "source": [
    "office_actions = pd.read_csv(\"../data/office_actions.csv\")"
   ]
  },
  {
   "cell_type": "code",
   "execution_count": 5,
   "metadata": {},
   "outputs": [
    {
     "data": {
      "text/plain": [
       "4384532"
      ]
     },
     "execution_count": 5,
     "metadata": {},
     "output_type": "execute_result"
    }
   ],
   "source": [
    "len(office_actions)"
   ]
  },
  {
   "cell_type": "code",
   "execution_count": 6,
   "metadata": {},
   "outputs": [
    {
     "data": {
      "text/html": [
       "<div>\n",
       "<style scoped>\n",
       "    .dataframe tbody tr th:only-of-type {\n",
       "        vertical-align: middle;\n",
       "    }\n",
       "\n",
       "    .dataframe tbody tr th {\n",
       "        vertical-align: top;\n",
       "    }\n",
       "\n",
       "    .dataframe thead th {\n",
       "        text-align: right;\n",
       "    }\n",
       "</style>\n",
       "<table border=\"1\" class=\"dataframe\">\n",
       "  <thead>\n",
       "    <tr style=\"text-align: right;\">\n",
       "      <th></th>\n",
       "      <th>app_id</th>\n",
       "      <th>ifw_number</th>\n",
       "      <th>document_cd</th>\n",
       "      <th>mail_dt</th>\n",
       "      <th>art_unit</th>\n",
       "      <th>uspc_class</th>\n",
       "      <th>uspc_subclass</th>\n",
       "      <th>header_missing</th>\n",
       "      <th>fp_missing</th>\n",
       "      <th>rejection_fp_mismatch</th>\n",
       "      <th>...</th>\n",
       "      <th>rejection_103</th>\n",
       "      <th>rejection_112</th>\n",
       "      <th>rejection_dp</th>\n",
       "      <th>objection</th>\n",
       "      <th>allowed_claims</th>\n",
       "      <th>cite102_gt1</th>\n",
       "      <th>cite103_gt3</th>\n",
       "      <th>cite103_eq1</th>\n",
       "      <th>cite103_max</th>\n",
       "      <th>signature_type</th>\n",
       "    </tr>\n",
       "  </thead>\n",
       "  <tbody>\n",
       "    <tr>\n",
       "      <th>0</th>\n",
       "      <td>14150981</td>\n",
       "      <td>100867762</td>\n",
       "      <td>CTFR</td>\n",
       "      <td>2015-10-15</td>\n",
       "      <td>2632</td>\n",
       "      <td>375</td>\n",
       "      <td>219000</td>\n",
       "      <td>0</td>\n",
       "      <td>0</td>\n",
       "      <td>0</td>\n",
       "      <td>...</td>\n",
       "      <td>1</td>\n",
       "      <td>0</td>\n",
       "      <td>0</td>\n",
       "      <td>0</td>\n",
       "      <td>0</td>\n",
       "      <td>0</td>\n",
       "      <td>0</td>\n",
       "      <td>1</td>\n",
       "      <td>2</td>\n",
       "      <td>1</td>\n",
       "    </tr>\n",
       "    <tr>\n",
       "      <th>1</th>\n",
       "      <td>14198961</td>\n",
       "      <td>100867788</td>\n",
       "      <td>CTFR</td>\n",
       "      <td>2015-10-15</td>\n",
       "      <td>2699</td>\n",
       "      <td>345</td>\n",
       "      <td>173000</td>\n",
       "      <td>0</td>\n",
       "      <td>0</td>\n",
       "      <td>0</td>\n",
       "      <td>...</td>\n",
       "      <td>1</td>\n",
       "      <td>0</td>\n",
       "      <td>0</td>\n",
       "      <td>0</td>\n",
       "      <td>0</td>\n",
       "      <td>0</td>\n",
       "      <td>0</td>\n",
       "      <td>0</td>\n",
       "      <td>2</td>\n",
       "      <td>1</td>\n",
       "    </tr>\n",
       "    <tr>\n",
       "      <th>2</th>\n",
       "      <td>13796589</td>\n",
       "      <td>100867794</td>\n",
       "      <td>CTNF</td>\n",
       "      <td>2015-10-15</td>\n",
       "      <td>3776</td>\n",
       "      <td>606</td>\n",
       "      <td>159000</td>\n",
       "      <td>0</td>\n",
       "      <td>0</td>\n",
       "      <td>0</td>\n",
       "      <td>...</td>\n",
       "      <td>1</td>\n",
       "      <td>0</td>\n",
       "      <td>0</td>\n",
       "      <td>0</td>\n",
       "      <td>0</td>\n",
       "      <td>0</td>\n",
       "      <td>0</td>\n",
       "      <td>0</td>\n",
       "      <td>3</td>\n",
       "      <td>3</td>\n",
       "    </tr>\n",
       "    <tr>\n",
       "      <th>3</th>\n",
       "      <td>14673475</td>\n",
       "      <td>100867844</td>\n",
       "      <td>CTNF</td>\n",
       "      <td>2015-10-15</td>\n",
       "      <td>2627</td>\n",
       "      <td>345</td>\n",
       "      <td>175000</td>\n",
       "      <td>0</td>\n",
       "      <td>0</td>\n",
       "      <td>0</td>\n",
       "      <td>...</td>\n",
       "      <td>1</td>\n",
       "      <td>1</td>\n",
       "      <td>1</td>\n",
       "      <td>0</td>\n",
       "      <td>0</td>\n",
       "      <td>0</td>\n",
       "      <td>1</td>\n",
       "      <td>0</td>\n",
       "      <td>4</td>\n",
       "      <td>1</td>\n",
       "    </tr>\n",
       "    <tr>\n",
       "      <th>4</th>\n",
       "      <td>14669113</td>\n",
       "      <td>100867850</td>\n",
       "      <td>CTNF</td>\n",
       "      <td>2015-10-15</td>\n",
       "      <td>2666</td>\n",
       "      <td>382</td>\n",
       "      <td>118000</td>\n",
       "      <td>0</td>\n",
       "      <td>0</td>\n",
       "      <td>0</td>\n",
       "      <td>...</td>\n",
       "      <td>0</td>\n",
       "      <td>1</td>\n",
       "      <td>1</td>\n",
       "      <td>0</td>\n",
       "      <td>0</td>\n",
       "      <td>0</td>\n",
       "      <td>0</td>\n",
       "      <td>0</td>\n",
       "      <td>0</td>\n",
       "      <td>1</td>\n",
       "    </tr>\n",
       "  </tbody>\n",
       "</table>\n",
       "<p>5 rows × 23 columns</p>\n",
       "</div>"
      ],
      "text/plain": [
       "     app_id ifw_number document_cd     mail_dt art_unit uspc_class  \\\n",
       "0  14150981  100867762        CTFR  2015-10-15     2632        375   \n",
       "1  14198961  100867788        CTFR  2015-10-15     2699        345   \n",
       "2  13796589  100867794        CTNF  2015-10-15     3776        606   \n",
       "3  14673475  100867844        CTNF  2015-10-15     2627        345   \n",
       "4  14669113  100867850        CTNF  2015-10-15     2666        382   \n",
       "\n",
       "  uspc_subclass  header_missing  fp_missing  rejection_fp_mismatch  \\\n",
       "0        219000               0           0                      0   \n",
       "1        173000               0           0                      0   \n",
       "2        159000               0           0                      0   \n",
       "3        175000               0           0                      0   \n",
       "4        118000               0           0                      0   \n",
       "\n",
       "        ...        rejection_103  rejection_112  rejection_dp  objection  \\\n",
       "0       ...                    1              0             0          0   \n",
       "1       ...                    1              0             0          0   \n",
       "2       ...                    1              0             0          0   \n",
       "3       ...                    1              1             1          0   \n",
       "4       ...                    0              1             1          0   \n",
       "\n",
       "   allowed_claims  cite102_gt1  cite103_gt3  cite103_eq1  cite103_max  \\\n",
       "0               0            0            0            1            2   \n",
       "1               0            0            0            0            2   \n",
       "2               0            0            0            0            3   \n",
       "3               0            0            1            0            4   \n",
       "4               0            0            0            0            0   \n",
       "\n",
       "   signature_type  \n",
       "0               1  \n",
       "1               1  \n",
       "2               3  \n",
       "3               1  \n",
       "4               1  \n",
       "\n",
       "[5 rows x 23 columns]"
      ]
     },
     "execution_count": 6,
     "metadata": {},
     "output_type": "execute_result"
    }
   ],
   "source": [
    "office_actions.head()"
   ]
  },
  {
   "cell_type": "code",
   "execution_count": 13,
   "metadata": {},
   "outputs": [],
   "source": [
    "office_15 = office_actions[(office_actions.app_id >= 15000000) & (office_actions.app_id < 16000000)]"
   ]
  },
  {
   "cell_type": "code",
   "execution_count": 14,
   "metadata": {},
   "outputs": [
    {
     "data": {
      "text/plain": [
       "68010"
      ]
     },
     "execution_count": 14,
     "metadata": {},
     "output_type": "execute_result"
    }
   ],
   "source": [
    "len(office_15)"
   ]
  },
  {
   "cell_type": "code",
   "execution_count": 16,
   "metadata": {},
   "outputs": [],
   "source": [
    "office_15.to_pickle(\"../data/office_15.dat\")"
   ]
  },
  {
   "cell_type": "code",
   "execution_count": null,
   "metadata": {},
   "outputs": [],
   "source": []
  },
  {
   "cell_type": "code",
   "execution_count": null,
   "metadata": {},
   "outputs": [],
   "source": []
  },
  {
   "cell_type": "markdown",
   "metadata": {},
   "source": [
    "### Load citations and office actions which app_id starts with 15 only\n",
    "\n",
    "To reduce footprint, restart kernel here and reload it."
   ]
  },
  {
   "cell_type": "code",
   "execution_count": 2,
   "metadata": {},
   "outputs": [],
   "source": [
    "citations_15 = pd.read_pickle(\"../data/citations_15.dat\")"
   ]
  },
  {
   "cell_type": "code",
   "execution_count": 3,
   "metadata": {},
   "outputs": [],
   "source": [
    "office_15 = pd.read_pickle(\"../data/office_15.dat\")"
   ]
  },
  {
   "cell_type": "code",
   "execution_count": null,
   "metadata": {},
   "outputs": [],
   "source": []
  },
  {
   "cell_type": "code",
   "execution_count": 4,
   "metadata": {},
   "outputs": [
    {
     "data": {
      "text/html": [
       "<div>\n",
       "<style scoped>\n",
       "    .dataframe tbody tr th:only-of-type {\n",
       "        vertical-align: middle;\n",
       "    }\n",
       "\n",
       "    .dataframe tbody tr th {\n",
       "        vertical-align: top;\n",
       "    }\n",
       "\n",
       "    .dataframe thead th {\n",
       "        text-align: right;\n",
       "    }\n",
       "</style>\n",
       "<table border=\"1\" class=\"dataframe\">\n",
       "  <thead>\n",
       "    <tr style=\"text-align: right;\">\n",
       "      <th></th>\n",
       "      <th>app_id</th>\n",
       "      <th>ifw_number</th>\n",
       "      <th>document_cd</th>\n",
       "      <th>mail_dt</th>\n",
       "      <th>art_unit</th>\n",
       "      <th>uspc_class</th>\n",
       "      <th>uspc_subclass</th>\n",
       "      <th>header_missing</th>\n",
       "      <th>fp_missing</th>\n",
       "      <th>rejection_fp_mismatch</th>\n",
       "      <th>...</th>\n",
       "      <th>rejection_103</th>\n",
       "      <th>rejection_112</th>\n",
       "      <th>rejection_dp</th>\n",
       "      <th>objection</th>\n",
       "      <th>allowed_claims</th>\n",
       "      <th>cite102_gt1</th>\n",
       "      <th>cite103_gt3</th>\n",
       "      <th>cite103_eq1</th>\n",
       "      <th>cite103_max</th>\n",
       "      <th>signature_type</th>\n",
       "    </tr>\n",
       "  </thead>\n",
       "  <tbody>\n",
       "    <tr>\n",
       "      <th>3549653</th>\n",
       "      <td>15001440</td>\n",
       "      <td>IKIANOLHRXEAPX4</td>\n",
       "      <td>CTNF</td>\n",
       "      <td>2016-02-16</td>\n",
       "      <td>3762</td>\n",
       "      <td>607</td>\n",
       "      <td>042000</td>\n",
       "      <td>0</td>\n",
       "      <td>0</td>\n",
       "      <td>0</td>\n",
       "      <td>...</td>\n",
       "      <td>0</td>\n",
       "      <td>1</td>\n",
       "      <td>0</td>\n",
       "      <td>0</td>\n",
       "      <td>0</td>\n",
       "      <td>0</td>\n",
       "      <td>0</td>\n",
       "      <td>0</td>\n",
       "      <td>0</td>\n",
       "      <td>1</td>\n",
       "    </tr>\n",
       "    <tr>\n",
       "      <th>3560595</th>\n",
       "      <td>15009822</td>\n",
       "      <td>IKSBCEFQRXEAPX1</td>\n",
       "      <td>CTNF</td>\n",
       "      <td>2016-02-22</td>\n",
       "      <td>2139</td>\n",
       "      <td>711</td>\n",
       "      <td>162000</td>\n",
       "      <td>0</td>\n",
       "      <td>0</td>\n",
       "      <td>0</td>\n",
       "      <td>...</td>\n",
       "      <td>1</td>\n",
       "      <td>0</td>\n",
       "      <td>0</td>\n",
       "      <td>0</td>\n",
       "      <td>0</td>\n",
       "      <td>0</td>\n",
       "      <td>0</td>\n",
       "      <td>0</td>\n",
       "      <td>2</td>\n",
       "      <td>1</td>\n",
       "    </tr>\n",
       "    <tr>\n",
       "      <th>3561801</th>\n",
       "      <td>15005636</td>\n",
       "      <td>IKSG9XK1RXEAPX1</td>\n",
       "      <td>CTNF</td>\n",
       "      <td>2016-02-22</td>\n",
       "      <td>3766</td>\n",
       "      <td>600</td>\n",
       "      <td>509000</td>\n",
       "      <td>0</td>\n",
       "      <td>0</td>\n",
       "      <td>0</td>\n",
       "      <td>...</td>\n",
       "      <td>0</td>\n",
       "      <td>1</td>\n",
       "      <td>1</td>\n",
       "      <td>0</td>\n",
       "      <td>0</td>\n",
       "      <td>0</td>\n",
       "      <td>0</td>\n",
       "      <td>0</td>\n",
       "      <td>0</td>\n",
       "      <td>0</td>\n",
       "    </tr>\n",
       "    <tr>\n",
       "      <th>3562763</th>\n",
       "      <td>15002146</td>\n",
       "      <td>IKSLCJQLRXEAPX4</td>\n",
       "      <td>CTNF</td>\n",
       "      <td>2016-02-22</td>\n",
       "      <td>3723</td>\n",
       "      <td>015</td>\n",
       "      <td>104930</td>\n",
       "      <td>0</td>\n",
       "      <td>0</td>\n",
       "      <td>0</td>\n",
       "      <td>...</td>\n",
       "      <td>0</td>\n",
       "      <td>0</td>\n",
       "      <td>1</td>\n",
       "      <td>1</td>\n",
       "      <td>0</td>\n",
       "      <td>0</td>\n",
       "      <td>0</td>\n",
       "      <td>0</td>\n",
       "      <td>0</td>\n",
       "      <td>1</td>\n",
       "    </tr>\n",
       "    <tr>\n",
       "      <th>3564336</th>\n",
       "      <td>15001553</td>\n",
       "      <td>IKTT4P0TRXEAPX1</td>\n",
       "      <td>CTNF</td>\n",
       "      <td>2016-02-19</td>\n",
       "      <td>1625</td>\n",
       "      <td>514</td>\n",
       "      <td>279000</td>\n",
       "      <td>0</td>\n",
       "      <td>1</td>\n",
       "      <td>0</td>\n",
       "      <td>...</td>\n",
       "      <td>0</td>\n",
       "      <td>1</td>\n",
       "      <td>0</td>\n",
       "      <td>0</td>\n",
       "      <td>0</td>\n",
       "      <td>0</td>\n",
       "      <td>0</td>\n",
       "      <td>0</td>\n",
       "      <td>0</td>\n",
       "      <td>1</td>\n",
       "    </tr>\n",
       "  </tbody>\n",
       "</table>\n",
       "<p>5 rows × 23 columns</p>\n",
       "</div>"
      ],
      "text/plain": [
       "           app_id       ifw_number document_cd     mail_dt art_unit  \\\n",
       "3549653  15001440  IKIANOLHRXEAPX4        CTNF  2016-02-16     3762   \n",
       "3560595  15009822  IKSBCEFQRXEAPX1        CTNF  2016-02-22     2139   \n",
       "3561801  15005636  IKSG9XK1RXEAPX1        CTNF  2016-02-22     3766   \n",
       "3562763  15002146  IKSLCJQLRXEAPX4        CTNF  2016-02-22     3723   \n",
       "3564336  15001553  IKTT4P0TRXEAPX1        CTNF  2016-02-19     1625   \n",
       "\n",
       "        uspc_class uspc_subclass  header_missing  fp_missing  \\\n",
       "3549653        607        042000               0           0   \n",
       "3560595        711        162000               0           0   \n",
       "3561801        600        509000               0           0   \n",
       "3562763        015        104930               0           0   \n",
       "3564336        514        279000               0           1   \n",
       "\n",
       "         rejection_fp_mismatch       ...        rejection_103  rejection_112  \\\n",
       "3549653                      0       ...                    0              1   \n",
       "3560595                      0       ...                    1              0   \n",
       "3561801                      0       ...                    0              1   \n",
       "3562763                      0       ...                    0              0   \n",
       "3564336                      0       ...                    0              1   \n",
       "\n",
       "         rejection_dp  objection  allowed_claims  cite102_gt1  cite103_gt3  \\\n",
       "3549653             0          0               0            0            0   \n",
       "3560595             0          0               0            0            0   \n",
       "3561801             1          0               0            0            0   \n",
       "3562763             1          1               0            0            0   \n",
       "3564336             0          0               0            0            0   \n",
       "\n",
       "         cite103_eq1  cite103_max  signature_type  \n",
       "3549653            0            0               1  \n",
       "3560595            0            2               1  \n",
       "3561801            0            0               0  \n",
       "3562763            0            0               1  \n",
       "3564336            0            0               1  \n",
       "\n",
       "[5 rows x 23 columns]"
      ]
     },
     "execution_count": 4,
     "metadata": {},
     "output_type": "execute_result"
    }
   ],
   "source": [
    "office_15.head()"
   ]
  },
  {
   "cell_type": "code",
   "execution_count": null,
   "metadata": {},
   "outputs": [],
   "source": []
  },
  {
   "cell_type": "code",
   "execution_count": null,
   "metadata": {},
   "outputs": [],
   "source": []
  },
  {
   "cell_type": "code",
   "execution_count": null,
   "metadata": {},
   "outputs": [],
   "source": []
  },
  {
   "cell_type": "markdown",
   "metadata": {},
   "source": [
    "### Create poor man's index files by unix command"
   ]
  },
  {
   "cell_type": "code",
   "execution_count": 4,
   "metadata": {},
   "outputs": [],
   "source": [
    "import os, os.path"
   ]
  },
  {
   "cell_type": "code",
   "execution_count": 5,
   "metadata": {},
   "outputs": [],
   "source": [
    "INDEX_PATH=\"../data/index/\""
   ]
  },
  {
   "cell_type": "code",
   "execution_count": 4,
   "metadata": {},
   "outputs": [],
   "source": [
    "if not os.path.exists(INDEX_PATH):\n",
    "    os.mkdir(INDEX_PATH)"
   ]
  },
  {
   "cell_type": "code",
   "execution_count": null,
   "metadata": {},
   "outputs": [],
   "source": []
  },
  {
   "cell_type": "code",
   "execution_count": 5,
   "metadata": {},
   "outputs": [],
   "source": [
    "def create_one_index(xmlrel):\n",
    "    xmlpath = \"../data/\"+xmlrel\n",
    "    indexfile=INDEX_PATH+xmlrel+\".idx\"\n",
    "    !mkdir -p {os.path.dirname(indexfile)}\n",
    "    !grep -n \"doc-number\" {xmlpath} | sed -e 's/\\(.*\\)<doc-number>\\([^<]*\\)<\\/doc-number>.*/\\1\\2/' > {indexfile}"
   ]
  },
  {
   "cell_type": "code",
   "execution_count": null,
   "metadata": {},
   "outputs": [],
   "source": []
  },
  {
   "cell_type": "code",
   "execution_count": null,
   "metadata": {},
   "outputs": [],
   "source": []
  },
  {
   "cell_type": "markdown",
   "metadata": {},
   "source": [
    "## Data setup assumption\n",
    "\n",
    "Download application of 2017 and grants of 2012, unzip xml, and place under data/\n",
    "\n",
    "From here: https://bulkdata.uspto.gov/#pats\n",
    "\n",
    "### Grants 2012\n",
    "\n",
    "Use \"Patent Grant Full Text Data (No Images) (JAN 1976 - PRESENT)\".\n",
    "\n",
    "- Download all zip of https://bulkdata.uspto.gov/data/patent/grant/redbook/fulltext/2012/\n",
    "   - Use shell script to download zip (https://colab.research.google.com/drive/1gJO0VQ72Xfr_SY2dwWyiTvczIv0_gd4L)\n",
    "       - save to download.sh and run\n",
    "- place xml under data/grants2012/\n",
    "   - ex.data/grants2012/ipg120103.xml data/grants2012/ipg120221.xml\n",
    "   - Total about 24GB\n",
    "\n",
    "### Application 2017\n",
    "\n",
    "Use \"Patent Application Full Text Data (No Images) (MAR 15, 2001 - PRESENT)\"\n",
    "\n",
    "- Download all zip of https://bulkdata.uspto.gov/data/patent/application/redbook/fulltext/2017/\n",
    "   - Use above colab shell script again\n",
    "- place xml under data/application/2017\n",
    "    - ex. data/application2017/ipa170105.xml data/appli cation2017/ipa170223.xml\n",
    "    - Total about 35GB"
   ]
  },
  {
   "cell_type": "code",
   "execution_count": 6,
   "metadata": {},
   "outputs": [],
   "source": [
    "import glob"
   ]
  },
  {
   "cell_type": "code",
   "execution_count": null,
   "metadata": {},
   "outputs": [],
   "source": []
  },
  {
   "cell_type": "code",
   "execution_count": 67,
   "metadata": {},
   "outputs": [],
   "source": [
    "xmls = glob.glob(\"../data/grants2012/*.xml\")"
   ]
  },
  {
   "cell_type": "code",
   "execution_count": 68,
   "metadata": {},
   "outputs": [
    {
     "data": {
      "text/plain": [
       "'../data/grants2012/ipg120911.xml'"
      ]
     },
     "execution_count": 68,
     "metadata": {},
     "output_type": "execute_result"
    }
   ],
   "source": [
    "xmls[0]"
   ]
  },
  {
   "cell_type": "code",
   "execution_count": 69,
   "metadata": {},
   "outputs": [
    {
     "data": {
      "text/plain": [
       "'grants2012/ipg120911.xml'"
      ]
     },
     "execution_count": 69,
     "metadata": {},
     "output_type": "execute_result"
    }
   ],
   "source": [
    "xmls[0][len(\"../data/\"):]"
   ]
  },
  {
   "cell_type": "code",
   "execution_count": null,
   "metadata": {},
   "outputs": [],
   "source": []
  },
  {
   "cell_type": "code",
   "execution_count": 70,
   "metadata": {},
   "outputs": [],
   "source": [
    "xmlrels = [xml[len(\"../data/\"):] for xml in xmls]"
   ]
  },
  {
   "cell_type": "code",
   "execution_count": 72,
   "metadata": {},
   "outputs": [
    {
     "data": {
      "text/plain": [
       "'grants2012/ipg120911.xml'"
      ]
     },
     "execution_count": 72,
     "metadata": {},
     "output_type": "execute_result"
    }
   ],
   "source": [
    "xmlrels[0]"
   ]
  },
  {
   "cell_type": "code",
   "execution_count": null,
   "metadata": {},
   "outputs": [],
   "source": []
  },
  {
   "cell_type": "raw",
   "metadata": {},
   "source": [
    "Below cell took about 4min.\n",
    "\n",
    "CPU times: user 4.49 s, sys: 812 ms, total: 5.3 s\n",
    "Wall time: 3min 48s"
   ]
  },
  {
   "cell_type": "code",
   "execution_count": 73,
   "metadata": {},
   "outputs": [
    {
     "name": "stdout",
     "output_type": "stream",
     "text": [
      "CPU times: user 4.49 s, sys: 812 ms, total: 5.3 s\n",
      "Wall time: 3min 48s\n"
     ]
    }
   ],
   "source": [
    "%%time\n",
    "\n",
    "for xmlrel in xmlrels:\n",
    "    create_one_index(xmlrel)"
   ]
  },
  {
   "cell_type": "code",
   "execution_count": null,
   "metadata": {},
   "outputs": [],
   "source": []
  },
  {
   "cell_type": "code",
   "execution_count": null,
   "metadata": {},
   "outputs": [],
   "source": []
  },
  {
   "cell_type": "code",
   "execution_count": 9,
   "metadata": {},
   "outputs": [],
   "source": [
    "xmls = glob.glob(\"../data/application2017/*.xml\")\n",
    "xmlrels = [xml[len(\"../data/\"):] for xml in xmls]"
   ]
  },
  {
   "cell_type": "code",
   "execution_count": 10,
   "metadata": {},
   "outputs": [
    {
     "name": "stdout",
     "output_type": "stream",
     "text": [
      "CPU times: user 9.32 s, sys: 1.43 s, total: 10.8 s\n",
      "Wall time: 7min 2s\n"
     ]
    }
   ],
   "source": [
    "%%time\n",
    "\n",
    "for xmlrel in xmlrels:\n",
    "    create_one_index(xmlrel)"
   ]
  },
  {
   "cell_type": "code",
   "execution_count": null,
   "metadata": {},
   "outputs": [],
   "source": []
  },
  {
   "cell_type": "code",
   "execution_count": null,
   "metadata": {},
   "outputs": [],
   "source": []
  },
  {
   "cell_type": "code",
   "execution_count": null,
   "metadata": {},
   "outputs": [],
   "source": []
  },
  {
   "cell_type": "code",
   "execution_count": null,
   "metadata": {},
   "outputs": [],
   "source": []
  },
  {
   "cell_type": "markdown",
   "metadata": {},
   "source": [
    "### Load index from files"
   ]
  },
  {
   "cell_type": "code",
   "execution_count": 6,
   "metadata": {},
   "outputs": [],
   "source": [
    "import glob"
   ]
  },
  {
   "cell_type": "code",
   "execution_count": null,
   "metadata": {},
   "outputs": [],
   "source": []
  },
  {
   "cell_type": "code",
   "execution_count": 7,
   "metadata": {},
   "outputs": [],
   "source": [
    "# workaround. in *.xml, doc-number sometime starts with unknown 0, while citations.csv does not.\n",
    "# so if digit is 8 and start from 0, cut first 0.\n",
    "\n",
    "def cut_head_zero_workaround(key):\n",
    "    if len(key) == 8 and key.startswith(\"0\"):\n",
    "        return key[1:]\n",
    "    return key"
   ]
  },
  {
   "cell_type": "code",
   "execution_count": 8,
   "metadata": {},
   "outputs": [],
   "source": [
    "# dict format:\n",
    "# key is doc-number\n",
    "# val is list of [relxml, linenumber]\n",
    "\n",
    "def build_one_index_file_to_dict(indexfile, dic):\n",
    "    with open(indexfile, \"r\") as f:\n",
    "        tupples = [l.rstrip(\"\\n\").split(\":\", 1) for l in f]\n",
    "    relxml = indexfile[len(\"../data/index/\"):].rstrip(\".idx\")\n",
    "    for tup in tupples:\n",
    "        key = cut_head_zero_workaround(tup[1])\n",
    "        dic.setdefault(key, []).append([relxml, int(tup[0])])"
   ]
  },
  {
   "cell_type": "code",
   "execution_count": null,
   "metadata": {},
   "outputs": [],
   "source": []
  },
  {
   "cell_type": "code",
   "execution_count": 9,
   "metadata": {},
   "outputs": [],
   "source": [
    "def build_all_index_dict(indexfiles, dic):\n",
    "    for f in indexfiles:\n",
    "        build_one_index_file_to_dict(f, dic)"
   ]
  },
  {
   "cell_type": "code",
   "execution_count": null,
   "metadata": {},
   "outputs": [],
   "source": []
  },
  {
   "cell_type": "code",
   "execution_count": null,
   "metadata": {},
   "outputs": [],
   "source": []
  },
  {
   "cell_type": "code",
   "execution_count": 10,
   "metadata": {},
   "outputs": [],
   "source": [
    "indexfiles2017 = glob.glob(\"../data/index/application2017/*.idx\")"
   ]
  },
  {
   "cell_type": "code",
   "execution_count": 11,
   "metadata": {},
   "outputs": [],
   "source": [
    "index2017 = {}"
   ]
  },
  {
   "cell_type": "code",
   "execution_count": 12,
   "metadata": {},
   "outputs": [],
   "source": [
    "build_all_index_dict(indexfiles2017, index2017)"
   ]
  },
  {
   "cell_type": "code",
   "execution_count": null,
   "metadata": {},
   "outputs": [],
   "source": []
  },
  {
   "cell_type": "code",
   "execution_count": 13,
   "metadata": {},
   "outputs": [],
   "source": [
    "indexfilesGrants2012 = glob.glob(\"../data/index/grants2012/*.idx\")"
   ]
  },
  {
   "cell_type": "code",
   "execution_count": 14,
   "metadata": {},
   "outputs": [],
   "source": [
    "indexGrants2012 = {}"
   ]
  },
  {
   "cell_type": "code",
   "execution_count": 15,
   "metadata": {},
   "outputs": [],
   "source": [
    "build_all_index_dict(indexfilesGrants2012, indexGrants2012)"
   ]
  },
  {
   "cell_type": "code",
   "execution_count": null,
   "metadata": {},
   "outputs": [],
   "source": []
  },
  {
   "cell_type": "markdown",
   "metadata": {},
   "source": [
    "### Filter office action only of application 2017 doc-number."
   ]
  },
  {
   "cell_type": "code",
   "execution_count": 16,
   "metadata": {},
   "outputs": [],
   "source": [
    "# key of index2017 is string because doc-number sometime contains non-int value.\n",
    "# so we create string row in office action data frame to use isin method.\n",
    "\n",
    "office_15[\"app_id_str\"] = office_15.app_id.map(str)"
   ]
  },
  {
   "cell_type": "code",
   "execution_count": null,
   "metadata": {},
   "outputs": [],
   "source": []
  },
  {
   "cell_type": "code",
   "execution_count": 17,
   "metadata": {},
   "outputs": [
    {
     "data": {
      "text/plain": [
       "21820"
      ]
     },
     "execution_count": 17,
     "metadata": {},
     "output_type": "execute_result"
    }
   ],
   "source": [
    "sum(office_15.app_id_str.isin(index2017) == True)"
   ]
  },
  {
   "cell_type": "code",
   "execution_count": 18,
   "metadata": {},
   "outputs": [],
   "source": [
    "office2017 = office_15[office_15.app_id_str.isin(index2017)]"
   ]
  },
  {
   "cell_type": "code",
   "execution_count": null,
   "metadata": {},
   "outputs": [],
   "source": []
  },
  {
   "cell_type": "code",
   "execution_count": 19,
   "metadata": {},
   "outputs": [
    {
     "data": {
      "text/plain": [
       "21820"
      ]
     },
     "execution_count": 19,
     "metadata": {},
     "output_type": "execute_result"
    }
   ],
   "source": [
    "len(office2017)"
   ]
  },
  {
   "cell_type": "code",
   "execution_count": 20,
   "metadata": {},
   "outputs": [
    {
     "data": {
      "text/html": [
       "<div>\n",
       "<style scoped>\n",
       "    .dataframe tbody tr th:only-of-type {\n",
       "        vertical-align: middle;\n",
       "    }\n",
       "\n",
       "    .dataframe tbody tr th {\n",
       "        vertical-align: top;\n",
       "    }\n",
       "\n",
       "    .dataframe thead th {\n",
       "        text-align: right;\n",
       "    }\n",
       "</style>\n",
       "<table border=\"1\" class=\"dataframe\">\n",
       "  <thead>\n",
       "    <tr style=\"text-align: right;\">\n",
       "      <th></th>\n",
       "      <th>app_id</th>\n",
       "      <th>ifw_number</th>\n",
       "      <th>document_cd</th>\n",
       "      <th>mail_dt</th>\n",
       "      <th>art_unit</th>\n",
       "      <th>uspc_class</th>\n",
       "      <th>uspc_subclass</th>\n",
       "      <th>header_missing</th>\n",
       "      <th>fp_missing</th>\n",
       "      <th>rejection_fp_mismatch</th>\n",
       "      <th>...</th>\n",
       "      <th>rejection_112</th>\n",
       "      <th>rejection_dp</th>\n",
       "      <th>objection</th>\n",
       "      <th>allowed_claims</th>\n",
       "      <th>cite102_gt1</th>\n",
       "      <th>cite103_gt3</th>\n",
       "      <th>cite103_eq1</th>\n",
       "      <th>cite103_max</th>\n",
       "      <th>signature_type</th>\n",
       "      <th>app_id_str</th>\n",
       "    </tr>\n",
       "  </thead>\n",
       "  <tbody>\n",
       "    <tr>\n",
       "      <th>3561801</th>\n",
       "      <td>15005636</td>\n",
       "      <td>IKSG9XK1RXEAPX1</td>\n",
       "      <td>CTNF</td>\n",
       "      <td>2016-02-22</td>\n",
       "      <td>3766</td>\n",
       "      <td>600</td>\n",
       "      <td>509000</td>\n",
       "      <td>0</td>\n",
       "      <td>0</td>\n",
       "      <td>0</td>\n",
       "      <td>...</td>\n",
       "      <td>1</td>\n",
       "      <td>1</td>\n",
       "      <td>0</td>\n",
       "      <td>0</td>\n",
       "      <td>0</td>\n",
       "      <td>0</td>\n",
       "      <td>0</td>\n",
       "      <td>0</td>\n",
       "      <td>0</td>\n",
       "      <td>15005636</td>\n",
       "    </tr>\n",
       "    <tr>\n",
       "      <th>3564336</th>\n",
       "      <td>15001553</td>\n",
       "      <td>IKTT4P0TRXEAPX1</td>\n",
       "      <td>CTNF</td>\n",
       "      <td>2016-02-19</td>\n",
       "      <td>1625</td>\n",
       "      <td>514</td>\n",
       "      <td>279000</td>\n",
       "      <td>0</td>\n",
       "      <td>1</td>\n",
       "      <td>0</td>\n",
       "      <td>...</td>\n",
       "      <td>1</td>\n",
       "      <td>0</td>\n",
       "      <td>0</td>\n",
       "      <td>0</td>\n",
       "      <td>0</td>\n",
       "      <td>0</td>\n",
       "      <td>0</td>\n",
       "      <td>0</td>\n",
       "      <td>1</td>\n",
       "      <td>15001553</td>\n",
       "    </tr>\n",
       "    <tr>\n",
       "      <th>3568839</th>\n",
       "      <td>15009367</td>\n",
       "      <td>IKZGL7O1RXEAPX4</td>\n",
       "      <td>CTNF</td>\n",
       "      <td>2016-02-25</td>\n",
       "      <td>2137</td>\n",
       "      <td>711</td>\n",
       "      <td>103000</td>\n",
       "      <td>0</td>\n",
       "      <td>0</td>\n",
       "      <td>0</td>\n",
       "      <td>...</td>\n",
       "      <td>0</td>\n",
       "      <td>1</td>\n",
       "      <td>0</td>\n",
       "      <td>0</td>\n",
       "      <td>0</td>\n",
       "      <td>0</td>\n",
       "      <td>0</td>\n",
       "      <td>0</td>\n",
       "      <td>1</td>\n",
       "      <td>15009367</td>\n",
       "    </tr>\n",
       "    <tr>\n",
       "      <th>3569392</th>\n",
       "      <td>15041416</td>\n",
       "      <td>IKZI6SS3RXEAPX1</td>\n",
       "      <td>CTNF</td>\n",
       "      <td>2016-02-25</td>\n",
       "      <td>2618</td>\n",
       "      <td>345</td>\n",
       "      <td>619000</td>\n",
       "      <td>0</td>\n",
       "      <td>0</td>\n",
       "      <td>0</td>\n",
       "      <td>...</td>\n",
       "      <td>0</td>\n",
       "      <td>0</td>\n",
       "      <td>0</td>\n",
       "      <td>0</td>\n",
       "      <td>0</td>\n",
       "      <td>1</td>\n",
       "      <td>0</td>\n",
       "      <td>5</td>\n",
       "      <td>1</td>\n",
       "      <td>15041416</td>\n",
       "    </tr>\n",
       "    <tr>\n",
       "      <th>3574015</th>\n",
       "      <td>15014088</td>\n",
       "      <td>IL0U1CK0RXEAPX5</td>\n",
       "      <td>CTNF</td>\n",
       "      <td>2016-02-26</td>\n",
       "      <td>2852</td>\n",
       "      <td>399</td>\n",
       "      <td>085000</td>\n",
       "      <td>0</td>\n",
       "      <td>0</td>\n",
       "      <td>0</td>\n",
       "      <td>...</td>\n",
       "      <td>0</td>\n",
       "      <td>0</td>\n",
       "      <td>1</td>\n",
       "      <td>0</td>\n",
       "      <td>0</td>\n",
       "      <td>0</td>\n",
       "      <td>0</td>\n",
       "      <td>2</td>\n",
       "      <td>1</td>\n",
       "      <td>15014088</td>\n",
       "    </tr>\n",
       "  </tbody>\n",
       "</table>\n",
       "<p>5 rows × 24 columns</p>\n",
       "</div>"
      ],
      "text/plain": [
       "           app_id       ifw_number document_cd     mail_dt art_unit  \\\n",
       "3561801  15005636  IKSG9XK1RXEAPX1        CTNF  2016-02-22     3766   \n",
       "3564336  15001553  IKTT4P0TRXEAPX1        CTNF  2016-02-19     1625   \n",
       "3568839  15009367  IKZGL7O1RXEAPX4        CTNF  2016-02-25     2137   \n",
       "3569392  15041416  IKZI6SS3RXEAPX1        CTNF  2016-02-25     2618   \n",
       "3574015  15014088  IL0U1CK0RXEAPX5        CTNF  2016-02-26     2852   \n",
       "\n",
       "        uspc_class uspc_subclass  header_missing  fp_missing  \\\n",
       "3561801        600        509000               0           0   \n",
       "3564336        514        279000               0           1   \n",
       "3568839        711        103000               0           0   \n",
       "3569392        345        619000               0           0   \n",
       "3574015        399        085000               0           0   \n",
       "\n",
       "         rejection_fp_mismatch     ...      rejection_112  rejection_dp  \\\n",
       "3561801                      0     ...                  1             1   \n",
       "3564336                      0     ...                  1             0   \n",
       "3568839                      0     ...                  0             1   \n",
       "3569392                      0     ...                  0             0   \n",
       "3574015                      0     ...                  0             0   \n",
       "\n",
       "         objection  allowed_claims  cite102_gt1  cite103_gt3  cite103_eq1  \\\n",
       "3561801          0               0            0            0            0   \n",
       "3564336          0               0            0            0            0   \n",
       "3568839          0               0            0            0            0   \n",
       "3569392          0               0            0            1            0   \n",
       "3574015          1               0            0            0            0   \n",
       "\n",
       "         cite103_max  signature_type  app_id_str  \n",
       "3561801            0               0    15005636  \n",
       "3564336            0               1    15001553  \n",
       "3568839            0               1    15009367  \n",
       "3569392            5               1    15041416  \n",
       "3574015            2               1    15014088  \n",
       "\n",
       "[5 rows x 24 columns]"
      ]
     },
     "execution_count": 20,
     "metadata": {},
     "output_type": "execute_result"
    }
   ],
   "source": [
    "office2017.head()"
   ]
  },
  {
   "cell_type": "code",
   "execution_count": null,
   "metadata": {},
   "outputs": [],
   "source": []
  },
  {
   "cell_type": "code",
   "execution_count": 21,
   "metadata": {},
   "outputs": [],
   "source": [
    "ifw_from_OA = set(office2017.ifw_number)"
   ]
  },
  {
   "cell_type": "code",
   "execution_count": 22,
   "metadata": {},
   "outputs": [
    {
     "data": {
      "text/plain": [
       "21820"
      ]
     },
     "execution_count": 22,
     "metadata": {},
     "output_type": "execute_result"
    }
   ],
   "source": [
    "len(list(ifw_from_OA))"
   ]
  },
  {
   "cell_type": "code",
   "execution_count": null,
   "metadata": {},
   "outputs": [],
   "source": []
  },
  {
   "cell_type": "code",
   "execution_count": null,
   "metadata": {},
   "outputs": [],
   "source": []
  },
  {
   "cell_type": "code",
   "execution_count": null,
   "metadata": {},
   "outputs": [],
   "source": []
  },
  {
   "cell_type": "code",
   "execution_count": null,
   "metadata": {},
   "outputs": [],
   "source": []
  },
  {
   "cell_type": "code",
   "execution_count": 23,
   "metadata": {},
   "outputs": [
    {
     "data": {
      "text/html": [
       "<div>\n",
       "<style scoped>\n",
       "    .dataframe tbody tr th:only-of-type {\n",
       "        vertical-align: middle;\n",
       "    }\n",
       "\n",
       "    .dataframe tbody tr th {\n",
       "        vertical-align: top;\n",
       "    }\n",
       "\n",
       "    .dataframe thead th {\n",
       "        text-align: right;\n",
       "    }\n",
       "</style>\n",
       "<table border=\"1\" class=\"dataframe\">\n",
       "  <thead>\n",
       "    <tr style=\"text-align: right;\">\n",
       "      <th></th>\n",
       "      <th>app_id</th>\n",
       "      <th>citation_pat_pgpub_id</th>\n",
       "      <th>parsed</th>\n",
       "      <th>ifw_number</th>\n",
       "      <th>action_type</th>\n",
       "      <th>action_subtype</th>\n",
       "      <th>form892</th>\n",
       "      <th>form1449</th>\n",
       "      <th>citation_in_oa</th>\n",
       "    </tr>\n",
       "  </thead>\n",
       "  <tbody>\n",
       "    <tr>\n",
       "      <th>57732192</th>\n",
       "      <td>15000008</td>\n",
       "      <td>8291627</td>\n",
       "      <td>8291627</td>\n",
       "      <td>NaN</td>\n",
       "      <td>NaN</td>\n",
       "      <td>NaN</td>\n",
       "      <td>1</td>\n",
       "      <td>0</td>\n",
       "      <td>0</td>\n",
       "    </tr>\n",
       "    <tr>\n",
       "      <th>57732193</th>\n",
       "      <td>15000008</td>\n",
       "      <td>2093620</td>\n",
       "      <td>2093620</td>\n",
       "      <td>NaN</td>\n",
       "      <td>NaN</td>\n",
       "      <td>NaN</td>\n",
       "      <td>1</td>\n",
       "      <td>0</td>\n",
       "      <td>0</td>\n",
       "    </tr>\n",
       "    <tr>\n",
       "      <th>57732194</th>\n",
       "      <td>15000008</td>\n",
       "      <td>9221406</td>\n",
       "      <td>9221406</td>\n",
       "      <td>NaN</td>\n",
       "      <td>NaN</td>\n",
       "      <td>NaN</td>\n",
       "      <td>1</td>\n",
       "      <td>0</td>\n",
       "      <td>0</td>\n",
       "    </tr>\n",
       "    <tr>\n",
       "      <th>57732195</th>\n",
       "      <td>15000008</td>\n",
       "      <td>8544198</td>\n",
       "      <td>8544198</td>\n",
       "      <td>NaN</td>\n",
       "      <td>NaN</td>\n",
       "      <td>NaN</td>\n",
       "      <td>1</td>\n",
       "      <td>0</td>\n",
       "      <td>0</td>\n",
       "    </tr>\n",
       "    <tr>\n",
       "      <th>57732196</th>\n",
       "      <td>15000008</td>\n",
       "      <td>7225569</td>\n",
       "      <td>7225569</td>\n",
       "      <td>NaN</td>\n",
       "      <td>NaN</td>\n",
       "      <td>NaN</td>\n",
       "      <td>1</td>\n",
       "      <td>0</td>\n",
       "      <td>0</td>\n",
       "    </tr>\n",
       "  </tbody>\n",
       "</table>\n",
       "</div>"
      ],
      "text/plain": [
       "            app_id citation_pat_pgpub_id   parsed ifw_number  action_type  \\\n",
       "57732192  15000008               8291627  8291627        NaN          NaN   \n",
       "57732193  15000008               2093620  2093620        NaN          NaN   \n",
       "57732194  15000008               9221406  9221406        NaN          NaN   \n",
       "57732195  15000008               8544198  8544198        NaN          NaN   \n",
       "57732196  15000008               7225569  7225569        NaN          NaN   \n",
       "\n",
       "         action_subtype  form892  form1449  citation_in_oa  \n",
       "57732192            NaN        1         0               0  \n",
       "57732193            NaN        1         0               0  \n",
       "57732194            NaN        1         0               0  \n",
       "57732195            NaN        1         0               0  \n",
       "57732196            NaN        1         0               0  "
      ]
     },
     "execution_count": 23,
     "metadata": {},
     "output_type": "execute_result"
    }
   ],
   "source": [
    "citations_15.head()"
   ]
  },
  {
   "cell_type": "code",
   "execution_count": 24,
   "metadata": {},
   "outputs": [],
   "source": [
    "citations_2017 = citations_15[citations_15.ifw_number.isin(ifw_from_OA)]"
   ]
  },
  {
   "cell_type": "code",
   "execution_count": 25,
   "metadata": {},
   "outputs": [
    {
     "data": {
      "text/plain": [
       "43416"
      ]
     },
     "execution_count": 25,
     "metadata": {},
     "output_type": "execute_result"
    }
   ],
   "source": [
    "len(citations_2017)"
   ]
  },
  {
   "cell_type": "code",
   "execution_count": 26,
   "metadata": {},
   "outputs": [
    {
     "data": {
      "text/html": [
       "<div>\n",
       "<style scoped>\n",
       "    .dataframe tbody tr th:only-of-type {\n",
       "        vertical-align: middle;\n",
       "    }\n",
       "\n",
       "    .dataframe tbody tr th {\n",
       "        vertical-align: top;\n",
       "    }\n",
       "\n",
       "    .dataframe thead th {\n",
       "        text-align: right;\n",
       "    }\n",
       "</style>\n",
       "<table border=\"1\" class=\"dataframe\">\n",
       "  <thead>\n",
       "    <tr style=\"text-align: right;\">\n",
       "      <th></th>\n",
       "      <th>app_id</th>\n",
       "      <th>citation_pat_pgpub_id</th>\n",
       "      <th>parsed</th>\n",
       "      <th>ifw_number</th>\n",
       "      <th>action_type</th>\n",
       "      <th>action_subtype</th>\n",
       "      <th>form892</th>\n",
       "      <th>form1449</th>\n",
       "      <th>citation_in_oa</th>\n",
       "    </tr>\n",
       "  </thead>\n",
       "  <tbody>\n",
       "    <tr>\n",
       "      <th>57732253</th>\n",
       "      <td>15000027</td>\n",
       "      <td>8553488</td>\n",
       "      <td>8553488</td>\n",
       "      <td>IRPCOHEPRXEAPX4</td>\n",
       "      <td>102.0</td>\n",
       "      <td>a</td>\n",
       "      <td>1</td>\n",
       "      <td>0</td>\n",
       "      <td>1</td>\n",
       "    </tr>\n",
       "    <tr>\n",
       "      <th>57732273</th>\n",
       "      <td>15000034</td>\n",
       "      <td>Dando US 2015/0364400</td>\n",
       "      <td>20150364400</td>\n",
       "      <td>IYD99O6CRXEAPX0</td>\n",
       "      <td>103.0</td>\n",
       "      <td>NaN</td>\n",
       "      <td>0</td>\n",
       "      <td>0</td>\n",
       "      <td>1</td>\n",
       "    </tr>\n",
       "    <tr>\n",
       "      <th>57732274</th>\n",
       "      <td>15000034</td>\n",
       "      <td>Sun US 2012/0181696</td>\n",
       "      <td>20120181696</td>\n",
       "      <td>IYD99O6CRXEAPX0</td>\n",
       "      <td>103.0</td>\n",
       "      <td>NaN</td>\n",
       "      <td>0</td>\n",
       "      <td>0</td>\n",
       "      <td>1</td>\n",
       "    </tr>\n",
       "    <tr>\n",
       "      <th>57732275</th>\n",
       "      <td>15000034</td>\n",
       "      <td>Sun US 2012/0279760</td>\n",
       "      <td>20120279760</td>\n",
       "      <td>IYD99O6CRXEAPX0</td>\n",
       "      <td>103.0</td>\n",
       "      <td>NaN</td>\n",
       "      <td>0</td>\n",
       "      <td>0</td>\n",
       "      <td>1</td>\n",
       "    </tr>\n",
       "    <tr>\n",
       "      <th>57732324</th>\n",
       "      <td>15000048</td>\n",
       "      <td>20140091294</td>\n",
       "      <td>20140091294</td>\n",
       "      <td>IR59S77KRXEAPX5</td>\n",
       "      <td>103.0</td>\n",
       "      <td>NaN</td>\n",
       "      <td>1</td>\n",
       "      <td>0</td>\n",
       "      <td>1</td>\n",
       "    </tr>\n",
       "  </tbody>\n",
       "</table>\n",
       "</div>"
      ],
      "text/plain": [
       "            app_id  citation_pat_pgpub_id       parsed       ifw_number  \\\n",
       "57732253  15000027                8553488      8553488  IRPCOHEPRXEAPX4   \n",
       "57732273  15000034  Dando US 2015/0364400  20150364400  IYD99O6CRXEAPX0   \n",
       "57732274  15000034    Sun US 2012/0181696  20120181696  IYD99O6CRXEAPX0   \n",
       "57732275  15000034    Sun US 2012/0279760  20120279760  IYD99O6CRXEAPX0   \n",
       "57732324  15000048            20140091294  20140091294  IR59S77KRXEAPX5   \n",
       "\n",
       "          action_type action_subtype  form892  form1449  citation_in_oa  \n",
       "57732253        102.0              a        1         0               1  \n",
       "57732273        103.0            NaN        0         0               1  \n",
       "57732274        103.0            NaN        0         0               1  \n",
       "57732275        103.0            NaN        0         0               1  \n",
       "57732324        103.0            NaN        1         0               1  "
      ]
     },
     "execution_count": 26,
     "metadata": {},
     "output_type": "execute_result"
    }
   ],
   "source": [
    "citations_2017.head()"
   ]
  },
  {
   "cell_type": "code",
   "execution_count": 27,
   "metadata": {},
   "outputs": [],
   "source": [
    "# citations_we_have = citations_2017[citations_2017.citation_pat_pgpub_id.isin(indexGrants2012)]\n",
    "citations_we_have = citations_2017[citations_2017.parsed.isin(indexGrants2012)]"
   ]
  },
  {
   "cell_type": "code",
   "execution_count": 28,
   "metadata": {},
   "outputs": [
    {
     "data": {
      "text/plain": [
       "8365"
      ]
     },
     "execution_count": 28,
     "metadata": {},
     "output_type": "execute_result"
    }
   ],
   "source": [
    "len(citations_we_have)"
   ]
  },
  {
   "cell_type": "code",
   "execution_count": 29,
   "metadata": {},
   "outputs": [
    {
     "data": {
      "text/html": [
       "<div>\n",
       "<style scoped>\n",
       "    .dataframe tbody tr th:only-of-type {\n",
       "        vertical-align: middle;\n",
       "    }\n",
       "\n",
       "    .dataframe tbody tr th {\n",
       "        vertical-align: top;\n",
       "    }\n",
       "\n",
       "    .dataframe thead th {\n",
       "        text-align: right;\n",
       "    }\n",
       "</style>\n",
       "<table border=\"1\" class=\"dataframe\">\n",
       "  <thead>\n",
       "    <tr style=\"text-align: right;\">\n",
       "      <th></th>\n",
       "      <th>app_id</th>\n",
       "      <th>citation_pat_pgpub_id</th>\n",
       "      <th>parsed</th>\n",
       "      <th>ifw_number</th>\n",
       "      <th>action_type</th>\n",
       "      <th>action_subtype</th>\n",
       "      <th>form892</th>\n",
       "      <th>form1449</th>\n",
       "      <th>citation_in_oa</th>\n",
       "    </tr>\n",
       "  </thead>\n",
       "  <tbody>\n",
       "    <tr>\n",
       "      <th>57733581</th>\n",
       "      <td>15000285</td>\n",
       "      <td>4659845</td>\n",
       "      <td>4659845</td>\n",
       "      <td>IV82WOB1RXEAPX5</td>\n",
       "      <td>103.0</td>\n",
       "      <td>NaN</td>\n",
       "      <td>1</td>\n",
       "      <td>0</td>\n",
       "      <td>1</td>\n",
       "    </tr>\n",
       "    <tr>\n",
       "      <th>57733622</th>\n",
       "      <td>15000297</td>\n",
       "      <td>7268118</td>\n",
       "      <td>7268118</td>\n",
       "      <td>IO1DLQ1SRXEAPX3</td>\n",
       "      <td>102.0</td>\n",
       "      <td>b</td>\n",
       "      <td>0</td>\n",
       "      <td>1</td>\n",
       "      <td>1</td>\n",
       "    </tr>\n",
       "    <tr>\n",
       "      <th>57733623</th>\n",
       "      <td>15000297</td>\n",
       "      <td>7268118</td>\n",
       "      <td>7268118</td>\n",
       "      <td>IO1DLQ1SRXEAPX3</td>\n",
       "      <td>103.0</td>\n",
       "      <td>a</td>\n",
       "      <td>0</td>\n",
       "      <td>1</td>\n",
       "      <td>1</td>\n",
       "    </tr>\n",
       "    <tr>\n",
       "      <th>57733624</th>\n",
       "      <td>15000297</td>\n",
       "      <td>5578570</td>\n",
       "      <td>5578570</td>\n",
       "      <td>IO1DLQ1SRXEAPX3</td>\n",
       "      <td>103.0</td>\n",
       "      <td>a</td>\n",
       "      <td>1</td>\n",
       "      <td>0</td>\n",
       "      <td>1</td>\n",
       "    </tr>\n",
       "    <tr>\n",
       "      <th>57733628</th>\n",
       "      <td>15000297</td>\n",
       "      <td>5342620</td>\n",
       "      <td>5342620</td>\n",
       "      <td>IO1DLQ1SRXEAPX3</td>\n",
       "      <td>103.0</td>\n",
       "      <td>a</td>\n",
       "      <td>1</td>\n",
       "      <td>1</td>\n",
       "      <td>1</td>\n",
       "    </tr>\n",
       "  </tbody>\n",
       "</table>\n",
       "</div>"
      ],
      "text/plain": [
       "            app_id citation_pat_pgpub_id   parsed       ifw_number  \\\n",
       "57733581  15000285               4659845  4659845  IV82WOB1RXEAPX5   \n",
       "57733622  15000297               7268118  7268118  IO1DLQ1SRXEAPX3   \n",
       "57733623  15000297               7268118  7268118  IO1DLQ1SRXEAPX3   \n",
       "57733624  15000297               5578570  5578570  IO1DLQ1SRXEAPX3   \n",
       "57733628  15000297               5342620  5342620  IO1DLQ1SRXEAPX3   \n",
       "\n",
       "          action_type action_subtype  form892  form1449  citation_in_oa  \n",
       "57733581        103.0            NaN        1         0               1  \n",
       "57733622        102.0              b        0         1               1  \n",
       "57733623        103.0              a        0         1               1  \n",
       "57733624        103.0              a        1         0               1  \n",
       "57733628        103.0              a        1         1               1  "
      ]
     },
     "execution_count": 29,
     "metadata": {},
     "output_type": "execute_result"
    }
   ],
   "source": [
    "citations_we_have.head()"
   ]
  },
  {
   "cell_type": "code",
   "execution_count": 30,
   "metadata": {},
   "outputs": [],
   "source": [
    "citations_we_have.to_pickle(\"../data/citations_2017_2012.dat\")"
   ]
  },
  {
   "cell_type": "code",
   "execution_count": null,
   "metadata": {},
   "outputs": [],
   "source": []
  },
  {
   "cell_type": "code",
   "execution_count": null,
   "metadata": {},
   "outputs": [],
   "source": []
  },
  {
   "cell_type": "code",
   "execution_count": 31,
   "metadata": {},
   "outputs": [],
   "source": [
    "index2017_we_need = {str(key):index2017[str(key)] for key in set(citations_we_have.app_id)}"
   ]
  },
  {
   "cell_type": "code",
   "execution_count": 32,
   "metadata": {},
   "outputs": [
    {
     "data": {
      "text/plain": [
       "4734"
      ]
     },
     "execution_count": 32,
     "metadata": {},
     "output_type": "execute_result"
    }
   ],
   "source": [
    "len(list(index2017_we_need.keys()))"
   ]
  },
  {
   "cell_type": "code",
   "execution_count": null,
   "metadata": {},
   "outputs": [],
   "source": []
  },
  {
   "cell_type": "code",
   "execution_count": null,
   "metadata": {},
   "outputs": [],
   "source": []
  },
  {
   "cell_type": "code",
   "execution_count": 33,
   "metadata": {},
   "outputs": [],
   "source": [
    "indexGrants2012_we_need = {str(key):indexGrants2012[str(key)] for key in set(citations_we_have.parsed)}"
   ]
  },
  {
   "cell_type": "code",
   "execution_count": null,
   "metadata": {},
   "outputs": [],
   "source": []
  },
  {
   "cell_type": "code",
   "execution_count": 34,
   "metadata": {},
   "outputs": [
    {
     "data": {
      "text/plain": [
       "['3087414',\n",
       " '5010940',\n",
       " '2916244',\n",
       " '20100012972',\n",
       " '20090300770',\n",
       " '6550847',\n",
       " '6597345',\n",
       " '5848419',\n",
       " '6415183',\n",
       " '6978184']"
      ]
     },
     "execution_count": 34,
     "metadata": {},
     "output_type": "execute_result"
    }
   ],
   "source": [
    "list(indexGrants2012_we_need.keys())[0:10]"
   ]
  },
  {
   "cell_type": "code",
   "execution_count": 35,
   "metadata": {},
   "outputs": [
    {
     "data": {
      "text/plain": [
       "6352"
      ]
     },
     "execution_count": 35,
     "metadata": {},
     "output_type": "execute_result"
    }
   ],
   "source": [
    "len(list(indexGrants2012_we_need.keys()))"
   ]
  },
  {
   "cell_type": "code",
   "execution_count": null,
   "metadata": {},
   "outputs": [],
   "source": []
  },
  {
   "cell_type": "code",
   "execution_count": 204,
   "metadata": {
    "scrolled": true
   },
   "outputs": [
    {
     "data": {
      "text/plain": [
       "[['grants2012/ipg121030.xml', 5731295],\n",
       " ['grants2012/ipg120724.xml', 3034084],\n",
       " ['grants2012/ipg120724.xml', 3038802]]"
      ]
     },
     "execution_count": 204,
     "metadata": {},
     "output_type": "execute_result"
    }
   ],
   "source": [
    "indexGrants2012_we_need['8227462']"
   ]
  },
  {
   "cell_type": "code",
   "execution_count": null,
   "metadata": {},
   "outputs": [],
   "source": []
  },
  {
   "cell_type": "code",
   "execution_count": 68,
   "metadata": {},
   "outputs": [],
   "source": [
    "## cut subtext of (target-bound):(target+bound) from very large text file\n",
    "## but if (target-bound) is smaller than 1, treat as 1.\n",
    "## retuned value is tupple which value is\n",
    "## first cell: offset for target\n",
    "## second cell: array of text, each element stand for one line.\n",
    "\n",
    "def retrieve_subtext_fast(target, fpath, begin_bound, end_bound):\n",
    "    start = max(1, target-begin_bound)\n",
    "    end = target+end_bound\n",
    "    sed_arg = \"'{},{}p'\".format(start, end)\n",
    "    subtext = !sed -n {sed_arg} {fpath}\n",
    "    return (target - start, subtext)"
   ]
  },
  {
   "cell_type": "code",
   "execution_count": null,
   "metadata": {},
   "outputs": [],
   "source": []
  },
  {
   "cell_type": "code",
   "execution_count": null,
   "metadata": {},
   "outputs": [],
   "source": []
  },
  {
   "cell_type": "code",
   "execution_count": 98,
   "metadata": {},
   "outputs": [],
   "source": [
    "#<us-patent-application ...>...</us-patent-application>\n",
    "#<us-patent-grant ...>....</us-patent-grant>\n",
    "\n",
    "def find_nearest_root_element(target_offset, subtext_arr, tagname):\n",
    "    begin_tag = '<{}'.format(tagname)\n",
    "    last_cand = -1\n",
    "    for i, line in enumerate(subtext_arr):\n",
    "        if i > target_offset:\n",
    "            if last_cand == -1:\n",
    "                # begin tag not found until target_offset.\n",
    "                # We assume real doc-number must be near the begin_tag,\n",
    "                # So we set BEGIN_BOUND small and this case is normal (doc-number is far away from begin tag, that is, wrong one.)\n",
    "                return -1\n",
    "            return last_cand\n",
    "        if begin_tag in line:\n",
    "            last_cand = i\n",
    "    raise ValueError('no target tagname found around target_offset')        "
   ]
  },
  {
   "cell_type": "code",
   "execution_count": null,
   "metadata": {},
   "outputs": [],
   "source": []
  },
  {
   "cell_type": "code",
   "execution_count": 101,
   "metadata": {},
   "outputs": [],
   "source": [
    "def retrieve_begin_end(begin_offset, subtext_arr, tagname):\n",
    "    end_tag = '</{}'.format(tagname)\n",
    "    res = []\n",
    "    for line in subtext_arr[begin_offset:]:\n",
    "        res.append(line)\n",
    "        if end_tag in line:\n",
    "            return res\n",
    "    raise ValueError('no end tagname found')        "
   ]
  },
  {
   "cell_type": "code",
   "execution_count": null,
   "metadata": {},
   "outputs": [],
   "source": []
  },
  {
   "cell_type": "code",
   "execution_count": 39,
   "metadata": {},
   "outputs": [],
   "source": [
    "import re"
   ]
  },
  {
   "cell_type": "code",
   "execution_count": null,
   "metadata": {},
   "outputs": [],
   "source": []
  },
  {
   "cell_type": "code",
   "execution_count": 102,
   "metadata": {},
   "outputs": [],
   "source": [
    "DOC_NUMBER_PAT=re.compile(r'<doc-number>([^<]+)</doc-number>')\n",
    "\n",
    "def find_first_doc_number(text_arr):\n",
    "    res = []\n",
    "    for text in text_arr:\n",
    "        matchObj = DOC_NUMBER_PAT.search(text)\n",
    "        if matchObj:\n",
    "            return cut_head_zero_workaround(matchObj.group(1))\n",
    "    raise ValueError(\"No doc-number found.\")\n",
    "        \n",
    "    "
   ]
  },
  {
   "cell_type": "code",
   "execution_count": 210,
   "metadata": {},
   "outputs": [
    {
     "data": {
      "text/plain": [
       "'20170351915'"
      ]
     },
     "execution_count": 210,
     "metadata": {},
     "output_type": "execute_result"
    }
   ],
   "source": [
    "find_first_doc_number(res_pat)"
   ]
  },
  {
   "cell_type": "code",
   "execution_count": null,
   "metadata": {},
   "outputs": [],
   "source": []
  },
  {
   "cell_type": "code",
   "execution_count": 66,
   "metadata": {},
   "outputs": [],
   "source": [
    "# tagname is \"us-patent-application\" or \"us-patent-grant\"\n",
    "#<us-patent-application ...>...</us-patent-application>\n",
    "#<us-patent-grant ...>....</us-patent-grant>\n",
    "\n",
    "def get_patent(tagname, file_path, target_offset):\n",
    "    BEGIN_BOUND=200\n",
    "    END_BOUND=10000\n",
    "    target_mod_offset, subtext_arr = retrieve_subtext_fast(target_offset, file_path, BEGIN_BOUND, END_BOUND)\n",
    "    begin_pos = find_nearest_root_element(target_mod_offset, subtext_arr, tagname)\n",
    "    if begin_pos == -1:\n",
    "        return None, None\n",
    "    result_patent = retrieve_begin_end(begin_pos, subtext_arr, tagname)\n",
    "    docid = find_first_doc_number(result_patent)\n",
    "    return docid, result_patent"
   ]
  },
  {
   "cell_type": "code",
   "execution_count": null,
   "metadata": {},
   "outputs": [],
   "source": []
  },
  {
   "cell_type": "code",
   "execution_count": 42,
   "metadata": {},
   "outputs": [],
   "source": [
    "patent_grants_dic = {}"
   ]
  },
  {
   "cell_type": "code",
   "execution_count": 64,
   "metadata": {},
   "outputs": [],
   "source": [
    "def get_real_patent(tagname, key_cand, tup_list):\n",
    "    for tup in tup_list:\n",
    "        real_id, pat_text = get_patent(tagname, '../data/' + tup[0], tup[1])\n",
    "        if real_id == key_cand:\n",
    "            return pat_text\n",
    "    return None"
   ]
  },
  {
   "cell_type": "code",
   "execution_count": null,
   "metadata": {},
   "outputs": [],
   "source": []
  },
  {
   "cell_type": "code",
   "execution_count": null,
   "metadata": {},
   "outputs": [],
   "source": []
  },
  {
   "cell_type": "code",
   "execution_count": 44,
   "metadata": {},
   "outputs": [],
   "source": [
    "dict_list = list(indexGrants2012_we_need.items())"
   ]
  },
  {
   "cell_type": "code",
   "execution_count": null,
   "metadata": {},
   "outputs": [],
   "source": []
  },
  {
   "cell_type": "markdown",
   "metadata": {},
   "source": [
    "# Heuristics for optimization\n",
    "\n",
    "If the same doc-number occure too much, it must be in patcite (not calim-ed patent).\n",
    "We skip more than 5 occurence for a while.\n",
    "\n",
    "But I check a few doc-number in grants2012, it always start with 08.\n",
    "So print doc-number starts with 8 and more than 5 occurences and check manually."
   ]
  },
  {
   "cell_type": "code",
   "execution_count": null,
   "metadata": {},
   "outputs": [],
   "source": []
  },
  {
   "cell_type": "code",
   "execution_count": 73,
   "metadata": {},
   "outputs": [],
   "source": [
    "import tqdm"
   ]
  },
  {
   "cell_type": "code",
   "execution_count": 87,
   "metadata": {},
   "outputs": [],
   "source": [
    "patent_grants_dic = {}"
   ]
  },
  {
   "cell_type": "code",
   "execution_count": 88,
   "metadata": {
    "scrolled": true
   },
   "outputs": [
    {
     "name": "stderr",
     "output_type": "stream",
     "text": [
      "  0%|          | 20/6352 [00:34<3:04:26,  1.75s/it]"
     ]
    },
    {
     "name": "stdout",
     "output_type": "stream",
     "text": [
      "found 19, 8202487, 1\n"
     ]
    },
    {
     "name": "stderr",
     "output_type": "stream",
     "text": [
      "  1%|          | 44/6352 [01:28<3:31:04,  2.01s/it]"
     ]
    },
    {
     "name": "stdout",
     "output_type": "stream",
     "text": [
      "found 43, 8114845, 2\n"
     ]
    },
    {
     "name": "stderr",
     "output_type": "stream",
     "text": [
      "  1%|▏         | 84/6352 [03:36<4:29:46,  2.58s/it]"
     ]
    },
    {
     "name": "stdout",
     "output_type": "stream",
     "text": [
      "found 83, 8140012, 3\n"
     ]
    },
    {
     "name": "stderr",
     "output_type": "stream",
     "text": [
      "  2%|▏         | 105/6352 [04:26<4:24:24,  2.54s/it]"
     ]
    },
    {
     "name": "stdout",
     "output_type": "stream",
     "text": [
      "found 104, 8144683, 4\n"
     ]
    },
    {
     "name": "stderr",
     "output_type": "stream",
     "text": [
      "  2%|▏         | 113/6352 [04:49<4:26:24,  2.56s/it]"
     ]
    },
    {
     "name": "stdout",
     "output_type": "stream",
     "text": [
      "found 112, 8138863, 5\n"
     ]
    },
    {
     "name": "stderr",
     "output_type": "stream",
     "text": [
      "  3%|▎         | 197/6352 [10:07<5:16:05,  3.08s/it]"
     ]
    },
    {
     "name": "stdout",
     "output_type": "stream",
     "text": [
      "found 196, 8095929, 6\n"
     ]
    },
    {
     "name": "stderr",
     "output_type": "stream",
     "text": [
      "  3%|▎         | 219/6352 [11:19<5:17:12,  3.10s/it]"
     ]
    },
    {
     "name": "stdout",
     "output_type": "stream",
     "text": [
      "found 218, 8289665, 7\n"
     ]
    },
    {
     "name": "stderr",
     "output_type": "stream",
     "text": [
      "  4%|▎         | 224/6352 [11:38<5:18:36,  3.12s/it]"
     ]
    },
    {
     "name": "stdout",
     "output_type": "stream",
     "text": [
      "found 223, 8087315, 8\n"
     ]
    },
    {
     "name": "stderr",
     "output_type": "stream",
     "text": [
      "  4%|▎         | 227/6352 [11:41<5:15:21,  3.09s/it]"
     ]
    },
    {
     "name": "stdout",
     "output_type": "stream",
     "text": [
      "found 226, 8322805, 9\n"
     ]
    },
    {
     "name": "stderr",
     "output_type": "stream",
     "text": [
      "  4%|▍         | 246/6352 [12:40<5:14:31,  3.09s/it]"
     ]
    },
    {
     "name": "stdout",
     "output_type": "stream",
     "text": [
      "found 245, 8147894, 10\n"
     ]
    },
    {
     "name": "stderr",
     "output_type": "stream",
     "text": [
      "  4%|▍         | 258/6352 [13:39<5:22:31,  3.18s/it]"
     ]
    },
    {
     "name": "stdout",
     "output_type": "stream",
     "text": [
      "found 257, 8118868, 11\n"
     ]
    },
    {
     "name": "stderr",
     "output_type": "stream",
     "text": [
      "  4%|▍         | 280/6352 [15:11<5:29:33,  3.26s/it]"
     ]
    },
    {
     "name": "stdout",
     "output_type": "stream",
     "text": [
      "found 279, 8101436, 12\n"
     ]
    },
    {
     "name": "stderr",
     "output_type": "stream",
     "text": [
      "  5%|▌         | 327/6352 [17:34<5:23:42,  3.22s/it]"
     ]
    },
    {
     "name": "stdout",
     "output_type": "stream",
     "text": [
      "found 326, 8331747, 13\n"
     ]
    },
    {
     "name": "stderr",
     "output_type": "stream",
     "text": [
      "  6%|▌         | 369/6352 [19:42<5:19:34,  3.20s/it]"
     ]
    },
    {
     "name": "stdout",
     "output_type": "stream",
     "text": [
      "found 368, 8239267, 14\n"
     ]
    },
    {
     "name": "stderr",
     "output_type": "stream",
     "text": [
      "  7%|▋         | 435/6352 [23:53<5:25:02,  3.30s/it]"
     ]
    },
    {
     "name": "stdout",
     "output_type": "stream",
     "text": [
      "found 434, 8307045, 15\n"
     ]
    },
    {
     "name": "stderr",
     "output_type": "stream",
     "text": [
      "  7%|▋         | 474/6352 [26:29<5:28:30,  3.35s/it]"
     ]
    },
    {
     "name": "stdout",
     "output_type": "stream",
     "text": [
      "found 473, 8169523, 16\n"
     ]
    },
    {
     "name": "stderr",
     "output_type": "stream",
     "text": [
      "  8%|▊         | 507/6352 [28:20<5:26:41,  3.35s/it]"
     ]
    },
    {
     "name": "stdout",
     "output_type": "stream",
     "text": [
      "found 506, 8270788, 17\n"
     ]
    },
    {
     "name": "stderr",
     "output_type": "stream",
     "text": [
      "  8%|▊         | 528/6352 [29:26<5:24:43,  3.35s/it]"
     ]
    },
    {
     "name": "stdout",
     "output_type": "stream",
     "text": [
      "found 527, 8199013, 18\n"
     ]
    },
    {
     "name": "stderr",
     "output_type": "stream",
     "text": [
      "  8%|▊         | 531/6352 [29:28<5:23:11,  3.33s/it]"
     ]
    },
    {
     "name": "stdout",
     "output_type": "stream",
     "text": [
      "found 530, 8289837, 19\n"
     ]
    },
    {
     "name": "stderr",
     "output_type": "stream",
     "text": [
      "  9%|▉         | 556/6352 [30:43<5:20:15,  3.32s/it]"
     ]
    },
    {
     "name": "stdout",
     "output_type": "stream",
     "text": [
      "found 555, 8123234, 20\n"
     ]
    },
    {
     "name": "stderr",
     "output_type": "stream",
     "text": [
      "  9%|▉         | 575/6352 [31:37<5:17:48,  3.30s/it]"
     ]
    },
    {
     "name": "stdout",
     "output_type": "stream",
     "text": [
      "found 574, 8292411, 21\n"
     ]
    },
    {
     "name": "stderr",
     "output_type": "stream",
     "text": [
      "\r",
      "  9%|▉         | 577/6352 [31:38<5:16:42,  3.29s/it]"
     ]
    },
    {
     "name": "stdout",
     "output_type": "stream",
     "text": [
      "found 576, 8166718, 22\n"
     ]
    },
    {
     "name": "stderr",
     "output_type": "stream",
     "text": [
      "  9%|▉         | 589/6352 [32:24<5:17:08,  3.30s/it]"
     ]
    },
    {
     "name": "stdout",
     "output_type": "stream",
     "text": [
      "found 588, 8297738, 23\n"
     ]
    },
    {
     "name": "stderr",
     "output_type": "stream",
     "text": [
      " 10%|▉         | 621/6352 [33:42<5:11:01,  3.26s/it]"
     ]
    },
    {
     "name": "stdout",
     "output_type": "stream",
     "text": [
      "found 620, 8106186, 24\n"
     ]
    },
    {
     "name": "stderr",
     "output_type": "stream",
     "text": [
      "\r",
      " 10%|▉         | 623/6352 [33:42<5:10:01,  3.25s/it]"
     ]
    },
    {
     "name": "stdout",
     "output_type": "stream",
     "text": [
      "found 622, 8185850, 25\n"
     ]
    },
    {
     "name": "stderr",
     "output_type": "stream",
     "text": [
      " 10%|▉         | 625/6352 [33:44<5:09:09,  3.24s/it]"
     ]
    },
    {
     "name": "stdout",
     "output_type": "stream",
     "text": [
      "found 624, 8201268, 26\n"
     ]
    },
    {
     "name": "stderr",
     "output_type": "stream",
     "text": [
      " 10%|▉         | 628/6352 [33:46<5:07:51,  3.23s/it]"
     ]
    },
    {
     "name": "stdout",
     "output_type": "stream",
     "text": [
      "found 627, 8123510, 27\n"
     ]
    },
    {
     "name": "stderr",
     "output_type": "stream",
     "text": [
      " 10%|▉         | 632/6352 [33:54<5:06:54,  3.22s/it]"
     ]
    },
    {
     "name": "stdout",
     "output_type": "stream",
     "text": [
      "found 631, 8206358, 28\n"
     ]
    },
    {
     "name": "stderr",
     "output_type": "stream",
     "text": [
      " 11%|█         | 670/6352 [36:10<5:06:47,  3.24s/it]"
     ]
    },
    {
     "name": "stdout",
     "output_type": "stream",
     "text": [
      "found 669, 8327128, 29\n"
     ]
    },
    {
     "name": "stderr",
     "output_type": "stream",
     "text": [
      " 11%|█         | 676/6352 [36:19<5:04:57,  3.22s/it]"
     ]
    },
    {
     "name": "stdout",
     "output_type": "stream",
     "text": [
      "found 675, 8263886, 30\n"
     ]
    },
    {
     "name": "stderr",
     "output_type": "stream",
     "text": [
      " 11%|█         | 679/6352 [36:23<5:03:59,  3.22s/it]"
     ]
    },
    {
     "name": "stdout",
     "output_type": "stream",
     "text": [
      "found 678, 8250085, 31\n"
     ]
    },
    {
     "name": "stderr",
     "output_type": "stream",
     "text": [
      " 11%|█         | 707/6352 [38:36<5:08:15,  3.28s/it]"
     ]
    },
    {
     "name": "stdout",
     "output_type": "stream",
     "text": [
      "found 706, 8140786, 32\n"
     ]
    },
    {
     "name": "stderr",
     "output_type": "stream",
     "text": [
      " 12%|█▏        | 750/6352 [41:26<5:09:31,  3.32s/it]"
     ]
    },
    {
     "name": "stdout",
     "output_type": "stream",
     "text": [
      "found 749, 8151694, 33\n"
     ]
    },
    {
     "name": "stderr",
     "output_type": "stream",
     "text": [
      " 12%|█▏        | 761/6352 [42:39<5:13:21,  3.36s/it]"
     ]
    },
    {
     "name": "stdout",
     "output_type": "stream",
     "text": [
      "found 760, 8291754, 34\n"
     ]
    },
    {
     "name": "stderr",
     "output_type": "stream",
     "text": [
      "\r",
      " 12%|█▏        | 762/6352 [42:46<5:13:49,  3.37s/it]"
     ]
    },
    {
     "name": "stdout",
     "output_type": "stream",
     "text": [
      "found 761, 8151323, 35\n"
     ]
    },
    {
     "name": "stderr",
     "output_type": "stream",
     "text": [
      " 12%|█▏        | 774/6352 [43:25<5:12:57,  3.37s/it]"
     ]
    },
    {
     "name": "stdout",
     "output_type": "stream",
     "text": [
      "found 773, 8113316, 36\n"
     ]
    },
    {
     "name": "stderr",
     "output_type": "stream",
     "text": [
      " 12%|█▏        | 777/6352 [43:34<5:12:42,  3.37s/it]"
     ]
    },
    {
     "name": "stdout",
     "output_type": "stream",
     "text": [
      "found 776, 8226943, 37\n"
     ]
    },
    {
     "name": "stderr",
     "output_type": "stream",
     "text": [
      " 13%|█▎        | 823/6352 [46:18<5:11:07,  3.38s/it]"
     ]
    },
    {
     "name": "stdout",
     "output_type": "stream",
     "text": [
      "found 822, 8106402, 38\n"
     ]
    },
    {
     "name": "stderr",
     "output_type": "stream",
     "text": [
      " 13%|█▎        | 829/6352 [46:39<5:10:54,  3.38s/it]"
     ]
    },
    {
     "name": "stdout",
     "output_type": "stream",
     "text": [
      "found 828, 8200899, 39\n"
     ]
    },
    {
     "name": "stderr",
     "output_type": "stream",
     "text": [
      " 13%|█▎        | 845/6352 [47:31<5:09:41,  3.37s/it]"
     ]
    },
    {
     "name": "stdout",
     "output_type": "stream",
     "text": [
      "found 844, 8163144, 40\n"
     ]
    },
    {
     "name": "stderr",
     "output_type": "stream",
     "text": [
      " 14%|█▎        | 867/6352 [48:42<5:08:06,  3.37s/it]"
     ]
    },
    {
     "name": "stdout",
     "output_type": "stream",
     "text": [
      "found 866, 8238313, 41\n"
     ]
    },
    {
     "name": "stderr",
     "output_type": "stream",
     "text": [
      "\r",
      " 14%|█▎        | 868/6352 [48:42<5:07:47,  3.37s/it]"
     ]
    },
    {
     "name": "stdout",
     "output_type": "stream",
     "text": [
      "found 867, 8325073, 42\n"
     ]
    },
    {
     "name": "stderr",
     "output_type": "stream",
     "text": [
      " 14%|█▍        | 879/6352 [49:38<5:09:06,  3.39s/it]"
     ]
    },
    {
     "name": "stdout",
     "output_type": "stream",
     "text": [
      "found 878, 8145369, 43\n"
     ]
    },
    {
     "name": "stderr",
     "output_type": "stream",
     "text": [
      " 14%|█▍        | 898/6352 [50:48<5:08:37,  3.40s/it]"
     ]
    },
    {
     "name": "stdout",
     "output_type": "stream",
     "text": [
      "found 897, 8129836, 44\n"
     ]
    },
    {
     "name": "stderr",
     "output_type": "stream",
     "text": [
      " 15%|█▍        | 922/6352 [51:47<5:04:59,  3.37s/it]"
     ]
    },
    {
     "name": "stdout",
     "output_type": "stream",
     "text": [
      "found 921, 8088025, 45\n"
     ]
    },
    {
     "name": "stderr",
     "output_type": "stream",
     "text": [
      " 15%|█▍        | 928/6352 [52:08<5:04:45,  3.37s/it]"
     ]
    },
    {
     "name": "stdout",
     "output_type": "stream",
     "text": [
      "found 927, 8132770, 46\n"
     ]
    },
    {
     "name": "stderr",
     "output_type": "stream",
     "text": [
      " 15%|█▍        | 930/6352 [52:23<5:05:25,  3.38s/it]"
     ]
    },
    {
     "name": "stdout",
     "output_type": "stream",
     "text": [
      "found 929, 8263863, 47\n"
     ]
    },
    {
     "name": "stderr",
     "output_type": "stream",
     "text": [
      "\r",
      " 15%|█▍        | 931/6352 [52:24<5:05:06,  3.38s/it]"
     ]
    },
    {
     "name": "stdout",
     "output_type": "stream",
     "text": [
      "found 930, 8329172, 48\n"
     ]
    },
    {
     "name": "stderr",
     "output_type": "stream",
     "text": [
      " 15%|█▌        | 964/6352 [56:21<5:15:00,  3.51s/it]"
     ]
    },
    {
     "name": "stdout",
     "output_type": "stream",
     "text": [
      "found 963, 8112505, 49\n"
     ]
    },
    {
     "name": "stderr",
     "output_type": "stream",
     "text": [
      " 16%|█▌        | 992/6352 [1:00:25<5:26:30,  3.65s/it]"
     ]
    },
    {
     "name": "stdout",
     "output_type": "stream",
     "text": [
      "found 991, 8274319, 50\n"
     ]
    },
    {
     "name": "stderr",
     "output_type": "stream",
     "text": [
      " 16%|█▌        | 1018/6352 [1:04:06<5:35:53,  3.78s/it]"
     ]
    },
    {
     "name": "stdout",
     "output_type": "stream",
     "text": [
      "found 1017, 8179078, 51\n"
     ]
    },
    {
     "name": "stderr",
     "output_type": "stream",
     "text": [
      " 16%|█▋        | 1045/6352 [1:10:10<5:56:23,  4.03s/it]"
     ]
    },
    {
     "name": "stdout",
     "output_type": "stream",
     "text": [
      "found 1044, 8173208, 52\n"
     ]
    },
    {
     "name": "stderr",
     "output_type": "stream",
     "text": [
      "\r",
      " 16%|█▋        | 1046/6352 [1:10:11<5:56:03,  4.03s/it]"
     ]
    },
    {
     "name": "stdout",
     "output_type": "stream",
     "text": [
      "found 1045, 8279279, 53\n"
     ]
    },
    {
     "name": "stderr",
     "output_type": "stream",
     "text": [
      " 17%|█▋        | 1063/6352 [1:14:12<6:09:11,  4.19s/it]"
     ]
    },
    {
     "name": "stdout",
     "output_type": "stream",
     "text": [
      "found 1062, 8234395, 54\n"
     ]
    },
    {
     "name": "stderr",
     "output_type": "stream",
     "text": [
      " 17%|█▋        | 1072/6352 [1:15:04<6:09:48,  4.20s/it]"
     ]
    },
    {
     "name": "stdout",
     "output_type": "stream",
     "text": [
      "found 1071, 8333054, 55\n"
     ]
    },
    {
     "name": "stderr",
     "output_type": "stream",
     "text": [
      " 17%|█▋        | 1080/6352 [1:16:32<6:13:36,  4.25s/it]"
     ]
    },
    {
     "name": "stdout",
     "output_type": "stream",
     "text": [
      "found 1079, 8108040, 56\n"
     ]
    },
    {
     "name": "stderr",
     "output_type": "stream",
     "text": [
      " 17%|█▋        | 1097/6352 [1:19:15<6:19:40,  4.34s/it]"
     ]
    },
    {
     "name": "stdout",
     "output_type": "stream",
     "text": [
      "found 1096, 8149102, 57\n"
     ]
    },
    {
     "name": "stderr",
     "output_type": "stream",
     "text": [
      " 17%|█▋        | 1103/6352 [1:21:06<6:25:58,  4.41s/it]"
     ]
    },
    {
     "name": "stdout",
     "output_type": "stream",
     "text": [
      "found 1102, 8150616, 58\n"
     ]
    },
    {
     "name": "stderr",
     "output_type": "stream",
     "text": [
      " 17%|█▋        | 1110/6352 [1:22:21<6:28:55,  4.45s/it]"
     ]
    },
    {
     "name": "stdout",
     "output_type": "stream",
     "text": [
      "found 1109, 8300293, 59\n"
     ]
    },
    {
     "name": "stderr",
     "output_type": "stream",
     "text": [
      " 18%|█▊        | 1131/6352 [1:26:40<6:40:08,  4.60s/it]"
     ]
    },
    {
     "name": "stdout",
     "output_type": "stream",
     "text": [
      "found 1130, 8219729, 60\n"
     ]
    },
    {
     "name": "stderr",
     "output_type": "stream",
     "text": [
      " 19%|█▊        | 1180/6352 [1:32:27<6:45:16,  4.70s/it]"
     ]
    },
    {
     "name": "stdout",
     "output_type": "stream",
     "text": [
      "found 1179, 8129444, 61\n"
     ]
    },
    {
     "name": "stderr",
     "output_type": "stream",
     "text": [
      " 19%|█▉        | 1208/6352 [1:34:59<6:44:32,  4.72s/it]"
     ]
    },
    {
     "name": "stdout",
     "output_type": "stream",
     "text": [
      "found 1207, 8191678, 62\n"
     ]
    },
    {
     "name": "stderr",
     "output_type": "stream",
     "text": [
      " 19%|█▉        | 1222/6352 [1:36:34<6:45:25,  4.74s/it]"
     ]
    },
    {
     "name": "stdout",
     "output_type": "stream",
     "text": [
      "found 1221, 8264060, 63\n"
     ]
    },
    {
     "name": "stderr",
     "output_type": "stream",
     "text": [
      " 19%|█▉        | 1234/6352 [1:38:33<6:48:44,  4.79s/it]"
     ]
    },
    {
     "name": "stdout",
     "output_type": "stream",
     "text": [
      "found 1233, 8263645, 64\n"
     ]
    },
    {
     "name": "stderr",
     "output_type": "stream",
     "text": [
      " 20%|██        | 1292/6352 [1:47:40<7:01:42,  5.00s/it]"
     ]
    },
    {
     "name": "stdout",
     "output_type": "stream",
     "text": [
      "found 1291, 8143726, 65\n"
     ]
    },
    {
     "name": "stderr",
     "output_type": "stream",
     "text": [
      " 20%|██        | 1301/6352 [1:48:41<7:02:00,  5.01s/it]"
     ]
    },
    {
     "name": "stdout",
     "output_type": "stream",
     "text": [
      "found 1300, 8289171, 66\n"
     ]
    },
    {
     "name": "stderr",
     "output_type": "stream",
     "text": [
      " 21%|██        | 1313/6352 [1:51:38<7:08:26,  5.10s/it]"
     ]
    },
    {
     "name": "stdout",
     "output_type": "stream",
     "text": [
      "found 1312, 8205421, 67\n"
     ]
    },
    {
     "name": "stderr",
     "output_type": "stream",
     "text": [
      " 21%|██        | 1315/6352 [1:51:58<7:08:56,  5.11s/it]"
     ]
    },
    {
     "name": "stdout",
     "output_type": "stream",
     "text": [
      "found 1314, 8172617, 68\n"
     ]
    },
    {
     "name": "stderr",
     "output_type": "stream",
     "text": [
      " 21%|██▏       | 1355/6352 [1:58:45<7:17:59,  5.26s/it]"
     ]
    },
    {
     "name": "stdout",
     "output_type": "stream",
     "text": [
      "found 1354, 8241251, 69\n"
     ]
    },
    {
     "name": "stderr",
     "output_type": "stream",
     "text": [
      " 21%|██▏       | 1359/6352 [1:59:07<7:17:38,  5.26s/it]"
     ]
    },
    {
     "name": "stdout",
     "output_type": "stream",
     "text": [
      "found 1358, 8265321, 70\n"
     ]
    },
    {
     "name": "stderr",
     "output_type": "stream",
     "text": [
      " 22%|██▏       | 1390/6352 [2:07:18<7:34:27,  5.50s/it]"
     ]
    },
    {
     "name": "stdout",
     "output_type": "stream",
     "text": [
      "found 1389, 8248851, 71\n"
     ]
    },
    {
     "name": "stderr",
     "output_type": "stream",
     "text": [
      " 22%|██▏       | 1412/6352 [2:11:34<7:40:18,  5.59s/it]"
     ]
    },
    {
     "name": "stdout",
     "output_type": "stream",
     "text": [
      "found 1411, 8095417, 72\n"
     ]
    },
    {
     "name": "stderr",
     "output_type": "stream",
     "text": [
      " 23%|██▎       | 1488/6352 [2:22:20<7:45:18,  5.74s/it]"
     ]
    },
    {
     "name": "stdout",
     "output_type": "stream",
     "text": [
      "found 1487, 8312484, 73\n"
     ]
    },
    {
     "name": "stderr",
     "output_type": "stream",
     "text": [
      " 23%|██▎       | 1492/6352 [2:22:58<7:45:44,  5.75s/it]"
     ]
    },
    {
     "name": "stdout",
     "output_type": "stream",
     "text": [
      "found 1491, 8107663, 74\n"
     ]
    },
    {
     "name": "stderr",
     "output_type": "stream",
     "text": [
      " 24%|██▍       | 1511/6352 [2:26:13<7:48:30,  5.81s/it]"
     ]
    },
    {
     "name": "stdout",
     "output_type": "stream",
     "text": [
      "found 1510, 8200626, 75\n"
     ]
    },
    {
     "name": "stderr",
     "output_type": "stream",
     "text": [
      " 24%|██▍       | 1520/6352 [2:28:37<7:52:27,  5.87s/it]"
     ]
    },
    {
     "name": "stdout",
     "output_type": "stream",
     "text": [
      "Skip 8 beginning key cand: 8000724, 10\n"
     ]
    },
    {
     "name": "stderr",
     "output_type": "stream",
     "text": [
      " 24%|██▍       | 1535/6352 [2:30:37<7:52:41,  5.89s/it]"
     ]
    },
    {
     "name": "stdout",
     "output_type": "stream",
     "text": [
      "found 1534, 8214213, 76\n"
     ]
    },
    {
     "name": "stderr",
     "output_type": "stream",
     "text": [
      " 24%|██▍       | 1550/6352 [2:32:48<7:53:25,  5.92s/it]"
     ]
    },
    {
     "name": "stdout",
     "output_type": "stream",
     "text": [
      "found 1549, 8197775, 77\n"
     ]
    },
    {
     "name": "stderr",
     "output_type": "stream",
     "text": [
      " 24%|██▍       | 1556/6352 [2:34:01<7:54:45,  5.94s/it]"
     ]
    },
    {
     "name": "stdout",
     "output_type": "stream",
     "text": [
      "found 1555, 8315812, 78\n"
     ]
    },
    {
     "name": "stderr",
     "output_type": "stream",
     "text": [
      " 25%|██▌       | 1590/6352 [2:37:39<7:52:11,  5.95s/it]"
     ]
    },
    {
     "name": "stdout",
     "output_type": "stream",
     "text": [
      "found 1589, 8325093, 79\n"
     ]
    },
    {
     "name": "stderr",
     "output_type": "stream",
     "text": [
      " 25%|██▌       | 1600/6352 [2:39:22<7:53:19,  5.98s/it]"
     ]
    },
    {
     "name": "stdout",
     "output_type": "stream",
     "text": [
      "found 1599, 8291452, 80\n"
     ]
    },
    {
     "name": "stderr",
     "output_type": "stream",
     "text": [
      " 25%|██▌       | 1603/6352 [2:39:39<7:53:01,  5.98s/it]"
     ]
    },
    {
     "name": "stdout",
     "output_type": "stream",
     "text": [
      "found 1602, 8100537, 81\n"
     ]
    },
    {
     "name": "stderr",
     "output_type": "stream",
     "text": [
      " 25%|██▌       | 1608/6352 [2:40:01<7:52:08,  5.97s/it]"
     ]
    },
    {
     "name": "stdout",
     "output_type": "stream",
     "text": [
      "found 1607, 8139945, 82\n"
     ]
    },
    {
     "name": "stderr",
     "output_type": "stream",
     "text": [
      " 26%|██▌       | 1624/6352 [2:43:09<7:55:01,  6.03s/it]"
     ]
    },
    {
     "ename": "Exception",
     "evalue": "no end tagname found",
     "output_type": "error",
     "traceback": [
      "\u001b[0;31m---------------------------------------------------------------------------\u001b[0m",
      "\u001b[0;31mException\u001b[0m                                 Traceback (most recent call last)",
      "\u001b[0;32m<ipython-input-88-45f4d69f52e7>\u001b[0m in \u001b[0;36m<module>\u001b[0;34m()\u001b[0m\n\u001b[1;32m      6\u001b[0m             \u001b[0mprint\u001b[0m\u001b[0;34m(\u001b[0m\u001b[0;34m\"Skip 8 beginning key cand: {}, {}\"\u001b[0m\u001b[0;34m.\u001b[0m\u001b[0mformat\u001b[0m\u001b[0;34m(\u001b[0m\u001b[0mkey_cand\u001b[0m\u001b[0;34m,\u001b[0m \u001b[0mlen\u001b[0m\u001b[0;34m(\u001b[0m\u001b[0mtup_list\u001b[0m\u001b[0;34m)\u001b[0m\u001b[0;34m)\u001b[0m\u001b[0;34m)\u001b[0m\u001b[0;34m\u001b[0m\u001b[0m\n\u001b[1;32m      7\u001b[0m     \u001b[0;32melse\u001b[0m\u001b[0;34m:\u001b[0m\u001b[0;34m\u001b[0m\u001b[0m\n\u001b[0;32m----> 8\u001b[0;31m         \u001b[0mreal_pat\u001b[0m \u001b[0;34m=\u001b[0m \u001b[0mget_real_patent\u001b[0m\u001b[0;34m(\u001b[0m\u001b[0;34m\"us-patent-grant\"\u001b[0m\u001b[0;34m,\u001b[0m \u001b[0mkey_cand\u001b[0m\u001b[0;34m,\u001b[0m \u001b[0mtup_list\u001b[0m\u001b[0;34m)\u001b[0m\u001b[0;34m\u001b[0m\u001b[0m\n\u001b[0m\u001b[1;32m      9\u001b[0m         \u001b[0;32mif\u001b[0m \u001b[0mreal_pat\u001b[0m\u001b[0;34m:\u001b[0m\u001b[0;34m\u001b[0m\u001b[0m\n\u001b[1;32m     10\u001b[0m             \u001b[0mpatent_grants_dic\u001b[0m\u001b[0;34m[\u001b[0m\u001b[0mkey_cand\u001b[0m\u001b[0;34m]\u001b[0m \u001b[0;34m=\u001b[0m \u001b[0mreal_pat\u001b[0m\u001b[0;34m\u001b[0m\u001b[0m\n",
      "\u001b[0;32m<ipython-input-64-5ead6822a53b>\u001b[0m in \u001b[0;36mget_real_patent\u001b[0;34m(tagname, key_cand, tup_list)\u001b[0m\n\u001b[1;32m      1\u001b[0m \u001b[0;32mdef\u001b[0m \u001b[0mget_real_patent\u001b[0m\u001b[0;34m(\u001b[0m\u001b[0mtagname\u001b[0m\u001b[0;34m,\u001b[0m \u001b[0mkey_cand\u001b[0m\u001b[0;34m,\u001b[0m \u001b[0mtup_list\u001b[0m\u001b[0;34m)\u001b[0m\u001b[0;34m:\u001b[0m\u001b[0;34m\u001b[0m\u001b[0m\n\u001b[1;32m      2\u001b[0m     \u001b[0;32mfor\u001b[0m \u001b[0mtup\u001b[0m \u001b[0;32min\u001b[0m \u001b[0mtup_list\u001b[0m\u001b[0;34m:\u001b[0m\u001b[0;34m\u001b[0m\u001b[0m\n\u001b[0;32m----> 3\u001b[0;31m         \u001b[0mreal_id\u001b[0m\u001b[0;34m,\u001b[0m \u001b[0mpat_text\u001b[0m \u001b[0;34m=\u001b[0m \u001b[0mget_patent\u001b[0m\u001b[0;34m(\u001b[0m\u001b[0mtagname\u001b[0m\u001b[0;34m,\u001b[0m \u001b[0;34m'../data/'\u001b[0m \u001b[0;34m+\u001b[0m \u001b[0mtup\u001b[0m\u001b[0;34m[\u001b[0m\u001b[0;36m0\u001b[0m\u001b[0;34m]\u001b[0m\u001b[0;34m,\u001b[0m \u001b[0mtup\u001b[0m\u001b[0;34m[\u001b[0m\u001b[0;36m1\u001b[0m\u001b[0;34m]\u001b[0m\u001b[0;34m)\u001b[0m\u001b[0;34m\u001b[0m\u001b[0m\n\u001b[0m\u001b[1;32m      4\u001b[0m         \u001b[0;32mif\u001b[0m \u001b[0mreal_id\u001b[0m \u001b[0;34m==\u001b[0m \u001b[0mkey_cand\u001b[0m\u001b[0;34m:\u001b[0m\u001b[0;34m\u001b[0m\u001b[0m\n\u001b[1;32m      5\u001b[0m             \u001b[0;32mreturn\u001b[0m \u001b[0mpat_text\u001b[0m\u001b[0;34m\u001b[0m\u001b[0m\n",
      "\u001b[0;32m<ipython-input-66-633481f38a0f>\u001b[0m in \u001b[0;36mget_patent\u001b[0;34m(tagname, file_path, target_offset)\u001b[0m\n\u001b[1;32m     10\u001b[0m     \u001b[0;32mif\u001b[0m \u001b[0mbegin_pos\u001b[0m \u001b[0;34m==\u001b[0m \u001b[0;34m-\u001b[0m\u001b[0;36m1\u001b[0m\u001b[0;34m:\u001b[0m\u001b[0;34m\u001b[0m\u001b[0m\n\u001b[1;32m     11\u001b[0m         \u001b[0;32mreturn\u001b[0m \u001b[0;32mNone\u001b[0m\u001b[0;34m,\u001b[0m \u001b[0;32mNone\u001b[0m\u001b[0;34m\u001b[0m\u001b[0m\n\u001b[0;32m---> 12\u001b[0;31m     \u001b[0mresult_patent\u001b[0m \u001b[0;34m=\u001b[0m \u001b[0mretrieve_begin_end\u001b[0m\u001b[0;34m(\u001b[0m\u001b[0mbegin_pos\u001b[0m\u001b[0;34m,\u001b[0m \u001b[0msubtext_arr\u001b[0m\u001b[0;34m,\u001b[0m \u001b[0mtagname\u001b[0m\u001b[0;34m)\u001b[0m\u001b[0;34m\u001b[0m\u001b[0m\n\u001b[0m\u001b[1;32m     13\u001b[0m     \u001b[0mdocid\u001b[0m \u001b[0;34m=\u001b[0m \u001b[0mfind_first_doc_number\u001b[0m\u001b[0;34m(\u001b[0m\u001b[0mresult_patent\u001b[0m\u001b[0;34m)\u001b[0m\u001b[0;34m\u001b[0m\u001b[0m\n\u001b[1;32m     14\u001b[0m     \u001b[0;32mreturn\u001b[0m \u001b[0mdocid\u001b[0m\u001b[0;34m,\u001b[0m \u001b[0mresult_patent\u001b[0m\u001b[0;34m\u001b[0m\u001b[0m\n",
      "\u001b[0;32m<ipython-input-38-2e3d27bc21e6>\u001b[0m in \u001b[0;36mretrieve_begin_end\u001b[0;34m(begin_offset, subtext_arr, tagname)\u001b[0m\n\u001b[1;32m      6\u001b[0m         \u001b[0;32mif\u001b[0m \u001b[0mend_tag\u001b[0m \u001b[0;32min\u001b[0m \u001b[0mline\u001b[0m\u001b[0;34m:\u001b[0m\u001b[0;34m\u001b[0m\u001b[0m\n\u001b[1;32m      7\u001b[0m             \u001b[0;32mreturn\u001b[0m \u001b[0mres\u001b[0m\u001b[0;34m\u001b[0m\u001b[0m\n\u001b[0;32m----> 8\u001b[0;31m     \u001b[0;32mraise\u001b[0m \u001b[0mException\u001b[0m\u001b[0;34m(\u001b[0m\u001b[0;34m'no end tagname found'\u001b[0m\u001b[0;34m)\u001b[0m\u001b[0;34m\u001b[0m\u001b[0m\n\u001b[0m",
      "\u001b[0;31mException\u001b[0m: no end tagname found"
     ]
    }
   ],
   "source": [
    "for i, (key_cand, tup_list) in tqdm.tqdm(list(enumerate(dict_list))):\n",
    "    # print(\"{}: {}, {}\".format(i, key_cand, len(tup_list)))\n",
    "    if len(tup_list) > 5:\n",
    "        if key_cand.startswith(\"8\"):\n",
    "            print(\"Skip 8 beginning key cand: {}, {}\".format(key_cand, len(tup_list)))\n",
    "    else:\n",
    "        real_pat = get_real_patent(\"us-patent-grant\", key_cand, tup_list)\n",
    "        if real_pat:\n",
    "            patent_grants_dic[key_cand] = real_pat \n",
    "            print(\"found {}, {}, {}\".format(i, key_cand, len(list(patent_grants_dic.keys()))))"
   ]
  },
  {
   "cell_type": "raw",
   "metadata": {},
   "source": [
    "# log backup\n",
    "  0%|          | 20/6352 [00:34<3:04:26,  1.75s/it]\n",
    "found 19, 8202487, 1\n",
    "  1%|          | 44/6352 [01:28<3:31:04,  2.01s/it]\n",
    "found 43, 8114845, 2\n",
    "  1%|▏         | 84/6352 [03:36<4:29:46,  2.58s/it]\n",
    "found 83, 8140012, 3\n",
    "  2%|▏         | 105/6352 [04:26<4:24:24,  2.54s/it]\n",
    "found 104, 8144683, 4\n",
    "  2%|▏         | 113/6352 [04:49<4:26:24,  2.56s/it]\n",
    "found 112, 8138863, 5\n",
    "  3%|▎         | 197/6352 [10:07<5:16:05,  3.08s/it]\n",
    "found 196, 8095929, 6\n",
    "  3%|▎         | 219/6352 [11:19<5:17:12,  3.10s/it]\n",
    "found 218, 8289665, 7\n",
    "  4%|▎         | 224/6352 [11:38<5:18:36,  3.12s/it]\n",
    "found 223, 8087315, 8\n",
    "  4%|▎         | 227/6352 [11:41<5:15:21,  3.09s/it]\n",
    "found 226, 8322805, 9\n",
    "  4%|▍         | 246/6352 [12:40<5:14:31,  3.09s/it]\n",
    "found 245, 8147894, 10\n",
    "  4%|▍         | 258/6352 [13:39<5:22:31,  3.18s/it]\n",
    "found 257, 8118868, 11\n",
    "  4%|▍         | 280/6352 [15:11<5:29:33,  3.26s/it]\n",
    "found 279, 8101436, 12\n",
    "  5%|▌         | 327/6352 [17:34<5:23:42,  3.22s/it]\n",
    "found 326, 8331747, 13\n",
    "  6%|▌         | 369/6352 [19:42<5:19:34,  3.20s/it]\n",
    "found 368, 8239267, 14\n",
    "  7%|▋         | 435/6352 [23:53<5:25:02,  3.30s/it]\n",
    "found 434, 8307045, 15\n",
    "  7%|▋         | 474/6352 [26:29<5:28:30,  3.35s/it]\n",
    "found 473, 8169523, 16\n",
    "  8%|▊         | 507/6352 [28:20<5:26:41,  3.35s/it]\n",
    "found 506, 8270788, 17\n",
    "  8%|▊         | 528/6352 [29:26<5:24:43,  3.35s/it]\n",
    "found 527, 8199013, 18\n",
    "  8%|▊         | 531/6352 [29:28<5:23:11,  3.33s/it]\n",
    "found 530, 8289837, 19\n",
    "  9%|▉         | 556/6352 [30:43<5:20:15,  3.32s/it]\n",
    "found 555, 8123234, 20\n",
    "  9%|▉         | 575/6352 [31:37<5:17:48,  3.30s/it]\n",
    "found 574, 8292411, 21\n",
    "  9%|▉         | 577/6352 [31:38<5:16:42,  3.29s/it]\n",
    "found 576, 8166718, 22\n",
    "  9%|▉         | 589/6352 [32:24<5:17:08,  3.30s/it]\n",
    "found 588, 8297738, 23\n",
    " 10%|▉         | 621/6352 [33:42<5:11:01,  3.26s/it]\n",
    "found 620, 8106186, 24\n",
    " 10%|▉         | 623/6352 [33:42<5:10:01,  3.25s/it]\n",
    "found 622, 8185850, 25\n",
    " 10%|▉         | 625/6352 [33:44<5:09:09,  3.24s/it]\n",
    "found 624, 8201268, 26\n",
    " 10%|▉         | 628/6352 [33:46<5:07:51,  3.23s/it]\n",
    "found 627, 8123510, 27\n",
    " 10%|▉         | 632/6352 [33:54<5:06:54,  3.22s/it]\n",
    "found 631, 8206358, 28\n",
    " 11%|█         | 670/6352 [36:10<5:06:47,  3.24s/it]\n",
    "found 669, 8327128, 29\n",
    " 11%|█         | 676/6352 [36:19<5:04:57,  3.22s/it]\n",
    "found 675, 8263886, 30\n",
    " 11%|█         | 679/6352 [36:23<5:03:59,  3.22s/it]\n",
    "found 678, 8250085, 31\n",
    " 11%|█         | 707/6352 [38:36<5:08:15,  3.28s/it]\n",
    "found 706, 8140786, 32\n",
    " 12%|█▏        | 750/6352 [41:26<5:09:31,  3.32s/it]\n",
    "found 749, 8151694, 33\n",
    " 12%|█▏        | 761/6352 [42:39<5:13:21,  3.36s/it]\n",
    "found 760, 8291754, 34\n",
    " 12%|█▏        | 762/6352 [42:46<5:13:49,  3.37s/it]\n",
    "found 761, 8151323, 35\n",
    " 12%|█▏        | 774/6352 [43:25<5:12:57,  3.37s/it]\n",
    "found 773, 8113316, 36\n",
    " 12%|█▏        | 777/6352 [43:34<5:12:42,  3.37s/it]\n",
    "found 776, 8226943, 37\n",
    " 13%|█▎        | 823/6352 [46:18<5:11:07,  3.38s/it]\n",
    "found 822, 8106402, 38\n",
    " 13%|█▎        | 829/6352 [46:39<5:10:54,  3.38s/it]\n",
    "found 828, 8200899, 39\n",
    " 13%|█▎        | 845/6352 [47:31<5:09:41,  3.37s/it]\n",
    "found 844, 8163144, 40\n",
    " 14%|█▎        | 867/6352 [48:42<5:08:06,  3.37s/it]\n",
    "found 866, 8238313, 41\n",
    " 14%|█▎        | 868/6352 [48:42<5:07:47,  3.37s/it]\n",
    "found 867, 8325073, 42\n",
    " 14%|█▍        | 879/6352 [49:38<5:09:06,  3.39s/it]\n",
    "found 878, 8145369, 43\n",
    " 14%|█▍        | 898/6352 [50:48<5:08:37,  3.40s/it]\n",
    "found 897, 8129836, 44\n",
    " 15%|█▍        | 922/6352 [51:47<5:04:59,  3.37s/it]\n",
    "found 921, 8088025, 45\n",
    " 15%|█▍        | 928/6352 [52:08<5:04:45,  3.37s/it]\n",
    "found 927, 8132770, 46\n",
    " 15%|█▍        | 930/6352 [52:23<5:05:25,  3.38s/it]\n",
    "found 929, 8263863, 47\n",
    " 15%|█▍        | 931/6352 [52:24<5:05:06,  3.38s/it]\n",
    "found 930, 8329172, 48\n",
    " 15%|█▌        | 964/6352 [56:21<5:15:00,  3.51s/it]\n",
    "found 963, 8112505, 49\n",
    " 16%|█▌        | 992/6352 [1:00:25<5:26:30,  3.65s/it]\n",
    "found 991, 8274319, 50\n",
    " 16%|█▌        | 1018/6352 [1:04:06<5:35:53,  3.78s/it]\n",
    "found 1017, 8179078, 51\n",
    " 16%|█▋        | 1045/6352 [1:10:10<5:56:23,  4.03s/it]\n",
    "found 1044, 8173208, 52\n",
    " 16%|█▋        | 1046/6352 [1:10:11<5:56:03,  4.03s/it]\n",
    "found 1045, 8279279, 53\n",
    " 17%|█▋        | 1063/6352 [1:14:12<6:09:11,  4.19s/it]\n",
    "found 1062, 8234395, 54\n",
    " 17%|█▋        | 1072/6352 [1:15:04<6:09:48,  4.20s/it]\n",
    "found 1071, 8333054, 55\n",
    " 17%|█▋        | 1080/6352 [1:16:32<6:13:36,  4.25s/it]\n",
    "found 1079, 8108040, 56\n",
    " 17%|█▋        | 1097/6352 [1:19:15<6:19:40,  4.34s/it]\n",
    "found 1096, 8149102, 57\n",
    " 17%|█▋        | 1103/6352 [1:21:06<6:25:58,  4.41s/it]\n",
    "found 1102, 8150616, 58\n",
    " 17%|█▋        | 1110/6352 [1:22:21<6:28:55,  4.45s/it]\n",
    "found 1109, 8300293, 59\n",
    " 18%|█▊        | 1131/6352 [1:26:40<6:40:08,  4.60s/it]\n",
    "found 1130, 8219729, 60\n",
    " 19%|█▊        | 1180/6352 [1:32:27<6:45:16,  4.70s/it]\n",
    "found 1179, 8129444, 61\n",
    " 19%|█▉        | 1208/6352 [1:34:59<6:44:32,  4.72s/it]\n",
    "found 1207, 8191678, 62\n",
    " 19%|█▉        | 1222/6352 [1:36:34<6:45:25,  4.74s/it]\n",
    "found 1221, 8264060, 63\n",
    " 19%|█▉        | 1234/6352 [1:38:33<6:48:44,  4.79s/it]\n",
    "found 1233, 8263645, 64\n",
    " 20%|██        | 1292/6352 [1:47:40<7:01:42,  5.00s/it]\n",
    "found 1291, 8143726, 65\n",
    " 20%|██        | 1301/6352 [1:48:41<7:02:00,  5.01s/it]\n",
    "found 1300, 8289171, 66\n",
    " 21%|██        | 1313/6352 [1:51:38<7:08:26,  5.10s/it]\n",
    "found 1312, 8205421, 67\n",
    " 21%|██        | 1315/6352 [1:51:58<7:08:56,  5.11s/it]\n",
    "found 1314, 8172617, 68\n",
    " 21%|██▏       | 1355/6352 [1:58:45<7:17:59,  5.26s/it]\n",
    "found 1354, 8241251, 69\n",
    " 21%|██▏       | 1359/6352 [1:59:07<7:17:38,  5.26s/it]\n",
    "found 1358, 8265321, 70\n",
    " 22%|██▏       | 1390/6352 [2:07:18<7:34:27,  5.50s/it]\n",
    "found 1389, 8248851, 71\n",
    " 22%|██▏       | 1412/6352 [2:11:34<7:40:18,  5.59s/it]\n",
    "found 1411, 8095417, 72\n",
    " 23%|██▎       | 1488/6352 [2:22:20<7:45:18,  5.74s/it]\n",
    "found 1487, 8312484, 73\n",
    " 23%|██▎       | 1492/6352 [2:22:58<7:45:44,  5.75s/it]\n",
    "found 1491, 8107663, 74\n",
    " 24%|██▍       | 1511/6352 [2:26:13<7:48:30,  5.81s/it]\n",
    "found 1510, 8200626, 75\n",
    " 24%|██▍       | 1520/6352 [2:28:37<7:52:27,  5.87s/it]\n",
    "Skip 8 beginning key cand: 8000724, 10\n",
    " 24%|██▍       | 1535/6352 [2:30:37<7:52:41,  5.89s/it]\n",
    "found 1534, 8214213, 76\n",
    " 24%|██▍       | 1550/6352 [2:32:48<7:53:25,  5.92s/it]\n",
    "found 1549, 8197775, 77\n",
    " 24%|██▍       | 1556/6352 [2:34:01<7:54:45,  5.94s/it]\n",
    "found 1555, 8315812, 78\n",
    " 25%|██▌       | 1590/6352 [2:37:39<7:52:11,  5.95s/it]\n",
    "found 1589, 8325093, 79\n",
    " 25%|██▌       | 1600/6352 [2:39:22<7:53:19,  5.98s/it]\n",
    "found 1599, 8291452, 80\n",
    " 25%|██▌       | 1603/6352 [2:39:39<7:53:01,  5.98s/it]\n",
    "found 1602, 8100537, 81\n",
    " 25%|██▌       | 1608/6352 [2:40:01<7:52:08,  5.97s/it]\n",
    "found 1607, 8139945, 82\n",
    " 26%|██▌       | 1624/6352 [2:43:09<7:55:01,  6.03s/it]\n",
    "---------------------------------------------------------------------------\n",
    "Exception                                 Traceback (most recent call last)\n",
    "<ipython-input-88-45f4d69f52e7> in <module>()\n",
    "      6             print(\"Skip 8 beginning key cand: {}, {}\".format(key_cand, len(tup_list)))\n",
    "      7     else:\n",
    "----> 8         real_pat = get_real_patent(\"us-patent-grant\", key_cand, tup_list)\n",
    "      9         if real_pat:\n",
    "     10             patent_grants_dic[key_cand] = real_pat\n",
    "\n",
    "<ipython-input-64-5ead6822a53b> in get_real_patent(tagname, key_cand, tup_list)\n",
    "      1 def get_real_patent(tagname, key_cand, tup_list):\n",
    "      2     for tup in tup_list:\n",
    "----> 3         real_id, pat_text = get_patent(tagname, '../data/' + tup[0], tup[1])\n",
    "      4         if real_id == key_cand:\n",
    "      5             return pat_text\n",
    "\n",
    "<ipython-input-66-633481f38a0f> in get_patent(tagname, file_path, target_offset)\n",
    "     10     if begin_pos == -1:\n",
    "     11         return None, None\n",
    "---> 12     result_patent = retrieve_begin_end(begin_pos, subtext_arr, tagname)\n",
    "     13     docid = find_first_doc_number(result_patent)\n",
    "     14     return docid, result_patent\n",
    "\n",
    "<ipython-input-38-2e3d27bc21e6> in retrieve_begin_end(begin_offset, subtext_arr, tagname)\n",
    "      6         if end_tag in line:\n",
    "      7             return res\n",
    "----> 8     raise Exception('no end tagname found')\n",
    "\n",
    "Exception: no end tagname found\n"
   ]
  },
  {
   "cell_type": "code",
   "execution_count": null,
   "metadata": {},
   "outputs": [],
   "source": []
  },
  {
   "cell_type": "code",
   "execution_count": 89,
   "metadata": {},
   "outputs": [],
   "source": [
    "import pickle"
   ]
  },
  {
   "cell_type": "code",
   "execution_count": 90,
   "metadata": {},
   "outputs": [
    {
     "data": {
      "text/plain": [
       "82"
      ]
     },
     "execution_count": 90,
     "metadata": {},
     "output_type": "execute_result"
    }
   ],
   "source": [
    "len(patent_grants_dic)"
   ]
  },
  {
   "cell_type": "code",
   "execution_count": 91,
   "metadata": {},
   "outputs": [],
   "source": [
    "with open(\"../data/patent_grants_82dic.dat\", 'wb') as f:\n",
    "    pickle.dump(patent_grants_dic, f)"
   ]
  },
  {
   "cell_type": "code",
   "execution_count": 93,
   "metadata": {},
   "outputs": [],
   "source": [
    "with open(\"../data/patent_grants_candidate_tuplist.dat\", 'wb') as f:\n",
    "    pickle.dump(dict_list, f)"
   ]
  },
  {
   "cell_type": "code",
   "execution_count": 94,
   "metadata": {},
   "outputs": [],
   "source": [
    "founded_keys = set(patent_grants_dic.keys())"
   ]
  },
  {
   "cell_type": "code",
   "execution_count": 97,
   "metadata": {},
   "outputs": [
    {
     "data": {
      "text/plain": [
       "[('8202487', 1),\n",
       " ('8114845', 2),\n",
       " ('8140012', 1),\n",
       " ('8144683', 1),\n",
       " ('8138863', 1),\n",
       " ('8095929', 2),\n",
       " ('8289665', 1),\n",
       " ('8087315', 2),\n",
       " ('8322805', 1),\n",
       " ('8147894', 1),\n",
       " ('8118868', 1),\n",
       " ('8101436', 1),\n",
       " ('8331747', 1),\n",
       " ('8239267', 1),\n",
       " ('8307045', 1),\n",
       " ('8169523', 1),\n",
       " ('8270788', 1),\n",
       " ('8199013', 1),\n",
       " ('8289837', 1),\n",
       " ('8123234', 1),\n",
       " ('8292411', 1),\n",
       " ('8166718', 1),\n",
       " ('8297738', 1),\n",
       " ('8106186', 1),\n",
       " ('8185850', 1),\n",
       " ('8201268', 2),\n",
       " ('8123510', 1),\n",
       " ('8206358', 1),\n",
       " ('8327128', 1),\n",
       " ('8263886', 1),\n",
       " ('8250085', 1),\n",
       " ('8140786', 3),\n",
       " ('8151694', 1),\n",
       " ('8291754', 1),\n",
       " ('8151323', 1),\n",
       " ('8113316', 1),\n",
       " ('8226943', 2),\n",
       " ('8106402', 1),\n",
       " ('8200899', 1),\n",
       " ('8163144', 1),\n",
       " ('8238313', 1),\n",
       " ('8325073', 1),\n",
       " ('8145369', 2),\n",
       " ('8129836', 1),\n",
       " ('8088025', 2),\n",
       " ('8132770', 1),\n",
       " ('8263863', 1),\n",
       " ('8329172', 1),\n",
       " ('8112505', 3),\n",
       " ('8274319', 1),\n",
       " ('8179078', 1),\n",
       " ('8173208', 1),\n",
       " ('8279279', 1),\n",
       " ('8234395', 2),\n",
       " ('8333054', 1),\n",
       " ('8108040', 1),\n",
       " ('8149102', 1),\n",
       " ('8150616', 1),\n",
       " ('8300293', 1),\n",
       " ('8219729', 1),\n",
       " ('8129444', 1),\n",
       " ('8191678', 1),\n",
       " ('8264060', 1),\n",
       " ('8263645', 1),\n",
       " ('8143726', 1),\n",
       " ('8289171', 1),\n",
       " ('8205421', 1),\n",
       " ('8172617', 1),\n",
       " ('8241251', 1),\n",
       " ('8265321', 1),\n",
       " ('8248851', 1),\n",
       " ('8095417', 1),\n",
       " ('8312484', 1),\n",
       " ('8107663', 2),\n",
       " ('8200626', 1),\n",
       " ('8214213', 1),\n",
       " ('8197775', 1),\n",
       " ('8315812', 1),\n",
       " ('8325093', 1),\n",
       " ('8291452', 1),\n",
       " ('8100537', 2),\n",
       " ('8139945', 1)]"
      ]
     },
     "execution_count": 97,
     "metadata": {},
     "output_type": "execute_result"
    }
   ],
   "source": [
    "[(key, len(tuplist)) for key, tuplist in dict_list if key in founded_keys]"
   ]
  },
  {
   "cell_type": "code",
   "execution_count": null,
   "metadata": {},
   "outputs": [],
   "source": []
  },
  {
   "cell_type": "code",
   "execution_count": null,
   "metadata": {
    "scrolled": true
   },
   "outputs": [
    {
     "name": "stderr",
     "output_type": "stream",
     "text": [
      "\n",
      "  0%|          | 0/6352 [00:00<?, ?it/s]\u001b[A\n",
      " 25%|██▌       | 1610/6352 [00:01<00:03, 1371.87it/s]\u001b[A\n",
      "Exception in thread Thread-8:\n",
      "Traceback (most recent call last):\n",
      "  File \"/usr/lib/python3.5/threading.py\", line 914, in _bootstrap_inner\n",
      "    self.run()\n",
      "  File \"/usr/local/lib/python3.5/dist-packages/tqdm/_tqdm.py\", line 144, in run\n",
      "    for instance in self.tqdm_cls._instances:\n",
      "  File \"/usr/lib/python3.5/_weakrefset.py\", line 60, in __iter__\n",
      "    for itemref in self.data:\n",
      "RuntimeError: Set changed size during iteration\n",
      "\n"
     ]
    },
    {
     "name": "stdout",
     "output_type": "stream",
     "text": [
      "No end tag found, skip. 1625:2705223\n",
      "No end tag found, skip. 1641:8198448\n",
      "found 1647, 8126927, 83\n"
     ]
    },
    {
     "name": "stderr",
     "output_type": "stream",
     "text": [
      " 26%|██▌       | 1660/6352 [03:35<10:09,  7.69it/s]  "
     ]
    },
    {
     "name": "stdout",
     "output_type": "stream",
     "text": [
      "found 1659, 8098918, 84\n"
     ]
    },
    {
     "name": "stderr",
     "output_type": "stream",
     "text": [
      " 26%|██▌       | 1663/6352 [03:38<10:15,  7.62it/s]"
     ]
    },
    {
     "name": "stdout",
     "output_type": "stream",
     "text": [
      "found 1662, 8294418, 85\n"
     ]
    },
    {
     "name": "stderr",
     "output_type": "stream",
     "text": [
      " 26%|██▋       | 1670/6352 [04:00<11:14,  6.94it/s]"
     ]
    },
    {
     "name": "stdout",
     "output_type": "stream",
     "text": [
      "found 1669, 8217691, 86\n"
     ]
    },
    {
     "name": "stderr",
     "output_type": "stream",
     "text": [
      " 27%|██▋       | 1700/6352 [05:40<15:32,  4.99it/s]"
     ]
    },
    {
     "name": "stdout",
     "output_type": "stream",
     "text": [
      "found 1699, 8244674, 87\n"
     ]
    },
    {
     "name": "stderr",
     "output_type": "stream",
     "text": [
      " 27%|██▋       | 1720/6352 [07:08<19:13,  4.01it/s]"
     ]
    },
    {
     "name": "stdout",
     "output_type": "stream",
     "text": [
      "found 1719, 8140358, 88\n"
     ]
    },
    {
     "name": "stderr",
     "output_type": "stream",
     "text": [
      " 28%|██▊       | 1769/6352 [09:36<24:52,  3.07it/s]"
     ]
    },
    {
     "name": "stdout",
     "output_type": "stream",
     "text": [
      "found 1768, 8236139, 89\n"
     ]
    },
    {
     "name": "stderr",
     "output_type": "stream",
     "text": [
      " 28%|██▊       | 1780/6352 [10:57<28:07,  2.71it/s]"
     ]
    },
    {
     "name": "stdout",
     "output_type": "stream",
     "text": [
      "found 1779, 8337372, 90\n"
     ]
    },
    {
     "name": "stderr",
     "output_type": "stream",
     "text": [
      " 28%|██▊       | 1782/6352 [10:58<28:09,  2.71it/s]"
     ]
    },
    {
     "name": "stdout",
     "output_type": "stream",
     "text": [
      "found 1781, 8124477, 91\n"
     ]
    },
    {
     "name": "stderr",
     "output_type": "stream",
     "text": [
      " 28%|██▊       | 1796/6352 [11:13<28:27,  2.67it/s]"
     ]
    },
    {
     "name": "stdout",
     "output_type": "stream",
     "text": [
      "found 1795, 8127704, 92\n"
     ]
    },
    {
     "name": "stderr",
     "output_type": "stream",
     "text": [
      " 28%|██▊       | 1800/6352 [11:27<28:57,  2.62it/s]"
     ]
    },
    {
     "name": "stdout",
     "output_type": "stream",
     "text": [
      "found 1799, 8114011, 93\n"
     ]
    },
    {
     "name": "stderr",
     "output_type": "stream",
     "text": [
      " 29%|██▊       | 1812/6352 [12:22<30:59,  2.44it/s]"
     ]
    },
    {
     "name": "stdout",
     "output_type": "stream",
     "text": [
      "found 1811, 8297173, 94\n"
     ]
    },
    {
     "name": "stderr",
     "output_type": "stream",
     "text": [
      " 29%|██▉       | 1845/6352 [14:22<35:06,  2.14it/s]"
     ]
    },
    {
     "name": "stdout",
     "output_type": "stream",
     "text": [
      "found 1844, 8305453, 95\n"
     ]
    },
    {
     "name": "stderr",
     "output_type": "stream",
     "text": [
      " 29%|██▉       | 1849/6352 [14:37<35:37,  2.11it/s]"
     ]
    },
    {
     "name": "stdout",
     "output_type": "stream",
     "text": [
      "found 1848, 8097894, 96\n"
     ]
    },
    {
     "name": "stderr",
     "output_type": "stream",
     "text": [
      " 29%|██▉       | 1871/6352 [18:14<43:41,  1.71it/s]"
     ]
    },
    {
     "name": "stdout",
     "output_type": "stream",
     "text": [
      "found 1870, 8242476, 97\n"
     ]
    },
    {
     "name": "stderr",
     "output_type": "stream",
     "text": [
      " 30%|██▉       | 1896/6352 [23:50<56:02,  1.33it/s]"
     ]
    },
    {
     "name": "stdout",
     "output_type": "stream",
     "text": [
      "found 1895, 8242342, 98\n"
     ]
    },
    {
     "name": "stderr",
     "output_type": "stream",
     "text": [
      " 30%|███       | 1915/6352 [26:09<1:00:36,  1.22it/s]"
     ]
    },
    {
     "name": "stdout",
     "output_type": "stream",
     "text": [
      "found 1914, 8326533, 99\n"
     ]
    },
    {
     "name": "stderr",
     "output_type": "stream",
     "text": [
      " 30%|███       | 1922/6352 [27:17<1:02:54,  1.17it/s]"
     ]
    },
    {
     "name": "stdout",
     "output_type": "stream",
     "text": [
      "found 1921, 8268141, 100\n"
     ]
    },
    {
     "name": "stderr",
     "output_type": "stream",
     "text": [
      " 31%|███       | 1942/6352 [30:34<1:09:24,  1.06it/s]"
     ]
    },
    {
     "name": "stdout",
     "output_type": "stream",
     "text": [
      "found 1941, 8328659, 101\n"
     ]
    },
    {
     "name": "stderr",
     "output_type": "stream",
     "text": [
      " 31%|███       | 1950/6352 [31:43<1:11:36,  1.02it/s]"
     ]
    },
    {
     "name": "stdout",
     "output_type": "stream",
     "text": [
      "found 1949, 8204103, 102\n"
     ]
    },
    {
     "name": "stderr",
     "output_type": "stream",
     "text": [
      " 31%|███       | 1956/6352 [33:02<1:14:16,  1.01s/it]"
     ]
    },
    {
     "name": "stdout",
     "output_type": "stream",
     "text": [
      "found 1955, 8277780, 103\n"
     ]
    },
    {
     "name": "stderr",
     "output_type": "stream",
     "text": [
      " 31%|███       | 1967/6352 [35:25<1:18:59,  1.08s/it]"
     ]
    },
    {
     "name": "stdout",
     "output_type": "stream",
     "text": [
      "found 1966, 8250569, 104\n"
     ]
    },
    {
     "name": "stderr",
     "output_type": "stream",
     "text": [
      " 31%|███▏      | 1992/6352 [40:00<1:27:33,  1.20s/it]"
     ]
    },
    {
     "name": "stdout",
     "output_type": "stream",
     "text": [
      "found 1991, 8197048, 105\n"
     ]
    },
    {
     "name": "stderr",
     "output_type": "stream",
     "text": [
      " 32%|███▏      | 2006/6352 [41:51<1:30:40,  1.25s/it]"
     ]
    },
    {
     "name": "stdout",
     "output_type": "stream",
     "text": [
      "found 2005, 8187636, 106\n"
     ]
    },
    {
     "name": "stderr",
     "output_type": "stream",
     "text": [
      " 32%|███▏      | 2019/6352 [42:35<1:31:24,  1.27s/it]"
     ]
    },
    {
     "name": "stdout",
     "output_type": "stream",
     "text": [
      "found 2018, 8167127, 107\n"
     ]
    },
    {
     "name": "stderr",
     "output_type": "stream",
     "text": [
      " 33%|███▎      | 2069/6352 [51:19<1:46:14,  1.49s/it]"
     ]
    },
    {
     "name": "stdout",
     "output_type": "stream",
     "text": [
      "found 2068, 8241077, 108\n"
     ]
    },
    {
     "name": "stderr",
     "output_type": "stream",
     "text": [
      " 33%|███▎      | 2076/6352 [52:57<1:49:05,  1.53s/it]"
     ]
    },
    {
     "name": "stdout",
     "output_type": "stream",
     "text": [
      "found 2075, 8326951, 109\n"
     ]
    },
    {
     "name": "stderr",
     "output_type": "stream",
     "text": [
      " 33%|███▎      | 2078/6352 [53:29<1:50:00,  1.54s/it]"
     ]
    },
    {
     "name": "stdout",
     "output_type": "stream",
     "text": [
      "found 2077, 8104787, 110\n"
     ]
    },
    {
     "name": "stderr",
     "output_type": "stream",
     "text": [
      " 33%|███▎      | 2084/6352 [53:40<1:49:54,  1.55s/it]"
     ]
    },
    {
     "name": "stdout",
     "output_type": "stream",
     "text": [
      "found 2083, 8323070, 111\n"
     ]
    },
    {
     "name": "stderr",
     "output_type": "stream",
     "text": [
      " 33%|███▎      | 2093/6352 [55:15<1:52:27,  1.58s/it]"
     ]
    },
    {
     "name": "stdout",
     "output_type": "stream",
     "text": [
      "found 2092, 8171948, 112\n"
     ]
    },
    {
     "name": "stderr",
     "output_type": "stream",
     "text": [
      " 33%|███▎      | 2109/6352 [56:37<1:53:55,  1.61s/it]"
     ]
    },
    {
     "name": "stdout",
     "output_type": "stream",
     "text": [
      "found 2108, 8301639, 113\n"
     ]
    },
    {
     "name": "stderr",
     "output_type": "stream",
     "text": [
      " 34%|███▎      | 2134/6352 [1:00:47<2:00:09,  1.71s/it]"
     ]
    },
    {
     "name": "stdout",
     "output_type": "stream",
     "text": [
      "found 2133, 8176508, 114\n"
     ]
    },
    {
     "name": "stderr",
     "output_type": "stream",
     "text": [
      " 34%|███▍      | 2169/6352 [1:07:18<2:09:48,  1.86s/it]"
     ]
    },
    {
     "name": "stdout",
     "output_type": "stream",
     "text": [
      "found 2168, 8341213, 115\n"
     ]
    },
    {
     "name": "stderr",
     "output_type": "stream",
     "text": [
      " 34%|███▍      | 2191/6352 [1:10:09<2:13:14,  1.92s/it]"
     ]
    },
    {
     "name": "stdout",
     "output_type": "stream",
     "text": [
      "found 2190, 8235081, 116\n"
     ]
    },
    {
     "name": "stderr",
     "output_type": "stream",
     "text": [
      " 35%|███▍      | 2204/6352 [1:12:43<2:16:52,  1.98s/it]"
     ]
    },
    {
     "name": "stdout",
     "output_type": "stream",
     "text": [
      "found 2203, 8194173, 117\n"
     ]
    },
    {
     "name": "stderr",
     "output_type": "stream",
     "text": [
      " 35%|███▍      | 2210/6352 [1:13:28<2:17:41,  1.99s/it]"
     ]
    },
    {
     "name": "stdout",
     "output_type": "stream",
     "text": [
      "found 2209, 8284085, 118\n"
     ]
    },
    {
     "name": "stderr",
     "output_type": "stream",
     "text": [
      " 35%|███▌      | 2249/6352 [1:17:24<2:21:12,  2.07s/it]"
     ]
    },
    {
     "name": "stdout",
     "output_type": "stream",
     "text": [
      "found 2248, 8247569, 119\n"
     ]
    },
    {
     "name": "stderr",
     "output_type": "stream",
     "text": [
      " 37%|███▋      | 2333/6352 [1:31:14<2:37:10,  2.35s/it]"
     ]
    },
    {
     "name": "stdout",
     "output_type": "stream",
     "text": [
      "found 2332, 8221765, 120\n"
     ]
    },
    {
     "name": "stderr",
     "output_type": "stream",
     "text": [
      " 37%|███▋      | 2342/6352 [1:32:56<2:39:08,  2.38s/it]"
     ]
    },
    {
     "name": "stdout",
     "output_type": "stream",
     "text": [
      "found 2341, 8148885, 121\n"
     ]
    },
    {
     "name": "stderr",
     "output_type": "stream",
     "text": [
      " 37%|███▋      | 2375/6352 [1:37:20<2:42:59,  2.46s/it]"
     ]
    },
    {
     "name": "stdout",
     "output_type": "stream",
     "text": [
      "found 2374, 8304794, 122\n"
     ]
    },
    {
     "name": "stderr",
     "output_type": "stream",
     "text": [
      " 38%|███▊      | 2398/6352 [1:39:34<2:44:10,  2.49s/it]"
     ]
    },
    {
     "name": "stdout",
     "output_type": "stream",
     "text": [
      "found 2397, 8317239, 123\n"
     ]
    },
    {
     "name": "stderr",
     "output_type": "stream",
     "text": [
      " 39%|███▊      | 2451/6352 [1:45:13<2:47:28,  2.58s/it]"
     ]
    },
    {
     "name": "stdout",
     "output_type": "stream",
     "text": [
      "found 2450, 8327561, 124\n"
     ]
    },
    {
     "name": "stderr",
     "output_type": "stream",
     "text": [
      " 39%|███▉      | 2463/6352 [1:47:39<2:49:58,  2.62s/it]"
     ]
    },
    {
     "name": "stdout",
     "output_type": "stream",
     "text": [
      "found 2462, 8200668, 125\n"
     ]
    },
    {
     "name": "stderr",
     "output_type": "stream",
     "text": [
      " 39%|███▉      | 2472/6352 [1:49:31<2:51:54,  2.66s/it]"
     ]
    },
    {
     "name": "stdout",
     "output_type": "stream",
     "text": [
      "found 2471, 8139284, 126\n"
     ]
    },
    {
     "name": "stderr",
     "output_type": "stream",
     "text": [
      " 40%|███▉      | 2516/6352 [1:58:08<3:00:06,  2.82s/it]"
     ]
    },
    {
     "name": "stdout",
     "output_type": "stream",
     "text": [
      "found 2515, 8270274, 127\n"
     ]
    },
    {
     "name": "stderr",
     "output_type": "stream",
     "text": [
      " 40%|███▉      | 2519/6352 [1:58:09<2:59:47,  2.81s/it]"
     ]
    },
    {
     "name": "stdout",
     "output_type": "stream",
     "text": [
      "found 2518, 8186671, 128\n"
     ]
    },
    {
     "name": "stderr",
     "output_type": "stream",
     "text": [
      " 40%|███▉      | 2539/6352 [2:01:02<3:01:47,  2.86s/it]"
     ]
    },
    {
     "name": "stdout",
     "output_type": "stream",
     "text": [
      "found 2538, 8188714, 129\n"
     ]
    },
    {
     "name": "stderr",
     "output_type": "stream",
     "text": [
      " 40%|████      | 2561/6352 [2:03:21<3:02:36,  2.89s/it]"
     ]
    },
    {
     "name": "stdout",
     "output_type": "stream",
     "text": [
      "found 2560, 8299588, 130\n"
     ]
    },
    {
     "name": "stderr",
     "output_type": "stream",
     "text": [
      " 41%|████      | 2575/6352 [2:04:56<3:03:15,  2.91s/it]"
     ]
    },
    {
     "name": "stdout",
     "output_type": "stream",
     "text": [
      "found 2574, 8254848, 131\n"
     ]
    },
    {
     "name": "stderr",
     "output_type": "stream",
     "text": [
      " 41%|████      | 2585/6352 [2:06:58<3:05:01,  2.95s/it]"
     ]
    },
    {
     "name": "stdout",
     "output_type": "stream",
     "text": [
      "found 2584, 8241819, 132\n"
     ]
    },
    {
     "name": "stderr",
     "output_type": "stream",
     "text": [
      " 41%|████      | 2587/6352 [2:07:52<3:06:06,  2.97s/it]"
     ]
    },
    {
     "name": "stdout",
     "output_type": "stream",
     "text": [
      "found 2586, 8091547, 133\n"
     ]
    },
    {
     "name": "stderr",
     "output_type": "stream",
     "text": [
      " 41%|████      | 2599/6352 [2:09:00<3:06:17,  2.98s/it]"
     ]
    },
    {
     "name": "stdout",
     "output_type": "stream",
     "text": [
      "found 2598, 8213413, 134\n"
     ]
    },
    {
     "name": "stderr",
     "output_type": "stream",
     "text": [
      " 41%|████      | 2605/6352 [2:10:15<3:07:21,  3.00s/it]"
     ]
    },
    {
     "name": "stdout",
     "output_type": "stream",
     "text": [
      "found 2604, 8136314, 135\n"
     ]
    },
    {
     "name": "stderr",
     "output_type": "stream",
     "text": [
      " 41%|████      | 2615/6352 [2:12:01<3:08:40,  3.03s/it]"
     ]
    },
    {
     "name": "stdout",
     "output_type": "stream",
     "text": [
      "found 2614, 8288831, 136\n"
     ]
    },
    {
     "name": "stderr",
     "output_type": "stream",
     "text": [
      " 42%|████▏     | 2646/6352 [2:17:05<3:12:01,  3.11s/it]"
     ]
    },
    {
     "name": "stdout",
     "output_type": "stream",
     "text": [
      "found 2645, 8247940, 137\n"
     ]
    },
    {
     "name": "stderr",
     "output_type": "stream",
     "text": [
      " 42%|████▏     | 2671/6352 [2:21:18<3:14:44,  3.17s/it]"
     ]
    },
    {
     "name": "stdout",
     "output_type": "stream",
     "text": [
      "found 2670, 8246726, 138\n"
     ]
    },
    {
     "name": "stderr",
     "output_type": "stream",
     "text": [
      " 42%|████▏     | 2674/6352 [2:21:56<3:15:14,  3.19s/it]"
     ]
    },
    {
     "name": "stdout",
     "output_type": "stream",
     "text": [
      "found 2673, 8112794, 139\n"
     ]
    },
    {
     "name": "stderr",
     "output_type": "stream",
     "text": [
      " 42%|████▏     | 2683/6352 [2:22:19<3:14:38,  3.18s/it]"
     ]
    },
    {
     "name": "stdout",
     "output_type": "stream",
     "text": [
      "found 2682, 8257317, 140\n"
     ]
    },
    {
     "name": "stderr",
     "output_type": "stream",
     "text": [
      " 43%|████▎     | 2717/6352 [2:26:54<3:16:32,  3.24s/it]"
     ]
    },
    {
     "name": "stdout",
     "output_type": "stream",
     "text": [
      "found 2716, 8101434, 141\n"
     ]
    },
    {
     "name": "stderr",
     "output_type": "stream",
     "text": [
      " 43%|████▎     | 2721/6352 [2:26:55<3:16:04,  3.24s/it]"
     ]
    },
    {
     "name": "stdout",
     "output_type": "stream",
     "text": [
      "found 2720, 8101279, 142\n"
     ]
    },
    {
     "name": "stderr",
     "output_type": "stream",
     "text": [
      " 43%|████▎     | 2739/6352 [2:29:09<3:16:44,  3.27s/it]"
     ]
    },
    {
     "name": "stdout",
     "output_type": "stream",
     "text": [
      "found 2738, 8222936, 143\n"
     ]
    },
    {
     "name": "stderr",
     "output_type": "stream",
     "text": [
      " 44%|████▎     | 2771/6352 [2:34:00<3:19:01,  3.33s/it]"
     ]
    },
    {
     "name": "stdout",
     "output_type": "stream",
     "text": [
      "found 2770, 8266698, 144\n"
     ]
    },
    {
     "name": "stderr",
     "output_type": "stream",
     "text": [
      " 44%|████▎     | 2775/6352 [2:34:37<3:19:18,  3.34s/it]"
     ]
    },
    {
     "name": "stdout",
     "output_type": "stream",
     "text": [
      "found 2774, 8321497, 145\n"
     ]
    },
    {
     "name": "stderr",
     "output_type": "stream",
     "text": [
      " 44%|████▍     | 2800/6352 [2:38:20<3:20:52,  3.39s/it]"
     ]
    },
    {
     "name": "stdout",
     "output_type": "stream",
     "text": [
      "found 2799, 8214943, 146\n"
     ]
    },
    {
     "name": "stderr",
     "output_type": "stream",
     "text": [
      " 44%|████▍     | 2807/6352 [2:38:23<3:20:02,  3.39s/it]"
     ]
    },
    {
     "name": "stdout",
     "output_type": "stream",
     "text": [
      "found 2806, 8166155, 147\n"
     ]
    },
    {
     "name": "stderr",
     "output_type": "stream",
     "text": [
      " 44%|████▍     | 2822/6352 [2:40:32<3:20:49,  3.41s/it]"
     ]
    },
    {
     "name": "stdout",
     "output_type": "stream",
     "text": [
      "No end tag found, skip. 2821:5166207\n"
     ]
    },
    {
     "name": "stderr",
     "output_type": "stream",
     "text": [
      " 45%|████▍     | 2831/6352 [2:42:07<3:21:37,  3.44s/it]"
     ]
    },
    {
     "name": "stdout",
     "output_type": "stream",
     "text": [
      "found 2830, 8246140, 148\n"
     ]
    },
    {
     "name": "stderr",
     "output_type": "stream",
     "text": [
      " 45%|████▍     | 2840/6352 [2:42:41<3:21:10,  3.44s/it]"
     ]
    },
    {
     "name": "stdout",
     "output_type": "stream",
     "text": [
      "No end tag found, skip. 2839:20090075333\n"
     ]
    },
    {
     "name": "stderr",
     "output_type": "stream",
     "text": [
      " 45%|████▍     | 2846/6352 [2:42:45<3:20:30,  3.43s/it]"
     ]
    },
    {
     "name": "stdout",
     "output_type": "stream",
     "text": [
      "found 2845, 8144997, 149\n"
     ]
    },
    {
     "name": "stderr",
     "output_type": "stream",
     "text": [
      " 45%|████▍     | 2850/6352 [2:43:16<3:20:37,  3.44s/it]"
     ]
    },
    {
     "name": "stdout",
     "output_type": "stream",
     "text": [
      "found 2849, 8160701, 150\n"
     ]
    },
    {
     "name": "stderr",
     "output_type": "stream",
     "text": [
      " 45%|████▍     | 2856/6352 [2:43:39<3:20:20,  3.44s/it]"
     ]
    },
    {
     "name": "stdout",
     "output_type": "stream",
     "text": [
      "found 2855, 8157790, 151\n"
     ]
    },
    {
     "name": "stderr",
     "output_type": "stream",
     "text": [
      " 45%|████▌     | 2878/6352 [2:46:28<3:20:56,  3.47s/it]"
     ]
    },
    {
     "name": "stdout",
     "output_type": "stream",
     "text": [
      "found 2877, 8223033, 152\n"
     ]
    },
    {
     "name": "stderr",
     "output_type": "stream",
     "text": [
      " 45%|████▌     | 2883/6352 [2:47:17<3:21:17,  3.48s/it]"
     ]
    },
    {
     "name": "stdout",
     "output_type": "stream",
     "text": [
      "found 2882, 8170705, 153\n"
     ]
    },
    {
     "name": "stderr",
     "output_type": "stream",
     "text": [
      " 45%|████▌     | 2888/6352 [2:47:51<3:21:19,  3.49s/it]"
     ]
    },
    {
     "name": "stdout",
     "output_type": "stream",
     "text": [
      "found 2887, 8123375, 154\n"
     ]
    },
    {
     "name": "stderr",
     "output_type": "stream",
     "text": [
      " 45%|████▌     | 2890/6352 [2:47:52<3:21:06,  3.49s/it]"
     ]
    },
    {
     "name": "stdout",
     "output_type": "stream",
     "text": [
      "found 2889, 8209628, 155\n"
     ]
    },
    {
     "name": "stderr",
     "output_type": "stream",
     "text": [
      " 46%|████▌     | 2898/6352 [2:50:24<3:23:05,  3.53s/it]"
     ]
    },
    {
     "name": "stdout",
     "output_type": "stream",
     "text": [
      "found 2897, 8184908, 156\n"
     ]
    },
    {
     "name": "stderr",
     "output_type": "stream",
     "text": [
      " 46%|████▌     | 2907/6352 [2:51:24<3:23:08,  3.54s/it]"
     ]
    },
    {
     "name": "stdout",
     "output_type": "stream",
     "text": [
      "found 2906, 8292984, 157\n"
     ]
    },
    {
     "name": "stderr",
     "output_type": "stream",
     "text": [
      " 46%|████▌     | 2914/6352 [2:52:01<3:22:58,  3.54s/it]"
     ]
    },
    {
     "name": "stdout",
     "output_type": "stream",
     "text": [
      "found 2913, 8285833, 158\n"
     ]
    },
    {
     "name": "stderr",
     "output_type": "stream",
     "text": [
      " 46%|████▋     | 2948/6352 [2:58:32<3:26:09,  3.63s/it]"
     ]
    },
    {
     "name": "stdout",
     "output_type": "stream",
     "text": [
      "found 2947, 8243749, 159\n"
     ]
    },
    {
     "name": "stderr",
     "output_type": "stream",
     "text": [
      " 46%|████▋     | 2950/6352 [2:59:08<3:26:35,  3.64s/it]"
     ]
    },
    {
     "name": "stdout",
     "output_type": "stream",
     "text": [
      "found 2949, 8306922, 160\n"
     ]
    },
    {
     "name": "stderr",
     "output_type": "stream",
     "text": [
      " 47%|████▋     | 2973/6352 [3:02:11<3:27:04,  3.68s/it]"
     ]
    },
    {
     "name": "stdout",
     "output_type": "stream",
     "text": [
      "found 2972, 8274671, 161\n"
     ]
    },
    {
     "name": "stderr",
     "output_type": "stream",
     "text": [
      "\r",
      " 47%|████▋     | 2974/6352 [3:02:12<3:26:57,  3.68s/it]"
     ]
    },
    {
     "name": "stdout",
     "output_type": "stream",
     "text": [
      "found 2973, 8288090, 162\n"
     ]
    },
    {
     "name": "stderr",
     "output_type": "stream",
     "text": [
      " 47%|████▋     | 2976/6352 [3:02:29<3:27:01,  3.68s/it]"
     ]
    },
    {
     "name": "stdout",
     "output_type": "stream",
     "text": [
      "found 2975, 8227462, 163\n"
     ]
    },
    {
     "name": "stderr",
     "output_type": "stream",
     "text": [
      "\r",
      " 47%|████▋     | 2978/6352 [3:02:30<3:26:46,  3.68s/it]"
     ]
    },
    {
     "name": "stdout",
     "output_type": "stream",
     "text": [
      "found 2977, 8147165, 164\n"
     ]
    },
    {
     "name": "stderr",
     "output_type": "stream",
     "text": [
      " 47%|████▋     | 2981/6352 [3:02:32<3:26:25,  3.67s/it]"
     ]
    },
    {
     "name": "stdout",
     "output_type": "stream",
     "text": [
      "found 2980, 8268828, 165\n"
     ]
    },
    {
     "name": "stderr",
     "output_type": "stream",
     "text": [
      " 47%|████▋     | 2984/6352 [3:02:50<3:26:22,  3.68s/it]"
     ]
    },
    {
     "name": "stdout",
     "output_type": "stream",
     "text": [
      "found 2983, 8151016, 166\n"
     ]
    },
    {
     "name": "stderr",
     "output_type": "stream",
     "text": [
      " 47%|████▋     | 3004/6352 [3:06:40<3:28:03,  3.73s/it]"
     ]
    },
    {
     "name": "stdout",
     "output_type": "stream",
     "text": [
      "found 3003, 8201370, 167\n"
     ]
    },
    {
     "name": "stderr",
     "output_type": "stream",
     "text": [
      " 47%|████▋     | 3007/6352 [3:07:24<3:28:28,  3.74s/it]"
     ]
    },
    {
     "name": "stdout",
     "output_type": "stream",
     "text": [
      "found 3006, 8169016, 168\n"
     ]
    },
    {
     "name": "stderr",
     "output_type": "stream",
     "text": [
      " 48%|████▊     | 3055/6352 [3:14:25<3:29:49,  3.82s/it]"
     ]
    },
    {
     "name": "stdout",
     "output_type": "stream",
     "text": [
      "found 3054, 8251233, 169\n"
     ]
    },
    {
     "name": "stderr",
     "output_type": "stream",
     "text": [
      " 49%|████▉     | 3102/6352 [3:21:38<3:31:15,  3.90s/it]"
     ]
    },
    {
     "name": "stdout",
     "output_type": "stream",
     "text": [
      "found 3101, 8203685, 170\n"
     ]
    },
    {
     "name": "stderr",
     "output_type": "stream",
     "text": [
      " 50%|████▉     | 3164/6352 [3:32:16<3:33:52,  4.03s/it]"
     ]
    },
    {
     "name": "stdout",
     "output_type": "stream",
     "text": [
      "found 3163, 8240614, 171\n"
     ]
    },
    {
     "name": "stderr",
     "output_type": "stream",
     "text": [
      " 50%|████▉     | 3166/6352 [3:32:20<3:33:41,  4.02s/it]"
     ]
    },
    {
     "name": "stdout",
     "output_type": "stream",
     "text": [
      "found 3165, 8305196, 172\n"
     ]
    },
    {
     "name": "stderr",
     "output_type": "stream",
     "text": [
      " 50%|█████     | 3180/6352 [3:34:50<3:34:17,  4.05s/it]"
     ]
    },
    {
     "name": "stdout",
     "output_type": "stream",
     "text": [
      "found 3179, 8146514, 173\n"
     ]
    },
    {
     "name": "stderr",
     "output_type": "stream",
     "text": [
      " 50%|█████     | 3189/6352 [3:35:46<3:34:01,  4.06s/it]"
     ]
    },
    {
     "name": "stdout",
     "output_type": "stream",
     "text": [
      "found 3188, 8193983, 174\n"
     ]
    },
    {
     "name": "stderr",
     "output_type": "stream",
     "text": [
      " 51%|█████     | 3209/6352 [3:38:50<3:34:20,  4.09s/it]"
     ]
    },
    {
     "name": "stdout",
     "output_type": "stream",
     "text": [
      "found 3208, 8299555, 175\n"
     ]
    },
    {
     "name": "stderr",
     "output_type": "stream",
     "text": [
      "\r",
      " 51%|█████     | 3210/6352 [3:39:04<3:34:25,  4.09s/it]"
     ]
    },
    {
     "name": "stdout",
     "output_type": "stream",
     "text": [
      "found 3209, 8203954, 176\n"
     ]
    },
    {
     "name": "stderr",
     "output_type": "stream",
     "text": [
      " 51%|█████     | 3252/6352 [3:44:59<3:34:28,  4.15s/it]"
     ]
    },
    {
     "name": "stdout",
     "output_type": "stream",
     "text": [
      "found 3251, 8260914, 177\n"
     ]
    },
    {
     "name": "stderr",
     "output_type": "stream",
     "text": [
      " 51%|█████     | 3255/6352 [3:45:01<3:34:05,  4.15s/it]"
     ]
    },
    {
     "name": "stdout",
     "output_type": "stream",
     "text": [
      "found 3254, 8206243, 178\n"
     ]
    },
    {
     "name": "stderr",
     "output_type": "stream",
     "text": [
      "\r",
      " 51%|█████▏    | 3256/6352 [3:45:01<3:33:58,  4.15s/it]"
     ]
    },
    {
     "name": "stdout",
     "output_type": "stream",
     "text": [
      "found 3255, 8218397, 179\n"
     ]
    },
    {
     "name": "stderr",
     "output_type": "stream",
     "text": [
      " 52%|█████▏    | 3310/6352 [3:52:33<3:33:43,  4.22s/it]"
     ]
    },
    {
     "name": "stdout",
     "output_type": "stream",
     "text": [
      "found 3309, 8274040, 180\n"
     ]
    },
    {
     "name": "stderr",
     "output_type": "stream",
     "text": [
      "\r",
      " 52%|█████▏    | 3311/6352 [3:52:46<3:33:47,  4.22s/it]"
     ]
    },
    {
     "name": "stdout",
     "output_type": "stream",
     "text": [
      "found 3310, 8260725, 181\n"
     ]
    },
    {
     "name": "stderr",
     "output_type": "stream",
     "text": [
      " 52%|█████▏    | 3319/6352 [3:53:16<3:33:10,  4.22s/it]"
     ]
    },
    {
     "name": "stdout",
     "output_type": "stream",
     "text": [
      "found 3318, 8104775, 182\n"
     ]
    },
    {
     "name": "stderr",
     "output_type": "stream",
     "text": [
      " 53%|█████▎    | 3347/6352 [4:00:06<3:35:34,  4.30s/it]"
     ]
    },
    {
     "name": "stdout",
     "output_type": "stream",
     "text": [
      "found 3346, 8328018, 183\n"
     ]
    },
    {
     "name": "stderr",
     "output_type": "stream",
     "text": [
      " 53%|█████▎    | 3362/6352 [4:04:19<3:37:17,  4.36s/it]"
     ]
    },
    {
     "name": "stdout",
     "output_type": "stream",
     "text": [
      "found 3361, 8228112, 184\n"
     ]
    },
    {
     "name": "stderr",
     "output_type": "stream",
     "text": [
      " 53%|█████▎    | 3365/6352 [4:04:22<3:36:55,  4.36s/it]"
     ]
    },
    {
     "name": "stdout",
     "output_type": "stream",
     "text": [
      "found 3364, 8184983, 185\n"
     ]
    },
    {
     "name": "stderr",
     "output_type": "stream",
     "text": [
      " 53%|█████▎    | 3392/6352 [4:09:48<3:37:59,  4.42s/it]"
     ]
    },
    {
     "name": "stdout",
     "output_type": "stream",
     "text": [
      "found 3391, 8274097, 186\n"
     ]
    },
    {
     "name": "stderr",
     "output_type": "stream",
     "text": [
      " 53%|█████▎    | 3396/6352 [4:10:26<3:37:59,  4.42s/it]"
     ]
    },
    {
     "name": "stdout",
     "output_type": "stream",
     "text": [
      "found 3395, 8167280, 187\n"
     ]
    },
    {
     "name": "stderr",
     "output_type": "stream",
     "text": [
      " 54%|█████▎    | 3413/6352 [4:11:41<3:36:44,  4.42s/it]"
     ]
    },
    {
     "name": "stdout",
     "output_type": "stream",
     "text": [
      "found 3412, 8297723, 188\n"
     ]
    },
    {
     "name": "stderr",
     "output_type": "stream",
     "text": [
      " 54%|█████▍    | 3429/6352 [4:14:18<3:36:47,  4.45s/it]"
     ]
    },
    {
     "name": "stdout",
     "output_type": "stream",
     "text": [
      "found 3428, 8100725, 189\n"
     ]
    },
    {
     "name": "stderr",
     "output_type": "stream",
     "text": [
      " 54%|█████▍    | 3439/6352 [4:15:42<3:36:35,  4.46s/it]"
     ]
    },
    {
     "name": "stdout",
     "output_type": "stream",
     "text": [
      "found 3438, 8337293, 190\n"
     ]
    },
    {
     "name": "stderr",
     "output_type": "stream",
     "text": [
      " 54%|█████▍    | 3445/6352 [4:16:17<3:36:15,  4.46s/it]"
     ]
    },
    {
     "name": "stdout",
     "output_type": "stream",
     "text": [
      "found 3444, 8210101, 191\n"
     ]
    },
    {
     "name": "stderr",
     "output_type": "stream",
     "text": [
      " 55%|█████▍    | 3472/6352 [4:20:39<3:36:13,  4.50s/it]"
     ]
    },
    {
     "name": "stdout",
     "output_type": "stream",
     "text": [
      "found 3471, 8274093, 192\n"
     ]
    },
    {
     "name": "stderr",
     "output_type": "stream",
     "text": [
      " 55%|█████▍    | 3477/6352 [4:22:01<3:36:39,  4.52s/it]"
     ]
    },
    {
     "name": "stdout",
     "output_type": "stream",
     "text": [
      "found 3476, 8267812, 193\n"
     ]
    },
    {
     "name": "stderr",
     "output_type": "stream",
     "text": [
      " 55%|█████▌    | 3494/6352 [4:25:36<3:37:15,  4.56s/it]"
     ]
    },
    {
     "name": "stdout",
     "output_type": "stream",
     "text": [
      "found 3493, 8201736, 194\n"
     ]
    },
    {
     "name": "stderr",
     "output_type": "stream",
     "text": [
      " 56%|█████▌    | 3541/6352 [4:30:39<3:34:51,  4.59s/it]"
     ]
    },
    {
     "name": "stdout",
     "output_type": "stream",
     "text": [
      "found 3540, 8147458, 195\n"
     ]
    },
    {
     "name": "stderr",
     "output_type": "stream",
     "text": [
      " 56%|█████▌    | 3552/6352 [4:31:35<3:34:05,  4.59s/it]"
     ]
    },
    {
     "name": "stdout",
     "output_type": "stream",
     "text": [
      "found 3551, 8335703, 196\n"
     ]
    },
    {
     "name": "stderr",
     "output_type": "stream",
     "text": [
      " 56%|█████▌    | 3566/6352 [4:33:21<3:33:33,  4.60s/it]"
     ]
    },
    {
     "name": "stdout",
     "output_type": "stream",
     "text": [
      "found 3565, 8263760, 197\n"
     ]
    },
    {
     "name": "stderr",
     "output_type": "stream",
     "text": [
      " 56%|█████▋    | 3581/6352 [4:35:24<3:33:06,  4.61s/it]"
     ]
    },
    {
     "name": "stdout",
     "output_type": "stream",
     "text": [
      "found 3580, 8235235, 198\n"
     ]
    },
    {
     "name": "stderr",
     "output_type": "stream",
     "text": [
      " 57%|█████▋    | 3623/6352 [4:41:55<3:32:21,  4.67s/it]"
     ]
    },
    {
     "name": "stdout",
     "output_type": "stream",
     "text": [
      "found 3622, 8280525, 199\n"
     ]
    },
    {
     "name": "stderr",
     "output_type": "stream",
     "text": [
      " 57%|█████▋    | 3651/6352 [4:45:56<3:31:32,  4.70s/it]"
     ]
    },
    {
     "name": "stdout",
     "output_type": "stream",
     "text": [
      "found 3650, 8215370, 200\n"
     ]
    },
    {
     "name": "stderr",
     "output_type": "stream",
     "text": [
      " 58%|█████▊    | 3667/6352 [4:47:08<3:30:14,  4.70s/it]"
     ]
    },
    {
     "name": "stdout",
     "output_type": "stream",
     "text": [
      "found 3666, 8131377, 201\n"
     ]
    },
    {
     "name": "stderr",
     "output_type": "stream",
     "text": [
      " 58%|█████▊    | 3679/6352 [4:48:17<3:29:27,  4.70s/it]"
     ]
    },
    {
     "name": "stdout",
     "output_type": "stream",
     "text": [
      "found 3678, 8326468, 202\n"
     ]
    },
    {
     "name": "stderr",
     "output_type": "stream",
     "text": [
      " 58%|█████▊    | 3703/6352 [4:51:31<3:28:32,  4.72s/it]"
     ]
    },
    {
     "name": "stdout",
     "output_type": "stream",
     "text": [
      "found 3702, 8283802, 203\n"
     ]
    },
    {
     "name": "stderr",
     "output_type": "stream",
     "text": [
      " 58%|█████▊    | 3707/6352 [4:51:34<3:28:02,  4.72s/it]"
     ]
    },
    {
     "name": "stdout",
     "output_type": "stream",
     "text": [
      "found 3706, 8279687, 204\n"
     ]
    },
    {
     "name": "stderr",
     "output_type": "stream",
     "text": [
      " 59%|█████▊    | 3719/6352 [4:52:28<3:27:03,  4.72s/it]"
     ]
    },
    {
     "name": "stdout",
     "output_type": "stream",
     "text": [
      "found 3718, 8327784, 205\n"
     ]
    },
    {
     "name": "stderr",
     "output_type": "stream",
     "text": [
      " 59%|█████▊    | 3721/6352 [4:52:48<3:27:01,  4.72s/it]"
     ]
    },
    {
     "name": "stdout",
     "output_type": "stream",
     "text": [
      "found 3720, 8093914, 206\n"
     ]
    },
    {
     "name": "stderr",
     "output_type": "stream",
     "text": [
      " 59%|█████▊    | 3723/6352 [4:52:50<3:26:47,  4.72s/it]"
     ]
    },
    {
     "name": "stdout",
     "output_type": "stream",
     "text": [
      "found 3722, 8232905, 207\n"
     ]
    },
    {
     "name": "stderr",
     "output_type": "stream",
     "text": [
      " 59%|█████▊    | 3725/6352 [4:53:20<3:26:52,  4.72s/it]"
     ]
    },
    {
     "name": "stdout",
     "output_type": "stream",
     "text": [
      "No end tag found, skip. 3724:5604209\n"
     ]
    },
    {
     "name": "stderr",
     "output_type": "stream",
     "text": [
      " 59%|█████▉    | 3750/6352 [4:58:49<3:27:20,  4.78s/it]"
     ]
    },
    {
     "name": "stdout",
     "output_type": "stream",
     "text": [
      "found 3749, 8147344, 208\n"
     ]
    },
    {
     "name": "stderr",
     "output_type": "stream",
     "text": [
      " 59%|█████▉    | 3779/6352 [5:02:44<3:26:07,  4.81s/it]"
     ]
    },
    {
     "name": "stdout",
     "output_type": "stream",
     "text": [
      "found 3778, 8109469, 209\n"
     ]
    },
    {
     "name": "stderr",
     "output_type": "stream",
     "text": [
      " 60%|█████▉    | 3790/6352 [5:04:05<3:25:33,  4.81s/it]"
     ]
    },
    {
     "name": "stdout",
     "output_type": "stream",
     "text": [
      "found 3789, 8186733, 210\n"
     ]
    },
    {
     "name": "stderr",
     "output_type": "stream",
     "text": [
      " 60%|█████▉    | 3800/6352 [5:05:21<3:25:04,  4.82s/it]"
     ]
    },
    {
     "name": "stdout",
     "output_type": "stream",
     "text": [
      "No end tag found, skip. 3799:4447001\n"
     ]
    },
    {
     "name": "stderr",
     "output_type": "stream",
     "text": [
      " 61%|██████    | 3853/6352 [5:12:47<3:22:52,  4.87s/it]"
     ]
    },
    {
     "name": "stdout",
     "output_type": "stream",
     "text": [
      "found 3852, 8220730, 211\n"
     ]
    },
    {
     "name": "stderr",
     "output_type": "stream",
     "text": [
      "\r",
      " 61%|██████    | 3854/6352 [5:13:04<3:22:55,  4.87s/it]"
     ]
    },
    {
     "name": "stdout",
     "output_type": "stream",
     "text": [
      "Skip 8 beginning key cand: 8065598, 6\n"
     ]
    },
    {
     "name": "stderr",
     "output_type": "stream",
     "text": [
      "\r",
      " 61%|██████    | 3856/6352 [5:13:09<3:22:42,  4.87s/it]"
     ]
    },
    {
     "name": "stdout",
     "output_type": "stream",
     "text": [
      "found 3855, 8187423, 212\n"
     ]
    },
    {
     "name": "stderr",
     "output_type": "stream",
     "text": [
      " 61%|██████    | 3862/6352 [5:13:44<3:22:17,  4.87s/it]"
     ]
    },
    {
     "name": "stdout",
     "output_type": "stream",
     "text": [
      "found 3861, 8203966, 213\n"
     ]
    },
    {
     "name": "stderr",
     "output_type": "stream",
     "text": [
      " 61%|██████▏   | 3892/6352 [5:19:55<3:22:12,  4.93s/it]"
     ]
    },
    {
     "name": "stdout",
     "output_type": "stream",
     "text": [
      "found 3891, 8147867, 214\n"
     ]
    },
    {
     "name": "stderr",
     "output_type": "stream",
     "text": [
      " 62%|██████▏   | 3922/6352 [5:26:05<3:22:02,  4.99s/it]"
     ]
    },
    {
     "name": "stdout",
     "output_type": "stream",
     "text": [
      "found 3921, 8118466, 215\n"
     ]
    },
    {
     "name": "stderr",
     "output_type": "stream",
     "text": [
      " 62%|██████▏   | 3926/6352 [5:26:09<3:21:32,  4.98s/it]"
     ]
    },
    {
     "name": "stdout",
     "output_type": "stream",
     "text": [
      "found 3925, 8108252, 216\n"
     ]
    },
    {
     "name": "stderr",
     "output_type": "stream",
     "text": [
      " 62%|██████▏   | 3931/6352 [5:26:41<3:21:12,  4.99s/it]"
     ]
    },
    {
     "name": "stdout",
     "output_type": "stream",
     "text": [
      "found 3930, 8314637, 217\n"
     ]
    },
    {
     "name": "stderr",
     "output_type": "stream",
     "text": [
      " 62%|██████▏   | 3942/6352 [5:27:56<3:20:29,  4.99s/it]"
     ]
    },
    {
     "name": "stdout",
     "output_type": "stream",
     "text": [
      "found 3941, 8119202, 218\n"
     ]
    },
    {
     "name": "stderr",
     "output_type": "stream",
     "text": [
      " 62%|██████▏   | 3957/6352 [5:30:06<3:19:48,  5.01s/it]"
     ]
    },
    {
     "name": "stdout",
     "output_type": "stream",
     "text": [
      "found 3956, 8094521, 219\n"
     ]
    },
    {
     "name": "stderr",
     "output_type": "stream",
     "text": [
      " 62%|██████▏   | 3965/6352 [5:31:11<3:19:22,  5.01s/it]"
     ]
    },
    {
     "name": "stdout",
     "output_type": "stream",
     "text": [
      "found 3964, 8181404, 220\n"
     ]
    },
    {
     "name": "stderr",
     "output_type": "stream",
     "text": [
      " 63%|██████▎   | 3975/6352 [5:32:14<3:18:40,  5.01s/it]"
     ]
    },
    {
     "name": "stdout",
     "output_type": "stream",
     "text": [
      "found 3974, 8175425, 221\n"
     ]
    },
    {
     "name": "stderr",
     "output_type": "stream",
     "text": [
      " 63%|██████▎   | 3997/6352 [5:35:12<3:17:30,  5.03s/it]"
     ]
    },
    {
     "name": "stdout",
     "output_type": "stream",
     "text": [
      "found 3996, 8169839, 222\n"
     ]
    },
    {
     "name": "stderr",
     "output_type": "stream",
     "text": [
      " 63%|██████▎   | 4003/6352 [5:36:23<3:17:23,  5.04s/it]"
     ]
    },
    {
     "name": "stdout",
     "output_type": "stream",
     "text": [
      "found 4002, 8288871, 223\n"
     ]
    },
    {
     "name": "stderr",
     "output_type": "stream",
     "text": [
      " 63%|██████▎   | 4005/6352 [5:36:41<3:17:18,  5.04s/it]"
     ]
    },
    {
     "name": "stdout",
     "output_type": "stream",
     "text": [
      "No end tag found, skip. 4004:20090130692\n"
     ]
    },
    {
     "name": "stderr",
     "output_type": "stream",
     "text": [
      " 63%|██████▎   | 4007/6352 [5:37:02<3:17:14,  5.05s/it]"
     ]
    },
    {
     "name": "stdout",
     "output_type": "stream",
     "text": [
      "found 4006, 8320023, 224\n"
     ]
    },
    {
     "name": "stderr",
     "output_type": "stream",
     "text": [
      " 63%|██████▎   | 4010/6352 [5:38:04<3:17:27,  5.06s/it]"
     ]
    },
    {
     "name": "stdout",
     "output_type": "stream",
     "text": [
      "found 4009, 8118365, 225\n"
     ]
    },
    {
     "name": "stderr",
     "output_type": "stream",
     "text": [
      " 63%|██████▎   | 4019/6352 [5:38:21<3:16:24,  5.05s/it]"
     ]
    },
    {
     "name": "stdout",
     "output_type": "stream",
     "text": [
      "found 4018, 8088154, 226\n"
     ]
    },
    {
     "name": "stderr",
     "output_type": "stream",
     "text": [
      " 63%|██████▎   | 4022/6352 [5:38:57<3:16:21,  5.06s/it]"
     ]
    },
    {
     "name": "stdout",
     "output_type": "stream",
     "text": [
      "found 4021, 8235086, 227\n"
     ]
    },
    {
     "name": "stderr",
     "output_type": "stream",
     "text": [
      " 64%|██████▍   | 4063/6352 [5:48:38<3:16:25,  5.15s/it]"
     ]
    },
    {
     "name": "stdout",
     "output_type": "stream",
     "text": [
      "found 4062, 8189978, 228\n"
     ]
    },
    {
     "name": "stderr",
     "output_type": "stream",
     "text": [
      " 64%|██████▍   | 4084/6352 [5:53:01<3:16:02,  5.19s/it]"
     ]
    },
    {
     "name": "stdout",
     "output_type": "stream",
     "text": [
      "found 4083, 8293322, 229\n"
     ]
    },
    {
     "name": "stderr",
     "output_type": "stream",
     "text": [
      " 65%|██████▍   | 4099/6352 [5:53:43<3:14:25,  5.18s/it]"
     ]
    },
    {
     "name": "stdout",
     "output_type": "stream",
     "text": [
      "found 4098, 8152776, 230\n"
     ]
    },
    {
     "name": "stderr",
     "output_type": "stream",
     "text": [
      " 65%|██████▍   | 4112/6352 [5:54:52<3:13:19,  5.18s/it]"
     ]
    },
    {
     "name": "stdout",
     "output_type": "stream",
     "text": [
      "found 4111, 8180747, 231\n"
     ]
    },
    {
     "name": "stderr",
     "output_type": "stream",
     "text": [
      " 65%|██████▍   | 4120/6352 [5:55:58<3:12:50,  5.18s/it]"
     ]
    },
    {
     "name": "stdout",
     "output_type": "stream",
     "text": [
      "found 4119, 8135497, 232\n"
     ]
    },
    {
     "name": "stderr",
     "output_type": "stream",
     "text": [
      " 65%|██████▌   | 4142/6352 [6:01:12<3:12:43,  5.23s/it]"
     ]
    },
    {
     "name": "stdout",
     "output_type": "stream",
     "text": [
      "found 4141, 8193031, 233\n"
     ]
    },
    {
     "name": "stderr",
     "output_type": "stream",
     "text": [
      " 65%|██████▌   | 4159/6352 [6:02:58<3:11:23,  5.24s/it]"
     ]
    },
    {
     "name": "stdout",
     "output_type": "stream",
     "text": [
      "found 4158, 8099915, 234\n"
     ]
    },
    {
     "name": "stderr",
     "output_type": "stream",
     "text": [
      " 66%|██████▌   | 4163/6352 [6:04:02<3:11:25,  5.25s/it]"
     ]
    },
    {
     "name": "stdout",
     "output_type": "stream",
     "text": [
      "found 4162, 8188901, 235\n"
     ]
    },
    {
     "name": "stderr",
     "output_type": "stream",
     "text": [
      " 66%|██████▌   | 4198/6352 [6:09:10<3:09:25,  5.28s/it]"
     ]
    },
    {
     "name": "stdout",
     "output_type": "stream",
     "text": [
      "No end tag found, skip. 4197:8314216\n"
     ]
    },
    {
     "name": "stderr",
     "output_type": "stream",
     "text": [
      " 66%|██████▌   | 4200/6352 [6:09:27<3:09:18,  5.28s/it]"
     ]
    },
    {
     "name": "stdout",
     "output_type": "stream",
     "text": [
      "found 4199, 8278176, 236\n"
     ]
    },
    {
     "name": "stderr",
     "output_type": "stream",
     "text": [
      " 66%|██████▋   | 4218/6352 [6:13:19<3:08:52,  5.31s/it]"
     ]
    },
    {
     "name": "stdout",
     "output_type": "stream",
     "text": [
      "found 4217, 8162214, 237\n"
     ]
    },
    {
     "name": "stderr",
     "output_type": "stream",
     "text": [
      "\r",
      " 66%|██████▋   | 4219/6352 [6:13:19<3:08:44,  5.31s/it]"
     ]
    },
    {
     "name": "stdout",
     "output_type": "stream",
     "text": [
      "found 4218, 8203537, 238\n"
     ]
    },
    {
     "name": "stderr",
     "output_type": "stream",
     "text": [
      " 67%|██████▋   | 4246/6352 [6:16:55<3:06:57,  5.33s/it]"
     ]
    },
    {
     "name": "stdout",
     "output_type": "stream",
     "text": [
      "found 4245, 8193555, 239\n"
     ]
    },
    {
     "name": "stderr",
     "output_type": "stream",
     "text": [
      " 67%|██████▋   | 4255/6352 [6:17:28<3:06:02,  5.32s/it]"
     ]
    },
    {
     "name": "stdout",
     "output_type": "stream",
     "text": [
      "found 4254, 8322863, 240\n"
     ]
    },
    {
     "name": "stderr",
     "output_type": "stream",
     "text": [
      " 67%|██████▋   | 4270/6352 [6:20:21<3:05:27,  5.34s/it]"
     ]
    },
    {
     "name": "stdout",
     "output_type": "stream",
     "text": [
      "found 4269, 8229856, 241\n"
     ]
    },
    {
     "name": "stderr",
     "output_type": "stream",
     "text": [
      " 68%|██████▊   | 4305/6352 [6:25:18<3:03:12,  5.37s/it]"
     ]
    },
    {
     "name": "stdout",
     "output_type": "stream",
     "text": [
      "found 4304, 8314870, 242\n"
     ]
    },
    {
     "name": "stderr",
     "output_type": "stream",
     "text": [
      " 68%|██████▊   | 4314/6352 [6:26:52<3:02:46,  5.38s/it]"
     ]
    },
    {
     "name": "stdout",
     "output_type": "stream",
     "text": [
      "found 4313, 8274098, 243\n"
     ]
    },
    {
     "name": "stderr",
     "output_type": "stream",
     "text": [
      " 69%|██████▊   | 4360/6352 [6:33:56<2:59:59,  5.42s/it]"
     ]
    },
    {
     "name": "stdout",
     "output_type": "stream",
     "text": [
      "found 4359, 8103111, 244\n"
     ]
    },
    {
     "name": "stderr",
     "output_type": "stream",
     "text": [
      " 69%|██████▉   | 4375/6352 [6:36:35<2:59:12,  5.44s/it]"
     ]
    },
    {
     "name": "stdout",
     "output_type": "stream",
     "text": [
      "found 4374, 8118639, 245\n"
     ]
    },
    {
     "name": "stderr",
     "output_type": "stream",
     "text": [
      " 69%|██████▉   | 4379/6352 [6:37:29<2:59:05,  5.45s/it]"
     ]
    },
    {
     "name": "stdout",
     "output_type": "stream",
     "text": [
      "found 4378, 8297743, 246\n"
     ]
    },
    {
     "name": "stderr",
     "output_type": "stream",
     "text": [
      " 69%|██████▉   | 4387/6352 [6:39:29<2:58:56,  5.46s/it]"
     ]
    },
    {
     "name": "stdout",
     "output_type": "stream",
     "text": [
      "found 4386, 8257901, 247\n"
     ]
    },
    {
     "name": "stderr",
     "output_type": "stream",
     "text": [
      " 69%|██████▉   | 4392/6352 [6:40:27<2:58:42,  5.47s/it]"
     ]
    },
    {
     "name": "stdout",
     "output_type": "stream",
     "text": [
      "found 4391, 8270369, 248\n"
     ]
    },
    {
     "name": "stderr",
     "output_type": "stream",
     "text": [
      " 69%|██████▉   | 4406/6352 [6:43:15<2:58:06,  5.49s/it]"
     ]
    },
    {
     "name": "stdout",
     "output_type": "stream",
     "text": [
      "found 4405, 8162603, 249\n"
     ]
    },
    {
     "name": "stderr",
     "output_type": "stream",
     "text": [
      " 69%|██████▉   | 4414/6352 [6:44:34<2:57:37,  5.50s/it]"
     ]
    },
    {
     "name": "stdout",
     "output_type": "stream",
     "text": [
      "found 4413, 8150460, 250\n"
     ]
    },
    {
     "name": "stderr",
     "output_type": "stream",
     "text": [
      " 70%|██████▉   | 4422/6352 [6:45:49<2:57:07,  5.51s/it]"
     ]
    },
    {
     "name": "stdout",
     "output_type": "stream",
     "text": [
      "found 4421, 8260482, 251\n"
     ]
    },
    {
     "name": "stderr",
     "output_type": "stream",
     "text": [
      " 70%|███████   | 4461/6352 [6:52:47<2:54:58,  5.55s/it]"
     ]
    },
    {
     "name": "stdout",
     "output_type": "stream",
     "text": [
      "No end tag found, skip. 4460:6074642\n"
     ]
    },
    {
     "name": "stderr",
     "output_type": "stream",
     "text": [
      " 71%|███████   | 4493/6352 [6:58:00<2:52:57,  5.58s/it]"
     ]
    },
    {
     "name": "stdout",
     "output_type": "stream",
     "text": [
      "found 4492, 8175554, 252\n"
     ]
    },
    {
     "name": "stderr",
     "output_type": "stream",
     "text": [
      " 72%|███████▏  | 4551/6352 [7:04:19<2:47:55,  5.59s/it]"
     ]
    },
    {
     "name": "stdout",
     "output_type": "stream",
     "text": [
      "found 4550, 8105218, 253\n"
     ]
    },
    {
     "name": "stderr",
     "output_type": "stream",
     "text": [
      " 72%|███████▏  | 4567/6352 [7:06:29<2:46:41,  5.60s/it]"
     ]
    },
    {
     "name": "stdout",
     "output_type": "stream",
     "text": [
      "found 4566, 8252304, 254\n"
     ]
    },
    {
     "name": "stderr",
     "output_type": "stream",
     "text": [
      " 72%|███████▏  | 4571/6352 [7:07:11<2:46:26,  5.61s/it]"
     ]
    },
    {
     "name": "stdout",
     "output_type": "stream",
     "text": [
      "found 4570, 8191952, 255\n"
     ]
    },
    {
     "name": "stderr",
     "output_type": "stream",
     "text": [
      " 72%|███████▏  | 4576/6352 [7:08:34<2:46:19,  5.62s/it]"
     ]
    },
    {
     "name": "stdout",
     "output_type": "stream",
     "text": [
      "found 4575, 8317304, 256\n"
     ]
    },
    {
     "name": "stderr",
     "output_type": "stream",
     "text": [
      " 73%|███████▎  | 4613/6352 [7:14:14<2:43:42,  5.65s/it]"
     ]
    },
    {
     "name": "stdout",
     "output_type": "stream",
     "text": [
      "found 4612, 8322832, 257\n"
     ]
    },
    {
     "name": "stderr",
     "output_type": "stream",
     "text": [
      " 73%|███████▎  | 4624/6352 [7:15:30<2:42:45,  5.65s/it]"
     ]
    },
    {
     "name": "stdout",
     "output_type": "stream",
     "text": [
      "found 4623, 8194835, 258\n"
     ]
    },
    {
     "name": "stderr",
     "output_type": "stream",
     "text": [
      " 73%|███████▎  | 4627/6352 [7:16:09<2:42:36,  5.66s/it]"
     ]
    },
    {
     "name": "stdout",
     "output_type": "stream",
     "text": [
      "found 4626, 8319408, 259\n"
     ]
    },
    {
     "name": "stderr",
     "output_type": "stream",
     "text": [
      " 73%|███████▎  | 4632/6352 [7:16:49<2:42:12,  5.66s/it]"
     ]
    },
    {
     "name": "stdout",
     "output_type": "stream",
     "text": [
      "found 4631, 8229384, 260\n"
     ]
    },
    {
     "name": "stderr",
     "output_type": "stream",
     "text": [
      " 73%|███████▎  | 4648/6352 [7:19:01<2:40:57,  5.67s/it]"
     ]
    },
    {
     "name": "stdout",
     "output_type": "stream",
     "text": [
      "found 4647, 8254802, 261\n"
     ]
    },
    {
     "name": "stderr",
     "output_type": "stream",
     "text": [
      "\r",
      " 73%|███████▎  | 4649/6352 [7:19:18<2:40:55,  5.67s/it]"
     ]
    },
    {
     "name": "stdout",
     "output_type": "stream",
     "text": [
      "found 4648, 8180034, 262\n"
     ]
    },
    {
     "name": "stderr",
     "output_type": "stream",
     "text": [
      " 74%|███████▎  | 4679/6352 [7:22:59<2:38:23,  5.68s/it]"
     ]
    },
    {
     "name": "stdout",
     "output_type": "stream",
     "text": [
      "found 4678, 8246272, 263\n"
     ]
    },
    {
     "name": "stderr",
     "output_type": "stream",
     "text": [
      "\r",
      " 74%|███████▎  | 4680/6352 [7:23:00<2:38:16,  5.68s/it]"
     ]
    },
    {
     "name": "stdout",
     "output_type": "stream",
     "text": [
      "found 4679, 8283401, 264\n"
     ]
    },
    {
     "name": "stderr",
     "output_type": "stream",
     "text": [
      " 74%|███████▍  | 4694/6352 [7:24:54<2:37:08,  5.69s/it]"
     ]
    },
    {
     "name": "stdout",
     "output_type": "stream",
     "text": [
      "found 4693, 8215125, 265\n"
     ]
    },
    {
     "name": "stderr",
     "output_type": "stream",
     "text": [
      " 74%|███████▍  | 4706/6352 [7:26:55<2:36:19,  5.70s/it]"
     ]
    },
    {
     "name": "stdout",
     "output_type": "stream",
     "text": [
      "found 4705, 8241932, 266\n"
     ]
    },
    {
     "name": "stderr",
     "output_type": "stream",
     "text": [
      " 74%|███████▍  | 4713/6352 [7:28:06<2:35:50,  5.70s/it]"
     ]
    },
    {
     "name": "stdout",
     "output_type": "stream",
     "text": [
      "found 4712, 8153965, 267\n"
     ]
    },
    {
     "name": "stderr",
     "output_type": "stream",
     "text": [
      " 74%|███████▍  | 4715/6352 [7:28:42<2:35:47,  5.71s/it]"
     ]
    },
    {
     "name": "stdout",
     "output_type": "stream",
     "text": [
      "found 4714, 8310629, 268\n"
     ]
    },
    {
     "name": "stderr",
     "output_type": "stream",
     "text": [
      " 74%|███████▍  | 4723/6352 [7:29:25<2:35:00,  5.71s/it]"
     ]
    },
    {
     "name": "stdout",
     "output_type": "stream",
     "text": [
      "found 4722, 8299862, 269\n"
     ]
    },
    {
     "name": "stderr",
     "output_type": "stream",
     "text": [
      " 75%|███████▍  | 4738/6352 [7:31:15<2:33:43,  5.71s/it]"
     ]
    },
    {
     "name": "stdout",
     "output_type": "stream",
     "text": [
      "found 4737, 8200637, 270\n"
     ]
    },
    {
     "name": "stderr",
     "output_type": "stream",
     "text": [
      " 75%|███████▍  | 4748/6352 [7:32:21<2:32:48,  5.72s/it]"
     ]
    },
    {
     "name": "stdout",
     "output_type": "stream",
     "text": [
      "found 4747, 8222522, 271\n"
     ]
    },
    {
     "name": "stderr",
     "output_type": "stream",
     "text": [
      " 75%|███████▌  | 4770/6352 [7:36:58<2:31:33,  5.75s/it]"
     ]
    },
    {
     "name": "stdout",
     "output_type": "stream",
     "text": [
      "found 4769, 8109216, 272\n"
     ]
    },
    {
     "name": "stderr",
     "output_type": "stream",
     "text": [
      " 75%|███████▌  | 4784/6352 [7:38:22<2:30:14,  5.75s/it]"
     ]
    },
    {
     "name": "stdout",
     "output_type": "stream",
     "text": [
      "found 4783, 8263568, 273\n"
     ]
    },
    {
     "name": "stderr",
     "output_type": "stream",
     "text": [
      "\r",
      " 75%|███████▌  | 4785/6352 [7:38:23<2:30:06,  5.75s/it]"
     ]
    },
    {
     "name": "stdout",
     "output_type": "stream",
     "text": [
      "found 4784, 8256159, 274\n"
     ]
    },
    {
     "name": "stderr",
     "output_type": "stream",
     "text": [
      " 75%|███████▌  | 4787/6352 [7:38:38<2:29:56,  5.75s/it]"
     ]
    },
    {
     "name": "stdout",
     "output_type": "stream",
     "text": [
      "found 4786, 8171211, 275\n"
     ]
    },
    {
     "name": "stderr",
     "output_type": "stream",
     "text": [
      " 76%|███████▌  | 4813/6352 [7:41:37<2:27:36,  5.75s/it]"
     ]
    },
    {
     "name": "stdout",
     "output_type": "stream",
     "text": [
      "found 4812, 8113723, 276\n"
     ]
    },
    {
     "name": "stderr",
     "output_type": "stream",
     "text": [
      " 76%|███████▌  | 4827/6352 [7:43:16<2:26:21,  5.76s/it]"
     ]
    },
    {
     "name": "stdout",
     "output_type": "stream",
     "text": [
      "found 4826, 8090426, 277\n"
     ]
    },
    {
     "name": "stderr",
     "output_type": "stream",
     "text": [
      " 76%|███████▌  | 4840/6352 [7:45:51<2:25:31,  5.78s/it]"
     ]
    },
    {
     "name": "stdout",
     "output_type": "stream",
     "text": [
      "found 4839, 8125025, 278\n"
     ]
    },
    {
     "name": "stderr",
     "output_type": "stream",
     "text": [
      " 76%|███████▋  | 4845/6352 [7:46:27<2:25:05,  5.78s/it]"
     ]
    },
    {
     "name": "stdout",
     "output_type": "stream",
     "text": [
      "found 4844, 8202295, 279\n"
     ]
    },
    {
     "name": "stderr",
     "output_type": "stream",
     "text": [
      " 77%|███████▋  | 4884/6352 [7:52:16<2:21:57,  5.80s/it]"
     ]
    },
    {
     "name": "stdout",
     "output_type": "stream",
     "text": [
      "found 4883, 8271878, 280\n"
     ]
    },
    {
     "name": "stderr",
     "output_type": "stream",
     "text": [
      " 77%|███████▋  | 4898/6352 [7:55:37<2:21:11,  5.83s/it]"
     ]
    },
    {
     "name": "stdout",
     "output_type": "stream",
     "text": [
      "found 4897, 8246292, 281\n"
     ]
    },
    {
     "name": "stderr",
     "output_type": "stream",
     "text": [
      " 77%|███████▋  | 4909/6352 [7:56:56<2:20:11,  5.83s/it]"
     ]
    }
   ],
   "source": [
    "for i, (key_cand, tup_list) in tqdm.tqdm(list(enumerate(dict_list))):\n",
    "    if i <= 1607:\n",
    "        continue\n",
    "    if len(tup_list) > 5:\n",
    "        if key_cand.startswith(\"8\"):\n",
    "            print(\"Skip 8 beginning key cand: {}, {}\".format(key_cand, len(tup_list)))\n",
    "    else:\n",
    "        try:\n",
    "            real_pat = get_real_patent(\"us-patent-grant\", key_cand, tup_list)\n",
    "            if real_pat:\n",
    "                patent_grants_dic[key_cand] = real_pat \n",
    "                print(\"found {}, {}, {}\".format(i, key_cand, len(patent_grants_dic)))\n",
    "        except ValueError:\n",
    "            print(\"No end tag found, skip. {}:{}\".format(i, key_cand))\n",
    "            "
   ]
  },
  {
   "cell_type": "code",
   "execution_count": null,
   "metadata": {},
   "outputs": [],
   "source": []
  },
  {
   "cell_type": "code",
   "execution_count": null,
   "metadata": {},
   "outputs": [],
   "source": []
  },
  {
   "cell_type": "code",
   "execution_count": 84,
   "metadata": {},
   "outputs": [
    {
     "data": {
      "text/plain": [
       "('8140012', [['grants2012/ipg120320.xml', 5011666]])"
      ]
     },
     "execution_count": 84,
     "metadata": {},
     "output_type": "execute_result"
    }
   ],
   "source": [
    "dict_list[83]"
   ]
  },
  {
   "cell_type": "code",
   "execution_count": 86,
   "metadata": {},
   "outputs": [],
   "source": [
    "get_real_patent(\"us-patent-grant\", dict_list[83][0], dict_list[83][1])"
   ]
  },
  {
   "cell_type": "code",
   "execution_count": null,
   "metadata": {},
   "outputs": [],
   "source": []
  },
  {
   "cell_type": "code",
   "execution_count": null,
   "metadata": {},
   "outputs": [],
   "source": []
  },
  {
   "cell_type": "code",
   "execution_count": null,
   "metadata": {},
   "outputs": [],
   "source": []
  },
  {
   "cell_type": "code",
   "execution_count": null,
   "metadata": {},
   "outputs": [],
   "source": []
  },
  {
   "cell_type": "code",
   "execution_count": 70,
   "metadata": {},
   "outputs": [
    {
     "name": "stdout",
     "output_type": "stream",
     "text": [
      "9: 6978184, 6\n",
      "10: 20070233706, 1\n",
      "11: 6063078, 40\n",
      "12: 5980676, 1\n",
      "13: 6365565, 1\n",
      "14: 7080960, 1\n",
      "15: 20090059936, 1\n",
      "16: 20070203910, 1\n",
      "17: 5907491, 31\n",
      "18: 7268118, 2\n",
      "19: 8202487, 1\n",
      "found 19\n"
     ]
    }
   ],
   "source": [
    "for i in range(9, 20):\n",
    "    key_cand, tup_list = dict_list[i]\n",
    "    print(\"{}: {}, {}\".format(i, key_cand, len(tup_list)))\n",
    "\n",
    "    real_pat = get_real_patent(\"us-patent-grant\", key_cand, tup_list)\n",
    "    if real_pat:\n",
    "        print(\"found {}\".format(i))"
   ]
  },
  {
   "cell_type": "code",
   "execution_count": 71,
   "metadata": {},
   "outputs": [
    {
     "name": "stdout",
     "output_type": "stream",
     "text": [
      "20: 7797430, 4\n",
      "21: 20100045635, 1\n",
      "22: 7193644, 7\n",
      "23: 6562906, 15\n",
      "24: 5648506, 10\n",
      "25: 6847481, 1\n",
      "26: 5905777, 19\n",
      "27: 5848173, 1\n",
      "28: 4958625, 16\n",
      "29: 5533521, 11\n"
     ]
    }
   ],
   "source": [
    "for i in range(20, 30):\n",
    "    key_cand, tup_list = dict_list[i]\n",
    "    print(\"{}: {}, {}\".format(i, key_cand, len(tup_list)))\n",
    "\n",
    "    real_pat = get_real_patent(\"us-patent-grant\", key_cand, tup_list)\n",
    "    if real_pat:\n",
    "        print(\"found {}\".format(i))"
   ]
  },
  {
   "cell_type": "code",
   "execution_count": 72,
   "metadata": {},
   "outputs": [
    {
     "name": "stdout",
     "output_type": "stream",
     "text": [
      "30: 7252600, 13\n",
      "31: 7461077, 9\n",
      "32: 6172344, 4\n",
      "33: 5756981, 46\n",
      "34: 6310839, 1\n",
      "35: 6180415, 14\n",
      "36: 20070231401, 1\n",
      "37: 20080104348, 1\n",
      "38: 20090138245, 1\n",
      "39: 6064143, 1\n",
      "40: 7583001, 1\n",
      "41: 3675597, 3\n",
      "42: 6054839, 1\n",
      "43: 8114845, 2\n",
      "found 43\n",
      "44: D155065, 1\n",
      "45: 20110193637, 1\n",
      "46: 7579197, 1\n",
      "47: 6222457, 3\n",
      "48: 20110037114, 1\n",
      "49: 4965097, 3\n",
      "50: 5546932, 11\n",
      "51: 5589033, 5\n",
      "52: 20100270553, 1\n",
      "53: 5281018, 4\n",
      "54: 6458003, 1\n",
      "55: 3804292, 2\n",
      "56: 20050033234, 1\n",
      "57: 6559731, 1\n",
      "58: 8004092, 4\n",
      "59: 5451176, 1\n",
      "60: 7517363, 4\n",
      "61: 6496766, 8\n",
      "62: 20120240927, 1\n",
      "63: 20090161602, 1\n",
      "64: 5614206, 5\n",
      "65: 5518597, 2\n",
      "66: 3843288, 1\n",
      "67: 4226236, 6\n",
      "68: 4978144, 2\n",
      "69: 7751806, 1\n"
     ]
    }
   ],
   "source": [
    "for i in range(30, 70):\n",
    "    key_cand, tup_list = dict_list[i]\n",
    "    print(\"{}: {}, {}\".format(i, key_cand, len(tup_list)))\n",
    "\n",
    "    real_pat = get_real_patent(\"us-patent-grant\", key_cand, tup_list)\n",
    "    if real_pat:\n",
    "        print(\"found {}\".format(i))"
   ]
  },
  {
   "cell_type": "code",
   "execution_count": null,
   "metadata": {},
   "outputs": [],
   "source": []
  },
  {
   "cell_type": "code",
   "execution_count": null,
   "metadata": {},
   "outputs": [],
   "source": []
  },
  {
   "cell_type": "code",
   "execution_count": null,
   "metadata": {},
   "outputs": [],
   "source": []
  },
  {
   "cell_type": "code",
   "execution_count": 56,
   "metadata": {
    "scrolled": true
   },
   "outputs": [
    {
     "data": {
      "text/plain": [
       "8"
      ]
     },
     "execution_count": 56,
     "metadata": {},
     "output_type": "execute_result"
    }
   ],
   "source": [
    "i"
   ]
  },
  {
   "cell_type": "code",
   "execution_count": null,
   "metadata": {},
   "outputs": [],
   "source": []
  },
  {
   "cell_type": "code",
   "execution_count": null,
   "metadata": {},
   "outputs": [],
   "source": []
  },
  {
   "cell_type": "code",
   "execution_count": 57,
   "metadata": {},
   "outputs": [
    {
     "data": {
      "text/plain": [
       "[['grants2012/ipg121106.xml', 5342114],\n",
       " ['grants2012/ipg121002.xml', 5626822],\n",
       " ['grants2012/ipg120508.xml', 5794299],\n",
       " ['grants2012/ipg120508.xml', 5803487],\n",
       " ['grants2012/ipg120612.xml', 5407506],\n",
       " ['grants2012/ipg120522.xml', 5137393],\n",
       " ['grants2012/ipg121127.xml', 1444948],\n",
       " ['grants2012/ipg121127.xml', 6560493],\n",
       " ['grants2012/ipg120320.xml', 5202882],\n",
       " ['grants2012/ipg121016.xml', 6215625],\n",
       " ['grants2012/ipg120904.xml', 5781479],\n",
       " ['grants2012/ipg120814.xml', 5573793],\n",
       " ['grants2012/ipg120814.xml', 5576351],\n",
       " ['grants2012/ipg120828.xml', 596660],\n",
       " ['grants2012/ipg120828.xml', 5851701],\n",
       " ['grants2012/ipg120306.xml', 5691746],\n",
       " ['grants2012/ipg120306.xml', 5709177],\n",
       " ['grants2012/ipg120306.xml', 5720034],\n",
       " ['grants2012/ipg120327.xml', 5498384],\n",
       " ['grants2012/ipg120327.xml', 5508518],\n",
       " ['grants2012/ipg120327.xml', 5519359],\n",
       " ['grants2012/ipg120911.xml', 1390981],\n",
       " ['grants2012/ipg120911.xml', 5904173],\n",
       " ['grants2012/ipg120911.xml', 5944689],\n",
       " ['grants2012/ipg120605.xml', 5929238],\n",
       " ['grants2012/ipg120403.xml', 6183602],\n",
       " ['grants2012/ipg120403.xml', 6194372],\n",
       " ['grants2012/ipg120403.xml', 6205222],\n",
       " ['grants2012/ipg120214.xml', 5867299],\n",
       " ['grants2012/ipg120717.xml', 1385340],\n",
       " ['grants2012/ipg120731.xml', 4729187],\n",
       " ['grants2012/ipg120417.xml', 5738754],\n",
       " ['grants2012/ipg120626.xml', 5386595],\n",
       " ['grants2012/ipg120626.xml', 5391000],\n",
       " ['grants2012/ipg121204.xml', 1453174],\n",
       " ['grants2012/ipg120313.xml', 4417558],\n",
       " ['grants2012/ipg121218.xml', 3858075],\n",
       " ['grants2012/ipg120131.xml', 585339]]"
      ]
     },
     "execution_count": 57,
     "metadata": {},
     "output_type": "execute_result"
    }
   ],
   "source": [
    "tup_list"
   ]
  },
  {
   "cell_type": "code",
   "execution_count": 58,
   "metadata": {},
   "outputs": [
    {
     "data": {
      "text/plain": [
       "'6415183'"
      ]
     },
     "execution_count": 58,
     "metadata": {},
     "output_type": "execute_result"
    }
   ],
   "source": [
    "key_cand"
   ]
  },
  {
   "cell_type": "code",
   "execution_count": null,
   "metadata": {},
   "outputs": [],
   "source": []
  },
  {
   "cell_type": "code",
   "execution_count": null,
   "metadata": {},
   "outputs": [],
   "source": []
  },
  {
   "cell_type": "code",
   "execution_count": 69,
   "metadata": {},
   "outputs": [],
   "source": [
    "real_pat = get_real_patent(\"us-patent-grant\", key_cand, tup_list)\n",
    "if real_pat:\n",
    "    print(\"found {}\".format(i))"
   ]
  },
  {
   "cell_type": "code",
   "execution_count": null,
   "metadata": {},
   "outputs": [],
   "source": []
  },
  {
   "cell_type": "code",
   "execution_count": null,
   "metadata": {},
   "outputs": [],
   "source": []
  },
  {
   "cell_type": "code",
   "execution_count": null,
   "metadata": {},
   "outputs": [],
   "source": []
  },
  {
   "cell_type": "markdown",
   "metadata": {},
   "source": [
    "### Below cell takes too much times. Must be bug."
   ]
  },
  {
   "cell_type": "code",
   "execution_count": null,
   "metadata": {},
   "outputs": [],
   "source": []
  },
  {
   "cell_type": "code",
   "execution_count": null,
   "metadata": {},
   "outputs": [],
   "source": [
    "for key_cand, tup_list in indexGrants2012_we_need.items():\n",
    "    try:\n",
    "        real_pat = get_real_patent(\"us-patent-grant\", key_cand, tup_list)\n",
    "        if real_pat:\n",
    "            patent_grants_dic[key_cand] = real_pat            \n",
    "    except:\n",
    "        print(\"can't find tag. ignore. {}\".format(key_cand))"
   ]
  },
  {
   "cell_type": "code",
   "execution_count": null,
   "metadata": {},
   "outputs": [],
   "source": [
    "len(list(patent_grants_dic.keys()))"
   ]
  },
  {
   "cell_type": "code",
   "execution_count": null,
   "metadata": {},
   "outputs": [],
   "source": []
  },
  {
   "cell_type": "code",
   "execution_count": 205,
   "metadata": {},
   "outputs": [
    {
     "data": {
      "text/plain": [
       "['08300926', '12499630']"
      ]
     },
     "execution_count": 205,
     "metadata": {},
     "output_type": "execute_result"
    }
   ],
   "source": [
    "real_id1, pat_text1 = get_patent(\"us-patent-grant\", '../data/' + 'grants2012/ipg121030.xml', 5731295)\n",
    "real_id1"
   ]
  },
  {
   "cell_type": "code",
   "execution_count": 212,
   "metadata": {},
   "outputs": [
    {
     "data": {
      "text/plain": [
       "'8227462'"
      ]
     },
     "execution_count": 212,
     "metadata": {},
     "output_type": "execute_result"
    }
   ],
   "source": [
    "real_id2, pat_text2 = get_patent(\"us-patent-grant\", '../data/' + 'grants2012/ipg120724.xml', 3034084)\n",
    "real_id2"
   ]
  },
  {
   "cell_type": "code",
   "execution_count": 142,
   "metadata": {},
   "outputs": [
    {
     "data": {
      "text/plain": [
       "'08326698'"
      ]
     },
     "execution_count": 142,
     "metadata": {},
     "output_type": "execute_result"
    }
   ],
   "source": [
    "real_id3, pat_text3 = get_patent(\"us-patent-grant\", '../data/' + 'grants2012/ipg121204.xml', 6903688)\n",
    "real_id3"
   ]
  },
  {
   "cell_type": "code",
   "execution_count": null,
   "metadata": {},
   "outputs": [],
   "source": []
  },
  {
   "cell_type": "code",
   "execution_count": 146,
   "metadata": {},
   "outputs": [],
   "source": [
    "with open('tmp_out.txt', 'w') as f: \n",
    "    print(\"\\n\".join(pat_text1), file=f)"
   ]
  },
  {
   "cell_type": "code",
   "execution_count": null,
   "metadata": {},
   "outputs": [],
   "source": [
    "['grants2012/ipg120417.xml', 6067926],\n",
    " ['grants2012/ipg121204.xml', 6903406],\n",
    " ['grants2012/ipg121204.xml', 6903688]"
   ]
  },
  {
   "cell_type": "code",
   "execution_count": null,
   "metadata": {},
   "outputs": [],
   "source": []
  },
  {
   "cell_type": "code",
   "execution_count": 147,
   "metadata": {},
   "outputs": [
    {
     "data": {
      "text/plain": [
       "[['grants2012/ipg121106.xml', 1672856],\n",
       " ['grants2012/ipg120703.xml', 1727841],\n",
       " ['grants2012/ipg120724.xml', 1752025]]"
      ]
     },
     "execution_count": 147,
     "metadata": {},
     "output_type": "execute_result"
    }
   ],
   "source": [
    "indexGrants2012_we_need['4242108']"
   ]
  },
  {
   "cell_type": "code",
   "execution_count": 152,
   "metadata": {},
   "outputs": [
    {
     "data": {
      "text/plain": [
       "['08303685', '10565466']"
      ]
     },
     "execution_count": 152,
     "metadata": {},
     "output_type": "execute_result"
    }
   ],
   "source": [
    "real_id1, pat_text1 = get_patent(\"us-patent-grant\", '../data/' + 'grants2012/ipg121106.xml', 1672856)\n",
    "real_id1"
   ]
  },
  {
   "cell_type": "code",
   "execution_count": 153,
   "metadata": {},
   "outputs": [
    {
     "data": {
      "text/plain": [
       "['08211213', '12632244']"
      ]
     },
     "execution_count": 153,
     "metadata": {},
     "output_type": "execute_result"
    }
   ],
   "source": [
    "real_id2, pat_text2 = get_patent(\"us-patent-grant\", '../data/' + 'grants2012/ipg120703.xml', 1727841)\n",
    "real_id2"
   ]
  },
  {
   "cell_type": "code",
   "execution_count": 154,
   "metadata": {},
   "outputs": [
    {
     "data": {
      "text/plain": [
       "['08226748', '12602887']"
      ]
     },
     "execution_count": 154,
     "metadata": {},
     "output_type": "execute_result"
    }
   ],
   "source": [
    "real_id3, pat_text3 = get_patent(\"us-patent-grant\", '../data/' + 'grants2012/ipg120724.xml', 1752025)\n",
    "real_id3"
   ]
  },
  {
   "cell_type": "code",
   "execution_count": null,
   "metadata": {},
   "outputs": [],
   "source": []
  },
  {
   "cell_type": "code",
   "execution_count": 170,
   "metadata": {},
   "outputs": [
    {
     "ename": "KeyError",
     "evalue": "'20120181696'",
     "output_type": "error",
     "traceback": [
      "\u001b[0;31m---------------------------------------------------------------------------\u001b[0m",
      "\u001b[0;31mKeyError\u001b[0m                                  Traceback (most recent call last)",
      "\u001b[0;32m<ipython-input-170-9ac3bf82fba5>\u001b[0m in \u001b[0;36m<module>\u001b[0;34m()\u001b[0m\n\u001b[0;32m----> 1\u001b[0;31m \u001b[0mindexGrants2012_we_need\u001b[0m\u001b[0;34m[\u001b[0m\u001b[0;34m'20120181696'\u001b[0m\u001b[0;34m]\u001b[0m\u001b[0;34m\u001b[0m\u001b[0m\n\u001b[0m",
      "\u001b[0;31mKeyError\u001b[0m: '20120181696'"
     ]
    }
   ],
   "source": [
    "indexGrants2012_we_need['20120181696']"
   ]
  },
  {
   "cell_type": "code",
   "execution_count": 171,
   "metadata": {},
   "outputs": [
    {
     "ename": "KeyError",
     "evalue": "'20120181696'",
     "output_type": "error",
     "traceback": [
      "\u001b[0;31m---------------------------------------------------------------------------\u001b[0m",
      "\u001b[0;31mKeyError\u001b[0m                                  Traceback (most recent call last)",
      "\u001b[0;32m<ipython-input-171-f2a0b9f46407>\u001b[0m in \u001b[0;36m<module>\u001b[0;34m()\u001b[0m\n\u001b[0;32m----> 1\u001b[0;31m \u001b[0mindexGrants2012\u001b[0m\u001b[0;34m[\u001b[0m\u001b[0;34m'20120181696'\u001b[0m\u001b[0;34m]\u001b[0m\u001b[0;34m\u001b[0m\u001b[0m\n\u001b[0m",
      "\u001b[0;31mKeyError\u001b[0m: '20120181696'"
     ]
    }
   ],
   "source": [
    "indexGrants2012['20120181696']"
   ]
  },
  {
   "cell_type": "code",
   "execution_count": null,
   "metadata": {},
   "outputs": [],
   "source": []
  },
  {
   "cell_type": "code",
   "execution_count": null,
   "metadata": {},
   "outputs": [],
   "source": []
  },
  {
   "cell_type": "code",
   "execution_count": 155,
   "metadata": {},
   "outputs": [
    {
     "data": {
      "text/plain": [
       "['6510334',\n",
       " '7534866',\n",
       " '8227462',\n",
       " '20110032802',\n",
       " '6768196',\n",
       " '5235967',\n",
       " '20110035525',\n",
       " '5708963',\n",
       " '8011686',\n",
       " '4254145',\n",
       " '7010112',\n",
       " '4116456',\n",
       " '4835565',\n",
       " '7500444',\n",
       " '20080181288']"
      ]
     },
     "execution_count": 155,
     "metadata": {},
     "output_type": "execute_result"
    }
   ],
   "source": [
    "list(indexGrants2012_we_need.keys())[5:20]"
   ]
  },
  {
   "cell_type": "code",
   "execution_count": 167,
   "metadata": {},
   "outputs": [
    {
     "data": {
      "text/plain": [
       "True"
      ]
     },
     "execution_count": 167,
     "metadata": {},
     "output_type": "execute_result"
    }
   ],
   "source": [
    "'20150364400'.startswith(\"2015\")"
   ]
  },
  {
   "cell_type": "code",
   "execution_count": 165,
   "metadata": {},
   "outputs": [
    {
     "data": {
      "text/plain": [
       "['8553488', '20150364400', '20120181696', '20120279760', '20140091294']"
      ]
     },
     "execution_count": 165,
     "metadata": {},
     "output_type": "execute_result"
    }
   ],
   "source": [
    "list(citations_2017.parsed)[0:5]"
   ]
  },
  {
   "cell_type": "code",
   "execution_count": 169,
   "metadata": {},
   "outputs": [
    {
     "data": {
      "text/html": [
       "<div>\n",
       "<style scoped>\n",
       "    .dataframe tbody tr th:only-of-type {\n",
       "        vertical-align: middle;\n",
       "    }\n",
       "\n",
       "    .dataframe tbody tr th {\n",
       "        vertical-align: top;\n",
       "    }\n",
       "\n",
       "    .dataframe thead th {\n",
       "        text-align: right;\n",
       "    }\n",
       "</style>\n",
       "<table border=\"1\" class=\"dataframe\">\n",
       "  <thead>\n",
       "    <tr style=\"text-align: right;\">\n",
       "      <th></th>\n",
       "      <th>app_id</th>\n",
       "      <th>citation_pat_pgpub_id</th>\n",
       "      <th>parsed</th>\n",
       "      <th>ifw_number</th>\n",
       "      <th>action_type</th>\n",
       "      <th>action_subtype</th>\n",
       "      <th>form892</th>\n",
       "      <th>form1449</th>\n",
       "      <th>citation_in_oa</th>\n",
       "    </tr>\n",
       "  </thead>\n",
       "  <tbody>\n",
       "    <tr>\n",
       "      <th>57732274</th>\n",
       "      <td>15000034</td>\n",
       "      <td>Sun US 2012/0181696</td>\n",
       "      <td>20120181696</td>\n",
       "      <td>IYD99O6CRXEAPX0</td>\n",
       "      <td>103.0</td>\n",
       "      <td>NaN</td>\n",
       "      <td>0</td>\n",
       "      <td>0</td>\n",
       "      <td>1</td>\n",
       "    </tr>\n",
       "    <tr>\n",
       "      <th>57732275</th>\n",
       "      <td>15000034</td>\n",
       "      <td>Sun US 2012/0279760</td>\n",
       "      <td>20120279760</td>\n",
       "      <td>IYD99O6CRXEAPX0</td>\n",
       "      <td>103.0</td>\n",
       "      <td>NaN</td>\n",
       "      <td>0</td>\n",
       "      <td>0</td>\n",
       "      <td>1</td>\n",
       "    </tr>\n",
       "    <tr>\n",
       "      <th>57732330</th>\n",
       "      <td>15000048</td>\n",
       "      <td>Ke U.S. Pub # Pub # 2012/0049221 A1</td>\n",
       "      <td>20120049221</td>\n",
       "      <td>IYEPR2ZURXEAPX4</td>\n",
       "      <td>103.0</td>\n",
       "      <td>NaN</td>\n",
       "      <td>0</td>\n",
       "      <td>0</td>\n",
       "      <td>1</td>\n",
       "    </tr>\n",
       "    <tr>\n",
       "      <th>57732335</th>\n",
       "      <td>15000048</td>\n",
       "      <td>Dai U.S. Pub # Pub # 2012/0087105 A1</td>\n",
       "      <td>20120087105</td>\n",
       "      <td>IYEPR2ZURXEAPX4</td>\n",
       "      <td>103.0</td>\n",
       "      <td>NaN</td>\n",
       "      <td>0</td>\n",
       "      <td>0</td>\n",
       "      <td>1</td>\n",
       "    </tr>\n",
       "    <tr>\n",
       "      <th>57733582</th>\n",
       "      <td>15000285</td>\n",
       "      <td>20120245377</td>\n",
       "      <td>20120245377</td>\n",
       "      <td>IV82WOB1RXEAPX5</td>\n",
       "      <td>103.0</td>\n",
       "      <td>NaN</td>\n",
       "      <td>1</td>\n",
       "      <td>0</td>\n",
       "      <td>1</td>\n",
       "    </tr>\n",
       "    <tr>\n",
       "      <th>57734766</th>\n",
       "      <td>15000519</td>\n",
       "      <td>20120261760</td>\n",
       "      <td>20120261760</td>\n",
       "      <td>J0B89O3HRXEAPX0</td>\n",
       "      <td>103.0</td>\n",
       "      <td>NaN</td>\n",
       "      <td>1</td>\n",
       "      <td>0</td>\n",
       "      <td>1</td>\n",
       "    </tr>\n",
       "    <tr>\n",
       "      <th>57737475</th>\n",
       "      <td>15000943</td>\n",
       "      <td>20120064136</td>\n",
       "      <td>20120064136</td>\n",
       "      <td>IOVFB1E5RXEAPX4</td>\n",
       "      <td>103.0</td>\n",
       "      <td>NaN</td>\n",
       "      <td>1</td>\n",
       "      <td>0</td>\n",
       "      <td>1</td>\n",
       "    </tr>\n",
       "    <tr>\n",
       "      <th>57739052</th>\n",
       "      <td>15001133</td>\n",
       "      <td>20120113095</td>\n",
       "      <td>20120113095</td>\n",
       "      <td>J3LJNGP5RXEAPX4</td>\n",
       "      <td>103.0</td>\n",
       "      <td>a</td>\n",
       "      <td>0</td>\n",
       "      <td>1</td>\n",
       "      <td>1</td>\n",
       "    </tr>\n",
       "    <tr>\n",
       "      <th>57739055</th>\n",
       "      <td>15001133</td>\n",
       "      <td>20120113095</td>\n",
       "      <td>20120113095</td>\n",
       "      <td>J3XHHLA6RXEAPX4</td>\n",
       "      <td>103.0</td>\n",
       "      <td>a</td>\n",
       "      <td>0</td>\n",
       "      <td>1</td>\n",
       "      <td>1</td>\n",
       "    </tr>\n",
       "    <tr>\n",
       "      <th>57739057</th>\n",
       "      <td>15001133</td>\n",
       "      <td>20120113095</td>\n",
       "      <td>20120113095</td>\n",
       "      <td>J3XHHLA6RXEAPX4</td>\n",
       "      <td>103.0</td>\n",
       "      <td>a</td>\n",
       "      <td>0</td>\n",
       "      <td>1</td>\n",
       "      <td>1</td>\n",
       "    </tr>\n",
       "    <tr>\n",
       "      <th>57739552</th>\n",
       "      <td>15001213</td>\n",
       "      <td>20120109577</td>\n",
       "      <td>20120109577</td>\n",
       "      <td>IMHZJ2S1PXXIFW4</td>\n",
       "      <td>102.0</td>\n",
       "      <td>a</td>\n",
       "      <td>1</td>\n",
       "      <td>0</td>\n",
       "      <td>1</td>\n",
       "    </tr>\n",
       "    <tr>\n",
       "      <th>57739554</th>\n",
       "      <td>15001213</td>\n",
       "      <td>20120113285</td>\n",
       "      <td>20120113285</td>\n",
       "      <td>IMHZJ2S1PXXIFW4</td>\n",
       "      <td>103.0</td>\n",
       "      <td>NaN</td>\n",
       "      <td>1</td>\n",
       "      <td>0</td>\n",
       "      <td>1</td>\n",
       "    </tr>\n",
       "    <tr>\n",
       "      <th>57739555</th>\n",
       "      <td>15001213</td>\n",
       "      <td>20120109577</td>\n",
       "      <td>20120109577</td>\n",
       "      <td>IMHZJ2S1PXXIFW4</td>\n",
       "      <td>103.0</td>\n",
       "      <td>NaN</td>\n",
       "      <td>1</td>\n",
       "      <td>0</td>\n",
       "      <td>1</td>\n",
       "    </tr>\n",
       "    <tr>\n",
       "      <th>57739556</th>\n",
       "      <td>15001213</td>\n",
       "      <td>20120109577</td>\n",
       "      <td>20120109577</td>\n",
       "      <td>IOLG3W73RXEAPX2</td>\n",
       "      <td>102.0</td>\n",
       "      <td>a</td>\n",
       "      <td>1</td>\n",
       "      <td>0</td>\n",
       "      <td>1</td>\n",
       "    </tr>\n",
       "    <tr>\n",
       "      <th>57739558</th>\n",
       "      <td>15001213</td>\n",
       "      <td>20120113285</td>\n",
       "      <td>20120113285</td>\n",
       "      <td>IOLG3W73RXEAPX2</td>\n",
       "      <td>103.0</td>\n",
       "      <td>NaN</td>\n",
       "      <td>1</td>\n",
       "      <td>0</td>\n",
       "      <td>1</td>\n",
       "    </tr>\n",
       "    <tr>\n",
       "      <th>57739559</th>\n",
       "      <td>15001213</td>\n",
       "      <td>20120109577</td>\n",
       "      <td>20120109577</td>\n",
       "      <td>IOLG3W73RXEAPX2</td>\n",
       "      <td>103.0</td>\n",
       "      <td>NaN</td>\n",
       "      <td>1</td>\n",
       "      <td>0</td>\n",
       "      <td>1</td>\n",
       "    </tr>\n",
       "    <tr>\n",
       "      <th>57739861</th>\n",
       "      <td>15001250</td>\n",
       "      <td>20120146087</td>\n",
       "      <td>20120146087</td>\n",
       "      <td>ISLVELNMRXEAPX3</td>\n",
       "      <td>103.0</td>\n",
       "      <td>NaN</td>\n",
       "      <td>1</td>\n",
       "      <td>0</td>\n",
       "      <td>1</td>\n",
       "    </tr>\n",
       "    <tr>\n",
       "      <th>57739870</th>\n",
       "      <td>15001250</td>\n",
       "      <td>Donofrio et al US PGPUB 20120193649</td>\n",
       "      <td>20120193649</td>\n",
       "      <td>IX0P8YO8RXEAPX1</td>\n",
       "      <td>103.0</td>\n",
       "      <td>NaN</td>\n",
       "      <td>0</td>\n",
       "      <td>0</td>\n",
       "      <td>1</td>\n",
       "    </tr>\n",
       "    <tr>\n",
       "      <th>57741939</th>\n",
       "      <td>15001498</td>\n",
       "      <td>20120209627</td>\n",
       "      <td>20120209627</td>\n",
       "      <td>IR6A9568RXEAPX0</td>\n",
       "      <td>102.0</td>\n",
       "      <td>a</td>\n",
       "      <td>1</td>\n",
       "      <td>0</td>\n",
       "      <td>1</td>\n",
       "    </tr>\n",
       "    <tr>\n",
       "      <th>57741955</th>\n",
       "      <td>15001498</td>\n",
       "      <td>20120209627</td>\n",
       "      <td>20120209627</td>\n",
       "      <td>IUPQ35QARXEAPX5</td>\n",
       "      <td>102.0</td>\n",
       "      <td>a</td>\n",
       "      <td>1</td>\n",
       "      <td>0</td>\n",
       "      <td>1</td>\n",
       "    </tr>\n",
       "    <tr>\n",
       "      <th>57741971</th>\n",
       "      <td>15001498</td>\n",
       "      <td>20120209627</td>\n",
       "      <td>20120209627</td>\n",
       "      <td>IZZSW9HBRXEAPX2</td>\n",
       "      <td>102.0</td>\n",
       "      <td>a</td>\n",
       "      <td>1</td>\n",
       "      <td>0</td>\n",
       "      <td>1</td>\n",
       "    </tr>\n",
       "    <tr>\n",
       "      <th>57743079</th>\n",
       "      <td>15001641</td>\n",
       "      <td>20120040600</td>\n",
       "      <td>20120040600</td>\n",
       "      <td>ILKVUZ66RXEAPX3</td>\n",
       "      <td>103.0</td>\n",
       "      <td>NaN</td>\n",
       "      <td>1</td>\n",
       "      <td>0</td>\n",
       "      <td>1</td>\n",
       "    </tr>\n",
       "    <tr>\n",
       "      <th>57743083</th>\n",
       "      <td>15001641</td>\n",
       "      <td>20120040600</td>\n",
       "      <td>20120040600</td>\n",
       "      <td>ITA6UI9WRXEAPX0</td>\n",
       "      <td>103.0</td>\n",
       "      <td>NaN</td>\n",
       "      <td>1</td>\n",
       "      <td>0</td>\n",
       "      <td>1</td>\n",
       "    </tr>\n",
       "    <tr>\n",
       "      <th>57743476</th>\n",
       "      <td>15001694</td>\n",
       "      <td>20120317491</td>\n",
       "      <td>20120317491</td>\n",
       "      <td>IRM317QCRXEAPX2</td>\n",
       "      <td>103.0</td>\n",
       "      <td>a</td>\n",
       "      <td>1</td>\n",
       "      <td>0</td>\n",
       "      <td>1</td>\n",
       "    </tr>\n",
       "    <tr>\n",
       "      <th>57744167</th>\n",
       "      <td>15001768</td>\n",
       "      <td>20120157290</td>\n",
       "      <td>20120157290</td>\n",
       "      <td>IVCFFBW5RXEAPX3</td>\n",
       "      <td>103.0</td>\n",
       "      <td>a</td>\n",
       "      <td>1</td>\n",
       "      <td>0</td>\n",
       "      <td>1</td>\n",
       "    </tr>\n",
       "    <tr>\n",
       "      <th>57745185</th>\n",
       "      <td>15001962</td>\n",
       "      <td>20120167943</td>\n",
       "      <td>20120167943</td>\n",
       "      <td>ITVOQD54RXEAPX3</td>\n",
       "      <td>102.0</td>\n",
       "      <td>a</td>\n",
       "      <td>1</td>\n",
       "      <td>1</td>\n",
       "      <td>1</td>\n",
       "    </tr>\n",
       "    <tr>\n",
       "      <th>57745191</th>\n",
       "      <td>15001962</td>\n",
       "      <td>20120167943</td>\n",
       "      <td>20120167943</td>\n",
       "      <td>ITVOQD54RXEAPX3</td>\n",
       "      <td>103.0</td>\n",
       "      <td>NaN</td>\n",
       "      <td>1</td>\n",
       "      <td>1</td>\n",
       "      <td>1</td>\n",
       "    </tr>\n",
       "    <tr>\n",
       "      <th>57745196</th>\n",
       "      <td>15001965</td>\n",
       "      <td>20120256371</td>\n",
       "      <td>20120256371</td>\n",
       "      <td>IVCLZSBXRXEAPX2</td>\n",
       "      <td>103.0</td>\n",
       "      <td>NaN</td>\n",
       "      <td>1</td>\n",
       "      <td>0</td>\n",
       "      <td>1</td>\n",
       "    </tr>\n",
       "    <tr>\n",
       "      <th>57745999</th>\n",
       "      <td>15002012</td>\n",
       "      <td>Choi et al , US 2012/0249940</td>\n",
       "      <td>20120249940</td>\n",
       "      <td>J4H2CII0RXEAPX5</td>\n",
       "      <td>103.0</td>\n",
       "      <td>NaN</td>\n",
       "      <td>0</td>\n",
       "      <td>0</td>\n",
       "      <td>1</td>\n",
       "    </tr>\n",
       "    <tr>\n",
       "      <th>57746001</th>\n",
       "      <td>15002012</td>\n",
       "      <td>Miyakawa et al , US 2012/0212691</td>\n",
       "      <td>20120212691</td>\n",
       "      <td>J4H2CII0RXEAPX5</td>\n",
       "      <td>103.0</td>\n",
       "      <td>NaN</td>\n",
       "      <td>0</td>\n",
       "      <td>0</td>\n",
       "      <td>1</td>\n",
       "    </tr>\n",
       "    <tr>\n",
       "      <th>...</th>\n",
       "      <td>...</td>\n",
       "      <td>...</td>\n",
       "      <td>...</td>\n",
       "      <td>...</td>\n",
       "      <td>...</td>\n",
       "      <td>...</td>\n",
       "      <td>...</td>\n",
       "      <td>...</td>\n",
       "      <td>...</td>\n",
       "    </tr>\n",
       "    <tr>\n",
       "      <th>58860991</th>\n",
       "      <td>15362580</td>\n",
       "      <td>Flalho et al US 2012/0306913</td>\n",
       "      <td>20120306913</td>\n",
       "      <td>IXAOPE85RXEAPX2</td>\n",
       "      <td>103.0</td>\n",
       "      <td>a</td>\n",
       "      <td>0</td>\n",
       "      <td>0</td>\n",
       "      <td>1</td>\n",
       "    </tr>\n",
       "    <tr>\n",
       "      <th>58861079</th>\n",
       "      <td>15362769</td>\n",
       "      <td>Chen et al U.S. 2012/0007145 A1; ÂÂ</td>\n",
       "      <td>20120007145</td>\n",
       "      <td>IXVTAYBXRXEAPX5</td>\n",
       "      <td>102.0</td>\n",
       "      <td>a</td>\n",
       "      <td>0</td>\n",
       "      <td>0</td>\n",
       "      <td>1</td>\n",
       "    </tr>\n",
       "    <tr>\n",
       "      <th>58861080</th>\n",
       "      <td>15362769</td>\n",
       "      <td>Chen et al U.S. 2012/0007145 A1; ÂÂ</td>\n",
       "      <td>20120007145</td>\n",
       "      <td>IXVTAYBXRXEAPX5</td>\n",
       "      <td>103.0</td>\n",
       "      <td>NaN</td>\n",
       "      <td>0</td>\n",
       "      <td>0</td>\n",
       "      <td>1</td>\n",
       "    </tr>\n",
       "    <tr>\n",
       "      <th>58861131</th>\n",
       "      <td>15362843</td>\n",
       "      <td>Perillon et al US 2012/0132655</td>\n",
       "      <td>20120132655</td>\n",
       "      <td>J09T6DZJRXEAPX1</td>\n",
       "      <td>103.0</td>\n",
       "      <td>NaN</td>\n",
       "      <td>0</td>\n",
       "      <td>0</td>\n",
       "      <td>1</td>\n",
       "    </tr>\n",
       "    <tr>\n",
       "      <th>58861132</th>\n",
       "      <td>15362843</td>\n",
       "      <td>Hu et al US 2012/0048912</td>\n",
       "      <td>20120048912</td>\n",
       "      <td>J09T6DZJRXEAPX1</td>\n",
       "      <td>103.0</td>\n",
       "      <td>NaN</td>\n",
       "      <td>0</td>\n",
       "      <td>0</td>\n",
       "      <td>1</td>\n",
       "    </tr>\n",
       "    <tr>\n",
       "      <th>58861148</th>\n",
       "      <td>15362942</td>\n",
       "      <td>20120029281</td>\n",
       "      <td>20120029281</td>\n",
       "      <td>J4TXDSXLRXEAPX5</td>\n",
       "      <td>102.0</td>\n",
       "      <td>NaN</td>\n",
       "      <td>0</td>\n",
       "      <td>1</td>\n",
       "      <td>1</td>\n",
       "    </tr>\n",
       "    <tr>\n",
       "      <th>58861149</th>\n",
       "      <td>15362942</td>\n",
       "      <td>20120029281</td>\n",
       "      <td>20120029281</td>\n",
       "      <td>J4TXDSXLRXEAPX5</td>\n",
       "      <td>102.0</td>\n",
       "      <td>NaN</td>\n",
       "      <td>0</td>\n",
       "      <td>1</td>\n",
       "      <td>1</td>\n",
       "    </tr>\n",
       "    <tr>\n",
       "      <th>58861193</th>\n",
       "      <td>15363097</td>\n",
       "      <td>Sun et al U.S 2012/0002567 A1</td>\n",
       "      <td>20120002567</td>\n",
       "      <td>J0B8AJ7URXEAPX5</td>\n",
       "      <td>103.0</td>\n",
       "      <td>NaN</td>\n",
       "      <td>0</td>\n",
       "      <td>0</td>\n",
       "      <td>1</td>\n",
       "    </tr>\n",
       "    <tr>\n",
       "      <th>58861278</th>\n",
       "      <td>15363457</td>\n",
       "      <td>20120133974</td>\n",
       "      <td>20120133974</td>\n",
       "      <td>J4SJ9472RXEAPX2</td>\n",
       "      <td>102.0</td>\n",
       "      <td>a</td>\n",
       "      <td>0</td>\n",
       "      <td>1</td>\n",
       "      <td>1</td>\n",
       "    </tr>\n",
       "    <tr>\n",
       "      <th>58861449</th>\n",
       "      <td>15363720</td>\n",
       "      <td>Seo US20120039285A1</td>\n",
       "      <td>20120039285A1</td>\n",
       "      <td>J4JT243BRXEAPX4</td>\n",
       "      <td>102.0</td>\n",
       "      <td>e</td>\n",
       "      <td>0</td>\n",
       "      <td>0</td>\n",
       "      <td>1</td>\n",
       "    </tr>\n",
       "    <tr>\n",
       "      <th>58861463</th>\n",
       "      <td>15363805</td>\n",
       "      <td>20120291196</td>\n",
       "      <td>20120291196</td>\n",
       "      <td>IWZ1Y9VNRXEAPX5</td>\n",
       "      <td>103.0</td>\n",
       "      <td>NaN</td>\n",
       "      <td>0</td>\n",
       "      <td>1</td>\n",
       "      <td>1</td>\n",
       "    </tr>\n",
       "    <tr>\n",
       "      <th>58861614</th>\n",
       "      <td>15363919</td>\n",
       "      <td>20120089996</td>\n",
       "      <td>20120089996</td>\n",
       "      <td>J4QXN5NLRXEAPX4</td>\n",
       "      <td>103.0</td>\n",
       "      <td>a</td>\n",
       "      <td>0</td>\n",
       "      <td>1</td>\n",
       "      <td>1</td>\n",
       "    </tr>\n",
       "    <tr>\n",
       "      <th>58861638</th>\n",
       "      <td>15364143</td>\n",
       "      <td>Lee et al US 2012/0024583 A1</td>\n",
       "      <td>20120024583</td>\n",
       "      <td>IYUEFYE7RXEAPX4</td>\n",
       "      <td>102.0</td>\n",
       "      <td>a</td>\n",
       "      <td>0</td>\n",
       "      <td>0</td>\n",
       "      <td>1</td>\n",
       "    </tr>\n",
       "    <tr>\n",
       "      <th>58861639</th>\n",
       "      <td>15364143</td>\n",
       "      <td>Lee et al US 2012/0024583 A1</td>\n",
       "      <td>20120024583</td>\n",
       "      <td>IYUEFYE7RXEAPX4</td>\n",
       "      <td>103.0</td>\n",
       "      <td>a</td>\n",
       "      <td>0</td>\n",
       "      <td>0</td>\n",
       "      <td>1</td>\n",
       "    </tr>\n",
       "    <tr>\n",
       "      <th>58861647</th>\n",
       "      <td>15364168</td>\n",
       "      <td>Chen et al U.S. PG-Publication # 2012/0275400</td>\n",
       "      <td>20120275400</td>\n",
       "      <td>IZT3IW8ARXEAPX0</td>\n",
       "      <td>102.0</td>\n",
       "      <td>e</td>\n",
       "      <td>0</td>\n",
       "      <td>0</td>\n",
       "      <td>1</td>\n",
       "    </tr>\n",
       "    <tr>\n",
       "      <th>58861739</th>\n",
       "      <td>15364919</td>\n",
       "      <td>Cardno Publication No . US 2012/0053986</td>\n",
       "      <td>20120053986</td>\n",
       "      <td>J3XFQ7BTRXEAPX5</td>\n",
       "      <td>103.0</td>\n",
       "      <td>NaN</td>\n",
       "      <td>0</td>\n",
       "      <td>0</td>\n",
       "      <td>1</td>\n",
       "    </tr>\n",
       "    <tr>\n",
       "      <th>58861740</th>\n",
       "      <td>15364919</td>\n",
       "      <td>Reyna et al pub No US 2012/0311441</td>\n",
       "      <td>20120311441</td>\n",
       "      <td>J3XFQ7BTRXEAPX5</td>\n",
       "      <td>103.0</td>\n",
       "      <td>NaN</td>\n",
       "      <td>0</td>\n",
       "      <td>0</td>\n",
       "      <td>1</td>\n",
       "    </tr>\n",
       "    <tr>\n",
       "      <th>58861787</th>\n",
       "      <td>15365287</td>\n",
       "      <td>Stougie et al U.S. Patent Application Publicat...</td>\n",
       "      <td>20120166487</td>\n",
       "      <td>IZH40OBGRXEAPX1</td>\n",
       "      <td>102.0</td>\n",
       "      <td>a</td>\n",
       "      <td>0</td>\n",
       "      <td>0</td>\n",
       "      <td>1</td>\n",
       "    </tr>\n",
       "    <tr>\n",
       "      <th>58861825</th>\n",
       "      <td>15365570</td>\n",
       "      <td>Dow et al 20120204529</td>\n",
       "      <td>20120204529</td>\n",
       "      <td>IX1WPL77RXEAPX4</td>\n",
       "      <td>102.0</td>\n",
       "      <td>a</td>\n",
       "      <td>0</td>\n",
       "      <td>0</td>\n",
       "      <td>1</td>\n",
       "    </tr>\n",
       "    <tr>\n",
       "      <th>58861903</th>\n",
       "      <td>15365933</td>\n",
       "      <td>Agarwal U.S. Patent App Pub 20120131129</td>\n",
       "      <td>20120131129</td>\n",
       "      <td>J01D8L59RXEAPX2</td>\n",
       "      <td>102.0</td>\n",
       "      <td>a</td>\n",
       "      <td>0</td>\n",
       "      <td>0</td>\n",
       "      <td>1</td>\n",
       "    </tr>\n",
       "    <tr>\n",
       "      <th>58862030</th>\n",
       "      <td>15368059</td>\n",
       "      <td>Kubota et al U.S. pub 2012/0189327</td>\n",
       "      <td>20120189327</td>\n",
       "      <td>J0I0V4XYRXEAPX1</td>\n",
       "      <td>103.0</td>\n",
       "      <td>NaN</td>\n",
       "      <td>0</td>\n",
       "      <td>0</td>\n",
       "      <td>1</td>\n",
       "    </tr>\n",
       "    <tr>\n",
       "      <th>58862061</th>\n",
       "      <td>15368539</td>\n",
       "      <td>Robinson 2012/0325227</td>\n",
       "      <td>20120325227</td>\n",
       "      <td>IYD8KYH4RXEAPX5</td>\n",
       "      <td>103.0</td>\n",
       "      <td>a</td>\n",
       "      <td>0</td>\n",
       "      <td>0</td>\n",
       "      <td>1</td>\n",
       "    </tr>\n",
       "    <tr>\n",
       "      <th>58862120</th>\n",
       "      <td>15369618</td>\n",
       "      <td>Bak et al US2012/0233438</td>\n",
       "      <td>20120233438</td>\n",
       "      <td>IYC17FKQRXEAPX0</td>\n",
       "      <td>103.0</td>\n",
       "      <td>NaN</td>\n",
       "      <td>0</td>\n",
       "      <td>0</td>\n",
       "      <td>1</td>\n",
       "    </tr>\n",
       "    <tr>\n",
       "      <th>58862139</th>\n",
       "      <td>15369954</td>\n",
       "      <td>FUJIMOTO US pub 2012/0177050</td>\n",
       "      <td>20120177050</td>\n",
       "      <td>J02IDRCNRXEAPX4</td>\n",
       "      <td>102.0</td>\n",
       "      <td>a</td>\n",
       "      <td>0</td>\n",
       "      <td>0</td>\n",
       "      <td>1</td>\n",
       "    </tr>\n",
       "    <tr>\n",
       "      <th>58862173</th>\n",
       "      <td>15370265</td>\n",
       "      <td>Thompson et al U.S. 2012/0130907</td>\n",
       "      <td>20120130907</td>\n",
       "      <td>J0CM4YV6RXEAPX3</td>\n",
       "      <td>103.0</td>\n",
       "      <td>NaN</td>\n",
       "      <td>0</td>\n",
       "      <td>0</td>\n",
       "      <td>1</td>\n",
       "    </tr>\n",
       "    <tr>\n",
       "      <th>58862184</th>\n",
       "      <td>15370575</td>\n",
       "      <td>Choi et al US Publication No. 2012/0228604</td>\n",
       "      <td>20120228604</td>\n",
       "      <td>IY1UB824RXEAPX1</td>\n",
       "      <td>103.0</td>\n",
       "      <td>a</td>\n",
       "      <td>0</td>\n",
       "      <td>0</td>\n",
       "      <td>1</td>\n",
       "    </tr>\n",
       "    <tr>\n",
       "      <th>58862210</th>\n",
       "      <td>15371036</td>\n",
       "      <td>Willoughby et al hereinafter ÂÂ, US 2012/030...</td>\n",
       "      <td>20120306924</td>\n",
       "      <td>IYX4PKNQRXEAPX4</td>\n",
       "      <td>102.0</td>\n",
       "      <td>a</td>\n",
       "      <td>0</td>\n",
       "      <td>0</td>\n",
       "      <td>1</td>\n",
       "    </tr>\n",
       "    <tr>\n",
       "      <th>58862214</th>\n",
       "      <td>15371115</td>\n",
       "      <td>Kleinbart et al U.S. Patent Publication 2012/0...</td>\n",
       "      <td>20120278388</td>\n",
       "      <td>J02ZYLXHRXEAPX1</td>\n",
       "      <td>103.0</td>\n",
       "      <td>a</td>\n",
       "      <td>0</td>\n",
       "      <td>0</td>\n",
       "      <td>1</td>\n",
       "    </tr>\n",
       "    <tr>\n",
       "      <th>58862215</th>\n",
       "      <td>15371115</td>\n",
       "      <td>Kirsch U.S. Patent Publication 2012/0197523</td>\n",
       "      <td>20120197523</td>\n",
       "      <td>J02ZYLXHRXEAPX1</td>\n",
       "      <td>103.0</td>\n",
       "      <td>a</td>\n",
       "      <td>0</td>\n",
       "      <td>0</td>\n",
       "      <td>1</td>\n",
       "    </tr>\n",
       "    <tr>\n",
       "      <th>58862227</th>\n",
       "      <td>15371482</td>\n",
       "      <td>Laracey pub No. US 2012/0160912</td>\n",
       "      <td>20120160912</td>\n",
       "      <td>IXQ8TNS3RXEAPX5</td>\n",
       "      <td>102.0</td>\n",
       "      <td>a</td>\n",
       "      <td>0</td>\n",
       "      <td>0</td>\n",
       "      <td>1</td>\n",
       "    </tr>\n",
       "  </tbody>\n",
       "</table>\n",
       "<p>2640 rows × 9 columns</p>\n",
       "</div>"
      ],
      "text/plain": [
       "            app_id                              citation_pat_pgpub_id  \\\n",
       "57732274  15000034                                Sun US 2012/0181696   \n",
       "57732275  15000034                                Sun US 2012/0279760   \n",
       "57732330  15000048                Ke U.S. Pub # Pub # 2012/0049221 A1   \n",
       "57732335  15000048               Dai U.S. Pub # Pub # 2012/0087105 A1   \n",
       "57733582  15000285                                        20120245377   \n",
       "57734766  15000519                                        20120261760   \n",
       "57737475  15000943                                        20120064136   \n",
       "57739052  15001133                                        20120113095   \n",
       "57739055  15001133                                        20120113095   \n",
       "57739057  15001133                                        20120113095   \n",
       "57739552  15001213                                        20120109577   \n",
       "57739554  15001213                                        20120113285   \n",
       "57739555  15001213                                        20120109577   \n",
       "57739556  15001213                                        20120109577   \n",
       "57739558  15001213                                        20120113285   \n",
       "57739559  15001213                                        20120109577   \n",
       "57739861  15001250                                        20120146087   \n",
       "57739870  15001250                Donofrio et al US PGPUB 20120193649   \n",
       "57741939  15001498                                        20120209627   \n",
       "57741955  15001498                                        20120209627   \n",
       "57741971  15001498                                        20120209627   \n",
       "57743079  15001641                                        20120040600   \n",
       "57743083  15001641                                        20120040600   \n",
       "57743476  15001694                                        20120317491   \n",
       "57744167  15001768                                        20120157290   \n",
       "57745185  15001962                                        20120167943   \n",
       "57745191  15001962                                        20120167943   \n",
       "57745196  15001965                                        20120256371   \n",
       "57745999  15002012                       Choi et al , US 2012/0249940   \n",
       "57746001  15002012                   Miyakawa et al , US 2012/0212691   \n",
       "...            ...                                                ...   \n",
       "58860991  15362580                       Flalho et al US 2012/0306913   \n",
       "58861079  15362769              Chen et al U.S. 2012/0007145 A1; ÂÂ   \n",
       "58861080  15362769              Chen et al U.S. 2012/0007145 A1; ÂÂ   \n",
       "58861131  15362843                     Perillon et al US 2012/0132655   \n",
       "58861132  15362843                           Hu et al US 2012/0048912   \n",
       "58861148  15362942                                        20120029281   \n",
       "58861149  15362942                                        20120029281   \n",
       "58861193  15363097                      Sun et al U.S 2012/0002567 A1   \n",
       "58861278  15363457                                        20120133974   \n",
       "58861449  15363720                                Seo US20120039285A1   \n",
       "58861463  15363805                                        20120291196   \n",
       "58861614  15363919                                        20120089996   \n",
       "58861638  15364143                       Lee et al US 2012/0024583 A1   \n",
       "58861639  15364143                       Lee et al US 2012/0024583 A1   \n",
       "58861647  15364168      Chen et al U.S. PG-Publication # 2012/0275400   \n",
       "58861739  15364919            Cardno Publication No . US 2012/0053986   \n",
       "58861740  15364919                 Reyna et al pub No US 2012/0311441   \n",
       "58861787  15365287  Stougie et al U.S. Patent Application Publicat...   \n",
       "58861825  15365570                              Dow et al 20120204529   \n",
       "58861903  15365933            Agarwal U.S. Patent App Pub 20120131129   \n",
       "58862030  15368059                 Kubota et al U.S. pub 2012/0189327   \n",
       "58862061  15368539                              Robinson 2012/0325227   \n",
       "58862120  15369618                           Bak et al US2012/0233438   \n",
       "58862139  15369954                       FUJIMOTO US pub 2012/0177050   \n",
       "58862173  15370265                   Thompson et al U.S. 2012/0130907   \n",
       "58862184  15370575         Choi et al US Publication No. 2012/0228604   \n",
       "58862210  15371036  Willoughby et al hereinafter ÂÂ, US 2012/030...   \n",
       "58862214  15371115  Kleinbart et al U.S. Patent Publication 2012/0...   \n",
       "58862215  15371115        Kirsch U.S. Patent Publication 2012/0197523   \n",
       "58862227  15371482                    Laracey pub No. US 2012/0160912   \n",
       "\n",
       "                 parsed       ifw_number  action_type action_subtype  form892  \\\n",
       "57732274    20120181696  IYD99O6CRXEAPX0        103.0            NaN        0   \n",
       "57732275    20120279760  IYD99O6CRXEAPX0        103.0            NaN        0   \n",
       "57732330    20120049221  IYEPR2ZURXEAPX4        103.0            NaN        0   \n",
       "57732335    20120087105  IYEPR2ZURXEAPX4        103.0            NaN        0   \n",
       "57733582    20120245377  IV82WOB1RXEAPX5        103.0            NaN        1   \n",
       "57734766    20120261760  J0B89O3HRXEAPX0        103.0            NaN        1   \n",
       "57737475    20120064136  IOVFB1E5RXEAPX4        103.0            NaN        1   \n",
       "57739052    20120113095  J3LJNGP5RXEAPX4        103.0              a        0   \n",
       "57739055    20120113095  J3XHHLA6RXEAPX4        103.0              a        0   \n",
       "57739057    20120113095  J3XHHLA6RXEAPX4        103.0              a        0   \n",
       "57739552    20120109577  IMHZJ2S1PXXIFW4        102.0              a        1   \n",
       "57739554    20120113285  IMHZJ2S1PXXIFW4        103.0            NaN        1   \n",
       "57739555    20120109577  IMHZJ2S1PXXIFW4        103.0            NaN        1   \n",
       "57739556    20120109577  IOLG3W73RXEAPX2        102.0              a        1   \n",
       "57739558    20120113285  IOLG3W73RXEAPX2        103.0            NaN        1   \n",
       "57739559    20120109577  IOLG3W73RXEAPX2        103.0            NaN        1   \n",
       "57739861    20120146087  ISLVELNMRXEAPX3        103.0            NaN        1   \n",
       "57739870    20120193649  IX0P8YO8RXEAPX1        103.0            NaN        0   \n",
       "57741939    20120209627  IR6A9568RXEAPX0        102.0              a        1   \n",
       "57741955    20120209627  IUPQ35QARXEAPX5        102.0              a        1   \n",
       "57741971    20120209627  IZZSW9HBRXEAPX2        102.0              a        1   \n",
       "57743079    20120040600  ILKVUZ66RXEAPX3        103.0            NaN        1   \n",
       "57743083    20120040600  ITA6UI9WRXEAPX0        103.0            NaN        1   \n",
       "57743476    20120317491  IRM317QCRXEAPX2        103.0              a        1   \n",
       "57744167    20120157290  IVCFFBW5RXEAPX3        103.0              a        1   \n",
       "57745185    20120167943  ITVOQD54RXEAPX3        102.0              a        1   \n",
       "57745191    20120167943  ITVOQD54RXEAPX3        103.0            NaN        1   \n",
       "57745196    20120256371  IVCLZSBXRXEAPX2        103.0            NaN        1   \n",
       "57745999    20120249940  J4H2CII0RXEAPX5        103.0            NaN        0   \n",
       "57746001    20120212691  J4H2CII0RXEAPX5        103.0            NaN        0   \n",
       "...                 ...              ...          ...            ...      ...   \n",
       "58860991    20120306913  IXAOPE85RXEAPX2        103.0              a        0   \n",
       "58861079    20120007145  IXVTAYBXRXEAPX5        102.0              a        0   \n",
       "58861080    20120007145  IXVTAYBXRXEAPX5        103.0            NaN        0   \n",
       "58861131    20120132655  J09T6DZJRXEAPX1        103.0            NaN        0   \n",
       "58861132    20120048912  J09T6DZJRXEAPX1        103.0            NaN        0   \n",
       "58861148    20120029281  J4TXDSXLRXEAPX5        102.0            NaN        0   \n",
       "58861149    20120029281  J4TXDSXLRXEAPX5        102.0            NaN        0   \n",
       "58861193    20120002567  J0B8AJ7URXEAPX5        103.0            NaN        0   \n",
       "58861278    20120133974  J4SJ9472RXEAPX2        102.0              a        0   \n",
       "58861449  20120039285A1  J4JT243BRXEAPX4        102.0              e        0   \n",
       "58861463    20120291196  IWZ1Y9VNRXEAPX5        103.0            NaN        0   \n",
       "58861614    20120089996  J4QXN5NLRXEAPX4        103.0              a        0   \n",
       "58861638    20120024583  IYUEFYE7RXEAPX4        102.0              a        0   \n",
       "58861639    20120024583  IYUEFYE7RXEAPX4        103.0              a        0   \n",
       "58861647    20120275400  IZT3IW8ARXEAPX0        102.0              e        0   \n",
       "58861739    20120053986  J3XFQ7BTRXEAPX5        103.0            NaN        0   \n",
       "58861740    20120311441  J3XFQ7BTRXEAPX5        103.0            NaN        0   \n",
       "58861787    20120166487  IZH40OBGRXEAPX1        102.0              a        0   \n",
       "58861825    20120204529  IX1WPL77RXEAPX4        102.0              a        0   \n",
       "58861903    20120131129  J01D8L59RXEAPX2        102.0              a        0   \n",
       "58862030    20120189327  J0I0V4XYRXEAPX1        103.0            NaN        0   \n",
       "58862061    20120325227  IYD8KYH4RXEAPX5        103.0              a        0   \n",
       "58862120    20120233438  IYC17FKQRXEAPX0        103.0            NaN        0   \n",
       "58862139    20120177050  J02IDRCNRXEAPX4        102.0              a        0   \n",
       "58862173    20120130907  J0CM4YV6RXEAPX3        103.0            NaN        0   \n",
       "58862184    20120228604  IY1UB824RXEAPX1        103.0              a        0   \n",
       "58862210    20120306924  IYX4PKNQRXEAPX4        102.0              a        0   \n",
       "58862214    20120278388  J02ZYLXHRXEAPX1        103.0              a        0   \n",
       "58862215    20120197523  J02ZYLXHRXEAPX1        103.0              a        0   \n",
       "58862227    20120160912  IXQ8TNS3RXEAPX5        102.0              a        0   \n",
       "\n",
       "          form1449  citation_in_oa  \n",
       "57732274         0               1  \n",
       "57732275         0               1  \n",
       "57732330         0               1  \n",
       "57732335         0               1  \n",
       "57733582         0               1  \n",
       "57734766         0               1  \n",
       "57737475         0               1  \n",
       "57739052         1               1  \n",
       "57739055         1               1  \n",
       "57739057         1               1  \n",
       "57739552         0               1  \n",
       "57739554         0               1  \n",
       "57739555         0               1  \n",
       "57739556         0               1  \n",
       "57739558         0               1  \n",
       "57739559         0               1  \n",
       "57739861         0               1  \n",
       "57739870         0               1  \n",
       "57741939         0               1  \n",
       "57741955         0               1  \n",
       "57741971         0               1  \n",
       "57743079         0               1  \n",
       "57743083         0               1  \n",
       "57743476         0               1  \n",
       "57744167         0               1  \n",
       "57745185         1               1  \n",
       "57745191         1               1  \n",
       "57745196         0               1  \n",
       "57745999         0               1  \n",
       "57746001         0               1  \n",
       "...            ...             ...  \n",
       "58860991         0               1  \n",
       "58861079         0               1  \n",
       "58861080         0               1  \n",
       "58861131         0               1  \n",
       "58861132         0               1  \n",
       "58861148         1               1  \n",
       "58861149         1               1  \n",
       "58861193         0               1  \n",
       "58861278         1               1  \n",
       "58861449         0               1  \n",
       "58861463         1               1  \n",
       "58861614         1               1  \n",
       "58861638         0               1  \n",
       "58861639         0               1  \n",
       "58861647         0               1  \n",
       "58861739         0               1  \n",
       "58861740         0               1  \n",
       "58861787         0               1  \n",
       "58861825         0               1  \n",
       "58861903         0               1  \n",
       "58862030         0               1  \n",
       "58862061         0               1  \n",
       "58862120         0               1  \n",
       "58862139         0               1  \n",
       "58862173         0               1  \n",
       "58862184         0               1  \n",
       "58862210         0               1  \n",
       "58862214         0               1  \n",
       "58862215         0               1  \n",
       "58862227         0               1  \n",
       "\n",
       "[2640 rows x 9 columns]"
      ]
     },
     "execution_count": 169,
     "metadata": {},
     "output_type": "execute_result"
    }
   ],
   "source": [
    "citations_2017[list(map(lambda s: s.startswith(\"2012\"), [str(elm) for elm in list(citations_2017.parsed)]))]"
   ]
  },
  {
   "cell_type": "code",
   "execution_count": null,
   "metadata": {},
   "outputs": [],
   "source": []
  },
  {
   "cell_type": "code",
   "execution_count": null,
   "metadata": {},
   "outputs": [],
   "source": []
  },
  {
   "cell_type": "code",
   "execution_count": null,
   "metadata": {},
   "outputs": [],
   "source": []
  },
  {
   "cell_type": "code",
   "execution_count": 78,
   "metadata": {},
   "outputs": [],
   "source": [
    "res_tup = retrieve_subtext_fast(6067926, 10, '../data/grants2012/ipg120417.xml')"
   ]
  },
  {
   "cell_type": "code",
   "execution_count": 79,
   "metadata": {},
   "outputs": [
    {
     "data": {
      "text/plain": [
       "10"
      ]
     },
     "execution_count": 79,
     "metadata": {},
     "output_type": "execute_result"
    }
   ],
   "source": [
    "res_tup[0]"
   ]
  },
  {
   "cell_type": "code",
   "execution_count": 80,
   "metadata": {},
   "outputs": [
    {
     "data": {
      "text/plain": [
       "'<doc-number>7945484</doc-number>'"
      ]
     },
     "execution_count": 80,
     "metadata": {},
     "output_type": "execute_result"
    }
   ],
   "source": [
    "res_tup[1][10]"
   ]
  },
  {
   "cell_type": "code",
   "execution_count": null,
   "metadata": {},
   "outputs": [],
   "source": []
  },
  {
   "cell_type": "code",
   "execution_count": null,
   "metadata": {},
   "outputs": [],
   "source": []
  },
  {
   "cell_type": "code",
   "execution_count": 83,
   "metadata": {},
   "outputs": [
    {
     "data": {
      "text/plain": [
       "['15146848', '15192621', '15334971', '15049456', '15282523']"
      ]
     },
     "execution_count": 83,
     "metadata": {},
     "output_type": "execute_result"
    }
   ],
   "source": [
    "list(index2017_we_need.keys())[0:5]"
   ]
  },
  {
   "cell_type": "code",
   "execution_count": 84,
   "metadata": {},
   "outputs": [
    {
     "data": {
      "text/plain": [
       "[['application2017/ipa171207.xml', 5183637],\n",
       " ['application2017/ipa171207.xml', 5183673]]"
      ]
     },
     "execution_count": 84,
     "metadata": {},
     "output_type": "execute_result"
    }
   ],
   "source": [
    "index2017_we_need['15146848']"
   ]
  },
  {
   "cell_type": "code",
   "execution_count": null,
   "metadata": {},
   "outputs": [],
   "source": []
  },
  {
   "cell_type": "code",
   "execution_count": 91,
   "metadata": {},
   "outputs": [],
   "source": [
    "res_tup = retrieve_subtext_fast(5183637, 5000, '../data/application2017/ipa171207.xml')"
   ]
  },
  {
   "cell_type": "code",
   "execution_count": 96,
   "metadata": {},
   "outputs": [
    {
     "data": {
      "text/plain": [
       "4667"
      ]
     },
     "execution_count": 96,
     "metadata": {},
     "output_type": "execute_result"
    }
   ],
   "source": [
    "find_nearest_root_element(res_tup[0], res_tup[1], 'us-patent-application')"
   ]
  },
  {
   "cell_type": "code",
   "execution_count": 93,
   "metadata": {},
   "outputs": [
    {
     "data": {
      "text/plain": [
       "5000"
      ]
     },
     "execution_count": 93,
     "metadata": {},
     "output_type": "execute_result"
    }
   ],
   "source": [
    "res_tup[0]"
   ]
  },
  {
   "cell_type": "code",
   "execution_count": 97,
   "metadata": {},
   "outputs": [
    {
     "data": {
      "text/plain": [
       "'<us-patent-application lang=\"EN\" dtd-version=\"v4.4 2014-04-03\" file=\"US20170351915A1-20171207.XML\" status=\"PRODUCTION\" id=\"us-patent-application\" country=\"US\" date-produced=\"20171121\" date-publ=\"20171207\">'"
      ]
     },
     "execution_count": 97,
     "metadata": {},
     "output_type": "execute_result"
    }
   ],
   "source": [
    "res_tup[1][4667]"
   ]
  },
  {
   "cell_type": "code",
   "execution_count": 103,
   "metadata": {},
   "outputs": [],
   "source": [
    "res_pat = retrieve_begin_end(4667, res_tup[1], 'us-patent-application')"
   ]
  },
  {
   "cell_type": "code",
   "execution_count": 105,
   "metadata": {},
   "outputs": [
    {
     "data": {
      "text/plain": [
       "['<us-patent-application lang=\"EN\" dtd-version=\"v4.4 2014-04-03\" file=\"US20170351915A1-20171207.XML\" status=\"PRODUCTION\" id=\"us-patent-application\" country=\"US\" date-produced=\"20171121\" date-publ=\"20171207\">',\n",
       " '<us-bibliographic-data-application lang=\"EN\" country=\"US\">',\n",
       " '<publication-reference>',\n",
       " '<document-id>',\n",
       " '<country>US</country>']"
      ]
     },
     "execution_count": 105,
     "metadata": {},
     "output_type": "execute_result"
    }
   ],
   "source": [
    "res_pat[0:5]"
   ]
  },
  {
   "cell_type": "code",
   "execution_count": 104,
   "metadata": {},
   "outputs": [
    {
     "data": {
      "text/plain": [
       "'</us-patent-application>'"
      ]
     },
     "execution_count": 104,
     "metadata": {},
     "output_type": "execute_result"
    }
   ],
   "source": [
    "res_pat[-1]"
   ]
  },
  {
   "cell_type": "code",
   "execution_count": null,
   "metadata": {},
   "outputs": [],
   "source": []
  },
  {
   "cell_type": "code",
   "execution_count": null,
   "metadata": {},
   "outputs": [],
   "source": []
  },
  {
   "cell_type": "code",
   "execution_count": null,
   "metadata": {},
   "outputs": [],
   "source": [
    "subtext = !sed -n ''"
   ]
  },
  {
   "cell_type": "code",
   "execution_count": null,
   "metadata": {},
   "outputs": [],
   "source": []
  },
  {
   "cell_type": "code",
   "execution_count": null,
   "metadata": {},
   "outputs": [],
   "source": []
  },
  {
   "cell_type": "code",
   "execution_count": null,
   "metadata": {},
   "outputs": [],
   "source": []
  },
  {
   "cell_type": "code",
   "execution_count": null,
   "metadata": {},
   "outputs": [],
   "source": []
  },
  {
   "cell_type": "code",
   "execution_count": null,
   "metadata": {},
   "outputs": [],
   "source": []
  },
  {
   "cell_type": "code",
   "execution_count": null,
   "metadata": {},
   "outputs": [],
   "source": []
  },
  {
   "cell_type": "code",
   "execution_count": null,
   "metadata": {},
   "outputs": [],
   "source": []
  },
  {
   "cell_type": "markdown",
   "metadata": {},
   "source": [
    "# Try and error"
   ]
  },
  {
   "cell_type": "code",
   "execution_count": null,
   "metadata": {},
   "outputs": [],
   "source": []
  },
  {
   "cell_type": "code",
   "execution_count": 74,
   "metadata": {},
   "outputs": [],
   "source": [
    "# create_one_index(\"grants2012/ipg120103.xml\")"
   ]
  },
  {
   "cell_type": "code",
   "execution_count": null,
   "metadata": {},
   "outputs": [],
   "source": []
  },
  {
   "cell_type": "code",
   "execution_count": null,
   "metadata": {},
   "outputs": [],
   "source": []
  },
  {
   "cell_type": "code",
   "execution_count": null,
   "metadata": {},
   "outputs": [],
   "source": []
  },
  {
   "cell_type": "code",
   "execution_count": 21,
   "metadata": {},
   "outputs": [],
   "source": [
    "xmlrel = \"application2017/ipa170105.xml\""
   ]
  },
  {
   "cell_type": "code",
   "execution_count": 22,
   "metadata": {},
   "outputs": [],
   "source": [
    "xmlpath = \"../data/\"+xmlrel"
   ]
  },
  {
   "cell_type": "code",
   "execution_count": 29,
   "metadata": {},
   "outputs": [],
   "source": [
    "indexfile=INDEX_PATH+xmlrel+\".idx\""
   ]
  },
  {
   "cell_type": "code",
   "execution_count": null,
   "metadata": {},
   "outputs": [],
   "source": []
  },
  {
   "cell_type": "code",
   "execution_count": 31,
   "metadata": {},
   "outputs": [],
   "source": [
    "!mkdir -p {os.path.dirname(indexfile)}"
   ]
  },
  {
   "cell_type": "code",
   "execution_count": 32,
   "metadata": {},
   "outputs": [],
   "source": [
    "!grep -n \"doc-number\" {xmlpath} | sed -e 's/\\(.*\\)<doc-number>\\([^<]*\\)<\\/doc-number>.*/\\1\\2/' > {indexfile}"
   ]
  },
  {
   "cell_type": "code",
   "execution_count": null,
   "metadata": {},
   "outputs": [],
   "source": []
  },
  {
   "cell_type": "code",
   "execution_count": null,
   "metadata": {},
   "outputs": [],
   "source": []
  },
  {
   "cell_type": "code",
   "execution_count": null,
   "metadata": {},
   "outputs": [],
   "source": []
  },
  {
   "cell_type": "code",
   "execution_count": 45,
   "metadata": {},
   "outputs": [],
   "source": [
    "with open(indexfile, \"r\") as f:\n",
    "    tupples = [l.rstrip(\"\\n\").split(\":\", 1) for l in f]"
   ]
  },
  {
   "cell_type": "code",
   "execution_count": 46,
   "metadata": {},
   "outputs": [
    {
     "data": {
      "text/plain": [
       "31695"
      ]
     },
     "execution_count": 46,
     "metadata": {},
     "output_type": "execute_result"
    }
   ],
   "source": [
    "len(tupples)"
   ]
  },
  {
   "cell_type": "code",
   "execution_count": 60,
   "metadata": {},
   "outputs": [],
   "source": [
    "dic = {}"
   ]
  },
  {
   "cell_type": "code",
   "execution_count": 61,
   "metadata": {},
   "outputs": [],
   "source": [
    "for tup in tupples:\n",
    "    dic.setdefault(tup[1], []).append(int(tup[0]))"
   ]
  },
  {
   "cell_type": "code",
   "execution_count": null,
   "metadata": {},
   "outputs": [],
   "source": []
  },
  {
   "cell_type": "code",
   "execution_count": 62,
   "metadata": {},
   "outputs": [
    {
     "data": {
      "text/plain": [
       "[3508, 3648]"
      ]
     },
     "execution_count": 62,
     "metadata": {},
     "output_type": "execute_result"
    }
   ],
   "source": [
    "# some doc-number seems dup\n",
    "dic[\"15265874\"]"
   ]
  },
  {
   "cell_type": "code",
   "execution_count": null,
   "metadata": {},
   "outputs": [],
   "source": []
  },
  {
   "cell_type": "code",
   "execution_count": null,
   "metadata": {},
   "outputs": [],
   "source": []
  },
  {
   "cell_type": "code",
   "execution_count": null,
   "metadata": {
    "scrolled": false
   },
   "outputs": [],
   "source": [
    "for tup in tupples:    \n",
    "    if tup[1] not in dic:\n",
    "        print(tup[1])\n",
    "    dic[tup[1]] = 1    "
   ]
  },
  {
   "cell_type": "code",
   "execution_count": null,
   "metadata": {},
   "outputs": [],
   "source": []
  },
  {
   "cell_type": "code",
   "execution_count": null,
   "metadata": {},
   "outputs": [],
   "source": []
  },
  {
   "cell_type": "code",
   "execution_count": null,
   "metadata": {},
   "outputs": [],
   "source": []
  },
  {
   "cell_type": "markdown",
   "metadata": {},
   "source": [
    "### just read xml file is too slow. Give up using python"
   ]
  },
  {
   "cell_type": "code",
   "execution_count": 4,
   "metadata": {
    "scrolled": true
   },
   "outputs": [
    {
     "ename": "KeyboardInterrupt",
     "evalue": "",
     "output_type": "error",
     "traceback": [
      "\u001b[0;31m---------------------------------------------------------------------------\u001b[0m",
      "\u001b[0;31mKeyboardInterrupt\u001b[0m                         Traceback (most recent call last)",
      "\u001b[0;32m<timed exec>\u001b[0m in \u001b[0;36m<module>\u001b[0;34m()\u001b[0m\n",
      "\u001b[0;32m/usr/lib/python3.5/encodings/ascii.py\u001b[0m in \u001b[0;36mdecode\u001b[0;34m(self, input, final)\u001b[0m\n\u001b[1;32m     23\u001b[0m \u001b[0;34m\u001b[0m\u001b[0m\n\u001b[1;32m     24\u001b[0m \u001b[0;32mclass\u001b[0m \u001b[0mIncrementalDecoder\u001b[0m\u001b[0;34m(\u001b[0m\u001b[0mcodecs\u001b[0m\u001b[0;34m.\u001b[0m\u001b[0mIncrementalDecoder\u001b[0m\u001b[0;34m)\u001b[0m\u001b[0;34m:\u001b[0m\u001b[0;34m\u001b[0m\u001b[0m\n\u001b[0;32m---> 25\u001b[0;31m     \u001b[0;32mdef\u001b[0m \u001b[0mdecode\u001b[0m\u001b[0;34m(\u001b[0m\u001b[0mself\u001b[0m\u001b[0;34m,\u001b[0m \u001b[0minput\u001b[0m\u001b[0;34m,\u001b[0m \u001b[0mfinal\u001b[0m\u001b[0;34m=\u001b[0m\u001b[0;32mFalse\u001b[0m\u001b[0;34m)\u001b[0m\u001b[0;34m:\u001b[0m\u001b[0;34m\u001b[0m\u001b[0m\n\u001b[0m\u001b[1;32m     26\u001b[0m         \u001b[0;32mreturn\u001b[0m \u001b[0mcodecs\u001b[0m\u001b[0;34m.\u001b[0m\u001b[0mascii_decode\u001b[0m\u001b[0;34m(\u001b[0m\u001b[0minput\u001b[0m\u001b[0;34m,\u001b[0m \u001b[0mself\u001b[0m\u001b[0;34m.\u001b[0m\u001b[0merrors\u001b[0m\u001b[0;34m)\u001b[0m\u001b[0;34m[\u001b[0m\u001b[0;36m0\u001b[0m\u001b[0;34m]\u001b[0m\u001b[0;34m\u001b[0m\u001b[0m\n\u001b[1;32m     27\u001b[0m \u001b[0;34m\u001b[0m\u001b[0m\n",
      "\u001b[0;31mKeyboardInterrupt\u001b[0m: "
     ]
    }
   ],
   "source": [
    "%%time\n",
    "\n",
    "with open(\"../data/\" + xmlpath, \"r\") as f:\n",
    "    lnum = 0\n",
    "    fpos = 0\n",
    "    line = f.readline()\n",
    "    while line:\n",
    "        lnum += 1\n",
    "        line = f.readline()\n",
    "        fpos = f.tell()\n"
   ]
  },
  {
   "cell_type": "code",
   "execution_count": null,
   "metadata": {},
   "outputs": [],
   "source": []
  },
  {
   "cell_type": "markdown",
   "metadata": {},
   "source": [
    "### Whoosh trial\n",
    "\n",
    "Conclusion: indexing is too slow and we can't use it."
   ]
  },
  {
   "cell_type": "code",
   "execution_count": 6,
   "metadata": {},
   "outputs": [],
   "source": [
    "from whoosh.index import create_in\n",
    "from whoosh.fields import *\n",
    "import os, os.path\n"
   ]
  },
  {
   "cell_type": "code",
   "execution_count": null,
   "metadata": {},
   "outputs": [],
   "source": []
  },
  {
   "cell_type": "code",
   "execution_count": 14,
   "metadata": {},
   "outputs": [],
   "source": [
    "schema = Schema(path=ID(stored=True), line_num=NUMERIC(stored=True), pos=NUMERIC(stored=True), line=TEXT)"
   ]
  },
  {
   "cell_type": "code",
   "execution_count": 15,
   "metadata": {},
   "outputs": [],
   "source": [
    "if not os.path.exists(\"indexdir\"):\n",
    "    os.mkdir(\"indexdir\")\n",
    "\n",
    "ix = index.create_in(\"indexdir\", schema)"
   ]
  },
  {
   "cell_type": "code",
   "execution_count": 17,
   "metadata": {},
   "outputs": [],
   "source": [
    "writer = ix.writer()"
   ]
  },
  {
   "cell_type": "code",
   "execution_count": 18,
   "metadata": {},
   "outputs": [],
   "source": [
    "xmlpath = \"application2017/ipa170105.xml\""
   ]
  },
  {
   "cell_type": "code",
   "execution_count": 21,
   "metadata": {},
   "outputs": [
    {
     "ename": "KeyboardInterrupt",
     "evalue": "",
     "output_type": "error",
     "traceback": [
      "\u001b[0;31m---------------------------------------------------------------------------\u001b[0m",
      "\u001b[0;31mKeyboardInterrupt\u001b[0m                         Traceback (most recent call last)",
      "\u001b[0;32m<ipython-input-21-741c168215b1>\u001b[0m in \u001b[0;36m<module>\u001b[0;34m()\u001b[0m\n\u001b[1;32m      5\u001b[0m     \u001b[0;32mwhile\u001b[0m \u001b[0mline\u001b[0m\u001b[0;34m:\u001b[0m\u001b[0;34m\u001b[0m\u001b[0m\n\u001b[1;32m      6\u001b[0m         \u001b[0mlnum\u001b[0m \u001b[0;34m+=\u001b[0m \u001b[0;36m1\u001b[0m\u001b[0;34m\u001b[0m\u001b[0m\n\u001b[0;32m----> 7\u001b[0;31m         \u001b[0mwriter\u001b[0m\u001b[0;34m.\u001b[0m\u001b[0madd_document\u001b[0m\u001b[0;34m(\u001b[0m\u001b[0mpath\u001b[0m\u001b[0;34m=\u001b[0m\u001b[0mxmlpath\u001b[0m\u001b[0;34m,\u001b[0m \u001b[0mline\u001b[0m\u001b[0;34m=\u001b[0m\u001b[0mline\u001b[0m\u001b[0;34m,\u001b[0m \u001b[0mline_num\u001b[0m\u001b[0;34m=\u001b[0m\u001b[0mlnum\u001b[0m\u001b[0;34m,\u001b[0m \u001b[0mpos\u001b[0m\u001b[0;34m=\u001b[0m\u001b[0mfpos\u001b[0m\u001b[0;34m)\u001b[0m\u001b[0;34m\u001b[0m\u001b[0m\n\u001b[0m\u001b[1;32m      8\u001b[0m         \u001b[0mline\u001b[0m \u001b[0;34m=\u001b[0m \u001b[0mf\u001b[0m\u001b[0;34m.\u001b[0m\u001b[0mreadline\u001b[0m\u001b[0;34m(\u001b[0m\u001b[0;34m)\u001b[0m\u001b[0;34m\u001b[0m\u001b[0m\n\u001b[1;32m      9\u001b[0m         \u001b[0mfpos\u001b[0m \u001b[0;34m=\u001b[0m \u001b[0mf\u001b[0m\u001b[0;34m.\u001b[0m\u001b[0mtell\u001b[0m\u001b[0;34m(\u001b[0m\u001b[0;34m)\u001b[0m\u001b[0;34m\u001b[0m\u001b[0m\n",
      "\u001b[0;32m/usr/local/lib/python3.5/dist-packages/whoosh/writing.py\u001b[0m in \u001b[0;36madd_document\u001b[0;34m(self, **fields)\u001b[0m\n\u001b[1;32m    748\u001b[0m                 \u001b[0mscorable\u001b[0m \u001b[0;34m=\u001b[0m \u001b[0mfield\u001b[0m\u001b[0;34m.\u001b[0m\u001b[0mscorable\u001b[0m\u001b[0;34m\u001b[0m\u001b[0m\n\u001b[1;32m    749\u001b[0m                 \u001b[0;31m# Add the terms to the pool\u001b[0m\u001b[0;34m\u001b[0m\u001b[0;34m\u001b[0m\u001b[0m\n\u001b[0;32m--> 750\u001b[0;31m                 \u001b[0;32mfor\u001b[0m \u001b[0mtbytes\u001b[0m\u001b[0;34m,\u001b[0m \u001b[0mfreq\u001b[0m\u001b[0;34m,\u001b[0m \u001b[0mweight\u001b[0m\u001b[0;34m,\u001b[0m \u001b[0mvbytes\u001b[0m \u001b[0;32min\u001b[0m \u001b[0mitems\u001b[0m\u001b[0;34m:\u001b[0m\u001b[0;34m\u001b[0m\u001b[0m\n\u001b[0m\u001b[1;32m    751\u001b[0m                     \u001b[0mweight\u001b[0m \u001b[0;34m*=\u001b[0m \u001b[0mfieldboost\u001b[0m\u001b[0;34m\u001b[0m\u001b[0m\n\u001b[1;32m    752\u001b[0m                     \u001b[0;32mif\u001b[0m \u001b[0mscorable\u001b[0m\u001b[0;34m:\u001b[0m\u001b[0;34m\u001b[0m\u001b[0m\n",
      "\u001b[0;32m/usr/local/lib/python3.5/dist-packages/whoosh/fields.py\u001b[0m in \u001b[0;36mindex\u001b[0;34m(self, value, **kwargs)\u001b[0m\n\u001b[1;32m    162\u001b[0m         \u001b[0mword_values\u001b[0m \u001b[0;34m=\u001b[0m \u001b[0mself\u001b[0m\u001b[0;34m.\u001b[0m\u001b[0mformat\u001b[0m\u001b[0;34m.\u001b[0m\u001b[0mword_values\u001b[0m\u001b[0;34m\u001b[0m\u001b[0m\n\u001b[1;32m    163\u001b[0m         \u001b[0mana\u001b[0m \u001b[0;34m=\u001b[0m \u001b[0mself\u001b[0m\u001b[0;34m.\u001b[0m\u001b[0manalyzer\u001b[0m\u001b[0;34m\u001b[0m\u001b[0m\n\u001b[0;32m--> 164\u001b[0;31m         \u001b[0;32mfor\u001b[0m \u001b[0mtstring\u001b[0m\u001b[0;34m,\u001b[0m \u001b[0mfreq\u001b[0m\u001b[0;34m,\u001b[0m \u001b[0mwt\u001b[0m\u001b[0;34m,\u001b[0m \u001b[0mvbytes\u001b[0m \u001b[0;32min\u001b[0m \u001b[0mword_values\u001b[0m\u001b[0;34m(\u001b[0m\u001b[0mvalue\u001b[0m\u001b[0;34m,\u001b[0m \u001b[0mana\u001b[0m\u001b[0;34m,\u001b[0m \u001b[0;34m**\u001b[0m\u001b[0mkwargs\u001b[0m\u001b[0;34m)\u001b[0m\u001b[0;34m:\u001b[0m\u001b[0;34m\u001b[0m\u001b[0m\n\u001b[0m\u001b[1;32m    165\u001b[0m             \u001b[0;32myield\u001b[0m \u001b[0;34m(\u001b[0m\u001b[0mutf8encode\u001b[0m\u001b[0;34m(\u001b[0m\u001b[0mtstring\u001b[0m\u001b[0;34m)\u001b[0m\u001b[0;34m[\u001b[0m\u001b[0;36m0\u001b[0m\u001b[0;34m]\u001b[0m\u001b[0;34m,\u001b[0m \u001b[0mfreq\u001b[0m\u001b[0;34m,\u001b[0m \u001b[0mwt\u001b[0m\u001b[0;34m,\u001b[0m \u001b[0mvbytes\u001b[0m\u001b[0;34m)\u001b[0m\u001b[0;34m\u001b[0m\u001b[0m\n\u001b[1;32m    166\u001b[0m \u001b[0;34m\u001b[0m\u001b[0m\n",
      "\u001b[0;32m/usr/local/lib/python3.5/dist-packages/whoosh/formats.py\u001b[0m in \u001b[0;36mword_values\u001b[0;34m(self, value, analyzer, **kwargs)\u001b[0m\n\u001b[1;32m    221\u001b[0m         \u001b[0mkwargs\u001b[0m\u001b[0;34m[\u001b[0m\u001b[0;34m\"positions\"\u001b[0m\u001b[0;34m]\u001b[0m \u001b[0;34m=\u001b[0m \u001b[0;32mTrue\u001b[0m\u001b[0;34m\u001b[0m\u001b[0m\n\u001b[1;32m    222\u001b[0m         \u001b[0mkwargs\u001b[0m\u001b[0;34m[\u001b[0m\u001b[0;34m\"boosts\"\u001b[0m\u001b[0;34m]\u001b[0m \u001b[0;34m=\u001b[0m \u001b[0;32mTrue\u001b[0m\u001b[0;34m\u001b[0m\u001b[0m\n\u001b[0;32m--> 223\u001b[0;31m         \u001b[0;32mfor\u001b[0m \u001b[0mt\u001b[0m \u001b[0;32min\u001b[0m \u001b[0mtokens\u001b[0m\u001b[0;34m(\u001b[0m\u001b[0mvalue\u001b[0m\u001b[0;34m,\u001b[0m \u001b[0manalyzer\u001b[0m\u001b[0;34m,\u001b[0m \u001b[0mkwargs\u001b[0m\u001b[0;34m)\u001b[0m\u001b[0;34m:\u001b[0m\u001b[0;34m\u001b[0m\u001b[0m\n\u001b[0m\u001b[1;32m    224\u001b[0m             \u001b[0mposes\u001b[0m\u001b[0;34m[\u001b[0m\u001b[0mt\u001b[0m\u001b[0;34m.\u001b[0m\u001b[0mtext\u001b[0m\u001b[0;34m]\u001b[0m\u001b[0;34m.\u001b[0m\u001b[0mappend\u001b[0m\u001b[0;34m(\u001b[0m\u001b[0mt\u001b[0m\u001b[0;34m.\u001b[0m\u001b[0mpos\u001b[0m\u001b[0;34m)\u001b[0m\u001b[0;34m\u001b[0m\u001b[0m\n\u001b[1;32m    225\u001b[0m             \u001b[0mweights\u001b[0m\u001b[0;34m[\u001b[0m\u001b[0mt\u001b[0m\u001b[0;34m.\u001b[0m\u001b[0mtext\u001b[0m\u001b[0;34m]\u001b[0m \u001b[0;34m+=\u001b[0m \u001b[0mt\u001b[0m\u001b[0;34m.\u001b[0m\u001b[0mboost\u001b[0m\u001b[0;34m\u001b[0m\u001b[0m\n",
      "\u001b[0;32m/usr/local/lib/python3.5/dist-packages/whoosh/analysis/acore.py\u001b[0m in \u001b[0;36m<genexpr>\u001b[0;34m(.0)\u001b[0m\n\u001b[1;32m     40\u001b[0m     \"\"\"Removes tokens from a token stream where token.stopped = True.\n\u001b[1;32m     41\u001b[0m     \"\"\"\n\u001b[0;32m---> 42\u001b[0;31m     \u001b[0;32mreturn\u001b[0m \u001b[0;34m(\u001b[0m\u001b[0mt\u001b[0m \u001b[0;32mfor\u001b[0m \u001b[0mt\u001b[0m \u001b[0;32min\u001b[0m \u001b[0mtokenstream\u001b[0m \u001b[0;32mif\u001b[0m \u001b[0;32mnot\u001b[0m \u001b[0mt\u001b[0m\u001b[0;34m.\u001b[0m\u001b[0mstopped\u001b[0m\u001b[0;34m)\u001b[0m\u001b[0;34m\u001b[0m\u001b[0m\n\u001b[0m\u001b[1;32m     43\u001b[0m \u001b[0;34m\u001b[0m\u001b[0m\n\u001b[1;32m     44\u001b[0m \u001b[0;34m\u001b[0m\u001b[0m\n",
      "\u001b[0;32m/usr/local/lib/python3.5/dist-packages/whoosh/analysis/filters.py\u001b[0m in \u001b[0;36m__call__\u001b[0;34m(self, tokens)\u001b[0m\n\u001b[1;32m    299\u001b[0m \u001b[0;34m\u001b[0m\u001b[0m\n\u001b[1;32m    300\u001b[0m         \u001b[0mpos\u001b[0m \u001b[0;34m=\u001b[0m \u001b[0;32mNone\u001b[0m\u001b[0;34m\u001b[0m\u001b[0m\n\u001b[0;32m--> 301\u001b[0;31m         \u001b[0;32mfor\u001b[0m \u001b[0mt\u001b[0m \u001b[0;32min\u001b[0m \u001b[0mtokens\u001b[0m\u001b[0;34m:\u001b[0m\u001b[0;34m\u001b[0m\u001b[0m\n\u001b[0m\u001b[1;32m    302\u001b[0m             \u001b[0mtext\u001b[0m \u001b[0;34m=\u001b[0m \u001b[0mt\u001b[0m\u001b[0;34m.\u001b[0m\u001b[0mtext\u001b[0m\u001b[0;34m\u001b[0m\u001b[0m\n\u001b[1;32m    303\u001b[0m             if (len(text) >= minsize\n",
      "\u001b[0;32m/usr/local/lib/python3.5/dist-packages/whoosh/analysis/filters.py\u001b[0m in \u001b[0;36m__call__\u001b[0;34m(self, tokens)\u001b[0m\n\u001b[1;32m    223\u001b[0m \u001b[0;34m\u001b[0m\u001b[0m\n\u001b[1;32m    224\u001b[0m     \u001b[0;32mdef\u001b[0m \u001b[0m__call__\u001b[0m\u001b[0;34m(\u001b[0m\u001b[0mself\u001b[0m\u001b[0;34m,\u001b[0m \u001b[0mtokens\u001b[0m\u001b[0;34m)\u001b[0m\u001b[0;34m:\u001b[0m\u001b[0;34m\u001b[0m\u001b[0m\n\u001b[0;32m--> 225\u001b[0;31m         \u001b[0;32mfor\u001b[0m \u001b[0mt\u001b[0m \u001b[0;32min\u001b[0m \u001b[0mtokens\u001b[0m\u001b[0;34m:\u001b[0m\u001b[0;34m\u001b[0m\u001b[0m\n\u001b[0m\u001b[1;32m    226\u001b[0m             \u001b[0mt\u001b[0m\u001b[0;34m.\u001b[0m\u001b[0mtext\u001b[0m \u001b[0;34m=\u001b[0m \u001b[0mt\u001b[0m\u001b[0;34m.\u001b[0m\u001b[0mtext\u001b[0m\u001b[0;34m.\u001b[0m\u001b[0mlower\u001b[0m\u001b[0;34m(\u001b[0m\u001b[0;34m)\u001b[0m\u001b[0;34m\u001b[0m\u001b[0m\n\u001b[1;32m    227\u001b[0m             \u001b[0;32myield\u001b[0m \u001b[0mt\u001b[0m\u001b[0;34m\u001b[0m\u001b[0m\n",
      "\u001b[0;32m/usr/local/lib/python3.5/dist-packages/whoosh/analysis/tokenizers.py\u001b[0m in \u001b[0;36m__call__\u001b[0;34m(self, value, positions, chars, keeporiginal, removestops, start_pos, start_char, tokenize, mode, **kwargs)\u001b[0m\n\u001b[1;32m    131\u001b[0m         \u001b[0;32melif\u001b[0m \u001b[0;32mnot\u001b[0m \u001b[0mself\u001b[0m\u001b[0;34m.\u001b[0m\u001b[0mgaps\u001b[0m\u001b[0;34m:\u001b[0m\u001b[0;34m\u001b[0m\u001b[0m\n\u001b[1;32m    132\u001b[0m             \u001b[0;31m# The default: expression matches are used as tokens\u001b[0m\u001b[0;34m\u001b[0m\u001b[0;34m\u001b[0m\u001b[0m\n\u001b[0;32m--> 133\u001b[0;31m             \u001b[0;32mfor\u001b[0m \u001b[0mpos\u001b[0m\u001b[0;34m,\u001b[0m \u001b[0mmatch\u001b[0m \u001b[0;32min\u001b[0m \u001b[0menumerate\u001b[0m\u001b[0;34m(\u001b[0m\u001b[0mself\u001b[0m\u001b[0;34m.\u001b[0m\u001b[0mexpression\u001b[0m\u001b[0;34m.\u001b[0m\u001b[0mfinditer\u001b[0m\u001b[0;34m(\u001b[0m\u001b[0mvalue\u001b[0m\u001b[0;34m)\u001b[0m\u001b[0;34m)\u001b[0m\u001b[0;34m:\u001b[0m\u001b[0;34m\u001b[0m\u001b[0m\n\u001b[0m\u001b[1;32m    134\u001b[0m                 \u001b[0mt\u001b[0m\u001b[0;34m.\u001b[0m\u001b[0mtext\u001b[0m \u001b[0;34m=\u001b[0m \u001b[0mmatch\u001b[0m\u001b[0;34m.\u001b[0m\u001b[0mgroup\u001b[0m\u001b[0;34m(\u001b[0m\u001b[0;36m0\u001b[0m\u001b[0;34m)\u001b[0m\u001b[0;34m\u001b[0m\u001b[0m\n\u001b[1;32m    135\u001b[0m                 \u001b[0mt\u001b[0m\u001b[0;34m.\u001b[0m\u001b[0mboost\u001b[0m \u001b[0;34m=\u001b[0m \u001b[0;36m1.0\u001b[0m\u001b[0;34m\u001b[0m\u001b[0m\n",
      "\u001b[0;31mKeyboardInterrupt\u001b[0m: "
     ]
    }
   ],
   "source": [
    "with open(\"../data/\" + xmlpath, \"r\") as f:\n",
    "    lnum = 0\n",
    "    fpos = 0\n",
    "    line = f.readline()\n",
    "    while line:\n",
    "        lnum += 1\n",
    "        writer.add_document(path=xmlpath, line=line, line_num=lnum, pos=fpos)\n",
    "        line = f.readline()\n",
    "        fpos = f.tell()\n",
    "\n",
    "writer.commit()\n",
    "ix.close()"
   ]
  },
  {
   "cell_type": "code",
   "execution_count": null,
   "metadata": {},
   "outputs": [],
   "source": []
  },
  {
   "cell_type": "code",
   "execution_count": null,
   "metadata": {},
   "outputs": [],
   "source": []
  },
  {
   "cell_type": "code",
   "execution_count": null,
   "metadata": {},
   "outputs": [],
   "source": []
  },
  {
   "cell_type": "code",
   "execution_count": null,
   "metadata": {},
   "outputs": [],
   "source": []
  },
  {
   "cell_type": "code",
   "execution_count": null,
   "metadata": {},
   "outputs": [],
   "source": []
  },
  {
   "cell_type": "code",
   "execution_count": null,
   "metadata": {},
   "outputs": [],
   "source": []
  },
  {
   "cell_type": "code",
   "execution_count": null,
   "metadata": {},
   "outputs": [],
   "source": []
  }
 ],
 "metadata": {
  "kernelspec": {
   "display_name": "Python 3",
   "language": "python",
   "name": "python3"
  },
  "language_info": {
   "codemirror_mode": {
    "name": "ipython",
    "version": 3
   },
   "file_extension": ".py",
   "mimetype": "text/x-python",
   "name": "python",
   "nbconvert_exporter": "python",
   "pygments_lexer": "ipython3",
   "version": "3.5.2"
  }
 },
 "nbformat": 4,
 "nbformat_minor": 2
}
