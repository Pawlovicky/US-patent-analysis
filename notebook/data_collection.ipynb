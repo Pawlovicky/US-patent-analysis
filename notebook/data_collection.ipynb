{
 "cells": [
  {
   "cell_type": "code",
   "execution_count": 1,
   "metadata": {},
   "outputs": [],
   "source": [
    "import pandas as pd"
   ]
  },
  {
   "cell_type": "code",
   "execution_count": null,
   "metadata": {},
   "outputs": [],
   "source": []
  },
  {
   "cell_type": "code",
   "execution_count": null,
   "metadata": {},
   "outputs": [],
   "source": []
  },
  {
   "cell_type": "markdown",
   "metadata": {},
   "source": [
    "### Filter citation only for app_id 15..."
   ]
  },
  {
   "cell_type": "markdown",
   "metadata": {},
   "source": [
    "Below cell need memory more than 15GB."
   ]
  },
  {
   "cell_type": "code",
   "execution_count": 2,
   "metadata": {},
   "outputs": [],
   "source": [
    "citations = pd.read_csv(\"../data/citations.csv\")"
   ]
  },
  {
   "cell_type": "code",
   "execution_count": 3,
   "metadata": {},
   "outputs": [
    {
     "data": {
      "text/html": [
       "<div>\n",
       "<style scoped>\n",
       "    .dataframe tbody tr th:only-of-type {\n",
       "        vertical-align: middle;\n",
       "    }\n",
       "\n",
       "    .dataframe tbody tr th {\n",
       "        vertical-align: top;\n",
       "    }\n",
       "\n",
       "    .dataframe thead th {\n",
       "        text-align: right;\n",
       "    }\n",
       "</style>\n",
       "<table border=\"1\" class=\"dataframe\">\n",
       "  <thead>\n",
       "    <tr style=\"text-align: right;\">\n",
       "      <th></th>\n",
       "      <th>app_id</th>\n",
       "      <th>citation_pat_pgpub_id</th>\n",
       "      <th>parsed</th>\n",
       "      <th>ifw_number</th>\n",
       "      <th>action_type</th>\n",
       "      <th>action_subtype</th>\n",
       "      <th>form892</th>\n",
       "      <th>form1449</th>\n",
       "      <th>citation_in_oa</th>\n",
       "    </tr>\n",
       "  </thead>\n",
       "  <tbody>\n",
       "    <tr>\n",
       "      <th>0</th>\n",
       "      <td>12000001</td>\n",
       "      <td>20060218340</td>\n",
       "      <td>20060218340</td>\n",
       "      <td>NaN</td>\n",
       "      <td>NaN</td>\n",
       "      <td>NaN</td>\n",
       "      <td>0</td>\n",
       "      <td>1</td>\n",
       "      <td>0</td>\n",
       "    </tr>\n",
       "    <tr>\n",
       "      <th>1</th>\n",
       "      <td>12000001</td>\n",
       "      <td>2343564</td>\n",
       "      <td>2343564</td>\n",
       "      <td>NaN</td>\n",
       "      <td>NaN</td>\n",
       "      <td>NaN</td>\n",
       "      <td>1</td>\n",
       "      <td>0</td>\n",
       "      <td>0</td>\n",
       "    </tr>\n",
       "    <tr>\n",
       "      <th>2</th>\n",
       "      <td>12000001</td>\n",
       "      <td>6622200</td>\n",
       "      <td>6622200</td>\n",
       "      <td>NaN</td>\n",
       "      <td>NaN</td>\n",
       "      <td>NaN</td>\n",
       "      <td>1</td>\n",
       "      <td>0</td>\n",
       "      <td>0</td>\n",
       "    </tr>\n",
       "    <tr>\n",
       "      <th>3</th>\n",
       "      <td>12000001</td>\n",
       "      <td>6182004</td>\n",
       "      <td>6182004</td>\n",
       "      <td>NaN</td>\n",
       "      <td>NaN</td>\n",
       "      <td>NaN</td>\n",
       "      <td>0</td>\n",
       "      <td>1</td>\n",
       "      <td>0</td>\n",
       "    </tr>\n",
       "    <tr>\n",
       "      <th>4</th>\n",
       "      <td>12000001</td>\n",
       "      <td>2323432</td>\n",
       "      <td>2323432</td>\n",
       "      <td>NaN</td>\n",
       "      <td>NaN</td>\n",
       "      <td>NaN</td>\n",
       "      <td>1</td>\n",
       "      <td>0</td>\n",
       "      <td>0</td>\n",
       "    </tr>\n",
       "  </tbody>\n",
       "</table>\n",
       "</div>"
      ],
      "text/plain": [
       "     app_id citation_pat_pgpub_id       parsed ifw_number  action_type  \\\n",
       "0  12000001           20060218340  20060218340        NaN          NaN   \n",
       "1  12000001               2343564      2343564        NaN          NaN   \n",
       "2  12000001               6622200      6622200        NaN          NaN   \n",
       "3  12000001               6182004      6182004        NaN          NaN   \n",
       "4  12000001               2323432      2323432        NaN          NaN   \n",
       "\n",
       "  action_subtype  form892  form1449  citation_in_oa  \n",
       "0            NaN        0         1               0  \n",
       "1            NaN        1         0               0  \n",
       "2            NaN        1         0               0  \n",
       "3            NaN        0         1               0  \n",
       "4            NaN        1         0               0  "
      ]
     },
     "execution_count": 3,
     "metadata": {},
     "output_type": "execute_result"
    }
   ],
   "source": [
    "citations.head()"
   ]
  },
  {
   "cell_type": "code",
   "execution_count": 14,
   "metadata": {},
   "outputs": [
    {
     "data": {
      "text/plain": [
       "58862278"
      ]
     },
     "execution_count": 14,
     "metadata": {},
     "output_type": "execute_result"
    }
   ],
   "source": [
    "len(citations)"
   ]
  },
  {
   "cell_type": "code",
   "execution_count": null,
   "metadata": {},
   "outputs": [],
   "source": []
  },
  {
   "cell_type": "markdown",
   "metadata": {},
   "source": [
    "https://patentlibrarian.com/reference-library/u-s-application-series-codes/\n",
    "\n",
    "Collect citation including 2017, which is, app_id begins with 15.\n",
    "\n",
    "- 14 2013, August - 2016, Jan?\n",
    "- 15 2016, Jan - Present?\n",
    "\n"
   ]
  },
  {
   "cell_type": "code",
   "execution_count": 11,
   "metadata": {},
   "outputs": [],
   "source": [
    "citations_15 = citations[(citations.app_id >= 15000000) & (citations.app_id < 16000000)]"
   ]
  },
  {
   "cell_type": "code",
   "execution_count": 12,
   "metadata": {},
   "outputs": [
    {
     "data": {
      "text/html": [
       "<div>\n",
       "<style scoped>\n",
       "    .dataframe tbody tr th:only-of-type {\n",
       "        vertical-align: middle;\n",
       "    }\n",
       "\n",
       "    .dataframe tbody tr th {\n",
       "        vertical-align: top;\n",
       "    }\n",
       "\n",
       "    .dataframe thead th {\n",
       "        text-align: right;\n",
       "    }\n",
       "</style>\n",
       "<table border=\"1\" class=\"dataframe\">\n",
       "  <thead>\n",
       "    <tr style=\"text-align: right;\">\n",
       "      <th></th>\n",
       "      <th>app_id</th>\n",
       "      <th>citation_pat_pgpub_id</th>\n",
       "      <th>parsed</th>\n",
       "      <th>ifw_number</th>\n",
       "      <th>action_type</th>\n",
       "      <th>action_subtype</th>\n",
       "      <th>form892</th>\n",
       "      <th>form1449</th>\n",
       "      <th>citation_in_oa</th>\n",
       "    </tr>\n",
       "  </thead>\n",
       "  <tbody>\n",
       "    <tr>\n",
       "      <th>57732192</th>\n",
       "      <td>15000008</td>\n",
       "      <td>8291627</td>\n",
       "      <td>8291627</td>\n",
       "      <td>NaN</td>\n",
       "      <td>NaN</td>\n",
       "      <td>NaN</td>\n",
       "      <td>1</td>\n",
       "      <td>0</td>\n",
       "      <td>0</td>\n",
       "    </tr>\n",
       "    <tr>\n",
       "      <th>57732193</th>\n",
       "      <td>15000008</td>\n",
       "      <td>2093620</td>\n",
       "      <td>2093620</td>\n",
       "      <td>NaN</td>\n",
       "      <td>NaN</td>\n",
       "      <td>NaN</td>\n",
       "      <td>1</td>\n",
       "      <td>0</td>\n",
       "      <td>0</td>\n",
       "    </tr>\n",
       "    <tr>\n",
       "      <th>57732194</th>\n",
       "      <td>15000008</td>\n",
       "      <td>9221406</td>\n",
       "      <td>9221406</td>\n",
       "      <td>NaN</td>\n",
       "      <td>NaN</td>\n",
       "      <td>NaN</td>\n",
       "      <td>1</td>\n",
       "      <td>0</td>\n",
       "      <td>0</td>\n",
       "    </tr>\n",
       "    <tr>\n",
       "      <th>57732195</th>\n",
       "      <td>15000008</td>\n",
       "      <td>8544198</td>\n",
       "      <td>8544198</td>\n",
       "      <td>NaN</td>\n",
       "      <td>NaN</td>\n",
       "      <td>NaN</td>\n",
       "      <td>1</td>\n",
       "      <td>0</td>\n",
       "      <td>0</td>\n",
       "    </tr>\n",
       "    <tr>\n",
       "      <th>57732196</th>\n",
       "      <td>15000008</td>\n",
       "      <td>7225569</td>\n",
       "      <td>7225569</td>\n",
       "      <td>NaN</td>\n",
       "      <td>NaN</td>\n",
       "      <td>NaN</td>\n",
       "      <td>1</td>\n",
       "      <td>0</td>\n",
       "      <td>0</td>\n",
       "    </tr>\n",
       "  </tbody>\n",
       "</table>\n",
       "</div>"
      ],
      "text/plain": [
       "            app_id citation_pat_pgpub_id   parsed ifw_number  action_type  \\\n",
       "57732192  15000008               8291627  8291627        NaN          NaN   \n",
       "57732193  15000008               2093620  2093620        NaN          NaN   \n",
       "57732194  15000008               9221406  9221406        NaN          NaN   \n",
       "57732195  15000008               8544198  8544198        NaN          NaN   \n",
       "57732196  15000008               7225569  7225569        NaN          NaN   \n",
       "\n",
       "         action_subtype  form892  form1449  citation_in_oa  \n",
       "57732192            NaN        1         0               0  \n",
       "57732193            NaN        1         0               0  \n",
       "57732194            NaN        1         0               0  \n",
       "57732195            NaN        1         0               0  \n",
       "57732196            NaN        1         0               0  "
      ]
     },
     "execution_count": 12,
     "metadata": {},
     "output_type": "execute_result"
    }
   ],
   "source": [
    "citations_15.head()"
   ]
  },
  {
   "cell_type": "code",
   "execution_count": 13,
   "metadata": {},
   "outputs": [
    {
     "data": {
      "text/plain": [
       "1130086"
      ]
     },
     "execution_count": 13,
     "metadata": {},
     "output_type": "execute_result"
    }
   ],
   "source": [
    "len(citations_15)"
   ]
  },
  {
   "cell_type": "code",
   "execution_count": 15,
   "metadata": {},
   "outputs": [],
   "source": [
    "citations_15.to_pickle(\"../data/citations_15.dat\")"
   ]
  },
  {
   "cell_type": "code",
   "execution_count": null,
   "metadata": {},
   "outputs": [],
   "source": []
  },
  {
   "cell_type": "markdown",
   "metadata": {},
   "source": [
    "### Filer office_actions of app_id starts with 15... only"
   ]
  },
  {
   "cell_type": "code",
   "execution_count": null,
   "metadata": {},
   "outputs": [],
   "source": []
  },
  {
   "cell_type": "code",
   "execution_count": 4,
   "metadata": {
    "scrolled": true
   },
   "outputs": [
    {
     "name": "stderr",
     "output_type": "stream",
     "text": [
      "/usr/local/lib/python3.5/dist-packages/IPython/core/interactiveshell.py:2728: DtypeWarning: Columns (1,4,5) have mixed types. Specify dtype option on import or set low_memory=False.\n",
      "  interactivity=interactivity, compiler=compiler, result=result)\n"
     ]
    }
   ],
   "source": [
    "office_actions = pd.read_csv(\"../data/office_actions.csv\")"
   ]
  },
  {
   "cell_type": "code",
   "execution_count": 5,
   "metadata": {},
   "outputs": [
    {
     "data": {
      "text/plain": [
       "4384532"
      ]
     },
     "execution_count": 5,
     "metadata": {},
     "output_type": "execute_result"
    }
   ],
   "source": [
    "len(office_actions)"
   ]
  },
  {
   "cell_type": "code",
   "execution_count": 6,
   "metadata": {},
   "outputs": [
    {
     "data": {
      "text/html": [
       "<div>\n",
       "<style scoped>\n",
       "    .dataframe tbody tr th:only-of-type {\n",
       "        vertical-align: middle;\n",
       "    }\n",
       "\n",
       "    .dataframe tbody tr th {\n",
       "        vertical-align: top;\n",
       "    }\n",
       "\n",
       "    .dataframe thead th {\n",
       "        text-align: right;\n",
       "    }\n",
       "</style>\n",
       "<table border=\"1\" class=\"dataframe\">\n",
       "  <thead>\n",
       "    <tr style=\"text-align: right;\">\n",
       "      <th></th>\n",
       "      <th>app_id</th>\n",
       "      <th>ifw_number</th>\n",
       "      <th>document_cd</th>\n",
       "      <th>mail_dt</th>\n",
       "      <th>art_unit</th>\n",
       "      <th>uspc_class</th>\n",
       "      <th>uspc_subclass</th>\n",
       "      <th>header_missing</th>\n",
       "      <th>fp_missing</th>\n",
       "      <th>rejection_fp_mismatch</th>\n",
       "      <th>...</th>\n",
       "      <th>rejection_103</th>\n",
       "      <th>rejection_112</th>\n",
       "      <th>rejection_dp</th>\n",
       "      <th>objection</th>\n",
       "      <th>allowed_claims</th>\n",
       "      <th>cite102_gt1</th>\n",
       "      <th>cite103_gt3</th>\n",
       "      <th>cite103_eq1</th>\n",
       "      <th>cite103_max</th>\n",
       "      <th>signature_type</th>\n",
       "    </tr>\n",
       "  </thead>\n",
       "  <tbody>\n",
       "    <tr>\n",
       "      <th>0</th>\n",
       "      <td>14150981</td>\n",
       "      <td>100867762</td>\n",
       "      <td>CTFR</td>\n",
       "      <td>2015-10-15</td>\n",
       "      <td>2632</td>\n",
       "      <td>375</td>\n",
       "      <td>219000</td>\n",
       "      <td>0</td>\n",
       "      <td>0</td>\n",
       "      <td>0</td>\n",
       "      <td>...</td>\n",
       "      <td>1</td>\n",
       "      <td>0</td>\n",
       "      <td>0</td>\n",
       "      <td>0</td>\n",
       "      <td>0</td>\n",
       "      <td>0</td>\n",
       "      <td>0</td>\n",
       "      <td>1</td>\n",
       "      <td>2</td>\n",
       "      <td>1</td>\n",
       "    </tr>\n",
       "    <tr>\n",
       "      <th>1</th>\n",
       "      <td>14198961</td>\n",
       "      <td>100867788</td>\n",
       "      <td>CTFR</td>\n",
       "      <td>2015-10-15</td>\n",
       "      <td>2699</td>\n",
       "      <td>345</td>\n",
       "      <td>173000</td>\n",
       "      <td>0</td>\n",
       "      <td>0</td>\n",
       "      <td>0</td>\n",
       "      <td>...</td>\n",
       "      <td>1</td>\n",
       "      <td>0</td>\n",
       "      <td>0</td>\n",
       "      <td>0</td>\n",
       "      <td>0</td>\n",
       "      <td>0</td>\n",
       "      <td>0</td>\n",
       "      <td>0</td>\n",
       "      <td>2</td>\n",
       "      <td>1</td>\n",
       "    </tr>\n",
       "    <tr>\n",
       "      <th>2</th>\n",
       "      <td>13796589</td>\n",
       "      <td>100867794</td>\n",
       "      <td>CTNF</td>\n",
       "      <td>2015-10-15</td>\n",
       "      <td>3776</td>\n",
       "      <td>606</td>\n",
       "      <td>159000</td>\n",
       "      <td>0</td>\n",
       "      <td>0</td>\n",
       "      <td>0</td>\n",
       "      <td>...</td>\n",
       "      <td>1</td>\n",
       "      <td>0</td>\n",
       "      <td>0</td>\n",
       "      <td>0</td>\n",
       "      <td>0</td>\n",
       "      <td>0</td>\n",
       "      <td>0</td>\n",
       "      <td>0</td>\n",
       "      <td>3</td>\n",
       "      <td>3</td>\n",
       "    </tr>\n",
       "    <tr>\n",
       "      <th>3</th>\n",
       "      <td>14673475</td>\n",
       "      <td>100867844</td>\n",
       "      <td>CTNF</td>\n",
       "      <td>2015-10-15</td>\n",
       "      <td>2627</td>\n",
       "      <td>345</td>\n",
       "      <td>175000</td>\n",
       "      <td>0</td>\n",
       "      <td>0</td>\n",
       "      <td>0</td>\n",
       "      <td>...</td>\n",
       "      <td>1</td>\n",
       "      <td>1</td>\n",
       "      <td>1</td>\n",
       "      <td>0</td>\n",
       "      <td>0</td>\n",
       "      <td>0</td>\n",
       "      <td>1</td>\n",
       "      <td>0</td>\n",
       "      <td>4</td>\n",
       "      <td>1</td>\n",
       "    </tr>\n",
       "    <tr>\n",
       "      <th>4</th>\n",
       "      <td>14669113</td>\n",
       "      <td>100867850</td>\n",
       "      <td>CTNF</td>\n",
       "      <td>2015-10-15</td>\n",
       "      <td>2666</td>\n",
       "      <td>382</td>\n",
       "      <td>118000</td>\n",
       "      <td>0</td>\n",
       "      <td>0</td>\n",
       "      <td>0</td>\n",
       "      <td>...</td>\n",
       "      <td>0</td>\n",
       "      <td>1</td>\n",
       "      <td>1</td>\n",
       "      <td>0</td>\n",
       "      <td>0</td>\n",
       "      <td>0</td>\n",
       "      <td>0</td>\n",
       "      <td>0</td>\n",
       "      <td>0</td>\n",
       "      <td>1</td>\n",
       "    </tr>\n",
       "  </tbody>\n",
       "</table>\n",
       "<p>5 rows × 23 columns</p>\n",
       "</div>"
      ],
      "text/plain": [
       "     app_id ifw_number document_cd     mail_dt art_unit uspc_class  \\\n",
       "0  14150981  100867762        CTFR  2015-10-15     2632        375   \n",
       "1  14198961  100867788        CTFR  2015-10-15     2699        345   \n",
       "2  13796589  100867794        CTNF  2015-10-15     3776        606   \n",
       "3  14673475  100867844        CTNF  2015-10-15     2627        345   \n",
       "4  14669113  100867850        CTNF  2015-10-15     2666        382   \n",
       "\n",
       "  uspc_subclass  header_missing  fp_missing  rejection_fp_mismatch  \\\n",
       "0        219000               0           0                      0   \n",
       "1        173000               0           0                      0   \n",
       "2        159000               0           0                      0   \n",
       "3        175000               0           0                      0   \n",
       "4        118000               0           0                      0   \n",
       "\n",
       "        ...        rejection_103  rejection_112  rejection_dp  objection  \\\n",
       "0       ...                    1              0             0          0   \n",
       "1       ...                    1              0             0          0   \n",
       "2       ...                    1              0             0          0   \n",
       "3       ...                    1              1             1          0   \n",
       "4       ...                    0              1             1          0   \n",
       "\n",
       "   allowed_claims  cite102_gt1  cite103_gt3  cite103_eq1  cite103_max  \\\n",
       "0               0            0            0            1            2   \n",
       "1               0            0            0            0            2   \n",
       "2               0            0            0            0            3   \n",
       "3               0            0            1            0            4   \n",
       "4               0            0            0            0            0   \n",
       "\n",
       "   signature_type  \n",
       "0               1  \n",
       "1               1  \n",
       "2               3  \n",
       "3               1  \n",
       "4               1  \n",
       "\n",
       "[5 rows x 23 columns]"
      ]
     },
     "execution_count": 6,
     "metadata": {},
     "output_type": "execute_result"
    }
   ],
   "source": [
    "office_actions.head()"
   ]
  },
  {
   "cell_type": "code",
   "execution_count": 13,
   "metadata": {},
   "outputs": [],
   "source": [
    "office_15 = office_actions[(office_actions.app_id >= 15000000) & (office_actions.app_id < 16000000)]"
   ]
  },
  {
   "cell_type": "code",
   "execution_count": 14,
   "metadata": {},
   "outputs": [
    {
     "data": {
      "text/plain": [
       "68010"
      ]
     },
     "execution_count": 14,
     "metadata": {},
     "output_type": "execute_result"
    }
   ],
   "source": [
    "len(office_15)"
   ]
  },
  {
   "cell_type": "code",
   "execution_count": 16,
   "metadata": {},
   "outputs": [],
   "source": [
    "office_15.to_pickle(\"../data/office_15.dat\")"
   ]
  },
  {
   "cell_type": "code",
   "execution_count": null,
   "metadata": {},
   "outputs": [],
   "source": []
  },
  {
   "cell_type": "code",
   "execution_count": null,
   "metadata": {},
   "outputs": [],
   "source": []
  },
  {
   "cell_type": "markdown",
   "metadata": {},
   "source": [
    "### Load citations and office actions which app_id starts with 15 only\n",
    "\n",
    "To reduce footprint, restart kernel here and reload it."
   ]
  },
  {
   "cell_type": "code",
   "execution_count": 50,
   "metadata": {},
   "outputs": [],
   "source": [
    "citations_15 = pd.read_pickle(\"../data/citations_15.dat\")"
   ]
  },
  {
   "cell_type": "code",
   "execution_count": 12,
   "metadata": {},
   "outputs": [],
   "source": [
    "office_15 = pd.read_pickle(\"../data/office_15.dat\")"
   ]
  },
  {
   "cell_type": "code",
   "execution_count": null,
   "metadata": {},
   "outputs": [],
   "source": []
  },
  {
   "cell_type": "code",
   "execution_count": 4,
   "metadata": {},
   "outputs": [
    {
     "data": {
      "text/html": [
       "<div>\n",
       "<style scoped>\n",
       "    .dataframe tbody tr th:only-of-type {\n",
       "        vertical-align: middle;\n",
       "    }\n",
       "\n",
       "    .dataframe tbody tr th {\n",
       "        vertical-align: top;\n",
       "    }\n",
       "\n",
       "    .dataframe thead th {\n",
       "        text-align: right;\n",
       "    }\n",
       "</style>\n",
       "<table border=\"1\" class=\"dataframe\">\n",
       "  <thead>\n",
       "    <tr style=\"text-align: right;\">\n",
       "      <th></th>\n",
       "      <th>app_id</th>\n",
       "      <th>ifw_number</th>\n",
       "      <th>document_cd</th>\n",
       "      <th>mail_dt</th>\n",
       "      <th>art_unit</th>\n",
       "      <th>uspc_class</th>\n",
       "      <th>uspc_subclass</th>\n",
       "      <th>header_missing</th>\n",
       "      <th>fp_missing</th>\n",
       "      <th>rejection_fp_mismatch</th>\n",
       "      <th>...</th>\n",
       "      <th>rejection_103</th>\n",
       "      <th>rejection_112</th>\n",
       "      <th>rejection_dp</th>\n",
       "      <th>objection</th>\n",
       "      <th>allowed_claims</th>\n",
       "      <th>cite102_gt1</th>\n",
       "      <th>cite103_gt3</th>\n",
       "      <th>cite103_eq1</th>\n",
       "      <th>cite103_max</th>\n",
       "      <th>signature_type</th>\n",
       "    </tr>\n",
       "  </thead>\n",
       "  <tbody>\n",
       "    <tr>\n",
       "      <th>3549653</th>\n",
       "      <td>15001440</td>\n",
       "      <td>IKIANOLHRXEAPX4</td>\n",
       "      <td>CTNF</td>\n",
       "      <td>2016-02-16</td>\n",
       "      <td>3762</td>\n",
       "      <td>607</td>\n",
       "      <td>042000</td>\n",
       "      <td>0</td>\n",
       "      <td>0</td>\n",
       "      <td>0</td>\n",
       "      <td>...</td>\n",
       "      <td>0</td>\n",
       "      <td>1</td>\n",
       "      <td>0</td>\n",
       "      <td>0</td>\n",
       "      <td>0</td>\n",
       "      <td>0</td>\n",
       "      <td>0</td>\n",
       "      <td>0</td>\n",
       "      <td>0</td>\n",
       "      <td>1</td>\n",
       "    </tr>\n",
       "    <tr>\n",
       "      <th>3560595</th>\n",
       "      <td>15009822</td>\n",
       "      <td>IKSBCEFQRXEAPX1</td>\n",
       "      <td>CTNF</td>\n",
       "      <td>2016-02-22</td>\n",
       "      <td>2139</td>\n",
       "      <td>711</td>\n",
       "      <td>162000</td>\n",
       "      <td>0</td>\n",
       "      <td>0</td>\n",
       "      <td>0</td>\n",
       "      <td>...</td>\n",
       "      <td>1</td>\n",
       "      <td>0</td>\n",
       "      <td>0</td>\n",
       "      <td>0</td>\n",
       "      <td>0</td>\n",
       "      <td>0</td>\n",
       "      <td>0</td>\n",
       "      <td>0</td>\n",
       "      <td>2</td>\n",
       "      <td>1</td>\n",
       "    </tr>\n",
       "    <tr>\n",
       "      <th>3561801</th>\n",
       "      <td>15005636</td>\n",
       "      <td>IKSG9XK1RXEAPX1</td>\n",
       "      <td>CTNF</td>\n",
       "      <td>2016-02-22</td>\n",
       "      <td>3766</td>\n",
       "      <td>600</td>\n",
       "      <td>509000</td>\n",
       "      <td>0</td>\n",
       "      <td>0</td>\n",
       "      <td>0</td>\n",
       "      <td>...</td>\n",
       "      <td>0</td>\n",
       "      <td>1</td>\n",
       "      <td>1</td>\n",
       "      <td>0</td>\n",
       "      <td>0</td>\n",
       "      <td>0</td>\n",
       "      <td>0</td>\n",
       "      <td>0</td>\n",
       "      <td>0</td>\n",
       "      <td>0</td>\n",
       "    </tr>\n",
       "    <tr>\n",
       "      <th>3562763</th>\n",
       "      <td>15002146</td>\n",
       "      <td>IKSLCJQLRXEAPX4</td>\n",
       "      <td>CTNF</td>\n",
       "      <td>2016-02-22</td>\n",
       "      <td>3723</td>\n",
       "      <td>015</td>\n",
       "      <td>104930</td>\n",
       "      <td>0</td>\n",
       "      <td>0</td>\n",
       "      <td>0</td>\n",
       "      <td>...</td>\n",
       "      <td>0</td>\n",
       "      <td>0</td>\n",
       "      <td>1</td>\n",
       "      <td>1</td>\n",
       "      <td>0</td>\n",
       "      <td>0</td>\n",
       "      <td>0</td>\n",
       "      <td>0</td>\n",
       "      <td>0</td>\n",
       "      <td>1</td>\n",
       "    </tr>\n",
       "    <tr>\n",
       "      <th>3564336</th>\n",
       "      <td>15001553</td>\n",
       "      <td>IKTT4P0TRXEAPX1</td>\n",
       "      <td>CTNF</td>\n",
       "      <td>2016-02-19</td>\n",
       "      <td>1625</td>\n",
       "      <td>514</td>\n",
       "      <td>279000</td>\n",
       "      <td>0</td>\n",
       "      <td>1</td>\n",
       "      <td>0</td>\n",
       "      <td>...</td>\n",
       "      <td>0</td>\n",
       "      <td>1</td>\n",
       "      <td>0</td>\n",
       "      <td>0</td>\n",
       "      <td>0</td>\n",
       "      <td>0</td>\n",
       "      <td>0</td>\n",
       "      <td>0</td>\n",
       "      <td>0</td>\n",
       "      <td>1</td>\n",
       "    </tr>\n",
       "  </tbody>\n",
       "</table>\n",
       "<p>5 rows × 23 columns</p>\n",
       "</div>"
      ],
      "text/plain": [
       "           app_id       ifw_number document_cd     mail_dt art_unit  \\\n",
       "3549653  15001440  IKIANOLHRXEAPX4        CTNF  2016-02-16     3762   \n",
       "3560595  15009822  IKSBCEFQRXEAPX1        CTNF  2016-02-22     2139   \n",
       "3561801  15005636  IKSG9XK1RXEAPX1        CTNF  2016-02-22     3766   \n",
       "3562763  15002146  IKSLCJQLRXEAPX4        CTNF  2016-02-22     3723   \n",
       "3564336  15001553  IKTT4P0TRXEAPX1        CTNF  2016-02-19     1625   \n",
       "\n",
       "        uspc_class uspc_subclass  header_missing  fp_missing  \\\n",
       "3549653        607        042000               0           0   \n",
       "3560595        711        162000               0           0   \n",
       "3561801        600        509000               0           0   \n",
       "3562763        015        104930               0           0   \n",
       "3564336        514        279000               0           1   \n",
       "\n",
       "         rejection_fp_mismatch       ...        rejection_103  rejection_112  \\\n",
       "3549653                      0       ...                    0              1   \n",
       "3560595                      0       ...                    1              0   \n",
       "3561801                      0       ...                    0              1   \n",
       "3562763                      0       ...                    0              0   \n",
       "3564336                      0       ...                    0              1   \n",
       "\n",
       "         rejection_dp  objection  allowed_claims  cite102_gt1  cite103_gt3  \\\n",
       "3549653             0          0               0            0            0   \n",
       "3560595             0          0               0            0            0   \n",
       "3561801             1          0               0            0            0   \n",
       "3562763             1          1               0            0            0   \n",
       "3564336             0          0               0            0            0   \n",
       "\n",
       "         cite103_eq1  cite103_max  signature_type  \n",
       "3549653            0            0               1  \n",
       "3560595            0            2               1  \n",
       "3561801            0            0               0  \n",
       "3562763            0            0               1  \n",
       "3564336            0            0               1  \n",
       "\n",
       "[5 rows x 23 columns]"
      ]
     },
     "execution_count": 4,
     "metadata": {},
     "output_type": "execute_result"
    }
   ],
   "source": [
    "office_15.head()"
   ]
  },
  {
   "cell_type": "code",
   "execution_count": null,
   "metadata": {},
   "outputs": [],
   "source": []
  },
  {
   "cell_type": "code",
   "execution_count": null,
   "metadata": {},
   "outputs": [],
   "source": []
  },
  {
   "cell_type": "code",
   "execution_count": null,
   "metadata": {},
   "outputs": [],
   "source": []
  },
  {
   "cell_type": "markdown",
   "metadata": {},
   "source": [
    "### Create poor man's index files by unix command"
   ]
  },
  {
   "cell_type": "code",
   "execution_count": 2,
   "metadata": {},
   "outputs": [],
   "source": [
    "import os, os.path"
   ]
  },
  {
   "cell_type": "code",
   "execution_count": 3,
   "metadata": {},
   "outputs": [],
   "source": [
    "INDEX_PATH=\"../data/index/\""
   ]
  },
  {
   "cell_type": "code",
   "execution_count": 4,
   "metadata": {},
   "outputs": [],
   "source": [
    "if not os.path.exists(INDEX_PATH):\n",
    "    os.mkdir(INDEX_PATH)"
   ]
  },
  {
   "cell_type": "code",
   "execution_count": null,
   "metadata": {},
   "outputs": [],
   "source": []
  },
  {
   "cell_type": "code",
   "execution_count": 5,
   "metadata": {},
   "outputs": [],
   "source": [
    "def create_one_index(xmlrel):\n",
    "    xmlpath = \"../data/\"+xmlrel\n",
    "    indexfile=INDEX_PATH+xmlrel+\".idx\"\n",
    "    !mkdir -p {os.path.dirname(indexfile)}\n",
    "    !grep -n \"doc-number\" {xmlpath} | sed -e 's/\\(.*\\)<doc-number>\\([^<]*\\)<\\/doc-number>.*/\\1\\2/' > {indexfile}"
   ]
  },
  {
   "cell_type": "code",
   "execution_count": null,
   "metadata": {},
   "outputs": [],
   "source": []
  },
  {
   "cell_type": "code",
   "execution_count": null,
   "metadata": {},
   "outputs": [],
   "source": []
  },
  {
   "cell_type": "markdown",
   "metadata": {},
   "source": [
    "## Data setup assumption\n",
    "\n",
    "Download application of 2017 and grants of 2012, unzip xml, and place under data/\n",
    "\n",
    "From here: https://bulkdata.uspto.gov/#pats\n",
    "\n",
    "### Grants 2012\n",
    "\n",
    "Use \"Patent Grant Full Text Data (No Images) (JAN 1976 - PRESENT)\".\n",
    "\n",
    "- Download all zip of https://bulkdata.uspto.gov/data/patent/grant/redbook/fulltext/2012/\n",
    "   - Use shell script to download zip (https://colab.research.google.com/drive/1gJO0VQ72Xfr_SY2dwWyiTvczIv0_gd4L)\n",
    "       - save to download.sh and run\n",
    "- place xml under data/grants2012/\n",
    "   - ex.data/grants2012/ipg120103.xml data/grants2012/ipg120221.xml\n",
    "   - Total about 24GB\n",
    "\n",
    "### Application 2017\n",
    "\n",
    "Use \"Patent Application Full Text Data (No Images) (MAR 15, 2001 - PRESENT)\"\n",
    "\n",
    "- Download all zip of https://bulkdata.uspto.gov/data/patent/application/redbook/fulltext/2017/\n",
    "   - Use above colab shell script again\n",
    "- place xml under data/application/2017\n",
    "    - ex. data/application2017/ipa170105.xml data/appli cation2017/ipa170223.xml\n",
    "    - Total about 35GB"
   ]
  },
  {
   "cell_type": "code",
   "execution_count": 6,
   "metadata": {},
   "outputs": [],
   "source": [
    "import glob"
   ]
  },
  {
   "cell_type": "code",
   "execution_count": null,
   "metadata": {},
   "outputs": [],
   "source": []
  },
  {
   "cell_type": "code",
   "execution_count": 67,
   "metadata": {},
   "outputs": [],
   "source": [
    "xmls = glob.glob(\"../data/grants2012/*.xml\")"
   ]
  },
  {
   "cell_type": "code",
   "execution_count": 68,
   "metadata": {},
   "outputs": [
    {
     "data": {
      "text/plain": [
       "'../data/grants2012/ipg120911.xml'"
      ]
     },
     "execution_count": 68,
     "metadata": {},
     "output_type": "execute_result"
    }
   ],
   "source": [
    "xmls[0]"
   ]
  },
  {
   "cell_type": "code",
   "execution_count": 69,
   "metadata": {},
   "outputs": [
    {
     "data": {
      "text/plain": [
       "'grants2012/ipg120911.xml'"
      ]
     },
     "execution_count": 69,
     "metadata": {},
     "output_type": "execute_result"
    }
   ],
   "source": [
    "xmls[0][len(\"../data/\"):]"
   ]
  },
  {
   "cell_type": "code",
   "execution_count": null,
   "metadata": {},
   "outputs": [],
   "source": []
  },
  {
   "cell_type": "code",
   "execution_count": 70,
   "metadata": {},
   "outputs": [],
   "source": [
    "xmlrels = [xml[len(\"../data/\"):] for xml in xmls]"
   ]
  },
  {
   "cell_type": "code",
   "execution_count": 72,
   "metadata": {},
   "outputs": [
    {
     "data": {
      "text/plain": [
       "'grants2012/ipg120911.xml'"
      ]
     },
     "execution_count": 72,
     "metadata": {},
     "output_type": "execute_result"
    }
   ],
   "source": [
    "xmlrels[0]"
   ]
  },
  {
   "cell_type": "code",
   "execution_count": null,
   "metadata": {},
   "outputs": [],
   "source": []
  },
  {
   "cell_type": "raw",
   "metadata": {},
   "source": [
    "Below cell took about 4min.\n",
    "\n",
    "CPU times: user 4.49 s, sys: 812 ms, total: 5.3 s\n",
    "Wall time: 3min 48s"
   ]
  },
  {
   "cell_type": "code",
   "execution_count": 73,
   "metadata": {},
   "outputs": [
    {
     "name": "stdout",
     "output_type": "stream",
     "text": [
      "CPU times: user 4.49 s, sys: 812 ms, total: 5.3 s\n",
      "Wall time: 3min 48s\n"
     ]
    }
   ],
   "source": [
    "%%time\n",
    "\n",
    "for xmlrel in xmlrels:\n",
    "    create_one_index(xmlrel)"
   ]
  },
  {
   "cell_type": "code",
   "execution_count": null,
   "metadata": {},
   "outputs": [],
   "source": []
  },
  {
   "cell_type": "code",
   "execution_count": null,
   "metadata": {},
   "outputs": [],
   "source": []
  },
  {
   "cell_type": "code",
   "execution_count": 9,
   "metadata": {},
   "outputs": [],
   "source": [
    "xmls = glob.glob(\"../data/application2017/*.xml\")\n",
    "xmlrels = [xml[len(\"../data/\"):] for xml in xmls]"
   ]
  },
  {
   "cell_type": "code",
   "execution_count": 10,
   "metadata": {},
   "outputs": [
    {
     "name": "stdout",
     "output_type": "stream",
     "text": [
      "CPU times: user 9.32 s, sys: 1.43 s, total: 10.8 s\n",
      "Wall time: 7min 2s\n"
     ]
    }
   ],
   "source": [
    "%%time\n",
    "\n",
    "for xmlrel in xmlrels:\n",
    "    create_one_index(xmlrel)"
   ]
  },
  {
   "cell_type": "code",
   "execution_count": null,
   "metadata": {},
   "outputs": [],
   "source": []
  },
  {
   "cell_type": "code",
   "execution_count": null,
   "metadata": {},
   "outputs": [],
   "source": []
  },
  {
   "cell_type": "code",
   "execution_count": null,
   "metadata": {},
   "outputs": [],
   "source": []
  },
  {
   "cell_type": "code",
   "execution_count": null,
   "metadata": {},
   "outputs": [],
   "source": []
  },
  {
   "cell_type": "markdown",
   "metadata": {},
   "source": [
    "### Load index from files"
   ]
  },
  {
   "cell_type": "code",
   "execution_count": 65,
   "metadata": {},
   "outputs": [],
   "source": [
    "import glob"
   ]
  },
  {
   "cell_type": "code",
   "execution_count": null,
   "metadata": {},
   "outputs": [],
   "source": []
  },
  {
   "cell_type": "code",
   "execution_count": 7,
   "metadata": {},
   "outputs": [],
   "source": [
    "# dict format:\n",
    "# key is doc-number\n",
    "# val is list of [relxml, linenumber]\n",
    "\n",
    "def build_one_index_file_to_dict(indexfile, dic):\n",
    "    with open(indexfile, \"r\") as f:\n",
    "        tupples = [l.rstrip(\"\\n\").split(\":\", 1) for l in f]\n",
    "    relxml = indexfile[len(\"../data/index/\"):].rstrip(\".idx\")\n",
    "    for tup in tupples:\n",
    "        dic.setdefault(tup[1], []).append([relxml, int(tup[0])])"
   ]
  },
  {
   "cell_type": "code",
   "execution_count": null,
   "metadata": {},
   "outputs": [],
   "source": []
  },
  {
   "cell_type": "code",
   "execution_count": 16,
   "metadata": {},
   "outputs": [],
   "source": [
    "def build_all_index_dict(indexfiles, dic):\n",
    "    for f in indexfiles:\n",
    "        build_one_index_file_to_dict(f, dic)"
   ]
  },
  {
   "cell_type": "code",
   "execution_count": null,
   "metadata": {},
   "outputs": [],
   "source": []
  },
  {
   "cell_type": "code",
   "execution_count": null,
   "metadata": {},
   "outputs": [],
   "source": []
  },
  {
   "cell_type": "code",
   "execution_count": 13,
   "metadata": {},
   "outputs": [],
   "source": [
    "indexfiles2017 = glob.glob(\"../data/index/application2017/*.idx\")"
   ]
  },
  {
   "cell_type": "code",
   "execution_count": 17,
   "metadata": {},
   "outputs": [],
   "source": [
    "index2017 = {}"
   ]
  },
  {
   "cell_type": "code",
   "execution_count": 18,
   "metadata": {},
   "outputs": [],
   "source": [
    "build_all_index_dict(indexfiles2017, index2017)"
   ]
  },
  {
   "cell_type": "code",
   "execution_count": null,
   "metadata": {},
   "outputs": [],
   "source": []
  },
  {
   "cell_type": "code",
   "execution_count": 45,
   "metadata": {},
   "outputs": [],
   "source": [
    "indexfilesGrants2012 = glob.glob(\"../data/index/grants2012/*.idx\")"
   ]
  },
  {
   "cell_type": "code",
   "execution_count": 47,
   "metadata": {},
   "outputs": [],
   "source": [
    "indexGrants2012 = {}"
   ]
  },
  {
   "cell_type": "code",
   "execution_count": 48,
   "metadata": {},
   "outputs": [],
   "source": [
    "build_all_index_dict(indexfilesGrants2012, indexGrants2012)"
   ]
  },
  {
   "cell_type": "code",
   "execution_count": null,
   "metadata": {},
   "outputs": [],
   "source": []
  },
  {
   "cell_type": "markdown",
   "metadata": {},
   "source": [
    "### Filter office action only of application 2017 doc-number."
   ]
  },
  {
   "cell_type": "code",
   "execution_count": 37,
   "metadata": {},
   "outputs": [],
   "source": [
    "# key of index2017 is string because doc-number sometime contains non-int value.\n",
    "# so we create string row in office action data frame to use isin method.\n",
    "\n",
    "office_15[\"app_id_str\"] = office_15.app_id.map(str)"
   ]
  },
  {
   "cell_type": "code",
   "execution_count": null,
   "metadata": {},
   "outputs": [],
   "source": []
  },
  {
   "cell_type": "code",
   "execution_count": 36,
   "metadata": {},
   "outputs": [
    {
     "data": {
      "text/plain": [
       "21820"
      ]
     },
     "execution_count": 36,
     "metadata": {},
     "output_type": "execute_result"
    }
   ],
   "source": [
    "sum(office_15.app_id_str.isin(index2017) == True)"
   ]
  },
  {
   "cell_type": "code",
   "execution_count": 38,
   "metadata": {},
   "outputs": [],
   "source": [
    "office2017 = office_15[office_15.app_id_str.isin(index2017)]"
   ]
  },
  {
   "cell_type": "code",
   "execution_count": null,
   "metadata": {},
   "outputs": [],
   "source": []
  },
  {
   "cell_type": "code",
   "execution_count": 40,
   "metadata": {},
   "outputs": [
    {
     "data": {
      "text/plain": [
       "21820"
      ]
     },
     "execution_count": 40,
     "metadata": {},
     "output_type": "execute_result"
    }
   ],
   "source": [
    "len(office2017)"
   ]
  },
  {
   "cell_type": "code",
   "execution_count": 39,
   "metadata": {},
   "outputs": [
    {
     "data": {
      "text/html": [
       "<div>\n",
       "<style scoped>\n",
       "    .dataframe tbody tr th:only-of-type {\n",
       "        vertical-align: middle;\n",
       "    }\n",
       "\n",
       "    .dataframe tbody tr th {\n",
       "        vertical-align: top;\n",
       "    }\n",
       "\n",
       "    .dataframe thead th {\n",
       "        text-align: right;\n",
       "    }\n",
       "</style>\n",
       "<table border=\"1\" class=\"dataframe\">\n",
       "  <thead>\n",
       "    <tr style=\"text-align: right;\">\n",
       "      <th></th>\n",
       "      <th>app_id</th>\n",
       "      <th>ifw_number</th>\n",
       "      <th>document_cd</th>\n",
       "      <th>mail_dt</th>\n",
       "      <th>art_unit</th>\n",
       "      <th>uspc_class</th>\n",
       "      <th>uspc_subclass</th>\n",
       "      <th>header_missing</th>\n",
       "      <th>fp_missing</th>\n",
       "      <th>rejection_fp_mismatch</th>\n",
       "      <th>...</th>\n",
       "      <th>rejection_112</th>\n",
       "      <th>rejection_dp</th>\n",
       "      <th>objection</th>\n",
       "      <th>allowed_claims</th>\n",
       "      <th>cite102_gt1</th>\n",
       "      <th>cite103_gt3</th>\n",
       "      <th>cite103_eq1</th>\n",
       "      <th>cite103_max</th>\n",
       "      <th>signature_type</th>\n",
       "      <th>app_id_str</th>\n",
       "    </tr>\n",
       "  </thead>\n",
       "  <tbody>\n",
       "    <tr>\n",
       "      <th>3561801</th>\n",
       "      <td>15005636</td>\n",
       "      <td>IKSG9XK1RXEAPX1</td>\n",
       "      <td>CTNF</td>\n",
       "      <td>2016-02-22</td>\n",
       "      <td>3766</td>\n",
       "      <td>600</td>\n",
       "      <td>509000</td>\n",
       "      <td>0</td>\n",
       "      <td>0</td>\n",
       "      <td>0</td>\n",
       "      <td>...</td>\n",
       "      <td>1</td>\n",
       "      <td>1</td>\n",
       "      <td>0</td>\n",
       "      <td>0</td>\n",
       "      <td>0</td>\n",
       "      <td>0</td>\n",
       "      <td>0</td>\n",
       "      <td>0</td>\n",
       "      <td>0</td>\n",
       "      <td>15005636</td>\n",
       "    </tr>\n",
       "    <tr>\n",
       "      <th>3564336</th>\n",
       "      <td>15001553</td>\n",
       "      <td>IKTT4P0TRXEAPX1</td>\n",
       "      <td>CTNF</td>\n",
       "      <td>2016-02-19</td>\n",
       "      <td>1625</td>\n",
       "      <td>514</td>\n",
       "      <td>279000</td>\n",
       "      <td>0</td>\n",
       "      <td>1</td>\n",
       "      <td>0</td>\n",
       "      <td>...</td>\n",
       "      <td>1</td>\n",
       "      <td>0</td>\n",
       "      <td>0</td>\n",
       "      <td>0</td>\n",
       "      <td>0</td>\n",
       "      <td>0</td>\n",
       "      <td>0</td>\n",
       "      <td>0</td>\n",
       "      <td>1</td>\n",
       "      <td>15001553</td>\n",
       "    </tr>\n",
       "    <tr>\n",
       "      <th>3568839</th>\n",
       "      <td>15009367</td>\n",
       "      <td>IKZGL7O1RXEAPX4</td>\n",
       "      <td>CTNF</td>\n",
       "      <td>2016-02-25</td>\n",
       "      <td>2137</td>\n",
       "      <td>711</td>\n",
       "      <td>103000</td>\n",
       "      <td>0</td>\n",
       "      <td>0</td>\n",
       "      <td>0</td>\n",
       "      <td>...</td>\n",
       "      <td>0</td>\n",
       "      <td>1</td>\n",
       "      <td>0</td>\n",
       "      <td>0</td>\n",
       "      <td>0</td>\n",
       "      <td>0</td>\n",
       "      <td>0</td>\n",
       "      <td>0</td>\n",
       "      <td>1</td>\n",
       "      <td>15009367</td>\n",
       "    </tr>\n",
       "    <tr>\n",
       "      <th>3569392</th>\n",
       "      <td>15041416</td>\n",
       "      <td>IKZI6SS3RXEAPX1</td>\n",
       "      <td>CTNF</td>\n",
       "      <td>2016-02-25</td>\n",
       "      <td>2618</td>\n",
       "      <td>345</td>\n",
       "      <td>619000</td>\n",
       "      <td>0</td>\n",
       "      <td>0</td>\n",
       "      <td>0</td>\n",
       "      <td>...</td>\n",
       "      <td>0</td>\n",
       "      <td>0</td>\n",
       "      <td>0</td>\n",
       "      <td>0</td>\n",
       "      <td>0</td>\n",
       "      <td>1</td>\n",
       "      <td>0</td>\n",
       "      <td>5</td>\n",
       "      <td>1</td>\n",
       "      <td>15041416</td>\n",
       "    </tr>\n",
       "    <tr>\n",
       "      <th>3574015</th>\n",
       "      <td>15014088</td>\n",
       "      <td>IL0U1CK0RXEAPX5</td>\n",
       "      <td>CTNF</td>\n",
       "      <td>2016-02-26</td>\n",
       "      <td>2852</td>\n",
       "      <td>399</td>\n",
       "      <td>085000</td>\n",
       "      <td>0</td>\n",
       "      <td>0</td>\n",
       "      <td>0</td>\n",
       "      <td>...</td>\n",
       "      <td>0</td>\n",
       "      <td>0</td>\n",
       "      <td>1</td>\n",
       "      <td>0</td>\n",
       "      <td>0</td>\n",
       "      <td>0</td>\n",
       "      <td>0</td>\n",
       "      <td>2</td>\n",
       "      <td>1</td>\n",
       "      <td>15014088</td>\n",
       "    </tr>\n",
       "  </tbody>\n",
       "</table>\n",
       "<p>5 rows × 24 columns</p>\n",
       "</div>"
      ],
      "text/plain": [
       "           app_id       ifw_number document_cd     mail_dt art_unit  \\\n",
       "3561801  15005636  IKSG9XK1RXEAPX1        CTNF  2016-02-22     3766   \n",
       "3564336  15001553  IKTT4P0TRXEAPX1        CTNF  2016-02-19     1625   \n",
       "3568839  15009367  IKZGL7O1RXEAPX4        CTNF  2016-02-25     2137   \n",
       "3569392  15041416  IKZI6SS3RXEAPX1        CTNF  2016-02-25     2618   \n",
       "3574015  15014088  IL0U1CK0RXEAPX5        CTNF  2016-02-26     2852   \n",
       "\n",
       "        uspc_class uspc_subclass  header_missing  fp_missing  \\\n",
       "3561801        600        509000               0           0   \n",
       "3564336        514        279000               0           1   \n",
       "3568839        711        103000               0           0   \n",
       "3569392        345        619000               0           0   \n",
       "3574015        399        085000               0           0   \n",
       "\n",
       "         rejection_fp_mismatch     ...      rejection_112  rejection_dp  \\\n",
       "3561801                      0     ...                  1             1   \n",
       "3564336                      0     ...                  1             0   \n",
       "3568839                      0     ...                  0             1   \n",
       "3569392                      0     ...                  0             0   \n",
       "3574015                      0     ...                  0             0   \n",
       "\n",
       "         objection  allowed_claims  cite102_gt1  cite103_gt3  cite103_eq1  \\\n",
       "3561801          0               0            0            0            0   \n",
       "3564336          0               0            0            0            0   \n",
       "3568839          0               0            0            0            0   \n",
       "3569392          0               0            0            1            0   \n",
       "3574015          1               0            0            0            0   \n",
       "\n",
       "         cite103_max  signature_type  app_id_str  \n",
       "3561801            0               0    15005636  \n",
       "3564336            0               1    15001553  \n",
       "3568839            0               1    15009367  \n",
       "3569392            5               1    15041416  \n",
       "3574015            2               1    15014088  \n",
       "\n",
       "[5 rows x 24 columns]"
      ]
     },
     "execution_count": 39,
     "metadata": {},
     "output_type": "execute_result"
    }
   ],
   "source": [
    "office2017.head()"
   ]
  },
  {
   "cell_type": "code",
   "execution_count": null,
   "metadata": {},
   "outputs": [],
   "source": []
  },
  {
   "cell_type": "code",
   "execution_count": 41,
   "metadata": {},
   "outputs": [],
   "source": [
    "ifw_from_OA = set(office2017.ifw_number)"
   ]
  },
  {
   "cell_type": "code",
   "execution_count": 42,
   "metadata": {},
   "outputs": [
    {
     "data": {
      "text/plain": [
       "21820"
      ]
     },
     "execution_count": 42,
     "metadata": {},
     "output_type": "execute_result"
    }
   ],
   "source": [
    "len(list(ifw_from_OA))"
   ]
  },
  {
   "cell_type": "code",
   "execution_count": null,
   "metadata": {},
   "outputs": [],
   "source": []
  },
  {
   "cell_type": "code",
   "execution_count": null,
   "metadata": {},
   "outputs": [],
   "source": []
  },
  {
   "cell_type": "code",
   "execution_count": null,
   "metadata": {},
   "outputs": [],
   "source": []
  },
  {
   "cell_type": "code",
   "execution_count": null,
   "metadata": {},
   "outputs": [],
   "source": []
  },
  {
   "cell_type": "code",
   "execution_count": 51,
   "metadata": {},
   "outputs": [
    {
     "data": {
      "text/html": [
       "<div>\n",
       "<style scoped>\n",
       "    .dataframe tbody tr th:only-of-type {\n",
       "        vertical-align: middle;\n",
       "    }\n",
       "\n",
       "    .dataframe tbody tr th {\n",
       "        vertical-align: top;\n",
       "    }\n",
       "\n",
       "    .dataframe thead th {\n",
       "        text-align: right;\n",
       "    }\n",
       "</style>\n",
       "<table border=\"1\" class=\"dataframe\">\n",
       "  <thead>\n",
       "    <tr style=\"text-align: right;\">\n",
       "      <th></th>\n",
       "      <th>app_id</th>\n",
       "      <th>citation_pat_pgpub_id</th>\n",
       "      <th>parsed</th>\n",
       "      <th>ifw_number</th>\n",
       "      <th>action_type</th>\n",
       "      <th>action_subtype</th>\n",
       "      <th>form892</th>\n",
       "      <th>form1449</th>\n",
       "      <th>citation_in_oa</th>\n",
       "    </tr>\n",
       "  </thead>\n",
       "  <tbody>\n",
       "    <tr>\n",
       "      <th>57732192</th>\n",
       "      <td>15000008</td>\n",
       "      <td>8291627</td>\n",
       "      <td>8291627</td>\n",
       "      <td>NaN</td>\n",
       "      <td>NaN</td>\n",
       "      <td>NaN</td>\n",
       "      <td>1</td>\n",
       "      <td>0</td>\n",
       "      <td>0</td>\n",
       "    </tr>\n",
       "    <tr>\n",
       "      <th>57732193</th>\n",
       "      <td>15000008</td>\n",
       "      <td>2093620</td>\n",
       "      <td>2093620</td>\n",
       "      <td>NaN</td>\n",
       "      <td>NaN</td>\n",
       "      <td>NaN</td>\n",
       "      <td>1</td>\n",
       "      <td>0</td>\n",
       "      <td>0</td>\n",
       "    </tr>\n",
       "    <tr>\n",
       "      <th>57732194</th>\n",
       "      <td>15000008</td>\n",
       "      <td>9221406</td>\n",
       "      <td>9221406</td>\n",
       "      <td>NaN</td>\n",
       "      <td>NaN</td>\n",
       "      <td>NaN</td>\n",
       "      <td>1</td>\n",
       "      <td>0</td>\n",
       "      <td>0</td>\n",
       "    </tr>\n",
       "    <tr>\n",
       "      <th>57732195</th>\n",
       "      <td>15000008</td>\n",
       "      <td>8544198</td>\n",
       "      <td>8544198</td>\n",
       "      <td>NaN</td>\n",
       "      <td>NaN</td>\n",
       "      <td>NaN</td>\n",
       "      <td>1</td>\n",
       "      <td>0</td>\n",
       "      <td>0</td>\n",
       "    </tr>\n",
       "    <tr>\n",
       "      <th>57732196</th>\n",
       "      <td>15000008</td>\n",
       "      <td>7225569</td>\n",
       "      <td>7225569</td>\n",
       "      <td>NaN</td>\n",
       "      <td>NaN</td>\n",
       "      <td>NaN</td>\n",
       "      <td>1</td>\n",
       "      <td>0</td>\n",
       "      <td>0</td>\n",
       "    </tr>\n",
       "  </tbody>\n",
       "</table>\n",
       "</div>"
      ],
      "text/plain": [
       "            app_id citation_pat_pgpub_id   parsed ifw_number  action_type  \\\n",
       "57732192  15000008               8291627  8291627        NaN          NaN   \n",
       "57732193  15000008               2093620  2093620        NaN          NaN   \n",
       "57732194  15000008               9221406  9221406        NaN          NaN   \n",
       "57732195  15000008               8544198  8544198        NaN          NaN   \n",
       "57732196  15000008               7225569  7225569        NaN          NaN   \n",
       "\n",
       "         action_subtype  form892  form1449  citation_in_oa  \n",
       "57732192            NaN        1         0               0  \n",
       "57732193            NaN        1         0               0  \n",
       "57732194            NaN        1         0               0  \n",
       "57732195            NaN        1         0               0  \n",
       "57732196            NaN        1         0               0  "
      ]
     },
     "execution_count": 51,
     "metadata": {},
     "output_type": "execute_result"
    }
   ],
   "source": [
    "citations_15.head()"
   ]
  },
  {
   "cell_type": "code",
   "execution_count": 55,
   "metadata": {},
   "outputs": [],
   "source": [
    "citations_2017 = citations_15[citations_15.ifw_number.isin(ifw_from_OA)]"
   ]
  },
  {
   "cell_type": "code",
   "execution_count": 56,
   "metadata": {},
   "outputs": [
    {
     "data": {
      "text/plain": [
       "43416"
      ]
     },
     "execution_count": 56,
     "metadata": {},
     "output_type": "execute_result"
    }
   ],
   "source": [
    "len(citations_2017)"
   ]
  },
  {
   "cell_type": "code",
   "execution_count": 57,
   "metadata": {},
   "outputs": [
    {
     "data": {
      "text/html": [
       "<div>\n",
       "<style scoped>\n",
       "    .dataframe tbody tr th:only-of-type {\n",
       "        vertical-align: middle;\n",
       "    }\n",
       "\n",
       "    .dataframe tbody tr th {\n",
       "        vertical-align: top;\n",
       "    }\n",
       "\n",
       "    .dataframe thead th {\n",
       "        text-align: right;\n",
       "    }\n",
       "</style>\n",
       "<table border=\"1\" class=\"dataframe\">\n",
       "  <thead>\n",
       "    <tr style=\"text-align: right;\">\n",
       "      <th></th>\n",
       "      <th>app_id</th>\n",
       "      <th>citation_pat_pgpub_id</th>\n",
       "      <th>parsed</th>\n",
       "      <th>ifw_number</th>\n",
       "      <th>action_type</th>\n",
       "      <th>action_subtype</th>\n",
       "      <th>form892</th>\n",
       "      <th>form1449</th>\n",
       "      <th>citation_in_oa</th>\n",
       "    </tr>\n",
       "  </thead>\n",
       "  <tbody>\n",
       "    <tr>\n",
       "      <th>57732253</th>\n",
       "      <td>15000027</td>\n",
       "      <td>8553488</td>\n",
       "      <td>8553488</td>\n",
       "      <td>IRPCOHEPRXEAPX4</td>\n",
       "      <td>102.0</td>\n",
       "      <td>a</td>\n",
       "      <td>1</td>\n",
       "      <td>0</td>\n",
       "      <td>1</td>\n",
       "    </tr>\n",
       "    <tr>\n",
       "      <th>57732273</th>\n",
       "      <td>15000034</td>\n",
       "      <td>Dando US 2015/0364400</td>\n",
       "      <td>20150364400</td>\n",
       "      <td>IYD99O6CRXEAPX0</td>\n",
       "      <td>103.0</td>\n",
       "      <td>NaN</td>\n",
       "      <td>0</td>\n",
       "      <td>0</td>\n",
       "      <td>1</td>\n",
       "    </tr>\n",
       "    <tr>\n",
       "      <th>57732274</th>\n",
       "      <td>15000034</td>\n",
       "      <td>Sun US 2012/0181696</td>\n",
       "      <td>20120181696</td>\n",
       "      <td>IYD99O6CRXEAPX0</td>\n",
       "      <td>103.0</td>\n",
       "      <td>NaN</td>\n",
       "      <td>0</td>\n",
       "      <td>0</td>\n",
       "      <td>1</td>\n",
       "    </tr>\n",
       "    <tr>\n",
       "      <th>57732275</th>\n",
       "      <td>15000034</td>\n",
       "      <td>Sun US 2012/0279760</td>\n",
       "      <td>20120279760</td>\n",
       "      <td>IYD99O6CRXEAPX0</td>\n",
       "      <td>103.0</td>\n",
       "      <td>NaN</td>\n",
       "      <td>0</td>\n",
       "      <td>0</td>\n",
       "      <td>1</td>\n",
       "    </tr>\n",
       "    <tr>\n",
       "      <th>57732324</th>\n",
       "      <td>15000048</td>\n",
       "      <td>20140091294</td>\n",
       "      <td>20140091294</td>\n",
       "      <td>IR59S77KRXEAPX5</td>\n",
       "      <td>103.0</td>\n",
       "      <td>NaN</td>\n",
       "      <td>1</td>\n",
       "      <td>0</td>\n",
       "      <td>1</td>\n",
       "    </tr>\n",
       "  </tbody>\n",
       "</table>\n",
       "</div>"
      ],
      "text/plain": [
       "            app_id  citation_pat_pgpub_id       parsed       ifw_number  \\\n",
       "57732253  15000027                8553488      8553488  IRPCOHEPRXEAPX4   \n",
       "57732273  15000034  Dando US 2015/0364400  20150364400  IYD99O6CRXEAPX0   \n",
       "57732274  15000034    Sun US 2012/0181696  20120181696  IYD99O6CRXEAPX0   \n",
       "57732275  15000034    Sun US 2012/0279760  20120279760  IYD99O6CRXEAPX0   \n",
       "57732324  15000048            20140091294  20140091294  IR59S77KRXEAPX5   \n",
       "\n",
       "          action_type action_subtype  form892  form1449  citation_in_oa  \n",
       "57732253        102.0              a        1         0               1  \n",
       "57732273        103.0            NaN        0         0               1  \n",
       "57732274        103.0            NaN        0         0               1  \n",
       "57732275        103.0            NaN        0         0               1  \n",
       "57732324        103.0            NaN        1         0               1  "
      ]
     },
     "execution_count": 57,
     "metadata": {},
     "output_type": "execute_result"
    }
   ],
   "source": [
    "citations_2017.head()"
   ]
  },
  {
   "cell_type": "code",
   "execution_count": 58,
   "metadata": {},
   "outputs": [],
   "source": [
    "citations_we_have = citations_2017[citations_2017.citation_pat_pgpub_id.isin(indexGrants2012)]"
   ]
  },
  {
   "cell_type": "code",
   "execution_count": 59,
   "metadata": {},
   "outputs": [
    {
     "data": {
      "text/plain": [
       "4362"
      ]
     },
     "execution_count": 59,
     "metadata": {},
     "output_type": "execute_result"
    }
   ],
   "source": [
    "len(citations_we_have)"
   ]
  },
  {
   "cell_type": "code",
   "execution_count": 60,
   "metadata": {},
   "outputs": [
    {
     "data": {
      "text/html": [
       "<div>\n",
       "<style scoped>\n",
       "    .dataframe tbody tr th:only-of-type {\n",
       "        vertical-align: middle;\n",
       "    }\n",
       "\n",
       "    .dataframe tbody tr th {\n",
       "        vertical-align: top;\n",
       "    }\n",
       "\n",
       "    .dataframe thead th {\n",
       "        text-align: right;\n",
       "    }\n",
       "</style>\n",
       "<table border=\"1\" class=\"dataframe\">\n",
       "  <thead>\n",
       "    <tr style=\"text-align: right;\">\n",
       "      <th></th>\n",
       "      <th>app_id</th>\n",
       "      <th>citation_pat_pgpub_id</th>\n",
       "      <th>parsed</th>\n",
       "      <th>ifw_number</th>\n",
       "      <th>action_type</th>\n",
       "      <th>action_subtype</th>\n",
       "      <th>form892</th>\n",
       "      <th>form1449</th>\n",
       "      <th>citation_in_oa</th>\n",
       "    </tr>\n",
       "  </thead>\n",
       "  <tbody>\n",
       "    <tr>\n",
       "      <th>57733581</th>\n",
       "      <td>15000285</td>\n",
       "      <td>4659845</td>\n",
       "      <td>4659845</td>\n",
       "      <td>IV82WOB1RXEAPX5</td>\n",
       "      <td>103.0</td>\n",
       "      <td>NaN</td>\n",
       "      <td>1</td>\n",
       "      <td>0</td>\n",
       "      <td>1</td>\n",
       "    </tr>\n",
       "    <tr>\n",
       "      <th>57733622</th>\n",
       "      <td>15000297</td>\n",
       "      <td>7268118</td>\n",
       "      <td>7268118</td>\n",
       "      <td>IO1DLQ1SRXEAPX3</td>\n",
       "      <td>102.0</td>\n",
       "      <td>b</td>\n",
       "      <td>0</td>\n",
       "      <td>1</td>\n",
       "      <td>1</td>\n",
       "    </tr>\n",
       "    <tr>\n",
       "      <th>57733623</th>\n",
       "      <td>15000297</td>\n",
       "      <td>7268118</td>\n",
       "      <td>7268118</td>\n",
       "      <td>IO1DLQ1SRXEAPX3</td>\n",
       "      <td>103.0</td>\n",
       "      <td>a</td>\n",
       "      <td>0</td>\n",
       "      <td>1</td>\n",
       "      <td>1</td>\n",
       "    </tr>\n",
       "    <tr>\n",
       "      <th>57733624</th>\n",
       "      <td>15000297</td>\n",
       "      <td>5578570</td>\n",
       "      <td>5578570</td>\n",
       "      <td>IO1DLQ1SRXEAPX3</td>\n",
       "      <td>103.0</td>\n",
       "      <td>a</td>\n",
       "      <td>1</td>\n",
       "      <td>0</td>\n",
       "      <td>1</td>\n",
       "    </tr>\n",
       "    <tr>\n",
       "      <th>57733628</th>\n",
       "      <td>15000297</td>\n",
       "      <td>5342620</td>\n",
       "      <td>5342620</td>\n",
       "      <td>IO1DLQ1SRXEAPX3</td>\n",
       "      <td>103.0</td>\n",
       "      <td>a</td>\n",
       "      <td>1</td>\n",
       "      <td>1</td>\n",
       "      <td>1</td>\n",
       "    </tr>\n",
       "  </tbody>\n",
       "</table>\n",
       "</div>"
      ],
      "text/plain": [
       "            app_id citation_pat_pgpub_id   parsed       ifw_number  \\\n",
       "57733581  15000285               4659845  4659845  IV82WOB1RXEAPX5   \n",
       "57733622  15000297               7268118  7268118  IO1DLQ1SRXEAPX3   \n",
       "57733623  15000297               7268118  7268118  IO1DLQ1SRXEAPX3   \n",
       "57733624  15000297               5578570  5578570  IO1DLQ1SRXEAPX3   \n",
       "57733628  15000297               5342620  5342620  IO1DLQ1SRXEAPX3   \n",
       "\n",
       "          action_type action_subtype  form892  form1449  citation_in_oa  \n",
       "57733581        103.0            NaN        1         0               1  \n",
       "57733622        102.0              b        0         1               1  \n",
       "57733623        103.0              a        0         1               1  \n",
       "57733624        103.0              a        1         0               1  \n",
       "57733628        103.0              a        1         1               1  "
      ]
     },
     "execution_count": 60,
     "metadata": {},
     "output_type": "execute_result"
    }
   ],
   "source": [
    "citations_we_have.head()"
   ]
  },
  {
   "cell_type": "code",
   "execution_count": 61,
   "metadata": {},
   "outputs": [],
   "source": [
    "citations_we_have.to_pickle(\"../data/citations_2017_2012.dat\")"
   ]
  },
  {
   "cell_type": "code",
   "execution_count": 62,
   "metadata": {},
   "outputs": [],
   "source": [
    "citations_we_have = citation_we_have"
   ]
  },
  {
   "cell_type": "code",
   "execution_count": null,
   "metadata": {},
   "outputs": [],
   "source": []
  },
  {
   "cell_type": "code",
   "execution_count": 78,
   "metadata": {},
   "outputs": [
    {
     "data": {
      "text/plain": [
       "'../data/index/application2017/ipa170105.xml.idx'"
      ]
     },
     "execution_count": 78,
     "metadata": {},
     "output_type": "execute_result"
    }
   ],
   "source": [
    "indexfiles[0]"
   ]
  },
  {
   "cell_type": "code",
   "execution_count": 80,
   "metadata": {},
   "outputs": [
    {
     "data": {
      "text/plain": [
       "'application2017/ipa170105.xml'"
      ]
     },
     "execution_count": 80,
     "metadata": {},
     "output_type": "execute_result"
    }
   ],
   "source": [
    "indexfiles[0][len(\"../data/index/\"):].rstrip(\".idx\")"
   ]
  },
  {
   "cell_type": "code",
   "execution_count": null,
   "metadata": {},
   "outputs": [],
   "source": []
  },
  {
   "cell_type": "code",
   "execution_count": 82,
   "metadata": {},
   "outputs": [],
   "source": [
    "dic = {}"
   ]
  },
  {
   "cell_type": "code",
   "execution_count": 83,
   "metadata": {},
   "outputs": [],
   "source": [
    "build_index_to_dict(indexfiles[0], dic)"
   ]
  },
  {
   "cell_type": "code",
   "execution_count": null,
   "metadata": {},
   "outputs": [],
   "source": []
  },
  {
   "cell_type": "markdown",
   "metadata": {},
   "source": [
    "# Try and error"
   ]
  },
  {
   "cell_type": "code",
   "execution_count": null,
   "metadata": {},
   "outputs": [],
   "source": []
  },
  {
   "cell_type": "code",
   "execution_count": 74,
   "metadata": {},
   "outputs": [],
   "source": [
    "# create_one_index(\"grants2012/ipg120103.xml\")"
   ]
  },
  {
   "cell_type": "code",
   "execution_count": null,
   "metadata": {},
   "outputs": [],
   "source": []
  },
  {
   "cell_type": "code",
   "execution_count": null,
   "metadata": {},
   "outputs": [],
   "source": []
  },
  {
   "cell_type": "code",
   "execution_count": null,
   "metadata": {},
   "outputs": [],
   "source": []
  },
  {
   "cell_type": "code",
   "execution_count": 21,
   "metadata": {},
   "outputs": [],
   "source": [
    "xmlrel = \"application2017/ipa170105.xml\""
   ]
  },
  {
   "cell_type": "code",
   "execution_count": 22,
   "metadata": {},
   "outputs": [],
   "source": [
    "xmlpath = \"../data/\"+xmlrel"
   ]
  },
  {
   "cell_type": "code",
   "execution_count": 29,
   "metadata": {},
   "outputs": [],
   "source": [
    "indexfile=INDEX_PATH+xmlrel+\".idx\""
   ]
  },
  {
   "cell_type": "code",
   "execution_count": null,
   "metadata": {},
   "outputs": [],
   "source": []
  },
  {
   "cell_type": "code",
   "execution_count": 31,
   "metadata": {},
   "outputs": [],
   "source": [
    "!mkdir -p {os.path.dirname(indexfile)}"
   ]
  },
  {
   "cell_type": "code",
   "execution_count": 32,
   "metadata": {},
   "outputs": [],
   "source": [
    "!grep -n \"doc-number\" {xmlpath} | sed -e 's/\\(.*\\)<doc-number>\\([^<]*\\)<\\/doc-number>.*/\\1\\2/' > {indexfile}"
   ]
  },
  {
   "cell_type": "code",
   "execution_count": null,
   "metadata": {},
   "outputs": [],
   "source": []
  },
  {
   "cell_type": "code",
   "execution_count": null,
   "metadata": {},
   "outputs": [],
   "source": []
  },
  {
   "cell_type": "code",
   "execution_count": null,
   "metadata": {},
   "outputs": [],
   "source": []
  },
  {
   "cell_type": "code",
   "execution_count": 45,
   "metadata": {},
   "outputs": [],
   "source": [
    "with open(indexfile, \"r\") as f:\n",
    "    tupples = [l.rstrip(\"\\n\").split(\":\", 1) for l in f]"
   ]
  },
  {
   "cell_type": "code",
   "execution_count": 46,
   "metadata": {},
   "outputs": [
    {
     "data": {
      "text/plain": [
       "31695"
      ]
     },
     "execution_count": 46,
     "metadata": {},
     "output_type": "execute_result"
    }
   ],
   "source": [
    "len(tupples)"
   ]
  },
  {
   "cell_type": "code",
   "execution_count": 60,
   "metadata": {},
   "outputs": [],
   "source": [
    "dic = {}"
   ]
  },
  {
   "cell_type": "code",
   "execution_count": 61,
   "metadata": {},
   "outputs": [],
   "source": [
    "for tup in tupples:\n",
    "    dic.setdefault(tup[1], []).append(int(tup[0]))"
   ]
  },
  {
   "cell_type": "code",
   "execution_count": null,
   "metadata": {},
   "outputs": [],
   "source": []
  },
  {
   "cell_type": "code",
   "execution_count": 62,
   "metadata": {},
   "outputs": [
    {
     "data": {
      "text/plain": [
       "[3508, 3648]"
      ]
     },
     "execution_count": 62,
     "metadata": {},
     "output_type": "execute_result"
    }
   ],
   "source": [
    "# some doc-number seems dup\n",
    "dic[\"15265874\"]"
   ]
  },
  {
   "cell_type": "code",
   "execution_count": null,
   "metadata": {},
   "outputs": [],
   "source": []
  },
  {
   "cell_type": "code",
   "execution_count": null,
   "metadata": {},
   "outputs": [],
   "source": []
  },
  {
   "cell_type": "code",
   "execution_count": null,
   "metadata": {
    "scrolled": false
   },
   "outputs": [],
   "source": [
    "for tup in tupples:    \n",
    "    if tup[1] not in dic:\n",
    "        print(tup[1])\n",
    "    dic[tup[1]] = 1    "
   ]
  },
  {
   "cell_type": "code",
   "execution_count": null,
   "metadata": {},
   "outputs": [],
   "source": []
  },
  {
   "cell_type": "code",
   "execution_count": null,
   "metadata": {},
   "outputs": [],
   "source": []
  },
  {
   "cell_type": "code",
   "execution_count": null,
   "metadata": {},
   "outputs": [],
   "source": []
  },
  {
   "cell_type": "markdown",
   "metadata": {},
   "source": [
    "### just read xml file is too slow. Give up using python"
   ]
  },
  {
   "cell_type": "code",
   "execution_count": 4,
   "metadata": {
    "scrolled": true
   },
   "outputs": [
    {
     "ename": "KeyboardInterrupt",
     "evalue": "",
     "output_type": "error",
     "traceback": [
      "\u001b[0;31m---------------------------------------------------------------------------\u001b[0m",
      "\u001b[0;31mKeyboardInterrupt\u001b[0m                         Traceback (most recent call last)",
      "\u001b[0;32m<timed exec>\u001b[0m in \u001b[0;36m<module>\u001b[0;34m()\u001b[0m\n",
      "\u001b[0;32m/usr/lib/python3.5/encodings/ascii.py\u001b[0m in \u001b[0;36mdecode\u001b[0;34m(self, input, final)\u001b[0m\n\u001b[1;32m     23\u001b[0m \u001b[0;34m\u001b[0m\u001b[0m\n\u001b[1;32m     24\u001b[0m \u001b[0;32mclass\u001b[0m \u001b[0mIncrementalDecoder\u001b[0m\u001b[0;34m(\u001b[0m\u001b[0mcodecs\u001b[0m\u001b[0;34m.\u001b[0m\u001b[0mIncrementalDecoder\u001b[0m\u001b[0;34m)\u001b[0m\u001b[0;34m:\u001b[0m\u001b[0;34m\u001b[0m\u001b[0m\n\u001b[0;32m---> 25\u001b[0;31m     \u001b[0;32mdef\u001b[0m \u001b[0mdecode\u001b[0m\u001b[0;34m(\u001b[0m\u001b[0mself\u001b[0m\u001b[0;34m,\u001b[0m \u001b[0minput\u001b[0m\u001b[0;34m,\u001b[0m \u001b[0mfinal\u001b[0m\u001b[0;34m=\u001b[0m\u001b[0;32mFalse\u001b[0m\u001b[0;34m)\u001b[0m\u001b[0;34m:\u001b[0m\u001b[0;34m\u001b[0m\u001b[0m\n\u001b[0m\u001b[1;32m     26\u001b[0m         \u001b[0;32mreturn\u001b[0m \u001b[0mcodecs\u001b[0m\u001b[0;34m.\u001b[0m\u001b[0mascii_decode\u001b[0m\u001b[0;34m(\u001b[0m\u001b[0minput\u001b[0m\u001b[0;34m,\u001b[0m \u001b[0mself\u001b[0m\u001b[0;34m.\u001b[0m\u001b[0merrors\u001b[0m\u001b[0;34m)\u001b[0m\u001b[0;34m[\u001b[0m\u001b[0;36m0\u001b[0m\u001b[0;34m]\u001b[0m\u001b[0;34m\u001b[0m\u001b[0m\n\u001b[1;32m     27\u001b[0m \u001b[0;34m\u001b[0m\u001b[0m\n",
      "\u001b[0;31mKeyboardInterrupt\u001b[0m: "
     ]
    }
   ],
   "source": [
    "%%time\n",
    "\n",
    "with open(\"../data/\" + xmlpath, \"r\") as f:\n",
    "    lnum = 0\n",
    "    fpos = 0\n",
    "    line = f.readline()\n",
    "    while line:\n",
    "        lnum += 1\n",
    "        line = f.readline()\n",
    "        fpos = f.tell()\n"
   ]
  },
  {
   "cell_type": "code",
   "execution_count": null,
   "metadata": {},
   "outputs": [],
   "source": []
  },
  {
   "cell_type": "markdown",
   "metadata": {},
   "source": [
    "### Whoosh trial\n",
    "\n",
    "Conclusion: indexing is too slow and we can't use it."
   ]
  },
  {
   "cell_type": "code",
   "execution_count": 6,
   "metadata": {},
   "outputs": [],
   "source": [
    "from whoosh.index import create_in\n",
    "from whoosh.fields import *\n",
    "import os, os.path\n"
   ]
  },
  {
   "cell_type": "code",
   "execution_count": null,
   "metadata": {},
   "outputs": [],
   "source": []
  },
  {
   "cell_type": "code",
   "execution_count": 14,
   "metadata": {},
   "outputs": [],
   "source": [
    "schema = Schema(path=ID(stored=True), line_num=NUMERIC(stored=True), pos=NUMERIC(stored=True), line=TEXT)"
   ]
  },
  {
   "cell_type": "code",
   "execution_count": 15,
   "metadata": {},
   "outputs": [],
   "source": [
    "if not os.path.exists(\"indexdir\"):\n",
    "    os.mkdir(\"indexdir\")\n",
    "\n",
    "ix = index.create_in(\"indexdir\", schema)"
   ]
  },
  {
   "cell_type": "code",
   "execution_count": 17,
   "metadata": {},
   "outputs": [],
   "source": [
    "writer = ix.writer()"
   ]
  },
  {
   "cell_type": "code",
   "execution_count": 18,
   "metadata": {},
   "outputs": [],
   "source": [
    "xmlpath = \"application2017/ipa170105.xml\""
   ]
  },
  {
   "cell_type": "code",
   "execution_count": 21,
   "metadata": {},
   "outputs": [
    {
     "ename": "KeyboardInterrupt",
     "evalue": "",
     "output_type": "error",
     "traceback": [
      "\u001b[0;31m---------------------------------------------------------------------------\u001b[0m",
      "\u001b[0;31mKeyboardInterrupt\u001b[0m                         Traceback (most recent call last)",
      "\u001b[0;32m<ipython-input-21-741c168215b1>\u001b[0m in \u001b[0;36m<module>\u001b[0;34m()\u001b[0m\n\u001b[1;32m      5\u001b[0m     \u001b[0;32mwhile\u001b[0m \u001b[0mline\u001b[0m\u001b[0;34m:\u001b[0m\u001b[0;34m\u001b[0m\u001b[0m\n\u001b[1;32m      6\u001b[0m         \u001b[0mlnum\u001b[0m \u001b[0;34m+=\u001b[0m \u001b[0;36m1\u001b[0m\u001b[0;34m\u001b[0m\u001b[0m\n\u001b[0;32m----> 7\u001b[0;31m         \u001b[0mwriter\u001b[0m\u001b[0;34m.\u001b[0m\u001b[0madd_document\u001b[0m\u001b[0;34m(\u001b[0m\u001b[0mpath\u001b[0m\u001b[0;34m=\u001b[0m\u001b[0mxmlpath\u001b[0m\u001b[0;34m,\u001b[0m \u001b[0mline\u001b[0m\u001b[0;34m=\u001b[0m\u001b[0mline\u001b[0m\u001b[0;34m,\u001b[0m \u001b[0mline_num\u001b[0m\u001b[0;34m=\u001b[0m\u001b[0mlnum\u001b[0m\u001b[0;34m,\u001b[0m \u001b[0mpos\u001b[0m\u001b[0;34m=\u001b[0m\u001b[0mfpos\u001b[0m\u001b[0;34m)\u001b[0m\u001b[0;34m\u001b[0m\u001b[0m\n\u001b[0m\u001b[1;32m      8\u001b[0m         \u001b[0mline\u001b[0m \u001b[0;34m=\u001b[0m \u001b[0mf\u001b[0m\u001b[0;34m.\u001b[0m\u001b[0mreadline\u001b[0m\u001b[0;34m(\u001b[0m\u001b[0;34m)\u001b[0m\u001b[0;34m\u001b[0m\u001b[0m\n\u001b[1;32m      9\u001b[0m         \u001b[0mfpos\u001b[0m \u001b[0;34m=\u001b[0m \u001b[0mf\u001b[0m\u001b[0;34m.\u001b[0m\u001b[0mtell\u001b[0m\u001b[0;34m(\u001b[0m\u001b[0;34m)\u001b[0m\u001b[0;34m\u001b[0m\u001b[0m\n",
      "\u001b[0;32m/usr/local/lib/python3.5/dist-packages/whoosh/writing.py\u001b[0m in \u001b[0;36madd_document\u001b[0;34m(self, **fields)\u001b[0m\n\u001b[1;32m    748\u001b[0m                 \u001b[0mscorable\u001b[0m \u001b[0;34m=\u001b[0m \u001b[0mfield\u001b[0m\u001b[0;34m.\u001b[0m\u001b[0mscorable\u001b[0m\u001b[0;34m\u001b[0m\u001b[0m\n\u001b[1;32m    749\u001b[0m                 \u001b[0;31m# Add the terms to the pool\u001b[0m\u001b[0;34m\u001b[0m\u001b[0;34m\u001b[0m\u001b[0m\n\u001b[0;32m--> 750\u001b[0;31m                 \u001b[0;32mfor\u001b[0m \u001b[0mtbytes\u001b[0m\u001b[0;34m,\u001b[0m \u001b[0mfreq\u001b[0m\u001b[0;34m,\u001b[0m \u001b[0mweight\u001b[0m\u001b[0;34m,\u001b[0m \u001b[0mvbytes\u001b[0m \u001b[0;32min\u001b[0m \u001b[0mitems\u001b[0m\u001b[0;34m:\u001b[0m\u001b[0;34m\u001b[0m\u001b[0m\n\u001b[0m\u001b[1;32m    751\u001b[0m                     \u001b[0mweight\u001b[0m \u001b[0;34m*=\u001b[0m \u001b[0mfieldboost\u001b[0m\u001b[0;34m\u001b[0m\u001b[0m\n\u001b[1;32m    752\u001b[0m                     \u001b[0;32mif\u001b[0m \u001b[0mscorable\u001b[0m\u001b[0;34m:\u001b[0m\u001b[0;34m\u001b[0m\u001b[0m\n",
      "\u001b[0;32m/usr/local/lib/python3.5/dist-packages/whoosh/fields.py\u001b[0m in \u001b[0;36mindex\u001b[0;34m(self, value, **kwargs)\u001b[0m\n\u001b[1;32m    162\u001b[0m         \u001b[0mword_values\u001b[0m \u001b[0;34m=\u001b[0m \u001b[0mself\u001b[0m\u001b[0;34m.\u001b[0m\u001b[0mformat\u001b[0m\u001b[0;34m.\u001b[0m\u001b[0mword_values\u001b[0m\u001b[0;34m\u001b[0m\u001b[0m\n\u001b[1;32m    163\u001b[0m         \u001b[0mana\u001b[0m \u001b[0;34m=\u001b[0m \u001b[0mself\u001b[0m\u001b[0;34m.\u001b[0m\u001b[0manalyzer\u001b[0m\u001b[0;34m\u001b[0m\u001b[0m\n\u001b[0;32m--> 164\u001b[0;31m         \u001b[0;32mfor\u001b[0m \u001b[0mtstring\u001b[0m\u001b[0;34m,\u001b[0m \u001b[0mfreq\u001b[0m\u001b[0;34m,\u001b[0m \u001b[0mwt\u001b[0m\u001b[0;34m,\u001b[0m \u001b[0mvbytes\u001b[0m \u001b[0;32min\u001b[0m \u001b[0mword_values\u001b[0m\u001b[0;34m(\u001b[0m\u001b[0mvalue\u001b[0m\u001b[0;34m,\u001b[0m \u001b[0mana\u001b[0m\u001b[0;34m,\u001b[0m \u001b[0;34m**\u001b[0m\u001b[0mkwargs\u001b[0m\u001b[0;34m)\u001b[0m\u001b[0;34m:\u001b[0m\u001b[0;34m\u001b[0m\u001b[0m\n\u001b[0m\u001b[1;32m    165\u001b[0m             \u001b[0;32myield\u001b[0m \u001b[0;34m(\u001b[0m\u001b[0mutf8encode\u001b[0m\u001b[0;34m(\u001b[0m\u001b[0mtstring\u001b[0m\u001b[0;34m)\u001b[0m\u001b[0;34m[\u001b[0m\u001b[0;36m0\u001b[0m\u001b[0;34m]\u001b[0m\u001b[0;34m,\u001b[0m \u001b[0mfreq\u001b[0m\u001b[0;34m,\u001b[0m \u001b[0mwt\u001b[0m\u001b[0;34m,\u001b[0m \u001b[0mvbytes\u001b[0m\u001b[0;34m)\u001b[0m\u001b[0;34m\u001b[0m\u001b[0m\n\u001b[1;32m    166\u001b[0m \u001b[0;34m\u001b[0m\u001b[0m\n",
      "\u001b[0;32m/usr/local/lib/python3.5/dist-packages/whoosh/formats.py\u001b[0m in \u001b[0;36mword_values\u001b[0;34m(self, value, analyzer, **kwargs)\u001b[0m\n\u001b[1;32m    221\u001b[0m         \u001b[0mkwargs\u001b[0m\u001b[0;34m[\u001b[0m\u001b[0;34m\"positions\"\u001b[0m\u001b[0;34m]\u001b[0m \u001b[0;34m=\u001b[0m \u001b[0;32mTrue\u001b[0m\u001b[0;34m\u001b[0m\u001b[0m\n\u001b[1;32m    222\u001b[0m         \u001b[0mkwargs\u001b[0m\u001b[0;34m[\u001b[0m\u001b[0;34m\"boosts\"\u001b[0m\u001b[0;34m]\u001b[0m \u001b[0;34m=\u001b[0m \u001b[0;32mTrue\u001b[0m\u001b[0;34m\u001b[0m\u001b[0m\n\u001b[0;32m--> 223\u001b[0;31m         \u001b[0;32mfor\u001b[0m \u001b[0mt\u001b[0m \u001b[0;32min\u001b[0m \u001b[0mtokens\u001b[0m\u001b[0;34m(\u001b[0m\u001b[0mvalue\u001b[0m\u001b[0;34m,\u001b[0m \u001b[0manalyzer\u001b[0m\u001b[0;34m,\u001b[0m \u001b[0mkwargs\u001b[0m\u001b[0;34m)\u001b[0m\u001b[0;34m:\u001b[0m\u001b[0;34m\u001b[0m\u001b[0m\n\u001b[0m\u001b[1;32m    224\u001b[0m             \u001b[0mposes\u001b[0m\u001b[0;34m[\u001b[0m\u001b[0mt\u001b[0m\u001b[0;34m.\u001b[0m\u001b[0mtext\u001b[0m\u001b[0;34m]\u001b[0m\u001b[0;34m.\u001b[0m\u001b[0mappend\u001b[0m\u001b[0;34m(\u001b[0m\u001b[0mt\u001b[0m\u001b[0;34m.\u001b[0m\u001b[0mpos\u001b[0m\u001b[0;34m)\u001b[0m\u001b[0;34m\u001b[0m\u001b[0m\n\u001b[1;32m    225\u001b[0m             \u001b[0mweights\u001b[0m\u001b[0;34m[\u001b[0m\u001b[0mt\u001b[0m\u001b[0;34m.\u001b[0m\u001b[0mtext\u001b[0m\u001b[0;34m]\u001b[0m \u001b[0;34m+=\u001b[0m \u001b[0mt\u001b[0m\u001b[0;34m.\u001b[0m\u001b[0mboost\u001b[0m\u001b[0;34m\u001b[0m\u001b[0m\n",
      "\u001b[0;32m/usr/local/lib/python3.5/dist-packages/whoosh/analysis/acore.py\u001b[0m in \u001b[0;36m<genexpr>\u001b[0;34m(.0)\u001b[0m\n\u001b[1;32m     40\u001b[0m     \"\"\"Removes tokens from a token stream where token.stopped = True.\n\u001b[1;32m     41\u001b[0m     \"\"\"\n\u001b[0;32m---> 42\u001b[0;31m     \u001b[0;32mreturn\u001b[0m \u001b[0;34m(\u001b[0m\u001b[0mt\u001b[0m \u001b[0;32mfor\u001b[0m \u001b[0mt\u001b[0m \u001b[0;32min\u001b[0m \u001b[0mtokenstream\u001b[0m \u001b[0;32mif\u001b[0m \u001b[0;32mnot\u001b[0m \u001b[0mt\u001b[0m\u001b[0;34m.\u001b[0m\u001b[0mstopped\u001b[0m\u001b[0;34m)\u001b[0m\u001b[0;34m\u001b[0m\u001b[0m\n\u001b[0m\u001b[1;32m     43\u001b[0m \u001b[0;34m\u001b[0m\u001b[0m\n\u001b[1;32m     44\u001b[0m \u001b[0;34m\u001b[0m\u001b[0m\n",
      "\u001b[0;32m/usr/local/lib/python3.5/dist-packages/whoosh/analysis/filters.py\u001b[0m in \u001b[0;36m__call__\u001b[0;34m(self, tokens)\u001b[0m\n\u001b[1;32m    299\u001b[0m \u001b[0;34m\u001b[0m\u001b[0m\n\u001b[1;32m    300\u001b[0m         \u001b[0mpos\u001b[0m \u001b[0;34m=\u001b[0m \u001b[0;32mNone\u001b[0m\u001b[0;34m\u001b[0m\u001b[0m\n\u001b[0;32m--> 301\u001b[0;31m         \u001b[0;32mfor\u001b[0m \u001b[0mt\u001b[0m \u001b[0;32min\u001b[0m \u001b[0mtokens\u001b[0m\u001b[0;34m:\u001b[0m\u001b[0;34m\u001b[0m\u001b[0m\n\u001b[0m\u001b[1;32m    302\u001b[0m             \u001b[0mtext\u001b[0m \u001b[0;34m=\u001b[0m \u001b[0mt\u001b[0m\u001b[0;34m.\u001b[0m\u001b[0mtext\u001b[0m\u001b[0;34m\u001b[0m\u001b[0m\n\u001b[1;32m    303\u001b[0m             if (len(text) >= minsize\n",
      "\u001b[0;32m/usr/local/lib/python3.5/dist-packages/whoosh/analysis/filters.py\u001b[0m in \u001b[0;36m__call__\u001b[0;34m(self, tokens)\u001b[0m\n\u001b[1;32m    223\u001b[0m \u001b[0;34m\u001b[0m\u001b[0m\n\u001b[1;32m    224\u001b[0m     \u001b[0;32mdef\u001b[0m \u001b[0m__call__\u001b[0m\u001b[0;34m(\u001b[0m\u001b[0mself\u001b[0m\u001b[0;34m,\u001b[0m \u001b[0mtokens\u001b[0m\u001b[0;34m)\u001b[0m\u001b[0;34m:\u001b[0m\u001b[0;34m\u001b[0m\u001b[0m\n\u001b[0;32m--> 225\u001b[0;31m         \u001b[0;32mfor\u001b[0m \u001b[0mt\u001b[0m \u001b[0;32min\u001b[0m \u001b[0mtokens\u001b[0m\u001b[0;34m:\u001b[0m\u001b[0;34m\u001b[0m\u001b[0m\n\u001b[0m\u001b[1;32m    226\u001b[0m             \u001b[0mt\u001b[0m\u001b[0;34m.\u001b[0m\u001b[0mtext\u001b[0m \u001b[0;34m=\u001b[0m \u001b[0mt\u001b[0m\u001b[0;34m.\u001b[0m\u001b[0mtext\u001b[0m\u001b[0;34m.\u001b[0m\u001b[0mlower\u001b[0m\u001b[0;34m(\u001b[0m\u001b[0;34m)\u001b[0m\u001b[0;34m\u001b[0m\u001b[0m\n\u001b[1;32m    227\u001b[0m             \u001b[0;32myield\u001b[0m \u001b[0mt\u001b[0m\u001b[0;34m\u001b[0m\u001b[0m\n",
      "\u001b[0;32m/usr/local/lib/python3.5/dist-packages/whoosh/analysis/tokenizers.py\u001b[0m in \u001b[0;36m__call__\u001b[0;34m(self, value, positions, chars, keeporiginal, removestops, start_pos, start_char, tokenize, mode, **kwargs)\u001b[0m\n\u001b[1;32m    131\u001b[0m         \u001b[0;32melif\u001b[0m \u001b[0;32mnot\u001b[0m \u001b[0mself\u001b[0m\u001b[0;34m.\u001b[0m\u001b[0mgaps\u001b[0m\u001b[0;34m:\u001b[0m\u001b[0;34m\u001b[0m\u001b[0m\n\u001b[1;32m    132\u001b[0m             \u001b[0;31m# The default: expression matches are used as tokens\u001b[0m\u001b[0;34m\u001b[0m\u001b[0;34m\u001b[0m\u001b[0m\n\u001b[0;32m--> 133\u001b[0;31m             \u001b[0;32mfor\u001b[0m \u001b[0mpos\u001b[0m\u001b[0;34m,\u001b[0m \u001b[0mmatch\u001b[0m \u001b[0;32min\u001b[0m \u001b[0menumerate\u001b[0m\u001b[0;34m(\u001b[0m\u001b[0mself\u001b[0m\u001b[0;34m.\u001b[0m\u001b[0mexpression\u001b[0m\u001b[0;34m.\u001b[0m\u001b[0mfinditer\u001b[0m\u001b[0;34m(\u001b[0m\u001b[0mvalue\u001b[0m\u001b[0;34m)\u001b[0m\u001b[0;34m)\u001b[0m\u001b[0;34m:\u001b[0m\u001b[0;34m\u001b[0m\u001b[0m\n\u001b[0m\u001b[1;32m    134\u001b[0m                 \u001b[0mt\u001b[0m\u001b[0;34m.\u001b[0m\u001b[0mtext\u001b[0m \u001b[0;34m=\u001b[0m \u001b[0mmatch\u001b[0m\u001b[0;34m.\u001b[0m\u001b[0mgroup\u001b[0m\u001b[0;34m(\u001b[0m\u001b[0;36m0\u001b[0m\u001b[0;34m)\u001b[0m\u001b[0;34m\u001b[0m\u001b[0m\n\u001b[1;32m    135\u001b[0m                 \u001b[0mt\u001b[0m\u001b[0;34m.\u001b[0m\u001b[0mboost\u001b[0m \u001b[0;34m=\u001b[0m \u001b[0;36m1.0\u001b[0m\u001b[0;34m\u001b[0m\u001b[0m\n",
      "\u001b[0;31mKeyboardInterrupt\u001b[0m: "
     ]
    }
   ],
   "source": [
    "with open(\"../data/\" + xmlpath, \"r\") as f:\n",
    "    lnum = 0\n",
    "    fpos = 0\n",
    "    line = f.readline()\n",
    "    while line:\n",
    "        lnum += 1\n",
    "        writer.add_document(path=xmlpath, line=line, line_num=lnum, pos=fpos)\n",
    "        line = f.readline()\n",
    "        fpos = f.tell()\n",
    "\n",
    "writer.commit()\n",
    "ix.close()"
   ]
  },
  {
   "cell_type": "code",
   "execution_count": null,
   "metadata": {},
   "outputs": [],
   "source": []
  },
  {
   "cell_type": "code",
   "execution_count": null,
   "metadata": {},
   "outputs": [],
   "source": []
  },
  {
   "cell_type": "code",
   "execution_count": null,
   "metadata": {},
   "outputs": [],
   "source": []
  },
  {
   "cell_type": "code",
   "execution_count": null,
   "metadata": {},
   "outputs": [],
   "source": []
  },
  {
   "cell_type": "code",
   "execution_count": null,
   "metadata": {},
   "outputs": [],
   "source": []
  },
  {
   "cell_type": "code",
   "execution_count": null,
   "metadata": {},
   "outputs": [],
   "source": []
  },
  {
   "cell_type": "code",
   "execution_count": null,
   "metadata": {},
   "outputs": [],
   "source": []
  }
 ],
 "metadata": {
  "kernelspec": {
   "display_name": "Python 3",
   "language": "python",
   "name": "python3"
  },
  "language_info": {
   "codemirror_mode": {
    "name": "ipython",
    "version": 3
   },
   "file_extension": ".py",
   "mimetype": "text/x-python",
   "name": "python",
   "nbconvert_exporter": "python",
   "pygments_lexer": "ipython3",
   "version": "3.5.2"
  }
 },
 "nbformat": 4,
 "nbformat_minor": 2
}
