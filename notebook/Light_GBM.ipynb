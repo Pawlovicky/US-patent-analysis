{
 "cells": [
  {
   "cell_type": "markdown",
   "metadata": {},
   "source": [
    "# Baseline model\n",
    "\n",
    "Just predict true if tf-idf cosin distance is closer than threshold.\n",
    "\n",
    "This is intended for simplest end-to-end solution."
   ]
  },
  {
   "cell_type": "markdown",
   "metadata": {},
   "source": [
    "### Download data of training-test set 1000. (prerequisite)\n",
    "\n",
    "Created by Paul_to_2000_dataset.ipynb.\n",
    "gsutil is easier to use outside from docker container.\n",
    "\n",
    "\n",
    "```\n",
    "gsutil cp gs://karino2-uspatent/citations_info_2000.df.gz ../data/\n",
    "gsutil cp gs://karino2-uspatent/testset_app_1000.df.gz ../data/\n",
    "gsutil cp gs://karino2-uspatent/training_app_1000.df.gz ../data/\n",
    "gsutil cp gs://karino2-uspatent/grants_for_2000.df.gz ../data/\n",
    "\n",
    "```"
   ]
  },
  {
   "cell_type": "markdown",
   "metadata": {},
   "source": [
    "### Load data set"
   ]
  },
  {
   "cell_type": "code",
   "execution_count": 1,
   "metadata": {},
   "outputs": [],
   "source": [
    "import pandas as pd\n",
    "import numpy as np"
   ]
  },
  {
   "cell_type": "code",
   "execution_count": 13,
   "metadata": {},
   "outputs": [],
   "source": []
  },
  {
   "cell_type": "code",
   "execution_count": 2,
   "metadata": {},
   "outputs": [],
   "source": [
    "citations_info_target = pd.read_pickle(\"../data/citations_info_2000.df.gz\")\n",
    "training_app_df = pd.read_pickle(\"../data/training_app_1000.df.gz\")\n",
    "testset_app_df = pd.read_pickle(\"../data/testset_app_1000.df.gz\")\n",
    "grants_target_df = pd.read_pickle(\"../data/grants_for_2000.df.gz\")"
   ]
  },
  {
   "cell_type": "code",
   "execution_count": 3,
   "metadata": {},
   "outputs": [
    {
     "data": {
      "text/plain": [
       "(4179, 41)"
      ]
     },
     "execution_count": 3,
     "metadata": {},
     "output_type": "execute_result"
    }
   ],
   "source": [
    "citations_info_target.shape"
   ]
  },
  {
   "cell_type": "code",
   "execution_count": 5,
   "metadata": {},
   "outputs": [
    {
     "data": {
      "text/plain": [
       "0    14222691\n",
       "1    12515852\n",
       "2    12033424\n",
       "3    12402344\n",
       "4    12155425\n",
       "Name: app_id, dtype: int64"
      ]
     },
     "execution_count": 5,
     "metadata": {},
     "output_type": "execute_result"
    }
   ],
   "source": [
    "training_app_df.head().app_id"
   ]
  },
  {
   "cell_type": "raw",
   "metadata": {},
   "source": [
    "Expected\n",
    "\n",
    "0    14222691\n",
    "1    12515852\n",
    "2    12033424\n",
    "3    12402344\n",
    "4    12155425"
   ]
  },
  {
   "cell_type": "code",
   "execution_count": 7,
   "metadata": {},
   "outputs": [
    {
     "data": {
      "text/plain": [
       "0    14307191\n",
       "1    13137006\n",
       "2    12741959\n",
       "3    12643447\n",
       "4    14200253\n",
       "Name: app_id, dtype: int64"
      ]
     },
     "execution_count": 7,
     "metadata": {},
     "output_type": "execute_result"
    }
   ],
   "source": [
    "testset_app_df.head().app_id"
   ]
  },
  {
   "cell_type": "raw",
   "metadata": {},
   "source": [
    "Expected.\n",
    "0    14307191\n",
    "1    13137006\n",
    "2    12741959\n",
    "3    12643447\n",
    "4    14200253"
   ]
  },
  {
   "cell_type": "code",
   "execution_count": 16,
   "metadata": {},
   "outputs": [
    {
     "data": {
      "text/plain": [
       "(2524, 2)"
      ]
     },
     "execution_count": 16,
     "metadata": {},
     "output_type": "execute_result"
    }
   ],
   "source": [
    "grants_target_df.shape"
   ]
  },
  {
   "cell_type": "code",
   "execution_count": null,
   "metadata": {},
   "outputs": [],
   "source": []
  },
  {
   "cell_type": "markdown",
   "metadata": {},
   "source": [
    "### Retrieve just claim. Remove all tags.\n",
    "\n",
    "This utility function might necessary for any mode."
   ]
  },
  {
   "cell_type": "code",
   "execution_count": null,
   "metadata": {},
   "outputs": [],
   "source": []
  },
  {
   "cell_type": "code",
   "execution_count": 3,
   "metadata": {},
   "outputs": [],
   "source": [
    "import re"
   ]
  },
  {
   "cell_type": "code",
   "execution_count": 4,
   "metadata": {},
   "outputs": [],
   "source": [
    "CLAIM_PAT = re.compile(r'<claims[^>]*>(.*)</claims>',re.MULTILINE|re.DOTALL)"
   ]
  },
  {
   "cell_type": "code",
   "execution_count": 5,
   "metadata": {},
   "outputs": [],
   "source": [
    "TAG_PAT = re.compile(r\"<.*?>\")"
   ]
  },
  {
   "cell_type": "code",
   "execution_count": 6,
   "metadata": {},
   "outputs": [],
   "source": [
    "def whole_xml_to_claim_xml(whole):\n",
    "    mat = CLAIM_PAT.search(whole)\n",
    "    return mat.group(1)"
   ]
  },
  {
   "cell_type": "code",
   "execution_count": 7,
   "metadata": {},
   "outputs": [],
   "source": [
    "def whole_xml_to_claim(whole):\n",
    "    return TAG_PAT.sub(' ', whole_xml_to_claim_xml(whole))"
   ]
  },
  {
   "cell_type": "code",
   "execution_count": null,
   "metadata": {},
   "outputs": [],
   "source": []
  },
  {
   "cell_type": "code",
   "execution_count": null,
   "metadata": {},
   "outputs": [],
   "source": []
  },
  {
   "cell_type": "markdown",
   "metadata": {},
   "source": [
    "# Model evaluation"
   ]
  },
  {
   "cell_type": "code",
   "execution_count": null,
   "metadata": {},
   "outputs": [],
   "source": []
  },
  {
   "cell_type": "code",
   "execution_count": 8,
   "metadata": {},
   "outputs": [
    {
     "data": {
      "text/html": [
       "<div>\n",
       "<style scoped>\n",
       "    .dataframe tbody tr th:only-of-type {\n",
       "        vertical-align: middle;\n",
       "    }\n",
       "\n",
       "    .dataframe tbody tr th {\n",
       "        vertical-align: top;\n",
       "    }\n",
       "\n",
       "    .dataframe thead th {\n",
       "        text-align: right;\n",
       "    }\n",
       "</style>\n",
       "<table border=\"1\" class=\"dataframe\">\n",
       "  <thead>\n",
       "    <tr style=\"text-align: right;\">\n",
       "      <th></th>\n",
       "      <th>app_id</th>\n",
       "      <th>app_fnm</th>\n",
       "      <th>citation_pat_pgpub_id</th>\n",
       "      <th>parsed</th>\n",
       "      <th>ifw_number</th>\n",
       "      <th>action_type</th>\n",
       "      <th>action_subtype</th>\n",
       "      <th>form892</th>\n",
       "      <th>form1449</th>\n",
       "      <th>citation_in_oa</th>\n",
       "      <th>...</th>\n",
       "      <th>rejection_103</th>\n",
       "      <th>rejection_112</th>\n",
       "      <th>rejection_dp</th>\n",
       "      <th>objection</th>\n",
       "      <th>allowed_claims</th>\n",
       "      <th>cite102_gt1</th>\n",
       "      <th>cite103_gt3</th>\n",
       "      <th>cite103_eq1</th>\n",
       "      <th>cite103_max</th>\n",
       "      <th>signature_type</th>\n",
       "    </tr>\n",
       "  </thead>\n",
       "  <tbody>\n",
       "    <tr>\n",
       "      <th>0</th>\n",
       "      <td>13371769</td>\n",
       "      <td>/work/data/apps/2012/ipa120607/F_2322.xml</td>\n",
       "      <td>7391316</td>\n",
       "      <td>7391316</td>\n",
       "      <td>H20LX5QGPXXIFW4</td>\n",
       "      <td>103.0</td>\n",
       "      <td>a</td>\n",
       "      <td>1</td>\n",
       "      <td>0</td>\n",
       "      <td>1</td>\n",
       "      <td>...</td>\n",
       "      <td>1</td>\n",
       "      <td>0</td>\n",
       "      <td>1</td>\n",
       "      <td>0</td>\n",
       "      <td>0</td>\n",
       "      <td>0</td>\n",
       "      <td>0</td>\n",
       "      <td>1</td>\n",
       "      <td>2</td>\n",
       "      <td>0</td>\n",
       "    </tr>\n",
       "    <tr>\n",
       "      <th>1</th>\n",
       "      <td>13371769</td>\n",
       "      <td>/work/data/apps/2012/ipa120607/F_2322.xml</td>\n",
       "      <td>6992580</td>\n",
       "      <td>6992580</td>\n",
       "      <td>H20LX5QGPXXIFW4</td>\n",
       "      <td>102.0</td>\n",
       "      <td>a</td>\n",
       "      <td>1</td>\n",
       "      <td>1</td>\n",
       "      <td>1</td>\n",
       "      <td>...</td>\n",
       "      <td>1</td>\n",
       "      <td>0</td>\n",
       "      <td>1</td>\n",
       "      <td>0</td>\n",
       "      <td>0</td>\n",
       "      <td>0</td>\n",
       "      <td>0</td>\n",
       "      <td>1</td>\n",
       "      <td>2</td>\n",
       "      <td>0</td>\n",
       "    </tr>\n",
       "    <tr>\n",
       "      <th>2</th>\n",
       "      <td>13371769</td>\n",
       "      <td>/work/data/apps/2012/ipa120607/F_2322.xml</td>\n",
       "      <td>6992580</td>\n",
       "      <td>6992580</td>\n",
       "      <td>H20LX5QGPXXIFW4</td>\n",
       "      <td>103.0</td>\n",
       "      <td>a</td>\n",
       "      <td>1</td>\n",
       "      <td>1</td>\n",
       "      <td>1</td>\n",
       "      <td>...</td>\n",
       "      <td>1</td>\n",
       "      <td>0</td>\n",
       "      <td>1</td>\n",
       "      <td>0</td>\n",
       "      <td>0</td>\n",
       "      <td>0</td>\n",
       "      <td>0</td>\n",
       "      <td>1</td>\n",
       "      <td>2</td>\n",
       "      <td>0</td>\n",
       "    </tr>\n",
       "    <tr>\n",
       "      <th>3</th>\n",
       "      <td>13371769</td>\n",
       "      <td>/work/data/apps/2012/ipa120607/F_2322.xml</td>\n",
       "      <td>7774833</td>\n",
       "      <td>7774833</td>\n",
       "      <td>H20LX5QGPXXIFW4</td>\n",
       "      <td>103.0</td>\n",
       "      <td>a</td>\n",
       "      <td>1</td>\n",
       "      <td>1</td>\n",
       "      <td>1</td>\n",
       "      <td>...</td>\n",
       "      <td>1</td>\n",
       "      <td>0</td>\n",
       "      <td>1</td>\n",
       "      <td>0</td>\n",
       "      <td>0</td>\n",
       "      <td>0</td>\n",
       "      <td>0</td>\n",
       "      <td>1</td>\n",
       "      <td>2</td>\n",
       "      <td>0</td>\n",
       "    </tr>\n",
       "    <tr>\n",
       "      <th>4</th>\n",
       "      <td>12282000</td>\n",
       "      <td>/work/data/apps/2009/ipa090312/F_1385.xml</td>\n",
       "      <td>7411209</td>\n",
       "      <td>7411209</td>\n",
       "      <td>G9LENRJ8PPOPPY5</td>\n",
       "      <td>102.0</td>\n",
       "      <td>a</td>\n",
       "      <td>0</td>\n",
       "      <td>1</td>\n",
       "      <td>1</td>\n",
       "      <td>...</td>\n",
       "      <td>1</td>\n",
       "      <td>0</td>\n",
       "      <td>0</td>\n",
       "      <td>0</td>\n",
       "      <td>0</td>\n",
       "      <td>1</td>\n",
       "      <td>0</td>\n",
       "      <td>1</td>\n",
       "      <td>1</td>\n",
       "      <td>3</td>\n",
       "    </tr>\n",
       "  </tbody>\n",
       "</table>\n",
       "<p>5 rows × 41 columns</p>\n",
       "</div>"
      ],
      "text/plain": [
       "     app_id                                    app_fnm citation_pat_pgpub_id  \\\n",
       "0  13371769  /work/data/apps/2012/ipa120607/F_2322.xml               7391316   \n",
       "1  13371769  /work/data/apps/2012/ipa120607/F_2322.xml               6992580   \n",
       "2  13371769  /work/data/apps/2012/ipa120607/F_2322.xml               6992580   \n",
       "3  13371769  /work/data/apps/2012/ipa120607/F_2322.xml               7774833   \n",
       "4  12282000  /work/data/apps/2009/ipa090312/F_1385.xml               7411209   \n",
       "\n",
       "    parsed       ifw_number  action_type action_subtype  form892  form1449  \\\n",
       "0  7391316  H20LX5QGPXXIFW4        103.0              a        1         0   \n",
       "1  6992580  H20LX5QGPXXIFW4        102.0              a        1         1   \n",
       "2  6992580  H20LX5QGPXXIFW4        103.0              a        1         1   \n",
       "3  7774833  H20LX5QGPXXIFW4        103.0              a        1         1   \n",
       "4  7411209  G9LENRJ8PPOPPY5        102.0              a        0         1   \n",
       "\n",
       "   citation_in_oa      ...       rejection_103  rejection_112  rejection_dp  \\\n",
       "0               1      ...                   1              0             1   \n",
       "1               1      ...                   1              0             1   \n",
       "2               1      ...                   1              0             1   \n",
       "3               1      ...                   1              0             1   \n",
       "4               1      ...                   1              0             0   \n",
       "\n",
       "   objection allowed_claims cite102_gt1  cite103_gt3 cite103_eq1  cite103_max  \\\n",
       "0          0              0           0            0           1            2   \n",
       "1          0              0           0            0           1            2   \n",
       "2          0              0           0            0           1            2   \n",
       "3          0              0           0            0           1            2   \n",
       "4          0              0           1            0           1            1   \n",
       "\n",
       "  signature_type  \n",
       "0              0  \n",
       "1              0  \n",
       "2              0  \n",
       "3              0  \n",
       "4              3  \n",
       "\n",
       "[5 rows x 41 columns]"
      ]
     },
     "execution_count": 8,
     "metadata": {},
     "output_type": "execute_result"
    }
   ],
   "source": [
    "citations_info_target.head()"
   ]
  },
  {
   "cell_type": "code",
   "execution_count": null,
   "metadata": {},
   "outputs": [],
   "source": []
  },
  {
   "cell_type": "code",
   "execution_count": null,
   "metadata": {},
   "outputs": [],
   "source": []
  },
  {
   "cell_type": "code",
   "execution_count": 9,
   "metadata": {},
   "outputs": [],
   "source": [
    "def set_one_answer_appid(labeldf, oneappid):\n",
    "    cited_patids = citations_info_target[citations_info_target.app_id == oneappid].parsed\n",
    "    labeldf.loc[oneappid] = labeldf.columns.isin(cited_patids)"
   ]
  },
  {
   "cell_type": "code",
   "execution_count": null,
   "metadata": {},
   "outputs": [],
   "source": []
  },
  {
   "cell_type": "code",
   "execution_count": 10,
   "metadata": {},
   "outputs": [],
   "source": [
    "def create_label_df():\n",
    "    label_df = pd.DataFrame(columns=grants_target_df.parsed.values, dtype=np.bool)\n",
    "    for appid in testset_app_df.app_id:\n",
    "        set_one_answer_appid(label_df, appid)\n",
    "    return label_df"
   ]
  },
  {
   "cell_type": "code",
   "execution_count": 11,
   "metadata": {},
   "outputs": [],
   "source": [
    "label_df = create_label_df()"
   ]
  },
  {
   "cell_type": "code",
   "execution_count": 12,
   "metadata": {},
   "outputs": [
    {
     "data": {
      "text/plain": [
       "(1000, 2524)"
      ]
     },
     "execution_count": 12,
     "metadata": {},
     "output_type": "execute_result"
    }
   ],
   "source": [
    "label_df.shape"
   ]
  },
  {
   "cell_type": "code",
   "execution_count": null,
   "metadata": {},
   "outputs": [],
   "source": []
  },
  {
   "cell_type": "markdown",
   "metadata": {},
   "source": [
    "### Cofirm label df is correct"
   ]
  },
  {
   "cell_type": "code",
   "execution_count": 13,
   "metadata": {},
   "outputs": [
    {
     "data": {
      "text/html": [
       "<div>\n",
       "<style scoped>\n",
       "    .dataframe tbody tr th:only-of-type {\n",
       "        vertical-align: middle;\n",
       "    }\n",
       "\n",
       "    .dataframe tbody tr th {\n",
       "        vertical-align: top;\n",
       "    }\n",
       "\n",
       "    .dataframe thead th {\n",
       "        text-align: right;\n",
       "    }\n",
       "</style>\n",
       "<table border=\"1\" class=\"dataframe\">\n",
       "  <thead>\n",
       "    <tr style=\"text-align: right;\">\n",
       "      <th></th>\n",
       "      <th>app_id</th>\n",
       "      <th>xml</th>\n",
       "    </tr>\n",
       "  </thead>\n",
       "  <tbody>\n",
       "    <tr>\n",
       "      <th>0</th>\n",
       "      <td>14307191</td>\n",
       "      <td>&lt;us-patent-application lang=\"EN\" dtd-version=\"...</td>\n",
       "    </tr>\n",
       "    <tr>\n",
       "      <th>1</th>\n",
       "      <td>13137006</td>\n",
       "      <td>&lt;us-patent-application lang=\"EN\" dtd-version=\"...</td>\n",
       "    </tr>\n",
       "    <tr>\n",
       "      <th>2</th>\n",
       "      <td>12741959</td>\n",
       "      <td>&lt;us-patent-application lang=\"EN\" dtd-version=\"...</td>\n",
       "    </tr>\n",
       "    <tr>\n",
       "      <th>3</th>\n",
       "      <td>12643447</td>\n",
       "      <td>&lt;us-patent-application lang=\"EN\" dtd-version=\"...</td>\n",
       "    </tr>\n",
       "    <tr>\n",
       "      <th>4</th>\n",
       "      <td>14200253</td>\n",
       "      <td>&lt;us-patent-application lang=\"EN\" dtd-version=\"...</td>\n",
       "    </tr>\n",
       "  </tbody>\n",
       "</table>\n",
       "</div>"
      ],
      "text/plain": [
       "     app_id                                                xml\n",
       "0  14307191  <us-patent-application lang=\"EN\" dtd-version=\"...\n",
       "1  13137006  <us-patent-application lang=\"EN\" dtd-version=\"...\n",
       "2  12741959  <us-patent-application lang=\"EN\" dtd-version=\"...\n",
       "3  12643447  <us-patent-application lang=\"EN\" dtd-version=\"...\n",
       "4  14200253  <us-patent-application lang=\"EN\" dtd-version=\"..."
      ]
     },
     "execution_count": 13,
     "metadata": {},
     "output_type": "execute_result"
    }
   ],
   "source": [
    "testset_app_df.head()"
   ]
  },
  {
   "cell_type": "code",
   "execution_count": 14,
   "metadata": {},
   "outputs": [
    {
     "data": {
      "text/html": [
       "<div>\n",
       "<style scoped>\n",
       "    .dataframe tbody tr th:only-of-type {\n",
       "        vertical-align: middle;\n",
       "    }\n",
       "\n",
       "    .dataframe tbody tr th {\n",
       "        vertical-align: top;\n",
       "    }\n",
       "\n",
       "    .dataframe thead th {\n",
       "        text-align: right;\n",
       "    }\n",
       "</style>\n",
       "<table border=\"1\" class=\"dataframe\">\n",
       "  <thead>\n",
       "    <tr style=\"text-align: right;\">\n",
       "      <th></th>\n",
       "      <th>6837383</th>\n",
       "      <th>6837647</th>\n",
       "      <th>6837799</th>\n",
       "      <th>6837893</th>\n",
       "      <th>6837910</th>\n",
       "      <th>6838140</th>\n",
       "      <th>6838207</th>\n",
       "      <th>6838507</th>\n",
       "      <th>6838812</th>\n",
       "      <th>6838925</th>\n",
       "      <th>...</th>\n",
       "      <th>8334161</th>\n",
       "      <th>8334431</th>\n",
       "      <th>8334887</th>\n",
       "      <th>8336128</th>\n",
       "      <th>8336158</th>\n",
       "      <th>8336789</th>\n",
       "      <th>8336964</th>\n",
       "      <th>8337193</th>\n",
       "      <th>8339697</th>\n",
       "      <th>8340894</th>\n",
       "    </tr>\n",
       "  </thead>\n",
       "  <tbody>\n",
       "    <tr>\n",
       "      <th>14307191</th>\n",
       "      <td>False</td>\n",
       "      <td>False</td>\n",
       "      <td>False</td>\n",
       "      <td>False</td>\n",
       "      <td>False</td>\n",
       "      <td>False</td>\n",
       "      <td>False</td>\n",
       "      <td>False</td>\n",
       "      <td>False</td>\n",
       "      <td>False</td>\n",
       "      <td>...</td>\n",
       "      <td>False</td>\n",
       "      <td>False</td>\n",
       "      <td>False</td>\n",
       "      <td>False</td>\n",
       "      <td>False</td>\n",
       "      <td>False</td>\n",
       "      <td>False</td>\n",
       "      <td>False</td>\n",
       "      <td>False</td>\n",
       "      <td>False</td>\n",
       "    </tr>\n",
       "    <tr>\n",
       "      <th>13137006</th>\n",
       "      <td>False</td>\n",
       "      <td>False</td>\n",
       "      <td>False</td>\n",
       "      <td>False</td>\n",
       "      <td>False</td>\n",
       "      <td>False</td>\n",
       "      <td>False</td>\n",
       "      <td>False</td>\n",
       "      <td>False</td>\n",
       "      <td>False</td>\n",
       "      <td>...</td>\n",
       "      <td>False</td>\n",
       "      <td>False</td>\n",
       "      <td>False</td>\n",
       "      <td>False</td>\n",
       "      <td>False</td>\n",
       "      <td>False</td>\n",
       "      <td>False</td>\n",
       "      <td>False</td>\n",
       "      <td>False</td>\n",
       "      <td>False</td>\n",
       "    </tr>\n",
       "    <tr>\n",
       "      <th>12741959</th>\n",
       "      <td>False</td>\n",
       "      <td>False</td>\n",
       "      <td>False</td>\n",
       "      <td>False</td>\n",
       "      <td>False</td>\n",
       "      <td>False</td>\n",
       "      <td>False</td>\n",
       "      <td>False</td>\n",
       "      <td>False</td>\n",
       "      <td>False</td>\n",
       "      <td>...</td>\n",
       "      <td>False</td>\n",
       "      <td>False</td>\n",
       "      <td>False</td>\n",
       "      <td>False</td>\n",
       "      <td>False</td>\n",
       "      <td>False</td>\n",
       "      <td>False</td>\n",
       "      <td>False</td>\n",
       "      <td>False</td>\n",
       "      <td>False</td>\n",
       "    </tr>\n",
       "    <tr>\n",
       "      <th>12643447</th>\n",
       "      <td>False</td>\n",
       "      <td>False</td>\n",
       "      <td>False</td>\n",
       "      <td>False</td>\n",
       "      <td>False</td>\n",
       "      <td>False</td>\n",
       "      <td>False</td>\n",
       "      <td>False</td>\n",
       "      <td>False</td>\n",
       "      <td>False</td>\n",
       "      <td>...</td>\n",
       "      <td>False</td>\n",
       "      <td>False</td>\n",
       "      <td>False</td>\n",
       "      <td>False</td>\n",
       "      <td>False</td>\n",
       "      <td>False</td>\n",
       "      <td>False</td>\n",
       "      <td>False</td>\n",
       "      <td>False</td>\n",
       "      <td>False</td>\n",
       "    </tr>\n",
       "    <tr>\n",
       "      <th>14200253</th>\n",
       "      <td>False</td>\n",
       "      <td>False</td>\n",
       "      <td>False</td>\n",
       "      <td>False</td>\n",
       "      <td>False</td>\n",
       "      <td>False</td>\n",
       "      <td>False</td>\n",
       "      <td>False</td>\n",
       "      <td>False</td>\n",
       "      <td>False</td>\n",
       "      <td>...</td>\n",
       "      <td>False</td>\n",
       "      <td>False</td>\n",
       "      <td>False</td>\n",
       "      <td>False</td>\n",
       "      <td>False</td>\n",
       "      <td>False</td>\n",
       "      <td>False</td>\n",
       "      <td>False</td>\n",
       "      <td>False</td>\n",
       "      <td>False</td>\n",
       "    </tr>\n",
       "  </tbody>\n",
       "</table>\n",
       "<p>5 rows × 2524 columns</p>\n",
       "</div>"
      ],
      "text/plain": [
       "          6837383  6837647  6837799  6837893  6837910  6838140  6838207  \\\n",
       "14307191    False    False    False    False    False    False    False   \n",
       "13137006    False    False    False    False    False    False    False   \n",
       "12741959    False    False    False    False    False    False    False   \n",
       "12643447    False    False    False    False    False    False    False   \n",
       "14200253    False    False    False    False    False    False    False   \n",
       "\n",
       "          6838507  6838812  6838925   ...     8334161  8334431  8334887  \\\n",
       "14307191    False    False    False   ...       False    False    False   \n",
       "13137006    False    False    False   ...       False    False    False   \n",
       "12741959    False    False    False   ...       False    False    False   \n",
       "12643447    False    False    False   ...       False    False    False   \n",
       "14200253    False    False    False   ...       False    False    False   \n",
       "\n",
       "          8336128  8336158  8336789  8336964  8337193  8339697  8340894  \n",
       "14307191    False    False    False    False    False    False    False  \n",
       "13137006    False    False    False    False    False    False    False  \n",
       "12741959    False    False    False    False    False    False    False  \n",
       "12643447    False    False    False    False    False    False    False  \n",
       "14200253    False    False    False    False    False    False    False  \n",
       "\n",
       "[5 rows x 2524 columns]"
      ]
     },
     "execution_count": 14,
     "metadata": {},
     "output_type": "execute_result"
    }
   ],
   "source": [
    "label_df.head()"
   ]
  },
  {
   "cell_type": "code",
   "execution_count": 15,
   "metadata": {},
   "outputs": [
    {
     "data": {
      "text/plain": [
       "7576688"
      ]
     },
     "execution_count": 15,
     "metadata": {},
     "output_type": "execute_result"
    }
   ],
   "source": [
    "label_df.loc[14307191].idxmax()"
   ]
  },
  {
   "cell_type": "code",
   "execution_count": 16,
   "metadata": {},
   "outputs": [
    {
     "data": {
      "text/plain": [
       "698    7576688\n",
       "Name: parsed, dtype: int64"
      ]
     },
     "execution_count": 16,
     "metadata": {},
     "output_type": "execute_result"
    }
   ],
   "source": [
    "citations_info_target[citations_info_target[\"app_id\"]==14307191].parsed"
   ]
  },
  {
   "cell_type": "code",
   "execution_count": 17,
   "metadata": {},
   "outputs": [
    {
     "data": {
      "text/plain": [
       "True"
      ]
     },
     "execution_count": 17,
     "metadata": {},
     "output_type": "execute_result"
    }
   ],
   "source": [
    "label_df.loc[14307191].loc[7576688]"
   ]
  },
  {
   "cell_type": "code",
   "execution_count": 18,
   "metadata": {},
   "outputs": [
    {
     "data": {
      "text/plain": [
       "1"
      ]
     },
     "execution_count": 18,
     "metadata": {},
     "output_type": "execute_result"
    }
   ],
   "source": [
    "label_df.loc[14307191].sum()"
   ]
  },
  {
   "cell_type": "code",
   "execution_count": null,
   "metadata": {},
   "outputs": [],
   "source": []
  },
  {
   "cell_type": "code",
   "execution_count": null,
   "metadata": {},
   "outputs": [],
   "source": []
  },
  {
   "cell_type": "code",
   "execution_count": null,
   "metadata": {},
   "outputs": [],
   "source": []
  },
  {
   "cell_type": "markdown",
   "metadata": {},
   "source": [
    "### Predict test set and print summary"
   ]
  },
  {
   "cell_type": "code",
   "execution_count": null,
   "metadata": {},
   "outputs": [],
   "source": []
  },
  {
   "cell_type": "code",
   "execution_count": 19,
   "metadata": {},
   "outputs": [],
   "source": [
    "def predict_test_set(predict_func):\n",
    "    \"\"\"\n",
    "    predict_func(claims) return NxM of boolean. N is len(claims). M is rownum of grants_target_df.\n",
    "            value indicate n claim is cite patent of m row of grants_all_df.\n",
    "    \"\"\"\n",
    "    predictdf = pd.DataFrame(columns=grants_target_df.parsed.values, dtype=np.bool)\n",
    "    res = predict_func(testset_app_df[\"xml\"].map(whole_xml_to_claim))\n",
    "    for idx, appid in enumerate(testset_app_df.app_id):\n",
    "        predictdf.loc[appid] = res[idx, :]\n",
    "    return predictdf"
   ]
  },
  {
   "cell_type": "code",
   "execution_count": 20,
   "metadata": {},
   "outputs": [],
   "source": [
    "def calc_TPs(preddf, labeldf):\n",
    "    return sum([sum(preddf.loc[one_appid][labeldf.loc[one_appid]]) for one_appid in testset_app_df.app_id])\n",
    "\n",
    "def calc_FPs(preddf, labeldf):\n",
    "    return sum([sum(preddf.loc[one_appid][~labeldf.loc[one_appid]]) for one_appid in testset_app_df.app_id])\n",
    "\n",
    "def calc_TNs(preddf, labeldf):\n",
    "    return sum([sum(preddf.loc[one_appid][~labeldf.loc[one_appid]] == False) for one_appid in testset_app_df.app_id])\n",
    "\n",
    "def calc_FNs(preddf, labeldf):\n",
    "    return sum([sum(preddf.loc[one_appid][labeldf.loc[one_appid]] == False) for one_appid in testset_app_df.app_id])\n",
    "\n",
    "def calc_TFPNs(preddf, labeldf):\n",
    "    return calc_TPs(preddf, labeldf), calc_FPs(preddf, labeldf), calc_TNs(preddf, labeldf), calc_FNs(preddf, labeldf)"
   ]
  },
  {
   "cell_type": "code",
   "execution_count": 21,
   "metadata": {},
   "outputs": [],
   "source": [
    "def calc_summary_TFPNs(TP, FP, TN, FN):\n",
    "    \"return acc, prec, recall, f1.\"\n",
    "    return pd.DataFrame(columns=[\"acc\", \"prec\", \"recall\", \"f1\"], data=[[(TP+TN)/(TP+FP+TN+FN), TP/(TP+FP), TP/(TP+FN), 2*TP/(2*TP+FP+FN)]])\n",
    "    \n",
    "def calc_summary(preddf, labeldf):\n",
    "    TP, FP, TN, FN = calc_TFPNs(preddf, labeldf)\n",
    "    return calc_summary_TFPNs(TP, FP, TN, FN)"
   ]
  },
  {
   "cell_type": "code",
   "execution_count": null,
   "metadata": {},
   "outputs": [],
   "source": []
  },
  {
   "cell_type": "markdown",
   "metadata": {},
   "source": [
    "### Sample evaluation code for baseline model\n",
    "\n",
    "predict_tfidf_model is defined below. eval here later.\n",
    "\n",
    "This is because these cells are model independent and use for other models, while predict_tfidf_model is model dependent codes."
   ]
  },
  {
   "cell_type": "code",
   "execution_count": 22,
   "metadata": {},
   "outputs": [
    {
     "ename": "NameError",
     "evalue": "name 'predict_tfidf_model' is not defined",
     "output_type": "error",
     "traceback": [
      "\u001b[0;31m---------------------------------------------------------------------------\u001b[0m",
      "\u001b[0;31mNameError\u001b[0m                                 Traceback (most recent call last)",
      "\u001b[0;32m<ipython-input-22-ac27e1274b3e>\u001b[0m in \u001b[0;36m<module>\u001b[0;34m()\u001b[0m\n\u001b[0;32m----> 1\u001b[0;31m \u001b[0mpred_df\u001b[0m \u001b[0;34m=\u001b[0m \u001b[0mpredict_test_set\u001b[0m\u001b[0;34m(\u001b[0m\u001b[0mpredict_tfidf_model\u001b[0m\u001b[0;34m)\u001b[0m\u001b[0;34m\u001b[0m\u001b[0m\n\u001b[0m",
      "\u001b[0;31mNameError\u001b[0m: name 'predict_tfidf_model' is not defined"
     ]
    }
   ],
   "source": [
    "pred_df = predict_test_set(predict_tfidf_model)"
   ]
  },
  {
   "cell_type": "code",
   "execution_count": 23,
   "metadata": {},
   "outputs": [
    {
     "ename": "NameError",
     "evalue": "name 'pred_df' is not defined",
     "output_type": "error",
     "traceback": [
      "\u001b[0;31m---------------------------------------------------------------------------\u001b[0m",
      "\u001b[0;31mNameError\u001b[0m                                 Traceback (most recent call last)",
      "\u001b[0;32m<ipython-input-23-0064c7ba42c1>\u001b[0m in \u001b[0;36m<module>\u001b[0;34m()\u001b[0m\n\u001b[0;32m----> 1\u001b[0;31m \u001b[0mcalc_summary\u001b[0m\u001b[0;34m(\u001b[0m\u001b[0mpred_df\u001b[0m\u001b[0;34m,\u001b[0m \u001b[0mlabel_df\u001b[0m\u001b[0;34m)\u001b[0m\u001b[0;34m\u001b[0m\u001b[0m\n\u001b[0m",
      "\u001b[0;31mNameError\u001b[0m: name 'pred_df' is not defined"
     ]
    }
   ],
   "source": [
    "calc_summary(pred_df, label_df)"
   ]
  },
  {
   "cell_type": "raw",
   "metadata": {},
   "source": [
    "# TFIDF_MODEL_THRESHOLD 0.95\n",
    "acc\tprec\trecall\tf1\n",
    "0.891564\t0.004106\t0.901679\t0.008175"
   ]
  },
  {
   "cell_type": "code",
   "execution_count": null,
   "metadata": {},
   "outputs": [],
   "source": []
  },
  {
   "cell_type": "markdown",
   "metadata": {},
   "source": [
    "# Start baseline model dependent code from here\n",
    "\n",
    "Now common part is done.\n",
    "Start model specific cells."
   ]
  },
  {
   "cell_type": "code",
   "execution_count": null,
   "metadata": {},
   "outputs": [],
   "source": []
  },
  {
   "cell_type": "code",
   "execution_count": 24,
   "metadata": {},
   "outputs": [
    {
     "data": {
      "text/plain": [
       "0    \\n \\n 1. A tool organizer for mounting to and ...\n",
       "1    \\n \\n 1. A modular crowd and traffic control b...\n",
       "2    \\n \\n 1. A method of aligning a putter, compri...\n",
       "3    \\n \\n 1. Apparatus for inserting a surgical fa...\n",
       "4    \\n \\n 1. An apparatus for gasifying a liquid o...\n",
       "Name: xml, dtype: object"
      ]
     },
     "execution_count": 24,
     "metadata": {},
     "output_type": "execute_result"
    }
   ],
   "source": [
    "grants_target_df.head()[\"xml\"].map(whole_xml_to_claim)"
   ]
  },
  {
   "cell_type": "code",
   "execution_count": 25,
   "metadata": {},
   "outputs": [],
   "source": [
    "grants_target_df[\"claim\"] = grants_target_df[\"xml\"].map(whole_xml_to_claim)"
   ]
  },
  {
   "cell_type": "code",
   "execution_count": 26,
   "metadata": {},
   "outputs": [
    {
     "data": {
      "text/html": [
       "<div>\n",
       "<style scoped>\n",
       "    .dataframe tbody tr th:only-of-type {\n",
       "        vertical-align: middle;\n",
       "    }\n",
       "\n",
       "    .dataframe tbody tr th {\n",
       "        vertical-align: top;\n",
       "    }\n",
       "\n",
       "    .dataframe thead th {\n",
       "        text-align: right;\n",
       "    }\n",
       "</style>\n",
       "<table border=\"1\" class=\"dataframe\">\n",
       "  <thead>\n",
       "    <tr style=\"text-align: right;\">\n",
       "      <th></th>\n",
       "      <th>parsed</th>\n",
       "      <th>xml</th>\n",
       "      <th>claim</th>\n",
       "    </tr>\n",
       "  </thead>\n",
       "  <tbody>\n",
       "    <tr>\n",
       "      <th>0</th>\n",
       "      <td>6837383</td>\n",
       "      <td>&lt;us-patent-grant lang=\"EN\" dtd-version=\"v40 20...</td>\n",
       "      <td>\\n \\n 1. A tool organizer for mounting to and ...</td>\n",
       "    </tr>\n",
       "    <tr>\n",
       "      <th>1</th>\n",
       "      <td>6837647</td>\n",
       "      <td>&lt;us-patent-grant lang=\"EN\" dtd-version=\"v40 20...</td>\n",
       "      <td>\\n \\n 1. A modular crowd and traffic control b...</td>\n",
       "    </tr>\n",
       "    <tr>\n",
       "      <th>2</th>\n",
       "      <td>6837799</td>\n",
       "      <td>&lt;us-patent-grant lang=\"EN\" dtd-version=\"v40 20...</td>\n",
       "      <td>\\n \\n 1. A method of aligning a putter, compri...</td>\n",
       "    </tr>\n",
       "    <tr>\n",
       "      <th>3</th>\n",
       "      <td>6837893</td>\n",
       "      <td>&lt;us-patent-grant lang=\"EN\" dtd-version=\"v40 20...</td>\n",
       "      <td>\\n \\n 1. Apparatus for inserting a surgical fa...</td>\n",
       "    </tr>\n",
       "    <tr>\n",
       "      <th>4</th>\n",
       "      <td>6837910</td>\n",
       "      <td>&lt;us-patent-grant lang=\"EN\" dtd-version=\"v40 20...</td>\n",
       "      <td>\\n \\n 1. An apparatus for gasifying a liquid o...</td>\n",
       "    </tr>\n",
       "  </tbody>\n",
       "</table>\n",
       "</div>"
      ],
      "text/plain": [
       "    parsed                                                xml  \\\n",
       "0  6837383  <us-patent-grant lang=\"EN\" dtd-version=\"v40 20...   \n",
       "1  6837647  <us-patent-grant lang=\"EN\" dtd-version=\"v40 20...   \n",
       "2  6837799  <us-patent-grant lang=\"EN\" dtd-version=\"v40 20...   \n",
       "3  6837893  <us-patent-grant lang=\"EN\" dtd-version=\"v40 20...   \n",
       "4  6837910  <us-patent-grant lang=\"EN\" dtd-version=\"v40 20...   \n",
       "\n",
       "                                               claim  \n",
       "0  \\n \\n 1. A tool organizer for mounting to and ...  \n",
       "1  \\n \\n 1. A modular crowd and traffic control b...  \n",
       "2  \\n \\n 1. A method of aligning a putter, compri...  \n",
       "3  \\n \\n 1. Apparatus for inserting a surgical fa...  \n",
       "4  \\n \\n 1. An apparatus for gasifying a liquid o...  "
      ]
     },
     "execution_count": 26,
     "metadata": {},
     "output_type": "execute_result"
    }
   ],
   "source": [
    "grants_target_df.head()"
   ]
  },
  {
   "cell_type": "code",
   "execution_count": null,
   "metadata": {},
   "outputs": [],
   "source": []
  },
  {
   "cell_type": "markdown",
   "metadata": {},
   "source": [
    "# Convert to feature vectors and retrieve vocabulary\n",
    "\n",
    "Doing similar things to scikit learn example  \n",
    "http://scikit-learn.org/stable/auto_examples/text/document_classification_20newsgroups.html\n",
    "\n",
    "Also, this document is helpful.  \n",
    "http://scikit-learn.org/stable/tutorial/text_analytics/working_with_text_data.html"
   ]
  },
  {
   "cell_type": "code",
   "execution_count": 27,
   "metadata": {},
   "outputs": [],
   "source": [
    "from sklearn.feature_extraction.text import TfidfVectorizer"
   ]
  },
  {
   "cell_type": "code",
   "execution_count": null,
   "metadata": {},
   "outputs": [],
   "source": []
  },
  {
   "cell_type": "markdown",
   "metadata": {},
   "source": [
    "## (only once) Calculate tf-idf for grants"
   ]
  },
  {
   "cell_type": "code",
   "execution_count": 28,
   "metadata": {},
   "outputs": [],
   "source": [
    "import random\n",
    "random.seed(1234)"
   ]
  },
  {
   "cell_type": "code",
   "execution_count": 29,
   "metadata": {},
   "outputs": [],
   "source": [
    "vectorizer = TfidfVectorizer(stop_words='english', max_df = 0.5)"
   ]
  },
  {
   "cell_type": "code",
   "execution_count": 30,
   "metadata": {},
   "outputs": [],
   "source": [
    "grants_features = vectorizer.fit_transform(grants_target_df[\"claim\"])"
   ]
  },
  {
   "cell_type": "code",
   "execution_count": null,
   "metadata": {},
   "outputs": [],
   "source": []
  },
  {
   "cell_type": "code",
   "execution_count": 33,
   "metadata": {},
   "outputs": [
    {
     "data": {
      "text/plain": [
       "(2524, 20124)"
      ]
     },
     "execution_count": 33,
     "metadata": {},
     "output_type": "execute_result"
    }
   ],
   "source": [
    "grants_features.shape"
   ]
  },
  {
   "cell_type": "code",
   "execution_count": 42,
   "metadata": {},
   "outputs": [
    {
     "data": {
      "text/plain": [
       "array([[0., 0., 0., ..., 0., 0., 0.],\n",
       "       [0., 0., 0., ..., 0., 0., 0.],\n",
       "       [0., 0., 0., ..., 0., 0., 0.],\n",
       "       ...,\n",
       "       [0., 0., 0., ..., 0., 0., 0.],\n",
       "       [0., 0., 0., ..., 0., 0., 0.],\n",
       "       [0., 0., 0., ..., 0., 0., 0.]])"
      ]
     },
     "execution_count": 42,
     "metadata": {},
     "output_type": "execute_result"
    }
   ],
   "source": [
    "grants_features.toarray()"
   ]
  },
  {
   "cell_type": "code",
   "execution_count": 43,
   "metadata": {},
   "outputs": [
    {
     "data": {
      "text/plain": [
       "array([[0.62110894, 0.        , 0.        , ..., 0.        , 0.        ,\n",
       "        0.        ],\n",
       "       [0.        , 0.63104447, 0.        , ..., 0.        , 0.        ,\n",
       "        0.        ],\n",
       "       [0.        , 0.        , 0.43163146, ..., 0.        , 0.        ,\n",
       "        0.        ],\n",
       "       ...,\n",
       "       [0.        , 0.        , 0.        , ..., 0.51833283, 0.        ,\n",
       "        0.        ],\n",
       "       [0.        , 0.        , 0.        , ..., 0.        , 0.44640924,\n",
       "        0.        ],\n",
       "       [0.        , 0.        , 0.        , ..., 0.        , 0.        ,\n",
       "        0.66179486]])"
      ]
     },
     "execution_count": 43,
     "metadata": {},
     "output_type": "execute_result"
    }
   ],
   "source": [
    "grants_features.toarray()[:,grants_features.toarray().argmax(axis=1)]"
   ]
  },
  {
   "cell_type": "code",
   "execution_count": 44,
   "metadata": {},
   "outputs": [
    {
     "data": {
      "text/plain": [
       "(2524, 20124)"
      ]
     },
     "execution_count": 44,
     "metadata": {},
     "output_type": "execute_result"
    }
   ],
   "source": [
    "grants_features.toarray().shape"
   ]
  },
  {
   "cell_type": "code",
   "execution_count": 45,
   "metadata": {},
   "outputs": [
    {
     "data": {
      "text/plain": [
       "array([12428,  2101, 14528, ..., 14045, 11325, 15718])"
      ]
     },
     "execution_count": 45,
     "metadata": {},
     "output_type": "execute_result"
    }
   ],
   "source": [
    "grants_features.toarray().argmax(axis=1)"
   ]
  },
  {
   "cell_type": "code",
   "execution_count": 47,
   "metadata": {},
   "outputs": [
    {
     "data": {
      "text/plain": [
       "0.6211089351627735"
      ]
     },
     "execution_count": 47,
     "metadata": {},
     "output_type": "execute_result"
    }
   ],
   "source": [
    "grants_features.toarray()[0,12428]"
   ]
  },
  {
   "cell_type": "code",
   "execution_count": 48,
   "metadata": {},
   "outputs": [
    {
     "data": {
      "text/plain": [
       "0.6310444661525612"
      ]
     },
     "execution_count": 48,
     "metadata": {},
     "output_type": "execute_result"
    }
   ],
   "source": [
    "grants_features.toarray()[1,2101]"
   ]
  },
  {
   "cell_type": "code",
   "execution_count": 51,
   "metadata": {},
   "outputs": [
    {
     "data": {
      "text/plain": [
       "array([5.7031182 , 4.8913653 , 6.56599948, ..., 6.16788739, 5.00285632,\n",
       "       5.18974991])"
      ]
     },
     "execution_count": 51,
     "metadata": {},
     "output_type": "execute_result"
    }
   ],
   "source": [
    "grants_features.toarray().sum(axis=1)"
   ]
  },
  {
   "cell_type": "code",
   "execution_count": 31,
   "metadata": {},
   "outputs": [],
   "source": [
    "vocab = vectorizer.vocabulary_"
   ]
  },
  {
   "cell_type": "code",
   "execution_count": 32,
   "metadata": {},
   "outputs": [],
   "source": [
    "idfvec = vectorizer.idf_"
   ]
  },
  {
   "cell_type": "code",
   "execution_count": 42,
   "metadata": {},
   "outputs": [
    {
     "data": {
      "text/plain": [
       "20124"
      ]
     },
     "execution_count": 42,
     "metadata": {},
     "output_type": "execute_result"
    }
   ],
   "source": [
    "len(vocab.keys())"
   ]
  },
  {
   "cell_type": "code",
   "execution_count": 43,
   "metadata": {},
   "outputs": [
    {
     "data": {
      "text/plain": [
       "[('275', 275),\n",
       " ('stoichiometric', 17209),\n",
       " ('toy', 18447),\n",
       " ('decoy', 4938),\n",
       " ('slots', 16655)]"
      ]
     },
     "execution_count": 43,
     "metadata": {},
     "output_type": "execute_result"
    }
   ],
   "source": [
    "list(vocab.items())[0:5]"
   ]
  },
  {
   "cell_type": "code",
   "execution_count": 44,
   "metadata": {},
   "outputs": [
    {
     "data": {
      "text/plain": [
       "20124"
      ]
     },
     "execution_count": 44,
     "metadata": {},
     "output_type": "execute_result"
    }
   ],
   "source": [
    "len(idfvec)"
   ]
  },
  {
   "cell_type": "code",
   "execution_count": 45,
   "metadata": {},
   "outputs": [
    {
     "data": {
      "text/plain": [
       "array([ 7.73538405,  4.86370443,  8.14084916,  8.14084916,  8.14084916])"
      ]
     },
     "execution_count": 45,
     "metadata": {},
     "output_type": "execute_result"
    }
   ],
   "source": [
    "idfvec[0:5]"
   ]
  },
  {
   "cell_type": "code",
   "execution_count": null,
   "metadata": {},
   "outputs": [],
   "source": []
  },
  {
   "cell_type": "markdown",
   "metadata": {},
   "source": [
    "### (only once) Save features, vocabulary, idf vector"
   ]
  },
  {
   "cell_type": "code",
   "execution_count": 46,
   "metadata": {},
   "outputs": [],
   "source": [
    "import pickle"
   ]
  },
  {
   "cell_type": "code",
   "execution_count": 47,
   "metadata": {},
   "outputs": [],
   "source": [
    "with open(\"../data/grants_target_tfidf_features.dat\", \"wb\") as f:\n",
    "    pickle.dump(grants_features, f)"
   ]
  },
  {
   "cell_type": "code",
   "execution_count": 48,
   "metadata": {},
   "outputs": [],
   "source": [
    "with open(\"../data/grants_target_vocab_idf_dict.dat\", \"wb\") as f:\n",
    "    pickle.dump({\"vocabulary\": vocab, \"idf\": idfvec}, f)"
   ]
  },
  {
   "cell_type": "code",
   "execution_count": null,
   "metadata": {},
   "outputs": [],
   "source": []
  },
  {
   "cell_type": "markdown",
   "metadata": {},
   "source": [
    "### Load code"
   ]
  },
  {
   "cell_type": "code",
   "execution_count": 46,
   "metadata": {},
   "outputs": [],
   "source": [
    "import pickle"
   ]
  },
  {
   "cell_type": "code",
   "execution_count": 47,
   "metadata": {},
   "outputs": [],
   "source": [
    "with open(\"../data/grants_target_tfidf_features.dat\", 'rb') as f:\n",
    "    grants_features = pickle.load(f)"
   ]
  },
  {
   "cell_type": "code",
   "execution_count": 48,
   "metadata": {},
   "outputs": [],
   "source": [
    "with open(\"../data/grants_target_vocab_idf_dict.dat\", 'rb') as f:\n",
    "    dic = pickle.load(f)\n",
    "    vocab, idfvec = dic[\"vocabulary\"], dic[\"idf\"]"
   ]
  },
  {
   "cell_type": "code",
   "execution_count": null,
   "metadata": {},
   "outputs": [],
   "source": []
  },
  {
   "cell_type": "code",
   "execution_count": null,
   "metadata": {},
   "outputs": [],
   "source": []
  },
  {
   "cell_type": "markdown",
   "metadata": {},
   "source": [
    "### Calculate tf-idf manually using vocabulary and idf vector, and check whether it's coinside."
   ]
  },
  {
   "cell_type": "code",
   "execution_count": 55,
   "metadata": {},
   "outputs": [],
   "source": [
    "from sklearn.feature_extraction.text import CountVectorizer"
   ]
  },
  {
   "cell_type": "code",
   "execution_count": 56,
   "metadata": {},
   "outputs": [],
   "source": [
    "one_claim = training_app_df.iloc[0][\"claim\"]"
   ]
  },
  {
   "cell_type": "code",
   "execution_count": null,
   "metadata": {},
   "outputs": [],
   "source": []
  },
  {
   "cell_type": "code",
   "execution_count": 59,
   "metadata": {},
   "outputs": [
    {
     "data": {
      "text/plain": [
       "'\\n \\n  1 . A terminal comprising:\\n an upper arm havi'"
      ]
     },
     "execution_count": 59,
     "metadata": {},
     "output_type": "execute_result"
    }
   ],
   "source": [
    "one_claim[0:50]"
   ]
  },
  {
   "cell_type": "code",
   "execution_count": 60,
   "metadata": {},
   "outputs": [],
   "source": [
    "count_vec = CountVectorizer(vocabulary=vocab, stop_words=\"english\", max_df = 0.5)"
   ]
  },
  {
   "cell_type": "code",
   "execution_count": 61,
   "metadata": {},
   "outputs": [
    {
     "data": {
      "text/plain": [
       "CountVectorizer(analyzer='word', binary=False, decode_error='strict',\n",
       "        dtype=<class 'numpy.int64'>, encoding='utf-8', input='content',\n",
       "        lowercase=True, max_df=0.5, max_features=None, min_df=1,\n",
       "        ngram_range=(1, 1), preprocessor=None, stop_words='english',\n",
       "        strip_accents=None, token_pattern='(?u)\\\\b\\\\w\\\\w+\\\\b',\n",
       "        tokenizer=None,\n",
       "        vocabulary={'swathed': 17705, 'comparator': 3812, 'biconcave': 2281, 'monophosphoryl': 11508, 'moveably': 11586, 'evaporating': 6842, 'ane': 1361, 'particulate': 12833, 'mcg': 10923, 'spectroscopy': 16881, 'pressed': 14104, 'implant': 9028, 'trihalomethyl': 18733, 'und': 18963, 'interpreted': 9607, ...2, 'centered': 3182, 'shade': 16298, 'transversally': 18604, 'spherically': 16896, 'directly': 5639})"
      ]
     },
     "execution_count": 61,
     "metadata": {},
     "output_type": "execute_result"
    }
   ],
   "source": [
    "count_vec"
   ]
  },
  {
   "cell_type": "code",
   "execution_count": 62,
   "metadata": {},
   "outputs": [],
   "source": [
    "res = count_vec.fit_transform([one_claim])"
   ]
  },
  {
   "cell_type": "code",
   "execution_count": 63,
   "metadata": {},
   "outputs": [
    {
     "data": {
      "text/plain": [
       "<1x20124 sparse matrix of type '<class 'numpy.int64'>'\n",
       "\twith 86 stored elements in Compressed Sparse Row format>"
      ]
     },
     "execution_count": 63,
     "metadata": {},
     "output_type": "execute_result"
    }
   ],
   "source": [
    "res"
   ]
  },
  {
   "cell_type": "code",
   "execution_count": 64,
   "metadata": {},
   "outputs": [],
   "source": [
    "res_arr = res.toarray()"
   ]
  },
  {
   "cell_type": "code",
   "execution_count": 65,
   "metadata": {},
   "outputs": [
    {
     "data": {
      "text/plain": [
       "(1, 20124)"
      ]
     },
     "execution_count": 65,
     "metadata": {},
     "output_type": "execute_result"
    }
   ],
   "source": [
    "res.shape"
   ]
  },
  {
   "cell_type": "code",
   "execution_count": 66,
   "metadata": {},
   "outputs": [],
   "source": [
    "tf = res_arr[0]"
   ]
  },
  {
   "cell_type": "code",
   "execution_count": 68,
   "metadata": {
    "scrolled": true
   },
   "outputs": [
    {
     "data": {
      "text/plain": [
       "1632"
      ]
     },
     "execution_count": 68,
     "metadata": {},
     "output_type": "execute_result"
    }
   ],
   "source": [
    "tf.argmax()"
   ]
  },
  {
   "cell_type": "code",
   "execution_count": 69,
   "metadata": {},
   "outputs": [
    {
     "data": {
      "text/plain": [
       "31"
      ]
     },
     "execution_count": 69,
     "metadata": {},
     "output_type": "execute_result"
    }
   ],
   "source": [
    "tf[1632]"
   ]
  },
  {
   "cell_type": "code",
   "execution_count": 72,
   "metadata": {},
   "outputs": [
    {
     "data": {
      "text/plain": [
       "{'swathed': 17705,\n",
       " 'comparator': 3812,\n",
       " 'biconcave': 2281,\n",
       " 'monophosphoryl': 11508,\n",
       " 'moveably': 11586,\n",
       " 'evaporating': 6842,\n",
       " 'ane': 1361,\n",
       " 'particulate': 12833,\n",
       " 'mcg': 10923,\n",
       " 'spectroscopy': 16881,\n",
       " 'pressed': 14104,\n",
       " 'implant': 9028,\n",
       " 'trihalomethyl': 18733,\n",
       " 'und': 18963,\n",
       " 'interpreted': 9607,\n",
       " 'terminating': 18019,\n",
       " 'orns5b': 12464,\n",
       " 'convergence': 4244,\n",
       " 'untested': 19141,\n",
       " 'fc': 7173,\n",
       " 'x2266': 19954,\n",
       " 'propyldimethyl': 14352,\n",
       " 'toot': 18394,\n",
       " 'telemetry': 17953,\n",
       " 'drawn': 6042,\n",
       " 'reversals': 15611,\n",
       " 'reference': 15087,\n",
       " 'operability': 12350,\n",
       " 'ftp': 7758,\n",
       " 'benzenesulfonyl': 2211,\n",
       " 'arylc': 1694,\n",
       " 'mandible': 10802,\n",
       " 'collet': 3695,\n",
       " 'gazing': 7891,\n",
       " 'preganglionic': 14048,\n",
       " 'erbium': 6733,\n",
       " 'wireline': 19832,\n",
       " 'endogenous': 6536,\n",
       " 'seen': 16122,\n",
       " 'therapeutically': 18116,\n",
       " 'trays': 18629,\n",
       " 'built': 2696,\n",
       " 'arranging': 1653,\n",
       " 'desiccation': 5211,\n",
       " 'maximizer': 10915,\n",
       " 'crowns': 4546,\n",
       " 'thrombospondin': 18244,\n",
       " 'casting': 3064,\n",
       " 'volatilized': 19547,\n",
       " 'augmenting': 1893,\n",
       " 'sympathetic': 17747,\n",
       " 'plot': 13549,\n",
       " 'assembling': 1751,\n",
       " 'arg469': 1622,\n",
       " 'contents': 4180,\n",
       " 'templates': 17974,\n",
       " 'deploy': 5148,\n",
       " 'sweet': 17711,\n",
       " 'extenders': 7016,\n",
       " 'working': 19870,\n",
       " 'hu4d5fabv8': 8692,\n",
       " 'tdma': 17921,\n",
       " '8c': 548,\n",
       " 'hydrogenated': 8762,\n",
       " 'crush': 4554,\n",
       " 'increment': 9145,\n",
       " 'pumped': 14483,\n",
       " 'rider': 15671,\n",
       " 'temperature': 17970,\n",
       " 'retainingly': 15553,\n",
       " 'weighing': 19731,\n",
       " 'participant': 12822,\n",
       " 'embodies': 6414,\n",
       " 'microswitch': 11252,\n",
       " 'compressor': 3909,\n",
       " 'disablement': 5647,\n",
       " 'maximize': 10913,\n",
       " 'outfuel': 12514,\n",
       " 'multifilament': 11659,\n",
       " 'portable': 13869,\n",
       " 'advisory': 963,\n",
       " 'concentrically': 3946,\n",
       " 'meeting': 10973,\n",
       " 'corrector': 4343,\n",
       " 'dulicate': 6113,\n",
       " 'cpnd': 4450,\n",
       " 'dithiocarbamates': 5866,\n",
       " 'whey': 19772,\n",
       " 'clads': 3469,\n",
       " 'limited': 10406,\n",
       " 'reconfigure': 14982,\n",
       " '0010': 6,\n",
       " 'cyclobutyl': 4714,\n",
       " 'circles': 3422,\n",
       " 'ds3': 6088,\n",
       " 'adjudicating': 901,\n",
       " 'stabilizes': 17031,\n",
       " 'morning': 11527,\n",
       " 'judgment': 9948,\n",
       " 'telescopingly': 17962,\n",
       " 'score': 16014,\n",
       " 'insistent': 9385,\n",
       " 'appended': 1530,\n",
       " 'germ': 7955,\n",
       " 'legs': 10283,\n",
       " 'occasion': 12216,\n",
       " 'restrictor': 15527,\n",
       " 'medium': 10969,\n",
       " 'tune': 18832,\n",
       " 'anthracene': 1442,\n",
       " 'reporter': 15350,\n",
       " 'incrementing': 9149,\n",
       " 'polyestercarbonate': 13703,\n",
       " 'optimum': 12397,\n",
       " 'artifacts': 1688,\n",
       " 'nonuniform': 12065,\n",
       " 'receiver': 14908,\n",
       " 'thereabout': 18120,\n",
       " 'pyrolidin': 14566,\n",
       " 'pulling': 14462,\n",
       " 'ophthalmologic': 12365,\n",
       " 'mcu': 10924,\n",
       " 'balancing': 2056,\n",
       " 'utilizing': 19243,\n",
       " 'croup': 4541,\n",
       " 'compactive': 3803,\n",
       " 'sb': 15948,\n",
       " 'singal': 16520,\n",
       " 'cyanines': 4689,\n",
       " 'credentials': 4490,\n",
       " 'logger': 10552,\n",
       " 'antp': 1491,\n",
       " 'identifiers': 8881,\n",
       " 'rc': 14807,\n",
       " 'kinds': 10037,\n",
       " 'vgl': 19411,\n",
       " 'clavulanate': 3495,\n",
       " 'possessed': 13895,\n",
       " 'grader': 8081,\n",
       " 'headers': 8361,\n",
       " '3400': 334,\n",
       " 'crowd': 4542,\n",
       " 'phenoxyphenyl': 13230,\n",
       " 'looping': 10585,\n",
       " 'structured': 17321,\n",
       " 'polyalkoxy': 13657,\n",
       " 'downwind': 6023,\n",
       " 'ligands': 10375,\n",
       " 'micrometer': 11217,\n",
       " 'gathered': 7881,\n",
       " 'differentiating': 5449,\n",
       " 'lpc': 10619,\n",
       " 'precursors': 13992,\n",
       " 'multicarrier': 11653,\n",
       " 'population': 13857,\n",
       " 'branched': 2575,\n",
       " 'finds': 7307,\n",
       " 'perforates': 13080,\n",
       " 'trenches': 18647,\n",
       " 'letters': 10312,\n",
       " 'cantileverly': 2921,\n",
       " 'athletic': 1820,\n",
       " 'topside': 18412,\n",
       " 'oxirane': 12632,\n",
       " 'lusing': 10663,\n",
       " 'replenishment': 15337,\n",
       " 'optical': 12383,\n",
       " '0772p': 50,\n",
       " 'x3a3': 19967,\n",
       " 'p3': 12697,\n",
       " 'intuative': 9692,\n",
       " 'vibratable': 19419,\n",
       " 'cart': 3040,\n",
       " 'centroids': 3203,\n",
       " 'sequentially': 16224,\n",
       " 'reclosably': 14958,\n",
       " 'electrode': 6319,\n",
       " 'powdered': 13935,\n",
       " 'ctaci': 4586,\n",
       " 'sporting': 16962,\n",
       " 'lances': 10140,\n",
       " 'polyketones': 13750,\n",
       " 'blows': 2446,\n",
       " 'arrangements': 1651,\n",
       " 'rested': 15507,\n",
       " 'stations': 17108,\n",
       " 'fluids': 7487,\n",
       " 'nos': 12088,\n",
       " 'hexose': 8525,\n",
       " 'presences': 14087,\n",
       " 'dictionaries': 5413,\n",
       " 'scrambler': 16022,\n",
       " 'carbohydrate': 2977,\n",
       " 'cutter': 4673,\n",
       " 'cocrpt': 3628,\n",
       " 'parsing': 12818,\n",
       " 'burden': 2723,\n",
       " 'shorter': 16393,\n",
       " '320': 320,\n",
       " 'credited': 4492,\n",
       " 'sourced': 16810,\n",
       " 'transceiver': 18500,\n",
       " 'accession': 685,\n",
       " 'hermetically': 8459,\n",
       " 'atomicity': 1828,\n",
       " 'root': 15759,\n",
       " 'workstation': 19882,\n",
       " 'fiducial': 7264,\n",
       " 'vorticity': 19567,\n",
       " 'permeate': 13124,\n",
       " 'abasic': 607,\n",
       " 'encoders': 6506,\n",
       " 'pager': 12733,\n",
       " 'multipolar': 11691,\n",
       " 'alternating': 1230,\n",
       " 'retailer': 15544,\n",
       " 'microstructures': 11251,\n",
       " '133': 122,\n",
       " 'conjugated': 4068,\n",
       " 'resumption': 15539,\n",
       " 'asn30': 1724,\n",
       " 'interventional': 9647,\n",
       " 'scalp': 15964,\n",
       " 'hemihydrate': 8427,\n",
       " 'serving': 16254,\n",
       " 'resending': 15415,\n",
       " 'variation': 19313,\n",
       " 'personality': 13154,\n",
       " 'x2122': 19933,\n",
       " 'flip': 7435,\n",
       " 'flowing': 7466,\n",
       " 'pyridinium': 14557,\n",
       " 'mechanisms': 10947,\n",
       " 'mental': 11004,\n",
       " 'earliest': 6172,\n",
       " 'indicates': 9172,\n",
       " 'kplae': 10075,\n",
       " 'aspect': 1730,\n",
       " 'farther': 7139,\n",
       " 'die': 5422,\n",
       " 'sequencing': 16222,\n",
       " 'handbags': 8273,\n",
       " 'flatness': 7403,\n",
       " 'mist': 11349,\n",
       " 'successively': 17485,\n",
       " 'halted': 8261,\n",
       " 'genes': 7930,\n",
       " 'instructed': 9418,\n",
       " 'micron': 11222,\n",
       " 'familiarity': 7129,\n",
       " 'aged': 1016,\n",
       " 'millimeters': 11289,\n",
       " 'cat': 3067,\n",
       " 'scrambled': 16021,\n",
       " 'additives': 859,\n",
       " 'renamed': 15284,\n",
       " 'polyacrylate': 13649,\n",
       " 'porous': 13866,\n",
       " 'blowing': 2443,\n",
       " 'birefringent': 2375,\n",
       " 'kneaded': 10050,\n",
       " 'melatonin': 10982,\n",
       " 'compositionally': 3890,\n",
       " 'exhausting': 6935,\n",
       " 'cushioning': 4652,\n",
       " 'copier': 4305,\n",
       " 'integrated': 9456,\n",
       " 'stamper': 17064,\n",
       " 'websites': 19715,\n",
       " 'etches': 6778,\n",
       " 'alcohol': 1083,\n",
       " 'luminal': 10654,\n",
       " 'linguistic': 10427,\n",
       " 'prescribable': 14081,\n",
       " 'asphalt': 1733,\n",
       " 'baled': 2058,\n",
       " 'quality': 14615,\n",
       " 'arbiter': 1585,\n",
       " 'e6': 6165,\n",
       " 'praseodymium': 13956,\n",
       " 'moulding': 11570,\n",
       " 'uretdione': 19198,\n",
       " 'taking': 17839,\n",
       " 'feeling': 7202,\n",
       " 'ls': 10627,\n",
       " 'sbr': 15950,\n",
       " 'describes': 5200,\n",
       " 'objection': 12174,\n",
       " 'wait': 19605,\n",
       " 'xiv': 20023,\n",
       " 'homolog': 8623,\n",
       " 'search': 16068,\n",
       " 'sync': 17754,\n",
       " 'discontinue': 5695,\n",
       " 'levulinic': 10328,\n",
       " 'equipped': 6717,\n",
       " '60000': 483,\n",
       " 'deadened': 4845,\n",
       " 'mates': 10896,\n",
       " 'feet': 7205,\n",
       " 'intensifier': 9471,\n",
       " 'pane': 12763,\n",
       " 'her3': 8447,\n",
       " 'cpe': 4443,\n",
       " 'nconh': 11835,\n",
       " 'carbosilane': 2995,\n",
       " 'tuple': 18842,\n",
       " 'replication': 15343,\n",
       " 'cytoplasmic': 4747,\n",
       " 'interpreter': 9608,\n",
       " 'x3bc': 19979,\n",
       " 'multiple': 11672,\n",
       " 'halve': 8264,\n",
       " 'phototransistor': 13337,\n",
       " 'reductant': 15068,\n",
       " 'patches': 12883,\n",
       " 'authoritative': 1908,\n",
       " 'cupferron': 4623,\n",
       " 'movable': 11583,\n",
       " 'commands': 3755,\n",
       " 'sulfuric': 17549,\n",
       " 'scores': 16017,\n",
       " 'bed': 2166,\n",
       " 'tetraacetic': 18045,\n",
       " 'impinges': 9026,\n",
       " 'collapsed': 3674,\n",
       " 'flavor': 7410,\n",
       " 'ethoxylated': 6791,\n",
       " 'ones': 12328,\n",
       " 'oxazol': 12610,\n",
       " 'usingsaid': 19230,\n",
       " 'ablating': 617,\n",
       " 'tails': 17835,\n",
       " 'fabrics': 7085,\n",
       " 'recursion': 15031,\n",
       " 'durably': 6131,\n",
       " 'piperidinone': 13437,\n",
       " 'uttered': 19247,\n",
       " 'scan': 15965,\n",
       " 'implementing': 9039,\n",
       " 'polysulfurised': 13815,\n",
       " 'colloids': 3709,\n",
       " 'deflectable': 4991,\n",
       " 'networking': 11908,\n",
       " 'shrinkable': 16408,\n",
       " 'id': 8868,\n",
       " 'swing': 17718,\n",
       " 'p1': 12692,\n",
       " 'jms': 9918,\n",
       " 'encircles': 6495,\n",
       " 'applied': 1541,\n",
       " 'plae': 13474,\n",
       " 'fractions': 7683,\n",
       " 'political': 13628,\n",
       " 'closing': 3567,\n",
       " 'calibrationcomponent': 2857,\n",
       " 'alumina': 1243,\n",
       " 'toolholder': 18390,\n",
       " 'supports': 17639,\n",
       " 'confirming': 4025,\n",
       " 'skate': 16573,\n",
       " 'yieldingly': 20064,\n",
       " 'slant': 16602,\n",
       " 'circumscribing': 3446,\n",
       " 'path': 12888,\n",
       " 'condensing': 3974,\n",
       " 'raceway': 14688,\n",
       " 'ratioed': 14798,\n",
       " 'jet': 9906,\n",
       " 'bulimia': 2704,\n",
       " 'heats': 8391,\n",
       " 'monocarboxylic': 11476,\n",
       " 'redirection': 15052,\n",
       " '375': 350,\n",
       " 'nitrobenzyl': 11997,\n",
       " 'wears': 19702,\n",
       " 'endplate': 6548,\n",
       " 'lawn': 10212,\n",
       " 'pc2': 12935,\n",
       " 'bulletin': 2709,\n",
       " 'potentiostat': 13923,\n",
       " 'dhcp': 5316,\n",
       " 'etapas': 6772,\n",
       " 'neighborhood': 11874,\n",
       " '935': 568,\n",
       " 'requiring': 15400,\n",
       " 'privilege': 14180,\n",
       " 'soil': 16740,\n",
       " 'planting': 13499,\n",
       " 'methoxybenzyl': 11095,\n",
       " 'fossil': 7659,\n",
       " 'trifluoropropyl': 18720,\n",
       " 'doctorblading': 5932,\n",
       " 'menu': 11007,\n",
       " 'suppresses': 17643,\n",
       " 'thiol': 18206,\n",
       " 'transient': 18539,\n",
       " 'providers': 14406,\n",
       " 'scallop': 15962,\n",
       " 'morpholinomethyl': 11535,\n",
       " 'turntable': 18865,\n",
       " 'dimethylformamide': 5571,\n",
       " 'conect': 3998,\n",
       " 'disappears': 5660,\n",
       " 'nanomaterial': 11770,\n",
       " 'standpipe': 17078,\n",
       " 'cutoff': 4667,\n",
       " 'separate': 16208,\n",
       " 'receiving': 14911,\n",
       " 'fingertip': 7324,\n",
       " 'selectors': 16145,\n",
       " 'biasing': 2274,\n",
       " 'el': 6280,\n",
       " 'acceleration': 667,\n",
       " 'vena': 19354,\n",
       " 'deflated': 4988,\n",
       " 'napthalocyanine': 11800,\n",
       " 'starts': 17094,\n",
       " 'inextensible': 9218,\n",
       " 'offering': 12280,\n",
       " 'displacements': 5777,\n",
       " 'strands': 17248,\n",
       " 'referring': 15096,\n",
       " 'cleansing': 3510,\n",
       " 'helices': 8408,\n",
       " 'aprotic': 1567,\n",
       " 'confidentiality': 4008,\n",
       " 'preloaded': 14058,\n",
       " 'socked': 16723,\n",
       " 'rebroadcasts': 14893,\n",
       " 'inductively': 9204,\n",
       " 'keeping': 9980,\n",
       " 'appropriately': 1555,\n",
       " 'counterpart': 4400,\n",
       " 'polymerizing': 13759,\n",
       " 'illuminates': 8942,\n",
       " 'sinterable': 16531,\n",
       " 'igg2': 8906,\n",
       " 'varies': 19318,\n",
       " 'methoxyacetamide': 11093,\n",
       " 'exceeded': 6875,\n",
       " 'wearable': 19699,\n",
       " 'weaken': 19694,\n",
       " 'inflator': 9248,\n",
       " 'snap': 16693,\n",
       " 'dmh': 5914,\n",
       " '45': 395,\n",
       " 'buy': 2784,\n",
       " 'learned': 10262,\n",
       " 'polybenzoxazoles': 13674,\n",
       " 'multiwavelength': 11709,\n",
       " 'articulate': 1682,\n",
       " 'halogenated': 8257,\n",
       " 'habits': 8235,\n",
       " 'aftermarket': 1009,\n",
       " 'potentially': 13919,\n",
       " 'maximally': 10911,\n",
       " 'spreading': 16978,\n",
       " 'laden': 10119,\n",
       " 'preselecting': 14085,\n",
       " 'cava': 3109,\n",
       " 'moineau': 11436,\n",
       " 'outermost': 12510,\n",
       " 'extraordinary': 7048,\n",
       " 'knitting': 10057,\n",
       " 'extruding': 7066,\n",
       " 'trick': 18689,\n",
       " 'formulate': 7644,\n",
       " 'masses': 10877,\n",
       " 'cobs': 3621,\n",
       " 'dissociation': 5812,\n",
       " 'tobacco': 18355,\n",
       " 'plate': 13518,\n",
       " 'imprecise': 9051,\n",
       " 'pi': 13363,\n",
       " 'chamber': 3244,\n",
       " 'deficient': 4979,\n",
       " 'jitter': 9917,\n",
       " 'gripping': 8161,\n",
       " 'apparel': 1521,\n",
       " 'cxcl13': 4683,\n",
       " 'polyolefin': 13773,\n",
       " 'vein': 19351,\n",
       " 'aerial': 968,\n",
       " 'megakaryocyte': 10977,\n",
       " 'socs': 16726,\n",
       " 'optimising': 12391,\n",
       " 'depicted': 5141,\n",
       " 'conformal': 4034,\n",
       " 'tips': 18332,\n",
       " 'purchasing': 14496,\n",
       " 'connective': 4080,\n",
       " '1200': 102,\n",
       " 'linearizer': 10417,\n",
       " 'interposing': 9602,\n",
       " 'surfaces': 17650,\n",
       " 'point': 13593,\n",
       " 'claw': 3496,\n",
       " 'filer': 7282,\n",
       " 'stressing': 17278,\n",
       " 'bookmark': 2495,\n",
       " 'computed': 3920,\n",
       " 'cope': 4303,\n",
       " 'electric': 6304,\n",
       " 'goes': 8051,\n",
       " 'wanted': 19627,\n",
       " 'ducted': 6108,\n",
       " 'play': 13529,\n",
       " 'litmus': 10482,\n",
       " 'surroundings': 17666,\n",
       " 'protein': 14377,\n",
       " 'heated': 8387,\n",
       " 'apertures': 1505,\n",
       " 'pate': 12885,\n",
       " 'approximates': 1562,\n",
       " 'ponto': 13844,\n",
       " 'naphthalene': 11794,\n",
       " 'ifn': 8896,\n",
       " 'pm': 13574,\n",
       " 'retail': 15543,\n",
       " '61': 486,\n",
       " 'to220': 18354,\n",
       " 'radical': 14713,\n",
       " 'crystallized': 4571,\n",
       " 'reduced': 15062,\n",
       " 'phenylamide': 13234,\n",
       " 'combiners': 3737,\n",
       " 'protruding': 14395,\n",
       " 'retainably': 15548,\n",
       " 'dissolved': 5815,\n",
       " 'monocrystal': 11486,\n",
       " 'vaporized': 19296,\n",
       " 'inverse': 9700,\n",
       " 'surveillance': 17668,\n",
       " 'capable': 2926,\n",
       " 'authorize': 1911,\n",
       " 'designate': 5213,\n",
       " 'corroboration': 4359,\n",
       " 'installing': 9402,\n",
       " 'montmorillonite': 11520,\n",
       " 'stented': 17143,\n",
       " 'valleys': 19279,\n",
       " 'microwaveable': 11256,\n",
       " 'retard': 15555,\n",
       " 'decomposing': 4922,\n",
       " 'dns': 5924,\n",
       " 'isoxazol': 9854,\n",
       " 'trapezoid': 18610,\n",
       " 'agglomerated': 1022,\n",
       " 'oscillates': 12480,\n",
       " 'ternary': 18026,\n",
       " 'anticoagulant': 1460,\n",
       " 'interruption': 9626,\n",
       " 'volumetric': 19559,\n",
       " 'plg': 13543,\n",
       " 'goal': 8049,\n",
       " 'e19': 6160,\n",
       " 'author': 1905,\n",
       " 'cufe': 4600,\n",
       " 'hydrosulfite': 8787,\n",
       " 'payroll': 12922,\n",
       " 'birefringence': 2374,\n",
       " 'motions': 11555,\n",
       " 'sulfhydryl': 17529,\n",
       " 'niwcr': 12006,\n",
       " 'transformation': 18529,\n",
       " 'heptagon': 8440,\n",
       " 'tag': 17822,\n",
       " 'automotive': 1929,\n",
       " '1632': 166,\n",
       " 'avoided': 1955,\n",
       " 'unvulcanized': 19151,\n",
       " 'occur': 12233,\n",
       " 'disbursal': 5667,\n",
       " 'reboiler': 14885,\n",
       " 'surgeon': 17655,\n",
       " 'thioninium': 18208,\n",
       " 'conjoint': 4063,\n",
       " '1x': 213,\n",
       " 'precise': 13980,\n",
       " 'sulfonic': 17540,\n",
       " 'lsps': 10631,\n",
       " 'shelf': 16343,\n",
       " 'crowned': 4545,\n",
       " 'temporarily': 17980,\n",
       " 'conductively': 3988,\n",
       " 'favorably': 7167,\n",
       " 'reclaim': 14948,\n",
       " 'designed': 5220,\n",
       " 'server': 16244,\n",
       " 'shin': 16364,\n",
       " 'casters': 3063,\n",
       " 'bleeder': 2418,\n",
       " 'associatively': 1789,\n",
       " 'divisions': 5903,\n",
       " 'visited': 19505,\n",
       " 'crosslinks': 4530,\n",
       " 'plume': 13562,\n",
       " 'oconh': 12243,\n",
       " 'accelerate': 663,\n",
       " 'ha2': 8234,\n",
       " 'exertion': 6928,\n",
       " 'correction': 4338,\n",
       " 'drivably': 6058,\n",
       " 'tertiary': 18033,\n",
       " 'convection': 4236,\n",
       " 'friday': 7727,\n",
       " 'nife': 11961,\n",
       " 'billet': 2300,\n",
       " 'ethanol': 6782,\n",
       " 'additionally': 857,\n",
       " 'stiff': 17175,\n",
       " 'butterfly': 2759,\n",
       " 'ofjournal': 12291,\n",
       " 'zno': 20104,\n",
       " 'flush': 7521,\n",
       " 'crystallographic': 4573,\n",
       " 'ib': 8853,\n",
       " 'thinned': 18194,\n",
       " 'proportional': 14333,\n",
       " 'mechanism': 10946,\n",
       " 'preference': 14033,\n",
       " 'disturbed': 5859,\n",
       " 'x2207': 19944,\n",
       " 'neopentyl': 11884,\n",
       " 'restoring': 15515,\n",
       " 'dideuteroxyphenyl': 5421,\n",
       " '292': 286,\n",
       " 'nonrotatably': 12060,\n",
       " 'flj10372': 7438,\n",
       " 'undulated': 19009,\n",
       " 'smallest': 16668,\n",
       " 'elasticizing': 6289,\n",
       " 'cuo': 4619,\n",
       " 'asic': 1716,\n",
       " 'snowball': 16706,\n",
       " 'team': 17928,\n",
       " 'trxeirp': 18805,\n",
       " 'commencing': 3758,\n",
       " 'lactate': 10106,\n",
       " 'supporters': 17635,\n",
       " 'cdr3': 3155,\n",
       " 'theory': 18114,\n",
       " 'outlets': 12518,\n",
       " 'displaces': 5779,\n",
       " 'isochronous': 9817,\n",
       " 'recurring': 15030,\n",
       " 'sensing': 16192,\n",
       " 'attenuator': 1865,\n",
       " 'scanned': 15967,\n",
       " 'jdeveloper': 9904,\n",
       " 'acrylamidoglycolic': 781,\n",
       " 'horizon': 8642,\n",
       " 'symmetrically': 17745,\n",
       " 'reformed': 15127,\n",
       " 'sulfosalicylic': 17546,\n",
       " 'promotions': 14289,\n",
       " 'e2': 6161,\n",
       " 'awakened': 1961,\n",
       " 'successive': 17484,\n",
       " '4rev1': 421,\n",
       " 'kex2': 9997,\n",
       " 'wireway': 19834,\n",
       " 'attenuated': 1861,\n",
       " 'formyl': 7648,\n",
       " 'ebna1': 6193,\n",
       " 'transparent': 18588,\n",
       " 'activate': 798,\n",
       " 'horizontal': 8643,\n",
       " 'subset': 17425,\n",
       " 'acting': 792,\n",
       " 'associated': 1783,\n",
       " 'city': 3461,\n",
       " 'reservoirs': 15423,\n",
       " 'serviced': 16251,\n",
       " 'polyorganosiloxane': 13777,\n",
       " 'implements': 9040,\n",
       " 'arcuately': 1615,\n",
       " 'vlan': 19521,\n",
       " 'communicatable': 3783,\n",
       " 'coveringly': 4431,\n",
       " 'alkylamino': 1150,\n",
       " 'proppant': 14344,\n",
       " 'caregivers': 3024,\n",
       " 'repetition': 15321,\n",
       " 'gesturing': 7961,\n",
       " 'bibliography': 2278,\n",
       " '0th': 55,\n",
       " 'rotational': 15778,\n",
       " 'uav': 18892,\n",
       " 'predictively': 14013,\n",
       " 'dtd': 6096,\n",
       " 'simpler': 16504,\n",
       " 'unit': 19061,\n",
       " 'rotatably': 15771,\n",
       " 'attachable': 1841,\n",
       " 'covered': 4429,\n",
       " 'concrete': 3962,\n",
       " 'indication': 9174,\n",
       " 'bone': 2489,\n",
       " '126': 111,\n",
       " 'cdnsp': 3150,\n",
       " 'batteries': 2126,\n",
       " 'thirds': 18214,\n",
       " 'phthalocyanines': 13348,\n",
       " 'oft': 12292,\n",
       " 'raised': 14750,\n",
       " 'furanone': 7786,\n",
       " 'parameterized': 12792,\n",
       " 'microchip': 11187,\n",
       " 'wear': 19698,\n",
       " 'semiconducting': 16168,\n",
       " 'mobility': 11389,\n",
       " 'special': 16854,\n",
       " 'record': 14995,\n",
       " 'moving': 11593,\n",
       " 'magnetoresistor': 10729,\n",
       " 'heightwise': 8403,\n",
       " 'elements': 6361,\n",
       " 'coatings': 3615,\n",
       " 'outsides': 12530,\n",
       " 'hexacyanoferrate': 8497,\n",
       " 'recalculating': 14897,\n",
       " 'strip': 17301,\n",
       " 'cyclohexanone': 4718,\n",
       " 'carboxymethyl': 3004,\n",
       " 'behavioral': 2178,\n",
       " 'wound': 19888,\n",
       " 'discovering': 5708,\n",
       " 'proliferation': 14275,\n",
       " 'belonging': 2186,\n",
       " 'comparing': 3817,\n",
       " 'superimposition': 17597,\n",
       " 'coaxially': 3618,\n",
       " 'natta': 11818,\n",
       " 'internucleotide': 9589,\n",
       " 'imager': 8954,\n",
       " 'phasor': 13211,\n",
       " 'subnet': 17400,\n",
       " 'collates': 3683,\n",
       " 'nahco': 11754,\n",
       " 'polyarylsulfones': 13669,\n",
       " 'disposed': 5790,\n",
       " 'changeable': 3253,\n",
       " 'na': 11748,\n",
       " 'cyclohexylenedimethylene': 4721,\n",
       " 'admits': 925,\n",
       " 'prolonged': 14278,\n",
       " 'contactors': 4157,\n",
       " 'biometric': 2343,\n",
       " 'instantiated': 9409,\n",
       " 'modulate': 11420,\n",
       " 'pin': 13408,\n",
       " 'latched': 10178,\n",
       " 'polyoxyethylene': 13782,\n",
       " 'directing': 5631,\n",
       " 'ionomer': 9756,\n",
       " 'oz05': 12650,\n",
       " 'downfiltered': 6006,\n",
       " 'confocal': 4031,\n",
       " 'armored': 1637,\n",
       " 'fingered': 7317,\n",
       " 'rss': 15818,\n",
       " 'products': 14227,\n",
       " 'backscatter': 2024,\n",
       " 'a7': 598,\n",
       " 'trust': 18802,\n",
       " 'cuts': 4670,\n",
       " 'extract': 7037,\n",
       " '280': 278,\n",
       " 'abutment': 656,\n",
       " 'extremum': 7057,\n",
       " 'better': 2259,\n",
       " 'characterizations': 3272,\n",
       " 'st': 17022,\n",
       " 'octene': 12256,\n",
       " 'affinity': 993,\n",
       " 'attenuates': 1862,\n",
       " 'courier': 4421,\n",
       " 'underperformance': 18989,\n",
       " 'incinerating': 9101,\n",
       " 'deblocking': 4858,\n",
       " 'world': 19884,\n",
       " 'ketonic': 9993,\n",
       " 'rearview': 14869,\n",
       " 'sec': 16083,\n",
       " '930': 562,\n",
       " 'posteriorly': 13906,\n",
       " 'cutters': 4674,\n",
       " 'ranitidine': 14772,\n",
       " 'invariant': 9696,\n",
       " 'legal': 10282,\n",
       " 'sulfonyl': 17542,\n",
       " 'degradation': 5014,\n",
       " 'styrenyl': 17342,\n",
       " 'troubleshooting': 18785,\n",
       " 'deciphered': 4895,\n",
       " 'timeout': 18308,\n",
       " 'continuous': 4198,\n",
       " 'adcs': 848,\n",
       " 'indwelling': 9209,\n",
       " 'contactable': 4152,\n",
       " 'compares': 3816,\n",
       " 'sinter': 16530,\n",
       " 'pylons': 14541,\n",
       " 'occupied': 12229,\n",
       " 'swiveling': 17736,\n",
       " 'sul': 17522,\n",
       " 'ammonia': 1298,\n",
       " 'trioxaspiro': 18760,\n",
       " 'chunk': 3405,\n",
       " 'smartcard': 16671,\n",
       " '157': 155,\n",
       " 'quantized': 14625,\n",
       " 'sending': 16183,\n",
       " 'intravascular': 9682,\n",
       " 'allow': 1191,\n",
       " 'ifgp4': 8895,\n",
       " 'mismatch': 11337,\n",
       " 'multistage': 11701,\n",
       " 'planckian': 13483,\n",
       " 'agent': 1020,\n",
       " 'constants': 4116,\n",
       " 'nearer': 11842,\n",
       " 'intervertebral': 9649,\n",
       " 'inject': 9324,\n",
       " 'thecontours': 18107,\n",
       " 'frustopyramidal': 7749,\n",
       " 'contention': 4179,\n",
       " 'timed': 18305,\n",
       " 'ascent': 1706,\n",
       " 'supercharged': 17577,\n",
       " 'diglycidyl': 5488,\n",
       " 'diacetyl': 5321,\n",
       " 'ungrounded': 19029,\n",
       " 'alkanols': 1127,\n",
       " 'methoxypyridin': 11110,\n",
       " 'stator': 17113,\n",
       " 'aca': 661,\n",
       " 'spongy': 16949,\n",
       " 'dimming': 5582,\n",
       " 'carbonizing': 2987,\n",
       " 'atomically': 1827,\n",
       " 'shape': 16314,\n",
       " 'anatomic': 1352,\n",
       " 'readout': 14843,\n",
       " 'wirebond': 19828,\n",
       " 'chance': 3251,\n",
       " 'scribing': 16039,\n",
       " 'dove': 6001,\n",
       " 'cord': 4318,\n",
       " 'alloys': 1200,\n",
       " 'supplying': 17630,\n",
       " 'replicate': 15339,\n",
       " 'ports': 13879,\n",
       " 'proportioning': 14337,\n",
       " 'straddle': 17238,\n",
       " 'translatable': 18552,\n",
       " 'lakes': 10127,\n",
       " '11i': 98,\n",
       " 'ninety': 11969,\n",
       " 'gross': 8173,\n",
       " 'earphones': 6178,\n",
       " 'restrained': 15517,\n",
       " 'depressurized': 5170,\n",
       " 'original': 12451,\n",
       " 'begin': 2170,\n",
       " 'phenylether': 13240,\n",
       " 'submit': 17394,\n",
       " 'contained': 4160,\n",
       " 'nonmagnetic': 12048,\n",
       " 'managing': 10797,\n",
       " 'fibronectin': 7259,\n",
       " 'locking': 10534,\n",
       " 'abs': 633,\n",
       " 'prohibit': 14255,\n",
       " 'topological': 18406,\n",
       " 'roller': 15746,\n",
       " 'strain': 17243,\n",
       " 'laying': 10218,\n",
       " 'correspondent': 4354,\n",
       " 'splitting': 16941,\n",
       " 'lights': 10387,\n",
       " 'distally': 5818,\n",
       " 'sandwiching': 15905,\n",
       " 'sloping': 16653,\n",
       " 'fusing': 7809,\n",
       " 'factor': 7106,\n",
       " 'compiled': 3839,\n",
       " 'outputs': 12523,\n",
       " 'validated': 19273,\n",
       " 'datastream': 4818,\n",
       " 'dosing': 5988,\n",
       " 'interconnectivity': 9511,\n",
       " 'humanized': 8701,\n",
       " 'halves': 8265,\n",
       " 'slideably': 16634,\n",
       " 'nonylphenyl': 12071,\n",
       " 'faulty': 7164,\n",
       " 'mev': 11160,\n",
       " 'grouped': 8179,\n",
       " 'bentonite': 2207,\n",
       " 'tetrapolymers': 18077,\n",
       " 'deblurring': 4859,\n",
       " 'parsed': 12815,\n",
       " 'exclusion': 6902,\n",
       " 'hysteresis': 8846,\n",
       " 'tethers': 18043,\n",
       " 'carbamoyl': 2961,\n",
       " 'absorbance': 639,\n",
       " 'depolarizer': 5155,\n",
       " 'marble': 10845,\n",
       " 'reports': 15352,\n",
       " 'polynucleotide': 13770,\n",
       " 'repulsion': 15382,\n",
       " 'flaps': 7394,\n",
       " 'constantly': 4115,\n",
       " 'plotted': 13551,\n",
       " 'anchored': 1357,\n",
       " 'spectrally': 16874,\n",
       " 'abutted': 658,\n",
       " 'healing': 8375,\n",
       " 'catheters': 3090,\n",
       " 'elevate': 6364,\n",
       " 'decompressing': 4926,\n",
       " 'facilitating': 7098,\n",
       " 'gm': 8043,\n",
       " 'trichostatin': 18688,\n",
       " 'queries': 14645,\n",
       " 'slc34a2': 16611,\n",
       " 'affecting': 986,\n",
       " 'disturbing': 5860,\n",
       " 'subzones': 17477,\n",
       " 'trap': 18608,\n",
       " 'controllably': 4229,\n",
       " '1310': 120,\n",
       " 'algaas': 1095,\n",
       " 'subject': 17372,\n",
       " 'imide': 8969,\n",
       " 'sim': 16497,\n",
       " 'reclaimed': 14949,\n",
       " 'successful': 17481,\n",
       " 'multilayer': 11662,\n",
       " '721': 508,\n",
       " 'entrain': 6627,\n",
       " 'relatedness': 15211,\n",
       " 'preexisting': 14029,\n",
       " 'biostabilizer': 2355,\n",
       " 'microperistaltic': 11227,\n",
       " 'dodecyltrimethylammonium': 5947,\n",
       " 'modification': 11410,\n",
       " 'misaligns': 11332,\n",
       " 'stub': 17327,\n",
       " 'dryer': 6084,\n",
       " 'formate': 7629,\n",
       " 'playing': 13535,\n",
       " 'guidance': 8210,\n",
       " 'kinase': 10035,\n",
       " 'learning': 10263,\n",
       " 'externally': 7031,\n",
       " 'estimates': 6765,\n",
       " 'polyphenylenesulfide': 13791,\n",
       " 'winding': 19804,\n",
       " 'calculated': 2843,\n",
       " 'carbocyclic': 2974,\n",
       " 'conflicting': 4029,\n",
       " 'receptacles': 14916,\n",
       " 'recommendation': 14975,\n",
       " 'sort': 16799,\n",
       " 'assists': 1781,\n",
       " 'qt': 14596,\n",
       " 'natural': 11819,\n",
       " 'selling': 16155,\n",
       " 'tradable': 18472,\n",
       " '167': 172,\n",
       " 'appearance': 1525,\n",
       " 'dicom': 5408,\n",
       " 'audit': 1887,\n",
       " 'standardization': 17072,\n",
       " 'oversample': 12583,\n",
       " 'baffling': 2044,\n",
       " 'marring': 10864,\n",
       " 'vgh': 19410,\n",
       " 'yield': 20060,\n",
       " 'speculation': 16884,\n",
       " 'posterior': 13904,\n",
       " 'adjustor': 911,\n",
       " 'xy': 20032,\n",
       " 'dendrimer': 5089,\n",
       " 'astm': 1804,\n",
       " 'drivers': 6062,\n",
       " 'demanded': 5059,\n",
       " 'reactions': 14824,\n",
       " 'edca': 6213,\n",
       " 'hormone': 8645,\n",
       " 'inductor': 9205,\n",
       " 'orienting': 12446,\n",
       " 'stoppers': 17218,\n",
       " 'camouflaged': 2881,\n",
       " 'wideband': 19782,\n",
       " ...}"
      ]
     },
     "execution_count": 72,
     "metadata": {},
     "output_type": "execute_result"
    }
   ],
   "source": [
    "vocab"
   ]
  },
  {
   "cell_type": "code",
   "execution_count": 71,
   "metadata": {},
   "outputs": [
    {
     "data": {
      "text/plain": [
       "[('arm', 1632)]"
      ]
     },
     "execution_count": 71,
     "metadata": {},
     "output_type": "execute_result"
    }
   ],
   "source": [
    "[(key, val) for key, val in vocab.items() if val == 1632]"
   ]
  },
  {
   "cell_type": "raw",
   "metadata": {},
   "source": []
  },
  {
   "cell_type": "code",
   "execution_count": 56,
   "metadata": {},
   "outputs": [],
   "source": [
    "answer = grants_features[0, :].toarray()"
   ]
  },
  {
   "cell_type": "code",
   "execution_count": 57,
   "metadata": {},
   "outputs": [],
   "source": [
    "answer = answer[0]"
   ]
  },
  {
   "cell_type": "code",
   "execution_count": 58,
   "metadata": {},
   "outputs": [],
   "source": [
    "def print_nonzero_index(arr, maxcount):\n",
    "    count = 0\n",
    "\n",
    "    for i, v in enumerate(arr):\n",
    "        if v != 0:\n",
    "            count+=1\n",
    "            print(i)\n",
    "            if count > maxcount:\n",
    "                break"
   ]
  },
  {
   "cell_type": "code",
   "execution_count": 59,
   "metadata": {},
   "outputs": [
    {
     "name": "stdout",
     "output_type": "stream",
     "text": [
      "679\n",
      "694\n",
      "838\n",
      "856\n",
      "904\n",
      "997\n"
     ]
    }
   ],
   "source": [
    "print_nonzero_index(answer, 5)"
   ]
  },
  {
   "cell_type": "code",
   "execution_count": 60,
   "metadata": {},
   "outputs": [
    {
     "data": {
      "text/plain": [
       "0.043562029896483084"
      ]
     },
     "execution_count": 60,
     "metadata": {},
     "output_type": "execute_result"
    }
   ],
   "source": [
    "answer[997]"
   ]
  },
  {
   "cell_type": "code",
   "execution_count": 61,
   "metadata": {},
   "outputs": [
    {
     "name": "stdout",
     "output_type": "stream",
     "text": [
      "679\n",
      "694\n",
      "838\n",
      "856\n",
      "904\n",
      "997\n"
     ]
    }
   ],
   "source": [
    "print_nonzero_index(tf, 5)"
   ]
  },
  {
   "cell_type": "code",
   "execution_count": 73,
   "metadata": {},
   "outputs": [],
   "source": [
    "sumtf = sum(tf)"
   ]
  },
  {
   "cell_type": "code",
   "execution_count": 74,
   "metadata": {},
   "outputs": [],
   "source": [
    "unnormalized = [tf[i]*idfvec[i]/sumtf for i, _ in enumerate(tf)]"
   ]
  },
  {
   "cell_type": "code",
   "execution_count": 76,
   "metadata": {},
   "outputs": [
    {
     "data": {
      "text/plain": [
       "(20124,)"
      ]
     },
     "execution_count": 76,
     "metadata": {},
     "output_type": "execute_result"
    }
   ],
   "source": [
    "idfvec.shape"
   ]
  },
  {
   "cell_type": "code",
   "execution_count": 78,
   "metadata": {},
   "outputs": [
    {
     "data": {
      "text/plain": [
       "0.5704936484978724"
      ]
     },
     "execution_count": 78,
     "metadata": {},
     "output_type": "execute_result"
    }
   ],
   "source": [
    "unnormalized[1632]/np.linalg.norm(unnormalized)"
   ]
  },
  {
   "cell_type": "code",
   "execution_count": null,
   "metadata": {},
   "outputs": [],
   "source": []
  },
  {
   "cell_type": "markdown",
   "metadata": {},
   "source": [
    "Now make calculate tf-idf function"
   ]
  },
  {
   "cell_type": "code",
   "execution_count": 79,
   "metadata": {},
   "outputs": [],
   "source": [
    "def claims_to_tfidfs(claimarr, count_vec, idfvec):\n",
    "    tfcsr = count_vec.fit_transform(claimarr)\n",
    "    tf = tfcsr.toarray()\n",
    "    unnormalized = np.multiply(tf, idfvec)\n",
    "    lpnorms = np.linalg.norm(unnormalized, axis=1)\n",
    "    return unnormalized/lpnorms[:, np.newaxis]"
   ]
  },
  {
   "cell_type": "code",
   "execution_count": 82,
   "metadata": {},
   "outputs": [],
   "source": [
    "manu3 = claims_to_tfidfs(training_app_df.iloc[0:2][\"claim\"], count_vec, idfvec)"
   ]
  },
  {
   "cell_type": "code",
   "execution_count": 88,
   "metadata": {},
   "outputs": [
    {
     "data": {
      "text/html": [
       "<div>\n",
       "<style scoped>\n",
       "    .dataframe tbody tr th:only-of-type {\n",
       "        vertical-align: middle;\n",
       "    }\n",
       "\n",
       "    .dataframe tbody tr th {\n",
       "        vertical-align: top;\n",
       "    }\n",
       "\n",
       "    .dataframe thead th {\n",
       "        text-align: right;\n",
       "    }\n",
       "</style>\n",
       "<table border=\"1\" class=\"dataframe\">\n",
       "  <thead>\n",
       "    <tr style=\"text-align: right;\">\n",
       "      <th></th>\n",
       "      <th>0</th>\n",
       "      <th>1</th>\n",
       "      <th>2</th>\n",
       "      <th>3</th>\n",
       "      <th>4</th>\n",
       "      <th>5</th>\n",
       "      <th>6</th>\n",
       "      <th>7</th>\n",
       "      <th>8</th>\n",
       "      <th>9</th>\n",
       "      <th>...</th>\n",
       "      <th>20114</th>\n",
       "      <th>20115</th>\n",
       "      <th>20116</th>\n",
       "      <th>20117</th>\n",
       "      <th>20118</th>\n",
       "      <th>20119</th>\n",
       "      <th>20120</th>\n",
       "      <th>20121</th>\n",
       "      <th>20122</th>\n",
       "      <th>20123</th>\n",
       "    </tr>\n",
       "    <tr>\n",
       "      <th>app_id</th>\n",
       "      <th></th>\n",
       "      <th></th>\n",
       "      <th></th>\n",
       "      <th></th>\n",
       "      <th></th>\n",
       "      <th></th>\n",
       "      <th></th>\n",
       "      <th></th>\n",
       "      <th></th>\n",
       "      <th></th>\n",
       "      <th></th>\n",
       "      <th></th>\n",
       "      <th></th>\n",
       "      <th></th>\n",
       "      <th></th>\n",
       "      <th></th>\n",
       "      <th></th>\n",
       "      <th></th>\n",
       "      <th></th>\n",
       "      <th></th>\n",
       "      <th></th>\n",
       "    </tr>\n",
       "  </thead>\n",
       "  <tbody>\n",
       "    <tr>\n",
       "      <th>14222691</th>\n",
       "      <td>0.0</td>\n",
       "      <td>0.0</td>\n",
       "      <td>0.0</td>\n",
       "      <td>0.0</td>\n",
       "      <td>0.0</td>\n",
       "      <td>0.0</td>\n",
       "      <td>0.0</td>\n",
       "      <td>0.0</td>\n",
       "      <td>0.0</td>\n",
       "      <td>0.0</td>\n",
       "      <td>...</td>\n",
       "      <td>0.0</td>\n",
       "      <td>0.0</td>\n",
       "      <td>0.0</td>\n",
       "      <td>0.0</td>\n",
       "      <td>0.0</td>\n",
       "      <td>0.0</td>\n",
       "      <td>0.0</td>\n",
       "      <td>0.0</td>\n",
       "      <td>0.0</td>\n",
       "      <td>0.0</td>\n",
       "    </tr>\n",
       "    <tr>\n",
       "      <th>12515852</th>\n",
       "      <td>0.0</td>\n",
       "      <td>0.0</td>\n",
       "      <td>0.0</td>\n",
       "      <td>0.0</td>\n",
       "      <td>0.0</td>\n",
       "      <td>0.0</td>\n",
       "      <td>0.0</td>\n",
       "      <td>0.0</td>\n",
       "      <td>0.0</td>\n",
       "      <td>0.0</td>\n",
       "      <td>...</td>\n",
       "      <td>0.0</td>\n",
       "      <td>0.0</td>\n",
       "      <td>0.0</td>\n",
       "      <td>0.0</td>\n",
       "      <td>0.0</td>\n",
       "      <td>0.0</td>\n",
       "      <td>0.0</td>\n",
       "      <td>0.0</td>\n",
       "      <td>0.0</td>\n",
       "      <td>0.0</td>\n",
       "    </tr>\n",
       "  </tbody>\n",
       "</table>\n",
       "<p>2 rows × 20124 columns</p>\n",
       "</div>"
      ],
      "text/plain": [
       "          0      1      2      3      4      5      6      7      8      \\\n",
       "app_id                                                                    \n",
       "14222691    0.0    0.0    0.0    0.0    0.0    0.0    0.0    0.0    0.0   \n",
       "12515852    0.0    0.0    0.0    0.0    0.0    0.0    0.0    0.0    0.0   \n",
       "\n",
       "          9      ...    20114  20115  20116  20117  20118  20119  20120  \\\n",
       "app_id           ...                                                      \n",
       "14222691    0.0  ...      0.0    0.0    0.0    0.0    0.0    0.0    0.0   \n",
       "12515852    0.0  ...      0.0    0.0    0.0    0.0    0.0    0.0    0.0   \n",
       "\n",
       "          20121  20122  20123  \n",
       "app_id                         \n",
       "14222691    0.0    0.0    0.0  \n",
       "12515852    0.0    0.0    0.0  \n",
       "\n",
       "[2 rows x 20124 columns]"
      ]
     },
     "execution_count": 88,
     "metadata": {},
     "output_type": "execute_result"
    }
   ],
   "source": [
    "df=pd.DataFrame(manu3)\n",
    "df.assign(app_id=training_app_df.iloc[0:2]['app_id']).set_index('app_id')"
   ]
  },
  {
   "cell_type": "code",
   "execution_count": 84,
   "metadata": {},
   "outputs": [
    {
     "data": {
      "text/html": [
       "<div>\n",
       "<style scoped>\n",
       "    .dataframe tbody tr th:only-of-type {\n",
       "        vertical-align: middle;\n",
       "    }\n",
       "\n",
       "    .dataframe tbody tr th {\n",
       "        vertical-align: top;\n",
       "    }\n",
       "\n",
       "    .dataframe thead th {\n",
       "        text-align: right;\n",
       "    }\n",
       "</style>\n",
       "<table border=\"1\" class=\"dataframe\">\n",
       "  <thead>\n",
       "    <tr style=\"text-align: right;\">\n",
       "      <th></th>\n",
       "      <th>app_id</th>\n",
       "      <th>xml</th>\n",
       "      <th>claim</th>\n",
       "    </tr>\n",
       "  </thead>\n",
       "  <tbody>\n",
       "    <tr>\n",
       "      <th>0</th>\n",
       "      <td>14222691</td>\n",
       "      <td>&lt;us-patent-application lang=\"EN\" dtd-version=\"...</td>\n",
       "      <td>\\n \\n  1 . A terminal comprising:\\n an upper a...</td>\n",
       "    </tr>\n",
       "    <tr>\n",
       "      <th>1</th>\n",
       "      <td>12515852</td>\n",
       "      <td>&lt;us-patent-application lang=\"EN\" dtd-version=\"...</td>\n",
       "      <td>\\n \\n  1 . A method for increasing seed yield ...</td>\n",
       "    </tr>\n",
       "    <tr>\n",
       "      <th>2</th>\n",
       "      <td>12033424</td>\n",
       "      <td>&lt;us-patent-application lang=\"EN\" dtd-version=\"...</td>\n",
       "      <td>\\n \\n  1 . An image forming apparatus, compris...</td>\n",
       "    </tr>\n",
       "    <tr>\n",
       "      <th>3</th>\n",
       "      <td>12402344</td>\n",
       "      <td>&lt;us-patent-application lang=\"EN\" dtd-version=\"...</td>\n",
       "      <td>\\n \\n  1 . A tunable polarization rotator, com...</td>\n",
       "    </tr>\n",
       "    <tr>\n",
       "      <th>4</th>\n",
       "      <td>12155425</td>\n",
       "      <td>&lt;us-patent-application lang=\"EN\" dtd-version=\"...</td>\n",
       "      <td>\\n \\n  1 . An illumination control circuit com...</td>\n",
       "    </tr>\n",
       "  </tbody>\n",
       "</table>\n",
       "</div>"
      ],
      "text/plain": [
       "     app_id                                                xml  \\\n",
       "0  14222691  <us-patent-application lang=\"EN\" dtd-version=\"...   \n",
       "1  12515852  <us-patent-application lang=\"EN\" dtd-version=\"...   \n",
       "2  12033424  <us-patent-application lang=\"EN\" dtd-version=\"...   \n",
       "3  12402344  <us-patent-application lang=\"EN\" dtd-version=\"...   \n",
       "4  12155425  <us-patent-application lang=\"EN\" dtd-version=\"...   \n",
       "\n",
       "                                               claim  \n",
       "0  \\n \\n  1 . A terminal comprising:\\n an upper a...  \n",
       "1  \\n \\n  1 . A method for increasing seed yield ...  \n",
       "2  \\n \\n  1 . An image forming apparatus, compris...  \n",
       "3  \\n \\n  1 . A tunable polarization rotator, com...  \n",
       "4  \\n \\n  1 . An illumination control circuit com...  "
      ]
     },
     "execution_count": 84,
     "metadata": {},
     "output_type": "execute_result"
    }
   ],
   "source": [
    "training_app_df.head()"
   ]
  },
  {
   "cell_type": "code",
   "execution_count": null,
   "metadata": {},
   "outputs": [],
   "source": []
  },
  {
   "cell_type": "code",
   "execution_count": null,
   "metadata": {},
   "outputs": [],
   "source": [
    "manu3 = claims_to_tfidfs(training_app_df.iloc[0:2][\"claim\"], count_vec, idfvec)"
   ]
  },
  {
   "cell_type": "code",
   "execution_count": 81,
   "metadata": {},
   "outputs": [
    {
     "data": {
      "text/plain": [
       "0.5704936484978725"
      ]
     },
     "execution_count": 81,
     "metadata": {},
     "output_type": "execute_result"
    }
   ],
   "source": [
    "manu3[0,1632]"
   ]
  },
  {
   "cell_type": "code",
   "execution_count": null,
   "metadata": {},
   "outputs": [],
   "source": []
  },
  {
   "cell_type": "markdown",
   "metadata": {},
   "source": [
    "### It's time to calculate tfidf for training set."
   ]
  },
  {
   "cell_type": "code",
   "execution_count": 54,
   "metadata": {},
   "outputs": [
    {
     "data": {
      "text/html": [
       "<div>\n",
       "<style scoped>\n",
       "    .dataframe tbody tr th:only-of-type {\n",
       "        vertical-align: middle;\n",
       "    }\n",
       "\n",
       "    .dataframe tbody tr th {\n",
       "        vertical-align: top;\n",
       "    }\n",
       "\n",
       "    .dataframe thead th {\n",
       "        text-align: right;\n",
       "    }\n",
       "</style>\n",
       "<table border=\"1\" class=\"dataframe\">\n",
       "  <thead>\n",
       "    <tr style=\"text-align: right;\">\n",
       "      <th></th>\n",
       "      <th>app_id</th>\n",
       "      <th>xml</th>\n",
       "      <th>claim</th>\n",
       "    </tr>\n",
       "  </thead>\n",
       "  <tbody>\n",
       "    <tr>\n",
       "      <th>0</th>\n",
       "      <td>14222691</td>\n",
       "      <td>&lt;us-patent-application lang=\"EN\" dtd-version=\"...</td>\n",
       "      <td>\\n \\n  1 . A terminal comprising:\\n an upper a...</td>\n",
       "    </tr>\n",
       "    <tr>\n",
       "      <th>1</th>\n",
       "      <td>12515852</td>\n",
       "      <td>&lt;us-patent-application lang=\"EN\" dtd-version=\"...</td>\n",
       "      <td>\\n \\n  1 . A method for increasing seed yield ...</td>\n",
       "    </tr>\n",
       "    <tr>\n",
       "      <th>2</th>\n",
       "      <td>12033424</td>\n",
       "      <td>&lt;us-patent-application lang=\"EN\" dtd-version=\"...</td>\n",
       "      <td>\\n \\n  1 . An image forming apparatus, compris...</td>\n",
       "    </tr>\n",
       "    <tr>\n",
       "      <th>3</th>\n",
       "      <td>12402344</td>\n",
       "      <td>&lt;us-patent-application lang=\"EN\" dtd-version=\"...</td>\n",
       "      <td>\\n \\n  1 . A tunable polarization rotator, com...</td>\n",
       "    </tr>\n",
       "    <tr>\n",
       "      <th>4</th>\n",
       "      <td>12155425</td>\n",
       "      <td>&lt;us-patent-application lang=\"EN\" dtd-version=\"...</td>\n",
       "      <td>\\n \\n  1 . An illumination control circuit com...</td>\n",
       "    </tr>\n",
       "  </tbody>\n",
       "</table>\n",
       "</div>"
      ],
      "text/plain": [
       "     app_id                                                xml  \\\n",
       "0  14222691  <us-patent-application lang=\"EN\" dtd-version=\"...   \n",
       "1  12515852  <us-patent-application lang=\"EN\" dtd-version=\"...   \n",
       "2  12033424  <us-patent-application lang=\"EN\" dtd-version=\"...   \n",
       "3  12402344  <us-patent-application lang=\"EN\" dtd-version=\"...   \n",
       "4  12155425  <us-patent-application lang=\"EN\" dtd-version=\"...   \n",
       "\n",
       "                                               claim  \n",
       "0  \\n \\n  1 . A terminal comprising:\\n an upper a...  \n",
       "1  \\n \\n  1 . A method for increasing seed yield ...  \n",
       "2  \\n \\n  1 . An image forming apparatus, compris...  \n",
       "3  \\n \\n  1 . A tunable polarization rotator, com...  \n",
       "4  \\n \\n  1 . An illumination control circuit com...  "
      ]
     },
     "execution_count": 54,
     "metadata": {},
     "output_type": "execute_result"
    }
   ],
   "source": [
    "training_app_df.head()"
   ]
  },
  {
   "cell_type": "code",
   "execution_count": 53,
   "metadata": {},
   "outputs": [],
   "source": [
    "training_app_df[\"claim\"] = training_app_df[\"xml\"].map(whole_xml_to_claim)"
   ]
  },
  {
   "cell_type": "code",
   "execution_count": 78,
   "metadata": {},
   "outputs": [],
   "source": [
    "training_features = claims_to_tfidfs(training_app_df[\"claim\"], count_vec, idfvec)"
   ]
  },
  {
   "cell_type": "code",
   "execution_count": null,
   "metadata": {},
   "outputs": [],
   "source": []
  },
  {
   "cell_type": "markdown",
   "metadata": {},
   "source": [
    "Calculate one cosine distance"
   ]
  },
  {
   "cell_type": "code",
   "execution_count": 79,
   "metadata": {},
   "outputs": [],
   "source": [
    "one_appid = training_app_df.iloc[0].app_id"
   ]
  },
  {
   "cell_type": "code",
   "execution_count": 80,
   "metadata": {},
   "outputs": [
    {
     "data": {
      "text/html": [
       "<div>\n",
       "<style scoped>\n",
       "    .dataframe tbody tr th:only-of-type {\n",
       "        vertical-align: middle;\n",
       "    }\n",
       "\n",
       "    .dataframe tbody tr th {\n",
       "        vertical-align: top;\n",
       "    }\n",
       "\n",
       "    .dataframe thead th {\n",
       "        text-align: right;\n",
       "    }\n",
       "</style>\n",
       "<table border=\"1\" class=\"dataframe\">\n",
       "  <thead>\n",
       "    <tr style=\"text-align: right;\">\n",
       "      <th></th>\n",
       "      <th>app_id</th>\n",
       "      <th>app_fnm</th>\n",
       "      <th>citation_pat_pgpub_id</th>\n",
       "      <th>parsed</th>\n",
       "      <th>ifw_number</th>\n",
       "      <th>action_type</th>\n",
       "      <th>action_subtype</th>\n",
       "      <th>form892</th>\n",
       "      <th>form1449</th>\n",
       "      <th>citation_in_oa</th>\n",
       "      <th>...</th>\n",
       "      <th>rejection_103</th>\n",
       "      <th>rejection_112</th>\n",
       "      <th>rejection_dp</th>\n",
       "      <th>objection</th>\n",
       "      <th>allowed_claims</th>\n",
       "      <th>cite102_gt1</th>\n",
       "      <th>cite103_gt3</th>\n",
       "      <th>cite103_eq1</th>\n",
       "      <th>cite103_max</th>\n",
       "      <th>signature_type</th>\n",
       "    </tr>\n",
       "  </thead>\n",
       "  <tbody>\n",
       "    <tr>\n",
       "      <th>1635</th>\n",
       "      <td>14222691</td>\n",
       "      <td>/work/data/apps/2014/ipa140925/F_4331.xml</td>\n",
       "      <td>8179692</td>\n",
       "      <td>8179692</td>\n",
       "      <td>I9X14IR6PXXIFW4</td>\n",
       "      <td>102.0</td>\n",
       "      <td>a</td>\n",
       "      <td>1</td>\n",
       "      <td>0</td>\n",
       "      <td>1</td>\n",
       "      <td>...</td>\n",
       "      <td>1</td>\n",
       "      <td>0</td>\n",
       "      <td>0</td>\n",
       "      <td>1</td>\n",
       "      <td>0</td>\n",
       "      <td>0</td>\n",
       "      <td>0</td>\n",
       "      <td>0</td>\n",
       "      <td>3</td>\n",
       "      <td>0</td>\n",
       "    </tr>\n",
       "    <tr>\n",
       "      <th>1636</th>\n",
       "      <td>14222691</td>\n",
       "      <td>/work/data/apps/2014/ipa140925/F_4331.xml</td>\n",
       "      <td>8179692</td>\n",
       "      <td>8179692</td>\n",
       "      <td>I9X14IR6PXXIFW4</td>\n",
       "      <td>103.0</td>\n",
       "      <td>NaN</td>\n",
       "      <td>1</td>\n",
       "      <td>0</td>\n",
       "      <td>1</td>\n",
       "      <td>...</td>\n",
       "      <td>1</td>\n",
       "      <td>0</td>\n",
       "      <td>0</td>\n",
       "      <td>1</td>\n",
       "      <td>0</td>\n",
       "      <td>0</td>\n",
       "      <td>0</td>\n",
       "      <td>0</td>\n",
       "      <td>3</td>\n",
       "      <td>0</td>\n",
       "    </tr>\n",
       "    <tr>\n",
       "      <th>1637</th>\n",
       "      <td>14222691</td>\n",
       "      <td>/work/data/apps/2014/ipa140925/F_4331.xml</td>\n",
       "      <td>8206188</td>\n",
       "      <td>8206188</td>\n",
       "      <td>I9X14IR6PXXIFW4</td>\n",
       "      <td>102.0</td>\n",
       "      <td>a</td>\n",
       "      <td>1</td>\n",
       "      <td>0</td>\n",
       "      <td>1</td>\n",
       "      <td>...</td>\n",
       "      <td>1</td>\n",
       "      <td>0</td>\n",
       "      <td>0</td>\n",
       "      <td>1</td>\n",
       "      <td>0</td>\n",
       "      <td>0</td>\n",
       "      <td>0</td>\n",
       "      <td>0</td>\n",
       "      <td>3</td>\n",
       "      <td>0</td>\n",
       "    </tr>\n",
       "    <tr>\n",
       "      <th>1638</th>\n",
       "      <td>14222691</td>\n",
       "      <td>/work/data/apps/2014/ipa140925/F_4331.xml</td>\n",
       "      <td>8206188</td>\n",
       "      <td>8206188</td>\n",
       "      <td>I9X14IR6PXXIFW4</td>\n",
       "      <td>103.0</td>\n",
       "      <td>NaN</td>\n",
       "      <td>1</td>\n",
       "      <td>0</td>\n",
       "      <td>1</td>\n",
       "      <td>...</td>\n",
       "      <td>1</td>\n",
       "      <td>0</td>\n",
       "      <td>0</td>\n",
       "      <td>1</td>\n",
       "      <td>0</td>\n",
       "      <td>0</td>\n",
       "      <td>0</td>\n",
       "      <td>0</td>\n",
       "      <td>3</td>\n",
       "      <td>0</td>\n",
       "    </tr>\n",
       "    <tr>\n",
       "      <th>1639</th>\n",
       "      <td>14222691</td>\n",
       "      <td>/work/data/apps/2014/ipa140925/F_4331.xml</td>\n",
       "      <td>8177561</td>\n",
       "      <td>8177561</td>\n",
       "      <td>I9X14IR6PXXIFW4</td>\n",
       "      <td>103.0</td>\n",
       "      <td>NaN</td>\n",
       "      <td>1</td>\n",
       "      <td>0</td>\n",
       "      <td>1</td>\n",
       "      <td>...</td>\n",
       "      <td>1</td>\n",
       "      <td>0</td>\n",
       "      <td>0</td>\n",
       "      <td>1</td>\n",
       "      <td>0</td>\n",
       "      <td>0</td>\n",
       "      <td>0</td>\n",
       "      <td>0</td>\n",
       "      <td>3</td>\n",
       "      <td>0</td>\n",
       "    </tr>\n",
       "  </tbody>\n",
       "</table>\n",
       "<p>5 rows × 41 columns</p>\n",
       "</div>"
      ],
      "text/plain": [
       "        app_id                                    app_fnm  \\\n",
       "1635  14222691  /work/data/apps/2014/ipa140925/F_4331.xml   \n",
       "1636  14222691  /work/data/apps/2014/ipa140925/F_4331.xml   \n",
       "1637  14222691  /work/data/apps/2014/ipa140925/F_4331.xml   \n",
       "1638  14222691  /work/data/apps/2014/ipa140925/F_4331.xml   \n",
       "1639  14222691  /work/data/apps/2014/ipa140925/F_4331.xml   \n",
       "\n",
       "     citation_pat_pgpub_id   parsed       ifw_number  action_type  \\\n",
       "1635               8179692  8179692  I9X14IR6PXXIFW4        102.0   \n",
       "1636               8179692  8179692  I9X14IR6PXXIFW4        103.0   \n",
       "1637               8206188  8206188  I9X14IR6PXXIFW4        102.0   \n",
       "1638               8206188  8206188  I9X14IR6PXXIFW4        103.0   \n",
       "1639               8177561  8177561  I9X14IR6PXXIFW4        103.0   \n",
       "\n",
       "     action_subtype  form892  form1449  citation_in_oa      ...        \\\n",
       "1635              a        1         0               1      ...         \n",
       "1636            NaN        1         0               1      ...         \n",
       "1637              a        1         0               1      ...         \n",
       "1638            NaN        1         0               1      ...         \n",
       "1639            NaN        1         0               1      ...         \n",
       "\n",
       "     rejection_103  rejection_112  rejection_dp  objection allowed_claims  \\\n",
       "1635             1              0             0          1              0   \n",
       "1636             1              0             0          1              0   \n",
       "1637             1              0             0          1              0   \n",
       "1638             1              0             0          1              0   \n",
       "1639             1              0             0          1              0   \n",
       "\n",
       "     cite102_gt1  cite103_gt3 cite103_eq1  cite103_max signature_type  \n",
       "1635           0            0           0            3              0  \n",
       "1636           0            0           0            3              0  \n",
       "1637           0            0           0            3              0  \n",
       "1638           0            0           0            3              0  \n",
       "1639           0            0           0            3              0  \n",
       "\n",
       "[5 rows x 41 columns]"
      ]
     },
     "execution_count": 80,
     "metadata": {},
     "output_type": "execute_result"
    }
   ],
   "source": [
    "citations_info_target[citations_info_target.app_id == one_appid]"
   ]
  },
  {
   "cell_type": "code",
   "execution_count": 81,
   "metadata": {},
   "outputs": [],
   "source": [
    "answer_patids = set(citations_info_target[citations_info_target.app_id == one_appid].parsed.astype(int))"
   ]
  },
  {
   "cell_type": "code",
   "execution_count": 82,
   "metadata": {},
   "outputs": [
    {
     "data": {
      "text/plain": [
       "{8177561, 8179692, 8206188}"
      ]
     },
     "execution_count": 82,
     "metadata": {},
     "output_type": "execute_result"
    }
   ],
   "source": [
    "answer_patids"
   ]
  },
  {
   "cell_type": "code",
   "execution_count": 83,
   "metadata": {},
   "outputs": [
    {
     "data": {
      "text/plain": [
       "numpy.int64"
      ]
     },
     "execution_count": 83,
     "metadata": {},
     "output_type": "execute_result"
    }
   ],
   "source": [
    "type(grants_target_df.iloc[0].parsed)"
   ]
  },
  {
   "cell_type": "code",
   "execution_count": 84,
   "metadata": {},
   "outputs": [],
   "source": [
    "answer_idxs = grants_target_df[grants_target_df.parsed.isin(answer_patids)].index"
   ]
  },
  {
   "cell_type": "code",
   "execution_count": 85,
   "metadata": {},
   "outputs": [
    {
     "data": {
      "text/plain": [
       "2380"
      ]
     },
     "execution_count": 85,
     "metadata": {},
     "output_type": "execute_result"
    }
   ],
   "source": [
    "answer_idxs[0]"
   ]
  },
  {
   "cell_type": "code",
   "execution_count": 86,
   "metadata": {},
   "outputs": [
    {
     "data": {
      "text/plain": [
       "8177561"
      ]
     },
     "execution_count": 86,
     "metadata": {},
     "output_type": "execute_result"
    }
   ],
   "source": [
    "grants_target_df.iloc[2380].parsed"
   ]
  },
  {
   "cell_type": "code",
   "execution_count": null,
   "metadata": {},
   "outputs": [],
   "source": []
  },
  {
   "cell_type": "code",
   "execution_count": 87,
   "metadata": {},
   "outputs": [],
   "source": [
    "answer_patent_features = grants_features[answer_idxs[0], :].toarray()[0]"
   ]
  },
  {
   "cell_type": "code",
   "execution_count": null,
   "metadata": {},
   "outputs": [],
   "source": []
  },
  {
   "cell_type": "code",
   "execution_count": 88,
   "metadata": {},
   "outputs": [],
   "source": [
    "import scipy"
   ]
  },
  {
   "cell_type": "code",
   "execution_count": 89,
   "metadata": {},
   "outputs": [
    {
     "data": {
      "text/plain": [
       "array([[ 0.67340827]])"
      ]
     },
     "execution_count": 89,
     "metadata": {},
     "output_type": "execute_result"
    }
   ],
   "source": [
    "scipy.spatial.distance.cdist(training_features[0, :][np.newaxis, :], grants_features[answer_idxs[0], :].toarray(), 'cosine')"
   ]
  },
  {
   "cell_type": "code",
   "execution_count": null,
   "metadata": {},
   "outputs": [],
   "source": []
  },
  {
   "cell_type": "code",
   "execution_count": null,
   "metadata": {},
   "outputs": [],
   "source": []
  },
  {
   "cell_type": "markdown",
   "metadata": {},
   "source": [
    "### Calculate 20 cosine distance for check"
   ]
  },
  {
   "cell_type": "code",
   "execution_count": null,
   "metadata": {},
   "outputs": [],
   "source": []
  },
  {
   "cell_type": "code",
   "execution_count": 90,
   "metadata": {},
   "outputs": [
    {
     "data": {
      "text/html": [
       "<div>\n",
       "<style scoped>\n",
       "    .dataframe tbody tr th:only-of-type {\n",
       "        vertical-align: middle;\n",
       "    }\n",
       "\n",
       "    .dataframe tbody tr th {\n",
       "        vertical-align: top;\n",
       "    }\n",
       "\n",
       "    .dataframe thead th {\n",
       "        text-align: right;\n",
       "    }\n",
       "</style>\n",
       "<table border=\"1\" class=\"dataframe\">\n",
       "  <thead>\n",
       "    <tr style=\"text-align: right;\">\n",
       "      <th></th>\n",
       "      <th>app_id</th>\n",
       "      <th>xml</th>\n",
       "      <th>claim</th>\n",
       "    </tr>\n",
       "  </thead>\n",
       "  <tbody>\n",
       "    <tr>\n",
       "      <th>0</th>\n",
       "      <td>14222691</td>\n",
       "      <td>&lt;us-patent-application lang=\"EN\" dtd-version=\"...</td>\n",
       "      <td>\\n \\n  1 . A terminal comprising:\\n an upper a...</td>\n",
       "    </tr>\n",
       "    <tr>\n",
       "      <th>1</th>\n",
       "      <td>12515852</td>\n",
       "      <td>&lt;us-patent-application lang=\"EN\" dtd-version=\"...</td>\n",
       "      <td>\\n \\n  1 . A method for increasing seed yield ...</td>\n",
       "    </tr>\n",
       "    <tr>\n",
       "      <th>2</th>\n",
       "      <td>12033424</td>\n",
       "      <td>&lt;us-patent-application lang=\"EN\" dtd-version=\"...</td>\n",
       "      <td>\\n \\n  1 . An image forming apparatus, compris...</td>\n",
       "    </tr>\n",
       "    <tr>\n",
       "      <th>3</th>\n",
       "      <td>12402344</td>\n",
       "      <td>&lt;us-patent-application lang=\"EN\" dtd-version=\"...</td>\n",
       "      <td>\\n \\n  1 . A tunable polarization rotator, com...</td>\n",
       "    </tr>\n",
       "    <tr>\n",
       "      <th>4</th>\n",
       "      <td>12155425</td>\n",
       "      <td>&lt;us-patent-application lang=\"EN\" dtd-version=\"...</td>\n",
       "      <td>\\n \\n  1 . An illumination control circuit com...</td>\n",
       "    </tr>\n",
       "  </tbody>\n",
       "</table>\n",
       "</div>"
      ],
      "text/plain": [
       "     app_id                                                xml  \\\n",
       "0  14222691  <us-patent-application lang=\"EN\" dtd-version=\"...   \n",
       "1  12515852  <us-patent-application lang=\"EN\" dtd-version=\"...   \n",
       "2  12033424  <us-patent-application lang=\"EN\" dtd-version=\"...   \n",
       "3  12402344  <us-patent-application lang=\"EN\" dtd-version=\"...   \n",
       "4  12155425  <us-patent-application lang=\"EN\" dtd-version=\"...   \n",
       "\n",
       "                                               claim  \n",
       "0  \\n \\n  1 . A terminal comprising:\\n an upper a...  \n",
       "1  \\n \\n  1 . A method for increasing seed yield ...  \n",
       "2  \\n \\n  1 . An image forming apparatus, compris...  \n",
       "3  \\n \\n  1 . A tunable polarization rotator, com...  \n",
       "4  \\n \\n  1 . An illumination control circuit com...  "
      ]
     },
     "execution_count": 90,
     "metadata": {},
     "output_type": "execute_result"
    }
   ],
   "source": [
    "training_app_df.head()"
   ]
  },
  {
   "cell_type": "code",
   "execution_count": null,
   "metadata": {},
   "outputs": [],
   "source": []
  },
  {
   "cell_type": "code",
   "execution_count": 91,
   "metadata": {},
   "outputs": [
    {
     "data": {
      "text/plain": [
       "1"
      ]
     },
     "execution_count": 91,
     "metadata": {},
     "output_type": "execute_result"
    }
   ],
   "source": [
    "training_app_df[training_app_df.app_id == 12515852].index[0]"
   ]
  },
  {
   "cell_type": "code",
   "execution_count": null,
   "metadata": {},
   "outputs": [],
   "source": []
  },
  {
   "cell_type": "code",
   "execution_count": 92,
   "metadata": {},
   "outputs": [],
   "source": [
    "def calc_cosin_for_one_app(appid):\n",
    "    answer_patids = set(citations_info_target[citations_info_target.app_id == appid].parsed.astype(int))\n",
    "    answer_idxs = grants_target_df[grants_target_df.parsed.isin(answer_patids)].index\n",
    "    answer_patent_features = grants_features[answer_idxs, :].toarray()\n",
    "    training_features_idx = training_app_df[training_app_df.app_id == appid].index[0]\n",
    "    return scipy.spatial.distance.cdist(training_features[training_features_idx, :][np.newaxis, :], answer_patent_features, 'cosine')[0]\n"
   ]
  },
  {
   "cell_type": "code",
   "execution_count": 93,
   "metadata": {},
   "outputs": [
    {
     "data": {
      "text/plain": [
       "array([ 0.4220731])"
      ]
     },
     "execution_count": 93,
     "metadata": {},
     "output_type": "execute_result"
    }
   ],
   "source": [
    "calc_cosin_for_one_app(12515852)"
   ]
  },
  {
   "cell_type": "code",
   "execution_count": 94,
   "metadata": {},
   "outputs": [
    {
     "data": {
      "text/plain": [
       "array([ 0.97559903,  0.89965045,  0.82466478,  0.63398944,  0.68337952])"
      ]
     },
     "execution_count": 94,
     "metadata": {},
     "output_type": "execute_result"
    }
   ],
   "source": [
    "calc_cosin_for_one_app(12402344)"
   ]
  },
  {
   "cell_type": "code",
   "execution_count": 95,
   "metadata": {},
   "outputs": [
    {
     "data": {
      "text/plain": [
       "[array([ 0.67340827,  0.76916371,  0.8174568 ]),\n",
       " array([ 0.4220731]),\n",
       " array([ 0.88221407]),\n",
       " array([ 0.97559903,  0.89965045,  0.82466478,  0.63398944,  0.68337952]),\n",
       " array([ 0.07625181]),\n",
       " array([ 0.92330727,  0.79996471,  0.92896083,  0.91987076]),\n",
       " array([ 0.90553403]),\n",
       " array([ 0.95056575]),\n",
       " array([ 0.70165577]),\n",
       " array([ 0.76213644]),\n",
       " array([ 0.99283104]),\n",
       " array([ 0.63671942]),\n",
       " array([ 0.84019419]),\n",
       " array([ 0.85744319,  0.65621906]),\n",
       " array([ 0.74489745]),\n",
       " array([ 0.39235124,  0.43900574]),\n",
       " array([ 0.58476531]),\n",
       " array([ 0.94180023,  0.97665386]),\n",
       " array([ 0.51579826,  0.67111682]),\n",
       " array([ 0.40108371])]"
      ]
     },
     "execution_count": 95,
     "metadata": {},
     "output_type": "execute_result"
    }
   ],
   "source": [
    "[calc_cosin_for_one_app(appid) for appid in training_app_df[0:20].app_id]"
   ]
  },
  {
   "cell_type": "code",
   "execution_count": 96,
   "metadata": {},
   "outputs": [
    {
     "data": {
      "text/plain": [
       "array([ 0.92330727,  0.79996471,  0.92896083,  0.91987076])"
      ]
     },
     "execution_count": 96,
     "metadata": {},
     "output_type": "execute_result"
    }
   ],
   "source": [
    "calc_cosin_for_one_app(training_app_df.iloc[5].app_id)"
   ]
  },
  {
   "cell_type": "code",
   "execution_count": 97,
   "metadata": {},
   "outputs": [
    {
     "data": {
      "text/plain": [
       "True"
      ]
     },
     "execution_count": 97,
     "metadata": {},
     "output_type": "execute_result"
    }
   ],
   "source": [
    "calc_cosin_for_one_app(training_app_df.iloc[5].app_id).mean() < 0.95"
   ]
  },
  {
   "cell_type": "code",
   "execution_count": null,
   "metadata": {},
   "outputs": [],
   "source": []
  },
  {
   "cell_type": "markdown",
   "metadata": {},
   "source": [
    "### Compare with random pair cosdistance"
   ]
  },
  {
   "cell_type": "code",
   "execution_count": 98,
   "metadata": {
    "scrolled": true
   },
   "outputs": [
    {
     "data": {
      "text/plain": [
       "array([[ 0.96073889,  0.96715009,  0.9661195 ,  0.96547838,  0.98200139],\n",
       "       [ 0.9565299 ,  0.94845901,  0.99889384,  0.95047153,  0.97128588],\n",
       "       [ 0.99269734,  0.99249212,  0.99575977,  0.97310476,  0.96170229],\n",
       "       [ 0.99960154,  0.99653818,  0.98222205,  0.99531781,  0.96584516],\n",
       "       [ 0.85252285,  0.82698041,  0.97140084,  0.83295536,  0.90456516]])"
      ]
     },
     "execution_count": 98,
     "metadata": {},
     "output_type": "execute_result"
    }
   ],
   "source": [
    "scipy.spatial.distance.cdist(training_features[0:5, :], grants_features[0:5, :].toarray(), 'cosine')"
   ]
  },
  {
   "cell_type": "code",
   "execution_count": null,
   "metadata": {},
   "outputs": [],
   "source": []
  },
  {
   "cell_type": "code",
   "execution_count": 99,
   "metadata": {},
   "outputs": [],
   "source": [
    "training_features = claims_to_tfidfs(training_app_df[\"claim\"], count_vec, idfvec)"
   ]
  },
  {
   "cell_type": "code",
   "execution_count": null,
   "metadata": {},
   "outputs": [],
   "source": []
  },
  {
   "cell_type": "code",
   "execution_count": 100,
   "metadata": {},
   "outputs": [],
   "source": [
    "grants_features_arr = grants_features.toarray()"
   ]
  },
  {
   "cell_type": "code",
   "execution_count": 101,
   "metadata": {},
   "outputs": [],
   "source": [
    "TFIDF_MODEL_THRESHOLD=0.95\n",
    "# TFIDF_MODEL_THRESHOLD=0.8\n",
    "\n",
    "def predict_tfidf_model(claims):\n",
    "    \"\"\"\n",
    "    return: NxM of boolean. N is len(claims). M is rownum of grants_all_df.\n",
    "            value indicate n claim is cite patent of m row of grants_all_df.\n",
    "    \"\"\"\n",
    "    features = claims_to_tfidfs(claims, count_vec, idfvec)\n",
    "    dists = scipy.spatial.distance.cdist(features, grants_features_arr, 'cosine')\n",
    "    return dists < TFIDF_MODEL_THRESHOLD\n"
   ]
  },
  {
   "cell_type": "code",
   "execution_count": null,
   "metadata": {},
   "outputs": [],
   "source": []
  },
  {
   "cell_type": "code",
   "execution_count": null,
   "metadata": {},
   "outputs": [],
   "source": []
  },
  {
   "cell_type": "markdown",
   "metadata": {},
   "source": [
    "Model cells are over.\n",
    "Please go back to predict_test_set(predict_tfidf_model) cell.\n",
    "\n",
    "\n",
    "# Below here is for BUG investigation.\n",
    "\n",
    "manual recalculation.\n",
    "\n",
    "### Calc recall of 100"
   ]
  },
  {
   "cell_type": "code",
   "execution_count": 175,
   "metadata": {},
   "outputs": [],
   "source": [
    "res = predict_tfidf_model(training_app_df[0:100][\"claim\"])"
   ]
  },
  {
   "cell_type": "code",
   "execution_count": 176,
   "metadata": {},
   "outputs": [
    {
     "data": {
      "text/plain": [
       "(100, 2524)"
      ]
     },
     "execution_count": 176,
     "metadata": {},
     "output_type": "execute_result"
    }
   ],
   "source": [
    "res.shape"
   ]
  },
  {
   "cell_type": "code",
   "execution_count": 177,
   "metadata": {},
   "outputs": [],
   "source": [
    "all_pred_of_labeltrue = np.array([], dtype=np.bool)"
   ]
  },
  {
   "cell_type": "code",
   "execution_count": 178,
   "metadata": {},
   "outputs": [],
   "source": [
    "for idx in range(0, 100):\n",
    "    one_appid = training_app_df.iloc[idx].app_id\n",
    "    pred_oneres = res[idx]\n",
    "    label_patids = citations_info_target[citations_info_target.app_id == one_appid].parsed\n",
    "    label_idxs = grants_target_df.parsed[grants_target_df.parsed.isin(label_patids)].index\n",
    "    pred_of_labeltrue = pred_oneres[label_idxs]\n",
    "    all_pred_of_labeltrue = np.concatenate([all_pred_of_labeltrue, pred_of_labeltrue])"
   ]
  },
  {
   "cell_type": "code",
   "execution_count": 179,
   "metadata": {},
   "outputs": [
    {
     "data": {
      "text/plain": [
       "0.8970588235294118"
      ]
     },
     "execution_count": 179,
     "metadata": {},
     "output_type": "execute_result"
    }
   ],
   "source": [
    "sum(all_pred_of_labeltrue)/len(all_pred_of_labeltrue)"
   ]
  },
  {
   "cell_type": "code",
   "execution_count": null,
   "metadata": {},
   "outputs": [],
   "source": []
  },
  {
   "cell_type": "markdown",
   "metadata": {},
   "source": [
    "### Check result by hand (seems correct)"
   ]
  },
  {
   "cell_type": "code",
   "execution_count": 180,
   "metadata": {},
   "outputs": [
    {
     "data": {
      "text/plain": [
       "app_id                                             14222691\n",
       "xml       <us-patent-application lang=\"EN\" dtd-version=\"...\n",
       "claim     \\n \\n  1 . A terminal comprising:\\n an upper a...\n",
       "Name: 0, dtype: object"
      ]
     },
     "execution_count": 180,
     "metadata": {},
     "output_type": "execute_result"
    }
   ],
   "source": [
    "training_app_df.iloc[0]"
   ]
  },
  {
   "cell_type": "code",
   "execution_count": 181,
   "metadata": {},
   "outputs": [],
   "source": [
    "pred_oneres = res[0]"
   ]
  },
  {
   "cell_type": "code",
   "execution_count": 182,
   "metadata": {},
   "outputs": [
    {
     "data": {
      "text/plain": [
       "421"
      ]
     },
     "execution_count": 182,
     "metadata": {},
     "output_type": "execute_result"
    }
   ],
   "source": [
    "pred_oneres.sum()"
   ]
  },
  {
   "cell_type": "code",
   "execution_count": 183,
   "metadata": {},
   "outputs": [
    {
     "data": {
      "text/plain": [
       "1635    8179692\n",
       "1636    8179692\n",
       "1637    8206188\n",
       "1638    8206188\n",
       "1639    8177561\n",
       "Name: parsed, dtype: int64"
      ]
     },
     "execution_count": 183,
     "metadata": {},
     "output_type": "execute_result"
    }
   ],
   "source": [
    "citations_info_target[citations_info_target.app_id == 14222691].parsed"
   ]
  },
  {
   "cell_type": "code",
   "execution_count": 185,
   "metadata": {},
   "outputs": [
    {
     "data": {
      "text/plain": [
       "Int64Index([2381], dtype='int64')"
      ]
     },
     "execution_count": 185,
     "metadata": {},
     "output_type": "execute_result"
    }
   ],
   "source": [
    "grants_target_df.parsed[grants_target_df.parsed == 8179692].index"
   ]
  },
  {
   "cell_type": "code",
   "execution_count": 186,
   "metadata": {},
   "outputs": [
    {
     "data": {
      "text/plain": [
       "True"
      ]
     },
     "execution_count": 186,
     "metadata": {},
     "output_type": "execute_result"
    }
   ],
   "source": [
    "pred_oneres[2381]"
   ]
  },
  {
   "cell_type": "markdown",
   "metadata": {},
   "source": [
    "### Why test set recall is so bad?"
   ]
  },
  {
   "cell_type": "code",
   "execution_count": 187,
   "metadata": {},
   "outputs": [],
   "source": [
    "res = predict_tfidf_model(testset_app_df[\"xml\"].map(whole_xml_to_claim))"
   ]
  },
  {
   "cell_type": "code",
   "execution_count": 188,
   "metadata": {},
   "outputs": [
    {
     "data": {
      "text/plain": [
       "(1000, 2)"
      ]
     },
     "execution_count": 188,
     "metadata": {},
     "output_type": "execute_result"
    }
   ],
   "source": [
    "testset_app_df.shape"
   ]
  },
  {
   "cell_type": "code",
   "execution_count": 189,
   "metadata": {},
   "outputs": [],
   "source": [
    "all_pred_of_labeltrue = np.array([], dtype=np.bool)"
   ]
  },
  {
   "cell_type": "code",
   "execution_count": 190,
   "metadata": {},
   "outputs": [],
   "source": [
    "for idx in range(0, testset_app_df.shape[0]):\n",
    "    one_appid = testset_app_df.iloc[idx].app_id\n",
    "    pred_oneres = res[idx]\n",
    "    label_patids = citations_info_target[citations_info_target.app_id == one_appid].parsed\n",
    "    label_idxs = grants_target_df.parsed[grants_target_df.parsed.isin(label_patids)].index\n",
    "    pred_of_labeltrue = pred_oneres[label_idxs]\n",
    "    all_pred_of_labeltrue = np.concatenate([all_pred_of_labeltrue, pred_of_labeltrue])"
   ]
  },
  {
   "cell_type": "code",
   "execution_count": 191,
   "metadata": {},
   "outputs": [
    {
     "data": {
      "text/plain": [
       "0.095163806552262087"
      ]
     },
     "execution_count": 191,
     "metadata": {},
     "output_type": "execute_result"
    }
   ],
   "source": [
    "sum(all_pred_of_labeltrue)/len(all_pred_of_labeltrue)"
   ]
  },
  {
   "cell_type": "code",
   "execution_count": null,
   "metadata": {},
   "outputs": [],
   "source": []
  },
  {
   "cell_type": "code",
   "execution_count": 196,
   "metadata": {},
   "outputs": [
    {
     "data": {
      "text/plain": [
       "app_id                                             14222691\n",
       "xml       <us-patent-application lang=\"EN\" dtd-version=\"...\n",
       "claim     \\n \\n  1 . A terminal comprising:\\n an upper a...\n",
       "Name: 0, dtype: object"
      ]
     },
     "execution_count": 196,
     "metadata": {},
     "output_type": "execute_result"
    }
   ],
   "source": [
    "training_app_df.iloc[0]"
   ]
  },
  {
   "cell_type": "code",
   "execution_count": 195,
   "metadata": {},
   "outputs": [
    {
     "data": {
      "text/plain": [
       "app_id                                             14222691\n",
       "xml       <us-patent-application lang=\"EN\" dtd-version=\"...\n",
       "Name: 0, dtype: object"
      ]
     },
     "execution_count": 195,
     "metadata": {},
     "output_type": "execute_result"
    }
   ],
   "source": [
    "testset_app_df.iloc[0]"
   ]
  },
  {
   "cell_type": "code",
   "execution_count": 193,
   "metadata": {},
   "outputs": [],
   "source": [
    "pred_oneres = res[0]"
   ]
  },
  {
   "cell_type": "code",
   "execution_count": 194,
   "metadata": {},
   "outputs": [
    {
     "data": {
      "text/plain": [
       "460"
      ]
     },
     "execution_count": 194,
     "metadata": {},
     "output_type": "execute_result"
    }
   ],
   "source": [
    "pred_oneres.sum()"
   ]
  },
  {
   "cell_type": "code",
   "execution_count": 183,
   "metadata": {},
   "outputs": [
    {
     "data": {
      "text/plain": [
       "1635    8179692\n",
       "1636    8179692\n",
       "1637    8206188\n",
       "1638    8206188\n",
       "1639    8177561\n",
       "Name: parsed, dtype: int64"
      ]
     },
     "execution_count": 183,
     "metadata": {},
     "output_type": "execute_result"
    }
   ],
   "source": [
    "citations_info_target[citations_info_target.app_id == 14222691].parsed"
   ]
  },
  {
   "cell_type": "code",
   "execution_count": 185,
   "metadata": {},
   "outputs": [
    {
     "data": {
      "text/plain": [
       "Int64Index([2381], dtype='int64')"
      ]
     },
     "execution_count": 185,
     "metadata": {},
     "output_type": "execute_result"
    }
   ],
   "source": [
    "grants_target_df.parsed[grants_target_df.parsed == 8179692].index"
   ]
  },
  {
   "cell_type": "code",
   "execution_count": 186,
   "metadata": {},
   "outputs": [
    {
     "data": {
      "text/plain": [
       "True"
      ]
     },
     "execution_count": 186,
     "metadata": {},
     "output_type": "execute_result"
    }
   ],
   "source": [
    "pred_oneres[2381]"
   ]
  },
  {
   "cell_type": "code",
   "execution_count": null,
   "metadata": {},
   "outputs": [],
   "source": []
  },
  {
   "cell_type": "code",
   "execution_count": null,
   "metadata": {},
   "outputs": [],
   "source": []
  },
  {
   "cell_type": "raw",
   "metadata": {},
   "source": [
    "Previous result.\n",
    "\n",
    "# TFIDF_MODEL_THRESHOLD 0.8\n",
    "acc\tprec\trecall\tf1\n",
    "0.991971\t0.019875\t0.324627\t0.037457"
   ]
  },
  {
   "cell_type": "code",
   "execution_count": null,
   "metadata": {},
   "outputs": [],
   "source": []
  }
 ],
 "metadata": {
  "kernelspec": {
   "display_name": "Python 3",
   "language": "python",
   "name": "python3"
  },
  "language_info": {
   "codemirror_mode": {
    "name": "ipython",
    "version": 3
   },
   "file_extension": ".py",
   "mimetype": "text/x-python",
   "name": "python",
   "nbconvert_exporter": "python",
   "pygments_lexer": "ipython3",
   "version": "3.5.2"
  }
 },
 "nbformat": 4,
 "nbformat_minor": 2
}
